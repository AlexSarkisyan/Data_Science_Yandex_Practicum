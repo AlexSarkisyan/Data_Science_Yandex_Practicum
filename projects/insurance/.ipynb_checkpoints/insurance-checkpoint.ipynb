{
 "cells": [
  {
   "cell_type": "markdown",
   "metadata": {
    "toc": true
   },
   "source": [
    "<h1>Содержание<span class=\"tocSkip\"></span></h1>\n",
    "<div class=\"toc\"><ul class=\"toc-item\"><li><span><a href=\"#Загрузка-данных\" data-toc-modified-id=\"Загрузка-данных-1\"><span class=\"toc-item-num\">1&nbsp;&nbsp;</span>Загрузка данных</a></span></li><li><span><a href=\"#Умножение-матриц\" data-toc-modified-id=\"Умножение-матриц-2\"><span class=\"toc-item-num\">2&nbsp;&nbsp;</span>Умножение матриц</a></span></li><li><span><a href=\"#Алгоритм-преобразования\" data-toc-modified-id=\"Алгоритм-преобразования-3\"><span class=\"toc-item-num\">3&nbsp;&nbsp;</span>Алгоритм преобразования</a></span></li><li><span><a href=\"#Проверка-алгоритма\" data-toc-modified-id=\"Проверка-алгоритма-4\"><span class=\"toc-item-num\">4&nbsp;&nbsp;</span>Проверка алгоритма</a></span></li><li><span><a href=\"#Чек-лист-проверки\" data-toc-modified-id=\"Чек-лист-проверки-5\"><span class=\"toc-item-num\">5&nbsp;&nbsp;</span>Чек-лист проверки</a></span></li></ul></div>"
   ]
  },
  {
   "cell_type": "markdown",
   "metadata": {},
   "source": [
    "# Защита персональных данных клиентов"
   ]
  },
  {
   "cell_type": "markdown",
   "metadata": {},
   "source": [
    "Вам нужно защитить данные клиентов страховой компании «Хоть потоп». Разработайте такой метод преобразования данных, чтобы по ним было сложно восстановить персональную информацию. Обоснуйте корректность его работы.\n",
    "\n",
    "Нужно защитить данные, чтобы при преобразовании качество моделей машинного обучения не ухудшилось. Подбирать наилучшую модель не требуется."
   ]
  },
  {
   "cell_type": "markdown",
   "metadata": {},
   "source": [
    "## Загрузка данных"
   ]
  },
  {
   "cell_type": "code",
   "execution_count": 1,
   "metadata": {},
   "outputs": [],
   "source": [
    "import pandas as pd\n",
    "import os\n",
    "import numpy as np\n",
    "\n",
    "from sklearn.linear_model import LinearRegression\n",
    "from sklearn.metrics import r2_score"
   ]
  },
  {
   "cell_type": "code",
   "execution_count": 2,
   "metadata": {},
   "outputs": [],
   "source": [
    "pth1 = '/datasets/insurance.csv'\n",
    "pth2 = '/Users/Alex/Desktop/practicum_ds/projects/LinearAlgebra/insurance.csv'\n",
    "\n",
    "if os.path.exists(pth1):\n",
    "    insurance = pd.read_csv(pth1)\n",
    "elif os.path.exists(pth2):\n",
    "    insurance = pd.read_csv(pth2)\n",
    "else:\n",
    "    print('Something is wrong')"
   ]
  },
  {
   "cell_type": "markdown",
   "metadata": {},
   "source": [
    "**Информация о выборках:**"
   ]
  },
  {
   "cell_type": "code",
   "execution_count": 3,
   "metadata": {},
   "outputs": [],
   "source": [
    "def about_df(df):\n",
    "    display(df.head())\n",
    "    display(df.info())\n",
    "    display(df.describe())\n",
    "    print('Дубликаты =', df.duplicated().sum())\n",
    "    print('Пропуски =', df.isna().sum().sum())"
   ]
  },
  {
   "cell_type": "code",
   "execution_count": 4,
   "metadata": {
    "scrolled": false
   },
   "outputs": [
    {
     "data": {
      "text/html": [
       "<div>\n",
       "<style scoped>\n",
       "    .dataframe tbody tr th:only-of-type {\n",
       "        vertical-align: middle;\n",
       "    }\n",
       "\n",
       "    .dataframe tbody tr th {\n",
       "        vertical-align: top;\n",
       "    }\n",
       "\n",
       "    .dataframe thead th {\n",
       "        text-align: right;\n",
       "    }\n",
       "</style>\n",
       "<table border=\"1\" class=\"dataframe\">\n",
       "  <thead>\n",
       "    <tr style=\"text-align: right;\">\n",
       "      <th></th>\n",
       "      <th>Пол</th>\n",
       "      <th>Возраст</th>\n",
       "      <th>Зарплата</th>\n",
       "      <th>Члены семьи</th>\n",
       "      <th>Страховые выплаты</th>\n",
       "    </tr>\n",
       "  </thead>\n",
       "  <tbody>\n",
       "    <tr>\n",
       "      <th>0</th>\n",
       "      <td>1</td>\n",
       "      <td>41.0</td>\n",
       "      <td>49600.0</td>\n",
       "      <td>1</td>\n",
       "      <td>0</td>\n",
       "    </tr>\n",
       "    <tr>\n",
       "      <th>1</th>\n",
       "      <td>0</td>\n",
       "      <td>46.0</td>\n",
       "      <td>38000.0</td>\n",
       "      <td>1</td>\n",
       "      <td>1</td>\n",
       "    </tr>\n",
       "    <tr>\n",
       "      <th>2</th>\n",
       "      <td>0</td>\n",
       "      <td>29.0</td>\n",
       "      <td>21000.0</td>\n",
       "      <td>0</td>\n",
       "      <td>0</td>\n",
       "    </tr>\n",
       "    <tr>\n",
       "      <th>3</th>\n",
       "      <td>0</td>\n",
       "      <td>21.0</td>\n",
       "      <td>41700.0</td>\n",
       "      <td>2</td>\n",
       "      <td>0</td>\n",
       "    </tr>\n",
       "    <tr>\n",
       "      <th>4</th>\n",
       "      <td>1</td>\n",
       "      <td>28.0</td>\n",
       "      <td>26100.0</td>\n",
       "      <td>0</td>\n",
       "      <td>0</td>\n",
       "    </tr>\n",
       "  </tbody>\n",
       "</table>\n",
       "</div>"
      ],
      "text/plain": [
       "   Пол  Возраст  Зарплата  Члены семьи  Страховые выплаты\n",
       "0    1     41.0   49600.0            1                  0\n",
       "1    0     46.0   38000.0            1                  1\n",
       "2    0     29.0   21000.0            0                  0\n",
       "3    0     21.0   41700.0            2                  0\n",
       "4    1     28.0   26100.0            0                  0"
      ]
     },
     "metadata": {},
     "output_type": "display_data"
    },
    {
     "name": "stdout",
     "output_type": "stream",
     "text": [
      "<class 'pandas.core.frame.DataFrame'>\n",
      "RangeIndex: 5000 entries, 0 to 4999\n",
      "Data columns (total 5 columns):\n",
      " #   Column             Non-Null Count  Dtype  \n",
      "---  ------             --------------  -----  \n",
      " 0   Пол                5000 non-null   int64  \n",
      " 1   Возраст            5000 non-null   float64\n",
      " 2   Зарплата           5000 non-null   float64\n",
      " 3   Члены семьи        5000 non-null   int64  \n",
      " 4   Страховые выплаты  5000 non-null   int64  \n",
      "dtypes: float64(2), int64(3)\n",
      "memory usage: 195.4 KB\n"
     ]
    },
    {
     "data": {
      "text/plain": [
       "None"
      ]
     },
     "metadata": {},
     "output_type": "display_data"
    },
    {
     "data": {
      "text/html": [
       "<div>\n",
       "<style scoped>\n",
       "    .dataframe tbody tr th:only-of-type {\n",
       "        vertical-align: middle;\n",
       "    }\n",
       "\n",
       "    .dataframe tbody tr th {\n",
       "        vertical-align: top;\n",
       "    }\n",
       "\n",
       "    .dataframe thead th {\n",
       "        text-align: right;\n",
       "    }\n",
       "</style>\n",
       "<table border=\"1\" class=\"dataframe\">\n",
       "  <thead>\n",
       "    <tr style=\"text-align: right;\">\n",
       "      <th></th>\n",
       "      <th>Пол</th>\n",
       "      <th>Возраст</th>\n",
       "      <th>Зарплата</th>\n",
       "      <th>Члены семьи</th>\n",
       "      <th>Страховые выплаты</th>\n",
       "    </tr>\n",
       "  </thead>\n",
       "  <tbody>\n",
       "    <tr>\n",
       "      <th>count</th>\n",
       "      <td>5000.000000</td>\n",
       "      <td>5000.000000</td>\n",
       "      <td>5000.000000</td>\n",
       "      <td>5000.000000</td>\n",
       "      <td>5000.000000</td>\n",
       "    </tr>\n",
       "    <tr>\n",
       "      <th>mean</th>\n",
       "      <td>0.499000</td>\n",
       "      <td>30.952800</td>\n",
       "      <td>39916.360000</td>\n",
       "      <td>1.194200</td>\n",
       "      <td>0.148000</td>\n",
       "    </tr>\n",
       "    <tr>\n",
       "      <th>std</th>\n",
       "      <td>0.500049</td>\n",
       "      <td>8.440807</td>\n",
       "      <td>9900.083569</td>\n",
       "      <td>1.091387</td>\n",
       "      <td>0.463183</td>\n",
       "    </tr>\n",
       "    <tr>\n",
       "      <th>min</th>\n",
       "      <td>0.000000</td>\n",
       "      <td>18.000000</td>\n",
       "      <td>5300.000000</td>\n",
       "      <td>0.000000</td>\n",
       "      <td>0.000000</td>\n",
       "    </tr>\n",
       "    <tr>\n",
       "      <th>25%</th>\n",
       "      <td>0.000000</td>\n",
       "      <td>24.000000</td>\n",
       "      <td>33300.000000</td>\n",
       "      <td>0.000000</td>\n",
       "      <td>0.000000</td>\n",
       "    </tr>\n",
       "    <tr>\n",
       "      <th>50%</th>\n",
       "      <td>0.000000</td>\n",
       "      <td>30.000000</td>\n",
       "      <td>40200.000000</td>\n",
       "      <td>1.000000</td>\n",
       "      <td>0.000000</td>\n",
       "    </tr>\n",
       "    <tr>\n",
       "      <th>75%</th>\n",
       "      <td>1.000000</td>\n",
       "      <td>37.000000</td>\n",
       "      <td>46600.000000</td>\n",
       "      <td>2.000000</td>\n",
       "      <td>0.000000</td>\n",
       "    </tr>\n",
       "    <tr>\n",
       "      <th>max</th>\n",
       "      <td>1.000000</td>\n",
       "      <td>65.000000</td>\n",
       "      <td>79000.000000</td>\n",
       "      <td>6.000000</td>\n",
       "      <td>5.000000</td>\n",
       "    </tr>\n",
       "  </tbody>\n",
       "</table>\n",
       "</div>"
      ],
      "text/plain": [
       "               Пол      Возраст      Зарплата  Члены семьи  Страховые выплаты\n",
       "count  5000.000000  5000.000000   5000.000000  5000.000000        5000.000000\n",
       "mean      0.499000    30.952800  39916.360000     1.194200           0.148000\n",
       "std       0.500049     8.440807   9900.083569     1.091387           0.463183\n",
       "min       0.000000    18.000000   5300.000000     0.000000           0.000000\n",
       "25%       0.000000    24.000000  33300.000000     0.000000           0.000000\n",
       "50%       0.000000    30.000000  40200.000000     1.000000           0.000000\n",
       "75%       1.000000    37.000000  46600.000000     2.000000           0.000000\n",
       "max       1.000000    65.000000  79000.000000     6.000000           5.000000"
      ]
     },
     "metadata": {},
     "output_type": "display_data"
    },
    {
     "name": "stdout",
     "output_type": "stream",
     "text": [
      "Дубликаты = 153\n",
      "Пропуски = 0\n"
     ]
    }
   ],
   "source": [
    "about_df(insurance)"
   ]
  },
  {
   "cell_type": "markdown",
   "metadata": {},
   "source": [
    "## Умножение матриц"
   ]
  },
  {
   "cell_type": "markdown",
   "metadata": {},
   "source": [
    "В этом задании вы можете записывать формулы в *Jupyter Notebook.*\n",
    "\n",
    "Чтобы записать формулу внутри текста, окружите её символами доллара \\\\$; если снаружи —  двойными символами \\\\$\\\\$. Эти формулы записываются на языке вёрстки *LaTeX.* \n",
    "\n",
    "Для примера мы записали формулы линейной регрессии. Можете их скопировать и отредактировать, чтобы решить задачу.\n",
    "\n",
    "Работать в *LaTeX* необязательно."
   ]
  },
  {
   "cell_type": "markdown",
   "metadata": {},
   "source": [
    "Обозначения:\n",
    "\n",
    "- $X$ — матрица признаков (нулевой столбец состоит из единиц)\n",
    "\n",
    "- $y$ — вектор целевого признака\n",
    "\n",
    "- $P$ — матрица, на которую умножаются признаки\n",
    "\n",
    "- $w$ — вектор весов линейной регрессии (нулевой элемент равен сдвигу)"
   ]
  },
  {
   "cell_type": "markdown",
   "metadata": {},
   "source": [
    "Предсказания:\n",
    "\n",
    "$$\n",
    "a = Xw\n",
    "$$\n",
    "\n",
    "Задача обучения:\n",
    "\n",
    "$$\n",
    "w = \\arg\\min_w MSE(Xw, y)\n",
    "$$\n",
    "\n",
    "Формула обучения:\n",
    "\n",
    "$$\n",
    "w = (X^T X)^{-1} X^T y\n",
    "$$"
   ]
  },
  {
   "cell_type": "markdown",
   "metadata": {},
   "source": [
    "**Ответ:** Качество r2_score LinearRegression не изменится.\n",
    "\n",
    "**Обоснование:** воспользуемся свойствами матриц:\n",
    "\n",
    "$(АВ)^{-1}=В^{-1}А^{-1}$\n",
    "\n",
    "$АE=EА=A$\n",
    "\n",
    "$AA^{-1}=A^{-1}A=E$\n",
    "\n",
    "\n",
    "$$\n",
    "a = Xt(X^T X)^{-1} X^T y\n",
    "$$\n",
    "\n",
    "$$\n",
    "ap = Xt P (P^T X^T XP)^{-1} P^T X^T y = Xt P (X^T XP)^{-1} (P^T)^{-1} P^T X^T y = Xt P (X^T XP)^{-1} E X^T y = Xt P P^{-1} (X^T X)^{-1} X^T y = Xt E (X^T X)^{-1} X^T y = Xt (X^T X)^{-1} X^T y\n",
    "$$"
   ]
  },
  {
   "cell_type": "code",
   "execution_count": 6,
   "metadata": {},
   "outputs": [],
   "source": [
    "features = insurance.drop('Страховые выплаты', axis=1)\n",
    "target = insurance['Страховые выплаты']"
   ]
  },
  {
   "cell_type": "code",
   "execution_count": 7,
   "metadata": {},
   "outputs": [
    {
     "name": "stdout",
     "output_type": "stream",
     "text": [
      "[ 0.28287261  0.58051347  0.42948107 ... -0.02345651 -0.05255887\n",
      "  0.08547465]\n",
      "[ 0.28287261  0.58051347  0.42948107 ... -0.02345651 -0.05255887\n",
      "  0.08547465]\n"
     ]
    }
   ],
   "source": [
    "# обоснование\n",
    "X = features.values\n",
    "P = np.linalg.inv(features.loc[:3])\n",
    "\n",
    "a = X @ np.linalg.inv(X.T @ X) @ X.T @ target\n",
    "#ap = X @ P @ np.linalg.inv(P.T @ X.T @ X @ P) @ P.T @ X.T @ target\n",
    "ap = X @ P @ np.linalg.inv(P) @ np.linalg.inv(X.T @ X) @ np.linalg.inv(P.T) @ P.T @ X.T @ target\n",
    "\n",
    "print(a)\n",
    "print(ap)"
   ]
  },
  {
   "cell_type": "code",
   "execution_count": 8,
   "metadata": {},
   "outputs": [
    {
     "name": "stdout",
     "output_type": "stream",
     "text": [
      "0.42\n"
     ]
    }
   ],
   "source": [
    "model = LinearRegression()\n",
    "model.fit(features, target)\n",
    "predictions = model.predict(features)\n",
    "print(r2_score(target, predictions).round(2))"
   ]
  },
  {
   "cell_type": "markdown",
   "metadata": {},
   "source": [
    "**Признаки умножают на обратимую матрицу. Изменится ли качество линейной регрессии? (Её можно обучить заново.)**"
   ]
  },
  {
   "cell_type": "code",
   "execution_count": null,
   "metadata": {},
   "outputs": [],
   "source": [
    "# Найдем обратную матрицу\n",
    "inverse_matrix = np.linalg.inv(features.loc[:3])\n",
    "features_inverse = features.dot(inverse_matrix)"
   ]
  },
  {
   "cell_type": "code",
   "execution_count": null,
   "metadata": {},
   "outputs": [],
   "source": [
    "model = LinearRegression()\n",
    "model.fit(features_inverse, target)\n",
    "predictions = model.predict(features_inverse)\n",
    "print(r2_score(target, predictions).round(2))"
   ]
  },
  {
   "cell_type": "markdown",
   "metadata": {},
   "source": [
    "**Качество r2_score LinearRegression не изменилось.**"
   ]
  },
  {
   "cell_type": "markdown",
   "metadata": {},
   "source": [
    "## Алгоритм преобразования"
   ]
  },
  {
   "cell_type": "markdown",
   "metadata": {},
   "source": [
    "**Алгоритм**\n",
    "\n",
    "Умножим матрицу признаков на матрицу из случайных значений"
   ]
  },
  {
   "cell_type": "markdown",
   "metadata": {},
   "source": [
    "## Проверка алгоритма"
   ]
  },
  {
   "cell_type": "code",
   "execution_count": null,
   "metadata": {},
   "outputs": [],
   "source": [
    "random_matrix = np.random.normal(size=(4, 4))\n",
    "features_changed = features.dot(random_matrix)"
   ]
  },
  {
   "cell_type": "code",
   "execution_count": null,
   "metadata": {},
   "outputs": [],
   "source": [
    "model = LinearRegression()\n",
    "model.fit(features_changed, target)\n",
    "predictions = model.predict(features_changed)\n",
    "print(r2_score(target, predictions).round(2))"
   ]
  },
  {
   "cell_type": "markdown",
   "metadata": {},
   "source": [
    "**Качество LinearRegression не изменилось.**"
   ]
  },
  {
   "cell_type": "markdown",
   "metadata": {},
   "source": [
    "## Чек-лист проверки"
   ]
  },
  {
   "cell_type": "markdown",
   "metadata": {},
   "source": [
    "Поставьте 'x' в выполненных пунктах. Далее нажмите Shift+Enter."
   ]
  },
  {
   "cell_type": "markdown",
   "metadata": {},
   "source": [
    "- [x]  Jupyter Notebook открыт\n",
    "- [x]  Весь код выполняется без ошибок\n",
    "- [x]  Ячейки с кодом расположены в порядке исполнения\n",
    "- [x]  Выполнен шаг 1: данные загружены\n",
    "- [x]  Выполнен шаг 2: получен ответ на вопрос об умножении матриц\n",
    "    - [x]  Указан правильный вариант ответа\n",
    "    - [x]  Вариант обоснован\n",
    "- [x]  Выполнен шаг 3: предложен алгоритм преобразования\n",
    "    - [x]  Алгоритм описан\n",
    "    - [x]  Алгоритм обоснован\n",
    "- [x]  Выполнен шаг 4: алгоритм проверен\n",
    "    - [x]  Алгоритм реализован\n",
    "    - [x]  Проведено сравнение качества моделей до и после преобразования"
   ]
  }
 ],
 "metadata": {
  "ExecuteTimeLog": [
   {
    "duration": 1227,
    "start_time": "2022-06-10T06:47:31.626Z"
   },
   {
    "duration": 61,
    "start_time": "2022-06-10T06:48:03.423Z"
   },
   {
    "duration": 83,
    "start_time": "2022-06-10T06:52:48.591Z"
   },
   {
    "duration": 21,
    "start_time": "2022-06-10T06:53:32.286Z"
   },
   {
    "duration": 5,
    "start_time": "2022-06-10T06:54:01.021Z"
   },
   {
    "duration": 43,
    "start_time": "2022-06-10T06:55:01.457Z"
   },
   {
    "duration": 53,
    "start_time": "2022-06-10T06:55:16.517Z"
   },
   {
    "duration": 63,
    "start_time": "2022-06-10T10:12:18.515Z"
   },
   {
    "duration": 3,
    "start_time": "2022-06-10T10:14:03.134Z"
   },
   {
    "duration": 13,
    "start_time": "2022-06-10T10:14:07.590Z"
   },
   {
    "duration": 46,
    "start_time": "2022-06-10T10:25:19.628Z"
   },
   {
    "duration": 12,
    "start_time": "2022-06-10T10:48:37.259Z"
   },
   {
    "duration": 42,
    "start_time": "2022-06-10T10:52:55.034Z"
   },
   {
    "duration": 3,
    "start_time": "2022-06-10T10:53:26.790Z"
   },
   {
    "duration": 17,
    "start_time": "2022-06-10T11:04:19.966Z"
   },
   {
    "duration": 30,
    "start_time": "2022-06-10T11:04:29.328Z"
   },
   {
    "duration": 8,
    "start_time": "2022-06-10T11:04:43.881Z"
   },
   {
    "duration": 9,
    "start_time": "2022-06-10T11:06:41.464Z"
   },
   {
    "duration": 13,
    "start_time": "2022-06-10T11:08:25.666Z"
   },
   {
    "duration": 29,
    "start_time": "2022-06-10T11:11:37.858Z"
   },
   {
    "duration": 4,
    "start_time": "2022-06-10T11:11:46.257Z"
   },
   {
    "duration": 7,
    "start_time": "2022-06-10T11:12:44.633Z"
   },
   {
    "duration": 27,
    "start_time": "2022-06-10T11:14:17.560Z"
   },
   {
    "duration": 7,
    "start_time": "2022-06-10T11:16:25.465Z"
   },
   {
    "duration": 9,
    "start_time": "2022-06-10T11:16:34.192Z"
   },
   {
    "duration": 12,
    "start_time": "2022-06-10T11:20:06.166Z"
   },
   {
    "duration": 4,
    "start_time": "2022-06-10T11:20:08.158Z"
   },
   {
    "duration": 11,
    "start_time": "2022-06-10T11:20:08.647Z"
   },
   {
    "duration": 5,
    "start_time": "2022-06-10T11:30:17.432Z"
   },
   {
    "duration": 5,
    "start_time": "2022-06-10T11:30:26.599Z"
   },
   {
    "duration": 4,
    "start_time": "2022-06-10T11:37:17.837Z"
   },
   {
    "duration": 13,
    "start_time": "2022-06-10T11:37:29.392Z"
   },
   {
    "duration": 10,
    "start_time": "2022-06-10T11:38:18.081Z"
   },
   {
    "duration": 17,
    "start_time": "2022-06-10T11:38:34.572Z"
   },
   {
    "duration": 384,
    "start_time": "2022-06-10T11:39:00.184Z"
   },
   {
    "duration": 334,
    "start_time": "2022-06-10T11:39:25.439Z"
   },
   {
    "duration": 29188,
    "start_time": "2022-06-10T11:39:52.680Z"
   },
   {
    "duration": 10,
    "start_time": "2022-06-10T11:43:15.311Z"
   },
   {
    "duration": 14,
    "start_time": "2022-06-10T11:43:56.585Z"
   },
   {
    "duration": 7,
    "start_time": "2022-06-10T11:44:02.102Z"
   },
   {
    "duration": 4,
    "start_time": "2022-06-10T11:46:41.469Z"
   },
   {
    "duration": 9,
    "start_time": "2022-06-10T11:46:42.900Z"
   },
   {
    "duration": 9,
    "start_time": "2022-06-10T12:11:33.830Z"
   },
   {
    "duration": 10,
    "start_time": "2022-06-10T12:11:42.674Z"
   },
   {
    "duration": 4,
    "start_time": "2022-06-10T12:13:06.634Z"
   },
   {
    "duration": 7,
    "start_time": "2022-06-10T12:13:08.666Z"
   },
   {
    "duration": 1100,
    "start_time": "2022-06-10T12:52:31.374Z"
   },
   {
    "duration": 30,
    "start_time": "2022-06-10T12:52:32.476Z"
   },
   {
    "duration": 3,
    "start_time": "2022-06-10T12:52:32.508Z"
   },
   {
    "duration": 69,
    "start_time": "2022-06-10T12:52:32.513Z"
   },
   {
    "duration": 13,
    "start_time": "2022-06-10T12:52:32.584Z"
   },
   {
    "duration": 76,
    "start_time": "2022-06-10T12:52:32.600Z"
   },
   {
    "duration": 187,
    "start_time": "2022-06-10T12:52:32.679Z"
   },
   {
    "duration": 106,
    "start_time": "2022-06-10T12:52:32.868Z"
   },
   {
    "duration": 20,
    "start_time": "2022-06-10T12:52:32.976Z"
   },
   {
    "duration": 1096,
    "start_time": "2022-06-10T13:04:28.426Z"
   },
   {
    "duration": 31,
    "start_time": "2022-06-10T13:04:29.524Z"
   },
   {
    "duration": 4,
    "start_time": "2022-06-10T13:04:29.556Z"
   },
   {
    "duration": 52,
    "start_time": "2022-06-10T13:04:29.562Z"
   },
   {
    "duration": 55,
    "start_time": "2022-06-10T13:04:29.616Z"
   },
   {
    "duration": 94,
    "start_time": "2022-06-10T13:04:29.672Z"
   },
   {
    "duration": 102,
    "start_time": "2022-06-10T13:04:29.768Z"
   },
   {
    "duration": 5,
    "start_time": "2022-06-10T13:04:29.873Z"
   },
   {
    "duration": 110,
    "start_time": "2022-06-10T13:04:29.966Z"
   },
   {
    "duration": 986,
    "start_time": "2022-06-10T15:15:56.445Z"
   },
   {
    "duration": 97,
    "start_time": "2022-06-10T15:15:57.432Z"
   },
   {
    "duration": 4,
    "start_time": "2022-06-10T15:15:57.530Z"
   },
   {
    "duration": 44,
    "start_time": "2022-06-10T15:15:57.535Z"
   },
   {
    "duration": 26,
    "start_time": "2022-06-10T15:15:57.581Z"
   },
   {
    "duration": 184,
    "start_time": "2022-06-10T15:15:57.609Z"
   },
   {
    "duration": 108,
    "start_time": "2022-06-10T15:15:57.794Z"
   },
   {
    "duration": 117,
    "start_time": "2022-06-10T15:15:57.903Z"
   },
   {
    "duration": 83,
    "start_time": "2022-06-10T15:15:58.022Z"
   },
   {
    "duration": 5,
    "start_time": "2022-06-10T15:23:32.413Z"
   },
   {
    "duration": 17,
    "start_time": "2022-06-10T15:24:02.403Z"
   },
   {
    "duration": 55,
    "start_time": "2022-06-10T16:59:42.972Z"
   },
   {
    "duration": 1175,
    "start_time": "2022-06-10T16:59:52.200Z"
   },
   {
    "duration": 71,
    "start_time": "2022-06-10T16:59:53.378Z"
   },
   {
    "duration": 4,
    "start_time": "2022-06-10T16:59:53.450Z"
   },
   {
    "duration": 54,
    "start_time": "2022-06-10T16:59:53.456Z"
   },
   {
    "duration": 113,
    "start_time": "2022-06-10T16:59:53.512Z"
   },
   {
    "duration": 11,
    "start_time": "2022-06-10T16:59:55.451Z"
   },
   {
    "duration": 3,
    "start_time": "2022-06-10T16:59:56.244Z"
   },
   {
    "duration": 9,
    "start_time": "2022-06-10T17:00:20.587Z"
   },
   {
    "duration": 6,
    "start_time": "2022-06-10T17:06:41.598Z"
   },
   {
    "duration": 80,
    "start_time": "2022-06-10T17:07:43.579Z"
   },
   {
    "duration": 5,
    "start_time": "2022-06-10T17:23:27.131Z"
   },
   {
    "duration": 452,
    "start_time": "2022-06-10T17:23:41.671Z"
   },
   {
    "duration": 8,
    "start_time": "2022-06-10T17:27:36.429Z"
   },
   {
    "duration": 4,
    "start_time": "2022-06-10T17:27:50.454Z"
   },
   {
    "duration": 31,
    "start_time": "2022-06-10T17:27:50.461Z"
   },
   {
    "duration": 3,
    "start_time": "2022-06-10T17:27:50.494Z"
   },
   {
    "duration": 43,
    "start_time": "2022-06-10T17:27:50.499Z"
   },
   {
    "duration": 79,
    "start_time": "2022-06-10T17:27:50.544Z"
   },
   {
    "duration": 98,
    "start_time": "2022-06-10T17:27:50.625Z"
   },
   {
    "duration": 3,
    "start_time": "2022-06-10T17:27:57.792Z"
   },
   {
    "duration": 29,
    "start_time": "2022-06-10T17:27:57.797Z"
   },
   {
    "duration": 4,
    "start_time": "2022-06-10T17:27:57.827Z"
   },
   {
    "duration": 39,
    "start_time": "2022-06-10T17:27:57.833Z"
   },
   {
    "duration": 49,
    "start_time": "2022-06-10T17:27:57.874Z"
   },
   {
    "duration": 5,
    "start_time": "2022-06-10T17:28:01.138Z"
   },
   {
    "duration": 5,
    "start_time": "2022-06-10T17:28:01.676Z"
   },
   {
    "duration": 5,
    "start_time": "2022-06-10T17:28:30.289Z"
   },
   {
    "duration": 5,
    "start_time": "2022-06-10T17:28:59.779Z"
   },
   {
    "duration": 7,
    "start_time": "2022-06-10T17:29:22.557Z"
   },
   {
    "duration": 4,
    "start_time": "2022-06-10T17:45:51.676Z"
   },
   {
    "duration": 15,
    "start_time": "2022-06-10T17:45:57.363Z"
   },
   {
    "duration": 5,
    "start_time": "2022-06-10T17:47:42.473Z"
   },
   {
    "duration": 19,
    "start_time": "2022-06-10T17:48:22.877Z"
   },
   {
    "duration": 6,
    "start_time": "2022-06-10T17:48:30.290Z"
   },
   {
    "duration": 5,
    "start_time": "2022-06-10T17:55:54.706Z"
   },
   {
    "duration": 4,
    "start_time": "2022-06-10T18:01:25.685Z"
   },
   {
    "duration": 4,
    "start_time": "2022-06-10T18:03:08.403Z"
   },
   {
    "duration": 12,
    "start_time": "2022-06-10T18:10:35.483Z"
   },
   {
    "duration": 11,
    "start_time": "2022-06-10T18:11:43.602Z"
   },
   {
    "duration": 14,
    "start_time": "2022-06-10T18:12:18.543Z"
   },
   {
    "duration": 28,
    "start_time": "2022-06-10T18:12:24.169Z"
   },
   {
    "duration": 92,
    "start_time": "2022-06-10T18:12:36.840Z"
   },
   {
    "duration": 13,
    "start_time": "2022-06-10T18:13:22.554Z"
   },
   {
    "duration": 11,
    "start_time": "2022-06-10T18:16:18.221Z"
   },
   {
    "duration": 114,
    "start_time": "2022-06-10T18:21:19.415Z"
   },
   {
    "duration": 23,
    "start_time": "2022-06-10T18:22:12.908Z"
   },
   {
    "duration": 14,
    "start_time": "2022-06-10T18:23:08.393Z"
   },
   {
    "duration": 10,
    "start_time": "2022-06-10T18:24:38.500Z"
   },
   {
    "duration": 29,
    "start_time": "2022-06-10T18:38:55.683Z"
   },
   {
    "duration": 920,
    "start_time": "2022-06-10T18:39:06.007Z"
   },
   {
    "duration": 870,
    "start_time": "2022-06-10T18:40:55.058Z"
   },
   {
    "duration": 901,
    "start_time": "2022-06-10T18:43:02.423Z"
   },
   {
    "duration": 1022,
    "start_time": "2022-06-10T18:44:03.638Z"
   },
   {
    "duration": 27,
    "start_time": "2022-06-10T18:44:04.661Z"
   },
   {
    "duration": 3,
    "start_time": "2022-06-10T18:44:04.689Z"
   },
   {
    "duration": 50,
    "start_time": "2022-06-10T18:44:04.694Z"
   },
   {
    "duration": 102,
    "start_time": "2022-06-10T18:44:04.746Z"
   },
   {
    "duration": 0,
    "start_time": "2022-06-10T18:44:04.849Z"
   },
   {
    "duration": 0,
    "start_time": "2022-06-10T18:44:04.851Z"
   },
   {
    "duration": 0,
    "start_time": "2022-06-10T18:44:04.852Z"
   },
   {
    "duration": 0,
    "start_time": "2022-06-10T18:44:04.853Z"
   },
   {
    "duration": 0,
    "start_time": "2022-06-10T18:44:04.854Z"
   },
   {
    "duration": 4,
    "start_time": "2022-06-10T18:45:34.504Z"
   },
   {
    "duration": 971,
    "start_time": "2022-06-10T18:45:35.452Z"
   },
   {
    "duration": 11,
    "start_time": "2022-06-10T18:45:41.573Z"
   }
  ],
  "kernelspec": {
   "display_name": "Python 3 (ipykernel)",
   "language": "python",
   "name": "python3"
  },
  "language_info": {
   "codemirror_mode": {
    "name": "ipython",
    "version": 3
   },
   "file_extension": ".py",
   "mimetype": "text/x-python",
   "name": "python",
   "nbconvert_exporter": "python",
   "pygments_lexer": "ipython3",
   "version": "3.9.7"
  },
  "toc": {
   "base_numbering": 1,
   "nav_menu": {},
   "number_sections": true,
   "sideBar": true,
   "skip_h1_title": true,
   "title_cell": "Содержание",
   "title_sidebar": "Contents",
   "toc_cell": true,
   "toc_position": {},
   "toc_section_display": true,
   "toc_window_display": true
  }
 },
 "nbformat": 4,
 "nbformat_minor": 2
}
