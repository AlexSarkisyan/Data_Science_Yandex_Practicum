{
 "cells": [
  {
   "cell_type": "markdown",
   "metadata": {},
   "source": [
    "# Выбор локации для скважины"
   ]
  },
  {
   "cell_type": "markdown",
   "metadata": {},
   "source": [
    "Допустим, вы работаете в добывающей компании «ГлавРосГосНефть». Нужно решить, где бурить новую скважину.\n",
    "\n",
    "Вам предоставлены пробы нефти в трёх регионах: в каждом 10 000 месторождений, где измерили качество нефти и объём её запасов. Постройте модель машинного обучения, которая поможет определить регион, где добыча принесёт наибольшую прибыль. Проанализируйте возможную прибыль и риски техникой *Bootstrap.*\n",
    "\n",
    "Шаги для выбора локации:\n",
    "\n",
    "- В избранном регионе ищут месторождения, для каждого определяют значения признаков;\n",
    "- Строят модель и оценивают объём запасов;\n",
    "- Выбирают месторождения с самым высокими оценками значений. Количество месторождений зависит от бюджета компании и стоимости разработки одной скважины;\n",
    "- Прибыль равна суммарной прибыли отобранных месторождений."
   ]
  },
  {
   "cell_type": "markdown",
   "metadata": {},
   "source": [
    "## Загрузка и подготовка данных"
   ]
  },
  {
   "cell_type": "code",
   "execution_count": 1,
   "metadata": {},
   "outputs": [],
   "source": [
    "import pandas as pd\n",
    "import os\n",
    "import numpy as np\n",
    "from sklearn.model_selection import train_test_split\n",
    "from sklearn.linear_model import LinearRegression\n",
    "from sklearn.metrics import mean_squared_error\n",
    "from sklearn.preprocessing import StandardScaler"
   ]
  },
  {
   "cell_type": "markdown",
   "metadata": {},
   "source": [
    "Загрузка данных по регионам"
   ]
  },
  {
   "cell_type": "code",
   "execution_count": 2,
   "metadata": {},
   "outputs": [],
   "source": [
    "pth1 = '/datasets/geo_data_0.csv'\n",
    "pth2 = '/Users/Alex/Desktop/practicum_ds/projects/ml/geo_data_0.csv'\n",
    "\n",
    "if os.path.exists(pth1):\n",
    "    geo_data_0 = pd.read_csv(pth1)\n",
    "elif os.path.exists(pth2):\n",
    "    geo_data_0 = pd.read_csv(pth2)\n",
    "else:\n",
    "    print('Something is wrong')"
   ]
  },
  {
   "cell_type": "code",
   "execution_count": 3,
   "metadata": {},
   "outputs": [],
   "source": [
    "pth1 = '/datasets/geo_data_1.csv'\n",
    "pth2 = '/Users/Alex/Desktop/practicum_ds/projects/ml/geo_data_1.csv'\n",
    "\n",
    "if os.path.exists(pth1):\n",
    "    geo_data_1 = pd.read_csv(pth1)\n",
    "elif os.path.exists(pth2):\n",
    "    geo_data_1 = pd.read_csv(pth2)\n",
    "else:\n",
    "    print('Something is wrong')"
   ]
  },
  {
   "cell_type": "code",
   "execution_count": 4,
   "metadata": {},
   "outputs": [],
   "source": [
    "pth1 = '/datasets/geo_data_2.csv'\n",
    "pth2 = '/Users/Alex/Desktop/practicum_ds/projects/ml/geo_data_2.csv'\n",
    "\n",
    "if os.path.exists(pth1):\n",
    "    geo_data_2 = pd.read_csv(pth1)\n",
    "elif os.path.exists(pth2):\n",
    "    geo_data_2 = pd.read_csv(pth2)\n",
    "else:\n",
    "    print('Something is wrong')"
   ]
  },
  {
   "cell_type": "markdown",
   "metadata": {},
   "source": [
    "**Информация по регионам**"
   ]
  },
  {
   "cell_type": "code",
   "execution_count": 5,
   "metadata": {},
   "outputs": [],
   "source": [
    "def about_df(df):\n",
    "    display(df.head())\n",
    "    display(df.info())\n",
    "    display(df.describe())\n",
    "    display(df.duplicated().sum())"
   ]
  },
  {
   "cell_type": "code",
   "execution_count": 6,
   "metadata": {},
   "outputs": [
    {
     "data": {
      "text/html": [
       "<div>\n",
       "<style scoped>\n",
       "    .dataframe tbody tr th:only-of-type {\n",
       "        vertical-align: middle;\n",
       "    }\n",
       "\n",
       "    .dataframe tbody tr th {\n",
       "        vertical-align: top;\n",
       "    }\n",
       "\n",
       "    .dataframe thead th {\n",
       "        text-align: right;\n",
       "    }\n",
       "</style>\n",
       "<table border=\"1\" class=\"dataframe\">\n",
       "  <thead>\n",
       "    <tr style=\"text-align: right;\">\n",
       "      <th></th>\n",
       "      <th>id</th>\n",
       "      <th>f0</th>\n",
       "      <th>f1</th>\n",
       "      <th>f2</th>\n",
       "      <th>product</th>\n",
       "    </tr>\n",
       "  </thead>\n",
       "  <tbody>\n",
       "    <tr>\n",
       "      <th>0</th>\n",
       "      <td>txEyH</td>\n",
       "      <td>0.705745</td>\n",
       "      <td>-0.497823</td>\n",
       "      <td>1.221170</td>\n",
       "      <td>105.280062</td>\n",
       "    </tr>\n",
       "    <tr>\n",
       "      <th>1</th>\n",
       "      <td>2acmU</td>\n",
       "      <td>1.334711</td>\n",
       "      <td>-0.340164</td>\n",
       "      <td>4.365080</td>\n",
       "      <td>73.037750</td>\n",
       "    </tr>\n",
       "    <tr>\n",
       "      <th>2</th>\n",
       "      <td>409Wp</td>\n",
       "      <td>1.022732</td>\n",
       "      <td>0.151990</td>\n",
       "      <td>1.419926</td>\n",
       "      <td>85.265647</td>\n",
       "    </tr>\n",
       "    <tr>\n",
       "      <th>3</th>\n",
       "      <td>iJLyR</td>\n",
       "      <td>-0.032172</td>\n",
       "      <td>0.139033</td>\n",
       "      <td>2.978566</td>\n",
       "      <td>168.620776</td>\n",
       "    </tr>\n",
       "    <tr>\n",
       "      <th>4</th>\n",
       "      <td>Xdl7t</td>\n",
       "      <td>1.988431</td>\n",
       "      <td>0.155413</td>\n",
       "      <td>4.751769</td>\n",
       "      <td>154.036647</td>\n",
       "    </tr>\n",
       "  </tbody>\n",
       "</table>\n",
       "</div>"
      ],
      "text/plain": [
       "      id        f0        f1        f2     product\n",
       "0  txEyH  0.705745 -0.497823  1.221170  105.280062\n",
       "1  2acmU  1.334711 -0.340164  4.365080   73.037750\n",
       "2  409Wp  1.022732  0.151990  1.419926   85.265647\n",
       "3  iJLyR -0.032172  0.139033  2.978566  168.620776\n",
       "4  Xdl7t  1.988431  0.155413  4.751769  154.036647"
      ]
     },
     "metadata": {},
     "output_type": "display_data"
    },
    {
     "name": "stdout",
     "output_type": "stream",
     "text": [
      "<class 'pandas.core.frame.DataFrame'>\n",
      "RangeIndex: 100000 entries, 0 to 99999\n",
      "Data columns (total 5 columns):\n",
      " #   Column   Non-Null Count   Dtype  \n",
      "---  ------   --------------   -----  \n",
      " 0   id       100000 non-null  object \n",
      " 1   f0       100000 non-null  float64\n",
      " 2   f1       100000 non-null  float64\n",
      " 3   f2       100000 non-null  float64\n",
      " 4   product  100000 non-null  float64\n",
      "dtypes: float64(4), object(1)\n",
      "memory usage: 3.8+ MB\n"
     ]
    },
    {
     "data": {
      "text/plain": [
       "None"
      ]
     },
     "metadata": {},
     "output_type": "display_data"
    },
    {
     "data": {
      "text/html": [
       "<div>\n",
       "<style scoped>\n",
       "    .dataframe tbody tr th:only-of-type {\n",
       "        vertical-align: middle;\n",
       "    }\n",
       "\n",
       "    .dataframe tbody tr th {\n",
       "        vertical-align: top;\n",
       "    }\n",
       "\n",
       "    .dataframe thead th {\n",
       "        text-align: right;\n",
       "    }\n",
       "</style>\n",
       "<table border=\"1\" class=\"dataframe\">\n",
       "  <thead>\n",
       "    <tr style=\"text-align: right;\">\n",
       "      <th></th>\n",
       "      <th>f0</th>\n",
       "      <th>f1</th>\n",
       "      <th>f2</th>\n",
       "      <th>product</th>\n",
       "    </tr>\n",
       "  </thead>\n",
       "  <tbody>\n",
       "    <tr>\n",
       "      <th>count</th>\n",
       "      <td>100000.000000</td>\n",
       "      <td>100000.000000</td>\n",
       "      <td>100000.000000</td>\n",
       "      <td>100000.000000</td>\n",
       "    </tr>\n",
       "    <tr>\n",
       "      <th>mean</th>\n",
       "      <td>0.500419</td>\n",
       "      <td>0.250143</td>\n",
       "      <td>2.502647</td>\n",
       "      <td>92.500000</td>\n",
       "    </tr>\n",
       "    <tr>\n",
       "      <th>std</th>\n",
       "      <td>0.871832</td>\n",
       "      <td>0.504433</td>\n",
       "      <td>3.248248</td>\n",
       "      <td>44.288691</td>\n",
       "    </tr>\n",
       "    <tr>\n",
       "      <th>min</th>\n",
       "      <td>-1.408605</td>\n",
       "      <td>-0.848218</td>\n",
       "      <td>-12.088328</td>\n",
       "      <td>0.000000</td>\n",
       "    </tr>\n",
       "    <tr>\n",
       "      <th>25%</th>\n",
       "      <td>-0.072580</td>\n",
       "      <td>-0.200881</td>\n",
       "      <td>0.287748</td>\n",
       "      <td>56.497507</td>\n",
       "    </tr>\n",
       "    <tr>\n",
       "      <th>50%</th>\n",
       "      <td>0.502360</td>\n",
       "      <td>0.250252</td>\n",
       "      <td>2.515969</td>\n",
       "      <td>91.849972</td>\n",
       "    </tr>\n",
       "    <tr>\n",
       "      <th>75%</th>\n",
       "      <td>1.073581</td>\n",
       "      <td>0.700646</td>\n",
       "      <td>4.715088</td>\n",
       "      <td>128.564089</td>\n",
       "    </tr>\n",
       "    <tr>\n",
       "      <th>max</th>\n",
       "      <td>2.362331</td>\n",
       "      <td>1.343769</td>\n",
       "      <td>16.003790</td>\n",
       "      <td>185.364347</td>\n",
       "    </tr>\n",
       "  </tbody>\n",
       "</table>\n",
       "</div>"
      ],
      "text/plain": [
       "                  f0             f1             f2        product\n",
       "count  100000.000000  100000.000000  100000.000000  100000.000000\n",
       "mean        0.500419       0.250143       2.502647      92.500000\n",
       "std         0.871832       0.504433       3.248248      44.288691\n",
       "min        -1.408605      -0.848218     -12.088328       0.000000\n",
       "25%        -0.072580      -0.200881       0.287748      56.497507\n",
       "50%         0.502360       0.250252       2.515969      91.849972\n",
       "75%         1.073581       0.700646       4.715088     128.564089\n",
       "max         2.362331       1.343769      16.003790     185.364347"
      ]
     },
     "metadata": {},
     "output_type": "display_data"
    },
    {
     "data": {
      "text/plain": [
       "0"
      ]
     },
     "metadata": {},
     "output_type": "display_data"
    }
   ],
   "source": [
    "about_df(geo_data_0)"
   ]
  },
  {
   "cell_type": "code",
   "execution_count": 7,
   "metadata": {},
   "outputs": [
    {
     "data": {
      "text/html": [
       "<div>\n",
       "<style scoped>\n",
       "    .dataframe tbody tr th:only-of-type {\n",
       "        vertical-align: middle;\n",
       "    }\n",
       "\n",
       "    .dataframe tbody tr th {\n",
       "        vertical-align: top;\n",
       "    }\n",
       "\n",
       "    .dataframe thead th {\n",
       "        text-align: right;\n",
       "    }\n",
       "</style>\n",
       "<table border=\"1\" class=\"dataframe\">\n",
       "  <thead>\n",
       "    <tr style=\"text-align: right;\">\n",
       "      <th></th>\n",
       "      <th>id</th>\n",
       "      <th>f0</th>\n",
       "      <th>f1</th>\n",
       "      <th>f2</th>\n",
       "      <th>product</th>\n",
       "    </tr>\n",
       "  </thead>\n",
       "  <tbody>\n",
       "    <tr>\n",
       "      <th>0</th>\n",
       "      <td>kBEdx</td>\n",
       "      <td>-15.001348</td>\n",
       "      <td>-8.276000</td>\n",
       "      <td>-0.005876</td>\n",
       "      <td>3.179103</td>\n",
       "    </tr>\n",
       "    <tr>\n",
       "      <th>1</th>\n",
       "      <td>62mP7</td>\n",
       "      <td>14.272088</td>\n",
       "      <td>-3.475083</td>\n",
       "      <td>0.999183</td>\n",
       "      <td>26.953261</td>\n",
       "    </tr>\n",
       "    <tr>\n",
       "      <th>2</th>\n",
       "      <td>vyE1P</td>\n",
       "      <td>6.263187</td>\n",
       "      <td>-5.948386</td>\n",
       "      <td>5.001160</td>\n",
       "      <td>134.766305</td>\n",
       "    </tr>\n",
       "    <tr>\n",
       "      <th>3</th>\n",
       "      <td>KcrkZ</td>\n",
       "      <td>-13.081196</td>\n",
       "      <td>-11.506057</td>\n",
       "      <td>4.999415</td>\n",
       "      <td>137.945408</td>\n",
       "    </tr>\n",
       "    <tr>\n",
       "      <th>4</th>\n",
       "      <td>AHL4O</td>\n",
       "      <td>12.702195</td>\n",
       "      <td>-8.147433</td>\n",
       "      <td>5.004363</td>\n",
       "      <td>134.766305</td>\n",
       "    </tr>\n",
       "  </tbody>\n",
       "</table>\n",
       "</div>"
      ],
      "text/plain": [
       "      id         f0         f1        f2     product\n",
       "0  kBEdx -15.001348  -8.276000 -0.005876    3.179103\n",
       "1  62mP7  14.272088  -3.475083  0.999183   26.953261\n",
       "2  vyE1P   6.263187  -5.948386  5.001160  134.766305\n",
       "3  KcrkZ -13.081196 -11.506057  4.999415  137.945408\n",
       "4  AHL4O  12.702195  -8.147433  5.004363  134.766305"
      ]
     },
     "metadata": {},
     "output_type": "display_data"
    },
    {
     "name": "stdout",
     "output_type": "stream",
     "text": [
      "<class 'pandas.core.frame.DataFrame'>\n",
      "RangeIndex: 100000 entries, 0 to 99999\n",
      "Data columns (total 5 columns):\n",
      " #   Column   Non-Null Count   Dtype  \n",
      "---  ------   --------------   -----  \n",
      " 0   id       100000 non-null  object \n",
      " 1   f0       100000 non-null  float64\n",
      " 2   f1       100000 non-null  float64\n",
      " 3   f2       100000 non-null  float64\n",
      " 4   product  100000 non-null  float64\n",
      "dtypes: float64(4), object(1)\n",
      "memory usage: 3.8+ MB\n"
     ]
    },
    {
     "data": {
      "text/plain": [
       "None"
      ]
     },
     "metadata": {},
     "output_type": "display_data"
    },
    {
     "data": {
      "text/html": [
       "<div>\n",
       "<style scoped>\n",
       "    .dataframe tbody tr th:only-of-type {\n",
       "        vertical-align: middle;\n",
       "    }\n",
       "\n",
       "    .dataframe tbody tr th {\n",
       "        vertical-align: top;\n",
       "    }\n",
       "\n",
       "    .dataframe thead th {\n",
       "        text-align: right;\n",
       "    }\n",
       "</style>\n",
       "<table border=\"1\" class=\"dataframe\">\n",
       "  <thead>\n",
       "    <tr style=\"text-align: right;\">\n",
       "      <th></th>\n",
       "      <th>f0</th>\n",
       "      <th>f1</th>\n",
       "      <th>f2</th>\n",
       "      <th>product</th>\n",
       "    </tr>\n",
       "  </thead>\n",
       "  <tbody>\n",
       "    <tr>\n",
       "      <th>count</th>\n",
       "      <td>100000.000000</td>\n",
       "      <td>100000.000000</td>\n",
       "      <td>100000.000000</td>\n",
       "      <td>100000.000000</td>\n",
       "    </tr>\n",
       "    <tr>\n",
       "      <th>mean</th>\n",
       "      <td>1.141296</td>\n",
       "      <td>-4.796579</td>\n",
       "      <td>2.494541</td>\n",
       "      <td>68.825000</td>\n",
       "    </tr>\n",
       "    <tr>\n",
       "      <th>std</th>\n",
       "      <td>8.965932</td>\n",
       "      <td>5.119872</td>\n",
       "      <td>1.703572</td>\n",
       "      <td>45.944423</td>\n",
       "    </tr>\n",
       "    <tr>\n",
       "      <th>min</th>\n",
       "      <td>-31.609576</td>\n",
       "      <td>-26.358598</td>\n",
       "      <td>-0.018144</td>\n",
       "      <td>0.000000</td>\n",
       "    </tr>\n",
       "    <tr>\n",
       "      <th>25%</th>\n",
       "      <td>-6.298551</td>\n",
       "      <td>-8.267985</td>\n",
       "      <td>1.000021</td>\n",
       "      <td>26.953261</td>\n",
       "    </tr>\n",
       "    <tr>\n",
       "      <th>50%</th>\n",
       "      <td>1.153055</td>\n",
       "      <td>-4.813172</td>\n",
       "      <td>2.011479</td>\n",
       "      <td>57.085625</td>\n",
       "    </tr>\n",
       "    <tr>\n",
       "      <th>75%</th>\n",
       "      <td>8.621015</td>\n",
       "      <td>-1.332816</td>\n",
       "      <td>3.999904</td>\n",
       "      <td>107.813044</td>\n",
       "    </tr>\n",
       "    <tr>\n",
       "      <th>max</th>\n",
       "      <td>29.421755</td>\n",
       "      <td>18.734063</td>\n",
       "      <td>5.019721</td>\n",
       "      <td>137.945408</td>\n",
       "    </tr>\n",
       "  </tbody>\n",
       "</table>\n",
       "</div>"
      ],
      "text/plain": [
       "                  f0             f1             f2        product\n",
       "count  100000.000000  100000.000000  100000.000000  100000.000000\n",
       "mean        1.141296      -4.796579       2.494541      68.825000\n",
       "std         8.965932       5.119872       1.703572      45.944423\n",
       "min       -31.609576     -26.358598      -0.018144       0.000000\n",
       "25%        -6.298551      -8.267985       1.000021      26.953261\n",
       "50%         1.153055      -4.813172       2.011479      57.085625\n",
       "75%         8.621015      -1.332816       3.999904     107.813044\n",
       "max        29.421755      18.734063       5.019721     137.945408"
      ]
     },
     "metadata": {},
     "output_type": "display_data"
    },
    {
     "data": {
      "text/plain": [
       "0"
      ]
     },
     "metadata": {},
     "output_type": "display_data"
    }
   ],
   "source": [
    "about_df(geo_data_1)"
   ]
  },
  {
   "cell_type": "code",
   "execution_count": 8,
   "metadata": {},
   "outputs": [
    {
     "data": {
      "text/html": [
       "<div>\n",
       "<style scoped>\n",
       "    .dataframe tbody tr th:only-of-type {\n",
       "        vertical-align: middle;\n",
       "    }\n",
       "\n",
       "    .dataframe tbody tr th {\n",
       "        vertical-align: top;\n",
       "    }\n",
       "\n",
       "    .dataframe thead th {\n",
       "        text-align: right;\n",
       "    }\n",
       "</style>\n",
       "<table border=\"1\" class=\"dataframe\">\n",
       "  <thead>\n",
       "    <tr style=\"text-align: right;\">\n",
       "      <th></th>\n",
       "      <th>id</th>\n",
       "      <th>f0</th>\n",
       "      <th>f1</th>\n",
       "      <th>f2</th>\n",
       "      <th>product</th>\n",
       "    </tr>\n",
       "  </thead>\n",
       "  <tbody>\n",
       "    <tr>\n",
       "      <th>0</th>\n",
       "      <td>fwXo0</td>\n",
       "      <td>-1.146987</td>\n",
       "      <td>0.963328</td>\n",
       "      <td>-0.828965</td>\n",
       "      <td>27.758673</td>\n",
       "    </tr>\n",
       "    <tr>\n",
       "      <th>1</th>\n",
       "      <td>WJtFt</td>\n",
       "      <td>0.262778</td>\n",
       "      <td>0.269839</td>\n",
       "      <td>-2.530187</td>\n",
       "      <td>56.069697</td>\n",
       "    </tr>\n",
       "    <tr>\n",
       "      <th>2</th>\n",
       "      <td>ovLUW</td>\n",
       "      <td>0.194587</td>\n",
       "      <td>0.289035</td>\n",
       "      <td>-5.586433</td>\n",
       "      <td>62.871910</td>\n",
       "    </tr>\n",
       "    <tr>\n",
       "      <th>3</th>\n",
       "      <td>q6cA6</td>\n",
       "      <td>2.236060</td>\n",
       "      <td>-0.553760</td>\n",
       "      <td>0.930038</td>\n",
       "      <td>114.572842</td>\n",
       "    </tr>\n",
       "    <tr>\n",
       "      <th>4</th>\n",
       "      <td>WPMUX</td>\n",
       "      <td>-0.515993</td>\n",
       "      <td>1.716266</td>\n",
       "      <td>5.899011</td>\n",
       "      <td>149.600746</td>\n",
       "    </tr>\n",
       "  </tbody>\n",
       "</table>\n",
       "</div>"
      ],
      "text/plain": [
       "      id        f0        f1        f2     product\n",
       "0  fwXo0 -1.146987  0.963328 -0.828965   27.758673\n",
       "1  WJtFt  0.262778  0.269839 -2.530187   56.069697\n",
       "2  ovLUW  0.194587  0.289035 -5.586433   62.871910\n",
       "3  q6cA6  2.236060 -0.553760  0.930038  114.572842\n",
       "4  WPMUX -0.515993  1.716266  5.899011  149.600746"
      ]
     },
     "metadata": {},
     "output_type": "display_data"
    },
    {
     "name": "stdout",
     "output_type": "stream",
     "text": [
      "<class 'pandas.core.frame.DataFrame'>\n",
      "RangeIndex: 100000 entries, 0 to 99999\n",
      "Data columns (total 5 columns):\n",
      " #   Column   Non-Null Count   Dtype  \n",
      "---  ------   --------------   -----  \n",
      " 0   id       100000 non-null  object \n",
      " 1   f0       100000 non-null  float64\n",
      " 2   f1       100000 non-null  float64\n",
      " 3   f2       100000 non-null  float64\n",
      " 4   product  100000 non-null  float64\n",
      "dtypes: float64(4), object(1)\n",
      "memory usage: 3.8+ MB\n"
     ]
    },
    {
     "data": {
      "text/plain": [
       "None"
      ]
     },
     "metadata": {},
     "output_type": "display_data"
    },
    {
     "data": {
      "text/html": [
       "<div>\n",
       "<style scoped>\n",
       "    .dataframe tbody tr th:only-of-type {\n",
       "        vertical-align: middle;\n",
       "    }\n",
       "\n",
       "    .dataframe tbody tr th {\n",
       "        vertical-align: top;\n",
       "    }\n",
       "\n",
       "    .dataframe thead th {\n",
       "        text-align: right;\n",
       "    }\n",
       "</style>\n",
       "<table border=\"1\" class=\"dataframe\">\n",
       "  <thead>\n",
       "    <tr style=\"text-align: right;\">\n",
       "      <th></th>\n",
       "      <th>f0</th>\n",
       "      <th>f1</th>\n",
       "      <th>f2</th>\n",
       "      <th>product</th>\n",
       "    </tr>\n",
       "  </thead>\n",
       "  <tbody>\n",
       "    <tr>\n",
       "      <th>count</th>\n",
       "      <td>100000.000000</td>\n",
       "      <td>100000.000000</td>\n",
       "      <td>100000.000000</td>\n",
       "      <td>100000.000000</td>\n",
       "    </tr>\n",
       "    <tr>\n",
       "      <th>mean</th>\n",
       "      <td>0.002023</td>\n",
       "      <td>-0.002081</td>\n",
       "      <td>2.495128</td>\n",
       "      <td>95.000000</td>\n",
       "    </tr>\n",
       "    <tr>\n",
       "      <th>std</th>\n",
       "      <td>1.732045</td>\n",
       "      <td>1.730417</td>\n",
       "      <td>3.473445</td>\n",
       "      <td>44.749921</td>\n",
       "    </tr>\n",
       "    <tr>\n",
       "      <th>min</th>\n",
       "      <td>-8.760004</td>\n",
       "      <td>-7.084020</td>\n",
       "      <td>-11.970335</td>\n",
       "      <td>0.000000</td>\n",
       "    </tr>\n",
       "    <tr>\n",
       "      <th>25%</th>\n",
       "      <td>-1.162288</td>\n",
       "      <td>-1.174820</td>\n",
       "      <td>0.130359</td>\n",
       "      <td>59.450441</td>\n",
       "    </tr>\n",
       "    <tr>\n",
       "      <th>50%</th>\n",
       "      <td>0.009424</td>\n",
       "      <td>-0.009482</td>\n",
       "      <td>2.484236</td>\n",
       "      <td>94.925613</td>\n",
       "    </tr>\n",
       "    <tr>\n",
       "      <th>75%</th>\n",
       "      <td>1.158535</td>\n",
       "      <td>1.163678</td>\n",
       "      <td>4.858794</td>\n",
       "      <td>130.595027</td>\n",
       "    </tr>\n",
       "    <tr>\n",
       "      <th>max</th>\n",
       "      <td>7.238262</td>\n",
       "      <td>7.844801</td>\n",
       "      <td>16.739402</td>\n",
       "      <td>190.029838</td>\n",
       "    </tr>\n",
       "  </tbody>\n",
       "</table>\n",
       "</div>"
      ],
      "text/plain": [
       "                  f0             f1             f2        product\n",
       "count  100000.000000  100000.000000  100000.000000  100000.000000\n",
       "mean        0.002023      -0.002081       2.495128      95.000000\n",
       "std         1.732045       1.730417       3.473445      44.749921\n",
       "min        -8.760004      -7.084020     -11.970335       0.000000\n",
       "25%        -1.162288      -1.174820       0.130359      59.450441\n",
       "50%         0.009424      -0.009482       2.484236      94.925613\n",
       "75%         1.158535       1.163678       4.858794     130.595027\n",
       "max         7.238262       7.844801      16.739402     190.029838"
      ]
     },
     "metadata": {},
     "output_type": "display_data"
    },
    {
     "data": {
      "text/plain": [
       "0"
      ]
     },
     "metadata": {},
     "output_type": "display_data"
    }
   ],
   "source": [
    "about_df(geo_data_2)"
   ]
  },
  {
   "cell_type": "markdown",
   "metadata": {},
   "source": [
    "Значения в таблице describe для региона geo_data_1 по столбцу product (в частности mean & median (25%)) значительно ниже аналогичных показателей в двух других регионах.\n",
    "\n",
    "**Исследуем данный вопрос:**"
   ]
  },
  {
   "cell_type": "code",
   "execution_count": 9,
   "metadata": {},
   "outputs": [],
   "source": [
    "def value_count(df, column):\n",
    "    print(df.value_counts(column).unique())\n",
    "    print(df.value_counts(column))"
   ]
  },
  {
   "cell_type": "code",
   "execution_count": 10,
   "metadata": {},
   "outputs": [
    {
     "name": "stdout",
     "output_type": "stream",
     "text": [
      "[1]\n",
      "product\n",
      "0.000000      1\n",
      "116.365724    1\n",
      "116.417160    1\n",
      "116.415651    1\n",
      "116.415275    1\n",
      "             ..\n",
      "68.214952     1\n",
      "68.210272     1\n",
      "68.205998     1\n",
      "68.205255     1\n",
      "185.364347    1\n",
      "Length: 100000, dtype: int64\n"
     ]
    }
   ],
   "source": [
    "value_count(geo_data_0, 'product')"
   ]
  },
  {
   "cell_type": "code",
   "execution_count": 11,
   "metadata": {},
   "outputs": [
    {
     "name": "stdout",
     "output_type": "stream",
     "text": [
      "[8472 8468 8431 8390 8337 8320 8306 8304 8303 8235 8233 8201]\n",
      "product\n",
      "53.906522     8472\n",
      "26.953261     8468\n",
      "84.038886     8431\n",
      "57.085625     8390\n",
      "3.179103      8337\n",
      "80.859783     8320\n",
      "30.132364     8306\n",
      "134.766305    8304\n",
      "110.992147    8303\n",
      "0.000000      8235\n",
      "137.945408    8233\n",
      "107.813044    8201\n",
      "dtype: int64\n"
     ]
    }
   ],
   "source": [
    "value_count(geo_data_1, 'product')"
   ]
  },
  {
   "cell_type": "code",
   "execution_count": 12,
   "metadata": {},
   "outputs": [
    {
     "name": "stdout",
     "output_type": "stream",
     "text": [
      "[1]\n",
      "product\n",
      "0.000000      1\n",
      "118.463041    1\n",
      "118.492799    1\n",
      "118.489956    1\n",
      "118.489552    1\n",
      "             ..\n",
      "71.325275     1\n",
      "71.325233     1\n",
      "71.323043     1\n",
      "71.321554     1\n",
      "190.029838    1\n",
      "Length: 100000, dtype: int64\n"
     ]
    }
   ],
   "source": [
    "value_count(geo_data_2, 'product')"
   ]
  },
  {
   "cell_type": "markdown",
   "metadata": {},
   "source": [
    "**Вывод:**\n",
    "\n",
    "Итак, в каждой таблице по 5 столбцов.\n",
    "\n",
    "Описание данных:\n",
    "\n",
    "Признаки:\n",
    "\n",
    "- id — уникальный идентификатор скважины, данный признак не требуется для обучения модели т.к. не несет смысловой нагрузки.\n",
    "- f0, f1, f2 — три признака точек (неважно, что они означают, но сами признаки значимы);\n",
    "\n",
    "Целевой признак:\n",
    "\n",
    "- product — объём запасов в скважине (тыс. баррелей).\n",
    "\n",
    "\n",
    "Предварительно можно утверждать, что, данных достаточно для решения задачи.\n",
    "\n",
    "В данных пропусков не встречается.\n",
    "\n",
    "Данные в таблице geo_data_1 столбец 'product' принципиально отличаются от данных в двух других таблицах.\n",
    "\n",
    "Данные в таблице geo_data_1 столбец 'product' имеют 12 уникальных значений, которые практически равномерно распределены между собой, что на мой взгляд свидетельствует о том, что эти значения не отражают действительности и появились по какой-то ошибке."
   ]
  },
  {
   "cell_type": "code",
   "execution_count": 13,
   "metadata": {},
   "outputs": [],
   "source": [
    "# удаление первого признака\n",
    "geo_data_0 = geo_data_0.drop([\"id\"], axis = 1)\n",
    "geo_data_1 = geo_data_1.drop([\"id\"], axis = 1)\n",
    "geo_data_2 = geo_data_2.drop([\"id\"], axis = 1)"
   ]
  },
  {
   "cell_type": "markdown",
   "metadata": {},
   "source": [
    "## Обучение и проверка модели"
   ]
  },
  {
   "cell_type": "markdown",
   "metadata": {},
   "source": [
    "**Формирование выборок и масштабирование признаков по регионам:**\n",
    "\n",
    "- обучающая 75%\n",
    "\n",
    "- валидационная 25%"
   ]
  },
  {
   "cell_type": "code",
   "execution_count": 14,
   "metadata": {},
   "outputs": [],
   "source": [
    "# численные признаки\n",
    "numeric = ['f0', 'f1', 'f2']"
   ]
  },
  {
   "cell_type": "code",
   "execution_count": 15,
   "metadata": {},
   "outputs": [],
   "source": [
    "def split(df, target, test_size, numeric):\n",
    "    features = df.drop([target] , axis=1)\n",
    "    target = df[target]\n",
    "\n",
    "    features_train, features_valid, target_train, target_valid = train_test_split(\n",
    "    features, target, test_size=0.25, random_state=12345)\n",
    "    \n",
    "    scaler = StandardScaler()\n",
    "    scaler.fit(features_train[numeric])\n",
    "    features_train[numeric] = scaler.transform(features_train[numeric])\n",
    "    features_valid[numeric] = scaler.transform(features_valid[numeric])\n",
    "    \n",
    "    \n",
    "    return features_train, features_valid, target_train, target_valid"
   ]
  },
  {
   "cell_type": "code",
   "execution_count": 16,
   "metadata": {},
   "outputs": [
    {
     "name": "stdout",
     "output_type": "stream",
     "text": [
      "(75000, 3)\n"
     ]
    }
   ],
   "source": [
    "pd.options.mode.chained_assignment = None\n",
    "features_train_0, features_valid_0, target_train_0, target_valid_0 = split(geo_data_0, 'product', 0.25, numeric)\n",
    "print(features_train_0.shape)"
   ]
  },
  {
   "cell_type": "code",
   "execution_count": 17,
   "metadata": {},
   "outputs": [
    {
     "name": "stdout",
     "output_type": "stream",
     "text": [
      "(75000, 3)\n"
     ]
    }
   ],
   "source": [
    "pd.options.mode.chained_assignment = None\n",
    "features_train_1, features_valid_1, target_train_1, target_valid_1 = split(geo_data_1, 'product', 0.25, numeric)\n",
    "print(features_train_1.shape)"
   ]
  },
  {
   "cell_type": "code",
   "execution_count": 18,
   "metadata": {},
   "outputs": [
    {
     "name": "stdout",
     "output_type": "stream",
     "text": [
      "(75000, 3)\n"
     ]
    }
   ],
   "source": [
    "pd.options.mode.chained_assignment = None\n",
    "features_train_2, features_valid_2, target_train_2, target_valid_2 = split(geo_data_2, 'product', 0.25, numeric)\n",
    "print(features_train_2.shape)"
   ]
  },
  {
   "cell_type": "markdown",
   "metadata": {},
   "source": [
    "- Обучите модель и сделайте предсказания на валидационной выборке.\n",
    "- Сохраните предсказания и правильные ответы на валидационной выборке.\n",
    "- Напечатайте на экране средний запас предсказанного сырья и RMSE модели."
   ]
  },
  {
   "cell_type": "code",
   "execution_count": 19,
   "metadata": {},
   "outputs": [],
   "source": [
    "def params(features_train, target_train, features_valid, target_valid):\n",
    "    model = LinearRegression()\n",
    "    model.fit(features_train, target_train)\n",
    "    predictions = model.predict(features_valid)\n",
    "    \n",
    "    df_product = pd.DataFrame({'product': target_valid, 'predictions': predictions})\n",
    "    rmse = (mean_squared_error(target_valid, predictions)**0.5).round()\n",
    "    predicted_mean = predictions.mean().round()\n",
    "    return df_product, rmse, predicted_mean"
   ]
  },
  {
   "cell_type": "code",
   "execution_count": 20,
   "metadata": {},
   "outputs": [
    {
     "name": "stdout",
     "output_type": "stream",
     "text": [
      "RMSE_0 = 38.0 \n",
      "Cредний запас предсказанного сырья 93.0\n",
      "          product  predictions\n",
      "71751   10.038645    95.894952\n",
      "80493  114.551489    77.572583\n",
      "2655   132.603635    77.892640\n",
      "53233  169.072125    90.175134\n",
      "91141  122.325180    70.510088\n"
     ]
    }
   ],
   "source": [
    "df_product_0, rmse_0, predicted_mean_0 = params(features_train_0, target_train_0, features_valid_0, target_valid_0)\n",
    "print('RMSE_0 =', rmse_0, '\\nCредний запас предсказанного сырья', predicted_mean_0)\n",
    "print(df_product_0.head())"
   ]
  },
  {
   "cell_type": "code",
   "execution_count": 21,
   "metadata": {},
   "outputs": [
    {
     "name": "stdout",
     "output_type": "stream",
     "text": [
      "RMSE_1 = 1.0 \n",
      "Cредний запас предсказанного сырья 69.0\n",
      "         product  predictions\n",
      "71751  80.859783    82.663314\n",
      "80493  53.906522    54.431786\n",
      "2655   30.132364    29.748760\n",
      "53233  53.906522    53.552133\n",
      "91141   0.000000     1.243856\n"
     ]
    }
   ],
   "source": [
    "df_product_1, rmse_1, predicted_mean_1 = params(features_train_1, target_train_1, features_valid_1, target_valid_1)\n",
    "print('RMSE_1 =', rmse_1, '\\nCредний запас предсказанного сырья', predicted_mean_1)\n",
    "print(df_product_1.head())"
   ]
  },
  {
   "cell_type": "code",
   "execution_count": 22,
   "metadata": {},
   "outputs": [
    {
     "name": "stdout",
     "output_type": "stream",
     "text": [
      "RMSE_2 = 40.0 \n",
      "Cредний запас предсказанного сырья 95.0\n",
      "          product  predictions\n",
      "71751   61.212375    93.599633\n",
      "80493   41.850118    75.105159\n",
      "2655    57.776581    90.066809\n",
      "53233  100.053761   105.162375\n",
      "91141  109.897122   115.303310\n"
     ]
    }
   ],
   "source": [
    "df_product_2, rmse_2, predicted_mean_2 = params(features_train_2, target_train_2, features_valid_2, target_valid_2)\n",
    "print('RMSE_2 =', rmse_2, '\\nCредний запас предсказанного сырья', predicted_mean_2)\n",
    "print(df_product_2.head())"
   ]
  },
  {
   "cell_type": "markdown",
   "metadata": {},
   "source": [
    "**Вывод**\n",
    "\n",
    "Значения RMSE и среднего запаса предсказанного сырья в geo_data_0 и geo_data_2 регионах сопоставимы.\n",
    "\n",
    "Касательно региона geo_data_1, то RMSE и средний запас предсказанного сырья значительно ниже двух других регионов, что связано со структурой данных, о которой упомяналось выше. "
   ]
  },
  {
   "cell_type": "markdown",
   "metadata": {},
   "source": [
    "## Подготовка к расчёту прибыли"
   ]
  },
  {
   "cell_type": "markdown",
   "metadata": {},
   "source": [
    "Все ключевые значения для расчётов сохраните в отдельных переменных."
   ]
  },
  {
   "cell_type": "code",
   "execution_count": 23,
   "metadata": {},
   "outputs": [],
   "source": [
    "wells = 500\n",
    "best_wells = 200\n",
    "budget = 10000000000\n",
    "income_per_barrel = 450000"
   ]
  },
  {
   "cell_type": "markdown",
   "metadata": {},
   "source": [
    "Рассчитайте достаточный объём сырья для безубыточной разработки новой скважины."
   ]
  },
  {
   "cell_type": "code",
   "execution_count": 24,
   "metadata": {},
   "outputs": [
    {
     "name": "stdout",
     "output_type": "stream",
     "text": [
      "Достаточный объём сырья для безубыточной разработки новой скважины 112.0\n"
     ]
    }
   ],
   "source": [
    "income_per_well = (budget / income_per_barrel) / best_wells\n",
    "print('Достаточный объём сырья для безубыточной разработки новой скважины', np.ceil(income_per_well))"
   ]
  },
  {
   "cell_type": "markdown",
   "metadata": {},
   "source": [
    "Сравните полученный объём сырья со средним запасом в каждом регионе."
   ]
  },
  {
   "cell_type": "code",
   "execution_count": 25,
   "metadata": {},
   "outputs": [
    {
     "name": "stdout",
     "output_type": "stream",
     "text": [
      "Средний фактический запас в geo_data_0:  93.0\n",
      "Средний фактический запас в geo_data_1:  69.0\n",
      "Средний фактический запас в geo_data_2:  95.0\n"
     ]
    }
   ],
   "source": [
    "print('Средний фактический запас в geo_data_0: ', geo_data_0['product'].mean().round())\n",
    "print('Средний фактический запас в geo_data_1: ', geo_data_1['product'].mean().round())\n",
    "print('Средний фактический запас в geo_data_2: ', geo_data_2['product'].mean().round())"
   ]
  },
  {
   "cell_type": "markdown",
   "metadata": {},
   "source": [
    "**Вывод**\n",
    "\n",
    "Из полученный данных видно, что регионы geo_data_0 и geo_data_2 потенциально могут обладать достаточным количеством скважин с необходимым порогом > 112 тыс барелей"
   ]
  },
  {
   "cell_type": "markdown",
   "metadata": {},
   "source": [
    "**Напишите функцию для расчёта прибыли по выбранным скважинам и предсказаниям модели:**"
   ]
  },
  {
   "cell_type": "markdown",
   "metadata": {},
   "source": [
    "- Выберите скважины с максимальными значениями предсказаний.\n",
    "- Просуммируйте целевое значение объёма сырья, соответствующее этим предсказаниям.\n",
    "- Рассчитайте прибыль для полученного объёма сырья."
   ]
  },
  {
   "cell_type": "code",
   "execution_count": 26,
   "metadata": {},
   "outputs": [],
   "source": [
    "def gross_profit(target, predictions, count):\n",
    "    predictions_sorted = predictions.sort_values(ascending=False)\n",
    "    selected = target[predictions_sorted.index][:count]\n",
    "    return income_per_barrel * selected.sum() - budget"
   ]
  },
  {
   "cell_type": "markdown",
   "metadata": {},
   "source": [
    "## Расчёт прибыли и рисков "
   ]
  },
  {
   "cell_type": "markdown",
   "metadata": {},
   "source": [
    "- Примените технику Bootstrap с 1000 выборок, чтобы найти распределение прибыли.\n",
    "- Найдите среднюю прибыль, 95%-й доверительный интервал и риск убытков. Убыток — это отрицательная прибыль."
   ]
  },
  {
   "cell_type": "code",
   "execution_count": 27,
   "metadata": {},
   "outputs": [],
   "source": [
    "state = np.random.RandomState(12345)\n",
    "bootstrap_samples = 1000\n",
    "\n",
    "def bootstrap(target, predictions):\n",
    "    values=[]\n",
    "    loss_count = 0\n",
    "    for i in range(bootstrap_samples):\n",
    "        target_sample = target.sample(frac = wells / len(target), replace=True, random_state=state)\n",
    "        predictions_sample = predictions[target_sample.index]\n",
    "        gr_profit = gross_profit(target, predictions_sample, best_wells)\n",
    "        if gr_profit < 0:\n",
    "            loss_count += 1\n",
    "        values.append(gr_profit)\n",
    "    \n",
    "    values = pd.Series(values)\n",
    "    \n",
    "    avg_gross_profit = values.mean()\n",
    "    lower = values.quantile(0.025)\n",
    "    upper = values.quantile(0.975)\n",
    "    loss_risk = loss_count / 1000\n",
    "    return avg_gross_profit, lower, upper, loss_risk"
   ]
  },
  {
   "cell_type": "code",
   "execution_count": 28,
   "metadata": {},
   "outputs": [
    {
     "name": "stdout",
     "output_type": "stream",
     "text": [
      "Средняя прибыль = 396164985.0 руб.\n",
      "lower = -111215546.0 руб.\n",
      "upper = 909766942.0 руб.\n",
      "Риск убытков = 6.90%\n"
     ]
    }
   ],
   "source": [
    "avg_gross_profit_0, lower_0, upper_0, loss_risk_0 = bootstrap(df_product_0['product'], df_product_0['predictions'])\n",
    "\n",
    "print('Средняя прибыль =', avg_gross_profit_0.round(), 'руб.')\n",
    "print('lower =', lower_0.round(), 'руб.')\n",
    "print('upper =', upper_0.round(), 'руб.')\n",
    "print('Риск убытков = {:.2%}'.format(loss_risk_0))"
   ]
  },
  {
   "cell_type": "code",
   "execution_count": 29,
   "metadata": {},
   "outputs": [
    {
     "name": "stdout",
     "output_type": "stream",
     "text": [
      "Средняя прибыль = 461155817.0 руб.\n",
      "lower = 78050811.0 руб.\n",
      "upper = 862952060.0 руб.\n",
      "Риск убытков = 0.70%\n"
     ]
    }
   ],
   "source": [
    "avg_gross_profit_1, lower_1, upper_1, loss_risk_1 = bootstrap(df_product_1['product'], df_product_1['predictions'])\n",
    "\n",
    "print('Средняя прибыль =', avg_gross_profit_1.round(), 'руб.')\n",
    "print('lower =', lower_1.round(), 'руб.')\n",
    "print('upper =', upper_1.round(), 'руб.')\n",
    "print('Риск убытков = {:.2%}'.format(loss_risk_1))"
   ]
  },
  {
   "cell_type": "code",
   "execution_count": 30,
   "metadata": {},
   "outputs": [
    {
     "name": "stdout",
     "output_type": "stream",
     "text": [
      "Средняя прибыль = 392950475.0 руб.\n",
      "lower = -112227625.0 руб.\n",
      "upper = 934562915.0 руб.\n",
      "Риск убытков = 6.50%\n"
     ]
    }
   ],
   "source": [
    "avg_gross_profit_2, lower_2, upper_2, loss_risk_2 = bootstrap(df_product_2['product'], df_product_2['predictions'])\n",
    "\n",
    "print('Средняя прибыль =', avg_gross_profit_2.round(), 'руб.')\n",
    "print('lower =', lower_2.round(), 'руб.')\n",
    "print('upper =', upper_2.round(), 'руб.')\n",
    "print('Риск убытков = {:.2%}'.format(loss_risk_2))"
   ]
  },
  {
   "cell_type": "markdown",
   "metadata": {},
   "source": [
    "**Вывод**\n",
    "\n",
    "Согласно полученных данных риск убытков в регионах geo_data_0 и geo_data_2 выше порогового уровня в 5%.\n",
    "\n",
    "Риск убытков по региону geo_data_1 ниже порогового уровня, при этом нижний порог (lower) доверительного интервала > 0, т.е. даже при неудачном выборе скважин разработка будет прибыльной."
   ]
  },
  {
   "cell_type": "markdown",
   "metadata": {},
   "source": [
    "## Чек-лист готовности проекта"
   ]
  },
  {
   "cell_type": "markdown",
   "metadata": {},
   "source": [
    "Поставьте 'x' в выполненных пунктах. Далее нажмите Shift+Enter."
   ]
  },
  {
   "cell_type": "markdown",
   "metadata": {},
   "source": [
    "- [x]  Jupyter Notebook открыт\n",
    "- [x]  Весь код выполняется без ошибок\n",
    "- [x]  Ячейки с кодом расположены в порядке исполнения\n",
    "- [x]  Выполнен шаг 1: данные подготовлены\n",
    "- [x]  Выполнен шаг 2: модели обучены и проверены\n",
    "    - [x]  Данные корректно разбиты на обучающую и валидационную выборки\n",
    "    - [x]  Модели обучены, предсказания сделаны\n",
    "    - [x]  Предсказания и правильные ответы на валидационной выборке сохранены\n",
    "    - [x]  На экране напечатаны результаты\n",
    "    - [x]  Сделаны выводы\n",
    "- [x]  Выполнен шаг 3: проведена подготовка к расчёту прибыли\n",
    "    - [x]  Для всех ключевых значений созданы константы Python\n",
    "    - [x]  Посчитано минимальное среднее количество продукта в месторождениях региона, достаточное для разработки\n",
    "    - [x]  По предыдущему пункту сделаны выводы\n",
    "    - [x]  Написана функция расчёта прибыли\n",
    "- [x]  Выполнен шаг 4: посчитаны риски и прибыль\n",
    "    - [x]  Проведена процедура *Bootstrap*\n",
    "    - [x]  Все параметры бутстрепа соответствуют условию\n",
    "    - [x]  Найдены все нужные величины\n",
    "    - [x]  Предложен регион для разработки месторождения\n",
    "    - [x]  Выбор региона обоснован"
   ]
  }
 ],
 "metadata": {
  "ExecuteTimeLog": [
   {
    "duration": 2302,
    "start_time": "2022-05-16T06:12:45.647Z"
   },
   {
    "duration": 158,
    "start_time": "2022-05-16T06:28:30.311Z"
   },
   {
    "duration": 6,
    "start_time": "2022-05-16T06:29:26.063Z"
   },
   {
    "duration": 162,
    "start_time": "2022-05-16T06:29:26.471Z"
   },
   {
    "duration": 151,
    "start_time": "2022-05-16T06:30:11.335Z"
   },
   {
    "duration": 149,
    "start_time": "2022-05-16T06:31:00.162Z"
   },
   {
    "duration": 232,
    "start_time": "2022-05-16T06:31:17.579Z"
   },
   {
    "duration": 31,
    "start_time": "2022-05-16T06:34:19.671Z"
   },
   {
    "duration": 37,
    "start_time": "2022-05-16T06:34:39.421Z"
   },
   {
    "duration": 33,
    "start_time": "2022-05-16T06:34:49.295Z"
   },
   {
    "duration": 32,
    "start_time": "2022-05-16T06:35:53.896Z"
   },
   {
    "duration": 29,
    "start_time": "2022-05-16T06:36:41.815Z"
   },
   {
    "duration": 349,
    "start_time": "2022-05-16T07:33:43.253Z"
   },
   {
    "duration": 47,
    "start_time": "2022-05-16T08:06:17.071Z"
   },
   {
    "duration": 74,
    "start_time": "2022-05-16T08:07:23.972Z"
   },
   {
    "duration": 4,
    "start_time": "2022-05-16T08:11:08.234Z"
   },
   {
    "duration": 4,
    "start_time": "2022-05-16T08:11:25.268Z"
   },
   {
    "duration": 154,
    "start_time": "2022-05-16T08:11:26.170Z"
   },
   {
    "duration": 72,
    "start_time": "2022-05-16T08:11:48.053Z"
   },
   {
    "duration": 4,
    "start_time": "2022-05-16T08:17:07.457Z"
   },
   {
    "duration": 72,
    "start_time": "2022-05-16T08:17:58.547Z"
   },
   {
    "duration": 70,
    "start_time": "2022-05-16T08:18:36.713Z"
   },
   {
    "duration": 5,
    "start_time": "2022-05-16T08:19:40.487Z"
   },
   {
    "duration": 154,
    "start_time": "2022-05-16T08:19:40.495Z"
   },
   {
    "duration": 155,
    "start_time": "2022-05-16T08:19:40.651Z"
   },
   {
    "duration": 152,
    "start_time": "2022-05-16T08:19:40.808Z"
   },
   {
    "duration": 4,
    "start_time": "2022-05-16T08:19:40.963Z"
   },
   {
    "duration": 83,
    "start_time": "2022-05-16T08:19:40.969Z"
   },
   {
    "duration": 89,
    "start_time": "2022-05-16T08:19:41.054Z"
   },
   {
    "duration": 93,
    "start_time": "2022-05-16T08:19:41.145Z"
   },
   {
    "duration": 152,
    "start_time": "2022-05-16T08:22:29.329Z"
   },
   {
    "duration": 144,
    "start_time": "2022-05-16T08:22:32.320Z"
   },
   {
    "duration": 5,
    "start_time": "2022-05-16T08:22:41.085Z"
   },
   {
    "duration": 168,
    "start_time": "2022-05-16T08:22:41.093Z"
   },
   {
    "duration": 147,
    "start_time": "2022-05-16T08:22:41.263Z"
   },
   {
    "duration": 144,
    "start_time": "2022-05-16T08:22:47.147Z"
   },
   {
    "duration": 145,
    "start_time": "2022-05-16T08:22:48.491Z"
   },
   {
    "duration": 4,
    "start_time": "2022-05-16T08:22:50.297Z"
   },
   {
    "duration": 78,
    "start_time": "2022-05-16T08:22:51.861Z"
   },
   {
    "duration": 71,
    "start_time": "2022-05-16T08:22:55.105Z"
   },
   {
    "duration": 70,
    "start_time": "2022-05-16T08:22:56.427Z"
   },
   {
    "duration": 9,
    "start_time": "2022-05-16T08:35:35.632Z"
   },
   {
    "duration": 24,
    "start_time": "2022-05-16T08:35:56.347Z"
   },
   {
    "duration": 6,
    "start_time": "2022-05-16T08:36:11.496Z"
   },
   {
    "duration": 153,
    "start_time": "2022-05-16T08:36:11.504Z"
   },
   {
    "duration": 150,
    "start_time": "2022-05-16T08:36:11.659Z"
   },
   {
    "duration": 151,
    "start_time": "2022-05-16T08:36:11.811Z"
   },
   {
    "duration": 4,
    "start_time": "2022-05-16T08:36:11.965Z"
   },
   {
    "duration": 80,
    "start_time": "2022-05-16T08:36:11.971Z"
   },
   {
    "duration": 89,
    "start_time": "2022-05-16T08:36:12.053Z"
   },
   {
    "duration": 94,
    "start_time": "2022-05-16T08:36:12.144Z"
   },
   {
    "duration": 8,
    "start_time": "2022-05-16T08:36:17.216Z"
   },
   {
    "duration": 20,
    "start_time": "2022-05-16T08:36:56.133Z"
   },
   {
    "duration": 5,
    "start_time": "2022-05-16T08:37:01.902Z"
   },
   {
    "duration": 180,
    "start_time": "2022-05-16T08:37:01.909Z"
   },
   {
    "duration": 152,
    "start_time": "2022-05-16T08:37:02.092Z"
   },
   {
    "duration": 152,
    "start_time": "2022-05-16T08:37:02.246Z"
   },
   {
    "duration": 4,
    "start_time": "2022-05-16T08:37:02.401Z"
   },
   {
    "duration": 89,
    "start_time": "2022-05-16T08:37:02.407Z"
   },
   {
    "duration": 90,
    "start_time": "2022-05-16T08:37:02.498Z"
   },
   {
    "duration": 69,
    "start_time": "2022-05-16T08:37:02.591Z"
   },
   {
    "duration": 16,
    "start_time": "2022-05-16T08:37:05.960Z"
   },
   {
    "duration": 6,
    "start_time": "2022-05-16T09:15:56.676Z"
   },
   {
    "duration": 15,
    "start_time": "2022-05-16T09:17:13.973Z"
   },
   {
    "duration": 5,
    "start_time": "2022-05-16T09:18:15.486Z"
   },
   {
    "duration": 10,
    "start_time": "2022-05-16T09:18:15.930Z"
   },
   {
    "duration": 25,
    "start_time": "2022-05-16T09:18:33.599Z"
   },
   {
    "duration": 46,
    "start_time": "2022-05-16T09:22:24.540Z"
   },
   {
    "duration": 49,
    "start_time": "2022-05-16T09:25:11.749Z"
   },
   {
    "duration": 38,
    "start_time": "2022-05-16T09:26:07.452Z"
   },
   {
    "duration": 5,
    "start_time": "2022-05-16T09:26:29.467Z"
   },
   {
    "duration": 36,
    "start_time": "2022-05-16T09:26:30.674Z"
   },
   {
    "duration": 105,
    "start_time": "2022-05-16T09:31:50.960Z"
   },
   {
    "duration": 5,
    "start_time": "2022-05-16T09:40:47.684Z"
   },
   {
    "duration": 5,
    "start_time": "2022-05-16T09:42:55.391Z"
   },
   {
    "duration": 4,
    "start_time": "2022-05-16T09:43:42.209Z"
   },
   {
    "duration": 4,
    "start_time": "2022-05-16T09:45:01.264Z"
   },
   {
    "duration": 4,
    "start_time": "2022-05-16T09:45:03.145Z"
   },
   {
    "duration": 4,
    "start_time": "2022-05-16T09:46:52.657Z"
   },
   {
    "duration": 4,
    "start_time": "2022-05-16T09:47:03.865Z"
   },
   {
    "duration": 15,
    "start_time": "2022-05-16T09:47:06.294Z"
   },
   {
    "duration": 4,
    "start_time": "2022-05-16T09:50:47.433Z"
   },
   {
    "duration": 143,
    "start_time": "2022-05-16T09:50:47.440Z"
   },
   {
    "duration": 157,
    "start_time": "2022-05-16T09:50:47.585Z"
   },
   {
    "duration": 145,
    "start_time": "2022-05-16T09:50:47.745Z"
   },
   {
    "duration": 4,
    "start_time": "2022-05-16T09:50:47.893Z"
   },
   {
    "duration": 93,
    "start_time": "2022-05-16T09:50:47.899Z"
   },
   {
    "duration": 88,
    "start_time": "2022-05-16T09:50:47.994Z"
   },
   {
    "duration": 71,
    "start_time": "2022-05-16T09:50:48.084Z"
   },
   {
    "duration": 37,
    "start_time": "2022-05-16T09:50:48.157Z"
   },
   {
    "duration": 7,
    "start_time": "2022-05-16T09:50:48.196Z"
   },
   {
    "duration": 36,
    "start_time": "2022-05-16T09:50:48.206Z"
   },
   {
    "duration": 5,
    "start_time": "2022-05-16T09:50:48.244Z"
   },
   {
    "duration": 31,
    "start_time": "2022-05-16T09:50:48.251Z"
   },
   {
    "duration": 4,
    "start_time": "2022-05-16T09:50:51.684Z"
   },
   {
    "duration": 16,
    "start_time": "2022-05-16T09:50:52.406Z"
   },
   {
    "duration": 15,
    "start_time": "2022-05-16T09:51:23.099Z"
   },
   {
    "duration": 4,
    "start_time": "2022-05-16T09:54:21.807Z"
   },
   {
    "duration": 6,
    "start_time": "2022-05-16T09:54:22.319Z"
   },
   {
    "duration": 84,
    "start_time": "2022-05-16T09:54:23.111Z"
   },
   {
    "duration": 38,
    "start_time": "2022-05-16T09:55:08.961Z"
   },
   {
    "duration": 6,
    "start_time": "2022-05-16T09:57:04.784Z"
   },
   {
    "duration": 12,
    "start_time": "2022-05-16T09:57:05.346Z"
   },
   {
    "duration": 39,
    "start_time": "2022-05-16T09:57:22.065Z"
   },
   {
    "duration": 39,
    "start_time": "2022-05-16T09:59:59.616Z"
   },
   {
    "duration": 6,
    "start_time": "2022-05-16T10:00:17.733Z"
   },
   {
    "duration": 41,
    "start_time": "2022-05-16T10:00:18.230Z"
   },
   {
    "duration": 33,
    "start_time": "2022-05-16T10:00:43.461Z"
   },
   {
    "duration": 36,
    "start_time": "2022-05-16T10:02:23.339Z"
   },
   {
    "duration": 35,
    "start_time": "2022-05-16T10:02:26.987Z"
   },
   {
    "duration": 35,
    "start_time": "2022-05-16T10:02:27.769Z"
   },
   {
    "duration": 5,
    "start_time": "2022-05-16T10:45:33.026Z"
   },
   {
    "duration": 19,
    "start_time": "2022-05-16T10:47:22.336Z"
   },
   {
    "duration": 4,
    "start_time": "2022-05-16T10:47:49.385Z"
   },
   {
    "duration": 16,
    "start_time": "2022-05-16T10:47:50.258Z"
   },
   {
    "duration": 4,
    "start_time": "2022-05-16T10:50:08.879Z"
   },
   {
    "duration": 15,
    "start_time": "2022-05-16T10:50:09.820Z"
   },
   {
    "duration": 160,
    "start_time": "2022-05-16T10:51:29.237Z"
   },
   {
    "duration": 27,
    "start_time": "2022-05-16T10:51:45.555Z"
   },
   {
    "duration": 17,
    "start_time": "2022-05-16T10:52:01.211Z"
   },
   {
    "duration": 238,
    "start_time": "2022-05-16T10:55:07.548Z"
   },
   {
    "duration": 275,
    "start_time": "2022-05-16T10:55:32.507Z"
   },
   {
    "duration": 307,
    "start_time": "2022-05-16T10:55:43.481Z"
   },
   {
    "duration": 260,
    "start_time": "2022-05-16T10:56:38.023Z"
   },
   {
    "duration": 12,
    "start_time": "2022-05-16T11:10:56.897Z"
   },
   {
    "duration": 5,
    "start_time": "2022-05-16T11:11:03.359Z"
   },
   {
    "duration": 22,
    "start_time": "2022-05-16T11:11:04.891Z"
   },
   {
    "duration": 94,
    "start_time": "2022-05-16T11:12:36.989Z"
   },
   {
    "duration": 17,
    "start_time": "2022-05-16T11:12:49.430Z"
   },
   {
    "duration": 17,
    "start_time": "2022-05-16T11:12:55.072Z"
   },
   {
    "duration": 412,
    "start_time": "2022-05-16T11:15:51.781Z"
   },
   {
    "duration": 7,
    "start_time": "2022-05-17T10:27:11.746Z"
   },
   {
    "duration": 1696,
    "start_time": "2022-05-17T10:27:24.075Z"
   },
   {
    "duration": 122,
    "start_time": "2022-05-17T10:27:25.773Z"
   },
   {
    "duration": 116,
    "start_time": "2022-05-17T10:27:25.897Z"
   },
   {
    "duration": 114,
    "start_time": "2022-05-17T10:27:26.014Z"
   },
   {
    "duration": 3,
    "start_time": "2022-05-17T10:27:26.130Z"
   },
   {
    "duration": 102,
    "start_time": "2022-05-17T10:27:26.142Z"
   },
   {
    "duration": 0,
    "start_time": "2022-05-17T10:27:26.245Z"
   },
   {
    "duration": 0,
    "start_time": "2022-05-17T10:27:26.246Z"
   },
   {
    "duration": 0,
    "start_time": "2022-05-17T10:27:26.247Z"
   },
   {
    "duration": 0,
    "start_time": "2022-05-17T10:27:26.248Z"
   },
   {
    "duration": 0,
    "start_time": "2022-05-17T10:27:26.249Z"
   },
   {
    "duration": 0,
    "start_time": "2022-05-17T10:27:26.250Z"
   },
   {
    "duration": 0,
    "start_time": "2022-05-17T10:27:26.251Z"
   },
   {
    "duration": 0,
    "start_time": "2022-05-17T10:27:26.252Z"
   },
   {
    "duration": 0,
    "start_time": "2022-05-17T10:27:26.252Z"
   },
   {
    "duration": 0,
    "start_time": "2022-05-17T10:27:26.253Z"
   },
   {
    "duration": 4,
    "start_time": "2022-05-17T10:28:15.005Z"
   },
   {
    "duration": 4,
    "start_time": "2022-05-17T10:28:39.075Z"
   },
   {
    "duration": 137,
    "start_time": "2022-05-17T10:28:39.080Z"
   },
   {
    "duration": 147,
    "start_time": "2022-05-17T10:28:39.219Z"
   },
   {
    "duration": 148,
    "start_time": "2022-05-17T10:28:39.368Z"
   },
   {
    "duration": 3,
    "start_time": "2022-05-17T10:28:39.518Z"
   },
   {
    "duration": 88,
    "start_time": "2022-05-17T10:28:39.523Z"
   },
   {
    "duration": 0,
    "start_time": "2022-05-17T10:28:39.613Z"
   },
   {
    "duration": 0,
    "start_time": "2022-05-17T10:28:39.614Z"
   },
   {
    "duration": 0,
    "start_time": "2022-05-17T10:28:39.615Z"
   },
   {
    "duration": 0,
    "start_time": "2022-05-17T10:28:39.616Z"
   },
   {
    "duration": 0,
    "start_time": "2022-05-17T10:28:39.617Z"
   },
   {
    "duration": 0,
    "start_time": "2022-05-17T10:28:39.618Z"
   },
   {
    "duration": 0,
    "start_time": "2022-05-17T10:28:39.620Z"
   },
   {
    "duration": 0,
    "start_time": "2022-05-17T10:28:39.643Z"
   },
   {
    "duration": 0,
    "start_time": "2022-05-17T10:28:39.644Z"
   },
   {
    "duration": 0,
    "start_time": "2022-05-17T10:28:39.646Z"
   },
   {
    "duration": 4,
    "start_time": "2022-05-17T10:29:08.980Z"
   },
   {
    "duration": 88,
    "start_time": "2022-05-17T10:29:11.534Z"
   },
   {
    "duration": 88,
    "start_time": "2022-05-17T10:29:19.404Z"
   },
   {
    "duration": 87,
    "start_time": "2022-05-17T10:29:23.126Z"
   },
   {
    "duration": 13,
    "start_time": "2022-05-17T10:29:28.478Z"
   },
   {
    "duration": 3,
    "start_time": "2022-05-17T10:29:33.326Z"
   },
   {
    "duration": 4,
    "start_time": "2022-05-17T10:29:46.339Z"
   },
   {
    "duration": 28,
    "start_time": "2022-05-17T10:29:46.345Z"
   },
   {
    "duration": 23,
    "start_time": "2022-05-17T10:29:46.375Z"
   },
   {
    "duration": 44,
    "start_time": "2022-05-17T10:29:46.400Z"
   },
   {
    "duration": 3,
    "start_time": "2022-05-17T10:29:46.446Z"
   },
   {
    "duration": 180,
    "start_time": "2022-05-17T10:29:52.370Z"
   },
   {
    "duration": 45,
    "start_time": "2022-05-17T10:41:30.895Z"
   },
   {
    "duration": 34,
    "start_time": "2022-05-17T10:42:28.144Z"
   },
   {
    "duration": 3,
    "start_time": "2022-05-17T10:46:27.993Z"
   },
   {
    "duration": 31,
    "start_time": "2022-05-17T10:47:47.955Z"
   },
   {
    "duration": 3,
    "start_time": "2022-05-17T10:48:07.235Z"
   },
   {
    "duration": 30,
    "start_time": "2022-05-17T10:48:07.922Z"
   },
   {
    "duration": 3,
    "start_time": "2022-05-17T10:48:34.503Z"
   },
   {
    "duration": 33,
    "start_time": "2022-05-17T10:48:34.508Z"
   },
   {
    "duration": 2,
    "start_time": "2022-05-17T10:49:41.395Z"
   },
   {
    "duration": 57,
    "start_time": "2022-05-17T10:49:41.905Z"
   },
   {
    "duration": 9,
    "start_time": "2022-05-17T10:50:11.759Z"
   },
   {
    "duration": 57,
    "start_time": "2022-05-17T10:51:07.217Z"
   },
   {
    "duration": 51,
    "start_time": "2022-05-18T04:38:52.746Z"
   },
   {
    "duration": 1453,
    "start_time": "2022-05-18T04:38:58.753Z"
   },
   {
    "duration": 321,
    "start_time": "2022-05-18T04:39:00.207Z"
   },
   {
    "duration": 178,
    "start_time": "2022-05-18T04:39:00.530Z"
   },
   {
    "duration": 165,
    "start_time": "2022-05-18T04:39:00.709Z"
   },
   {
    "duration": 4,
    "start_time": "2022-05-18T04:39:00.875Z"
   },
   {
    "duration": 116,
    "start_time": "2022-05-18T04:39:00.880Z"
   },
   {
    "duration": 98,
    "start_time": "2022-05-18T04:39:00.998Z"
   },
   {
    "duration": 101,
    "start_time": "2022-05-18T04:39:01.098Z"
   },
   {
    "duration": 2,
    "start_time": "2022-05-18T04:39:01.201Z"
   },
   {
    "duration": 66,
    "start_time": "2022-05-18T04:39:01.204Z"
   },
   {
    "duration": 52,
    "start_time": "2022-05-18T04:39:01.272Z"
   },
   {
    "duration": 8,
    "start_time": "2022-05-18T04:39:01.325Z"
   },
   {
    "duration": 71,
    "start_time": "2022-05-18T04:39:01.334Z"
   },
   {
    "duration": 14,
    "start_time": "2022-05-18T04:39:01.408Z"
   },
   {
    "duration": 39,
    "start_time": "2022-05-18T04:39:01.423Z"
   },
   {
    "duration": 32,
    "start_time": "2022-05-18T04:39:01.464Z"
   },
   {
    "duration": 50,
    "start_time": "2022-05-18T04:39:01.497Z"
   },
   {
    "duration": 23,
    "start_time": "2022-05-18T04:39:01.548Z"
   },
   {
    "duration": 22,
    "start_time": "2022-05-18T04:39:01.572Z"
   },
   {
    "duration": 7,
    "start_time": "2022-05-18T04:39:01.596Z"
   },
   {
    "duration": 194,
    "start_time": "2022-05-18T04:39:01.604Z"
   },
   {
    "duration": 58,
    "start_time": "2022-05-18T04:39:43.304Z"
   },
   {
    "duration": 51,
    "start_time": "2022-05-18T04:49:44.877Z"
   },
   {
    "duration": 2,
    "start_time": "2022-05-18T05:24:02.448Z"
   },
   {
    "duration": 3,
    "start_time": "2022-05-18T05:40:51.184Z"
   },
   {
    "duration": 4,
    "start_time": "2022-05-18T05:41:33.675Z"
   },
   {
    "duration": 61,
    "start_time": "2022-05-18T05:47:48.358Z"
   },
   {
    "duration": 2,
    "start_time": "2022-05-18T05:47:56.395Z"
   },
   {
    "duration": 3,
    "start_time": "2022-05-18T05:47:57.102Z"
   },
   {
    "duration": 39,
    "start_time": "2022-05-18T05:51:04.217Z"
   },
   {
    "duration": 5,
    "start_time": "2022-05-18T05:54:19.503Z"
   },
   {
    "duration": 6,
    "start_time": "2022-05-18T05:54:40.801Z"
   },
   {
    "duration": 3,
    "start_time": "2022-05-18T06:36:48.385Z"
   },
   {
    "duration": 314,
    "start_time": "2022-05-18T06:36:48.390Z"
   },
   {
    "duration": 151,
    "start_time": "2022-05-18T06:36:48.706Z"
   },
   {
    "duration": 130,
    "start_time": "2022-05-18T06:36:48.859Z"
   },
   {
    "duration": 4,
    "start_time": "2022-05-18T06:36:48.991Z"
   },
   {
    "duration": 125,
    "start_time": "2022-05-18T06:36:48.996Z"
   },
   {
    "duration": 94,
    "start_time": "2022-05-18T06:36:49.123Z"
   },
   {
    "duration": 100,
    "start_time": "2022-05-18T06:36:49.218Z"
   },
   {
    "duration": 2,
    "start_time": "2022-05-18T06:36:49.320Z"
   },
   {
    "duration": 53,
    "start_time": "2022-05-18T06:36:49.324Z"
   },
   {
    "duration": 65,
    "start_time": "2022-05-18T06:36:49.378Z"
   },
   {
    "duration": 7,
    "start_time": "2022-05-18T06:36:49.445Z"
   },
   {
    "duration": 66,
    "start_time": "2022-05-18T06:36:49.454Z"
   },
   {
    "duration": 48,
    "start_time": "2022-05-18T06:36:49.522Z"
   },
   {
    "duration": 26,
    "start_time": "2022-05-18T06:36:49.572Z"
   },
   {
    "duration": 7,
    "start_time": "2022-05-18T06:36:49.599Z"
   },
   {
    "duration": 5,
    "start_time": "2022-05-18T06:36:49.607Z"
   },
   {
    "duration": 27,
    "start_time": "2022-05-18T06:36:49.614Z"
   },
   {
    "duration": 21,
    "start_time": "2022-05-18T06:36:49.642Z"
   },
   {
    "duration": 43,
    "start_time": "2022-05-18T06:36:49.664Z"
   },
   {
    "duration": 3,
    "start_time": "2022-05-18T06:36:49.708Z"
   },
   {
    "duration": 186,
    "start_time": "2022-05-18T06:36:49.712Z"
   },
   {
    "duration": 3,
    "start_time": "2022-05-18T06:36:49.900Z"
   },
   {
    "duration": 10,
    "start_time": "2022-05-18T06:36:49.995Z"
   },
   {
    "duration": 88,
    "start_time": "2022-05-18T06:36:50.007Z"
   },
   {
    "duration": 3,
    "start_time": "2022-05-18T06:38:53.252Z"
   },
   {
    "duration": 6,
    "start_time": "2022-05-18T06:38:55.425Z"
   },
   {
    "duration": 48,
    "start_time": "2022-05-18T06:48:32.705Z"
   },
   {
    "duration": 3,
    "start_time": "2022-05-18T07:04:36.489Z"
   },
   {
    "duration": 5,
    "start_time": "2022-05-18T07:28:40.271Z"
   },
   {
    "duration": 7,
    "start_time": "2022-05-18T09:15:42.804Z"
   },
   {
    "duration": 3,
    "start_time": "2022-05-18T09:18:23.113Z"
   },
   {
    "duration": 5,
    "start_time": "2022-05-18T09:41:30.132Z"
   },
   {
    "duration": 4,
    "start_time": "2022-05-18T09:43:01.551Z"
   },
   {
    "duration": 16,
    "start_time": "2022-05-18T09:53:36.137Z"
   },
   {
    "duration": 5,
    "start_time": "2022-05-18T09:56:26.984Z"
   },
   {
    "duration": 16,
    "start_time": "2022-05-18T09:56:28.113Z"
   },
   {
    "duration": 6,
    "start_time": "2022-05-18T10:00:14.447Z"
   },
   {
    "duration": 18,
    "start_time": "2022-05-18T10:00:25.491Z"
   },
   {
    "duration": 5,
    "start_time": "2022-05-18T10:02:56.824Z"
   },
   {
    "duration": 5,
    "start_time": "2022-05-18T10:03:25.146Z"
   },
   {
    "duration": 12,
    "start_time": "2022-05-18T10:03:25.557Z"
   },
   {
    "duration": 13,
    "start_time": "2022-05-18T10:04:14.832Z"
   },
   {
    "duration": 5,
    "start_time": "2022-05-18T10:13:16.872Z"
   },
   {
    "duration": 5,
    "start_time": "2022-05-18T10:13:29.029Z"
   },
   {
    "duration": 16,
    "start_time": "2022-05-18T10:13:48.493Z"
   },
   {
    "duration": 5,
    "start_time": "2022-05-18T10:14:03.433Z"
   },
   {
    "duration": 4,
    "start_time": "2022-05-18T10:24:01.437Z"
   },
   {
    "duration": 185,
    "start_time": "2022-05-18T10:24:13.720Z"
   },
   {
    "duration": 28,
    "start_time": "2022-05-18T10:24:39.886Z"
   },
   {
    "duration": 6,
    "start_time": "2022-05-18T10:24:59.390Z"
   },
   {
    "duration": 5,
    "start_time": "2022-05-18T10:25:35.156Z"
   },
   {
    "duration": 29,
    "start_time": "2022-05-18T10:25:35.676Z"
   },
   {
    "duration": 4,
    "start_time": "2022-05-18T10:32:07.762Z"
   },
   {
    "duration": 5,
    "start_time": "2022-05-18T10:35:04.948Z"
   },
   {
    "duration": 182,
    "start_time": "2022-05-18T10:36:13.924Z"
   },
   {
    "duration": 226,
    "start_time": "2022-05-18T10:39:10.885Z"
   },
   {
    "duration": 203,
    "start_time": "2022-05-18T10:42:40.394Z"
   },
   {
    "duration": 129,
    "start_time": "2022-05-18T10:42:57.887Z"
   },
   {
    "duration": 178,
    "start_time": "2022-05-18T10:43:47.224Z"
   },
   {
    "duration": 7,
    "start_time": "2022-05-18T10:45:55.507Z"
   },
   {
    "duration": 107,
    "start_time": "2022-05-18T10:45:56.193Z"
   },
   {
    "duration": 45,
    "start_time": "2022-05-18T10:47:03.957Z"
   },
   {
    "duration": 4,
    "start_time": "2022-05-18T10:47:56.949Z"
   },
   {
    "duration": 31,
    "start_time": "2022-05-18T10:47:57.377Z"
   },
   {
    "duration": 63,
    "start_time": "2022-05-18T10:48:25.038Z"
   },
   {
    "duration": 122,
    "start_time": "2022-05-18T10:49:26.590Z"
   },
   {
    "duration": 4,
    "start_time": "2022-05-18T10:50:44.918Z"
   },
   {
    "duration": 31,
    "start_time": "2022-05-18T10:50:45.707Z"
   },
   {
    "duration": 5,
    "start_time": "2022-05-18T10:53:53.097Z"
   },
   {
    "duration": 31,
    "start_time": "2022-05-18T10:53:53.571Z"
   },
   {
    "duration": 18,
    "start_time": "2022-05-18T10:54:08.495Z"
   },
   {
    "duration": 5,
    "start_time": "2022-05-18T10:54:20.422Z"
   },
   {
    "duration": 20,
    "start_time": "2022-05-18T10:54:20.950Z"
   },
   {
    "duration": 4,
    "start_time": "2022-05-18T10:55:45.541Z"
   },
   {
    "duration": 18,
    "start_time": "2022-05-18T10:55:47.053Z"
   },
   {
    "duration": 16,
    "start_time": "2022-05-18T10:56:29.622Z"
   },
   {
    "duration": 4,
    "start_time": "2022-05-18T10:57:57.660Z"
   },
   {
    "duration": 15,
    "start_time": "2022-05-18T10:57:58.698Z"
   },
   {
    "duration": 4,
    "start_time": "2022-05-18T10:58:18.303Z"
   },
   {
    "duration": 15,
    "start_time": "2022-05-18T10:58:19.381Z"
   },
   {
    "duration": 5,
    "start_time": "2022-05-18T10:58:36.420Z"
   },
   {
    "duration": 15,
    "start_time": "2022-05-18T10:58:37.155Z"
   },
   {
    "duration": 5,
    "start_time": "2022-05-18T10:58:58.019Z"
   },
   {
    "duration": 1013,
    "start_time": "2022-05-18T10:58:58.600Z"
   },
   {
    "duration": 982,
    "start_time": "2022-05-18T10:59:52.792Z"
   },
   {
    "duration": 5,
    "start_time": "2022-05-18T11:01:52.911Z"
   },
   {
    "duration": 883,
    "start_time": "2022-05-18T11:01:53.688Z"
   },
   {
    "duration": 3,
    "start_time": "2022-05-18T11:02:28.904Z"
   },
   {
    "duration": 4,
    "start_time": "2022-05-18T11:02:34.658Z"
   },
   {
    "duration": 712,
    "start_time": "2022-05-18T11:02:35.215Z"
   },
   {
    "duration": 2,
    "start_time": "2022-05-18T11:03:00.250Z"
   },
   {
    "duration": 4,
    "start_time": "2022-05-18T11:03:59.560Z"
   },
   {
    "duration": 831,
    "start_time": "2022-05-18T11:04:00.958Z"
   },
   {
    "duration": 872,
    "start_time": "2022-05-18T11:05:12.946Z"
   },
   {
    "duration": 4,
    "start_time": "2022-05-18T11:07:40.746Z"
   },
   {
    "duration": 19,
    "start_time": "2022-05-18T11:07:45.370Z"
   },
   {
    "duration": 3,
    "start_time": "2022-05-18T11:12:09.669Z"
   },
   {
    "duration": 16,
    "start_time": "2022-05-18T11:12:12.182Z"
   },
   {
    "duration": 87,
    "start_time": "2022-05-18T11:13:56.710Z"
   },
   {
    "duration": 61,
    "start_time": "2022-05-18T11:14:47.242Z"
   },
   {
    "duration": 782,
    "start_time": "2022-05-18T11:17:46.155Z"
   },
   {
    "duration": 866,
    "start_time": "2022-05-18T11:19:08.844Z"
   },
   {
    "duration": 846,
    "start_time": "2022-05-18T11:54:40.058Z"
   },
   {
    "duration": 848,
    "start_time": "2022-05-18T11:54:48.134Z"
   },
   {
    "duration": 828,
    "start_time": "2022-05-18T11:54:59.518Z"
   },
   {
    "duration": 779,
    "start_time": "2022-05-18T11:55:10.710Z"
   },
   {
    "duration": 902,
    "start_time": "2022-05-18T11:55:28.811Z"
   },
   {
    "duration": 938,
    "start_time": "2022-05-18T11:57:44.804Z"
   },
   {
    "duration": 913,
    "start_time": "2022-05-18T11:58:07.973Z"
   },
   {
    "duration": 919,
    "start_time": "2022-05-18T11:58:47.942Z"
   },
   {
    "duration": 8,
    "start_time": "2022-05-18T11:59:37.813Z"
   },
   {
    "duration": 902,
    "start_time": "2022-05-18T11:59:39.457Z"
   },
   {
    "duration": 787,
    "start_time": "2022-05-18T11:59:47.179Z"
   },
   {
    "duration": 913,
    "start_time": "2022-05-18T12:00:06.946Z"
   },
   {
    "duration": 1421,
    "start_time": "2022-05-19T04:59:58.816Z"
   },
   {
    "duration": 388,
    "start_time": "2022-05-19T05:00:00.239Z"
   },
   {
    "duration": 203,
    "start_time": "2022-05-19T05:00:00.629Z"
   },
   {
    "duration": 201,
    "start_time": "2022-05-19T05:00:00.834Z"
   },
   {
    "duration": 3,
    "start_time": "2022-05-19T05:00:01.037Z"
   },
   {
    "duration": 157,
    "start_time": "2022-05-19T05:00:01.041Z"
   },
   {
    "duration": 125,
    "start_time": "2022-05-19T05:00:01.199Z"
   },
   {
    "duration": 128,
    "start_time": "2022-05-19T05:00:01.325Z"
   },
   {
    "duration": 4,
    "start_time": "2022-05-19T05:00:01.465Z"
   },
   {
    "duration": 82,
    "start_time": "2022-05-19T05:00:01.473Z"
   },
   {
    "duration": 67,
    "start_time": "2022-05-19T05:00:01.557Z"
   },
   {
    "duration": 54,
    "start_time": "2022-05-19T05:00:01.627Z"
   },
   {
    "duration": 85,
    "start_time": "2022-05-19T05:00:01.684Z"
   },
   {
    "duration": 65,
    "start_time": "2022-05-19T05:00:01.772Z"
   },
   {
    "duration": 35,
    "start_time": "2022-05-19T05:00:01.839Z"
   },
   {
    "duration": 26,
    "start_time": "2022-05-19T05:00:01.876Z"
   },
   {
    "duration": 25,
    "start_time": "2022-05-19T05:00:01.904Z"
   },
   {
    "duration": 120,
    "start_time": "2022-05-19T05:00:01.931Z"
   },
   {
    "duration": 31,
    "start_time": "2022-05-19T05:00:02.052Z"
   },
   {
    "duration": 31,
    "start_time": "2022-05-19T05:00:02.084Z"
   },
   {
    "duration": 4,
    "start_time": "2022-05-19T05:00:02.117Z"
   },
   {
    "duration": 143,
    "start_time": "2022-05-19T05:00:02.123Z"
   },
   {
    "duration": 198,
    "start_time": "2022-05-19T05:00:02.268Z"
   },
   {
    "duration": 198,
    "start_time": "2022-05-19T05:00:02.468Z"
   },
   {
    "duration": 4,
    "start_time": "2022-05-19T05:00:02.668Z"
   },
   {
    "duration": 240,
    "start_time": "2022-05-19T05:00:02.674Z"
   },
   {
    "duration": 0,
    "start_time": "2022-05-19T05:00:02.919Z"
   },
   {
    "duration": 0,
    "start_time": "2022-05-19T05:00:02.921Z"
   },
   {
    "duration": 0,
    "start_time": "2022-05-19T05:00:02.924Z"
   },
   {
    "duration": 0,
    "start_time": "2022-05-19T05:00:02.926Z"
   },
   {
    "duration": 0,
    "start_time": "2022-05-19T05:00:02.928Z"
   },
   {
    "duration": 0,
    "start_time": "2022-05-19T05:00:02.930Z"
   },
   {
    "duration": 4,
    "start_time": "2022-05-19T05:00:36.190Z"
   },
   {
    "duration": 12,
    "start_time": "2022-05-19T05:00:45.406Z"
   },
   {
    "duration": 4,
    "start_time": "2022-05-19T05:01:41.915Z"
   },
   {
    "duration": 4,
    "start_time": "2022-05-19T05:04:04.274Z"
   },
   {
    "duration": 146,
    "start_time": "2022-05-19T05:04:04.280Z"
   },
   {
    "duration": 125,
    "start_time": "2022-05-19T05:04:04.428Z"
   },
   {
    "duration": 136,
    "start_time": "2022-05-19T05:04:04.555Z"
   },
   {
    "duration": 4,
    "start_time": "2022-05-19T05:04:04.693Z"
   },
   {
    "duration": 127,
    "start_time": "2022-05-19T05:04:04.698Z"
   },
   {
    "duration": 110,
    "start_time": "2022-05-19T05:04:04.827Z"
   },
   {
    "duration": 125,
    "start_time": "2022-05-19T05:04:04.939Z"
   },
   {
    "duration": 3,
    "start_time": "2022-05-19T05:04:05.066Z"
   },
   {
    "duration": 66,
    "start_time": "2022-05-19T05:04:05.072Z"
   },
   {
    "duration": 82,
    "start_time": "2022-05-19T05:04:05.141Z"
   },
   {
    "duration": 9,
    "start_time": "2022-05-19T05:04:05.226Z"
   },
   {
    "duration": 85,
    "start_time": "2022-05-19T05:04:05.236Z"
   },
   {
    "duration": 63,
    "start_time": "2022-05-19T05:04:06.086Z"
   },
   {
    "duration": 13,
    "start_time": "2022-05-19T05:04:06.151Z"
   },
   {
    "duration": 8,
    "start_time": "2022-05-19T05:04:06.166Z"
   },
   {
    "duration": 13,
    "start_time": "2022-05-19T05:04:06.176Z"
   },
   {
    "duration": 29,
    "start_time": "2022-05-19T05:04:06.192Z"
   },
   {
    "duration": 44,
    "start_time": "2022-05-19T05:04:06.223Z"
   },
   {
    "duration": 24,
    "start_time": "2022-05-19T05:04:06.269Z"
   },
   {
    "duration": 4,
    "start_time": "2022-05-19T05:04:06.295Z"
   },
   {
    "duration": 68,
    "start_time": "2022-05-19T05:04:06.301Z"
   },
   {
    "duration": 106,
    "start_time": "2022-05-19T05:04:06.371Z"
   },
   {
    "duration": 108,
    "start_time": "2022-05-19T05:04:06.564Z"
   },
   {
    "duration": 92,
    "start_time": "2022-05-19T05:04:06.674Z"
   },
   {
    "duration": 99,
    "start_time": "2022-05-19T05:04:06.768Z"
   },
   {
    "duration": 10,
    "start_time": "2022-05-19T05:04:06.870Z"
   },
   {
    "duration": 6,
    "start_time": "2022-05-19T05:04:06.882Z"
   },
   {
    "duration": 6,
    "start_time": "2022-05-19T05:04:06.890Z"
   },
   {
    "duration": 1088,
    "start_time": "2022-05-19T05:04:06.898Z"
   },
   {
    "duration": 1052,
    "start_time": "2022-05-19T05:04:07.988Z"
   },
   {
    "duration": 1031,
    "start_time": "2022-05-19T05:04:09.042Z"
   },
   {
    "duration": 7,
    "start_time": "2022-05-19T05:05:12.000Z"
   },
   {
    "duration": 42,
    "start_time": "2022-05-19T05:05:39.747Z"
   },
   {
    "duration": 29,
    "start_time": "2022-05-19T05:05:44.819Z"
   },
   {
    "duration": 27,
    "start_time": "2022-05-19T05:05:53.402Z"
   },
   {
    "duration": 8,
    "start_time": "2022-05-19T05:06:02.883Z"
   },
   {
    "duration": 7,
    "start_time": "2022-05-19T05:06:21.866Z"
   },
   {
    "duration": 7,
    "start_time": "2022-05-19T05:06:30.980Z"
   },
   {
    "duration": 6,
    "start_time": "2022-05-19T05:06:37.878Z"
   },
   {
    "duration": 3,
    "start_time": "2022-05-19T05:07:38.111Z"
   },
   {
    "duration": 4,
    "start_time": "2022-05-19T05:07:48.986Z"
   },
   {
    "duration": 186,
    "start_time": "2022-05-19T05:07:48.993Z"
   },
   {
    "duration": 137,
    "start_time": "2022-05-19T05:07:49.182Z"
   },
   {
    "duration": 137,
    "start_time": "2022-05-19T05:07:49.320Z"
   },
   {
    "duration": 5,
    "start_time": "2022-05-19T05:07:49.460Z"
   },
   {
    "duration": 133,
    "start_time": "2022-05-19T05:07:49.467Z"
   },
   {
    "duration": 124,
    "start_time": "2022-05-19T05:07:49.602Z"
   },
   {
    "duration": 152,
    "start_time": "2022-05-19T05:07:49.728Z"
   },
   {
    "duration": 3,
    "start_time": "2022-05-19T05:07:49.882Z"
   },
   {
    "duration": 67,
    "start_time": "2022-05-19T05:07:49.887Z"
   },
   {
    "duration": 68,
    "start_time": "2022-05-19T05:07:49.956Z"
   },
   {
    "duration": 9,
    "start_time": "2022-05-19T05:07:50.026Z"
   },
   {
    "duration": 96,
    "start_time": "2022-05-19T05:07:50.036Z"
   },
   {
    "duration": 82,
    "start_time": "2022-05-19T05:07:50.135Z"
   },
   {
    "duration": 15,
    "start_time": "2022-05-19T05:07:50.219Z"
   },
   {
    "duration": 5,
    "start_time": "2022-05-19T05:07:50.236Z"
   },
   {
    "duration": 26,
    "start_time": "2022-05-19T05:07:50.242Z"
   },
   {
    "duration": 39,
    "start_time": "2022-05-19T05:07:50.270Z"
   },
   {
    "duration": 27,
    "start_time": "2022-05-19T05:07:50.311Z"
   },
   {
    "duration": 51,
    "start_time": "2022-05-19T05:07:50.339Z"
   },
   {
    "duration": 3,
    "start_time": "2022-05-19T05:07:50.392Z"
   },
   {
    "duration": 83,
    "start_time": "2022-05-19T05:07:50.397Z"
   },
   {
    "duration": 180,
    "start_time": "2022-05-19T05:07:50.484Z"
   },
   {
    "duration": 122,
    "start_time": "2022-05-19T05:07:50.667Z"
   },
   {
    "duration": 24,
    "start_time": "2022-05-19T05:07:50.871Z"
   },
   {
    "duration": 5,
    "start_time": "2022-05-19T05:07:50.967Z"
   },
   {
    "duration": 19,
    "start_time": "2022-05-19T05:07:50.974Z"
   },
   {
    "duration": 7,
    "start_time": "2022-05-19T05:07:50.994Z"
   },
   {
    "duration": 6,
    "start_time": "2022-05-19T05:07:51.003Z"
   },
   {
    "duration": 1070,
    "start_time": "2022-05-19T05:07:51.010Z"
   },
   {
    "duration": 1072,
    "start_time": "2022-05-19T05:07:52.082Z"
   },
   {
    "duration": 1044,
    "start_time": "2022-05-19T05:07:53.156Z"
   },
   {
    "duration": 5,
    "start_time": "2022-05-19T05:18:36.465Z"
   },
   {
    "duration": 74,
    "start_time": "2022-05-19T05:18:37.201Z"
   },
   {
    "duration": 20,
    "start_time": "2022-05-19T05:18:51.658Z"
   },
   {
    "duration": 22,
    "start_time": "2022-05-19T05:19:00.224Z"
   },
   {
    "duration": 6,
    "start_time": "2022-05-19T05:27:46.480Z"
   },
   {
    "duration": 1003,
    "start_time": "2022-05-19T05:27:47.745Z"
   },
   {
    "duration": 8,
    "start_time": "2022-05-19T05:28:13.443Z"
   },
   {
    "duration": 1027,
    "start_time": "2022-05-19T05:28:14.422Z"
   },
   {
    "duration": 1084,
    "start_time": "2022-05-19T05:28:53.229Z"
   },
   {
    "duration": 9,
    "start_time": "2022-05-19T05:29:53.116Z"
   },
   {
    "duration": 1024,
    "start_time": "2022-05-19T05:29:54.293Z"
   },
   {
    "duration": 12,
    "start_time": "2022-05-19T05:30:05.454Z"
   },
   {
    "duration": 1019,
    "start_time": "2022-05-19T05:30:07.486Z"
   },
   {
    "duration": 1225,
    "start_time": "2022-05-19T05:51:58.958Z"
   },
   {
    "duration": 145,
    "start_time": "2022-05-19T05:52:00.187Z"
   },
   {
    "duration": 146,
    "start_time": "2022-05-19T05:52:00.336Z"
   },
   {
    "duration": 158,
    "start_time": "2022-05-19T05:52:00.485Z"
   },
   {
    "duration": 4,
    "start_time": "2022-05-19T05:52:00.645Z"
   },
   {
    "duration": 259,
    "start_time": "2022-05-19T05:52:00.651Z"
   },
   {
    "duration": 129,
    "start_time": "2022-05-19T05:52:00.912Z"
   },
   {
    "duration": 165,
    "start_time": "2022-05-19T05:52:01.043Z"
   },
   {
    "duration": 4,
    "start_time": "2022-05-19T05:52:01.210Z"
   },
   {
    "duration": 106,
    "start_time": "2022-05-19T05:52:01.217Z"
   },
   {
    "duration": 9,
    "start_time": "2022-05-19T05:52:01.325Z"
   },
   {
    "duration": 91,
    "start_time": "2022-05-19T05:52:01.336Z"
   },
   {
    "duration": 33,
    "start_time": "2022-05-19T05:52:01.431Z"
   },
   {
    "duration": 11,
    "start_time": "2022-05-19T05:52:01.466Z"
   },
   {
    "duration": 18,
    "start_time": "2022-05-19T05:52:01.479Z"
   },
   {
    "duration": 54,
    "start_time": "2022-05-19T05:52:01.499Z"
   },
   {
    "duration": 41,
    "start_time": "2022-05-19T05:52:01.555Z"
   },
   {
    "duration": 69,
    "start_time": "2022-05-19T05:52:01.598Z"
   },
   {
    "duration": 5,
    "start_time": "2022-05-19T05:52:01.670Z"
   },
   {
    "duration": 45,
    "start_time": "2022-05-19T05:52:01.677Z"
   },
   {
    "duration": 113,
    "start_time": "2022-05-19T05:52:01.768Z"
   },
   {
    "duration": 201,
    "start_time": "2022-05-19T05:52:01.884Z"
   },
   {
    "duration": 178,
    "start_time": "2022-05-19T05:52:02.089Z"
   },
   {
    "duration": 22,
    "start_time": "2022-05-19T05:52:02.268Z"
   },
   {
    "duration": 15,
    "start_time": "2022-05-19T05:52:02.292Z"
   },
   {
    "duration": 7,
    "start_time": "2022-05-19T05:52:02.310Z"
   },
   {
    "duration": 17,
    "start_time": "2022-05-19T05:52:02.319Z"
   },
   {
    "duration": 1054,
    "start_time": "2022-05-19T05:52:02.338Z"
   },
   {
    "duration": 1017,
    "start_time": "2022-05-19T05:52:03.393Z"
   },
   {
    "duration": 1011,
    "start_time": "2022-05-19T05:52:04.412Z"
   },
   {
    "duration": 6,
    "start_time": "2022-05-19T06:01:12.548Z"
   },
   {
    "duration": 32,
    "start_time": "2022-05-19T06:01:15.883Z"
   },
   {
    "duration": 26,
    "start_time": "2022-05-19T06:03:50.312Z"
   },
   {
    "duration": 26,
    "start_time": "2022-05-19T06:04:00.068Z"
   },
   {
    "duration": 27,
    "start_time": "2022-05-19T06:04:06.026Z"
   },
   {
    "duration": 911,
    "start_time": "2022-05-19T06:04:17.309Z"
   },
   {
    "duration": 142,
    "start_time": "2022-05-19T06:04:18.222Z"
   },
   {
    "duration": 126,
    "start_time": "2022-05-19T06:04:18.366Z"
   },
   {
    "duration": 134,
    "start_time": "2022-05-19T06:04:18.494Z"
   },
   {
    "duration": 3,
    "start_time": "2022-05-19T06:04:18.630Z"
   },
   {
    "duration": 193,
    "start_time": "2022-05-19T06:04:18.635Z"
   },
   {
    "duration": 155,
    "start_time": "2022-05-19T06:04:18.830Z"
   },
   {
    "duration": 146,
    "start_time": "2022-05-19T06:04:18.988Z"
   },
   {
    "duration": 5,
    "start_time": "2022-05-19T06:04:19.136Z"
   },
   {
    "duration": 81,
    "start_time": "2022-05-19T06:04:19.143Z"
   },
   {
    "duration": 9,
    "start_time": "2022-05-19T06:04:19.226Z"
   },
   {
    "duration": 77,
    "start_time": "2022-05-19T06:04:19.237Z"
   },
   {
    "duration": 17,
    "start_time": "2022-05-19T06:04:19.316Z"
   },
   {
    "duration": 20,
    "start_time": "2022-05-19T06:04:19.336Z"
   },
   {
    "duration": 8,
    "start_time": "2022-05-19T06:04:19.358Z"
   },
   {
    "duration": 46,
    "start_time": "2022-05-19T06:04:19.368Z"
   },
   {
    "duration": 31,
    "start_time": "2022-05-19T06:04:19.415Z"
   },
   {
    "duration": 47,
    "start_time": "2022-05-19T06:04:19.447Z"
   },
   {
    "duration": 5,
    "start_time": "2022-05-19T06:04:19.495Z"
   },
   {
    "duration": 72,
    "start_time": "2022-05-19T06:04:19.501Z"
   },
   {
    "duration": 102,
    "start_time": "2022-05-19T06:04:19.575Z"
   },
   {
    "duration": 196,
    "start_time": "2022-05-19T06:04:19.679Z"
   },
   {
    "duration": 7,
    "start_time": "2022-05-19T06:04:19.966Z"
   },
   {
    "duration": 9,
    "start_time": "2022-05-19T06:04:20.065Z"
   },
   {
    "duration": 25,
    "start_time": "2022-05-19T06:04:20.075Z"
   },
   {
    "duration": 9,
    "start_time": "2022-05-19T06:04:20.102Z"
   },
   {
    "duration": 8,
    "start_time": "2022-05-19T06:04:20.112Z"
   },
   {
    "duration": 1006,
    "start_time": "2022-05-19T06:04:20.121Z"
   },
   {
    "duration": 962,
    "start_time": "2022-05-19T06:04:21.129Z"
   },
   {
    "duration": 956,
    "start_time": "2022-05-19T06:04:22.093Z"
   },
   {
    "duration": 934,
    "start_time": "2022-05-19T06:05:11.189Z"
   },
   {
    "duration": 143,
    "start_time": "2022-05-19T06:05:12.125Z"
   },
   {
    "duration": 142,
    "start_time": "2022-05-19T06:05:12.270Z"
   },
   {
    "duration": 140,
    "start_time": "2022-05-19T06:05:12.414Z"
   },
   {
    "duration": 8,
    "start_time": "2022-05-19T06:05:12.557Z"
   },
   {
    "duration": 211,
    "start_time": "2022-05-19T06:05:12.567Z"
   },
   {
    "duration": 127,
    "start_time": "2022-05-19T06:05:12.780Z"
   },
   {
    "duration": 129,
    "start_time": "2022-05-19T06:05:12.908Z"
   },
   {
    "duration": 3,
    "start_time": "2022-05-19T06:05:13.039Z"
   },
   {
    "duration": 83,
    "start_time": "2022-05-19T06:05:13.044Z"
   },
   {
    "duration": 9,
    "start_time": "2022-05-19T06:05:13.128Z"
   },
   {
    "duration": 80,
    "start_time": "2022-05-19T06:05:13.139Z"
   },
   {
    "duration": 19,
    "start_time": "2022-05-19T06:05:13.221Z"
   },
   {
    "duration": 25,
    "start_time": "2022-05-19T06:05:13.243Z"
   },
   {
    "duration": 10,
    "start_time": "2022-05-19T06:05:13.271Z"
   },
   {
    "duration": 45,
    "start_time": "2022-05-19T06:05:13.283Z"
   },
   {
    "duration": 50,
    "start_time": "2022-05-19T06:05:13.330Z"
   },
   {
    "duration": 31,
    "start_time": "2022-05-19T06:05:13.383Z"
   },
   {
    "duration": 4,
    "start_time": "2022-05-19T06:05:13.415Z"
   },
   {
    "duration": 48,
    "start_time": "2022-05-19T06:05:13.421Z"
   },
   {
    "duration": 200,
    "start_time": "2022-05-19T06:05:13.471Z"
   },
   {
    "duration": 100,
    "start_time": "2022-05-19T06:05:13.674Z"
   },
   {
    "duration": 88,
    "start_time": "2022-05-19T06:05:13.777Z"
   },
   {
    "duration": 4,
    "start_time": "2022-05-19T06:05:13.868Z"
   },
   {
    "duration": 100,
    "start_time": "2022-05-19T06:05:13.874Z"
   },
   {
    "duration": 4,
    "start_time": "2022-05-19T06:05:13.976Z"
   },
   {
    "duration": 7,
    "start_time": "2022-05-19T06:05:13.981Z"
   },
   {
    "duration": 1007,
    "start_time": "2022-05-19T06:05:13.990Z"
   },
   {
    "duration": 983,
    "start_time": "2022-05-19T06:05:14.999Z"
   },
   {
    "duration": 957,
    "start_time": "2022-05-19T06:05:15.984Z"
   },
   {
    "duration": 30,
    "start_time": "2022-05-19T06:05:40.927Z"
   },
   {
    "duration": 998,
    "start_time": "2022-05-19T06:06:01.628Z"
   },
   {
    "duration": 140,
    "start_time": "2022-05-19T06:06:02.628Z"
   },
   {
    "duration": 132,
    "start_time": "2022-05-19T06:06:02.770Z"
   },
   {
    "duration": 132,
    "start_time": "2022-05-19T06:06:02.903Z"
   },
   {
    "duration": 3,
    "start_time": "2022-05-19T06:06:03.037Z"
   },
   {
    "duration": 206,
    "start_time": "2022-05-19T06:06:03.043Z"
   },
   {
    "duration": 138,
    "start_time": "2022-05-19T06:06:03.251Z"
   },
   {
    "duration": 125,
    "start_time": "2022-05-19T06:06:03.391Z"
   },
   {
    "duration": 4,
    "start_time": "2022-05-19T06:06:03.517Z"
   },
   {
    "duration": 82,
    "start_time": "2022-05-19T06:06:03.522Z"
   },
   {
    "duration": 14,
    "start_time": "2022-05-19T06:06:03.606Z"
   },
   {
    "duration": 88,
    "start_time": "2022-05-19T06:06:03.623Z"
   },
   {
    "duration": 16,
    "start_time": "2022-05-19T06:06:03.714Z"
   },
   {
    "duration": 10,
    "start_time": "2022-05-19T06:06:03.733Z"
   },
   {
    "duration": 21,
    "start_time": "2022-05-19T06:06:03.744Z"
   },
   {
    "duration": 35,
    "start_time": "2022-05-19T06:06:03.766Z"
   },
   {
    "duration": 32,
    "start_time": "2022-05-19T06:06:03.803Z"
   },
   {
    "duration": 55,
    "start_time": "2022-05-19T06:06:03.837Z"
   },
   {
    "duration": 5,
    "start_time": "2022-05-19T06:06:03.894Z"
   },
   {
    "duration": 69,
    "start_time": "2022-05-19T06:06:03.901Z"
   },
   {
    "duration": 109,
    "start_time": "2022-05-19T06:06:03.972Z"
   },
   {
    "duration": 110,
    "start_time": "2022-05-19T06:06:04.166Z"
   },
   {
    "duration": 94,
    "start_time": "2022-05-19T06:06:04.278Z"
   },
   {
    "duration": 100,
    "start_time": "2022-05-19T06:06:04.374Z"
   },
   {
    "duration": 9,
    "start_time": "2022-05-19T06:06:04.476Z"
   },
   {
    "duration": 4,
    "start_time": "2022-05-19T06:06:04.487Z"
   },
   {
    "duration": 7,
    "start_time": "2022-05-19T06:06:04.493Z"
   },
   {
    "duration": 1045,
    "start_time": "2022-05-19T06:06:04.502Z"
   },
   {
    "duration": 960,
    "start_time": "2022-05-19T06:06:05.549Z"
   },
   {
    "duration": 1003,
    "start_time": "2022-05-19T06:06:06.510Z"
   },
   {
    "duration": 966,
    "start_time": "2022-05-19T06:07:23.788Z"
   },
   {
    "duration": 172,
    "start_time": "2022-05-19T06:07:24.756Z"
   },
   {
    "duration": 130,
    "start_time": "2022-05-19T06:07:24.930Z"
   },
   {
    "duration": 167,
    "start_time": "2022-05-19T06:07:25.062Z"
   },
   {
    "duration": 3,
    "start_time": "2022-05-19T06:07:25.232Z"
   },
   {
    "duration": 195,
    "start_time": "2022-05-19T06:07:25.236Z"
   },
   {
    "duration": 115,
    "start_time": "2022-05-19T06:07:25.432Z"
   },
   {
    "duration": 141,
    "start_time": "2022-05-19T06:07:25.549Z"
   },
   {
    "duration": 3,
    "start_time": "2022-05-19T06:07:25.692Z"
   },
   {
    "duration": 79,
    "start_time": "2022-05-19T06:07:25.696Z"
   },
   {
    "duration": 10,
    "start_time": "2022-05-19T06:07:25.777Z"
   },
   {
    "duration": 80,
    "start_time": "2022-05-19T06:07:25.788Z"
   },
   {
    "duration": 17,
    "start_time": "2022-05-19T06:07:25.870Z"
   },
   {
    "duration": 11,
    "start_time": "2022-05-19T06:07:25.890Z"
   },
   {
    "duration": 8,
    "start_time": "2022-05-19T06:07:25.903Z"
   },
   {
    "duration": 54,
    "start_time": "2022-05-19T06:07:25.913Z"
   },
   {
    "duration": 31,
    "start_time": "2022-05-19T06:07:25.969Z"
   },
   {
    "duration": 32,
    "start_time": "2022-05-19T06:07:26.002Z"
   },
   {
    "duration": 31,
    "start_time": "2022-05-19T06:07:26.036Z"
   },
   {
    "duration": 100,
    "start_time": "2022-05-19T06:07:26.068Z"
   },
   {
    "duration": 109,
    "start_time": "2022-05-19T06:07:26.170Z"
   },
   {
    "duration": 109,
    "start_time": "2022-05-19T06:07:26.366Z"
   },
   {
    "duration": 89,
    "start_time": "2022-05-19T06:07:26.478Z"
   },
   {
    "duration": 105,
    "start_time": "2022-05-19T06:07:26.570Z"
   },
   {
    "duration": 14,
    "start_time": "2022-05-19T06:07:26.677Z"
   },
   {
    "duration": 3,
    "start_time": "2022-05-19T06:07:26.693Z"
   },
   {
    "duration": 9,
    "start_time": "2022-05-19T06:07:26.698Z"
   },
   {
    "duration": 1031,
    "start_time": "2022-05-19T06:07:26.709Z"
   },
   {
    "duration": 989,
    "start_time": "2022-05-19T06:07:27.742Z"
   },
   {
    "duration": 1073,
    "start_time": "2022-05-19T06:07:28.733Z"
   },
   {
    "duration": 939,
    "start_time": "2022-05-19T06:08:18.327Z"
   },
   {
    "duration": 149,
    "start_time": "2022-05-19T06:08:19.268Z"
   },
   {
    "duration": 142,
    "start_time": "2022-05-19T06:08:19.419Z"
   },
   {
    "duration": 130,
    "start_time": "2022-05-19T06:08:19.563Z"
   },
   {
    "duration": 4,
    "start_time": "2022-05-19T06:08:19.695Z"
   },
   {
    "duration": 210,
    "start_time": "2022-05-19T06:08:19.700Z"
   },
   {
    "duration": 121,
    "start_time": "2022-05-19T06:08:19.911Z"
   },
   {
    "duration": 136,
    "start_time": "2022-05-19T06:08:20.034Z"
   },
   {
    "duration": 3,
    "start_time": "2022-05-19T06:08:20.172Z"
   },
   {
    "duration": 94,
    "start_time": "2022-05-19T06:08:20.177Z"
   },
   {
    "duration": 9,
    "start_time": "2022-05-19T06:08:20.272Z"
   },
   {
    "duration": 88,
    "start_time": "2022-05-19T06:08:20.283Z"
   },
   {
    "duration": 18,
    "start_time": "2022-05-19T06:08:20.373Z"
   },
   {
    "duration": 9,
    "start_time": "2022-05-19T06:08:20.393Z"
   },
   {
    "duration": 7,
    "start_time": "2022-05-19T06:08:20.403Z"
   },
   {
    "duration": 56,
    "start_time": "2022-05-19T06:08:20.412Z"
   },
   {
    "duration": 35,
    "start_time": "2022-05-19T06:08:20.470Z"
   },
   {
    "duration": 66,
    "start_time": "2022-05-19T06:08:20.507Z"
   },
   {
    "duration": 5,
    "start_time": "2022-05-19T06:08:20.575Z"
   },
   {
    "duration": 87,
    "start_time": "2022-05-19T06:08:20.582Z"
   },
   {
    "duration": 193,
    "start_time": "2022-05-19T06:08:20.672Z"
   },
   {
    "duration": 109,
    "start_time": "2022-05-19T06:08:20.868Z"
   },
   {
    "duration": 5,
    "start_time": "2022-05-19T06:08:21.068Z"
   },
   {
    "duration": 99,
    "start_time": "2022-05-19T06:08:21.076Z"
   },
   {
    "duration": 10,
    "start_time": "2022-05-19T06:08:21.177Z"
   },
   {
    "duration": 12,
    "start_time": "2022-05-19T06:08:21.189Z"
   },
   {
    "duration": 10,
    "start_time": "2022-05-19T06:08:21.203Z"
   },
   {
    "duration": 1068,
    "start_time": "2022-05-19T06:08:21.216Z"
   },
   {
    "duration": 1061,
    "start_time": "2022-05-19T06:08:22.286Z"
   },
   {
    "duration": 1042,
    "start_time": "2022-05-19T06:08:23.349Z"
   },
   {
    "duration": 980,
    "start_time": "2022-05-19T06:09:02.636Z"
   },
   {
    "duration": 154,
    "start_time": "2022-05-19T06:09:03.618Z"
   },
   {
    "duration": 128,
    "start_time": "2022-05-19T06:09:03.774Z"
   },
   {
    "duration": 128,
    "start_time": "2022-05-19T06:09:03.904Z"
   },
   {
    "duration": 3,
    "start_time": "2022-05-19T06:09:04.034Z"
   },
   {
    "duration": 200,
    "start_time": "2022-05-19T06:09:04.039Z"
   },
   {
    "duration": 108,
    "start_time": "2022-05-19T06:09:04.241Z"
   },
   {
    "duration": 124,
    "start_time": "2022-05-19T06:09:04.365Z"
   },
   {
    "duration": 3,
    "start_time": "2022-05-19T06:09:04.491Z"
   },
   {
    "duration": 80,
    "start_time": "2022-05-19T06:09:04.496Z"
   },
   {
    "duration": 12,
    "start_time": "2022-05-19T06:09:04.578Z"
   },
   {
    "duration": 93,
    "start_time": "2022-05-19T06:09:04.592Z"
   },
   {
    "duration": 18,
    "start_time": "2022-05-19T06:09:04.687Z"
   },
   {
    "duration": 19,
    "start_time": "2022-05-19T06:09:04.709Z"
   },
   {
    "duration": 16,
    "start_time": "2022-05-19T06:09:04.729Z"
   },
   {
    "duration": 49,
    "start_time": "2022-05-19T06:09:04.747Z"
   },
   {
    "duration": 32,
    "start_time": "2022-05-19T06:09:04.798Z"
   },
   {
    "duration": 50,
    "start_time": "2022-05-19T06:09:04.833Z"
   },
   {
    "duration": 5,
    "start_time": "2022-05-19T06:09:04.885Z"
   },
   {
    "duration": 81,
    "start_time": "2022-05-19T06:09:04.891Z"
   },
   {
    "duration": 108,
    "start_time": "2022-05-19T06:09:04.974Z"
   },
   {
    "duration": 107,
    "start_time": "2022-05-19T06:09:05.167Z"
   },
   {
    "duration": 99,
    "start_time": "2022-05-19T06:09:05.367Z"
   },
   {
    "duration": 11,
    "start_time": "2022-05-19T06:09:05.467Z"
   },
   {
    "duration": 11,
    "start_time": "2022-05-19T06:09:05.479Z"
   },
   {
    "duration": 9,
    "start_time": "2022-05-19T06:09:05.491Z"
   },
   {
    "duration": 10,
    "start_time": "2022-05-19T06:09:05.501Z"
   },
   {
    "duration": 1009,
    "start_time": "2022-05-19T06:09:05.513Z"
   },
   {
    "duration": 1071,
    "start_time": "2022-05-19T06:09:06.524Z"
   },
   {
    "duration": 1009,
    "start_time": "2022-05-19T06:09:07.597Z"
   }
  ],
  "kernelspec": {
   "display_name": "Python 3 (ipykernel)",
   "language": "python",
   "name": "python3"
  },
  "language_info": {
   "codemirror_mode": {
    "name": "ipython",
    "version": 3
   },
   "file_extension": ".py",
   "mimetype": "text/x-python",
   "name": "python",
   "nbconvert_exporter": "python",
   "pygments_lexer": "ipython3",
   "version": "3.9.7"
  },
  "toc": {
   "base_numbering": 1,
   "nav_menu": {},
   "number_sections": true,
   "sideBar": true,
   "skip_h1_title": true,
   "title_cell": "Table of Contents",
   "title_sidebar": "Contents",
   "toc_cell": false,
   "toc_position": {},
   "toc_section_display": true,
   "toc_window_display": false
  }
 },
 "nbformat": 4,
 "nbformat_minor": 2
}
