{
 "cells": [
  {
   "cell_type": "markdown",
   "metadata": {},
   "source": [
    "# Рекомендация тарифов"
   ]
  },
  {
   "cell_type": "markdown",
   "metadata": {},
   "source": [
    "В вашем распоряжении данные о поведении клиентов, которые уже перешли на эти тарифы (из проекта курса «Статистический анализ данных»). Нужно построить модель для задачи классификации, которая выберет подходящий тариф. Предобработка данных не понадобится — вы её уже сделали.\n",
    "\n",
    "Постройте модель с максимально большим значением *accuracy*. Чтобы сдать проект успешно, нужно довести долю правильных ответов по крайней мере до 0.75. Проверьте *accuracy* на тестовой выборке самостоятельно."
   ]
  },
  {
   "cell_type": "markdown",
   "metadata": {},
   "source": [
    "## Откройте и изучите файл"
   ]
  },
  {
   "cell_type": "code",
   "execution_count": 86,
   "metadata": {},
   "outputs": [],
   "source": [
    "import pandas as pd\n",
    "import os\n",
    "from sklearn.model_selection import train_test_split\n",
    "from sklearn.metrics import accuracy_score\n",
    "from sklearn.tree import DecisionTreeClassifier\n",
    "from sklearn.ensemble import RandomForestClassifier\n",
    "from sklearn.linear_model import LogisticRegression"
   ]
  },
  {
   "cell_type": "code",
   "execution_count": 87,
   "metadata": {},
   "outputs": [],
   "source": [
    "pth1 = '/datasets/users_behavior.csv'\n",
    "pth2 = '/Users/Alex/Desktop/practicum_ds/projects/ml/users_behavior.csv'\n",
    "\n",
    "if os.path.exists(pth1):\n",
    "    df = pd.read_csv(pth1)\n",
    "elif os.path.exists(pth2):\n",
    "    df = pd.read_csv(pth2)\n",
    "else:\n",
    "    print('Something is wrong')"
   ]
  },
  {
   "cell_type": "code",
   "execution_count": 88,
   "metadata": {},
   "outputs": [
    {
     "data": {
      "text/html": [
       "<div>\n",
       "<style scoped>\n",
       "    .dataframe tbody tr th:only-of-type {\n",
       "        vertical-align: middle;\n",
       "    }\n",
       "\n",
       "    .dataframe tbody tr th {\n",
       "        vertical-align: top;\n",
       "    }\n",
       "\n",
       "    .dataframe thead th {\n",
       "        text-align: right;\n",
       "    }\n",
       "</style>\n",
       "<table border=\"1\" class=\"dataframe\">\n",
       "  <thead>\n",
       "    <tr style=\"text-align: right;\">\n",
       "      <th></th>\n",
       "      <th>calls</th>\n",
       "      <th>minutes</th>\n",
       "      <th>messages</th>\n",
       "      <th>mb_used</th>\n",
       "      <th>is_ultra</th>\n",
       "    </tr>\n",
       "  </thead>\n",
       "  <tbody>\n",
       "    <tr>\n",
       "      <th>0</th>\n",
       "      <td>40.0</td>\n",
       "      <td>311.90</td>\n",
       "      <td>83.0</td>\n",
       "      <td>19915.42</td>\n",
       "      <td>0</td>\n",
       "    </tr>\n",
       "    <tr>\n",
       "      <th>1</th>\n",
       "      <td>85.0</td>\n",
       "      <td>516.75</td>\n",
       "      <td>56.0</td>\n",
       "      <td>22696.96</td>\n",
       "      <td>0</td>\n",
       "    </tr>\n",
       "    <tr>\n",
       "      <th>2</th>\n",
       "      <td>77.0</td>\n",
       "      <td>467.66</td>\n",
       "      <td>86.0</td>\n",
       "      <td>21060.45</td>\n",
       "      <td>0</td>\n",
       "    </tr>\n",
       "    <tr>\n",
       "      <th>3</th>\n",
       "      <td>106.0</td>\n",
       "      <td>745.53</td>\n",
       "      <td>81.0</td>\n",
       "      <td>8437.39</td>\n",
       "      <td>1</td>\n",
       "    </tr>\n",
       "    <tr>\n",
       "      <th>4</th>\n",
       "      <td>66.0</td>\n",
       "      <td>418.74</td>\n",
       "      <td>1.0</td>\n",
       "      <td>14502.75</td>\n",
       "      <td>0</td>\n",
       "    </tr>\n",
       "  </tbody>\n",
       "</table>\n",
       "</div>"
      ],
      "text/plain": [
       "   calls  minutes  messages   mb_used  is_ultra\n",
       "0   40.0   311.90      83.0  19915.42         0\n",
       "1   85.0   516.75      56.0  22696.96         0\n",
       "2   77.0   467.66      86.0  21060.45         0\n",
       "3  106.0   745.53      81.0   8437.39         1\n",
       "4   66.0   418.74       1.0  14502.75         0"
      ]
     },
     "execution_count": 88,
     "metadata": {},
     "output_type": "execute_result"
    }
   ],
   "source": [
    "df.head()"
   ]
  },
  {
   "cell_type": "code",
   "execution_count": 89,
   "metadata": {},
   "outputs": [
    {
     "name": "stdout",
     "output_type": "stream",
     "text": [
      "<class 'pandas.core.frame.DataFrame'>\n",
      "RangeIndex: 3214 entries, 0 to 3213\n",
      "Data columns (total 5 columns):\n",
      " #   Column    Non-Null Count  Dtype  \n",
      "---  ------    --------------  -----  \n",
      " 0   calls     3214 non-null   float64\n",
      " 1   minutes   3214 non-null   float64\n",
      " 2   messages  3214 non-null   float64\n",
      " 3   mb_used   3214 non-null   float64\n",
      " 4   is_ultra  3214 non-null   int64  \n",
      "dtypes: float64(4), int64(1)\n",
      "memory usage: 125.7 KB\n"
     ]
    }
   ],
   "source": [
    "df.info()"
   ]
  },
  {
   "cell_type": "code",
   "execution_count": 90,
   "metadata": {},
   "outputs": [
    {
     "data": {
      "text/plain": [
       "array([0, 1])"
      ]
     },
     "execution_count": 90,
     "metadata": {},
     "output_type": "execute_result"
    }
   ],
   "source": [
    "df['is_ultra'].unique()"
   ]
  },
  {
   "cell_type": "markdown",
   "metadata": {},
   "source": [
    "**Вывод:**\n",
    "\n",
    "Итак, в таблице 11 столбецов.\n",
    "\n",
    "Описание данных:\n",
    "\n",
    "Каждый объект в наборе данных — это информация о поведении одного пользователя за месяц. Известно:\n",
    "\n",
    "сalls — количество звонков,\n",
    "\n",
    "minutes — суммарная длительность звонков в минутах,\n",
    "\n",
    "messages — количество sms-сообщений,\n",
    "\n",
    "mb_used — израсходованный интернет-трафик в Мб,\n",
    "\n",
    "is_ultra — каким тарифом пользовался в течение месяца («Ультра» — 1, «Смарт» — 0).\n",
    "\n",
    "Предварительно можно утверждать, что, данных достаточно для решения задачи.\n",
    "\n",
    "Количество значений в столбцах не различается. Значит, в данных нет пропусков.\n",
    "\n",
    "В первом приближении артефакты (аномалии)* не обнаружены (значения, которые не отражают действительность и появились по какой-то ошибке).\n",
    "\n",
    "Соблюдение требований к стилю в названии колонок:\n",
    "\n",
    "Строчные буквы - да.\n",
    "\n",
    "Отсутствие пробелов - да.\n",
    "\n",
    "Использован «змеиный_регистр» (snake_case) - да."
   ]
  },
  {
   "cell_type": "markdown",
   "metadata": {},
   "source": [
    "## Разбейте данные на выборки"
   ]
  },
  {
   "cell_type": "code",
   "execution_count": 91,
   "metadata": {},
   "outputs": [],
   "source": [
    "df_train, df_valid_plus_test = train_test_split(\n",
    "    df,\n",
    "    test_size=0.4,\n",
    "    random_state=12345,\n",
    "    stratify=df['is_ultra'])"
   ]
  },
  {
   "cell_type": "code",
   "execution_count": 92,
   "metadata": {},
   "outputs": [],
   "source": [
    "df_valid, df_test = train_test_split(\n",
    "    df_valid_plus_test,\n",
    "    test_size=0.5,\n",
    "    random_state=12345,\n",
    "    stratify=df_valid_plus_test['is_ultra'])"
   ]
  },
  {
   "cell_type": "code",
   "execution_count": 93,
   "metadata": {},
   "outputs": [],
   "source": [
    "features_train = df_train.drop(['is_ultra'], axis=1)\n",
    "target_train = df_train['is_ultra']\n",
    "\n",
    "features_valid = df_valid.drop(['is_ultra'], axis=1)\n",
    "target_valid = df_valid['is_ultra']\n",
    "\n",
    "features_test = df_test.drop(['is_ultra'], axis=1)\n",
    "target_test = df_test['is_ultra']"
   ]
  },
  {
   "cell_type": "markdown",
   "metadata": {},
   "source": [
    "## Исследуйте модели"
   ]
  },
  {
   "cell_type": "markdown",
   "metadata": {},
   "source": [
    "**Решающее дерево**"
   ]
  },
  {
   "cell_type": "code",
   "execution_count": 94,
   "metadata": {},
   "outputs": [
    {
     "name": "stdout",
     "output_type": "stream",
     "text": [
      "Accuracy наилучшей модели на валидационной выборке: 0.80248833592535 , при max_depth = 8\n",
      "DecisionTreeClassifier(max_depth=8, random_state=12345)\n"
     ]
    }
   ],
   "source": [
    "tree_best_model = None\n",
    "tree_best_result = 0\n",
    "max_depth = 0\n",
    "for depth in range(1, 11):\n",
    "    tree_model = DecisionTreeClassifier(random_state=12345, max_depth=depth)\n",
    "    tree_model.fit(features_train, target_train)\n",
    "    tree_result = tree_model.score(features_valid, target_valid)\n",
    "    if tree_result > tree_best_result:\n",
    "        tree_best_model = tree_model\n",
    "        tree_best_result = tree_result\n",
    "        tree_max_depth = depth\n",
    "\n",
    "print(\"Accuracy наилучшей модели на валидационной выборке:\", tree_best_result, ', при max_depth =', tree_max_depth)\n",
    "print(tree_best_model)"
   ]
  },
  {
   "cell_type": "markdown",
   "metadata": {},
   "source": [
    "**Cлучайный лес**"
   ]
  },
  {
   "cell_type": "markdown",
   "metadata": {},
   "source": [
    "- с перебором глубины деревьев"
   ]
  },
  {
   "cell_type": "code",
   "execution_count": 95,
   "metadata": {},
   "outputs": [
    {
     "name": "stdout",
     "output_type": "stream",
     "text": [
      "Accuracy наилучшей модели на валидационной выборке: 0.807153965785381 , n_estimators = 6 , при max_depth = 6\n",
      "RandomForestClassifier(max_depth=6, n_estimators=6, random_state=12345)\n"
     ]
    }
   ],
   "source": [
    "forest_tree_best_model = None\n",
    "forest_tree_best_result = 0\n",
    "for estim in range(1, 11):\n",
    "    for depth_1 in range(1, 11):\n",
    "        forest_tree_model = RandomForestClassifier(random_state=12345, n_estimators=estim, max_depth=depth_1)\n",
    "        forest_tree_model.fit(features_train, target_train)\n",
    "        forest_tree_result = forest_tree_model.score(features_valid, target_valid)\n",
    "        if forest_tree_result > forest_tree_best_result:\n",
    "            forest_tree_best_model = forest_tree_model\n",
    "            forest_tree_best_result = forest_tree_result\n",
    "            forest_tree_n_estimators = estim\n",
    "            forest_tree_max_depth = depth_1\n",
    "\n",
    "print(\"Accuracy наилучшей модели на валидационной выборке:\",\n",
    "      forest_tree_best_result, ', n_estimators =', forest_tree_n_estimators,\n",
    "      ', при max_depth =', forest_tree_max_depth)\n",
    "print(forest_tree_best_model)"
   ]
  },
  {
   "cell_type": "markdown",
   "metadata": {},
   "source": [
    "**Логистическая регрессия**"
   ]
  },
  {
   "cell_type": "code",
   "execution_count": 96,
   "metadata": {},
   "outputs": [
    {
     "name": "stdout",
     "output_type": "stream",
     "text": [
      "Accuracy наилучшей модели на валидационной выборке: 0.7387247278382582\n",
      "LogisticRegression(random_state=12345)\n"
     ]
    }
   ],
   "source": [
    "log_model = LogisticRegression(random_state=12345)\n",
    "log_model.fit(features_train, target_train)\n",
    "log_result = log_model.score(features_valid, target_valid)\n",
    "\n",
    "\n",
    "print(\"Accuracy наилучшей модели на валидационной выборке:\", log_result)\n",
    "print(log_model)"
   ]
  },
  {
   "cell_type": "markdown",
   "metadata": {},
   "source": [
    "**Качество (Accuracy) лучшей модели в Решающем дереве и Случайном лесе (c перебором глубины деревьев) практически равны, при этом в Логистической регрессии данный показатель значительно ниже.**"
   ]
  },
  {
   "cell_type": "markdown",
   "metadata": {},
   "source": [
    "**При равенстве показателя качества, показатель скорости у Решающего дерева выше.**\n",
    "\n",
    "Проверим, что изменится при проверке лучших моделей Решающего дерева и Случайного леса на тестовой выборке."
   ]
  },
  {
   "cell_type": "markdown",
   "metadata": {},
   "source": [
    "## Проверьте модель на тестовой выборке"
   ]
  },
  {
   "cell_type": "markdown",
   "metadata": {},
   "source": [
    "**Решающее дерево**"
   ]
  },
  {
   "cell_type": "code",
   "execution_count": 97,
   "metadata": {},
   "outputs": [
    {
     "name": "stdout",
     "output_type": "stream",
     "text": [
      "Accuracy наилучшей модели на тестовой выборке: 0.7838258164852255 , при max_depth = 8\n",
      "DecisionTreeClassifier(max_depth=8, random_state=12345)\n"
     ]
    }
   ],
   "source": [
    "print(\"Accuracy наилучшей модели на тестовой выборке:\",\n",
    "      tree_best_model.score(features_test, target_test),\n",
    "      ', при max_depth =', tree_max_depth)\n",
    "print(tree_best_model)"
   ]
  },
  {
   "cell_type": "markdown",
   "metadata": {},
   "source": [
    "**Cлучайный лес**"
   ]
  },
  {
   "cell_type": "markdown",
   "metadata": {},
   "source": [
    "- с перебором глубины деревьев"
   ]
  },
  {
   "cell_type": "code",
   "execution_count": 98,
   "metadata": {},
   "outputs": [
    {
     "name": "stdout",
     "output_type": "stream",
     "text": [
      "Accuracy наилучшей модели на тестовой выборке: 0.8102643856920684 , n_estimators = 6 , при max_depth = 6\n",
      "RandomForestClassifier(max_depth=6, n_estimators=6, random_state=12345)\n"
     ]
    }
   ],
   "source": [
    "print(\"Accuracy наилучшей модели на тестовой выборке:\",\n",
    "      forest_tree_best_model.score(features_test, target_test),\n",
    "      ', n_estimators =', forest_tree_n_estimators,\n",
    "      ', при max_depth =', forest_tree_max_depth)\n",
    "print(forest_tree_best_model)"
   ]
  },
  {
   "cell_type": "markdown",
   "metadata": {},
   "source": [
    "**Логистическая регрессия**"
   ]
  },
  {
   "cell_type": "code",
   "execution_count": 99,
   "metadata": {},
   "outputs": [
    {
     "name": "stdout",
     "output_type": "stream",
     "text": [
      "Accuracy наилучшей модели на тестовой выборке: 0.7465007776049767\n",
      "LogisticRegression(random_state=12345)\n"
     ]
    }
   ],
   "source": [
    "print(\"Accuracy наилучшей модели на тестовой выборке:\",\n",
    "      log_model.score(features_test, target_test))\n",
    "print(log_model)"
   ]
  },
  {
   "cell_type": "code",
   "execution_count": 101,
   "metadata": {},
   "outputs": [
    {
     "name": "stdout",
     "output_type": "stream",
     "text": [
      "Процент отставания модели Решающее дерево в показателе качества (Accuracy) на тестовой выборке в сравнении с моделью Случайный лес (с перебором глубины деревьев) -3.26 %\n"
     ]
    }
   ],
   "source": [
    "print('Процент отставания модели Решающее дерево '\n",
    "      'в показателе качества (Accuracy) на тестовой выборке '\n",
    "      'в сравнении с моделью Случайный лес (с перебором глубины деревьев)',\n",
    "      ((tree_best_model.score(features_test, target_test)/\n",
    "        forest_tree_best_model.score(features_test, target_test)-1)*100).round(2),'%')"
   ]
  },
  {
   "cell_type": "markdown",
   "metadata": {},
   "source": [
    "**По итогам тестирования на тестовой выборке модель Случайный лес (с перебором глубины деревьев) показала самый лучший показатель качества (accuracy) и опередила модель Решающее дерево на 3,26%.**"
   ]
  },
  {
   "cell_type": "markdown",
   "metadata": {},
   "source": [
    "## Чек-лист готовности проекта"
   ]
  },
  {
   "cell_type": "markdown",
   "metadata": {},
   "source": [
    "Поставьте 'x' в выполненных пунктах. Далее нажмите Shift+Enter."
   ]
  },
  {
   "cell_type": "markdown",
   "metadata": {},
   "source": [
    "- [x] Jupyter Notebook открыт\n",
    "- [x] Весь код исполняется без ошибок\n",
    "- [x] Ячейки с кодом расположены в порядке исполнения\n",
    "- [x] Выполнено задание 1: данные загружены и изучены\n",
    "- [x] Выполнено задание 2: данные разбиты на три выборки\n",
    "- [x] Выполнено задание 3: проведено исследование моделей\n",
    "    - [x] Рассмотрено больше одной модели\n",
    "    - [x] Рассмотрено хотя бы 3 значения гипепараметров для какой-нибудь модели\n",
    "    - [x] Написаны выводы по результатам исследования\n",
    "- [x] Выполнено задание 3: Проведено тестирование\n",
    "- [x] Удалось достичь accuracy не меньше 0.75\n"
   ]
  }
 ],
 "metadata": {
  "ExecuteTimeLog": [
   {
    "duration": 1606,
    "start_time": "2022-04-18T05:56:57.579Z"
   },
   {
    "duration": 102,
    "start_time": "2022-04-18T05:58:10.958Z"
   },
   {
    "duration": 19,
    "start_time": "2022-04-18T05:58:49.001Z"
   },
   {
    "duration": 13,
    "start_time": "2022-04-18T05:58:50.638Z"
   },
   {
    "duration": 13,
    "start_time": "2022-04-18T05:59:15.002Z"
   },
   {
    "duration": 4,
    "start_time": "2022-04-18T05:59:40.634Z"
   },
   {
    "duration": 5,
    "start_time": "2022-04-18T06:06:10.550Z"
   },
   {
    "duration": 7,
    "start_time": "2022-04-18T06:08:02.874Z"
   },
   {
    "duration": 4,
    "start_time": "2022-04-18T06:08:32.175Z"
   },
   {
    "duration": 4,
    "start_time": "2022-04-18T06:08:32.706Z"
   },
   {
    "duration": 34,
    "start_time": "2022-04-18T06:09:29.399Z"
   },
   {
    "duration": 126,
    "start_time": "2022-04-18T06:09:56.615Z"
   },
   {
    "duration": 283,
    "start_time": "2022-04-18T06:10:29.526Z"
   },
   {
    "duration": 282,
    "start_time": "2022-04-18T06:10:58.602Z"
   },
   {
    "duration": 130,
    "start_time": "2022-04-18T06:11:18.334Z"
   },
   {
    "duration": 266,
    "start_time": "2022-04-18T06:11:40.535Z"
   },
   {
    "duration": 287,
    "start_time": "2022-04-18T06:13:13.499Z"
   },
   {
    "duration": 181,
    "start_time": "2022-04-18T06:14:56.375Z"
   },
   {
    "duration": 79,
    "start_time": "2022-04-18T07:48:46.778Z"
   },
   {
    "duration": 3,
    "start_time": "2022-04-18T08:01:18.604Z"
   },
   {
    "duration": 22,
    "start_time": "2022-04-18T08:01:18.609Z"
   },
   {
    "duration": 11,
    "start_time": "2022-04-18T08:01:18.633Z"
   },
   {
    "duration": 11,
    "start_time": "2022-04-18T08:01:18.646Z"
   },
   {
    "duration": 4,
    "start_time": "2022-04-18T08:01:18.660Z"
   },
   {
    "duration": 7,
    "start_time": "2022-04-18T08:01:18.666Z"
   },
   {
    "duration": 6,
    "start_time": "2022-04-18T08:01:18.675Z"
   },
   {
    "duration": 89,
    "start_time": "2022-04-18T08:01:18.682Z"
   },
   {
    "duration": 317,
    "start_time": "2022-04-18T08:01:18.773Z"
   },
   {
    "duration": 405,
    "start_time": "2022-04-18T08:01:19.091Z"
   },
   {
    "duration": 162,
    "start_time": "2022-04-18T08:01:19.498Z"
   },
   {
    "duration": 393,
    "start_time": "2022-04-18T08:01:19.663Z"
   },
   {
    "duration": 5,
    "start_time": "2022-04-18T08:26:33.543Z"
   },
   {
    "duration": 6,
    "start_time": "2022-04-18T08:26:51.276Z"
   },
   {
    "duration": 4,
    "start_time": "2022-04-18T08:28:05.102Z"
   },
   {
    "duration": 6,
    "start_time": "2022-04-18T08:29:08.043Z"
   },
   {
    "duration": 3,
    "start_time": "2022-04-18T08:29:13.617Z"
   },
   {
    "duration": 19,
    "start_time": "2022-04-18T08:29:13.621Z"
   },
   {
    "duration": 8,
    "start_time": "2022-04-18T08:29:13.642Z"
   },
   {
    "duration": 28,
    "start_time": "2022-04-18T08:29:13.651Z"
   },
   {
    "duration": 4,
    "start_time": "2022-04-18T08:29:13.681Z"
   },
   {
    "duration": 15,
    "start_time": "2022-04-18T08:29:13.686Z"
   },
   {
    "duration": 14,
    "start_time": "2022-04-18T08:29:13.703Z"
   },
   {
    "duration": 10,
    "start_time": "2022-04-18T08:29:13.718Z"
   },
   {
    "duration": 73,
    "start_time": "2022-04-18T08:29:13.729Z"
   },
   {
    "duration": 259,
    "start_time": "2022-04-18T08:29:13.804Z"
   },
   {
    "duration": 241,
    "start_time": "2022-04-18T08:29:14.065Z"
   },
   {
    "duration": 21,
    "start_time": "2022-04-18T08:29:14.308Z"
   },
   {
    "duration": 133,
    "start_time": "2022-04-18T08:29:14.330Z"
   },
   {
    "duration": 79,
    "start_time": "2022-04-18T09:33:34.220Z"
   },
   {
    "duration": 5,
    "start_time": "2022-04-18T09:34:01.114Z"
   },
   {
    "duration": 23,
    "start_time": "2022-04-18T09:34:01.122Z"
   },
   {
    "duration": 10,
    "start_time": "2022-04-18T09:34:01.147Z"
   },
   {
    "duration": 14,
    "start_time": "2022-04-18T09:34:01.159Z"
   },
   {
    "duration": 4,
    "start_time": "2022-04-18T09:34:01.176Z"
   },
   {
    "duration": 7,
    "start_time": "2022-04-18T09:34:01.182Z"
   },
   {
    "duration": 9,
    "start_time": "2022-04-18T09:34:01.191Z"
   },
   {
    "duration": 8,
    "start_time": "2022-04-18T09:34:01.202Z"
   },
   {
    "duration": 96,
    "start_time": "2022-04-18T09:34:01.211Z"
   },
   {
    "duration": 85,
    "start_time": "2022-04-18T09:34:01.309Z"
   },
   {
    "duration": 293,
    "start_time": "2022-04-18T09:34:01.396Z"
   },
   {
    "duration": 264,
    "start_time": "2022-04-18T09:34:01.691Z"
   },
   {
    "duration": 21,
    "start_time": "2022-04-18T09:34:01.957Z"
   },
   {
    "duration": 144,
    "start_time": "2022-04-18T09:34:01.981Z"
   },
   {
    "duration": 253,
    "start_time": "2022-04-18T09:34:56.454Z"
   },
   {
    "duration": 251,
    "start_time": "2022-04-18T09:36:44.844Z"
   },
   {
    "duration": 65,
    "start_time": "2022-04-18T09:37:05.866Z"
   },
   {
    "duration": 1583,
    "start_time": "2022-04-19T03:23:50.646Z"
   },
   {
    "duration": 18,
    "start_time": "2022-04-19T03:23:52.231Z"
   },
   {
    "duration": 12,
    "start_time": "2022-04-19T03:23:52.250Z"
   },
   {
    "duration": 10,
    "start_time": "2022-04-19T03:23:52.264Z"
   },
   {
    "duration": 6,
    "start_time": "2022-04-19T03:23:52.276Z"
   },
   {
    "duration": 5,
    "start_time": "2022-04-19T03:23:52.283Z"
   },
   {
    "duration": 5,
    "start_time": "2022-04-19T03:23:52.290Z"
   },
   {
    "duration": 31,
    "start_time": "2022-04-19T03:23:52.296Z"
   },
   {
    "duration": 66,
    "start_time": "2022-04-19T03:23:52.328Z"
   },
   {
    "duration": 77,
    "start_time": "2022-04-19T03:23:52.395Z"
   },
   {
    "duration": 242,
    "start_time": "2022-04-19T03:23:52.474Z"
   },
   {
    "duration": 232,
    "start_time": "2022-04-19T03:23:52.724Z"
   },
   {
    "duration": 19,
    "start_time": "2022-04-19T03:23:52.958Z"
   },
   {
    "duration": 113,
    "start_time": "2022-04-19T03:23:52.980Z"
   },
   {
    "duration": 21,
    "start_time": "2022-04-19T03:25:06.434Z"
   },
   {
    "duration": 60,
    "start_time": "2022-04-19T03:29:01.466Z"
   },
   {
    "duration": 133,
    "start_time": "2022-04-19T03:31:52.748Z"
   },
   {
    "duration": 58,
    "start_time": "2022-04-19T03:32:05.842Z"
   },
   {
    "duration": 59,
    "start_time": "2022-04-19T03:32:34.079Z"
   },
   {
    "duration": 59,
    "start_time": "2022-04-19T03:32:48.356Z"
   },
   {
    "duration": 57,
    "start_time": "2022-04-19T03:33:26.941Z"
   },
   {
    "duration": 216,
    "start_time": "2022-04-19T03:34:27.579Z"
   },
   {
    "duration": 21,
    "start_time": "2022-04-19T03:35:01.648Z"
   },
   {
    "duration": 19,
    "start_time": "2022-04-19T04:00:00.819Z"
   },
   {
    "duration": 6,
    "start_time": "2022-04-19T04:05:11.789Z"
   },
   {
    "duration": 5,
    "start_time": "2022-04-19T04:06:10.183Z"
   },
   {
    "duration": 6,
    "start_time": "2022-04-19T04:06:34.764Z"
   },
   {
    "duration": 8,
    "start_time": "2022-04-19T04:07:23.681Z"
   },
   {
    "duration": 8,
    "start_time": "2022-04-19T04:09:59.223Z"
   },
   {
    "duration": 57,
    "start_time": "2022-04-19T04:10:13.071Z"
   },
   {
    "duration": 57,
    "start_time": "2022-04-19T04:11:22.801Z"
   },
   {
    "duration": 59,
    "start_time": "2022-04-19T04:11:44.624Z"
   },
   {
    "duration": 9,
    "start_time": "2022-04-19T04:12:05.032Z"
   },
   {
    "duration": 7,
    "start_time": "2022-04-19T04:12:46.736Z"
   },
   {
    "duration": 317,
    "start_time": "2022-04-19T04:13:22.134Z"
   },
   {
    "duration": 229,
    "start_time": "2022-04-19T04:13:56.150Z"
   },
   {
    "duration": 9,
    "start_time": "2022-04-19T04:14:27.558Z"
   },
   {
    "duration": 19,
    "start_time": "2022-04-19T04:16:04.761Z"
   },
   {
    "duration": 30,
    "start_time": "2022-04-19T05:23:03.570Z"
   },
   {
    "duration": 28,
    "start_time": "2022-04-19T05:24:17.149Z"
   },
   {
    "duration": 19,
    "start_time": "2022-04-19T05:26:07.538Z"
   },
   {
    "duration": 23,
    "start_time": "2022-04-19T05:28:32.417Z"
   },
   {
    "duration": 9,
    "start_time": "2022-04-19T05:30:37.256Z"
   },
   {
    "duration": 7,
    "start_time": "2022-04-19T05:31:45.527Z"
   },
   {
    "duration": 3,
    "start_time": "2022-04-19T05:32:09.682Z"
   },
   {
    "duration": 43,
    "start_time": "2022-04-19T05:32:09.687Z"
   },
   {
    "duration": 12,
    "start_time": "2022-04-19T05:32:09.731Z"
   },
   {
    "duration": 35,
    "start_time": "2022-04-19T05:32:09.744Z"
   },
   {
    "duration": 14,
    "start_time": "2022-04-19T05:32:09.781Z"
   },
   {
    "duration": 23,
    "start_time": "2022-04-19T05:32:09.796Z"
   },
   {
    "duration": 21,
    "start_time": "2022-04-19T05:32:09.820Z"
   },
   {
    "duration": 22,
    "start_time": "2022-04-19T05:32:09.842Z"
   },
   {
    "duration": 84,
    "start_time": "2022-04-19T05:32:09.865Z"
   },
   {
    "duration": 234,
    "start_time": "2022-04-19T05:32:09.950Z"
   },
   {
    "duration": 20,
    "start_time": "2022-04-19T05:32:10.186Z"
   },
   {
    "duration": 21,
    "start_time": "2022-04-19T05:32:10.207Z"
   },
   {
    "duration": 30,
    "start_time": "2022-04-19T05:32:10.229Z"
   },
   {
    "duration": 19,
    "start_time": "2022-04-19T05:32:10.261Z"
   },
   {
    "duration": 3,
    "start_time": "2022-04-19T05:35:50.847Z"
   },
   {
    "duration": 3,
    "start_time": "2022-04-19T05:36:04.279Z"
   },
   {
    "duration": 3,
    "start_time": "2022-04-19T05:36:08.723Z"
   },
   {
    "duration": 21,
    "start_time": "2022-04-19T05:36:08.728Z"
   },
   {
    "duration": 9,
    "start_time": "2022-04-19T05:36:08.750Z"
   },
   {
    "duration": 10,
    "start_time": "2022-04-19T05:36:08.761Z"
   },
   {
    "duration": 6,
    "start_time": "2022-04-19T05:36:08.773Z"
   },
   {
    "duration": 5,
    "start_time": "2022-04-19T05:36:08.780Z"
   },
   {
    "duration": 5,
    "start_time": "2022-04-19T05:36:08.786Z"
   },
   {
    "duration": 35,
    "start_time": "2022-04-19T05:36:08.792Z"
   },
   {
    "duration": 60,
    "start_time": "2022-04-19T05:36:08.829Z"
   },
   {
    "duration": 259,
    "start_time": "2022-04-19T05:36:08.891Z"
   },
   {
    "duration": 20,
    "start_time": "2022-04-19T05:36:09.151Z"
   },
   {
    "duration": 6,
    "start_time": "2022-04-19T05:36:09.173Z"
   },
   {
    "duration": 8,
    "start_time": "2022-04-19T05:36:09.180Z"
   },
   {
    "duration": 40,
    "start_time": "2022-04-19T05:36:09.190Z"
   },
   {
    "duration": 5,
    "start_time": "2022-04-19T05:37:29.170Z"
   },
   {
    "duration": 59,
    "start_time": "2022-04-19T05:37:53.683Z"
   },
   {
    "duration": 58,
    "start_time": "2022-04-19T05:41:19.402Z"
   },
   {
    "duration": 235,
    "start_time": "2022-04-19T05:44:19.852Z"
   },
   {
    "duration": 20,
    "start_time": "2022-04-19T05:45:40.242Z"
   },
   {
    "duration": 7,
    "start_time": "2022-04-19T05:47:11.966Z"
   },
   {
    "duration": 15,
    "start_time": "2022-04-19T05:47:54.614Z"
   },
   {
    "duration": 8,
    "start_time": "2022-04-19T05:48:01.370Z"
   },
   {
    "duration": 6,
    "start_time": "2022-04-19T05:48:50.298Z"
   },
   {
    "duration": 61,
    "start_time": "2022-04-19T05:49:30.467Z"
   },
   {
    "duration": 10,
    "start_time": "2022-04-19T06:04:28.640Z"
   },
   {
    "duration": 10,
    "start_time": "2022-04-19T06:04:42.649Z"
   },
   {
    "duration": 12,
    "start_time": "2022-04-19T06:05:30.822Z"
   },
   {
    "duration": 12,
    "start_time": "2022-04-19T06:05:55.408Z"
   },
   {
    "duration": 12,
    "start_time": "2022-04-19T06:06:23.536Z"
   },
   {
    "duration": 128,
    "start_time": "2022-04-19T06:08:33.701Z"
   },
   {
    "duration": 124,
    "start_time": "2022-04-19T06:08:52.047Z"
   },
   {
    "duration": 9,
    "start_time": "2022-04-19T06:09:05.000Z"
   },
   {
    "duration": 125,
    "start_time": "2022-04-19T06:09:37.041Z"
   },
   {
    "duration": 11,
    "start_time": "2022-04-19T06:09:47.130Z"
   },
   {
    "duration": 9,
    "start_time": "2022-04-19T06:10:18.380Z"
   },
   {
    "duration": 9,
    "start_time": "2022-04-19T06:10:39.334Z"
   },
   {
    "duration": 10,
    "start_time": "2022-04-19T06:11:08.330Z"
   },
   {
    "duration": 3,
    "start_time": "2022-04-19T06:23:28.477Z"
   },
   {
    "duration": 15,
    "start_time": "2022-04-19T06:23:28.482Z"
   },
   {
    "duration": 9,
    "start_time": "2022-04-19T06:23:28.499Z"
   },
   {
    "duration": 15,
    "start_time": "2022-04-19T06:23:28.509Z"
   },
   {
    "duration": 13,
    "start_time": "2022-04-19T06:23:28.526Z"
   },
   {
    "duration": 7,
    "start_time": "2022-04-19T06:23:28.541Z"
   },
   {
    "duration": 4,
    "start_time": "2022-04-19T06:23:28.550Z"
   },
   {
    "duration": 7,
    "start_time": "2022-04-19T06:23:28.555Z"
   },
   {
    "duration": 71,
    "start_time": "2022-04-19T06:23:28.563Z"
   },
   {
    "duration": 229,
    "start_time": "2022-04-19T06:23:28.636Z"
   },
   {
    "duration": 22,
    "start_time": "2022-04-19T06:23:28.866Z"
   },
   {
    "duration": 6,
    "start_time": "2022-04-19T06:23:28.889Z"
   },
   {
    "duration": 38,
    "start_time": "2022-04-19T06:23:28.897Z"
   },
   {
    "duration": 6,
    "start_time": "2022-04-19T06:23:28.937Z"
   },
   {
    "duration": 13,
    "start_time": "2022-04-19T06:23:28.945Z"
   },
   {
    "duration": 12,
    "start_time": "2022-04-19T06:25:07.458Z"
   },
   {
    "duration": 1406,
    "start_time": "2022-04-19T06:27:59.729Z"
   },
   {
    "duration": 20,
    "start_time": "2022-04-19T06:28:01.137Z"
   },
   {
    "duration": 18,
    "start_time": "2022-04-19T06:28:01.158Z"
   },
   {
    "duration": 17,
    "start_time": "2022-04-19T06:28:01.177Z"
   },
   {
    "duration": 33,
    "start_time": "2022-04-19T06:28:01.196Z"
   },
   {
    "duration": 37,
    "start_time": "2022-04-19T06:28:01.230Z"
   },
   {
    "duration": 31,
    "start_time": "2022-04-19T06:28:01.269Z"
   },
   {
    "duration": 14,
    "start_time": "2022-04-19T06:28:01.302Z"
   },
   {
    "duration": 168,
    "start_time": "2022-04-19T06:28:01.318Z"
   },
   {
    "duration": 0,
    "start_time": "2022-04-19T06:28:01.488Z"
   },
   {
    "duration": 1,
    "start_time": "2022-04-19T06:28:01.489Z"
   },
   {
    "duration": 0,
    "start_time": "2022-04-19T06:28:01.490Z"
   },
   {
    "duration": 0,
    "start_time": "2022-04-19T06:28:01.491Z"
   },
   {
    "duration": 0,
    "start_time": "2022-04-19T06:28:01.492Z"
   },
   {
    "duration": 0,
    "start_time": "2022-04-19T06:28:01.493Z"
   },
   {
    "duration": 62,
    "start_time": "2022-04-19T07:29:34.957Z"
   },
   {
    "duration": 1181,
    "start_time": "2022-04-19T07:30:00.551Z"
   },
   {
    "duration": 15,
    "start_time": "2022-04-19T07:30:01.734Z"
   },
   {
    "duration": 25,
    "start_time": "2022-04-19T07:30:01.751Z"
   },
   {
    "duration": 42,
    "start_time": "2022-04-19T07:30:01.778Z"
   },
   {
    "duration": 37,
    "start_time": "2022-04-19T07:30:01.822Z"
   },
   {
    "duration": 14,
    "start_time": "2022-04-19T07:30:01.861Z"
   },
   {
    "duration": 40,
    "start_time": "2022-04-19T07:30:01.877Z"
   },
   {
    "duration": 50,
    "start_time": "2022-04-19T07:30:01.919Z"
   },
   {
    "duration": 135,
    "start_time": "2022-04-19T07:30:01.970Z"
   },
   {
    "duration": 246,
    "start_time": "2022-04-19T07:30:02.107Z"
   },
   {
    "duration": 21,
    "start_time": "2022-04-19T07:30:02.354Z"
   },
   {
    "duration": 7,
    "start_time": "2022-04-19T07:30:02.376Z"
   },
   {
    "duration": 13,
    "start_time": "2022-04-19T07:30:02.384Z"
   },
   {
    "duration": 27,
    "start_time": "2022-04-19T07:30:02.399Z"
   },
   {
    "duration": 23,
    "start_time": "2022-04-19T07:30:02.428Z"
   },
   {
    "duration": 91,
    "start_time": "2022-04-19T07:32:40.752Z"
   },
   {
    "duration": 62,
    "start_time": "2022-04-19T07:34:25.532Z"
   },
   {
    "duration": 58,
    "start_time": "2022-04-19T07:36:20.605Z"
   },
   {
    "duration": 58,
    "start_time": "2022-04-19T07:36:26.281Z"
   },
   {
    "duration": 62,
    "start_time": "2022-04-19T07:36:30.203Z"
   },
   {
    "duration": 60,
    "start_time": "2022-04-19T07:36:36.476Z"
   },
   {
    "duration": 56,
    "start_time": "2022-04-19T07:36:40.880Z"
   },
   {
    "duration": 1046,
    "start_time": "2022-04-19T07:37:17.950Z"
   },
   {
    "duration": 14,
    "start_time": "2022-04-19T07:37:18.998Z"
   },
   {
    "duration": 19,
    "start_time": "2022-04-19T07:37:19.014Z"
   },
   {
    "duration": 13,
    "start_time": "2022-04-19T07:37:19.035Z"
   },
   {
    "duration": 3,
    "start_time": "2022-04-19T07:37:19.050Z"
   },
   {
    "duration": 21,
    "start_time": "2022-04-19T07:37:19.055Z"
   },
   {
    "duration": 20,
    "start_time": "2022-04-19T07:37:19.077Z"
   },
   {
    "duration": 20,
    "start_time": "2022-04-19T07:37:19.099Z"
   },
   {
    "duration": 92,
    "start_time": "2022-04-19T07:37:19.121Z"
   },
   {
    "duration": 227,
    "start_time": "2022-04-19T07:37:19.215Z"
   },
   {
    "duration": 20,
    "start_time": "2022-04-19T07:37:19.444Z"
   },
   {
    "duration": 6,
    "start_time": "2022-04-19T07:37:19.466Z"
   },
   {
    "duration": 23,
    "start_time": "2022-04-19T07:37:19.473Z"
   },
   {
    "duration": 29,
    "start_time": "2022-04-19T07:37:19.499Z"
   },
   {
    "duration": 9,
    "start_time": "2022-04-19T07:37:19.530Z"
   },
   {
    "duration": 1613,
    "start_time": "2022-04-19T07:57:33.410Z"
   },
   {
    "duration": 20,
    "start_time": "2022-04-19T07:57:35.026Z"
   },
   {
    "duration": 23,
    "start_time": "2022-04-19T07:57:35.051Z"
   },
   {
    "duration": 29,
    "start_time": "2022-04-19T07:57:35.078Z"
   },
   {
    "duration": 17,
    "start_time": "2022-04-19T07:57:35.109Z"
   },
   {
    "duration": 24,
    "start_time": "2022-04-19T07:57:35.129Z"
   },
   {
    "duration": 8,
    "start_time": "2022-04-19T07:57:35.155Z"
   },
   {
    "duration": 19,
    "start_time": "2022-04-19T07:57:35.165Z"
   },
   {
    "duration": 119,
    "start_time": "2022-04-19T07:57:35.187Z"
   },
   {
    "duration": 364,
    "start_time": "2022-04-19T07:57:35.309Z"
   },
   {
    "duration": 33,
    "start_time": "2022-04-19T07:57:35.675Z"
   },
   {
    "duration": 9,
    "start_time": "2022-04-19T07:57:35.710Z"
   },
   {
    "duration": 42,
    "start_time": "2022-04-19T07:57:35.721Z"
   },
   {
    "duration": 11,
    "start_time": "2022-04-19T07:57:35.765Z"
   },
   {
    "duration": 14,
    "start_time": "2022-04-19T07:57:35.778Z"
   },
   {
    "duration": 5,
    "start_time": "2022-04-19T07:57:49.974Z"
   },
   {
    "duration": 19,
    "start_time": "2022-04-19T08:01:16.872Z"
   },
   {
    "duration": 33,
    "start_time": "2022-04-19T08:01:59.873Z"
   },
   {
    "duration": 1150,
    "start_time": "2022-04-19T15:02:22.144Z"
   },
   {
    "duration": 15,
    "start_time": "2022-04-19T15:02:23.296Z"
   },
   {
    "duration": 16,
    "start_time": "2022-04-19T15:02:23.312Z"
   },
   {
    "duration": 11,
    "start_time": "2022-04-19T15:02:23.329Z"
   },
   {
    "duration": 9,
    "start_time": "2022-04-19T15:02:23.342Z"
   },
   {
    "duration": 7,
    "start_time": "2022-04-19T15:02:23.352Z"
   },
   {
    "duration": 9,
    "start_time": "2022-04-19T15:02:23.361Z"
   },
   {
    "duration": 8,
    "start_time": "2022-04-19T15:02:23.372Z"
   },
   {
    "duration": 92,
    "start_time": "2022-04-19T15:02:23.381Z"
   },
   {
    "duration": 279,
    "start_time": "2022-04-19T15:02:23.474Z"
   },
   {
    "duration": 115,
    "start_time": "2022-04-19T15:02:23.755Z"
   },
   {
    "duration": 0,
    "start_time": "2022-04-19T15:02:23.872Z"
   },
   {
    "duration": 0,
    "start_time": "2022-04-19T15:02:23.873Z"
   },
   {
    "duration": 0,
    "start_time": "2022-04-19T15:02:23.874Z"
   },
   {
    "duration": 0,
    "start_time": "2022-04-19T15:02:23.876Z"
   },
   {
    "duration": 0,
    "start_time": "2022-04-19T15:02:23.877Z"
   },
   {
    "duration": 1650,
    "start_time": "2022-04-19T15:04:19.067Z"
   },
   {
    "duration": 1781,
    "start_time": "2022-04-19T15:06:13.651Z"
   },
   {
    "duration": 1679,
    "start_time": "2022-04-19T15:07:11.646Z"
   },
   {
    "duration": 63,
    "start_time": "2022-04-19T15:07:44.167Z"
   },
   {
    "duration": 254,
    "start_time": "2022-04-19T15:08:04.979Z"
   },
   {
    "duration": 264,
    "start_time": "2022-04-19T15:08:16.133Z"
   },
   {
    "duration": 1571,
    "start_time": "2022-04-19T15:08:49.075Z"
   },
   {
    "duration": 25,
    "start_time": "2022-04-19T15:08:50.858Z"
   },
   {
    "duration": 1713,
    "start_time": "2022-04-19T15:11:25.197Z"
   },
   {
    "duration": 1565,
    "start_time": "2022-04-19T15:13:42.258Z"
   },
   {
    "duration": 3,
    "start_time": "2022-04-19T15:39:47.777Z"
   },
   {
    "duration": 17,
    "start_time": "2022-04-19T15:39:47.783Z"
   },
   {
    "duration": 13,
    "start_time": "2022-04-19T15:39:47.802Z"
   },
   {
    "duration": 12,
    "start_time": "2022-04-19T15:39:47.817Z"
   },
   {
    "duration": 5,
    "start_time": "2022-04-19T15:39:47.832Z"
   },
   {
    "duration": 5,
    "start_time": "2022-04-19T15:39:47.839Z"
   },
   {
    "duration": 5,
    "start_time": "2022-04-19T15:39:47.846Z"
   },
   {
    "duration": 7,
    "start_time": "2022-04-19T15:39:47.852Z"
   },
   {
    "duration": 87,
    "start_time": "2022-04-19T15:39:47.861Z"
   },
   {
    "duration": 266,
    "start_time": "2022-04-19T15:39:47.950Z"
   },
   {
    "duration": 1654,
    "start_time": "2022-04-19T15:39:48.218Z"
   },
   {
    "duration": 24,
    "start_time": "2022-04-19T15:39:49.874Z"
   },
   {
    "duration": 6,
    "start_time": "2022-04-19T15:39:49.908Z"
   },
   {
    "duration": 11,
    "start_time": "2022-04-19T15:39:49.917Z"
   },
   {
    "duration": 3,
    "start_time": "2022-04-19T15:39:49.929Z"
   },
   {
    "duration": 0,
    "start_time": "2022-04-19T15:39:49.934Z"
   },
   {
    "duration": 0,
    "start_time": "2022-04-19T15:39:49.935Z"
   },
   {
    "duration": 8,
    "start_time": "2022-04-19T15:40:10.579Z"
   },
   {
    "duration": 1624,
    "start_time": "2022-04-19T15:42:29.448Z"
   },
   {
    "duration": 257,
    "start_time": "2022-04-19T15:42:56.636Z"
   },
   {
    "duration": 65,
    "start_time": "2022-04-19T15:43:31.960Z"
   },
   {
    "duration": 6,
    "start_time": "2022-04-19T15:43:51.868Z"
   },
   {
    "duration": 6,
    "start_time": "2022-04-19T15:44:04.007Z"
   },
   {
    "duration": 10,
    "start_time": "2022-04-19T15:44:24.916Z"
   },
   {
    "duration": 15,
    "start_time": "2022-04-19T15:45:29.313Z"
   },
   {
    "duration": 8,
    "start_time": "2022-04-19T15:45:38.632Z"
   },
   {
    "duration": 3,
    "start_time": "2022-04-19T15:46:16.410Z"
   },
   {
    "duration": 22,
    "start_time": "2022-04-19T15:46:16.415Z"
   },
   {
    "duration": 10,
    "start_time": "2022-04-19T15:46:16.439Z"
   },
   {
    "duration": 20,
    "start_time": "2022-04-19T15:46:16.451Z"
   },
   {
    "duration": 4,
    "start_time": "2022-04-19T15:46:16.474Z"
   },
   {
    "duration": 7,
    "start_time": "2022-04-19T15:46:16.479Z"
   },
   {
    "duration": 6,
    "start_time": "2022-04-19T15:46:16.507Z"
   },
   {
    "duration": 9,
    "start_time": "2022-04-19T15:46:16.516Z"
   },
   {
    "duration": 85,
    "start_time": "2022-04-19T15:46:16.526Z"
   },
   {
    "duration": 266,
    "start_time": "2022-04-19T15:46:16.613Z"
   },
   {
    "duration": 1699,
    "start_time": "2022-04-19T15:46:16.881Z"
   },
   {
    "duration": 30,
    "start_time": "2022-04-19T15:46:18.581Z"
   },
   {
    "duration": 6,
    "start_time": "2022-04-19T15:46:18.613Z"
   },
   {
    "duration": 9,
    "start_time": "2022-04-19T15:46:18.622Z"
   },
   {
    "duration": 9,
    "start_time": "2022-04-19T15:46:18.633Z"
   },
   {
    "duration": 6,
    "start_time": "2022-04-19T15:46:18.643Z"
   },
   {
    "duration": 13,
    "start_time": "2022-04-19T15:46:18.651Z"
   },
   {
    "duration": 8,
    "start_time": "2022-04-19T15:49:08.717Z"
   },
   {
    "duration": 13,
    "start_time": "2022-04-19T15:49:49.658Z"
   },
   {
    "duration": 7,
    "start_time": "2022-04-19T15:50:15.038Z"
   },
   {
    "duration": 6,
    "start_time": "2022-04-19T15:51:21.710Z"
   },
   {
    "duration": 7,
    "start_time": "2022-04-19T15:52:44.509Z"
   },
   {
    "duration": 7,
    "start_time": "2022-04-19T15:53:07.250Z"
   },
   {
    "duration": 6,
    "start_time": "2022-04-19T15:53:21.039Z"
   },
   {
    "duration": 6,
    "start_time": "2022-04-19T15:53:23.519Z"
   },
   {
    "duration": 66,
    "start_time": "2022-04-19T15:53:29.206Z"
   },
   {
    "duration": 237,
    "start_time": "2022-04-19T15:53:36.261Z"
   },
   {
    "duration": 1656,
    "start_time": "2022-04-19T15:54:23.443Z"
   },
   {
    "duration": 33,
    "start_time": "2022-04-19T15:54:41.837Z"
   },
   {
    "duration": 6,
    "start_time": "2022-04-19T15:55:11.231Z"
   },
   {
    "duration": 9,
    "start_time": "2022-04-19T15:55:15.979Z"
   },
   {
    "duration": 7,
    "start_time": "2022-04-19T15:55:21.367Z"
   },
   {
    "duration": 6,
    "start_time": "2022-04-19T15:55:32.339Z"
   },
   {
    "duration": 9,
    "start_time": "2022-04-19T15:58:49.975Z"
   },
   {
    "duration": 11,
    "start_time": "2022-04-19T15:59:10.296Z"
   },
   {
    "duration": 4,
    "start_time": "2022-04-19T16:04:38.173Z"
   },
   {
    "duration": 17,
    "start_time": "2022-04-19T16:05:09.495Z"
   },
   {
    "duration": 69,
    "start_time": "2022-04-19T16:05:29.217Z"
   },
   {
    "duration": 66,
    "start_time": "2022-04-19T16:05:35.168Z"
   },
   {
    "duration": 18,
    "start_time": "2022-04-19T16:05:51.940Z"
   },
   {
    "duration": 3,
    "start_time": "2022-04-19T16:07:54.277Z"
   },
   {
    "duration": 19,
    "start_time": "2022-04-19T16:07:54.282Z"
   },
   {
    "duration": 12,
    "start_time": "2022-04-19T16:07:54.302Z"
   },
   {
    "duration": 13,
    "start_time": "2022-04-19T16:07:54.316Z"
   },
   {
    "duration": 5,
    "start_time": "2022-04-19T16:07:54.331Z"
   },
   {
    "duration": 6,
    "start_time": "2022-04-19T16:07:54.338Z"
   },
   {
    "duration": 5,
    "start_time": "2022-04-19T16:07:54.345Z"
   },
   {
    "duration": 6,
    "start_time": "2022-04-19T16:07:54.352Z"
   },
   {
    "duration": 86,
    "start_time": "2022-04-19T16:07:54.360Z"
   },
   {
    "duration": 1598,
    "start_time": "2022-04-19T16:07:54.447Z"
   },
   {
    "duration": 35,
    "start_time": "2022-04-19T16:07:56.048Z"
   },
   {
    "duration": 6,
    "start_time": "2022-04-19T16:07:56.085Z"
   },
   {
    "duration": 8,
    "start_time": "2022-04-19T16:07:56.108Z"
   },
   {
    "duration": 6,
    "start_time": "2022-04-19T16:07:56.118Z"
   },
   {
    "duration": 9,
    "start_time": "2022-04-19T16:07:56.125Z"
   },
   {
    "duration": 9,
    "start_time": "2022-04-19T16:09:32.417Z"
   }
  ],
  "kernelspec": {
   "display_name": "Python 3 (ipykernel)",
   "language": "python",
   "name": "python3"
  },
  "language_info": {
   "codemirror_mode": {
    "name": "ipython",
    "version": 3
   },
   "file_extension": ".py",
   "mimetype": "text/x-python",
   "name": "python",
   "nbconvert_exporter": "python",
   "pygments_lexer": "ipython3",
   "version": "3.9.7"
  },
  "toc": {
   "base_numbering": 1,
   "nav_menu": {},
   "number_sections": true,
   "sideBar": true,
   "skip_h1_title": true,
   "title_cell": "Table of Contents",
   "title_sidebar": "Contents",
   "toc_cell": false,
   "toc_position": {},
   "toc_section_display": true,
   "toc_window_display": false
  }
 },
 "nbformat": 4,
 "nbformat_minor": 2
}
