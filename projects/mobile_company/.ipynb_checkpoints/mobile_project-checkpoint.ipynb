{
 "cells": [
  {
   "cell_type": "markdown",
   "metadata": {
    "toc": true
   },
   "source": [
    "<h1>Содержание<span class=\"tocSkip\"></span></h1>\n",
    "<div class=\"toc\"><ul class=\"toc-item\"><li><span><a href=\"#Описание-проекта\" data-toc-modified-id=\"Описание-проекта-1\"><span class=\"toc-item-num\">1&nbsp;&nbsp;</span>Описание проекта</a></span></li><li><span><a href=\"#Изучение-данных-из-файла\" data-toc-modified-id=\"Изучение-данных-из-файла-2\"><span class=\"toc-item-num\">2&nbsp;&nbsp;</span>Изучение данных из файла</a></span><ul class=\"toc-item\"><li><span><a href=\"#Вывод\" data-toc-modified-id=\"Вывод-2.1\"><span class=\"toc-item-num\">2.1&nbsp;&nbsp;</span>Вывод</a></span></li></ul></li><li><span><a href=\"#Предобработка-данных\" data-toc-modified-id=\"Предобработка-данных-3\"><span class=\"toc-item-num\">3&nbsp;&nbsp;</span>Предобработка данных</a></span><ul class=\"toc-item\"><li><span><a href=\"#Изменение-типов-данных.\" data-toc-modified-id=\"Изменение-типов-данных.-3.1\"><span class=\"toc-item-num\">3.1&nbsp;&nbsp;</span>Изменение типов данных.</a></span></li></ul></li><li><span><a href=\"#Расчет-для-каждого-пользователя:\" data-toc-modified-id=\"Расчет-для-каждого-пользователя:-4\"><span class=\"toc-item-num\">4&nbsp;&nbsp;</span>Расчет для каждого пользователя:</a></span></li><li><span><a href=\"#Исследовательский-анализ-данных\" data-toc-modified-id=\"Исследовательский-анализ-данных-5\"><span class=\"toc-item-num\">5&nbsp;&nbsp;</span>Исследовательский анализ данных</a></span><ul class=\"toc-item\"><li><span><a href=\"#Убираем-редкие-и-выбивающиеся-значения.\" data-toc-modified-id=\"Убираем-редкие-и-выбивающиеся-значения.-5.1\"><span class=\"toc-item-num\">5.1&nbsp;&nbsp;</span>Убираем редкие и выбивающиеся значения.</a></span></li></ul></li><li><span><a href=\"#Проверка-гипотез\" data-toc-modified-id=\"Проверка-гипотез-6\"><span class=\"toc-item-num\">6&nbsp;&nbsp;</span>Проверка гипотез</a></span></li><li><span><a href=\"#Выводы-исследования:\" data-toc-modified-id=\"Выводы-исследования:-7\"><span class=\"toc-item-num\">7&nbsp;&nbsp;</span>Выводы исследования:</a></span></li></ul></div>"
   ]
  },
  {
   "cell_type": "markdown",
   "metadata": {},
   "source": [
    "## Описание проекта\n",
    "Компания «Мегалайн» — федерального оператора сотовой связи предлагает своим клиентам два тарифных плана: «Смарт» и «Ультра».\n",
    "\n",
    "Чтобы скорректировать рекламный бюджет, коммерческий департамент хочет понять, какой тариф приносит больше денег.\n",
    "\n",
    "Вам предстоит сделать предварительный анализ тарифов на небольшой выборке клиентов. В вашем распоряжении данные 500 пользователей «Мегалайна»: кто они, откуда, каким тарифом пользуются, сколько звонков и сообщений каждый отправил за 2018 год. \n",
    "\n",
    "Нужно проанализировать поведение клиентов и сделать вывод — какой тариф лучше.\n",
    "\n",
    "Описание тарифов\n",
    "Тариф «Смарт»\n",
    "Ежемесячная плата: 550 рублей\n",
    "Включено 500 минут разговора, 50 сообщений и 15 Гб интернет-трафика\n",
    "Стоимость услуг сверх тарифного пакета:\n",
    "минута разговора: 3 рубля\n",
    "сообщение: 3 рубля\n",
    "1 Гб интернет-трафика: 200 рублей\n",
    "\n",
    "Тариф «Ультра»\n",
    "Ежемесячная плата: 1950 рублей\n",
    "Включено 3000 минут разговора, 1000 сообщений и 30 Гб интернет-трафика\n",
    "Стоимость услуг сверх тарифного пакета:\n",
    "минута разговора: 1 рубль\n",
    "сообщение: 1 рубль\n",
    "1 Гб интернет-трафика: 150 рублей\n",
    "\n",
    "Примечание:\n",
    "«Мегалайн» всегда округляет секунды до минут, а мегабайты — до гигабайт. Каждый звонок округляется отдельно: даже если он длился всего 1 секунду, будет засчитан как 1 минута.\n",
    "Для веб-трафика отдельные сессии не считаются. Вместо этого общая сумма за месяц округляется в бо́льшую сторону. Если абонент использует 1025 мегабайт в этом месяце, с него возьмут плату за 2 гигабайта."
   ]
  },
  {
   "cell_type": "markdown",
   "metadata": {},
   "source": [
    "## Изучение данных из файла"
   ]
  },
  {
   "cell_type": "code",
   "execution_count": 16,
   "metadata": {},
   "outputs": [],
   "source": [
    "import pandas as pd\n",
    "import numpy as np\n",
    "import matplotlib.pyplot as plt\n",
    "from scipy import stats as st\n",
    "import os"
   ]
  },
  {
   "cell_type": "code",
   "execution_count": 17,
   "metadata": {},
   "outputs": [],
   "source": [
    "pth1 = '/datasets/calls.csv'\n",
    "pth2 = '/Users/Alex/Desktop/practicum_ds/projects/mobile_data/calls.csv'\n",
    "\n",
    "if os.path.exists(pth1):\n",
    "    df_calls = pd.read_csv(pth1)\n",
    "elif os.path.exists(pth2):\n",
    "    df_calls = pd.read_csv(pth2)\n",
    "else:\n",
    "    print('Something is wrong')"
   ]
  },
  {
   "cell_type": "markdown",
   "metadata": {},
   "source": []
  },
  {
   "cell_type": "code",
   "execution_count": 18,
   "metadata": {},
   "outputs": [],
   "source": [
    "#df_calls = pd.read_csv('/datasets/calls.csv')"
   ]
  },
  {
   "cell_type": "code",
   "execution_count": 19,
   "metadata": {},
   "outputs": [
    {
     "data": {
      "text/html": [
       "<div>\n",
       "<style scoped>\n",
       "    .dataframe tbody tr th:only-of-type {\n",
       "        vertical-align: middle;\n",
       "    }\n",
       "\n",
       "    .dataframe tbody tr th {\n",
       "        vertical-align: top;\n",
       "    }\n",
       "\n",
       "    .dataframe thead th {\n",
       "        text-align: right;\n",
       "    }\n",
       "</style>\n",
       "<table border=\"1\" class=\"dataframe\">\n",
       "  <thead>\n",
       "    <tr style=\"text-align: right;\">\n",
       "      <th></th>\n",
       "      <th>id</th>\n",
       "      <th>call_date</th>\n",
       "      <th>duration</th>\n",
       "      <th>user_id</th>\n",
       "    </tr>\n",
       "  </thead>\n",
       "  <tbody>\n",
       "    <tr>\n",
       "      <th>0</th>\n",
       "      <td>1000_0</td>\n",
       "      <td>2018-07-25</td>\n",
       "      <td>0.00</td>\n",
       "      <td>1000</td>\n",
       "    </tr>\n",
       "    <tr>\n",
       "      <th>1</th>\n",
       "      <td>1000_1</td>\n",
       "      <td>2018-08-17</td>\n",
       "      <td>0.00</td>\n",
       "      <td>1000</td>\n",
       "    </tr>\n",
       "    <tr>\n",
       "      <th>2</th>\n",
       "      <td>1000_2</td>\n",
       "      <td>2018-06-11</td>\n",
       "      <td>2.85</td>\n",
       "      <td>1000</td>\n",
       "    </tr>\n",
       "    <tr>\n",
       "      <th>3</th>\n",
       "      <td>1000_3</td>\n",
       "      <td>2018-09-21</td>\n",
       "      <td>13.80</td>\n",
       "      <td>1000</td>\n",
       "    </tr>\n",
       "    <tr>\n",
       "      <th>4</th>\n",
       "      <td>1000_4</td>\n",
       "      <td>2018-12-15</td>\n",
       "      <td>5.18</td>\n",
       "      <td>1000</td>\n",
       "    </tr>\n",
       "  </tbody>\n",
       "</table>\n",
       "</div>"
      ],
      "text/plain": [
       "       id   call_date  duration  user_id\n",
       "0  1000_0  2018-07-25      0.00     1000\n",
       "1  1000_1  2018-08-17      0.00     1000\n",
       "2  1000_2  2018-06-11      2.85     1000\n",
       "3  1000_3  2018-09-21     13.80     1000\n",
       "4  1000_4  2018-12-15      5.18     1000"
      ]
     },
     "execution_count": 19,
     "metadata": {},
     "output_type": "execute_result"
    }
   ],
   "source": [
    "df_calls.head()"
   ]
  },
  {
   "cell_type": "code",
   "execution_count": 20,
   "metadata": {},
   "outputs": [
    {
     "name": "stdout",
     "output_type": "stream",
     "text": [
      "<class 'pandas.core.frame.DataFrame'>\n",
      "RangeIndex: 202607 entries, 0 to 202606\n",
      "Data columns (total 4 columns):\n",
      " #   Column     Non-Null Count   Dtype  \n",
      "---  ------     --------------   -----  \n",
      " 0   id         202607 non-null  object \n",
      " 1   call_date  202607 non-null  object \n",
      " 2   duration   202607 non-null  float64\n",
      " 3   user_id    202607 non-null  int64  \n",
      "dtypes: float64(1), int64(1), object(2)\n",
      "memory usage: 6.2+ MB\n"
     ]
    }
   ],
   "source": [
    "df_calls.info()"
   ]
  },
  {
   "cell_type": "code",
   "execution_count": 21,
   "metadata": {},
   "outputs": [
    {
     "data": {
      "text/html": [
       "<div>\n",
       "<style scoped>\n",
       "    .dataframe tbody tr th:only-of-type {\n",
       "        vertical-align: middle;\n",
       "    }\n",
       "\n",
       "    .dataframe tbody tr th {\n",
       "        vertical-align: top;\n",
       "    }\n",
       "\n",
       "    .dataframe thead th {\n",
       "        text-align: right;\n",
       "    }\n",
       "</style>\n",
       "<table border=\"1\" class=\"dataframe\">\n",
       "  <thead>\n",
       "    <tr style=\"text-align: right;\">\n",
       "      <th></th>\n",
       "      <th>duration</th>\n",
       "      <th>user_id</th>\n",
       "    </tr>\n",
       "  </thead>\n",
       "  <tbody>\n",
       "    <tr>\n",
       "      <th>count</th>\n",
       "      <td>202607.000000</td>\n",
       "      <td>202607.000000</td>\n",
       "    </tr>\n",
       "    <tr>\n",
       "      <th>mean</th>\n",
       "      <td>6.755887</td>\n",
       "      <td>1253.940619</td>\n",
       "    </tr>\n",
       "    <tr>\n",
       "      <th>std</th>\n",
       "      <td>5.843365</td>\n",
       "      <td>144.722751</td>\n",
       "    </tr>\n",
       "    <tr>\n",
       "      <th>min</th>\n",
       "      <td>0.000000</td>\n",
       "      <td>1000.000000</td>\n",
       "    </tr>\n",
       "    <tr>\n",
       "      <th>25%</th>\n",
       "      <td>1.300000</td>\n",
       "      <td>1126.000000</td>\n",
       "    </tr>\n",
       "    <tr>\n",
       "      <th>50%</th>\n",
       "      <td>6.000000</td>\n",
       "      <td>1260.000000</td>\n",
       "    </tr>\n",
       "    <tr>\n",
       "      <th>75%</th>\n",
       "      <td>10.700000</td>\n",
       "      <td>1379.000000</td>\n",
       "    </tr>\n",
       "    <tr>\n",
       "      <th>max</th>\n",
       "      <td>38.000000</td>\n",
       "      <td>1499.000000</td>\n",
       "    </tr>\n",
       "  </tbody>\n",
       "</table>\n",
       "</div>"
      ],
      "text/plain": [
       "            duration        user_id\n",
       "count  202607.000000  202607.000000\n",
       "mean        6.755887    1253.940619\n",
       "std         5.843365     144.722751\n",
       "min         0.000000    1000.000000\n",
       "25%         1.300000    1126.000000\n",
       "50%         6.000000    1260.000000\n",
       "75%        10.700000    1379.000000\n",
       "max        38.000000    1499.000000"
      ]
     },
     "execution_count": 21,
     "metadata": {},
     "output_type": "execute_result"
    }
   ],
   "source": [
    "df_calls.describe()"
   ]
  },
  {
   "cell_type": "code",
   "execution_count": 22,
   "metadata": {},
   "outputs": [],
   "source": [
    "pth1 = '/datasets/internet.csv'\n",
    "pth2 = '/Users/Alex/Desktop/practicum_ds/projects/mobile_data/internet.csv'\n",
    "\n",
    "if os.path.exists(pth1):\n",
    "    df_internet = pd.read_csv(pth1)\n",
    "elif os.path.exists(pth2):\n",
    "    df_internet = pd.read_csv(pth2)\n",
    "else:\n",
    "    print('Something is wrong')"
   ]
  },
  {
   "cell_type": "code",
   "execution_count": 23,
   "metadata": {},
   "outputs": [],
   "source": [
    "#df_internet = pd.read_csv('/datasets/internet.csv')"
   ]
  },
  {
   "cell_type": "code",
   "execution_count": 24,
   "metadata": {},
   "outputs": [
    {
     "data": {
      "text/html": [
       "<div>\n",
       "<style scoped>\n",
       "    .dataframe tbody tr th:only-of-type {\n",
       "        vertical-align: middle;\n",
       "    }\n",
       "\n",
       "    .dataframe tbody tr th {\n",
       "        vertical-align: top;\n",
       "    }\n",
       "\n",
       "    .dataframe thead th {\n",
       "        text-align: right;\n",
       "    }\n",
       "</style>\n",
       "<table border=\"1\" class=\"dataframe\">\n",
       "  <thead>\n",
       "    <tr style=\"text-align: right;\">\n",
       "      <th></th>\n",
       "      <th>Unnamed: 0</th>\n",
       "      <th>id</th>\n",
       "      <th>mb_used</th>\n",
       "      <th>session_date</th>\n",
       "      <th>user_id</th>\n",
       "    </tr>\n",
       "  </thead>\n",
       "  <tbody>\n",
       "    <tr>\n",
       "      <th>0</th>\n",
       "      <td>0</td>\n",
       "      <td>1000_0</td>\n",
       "      <td>112.95</td>\n",
       "      <td>2018-11-25</td>\n",
       "      <td>1000</td>\n",
       "    </tr>\n",
       "    <tr>\n",
       "      <th>1</th>\n",
       "      <td>1</td>\n",
       "      <td>1000_1</td>\n",
       "      <td>1052.81</td>\n",
       "      <td>2018-09-07</td>\n",
       "      <td>1000</td>\n",
       "    </tr>\n",
       "    <tr>\n",
       "      <th>2</th>\n",
       "      <td>2</td>\n",
       "      <td>1000_2</td>\n",
       "      <td>1197.26</td>\n",
       "      <td>2018-06-25</td>\n",
       "      <td>1000</td>\n",
       "    </tr>\n",
       "    <tr>\n",
       "      <th>3</th>\n",
       "      <td>3</td>\n",
       "      <td>1000_3</td>\n",
       "      <td>550.27</td>\n",
       "      <td>2018-08-22</td>\n",
       "      <td>1000</td>\n",
       "    </tr>\n",
       "    <tr>\n",
       "      <th>4</th>\n",
       "      <td>4</td>\n",
       "      <td>1000_4</td>\n",
       "      <td>302.56</td>\n",
       "      <td>2018-09-24</td>\n",
       "      <td>1000</td>\n",
       "    </tr>\n",
       "  </tbody>\n",
       "</table>\n",
       "</div>"
      ],
      "text/plain": [
       "   Unnamed: 0      id  mb_used session_date  user_id\n",
       "0           0  1000_0   112.95   2018-11-25     1000\n",
       "1           1  1000_1  1052.81   2018-09-07     1000\n",
       "2           2  1000_2  1197.26   2018-06-25     1000\n",
       "3           3  1000_3   550.27   2018-08-22     1000\n",
       "4           4  1000_4   302.56   2018-09-24     1000"
      ]
     },
     "execution_count": 24,
     "metadata": {},
     "output_type": "execute_result"
    }
   ],
   "source": [
    "df_internet.head()"
   ]
  },
  {
   "cell_type": "code",
   "execution_count": 25,
   "metadata": {},
   "outputs": [
    {
     "name": "stdout",
     "output_type": "stream",
     "text": [
      "<class 'pandas.core.frame.DataFrame'>\n",
      "RangeIndex: 149396 entries, 0 to 149395\n",
      "Data columns (total 5 columns):\n",
      " #   Column        Non-Null Count   Dtype  \n",
      "---  ------        --------------   -----  \n",
      " 0   Unnamed: 0    149396 non-null  int64  \n",
      " 1   id            149396 non-null  object \n",
      " 2   mb_used       149396 non-null  float64\n",
      " 3   session_date  149396 non-null  object \n",
      " 4   user_id       149396 non-null  int64  \n",
      "dtypes: float64(1), int64(2), object(2)\n",
      "memory usage: 5.7+ MB\n"
     ]
    }
   ],
   "source": [
    "df_internet.info()"
   ]
  },
  {
   "cell_type": "code",
   "execution_count": 26,
   "metadata": {},
   "outputs": [
    {
     "data": {
      "text/html": [
       "<div>\n",
       "<style scoped>\n",
       "    .dataframe tbody tr th:only-of-type {\n",
       "        vertical-align: middle;\n",
       "    }\n",
       "\n",
       "    .dataframe tbody tr th {\n",
       "        vertical-align: top;\n",
       "    }\n",
       "\n",
       "    .dataframe thead th {\n",
       "        text-align: right;\n",
       "    }\n",
       "</style>\n",
       "<table border=\"1\" class=\"dataframe\">\n",
       "  <thead>\n",
       "    <tr style=\"text-align: right;\">\n",
       "      <th></th>\n",
       "      <th>Unnamed: 0</th>\n",
       "      <th>mb_used</th>\n",
       "      <th>user_id</th>\n",
       "    </tr>\n",
       "  </thead>\n",
       "  <tbody>\n",
       "    <tr>\n",
       "      <th>count</th>\n",
       "      <td>149396.000000</td>\n",
       "      <td>149396.000000</td>\n",
       "      <td>149396.000000</td>\n",
       "    </tr>\n",
       "    <tr>\n",
       "      <th>mean</th>\n",
       "      <td>74697.500000</td>\n",
       "      <td>370.192426</td>\n",
       "      <td>1252.099842</td>\n",
       "    </tr>\n",
       "    <tr>\n",
       "      <th>std</th>\n",
       "      <td>43127.054745</td>\n",
       "      <td>278.300951</td>\n",
       "      <td>144.050823</td>\n",
       "    </tr>\n",
       "    <tr>\n",
       "      <th>min</th>\n",
       "      <td>0.000000</td>\n",
       "      <td>0.000000</td>\n",
       "      <td>1000.000000</td>\n",
       "    </tr>\n",
       "    <tr>\n",
       "      <th>25%</th>\n",
       "      <td>37348.750000</td>\n",
       "      <td>138.187500</td>\n",
       "      <td>1130.000000</td>\n",
       "    </tr>\n",
       "    <tr>\n",
       "      <th>50%</th>\n",
       "      <td>74697.500000</td>\n",
       "      <td>348.015000</td>\n",
       "      <td>1251.000000</td>\n",
       "    </tr>\n",
       "    <tr>\n",
       "      <th>75%</th>\n",
       "      <td>112046.250000</td>\n",
       "      <td>559.552500</td>\n",
       "      <td>1380.000000</td>\n",
       "    </tr>\n",
       "    <tr>\n",
       "      <th>max</th>\n",
       "      <td>149395.000000</td>\n",
       "      <td>1724.830000</td>\n",
       "      <td>1499.000000</td>\n",
       "    </tr>\n",
       "  </tbody>\n",
       "</table>\n",
       "</div>"
      ],
      "text/plain": [
       "          Unnamed: 0        mb_used        user_id\n",
       "count  149396.000000  149396.000000  149396.000000\n",
       "mean    74697.500000     370.192426    1252.099842\n",
       "std     43127.054745     278.300951     144.050823\n",
       "min         0.000000       0.000000    1000.000000\n",
       "25%     37348.750000     138.187500    1130.000000\n",
       "50%     74697.500000     348.015000    1251.000000\n",
       "75%    112046.250000     559.552500    1380.000000\n",
       "max    149395.000000    1724.830000    1499.000000"
      ]
     },
     "execution_count": 26,
     "metadata": {},
     "output_type": "execute_result"
    }
   ],
   "source": [
    "df_internet.describe()"
   ]
  },
  {
   "cell_type": "code",
   "execution_count": 27,
   "metadata": {},
   "outputs": [],
   "source": [
    "pth1 = '/datasets/messages.csv'\n",
    "pth2 = '/Users/Alex/Desktop/practicum_ds/projects/mobile_data/messages.csv'\n",
    "\n",
    "if os.path.exists(pth1):\n",
    "    df_messages = pd.read_csv(pth1)\n",
    "elif os.path.exists(pth2):\n",
    "    df_messages = pd.read_csv(pth2)\n",
    "else:\n",
    "    print('Something is wrong')"
   ]
  },
  {
   "cell_type": "code",
   "execution_count": 28,
   "metadata": {},
   "outputs": [],
   "source": [
    "#df_messages = pd.read_csv('/datasets/messages.csv')"
   ]
  },
  {
   "cell_type": "code",
   "execution_count": 29,
   "metadata": {},
   "outputs": [
    {
     "data": {
      "text/html": [
       "<div>\n",
       "<style scoped>\n",
       "    .dataframe tbody tr th:only-of-type {\n",
       "        vertical-align: middle;\n",
       "    }\n",
       "\n",
       "    .dataframe tbody tr th {\n",
       "        vertical-align: top;\n",
       "    }\n",
       "\n",
       "    .dataframe thead th {\n",
       "        text-align: right;\n",
       "    }\n",
       "</style>\n",
       "<table border=\"1\" class=\"dataframe\">\n",
       "  <thead>\n",
       "    <tr style=\"text-align: right;\">\n",
       "      <th></th>\n",
       "      <th>id</th>\n",
       "      <th>message_date</th>\n",
       "      <th>user_id</th>\n",
       "    </tr>\n",
       "  </thead>\n",
       "  <tbody>\n",
       "    <tr>\n",
       "      <th>0</th>\n",
       "      <td>1000_0</td>\n",
       "      <td>2018-06-27</td>\n",
       "      <td>1000</td>\n",
       "    </tr>\n",
       "    <tr>\n",
       "      <th>1</th>\n",
       "      <td>1000_1</td>\n",
       "      <td>2018-10-08</td>\n",
       "      <td>1000</td>\n",
       "    </tr>\n",
       "    <tr>\n",
       "      <th>2</th>\n",
       "      <td>1000_2</td>\n",
       "      <td>2018-08-04</td>\n",
       "      <td>1000</td>\n",
       "    </tr>\n",
       "    <tr>\n",
       "      <th>3</th>\n",
       "      <td>1000_3</td>\n",
       "      <td>2018-06-16</td>\n",
       "      <td>1000</td>\n",
       "    </tr>\n",
       "    <tr>\n",
       "      <th>4</th>\n",
       "      <td>1000_4</td>\n",
       "      <td>2018-12-05</td>\n",
       "      <td>1000</td>\n",
       "    </tr>\n",
       "  </tbody>\n",
       "</table>\n",
       "</div>"
      ],
      "text/plain": [
       "       id message_date  user_id\n",
       "0  1000_0   2018-06-27     1000\n",
       "1  1000_1   2018-10-08     1000\n",
       "2  1000_2   2018-08-04     1000\n",
       "3  1000_3   2018-06-16     1000\n",
       "4  1000_4   2018-12-05     1000"
      ]
     },
     "execution_count": 29,
     "metadata": {},
     "output_type": "execute_result"
    }
   ],
   "source": [
    "df_messages.head()"
   ]
  },
  {
   "cell_type": "code",
   "execution_count": 30,
   "metadata": {},
   "outputs": [
    {
     "name": "stdout",
     "output_type": "stream",
     "text": [
      "<class 'pandas.core.frame.DataFrame'>\n",
      "RangeIndex: 123036 entries, 0 to 123035\n",
      "Data columns (total 3 columns):\n",
      " #   Column        Non-Null Count   Dtype \n",
      "---  ------        --------------   ----- \n",
      " 0   id            123036 non-null  object\n",
      " 1   message_date  123036 non-null  object\n",
      " 2   user_id       123036 non-null  int64 \n",
      "dtypes: int64(1), object(2)\n",
      "memory usage: 2.8+ MB\n"
     ]
    }
   ],
   "source": [
    "df_messages.info()"
   ]
  },
  {
   "cell_type": "code",
   "execution_count": 31,
   "metadata": {},
   "outputs": [
    {
     "data": {
      "text/html": [
       "<div>\n",
       "<style scoped>\n",
       "    .dataframe tbody tr th:only-of-type {\n",
       "        vertical-align: middle;\n",
       "    }\n",
       "\n",
       "    .dataframe tbody tr th {\n",
       "        vertical-align: top;\n",
       "    }\n",
       "\n",
       "    .dataframe thead th {\n",
       "        text-align: right;\n",
       "    }\n",
       "</style>\n",
       "<table border=\"1\" class=\"dataframe\">\n",
       "  <thead>\n",
       "    <tr style=\"text-align: right;\">\n",
       "      <th></th>\n",
       "      <th>user_id</th>\n",
       "    </tr>\n",
       "  </thead>\n",
       "  <tbody>\n",
       "    <tr>\n",
       "      <th>count</th>\n",
       "      <td>123036.000000</td>\n",
       "    </tr>\n",
       "    <tr>\n",
       "      <th>mean</th>\n",
       "      <td>1256.989410</td>\n",
       "    </tr>\n",
       "    <tr>\n",
       "      <th>std</th>\n",
       "      <td>143.523967</td>\n",
       "    </tr>\n",
       "    <tr>\n",
       "      <th>min</th>\n",
       "      <td>1000.000000</td>\n",
       "    </tr>\n",
       "    <tr>\n",
       "      <th>25%</th>\n",
       "      <td>1134.000000</td>\n",
       "    </tr>\n",
       "    <tr>\n",
       "      <th>50%</th>\n",
       "      <td>1271.000000</td>\n",
       "    </tr>\n",
       "    <tr>\n",
       "      <th>75%</th>\n",
       "      <td>1381.000000</td>\n",
       "    </tr>\n",
       "    <tr>\n",
       "      <th>max</th>\n",
       "      <td>1499.000000</td>\n",
       "    </tr>\n",
       "  </tbody>\n",
       "</table>\n",
       "</div>"
      ],
      "text/plain": [
       "             user_id\n",
       "count  123036.000000\n",
       "mean     1256.989410\n",
       "std       143.523967\n",
       "min      1000.000000\n",
       "25%      1134.000000\n",
       "50%      1271.000000\n",
       "75%      1381.000000\n",
       "max      1499.000000"
      ]
     },
     "execution_count": 31,
     "metadata": {},
     "output_type": "execute_result"
    }
   ],
   "source": [
    "df_messages.describe()"
   ]
  },
  {
   "cell_type": "code",
   "execution_count": 32,
   "metadata": {},
   "outputs": [],
   "source": [
    "pth1 = '/datasets/tariffs.csv'\n",
    "pth2 = '/Users/Alex/Desktop/practicum_ds/projects/mobile_data/tariffs.csv'\n",
    "\n",
    "if os.path.exists(pth1):\n",
    "    df_tariffs = pd.read_csv(pth1)\n",
    "elif os.path.exists(pth2):\n",
    "    df_tariffs = pd.read_csv(pth2)\n",
    "else:\n",
    "    print('Something is wrong')"
   ]
  },
  {
   "cell_type": "code",
   "execution_count": 33,
   "metadata": {},
   "outputs": [],
   "source": [
    "#df_tariffs = pd.read_csv('/datasets/tarrifs.csv')"
   ]
  },
  {
   "cell_type": "code",
   "execution_count": 34,
   "metadata": {},
   "outputs": [
    {
     "data": {
      "text/html": [
       "<div>\n",
       "<style scoped>\n",
       "    .dataframe tbody tr th:only-of-type {\n",
       "        vertical-align: middle;\n",
       "    }\n",
       "\n",
       "    .dataframe tbody tr th {\n",
       "        vertical-align: top;\n",
       "    }\n",
       "\n",
       "    .dataframe thead th {\n",
       "        text-align: right;\n",
       "    }\n",
       "</style>\n",
       "<table border=\"1\" class=\"dataframe\">\n",
       "  <thead>\n",
       "    <tr style=\"text-align: right;\">\n",
       "      <th></th>\n",
       "      <th>messages_included</th>\n",
       "      <th>mb_per_month_included</th>\n",
       "      <th>minutes_included</th>\n",
       "      <th>rub_monthly_fee</th>\n",
       "      <th>rub_per_gb</th>\n",
       "      <th>rub_per_message</th>\n",
       "      <th>rub_per_minute</th>\n",
       "      <th>tariff_name</th>\n",
       "    </tr>\n",
       "  </thead>\n",
       "  <tbody>\n",
       "    <tr>\n",
       "      <th>0</th>\n",
       "      <td>50</td>\n",
       "      <td>15360</td>\n",
       "      <td>500</td>\n",
       "      <td>550</td>\n",
       "      <td>200</td>\n",
       "      <td>3</td>\n",
       "      <td>3</td>\n",
       "      <td>smart</td>\n",
       "    </tr>\n",
       "    <tr>\n",
       "      <th>1</th>\n",
       "      <td>1000</td>\n",
       "      <td>30720</td>\n",
       "      <td>3000</td>\n",
       "      <td>1950</td>\n",
       "      <td>150</td>\n",
       "      <td>1</td>\n",
       "      <td>1</td>\n",
       "      <td>ultra</td>\n",
       "    </tr>\n",
       "  </tbody>\n",
       "</table>\n",
       "</div>"
      ],
      "text/plain": [
       "   messages_included  mb_per_month_included  minutes_included  \\\n",
       "0                 50                  15360               500   \n",
       "1               1000                  30720              3000   \n",
       "\n",
       "   rub_monthly_fee  rub_per_gb  rub_per_message  rub_per_minute tariff_name  \n",
       "0              550         200                3               3       smart  \n",
       "1             1950         150                1               1       ultra  "
      ]
     },
     "execution_count": 34,
     "metadata": {},
     "output_type": "execute_result"
    }
   ],
   "source": [
    "df_tariffs.head()"
   ]
  },
  {
   "cell_type": "code",
   "execution_count": 35,
   "metadata": {},
   "outputs": [
    {
     "name": "stdout",
     "output_type": "stream",
     "text": [
      "<class 'pandas.core.frame.DataFrame'>\n",
      "RangeIndex: 2 entries, 0 to 1\n",
      "Data columns (total 8 columns):\n",
      " #   Column                 Non-Null Count  Dtype \n",
      "---  ------                 --------------  ----- \n",
      " 0   messages_included      2 non-null      int64 \n",
      " 1   mb_per_month_included  2 non-null      int64 \n",
      " 2   minutes_included       2 non-null      int64 \n",
      " 3   rub_monthly_fee        2 non-null      int64 \n",
      " 4   rub_per_gb             2 non-null      int64 \n",
      " 5   rub_per_message        2 non-null      int64 \n",
      " 6   rub_per_minute         2 non-null      int64 \n",
      " 7   tariff_name            2 non-null      object\n",
      "dtypes: int64(7), object(1)\n",
      "memory usage: 256.0+ bytes\n"
     ]
    }
   ],
   "source": [
    "df_tariffs.info()"
   ]
  },
  {
   "cell_type": "code",
   "execution_count": 36,
   "metadata": {},
   "outputs": [],
   "source": [
    "pth1 = '/datasets/users.csv'\n",
    "pth2 = '/Users/Alex/Desktop/practicum_ds/projects/mobile_data/users.csv'\n",
    "\n",
    "if os.path.exists(pth1):\n",
    "    df_users = pd.read_csv(pth1)\n",
    "elif os.path.exists(pth2):\n",
    "    df_users = pd.read_csv(pth2)\n",
    "else:\n",
    "    print('Something is wrong')"
   ]
  },
  {
   "cell_type": "code",
   "execution_count": 37,
   "metadata": {},
   "outputs": [],
   "source": [
    "#df_users = pd.read_csv('/datasets/users.csv')"
   ]
  },
  {
   "cell_type": "code",
   "execution_count": 38,
   "metadata": {},
   "outputs": [
    {
     "data": {
      "text/html": [
       "<div>\n",
       "<style scoped>\n",
       "    .dataframe tbody tr th:only-of-type {\n",
       "        vertical-align: middle;\n",
       "    }\n",
       "\n",
       "    .dataframe tbody tr th {\n",
       "        vertical-align: top;\n",
       "    }\n",
       "\n",
       "    .dataframe thead th {\n",
       "        text-align: right;\n",
       "    }\n",
       "</style>\n",
       "<table border=\"1\" class=\"dataframe\">\n",
       "  <thead>\n",
       "    <tr style=\"text-align: right;\">\n",
       "      <th></th>\n",
       "      <th>user_id</th>\n",
       "      <th>age</th>\n",
       "      <th>churn_date</th>\n",
       "      <th>city</th>\n",
       "      <th>first_name</th>\n",
       "      <th>last_name</th>\n",
       "      <th>reg_date</th>\n",
       "      <th>tariff</th>\n",
       "    </tr>\n",
       "  </thead>\n",
       "  <tbody>\n",
       "    <tr>\n",
       "      <th>0</th>\n",
       "      <td>1000</td>\n",
       "      <td>52</td>\n",
       "      <td>NaN</td>\n",
       "      <td>Краснодар</td>\n",
       "      <td>Рафаил</td>\n",
       "      <td>Верещагин</td>\n",
       "      <td>2018-05-25</td>\n",
       "      <td>ultra</td>\n",
       "    </tr>\n",
       "    <tr>\n",
       "      <th>1</th>\n",
       "      <td>1001</td>\n",
       "      <td>41</td>\n",
       "      <td>NaN</td>\n",
       "      <td>Москва</td>\n",
       "      <td>Иван</td>\n",
       "      <td>Ежов</td>\n",
       "      <td>2018-11-01</td>\n",
       "      <td>smart</td>\n",
       "    </tr>\n",
       "    <tr>\n",
       "      <th>2</th>\n",
       "      <td>1002</td>\n",
       "      <td>59</td>\n",
       "      <td>NaN</td>\n",
       "      <td>Стерлитамак</td>\n",
       "      <td>Евгений</td>\n",
       "      <td>Абрамович</td>\n",
       "      <td>2018-06-17</td>\n",
       "      <td>smart</td>\n",
       "    </tr>\n",
       "    <tr>\n",
       "      <th>3</th>\n",
       "      <td>1003</td>\n",
       "      <td>23</td>\n",
       "      <td>NaN</td>\n",
       "      <td>Москва</td>\n",
       "      <td>Белла</td>\n",
       "      <td>Белякова</td>\n",
       "      <td>2018-08-17</td>\n",
       "      <td>ultra</td>\n",
       "    </tr>\n",
       "    <tr>\n",
       "      <th>4</th>\n",
       "      <td>1004</td>\n",
       "      <td>68</td>\n",
       "      <td>NaN</td>\n",
       "      <td>Новокузнецк</td>\n",
       "      <td>Татьяна</td>\n",
       "      <td>Авдеенко</td>\n",
       "      <td>2018-05-14</td>\n",
       "      <td>ultra</td>\n",
       "    </tr>\n",
       "  </tbody>\n",
       "</table>\n",
       "</div>"
      ],
      "text/plain": [
       "   user_id  age churn_date         city first_name  last_name    reg_date  \\\n",
       "0     1000   52        NaN    Краснодар     Рафаил  Верещагин  2018-05-25   \n",
       "1     1001   41        NaN       Москва       Иван       Ежов  2018-11-01   \n",
       "2     1002   59        NaN  Стерлитамак    Евгений  Абрамович  2018-06-17   \n",
       "3     1003   23        NaN       Москва      Белла   Белякова  2018-08-17   \n",
       "4     1004   68        NaN  Новокузнецк    Татьяна   Авдеенко  2018-05-14   \n",
       "\n",
       "  tariff  \n",
       "0  ultra  \n",
       "1  smart  \n",
       "2  smart  \n",
       "3  ultra  \n",
       "4  ultra  "
      ]
     },
     "execution_count": 38,
     "metadata": {},
     "output_type": "execute_result"
    }
   ],
   "source": [
    "df_users.head()"
   ]
  },
  {
   "cell_type": "code",
   "execution_count": 39,
   "metadata": {},
   "outputs": [
    {
     "name": "stdout",
     "output_type": "stream",
     "text": [
      "<class 'pandas.core.frame.DataFrame'>\n",
      "RangeIndex: 500 entries, 0 to 499\n",
      "Data columns (total 8 columns):\n",
      " #   Column      Non-Null Count  Dtype \n",
      "---  ------      --------------  ----- \n",
      " 0   user_id     500 non-null    int64 \n",
      " 1   age         500 non-null    int64 \n",
      " 2   churn_date  38 non-null     object\n",
      " 3   city        500 non-null    object\n",
      " 4   first_name  500 non-null    object\n",
      " 5   last_name   500 non-null    object\n",
      " 6   reg_date    500 non-null    object\n",
      " 7   tariff      500 non-null    object\n",
      "dtypes: int64(2), object(6)\n",
      "memory usage: 31.4+ KB\n"
     ]
    }
   ],
   "source": [
    "df_users.info()"
   ]
  },
  {
   "cell_type": "code",
   "execution_count": 40,
   "metadata": {},
   "outputs": [
    {
     "data": {
      "text/plain": [
       "array(['ultra', 'smart'], dtype=object)"
      ]
     },
     "execution_count": 40,
     "metadata": {},
     "output_type": "execute_result"
    }
   ],
   "source": [
    "df_users['tariff'].unique()"
   ]
  },
  {
   "cell_type": "markdown",
   "metadata": {},
   "source": [
    "### Вывод"
   ]
  },
  {
   "cell_type": "markdown",
   "metadata": {},
   "source": [
    "Описание данных:\n",
    "\n",
    "Таблица users (информация о пользователях):\n",
    "\n",
    "- user_id — уникальный идентификатор пользователя\n",
    "- first_name — имя пользователя\n",
    "- last_name — фамилия пользователя\n",
    "- age — возраст пользователя (годы)\n",
    "- reg_date — дата подключения тарифа (день, месяц, год)\n",
    "- churn_date — дата прекращения пользования тарифом (если значение пропущено, то тариф ещё действовал на момент выгрузки данных)\n",
    "- city — город проживания пользователя\n",
    "- tariff — название тарифного плана\n",
    "\n",
    "Таблица calls (информация о звонках):\n",
    "\n",
    "- id — уникальный номер звонка\n",
    "- call_date — дата звонка\n",
    "- duration — длительность звонка в минутах\n",
    "- user_id — идентификатор пользователя, сделавшего звонок\n",
    "\n",
    "Таблица messages (информация о сообщениях):\n",
    "\n",
    "- id — уникальный номер сообщения\n",
    "- message_date — дата сообщения\n",
    "- user_id — идентификатор пользователя, отправившего сообщение\n",
    "\n",
    "Таблица internet (информация об интернет-сессиях):\n",
    "\n",
    "- id — уникальный номер сессии\n",
    "- mb_used — объём потраченного за сессию интернет-трафика (в мегабайтах)\n",
    "- session_date — дата интернет-сессии\n",
    "- user_id — идентификатор пользователя\n",
    "\n",
    "Таблица tariffs (информация о тарифах):\n",
    "\n",
    "- tariff_name — название тарифа\n",
    "- rub_monthly_fee — ежемесячная абонентская плата в рублях\n",
    "- minutes_included — количество минут разговора в месяц, включённых в абонентскую плату\n",
    "- messages_included — количество сообщений в месяц, включённых в абонентскую плату\n",
    "- mb_per_month_included — объём интернет-трафика, включённого в абонентскую плату (в мегабайтах)\n",
    "- rub_per_minute — стоимость минуты разговора сверх тарифного пакета (например, если в тарифе 100 минут разговора в месяц, то со 101 минуты будет взиматься плата)\n",
    "- rub_per_message — стоимость отправки сообщения сверх тарифного пакета\n",
    "- rub_per_gb — стоимость дополнительного гигабайта интернет-трафика сверх тарифного пакета (1 гигабайт = 1024 мегабайта)\n",
    "\n",
    "\n",
    "1. Предварительно можно утверждать, что, данных достаточно для решения задачи.\n",
    "2. Пропусков в данных нет, за исключением churn_date.\n",
    "3. В первом приближении артефакты (аномалии)* не обнаружены (значения, которые не отражают действительность и появились по какой-то ошибке).\n",
    "4. Количественные данные представлены в формате int or float.\n",
    "5. Данные даты и времени представлены в формате object.\n",
    "6. Соблюдение требований к стилю в названии колонок:\n",
    "- Строчные буквы.\n",
    "- Отсутствие пробелов.\n",
    "- Использован «змеиный_регистр» (snake_case)"
   ]
  },
  {
   "cell_type": "markdown",
   "metadata": {},
   "source": [
    "## Предобработка данных"
   ]
  },
  {
   "cell_type": "code",
   "execution_count": 41,
   "metadata": {},
   "outputs": [],
   "source": [
    "# переименование столбцов\n",
    "df_calls = df_calls.rename(columns={'id':'calls_id'})\n",
    "df_messages = df_messages.rename(columns={'id':'messages_id'})\n",
    "df_internet = df_internet.rename(columns={'id':'internet_ses_id'})\n",
    "df_tariffs = df_tariffs.rename(columns={'tariff_name':'tariff'})"
   ]
  },
  {
   "cell_type": "markdown",
   "metadata": {},
   "source": [
    "**Округление в большую сторону согласно тарифов компании.**"
   ]
  },
  {
   "cell_type": "code",
   "execution_count": 98,
   "metadata": {},
   "outputs": [],
   "source": [
    "df_calls['duration'] = df_calls['duration'].apply(np.ceil).astype('int')"
   ]
  },
  {
   "cell_type": "markdown",
   "metadata": {},
   "source": [
    "**Проверка на дубликаты.**"
   ]
  },
  {
   "cell_type": "code",
   "execution_count": 43,
   "metadata": {},
   "outputs": [
    {
     "data": {
      "text/plain": [
       "0"
      ]
     },
     "metadata": {},
     "output_type": "display_data"
    },
    {
     "data": {
      "text/plain": [
       "0"
      ]
     },
     "metadata": {},
     "output_type": "display_data"
    },
    {
     "data": {
      "text/plain": [
       "0"
      ]
     },
     "metadata": {},
     "output_type": "display_data"
    },
    {
     "data": {
      "text/plain": [
       "0"
      ]
     },
     "metadata": {},
     "output_type": "display_data"
    }
   ],
   "source": [
    "# подсчёт явных дубликатов\n",
    "display(df_calls.duplicated().sum())\n",
    "display(df_internet.duplicated().sum())\n",
    "display(df_messages.duplicated().sum())\n",
    "display(df_users.duplicated().sum())"
   ]
  },
  {
   "cell_type": "markdown",
   "metadata": {},
   "source": [
    "### Изменение типов данных."
   ]
  },
  {
   "cell_type": "code",
   "execution_count": 44,
   "metadata": {},
   "outputs": [],
   "source": [
    "# Замена типа object в столбцах с дата-временными данными\n",
    "df_calls['call_date'] = pd.to_datetime(df_calls['call_date'], format='%Y-%m-%d')\n",
    "df_internet['session_date'] = pd.to_datetime(df_internet['session_date'], format='%Y-%m-%d')\n",
    "df_messages['message_date'] = pd.to_datetime(df_messages['message_date'], format='%Y-%m-%d')\n",
    "df_users['reg_date'] = pd.to_datetime(df_users['reg_date'], format='%Y-%m-%d')"
   ]
  },
  {
   "cell_type": "markdown",
   "metadata": {},
   "source": [
    "Замена типа object в столбцах с дата-временными данными, чтобы появилась возможность проводить анализ."
   ]
  },
  {
   "cell_type": "markdown",
   "metadata": {},
   "source": [
    "## Расчет для каждого пользователя:"
   ]
  },
  {
   "cell_type": "markdown",
   "metadata": {},
   "source": [
    "**Количество сделанных звонков и израсходованных минут разговора по месяцам**"
   ]
  },
  {
   "cell_type": "code",
   "execution_count": 45,
   "metadata": {},
   "outputs": [],
   "source": [
    "# посчитано и добавлено в таблицу месяц\n",
    "df_calls['month'] = df_calls['call_date'].dt.month\n",
    "df_messages['month'] = df_messages['message_date'].dt.month\n",
    "df_internet['month'] = df_internet['session_date'].dt.month"
   ]
  },
  {
   "cell_type": "code",
   "execution_count": 46,
   "metadata": {},
   "outputs": [
    {
     "data": {
      "text/html": [
       "<div>\n",
       "<style scoped>\n",
       "    .dataframe tbody tr th:only-of-type {\n",
       "        vertical-align: middle;\n",
       "    }\n",
       "\n",
       "    .dataframe tbody tr th {\n",
       "        vertical-align: top;\n",
       "    }\n",
       "\n",
       "    .dataframe thead th {\n",
       "        text-align: right;\n",
       "    }\n",
       "</style>\n",
       "<table border=\"1\" class=\"dataframe\">\n",
       "  <thead>\n",
       "    <tr style=\"text-align: right;\">\n",
       "      <th></th>\n",
       "      <th>user_id</th>\n",
       "      <th>month</th>\n",
       "      <th>calls_count</th>\n",
       "      <th>minutes_used</th>\n",
       "    </tr>\n",
       "  </thead>\n",
       "  <tbody>\n",
       "    <tr>\n",
       "      <th>0</th>\n",
       "      <td>1000</td>\n",
       "      <td>5</td>\n",
       "      <td>22</td>\n",
       "      <td>159</td>\n",
       "    </tr>\n",
       "    <tr>\n",
       "      <th>1</th>\n",
       "      <td>1000</td>\n",
       "      <td>6</td>\n",
       "      <td>43</td>\n",
       "      <td>172</td>\n",
       "    </tr>\n",
       "    <tr>\n",
       "      <th>2</th>\n",
       "      <td>1000</td>\n",
       "      <td>7</td>\n",
       "      <td>47</td>\n",
       "      <td>340</td>\n",
       "    </tr>\n",
       "    <tr>\n",
       "      <th>3</th>\n",
       "      <td>1000</td>\n",
       "      <td>8</td>\n",
       "      <td>52</td>\n",
       "      <td>408</td>\n",
       "    </tr>\n",
       "    <tr>\n",
       "      <th>4</th>\n",
       "      <td>1000</td>\n",
       "      <td>9</td>\n",
       "      <td>58</td>\n",
       "      <td>466</td>\n",
       "    </tr>\n",
       "    <tr>\n",
       "      <th>...</th>\n",
       "      <td>...</td>\n",
       "      <td>...</td>\n",
       "      <td>...</td>\n",
       "      <td>...</td>\n",
       "    </tr>\n",
       "    <tr>\n",
       "      <th>3169</th>\n",
       "      <td>1498</td>\n",
       "      <td>10</td>\n",
       "      <td>41</td>\n",
       "      <td>247</td>\n",
       "    </tr>\n",
       "    <tr>\n",
       "      <th>3170</th>\n",
       "      <td>1499</td>\n",
       "      <td>9</td>\n",
       "      <td>9</td>\n",
       "      <td>70</td>\n",
       "    </tr>\n",
       "    <tr>\n",
       "      <th>3171</th>\n",
       "      <td>1499</td>\n",
       "      <td>10</td>\n",
       "      <td>68</td>\n",
       "      <td>449</td>\n",
       "    </tr>\n",
       "    <tr>\n",
       "      <th>3172</th>\n",
       "      <td>1499</td>\n",
       "      <td>11</td>\n",
       "      <td>74</td>\n",
       "      <td>612</td>\n",
       "    </tr>\n",
       "    <tr>\n",
       "      <th>3173</th>\n",
       "      <td>1499</td>\n",
       "      <td>12</td>\n",
       "      <td>69</td>\n",
       "      <td>492</td>\n",
       "    </tr>\n",
       "  </tbody>\n",
       "</table>\n",
       "<p>3174 rows × 4 columns</p>\n",
       "</div>"
      ],
      "text/plain": [
       "      user_id  month  calls_count  minutes_used\n",
       "0        1000      5           22           159\n",
       "1        1000      6           43           172\n",
       "2        1000      7           47           340\n",
       "3        1000      8           52           408\n",
       "4        1000      9           58           466\n",
       "...       ...    ...          ...           ...\n",
       "3169     1498     10           41           247\n",
       "3170     1499      9            9            70\n",
       "3171     1499     10           68           449\n",
       "3172     1499     11           74           612\n",
       "3173     1499     12           69           492\n",
       "\n",
       "[3174 rows x 4 columns]"
      ]
     },
     "execution_count": 46,
     "metadata": {},
     "output_type": "execute_result"
    }
   ],
   "source": [
    "df_calls_pivot = df_calls.pivot_table(index=['user_id', 'month'], values='duration', aggfunc=['count', 'sum']).reset_index()\n",
    "df_calls_pivot.columns = ['user_id', 'month', 'calls_count', 'minutes_used']\n",
    "df_calls_pivot"
   ]
  },
  {
   "cell_type": "markdown",
   "metadata": {},
   "source": [
    "**количество отправленных сообщений по месяцам**"
   ]
  },
  {
   "cell_type": "code",
   "execution_count": 47,
   "metadata": {},
   "outputs": [
    {
     "data": {
      "text/html": [
       "<div>\n",
       "<style scoped>\n",
       "    .dataframe tbody tr th:only-of-type {\n",
       "        vertical-align: middle;\n",
       "    }\n",
       "\n",
       "    .dataframe tbody tr th {\n",
       "        vertical-align: top;\n",
       "    }\n",
       "\n",
       "    .dataframe thead th {\n",
       "        text-align: right;\n",
       "    }\n",
       "</style>\n",
       "<table border=\"1\" class=\"dataframe\">\n",
       "  <thead>\n",
       "    <tr style=\"text-align: right;\">\n",
       "      <th></th>\n",
       "      <th>user_id</th>\n",
       "      <th>month</th>\n",
       "      <th>messages_used</th>\n",
       "    </tr>\n",
       "  </thead>\n",
       "  <tbody>\n",
       "    <tr>\n",
       "      <th>0</th>\n",
       "      <td>1000</td>\n",
       "      <td>5</td>\n",
       "      <td>22</td>\n",
       "    </tr>\n",
       "    <tr>\n",
       "      <th>1</th>\n",
       "      <td>1000</td>\n",
       "      <td>6</td>\n",
       "      <td>60</td>\n",
       "    </tr>\n",
       "    <tr>\n",
       "      <th>2</th>\n",
       "      <td>1000</td>\n",
       "      <td>7</td>\n",
       "      <td>75</td>\n",
       "    </tr>\n",
       "    <tr>\n",
       "      <th>3</th>\n",
       "      <td>1000</td>\n",
       "      <td>8</td>\n",
       "      <td>81</td>\n",
       "    </tr>\n",
       "    <tr>\n",
       "      <th>4</th>\n",
       "      <td>1000</td>\n",
       "      <td>9</td>\n",
       "      <td>57</td>\n",
       "    </tr>\n",
       "    <tr>\n",
       "      <th>...</th>\n",
       "      <td>...</td>\n",
       "      <td>...</td>\n",
       "      <td>...</td>\n",
       "    </tr>\n",
       "    <tr>\n",
       "      <th>2712</th>\n",
       "      <td>1498</td>\n",
       "      <td>10</td>\n",
       "      <td>42</td>\n",
       "    </tr>\n",
       "    <tr>\n",
       "      <th>2713</th>\n",
       "      <td>1499</td>\n",
       "      <td>9</td>\n",
       "      <td>11</td>\n",
       "    </tr>\n",
       "    <tr>\n",
       "      <th>2714</th>\n",
       "      <td>1499</td>\n",
       "      <td>10</td>\n",
       "      <td>48</td>\n",
       "    </tr>\n",
       "    <tr>\n",
       "      <th>2715</th>\n",
       "      <td>1499</td>\n",
       "      <td>11</td>\n",
       "      <td>59</td>\n",
       "    </tr>\n",
       "    <tr>\n",
       "      <th>2716</th>\n",
       "      <td>1499</td>\n",
       "      <td>12</td>\n",
       "      <td>66</td>\n",
       "    </tr>\n",
       "  </tbody>\n",
       "</table>\n",
       "<p>2717 rows × 3 columns</p>\n",
       "</div>"
      ],
      "text/plain": [
       "      user_id  month  messages_used\n",
       "0        1000      5             22\n",
       "1        1000      6             60\n",
       "2        1000      7             75\n",
       "3        1000      8             81\n",
       "4        1000      9             57\n",
       "...       ...    ...            ...\n",
       "2712     1498     10             42\n",
       "2713     1499      9             11\n",
       "2714     1499     10             48\n",
       "2715     1499     11             59\n",
       "2716     1499     12             66\n",
       "\n",
       "[2717 rows x 3 columns]"
      ]
     },
     "execution_count": 47,
     "metadata": {},
     "output_type": "execute_result"
    }
   ],
   "source": [
    "df_messages_pivot = df_messages.pivot_table(index=['user_id', 'month'], values='messages_id', aggfunc='count').reset_index()\n",
    "df_messages_pivot.columns = ['user_id', 'month', 'messages_used']\n",
    "df_messages_pivot"
   ]
  },
  {
   "cell_type": "markdown",
   "metadata": {},
   "source": [
    "**объем израсходованного интернет-трафика по месяцам**"
   ]
  },
  {
   "cell_type": "code",
   "execution_count": 48,
   "metadata": {},
   "outputs": [],
   "source": [
    "# округление до гегабайта по итогам месяца согласно тарифного плана\n",
    "def gb_used(mb_used):  \n",
    "    if mb_used%1024 > 0:\n",
    "        return (mb_used - mb_used%1024 + 1024) / 1024\n",
    "    else:\n",
    "        return mb_used / 1024"
   ]
  },
  {
   "cell_type": "code",
   "execution_count": 49,
   "metadata": {},
   "outputs": [
    {
     "data": {
      "text/html": [
       "<div>\n",
       "<style scoped>\n",
       "    .dataframe tbody tr th:only-of-type {\n",
       "        vertical-align: middle;\n",
       "    }\n",
       "\n",
       "    .dataframe tbody tr th {\n",
       "        vertical-align: top;\n",
       "    }\n",
       "\n",
       "    .dataframe thead th {\n",
       "        text-align: right;\n",
       "    }\n",
       "</style>\n",
       "<table border=\"1\" class=\"dataframe\">\n",
       "  <thead>\n",
       "    <tr style=\"text-align: right;\">\n",
       "      <th></th>\n",
       "      <th>user_id</th>\n",
       "      <th>month</th>\n",
       "      <th>mb_used</th>\n",
       "      <th>gb_used</th>\n",
       "    </tr>\n",
       "  </thead>\n",
       "  <tbody>\n",
       "    <tr>\n",
       "      <th>0</th>\n",
       "      <td>1000</td>\n",
       "      <td>5</td>\n",
       "      <td>2253.49</td>\n",
       "      <td>3.0</td>\n",
       "    </tr>\n",
       "    <tr>\n",
       "      <th>1</th>\n",
       "      <td>1000</td>\n",
       "      <td>6</td>\n",
       "      <td>23233.77</td>\n",
       "      <td>23.0</td>\n",
       "    </tr>\n",
       "    <tr>\n",
       "      <th>2</th>\n",
       "      <td>1000</td>\n",
       "      <td>7</td>\n",
       "      <td>14003.64</td>\n",
       "      <td>14.0</td>\n",
       "    </tr>\n",
       "    <tr>\n",
       "      <th>3</th>\n",
       "      <td>1000</td>\n",
       "      <td>8</td>\n",
       "      <td>14055.93</td>\n",
       "      <td>14.0</td>\n",
       "    </tr>\n",
       "    <tr>\n",
       "      <th>4</th>\n",
       "      <td>1000</td>\n",
       "      <td>9</td>\n",
       "      <td>14568.91</td>\n",
       "      <td>15.0</td>\n",
       "    </tr>\n",
       "    <tr>\n",
       "      <th>...</th>\n",
       "      <td>...</td>\n",
       "      <td>...</td>\n",
       "      <td>...</td>\n",
       "      <td>...</td>\n",
       "    </tr>\n",
       "    <tr>\n",
       "      <th>3198</th>\n",
       "      <td>1498</td>\n",
       "      <td>10</td>\n",
       "      <td>20579.36</td>\n",
       "      <td>21.0</td>\n",
       "    </tr>\n",
       "    <tr>\n",
       "      <th>3199</th>\n",
       "      <td>1499</td>\n",
       "      <td>9</td>\n",
       "      <td>1845.75</td>\n",
       "      <td>2.0</td>\n",
       "    </tr>\n",
       "    <tr>\n",
       "      <th>3200</th>\n",
       "      <td>1499</td>\n",
       "      <td>10</td>\n",
       "      <td>17788.51</td>\n",
       "      <td>18.0</td>\n",
       "    </tr>\n",
       "    <tr>\n",
       "      <th>3201</th>\n",
       "      <td>1499</td>\n",
       "      <td>11</td>\n",
       "      <td>17963.31</td>\n",
       "      <td>18.0</td>\n",
       "    </tr>\n",
       "    <tr>\n",
       "      <th>3202</th>\n",
       "      <td>1499</td>\n",
       "      <td>12</td>\n",
       "      <td>13055.58</td>\n",
       "      <td>13.0</td>\n",
       "    </tr>\n",
       "  </tbody>\n",
       "</table>\n",
       "<p>3203 rows × 4 columns</p>\n",
       "</div>"
      ],
      "text/plain": [
       "      user_id  month   mb_used  gb_used\n",
       "0        1000      5   2253.49      3.0\n",
       "1        1000      6  23233.77     23.0\n",
       "2        1000      7  14003.64     14.0\n",
       "3        1000      8  14055.93     14.0\n",
       "4        1000      9  14568.91     15.0\n",
       "...       ...    ...       ...      ...\n",
       "3198     1498     10  20579.36     21.0\n",
       "3199     1499      9   1845.75      2.0\n",
       "3200     1499     10  17788.51     18.0\n",
       "3201     1499     11  17963.31     18.0\n",
       "3202     1499     12  13055.58     13.0\n",
       "\n",
       "[3203 rows x 4 columns]"
      ]
     },
     "execution_count": 49,
     "metadata": {},
     "output_type": "execute_result"
    }
   ],
   "source": [
    "df_internet_pivot = df_internet.pivot_table(index=['user_id', 'month'], values='mb_used', aggfunc='sum').reset_index()\n",
    "df_internet_pivot['gb_used'] = df_internet_pivot['mb_used'].apply(gb_used)\n",
    "df_internet_pivot"
   ]
  },
  {
   "cell_type": "code",
   "execution_count": 50,
   "metadata": {},
   "outputs": [],
   "source": [
    "df_tariffs['gb_per_month_included'] = df_tariffs['mb_per_month_included']/1024"
   ]
  },
  {
   "cell_type": "markdown",
   "metadata": {},
   "source": [
    "**помесячной выручки с каждого пользователя (вычтите бесплатный лимит из суммарного количества звонков, сообщений и интернет-трафика; остаток умножьте на значение из тарифного плана; прибавьте абонентскую плату, соответствующую тарифному плану).**"
   ]
  },
  {
   "cell_type": "code",
   "execution_count": 51,
   "metadata": {},
   "outputs": [
    {
     "data": {
      "text/html": [
       "<div>\n",
       "<style scoped>\n",
       "    .dataframe tbody tr th:only-of-type {\n",
       "        vertical-align: middle;\n",
       "    }\n",
       "\n",
       "    .dataframe tbody tr th {\n",
       "        vertical-align: top;\n",
       "    }\n",
       "\n",
       "    .dataframe thead th {\n",
       "        text-align: right;\n",
       "    }\n",
       "</style>\n",
       "<table border=\"1\" class=\"dataframe\">\n",
       "  <thead>\n",
       "    <tr style=\"text-align: right;\">\n",
       "      <th></th>\n",
       "      <th>user_id</th>\n",
       "      <th>month</th>\n",
       "      <th>mb_used</th>\n",
       "      <th>gb_used</th>\n",
       "      <th>calls_count</th>\n",
       "      <th>minutes_used</th>\n",
       "      <th>messages_used</th>\n",
       "      <th>age</th>\n",
       "      <th>churn_date</th>\n",
       "      <th>city</th>\n",
       "      <th>...</th>\n",
       "      <th>reg_date</th>\n",
       "      <th>tariff</th>\n",
       "      <th>messages_included</th>\n",
       "      <th>mb_per_month_included</th>\n",
       "      <th>minutes_included</th>\n",
       "      <th>rub_monthly_fee</th>\n",
       "      <th>rub_per_gb</th>\n",
       "      <th>rub_per_message</th>\n",
       "      <th>rub_per_minute</th>\n",
       "      <th>gb_per_month_included</th>\n",
       "    </tr>\n",
       "  </thead>\n",
       "  <tbody>\n",
       "    <tr>\n",
       "      <th>0</th>\n",
       "      <td>1000</td>\n",
       "      <td>5.0</td>\n",
       "      <td>2253.49</td>\n",
       "      <td>3.0</td>\n",
       "      <td>22.0</td>\n",
       "      <td>159.0</td>\n",
       "      <td>22.0</td>\n",
       "      <td>52</td>\n",
       "      <td>NaN</td>\n",
       "      <td>Краснодар</td>\n",
       "      <td>...</td>\n",
       "      <td>2018-05-25</td>\n",
       "      <td>ultra</td>\n",
       "      <td>1000</td>\n",
       "      <td>30720</td>\n",
       "      <td>3000</td>\n",
       "      <td>1950</td>\n",
       "      <td>150</td>\n",
       "      <td>1</td>\n",
       "      <td>1</td>\n",
       "      <td>30.0</td>\n",
       "    </tr>\n",
       "    <tr>\n",
       "      <th>1</th>\n",
       "      <td>1000</td>\n",
       "      <td>6.0</td>\n",
       "      <td>23233.77</td>\n",
       "      <td>23.0</td>\n",
       "      <td>43.0</td>\n",
       "      <td>172.0</td>\n",
       "      <td>60.0</td>\n",
       "      <td>52</td>\n",
       "      <td>NaN</td>\n",
       "      <td>Краснодар</td>\n",
       "      <td>...</td>\n",
       "      <td>2018-05-25</td>\n",
       "      <td>ultra</td>\n",
       "      <td>1000</td>\n",
       "      <td>30720</td>\n",
       "      <td>3000</td>\n",
       "      <td>1950</td>\n",
       "      <td>150</td>\n",
       "      <td>1</td>\n",
       "      <td>1</td>\n",
       "      <td>30.0</td>\n",
       "    </tr>\n",
       "    <tr>\n",
       "      <th>2</th>\n",
       "      <td>1000</td>\n",
       "      <td>7.0</td>\n",
       "      <td>14003.64</td>\n",
       "      <td>14.0</td>\n",
       "      <td>47.0</td>\n",
       "      <td>340.0</td>\n",
       "      <td>75.0</td>\n",
       "      <td>52</td>\n",
       "      <td>NaN</td>\n",
       "      <td>Краснодар</td>\n",
       "      <td>...</td>\n",
       "      <td>2018-05-25</td>\n",
       "      <td>ultra</td>\n",
       "      <td>1000</td>\n",
       "      <td>30720</td>\n",
       "      <td>3000</td>\n",
       "      <td>1950</td>\n",
       "      <td>150</td>\n",
       "      <td>1</td>\n",
       "      <td>1</td>\n",
       "      <td>30.0</td>\n",
       "    </tr>\n",
       "    <tr>\n",
       "      <th>3</th>\n",
       "      <td>1000</td>\n",
       "      <td>8.0</td>\n",
       "      <td>14055.93</td>\n",
       "      <td>14.0</td>\n",
       "      <td>52.0</td>\n",
       "      <td>408.0</td>\n",
       "      <td>81.0</td>\n",
       "      <td>52</td>\n",
       "      <td>NaN</td>\n",
       "      <td>Краснодар</td>\n",
       "      <td>...</td>\n",
       "      <td>2018-05-25</td>\n",
       "      <td>ultra</td>\n",
       "      <td>1000</td>\n",
       "      <td>30720</td>\n",
       "      <td>3000</td>\n",
       "      <td>1950</td>\n",
       "      <td>150</td>\n",
       "      <td>1</td>\n",
       "      <td>1</td>\n",
       "      <td>30.0</td>\n",
       "    </tr>\n",
       "    <tr>\n",
       "      <th>4</th>\n",
       "      <td>1000</td>\n",
       "      <td>9.0</td>\n",
       "      <td>14568.91</td>\n",
       "      <td>15.0</td>\n",
       "      <td>58.0</td>\n",
       "      <td>466.0</td>\n",
       "      <td>57.0</td>\n",
       "      <td>52</td>\n",
       "      <td>NaN</td>\n",
       "      <td>Краснодар</td>\n",
       "      <td>...</td>\n",
       "      <td>2018-05-25</td>\n",
       "      <td>ultra</td>\n",
       "      <td>1000</td>\n",
       "      <td>30720</td>\n",
       "      <td>3000</td>\n",
       "      <td>1950</td>\n",
       "      <td>150</td>\n",
       "      <td>1</td>\n",
       "      <td>1</td>\n",
       "      <td>30.0</td>\n",
       "    </tr>\n",
       "  </tbody>\n",
       "</table>\n",
       "<p>5 rows × 22 columns</p>\n",
       "</div>"
      ],
      "text/plain": [
       "   user_id  month   mb_used  gb_used  calls_count  minutes_used  \\\n",
       "0     1000    5.0   2253.49      3.0         22.0         159.0   \n",
       "1     1000    6.0  23233.77     23.0         43.0         172.0   \n",
       "2     1000    7.0  14003.64     14.0         47.0         340.0   \n",
       "3     1000    8.0  14055.93     14.0         52.0         408.0   \n",
       "4     1000    9.0  14568.91     15.0         58.0         466.0   \n",
       "\n",
       "   messages_used  age churn_date       city  ...   reg_date tariff  \\\n",
       "0           22.0   52        NaN  Краснодар  ... 2018-05-25  ultra   \n",
       "1           60.0   52        NaN  Краснодар  ... 2018-05-25  ultra   \n",
       "2           75.0   52        NaN  Краснодар  ... 2018-05-25  ultra   \n",
       "3           81.0   52        NaN  Краснодар  ... 2018-05-25  ultra   \n",
       "4           57.0   52        NaN  Краснодар  ... 2018-05-25  ultra   \n",
       "\n",
       "  messages_included mb_per_month_included  minutes_included  rub_monthly_fee  \\\n",
       "0              1000                 30720              3000             1950   \n",
       "1              1000                 30720              3000             1950   \n",
       "2              1000                 30720              3000             1950   \n",
       "3              1000                 30720              3000             1950   \n",
       "4              1000                 30720              3000             1950   \n",
       "\n",
       "   rub_per_gb  rub_per_message  rub_per_minute  gb_per_month_included  \n",
       "0         150                1               1                   30.0  \n",
       "1         150                1               1                   30.0  \n",
       "2         150                1               1                   30.0  \n",
       "3         150                1               1                   30.0  \n",
       "4         150                1               1                   30.0  \n",
       "\n",
       "[5 rows x 22 columns]"
      ]
     },
     "metadata": {},
     "output_type": "display_data"
    }
   ],
   "source": [
    "df = pd.merge(df_internet_pivot, df_calls_pivot, how = 'outer', left_on=['user_id','month'], right_on = ['user_id','month'])\n",
    "df = df.merge(df_messages_pivot, how = 'outer', left_on=['user_id','month'], right_on = ['user_id','month'])\n",
    "df = df.merge(df_users, how = 'outer', on='user_id')\n",
    "df = df.merge(df_tariffs, how = 'outer', on='tariff')\n",
    "display(df.head())"
   ]
  },
  {
   "cell_type": "code",
   "execution_count": 52,
   "metadata": {},
   "outputs": [
    {
     "data": {
      "text/plain": [
       "user_id                     0\n",
       "month                       2\n",
       "mb_used                    13\n",
       "gb_used                    13\n",
       "calls_count                42\n",
       "minutes_used               42\n",
       "messages_used             499\n",
       "age                         0\n",
       "churn_date               3027\n",
       "city                        0\n",
       "first_name                  0\n",
       "last_name                   0\n",
       "reg_date                    0\n",
       "tariff                      0\n",
       "messages_included           0\n",
       "mb_per_month_included       0\n",
       "minutes_included            0\n",
       "rub_monthly_fee             0\n",
       "rub_per_gb                  0\n",
       "rub_per_message             0\n",
       "rub_per_minute              0\n",
       "gb_per_month_included       0\n",
       "dtype: int64"
      ]
     },
     "execution_count": 52,
     "metadata": {},
     "output_type": "execute_result"
    }
   ],
   "source": [
    "df.isna().sum() # подсчёт пропусков"
   ]
  },
  {
   "cell_type": "markdown",
   "metadata": {},
   "source": [
    "**Заполнение пропусков**"
   ]
  },
  {
   "cell_type": "code",
   "execution_count": 53,
   "metadata": {},
   "outputs": [],
   "source": [
    "# перебор названий столбцов в цикле и замена пропущенных значений на 0\n",
    "columns_to_replace = ['mb_used', 'gb_used', 'calls_count', 'minutes_used', 'messages_used']\n",
    "\n",
    "for column in columns_to_replace:\n",
    "    df[column] = df[column].fillna(0)"
   ]
  },
  {
   "cell_type": "code",
   "execution_count": 54,
   "metadata": {},
   "outputs": [
    {
     "data": {
      "text/html": [
       "<div>\n",
       "<style scoped>\n",
       "    .dataframe tbody tr th:only-of-type {\n",
       "        vertical-align: middle;\n",
       "    }\n",
       "\n",
       "    .dataframe tbody tr th {\n",
       "        vertical-align: top;\n",
       "    }\n",
       "\n",
       "    .dataframe thead th {\n",
       "        text-align: right;\n",
       "    }\n",
       "</style>\n",
       "<table border=\"1\" class=\"dataframe\">\n",
       "  <thead>\n",
       "    <tr style=\"text-align: right;\">\n",
       "      <th></th>\n",
       "      <th>user_id</th>\n",
       "      <th>month</th>\n",
       "      <th>mb_used</th>\n",
       "      <th>gb_used</th>\n",
       "      <th>calls_count</th>\n",
       "      <th>minutes_used</th>\n",
       "      <th>messages_used</th>\n",
       "      <th>age</th>\n",
       "      <th>churn_date</th>\n",
       "      <th>city</th>\n",
       "      <th>...</th>\n",
       "      <th>reg_date</th>\n",
       "      <th>tariff</th>\n",
       "      <th>messages_included</th>\n",
       "      <th>mb_per_month_included</th>\n",
       "      <th>minutes_included</th>\n",
       "      <th>rub_monthly_fee</th>\n",
       "      <th>rub_per_gb</th>\n",
       "      <th>rub_per_message</th>\n",
       "      <th>rub_per_minute</th>\n",
       "      <th>gb_per_month_included</th>\n",
       "    </tr>\n",
       "  </thead>\n",
       "  <tbody>\n",
       "    <tr>\n",
       "      <th>985</th>\n",
       "      <td>1128</td>\n",
       "      <td>NaN</td>\n",
       "      <td>0.0</td>\n",
       "      <td>0.0</td>\n",
       "      <td>0.0</td>\n",
       "      <td>0.0</td>\n",
       "      <td>0.0</td>\n",
       "      <td>51</td>\n",
       "      <td>2018-12-23</td>\n",
       "      <td>Волжский</td>\n",
       "      <td>...</td>\n",
       "      <td>2018-12-15</td>\n",
       "      <td>ultra</td>\n",
       "      <td>1000</td>\n",
       "      <td>30720</td>\n",
       "      <td>3000</td>\n",
       "      <td>1950</td>\n",
       "      <td>150</td>\n",
       "      <td>1</td>\n",
       "      <td>1</td>\n",
       "      <td>30.0</td>\n",
       "    </tr>\n",
       "    <tr>\n",
       "      <th>3215</th>\n",
       "      <td>1371</td>\n",
       "      <td>NaN</td>\n",
       "      <td>0.0</td>\n",
       "      <td>0.0</td>\n",
       "      <td>0.0</td>\n",
       "      <td>0.0</td>\n",
       "      <td>0.0</td>\n",
       "      <td>50</td>\n",
       "      <td>2018-12-30</td>\n",
       "      <td>Омск</td>\n",
       "      <td>...</td>\n",
       "      <td>2018-12-25</td>\n",
       "      <td>smart</td>\n",
       "      <td>50</td>\n",
       "      <td>15360</td>\n",
       "      <td>500</td>\n",
       "      <td>550</td>\n",
       "      <td>200</td>\n",
       "      <td>3</td>\n",
       "      <td>3</td>\n",
       "      <td>15.0</td>\n",
       "    </tr>\n",
       "  </tbody>\n",
       "</table>\n",
       "<p>2 rows × 22 columns</p>\n",
       "</div>"
      ],
      "text/plain": [
       "      user_id  month  mb_used  gb_used  calls_count  minutes_used  \\\n",
       "985      1128    NaN      0.0      0.0          0.0           0.0   \n",
       "3215     1371    NaN      0.0      0.0          0.0           0.0   \n",
       "\n",
       "      messages_used  age  churn_date      city  ...   reg_date tariff  \\\n",
       "985             0.0   51  2018-12-23  Волжский  ... 2018-12-15  ultra   \n",
       "3215            0.0   50  2018-12-30      Омск  ... 2018-12-25  smart   \n",
       "\n",
       "     messages_included mb_per_month_included  minutes_included  \\\n",
       "985               1000                 30720              3000   \n",
       "3215                50                 15360               500   \n",
       "\n",
       "      rub_monthly_fee  rub_per_gb  rub_per_message  rub_per_minute  \\\n",
       "985              1950         150                1               1   \n",
       "3215              550         200                3               3   \n",
       "\n",
       "      gb_per_month_included  \n",
       "985                    30.0  \n",
       "3215                   15.0  \n",
       "\n",
       "[2 rows x 22 columns]"
      ]
     },
     "execution_count": 54,
     "metadata": {},
     "output_type": "execute_result"
    }
   ],
   "source": [
    "df[df['month'].isna()]"
   ]
  },
  {
   "cell_type": "code",
   "execution_count": 55,
   "metadata": {},
   "outputs": [],
   "source": [
    "# удаление строк с пропусками в столбце month\n",
    "df = df.dropna(subset=['month'])"
   ]
  },
  {
   "cell_type": "code",
   "execution_count": 56,
   "metadata": {},
   "outputs": [],
   "source": [
    "# расчет перерасхода согласно тарифного плана\n",
    "def over_used(tariff, included, used):\n",
    "    if tariff == 'smart':\n",
    "        if used - included > 0:\n",
    "            return used - included\n",
    "        else:\n",
    "            return 0\n",
    "    elif tariff == 'ultra':\n",
    "        if used - included > 0:\n",
    "            return used - included\n",
    "        else:\n",
    "            return 0\n",
    "\n",
    "            \n",
    "df['minutes_over_used'] = df.apply(lambda x: over_used(x['tariff'], x['minutes_included'], x['minutes_used']), axis=1)\n",
    "df['messages_over_used'] = df.apply(lambda x: over_used(x['tariff'], x['messages_included'], x['messages_used']), axis=1)\n",
    "df['gb_over_used'] = df.apply(lambda x: over_used(x['tariff'], x['gb_per_month_included'], x['gb_used']), axis=1)"
   ]
  },
  {
   "cell_type": "code",
   "execution_count": 57,
   "metadata": {},
   "outputs": [],
   "source": [
    "# расчет помесячной выручки с каждого пользователя \n",
    "df['income'] = df['minutes_over_used'] * df['rub_per_minute'] + df['messages_over_used'] * df['rub_per_message'] + df['gb_over_used'] * df['rub_per_gb'] + df['rub_monthly_fee']"
   ]
  },
  {
   "cell_type": "code",
   "execution_count": 86,
   "metadata": {},
   "outputs": [
    {
     "data": {
      "text/html": [
       "<div>\n",
       "<style scoped>\n",
       "    .dataframe tbody tr th:only-of-type {\n",
       "        vertical-align: middle;\n",
       "    }\n",
       "\n",
       "    .dataframe tbody tr th {\n",
       "        vertical-align: top;\n",
       "    }\n",
       "\n",
       "    .dataframe thead th {\n",
       "        text-align: right;\n",
       "    }\n",
       "</style>\n",
       "<table border=\"1\" class=\"dataframe\">\n",
       "  <thead>\n",
       "    <tr style=\"text-align: right;\">\n",
       "      <th></th>\n",
       "      <th>user_id</th>\n",
       "      <th>month</th>\n",
       "      <th>mb_used</th>\n",
       "      <th>gb_used</th>\n",
       "      <th>calls_count</th>\n",
       "      <th>minutes_used</th>\n",
       "      <th>messages_used</th>\n",
       "      <th>age</th>\n",
       "      <th>churn_date</th>\n",
       "      <th>city</th>\n",
       "      <th>...</th>\n",
       "      <th>minutes_included</th>\n",
       "      <th>rub_monthly_fee</th>\n",
       "      <th>rub_per_gb</th>\n",
       "      <th>rub_per_message</th>\n",
       "      <th>rub_per_minute</th>\n",
       "      <th>gb_per_month_included</th>\n",
       "      <th>minutes_over_used</th>\n",
       "      <th>messages_over_used</th>\n",
       "      <th>gb_over_used</th>\n",
       "      <th>income</th>\n",
       "    </tr>\n",
       "  </thead>\n",
       "  <tbody>\n",
       "    <tr>\n",
       "      <th>0</th>\n",
       "      <td>1000</td>\n",
       "      <td>5.0</td>\n",
       "      <td>2253.49</td>\n",
       "      <td>3.0</td>\n",
       "      <td>22.0</td>\n",
       "      <td>159.0</td>\n",
       "      <td>22.0</td>\n",
       "      <td>52</td>\n",
       "      <td>NaN</td>\n",
       "      <td>Краснодар</td>\n",
       "      <td>...</td>\n",
       "      <td>3000</td>\n",
       "      <td>1950</td>\n",
       "      <td>150</td>\n",
       "      <td>1</td>\n",
       "      <td>1</td>\n",
       "      <td>30.0</td>\n",
       "      <td>0.0</td>\n",
       "      <td>0.0</td>\n",
       "      <td>0.0</td>\n",
       "      <td>1950.0</td>\n",
       "    </tr>\n",
       "    <tr>\n",
       "      <th>1</th>\n",
       "      <td>1000</td>\n",
       "      <td>6.0</td>\n",
       "      <td>23233.77</td>\n",
       "      <td>23.0</td>\n",
       "      <td>43.0</td>\n",
       "      <td>172.0</td>\n",
       "      <td>60.0</td>\n",
       "      <td>52</td>\n",
       "      <td>NaN</td>\n",
       "      <td>Краснодар</td>\n",
       "      <td>...</td>\n",
       "      <td>3000</td>\n",
       "      <td>1950</td>\n",
       "      <td>150</td>\n",
       "      <td>1</td>\n",
       "      <td>1</td>\n",
       "      <td>30.0</td>\n",
       "      <td>0.0</td>\n",
       "      <td>0.0</td>\n",
       "      <td>0.0</td>\n",
       "      <td>1950.0</td>\n",
       "    </tr>\n",
       "    <tr>\n",
       "      <th>2</th>\n",
       "      <td>1000</td>\n",
       "      <td>7.0</td>\n",
       "      <td>14003.64</td>\n",
       "      <td>14.0</td>\n",
       "      <td>47.0</td>\n",
       "      <td>340.0</td>\n",
       "      <td>75.0</td>\n",
       "      <td>52</td>\n",
       "      <td>NaN</td>\n",
       "      <td>Краснодар</td>\n",
       "      <td>...</td>\n",
       "      <td>3000</td>\n",
       "      <td>1950</td>\n",
       "      <td>150</td>\n",
       "      <td>1</td>\n",
       "      <td>1</td>\n",
       "      <td>30.0</td>\n",
       "      <td>0.0</td>\n",
       "      <td>0.0</td>\n",
       "      <td>0.0</td>\n",
       "      <td>1950.0</td>\n",
       "    </tr>\n",
       "    <tr>\n",
       "      <th>3</th>\n",
       "      <td>1000</td>\n",
       "      <td>8.0</td>\n",
       "      <td>14055.93</td>\n",
       "      <td>14.0</td>\n",
       "      <td>52.0</td>\n",
       "      <td>408.0</td>\n",
       "      <td>81.0</td>\n",
       "      <td>52</td>\n",
       "      <td>NaN</td>\n",
       "      <td>Краснодар</td>\n",
       "      <td>...</td>\n",
       "      <td>3000</td>\n",
       "      <td>1950</td>\n",
       "      <td>150</td>\n",
       "      <td>1</td>\n",
       "      <td>1</td>\n",
       "      <td>30.0</td>\n",
       "      <td>0.0</td>\n",
       "      <td>0.0</td>\n",
       "      <td>0.0</td>\n",
       "      <td>1950.0</td>\n",
       "    </tr>\n",
       "    <tr>\n",
       "      <th>4</th>\n",
       "      <td>1000</td>\n",
       "      <td>9.0</td>\n",
       "      <td>14568.91</td>\n",
       "      <td>15.0</td>\n",
       "      <td>58.0</td>\n",
       "      <td>466.0</td>\n",
       "      <td>57.0</td>\n",
       "      <td>52</td>\n",
       "      <td>NaN</td>\n",
       "      <td>Краснодар</td>\n",
       "      <td>...</td>\n",
       "      <td>3000</td>\n",
       "      <td>1950</td>\n",
       "      <td>150</td>\n",
       "      <td>1</td>\n",
       "      <td>1</td>\n",
       "      <td>30.0</td>\n",
       "      <td>0.0</td>\n",
       "      <td>0.0</td>\n",
       "      <td>0.0</td>\n",
       "      <td>1950.0</td>\n",
       "    </tr>\n",
       "  </tbody>\n",
       "</table>\n",
       "<p>5 rows × 26 columns</p>\n",
       "</div>"
      ],
      "text/plain": [
       "   user_id  month   mb_used  gb_used  calls_count  minutes_used  \\\n",
       "0     1000    5.0   2253.49      3.0         22.0         159.0   \n",
       "1     1000    6.0  23233.77     23.0         43.0         172.0   \n",
       "2     1000    7.0  14003.64     14.0         47.0         340.0   \n",
       "3     1000    8.0  14055.93     14.0         52.0         408.0   \n",
       "4     1000    9.0  14568.91     15.0         58.0         466.0   \n",
       "\n",
       "   messages_used  age churn_date       city  ... minutes_included  \\\n",
       "0           22.0   52        NaN  Краснодар  ...             3000   \n",
       "1           60.0   52        NaN  Краснодар  ...             3000   \n",
       "2           75.0   52        NaN  Краснодар  ...             3000   \n",
       "3           81.0   52        NaN  Краснодар  ...             3000   \n",
       "4           57.0   52        NaN  Краснодар  ...             3000   \n",
       "\n",
       "  rub_monthly_fee rub_per_gb rub_per_message  rub_per_minute  \\\n",
       "0            1950        150               1               1   \n",
       "1            1950        150               1               1   \n",
       "2            1950        150               1               1   \n",
       "3            1950        150               1               1   \n",
       "4            1950        150               1               1   \n",
       "\n",
       "   gb_per_month_included  minutes_over_used  messages_over_used  gb_over_used  \\\n",
       "0                   30.0                0.0                 0.0           0.0   \n",
       "1                   30.0                0.0                 0.0           0.0   \n",
       "2                   30.0                0.0                 0.0           0.0   \n",
       "3                   30.0                0.0                 0.0           0.0   \n",
       "4                   30.0                0.0                 0.0           0.0   \n",
       "\n",
       "   income  \n",
       "0  1950.0  \n",
       "1  1950.0  \n",
       "2  1950.0  \n",
       "3  1950.0  \n",
       "4  1950.0  \n",
       "\n",
       "[5 rows x 26 columns]"
      ]
     },
     "execution_count": 86,
     "metadata": {},
     "output_type": "execute_result"
    }
   ],
   "source": [
    "df.head()"
   ]
  },
  {
   "cell_type": "markdown",
   "metadata": {},
   "source": [
    "## Исследовательский анализ данных"
   ]
  },
  {
   "cell_type": "code",
   "execution_count": 58,
   "metadata": {},
   "outputs": [],
   "source": [
    "# формула расчета усов\n",
    "\n",
    "def mustache(param):\n",
    "    q3 = param.describe()[6]\n",
    "    q1 = param.describe()[4]\n",
    "    iqr = q3 - q1\n",
    "    right_mustache_border = min(q3 + 1.5*iqr, param.describe()[7]).round()\n",
    "    left_mustache_border = max(q1 - 1.5*iqr, param.describe()[3]).round()\n",
    "    return left_mustache_border, right_mustache_border"
   ]
  },
  {
   "cell_type": "markdown",
   "metadata": {},
   "source": [
    "**Tariff ultra**"
   ]
  },
  {
   "cell_type": "code",
   "execution_count": 59,
   "metadata": {},
   "outputs": [
    {
     "data": {
      "text/html": [
       "<div>\n",
       "<style scoped>\n",
       "    .dataframe tbody tr th:only-of-type {\n",
       "        vertical-align: middle;\n",
       "    }\n",
       "\n",
       "    .dataframe tbody tr th {\n",
       "        vertical-align: top;\n",
       "    }\n",
       "\n",
       "    .dataframe thead th {\n",
       "        text-align: right;\n",
       "    }\n",
       "</style>\n",
       "<table border=\"1\" class=\"dataframe\">\n",
       "  <thead>\n",
       "    <tr style=\"text-align: right;\">\n",
       "      <th></th>\n",
       "      <th>minutes_used</th>\n",
       "      <th>minutes_included</th>\n",
       "      <th>messages_used</th>\n",
       "      <th>messages_included</th>\n",
       "      <th>gb_used</th>\n",
       "      <th>gb_per_month_included</th>\n",
       "    </tr>\n",
       "  </thead>\n",
       "  <tbody>\n",
       "    <tr>\n",
       "      <th>count</th>\n",
       "      <td>985.00</td>\n",
       "      <td>985.0</td>\n",
       "      <td>985.00</td>\n",
       "      <td>985.0</td>\n",
       "      <td>985.00</td>\n",
       "      <td>985.0</td>\n",
       "    </tr>\n",
       "    <tr>\n",
       "      <th>mean</th>\n",
       "      <td>526.62</td>\n",
       "      <td>3000.0</td>\n",
       "      <td>49.36</td>\n",
       "      <td>1000.0</td>\n",
       "      <td>19.49</td>\n",
       "      <td>30.0</td>\n",
       "    </tr>\n",
       "    <tr>\n",
       "      <th>std</th>\n",
       "      <td>317.61</td>\n",
       "      <td>0.0</td>\n",
       "      <td>47.80</td>\n",
       "      <td>0.0</td>\n",
       "      <td>9.85</td>\n",
       "      <td>0.0</td>\n",
       "    </tr>\n",
       "    <tr>\n",
       "      <th>min</th>\n",
       "      <td>0.00</td>\n",
       "      <td>3000.0</td>\n",
       "      <td>0.00</td>\n",
       "      <td>1000.0</td>\n",
       "      <td>0.00</td>\n",
       "      <td>30.0</td>\n",
       "    </tr>\n",
       "    <tr>\n",
       "      <th>25%</th>\n",
       "      <td>284.00</td>\n",
       "      <td>3000.0</td>\n",
       "      <td>6.00</td>\n",
       "      <td>1000.0</td>\n",
       "      <td>12.00</td>\n",
       "      <td>30.0</td>\n",
       "    </tr>\n",
       "    <tr>\n",
       "      <th>50%</th>\n",
       "      <td>518.00</td>\n",
       "      <td>3000.0</td>\n",
       "      <td>38.00</td>\n",
       "      <td>1000.0</td>\n",
       "      <td>19.00</td>\n",
       "      <td>30.0</td>\n",
       "    </tr>\n",
       "    <tr>\n",
       "      <th>75%</th>\n",
       "      <td>752.00</td>\n",
       "      <td>3000.0</td>\n",
       "      <td>79.00</td>\n",
       "      <td>1000.0</td>\n",
       "      <td>27.00</td>\n",
       "      <td>30.0</td>\n",
       "    </tr>\n",
       "    <tr>\n",
       "      <th>max</th>\n",
       "      <td>1673.00</td>\n",
       "      <td>3000.0</td>\n",
       "      <td>224.00</td>\n",
       "      <td>1000.0</td>\n",
       "      <td>49.00</td>\n",
       "      <td>30.0</td>\n",
       "    </tr>\n",
       "  </tbody>\n",
       "</table>\n",
       "</div>"
      ],
      "text/plain": [
       "       minutes_used  minutes_included  messages_used  messages_included  \\\n",
       "count        985.00             985.0         985.00              985.0   \n",
       "mean         526.62            3000.0          49.36             1000.0   \n",
       "std          317.61               0.0          47.80                0.0   \n",
       "min            0.00            3000.0           0.00             1000.0   \n",
       "25%          284.00            3000.0           6.00             1000.0   \n",
       "50%          518.00            3000.0          38.00             1000.0   \n",
       "75%          752.00            3000.0          79.00             1000.0   \n",
       "max         1673.00            3000.0         224.00             1000.0   \n",
       "\n",
       "       gb_used  gb_per_month_included  \n",
       "count   985.00                  985.0  \n",
       "mean     19.49                   30.0  \n",
       "std       9.85                    0.0  \n",
       "min       0.00                   30.0  \n",
       "25%      12.00                   30.0  \n",
       "50%      19.00                   30.0  \n",
       "75%      27.00                   30.0  \n",
       "max      49.00                   30.0  "
      ]
     },
     "execution_count": 59,
     "metadata": {},
     "output_type": "execute_result"
    }
   ],
   "source": [
    "# сравнение парамметров describe\n",
    "df.query('tariff == \"ultra\"')[['minutes_used', 'minutes_included', 'messages_used', 'messages_included', 'gb_used', 'gb_per_month_included']].describe().round(2)"
   ]
  },
  {
   "cell_type": "code",
   "execution_count": 60,
   "metadata": {},
   "outputs": [
    {
     "data": {
      "text/plain": [
       "minutes_used     100771.223617\n",
       "messages_used      2282.946075\n",
       "gb_used              96.993116\n",
       "dtype: float64"
      ]
     },
     "execution_count": 60,
     "metadata": {},
     "output_type": "execute_result"
    }
   ],
   "source": [
    "# дисперсия\n",
    "np.var(df.query('tariff == \"ultra\"')[['minutes_used', 'messages_used', 'gb_used']])"
   ]
  },
  {
   "cell_type": "code",
   "execution_count": 61,
   "metadata": {},
   "outputs": [
    {
     "data": {
      "image/png": "[encoded data removed]",
      "text/plain": [
       "<Figure size 432x288 with 1 Axes>"
      ]
     },
     "metadata": {
      "needs_background": "light"
     },
     "output_type": "display_data"
    }
   ],
   "source": [
    "# гисторграмма minutes_used\n",
    "df.query('tariff == \"ultra\"')['minutes_used'].hist().set_title('tariff_ultra_minutes');\n",
    "plt.axvline(x=df.query('tariff == \"ultra\"')['minutes_used'].mean(), color='k', linestyle='dashed', linewidth=1);"
   ]
  },
  {
   "cell_type": "code",
   "execution_count": 62,
   "metadata": {},
   "outputs": [
    {
     "data": {
      "text/plain": [
       "(0.0, 1454.0)"
      ]
     },
     "execution_count": 62,
     "metadata": {},
     "output_type": "execute_result"
    }
   ],
   "source": [
    "# посчитаем значение усов\n",
    "ultra_mus_minutes = mustache(df.query('tariff == \"ultra\"')['minutes_used'])\n",
    "ultra_mus_minutes"
   ]
  },
  {
   "cell_type": "code",
   "execution_count": 63,
   "metadata": {},
   "outputs": [
    {
     "data": {
      "image/png": "[encoded data removed]",
      "text/plain": [
       "<Figure size 432x288 with 1 Axes>"
      ]
     },
     "metadata": {
      "needs_background": "light"
     },
     "output_type": "display_data"
    }
   ],
   "source": [
    "plt.boxplot(df.query('tariff == \"ultra\"')['minutes_used']);\n",
    "plt.title('Диаграмма размаха для помесячной длительности звонков на тарифе Ультра\\n')\n",
    "plt.show()"
   ]
  },
  {
   "cell_type": "code",
   "execution_count": 64,
   "metadata": {},
   "outputs": [
    {
     "data": {
      "text/plain": [
       "0.25    284.0\n",
       "0.50    518.0\n",
       "0.75    752.0\n",
       "Name: minutes_used, dtype: float64"
      ]
     },
     "execution_count": 64,
     "metadata": {},
     "output_type": "execute_result"
    }
   ],
   "source": [
    "df.query('tariff == \"ultra\"')['minutes_used'].quantile([0.25,0.5,0.75])"
   ]
  },
  {
   "cell_type": "code",
   "execution_count": 65,
   "metadata": {},
   "outputs": [
    {
     "data": {
      "image/png": "[encoded data removed]",
      "text/plain": [
       "<Figure size 432x288 with 1 Axes>"
      ]
     },
     "metadata": {
      "needs_background": "light"
     },
     "output_type": "display_data"
    }
   ],
   "source": [
    "# гисторграмма messages_used\n",
    "df.query('tariff == \"ultra\"')['messages_used'].hist().set_title('tariff_ultra_messages');\n",
    "plt.axvline(x=df.query('tariff == \"ultra\"')['messages_used'].mean(), color='k', linestyle='dashed', linewidth=1);"
   ]
  },
  {
   "cell_type": "code",
   "execution_count": 66,
   "metadata": {},
   "outputs": [
    {
     "data": {
      "text/plain": [
       "(0.0, 188.0)"
      ]
     },
     "execution_count": 66,
     "metadata": {},
     "output_type": "execute_result"
    }
   ],
   "source": [
    "# посчитаем значение усов\n",
    "ultra_mus_messages = mustache(df.query('tariff == \"ultra\"')['messages_used'])\n",
    "ultra_mus_messages"
   ]
  },
  {
   "cell_type": "code",
   "execution_count": 67,
   "metadata": {},
   "outputs": [
    {
     "data": {
      "image/png": "[encoded data removed]",
      "text/plain": [
       "<Figure size 432x288 with 1 Axes>"
      ]
     },
     "metadata": {
      "needs_background": "light"
     },
     "output_type": "display_data"
    }
   ],
   "source": [
    "# гисторграмма gb_used\n",
    "df.query('tariff == \"ultra\"')['gb_used'].hist().set_title('tariff_ultra_gb');\n",
    "plt.axvline(x=df.query('tariff == \"ultra\"')['gb_used'].mean(), color='k', linestyle='dashed', linewidth=1);"
   ]
  },
  {
   "cell_type": "code",
   "execution_count": 68,
   "metadata": {},
   "outputs": [
    {
     "data": {
      "text/plain": [
       "(0.0, 49.0)"
      ]
     },
     "execution_count": 68,
     "metadata": {},
     "output_type": "execute_result"
    }
   ],
   "source": [
    "# посчитаем значение усов\n",
    "ultra_mus_internet = mustache(df.query('tariff == \"ultra\"')['gb_used'])\n",
    "ultra_mus_internet"
   ]
  },
  {
   "cell_type": "markdown",
   "metadata": {},
   "source": [
    "Пользователям тарифа ultra в среднем требуется:\n",
    "1. 526 минут разговора\n",
    "2. 50 сообщений\n",
    "3. 20 гб интернет трафика\n",
    "\n",
    "В тарифе ultra ни один пользователь не превысил лимит по минутам и сообщениям."
   ]
  },
  {
   "cell_type": "markdown",
   "metadata": {},
   "source": [
    "**Tariff smart**"
   ]
  },
  {
   "cell_type": "code",
   "execution_count": 69,
   "metadata": {},
   "outputs": [
    {
     "data": {
      "text/html": [
       "<div>\n",
       "<style scoped>\n",
       "    .dataframe tbody tr th:only-of-type {\n",
       "        vertical-align: middle;\n",
       "    }\n",
       "\n",
       "    .dataframe tbody tr th {\n",
       "        vertical-align: top;\n",
       "    }\n",
       "\n",
       "    .dataframe thead th {\n",
       "        text-align: right;\n",
       "    }\n",
       "</style>\n",
       "<table border=\"1\" class=\"dataframe\">\n",
       "  <thead>\n",
       "    <tr style=\"text-align: right;\">\n",
       "      <th></th>\n",
       "      <th>minutes_used</th>\n",
       "      <th>minutes_included</th>\n",
       "      <th>messages_used</th>\n",
       "      <th>messages_included</th>\n",
       "      <th>gb_used</th>\n",
       "      <th>gb_per_month_included</th>\n",
       "    </tr>\n",
       "  </thead>\n",
       "  <tbody>\n",
       "    <tr>\n",
       "      <th>count</th>\n",
       "      <td>2229.00</td>\n",
       "      <td>2229.0</td>\n",
       "      <td>2229.00</td>\n",
       "      <td>2229.0</td>\n",
       "      <td>2229.00</td>\n",
       "      <td>2229.0</td>\n",
       "    </tr>\n",
       "    <tr>\n",
       "      <th>mean</th>\n",
       "      <td>417.93</td>\n",
       "      <td>500.0</td>\n",
       "      <td>33.38</td>\n",
       "      <td>50.0</td>\n",
       "      <td>16.33</td>\n",
       "      <td>15.0</td>\n",
       "    </tr>\n",
       "    <tr>\n",
       "      <th>std</th>\n",
       "      <td>190.31</td>\n",
       "      <td>0.0</td>\n",
       "      <td>28.23</td>\n",
       "      <td>0.0</td>\n",
       "      <td>5.75</td>\n",
       "      <td>0.0</td>\n",
       "    </tr>\n",
       "    <tr>\n",
       "      <th>min</th>\n",
       "      <td>0.00</td>\n",
       "      <td>500.0</td>\n",
       "      <td>0.00</td>\n",
       "      <td>50.0</td>\n",
       "      <td>0.00</td>\n",
       "      <td>15.0</td>\n",
       "    </tr>\n",
       "    <tr>\n",
       "      <th>25%</th>\n",
       "      <td>282.00</td>\n",
       "      <td>500.0</td>\n",
       "      <td>10.00</td>\n",
       "      <td>50.0</td>\n",
       "      <td>13.00</td>\n",
       "      <td>15.0</td>\n",
       "    </tr>\n",
       "    <tr>\n",
       "      <th>50%</th>\n",
       "      <td>422.00</td>\n",
       "      <td>500.0</td>\n",
       "      <td>28.00</td>\n",
       "      <td>50.0</td>\n",
       "      <td>17.00</td>\n",
       "      <td>15.0</td>\n",
       "    </tr>\n",
       "    <tr>\n",
       "      <th>75%</th>\n",
       "      <td>545.00</td>\n",
       "      <td>500.0</td>\n",
       "      <td>51.00</td>\n",
       "      <td>50.0</td>\n",
       "      <td>20.00</td>\n",
       "      <td>15.0</td>\n",
       "    </tr>\n",
       "    <tr>\n",
       "      <th>max</th>\n",
       "      <td>1435.00</td>\n",
       "      <td>500.0</td>\n",
       "      <td>143.00</td>\n",
       "      <td>50.0</td>\n",
       "      <td>38.00</td>\n",
       "      <td>15.0</td>\n",
       "    </tr>\n",
       "  </tbody>\n",
       "</table>\n",
       "</div>"
      ],
      "text/plain": [
       "       minutes_used  minutes_included  messages_used  messages_included  \\\n",
       "count       2229.00            2229.0        2229.00             2229.0   \n",
       "mean         417.93             500.0          33.38               50.0   \n",
       "std          190.31               0.0          28.23                0.0   \n",
       "min            0.00             500.0           0.00               50.0   \n",
       "25%          282.00             500.0          10.00               50.0   \n",
       "50%          422.00             500.0          28.00               50.0   \n",
       "75%          545.00             500.0          51.00               50.0   \n",
       "max         1435.00             500.0         143.00               50.0   \n",
       "\n",
       "       gb_used  gb_per_month_included  \n",
       "count  2229.00                 2229.0  \n",
       "mean     16.33                   15.0  \n",
       "std       5.75                    0.0  \n",
       "min       0.00                   15.0  \n",
       "25%      13.00                   15.0  \n",
       "50%      17.00                   15.0  \n",
       "75%      20.00                   15.0  \n",
       "max      38.00                   15.0  "
      ]
     },
     "execution_count": 69,
     "metadata": {},
     "output_type": "execute_result"
    }
   ],
   "source": [
    "df.query('tariff == \"smart\"')[['minutes_used', 'minutes_included', 'messages_used', 'messages_included', 'gb_used', 'gb_per_month_included']].describe().round(2)"
   ]
  },
  {
   "cell_type": "code",
   "execution_count": 70,
   "metadata": {},
   "outputs": [
    {
     "data": {
      "text/plain": [
       "minutes_used     36203.066652\n",
       "messages_used      796.455483\n",
       "gb_used             33.013887\n",
       "dtype: float64"
      ]
     },
     "execution_count": 70,
     "metadata": {},
     "output_type": "execute_result"
    }
   ],
   "source": [
    "# дисперсия\n",
    "np.var(df.query('tariff == \"smart\"')[['minutes_used', 'messages_used', 'gb_used']])"
   ]
  },
  {
   "cell_type": "code",
   "execution_count": 71,
   "metadata": {},
   "outputs": [
    {
     "data": {
      "image/png": "[encoded data removed]",
      "text/plain": [
       "<Figure size 432x288 with 1 Axes>"
      ]
     },
     "metadata": {
      "needs_background": "light"
     },
     "output_type": "display_data"
    }
   ],
   "source": [
    "# гисторграмма minutes_used\n",
    "df.query('tariff == \"smart\"')['minutes_used'].hist().set_title('tariff_smart_minutes');\n",
    "plt.axvline(x=df.query('tariff == \"smart\"')['minutes_used'].mean(), color='k', linestyle='dashed', linewidth=1);"
   ]
  },
  {
   "cell_type": "code",
   "execution_count": 72,
   "metadata": {},
   "outputs": [
    {
     "data": {
      "text/plain": [
       "(0.0, 940.0)"
      ]
     },
     "execution_count": 72,
     "metadata": {},
     "output_type": "execute_result"
    }
   ],
   "source": [
    "# посчитаем значение усов\n",
    "smart_mus_minutes = mustache(df.query('tariff == \"smart\"')['minutes_used'])\n",
    "smart_mus_minutes"
   ]
  },
  {
   "cell_type": "code",
   "execution_count": 73,
   "metadata": {},
   "outputs": [
    {
     "data": {
      "image/png": "[encoded data removed]",
      "text/plain": [
       "<Figure size 432x288 with 1 Axes>"
      ]
     },
     "metadata": {
      "needs_background": "light"
     },
     "output_type": "display_data"
    }
   ],
   "source": [
    "# гисторграмма messages_used\n",
    "df.query('tariff == \"smart\"')['messages_used'].hist().set_title('tariff_smart_messages');\n",
    "plt.axvline(x=df.query('tariff == \"smart\"')['messages_used'].mean(), color='k', linestyle='dashed', linewidth=1);"
   ]
  },
  {
   "cell_type": "code",
   "execution_count": 74,
   "metadata": {},
   "outputs": [
    {
     "data": {
      "text/plain": [
       "(0.0, 112.0)"
      ]
     },
     "execution_count": 74,
     "metadata": {},
     "output_type": "execute_result"
    }
   ],
   "source": [
    "# посчитаем значение усов\n",
    "smart_mus_messages = mustache(df.query('tariff == \"smart\"')['messages_used'])\n",
    "smart_mus_messages"
   ]
  },
  {
   "cell_type": "code",
   "execution_count": 75,
   "metadata": {},
   "outputs": [
    {
     "data": {
      "image/png": "[encoded data removed]",
      "text/plain": [
       "<Figure size 432x288 with 1 Axes>"
      ]
     },
     "metadata": {
      "needs_background": "light"
     },
     "output_type": "display_data"
    }
   ],
   "source": [
    "# гисторграмма gb_used\n",
    "df.query('tariff == \"smart\"')['gb_used'].hist().set_title('tariff_smart_gb');\n",
    "plt.axvline(x=df.query('tariff == \"smart\"')['gb_used'].mean(), color='k', linestyle='dashed', linewidth=1);"
   ]
  },
  {
   "cell_type": "code",
   "execution_count": 76,
   "metadata": {},
   "outputs": [
    {
     "data": {
      "text/plain": [
       "(2.0, 30.0)"
      ]
     },
     "execution_count": 76,
     "metadata": {},
     "output_type": "execute_result"
    }
   ],
   "source": [
    "# посчитаем значение усов\n",
    "smart_mus_internet = mustache(df.query('tariff == \"smart\"')['gb_used'])\n",
    "smart_mus_internet"
   ]
  },
  {
   "cell_type": "markdown",
   "metadata": {},
   "source": [
    "Пользователям тарифа smart в среднем требуется:\n",
    "1. 417 минут разговора\n",
    "2. 34 сообщений\n",
    "3. 17 гб интернет трафика"
   ]
  },
  {
   "cell_type": "code",
   "execution_count": 77,
   "metadata": {},
   "outputs": [
    {
     "data": {
      "text/html": [
       "<div>\n",
       "<style scoped>\n",
       "    .dataframe tbody tr th:only-of-type {\n",
       "        vertical-align: middle;\n",
       "    }\n",
       "\n",
       "    .dataframe tbody tr th {\n",
       "        vertical-align: top;\n",
       "    }\n",
       "\n",
       "    .dataframe thead th {\n",
       "        text-align: right;\n",
       "    }\n",
       "</style>\n",
       "<table border=\"1\" class=\"dataframe\">\n",
       "  <thead>\n",
       "    <tr style=\"text-align: right;\">\n",
       "      <th></th>\n",
       "      <th>ultra_minutes_used</th>\n",
       "      <th>smart_minutes_used</th>\n",
       "      <th>ultra_messages_used</th>\n",
       "      <th>smart_messages_used</th>\n",
       "      <th>ultra_gb_used</th>\n",
       "      <th>smart_gb_used</th>\n",
       "    </tr>\n",
       "  </thead>\n",
       "  <tbody>\n",
       "    <tr>\n",
       "      <th>count</th>\n",
       "      <td>985.000000</td>\n",
       "      <td>2229.000000</td>\n",
       "      <td>985.000000</td>\n",
       "      <td>2229.000000</td>\n",
       "      <td>985.000000</td>\n",
       "      <td>2229.000000</td>\n",
       "    </tr>\n",
       "    <tr>\n",
       "      <th>mean</th>\n",
       "      <td>526.623350</td>\n",
       "      <td>417.934948</td>\n",
       "      <td>49.363452</td>\n",
       "      <td>33.384029</td>\n",
       "      <td>19.494416</td>\n",
       "      <td>16.328847</td>\n",
       "    </tr>\n",
       "    <tr>\n",
       "      <th>std</th>\n",
       "      <td>317.606098</td>\n",
       "      <td>190.313730</td>\n",
       "      <td>47.804457</td>\n",
       "      <td>28.227876</td>\n",
       "      <td>9.853511</td>\n",
       "      <td>5.747061</td>\n",
       "    </tr>\n",
       "    <tr>\n",
       "      <th>min</th>\n",
       "      <td>0.000000</td>\n",
       "      <td>0.000000</td>\n",
       "      <td>0.000000</td>\n",
       "      <td>0.000000</td>\n",
       "      <td>0.000000</td>\n",
       "      <td>0.000000</td>\n",
       "    </tr>\n",
       "    <tr>\n",
       "      <th>25%</th>\n",
       "      <td>284.000000</td>\n",
       "      <td>282.000000</td>\n",
       "      <td>6.000000</td>\n",
       "      <td>10.000000</td>\n",
       "      <td>12.000000</td>\n",
       "      <td>13.000000</td>\n",
       "    </tr>\n",
       "    <tr>\n",
       "      <th>50%</th>\n",
       "      <td>518.000000</td>\n",
       "      <td>422.000000</td>\n",
       "      <td>38.000000</td>\n",
       "      <td>28.000000</td>\n",
       "      <td>19.000000</td>\n",
       "      <td>17.000000</td>\n",
       "    </tr>\n",
       "    <tr>\n",
       "      <th>75%</th>\n",
       "      <td>752.000000</td>\n",
       "      <td>545.000000</td>\n",
       "      <td>79.000000</td>\n",
       "      <td>51.000000</td>\n",
       "      <td>27.000000</td>\n",
       "      <td>20.000000</td>\n",
       "    </tr>\n",
       "    <tr>\n",
       "      <th>max</th>\n",
       "      <td>1673.000000</td>\n",
       "      <td>1435.000000</td>\n",
       "      <td>224.000000</td>\n",
       "      <td>143.000000</td>\n",
       "      <td>49.000000</td>\n",
       "      <td>38.000000</td>\n",
       "    </tr>\n",
       "  </tbody>\n",
       "</table>\n",
       "</div>"
      ],
      "text/plain": [
       "       ultra_minutes_used  smart_minutes_used  ultra_messages_used  \\\n",
       "count          985.000000         2229.000000           985.000000   \n",
       "mean           526.623350          417.934948            49.363452   \n",
       "std            317.606098          190.313730            47.804457   \n",
       "min              0.000000            0.000000             0.000000   \n",
       "25%            284.000000          282.000000             6.000000   \n",
       "50%            518.000000          422.000000            38.000000   \n",
       "75%            752.000000          545.000000            79.000000   \n",
       "max           1673.000000         1435.000000           224.000000   \n",
       "\n",
       "       smart_messages_used  ultra_gb_used  smart_gb_used  \n",
       "count          2229.000000     985.000000    2229.000000  \n",
       "mean             33.384029      19.494416      16.328847  \n",
       "std              28.227876       9.853511       5.747061  \n",
       "min               0.000000       0.000000       0.000000  \n",
       "25%              10.000000      12.000000      13.000000  \n",
       "50%              28.000000      19.000000      17.000000  \n",
       "75%              51.000000      27.000000      20.000000  \n",
       "max             143.000000      49.000000      38.000000  "
      ]
     },
     "execution_count": 77,
     "metadata": {},
     "output_type": "execute_result"
    }
   ],
   "source": [
    "# сравнительная таблица тарифов по параметрам из метода describe\n",
    "ultra_minutes = df.query('tariff == \"ultra\"')['minutes_used'].describe()\n",
    "ultra_messages = df.query('tariff == \"ultra\"')['messages_used'].describe()\n",
    "ultra_internet = df.query('tariff == \"ultra\"')['gb_used'].describe()\n",
    "\n",
    "smart_minutes = df.query('tariff == \"smart\"')['minutes_used'].describe()\n",
    "smart_messages = df.query('tariff == \"smart\"')['messages_used'].describe()\n",
    "smart_internet = df.query('tariff == \"smart\"')['gb_used'].describe()\n",
    "\n",
    "dfs = [ultra_minutes, smart_minutes, ultra_messages, smart_messages, ultra_internet, smart_internet]\n",
    "\n",
    "dfs_describe = pd.concat(dfs, axis=1)\n",
    "\n",
    "dfs_describe.columns = ['ultra_minutes_used', 'smart_minutes_used', 'ultra_messages_used', 'smart_messages_used', 'ultra_gb_used', 'smart_gb_used'] # переименование столбцов\n",
    "\n",
    "dfs_describe\n",
    "\n"
   ]
  },
  {
   "cell_type": "code",
   "execution_count": 97,
   "metadata": {},
   "outputs": [
    {
     "data": {
      "text/html": [
       "<div>\n",
       "<style scoped>\n",
       "    .dataframe tbody tr th:only-of-type {\n",
       "        vertical-align: middle;\n",
       "    }\n",
       "\n",
       "    .dataframe tbody tr th {\n",
       "        vertical-align: top;\n",
       "    }\n",
       "\n",
       "    .dataframe thead th {\n",
       "        text-align: right;\n",
       "    }\n",
       "</style>\n",
       "<table border=\"1\" class=\"dataframe\">\n",
       "  <thead>\n",
       "    <tr style=\"text-align: right;\">\n",
       "      <th></th>\n",
       "      <th>ultra_minutes_used</th>\n",
       "      <th>smart_minutes_used</th>\n",
       "      <th>ultra_messages_used</th>\n",
       "      <th>smart_messages_used</th>\n",
       "      <th>ultra_gb_used</th>\n",
       "      <th>smart_gb_used</th>\n",
       "      <th>ultra_income</th>\n",
       "      <th>smart_income</th>\n",
       "    </tr>\n",
       "  </thead>\n",
       "  <tbody>\n",
       "    <tr>\n",
       "      <th>count</th>\n",
       "      <td>975.000000</td>\n",
       "      <td>2170.000000</td>\n",
       "      <td>975.000000</td>\n",
       "      <td>2170.000000</td>\n",
       "      <td>975.000000</td>\n",
       "      <td>2170.000000</td>\n",
       "      <td>975.000000</td>\n",
       "      <td>2170.000000</td>\n",
       "    </tr>\n",
       "    <tr>\n",
       "      <th>mean</th>\n",
       "      <td>525.661538</td>\n",
       "      <td>416.368203</td>\n",
       "      <td>48.139487</td>\n",
       "      <td>32.993088</td>\n",
       "      <td>19.436923</td>\n",
       "      <td>16.296313</td>\n",
       "      <td>2067.692308</td>\n",
       "      <td>1256.124885</td>\n",
       "    </tr>\n",
       "    <tr>\n",
       "      <th>std</th>\n",
       "      <td>313.173874</td>\n",
       "      <td>182.636706</td>\n",
       "      <td>45.931015</td>\n",
       "      <td>27.242697</td>\n",
       "      <td>9.815959</td>\n",
       "      <td>5.389421</td>\n",
       "      <td>372.443107</td>\n",
       "      <td>744.334345</td>\n",
       "    </tr>\n",
       "    <tr>\n",
       "      <th>min</th>\n",
       "      <td>0.000000</td>\n",
       "      <td>0.000000</td>\n",
       "      <td>0.000000</td>\n",
       "      <td>0.000000</td>\n",
       "      <td>0.000000</td>\n",
       "      <td>2.000000</td>\n",
       "      <td>1950.000000</td>\n",
       "      <td>550.000000</td>\n",
       "    </tr>\n",
       "    <tr>\n",
       "      <th>25%</th>\n",
       "      <td>286.000000</td>\n",
       "      <td>285.000000</td>\n",
       "      <td>6.000000</td>\n",
       "      <td>10.000000</td>\n",
       "      <td>12.000000</td>\n",
       "      <td>13.000000</td>\n",
       "      <td>1950.000000</td>\n",
       "      <td>550.000000</td>\n",
       "    </tr>\n",
       "    <tr>\n",
       "      <th>50%</th>\n",
       "      <td>518.000000</td>\n",
       "      <td>421.000000</td>\n",
       "      <td>38.000000</td>\n",
       "      <td>28.000000</td>\n",
       "      <td>19.000000</td>\n",
       "      <td>17.000000</td>\n",
       "      <td>1950.000000</td>\n",
       "      <td>1013.500000</td>\n",
       "    </tr>\n",
       "    <tr>\n",
       "      <th>75%</th>\n",
       "      <td>751.500000</td>\n",
       "      <td>543.000000</td>\n",
       "      <td>78.000000</td>\n",
       "      <td>50.750000</td>\n",
       "      <td>27.000000</td>\n",
       "      <td>20.000000</td>\n",
       "      <td>1950.000000</td>\n",
       "      <td>1750.000000</td>\n",
       "    </tr>\n",
       "    <tr>\n",
       "      <th>max</th>\n",
       "      <td>1410.000000</td>\n",
       "      <td>933.000000</td>\n",
       "      <td>188.000000</td>\n",
       "      <td>112.000000</td>\n",
       "      <td>49.000000</td>\n",
       "      <td>30.000000</td>\n",
       "      <td>4800.000000</td>\n",
       "      <td>4427.000000</td>\n",
       "    </tr>\n",
       "  </tbody>\n",
       "</table>\n",
       "</div>"
      ],
      "text/plain": [
       "       ultra_minutes_used  smart_minutes_used  ultra_messages_used  \\\n",
       "count          975.000000         2170.000000           975.000000   \n",
       "mean           525.661538          416.368203            48.139487   \n",
       "std            313.173874          182.636706            45.931015   \n",
       "min              0.000000            0.000000             0.000000   \n",
       "25%            286.000000          285.000000             6.000000   \n",
       "50%            518.000000          421.000000            38.000000   \n",
       "75%            751.500000          543.000000            78.000000   \n",
       "max           1410.000000          933.000000           188.000000   \n",
       "\n",
       "       smart_messages_used  ultra_gb_used  smart_gb_used  ultra_income  \\\n",
       "count          2170.000000     975.000000    2170.000000    975.000000   \n",
       "mean             32.993088      19.436923      16.296313   2067.692308   \n",
       "std              27.242697       9.815959       5.389421    372.443107   \n",
       "min               0.000000       0.000000       2.000000   1950.000000   \n",
       "25%              10.000000      12.000000      13.000000   1950.000000   \n",
       "50%              28.000000      19.000000      17.000000   1950.000000   \n",
       "75%              50.750000      27.000000      20.000000   1950.000000   \n",
       "max             112.000000      49.000000      30.000000   4800.000000   \n",
       "\n",
       "       smart_income  \n",
       "count   2170.000000  \n",
       "mean    1256.124885  \n",
       "std      744.334345  \n",
       "min      550.000000  \n",
       "25%      550.000000  \n",
       "50%     1013.500000  \n",
       "75%     1750.000000  \n",
       "max     4427.000000  "
      ]
     },
     "execution_count": 97,
     "metadata": {},
     "output_type": "execute_result"
    }
   ],
   "source": [
    "# сравнительная таблица тарифов по параметрам из метода describe\n",
    "ultra_minutes = df.query('tariff == \"ultra\"')['minutes_used'].describe()\n",
    "ultra_messages = df.query('tariff == \"ultra\"')['messages_used'].describe()\n",
    "ultra_internet = df.query('tariff == \"ultra\"')['gb_used'].describe()\n",
    "ultra_income = df.query('tariff == \"ultra\"')['income'].describe()\n",
    "\n",
    "smart_minutes = df.query('tariff == \"smart\"')['minutes_used'].describe()\n",
    "smart_messages = df.query('tariff == \"smart\"')['messages_used'].describe()\n",
    "smart_internet = df.query('tariff == \"smart\"')['gb_used'].describe()\n",
    "smart_income = df.query('tariff == \"smart\"')['income'].describe()\n",
    "\n",
    "dfs = [ultra_minutes, smart_minutes, ultra_messages, smart_messages, ultra_internet, smart_internet, ultra_income, smart_income]\n",
    "\n",
    "dfs_describe = pd.concat(dfs, axis=1)\n",
    "\n",
    "dfs_describe.columns = ['ultra_minutes_used', 'smart_minutes_used', 'ultra_messages_used', 'smart_messages_used', 'ultra_gb_used', 'smart_gb_used', 'ultra_income', 'smart_income'] # переименование столбцов\n",
    "\n",
    "dfs_describe\n",
    "\n"
   ]
  },
  {
   "cell_type": "markdown",
   "metadata": {},
   "source": [
    "**Сравнение суммарной выручки по тарифам.**"
   ]
  },
  {
   "cell_type": "code",
   "execution_count": 106,
   "metadata": {},
   "outputs": [
    {
     "name": "stdout",
     "output_type": "stream",
     "text": [
      "Суммарная выручка по тарифу Ультра = 2016000.0\n",
      "Количество пользователей по тарифу Ультра = 148\n",
      "Суммарная выручка по тарифу Смарт = 2725791.0\n",
      "Количество пользователей по тарифу Смарт = 348\n"
     ]
    }
   ],
   "source": [
    "print('Суммарная выручка по тарифу Ультра =', df.query('tariff == \"ultra\"')['income'].sum())\n",
    "print('Количество пользователей по тарифу Ультра =', len(df.query('tariff == \"ultra\"')['user_id'].unique()))\n",
    "print('Суммарная выручка по тарифу Смарт =', df.query('tariff == \"smart\"')['income'].sum())\n",
    "print('Количество пользователей по тарифу Смарт =', len(df.query('tariff == \"smart\"')['user_id'].unique()))"
   ]
  },
  {
   "cell_type": "markdown",
   "metadata": {},
   "source": [
    "Суммарная выручк по тарифу Смарт выше т.к. пользователей в более чем в 2 раза больше."
   ]
  },
  {
   "cell_type": "markdown",
   "metadata": {},
   "source": [
    "### Убираем редкие и выбивающиеся значения. "
   ]
  },
  {
   "cell_type": "code",
   "execution_count": 79,
   "metadata": {},
   "outputs": [],
   "source": [
    "# tariff ultra\n",
    "ultra_df_minutes = df.query('tariff == \"ultra\"')['minutes_used']\n",
    "ultra_df_messages = df.query('tariff == \"ultra\"')['messages_used']\n",
    "ultra_df_internet = df.query('tariff == \"ultra\"')['gb_used']\n",
    "\n",
    "\n",
    "df.drop(df.query('tariff == \"ultra\"').loc[(ultra_df_minutes < ultra_mus_minutes[0]) | (ultra_df_minutes > ultra_mus_minutes[1])].index, inplace=True)\n",
    "df.drop(df.query('tariff == \"ultra\"').loc[(ultra_df_messages < ultra_mus_messages[0]) | (ultra_df_messages > ultra_mus_messages[1])].index, inplace=True)\n",
    "df.drop(df.query('tariff == \"ultra\"').loc[(ultra_df_internet < ultra_mus_internet[0]) | (ultra_df_internet > ultra_mus_internet[1])].index, inplace=True)"
   ]
  },
  {
   "cell_type": "code",
   "execution_count": 80,
   "metadata": {},
   "outputs": [],
   "source": [
    "# tariff smart\n",
    "smart_df_minutes = df.query('tariff == \"smart\"')['minutes_used']\n",
    "smart_df_messages = df.query('tariff == \"smart\"')['messages_used']\n",
    "smart_df_internet = df.query('tariff == \"smart\"')['gb_used']\n",
    "\n",
    "\n",
    "df.drop(df.query('tariff == \"smart\"').loc[(smart_df_minutes < smart_mus_minutes[0]) | (smart_df_minutes > smart_mus_minutes[1])].index, inplace=True)\n",
    "df.drop(df.query('tariff == \"smart\"').loc[(smart_df_messages < smart_mus_messages[0]) | (smart_df_messages > smart_mus_messages[1])].index, inplace=True)\n",
    "df.drop(df.query('tariff == \"smart\"').loc[(smart_df_internet < smart_mus_internet[0]) | (smart_df_internet > smart_mus_internet[1])].index, inplace=True)"
   ]
  },
  {
   "cell_type": "markdown",
   "metadata": {},
   "source": [
    "## Проверка гипотез"
   ]
  },
  {
   "cell_type": "markdown",
   "metadata": {},
   "source": [
    "**Cредняя выручка пользователей тарифов «Ультра» и «Смарт» различаются**"
   ]
  },
  {
   "cell_type": "markdown",
   "metadata": {},
   "source": [
    "Гипотеза H₀:\n",
    "- средняя выручка пользователей тарифов «Ультра» и «Смарт» не различаются;\n",
    "\n",
    "Гипотеза H₁. \n",
    "- средняя выручка пользователей тарифов «Ультра» и «Смарт» различаются;"
   ]
  },
  {
   "cell_type": "code",
   "execution_count": 81,
   "metadata": {},
   "outputs": [
    {
     "name": "stdout",
     "output_type": "stream",
     "text": [
      "975\n",
      "2170\n",
      "138571.59763313612\n",
      "553778.3028369683\n"
     ]
    }
   ],
   "source": [
    "# «правило большого пальца» тут простое: если выборки разного размера и/или можно предположить, \n",
    "#что дисперсии у генеральных совокупностей разные — укажите equal_var = False при вызове \n",
    "#метода scipy.stats.ttest_ind()\n",
    "print(len(df.query('tariff == \"ultra\"')))\n",
    "print(len(df.query('tariff == \"smart\"')))\n",
    "print(np.var(df.query('tariff == \"ultra\"')['income']))\n",
    "print(np.var(df.query('tariff == \"smart\"')['income']))"
   ]
  },
  {
   "cell_type": "code",
   "execution_count": 82,
   "metadata": {},
   "outputs": [
    {
     "name": "stdout",
     "output_type": "stream",
     "text": [
      "p-значение:  1.0457103851008165e-290\n",
      "Отвергаем нулевую гипотезу\n"
     ]
    }
   ],
   "source": [
    "ultra = df.query('tariff == \"ultra\"')['income']\n",
    "smart = df.query('tariff == \"smart\"')['income']\n",
    "\n",
    "alpha = .01 # критический уровень статистической значимости\n",
    "# если p-value окажется меньше него - отвегнем гипотезу\n",
    "\n",
    "results = st.ttest_ind(\n",
    "    ultra, \n",
    "    smart,\n",
    "    equal_var = False)\n",
    "\n",
    "print('p-значение: ', results.pvalue)\n",
    "\n",
    "if results.pvalue < alpha:\n",
    "    print(\"Отвергаем нулевую гипотезу\")\n",
    "else:\n",
    "    print(\"Не получилось отвергнуть нулевую гипотезу\")\n"
   ]
  },
  {
   "cell_type": "markdown",
   "metadata": {},
   "source": [
    "**Cредняя выручка пользователей тарифа «Ультра» больше тарифа «Смарт»**"
   ]
  },
  {
   "cell_type": "markdown",
   "metadata": {},
   "source": [
    "Гипотеза H₀:\n",
    "- средняя выручка пользователей тарифов «Ультра» и «Смарт» не различаются;\n",
    "\n",
    "Гипотеза H₁. \n",
    "- средняя выручка пользователей тарифа «Ультра» больше тарифа «Смарт»;"
   ]
  },
  {
   "cell_type": "code",
   "execution_count": 83,
   "metadata": {},
   "outputs": [
    {
     "name": "stdout",
     "output_type": "stream",
     "text": [
      "p-значение:  5.228551925504082e-291\n",
      "Отвергаем нулевую гипотезу\n"
     ]
    }
   ],
   "source": [
    "ultra = df.query('tariff == \"ultra\"')['income']\n",
    "smart = df.query('tariff == \"smart\"')['income']\n",
    "\n",
    "alpha = .01 # критический уровень статистической значимости\n",
    "# если p-value окажется меньше него - отвегнем гипотезу\n",
    "\n",
    "results = st.ttest_ind(\n",
    "    ultra, \n",
    "    smart,\n",
    "    equal_var = False)\n",
    "\n",
    "print('p-значение: ', results.pvalue / 2)\n",
    "\n",
    "if (results.pvalue / 2 < alpha) and (ultra.mean() > smart.mean()):\n",
    "    print(\"Отвергаем нулевую гипотезу\")\n",
    "else:\n",
    "    print(\"Не получилось отвергнуть нулевую гипотезу\")\n"
   ]
  },
  {
   "cell_type": "markdown",
   "metadata": {},
   "source": [
    "**Cредняя выручка пользователей из Москвы отличается от выручки пользователей из других регионов.**"
   ]
  },
  {
   "cell_type": "markdown",
   "metadata": {},
   "source": [
    "Гипотеза H₀:\n",
    "- Cредняя выручка пользователей из Москвы не отличается от выручки пользователей из других регионов.;\n",
    "\n",
    "Гипотеза H₁. \n",
    "- Cредняя выручка пользователей из Москвы отличается от выручки пользователей из других регионов.;"
   ]
  },
  {
   "cell_type": "code",
   "execution_count": 84,
   "metadata": {},
   "outputs": [
    {
     "name": "stdout",
     "output_type": "stream",
     "text": [
      "606\n",
      "2539\n",
      "527352.9432217975\n",
      "574904.6080309054\n"
     ]
    }
   ],
   "source": [
    "# «правило большого пальца» тут простое: если выборки разного размера и/или можно предположить, что дисперсии у генеральных совокупностей разные — укажите equal_var = False при вызове метода scipy.stats.ttest_ind()\n",
    "print(len(df.query('city == \"Москва\"')))\n",
    "print(len(df.query('city != \"Москва\"')))\n",
    "print(np.var(df.query('city == \"Москва\"')['income']))\n",
    "print(np.var(df.query('city != \"Москва\"')['income']))"
   ]
  },
  {
   "cell_type": "code",
   "execution_count": 85,
   "metadata": {},
   "outputs": [
    {
     "name": "stdout",
     "output_type": "stream",
     "text": [
      "p-значение:  0.27591525304827774\n",
      "Не получилось отвергнуть нулевую гипотезу\n"
     ]
    }
   ],
   "source": [
    "msk = df.query('city == \"Москва\"')['income']\n",
    "not_msk = df.query('city != \"Москва\"')['income']\n",
    "\n",
    "alpha = .01 # критический уровень статистической значимости\n",
    "# если p-value окажется меньше него - отвегнем гипотезу\n",
    "\n",
    "results = st.ttest_ind(\n",
    "    msk, \n",
    "    not_msk,\n",
    "    equal_var = False)\n",
    "\n",
    "print('p-значение: ', results.pvalue)\n",
    "\n",
    "if results.pvalue < alpha:\n",
    "    print(\"Отвергаем нулевую гипотезу\")\n",
    "else:\n",
    "    print(\"Не получилось отвергнуть нулевую гипотезу\")\n"
   ]
  },
  {
   "cell_type": "markdown",
   "metadata": {},
   "source": [
    "## Выводы исследования:"
   ]
  },
  {
   "cell_type": "markdown",
   "metadata": {},
   "source": [
    "Пользователям тарифа ultra в среднем требуется:\n",
    "1. 526 минут разговора\n",
    "2. 50 сообщений\n",
    "3. 20 гб интернет трафика\n",
    "\n",
    "В тарифе ultra ни один пользователь не превысил лимит по минутам и сообщениям.\n",
    "\n",
    "Пользователям тарифа smart в среднем требуется:\n",
    "1. 417 минут разговора\n",
    "2. 34 сообщений\n",
    "3. 17 гб интернет трафика\n",
    "\n",
    "По итогам проверки гипотез:\n",
    "\n",
    "    1. Не получилось отвергнуть гипотезу о том, что средняя выручка пользователей тарифов «Ультра» и «Смарт» различаются.\n",
    "    2. Не получилось отвергнуть гипотезу о том, что средняя выручка пользователей тарифа «Ультра» больше тарифа «Смарт».\n",
    "    3. Отвергли гипотезу о том, что средняя выручка пользователей из Москвы отличается от выручки пользователей из других регионов.\n",
    "    \n",
    "Таким образом тариф Ультра вероятнее всего более предпочтителен, чем тариф Смарт.\n",
    "    \n",
    "\n",
    "Если судить с точки зрения валовой выручки то рариф Смарт приносит больше выручки т.к. у него более чем в 2 раза больше пользователей.\n",
    "\n",
    "Думаю окончательный ответ о корректировке рекламного бюджета зависит от стоимости расходов на привлечение клиентов в тариф Ультра и Смарт."
   ]
  }
 ],
 "metadata": {
  "ExecuteTimeLog": [
   {
    "duration": 1621,
    "start_time": "2022-04-04T11:55:59.481Z"
   },
   {
    "duration": 161,
    "start_time": "2022-04-04T11:56:01.106Z"
   },
   {
    "duration": 0,
    "start_time": "2022-04-04T11:56:01.273Z"
   },
   {
    "duration": 0,
    "start_time": "2022-04-04T11:56:01.275Z"
   },
   {
    "duration": 0,
    "start_time": "2022-04-04T11:56:01.277Z"
   },
   {
    "duration": 0,
    "start_time": "2022-04-04T11:56:01.279Z"
   },
   {
    "duration": 0,
    "start_time": "2022-04-04T11:56:01.280Z"
   },
   {
    "duration": 0,
    "start_time": "2022-04-04T11:56:01.282Z"
   },
   {
    "duration": 0,
    "start_time": "2022-04-04T11:56:01.284Z"
   },
   {
    "duration": 0,
    "start_time": "2022-04-04T11:56:01.288Z"
   },
   {
    "duration": 0,
    "start_time": "2022-04-04T11:56:01.292Z"
   },
   {
    "duration": 0,
    "start_time": "2022-04-04T11:56:01.293Z"
   },
   {
    "duration": 0,
    "start_time": "2022-04-04T11:56:01.294Z"
   },
   {
    "duration": 0,
    "start_time": "2022-04-04T11:56:01.296Z"
   },
   {
    "duration": 0,
    "start_time": "2022-04-04T11:56:01.298Z"
   },
   {
    "duration": 0,
    "start_time": "2022-04-04T11:56:01.299Z"
   },
   {
    "duration": 0,
    "start_time": "2022-04-04T11:56:01.301Z"
   },
   {
    "duration": 0,
    "start_time": "2022-04-04T11:56:01.303Z"
   },
   {
    "duration": 0,
    "start_time": "2022-04-04T11:56:01.304Z"
   },
   {
    "duration": 0,
    "start_time": "2022-04-04T11:56:01.305Z"
   },
   {
    "duration": 0,
    "start_time": "2022-04-04T11:56:01.307Z"
   },
   {
    "duration": 0,
    "start_time": "2022-04-04T11:56:01.308Z"
   },
   {
    "duration": 0,
    "start_time": "2022-04-04T11:56:01.309Z"
   },
   {
    "duration": 0,
    "start_time": "2022-04-04T11:56:01.311Z"
   },
   {
    "duration": 0,
    "start_time": "2022-04-04T11:56:01.313Z"
   },
   {
    "duration": 0,
    "start_time": "2022-04-04T11:56:01.371Z"
   },
   {
    "duration": 0,
    "start_time": "2022-04-04T11:56:01.372Z"
   },
   {
    "duration": 0,
    "start_time": "2022-04-04T11:56:01.377Z"
   },
   {
    "duration": 0,
    "start_time": "2022-04-04T11:56:01.378Z"
   },
   {
    "duration": 0,
    "start_time": "2022-04-04T11:56:01.382Z"
   },
   {
    "duration": 0,
    "start_time": "2022-04-04T11:56:01.384Z"
   },
   {
    "duration": 0,
    "start_time": "2022-04-04T11:56:01.385Z"
   },
   {
    "duration": 0,
    "start_time": "2022-04-04T11:56:01.387Z"
   },
   {
    "duration": 0,
    "start_time": "2022-04-04T11:56:01.389Z"
   },
   {
    "duration": 0,
    "start_time": "2022-04-04T11:56:01.390Z"
   },
   {
    "duration": 0,
    "start_time": "2022-04-04T11:56:01.392Z"
   },
   {
    "duration": 0,
    "start_time": "2022-04-04T11:56:01.394Z"
   },
   {
    "duration": 0,
    "start_time": "2022-04-04T11:56:01.396Z"
   },
   {
    "duration": 0,
    "start_time": "2022-04-04T11:56:01.397Z"
   },
   {
    "duration": 0,
    "start_time": "2022-04-04T11:56:01.399Z"
   },
   {
    "duration": 0,
    "start_time": "2022-04-04T11:56:01.401Z"
   },
   {
    "duration": 0,
    "start_time": "2022-04-04T11:56:01.402Z"
   },
   {
    "duration": 0,
    "start_time": "2022-04-04T11:56:01.404Z"
   },
   {
    "duration": 1,
    "start_time": "2022-04-04T11:56:01.405Z"
   },
   {
    "duration": 0,
    "start_time": "2022-04-04T11:56:01.407Z"
   },
   {
    "duration": 0,
    "start_time": "2022-04-04T11:56:01.409Z"
   },
   {
    "duration": 0,
    "start_time": "2022-04-04T11:56:01.410Z"
   },
   {
    "duration": 0,
    "start_time": "2022-04-04T11:56:01.468Z"
   },
   {
    "duration": 0,
    "start_time": "2022-04-04T11:56:01.469Z"
   },
   {
    "duration": 0,
    "start_time": "2022-04-04T11:56:01.470Z"
   },
   {
    "duration": 0,
    "start_time": "2022-04-04T11:56:01.471Z"
   },
   {
    "duration": 0,
    "start_time": "2022-04-04T11:56:01.472Z"
   },
   {
    "duration": 0,
    "start_time": "2022-04-04T11:56:01.475Z"
   },
   {
    "duration": 0,
    "start_time": "2022-04-04T11:56:01.476Z"
   },
   {
    "duration": 0,
    "start_time": "2022-04-04T11:56:01.477Z"
   },
   {
    "duration": 0,
    "start_time": "2022-04-04T11:56:01.478Z"
   },
   {
    "duration": 0,
    "start_time": "2022-04-04T11:56:01.482Z"
   },
   {
    "duration": 0,
    "start_time": "2022-04-04T11:56:01.485Z"
   },
   {
    "duration": 0,
    "start_time": "2022-04-04T11:56:01.488Z"
   },
   {
    "duration": 0,
    "start_time": "2022-04-04T11:56:01.489Z"
   },
   {
    "duration": 0,
    "start_time": "2022-04-04T11:56:01.491Z"
   },
   {
    "duration": 0,
    "start_time": "2022-04-04T11:56:01.493Z"
   },
   {
    "duration": 0,
    "start_time": "2022-04-04T11:56:01.494Z"
   },
   {
    "duration": 0,
    "start_time": "2022-04-04T11:56:01.496Z"
   },
   {
    "duration": 0,
    "start_time": "2022-04-04T11:56:01.497Z"
   },
   {
    "duration": 0,
    "start_time": "2022-04-04T11:56:01.498Z"
   },
   {
    "duration": 0,
    "start_time": "2022-04-04T11:56:01.500Z"
   },
   {
    "duration": 97,
    "start_time": "2022-04-04T11:59:06.771Z"
   },
   {
    "duration": 182,
    "start_time": "2022-04-04T11:59:48.746Z"
   },
   {
    "duration": 18,
    "start_time": "2022-04-04T12:00:03.603Z"
   },
   {
    "duration": 36,
    "start_time": "2022-04-04T12:00:06.806Z"
   },
   {
    "duration": 36,
    "start_time": "2022-04-04T12:00:07.778Z"
   },
   {
    "duration": 154,
    "start_time": "2022-04-04T12:00:15.682Z"
   },
   {
    "duration": 12,
    "start_time": "2022-04-04T12:00:19.057Z"
   },
   {
    "duration": 33,
    "start_time": "2022-04-04T12:00:23.940Z"
   },
   {
    "duration": 34,
    "start_time": "2022-04-04T12:00:23.976Z"
   },
   {
    "duration": 57,
    "start_time": "2022-04-04T12:00:24.012Z"
   },
   {
    "duration": 0,
    "start_time": "2022-04-04T12:00:24.074Z"
   },
   {
    "duration": 0,
    "start_time": "2022-04-04T12:00:24.075Z"
   },
   {
    "duration": 0,
    "start_time": "2022-04-04T12:00:24.077Z"
   },
   {
    "duration": 0,
    "start_time": "2022-04-04T12:00:24.079Z"
   },
   {
    "duration": 0,
    "start_time": "2022-04-04T12:00:24.080Z"
   },
   {
    "duration": 0,
    "start_time": "2022-04-04T12:00:24.082Z"
   },
   {
    "duration": 0,
    "start_time": "2022-04-04T12:00:24.083Z"
   },
   {
    "duration": 0,
    "start_time": "2022-04-04T12:00:24.085Z"
   },
   {
    "duration": 0,
    "start_time": "2022-04-04T12:00:24.087Z"
   },
   {
    "duration": 0,
    "start_time": "2022-04-04T12:00:24.089Z"
   },
   {
    "duration": 0,
    "start_time": "2022-04-04T12:00:24.091Z"
   },
   {
    "duration": 0,
    "start_time": "2022-04-04T12:00:24.092Z"
   },
   {
    "duration": 0,
    "start_time": "2022-04-04T12:00:24.094Z"
   },
   {
    "duration": 0,
    "start_time": "2022-04-04T12:00:24.096Z"
   },
   {
    "duration": 0,
    "start_time": "2022-04-04T12:00:24.099Z"
   },
   {
    "duration": 0,
    "start_time": "2022-04-04T12:00:24.101Z"
   },
   {
    "duration": 0,
    "start_time": "2022-04-04T12:00:24.102Z"
   },
   {
    "duration": 0,
    "start_time": "2022-04-04T12:00:24.104Z"
   },
   {
    "duration": 0,
    "start_time": "2022-04-04T12:00:24.106Z"
   },
   {
    "duration": 0,
    "start_time": "2022-04-04T12:00:24.169Z"
   },
   {
    "duration": 0,
    "start_time": "2022-04-04T12:00:24.170Z"
   },
   {
    "duration": 0,
    "start_time": "2022-04-04T12:00:24.172Z"
   },
   {
    "duration": 0,
    "start_time": "2022-04-04T12:00:24.174Z"
   },
   {
    "duration": 0,
    "start_time": "2022-04-04T12:00:24.176Z"
   },
   {
    "duration": 0,
    "start_time": "2022-04-04T12:00:24.177Z"
   },
   {
    "duration": 0,
    "start_time": "2022-04-04T12:00:24.179Z"
   },
   {
    "duration": 1,
    "start_time": "2022-04-04T12:00:24.180Z"
   },
   {
    "duration": 0,
    "start_time": "2022-04-04T12:00:24.182Z"
   },
   {
    "duration": 0,
    "start_time": "2022-04-04T12:00:24.184Z"
   },
   {
    "duration": 0,
    "start_time": "2022-04-04T12:00:24.186Z"
   },
   {
    "duration": 0,
    "start_time": "2022-04-04T12:00:24.188Z"
   },
   {
    "duration": 0,
    "start_time": "2022-04-04T12:00:24.189Z"
   },
   {
    "duration": 0,
    "start_time": "2022-04-04T12:00:24.191Z"
   },
   {
    "duration": 0,
    "start_time": "2022-04-04T12:00:24.193Z"
   },
   {
    "duration": 0,
    "start_time": "2022-04-04T12:00:24.195Z"
   },
   {
    "duration": 0,
    "start_time": "2022-04-04T12:00:24.197Z"
   },
   {
    "duration": 0,
    "start_time": "2022-04-04T12:00:24.198Z"
   },
   {
    "duration": 0,
    "start_time": "2022-04-04T12:00:24.199Z"
   },
   {
    "duration": 0,
    "start_time": "2022-04-04T12:00:24.201Z"
   },
   {
    "duration": 0,
    "start_time": "2022-04-04T12:00:24.202Z"
   },
   {
    "duration": 0,
    "start_time": "2022-04-04T12:00:24.268Z"
   },
   {
    "duration": 0,
    "start_time": "2022-04-04T12:00:24.270Z"
   },
   {
    "duration": 0,
    "start_time": "2022-04-04T12:00:24.271Z"
   },
   {
    "duration": 0,
    "start_time": "2022-04-04T12:00:24.273Z"
   },
   {
    "duration": 0,
    "start_time": "2022-04-04T12:00:24.275Z"
   },
   {
    "duration": 0,
    "start_time": "2022-04-04T12:00:24.276Z"
   },
   {
    "duration": 0,
    "start_time": "2022-04-04T12:00:24.278Z"
   },
   {
    "duration": 0,
    "start_time": "2022-04-04T12:00:24.280Z"
   },
   {
    "duration": 0,
    "start_time": "2022-04-04T12:00:24.281Z"
   },
   {
    "duration": 0,
    "start_time": "2022-04-04T12:00:24.283Z"
   },
   {
    "duration": 0,
    "start_time": "2022-04-04T12:00:24.284Z"
   },
   {
    "duration": 0,
    "start_time": "2022-04-04T12:00:24.285Z"
   },
   {
    "duration": 0,
    "start_time": "2022-04-04T12:00:24.287Z"
   },
   {
    "duration": 0,
    "start_time": "2022-04-04T12:00:24.288Z"
   },
   {
    "duration": 0,
    "start_time": "2022-04-04T12:00:24.290Z"
   },
   {
    "duration": 98,
    "start_time": "2022-04-04T12:08:44.129Z"
   },
   {
    "duration": 138,
    "start_time": "2022-04-04T12:09:08.346Z"
   },
   {
    "duration": 4,
    "start_time": "2022-04-04T12:09:08.487Z"
   },
   {
    "duration": 14,
    "start_time": "2022-04-04T12:09:08.493Z"
   },
   {
    "duration": 65,
    "start_time": "2022-04-04T12:09:08.510Z"
   },
   {
    "duration": 18,
    "start_time": "2022-04-04T12:09:08.577Z"
   },
   {
    "duration": 11,
    "start_time": "2022-04-04T12:09:08.597Z"
   },
   {
    "duration": 4,
    "start_time": "2022-04-04T12:09:08.610Z"
   },
   {
    "duration": 12,
    "start_time": "2022-04-04T12:09:08.616Z"
   },
   {
    "duration": 44,
    "start_time": "2022-04-04T12:09:08.630Z"
   },
   {
    "duration": 27,
    "start_time": "2022-04-04T12:09:08.678Z"
   },
   {
    "duration": 3,
    "start_time": "2022-04-04T12:09:08.707Z"
   },
   {
    "duration": 24,
    "start_time": "2022-04-04T12:09:08.712Z"
   },
   {
    "duration": 16,
    "start_time": "2022-04-04T12:09:08.738Z"
   },
   {
    "duration": 6,
    "start_time": "2022-04-04T12:09:08.768Z"
   },
   {
    "duration": 28,
    "start_time": "2022-04-04T12:09:08.776Z"
   },
   {
    "duration": 7,
    "start_time": "2022-04-04T12:09:08.807Z"
   },
   {
    "duration": 355,
    "start_time": "2022-04-04T12:09:08.816Z"
   },
   {
    "duration": 110,
    "start_time": "2022-04-04T12:09:09.173Z"
   },
   {
    "duration": 81,
    "start_time": "2022-04-04T12:09:09.286Z"
   },
   {
    "duration": 84,
    "start_time": "2022-04-04T12:09:09.370Z"
   },
   {
    "duration": 70,
    "start_time": "2022-04-04T12:09:09.456Z"
   },
   {
    "duration": 6,
    "start_time": "2022-04-04T12:09:09.529Z"
   },
   {
    "duration": 92,
    "start_time": "2022-04-04T12:09:09.537Z"
   },
   {
    "duration": 6,
    "start_time": "2022-04-04T12:09:09.632Z"
   },
   {
    "duration": 102,
    "start_time": "2022-04-04T12:09:09.641Z"
   },
   {
    "duration": 27,
    "start_time": "2022-04-04T12:09:09.745Z"
   },
   {
    "duration": 9,
    "start_time": "2022-04-04T12:09:09.775Z"
   },
   {
    "duration": 44,
    "start_time": "2022-04-04T12:09:09.790Z"
   },
   {
    "duration": 31,
    "start_time": "2022-04-04T12:09:09.837Z"
   },
   {
    "duration": 258,
    "start_time": "2022-04-04T12:09:09.871Z"
   },
   {
    "duration": 8,
    "start_time": "2022-04-04T12:09:10.131Z"
   },
   {
    "duration": 26,
    "start_time": "2022-04-04T12:09:10.141Z"
   },
   {
    "duration": 45,
    "start_time": "2022-04-04T12:09:10.170Z"
   },
   {
    "duration": 15,
    "start_time": "2022-04-04T12:09:10.217Z"
   },
   {
    "duration": 375,
    "start_time": "2022-04-04T12:09:10.234Z"
   },
   {
    "duration": 71,
    "start_time": "2022-04-04T12:09:10.611Z"
   },
   {
    "duration": 492,
    "start_time": "2022-04-04T12:09:10.684Z"
   },
   {
    "duration": 23,
    "start_time": "2022-04-04T12:09:11.179Z"
   },
   {
    "duration": 497,
    "start_time": "2022-04-04T12:09:11.204Z"
   },
   {
    "duration": 77,
    "start_time": "2022-04-04T12:09:11.704Z"
   },
   {
    "duration": 92,
    "start_time": "2022-04-04T12:09:11.784Z"
   },
   {
    "duration": 18,
    "start_time": "2022-04-04T12:09:11.879Z"
   },
   {
    "duration": 511,
    "start_time": "2022-04-04T12:09:11.899Z"
   },
   {
    "duration": 23,
    "start_time": "2022-04-04T12:09:12.467Z"
   },
   {
    "duration": 517,
    "start_time": "2022-04-04T12:09:12.492Z"
   },
   {
    "duration": 75,
    "start_time": "2022-04-04T12:09:13.012Z"
   },
   {
    "duration": 507,
    "start_time": "2022-04-04T12:09:13.089Z"
   },
   {
    "duration": 77,
    "start_time": "2022-04-04T12:09:13.598Z"
   },
   {
    "duration": 192,
    "start_time": "2022-04-04T12:09:13.678Z"
   },
   {
    "duration": 95,
    "start_time": "2022-04-04T12:09:13.873Z"
   },
   {
    "duration": 101,
    "start_time": "2022-04-04T12:09:13.970Z"
   },
   {
    "duration": 23,
    "start_time": "2022-04-04T12:09:14.074Z"
   },
   {
    "duration": 15,
    "start_time": "2022-04-04T12:09:14.100Z"
   },
   {
    "duration": 51,
    "start_time": "2022-04-04T12:09:14.118Z"
   },
   {
    "duration": 26,
    "start_time": "2022-04-04T12:09:14.172Z"
   },
   {
    "duration": 17,
    "start_time": "2022-04-04T12:09:14.201Z"
   },
   {
    "duration": 373,
    "start_time": "2022-04-04T12:28:24.924Z"
   },
   {
    "duration": 6,
    "start_time": "2022-04-04T12:47:57.980Z"
   },
   {
    "duration": 17,
    "start_time": "2022-04-04T12:51:34.934Z"
   },
   {
    "duration": 5,
    "start_time": "2022-04-04T12:52:17.807Z"
   },
   {
    "duration": 221,
    "start_time": "2022-04-04T12:52:17.814Z"
   },
   {
    "duration": 4,
    "start_time": "2022-04-04T12:52:18.038Z"
   },
   {
    "duration": 28,
    "start_time": "2022-04-04T12:52:18.044Z"
   },
   {
    "duration": 60,
    "start_time": "2022-04-04T12:52:18.077Z"
   },
   {
    "duration": 65,
    "start_time": "2022-04-04T12:52:18.139Z"
   },
   {
    "duration": 202,
    "start_time": "2022-04-04T12:52:18.206Z"
   },
   {
    "duration": 4,
    "start_time": "2022-04-04T12:52:18.411Z"
   },
   {
    "duration": 15,
    "start_time": "2022-04-04T12:52:18.418Z"
   },
   {
    "duration": 87,
    "start_time": "2022-04-04T12:52:18.435Z"
   },
   {
    "duration": 51,
    "start_time": "2022-04-04T12:52:18.528Z"
   },
   {
    "duration": 140,
    "start_time": "2022-04-04T12:52:18.582Z"
   },
   {
    "duration": 4,
    "start_time": "2022-04-04T12:52:18.724Z"
   },
   {
    "duration": 14,
    "start_time": "2022-04-04T12:52:18.730Z"
   },
   {
    "duration": 46,
    "start_time": "2022-04-04T12:52:18.746Z"
   },
   {
    "duration": 18,
    "start_time": "2022-04-04T12:52:18.794Z"
   },
   {
    "duration": 11,
    "start_time": "2022-04-04T12:52:18.814Z"
   },
   {
    "duration": 3,
    "start_time": "2022-04-04T12:52:18.827Z"
   },
   {
    "duration": 46,
    "start_time": "2022-04-04T12:52:18.832Z"
   },
   {
    "duration": 22,
    "start_time": "2022-04-04T12:52:18.882Z"
   },
   {
    "duration": 24,
    "start_time": "2022-04-04T12:52:18.908Z"
   },
   {
    "duration": 3,
    "start_time": "2022-04-04T12:52:18.934Z"
   },
   {
    "duration": 44,
    "start_time": "2022-04-04T12:52:18.939Z"
   },
   {
    "duration": 16,
    "start_time": "2022-04-04T12:52:18.985Z"
   },
   {
    "duration": 10,
    "start_time": "2022-04-04T12:52:19.004Z"
   },
   {
    "duration": 23,
    "start_time": "2022-04-04T12:52:19.017Z"
   },
   {
    "duration": 7,
    "start_time": "2022-04-04T12:52:19.068Z"
   },
   {
    "duration": 351,
    "start_time": "2022-04-04T12:52:19.077Z"
   },
   {
    "duration": 112,
    "start_time": "2022-04-04T12:52:19.433Z"
   },
   {
    "duration": 79,
    "start_time": "2022-04-04T12:52:19.548Z"
   },
   {
    "duration": 83,
    "start_time": "2022-04-04T12:52:19.629Z"
   },
   {
    "duration": 53,
    "start_time": "2022-04-04T12:52:19.716Z"
   },
   {
    "duration": 6,
    "start_time": "2022-04-04T12:52:19.772Z"
   },
   {
    "duration": 45,
    "start_time": "2022-04-04T12:52:19.780Z"
   },
   {
    "duration": 6,
    "start_time": "2022-04-04T12:52:19.827Z"
   },
   {
    "duration": 86,
    "start_time": "2022-04-04T12:52:19.836Z"
   },
   {
    "duration": 19,
    "start_time": "2022-04-04T12:52:22.748Z"
   },
   {
    "duration": 13,
    "start_time": "2022-04-04T12:53:10.900Z"
   },
   {
    "duration": 14,
    "start_time": "2022-04-04T12:53:15.356Z"
   },
   {
    "duration": 43,
    "start_time": "2022-04-04T12:53:23.936Z"
   },
   {
    "duration": 6,
    "start_time": "2022-04-04T12:56:22.168Z"
   },
   {
    "duration": 7,
    "start_time": "2022-04-04T12:56:51.046Z"
   },
   {
    "duration": 7,
    "start_time": "2022-04-04T12:57:03.520Z"
   },
   {
    "duration": 43,
    "start_time": "2022-04-04T12:58:56.704Z"
   },
   {
    "duration": 4,
    "start_time": "2022-04-04T12:59:03.999Z"
   },
   {
    "duration": 290,
    "start_time": "2022-04-04T12:59:04.006Z"
   },
   {
    "duration": 5,
    "start_time": "2022-04-04T12:59:04.299Z"
   },
   {
    "duration": 16,
    "start_time": "2022-04-04T12:59:04.307Z"
   },
   {
    "duration": 84,
    "start_time": "2022-04-04T12:59:04.326Z"
   },
   {
    "duration": 37,
    "start_time": "2022-04-04T12:59:04.412Z"
   },
   {
    "duration": 157,
    "start_time": "2022-04-04T12:59:04.467Z"
   },
   {
    "duration": 3,
    "start_time": "2022-04-04T12:59:04.627Z"
   },
   {
    "duration": 34,
    "start_time": "2022-04-04T12:59:04.635Z"
   },
   {
    "duration": 33,
    "start_time": "2022-04-04T12:59:04.671Z"
   },
   {
    "duration": 37,
    "start_time": "2022-04-04T12:59:04.707Z"
   },
   {
    "duration": 126,
    "start_time": "2022-04-04T12:59:04.746Z"
   },
   {
    "duration": 3,
    "start_time": "2022-04-04T12:59:04.874Z"
   },
   {
    "duration": 13,
    "start_time": "2022-04-04T12:59:04.880Z"
   },
   {
    "duration": 27,
    "start_time": "2022-04-04T12:59:04.895Z"
   },
   {
    "duration": 49,
    "start_time": "2022-04-04T12:59:04.924Z"
   },
   {
    "duration": 14,
    "start_time": "2022-04-04T12:59:04.976Z"
   },
   {
    "duration": 3,
    "start_time": "2022-04-04T12:59:04.993Z"
   },
   {
    "duration": 16,
    "start_time": "2022-04-04T12:59:04.999Z"
   },
   {
    "duration": 16,
    "start_time": "2022-04-04T12:59:05.017Z"
   },
   {
    "duration": 24,
    "start_time": "2022-04-04T12:59:05.068Z"
   },
   {
    "duration": 3,
    "start_time": "2022-04-04T12:59:05.095Z"
   },
   {
    "duration": 22,
    "start_time": "2022-04-04T12:59:05.101Z"
   },
   {
    "duration": 42,
    "start_time": "2022-04-04T12:59:05.128Z"
   },
   {
    "duration": 9,
    "start_time": "2022-04-04T12:59:05.172Z"
   },
   {
    "duration": 22,
    "start_time": "2022-04-04T12:59:05.185Z"
   },
   {
    "duration": 8,
    "start_time": "2022-04-04T12:59:05.210Z"
   },
   {
    "duration": 448,
    "start_time": "2022-04-04T12:59:05.221Z"
   },
   {
    "duration": 116,
    "start_time": "2022-04-04T12:59:05.671Z"
   },
   {
    "duration": 77,
    "start_time": "2022-04-04T12:59:05.790Z"
   },
   {
    "duration": 76,
    "start_time": "2022-04-04T12:59:05.870Z"
   },
   {
    "duration": 64,
    "start_time": "2022-04-04T12:59:05.949Z"
   },
   {
    "duration": 4,
    "start_time": "2022-04-04T12:59:06.015Z"
   },
   {
    "duration": 63,
    "start_time": "2022-04-04T12:59:06.022Z"
   },
   {
    "duration": 6,
    "start_time": "2022-04-04T12:59:06.087Z"
   },
   {
    "duration": 82,
    "start_time": "2022-04-04T12:59:06.096Z"
   },
   {
    "duration": 13,
    "start_time": "2022-04-04T12:59:06.181Z"
   },
   {
    "duration": 8,
    "start_time": "2022-04-04T12:59:06.196Z"
   },
   {
    "duration": 62,
    "start_time": "2022-04-04T12:59:06.206Z"
   },
   {
    "duration": 7,
    "start_time": "2022-04-04T12:59:06.271Z"
   },
   {
    "duration": 259,
    "start_time": "2022-04-04T12:59:06.281Z"
   },
   {
    "duration": 7,
    "start_time": "2022-04-04T12:59:06.542Z"
   },
   {
    "duration": 37,
    "start_time": "2022-04-04T12:59:08.904Z"
   },
   {
    "duration": 7,
    "start_time": "2022-04-04T12:59:24.442Z"
   },
   {
    "duration": 1283,
    "start_time": "2022-04-04T17:30:08.292Z"
   },
   {
    "duration": 148,
    "start_time": "2022-04-04T17:30:09.577Z"
   },
   {
    "duration": 4,
    "start_time": "2022-04-04T17:30:09.726Z"
   },
   {
    "duration": 19,
    "start_time": "2022-04-04T17:30:09.731Z"
   },
   {
    "duration": 25,
    "start_time": "2022-04-04T17:30:09.762Z"
   },
   {
    "duration": 27,
    "start_time": "2022-04-04T17:30:09.788Z"
   },
   {
    "duration": 134,
    "start_time": "2022-04-04T17:30:09.817Z"
   },
   {
    "duration": 3,
    "start_time": "2022-04-04T17:30:09.953Z"
   },
   {
    "duration": 13,
    "start_time": "2022-04-04T17:30:09.963Z"
   },
   {
    "duration": 21,
    "start_time": "2022-04-04T17:30:09.977Z"
   },
   {
    "duration": 36,
    "start_time": "2022-04-04T17:30:10.000Z"
   },
   {
    "duration": 101,
    "start_time": "2022-04-04T17:30:10.038Z"
   },
   {
    "duration": 3,
    "start_time": "2022-04-04T17:30:10.141Z"
   },
   {
    "duration": 9,
    "start_time": "2022-04-04T17:30:10.162Z"
   },
   {
    "duration": 23,
    "start_time": "2022-04-04T17:30:10.172Z"
   },
   {
    "duration": 17,
    "start_time": "2022-04-04T17:30:10.197Z"
   },
   {
    "duration": 10,
    "start_time": "2022-04-04T17:30:10.216Z"
   },
   {
    "duration": 7,
    "start_time": "2022-04-04T17:30:10.228Z"
   },
   {
    "duration": 31,
    "start_time": "2022-04-04T17:30:10.237Z"
   },
   {
    "duration": 16,
    "start_time": "2022-04-04T17:30:10.270Z"
   },
   {
    "duration": 35,
    "start_time": "2022-04-04T17:30:10.288Z"
   },
   {
    "duration": 10,
    "start_time": "2022-04-04T17:30:10.324Z"
   },
   {
    "duration": 28,
    "start_time": "2022-04-04T17:30:10.335Z"
   },
   {
    "duration": 15,
    "start_time": "2022-04-04T17:30:10.365Z"
   },
   {
    "duration": 12,
    "start_time": "2022-04-04T17:30:10.382Z"
   },
   {
    "duration": 37,
    "start_time": "2022-04-04T17:30:10.396Z"
   },
   {
    "duration": 7,
    "start_time": "2022-04-04T17:30:10.435Z"
   },
   {
    "duration": 325,
    "start_time": "2022-04-04T17:30:10.444Z"
   },
   {
    "duration": 123,
    "start_time": "2022-04-04T17:30:10.771Z"
   },
   {
    "duration": 67,
    "start_time": "2022-04-04T17:30:10.896Z"
   },
   {
    "duration": 83,
    "start_time": "2022-04-04T17:30:10.965Z"
   },
   {
    "duration": 41,
    "start_time": "2022-04-04T17:30:11.049Z"
   },
   {
    "duration": 3,
    "start_time": "2022-04-04T17:30:11.091Z"
   },
   {
    "duration": 43,
    "start_time": "2022-04-04T17:30:11.096Z"
   },
   {
    "duration": 22,
    "start_time": "2022-04-04T17:30:11.141Z"
   },
   {
    "duration": 49,
    "start_time": "2022-04-04T17:30:11.165Z"
   },
   {
    "duration": 9,
    "start_time": "2022-04-04T17:30:11.215Z"
   },
   {
    "duration": 9,
    "start_time": "2022-04-04T17:30:11.225Z"
   },
   {
    "duration": 50,
    "start_time": "2022-04-04T17:30:11.236Z"
   },
   {
    "duration": 8,
    "start_time": "2022-04-04T17:30:11.287Z"
   },
   {
    "duration": 151,
    "start_time": "2022-04-04T17:30:11.298Z"
   },
   {
    "duration": 6,
    "start_time": "2022-04-04T17:30:11.451Z"
   },
   {
    "duration": 5,
    "start_time": "2022-04-04T17:30:11.463Z"
   },
   {
    "duration": 31,
    "start_time": "2022-04-04T17:30:11.470Z"
   },
   {
    "duration": 10,
    "start_time": "2022-04-04T17:30:11.503Z"
   },
   {
    "duration": 333,
    "start_time": "2022-04-04T17:30:11.515Z"
   },
   {
    "duration": 14,
    "start_time": "2022-04-04T17:30:17.264Z"
   },
   {
    "duration": 87,
    "start_time": "2022-04-04T17:30:44.073Z"
   },
   {
    "duration": 7,
    "start_time": "2022-04-04T17:31:04.371Z"
   },
   {
    "duration": 9,
    "start_time": "2022-04-04T17:31:08.820Z"
   },
   {
    "duration": 8,
    "start_time": "2022-04-04T17:31:49.628Z"
   },
   {
    "duration": 8,
    "start_time": "2022-04-04T17:31:53.654Z"
   },
   {
    "duration": 7,
    "start_time": "2022-04-04T17:31:58.885Z"
   },
   {
    "duration": 82,
    "start_time": "2022-04-04T17:32:24.047Z"
   },
   {
    "duration": 78,
    "start_time": "2022-04-04T17:36:40.669Z"
   },
   {
    "duration": 124,
    "start_time": "2022-04-04T17:36:59.870Z"
   },
   {
    "duration": 11,
    "start_time": "2022-04-04T17:37:04.502Z"
   },
   {
    "duration": 7,
    "start_time": "2022-04-04T17:37:18.788Z"
   },
   {
    "duration": 10,
    "start_time": "2022-04-04T17:37:40.020Z"
   },
   {
    "duration": 8,
    "start_time": "2022-04-04T17:38:46.178Z"
   },
   {
    "duration": 9,
    "start_time": "2022-04-04T17:38:52.763Z"
   },
   {
    "duration": 97,
    "start_time": "2022-04-04T17:54:25.181Z"
   },
   {
    "duration": 142,
    "start_time": "2022-04-04T17:54:31.874Z"
   },
   {
    "duration": 158,
    "start_time": "2022-04-04T17:54:37.684Z"
   },
   {
    "duration": 100,
    "start_time": "2022-04-04T17:54:54.868Z"
   },
   {
    "duration": 94,
    "start_time": "2022-04-04T17:55:04.712Z"
   },
   {
    "duration": 93,
    "start_time": "2022-04-04T17:55:09.002Z"
   },
   {
    "duration": 37,
    "start_time": "2022-04-04T17:58:51.003Z"
   },
   {
    "duration": 1322,
    "start_time": "2022-04-05T04:20:33.814Z"
   },
   {
    "duration": 209,
    "start_time": "2022-04-05T04:20:35.138Z"
   },
   {
    "duration": 146,
    "start_time": "2022-04-05T04:20:58.868Z"
   },
   {
    "duration": 133,
    "start_time": "2022-04-05T04:22:04.338Z"
   },
   {
    "duration": 89,
    "start_time": "2022-04-05T04:24:42.376Z"
   },
   {
    "duration": 29,
    "start_time": "2022-04-05T04:26:12.269Z"
   },
   {
    "duration": 26,
    "start_time": "2022-04-05T04:26:39.258Z"
   },
   {
    "duration": 3,
    "start_time": "2022-04-05T04:27:10.597Z"
   },
   {
    "duration": 184,
    "start_time": "2022-04-05T04:27:10.603Z"
   },
   {
    "duration": 12,
    "start_time": "2022-04-05T04:27:10.789Z"
   },
   {
    "duration": 105,
    "start_time": "2022-04-05T04:27:10.803Z"
   },
   {
    "duration": 0,
    "start_time": "2022-04-05T04:27:10.912Z"
   },
   {
    "duration": 0,
    "start_time": "2022-04-05T04:27:10.913Z"
   },
   {
    "duration": 0,
    "start_time": "2022-04-05T04:27:10.914Z"
   },
   {
    "duration": 0,
    "start_time": "2022-04-05T04:27:10.915Z"
   },
   {
    "duration": 0,
    "start_time": "2022-04-05T04:27:10.916Z"
   },
   {
    "duration": 0,
    "start_time": "2022-04-05T04:27:10.917Z"
   },
   {
    "duration": 0,
    "start_time": "2022-04-05T04:27:10.918Z"
   },
   {
    "duration": 0,
    "start_time": "2022-04-05T04:27:10.919Z"
   },
   {
    "duration": 0,
    "start_time": "2022-04-05T04:27:10.920Z"
   },
   {
    "duration": 0,
    "start_time": "2022-04-05T04:27:10.921Z"
   },
   {
    "duration": 0,
    "start_time": "2022-04-05T04:27:10.922Z"
   },
   {
    "duration": 0,
    "start_time": "2022-04-05T04:27:10.923Z"
   },
   {
    "duration": 0,
    "start_time": "2022-04-05T04:27:10.925Z"
   },
   {
    "duration": 0,
    "start_time": "2022-04-05T04:27:10.926Z"
   },
   {
    "duration": 0,
    "start_time": "2022-04-05T04:27:10.926Z"
   },
   {
    "duration": 0,
    "start_time": "2022-04-05T04:27:10.927Z"
   },
   {
    "duration": 0,
    "start_time": "2022-04-05T04:27:10.929Z"
   },
   {
    "duration": 0,
    "start_time": "2022-04-05T04:27:10.929Z"
   },
   {
    "duration": 0,
    "start_time": "2022-04-05T04:27:10.930Z"
   },
   {
    "duration": 0,
    "start_time": "2022-04-05T04:27:10.931Z"
   },
   {
    "duration": 0,
    "start_time": "2022-04-05T04:27:10.932Z"
   },
   {
    "duration": 0,
    "start_time": "2022-04-05T04:27:10.933Z"
   },
   {
    "duration": 0,
    "start_time": "2022-04-05T04:27:10.934Z"
   },
   {
    "duration": 0,
    "start_time": "2022-04-05T04:27:10.935Z"
   },
   {
    "duration": 0,
    "start_time": "2022-04-05T04:27:10.937Z"
   },
   {
    "duration": 0,
    "start_time": "2022-04-05T04:27:10.938Z"
   },
   {
    "duration": 0,
    "start_time": "2022-04-05T04:27:10.938Z"
   },
   {
    "duration": 0,
    "start_time": "2022-04-05T04:27:10.939Z"
   },
   {
    "duration": 0,
    "start_time": "2022-04-05T04:27:10.940Z"
   },
   {
    "duration": 0,
    "start_time": "2022-04-05T04:27:10.942Z"
   },
   {
    "duration": 0,
    "start_time": "2022-04-05T04:27:10.943Z"
   },
   {
    "duration": 0,
    "start_time": "2022-04-05T04:27:10.943Z"
   },
   {
    "duration": 0,
    "start_time": "2022-04-05T04:27:10.944Z"
   },
   {
    "duration": 0,
    "start_time": "2022-04-05T04:27:11.002Z"
   },
   {
    "duration": 0,
    "start_time": "2022-04-05T04:27:11.003Z"
   },
   {
    "duration": 0,
    "start_time": "2022-04-05T04:27:11.004Z"
   },
   {
    "duration": 0,
    "start_time": "2022-04-05T04:27:11.005Z"
   },
   {
    "duration": 0,
    "start_time": "2022-04-05T04:27:11.006Z"
   },
   {
    "duration": 0,
    "start_time": "2022-04-05T04:27:11.007Z"
   },
   {
    "duration": 0,
    "start_time": "2022-04-05T04:27:11.008Z"
   },
   {
    "duration": 0,
    "start_time": "2022-04-05T04:27:11.009Z"
   },
   {
    "duration": 0,
    "start_time": "2022-04-05T04:27:11.010Z"
   },
   {
    "duration": 0,
    "start_time": "2022-04-05T04:27:11.012Z"
   },
   {
    "duration": 0,
    "start_time": "2022-04-05T04:27:11.013Z"
   },
   {
    "duration": 0,
    "start_time": "2022-04-05T04:27:11.015Z"
   },
   {
    "duration": 0,
    "start_time": "2022-04-05T04:27:11.016Z"
   },
   {
    "duration": 0,
    "start_time": "2022-04-05T04:27:11.017Z"
   },
   {
    "duration": 0,
    "start_time": "2022-04-05T04:27:11.018Z"
   },
   {
    "duration": 0,
    "start_time": "2022-04-05T04:27:11.019Z"
   },
   {
    "duration": 0,
    "start_time": "2022-04-05T04:27:11.020Z"
   },
   {
    "duration": 0,
    "start_time": "2022-04-05T04:27:11.021Z"
   },
   {
    "duration": 0,
    "start_time": "2022-04-05T04:27:11.022Z"
   },
   {
    "duration": 1,
    "start_time": "2022-04-05T04:27:11.023Z"
   },
   {
    "duration": 0,
    "start_time": "2022-04-05T04:27:11.024Z"
   },
   {
    "duration": 0,
    "start_time": "2022-04-05T04:27:11.025Z"
   },
   {
    "duration": 0,
    "start_time": "2022-04-05T04:27:11.027Z"
   },
   {
    "duration": 0,
    "start_time": "2022-04-05T04:27:11.028Z"
   },
   {
    "duration": 0,
    "start_time": "2022-04-05T04:27:11.029Z"
   },
   {
    "duration": 0,
    "start_time": "2022-04-05T04:27:11.030Z"
   },
   {
    "duration": 0,
    "start_time": "2022-04-05T04:27:11.031Z"
   },
   {
    "duration": 0,
    "start_time": "2022-04-05T04:27:11.032Z"
   },
   {
    "duration": 0,
    "start_time": "2022-04-05T04:27:11.033Z"
   },
   {
    "duration": 0,
    "start_time": "2022-04-05T04:27:11.034Z"
   },
   {
    "duration": 0,
    "start_time": "2022-04-05T04:27:11.035Z"
   },
   {
    "duration": 0,
    "start_time": "2022-04-05T04:27:11.036Z"
   },
   {
    "duration": 0,
    "start_time": "2022-04-05T04:27:11.037Z"
   },
   {
    "duration": 148,
    "start_time": "2022-04-05T04:29:24.695Z"
   },
   {
    "duration": 3,
    "start_time": "2022-04-05T04:29:26.603Z"
   },
   {
    "duration": 11,
    "start_time": "2022-04-05T04:29:27.070Z"
   },
   {
    "duration": 124,
    "start_time": "2022-04-05T04:29:45.584Z"
   },
   {
    "duration": 3,
    "start_time": "2022-04-05T04:30:24.883Z"
   },
   {
    "duration": 166,
    "start_time": "2022-04-05T04:30:24.888Z"
   },
   {
    "duration": 2,
    "start_time": "2022-04-05T04:30:25.057Z"
   },
   {
    "duration": 10,
    "start_time": "2022-04-05T04:30:25.061Z"
   },
   {
    "duration": 38,
    "start_time": "2022-04-05T04:30:25.073Z"
   },
   {
    "duration": 26,
    "start_time": "2022-04-05T04:30:25.112Z"
   },
   {
    "duration": 129,
    "start_time": "2022-04-05T04:30:25.140Z"
   },
   {
    "duration": 3,
    "start_time": "2022-04-05T04:30:25.270Z"
   },
   {
    "duration": 11,
    "start_time": "2022-04-05T04:30:25.274Z"
   },
   {
    "duration": 31,
    "start_time": "2022-04-05T04:30:25.286Z"
   },
   {
    "duration": 25,
    "start_time": "2022-04-05T04:30:25.319Z"
   },
   {
    "duration": 92,
    "start_time": "2022-04-05T04:30:25.345Z"
   },
   {
    "duration": 2,
    "start_time": "2022-04-05T04:30:25.439Z"
   },
   {
    "duration": 8,
    "start_time": "2022-04-05T04:30:25.443Z"
   },
   {
    "duration": 18,
    "start_time": "2022-04-05T04:30:25.453Z"
   },
   {
    "duration": 29,
    "start_time": "2022-04-05T04:30:25.473Z"
   },
   {
    "duration": 16,
    "start_time": "2022-04-05T04:30:25.503Z"
   },
   {
    "duration": 2,
    "start_time": "2022-04-05T04:30:25.520Z"
   },
   {
    "duration": 12,
    "start_time": "2022-04-05T04:30:25.524Z"
   },
   {
    "duration": 10,
    "start_time": "2022-04-05T04:30:25.537Z"
   },
   {
    "duration": 28,
    "start_time": "2022-04-05T04:30:25.549Z"
   },
   {
    "duration": 3,
    "start_time": "2022-04-05T04:30:25.578Z"
   },
   {
    "duration": 10,
    "start_time": "2022-04-05T04:30:25.582Z"
   },
   {
    "duration": 12,
    "start_time": "2022-04-05T04:30:25.594Z"
   },
   {
    "duration": 9,
    "start_time": "2022-04-05T04:30:25.608Z"
   },
   {
    "duration": 21,
    "start_time": "2022-04-05T04:30:25.618Z"
   },
   {
    "duration": 6,
    "start_time": "2022-04-05T04:30:25.640Z"
   },
   {
    "duration": 212,
    "start_time": "2022-04-05T04:30:25.647Z"
   },
   {
    "duration": 81,
    "start_time": "2022-04-05T04:30:25.863Z"
   },
   {
    "duration": 47,
    "start_time": "2022-04-05T04:30:25.945Z"
   },
   {
    "duration": 66,
    "start_time": "2022-04-05T04:30:25.994Z"
   },
   {
    "duration": 45,
    "start_time": "2022-04-05T04:30:26.062Z"
   },
   {
    "duration": 3,
    "start_time": "2022-04-05T04:30:26.108Z"
   },
   {
    "duration": 31,
    "start_time": "2022-04-05T04:30:26.112Z"
   },
   {
    "duration": 3,
    "start_time": "2022-04-05T04:30:26.145Z"
   },
   {
    "duration": 57,
    "start_time": "2022-04-05T04:30:26.149Z"
   },
   {
    "duration": 7,
    "start_time": "2022-04-05T04:30:26.208Z"
   },
   {
    "duration": 5,
    "start_time": "2022-04-05T04:30:26.216Z"
   },
   {
    "duration": 17,
    "start_time": "2022-04-05T04:30:26.222Z"
   },
   {
    "duration": 5,
    "start_time": "2022-04-05T04:30:26.240Z"
   },
   {
    "duration": 156,
    "start_time": "2022-04-05T04:30:26.246Z"
   },
   {
    "duration": 4,
    "start_time": "2022-04-05T04:30:26.404Z"
   },
   {
    "duration": 6,
    "start_time": "2022-04-05T04:30:26.410Z"
   },
   {
    "duration": 32,
    "start_time": "2022-04-05T04:30:26.417Z"
   },
   {
    "duration": 8,
    "start_time": "2022-04-05T04:30:26.451Z"
   },
   {
    "duration": 329,
    "start_time": "2022-04-05T04:30:26.461Z"
   },
   {
    "duration": 15,
    "start_time": "2022-04-05T04:30:26.800Z"
   },
   {
    "duration": 113,
    "start_time": "2022-04-05T04:30:26.817Z"
   },
   {
    "duration": 10,
    "start_time": "2022-04-05T04:30:26.931Z"
   },
   {
    "duration": 209,
    "start_time": "2022-04-05T04:30:26.942Z"
   },
   {
    "duration": 16,
    "start_time": "2022-04-05T04:30:27.152Z"
   },
   {
    "duration": 270,
    "start_time": "2022-04-05T04:30:27.169Z"
   },
   {
    "duration": 16,
    "start_time": "2022-04-05T04:30:27.440Z"
   },
   {
    "duration": 46,
    "start_time": "2022-04-05T04:30:27.457Z"
   },
   {
    "duration": 8,
    "start_time": "2022-04-05T04:30:27.505Z"
   },
   {
    "duration": 237,
    "start_time": "2022-04-05T04:30:27.515Z"
   },
   {
    "duration": 16,
    "start_time": "2022-04-05T04:30:27.753Z"
   },
   {
    "duration": 276,
    "start_time": "2022-04-05T04:30:27.771Z"
   },
   {
    "duration": 16,
    "start_time": "2022-04-05T04:30:28.048Z"
   },
   {
    "duration": 266,
    "start_time": "2022-04-05T04:30:28.066Z"
   },
   {
    "duration": 16,
    "start_time": "2022-04-05T04:30:28.333Z"
   },
   {
    "duration": 52,
    "start_time": "2022-04-05T04:30:28.350Z"
   },
   {
    "duration": 37,
    "start_time": "2022-04-05T04:30:28.403Z"
   },
   {
    "duration": 25,
    "start_time": "2022-04-05T04:30:28.442Z"
   },
   {
    "duration": 45,
    "start_time": "2022-04-05T04:30:28.469Z"
   },
   {
    "duration": 15,
    "start_time": "2022-04-05T04:30:28.515Z"
   },
   {
    "duration": 17,
    "start_time": "2022-04-05T04:30:28.532Z"
   },
   {
    "duration": 16,
    "start_time": "2022-04-05T04:30:28.551Z"
   },
   {
    "duration": 19,
    "start_time": "2022-04-05T04:30:28.568Z"
   },
   {
    "duration": 16,
    "start_time": "2022-04-05T04:30:28.589Z"
   },
   {
    "duration": 19,
    "start_time": "2022-04-05T04:37:46.951Z"
   },
   {
    "duration": 46,
    "start_time": "2022-04-05T04:50:19.503Z"
   },
   {
    "duration": 14,
    "start_time": "2022-04-05T05:04:34.074Z"
   },
   {
    "duration": 14,
    "start_time": "2022-04-05T05:04:47.703Z"
   },
   {
    "duration": 37,
    "start_time": "2022-04-05T05:12:02.849Z"
   },
   {
    "duration": 9,
    "start_time": "2022-04-05T05:12:25.591Z"
   },
   {
    "duration": 10,
    "start_time": "2022-04-05T05:13:14.979Z"
   },
   {
    "duration": 9,
    "start_time": "2022-04-05T05:13:41.264Z"
   },
   {
    "duration": 9,
    "start_time": "2022-04-05T05:14:19.411Z"
   },
   {
    "duration": 7,
    "start_time": "2022-04-05T05:14:33.281Z"
   },
   {
    "duration": 7,
    "start_time": "2022-04-05T05:14:49.476Z"
   },
   {
    "duration": 47,
    "start_time": "2022-04-05T05:19:43.894Z"
   },
   {
    "duration": 6,
    "start_time": "2022-04-05T06:20:42.517Z"
   },
   {
    "duration": 243,
    "start_time": "2022-04-05T06:26:41.869Z"
   },
   {
    "duration": 10,
    "start_time": "2022-04-05T06:27:19.110Z"
   },
   {
    "duration": 472,
    "start_time": "2022-04-05T06:32:22.264Z"
   },
   {
    "duration": 19,
    "start_time": "2022-04-05T06:33:03.060Z"
   },
   {
    "duration": 280,
    "start_time": "2022-04-05T06:33:23.677Z"
   },
   {
    "duration": 12,
    "start_time": "2022-04-05T06:33:34.937Z"
   },
   {
    "duration": 15,
    "start_time": "2022-04-05T06:34:03.569Z"
   },
   {
    "duration": 17,
    "start_time": "2022-04-05T06:34:13.787Z"
   },
   {
    "duration": 662,
    "start_time": "2022-04-05T06:37:22.099Z"
   }
  ],
  "kernelspec": {
   "display_name": "Python 3 (ipykernel)",
   "language": "python",
   "name": "python3"
  },
  "language_info": {
   "codemirror_mode": {
    "name": "ipython",
    "version": 3
   },
   "file_extension": ".py",
   "mimetype": "text/x-python",
   "name": "python",
   "nbconvert_exporter": "python",
   "pygments_lexer": "ipython3",
   "version": "3.9.7"
  },
  "toc": {
   "base_numbering": 1,
   "nav_menu": {},
   "number_sections": true,
   "sideBar": true,
   "skip_h1_title": true,
   "title_cell": "Содержание",
   "title_sidebar": "Contents",
   "toc_cell": true,
   "toc_position": {
    "height": "calc(100% - 180px)",
    "left": "10px",
    "top": "150px",
    "width": "287.188px"
   },
   "toc_section_display": true,
   "toc_window_display": true
  }
 },
 "nbformat": 4,
 "nbformat_minor": 4
}
