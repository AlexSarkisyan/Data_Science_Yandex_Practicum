{
 "cells": [
  {
   "cell_type": "markdown",
   "metadata": {},
   "source": [
    "# Определение стоимости автомобилей"
   ]
  },
  {
   "cell_type": "markdown",
   "metadata": {},
   "source": [
    "Сервис по продаже автомобилей с пробегом «Не бит, не крашен» разрабатывает приложение для привлечения новых клиентов. В нём можно быстро узнать рыночную стоимость своего автомобиля. В вашем распоряжении исторические данные: технические характеристики, комплектации и цены автомобилей. Вам нужно построить модель для определения стоимости. \n",
    "\n",
    "Заказчику важны:\n",
    "\n",
    "- качество предсказания;\n",
    "- скорость предсказания;\n",
    "- время обучения."
   ]
  },
  {
   "cell_type": "markdown",
   "metadata": {},
   "source": [
    "## Подготовка данных"
   ]
  },
  {
   "cell_type": "code",
   "execution_count": 19,
   "metadata": {},
   "outputs": [],
   "source": [
    "import pandas as pd\n",
    "import os\n",
    "import numpy as np\n",
    "\n",
    "from sklearn.model_selection import train_test_split\n",
    "from catboost import CatBoostRegressor\n",
    "from lightgbm import LGBMRegressor\n",
    "from sklearn.ensemble import RandomForestRegressor\n",
    "from sklearn.metrics import mean_squared_error\n",
    "\n",
    "from sklearn.linear_model import LinearRegression\n",
    "from sklearn.metrics import r2_score\n",
    "import matplotlib.pyplot as plt\n",
    "\n",
    "from hyperopt import tpe,hp,Trials\n",
    "from hyperopt.fmin import fmin\n",
    "\n",
    "from sklearn.preprocessing import OrdinalEncoder, LabelEncoder"
   ]
  },
  {
   "cell_type": "code",
   "execution_count": 2,
   "metadata": {},
   "outputs": [],
   "source": [
    "pth1 = '/datasets/autos.csv'\n",
    "pth2 = '/Users/Саркисян Александр/Desktop/practicum_ds/projects/ЧислМетоды/autos.csv'\n",
    "pth3 = '/Users/Alex/Desktop/practicum_ds/projects/ЧислМетоды/autos.csv'\n",
    "\n",
    "if os.path.exists(pth1):\n",
    "    autos = pd.read_csv(pth1)\n",
    "elif os.path.exists(pth2):\n",
    "    autos = pd.read_csv(pth2)\n",
    "elif os.path.exists(pth3):\n",
    "    autos = pd.read_csv(pth3)\n",
    "else:\n",
    "    print('Something is wrong')"
   ]
  },
  {
   "cell_type": "markdown",
   "metadata": {},
   "source": [
    "**Информация о выборках:**"
   ]
  },
  {
   "cell_type": "code",
   "execution_count": 3,
   "metadata": {},
   "outputs": [],
   "source": [
    "def about_df(df):\n",
    "    display(df.head())\n",
    "    display(df.info())\n",
    "    display(df.isna().sum())\n",
    "    display(df.describe())\n",
    "    display(df.corr())\n",
    "    print('Дубликаты =', df.duplicated().sum())"
   ]
  },
  {
   "cell_type": "code",
   "execution_count": 4,
   "metadata": {},
   "outputs": [
    {
     "data": {
      "text/html": [
       "<div>\n",
       "<style scoped>\n",
       "    .dataframe tbody tr th:only-of-type {\n",
       "        vertical-align: middle;\n",
       "    }\n",
       "\n",
       "    .dataframe tbody tr th {\n",
       "        vertical-align: top;\n",
       "    }\n",
       "\n",
       "    .dataframe thead th {\n",
       "        text-align: right;\n",
       "    }\n",
       "</style>\n",
       "<table border=\"1\" class=\"dataframe\">\n",
       "  <thead>\n",
       "    <tr style=\"text-align: right;\">\n",
       "      <th></th>\n",
       "      <th>DateCrawled</th>\n",
       "      <th>Price</th>\n",
       "      <th>VehicleType</th>\n",
       "      <th>RegistrationYear</th>\n",
       "      <th>Gearbox</th>\n",
       "      <th>Power</th>\n",
       "      <th>Model</th>\n",
       "      <th>Kilometer</th>\n",
       "      <th>RegistrationMonth</th>\n",
       "      <th>FuelType</th>\n",
       "      <th>Brand</th>\n",
       "      <th>NotRepaired</th>\n",
       "      <th>DateCreated</th>\n",
       "      <th>NumberOfPictures</th>\n",
       "      <th>PostalCode</th>\n",
       "      <th>LastSeen</th>\n",
       "    </tr>\n",
       "  </thead>\n",
       "  <tbody>\n",
       "    <tr>\n",
       "      <th>0</th>\n",
       "      <td>2016-03-24 11:52:17</td>\n",
       "      <td>480</td>\n",
       "      <td>NaN</td>\n",
       "      <td>1993</td>\n",
       "      <td>manual</td>\n",
       "      <td>0</td>\n",
       "      <td>golf</td>\n",
       "      <td>150000</td>\n",
       "      <td>0</td>\n",
       "      <td>petrol</td>\n",
       "      <td>volkswagen</td>\n",
       "      <td>NaN</td>\n",
       "      <td>2016-03-24 00:00:00</td>\n",
       "      <td>0</td>\n",
       "      <td>70435</td>\n",
       "      <td>2016-04-07 03:16:57</td>\n",
       "    </tr>\n",
       "    <tr>\n",
       "      <th>1</th>\n",
       "      <td>2016-03-24 10:58:45</td>\n",
       "      <td>18300</td>\n",
       "      <td>coupe</td>\n",
       "      <td>2011</td>\n",
       "      <td>manual</td>\n",
       "      <td>190</td>\n",
       "      <td>NaN</td>\n",
       "      <td>125000</td>\n",
       "      <td>5</td>\n",
       "      <td>gasoline</td>\n",
       "      <td>audi</td>\n",
       "      <td>yes</td>\n",
       "      <td>2016-03-24 00:00:00</td>\n",
       "      <td>0</td>\n",
       "      <td>66954</td>\n",
       "      <td>2016-04-07 01:46:50</td>\n",
       "    </tr>\n",
       "    <tr>\n",
       "      <th>2</th>\n",
       "      <td>2016-03-14 12:52:21</td>\n",
       "      <td>9800</td>\n",
       "      <td>suv</td>\n",
       "      <td>2004</td>\n",
       "      <td>auto</td>\n",
       "      <td>163</td>\n",
       "      <td>grand</td>\n",
       "      <td>125000</td>\n",
       "      <td>8</td>\n",
       "      <td>gasoline</td>\n",
       "      <td>jeep</td>\n",
       "      <td>NaN</td>\n",
       "      <td>2016-03-14 00:00:00</td>\n",
       "      <td>0</td>\n",
       "      <td>90480</td>\n",
       "      <td>2016-04-05 12:47:46</td>\n",
       "    </tr>\n",
       "    <tr>\n",
       "      <th>3</th>\n",
       "      <td>2016-03-17 16:54:04</td>\n",
       "      <td>1500</td>\n",
       "      <td>small</td>\n",
       "      <td>2001</td>\n",
       "      <td>manual</td>\n",
       "      <td>75</td>\n",
       "      <td>golf</td>\n",
       "      <td>150000</td>\n",
       "      <td>6</td>\n",
       "      <td>petrol</td>\n",
       "      <td>volkswagen</td>\n",
       "      <td>no</td>\n",
       "      <td>2016-03-17 00:00:00</td>\n",
       "      <td>0</td>\n",
       "      <td>91074</td>\n",
       "      <td>2016-03-17 17:40:17</td>\n",
       "    </tr>\n",
       "    <tr>\n",
       "      <th>4</th>\n",
       "      <td>2016-03-31 17:25:20</td>\n",
       "      <td>3600</td>\n",
       "      <td>small</td>\n",
       "      <td>2008</td>\n",
       "      <td>manual</td>\n",
       "      <td>69</td>\n",
       "      <td>fabia</td>\n",
       "      <td>90000</td>\n",
       "      <td>7</td>\n",
       "      <td>gasoline</td>\n",
       "      <td>skoda</td>\n",
       "      <td>no</td>\n",
       "      <td>2016-03-31 00:00:00</td>\n",
       "      <td>0</td>\n",
       "      <td>60437</td>\n",
       "      <td>2016-04-06 10:17:21</td>\n",
       "    </tr>\n",
       "  </tbody>\n",
       "</table>\n",
       "</div>"
      ],
      "text/plain": [
       "           DateCrawled  Price VehicleType  RegistrationYear Gearbox  Power  \\\n",
       "0  2016-03-24 11:52:17    480         NaN              1993  manual      0   \n",
       "1  2016-03-24 10:58:45  18300       coupe              2011  manual    190   \n",
       "2  2016-03-14 12:52:21   9800         suv              2004    auto    163   \n",
       "3  2016-03-17 16:54:04   1500       small              2001  manual     75   \n",
       "4  2016-03-31 17:25:20   3600       small              2008  manual     69   \n",
       "\n",
       "   Model  Kilometer  RegistrationMonth  FuelType       Brand NotRepaired  \\\n",
       "0   golf     150000                  0    petrol  volkswagen         NaN   \n",
       "1    NaN     125000                  5  gasoline        audi         yes   \n",
       "2  grand     125000                  8  gasoline        jeep         NaN   \n",
       "3   golf     150000                  6    petrol  volkswagen          no   \n",
       "4  fabia      90000                  7  gasoline       skoda          no   \n",
       "\n",
       "           DateCreated  NumberOfPictures  PostalCode             LastSeen  \n",
       "0  2016-03-24 00:00:00                 0       70435  2016-04-07 03:16:57  \n",
       "1  2016-03-24 00:00:00                 0       66954  2016-04-07 01:46:50  \n",
       "2  2016-03-14 00:00:00                 0       90480  2016-04-05 12:47:46  \n",
       "3  2016-03-17 00:00:00                 0       91074  2016-03-17 17:40:17  \n",
       "4  2016-03-31 00:00:00                 0       60437  2016-04-06 10:17:21  "
      ]
     },
     "metadata": {},
     "output_type": "display_data"
    },
    {
     "name": "stdout",
     "output_type": "stream",
     "text": [
      "<class 'pandas.core.frame.DataFrame'>\n",
      "RangeIndex: 354369 entries, 0 to 354368\n",
      "Data columns (total 16 columns):\n",
      " #   Column             Non-Null Count   Dtype \n",
      "---  ------             --------------   ----- \n",
      " 0   DateCrawled        354369 non-null  object\n",
      " 1   Price              354369 non-null  int64 \n",
      " 2   VehicleType        316879 non-null  object\n",
      " 3   RegistrationYear   354369 non-null  int64 \n",
      " 4   Gearbox            334536 non-null  object\n",
      " 5   Power              354369 non-null  int64 \n",
      " 6   Model              334664 non-null  object\n",
      " 7   Kilometer          354369 non-null  int64 \n",
      " 8   RegistrationMonth  354369 non-null  int64 \n",
      " 9   FuelType           321474 non-null  object\n",
      " 10  Brand              354369 non-null  object\n",
      " 11  NotRepaired        283215 non-null  object\n",
      " 12  DateCreated        354369 non-null  object\n",
      " 13  NumberOfPictures   354369 non-null  int64 \n",
      " 14  PostalCode         354369 non-null  int64 \n",
      " 15  LastSeen           354369 non-null  object\n",
      "dtypes: int64(7), object(9)\n",
      "memory usage: 43.3+ MB\n"
     ]
    },
    {
     "data": {
      "text/plain": [
       "None"
      ]
     },
     "metadata": {},
     "output_type": "display_data"
    },
    {
     "data": {
      "text/plain": [
       "DateCrawled              0\n",
       "Price                    0\n",
       "VehicleType          37490\n",
       "RegistrationYear         0\n",
       "Gearbox              19833\n",
       "Power                    0\n",
       "Model                19705\n",
       "Kilometer                0\n",
       "RegistrationMonth        0\n",
       "FuelType             32895\n",
       "Brand                    0\n",
       "NotRepaired          71154\n",
       "DateCreated              0\n",
       "NumberOfPictures         0\n",
       "PostalCode               0\n",
       "LastSeen                 0\n",
       "dtype: int64"
      ]
     },
     "metadata": {},
     "output_type": "display_data"
    },
    {
     "data": {
      "text/html": [
       "<div>\n",
       "<style scoped>\n",
       "    .dataframe tbody tr th:only-of-type {\n",
       "        vertical-align: middle;\n",
       "    }\n",
       "\n",
       "    .dataframe tbody tr th {\n",
       "        vertical-align: top;\n",
       "    }\n",
       "\n",
       "    .dataframe thead th {\n",
       "        text-align: right;\n",
       "    }\n",
       "</style>\n",
       "<table border=\"1\" class=\"dataframe\">\n",
       "  <thead>\n",
       "    <tr style=\"text-align: right;\">\n",
       "      <th></th>\n",
       "      <th>Price</th>\n",
       "      <th>RegistrationYear</th>\n",
       "      <th>Power</th>\n",
       "      <th>Kilometer</th>\n",
       "      <th>RegistrationMonth</th>\n",
       "      <th>NumberOfPictures</th>\n",
       "      <th>PostalCode</th>\n",
       "    </tr>\n",
       "  </thead>\n",
       "  <tbody>\n",
       "    <tr>\n",
       "      <th>count</th>\n",
       "      <td>354369.000000</td>\n",
       "      <td>354369.000000</td>\n",
       "      <td>354369.000000</td>\n",
       "      <td>354369.000000</td>\n",
       "      <td>354369.000000</td>\n",
       "      <td>354369.0</td>\n",
       "      <td>354369.000000</td>\n",
       "    </tr>\n",
       "    <tr>\n",
       "      <th>mean</th>\n",
       "      <td>4416.656776</td>\n",
       "      <td>2004.234448</td>\n",
       "      <td>110.094337</td>\n",
       "      <td>128211.172535</td>\n",
       "      <td>5.714645</td>\n",
       "      <td>0.0</td>\n",
       "      <td>50508.689087</td>\n",
       "    </tr>\n",
       "    <tr>\n",
       "      <th>std</th>\n",
       "      <td>4514.158514</td>\n",
       "      <td>90.227958</td>\n",
       "      <td>189.850405</td>\n",
       "      <td>37905.341530</td>\n",
       "      <td>3.726421</td>\n",
       "      <td>0.0</td>\n",
       "      <td>25783.096248</td>\n",
       "    </tr>\n",
       "    <tr>\n",
       "      <th>min</th>\n",
       "      <td>0.000000</td>\n",
       "      <td>1000.000000</td>\n",
       "      <td>0.000000</td>\n",
       "      <td>5000.000000</td>\n",
       "      <td>0.000000</td>\n",
       "      <td>0.0</td>\n",
       "      <td>1067.000000</td>\n",
       "    </tr>\n",
       "    <tr>\n",
       "      <th>25%</th>\n",
       "      <td>1050.000000</td>\n",
       "      <td>1999.000000</td>\n",
       "      <td>69.000000</td>\n",
       "      <td>125000.000000</td>\n",
       "      <td>3.000000</td>\n",
       "      <td>0.0</td>\n",
       "      <td>30165.000000</td>\n",
       "    </tr>\n",
       "    <tr>\n",
       "      <th>50%</th>\n",
       "      <td>2700.000000</td>\n",
       "      <td>2003.000000</td>\n",
       "      <td>105.000000</td>\n",
       "      <td>150000.000000</td>\n",
       "      <td>6.000000</td>\n",
       "      <td>0.0</td>\n",
       "      <td>49413.000000</td>\n",
       "    </tr>\n",
       "    <tr>\n",
       "      <th>75%</th>\n",
       "      <td>6400.000000</td>\n",
       "      <td>2008.000000</td>\n",
       "      <td>143.000000</td>\n",
       "      <td>150000.000000</td>\n",
       "      <td>9.000000</td>\n",
       "      <td>0.0</td>\n",
       "      <td>71083.000000</td>\n",
       "    </tr>\n",
       "    <tr>\n",
       "      <th>max</th>\n",
       "      <td>20000.000000</td>\n",
       "      <td>9999.000000</td>\n",
       "      <td>20000.000000</td>\n",
       "      <td>150000.000000</td>\n",
       "      <td>12.000000</td>\n",
       "      <td>0.0</td>\n",
       "      <td>99998.000000</td>\n",
       "    </tr>\n",
       "  </tbody>\n",
       "</table>\n",
       "</div>"
      ],
      "text/plain": [
       "               Price  RegistrationYear          Power      Kilometer  \\\n",
       "count  354369.000000     354369.000000  354369.000000  354369.000000   \n",
       "mean     4416.656776       2004.234448     110.094337  128211.172535   \n",
       "std      4514.158514         90.227958     189.850405   37905.341530   \n",
       "min         0.000000       1000.000000       0.000000    5000.000000   \n",
       "25%      1050.000000       1999.000000      69.000000  125000.000000   \n",
       "50%      2700.000000       2003.000000     105.000000  150000.000000   \n",
       "75%      6400.000000       2008.000000     143.000000  150000.000000   \n",
       "max     20000.000000       9999.000000   20000.000000  150000.000000   \n",
       "\n",
       "       RegistrationMonth  NumberOfPictures     PostalCode  \n",
       "count      354369.000000          354369.0  354369.000000  \n",
       "mean            5.714645               0.0   50508.689087  \n",
       "std             3.726421               0.0   25783.096248  \n",
       "min             0.000000               0.0    1067.000000  \n",
       "25%             3.000000               0.0   30165.000000  \n",
       "50%             6.000000               0.0   49413.000000  \n",
       "75%             9.000000               0.0   71083.000000  \n",
       "max            12.000000               0.0   99998.000000  "
      ]
     },
     "metadata": {},
     "output_type": "display_data"
    },
    {
     "data": {
      "text/html": [
       "<div>\n",
       "<style scoped>\n",
       "    .dataframe tbody tr th:only-of-type {\n",
       "        vertical-align: middle;\n",
       "    }\n",
       "\n",
       "    .dataframe tbody tr th {\n",
       "        vertical-align: top;\n",
       "    }\n",
       "\n",
       "    .dataframe thead th {\n",
       "        text-align: right;\n",
       "    }\n",
       "</style>\n",
       "<table border=\"1\" class=\"dataframe\">\n",
       "  <thead>\n",
       "    <tr style=\"text-align: right;\">\n",
       "      <th></th>\n",
       "      <th>Price</th>\n",
       "      <th>RegistrationYear</th>\n",
       "      <th>Power</th>\n",
       "      <th>Kilometer</th>\n",
       "      <th>RegistrationMonth</th>\n",
       "      <th>NumberOfPictures</th>\n",
       "      <th>PostalCode</th>\n",
       "    </tr>\n",
       "  </thead>\n",
       "  <tbody>\n",
       "    <tr>\n",
       "      <th>Price</th>\n",
       "      <td>1.000000</td>\n",
       "      <td>0.026916</td>\n",
       "      <td>0.158872</td>\n",
       "      <td>-0.333199</td>\n",
       "      <td>0.110581</td>\n",
       "      <td>NaN</td>\n",
       "      <td>0.076055</td>\n",
       "    </tr>\n",
       "    <tr>\n",
       "      <th>RegistrationYear</th>\n",
       "      <td>0.026916</td>\n",
       "      <td>1.000000</td>\n",
       "      <td>-0.000828</td>\n",
       "      <td>-0.053447</td>\n",
       "      <td>-0.011619</td>\n",
       "      <td>NaN</td>\n",
       "      <td>-0.003459</td>\n",
       "    </tr>\n",
       "    <tr>\n",
       "      <th>Power</th>\n",
       "      <td>0.158872</td>\n",
       "      <td>-0.000828</td>\n",
       "      <td>1.000000</td>\n",
       "      <td>0.024002</td>\n",
       "      <td>0.043380</td>\n",
       "      <td>NaN</td>\n",
       "      <td>0.021665</td>\n",
       "    </tr>\n",
       "    <tr>\n",
       "      <th>Kilometer</th>\n",
       "      <td>-0.333199</td>\n",
       "      <td>-0.053447</td>\n",
       "      <td>0.024002</td>\n",
       "      <td>1.000000</td>\n",
       "      <td>0.009571</td>\n",
       "      <td>NaN</td>\n",
       "      <td>-0.007698</td>\n",
       "    </tr>\n",
       "    <tr>\n",
       "      <th>RegistrationMonth</th>\n",
       "      <td>0.110581</td>\n",
       "      <td>-0.011619</td>\n",
       "      <td>0.043380</td>\n",
       "      <td>0.009571</td>\n",
       "      <td>1.000000</td>\n",
       "      <td>NaN</td>\n",
       "      <td>0.013995</td>\n",
       "    </tr>\n",
       "    <tr>\n",
       "      <th>NumberOfPictures</th>\n",
       "      <td>NaN</td>\n",
       "      <td>NaN</td>\n",
       "      <td>NaN</td>\n",
       "      <td>NaN</td>\n",
       "      <td>NaN</td>\n",
       "      <td>NaN</td>\n",
       "      <td>NaN</td>\n",
       "    </tr>\n",
       "    <tr>\n",
       "      <th>PostalCode</th>\n",
       "      <td>0.076055</td>\n",
       "      <td>-0.003459</td>\n",
       "      <td>0.021665</td>\n",
       "      <td>-0.007698</td>\n",
       "      <td>0.013995</td>\n",
       "      <td>NaN</td>\n",
       "      <td>1.000000</td>\n",
       "    </tr>\n",
       "  </tbody>\n",
       "</table>\n",
       "</div>"
      ],
      "text/plain": [
       "                      Price  RegistrationYear     Power  Kilometer  \\\n",
       "Price              1.000000          0.026916  0.158872  -0.333199   \n",
       "RegistrationYear   0.026916          1.000000 -0.000828  -0.053447   \n",
       "Power              0.158872         -0.000828  1.000000   0.024002   \n",
       "Kilometer         -0.333199         -0.053447  0.024002   1.000000   \n",
       "RegistrationMonth  0.110581         -0.011619  0.043380   0.009571   \n",
       "NumberOfPictures        NaN               NaN       NaN        NaN   \n",
       "PostalCode         0.076055         -0.003459  0.021665  -0.007698   \n",
       "\n",
       "                   RegistrationMonth  NumberOfPictures  PostalCode  \n",
       "Price                       0.110581               NaN    0.076055  \n",
       "RegistrationYear           -0.011619               NaN   -0.003459  \n",
       "Power                       0.043380               NaN    0.021665  \n",
       "Kilometer                   0.009571               NaN   -0.007698  \n",
       "RegistrationMonth           1.000000               NaN    0.013995  \n",
       "NumberOfPictures                 NaN               NaN         NaN  \n",
       "PostalCode                  0.013995               NaN    1.000000  "
      ]
     },
     "metadata": {},
     "output_type": "display_data"
    },
    {
     "name": "stdout",
     "output_type": "stream",
     "text": [
      "Дубликаты = 4\n"
     ]
    }
   ],
   "source": [
    "about_df(autos)"
   ]
  },
  {
   "cell_type": "markdown",
   "metadata": {},
   "source": [
    "**Вывод:**\n",
    "\n",
    "Итак, в таблице 16 столбецов.\n",
    "\n",
    "Описание данных:\n",
    "\n",
    "Признаки\n",
    "- DateCrawled — дата скачивания анкеты из базы\n",
    "- VehicleType — тип автомобильного кузова\n",
    "- RegistrationYear — год регистрации автомобиля\n",
    "- Gearbox — тип коробки передач\n",
    "- Power — мощность (л. с.)\n",
    "- Model — модель автомобиля\n",
    "- Kilometer — пробег (км)\n",
    "- RegistrationMonth — месяц регистрации автомобиля\n",
    "- FuelType — тип топлива\n",
    "- Brand — марка автомобиля\n",
    "- NotRepaired — была машина в ремонте или нет\n",
    "- DateCreated — дата создания анкеты\n",
    "- NumberOfPictures — количество фотографий автомобиля\n",
    "- PostalCode — почтовый индекс владельца анкеты (пользователя)\n",
    "- LastSeen — дата последней активности пользователя\n",
    "\n",
    "Целевой признак\n",
    "- Price — цена (евро)\n",
    "\n",
    "Предварительно можно утверждать, что, данных достаточно для решения задачи.\n",
    "\n",
    "При этом надо отметить, что в данных встречаются пропуски в категорийных признаках.\n",
    "\n",
    "Соблюдение требований к стилю в названии колонок:\n",
    "\n",
    "Отсутствие пробелов - да.\n",
    "\n",
    "Использован «змеиный_регистр» (snake_case) или CamelCase - да.\n",
    "\n",
    "Признаки:\n",
    "- DateCrawled,\n",
    "- RegistrationYear\n",
    "- RegistrationMonth,\n",
    "- DateCreated,\n",
    "- NumberOfPictures,\n",
    "- PostalCode,\n",
    "- LastSeen,\n",
    "\n",
    "не требуются для обучения модели т.к. не несут смысловой нагрузки.\n",
    "\n",
    "Обнаружено 4 дубликата.\n",
    "\n",
    "Обнаружены артефакты (аномалии) в следующих столбцах:\n",
    "- Power\n",
    "\n",
    "Чтобы двигаться дальше, нужно устранить проблемы в данных."
   ]
  },
  {
   "cell_type": "code",
   "execution_count": 5,
   "metadata": {},
   "outputs": [],
   "source": [
    "# Заполним пропуски в категорийных признаках модой, т.к. их доля в выборке составляют до 20%\n",
    "columns_to_replace = ['VehicleType', 'Gearbox', 'Model', 'FuelType', 'NotRepaired']\n",
    "\n",
    "for column in columns_to_replace:\n",
    "    autos[column] = autos[column].fillna(autos[column].mode()[0])"
   ]
  },
  {
   "cell_type": "code",
   "execution_count": 6,
   "metadata": {},
   "outputs": [],
   "source": [
    "# из открытых источников известно, что мощность самого мощного автомобиля = 2000л.с.\n",
    "autos.loc[autos['Power'] > 2000, 'Power'] = 2000"
   ]
  },
  {
   "cell_type": "code",
   "execution_count": 7,
   "metadata": {},
   "outputs": [
    {
     "data": {
      "text/plain": [
       "105.0"
      ]
     },
     "execution_count": 7,
     "metadata": {},
     "output_type": "execute_result"
    }
   ],
   "source": [
    "# нулевые значения заменим на медиану.\n",
    "autos['Power'].median()"
   ]
  },
  {
   "cell_type": "code",
   "execution_count": 8,
   "metadata": {},
   "outputs": [],
   "source": [
    "autos.loc[autos['Power'] == 0, 'Power'] = 105"
   ]
  },
  {
   "cell_type": "code",
   "execution_count": 9,
   "metadata": {},
   "outputs": [],
   "source": [
    "# удаление дубликатов\n",
    "autos = autos.drop_duplicates().reset_index(drop=True)"
   ]
  },
  {
   "cell_type": "code",
   "execution_count": 10,
   "metadata": {},
   "outputs": [],
   "source": [
    "# удаление признаков\n",
    "autos = autos.drop(['DateCrawled',\n",
    "                    'DateCreated',\n",
    "                    'RegistrationYear',\n",
    "                    'RegistrationMonth',\n",
    "                    'NumberOfPictures',\n",
    "                    'PostalCode',\n",
    "                    'LastSeen'], axis=1)"
   ]
  },
  {
   "cell_type": "markdown",
   "metadata": {},
   "source": [
    "## Обучение моделей"
   ]
  },
  {
   "cell_type": "markdown",
   "metadata": {},
   "source": [
    "**CatBoostRegressor**"
   ]
  },
  {
   "cell_type": "code",
   "execution_count": 13,
   "metadata": {},
   "outputs": [],
   "source": [
    "# Формирование выборок\n",
    "features_train, features_valid, target_train, target_valid = train_test_split(\n",
    "    autos.drop('Price', axis=1), autos['Price'], test_size=0.25, random_state=12345) \n"
   ]
  },
  {
   "cell_type": "code",
   "execution_count": null,
   "metadata": {},
   "outputs": [],
   "source": [
    "seed=2\n",
    "def objective(params):\n",
    "    \n",
    "    md=int(params['depth'])\n",
    "    \n",
    "        \n",
    "    model=CatBoostRegressor(loss_function='RMSE',\n",
    "                            iterations=500,\n",
    "                            depth=md,\n",
    "                            verbose=True,\n",
    "                            cat_features=['VehicleType', 'Gearbox', 'Model', 'FuelType', 'Brand', 'NotRepaired'])\n",
    "    model.fit(features_train, target_train)\n",
    "    pred=model.predict(features_valid)\n",
    "    score=mean_squared_error(target_valid, pred)**0.5\n",
    "    return score\n",
    "\n",
    "def optimize(trial):\n",
    "    params={'depth':hp.uniform('depth', 5, 16)}\n",
    "    \n",
    "    best=fmin(fn=objective,space=params,algo=tpe.suggest,trials=trial,max_evals=50,rstate=np.random.default_rng(seed))\n",
    "    \n",
    "    return best\n",
    "\n",
    "trial=Trials()\n",
    "best=optimize(trial)"
   ]
  },
  {
   "cell_type": "code",
   "execution_count": 15,
   "metadata": {},
   "outputs": [
    {
     "data": {
      "text/plain": [
       "{'depth': 15.789252093922688}"
      ]
     },
     "execution_count": 15,
     "metadata": {},
     "output_type": "execute_result"
    }
   ],
   "source": [
    "best"
   ]
  },
  {
   "cell_type": "code",
   "execution_count": 35,
   "metadata": {},
   "outputs": [
    {
     "name": "stdout",
     "output_type": "stream",
     "text": [
      "Learning rate set to 0.173776\n",
      "0:\tlearn: 4059.8123433\ttotal: 1.25s\tremaining: 10m 21s\n",
      "100:\tlearn: 2015.0268931\ttotal: 2m 23s\tremaining: 9m 28s\n",
      "200:\tlearn: 1859.2636770\ttotal: 5m 1s\tremaining: 7m 28s\n",
      "300:\tlearn: 1773.1621770\ttotal: 7m 40s\tremaining: 5m 4s\n",
      "400:\tlearn: 1721.5117953\ttotal: 10m 25s\tremaining: 2m 34s\n",
      "499:\tlearn: 1676.9261459\ttotal: 13m 13s\tremaining: 0us\n",
      "Wall time: 13min 18s\n"
     ]
    },
    {
     "data": {
      "text/plain": [
       "<catboost.core.CatBoostRegressor at 0x1971ed24fa0>"
      ]
     },
     "execution_count": 35,
     "metadata": {},
     "output_type": "execute_result"
    }
   ],
   "source": [
    "%%time\n",
    "# CatBoostRegressor\n",
    "cat_model = CatBoostRegressor(loss_function='RMSE', iterations=500, depth=16, verbose=100,\n",
    "                              cat_features=['VehicleType', 'Gearbox', 'Model',\n",
    "                                            'FuelType', 'Brand', 'NotRepaired'])\n",
    "cat_model.fit(features_train, target_train)"
   ]
  },
  {
   "cell_type": "code",
   "execution_count": 36,
   "metadata": {},
   "outputs": [
    {
     "name": "stdout",
     "output_type": "stream",
     "text": [
      "Wall time: 579 ms\n"
     ]
    }
   ],
   "source": [
    "%%time\n",
    "cat_prediction = cat_model.predict(features_valid)"
   ]
  },
  {
   "cell_type": "code",
   "execution_count": 37,
   "metadata": {},
   "outputs": [
    {
     "name": "stdout",
     "output_type": "stream",
     "text": [
      "RMSE на валидационной выборке для CatBoostRegressor: 2170.641803873421\n"
     ]
    }
   ],
   "source": [
    "result = mean_squared_error(target_valid, cat_prediction)**0.5\n",
    "print('RMSE на валидационной выборке для CatBoostRegressor:', result)"
   ]
  },
  {
   "cell_type": "markdown",
   "metadata": {},
   "source": [
    "**RandomForestRegressor**"
   ]
  },
  {
   "cell_type": "code",
   "execution_count": 20,
   "metadata": {},
   "outputs": [],
   "source": [
    "# Преобразуем категориальные признаки в численные техникой Ordinal Encoding (от англ. «кодирование по номеру категории»).\n",
    "oe_autos = autos.copy()\n",
    "encoder = LabelEncoder()\n",
    "cat_columns=['VehicleType', 'Gearbox', 'Model', 'FuelType', 'Brand', 'NotRepaired']\n",
    "\n",
    "for column in cat_columns:\n",
    "    oe_autos[column] = encoder.fit_transform(oe_autos[column])"
   ]
  },
  {
   "cell_type": "code",
   "execution_count": 21,
   "metadata": {},
   "outputs": [],
   "source": [
    "# Формирование выборок для OE\n",
    "features_train_oe, features_valid_oe, target_train_oe, target_valid_oe = train_test_split(\n",
    "    oe_autos.drop('Price', axis=1), oe_autos['Price'], test_size=0.25, random_state=12345) "
   ]
  },
  {
   "cell_type": "code",
   "execution_count": 40,
   "metadata": {},
   "outputs": [
    {
     "name": "stdout",
     "output_type": "stream",
     "text": [
      "100%|█████████████████████████████████████████████████| 50/50 [08:12<00:00,  9.86s/trial, best loss: 2225.344971776495]\n"
     ]
    }
   ],
   "source": [
    "seed=2\n",
    "def objective(params):\n",
    "    \n",
    "    est=int(params['n_estimators'])\n",
    "    md=int(params['max_depth'])\n",
    "    msl=int(params['min_samples_leaf'])\n",
    "    mss=int(params['min_samples_split'])\n",
    "    \n",
    "    model=RandomForestRegressor(n_estimators=est,max_depth=md,min_samples_leaf=msl,min_samples_split=mss)\n",
    "    model.fit(features_train_oe, target_train_oe)\n",
    "    pred=model.predict(features_valid_oe)\n",
    "    score=mean_squared_error(target_valid_oe, pred)**0.5\n",
    "    return score\n",
    "\n",
    "def optimize(trial):\n",
    "    params={'n_estimators':hp.uniform('n_estimators',10, 50),\n",
    "           'max_depth':hp.uniform('max_depth',5,20),\n",
    "           'min_samples_leaf':hp.uniform('min_samples_leaf',1,5),\n",
    "           'min_samples_split':hp.uniform('min_samples_split',2,6)}\n",
    "    \n",
    "    best=fmin(fn=objective,space=params,algo=tpe.suggest,trials=trial,max_evals=50,rstate=np.random.default_rng(seed))\n",
    "    \n",
    "    return best\n",
    "\n",
    "trial=Trials()\n",
    "best=optimize(trial)"
   ]
  },
  {
   "cell_type": "code",
   "execution_count": 41,
   "metadata": {},
   "outputs": [
    {
     "data": {
      "text/plain": [
       "{'max_depth': 19.46949038542492,\n",
       " 'min_samples_leaf': 2.9015650037511853,\n",
       " 'min_samples_split': 4.091488507593088,\n",
       " 'n_estimators': 49.46715676536605}"
      ]
     },
     "execution_count": 41,
     "metadata": {},
     "output_type": "execute_result"
    }
   ],
   "source": [
    "best"
   ]
  },
  {
   "cell_type": "code",
   "execution_count": 42,
   "metadata": {},
   "outputs": [
    {
     "name": "stdout",
     "output_type": "stream",
     "text": [
      "Wall time: 15.5 s\n"
     ]
    },
    {
     "data": {
      "text/plain": [
       "RandomForestRegressor(max_depth=19, min_samples_leaf=3, min_samples_split=4,\n",
       "                      n_estimators=49, random_state=12345)"
      ]
     },
     "execution_count": 42,
     "metadata": {},
     "output_type": "execute_result"
    }
   ],
   "source": [
    "%%time\n",
    "# RandomForestRegressor with best params\n",
    "rf_model = RandomForestRegressor(criterion = 'mse',\n",
    "                                 random_state=12345,\n",
    "                                 n_estimators = 49,\n",
    "                                 max_depth = 19,\n",
    "                                 min_samples_leaf = 3,\n",
    "                                 min_samples_split = 4)\n",
    "rf_model.fit(features_train_oe, target_train_oe)"
   ]
  },
  {
   "cell_type": "code",
   "execution_count": 43,
   "metadata": {},
   "outputs": [
    {
     "name": "stdout",
     "output_type": "stream",
     "text": [
      "Wall time: 731 ms\n"
     ]
    }
   ],
   "source": [
    "%%time\n",
    "rf_prediction = rf_model.predict(features_valid_oe)"
   ]
  },
  {
   "cell_type": "code",
   "execution_count": 44,
   "metadata": {},
   "outputs": [
    {
     "name": "stdout",
     "output_type": "stream",
     "text": [
      "RMSE на валидационной выборке для RandomForestRegressor: 2231.0010473252414\n"
     ]
    }
   ],
   "source": [
    "result = mean_squared_error(target_valid_oe, rf_prediction)**0.5\n",
    "print('RMSE на валидационной выборке для RandomForestRegressor:', result)"
   ]
  },
  {
   "cell_type": "markdown",
   "metadata": {},
   "source": [
    "**LGBMRegressor**"
   ]
  },
  {
   "cell_type": "code",
   "execution_count": 22,
   "metadata": {},
   "outputs": [],
   "source": [
    "# Преобразуем категориальные признаки в тип category.\n",
    "LGBM_autos = autos.copy()\n",
    "LGBM_autos = LGBM_autos.astype({'VehicleType':'category', 'Gearbox':'category', 'Model':'category',\n",
    "                                'FuelType':'category', 'Brand':'category', 'NotRepaired':'category'})"
   ]
  },
  {
   "cell_type": "code",
   "execution_count": 23,
   "metadata": {},
   "outputs": [],
   "source": [
    "# Формирование выборок для LGBM\n",
    "features_train_LGBM, features_valid_LGBM, target_train_LGBM, target_valid_LGBM = train_test_split(\n",
    "    LGBM_autos.drop('Price', axis=1), LGBM_autos['Price'], test_size=0.25, random_state=12345) "
   ]
  },
  {
   "cell_type": "code",
   "execution_count": 26,
   "metadata": {},
   "outputs": [
    {
     "name": "stdout",
     "output_type": "stream",
     "text": [
      "100%|█████████████████████████████████████████████████| 50/50 [04:27<00:00,  5.34s/trial, best loss: 2162.686008938701]\n"
     ]
    }
   ],
   "source": [
    "seed=2\n",
    "def objective(params):\n",
    "    \n",
    "    est=int(params['n_estimators'])\n",
    "    md=int(params['max_depth'])\n",
    "    \n",
    "    \n",
    "    model=LGBMRegressor(n_estimators=est,max_depth=md)\n",
    "    model.fit(features_train_LGBM, target_train_LGBM)\n",
    "    pred=model.predict(features_valid_LGBM)\n",
    "    score=mean_squared_error(target_valid_LGBM, pred)**0.5\n",
    "    return score\n",
    "\n",
    "def optimize(trial):\n",
    "    params={'n_estimators':hp.uniform('n_estimators', 400, 1000),\n",
    "           'max_depth':hp.uniform('max_depth',5,20)}\n",
    "    \n",
    "    best=fmin(fn=objective,space=params,algo=tpe.suggest,trials=trial,max_evals=50,rstate=np.random.default_rng(seed))\n",
    "    \n",
    "    return best\n",
    "\n",
    "trial=Trials()\n",
    "best=optimize(trial)"
   ]
  },
  {
   "cell_type": "code",
   "execution_count": 27,
   "metadata": {},
   "outputs": [
    {
     "data": {
      "text/plain": [
       "{'max_depth': 13.332910720181824, 'n_estimators': 995.8255201762603}"
      ]
     },
     "execution_count": 27,
     "metadata": {},
     "output_type": "execute_result"
    }
   ],
   "source": [
    "best"
   ]
  },
  {
   "cell_type": "code",
   "execution_count": 28,
   "metadata": {},
   "outputs": [
    {
     "name": "stdout",
     "output_type": "stream",
     "text": [
      "Wall time: 4.02 s\n"
     ]
    },
    {
     "data": {
      "text/plain": [
       "LGBMRegressor(max_depth=13, n_estimators=996)"
      ]
     },
     "execution_count": 28,
     "metadata": {},
     "output_type": "execute_result"
    }
   ],
   "source": [
    "%%time\n",
    "model = LGBMRegressor(n_estimators=996,max_depth=13)\n",
    "model.fit(features_train_LGBM, target_train_LGBM)"
   ]
  },
  {
   "cell_type": "code",
   "execution_count": 29,
   "metadata": {},
   "outputs": [
    {
     "name": "stdout",
     "output_type": "stream",
     "text": [
      "Wall time: 1.01 s\n"
     ]
    }
   ],
   "source": [
    "%%time\n",
    "lgbm_prediction = model.predict(features_valid_LGBM)"
   ]
  },
  {
   "cell_type": "code",
   "execution_count": 30,
   "metadata": {},
   "outputs": [
    {
     "name": "stdout",
     "output_type": "stream",
     "text": [
      "RMSE на валидационной выборке для LGBMRegressor: 2162.659501449274\n"
     ]
    }
   ],
   "source": [
    "result = mean_squared_error(target_valid_LGBM, lgbm_prediction)**0.5\n",
    "print('RMSE на валидационной выборке для LGBMRegressor:', result)"
   ]
  },
  {
   "cell_type": "markdown",
   "metadata": {},
   "source": [
    "**LinearRegression**"
   ]
  },
  {
   "cell_type": "code",
   "execution_count": 24,
   "metadata": {},
   "outputs": [],
   "source": [
    "# Преобразуем категориальные признаки в численные техникой прямого кодирования,\n",
    "# или отображения (англ. One-Hot Encoding, OHE).\n",
    "ohe_autos = autos.copy()\n",
    "ohe_autos = pd.get_dummies(ohe_autos, drop_first=True)"
   ]
  },
  {
   "cell_type": "code",
   "execution_count": 25,
   "metadata": {},
   "outputs": [],
   "source": [
    "# Формирование выборок для OHE\n",
    "features_train_ohe, features_valid_ohe, target_train_ohe, target_valid_ohe = train_test_split(\n",
    "    ohe_autos.drop('Price', axis=1), ohe_autos['Price'], test_size=0.25, random_state=12345) "
   ]
  },
  {
   "cell_type": "code",
   "execution_count": 31,
   "metadata": {},
   "outputs": [
    {
     "name": "stdout",
     "output_type": "stream",
     "text": [
      "Wall time: 4.73 s\n"
     ]
    },
    {
     "data": {
      "text/plain": [
       "LinearRegression(normalize=True)"
      ]
     },
     "execution_count": 31,
     "metadata": {},
     "output_type": "execute_result"
    }
   ],
   "source": [
    "%%time\n",
    "# LinearRegression\n",
    "lr_model = LinearRegression(normalize=True)\n",
    "lr_model.fit(features_train_ohe, target_train_ohe)"
   ]
  },
  {
   "cell_type": "code",
   "execution_count": 32,
   "metadata": {},
   "outputs": [
    {
     "name": "stdout",
     "output_type": "stream",
     "text": [
      "Wall time: 179 ms\n"
     ]
    }
   ],
   "source": [
    "%%time\n",
    "lr_prediction = lr_model.predict(features_valid_ohe)"
   ]
  },
  {
   "cell_type": "code",
   "execution_count": 33,
   "metadata": {},
   "outputs": [
    {
     "name": "stdout",
     "output_type": "stream",
     "text": [
      "RMSE на валидационной выборке для LinearRegression: 3163.5077903810384\n"
     ]
    }
   ],
   "source": [
    "result = mean_squared_error(target_valid_ohe, lr_prediction)**0.5\n",
    "print('RMSE на валидационной выборке для LinearRegression:', result)"
   ]
  },
  {
   "cell_type": "markdown",
   "metadata": {},
   "source": [
    "## Анализ моделей"
   ]
  },
  {
   "cell_type": "raw",
   "metadata": {},
   "source": [
    "                       CatBoost               RandomForest          LGBMRegressor        LinearRegression\n",
    "\n",
    "RMSE                    2170                      2231                   2162                   3163\n",
    "\n",
    "Время\n",
    "\n",
    "Поиск параметров         3ч16м                    8м                      4м27                   -\n",
    "\n",
    "Обучение                  13м                     15c                       4с                   5с\n",
    "\n",
    "Предсказание             579мс                    731мс                     1с                  179мс"
   ]
  },
  {
   "cell_type": "markdown",
   "metadata": {},
   "source": [
    "**С точки зрения параметров скорость-качество то лучшие показатели у LGBMRegressor.**"
   ]
  },
  {
   "cell_type": "markdown",
   "metadata": {},
   "source": [
    "## Чек-лист проверки"
   ]
  },
  {
   "cell_type": "markdown",
   "metadata": {},
   "source": [
    "Поставьте 'x' в выполненных пунктах. Далее нажмите Shift+Enter."
   ]
  },
  {
   "cell_type": "markdown",
   "metadata": {},
   "source": [
    "- [x]  Jupyter Notebook открыт\n",
    "- [x]  Весь код выполняется без ошибок\n",
    "- [x]  Ячейки с кодом расположены в порядке исполнения\n",
    "- [x]  Выполнена загрузка и подготовка данных\n",
    "- [x]  Выполнено обучение моделей\n",
    "- [x]  Есть анализ скорости работы и качества моделей"
   ]
  }
 ],
 "metadata": {
  "ExecuteTimeLog": [
   {
    "duration": 1350,
    "start_time": "2022-06-24T06:59:08.442Z"
   },
   {
    "duration": 1202,
    "start_time": "2022-06-24T07:00:19.440Z"
   },
   {
    "duration": 4,
    "start_time": "2022-06-24T07:01:30.468Z"
   },
   {
    "duration": 4,
    "start_time": "2022-06-24T07:06:36.063Z"
   },
   {
    "duration": 864,
    "start_time": "2022-06-24T07:07:21.896Z"
   },
   {
    "duration": 4,
    "start_time": "2022-06-24T07:07:22.762Z"
   },
   {
    "duration": 943,
    "start_time": "2022-06-24T07:07:28.533Z"
   },
   {
    "duration": 3,
    "start_time": "2022-06-24T07:12:16.878Z"
   },
   {
    "duration": 1228,
    "start_time": "2022-06-24T07:12:17.853Z"
   },
   {
    "duration": 3,
    "start_time": "2022-06-24T07:12:53.958Z"
   },
   {
    "duration": 1033,
    "start_time": "2022-06-24T07:12:54.879Z"
   },
   {
    "duration": 40,
    "start_time": "2022-06-24T07:38:17.551Z"
   },
   {
    "duration": 232,
    "start_time": "2022-06-24T07:46:31.910Z"
   },
   {
    "duration": 107,
    "start_time": "2022-06-24T07:46:34.896Z"
   },
   {
    "duration": 6,
    "start_time": "2022-06-24T07:46:42.324Z"
   },
   {
    "duration": 769,
    "start_time": "2022-06-24T07:46:42.341Z"
   },
   {
    "duration": 3,
    "start_time": "2022-06-24T07:46:43.112Z"
   },
   {
    "duration": 885,
    "start_time": "2022-06-24T07:46:43.117Z"
   },
   {
    "duration": 512,
    "start_time": "2022-06-24T07:46:44.005Z"
   },
   {
    "duration": 501,
    "start_time": "2022-06-24T07:46:45.906Z"
   },
   {
    "duration": 50,
    "start_time": "2022-06-24T07:46:46.417Z"
   },
   {
    "duration": 3,
    "start_time": "2022-06-24T08:00:50.192Z"
   },
   {
    "duration": 29,
    "start_time": "2022-06-24T08:05:57.529Z"
   },
   {
    "duration": 21,
    "start_time": "2022-06-24T08:09:34.978Z"
   },
   {
    "duration": 12,
    "start_time": "2022-06-24T08:29:37.244Z"
   },
   {
    "duration": 30,
    "start_time": "2022-06-24T08:31:46.988Z"
   },
   {
    "duration": 28,
    "start_time": "2022-06-24T08:32:21.371Z"
   },
   {
    "duration": 145,
    "start_time": "2022-06-24T08:33:32.270Z"
   },
   {
    "duration": 151,
    "start_time": "2022-06-24T08:34:52.523Z"
   },
   {
    "duration": 6,
    "start_time": "2022-06-24T08:35:09.594Z"
   },
   {
    "duration": 3,
    "start_time": "2022-06-24T08:35:43.187Z"
   },
   {
    "duration": 4,
    "start_time": "2022-06-24T08:36:16.186Z"
   },
   {
    "duration": 77,
    "start_time": "2022-06-24T08:46:24.799Z"
   },
   {
    "duration": 148,
    "start_time": "2022-06-24T08:48:09.110Z"
   },
   {
    "duration": 66,
    "start_time": "2022-06-24T08:50:55.637Z"
   },
   {
    "duration": 148,
    "start_time": "2022-06-24T08:51:04.285Z"
   },
   {
    "duration": 71,
    "start_time": "2022-06-24T08:51:27.772Z"
   },
   {
    "duration": 43,
    "start_time": "2022-06-24T08:52:46.404Z"
   },
   {
    "duration": 11,
    "start_time": "2022-06-24T08:59:07.442Z"
   },
   {
    "duration": 38,
    "start_time": "2022-06-24T08:59:44.707Z"
   },
   {
    "duration": 27,
    "start_time": "2022-06-24T09:00:43.074Z"
   },
   {
    "duration": 9,
    "start_time": "2022-06-24T09:01:33.331Z"
   },
   {
    "duration": 45,
    "start_time": "2022-06-24T09:04:09.400Z"
   },
   {
    "duration": 98,
    "start_time": "2022-06-24T09:05:41.855Z"
   },
   {
    "duration": 110,
    "start_time": "2022-06-24T09:06:54.071Z"
   },
   {
    "duration": 92,
    "start_time": "2022-06-24T09:09:34.350Z"
   },
   {
    "duration": 97,
    "start_time": "2022-06-24T09:10:30.868Z"
   },
   {
    "duration": 97,
    "start_time": "2022-06-24T09:10:53.108Z"
   },
   {
    "duration": 98,
    "start_time": "2022-06-24T09:11:05.574Z"
   },
   {
    "duration": 3,
    "start_time": "2022-06-24T09:28:20.149Z"
   },
   {
    "duration": 220,
    "start_time": "2022-06-24T09:29:17.653Z"
   },
   {
    "duration": 230,
    "start_time": "2022-06-24T09:29:35.814Z"
   },
   {
    "duration": 3,
    "start_time": "2022-06-24T09:31:43.667Z"
   },
   {
    "duration": 245,
    "start_time": "2022-06-24T09:31:44.382Z"
   },
   {
    "duration": 47,
    "start_time": "2022-06-24T09:32:09.773Z"
   },
   {
    "duration": 3,
    "start_time": "2022-06-24T09:32:43.988Z"
   },
   {
    "duration": 273,
    "start_time": "2022-06-24T09:32:45.539Z"
   },
   {
    "duration": 4,
    "start_time": "2022-06-24T09:34:07.435Z"
   },
   {
    "duration": 189,
    "start_time": "2022-06-24T09:34:07.976Z"
   },
   {
    "duration": 18,
    "start_time": "2022-06-24T09:35:04.226Z"
   },
   {
    "duration": 3,
    "start_time": "2022-06-24T09:37:59.224Z"
   },
   {
    "duration": 1699,
    "start_time": "2022-06-24T09:37:59.992Z"
   },
   {
    "duration": 127,
    "start_time": "2022-06-24T09:39:12.496Z"
   },
   {
    "duration": 4,
    "start_time": "2022-06-24T09:39:58.234Z"
   },
   {
    "duration": 783,
    "start_time": "2022-06-24T09:39:58.240Z"
   },
   {
    "duration": 6,
    "start_time": "2022-06-24T09:39:59.024Z"
   },
   {
    "duration": 785,
    "start_time": "2022-06-24T09:39:59.032Z"
   },
   {
    "duration": 473,
    "start_time": "2022-06-24T09:39:59.819Z"
   },
   {
    "duration": 41,
    "start_time": "2022-06-24T09:40:00.294Z"
   },
   {
    "duration": 112,
    "start_time": "2022-06-24T09:40:00.336Z"
   },
   {
    "duration": 4,
    "start_time": "2022-06-24T09:40:00.450Z"
   },
   {
    "duration": 1854,
    "start_time": "2022-06-24T09:40:00.456Z"
   },
   {
    "duration": 1808,
    "start_time": "2022-06-24T09:40:17.583Z"
   },
   {
    "duration": 86,
    "start_time": "2022-06-24T09:40:20.454Z"
   },
   {
    "duration": 112,
    "start_time": "2022-06-24T09:45:00.777Z"
   },
   {
    "duration": 105,
    "start_time": "2022-06-24T09:48:24.680Z"
   },
   {
    "duration": 28,
    "start_time": "2022-06-24T09:50:01.209Z"
   },
   {
    "duration": 25,
    "start_time": "2022-06-24T09:51:31.691Z"
   },
   {
    "duration": 35,
    "start_time": "2022-06-24T09:52:17.131Z"
   },
   {
    "duration": 33,
    "start_time": "2022-06-24T09:53:46.495Z"
   },
   {
    "duration": 27,
    "start_time": "2022-06-24T09:54:03.495Z"
   },
   {
    "duration": 3,
    "start_time": "2022-06-24T09:54:51.090Z"
   },
   {
    "duration": 798,
    "start_time": "2022-06-24T09:54:51.096Z"
   },
   {
    "duration": 4,
    "start_time": "2022-06-24T09:54:51.896Z"
   },
   {
    "duration": 825,
    "start_time": "2022-06-24T09:54:51.902Z"
   },
   {
    "duration": 481,
    "start_time": "2022-06-24T09:54:52.729Z"
   },
   {
    "duration": 46,
    "start_time": "2022-06-24T09:54:53.212Z"
   },
   {
    "duration": 119,
    "start_time": "2022-06-24T09:54:53.260Z"
   },
   {
    "duration": 109,
    "start_time": "2022-06-24T09:54:57.303Z"
   },
   {
    "duration": 26,
    "start_time": "2022-06-24T09:54:59.351Z"
   },
   {
    "duration": 74,
    "start_time": "2022-06-24T09:56:18.023Z"
   },
   {
    "duration": 110,
    "start_time": "2022-06-24T09:56:31.719Z"
   },
   {
    "duration": 40,
    "start_time": "2022-06-24T09:57:12.335Z"
   },
   {
    "duration": 24,
    "start_time": "2022-06-24T09:57:30.377Z"
   },
   {
    "duration": 30,
    "start_time": "2022-06-24T09:58:13.150Z"
   },
   {
    "duration": 26,
    "start_time": "2022-06-24T09:58:26.422Z"
   },
   {
    "duration": 6,
    "start_time": "2022-06-24T10:00:08.040Z"
   },
   {
    "duration": 789,
    "start_time": "2022-06-24T10:00:08.074Z"
   },
   {
    "duration": 3,
    "start_time": "2022-06-24T10:00:08.865Z"
   },
   {
    "duration": 837,
    "start_time": "2022-06-24T10:00:08.870Z"
   },
   {
    "duration": 469,
    "start_time": "2022-06-24T10:00:09.709Z"
   },
   {
    "duration": 34,
    "start_time": "2022-06-24T10:00:10.181Z"
   },
   {
    "duration": 131,
    "start_time": "2022-06-24T10:00:10.217Z"
   },
   {
    "duration": 25,
    "start_time": "2022-06-24T10:00:10.350Z"
   },
   {
    "duration": 21,
    "start_time": "2022-06-24T10:00:17.778Z"
   },
   {
    "duration": 21,
    "start_time": "2022-06-24T10:00:37.177Z"
   },
   {
    "duration": 1096,
    "start_time": "2022-06-27T06:26:35.869Z"
   },
   {
    "duration": 1155,
    "start_time": "2022-06-27T06:26:36.967Z"
   },
   {
    "duration": 5,
    "start_time": "2022-06-27T06:26:38.124Z"
   },
   {
    "duration": 878,
    "start_time": "2022-06-27T06:26:38.131Z"
   },
   {
    "duration": 537,
    "start_time": "2022-06-27T06:26:39.011Z"
   },
   {
    "duration": 541,
    "start_time": "2022-06-27T06:26:44.833Z"
   },
   {
    "duration": 34,
    "start_time": "2022-06-27T06:26:45.447Z"
   },
   {
    "duration": 3,
    "start_time": "2022-06-27T06:37:33.412Z"
   },
   {
    "duration": 826,
    "start_time": "2022-06-27T06:37:33.417Z"
   },
   {
    "duration": 4,
    "start_time": "2022-06-27T06:37:34.245Z"
   },
   {
    "duration": 855,
    "start_time": "2022-06-27T06:37:34.259Z"
   },
   {
    "duration": 514,
    "start_time": "2022-06-27T06:37:35.117Z"
   },
   {
    "duration": 474,
    "start_time": "2022-06-27T06:37:37.815Z"
   },
   {
    "duration": 42,
    "start_time": "2022-06-27T06:37:38.552Z"
   },
   {
    "duration": 7,
    "start_time": "2022-06-27T06:38:37.697Z"
   },
   {
    "duration": 41,
    "start_time": "2022-06-27T06:39:12.288Z"
   },
   {
    "duration": 32,
    "start_time": "2022-06-27T06:39:32.512Z"
   },
   {
    "duration": 37,
    "start_time": "2022-06-27T06:46:44.069Z"
   },
   {
    "duration": 34,
    "start_time": "2022-06-27T06:47:30.863Z"
   },
   {
    "duration": 30,
    "start_time": "2022-06-27T06:49:30.941Z"
   },
   {
    "duration": 41,
    "start_time": "2022-06-27T06:49:54.716Z"
   },
   {
    "duration": 438,
    "start_time": "2022-06-27T06:58:04.547Z"
   },
   {
    "duration": 188,
    "start_time": "2022-06-27T06:58:15.998Z"
   },
   {
    "duration": 229,
    "start_time": "2022-06-27T06:58:41.343Z"
   },
   {
    "duration": 1329,
    "start_time": "2022-06-27T06:58:50.072Z"
   },
   {
    "duration": 140,
    "start_time": "2022-06-27T06:58:57.875Z"
   },
   {
    "duration": 214,
    "start_time": "2022-06-27T06:59:38.935Z"
   },
   {
    "duration": 265,
    "start_time": "2022-06-27T06:59:43.689Z"
   },
   {
    "duration": 1487,
    "start_time": "2022-06-27T06:59:55.703Z"
   },
   {
    "duration": 14042,
    "start_time": "2022-06-27T07:00:01.335Z"
   },
   {
    "duration": 142,
    "start_time": "2022-06-27T07:00:23.384Z"
   },
   {
    "duration": 135,
    "start_time": "2022-06-27T07:00:31.615Z"
   },
   {
    "duration": 11,
    "start_time": "2022-06-27T07:00:58.774Z"
   },
   {
    "duration": 7,
    "start_time": "2022-06-27T07:03:34.766Z"
   },
   {
    "duration": 103,
    "start_time": "2022-06-27T07:06:18.502Z"
   },
   {
    "duration": 9,
    "start_time": "2022-06-27T07:06:24.108Z"
   },
   {
    "duration": 8,
    "start_time": "2022-06-27T07:10:51.682Z"
   },
   {
    "duration": 136,
    "start_time": "2022-06-27T07:12:43.897Z"
   },
   {
    "duration": 118,
    "start_time": "2022-06-27T07:12:58.016Z"
   },
   {
    "duration": 163,
    "start_time": "2022-06-27T07:13:09.977Z"
   },
   {
    "duration": 167,
    "start_time": "2022-06-27T07:13:37.201Z"
   },
   {
    "duration": 151,
    "start_time": "2022-06-27T07:13:50.392Z"
   },
   {
    "duration": 262,
    "start_time": "2022-06-27T07:17:56.559Z"
   },
   {
    "duration": 15,
    "start_time": "2022-06-27T07:17:57.421Z"
   },
   {
    "duration": 3,
    "start_time": "2022-06-27T07:18:02.368Z"
   },
   {
    "duration": 773,
    "start_time": "2022-06-27T07:18:02.374Z"
   },
   {
    "duration": 3,
    "start_time": "2022-06-27T07:18:03.149Z"
   },
   {
    "duration": 1417,
    "start_time": "2022-06-27T07:18:03.159Z"
   },
   {
    "duration": 472,
    "start_time": "2022-06-27T07:18:04.577Z"
   },
   {
    "duration": 17,
    "start_time": "2022-06-27T07:18:05.050Z"
   },
   {
    "duration": 13,
    "start_time": "2022-06-27T07:18:06.221Z"
   },
   {
    "duration": 1342,
    "start_time": "2022-06-27T07:18:47.644Z"
   },
   {
    "duration": 779,
    "start_time": "2022-06-27T07:18:48.988Z"
   },
   {
    "duration": 3,
    "start_time": "2022-06-27T07:18:49.769Z"
   },
   {
    "duration": 887,
    "start_time": "2022-06-27T07:18:49.774Z"
   },
   {
    "duration": 584,
    "start_time": "2022-06-27T07:18:50.663Z"
   },
   {
    "duration": 582,
    "start_time": "2022-06-27T07:18:52.777Z"
   },
   {
    "duration": 112,
    "start_time": "2022-06-27T07:18:53.698Z"
   },
   {
    "duration": 14,
    "start_time": "2022-06-27T07:19:02.411Z"
   },
   {
    "duration": 21,
    "start_time": "2022-06-27T07:49:42.589Z"
   },
   {
    "duration": 28,
    "start_time": "2022-06-27T07:50:06.116Z"
   },
   {
    "duration": 21,
    "start_time": "2022-06-27T07:52:01.027Z"
   },
   {
    "duration": 29,
    "start_time": "2022-06-27T07:52:14.107Z"
   },
   {
    "duration": 12,
    "start_time": "2022-06-27T07:53:56.411Z"
   },
   {
    "duration": 3,
    "start_time": "2022-06-27T07:54:09.186Z"
   },
   {
    "duration": 11,
    "start_time": "2022-06-27T07:54:09.641Z"
   },
   {
    "duration": 3,
    "start_time": "2022-06-27T07:55:33.076Z"
   },
   {
    "duration": 9,
    "start_time": "2022-06-27T07:55:33.912Z"
   },
   {
    "duration": 3,
    "start_time": "2022-06-27T07:56:22.097Z"
   },
   {
    "duration": 890,
    "start_time": "2022-06-27T07:56:22.656Z"
   },
   {
    "duration": 47,
    "start_time": "2022-06-27T07:56:36.274Z"
   },
   {
    "duration": 3,
    "start_time": "2022-06-27T07:56:57.833Z"
   },
   {
    "duration": 889,
    "start_time": "2022-06-27T07:56:59.008Z"
   },
   {
    "duration": 3,
    "start_time": "2022-06-27T07:58:38.476Z"
   },
   {
    "duration": 2,
    "start_time": "2022-06-27T08:01:08.992Z"
   },
   {
    "duration": 32,
    "start_time": "2022-06-27T08:01:29.114Z"
   },
   {
    "duration": 93,
    "start_time": "2022-06-27T08:02:08.919Z"
   },
   {
    "duration": 3,
    "start_time": "2022-06-27T08:02:36.472Z"
   },
   {
    "duration": 81,
    "start_time": "2022-06-27T08:02:37.571Z"
   },
   {
    "duration": 100,
    "start_time": "2022-06-27T08:02:47.486Z"
   },
   {
    "duration": 11,
    "start_time": "2022-06-27T08:07:17.198Z"
   },
   {
    "duration": 180,
    "start_time": "2022-06-27T08:07:38.855Z"
   },
   {
    "duration": 90,
    "start_time": "2022-06-27T08:07:46.399Z"
   },
   {
    "duration": 246,
    "start_time": "2022-06-27T08:08:07.377Z"
   },
   {
    "duration": 193,
    "start_time": "2022-06-27T08:08:18.782Z"
   },
   {
    "duration": 15,
    "start_time": "2022-06-27T08:08:22.327Z"
   },
   {
    "duration": 3,
    "start_time": "2022-06-27T08:08:29.792Z"
   },
   {
    "duration": 751,
    "start_time": "2022-06-27T08:08:29.797Z"
   },
   {
    "duration": 10,
    "start_time": "2022-06-27T08:08:30.549Z"
   },
   {
    "duration": 828,
    "start_time": "2022-06-27T08:08:30.562Z"
   },
   {
    "duration": 20,
    "start_time": "2022-06-27T08:08:31.392Z"
   },
   {
    "duration": 175,
    "start_time": "2022-06-27T08:08:31.414Z"
   },
   {
    "duration": 473,
    "start_time": "2022-06-27T08:08:31.591Z"
   },
   {
    "duration": 39,
    "start_time": "2022-06-27T08:08:32.066Z"
   },
   {
    "duration": 1287,
    "start_time": "2022-06-27T08:08:41.479Z"
   },
   {
    "duration": 851,
    "start_time": "2022-06-27T08:08:42.774Z"
   },
   {
    "duration": 3,
    "start_time": "2022-06-27T08:08:43.628Z"
   },
   {
    "duration": 945,
    "start_time": "2022-06-27T08:08:43.633Z"
   },
   {
    "duration": 22,
    "start_time": "2022-06-27T08:08:44.583Z"
   },
   {
    "duration": 197,
    "start_time": "2022-06-27T08:08:44.607Z"
   },
   {
    "duration": 592,
    "start_time": "2022-06-27T08:08:44.805Z"
   },
   {
    "duration": 36,
    "start_time": "2022-06-27T08:08:45.399Z"
   },
   {
    "duration": 113,
    "start_time": "2022-06-27T08:11:02.040Z"
   },
   {
    "duration": 128,
    "start_time": "2022-06-27T08:11:13.344Z"
   },
   {
    "duration": 11,
    "start_time": "2022-06-27T08:20:41.994Z"
   },
   {
    "duration": 31,
    "start_time": "2022-06-27T08:21:03.978Z"
   },
   {
    "duration": 13,
    "start_time": "2022-06-27T08:21:22.490Z"
   },
   {
    "duration": 53,
    "start_time": "2022-06-27T08:21:59.578Z"
   },
   {
    "duration": 50,
    "start_time": "2022-06-27T08:22:05.081Z"
   },
   {
    "duration": 41,
    "start_time": "2022-06-27T08:23:08.049Z"
   },
   {
    "duration": 32,
    "start_time": "2022-06-27T08:34:23.476Z"
   },
   {
    "duration": 14,
    "start_time": "2022-06-27T08:38:07.430Z"
   },
   {
    "duration": 5,
    "start_time": "2022-06-27T08:39:28.614Z"
   },
   {
    "duration": 5,
    "start_time": "2022-06-27T08:39:32.487Z"
   },
   {
    "duration": 5,
    "start_time": "2022-06-27T08:39:36.726Z"
   },
   {
    "duration": 13,
    "start_time": "2022-06-27T08:39:43.070Z"
   },
   {
    "duration": 20,
    "start_time": "2022-06-27T08:45:08.758Z"
   },
   {
    "duration": 19,
    "start_time": "2022-06-27T08:45:28.167Z"
   },
   {
    "duration": 12,
    "start_time": "2022-06-27T08:45:54.775Z"
   },
   {
    "duration": 3,
    "start_time": "2022-06-27T08:46:16.942Z"
   },
   {
    "duration": 846,
    "start_time": "2022-06-27T08:46:16.947Z"
   },
   {
    "duration": 4,
    "start_time": "2022-06-27T08:46:17.794Z"
   },
   {
    "duration": 814,
    "start_time": "2022-06-27T08:46:17.800Z"
   },
   {
    "duration": 200,
    "start_time": "2022-06-27T08:46:22.948Z"
   },
   {
    "duration": 7,
    "start_time": "2022-06-27T08:46:33.780Z"
   },
   {
    "duration": 6,
    "start_time": "2022-06-27T08:46:44.348Z"
   },
   {
    "duration": 8,
    "start_time": "2022-06-27T08:46:45.421Z"
   },
   {
    "duration": 27,
    "start_time": "2022-06-27T08:47:05.820Z"
   },
   {
    "duration": 6,
    "start_time": "2022-06-27T08:47:54.939Z"
   },
   {
    "duration": 17,
    "start_time": "2022-06-27T08:49:04.915Z"
   },
   {
    "duration": 8,
    "start_time": "2022-06-27T08:49:48.739Z"
   },
   {
    "duration": 11,
    "start_time": "2022-06-27T08:50:05.276Z"
   },
   {
    "duration": 10,
    "start_time": "2022-06-27T08:51:25.308Z"
   },
   {
    "duration": 24,
    "start_time": "2022-06-27T08:51:53.811Z"
   },
   {
    "duration": 11,
    "start_time": "2022-06-27T08:52:07.938Z"
   },
   {
    "duration": 11,
    "start_time": "2022-06-27T08:52:20.467Z"
   },
   {
    "duration": 11,
    "start_time": "2022-06-27T08:52:22.171Z"
   },
   {
    "duration": 11,
    "start_time": "2022-06-27T08:52:52.324Z"
   },
   {
    "duration": 6,
    "start_time": "2022-06-27T08:52:53.276Z"
   },
   {
    "duration": 12,
    "start_time": "2022-06-27T08:52:54.874Z"
   },
   {
    "duration": 4,
    "start_time": "2022-06-27T08:52:58.453Z"
   },
   {
    "duration": 789,
    "start_time": "2022-06-27T08:52:58.459Z"
   },
   {
    "duration": 16,
    "start_time": "2022-06-27T08:52:59.250Z"
   },
   {
    "duration": 1080,
    "start_time": "2022-06-27T08:52:59.270Z"
   },
   {
    "duration": 212,
    "start_time": "2022-06-27T08:53:00.352Z"
   },
   {
    "duration": 10,
    "start_time": "2022-06-27T08:53:00.567Z"
   },
   {
    "duration": 24,
    "start_time": "2022-06-27T08:53:00.579Z"
   },
   {
    "duration": 30,
    "start_time": "2022-06-27T08:53:00.604Z"
   },
   {
    "duration": 9,
    "start_time": "2022-06-27T08:53:00.636Z"
   },
   {
    "duration": 44,
    "start_time": "2022-06-27T08:53:00.646Z"
   },
   {
    "duration": 1300,
    "start_time": "2022-06-27T08:53:24.302Z"
   },
   {
    "duration": 802,
    "start_time": "2022-06-27T08:53:25.604Z"
   },
   {
    "duration": 3,
    "start_time": "2022-06-27T08:53:26.408Z"
   },
   {
    "duration": 1010,
    "start_time": "2022-06-27T08:53:26.413Z"
   },
   {
    "duration": 218,
    "start_time": "2022-06-27T08:53:27.425Z"
   },
   {
    "duration": 17,
    "start_time": "2022-06-27T08:53:27.644Z"
   },
   {
    "duration": 25,
    "start_time": "2022-06-27T08:53:27.665Z"
   },
   {
    "duration": 29,
    "start_time": "2022-06-27T08:53:27.692Z"
   },
   {
    "duration": 34,
    "start_time": "2022-06-27T08:53:27.723Z"
   },
   {
    "duration": 588,
    "start_time": "2022-06-27T08:53:27.759Z"
   },
   {
    "duration": 49,
    "start_time": "2022-06-27T08:53:28.348Z"
   },
   {
    "duration": 829,
    "start_time": "2022-06-27T09:15:06.250Z"
   },
   {
    "duration": 14,
    "start_time": "2022-06-27T09:15:23.735Z"
   },
   {
    "duration": 329,
    "start_time": "2022-06-27T09:23:15.248Z"
   },
   {
    "duration": 4,
    "start_time": "2022-06-27T09:24:06.158Z"
   },
   {
    "duration": 1414,
    "start_time": "2022-06-27T09:24:15.570Z"
   },
   {
    "duration": 921,
    "start_time": "2022-06-27T09:24:16.987Z"
   },
   {
    "duration": 3,
    "start_time": "2022-06-27T09:24:17.910Z"
   },
   {
    "duration": 1025,
    "start_time": "2022-06-27T09:24:17.916Z"
   },
   {
    "duration": 211,
    "start_time": "2022-06-27T09:24:18.944Z"
   },
   {
    "duration": 15,
    "start_time": "2022-06-27T09:24:19.159Z"
   },
   {
    "duration": 38,
    "start_time": "2022-06-27T09:24:19.176Z"
   },
   {
    "duration": 12,
    "start_time": "2022-06-27T09:24:19.216Z"
   },
   {
    "duration": 5,
    "start_time": "2022-06-27T09:24:19.229Z"
   },
   {
    "duration": 573,
    "start_time": "2022-06-27T09:24:19.236Z"
   },
   {
    "duration": 34,
    "start_time": "2022-06-27T09:24:19.811Z"
   },
   {
    "duration": 865,
    "start_time": "2022-06-27T09:24:19.847Z"
   },
   {
    "duration": 569,
    "start_time": "2022-06-27T09:24:20.714Z"
   },
   {
    "duration": 60,
    "start_time": "2022-06-27T09:26:17.874Z"
   },
   {
    "duration": 4,
    "start_time": "2022-06-27T09:34:40.963Z"
   },
   {
    "duration": 765,
    "start_time": "2022-06-27T09:34:40.968Z"
   },
   {
    "duration": 4,
    "start_time": "2022-06-27T09:34:41.734Z"
   },
   {
    "duration": 837,
    "start_time": "2022-06-27T09:34:41.740Z"
   },
   {
    "duration": 193,
    "start_time": "2022-06-27T09:34:42.578Z"
   },
   {
    "duration": 9,
    "start_time": "2022-06-27T09:34:42.777Z"
   },
   {
    "duration": 9,
    "start_time": "2022-06-27T09:34:42.789Z"
   },
   {
    "duration": 21,
    "start_time": "2022-06-27T09:34:42.799Z"
   },
   {
    "duration": 12,
    "start_time": "2022-06-27T09:34:42.823Z"
   },
   {
    "duration": 552,
    "start_time": "2022-06-27T09:34:42.837Z"
   },
   {
    "duration": 35,
    "start_time": "2022-06-27T09:34:43.391Z"
   },
   {
    "duration": 2,
    "start_time": "2022-06-27T09:34:43.428Z"
   },
   {
    "duration": 134,
    "start_time": "2022-06-27T09:34:48.529Z"
   },
   {
    "duration": 96,
    "start_time": "2022-06-27T09:36:26.148Z"
   },
   {
    "duration": 2155,
    "start_time": "2022-06-27T09:41:32.980Z"
   },
   {
    "duration": 1532,
    "start_time": "2022-06-27T09:42:00.275Z"
   },
   {
    "duration": 822,
    "start_time": "2022-06-27T09:42:01.809Z"
   },
   {
    "duration": 4,
    "start_time": "2022-06-27T09:42:02.633Z"
   },
   {
    "duration": 1004,
    "start_time": "2022-06-27T09:42:02.640Z"
   },
   {
    "duration": 193,
    "start_time": "2022-06-27T09:42:03.646Z"
   },
   {
    "duration": 29,
    "start_time": "2022-06-27T09:42:03.841Z"
   },
   {
    "duration": 20,
    "start_time": "2022-06-27T09:42:03.875Z"
   },
   {
    "duration": 23,
    "start_time": "2022-06-27T09:42:03.897Z"
   },
   {
    "duration": 573,
    "start_time": "2022-06-27T09:42:03.922Z"
   },
   {
    "duration": 33,
    "start_time": "2022-06-27T09:42:04.498Z"
   },
   {
    "duration": 5,
    "start_time": "2022-06-27T09:42:04.533Z"
   },
   {
    "duration": 149,
    "start_time": "2022-06-27T09:42:04.540Z"
   },
   {
    "duration": 2137,
    "start_time": "2022-06-27T09:42:04.691Z"
   },
   {
    "duration": 60,
    "start_time": "2022-06-27T09:42:06.830Z"
   },
   {
    "duration": 11,
    "start_time": "2022-06-27T09:44:13.515Z"
   },
   {
    "duration": 3,
    "start_time": "2022-06-27T09:44:56.459Z"
   },
   {
    "duration": 2363,
    "start_time": "2022-06-27T09:45:08.068Z"
   },
   {
    "duration": 810,
    "start_time": "2022-06-27T09:47:13.987Z"
   },
   {
    "duration": 528,
    "start_time": "2022-06-27T09:47:15.966Z"
   },
   {
    "duration": 20,
    "start_time": "2022-06-27T09:47:17.506Z"
   },
   {
    "duration": 36911,
    "start_time": "2022-06-27T09:47:51.188Z"
   },
   {
    "duration": 35215,
    "start_time": "2022-06-27T09:52:55.009Z"
   },
   {
    "duration": 39348,
    "start_time": "2022-06-27T10:04:05.400Z"
   },
   {
    "duration": 267,
    "start_time": "2022-06-27T10:04:46.837Z"
   },
   {
    "duration": 258,
    "start_time": "2022-06-27T10:08:59.068Z"
   },
   {
    "duration": 11,
    "start_time": "2022-06-27T10:09:51.777Z"
   },
   {
    "duration": 3,
    "start_time": "2022-06-27T10:11:32.379Z"
   },
   {
    "duration": 5,
    "start_time": "2022-06-27T10:11:38.891Z"
   },
   {
    "duration": 26,
    "start_time": "2022-06-27T10:21:27.826Z"
   },
   {
    "duration": 4,
    "start_time": "2022-06-27T10:24:55.792Z"
   },
   {
    "duration": 650,
    "start_time": "2022-06-27T10:25:24.391Z"
   },
   {
    "duration": 748388,
    "start_time": "2022-06-27T10:25:42.752Z"
   },
   {
    "duration": 39136,
    "start_time": "2022-06-27T10:40:07.250Z"
   },
   {
    "duration": 284,
    "start_time": "2022-06-27T10:42:22.010Z"
   },
   {
    "duration": 5,
    "start_time": "2022-06-27T10:43:55.738Z"
   },
   {
    "duration": 4,
    "start_time": "2022-06-27T10:44:21.353Z"
   },
   {
    "duration": 39923,
    "start_time": "2022-06-27T10:45:02.426Z"
   },
   {
    "duration": 356,
    "start_time": "2022-06-27T10:45:51.328Z"
   },
   {
    "duration": 5,
    "start_time": "2022-06-27T10:46:06.112Z"
   },
   {
    "duration": 6,
    "start_time": "2022-06-27T10:46:28.782Z"
   },
   {
    "duration": 4682,
    "start_time": "2022-06-27T10:47:14.241Z"
   },
   {
    "duration": 8,
    "start_time": "2022-06-27T10:47:50.562Z"
   },
   {
    "duration": 13,
    "start_time": "2022-06-27T11:04:41.612Z"
   },
   {
    "duration": 12,
    "start_time": "2022-06-27T11:05:06.985Z"
   },
   {
    "duration": 6911,
    "start_time": "2022-06-27T11:05:33.228Z"
   },
   {
    "duration": 17,
    "start_time": "2022-06-27T11:05:52.487Z"
   },
   {
    "duration": 232,
    "start_time": "2022-06-27T11:06:12.643Z"
   },
   {
    "duration": 8420887,
    "start_time": "2022-06-27T11:06:23.611Z"
   },
   {
    "duration": 193996,
    "start_time": "2022-06-27T13:26:44.500Z"
   },
   {
    "duration": 0,
    "start_time": "2022-06-27T13:29:58.503Z"
   },
   {
    "duration": 4,
    "start_time": "2022-06-27T13:32:19.609Z"
   },
   {
    "duration": 325100,
    "start_time": "2022-06-27T13:36:09.021Z"
   },
   {
    "duration": 1512,
    "start_time": "2022-06-27T13:41:56.994Z"
   },
   {
    "duration": 9,
    "start_time": "2022-06-27T13:42:00.904Z"
   },
   {
    "duration": 20,
    "start_time": "2022-06-27T13:54:43.698Z"
   },
   {
    "duration": 28041,
    "start_time": "2022-06-27T13:55:30.452Z"
   },
   {
    "duration": 26886,
    "start_time": "2022-06-27T13:56:11.121Z"
   },
   {
    "duration": 118,
    "start_time": "2022-06-28T13:40:27.042Z"
   },
   {
    "duration": 114,
    "start_time": "2022-06-28T13:54:48.404Z"
   },
   {
    "duration": 1796,
    "start_time": "2022-06-28T18:20:03.084Z"
   },
   {
    "duration": 5676,
    "start_time": "2022-06-28T18:20:32.571Z"
   },
   {
    "duration": 191,
    "start_time": "2022-06-28T18:20:40.431Z"
   },
   {
    "duration": 4,
    "start_time": "2022-06-28T18:25:36.036Z"
   },
   {
    "duration": 980,
    "start_time": "2022-06-28T18:25:36.041Z"
   },
   {
    "duration": 3,
    "start_time": "2022-06-28T18:25:37.023Z"
   },
   {
    "duration": 928,
    "start_time": "2022-06-28T18:25:37.028Z"
   },
   {
    "duration": 158,
    "start_time": "2022-06-28T18:25:37.958Z"
   },
   {
    "duration": 8,
    "start_time": "2022-06-28T18:25:38.118Z"
   },
   {
    "duration": 11,
    "start_time": "2022-06-28T18:25:38.128Z"
   },
   {
    "duration": 26,
    "start_time": "2022-06-28T18:25:38.141Z"
   },
   {
    "duration": 465,
    "start_time": "2022-06-28T18:25:38.169Z"
   },
   {
    "duration": 38,
    "start_time": "2022-06-28T18:25:38.635Z"
   },
   {
    "duration": 893,
    "start_time": "2022-06-28T18:26:12.521Z"
   },
   {
    "duration": 82,
    "start_time": "2022-06-28T18:26:44.694Z"
   },
   {
    "duration": 12,
    "start_time": "2022-06-28T18:31:53.553Z"
   }
  ],
  "kernelspec": {
   "display_name": "Python 3 (ipykernel)",
   "language": "python",
   "name": "python3"
  },
  "language_info": {
   "codemirror_mode": {
    "name": "ipython",
    "version": 3
   },
   "file_extension": ".py",
   "mimetype": "text/x-python",
   "name": "python",
   "nbconvert_exporter": "python",
   "pygments_lexer": "ipython3",
   "version": "3.9.7"
  },
  "toc": {
   "base_numbering": 1,
   "nav_menu": {},
   "number_sections": true,
   "sideBar": true,
   "skip_h1_title": true,
   "title_cell": "Table of Contents",
   "title_sidebar": "Contents",
   "toc_cell": false,
   "toc_position": {},
   "toc_section_display": true,
   "toc_window_display": false
  }
 },
 "nbformat": 4,
 "nbformat_minor": 2
}
