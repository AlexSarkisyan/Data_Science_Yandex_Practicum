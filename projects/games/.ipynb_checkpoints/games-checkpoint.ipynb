{
 "cells": [
  {
   "cell_type": "markdown",
   "metadata": {
    "toc": true
   },
   "source": [
    "<h1>Содержание<span class=\"tocSkip\"></span></h1>\n",
    "<div class=\"toc\"><ul class=\"toc-item\"><li><span><a href=\"#Изучение-данных-из-файла\" data-toc-modified-id=\"Изучение-данных-из-файла-1\"><span class=\"toc-item-num\">1&nbsp;&nbsp;</span>Изучение данных из файла</a></span><ul class=\"toc-item\"><li><span><a href=\"#Вывод\" data-toc-modified-id=\"Вывод-1.1\"><span class=\"toc-item-num\">1.1&nbsp;&nbsp;</span>Вывод</a></span></li></ul></li><li><span><a href=\"#Предобработка-данных\" data-toc-modified-id=\"Предобработка-данных-2\"><span class=\"toc-item-num\">2&nbsp;&nbsp;</span>Предобработка данных</a></span><ul class=\"toc-item\"><li><span><a href=\"#Стиль-заголовков\" data-toc-modified-id=\"Стиль-заголовков-2.1\"><span class=\"toc-item-num\">2.1&nbsp;&nbsp;</span>Стиль заголовков</a></span></li><li><span><a href=\"#Изменение-типов-данных.\" data-toc-modified-id=\"Изменение-типов-данных.-2.2\"><span class=\"toc-item-num\">2.2&nbsp;&nbsp;</span>Изменение типов данных.</a></span></li><li><span><a href=\"#Подсчёт-явных-дубликатов.\" data-toc-modified-id=\"Подсчёт-явных-дубликатов.-2.3\"><span class=\"toc-item-num\">2.3&nbsp;&nbsp;</span>Подсчёт явных дубликатов.</a></span></li></ul></li><li><span><a href=\"#Расчёты-и-добавление-результатов-в-таблицу\" data-toc-modified-id=\"Расчёты-и-добавление-результатов-в-таблицу-3\"><span class=\"toc-item-num\">3&nbsp;&nbsp;</span>Расчёты и добавление результатов в таблицу</a></span></li><li><span><a href=\"#Исследовательский-анализ-данных\" data-toc-modified-id=\"Исследовательский-анализ-данных-4\"><span class=\"toc-item-num\">4&nbsp;&nbsp;</span>Исследовательский анализ данных</a></span></li><li><span><a href=\"#Составьте-портрет-пользователя-каждого-региона\" data-toc-modified-id=\"Составьте-портрет-пользователя-каждого-региона-5\"><span class=\"toc-item-num\">5&nbsp;&nbsp;</span>Составьте портрет пользователя каждого региона</a></span></li><li><span><a href=\"#Проверьте-гипотезы\" data-toc-modified-id=\"Проверьте-гипотезы-6\"><span class=\"toc-item-num\">6&nbsp;&nbsp;</span>Проверьте гипотезы</a></span></li><li><span><a href=\"#Выводы-исследования:\" data-toc-modified-id=\"Выводы-исследования:-7\"><span class=\"toc-item-num\">7&nbsp;&nbsp;</span>Выводы исследования:</a></span></li></ul></div>"
   ]
  },
  {
   "cell_type": "markdown",
   "metadata": {},
   "source": [
    "# Описание проекта\n",
    "\n",
    "\n",
    "Вы работаете в интернет-магазине «Стримчик», который продаёт по всему миру компьютерные игры.\n",
    "\n",
    "Из открытых источников доступны исторические данные о продажах игр, оценки пользователей и экспертов, жанры и платформы (например, Xbox или PlayStation).\n",
    "\n",
    "Вам нужно выявить определяющие успешность игры закономерности. Это позволит сделать ставку на потенциально популярный продукт и спланировать рекламные кампании.\n",
    "\n",
    "Перед вами данные до 2016 года. Представим, что сейчас декабрь 2016 г., и вы планируете кампанию на 2017-й. Нужно отработать принцип работы с данными. Неважно, прогнозируете ли вы продажи на 2017 год по данным 2016-го или же 2027-й — по данным 2026 года.\n",
    "\n",
    "В наборе данных попадается аббревиатура ESRB (Entertainment Software Rating Board) — это ассоциация, определяющая возрастной рейтинг компьютерных игр. ESRB оценивает игровой контент и присваивает ему подходящую возрастную категорию, например, «Для взрослых», «Для детей младшего возраста» или «Для подростков».\n"
   ]
  },
  {
   "cell_type": "markdown",
   "metadata": {},
   "source": [
    "## Изучение данных из файла"
   ]
  },
  {
   "cell_type": "code",
   "execution_count": 1,
   "metadata": {},
   "outputs": [],
   "source": [
    "import pandas as pd\n",
    "import matplotlib.pyplot as plt\n",
    "import numpy as np\n",
    "import seaborn as sns\n",
    "from scipy import stats as st\n",
    "import os"
   ]
  },
  {
   "cell_type": "code",
   "execution_count": 2,
   "metadata": {},
   "outputs": [],
   "source": [
    "pth1 = '/datasets/games.csv'\n",
    "pth2 = '/Users/Alex/Desktop/practicum_ds/projects/prefab_project_1/games.csv'\n",
    "\n",
    "if os.path.exists(pth1):\n",
    "    df = pd.read_csv(pth1)\n",
    "elif os.path.exists(pth2):\n",
    "    df = pd.read_csv(pth2)\n",
    "else:\n",
    "    print('Something is wrong')"
   ]
  },
  {
   "cell_type": "code",
   "execution_count": 3,
   "metadata": {},
   "outputs": [
    {
     "data": {
      "text/html": [
       "<div>\n",
       "<style scoped>\n",
       "    .dataframe tbody tr th:only-of-type {\n",
       "        vertical-align: middle;\n",
       "    }\n",
       "\n",
       "    .dataframe tbody tr th {\n",
       "        vertical-align: top;\n",
       "    }\n",
       "\n",
       "    .dataframe thead th {\n",
       "        text-align: right;\n",
       "    }\n",
       "</style>\n",
       "<table border=\"1\" class=\"dataframe\">\n",
       "  <thead>\n",
       "    <tr style=\"text-align: right;\">\n",
       "      <th></th>\n",
       "      <th>Name</th>\n",
       "      <th>Platform</th>\n",
       "      <th>Year_of_Release</th>\n",
       "      <th>Genre</th>\n",
       "      <th>NA_sales</th>\n",
       "      <th>EU_sales</th>\n",
       "      <th>JP_sales</th>\n",
       "      <th>Other_sales</th>\n",
       "      <th>Critic_Score</th>\n",
       "      <th>User_Score</th>\n",
       "      <th>Rating</th>\n",
       "    </tr>\n",
       "  </thead>\n",
       "  <tbody>\n",
       "    <tr>\n",
       "      <th>0</th>\n",
       "      <td>Wii Sports</td>\n",
       "      <td>Wii</td>\n",
       "      <td>2006.0</td>\n",
       "      <td>Sports</td>\n",
       "      <td>41.36</td>\n",
       "      <td>28.96</td>\n",
       "      <td>3.77</td>\n",
       "      <td>8.45</td>\n",
       "      <td>76.0</td>\n",
       "      <td>8</td>\n",
       "      <td>E</td>\n",
       "    </tr>\n",
       "    <tr>\n",
       "      <th>1</th>\n",
       "      <td>Super Mario Bros.</td>\n",
       "      <td>NES</td>\n",
       "      <td>1985.0</td>\n",
       "      <td>Platform</td>\n",
       "      <td>29.08</td>\n",
       "      <td>3.58</td>\n",
       "      <td>6.81</td>\n",
       "      <td>0.77</td>\n",
       "      <td>NaN</td>\n",
       "      <td>NaN</td>\n",
       "      <td>NaN</td>\n",
       "    </tr>\n",
       "    <tr>\n",
       "      <th>2</th>\n",
       "      <td>Mario Kart Wii</td>\n",
       "      <td>Wii</td>\n",
       "      <td>2008.0</td>\n",
       "      <td>Racing</td>\n",
       "      <td>15.68</td>\n",
       "      <td>12.76</td>\n",
       "      <td>3.79</td>\n",
       "      <td>3.29</td>\n",
       "      <td>82.0</td>\n",
       "      <td>8.3</td>\n",
       "      <td>E</td>\n",
       "    </tr>\n",
       "    <tr>\n",
       "      <th>3</th>\n",
       "      <td>Wii Sports Resort</td>\n",
       "      <td>Wii</td>\n",
       "      <td>2009.0</td>\n",
       "      <td>Sports</td>\n",
       "      <td>15.61</td>\n",
       "      <td>10.93</td>\n",
       "      <td>3.28</td>\n",
       "      <td>2.95</td>\n",
       "      <td>80.0</td>\n",
       "      <td>8</td>\n",
       "      <td>E</td>\n",
       "    </tr>\n",
       "    <tr>\n",
       "      <th>4</th>\n",
       "      <td>Pokemon Red/Pokemon Blue</td>\n",
       "      <td>GB</td>\n",
       "      <td>1996.0</td>\n",
       "      <td>Role-Playing</td>\n",
       "      <td>11.27</td>\n",
       "      <td>8.89</td>\n",
       "      <td>10.22</td>\n",
       "      <td>1.00</td>\n",
       "      <td>NaN</td>\n",
       "      <td>NaN</td>\n",
       "      <td>NaN</td>\n",
       "    </tr>\n",
       "  </tbody>\n",
       "</table>\n",
       "</div>"
      ],
      "text/plain": [
       "                       Name Platform  Year_of_Release         Genre  NA_sales  \\\n",
       "0                Wii Sports      Wii           2006.0        Sports     41.36   \n",
       "1         Super Mario Bros.      NES           1985.0      Platform     29.08   \n",
       "2            Mario Kart Wii      Wii           2008.0        Racing     15.68   \n",
       "3         Wii Sports Resort      Wii           2009.0        Sports     15.61   \n",
       "4  Pokemon Red/Pokemon Blue       GB           1996.0  Role-Playing     11.27   \n",
       "\n",
       "   EU_sales  JP_sales  Other_sales  Critic_Score User_Score Rating  \n",
       "0     28.96      3.77         8.45          76.0          8      E  \n",
       "1      3.58      6.81         0.77           NaN        NaN    NaN  \n",
       "2     12.76      3.79         3.29          82.0        8.3      E  \n",
       "3     10.93      3.28         2.95          80.0          8      E  \n",
       "4      8.89     10.22         1.00           NaN        NaN    NaN  "
      ]
     },
     "execution_count": 3,
     "metadata": {},
     "output_type": "execute_result"
    }
   ],
   "source": [
    "df.head()"
   ]
  },
  {
   "cell_type": "code",
   "execution_count": 4,
   "metadata": {},
   "outputs": [
    {
     "name": "stdout",
     "output_type": "stream",
     "text": [
      "<class 'pandas.core.frame.DataFrame'>\n",
      "RangeIndex: 16715 entries, 0 to 16714\n",
      "Data columns (total 11 columns):\n",
      " #   Column           Non-Null Count  Dtype  \n",
      "---  ------           --------------  -----  \n",
      " 0   Name             16713 non-null  object \n",
      " 1   Platform         16715 non-null  object \n",
      " 2   Year_of_Release  16446 non-null  float64\n",
      " 3   Genre            16713 non-null  object \n",
      " 4   NA_sales         16715 non-null  float64\n",
      " 5   EU_sales         16715 non-null  float64\n",
      " 6   JP_sales         16715 non-null  float64\n",
      " 7   Other_sales      16715 non-null  float64\n",
      " 8   Critic_Score     8137 non-null   float64\n",
      " 9   User_Score       10014 non-null  object \n",
      " 10  Rating           9949 non-null   object \n",
      "dtypes: float64(6), object(5)\n",
      "memory usage: 1.4+ MB\n"
     ]
    }
   ],
   "source": [
    "df.info()"
   ]
  },
  {
   "cell_type": "code",
   "execution_count": 5,
   "metadata": {},
   "outputs": [
    {
     "data": {
      "text/plain": [
       "Name                  2\n",
       "Platform              0\n",
       "Year_of_Release     269\n",
       "Genre                 2\n",
       "NA_sales              0\n",
       "EU_sales              0\n",
       "JP_sales              0\n",
       "Other_sales           0\n",
       "Critic_Score       8578\n",
       "User_Score         6701\n",
       "Rating             6766\n",
       "dtype: int64"
      ]
     },
     "execution_count": 5,
     "metadata": {},
     "output_type": "execute_result"
    }
   ],
   "source": [
    "# количество пустых значений.\n",
    "df.isna().sum()"
   ]
  },
  {
   "cell_type": "code",
   "execution_count": 6,
   "metadata": {},
   "outputs": [
    {
     "data": {
      "text/plain": [
       "Name                0.0\n",
       "Platform            0.0\n",
       "Year_of_Release     1.6\n",
       "Genre               0.0\n",
       "NA_sales            0.0\n",
       "EU_sales            0.0\n",
       "JP_sales            0.0\n",
       "Other_sales         0.0\n",
       "Critic_Score       51.3\n",
       "User_Score         40.1\n",
       "Rating             40.5\n",
       "dtype: float64"
      ]
     },
     "execution_count": 6,
     "metadata": {},
     "output_type": "execute_result"
    }
   ],
   "source": [
    "# подсчёт пропусков в %\n",
    "(df.isna().mean()*100).round(1)"
   ]
  },
  {
   "cell_type": "code",
   "execution_count": 7,
   "metadata": {},
   "outputs": [
    {
     "data": {
      "text/plain": [
       "Action          3369\n",
       "Sports          2348\n",
       "Misc            1750\n",
       "Role-Playing    1498\n",
       "Shooter         1323\n",
       "Adventure       1303\n",
       "Racing          1249\n",
       "Platform         888\n",
       "Simulation       873\n",
       "Fighting         849\n",
       "Strategy         683\n",
       "Puzzle           580\n",
       "Name: Genre, dtype: int64"
      ]
     },
     "execution_count": 7,
     "metadata": {},
     "output_type": "execute_result"
    }
   ],
   "source": [
    "# проверим жанры на уникальность\n",
    "df['Genre'].value_counts()"
   ]
  },
  {
   "cell_type": "code",
   "execution_count": 8,
   "metadata": {},
   "outputs": [
    {
     "data": {
      "text/plain": [
       "tbd    2424\n",
       "7.8     324\n",
       "8       290\n",
       "8.2     282\n",
       "8.3     254\n",
       "       ... \n",
       "1.1       2\n",
       "1.3       2\n",
       "1.9       2\n",
       "9.7       1\n",
       "0         1\n",
       "Name: User_Score, Length: 96, dtype: int64"
      ]
     },
     "execution_count": 8,
     "metadata": {},
     "output_type": "execute_result"
    }
   ],
   "source": [
    "# проверим User_Score\n",
    "df['User_Score'].value_counts()"
   ]
  },
  {
   "cell_type": "code",
   "execution_count": 9,
   "metadata": {},
   "outputs": [
    {
     "data": {
      "text/plain": [
       "E       3990\n",
       "T       2961\n",
       "M       1563\n",
       "E10+    1420\n",
       "EC         8\n",
       "K-A        3\n",
       "RP         3\n",
       "AO         1\n",
       "Name: Rating, dtype: int64"
      ]
     },
     "execution_count": 9,
     "metadata": {},
     "output_type": "execute_result"
    }
   ],
   "source": [
    "# проверим Rating\n",
    "df['Rating'].value_counts()"
   ]
  },
  {
   "cell_type": "markdown",
   "metadata": {},
   "source": [
    "### Вывод"
   ]
  },
  {
   "cell_type": "markdown",
   "metadata": {},
   "source": [
    "Итак, в таблице 11 столбецов.\n",
    "\n",
    "Описание данных:\n",
    "\n",
    "- Name — название игры\n",
    "- Platform — платформа\n",
    "- Year_of_Release — год выпуска\n",
    "- Genre — жанр игры\n",
    "- NA_sales — продажи в Северной Америке (миллионы проданных копий)\n",
    "- EU_sales — продажи в Европе (миллионы проданных копий)\n",
    "- JP_sales — продажи в Японии (миллионы проданных копий)\n",
    "- Other_sales — продажи в других странах (миллионы проданных копий)\n",
    "- Critic_Score — оценка критиков (максимум 100)\n",
    "- User_Score — оценка пользователей (максимум 10)\n",
    "- Rating — рейтинг от организации ESRB (англ. Entertainment Software Rating Board). Эта ассоциация определяет рейтинг компьютерных игр и присваивает им подходящую возрастную категорию.\n",
    "\n",
    "1. Предварительно можно утверждать, что, данных достаточно для решения задачи.\n",
    "2. Количество значений в столбцах различается. Значит, в данных есть пропуски.\n",
    "3. В первом приближении артефакты (аномалии)* не обнаружены (значения, которые не отражают действительность и появились по какой-то ошибке).\n",
    "4. Количественные данные в столбце User_Score представлены в формате object, а Year_of_Release представлены в формате float.\n",
    "5. Соблюдение требований к стилю в названии колонок:\n",
    "- Строчные буквы - нет.\n",
    "- Отсутствие пробелов - да.\n",
    "- Использован «змеиный_регистр» (snake_case) - да.\n",
    "6. В столбце User_Score присутствует значение tbd. Вероятнее всего TBD - аббревиатура от английского To Be Determined (будет определено) или To Be Decided (будет решено). Используется, если какая-то информация еще не определена или решение по вопросу не принято. Акроним служит для отметки неясностей или пропусков."
   ]
  },
  {
   "cell_type": "markdown",
   "metadata": {},
   "source": [
    "## Предобработка данных"
   ]
  },
  {
   "cell_type": "markdown",
   "metadata": {
    "id": "dIaKXr29_Zct"
   },
   "source": [
    "### Стиль заголовков"
   ]
  },
  {
   "cell_type": "code",
   "execution_count": 10,
   "metadata": {
    "id": "ISlFqs5y_Zct"
   },
   "outputs": [
    {
     "data": {
      "text/plain": [
       "Index(['name', 'platform', 'year_of_release', 'genre', 'na_sales', 'eu_sales',\n",
       "       'jp_sales', 'other_sales', 'critic_score', 'user_score', 'rating'],\n",
       "      dtype='object')"
      ]
     },
     "execution_count": 10,
     "metadata": {},
     "output_type": "execute_result"
    }
   ],
   "source": [
    "# приведем название столбцов к нижнему регистру\n",
    "df.columns = df.columns.str.lower()\n",
    "df.columns"
   ]
  },
  {
   "cell_type": "markdown",
   "metadata": {},
   "source": [
    "### Изменение типов данных."
   ]
  },
  {
   "cell_type": "code",
   "execution_count": 11,
   "metadata": {},
   "outputs": [],
   "source": [
    "#заменим tbd на пропуски, чтобы изменить тип данных столбца user_score на float, чтобы проводить вычисления.\n",
    "df['user_score'] = df['user_score'].replace('tbd', np.nan)"
   ]
  },
  {
   "cell_type": "code",
   "execution_count": 12,
   "metadata": {},
   "outputs": [],
   "source": [
    "df['year_of_release'] = df['year_of_release'].astype('Int64')\n",
    "df['user_score'] = df['user_score'].astype('float')"
   ]
  },
  {
   "cell_type": "code",
   "execution_count": 13,
   "metadata": {},
   "outputs": [
    {
     "name": "stdout",
     "output_type": "stream",
     "text": [
      "<class 'pandas.core.frame.DataFrame'>\n",
      "RangeIndex: 16715 entries, 0 to 16714\n",
      "Data columns (total 11 columns):\n",
      " #   Column           Non-Null Count  Dtype  \n",
      "---  ------           --------------  -----  \n",
      " 0   name             16713 non-null  object \n",
      " 1   platform         16715 non-null  object \n",
      " 2   year_of_release  16446 non-null  Int64  \n",
      " 3   genre            16713 non-null  object \n",
      " 4   na_sales         16715 non-null  float64\n",
      " 5   eu_sales         16715 non-null  float64\n",
      " 6   jp_sales         16715 non-null  float64\n",
      " 7   other_sales      16715 non-null  float64\n",
      " 8   critic_score     8137 non-null   float64\n",
      " 9   user_score       7590 non-null   float64\n",
      " 10  rating           9949 non-null   object \n",
      "dtypes: Int64(1), float64(6), object(4)\n",
      "memory usage: 1.4+ MB\n"
     ]
    }
   ],
   "source": [
    "df.info()"
   ]
  },
  {
   "cell_type": "markdown",
   "metadata": {},
   "source": [
    "### Подсчёт явных дубликатов."
   ]
  },
  {
   "cell_type": "code",
   "execution_count": 14,
   "metadata": {},
   "outputs": [
    {
     "data": {
      "text/plain": [
       "0"
      ]
     },
     "execution_count": 14,
     "metadata": {},
     "output_type": "execute_result"
    }
   ],
   "source": [
    "# подсчёт явных дубликатов\n",
    "df.duplicated().sum()"
   ]
  },
  {
   "cell_type": "markdown",
   "metadata": {},
   "source": [
    "## Расчёты и добавление результатов в таблицу"
   ]
  },
  {
   "cell_type": "code",
   "execution_count": 15,
   "metadata": {},
   "outputs": [],
   "source": [
    "# Посчитайте суммарные продажи во всех регионах и запишите их в отдельный столбец.\n",
    "df['total_sales'] = df['na_sales'] + df['eu_sales'] + df['jp_sales'] + df['other_sales']"
   ]
  },
  {
   "cell_type": "markdown",
   "metadata": {},
   "source": [
    "## Исследовательский анализ данных"
   ]
  },
  {
   "cell_type": "markdown",
   "metadata": {},
   "source": [
    "**Посмотрите, сколько игр выпускалось в разные годы.**"
   ]
  },
  {
   "cell_type": "code",
   "execution_count": 16,
   "metadata": {
    "scrolled": false
   },
   "outputs": [
    {
     "data": {
      "text/html": [
       "<div>\n",
       "<style scoped>\n",
       "    .dataframe tbody tr th:only-of-type {\n",
       "        vertical-align: middle;\n",
       "    }\n",
       "\n",
       "    .dataframe tbody tr th {\n",
       "        vertical-align: top;\n",
       "    }\n",
       "\n",
       "    .dataframe thead th {\n",
       "        text-align: right;\n",
       "    }\n",
       "</style>\n",
       "<table border=\"1\" class=\"dataframe\">\n",
       "  <thead>\n",
       "    <tr style=\"text-align: right;\">\n",
       "      <th></th>\n",
       "      <th>name</th>\n",
       "    </tr>\n",
       "    <tr>\n",
       "      <th>year_of_release</th>\n",
       "      <th></th>\n",
       "    </tr>\n",
       "  </thead>\n",
       "  <tbody>\n",
       "    <tr>\n",
       "      <th>1980</th>\n",
       "      <td>9</td>\n",
       "    </tr>\n",
       "    <tr>\n",
       "      <th>1981</th>\n",
       "      <td>46</td>\n",
       "    </tr>\n",
       "    <tr>\n",
       "      <th>1982</th>\n",
       "      <td>36</td>\n",
       "    </tr>\n",
       "    <tr>\n",
       "      <th>1983</th>\n",
       "      <td>17</td>\n",
       "    </tr>\n",
       "    <tr>\n",
       "      <th>1984</th>\n",
       "      <td>14</td>\n",
       "    </tr>\n",
       "    <tr>\n",
       "      <th>1985</th>\n",
       "      <td>14</td>\n",
       "    </tr>\n",
       "    <tr>\n",
       "      <th>1986</th>\n",
       "      <td>21</td>\n",
       "    </tr>\n",
       "    <tr>\n",
       "      <th>1987</th>\n",
       "      <td>16</td>\n",
       "    </tr>\n",
       "    <tr>\n",
       "      <th>1988</th>\n",
       "      <td>15</td>\n",
       "    </tr>\n",
       "    <tr>\n",
       "      <th>1989</th>\n",
       "      <td>17</td>\n",
       "    </tr>\n",
       "    <tr>\n",
       "      <th>1990</th>\n",
       "      <td>16</td>\n",
       "    </tr>\n",
       "    <tr>\n",
       "      <th>1991</th>\n",
       "      <td>41</td>\n",
       "    </tr>\n",
       "    <tr>\n",
       "      <th>1992</th>\n",
       "      <td>43</td>\n",
       "    </tr>\n",
       "    <tr>\n",
       "      <th>1993</th>\n",
       "      <td>60</td>\n",
       "    </tr>\n",
       "    <tr>\n",
       "      <th>1994</th>\n",
       "      <td>121</td>\n",
       "    </tr>\n",
       "    <tr>\n",
       "      <th>1995</th>\n",
       "      <td>219</td>\n",
       "    </tr>\n",
       "    <tr>\n",
       "      <th>1996</th>\n",
       "      <td>263</td>\n",
       "    </tr>\n",
       "    <tr>\n",
       "      <th>1997</th>\n",
       "      <td>289</td>\n",
       "    </tr>\n",
       "    <tr>\n",
       "      <th>1998</th>\n",
       "      <td>379</td>\n",
       "    </tr>\n",
       "    <tr>\n",
       "      <th>1999</th>\n",
       "      <td>338</td>\n",
       "    </tr>\n",
       "    <tr>\n",
       "      <th>2000</th>\n",
       "      <td>350</td>\n",
       "    </tr>\n",
       "    <tr>\n",
       "      <th>2001</th>\n",
       "      <td>482</td>\n",
       "    </tr>\n",
       "    <tr>\n",
       "      <th>2002</th>\n",
       "      <td>829</td>\n",
       "    </tr>\n",
       "    <tr>\n",
       "      <th>2003</th>\n",
       "      <td>775</td>\n",
       "    </tr>\n",
       "    <tr>\n",
       "      <th>2004</th>\n",
       "      <td>762</td>\n",
       "    </tr>\n",
       "    <tr>\n",
       "      <th>2005</th>\n",
       "      <td>939</td>\n",
       "    </tr>\n",
       "    <tr>\n",
       "      <th>2006</th>\n",
       "      <td>1006</td>\n",
       "    </tr>\n",
       "    <tr>\n",
       "      <th>2007</th>\n",
       "      <td>1197</td>\n",
       "    </tr>\n",
       "    <tr>\n",
       "      <th>2008</th>\n",
       "      <td>1427</td>\n",
       "    </tr>\n",
       "    <tr>\n",
       "      <th>2009</th>\n",
       "      <td>1426</td>\n",
       "    </tr>\n",
       "    <tr>\n",
       "      <th>2010</th>\n",
       "      <td>1255</td>\n",
       "    </tr>\n",
       "    <tr>\n",
       "      <th>2011</th>\n",
       "      <td>1136</td>\n",
       "    </tr>\n",
       "    <tr>\n",
       "      <th>2012</th>\n",
       "      <td>653</td>\n",
       "    </tr>\n",
       "    <tr>\n",
       "      <th>2013</th>\n",
       "      <td>544</td>\n",
       "    </tr>\n",
       "    <tr>\n",
       "      <th>2014</th>\n",
       "      <td>581</td>\n",
       "    </tr>\n",
       "    <tr>\n",
       "      <th>2015</th>\n",
       "      <td>606</td>\n",
       "    </tr>\n",
       "    <tr>\n",
       "      <th>2016</th>\n",
       "      <td>502</td>\n",
       "    </tr>\n",
       "  </tbody>\n",
       "</table>\n",
       "</div>"
      ],
      "text/plain": [
       "                 name\n",
       "year_of_release      \n",
       "1980                9\n",
       "1981               46\n",
       "1982               36\n",
       "1983               17\n",
       "1984               14\n",
       "1985               14\n",
       "1986               21\n",
       "1987               16\n",
       "1988               15\n",
       "1989               17\n",
       "1990               16\n",
       "1991               41\n",
       "1992               43\n",
       "1993               60\n",
       "1994              121\n",
       "1995              219\n",
       "1996              263\n",
       "1997              289\n",
       "1998              379\n",
       "1999              338\n",
       "2000              350\n",
       "2001              482\n",
       "2002              829\n",
       "2003              775\n",
       "2004              762\n",
       "2005              939\n",
       "2006             1006\n",
       "2007             1197\n",
       "2008             1427\n",
       "2009             1426\n",
       "2010             1255\n",
       "2011             1136\n",
       "2012              653\n",
       "2013              544\n",
       "2014              581\n",
       "2015              606\n",
       "2016              502"
      ]
     },
     "metadata": {},
     "output_type": "display_data"
    },
    {
     "data": {
      "image/png": "[encoded data removed]",
      "text/plain": [
       "<Figure size 1080x720 with 1 Axes>"
      ]
     },
     "metadata": {
      "needs_background": "light"
     },
     "output_type": "display_data"
    }
   ],
   "source": [
    "games_by_years = df.pivot_table(index='year_of_release', values='name', aggfunc='count')\n",
    "games_by_years.plot(style='-', figsize=(15,10))\n",
    "plt.ylabel(\"Количество игр\")\n",
    "plt.legend('')\n",
    "display(games_by_years)"
   ]
  },
  {
   "cell_type": "markdown",
   "metadata": {},
   "source": [
    "**Посмотрите, как менялись продажи по платформам.**"
   ]
  },
  {
   "cell_type": "code",
   "execution_count": 17,
   "metadata": {
    "scrolled": false
   },
   "outputs": [
    {
     "data": {
      "text/html": [
       "<div>\n",
       "<style scoped>\n",
       "    .dataframe tbody tr th:only-of-type {\n",
       "        vertical-align: middle;\n",
       "    }\n",
       "\n",
       "    .dataframe tbody tr th {\n",
       "        vertical-align: top;\n",
       "    }\n",
       "\n",
       "    .dataframe thead th {\n",
       "        text-align: right;\n",
       "    }\n",
       "</style>\n",
       "<table border=\"1\" class=\"dataframe\">\n",
       "  <thead>\n",
       "    <tr style=\"text-align: right;\">\n",
       "      <th></th>\n",
       "      <th>total_sales</th>\n",
       "      <th>%_from_total_sales</th>\n",
       "    </tr>\n",
       "    <tr>\n",
       "      <th>platform</th>\n",
       "      <th></th>\n",
       "      <th></th>\n",
       "    </tr>\n",
       "  </thead>\n",
       "  <tbody>\n",
       "    <tr>\n",
       "      <th>PCFX</th>\n",
       "      <td>0.03</td>\n",
       "      <td>0.000336</td>\n",
       "    </tr>\n",
       "    <tr>\n",
       "      <th>GG</th>\n",
       "      <td>0.04</td>\n",
       "      <td>0.000449</td>\n",
       "    </tr>\n",
       "    <tr>\n",
       "      <th>3DO</th>\n",
       "      <td>0.10</td>\n",
       "      <td>0.001122</td>\n",
       "    </tr>\n",
       "    <tr>\n",
       "      <th>TG16</th>\n",
       "      <td>0.16</td>\n",
       "      <td>0.001795</td>\n",
       "    </tr>\n",
       "    <tr>\n",
       "      <th>WS</th>\n",
       "      <td>1.42</td>\n",
       "      <td>0.015927</td>\n",
       "    </tr>\n",
       "    <tr>\n",
       "      <th>NG</th>\n",
       "      <td>1.44</td>\n",
       "      <td>0.016151</td>\n",
       "    </tr>\n",
       "    <tr>\n",
       "      <th>SCD</th>\n",
       "      <td>1.86</td>\n",
       "      <td>0.020862</td>\n",
       "    </tr>\n",
       "    <tr>\n",
       "      <th>DC</th>\n",
       "      <td>15.95</td>\n",
       "      <td>0.178898</td>\n",
       "    </tr>\n",
       "    <tr>\n",
       "      <th>GEN</th>\n",
       "      <td>30.77</td>\n",
       "      <td>0.345121</td>\n",
       "    </tr>\n",
       "    <tr>\n",
       "      <th>SAT</th>\n",
       "      <td>33.59</td>\n",
       "      <td>0.376751</td>\n",
       "    </tr>\n",
       "    <tr>\n",
       "      <th>PSV</th>\n",
       "      <td>54.07</td>\n",
       "      <td>0.606458</td>\n",
       "    </tr>\n",
       "    <tr>\n",
       "      <th>WiiU</th>\n",
       "      <td>82.19</td>\n",
       "      <td>0.921856</td>\n",
       "    </tr>\n",
       "    <tr>\n",
       "      <th>2600</th>\n",
       "      <td>96.98</td>\n",
       "      <td>1.087743</td>\n",
       "    </tr>\n",
       "    <tr>\n",
       "      <th>XOne</th>\n",
       "      <td>159.32</td>\n",
       "      <td>1.786958</td>\n",
       "    </tr>\n",
       "    <tr>\n",
       "      <th>GC</th>\n",
       "      <td>198.93</td>\n",
       "      <td>2.231230</td>\n",
       "    </tr>\n",
       "    <tr>\n",
       "      <th>SNES</th>\n",
       "      <td>200.04</td>\n",
       "      <td>2.243680</td>\n",
       "    </tr>\n",
       "    <tr>\n",
       "      <th>N64</th>\n",
       "      <td>218.68</td>\n",
       "      <td>2.452749</td>\n",
       "    </tr>\n",
       "    <tr>\n",
       "      <th>NES</th>\n",
       "      <td>251.05</td>\n",
       "      <td>2.815816</td>\n",
       "    </tr>\n",
       "    <tr>\n",
       "      <th>GB</th>\n",
       "      <td>255.46</td>\n",
       "      <td>2.865279</td>\n",
       "    </tr>\n",
       "    <tr>\n",
       "      <th>XB</th>\n",
       "      <td>257.74</td>\n",
       "      <td>2.890852</td>\n",
       "    </tr>\n",
       "    <tr>\n",
       "      <th>3DS</th>\n",
       "      <td>259.00</td>\n",
       "      <td>2.904985</td>\n",
       "    </tr>\n",
       "    <tr>\n",
       "      <th>PC</th>\n",
       "      <td>259.52</td>\n",
       "      <td>2.910817</td>\n",
       "    </tr>\n",
       "    <tr>\n",
       "      <th>PSP</th>\n",
       "      <td>294.05</td>\n",
       "      <td>3.298111</td>\n",
       "    </tr>\n",
       "    <tr>\n",
       "      <th>PS4</th>\n",
       "      <td>314.14</td>\n",
       "      <td>3.523443</td>\n",
       "    </tr>\n",
       "    <tr>\n",
       "      <th>GBA</th>\n",
       "      <td>317.85</td>\n",
       "      <td>3.565055</td>\n",
       "    </tr>\n",
       "    <tr>\n",
       "      <th>PS</th>\n",
       "      <td>730.86</td>\n",
       "      <td>8.197440</td>\n",
       "    </tr>\n",
       "    <tr>\n",
       "      <th>DS</th>\n",
       "      <td>806.12</td>\n",
       "      <td>9.041568</td>\n",
       "    </tr>\n",
       "    <tr>\n",
       "      <th>Wii</th>\n",
       "      <td>907.51</td>\n",
       "      <td>10.178774</td>\n",
       "    </tr>\n",
       "    <tr>\n",
       "      <th>PS3</th>\n",
       "      <td>939.65</td>\n",
       "      <td>10.539262</td>\n",
       "    </tr>\n",
       "    <tr>\n",
       "      <th>X360</th>\n",
       "      <td>971.42</td>\n",
       "      <td>10.895599</td>\n",
       "    </tr>\n",
       "    <tr>\n",
       "      <th>PS2</th>\n",
       "      <td>1255.77</td>\n",
       "      <td>14.084913</td>\n",
       "    </tr>\n",
       "  </tbody>\n",
       "</table>\n",
       "</div>"
      ],
      "text/plain": [
       "          total_sales  %_from_total_sales\n",
       "platform                                 \n",
       "PCFX             0.03            0.000336\n",
       "GG               0.04            0.000449\n",
       "3DO              0.10            0.001122\n",
       "TG16             0.16            0.001795\n",
       "WS               1.42            0.015927\n",
       "NG               1.44            0.016151\n",
       "SCD              1.86            0.020862\n",
       "DC              15.95            0.178898\n",
       "GEN             30.77            0.345121\n",
       "SAT             33.59            0.376751\n",
       "PSV             54.07            0.606458\n",
       "WiiU            82.19            0.921856\n",
       "2600            96.98            1.087743\n",
       "XOne           159.32            1.786958\n",
       "GC             198.93            2.231230\n",
       "SNES           200.04            2.243680\n",
       "N64            218.68            2.452749\n",
       "NES            251.05            2.815816\n",
       "GB             255.46            2.865279\n",
       "XB             257.74            2.890852\n",
       "3DS            259.00            2.904985\n",
       "PC             259.52            2.910817\n",
       "PSP            294.05            3.298111\n",
       "PS4            314.14            3.523443\n",
       "GBA            317.85            3.565055\n",
       "PS             730.86            8.197440\n",
       "DS             806.12            9.041568\n",
       "Wii            907.51           10.178774\n",
       "PS3            939.65           10.539262\n",
       "X360           971.42           10.895599\n",
       "PS2           1255.77           14.084913"
      ]
     },
     "execution_count": 17,
     "metadata": {},
     "output_type": "execute_result"
    },
    {
     "data": {
      "image/png": "[encoded data removed]",
      "text/plain": [
       "<Figure size 1080x720 with 1 Axes>"
      ]
     },
     "metadata": {
      "needs_background": "light"
     },
     "output_type": "display_data"
    }
   ],
   "source": [
    "sales_by_platforms = df.pivot_table(index='platform', values='total_sales', aggfunc='sum').sort_values(by='total_sales')\n",
    "sales_by_platforms['%_from_total_sales'] = sales_by_platforms['total_sales'] * 100 / sum(sales_by_platforms['total_sales'])\n",
    "sales_by_platforms.plot(kind='bar', y='total_sales', figsize=(15,10))\n",
    "plt.ylabel(\"Продажи\")\n",
    "sales_by_platforms"
   ]
  },
  {
   "cell_type": "markdown",
   "metadata": {},
   "source": [
    "**Выберите платформы с наибольшими суммарными продажами и постройте распределение по годам. Это платформы на которые приходятся более 5% общих продаж.**"
   ]
  },
  {
   "cell_type": "code",
   "execution_count": 18,
   "metadata": {
    "scrolled": false
   },
   "outputs": [
    {
     "data": {
      "text/html": [
       "<div>\n",
       "<style scoped>\n",
       "    .dataframe tbody tr th:only-of-type {\n",
       "        vertical-align: middle;\n",
       "    }\n",
       "\n",
       "    .dataframe tbody tr th {\n",
       "        vertical-align: top;\n",
       "    }\n",
       "\n",
       "    .dataframe thead th {\n",
       "        text-align: right;\n",
       "    }\n",
       "</style>\n",
       "<table border=\"1\" class=\"dataframe\">\n",
       "  <thead>\n",
       "    <tr style=\"text-align: right;\">\n",
       "      <th></th>\n",
       "      <th>total_sales</th>\n",
       "      <th>%_from_total_sales</th>\n",
       "    </tr>\n",
       "    <tr>\n",
       "      <th>platform</th>\n",
       "      <th></th>\n",
       "      <th></th>\n",
       "    </tr>\n",
       "  </thead>\n",
       "  <tbody>\n",
       "    <tr>\n",
       "      <th>PS</th>\n",
       "      <td>730.86</td>\n",
       "      <td>8.197440</td>\n",
       "    </tr>\n",
       "    <tr>\n",
       "      <th>DS</th>\n",
       "      <td>806.12</td>\n",
       "      <td>9.041568</td>\n",
       "    </tr>\n",
       "    <tr>\n",
       "      <th>Wii</th>\n",
       "      <td>907.51</td>\n",
       "      <td>10.178774</td>\n",
       "    </tr>\n",
       "    <tr>\n",
       "      <th>PS3</th>\n",
       "      <td>939.65</td>\n",
       "      <td>10.539262</td>\n",
       "    </tr>\n",
       "    <tr>\n",
       "      <th>X360</th>\n",
       "      <td>971.42</td>\n",
       "      <td>10.895599</td>\n",
       "    </tr>\n",
       "    <tr>\n",
       "      <th>PS2</th>\n",
       "      <td>1255.77</td>\n",
       "      <td>14.084913</td>\n",
       "    </tr>\n",
       "  </tbody>\n",
       "</table>\n",
       "</div>"
      ],
      "text/plain": [
       "          total_sales  %_from_total_sales\n",
       "platform                                 \n",
       "PS             730.86            8.197440\n",
       "DS             806.12            9.041568\n",
       "Wii            907.51           10.178774\n",
       "PS3            939.65           10.539262\n",
       "X360           971.42           10.895599\n",
       "PS2           1255.77           14.084913"
      ]
     },
     "execution_count": 18,
     "metadata": {},
     "output_type": "execute_result"
    },
    {
     "data": {
      "image/png": "[encoded data removed]",
      "text/plain": [
       "<Figure size 432x288 with 1 Axes>"
      ]
     },
     "metadata": {
      "needs_background": "light"
     },
     "output_type": "display_data"
    },
    {
     "data": {
      "image/png": "[encoded data removed]",
      "text/plain": [
       "<Figure size 432x288 with 1 Axes>"
      ]
     },
     "metadata": {
      "needs_background": "light"
     },
     "output_type": "display_data"
    },
    {
     "data": {
      "image/png": "[encoded data removed]",
      "text/plain": [
       "<Figure size 432x288 with 1 Axes>"
      ]
     },
     "metadata": {
      "needs_background": "light"
     },
     "output_type": "display_data"
    },
    {
     "data": {
      "image/png": "[encoded data removed]",
      "text/plain": [
       "<Figure size 432x288 with 1 Axes>"
      ]
     },
     "metadata": {
      "needs_background": "light"
     },
     "output_type": "display_data"
    },
    {
     "data": {
      "image/png": "[encoded data removed]",
      "text/plain": [
       "<Figure size 432x288 with 1 Axes>"
      ]
     },
     "metadata": {
      "needs_background": "light"
     },
     "output_type": "display_data"
    },
    {
     "data": {
      "image/png": "[encoded data removed]",
      "text/plain": [
       "<Figure size 432x288 with 1 Axes>"
      ]
     },
     "metadata": {
      "needs_background": "light"
     },
     "output_type": "display_data"
    }
   ],
   "source": [
    "for platform in sales_by_platforms[\n",
    "    sales_by_platforms['%_from_total_sales'] > 5].index.values:\n",
    "    df[df['platform'] == platform].pivot_table(\n",
    "    index='year_of_release', values='total_sales', aggfunc='sum').plot(kind='bar')\n",
    "    plt.title(platform)\n",
    "\n",
    "sales_by_platforms[sales_by_platforms['%_from_total_sales'] > 5]"
   ]
  },
  {
   "cell_type": "markdown",
   "metadata": {},
   "source": [
    "Согласно полученных данных средний период существования платформ составляет около 10 лет."
   ]
  },
  {
   "cell_type": "markdown",
   "metadata": {},
   "source": [
    "**Возьмите данные за соответствующий актуальный период.**"
   ]
  },
  {
   "cell_type": "markdown",
   "metadata": {},
   "source": [
    "**Актуальный период с 2013 года.**"
   ]
  },
  {
   "cell_type": "code",
   "execution_count": 19,
   "metadata": {},
   "outputs": [
    {
     "data": {
      "text/html": [
       "<div>\n",
       "<style scoped>\n",
       "    .dataframe tbody tr th:only-of-type {\n",
       "        vertical-align: middle;\n",
       "    }\n",
       "\n",
       "    .dataframe tbody tr th {\n",
       "        vertical-align: top;\n",
       "    }\n",
       "\n",
       "    .dataframe thead th {\n",
       "        text-align: right;\n",
       "    }\n",
       "</style>\n",
       "<table border=\"1\" class=\"dataframe\">\n",
       "  <thead>\n",
       "    <tr style=\"text-align: right;\">\n",
       "      <th></th>\n",
       "      <th>name</th>\n",
       "      <th>platform</th>\n",
       "      <th>year_of_release</th>\n",
       "      <th>genre</th>\n",
       "      <th>na_sales</th>\n",
       "      <th>eu_sales</th>\n",
       "      <th>jp_sales</th>\n",
       "      <th>other_sales</th>\n",
       "      <th>critic_score</th>\n",
       "      <th>user_score</th>\n",
       "      <th>rating</th>\n",
       "      <th>total_sales</th>\n",
       "    </tr>\n",
       "  </thead>\n",
       "  <tbody>\n",
       "    <tr>\n",
       "      <th>31</th>\n",
       "      <td>Call of Duty: Black Ops 3</td>\n",
       "      <td>PS4</td>\n",
       "      <td>2015</td>\n",
       "      <td>Shooter</td>\n",
       "      <td>6.03</td>\n",
       "      <td>5.86</td>\n",
       "      <td>0.36</td>\n",
       "      <td>2.38</td>\n",
       "      <td>NaN</td>\n",
       "      <td>NaN</td>\n",
       "      <td>NaN</td>\n",
       "      <td>14.63</td>\n",
       "    </tr>\n",
       "    <tr>\n",
       "      <th>42</th>\n",
       "      <td>Grand Theft Auto V</td>\n",
       "      <td>PS4</td>\n",
       "      <td>2014</td>\n",
       "      <td>Action</td>\n",
       "      <td>3.96</td>\n",
       "      <td>6.31</td>\n",
       "      <td>0.38</td>\n",
       "      <td>1.97</td>\n",
       "      <td>97.0</td>\n",
       "      <td>8.3</td>\n",
       "      <td>M</td>\n",
       "      <td>12.62</td>\n",
       "    </tr>\n",
       "    <tr>\n",
       "      <th>47</th>\n",
       "      <td>Pokemon Omega Ruby/Pokemon Alpha Sapphire</td>\n",
       "      <td>3DS</td>\n",
       "      <td>2014</td>\n",
       "      <td>Role-Playing</td>\n",
       "      <td>4.35</td>\n",
       "      <td>3.49</td>\n",
       "      <td>3.10</td>\n",
       "      <td>0.74</td>\n",
       "      <td>NaN</td>\n",
       "      <td>NaN</td>\n",
       "      <td>NaN</td>\n",
       "      <td>11.68</td>\n",
       "    </tr>\n",
       "    <tr>\n",
       "      <th>77</th>\n",
       "      <td>FIFA 16</td>\n",
       "      <td>PS4</td>\n",
       "      <td>2015</td>\n",
       "      <td>Sports</td>\n",
       "      <td>1.12</td>\n",
       "      <td>6.12</td>\n",
       "      <td>0.06</td>\n",
       "      <td>1.28</td>\n",
       "      <td>82.0</td>\n",
       "      <td>4.3</td>\n",
       "      <td>E</td>\n",
       "      <td>8.58</td>\n",
       "    </tr>\n",
       "    <tr>\n",
       "      <th>87</th>\n",
       "      <td>Star Wars Battlefront (2015)</td>\n",
       "      <td>PS4</td>\n",
       "      <td>2015</td>\n",
       "      <td>Shooter</td>\n",
       "      <td>2.99</td>\n",
       "      <td>3.49</td>\n",
       "      <td>0.22</td>\n",
       "      <td>1.28</td>\n",
       "      <td>NaN</td>\n",
       "      <td>NaN</td>\n",
       "      <td>NaN</td>\n",
       "      <td>7.98</td>\n",
       "    </tr>\n",
       "  </tbody>\n",
       "</table>\n",
       "</div>"
      ],
      "text/plain": [
       "                                         name platform  year_of_release  \\\n",
       "31                  Call of Duty: Black Ops 3      PS4             2015   \n",
       "42                         Grand Theft Auto V      PS4             2014   \n",
       "47  Pokemon Omega Ruby/Pokemon Alpha Sapphire      3DS             2014   \n",
       "77                                    FIFA 16      PS4             2015   \n",
       "87               Star Wars Battlefront (2015)      PS4             2015   \n",
       "\n",
       "           genre  na_sales  eu_sales  jp_sales  other_sales  critic_score  \\\n",
       "31       Shooter      6.03      5.86      0.36         2.38           NaN   \n",
       "42        Action      3.96      6.31      0.38         1.97          97.0   \n",
       "47  Role-Playing      4.35      3.49      3.10         0.74           NaN   \n",
       "77        Sports      1.12      6.12      0.06         1.28          82.0   \n",
       "87       Shooter      2.99      3.49      0.22         1.28           NaN   \n",
       "\n",
       "    user_score rating  total_sales  \n",
       "31         NaN    NaN        14.63  \n",
       "42         8.3      M        12.62  \n",
       "47         NaN    NaN        11.68  \n",
       "77         4.3      E         8.58  \n",
       "87         NaN    NaN         7.98  "
      ]
     },
     "execution_count": 19,
     "metadata": {},
     "output_type": "execute_result"
    }
   ],
   "source": [
    "actual_trend_df = df[df['year_of_release'] > 2013]\n",
    "actual_trend_df.head()"
   ]
  },
  {
   "cell_type": "markdown",
   "metadata": {},
   "source": [
    "**Какие платформы лидируют по продажам, растут или падают? Выберите несколько потенциально прибыльных платформ.**"
   ]
  },
  {
   "cell_type": "code",
   "execution_count": 20,
   "metadata": {},
   "outputs": [
    {
     "data": {
      "text/html": [
       "<div>\n",
       "<style scoped>\n",
       "    .dataframe tbody tr th:only-of-type {\n",
       "        vertical-align: middle;\n",
       "    }\n",
       "\n",
       "    .dataframe tbody tr th {\n",
       "        vertical-align: top;\n",
       "    }\n",
       "\n",
       "    .dataframe thead th {\n",
       "        text-align: right;\n",
       "    }\n",
       "</style>\n",
       "<table border=\"1\" class=\"dataframe\">\n",
       "  <thead>\n",
       "    <tr style=\"text-align: right;\">\n",
       "      <th></th>\n",
       "      <th>total_sales</th>\n",
       "      <th>%_from_total_sales</th>\n",
       "    </tr>\n",
       "    <tr>\n",
       "      <th>platform</th>\n",
       "      <th></th>\n",
       "      <th></th>\n",
       "    </tr>\n",
       "  </thead>\n",
       "  <tbody>\n",
       "    <tr>\n",
       "      <th>PSP</th>\n",
       "      <td>0.36</td>\n",
       "      <td>0.049352</td>\n",
       "    </tr>\n",
       "    <tr>\n",
       "      <th>Wii</th>\n",
       "      <td>5.07</td>\n",
       "      <td>0.695044</td>\n",
       "    </tr>\n",
       "    <tr>\n",
       "      <th>PSV</th>\n",
       "      <td>22.40</td>\n",
       "      <td>3.070807</td>\n",
       "    </tr>\n",
       "    <tr>\n",
       "      <th>PC</th>\n",
       "      <td>27.05</td>\n",
       "      <td>3.708273</td>\n",
       "    </tr>\n",
       "    <tr>\n",
       "      <th>WiiU</th>\n",
       "      <td>42.98</td>\n",
       "      <td>5.892110</td>\n",
       "    </tr>\n",
       "    <tr>\n",
       "      <th>X360</th>\n",
       "      <td>48.22</td>\n",
       "      <td>6.610460</td>\n",
       "    </tr>\n",
       "    <tr>\n",
       "      <th>PS3</th>\n",
       "      <td>68.18</td>\n",
       "      <td>9.346768</td>\n",
       "    </tr>\n",
       "    <tr>\n",
       "      <th>3DS</th>\n",
       "      <td>86.68</td>\n",
       "      <td>11.882925</td>\n",
       "    </tr>\n",
       "    <tr>\n",
       "      <th>XOne</th>\n",
       "      <td>140.36</td>\n",
       "      <td>19.241895</td>\n",
       "    </tr>\n",
       "    <tr>\n",
       "      <th>PS4</th>\n",
       "      <td>288.15</td>\n",
       "      <td>39.502365</td>\n",
       "    </tr>\n",
       "  </tbody>\n",
       "</table>\n",
       "</div>"
      ],
      "text/plain": [
       "          total_sales  %_from_total_sales\n",
       "platform                                 \n",
       "PSP              0.36            0.049352\n",
       "Wii              5.07            0.695044\n",
       "PSV             22.40            3.070807\n",
       "PC              27.05            3.708273\n",
       "WiiU            42.98            5.892110\n",
       "X360            48.22            6.610460\n",
       "PS3             68.18            9.346768\n",
       "3DS             86.68           11.882925\n",
       "XOne           140.36           19.241895\n",
       "PS4            288.15           39.502365"
      ]
     },
     "execution_count": 20,
     "metadata": {},
     "output_type": "execute_result"
    },
    {
     "data": {
      "image/png": "[encoded data removed]",
      "text/plain": [
       "<Figure size 1080x720 with 1 Axes>"
      ]
     },
     "metadata": {
      "needs_background": "light"
     },
     "output_type": "display_data"
    }
   ],
   "source": [
    "actual_sales_by_platforms = actual_trend_df.pivot_table(\n",
    "    index='platform', values='total_sales', aggfunc='sum').sort_values(by='total_sales')\n",
    "actual_sales_by_platforms['%_from_total_sales'] = actual_sales_by_platforms[\n",
    "    'total_sales'] * 100 / sum(actual_sales_by_platforms['total_sales'])\n",
    "actual_sales_by_platforms.plot(kind='bar', y='total_sales', figsize=(15,10))\n",
    "plt.ylabel(\"Продажи\")\n",
    "actual_sales_by_platforms"
   ]
  },
  {
   "cell_type": "code",
   "execution_count": 21,
   "metadata": {
    "scrolled": false
   },
   "outputs": [
    {
     "data": {
      "text/html": [
       "<div>\n",
       "<style scoped>\n",
       "    .dataframe tbody tr th:only-of-type {\n",
       "        vertical-align: middle;\n",
       "    }\n",
       "\n",
       "    .dataframe tbody tr th {\n",
       "        vertical-align: top;\n",
       "    }\n",
       "\n",
       "    .dataframe thead th {\n",
       "        text-align: right;\n",
       "    }\n",
       "</style>\n",
       "<table border=\"1\" class=\"dataframe\">\n",
       "  <thead>\n",
       "    <tr style=\"text-align: right;\">\n",
       "      <th></th>\n",
       "      <th>total_sales</th>\n",
       "      <th>%_from_total_sales</th>\n",
       "    </tr>\n",
       "    <tr>\n",
       "      <th>platform</th>\n",
       "      <th></th>\n",
       "      <th></th>\n",
       "    </tr>\n",
       "  </thead>\n",
       "  <tbody>\n",
       "    <tr>\n",
       "      <th>WiiU</th>\n",
       "      <td>42.98</td>\n",
       "      <td>5.892110</td>\n",
       "    </tr>\n",
       "    <tr>\n",
       "      <th>X360</th>\n",
       "      <td>48.22</td>\n",
       "      <td>6.610460</td>\n",
       "    </tr>\n",
       "    <tr>\n",
       "      <th>PS3</th>\n",
       "      <td>68.18</td>\n",
       "      <td>9.346768</td>\n",
       "    </tr>\n",
       "    <tr>\n",
       "      <th>3DS</th>\n",
       "      <td>86.68</td>\n",
       "      <td>11.882925</td>\n",
       "    </tr>\n",
       "    <tr>\n",
       "      <th>XOne</th>\n",
       "      <td>140.36</td>\n",
       "      <td>19.241895</td>\n",
       "    </tr>\n",
       "    <tr>\n",
       "      <th>PS4</th>\n",
       "      <td>288.15</td>\n",
       "      <td>39.502365</td>\n",
       "    </tr>\n",
       "  </tbody>\n",
       "</table>\n",
       "</div>"
      ],
      "text/plain": [
       "          total_sales  %_from_total_sales\n",
       "platform                                 \n",
       "WiiU            42.98            5.892110\n",
       "X360            48.22            6.610460\n",
       "PS3             68.18            9.346768\n",
       "3DS             86.68           11.882925\n",
       "XOne           140.36           19.241895\n",
       "PS4            288.15           39.502365"
      ]
     },
     "execution_count": 21,
     "metadata": {},
     "output_type": "execute_result"
    },
    {
     "data": {
      "image/png": "[encoded data removed]",
      "text/plain": [
       "<Figure size 432x288 with 1 Axes>"
      ]
     },
     "metadata": {
      "needs_background": "light"
     },
     "output_type": "display_data"
    },
    {
     "data": {
      "image/png": "[encoded data removed]",
      "text/plain": [
       "<Figure size 432x288 with 1 Axes>"
      ]
     },
     "metadata": {
      "needs_background": "light"
     },
     "output_type": "display_data"
    },
    {
     "data": {
      "image/png": "[encoded data removed]",
      "text/plain": [
       "<Figure size 432x288 with 1 Axes>"
      ]
     },
     "metadata": {
      "needs_background": "light"
     },
     "output_type": "display_data"
    },
    {
     "data": {
      "image/png": "[encoded data removed]",
      "text/plain": [
       "<Figure size 432x288 with 1 Axes>"
      ]
     },
     "metadata": {
      "needs_background": "light"
     },
     "output_type": "display_data"
    },
    {
     "data": {
      "image/png": "[encoded data removed]",
      "text/plain": [
       "<Figure size 432x288 with 1 Axes>"
      ]
     },
     "metadata": {
      "needs_background": "light"
     },
     "output_type": "display_data"
    },
    {
     "data": {
      "image/png": "[encoded data removed]",
      "text/plain": [
       "<Figure size 432x288 with 1 Axes>"
      ]
     },
     "metadata": {
      "needs_background": "light"
     },
     "output_type": "display_data"
    }
   ],
   "source": [
    "# выделим платформы на которые приходятся более 5% общих продаж в актуальный период.\n",
    "top_actual_sales_by_platforms = actual_sales_by_platforms[\n",
    "    actual_sales_by_platforms['%_from_total_sales'] > 5]\n",
    "for platform in top_actual_sales_by_platforms.index.values:\n",
    "    actual_trend_df[actual_trend_df['platform'] == platform].pivot_table(\n",
    "        index='year_of_release', values='total_sales', aggfunc='sum').plot(kind='bar')\n",
    "    plt.title(platform)\n",
    "    \n",
    "top_actual_sales_by_platforms"
   ]
  },
  {
   "cell_type": "markdown",
   "metadata": {},
   "source": [
    "Все платформы из актуального периода падают по количеству продаж, возможно кроме XOne & PS4.\n",
    "\n",
    "Затрудняюсь судить о прибыльности платформ, т.к. нет инфо по доходам и расходам в денежном выражении."
   ]
  },
  {
   "cell_type": "markdown",
   "metadata": {},
   "source": [
    "**Постройте график «ящик с усами» по глобальным продажам игр в разбивке по платформам.**"
   ]
  },
  {
   "cell_type": "code",
   "execution_count": 22,
   "metadata": {},
   "outputs": [
    {
     "data": {
      "text/html": [
       "<div>\n",
       "<style scoped>\n",
       "    .dataframe tbody tr th:only-of-type {\n",
       "        vertical-align: middle;\n",
       "    }\n",
       "\n",
       "    .dataframe tbody tr th {\n",
       "        vertical-align: top;\n",
       "    }\n",
       "\n",
       "    .dataframe thead th {\n",
       "        text-align: right;\n",
       "    }\n",
       "</style>\n",
       "<table border=\"1\" class=\"dataframe\">\n",
       "  <thead>\n",
       "    <tr style=\"text-align: right;\">\n",
       "      <th>platform</th>\n",
       "      <th>3DS</th>\n",
       "      <th>PS3</th>\n",
       "      <th>PS4</th>\n",
       "      <th>WiiU</th>\n",
       "      <th>X360</th>\n",
       "      <th>XOne</th>\n",
       "    </tr>\n",
       "  </thead>\n",
       "  <tbody>\n",
       "    <tr>\n",
       "      <th>count</th>\n",
       "      <td>212.000000</td>\n",
       "      <td>219.000000</td>\n",
       "      <td>376.000000</td>\n",
       "      <td>73.000000</td>\n",
       "      <td>111.000000</td>\n",
       "      <td>228.000000</td>\n",
       "    </tr>\n",
       "    <tr>\n",
       "      <th>mean</th>\n",
       "      <td>0.408868</td>\n",
       "      <td>0.311324</td>\n",
       "      <td>0.766356</td>\n",
       "      <td>0.588767</td>\n",
       "      <td>0.434414</td>\n",
       "      <td>0.615614</td>\n",
       "    </tr>\n",
       "    <tr>\n",
       "      <th>std</th>\n",
       "      <td>1.188368</td>\n",
       "      <td>0.633059</td>\n",
       "      <td>1.614969</td>\n",
       "      <td>1.161467</td>\n",
       "      <td>0.628967</td>\n",
       "      <td>1.046513</td>\n",
       "    </tr>\n",
       "    <tr>\n",
       "      <th>min</th>\n",
       "      <td>0.010000</td>\n",
       "      <td>0.010000</td>\n",
       "      <td>0.010000</td>\n",
       "      <td>0.010000</td>\n",
       "      <td>0.010000</td>\n",
       "      <td>0.010000</td>\n",
       "    </tr>\n",
       "    <tr>\n",
       "      <th>25%</th>\n",
       "      <td>0.030000</td>\n",
       "      <td>0.040000</td>\n",
       "      <td>0.057500</td>\n",
       "      <td>0.050000</td>\n",
       "      <td>0.070000</td>\n",
       "      <td>0.050000</td>\n",
       "    </tr>\n",
       "    <tr>\n",
       "      <th>50%</th>\n",
       "      <td>0.090000</td>\n",
       "      <td>0.110000</td>\n",
       "      <td>0.185000</td>\n",
       "      <td>0.190000</td>\n",
       "      <td>0.180000</td>\n",
       "      <td>0.205000</td>\n",
       "    </tr>\n",
       "    <tr>\n",
       "      <th>75%</th>\n",
       "      <td>0.250000</td>\n",
       "      <td>0.325000</td>\n",
       "      <td>0.690000</td>\n",
       "      <td>0.570000</td>\n",
       "      <td>0.505000</td>\n",
       "      <td>0.632500</td>\n",
       "    </tr>\n",
       "    <tr>\n",
       "      <th>max</th>\n",
       "      <td>11.680000</td>\n",
       "      <td>5.270000</td>\n",
       "      <td>14.630000</td>\n",
       "      <td>7.090000</td>\n",
       "      <td>4.280000</td>\n",
       "      <td>7.390000</td>\n",
       "    </tr>\n",
       "  </tbody>\n",
       "</table>\n",
       "</div>"
      ],
      "text/plain": [
       "platform         3DS         PS3         PS4       WiiU        X360  \\\n",
       "count     212.000000  219.000000  376.000000  73.000000  111.000000   \n",
       "mean        0.408868    0.311324    0.766356   0.588767    0.434414   \n",
       "std         1.188368    0.633059    1.614969   1.161467    0.628967   \n",
       "min         0.010000    0.010000    0.010000   0.010000    0.010000   \n",
       "25%         0.030000    0.040000    0.057500   0.050000    0.070000   \n",
       "50%         0.090000    0.110000    0.185000   0.190000    0.180000   \n",
       "75%         0.250000    0.325000    0.690000   0.570000    0.505000   \n",
       "max        11.680000    5.270000   14.630000   7.090000    4.280000   \n",
       "\n",
       "platform        XOne  \n",
       "count     228.000000  \n",
       "mean        0.615614  \n",
       "std         1.046513  \n",
       "min         0.010000  \n",
       "25%         0.050000  \n",
       "50%         0.205000  \n",
       "75%         0.632500  \n",
       "max         7.390000  "
      ]
     },
     "execution_count": 22,
     "metadata": {},
     "output_type": "execute_result"
    },
    {
     "data": {
      "image/png": "[encoded data removed]",
      "text/plain": [
       "<Figure size 1440x720 with 1 Axes>"
      ]
     },
     "metadata": {
      "needs_background": "light"
     },
     "output_type": "display_data"
    }
   ],
   "source": [
    "top_actual_trend_df = actual_trend_df[actual_trend_df['platform'].isin(\n",
    "    top_actual_sales_by_platforms.index.values)]\n",
    "plt.figure(figsize=(20,10))\n",
    "sns.boxplot(data=top_actual_trend_df, x='platform', y='total_sales')\n",
    "plt.ylim(0, 2)\n",
    "plt.ylabel('total_sales',fontsize=10);\n",
    "top_actual_trend_df.groupby('platform')['total_sales'].describe().T"
   ]
  },
  {
   "cell_type": "markdown",
   "metadata": {},
   "source": [
    "Тройка лидеров по медиане XOne, WiiU, PS4, "
   ]
  },
  {
   "cell_type": "markdown",
   "metadata": {},
   "source": [
    "**Посмотрите, как влияют на продажи внутри одной популярной платформы отзывы пользователей и критиков. Постройте диаграмму рассеяния и посчитайте корреляцию между отзывами и продажами.**"
   ]
  },
  {
   "cell_type": "code",
   "execution_count": 23,
   "metadata": {},
   "outputs": [],
   "source": [
    "# формула, которая рисует диаграмму рассеивания и считает корреляцию продаж от отзывов пользователей и критиков.\n",
    "def corr_and_scatter(platform_name):\n",
    "    platform = top_actual_trend_df[top_actual_trend_df['platform'] == platform_name]\n",
    "    fig, ax = plt.subplots(1 ,2, figsize=(15,5))\n",
    "    fig.suptitle(platform_name, fontsize=20)\n",
    "    platform.plot(x='user_score', y='total_sales', kind='scatter', ax=ax[0]);\n",
    "    platform.plot(x='critic_score', y='total_sales', kind='scatter', ax=ax[1]);\n",
    "    plt.show()\n",
    "    print('Корреляция продаж внутри платформы', platform_name,'с отзывами:\\nпользователей ', platform[\n",
    "        'total_sales'].corr(platform['user_score']).round(3), '\\nкритиков', platform['total_sales'].corr(platform['critic_score']).round(3))"
   ]
  },
  {
   "cell_type": "code",
   "execution_count": 24,
   "metadata": {
    "scrolled": false
   },
   "outputs": [
    {
     "data": {
      "image/png": "[encoded data removed]",
      "text/plain": [
       "<Figure size 1080x360 with 2 Axes>"
      ]
     },
     "metadata": {
      "needs_background": "light"
     },
     "output_type": "display_data"
    },
    {
     "name": "stdout",
     "output_type": "stream",
     "text": [
      "Корреляция продаж внутри платформы WiiU с отзывами:\n",
      "пользователей  0.408 \n",
      "критиков 0.37\n"
     ]
    },
    {
     "data": {
      "image/png": "[encoded data removed]",
      "text/plain": [
       "<Figure size 1080x360 with 2 Axes>"
      ]
     },
     "metadata": {
      "needs_background": "light"
     },
     "output_type": "display_data"
    },
    {
     "name": "stdout",
     "output_type": "stream",
     "text": [
      "Корреляция продаж внутри платформы X360 с отзывами:\n",
      "пользователей  -0.138 \n",
      "критиков 0.526\n"
     ]
    },
    {
     "data": {
      "image/png": "[encoded data removed]",
      "text/plain": [
       "<Figure size 1080x360 with 2 Axes>"
      ]
     },
     "metadata": {
      "needs_background": "light"
     },
     "output_type": "display_data"
    },
    {
     "name": "stdout",
     "output_type": "stream",
     "text": [
      "Корреляция продаж внутри платформы PS3 с отзывами:\n",
      "пользователей  -0.167 \n",
      "критиков 0.447\n"
     ]
    },
    {
     "data": {
      "image/png": "[encoded data removed]",
      "text/plain": [
       "<Figure size 1080x360 with 2 Axes>"
      ]
     },
     "metadata": {
      "needs_background": "light"
     },
     "output_type": "display_data"
    },
    {
     "name": "stdout",
     "output_type": "stream",
     "text": [
      "Корреляция продаж внутри платформы 3DS с отзывами:\n",
      "пользователей  0.215 \n",
      "критиков 0.314\n"
     ]
    },
    {
     "data": {
      "image/png": "[encoded data removed]",
      "text/plain": [
       "<Figure size 1080x360 with 2 Axes>"
      ]
     },
     "metadata": {
      "needs_background": "light"
     },
     "output_type": "display_data"
    },
    {
     "name": "stdout",
     "output_type": "stream",
     "text": [
      "Корреляция продаж внутри платформы XOne с отзывами:\n",
      "пользователей  -0.07 \n",
      "критиков 0.429\n"
     ]
    },
    {
     "data": {
      "image/png": "[encoded data removed]",
      "text/plain": [
       "<Figure size 1080x360 with 2 Axes>"
      ]
     },
     "metadata": {
      "needs_background": "light"
     },
     "output_type": "display_data"
    },
    {
     "name": "stdout",
     "output_type": "stream",
     "text": [
      "Корреляция продаж внутри платформы PS4 с отзывами:\n",
      "пользователей  -0.04 \n",
      "критиков 0.403\n"
     ]
    }
   ],
   "source": [
    "for platform in top_actual_sales_by_platforms.index.values:\n",
    "    corr_and_scatter(platform)"
   ]
  },
  {
   "cell_type": "markdown",
   "metadata": {},
   "source": [
    "Во всех топовых платформах корреляция продаж по отзывам пользователей практически отсутствует, кроме wiiu corr=0.4, при этом корреляция по отзывам критиков колеблется от 0,314 до 0,526, что свидетельствует о ее низком уровне."
   ]
  },
  {
   "cell_type": "markdown",
   "metadata": {},
   "source": [
    "**Посмотрите на общее распределение игр по жанрам.**"
   ]
  },
  {
   "cell_type": "code",
   "execution_count": 25,
   "metadata": {},
   "outputs": [
    {
     "data": {
      "text/html": [
       "<div>\n",
       "<style scoped>\n",
       "    .dataframe tbody tr th:only-of-type {\n",
       "        vertical-align: middle;\n",
       "    }\n",
       "\n",
       "    .dataframe tbody tr th {\n",
       "        vertical-align: top;\n",
       "    }\n",
       "\n",
       "    .dataframe thead th {\n",
       "        text-align: right;\n",
       "    }\n",
       "</style>\n",
       "<table border=\"1\" class=\"dataframe\">\n",
       "  <thead>\n",
       "    <tr style=\"text-align: right;\">\n",
       "      <th></th>\n",
       "      <th>mean_by_total_sales</th>\n",
       "      <th>%_from_mean</th>\n",
       "    </tr>\n",
       "    <tr>\n",
       "      <th>genre</th>\n",
       "      <th></th>\n",
       "      <th></th>\n",
       "    </tr>\n",
       "  </thead>\n",
       "  <tbody>\n",
       "    <tr>\n",
       "      <th>Adventure</th>\n",
       "      <td>0.094865</td>\n",
       "      <td>1.848415</td>\n",
       "    </tr>\n",
       "    <tr>\n",
       "      <th>Strategy</th>\n",
       "      <td>0.107027</td>\n",
       "      <td>2.085392</td>\n",
       "    </tr>\n",
       "    <tr>\n",
       "      <th>Puzzle</th>\n",
       "      <td>0.157857</td>\n",
       "      <td>3.075802</td>\n",
       "    </tr>\n",
       "    <tr>\n",
       "      <th>Simulation</th>\n",
       "      <td>0.298409</td>\n",
       "      <td>5.814418</td>\n",
       "    </tr>\n",
       "    <tr>\n",
       "      <th>Action</th>\n",
       "      <td>0.322068</td>\n",
       "      <td>6.275402</td>\n",
       "    </tr>\n",
       "    <tr>\n",
       "      <th>Misc</th>\n",
       "      <td>0.332301</td>\n",
       "      <td>6.474790</td>\n",
       "    </tr>\n",
       "    <tr>\n",
       "      <th>Racing</th>\n",
       "      <td>0.398841</td>\n",
       "      <td>7.771297</td>\n",
       "    </tr>\n",
       "    <tr>\n",
       "      <th>Role-Playing</th>\n",
       "      <td>0.459005</td>\n",
       "      <td>8.943575</td>\n",
       "    </tr>\n",
       "    <tr>\n",
       "      <th>Fighting</th>\n",
       "      <td>0.470333</td>\n",
       "      <td>9.164313</td>\n",
       "    </tr>\n",
       "    <tr>\n",
       "      <th>Platform</th>\n",
       "      <td>0.476053</td>\n",
       "      <td>9.275752</td>\n",
       "    </tr>\n",
       "    <tr>\n",
       "      <th>Sports</th>\n",
       "      <td>0.680000</td>\n",
       "      <td>13.249610</td>\n",
       "    </tr>\n",
       "    <tr>\n",
       "      <th>Shooter</th>\n",
       "      <td>1.335469</td>\n",
       "      <td>26.021235</td>\n",
       "    </tr>\n",
       "  </tbody>\n",
       "</table>\n",
       "</div>"
      ],
      "text/plain": [
       "              mean_by_total_sales  %_from_mean\n",
       "genre                                         \n",
       "Adventure                0.094865     1.848415\n",
       "Strategy                 0.107027     2.085392\n",
       "Puzzle                   0.157857     3.075802\n",
       "Simulation               0.298409     5.814418\n",
       "Action                   0.322068     6.275402\n",
       "Misc                     0.332301     6.474790\n",
       "Racing                   0.398841     7.771297\n",
       "Role-Playing             0.459005     8.943575\n",
       "Fighting                 0.470333     9.164313\n",
       "Platform                 0.476053     9.275752\n",
       "Sports                   0.680000    13.249610\n",
       "Shooter                  1.335469    26.021235"
      ]
     },
     "execution_count": 25,
     "metadata": {},
     "output_type": "execute_result"
    },
    {
     "data": {
      "image/png": "[encoded data removed]",
      "text/plain": [
       "<Figure size 1080x720 with 1 Axes>"
      ]
     },
     "metadata": {
      "needs_background": "light"
     },
     "output_type": "display_data"
    }
   ],
   "source": [
    "actual_sales_by_genre = actual_trend_df.pivot_table(\n",
    "    index='genre', values='total_sales', aggfunc='mean').sort_values(by='total_sales')\n",
    "actual_sales_by_genre = actual_sales_by_genre.rename(\n",
    "    columns={'total_sales': 'mean_by_total_sales'})\n",
    "actual_sales_by_genre['%_from_mean'] = actual_sales_by_genre[\n",
    "    'mean_by_total_sales'] * 100 / sum(actual_sales_by_genre['mean_by_total_sales'])\n",
    "actual_sales_by_genre.plot(kind='bar', y='mean_by_total_sales', figsize=(15,10))\n",
    "plt.ylabel(\"Продажи\")\n",
    "actual_sales_by_genre"
   ]
  },
  {
   "cell_type": "code",
   "execution_count": 26,
   "metadata": {},
   "outputs": [
    {
     "data": {
      "text/html": [
       "<div>\n",
       "<style scoped>\n",
       "    .dataframe tbody tr th:only-of-type {\n",
       "        vertical-align: middle;\n",
       "    }\n",
       "\n",
       "    .dataframe tbody tr th {\n",
       "        vertical-align: top;\n",
       "    }\n",
       "\n",
       "    .dataframe thead th {\n",
       "        text-align: right;\n",
       "    }\n",
       "</style>\n",
       "<table border=\"1\" class=\"dataframe\">\n",
       "  <thead>\n",
       "    <tr style=\"text-align: right;\">\n",
       "      <th></th>\n",
       "      <th>mean_by_total_sales</th>\n",
       "      <th>%_from_mean</th>\n",
       "    </tr>\n",
       "    <tr>\n",
       "      <th>genre</th>\n",
       "      <th></th>\n",
       "      <th></th>\n",
       "    </tr>\n",
       "  </thead>\n",
       "  <tbody>\n",
       "    <tr>\n",
       "      <th>Racing</th>\n",
       "      <td>0.398841</td>\n",
       "      <td>7.771297</td>\n",
       "    </tr>\n",
       "    <tr>\n",
       "      <th>Role-Playing</th>\n",
       "      <td>0.459005</td>\n",
       "      <td>8.943575</td>\n",
       "    </tr>\n",
       "    <tr>\n",
       "      <th>Fighting</th>\n",
       "      <td>0.470333</td>\n",
       "      <td>9.164313</td>\n",
       "    </tr>\n",
       "    <tr>\n",
       "      <th>Platform</th>\n",
       "      <td>0.476053</td>\n",
       "      <td>9.275752</td>\n",
       "    </tr>\n",
       "    <tr>\n",
       "      <th>Sports</th>\n",
       "      <td>0.680000</td>\n",
       "      <td>13.249610</td>\n",
       "    </tr>\n",
       "    <tr>\n",
       "      <th>Shooter</th>\n",
       "      <td>1.335469</td>\n",
       "      <td>26.021235</td>\n",
       "    </tr>\n",
       "  </tbody>\n",
       "</table>\n",
       "</div>"
      ],
      "text/plain": [
       "              mean_by_total_sales  %_from_mean\n",
       "genre                                         \n",
       "Racing                   0.398841     7.771297\n",
       "Role-Playing             0.459005     8.943575\n",
       "Fighting                 0.470333     9.164313\n",
       "Platform                 0.476053     9.275752\n",
       "Sports                   0.680000    13.249610\n",
       "Shooter                  1.335469    26.021235"
      ]
     },
     "metadata": {},
     "output_type": "display_data"
    },
    {
     "name": "stdout",
     "output_type": "stream",
     "text": [
      "Доля продаж лидеров по жанрам 74.0\n"
     ]
    }
   ],
   "source": [
    "# лидеры продаж по жанрам\n",
    "top = actual_sales_by_genre[actual_sales_by_genre['%_from_mean'] > 7]\n",
    "display(top)\n",
    "print('Доля продаж лидеров по жанрам', sum(top['%_from_mean'].round()))"
   ]
  },
  {
   "cell_type": "markdown",
   "metadata": {},
   "source": [
    "Самый популярный жанр Shooter 26% продаж, в конце рейтинга Adventure 1.8%.\n",
    "\n",
    "Выше представлены жанры занимающие свыше 7% от средних продаж, сумарная доля которых составляет 74%. \n",
    "\n",
    "Затрудняюсь судить о прибыльности игр по жанрам т.к. нет информации о доходах и расходах в денежном выражении."
   ]
  },
  {
   "cell_type": "markdown",
   "metadata": {},
   "source": [
    "## Составьте портрет пользователя каждого региона"
   ]
  },
  {
   "cell_type": "markdown",
   "metadata": {},
   "source": [
    "**Самые популярные платформы (топ-5).**"
   ]
  },
  {
   "cell_type": "code",
   "execution_count": 27,
   "metadata": {
    "scrolled": false
   },
   "outputs": [
    {
     "name": "stdout",
     "output_type": "stream",
     "text": [
      "Самые популярные платформы (топ-5) по регионам\n"
     ]
    },
    {
     "data": {
      "text/html": [
       "<div>\n",
       "<style scoped>\n",
       "    .dataframe tbody tr th:only-of-type {\n",
       "        vertical-align: middle;\n",
       "    }\n",
       "\n",
       "    .dataframe tbody tr th {\n",
       "        vertical-align: top;\n",
       "    }\n",
       "\n",
       "    .dataframe thead th {\n",
       "        text-align: right;\n",
       "    }\n",
       "</style>\n",
       "<table border=\"1\" class=\"dataframe\">\n",
       "  <thead>\n",
       "    <tr style=\"text-align: right;\">\n",
       "      <th></th>\n",
       "      <th>na_sales</th>\n",
       "      <th>share_in_%</th>\n",
       "    </tr>\n",
       "    <tr>\n",
       "      <th>platform</th>\n",
       "      <th></th>\n",
       "      <th></th>\n",
       "    </tr>\n",
       "  </thead>\n",
       "  <tbody>\n",
       "    <tr>\n",
       "      <th>Wii</th>\n",
       "      <td>0.189091</td>\n",
       "      <td>14.239209</td>\n",
       "    </tr>\n",
       "    <tr>\n",
       "      <th>X360</th>\n",
       "      <td>0.254955</td>\n",
       "      <td>19.199003</td>\n",
       "    </tr>\n",
       "    <tr>\n",
       "      <th>PS4</th>\n",
       "      <td>0.262261</td>\n",
       "      <td>19.749147</td>\n",
       "    </tr>\n",
       "    <tr>\n",
       "      <th>WiiU</th>\n",
       "      <td>0.265205</td>\n",
       "      <td>19.970903</td>\n",
       "    </tr>\n",
       "    <tr>\n",
       "      <th>XOne</th>\n",
       "      <td>0.356447</td>\n",
       "      <td>26.841738</td>\n",
       "    </tr>\n",
       "  </tbody>\n",
       "</table>\n",
       "</div>"
      ],
      "text/plain": [
       "          na_sales  share_in_%\n",
       "platform                      \n",
       "Wii       0.189091   14.239209\n",
       "X360      0.254955   19.199003\n",
       "PS4       0.262261   19.749147\n",
       "WiiU      0.265205   19.970903\n",
       "XOne      0.356447   26.841738"
      ]
     },
     "metadata": {},
     "output_type": "display_data"
    },
    {
     "name": "stdout",
     "output_type": "stream",
     "text": [
      "\n",
      "\n"
     ]
    },
    {
     "data": {
      "text/html": [
       "<div>\n",
       "<style scoped>\n",
       "    .dataframe tbody tr th:only-of-type {\n",
       "        vertical-align: middle;\n",
       "    }\n",
       "\n",
       "    .dataframe tbody tr th {\n",
       "        vertical-align: top;\n",
       "    }\n",
       "\n",
       "    .dataframe thead th {\n",
       "        text-align: right;\n",
       "    }\n",
       "</style>\n",
       "<table border=\"1\" class=\"dataframe\">\n",
       "  <thead>\n",
       "    <tr style=\"text-align: right;\">\n",
       "      <th></th>\n",
       "      <th>eu_sales</th>\n",
       "      <th>share_in_%</th>\n",
       "    </tr>\n",
       "    <tr>\n",
       "      <th>platform</th>\n",
       "      <th></th>\n",
       "      <th></th>\n",
       "    </tr>\n",
       "  </thead>\n",
       "  <tbody>\n",
       "    <tr>\n",
       "      <th>X360</th>\n",
       "      <td>0.139550</td>\n",
       "      <td>12.642155</td>\n",
       "    </tr>\n",
       "    <tr>\n",
       "      <th>WiiU</th>\n",
       "      <td>0.180137</td>\n",
       "      <td>16.319076</td>\n",
       "    </tr>\n",
       "    <tr>\n",
       "      <th>XOne</th>\n",
       "      <td>0.202851</td>\n",
       "      <td>18.376787</td>\n",
       "    </tr>\n",
       "    <tr>\n",
       "      <th>Wii</th>\n",
       "      <td>0.235455</td>\n",
       "      <td>21.330437</td>\n",
       "    </tr>\n",
       "    <tr>\n",
       "      <th>PS4</th>\n",
       "      <td>0.345851</td>\n",
       "      <td>31.331544</td>\n",
       "    </tr>\n",
       "  </tbody>\n",
       "</table>\n",
       "</div>"
      ],
      "text/plain": [
       "          eu_sales  share_in_%\n",
       "platform                      \n",
       "X360      0.139550   12.642155\n",
       "WiiU      0.180137   16.319076\n",
       "XOne      0.202851   18.376787\n",
       "Wii       0.235455   21.330437\n",
       "PS4       0.345851   31.331544"
      ]
     },
     "metadata": {},
     "output_type": "display_data"
    },
    {
     "name": "stdout",
     "output_type": "stream",
     "text": [
      "\n",
      "\n"
     ]
    },
    {
     "data": {
      "text/html": [
       "<div>\n",
       "<style scoped>\n",
       "    .dataframe tbody tr th:only-of-type {\n",
       "        vertical-align: middle;\n",
       "    }\n",
       "\n",
       "    .dataframe tbody tr th {\n",
       "        vertical-align: top;\n",
       "    }\n",
       "\n",
       "    .dataframe thead th {\n",
       "        text-align: right;\n",
       "    }\n",
       "</style>\n",
       "<table border=\"1\" class=\"dataframe\">\n",
       "  <thead>\n",
       "    <tr style=\"text-align: right;\">\n",
       "      <th></th>\n",
       "      <th>jp_sales</th>\n",
       "      <th>share_in_%</th>\n",
       "    </tr>\n",
       "    <tr>\n",
       "      <th>platform</th>\n",
       "      <th></th>\n",
       "      <th></th>\n",
       "    </tr>\n",
       "  </thead>\n",
       "  <tbody>\n",
       "    <tr>\n",
       "      <th>PS4</th>\n",
       "      <td>0.039947</td>\n",
       "      <td>8.891214</td>\n",
       "    </tr>\n",
       "    <tr>\n",
       "      <th>PSV</th>\n",
       "      <td>0.049288</td>\n",
       "      <td>10.970373</td>\n",
       "    </tr>\n",
       "    <tr>\n",
       "      <th>PS3</th>\n",
       "      <td>0.051233</td>\n",
       "      <td>11.403226</td>\n",
       "    </tr>\n",
       "    <tr>\n",
       "      <th>WiiU</th>\n",
       "      <td>0.100137</td>\n",
       "      <td>22.288124</td>\n",
       "    </tr>\n",
       "    <tr>\n",
       "      <th>3DS</th>\n",
       "      <td>0.208679</td>\n",
       "      <td>46.447063</td>\n",
       "    </tr>\n",
       "  </tbody>\n",
       "</table>\n",
       "</div>"
      ],
      "text/plain": [
       "          jp_sales  share_in_%\n",
       "platform                      \n",
       "PS4       0.039947    8.891214\n",
       "PSV       0.049288   10.970373\n",
       "PS3       0.051233   11.403226\n",
       "WiiU      0.100137   22.288124\n",
       "3DS       0.208679   46.447063"
      ]
     },
     "metadata": {},
     "output_type": "display_data"
    },
    {
     "name": "stdout",
     "output_type": "stream",
     "text": [
      "\n",
      "\n",
      "Самые популярные жанры (топ-5) по регионам\n"
     ]
    },
    {
     "data": {
      "text/html": [
       "<div>\n",
       "<style scoped>\n",
       "    .dataframe tbody tr th:only-of-type {\n",
       "        vertical-align: middle;\n",
       "    }\n",
       "\n",
       "    .dataframe tbody tr th {\n",
       "        vertical-align: top;\n",
       "    }\n",
       "\n",
       "    .dataframe thead th {\n",
       "        text-align: right;\n",
       "    }\n",
       "</style>\n",
       "<table border=\"1\" class=\"dataframe\">\n",
       "  <thead>\n",
       "    <tr style=\"text-align: right;\">\n",
       "      <th></th>\n",
       "      <th>na_sales</th>\n",
       "      <th>share_in_%</th>\n",
       "    </tr>\n",
       "    <tr>\n",
       "      <th>genre</th>\n",
       "      <th></th>\n",
       "      <th></th>\n",
       "    </tr>\n",
       "  </thead>\n",
       "  <tbody>\n",
       "    <tr>\n",
       "      <th>Role-Playing</th>\n",
       "      <td>0.151448</td>\n",
       "      <td>10.508723</td>\n",
       "    </tr>\n",
       "    <tr>\n",
       "      <th>Platform</th>\n",
       "      <td>0.178684</td>\n",
       "      <td>12.398601</td>\n",
       "    </tr>\n",
       "    <tr>\n",
       "      <th>Fighting</th>\n",
       "      <td>0.207167</td>\n",
       "      <td>14.374951</td>\n",
       "    </tr>\n",
       "    <tr>\n",
       "      <th>Sports</th>\n",
       "      <td>0.286522</td>\n",
       "      <td>19.881268</td>\n",
       "    </tr>\n",
       "    <tr>\n",
       "      <th>Shooter</th>\n",
       "      <td>0.617344</td>\n",
       "      <td>42.836458</td>\n",
       "    </tr>\n",
       "  </tbody>\n",
       "</table>\n",
       "</div>"
      ],
      "text/plain": [
       "              na_sales  share_in_%\n",
       "genre                             \n",
       "Role-Playing  0.151448   10.508723\n",
       "Platform      0.178684   12.398601\n",
       "Fighting      0.207167   14.374951\n",
       "Sports        0.286522   19.881268\n",
       "Shooter       0.617344   42.836458"
      ]
     },
     "metadata": {},
     "output_type": "display_data"
    },
    {
     "name": "stdout",
     "output_type": "stream",
     "text": [
      "\n",
      "\n"
     ]
    },
    {
     "data": {
      "text/html": [
       "<div>\n",
       "<style scoped>\n",
       "    .dataframe tbody tr th:only-of-type {\n",
       "        vertical-align: middle;\n",
       "    }\n",
       "\n",
       "    .dataframe tbody tr th {\n",
       "        vertical-align: top;\n",
       "    }\n",
       "\n",
       "    .dataframe thead th {\n",
       "        text-align: right;\n",
       "    }\n",
       "</style>\n",
       "<table border=\"1\" class=\"dataframe\">\n",
       "  <thead>\n",
       "    <tr style=\"text-align: right;\">\n",
       "      <th></th>\n",
       "      <th>eu_sales</th>\n",
       "      <th>share_in_%</th>\n",
       "    </tr>\n",
       "    <tr>\n",
       "      <th>genre</th>\n",
       "      <th></th>\n",
       "      <th></th>\n",
       "    </tr>\n",
       "  </thead>\n",
       "  <tbody>\n",
       "    <tr>\n",
       "      <th>Simulation</th>\n",
       "      <td>0.165909</td>\n",
       "      <td>12.330194</td>\n",
       "    </tr>\n",
       "    <tr>\n",
       "      <th>Platform</th>\n",
       "      <td>0.178947</td>\n",
       "      <td>13.299186</td>\n",
       "    </tr>\n",
       "    <tr>\n",
       "      <th>Racing</th>\n",
       "      <td>0.204783</td>\n",
       "      <td>15.219234</td>\n",
       "    </tr>\n",
       "    <tr>\n",
       "      <th>Sports</th>\n",
       "      <td>0.284037</td>\n",
       "      <td>21.109359</td>\n",
       "    </tr>\n",
       "    <tr>\n",
       "      <th>Shooter</th>\n",
       "      <td>0.511875</td>\n",
       "      <td>38.042027</td>\n",
       "    </tr>\n",
       "  </tbody>\n",
       "</table>\n",
       "</div>"
      ],
      "text/plain": [
       "            eu_sales  share_in_%\n",
       "genre                           \n",
       "Simulation  0.165909   12.330194\n",
       "Platform    0.178947   13.299186\n",
       "Racing      0.204783   15.219234\n",
       "Sports      0.284037   21.109359\n",
       "Shooter     0.511875   38.042027"
      ]
     },
     "metadata": {},
     "output_type": "display_data"
    },
    {
     "name": "stdout",
     "output_type": "stream",
     "text": [
      "\n",
      "\n"
     ]
    },
    {
     "data": {
      "text/html": [
       "<div>\n",
       "<style scoped>\n",
       "    .dataframe tbody tr th:only-of-type {\n",
       "        vertical-align: middle;\n",
       "    }\n",
       "\n",
       "    .dataframe tbody tr th {\n",
       "        vertical-align: top;\n",
       "    }\n",
       "\n",
       "    .dataframe thead th {\n",
       "        text-align: right;\n",
       "    }\n",
       "</style>\n",
       "<table border=\"1\" class=\"dataframe\">\n",
       "  <thead>\n",
       "    <tr style=\"text-align: right;\">\n",
       "      <th></th>\n",
       "      <th>jp_sales</th>\n",
       "      <th>share_in_%</th>\n",
       "    </tr>\n",
       "    <tr>\n",
       "      <th>genre</th>\n",
       "      <th></th>\n",
       "      <th></th>\n",
       "    </tr>\n",
       "  </thead>\n",
       "  <tbody>\n",
       "    <tr>\n",
       "      <th>Simulation</th>\n",
       "      <td>0.052500</td>\n",
       "      <td>12.017025</td>\n",
       "    </tr>\n",
       "    <tr>\n",
       "      <th>Puzzle</th>\n",
       "      <td>0.066429</td>\n",
       "      <td>15.205215</td>\n",
       "    </tr>\n",
       "    <tr>\n",
       "      <th>Platform</th>\n",
       "      <td>0.070789</td>\n",
       "      <td>16.203407</td>\n",
       "    </tr>\n",
       "    <tr>\n",
       "      <th>Fighting</th>\n",
       "      <td>0.106167</td>\n",
       "      <td>24.301094</td>\n",
       "    </tr>\n",
       "    <tr>\n",
       "      <th>Role-Playing</th>\n",
       "      <td>0.140995</td>\n",
       "      <td>32.273259</td>\n",
       "    </tr>\n",
       "  </tbody>\n",
       "</table>\n",
       "</div>"
      ],
      "text/plain": [
       "              jp_sales  share_in_%\n",
       "genre                             \n",
       "Simulation    0.052500   12.017025\n",
       "Puzzle        0.066429   15.205215\n",
       "Platform      0.070789   16.203407\n",
       "Fighting      0.106167   24.301094\n",
       "Role-Playing  0.140995   32.273259"
      ]
     },
     "metadata": {},
     "output_type": "display_data"
    },
    {
     "name": "stdout",
     "output_type": "stream",
     "text": [
      "\n",
      "\n",
      "Рейтинг ESRB по регионам\n"
     ]
    },
    {
     "data": {
      "text/html": [
       "<div>\n",
       "<style scoped>\n",
       "    .dataframe tbody tr th:only-of-type {\n",
       "        vertical-align: middle;\n",
       "    }\n",
       "\n",
       "    .dataframe tbody tr th {\n",
       "        vertical-align: top;\n",
       "    }\n",
       "\n",
       "    .dataframe thead th {\n",
       "        text-align: right;\n",
       "    }\n",
       "</style>\n",
       "<table border=\"1\" class=\"dataframe\">\n",
       "  <thead>\n",
       "    <tr style=\"text-align: right;\">\n",
       "      <th></th>\n",
       "      <th>na_sales</th>\n",
       "      <th>share_in_%</th>\n",
       "    </tr>\n",
       "    <tr>\n",
       "      <th>rating</th>\n",
       "      <th></th>\n",
       "      <th></th>\n",
       "    </tr>\n",
       "  </thead>\n",
       "  <tbody>\n",
       "    <tr>\n",
       "      <th>T</th>\n",
       "      <td>0.143727</td>\n",
       "      <td>15.641414</td>\n",
       "    </tr>\n",
       "    <tr>\n",
       "      <th>E10+</th>\n",
       "      <td>0.179622</td>\n",
       "      <td>19.547735</td>\n",
       "    </tr>\n",
       "    <tr>\n",
       "      <th>E</th>\n",
       "      <td>0.231689</td>\n",
       "      <td>25.214142</td>\n",
       "    </tr>\n",
       "    <tr>\n",
       "      <th>M</th>\n",
       "      <td>0.363849</td>\n",
       "      <td>39.596709</td>\n",
       "    </tr>\n",
       "  </tbody>\n",
       "</table>\n",
       "</div>"
      ],
      "text/plain": [
       "        na_sales  share_in_%\n",
       "rating                      \n",
       "T       0.143727   15.641414\n",
       "E10+    0.179622   19.547735\n",
       "E       0.231689   25.214142\n",
       "M       0.363849   39.596709"
      ]
     },
     "metadata": {},
     "output_type": "display_data"
    },
    {
     "data": {
      "text/html": [
       "<div>\n",
       "<style scoped>\n",
       "    .dataframe tbody tr th:only-of-type {\n",
       "        vertical-align: middle;\n",
       "    }\n",
       "\n",
       "    .dataframe tbody tr th {\n",
       "        vertical-align: top;\n",
       "    }\n",
       "\n",
       "    .dataframe thead th {\n",
       "        text-align: right;\n",
       "    }\n",
       "</style>\n",
       "<table border=\"1\" class=\"dataframe\">\n",
       "  <thead>\n",
       "    <tr style=\"text-align: right;\">\n",
       "      <th></th>\n",
       "      <th>eu_sales</th>\n",
       "      <th>share_in_%</th>\n",
       "    </tr>\n",
       "    <tr>\n",
       "      <th>rating</th>\n",
       "      <th></th>\n",
       "      <th></th>\n",
       "    </tr>\n",
       "  </thead>\n",
       "  <tbody>\n",
       "    <tr>\n",
       "      <th>T</th>\n",
       "      <td>0.125720</td>\n",
       "      <td>14.208122</td>\n",
       "    </tr>\n",
       "    <tr>\n",
       "      <th>E10+</th>\n",
       "      <td>0.141405</td>\n",
       "      <td>15.980849</td>\n",
       "    </tr>\n",
       "    <tr>\n",
       "      <th>E</th>\n",
       "      <td>0.265114</td>\n",
       "      <td>29.961721</td>\n",
       "    </tr>\n",
       "    <tr>\n",
       "      <th>M</th>\n",
       "      <td>0.352604</td>\n",
       "      <td>39.849309</td>\n",
       "    </tr>\n",
       "  </tbody>\n",
       "</table>\n",
       "</div>"
      ],
      "text/plain": [
       "        eu_sales  share_in_%\n",
       "rating                      \n",
       "T       0.125720   14.208122\n",
       "E10+    0.141405   15.980849\n",
       "E       0.265114   29.961721\n",
       "M       0.352604   39.849309"
      ]
     },
     "metadata": {},
     "output_type": "display_data"
    },
    {
     "data": {
      "text/html": [
       "<div>\n",
       "<style scoped>\n",
       "    .dataframe tbody tr th:only-of-type {\n",
       "        vertical-align: middle;\n",
       "    }\n",
       "\n",
       "    .dataframe tbody tr th {\n",
       "        vertical-align: top;\n",
       "    }\n",
       "\n",
       "    .dataframe thead th {\n",
       "        text-align: right;\n",
       "    }\n",
       "</style>\n",
       "<table border=\"1\" class=\"dataframe\">\n",
       "  <thead>\n",
       "    <tr style=\"text-align: right;\">\n",
       "      <th></th>\n",
       "      <th>jp_sales</th>\n",
       "      <th>share_in_%</th>\n",
       "    </tr>\n",
       "    <tr>\n",
       "      <th>rating</th>\n",
       "      <th></th>\n",
       "      <th></th>\n",
       "    </tr>\n",
       "  </thead>\n",
       "  <tbody>\n",
       "    <tr>\n",
       "      <th>E10+</th>\n",
       "      <td>0.024108</td>\n",
       "      <td>16.104798</td>\n",
       "    </tr>\n",
       "    <tr>\n",
       "      <th>M</th>\n",
       "      <td>0.030226</td>\n",
       "      <td>20.191975</td>\n",
       "    </tr>\n",
       "    <tr>\n",
       "      <th>E</th>\n",
       "      <td>0.040822</td>\n",
       "      <td>27.270027</td>\n",
       "    </tr>\n",
       "    <tr>\n",
       "      <th>T</th>\n",
       "      <td>0.054539</td>\n",
       "      <td>36.433199</td>\n",
       "    </tr>\n",
       "  </tbody>\n",
       "</table>\n",
       "</div>"
      ],
      "text/plain": [
       "        jp_sales  share_in_%\n",
       "rating                      \n",
       "E10+    0.024108   16.104798\n",
       "M       0.030226   20.191975\n",
       "E       0.040822   27.270027\n",
       "T       0.054539   36.433199"
      ]
     },
     "metadata": {},
     "output_type": "display_data"
    }
   ],
   "source": [
    "regions = ['na_sales', 'eu_sales', 'jp_sales']\n",
    "\n",
    "print('Самые популярные платформы (топ-5) по регионам')\n",
    "for region in regions:\n",
    "    region_platforms = actual_trend_df.pivot_table(\n",
    "        index='platform', values=region, aggfunc='mean').sort_values(by=region).tail()\n",
    "    region_platforms['share_in_%'] = region_platforms[\n",
    "        region] * 100 / sum(region_platforms[region])\n",
    "    display(region_platforms)\n",
    "    print('\\n')\n",
    "\n",
    "\n",
    "    \n",
    "print('Самые популярные жанры (топ-5) по регионам')\n",
    "for region in regions:\n",
    "    region_genres = actual_trend_df.pivot_table(\n",
    "        index='genre', values=region, aggfunc='mean').sort_values(by=region).tail()\n",
    "    region_genres['share_in_%'] = region_genres[\n",
    "        region] * 100 / sum(region_genres[region])\n",
    "    display(region_genres)\n",
    "    print('\\n')\n",
    "\n",
    "    \n",
    "print('Рейтинг ESRB по регионам')\n",
    "for region in regions:\n",
    "    region_rating = actual_trend_df.pivot_table(\n",
    "        index='rating', values=region, aggfunc='mean').sort_values(by=region).tail()\n",
    "    region_rating['share_in_%'] = region_rating[\n",
    "        region] * 100 / sum(region_rating[region])\n",
    "    display(region_rating)\n",
    "\n",
    "\n"
   ]
  },
  {
   "cell_type": "markdown",
   "metadata": {},
   "source": [
    "Заменил сумму продаж по регионам на среднее, руководствуясь логикой предложенной выше \"Лучше найти жанр, где игры стабильно приносят высокий доход - для этого стоит рассмотреть средние или медианные продажи.\""
   ]
  },
  {
   "cell_type": "code",
   "execution_count": 28,
   "metadata": {
    "scrolled": false
   },
   "outputs": [
    {
     "name": "stdout",
     "output_type": "stream",
     "text": [
      "Самые популярные платформы (топ-5) по регионам без рейтинга от ESRB\n"
     ]
    },
    {
     "data": {
      "text/html": [
       "<div>\n",
       "<style scoped>\n",
       "    .dataframe tbody tr th:only-of-type {\n",
       "        vertical-align: middle;\n",
       "    }\n",
       "\n",
       "    .dataframe tbody tr th {\n",
       "        vertical-align: top;\n",
       "    }\n",
       "\n",
       "    .dataframe thead th {\n",
       "        text-align: right;\n",
       "    }\n",
       "</style>\n",
       "<table border=\"1\" class=\"dataframe\">\n",
       "  <thead>\n",
       "    <tr style=\"text-align: right;\">\n",
       "      <th></th>\n",
       "      <th>na_sales</th>\n",
       "      <th>share_in_%</th>\n",
       "    </tr>\n",
       "    <tr>\n",
       "      <th>platform</th>\n",
       "      <th></th>\n",
       "      <th></th>\n",
       "    </tr>\n",
       "  </thead>\n",
       "  <tbody>\n",
       "    <tr>\n",
       "      <th>3DS</th>\n",
       "      <td>0.096522</td>\n",
       "      <td>10.764633</td>\n",
       "    </tr>\n",
       "    <tr>\n",
       "      <th>PS4</th>\n",
       "      <td>0.171397</td>\n",
       "      <td>19.115139</td>\n",
       "    </tr>\n",
       "    <tr>\n",
       "      <th>X360</th>\n",
       "      <td>0.191000</td>\n",
       "      <td>21.301367</td>\n",
       "    </tr>\n",
       "    <tr>\n",
       "      <th>WiiU</th>\n",
       "      <td>0.193500</td>\n",
       "      <td>21.580180</td>\n",
       "    </tr>\n",
       "    <tr>\n",
       "      <th>XOne</th>\n",
       "      <td>0.244237</td>\n",
       "      <td>27.238681</td>\n",
       "    </tr>\n",
       "  </tbody>\n",
       "</table>\n",
       "</div>"
      ],
      "text/plain": [
       "          na_sales  share_in_%\n",
       "platform                      \n",
       "3DS       0.096522   10.764633\n",
       "PS4       0.171397   19.115139\n",
       "X360      0.191000   21.301367\n",
       "WiiU      0.193500   21.580180\n",
       "XOne      0.244237   27.238681"
      ]
     },
     "metadata": {},
     "output_type": "display_data"
    },
    {
     "name": "stdout",
     "output_type": "stream",
     "text": [
      "\n",
      "\n"
     ]
    },
    {
     "data": {
      "text/html": [
       "<div>\n",
       "<style scoped>\n",
       "    .dataframe tbody tr th:only-of-type {\n",
       "        vertical-align: middle;\n",
       "    }\n",
       "\n",
       "    .dataframe tbody tr th {\n",
       "        vertical-align: top;\n",
       "    }\n",
       "\n",
       "    .dataframe thead th {\n",
       "        text-align: right;\n",
       "    }\n",
       "</style>\n",
       "<table border=\"1\" class=\"dataframe\">\n",
       "  <thead>\n",
       "    <tr style=\"text-align: right;\">\n",
       "      <th></th>\n",
       "      <th>eu_sales</th>\n",
       "      <th>share_in_%</th>\n",
       "    </tr>\n",
       "    <tr>\n",
       "      <th>platform</th>\n",
       "      <th></th>\n",
       "      <th></th>\n",
       "    </tr>\n",
       "  </thead>\n",
       "  <tbody>\n",
       "    <tr>\n",
       "      <th>Wii</th>\n",
       "      <td>0.080000</td>\n",
       "      <td>12.785066</td>\n",
       "    </tr>\n",
       "    <tr>\n",
       "      <th>WiiU</th>\n",
       "      <td>0.097500</td>\n",
       "      <td>15.581799</td>\n",
       "    </tr>\n",
       "    <tr>\n",
       "      <th>X360</th>\n",
       "      <td>0.107000</td>\n",
       "      <td>17.100026</td>\n",
       "    </tr>\n",
       "    <tr>\n",
       "      <th>XOne</th>\n",
       "      <td>0.137627</td>\n",
       "      <td>21.994647</td>\n",
       "    </tr>\n",
       "    <tr>\n",
       "      <th>PS4</th>\n",
       "      <td>0.203603</td>\n",
       "      <td>32.538463</td>\n",
       "    </tr>\n",
       "  </tbody>\n",
       "</table>\n",
       "</div>"
      ],
      "text/plain": [
       "          eu_sales  share_in_%\n",
       "platform                      \n",
       "Wii       0.080000   12.785066\n",
       "WiiU      0.097500   15.581799\n",
       "X360      0.107000   17.100026\n",
       "XOne      0.137627   21.994647\n",
       "PS4       0.203603   32.538463"
      ]
     },
     "metadata": {},
     "output_type": "display_data"
    },
    {
     "name": "stdout",
     "output_type": "stream",
     "text": [
      "\n",
      "\n"
     ]
    },
    {
     "data": {
      "text/html": [
       "<div>\n",
       "<style scoped>\n",
       "    .dataframe tbody tr th:only-of-type {\n",
       "        vertical-align: middle;\n",
       "    }\n",
       "\n",
       "    .dataframe tbody tr th {\n",
       "        vertical-align: top;\n",
       "    }\n",
       "\n",
       "    .dataframe thead th {\n",
       "        text-align: right;\n",
       "    }\n",
       "</style>\n",
       "<table border=\"1\" class=\"dataframe\">\n",
       "  <thead>\n",
       "    <tr style=\"text-align: right;\">\n",
       "      <th></th>\n",
       "      <th>jp_sales</th>\n",
       "      <th>share_in_%</th>\n",
       "    </tr>\n",
       "    <tr>\n",
       "      <th>platform</th>\n",
       "      <th></th>\n",
       "      <th></th>\n",
       "    </tr>\n",
       "  </thead>\n",
       "  <tbody>\n",
       "    <tr>\n",
       "      <th>PSV</th>\n",
       "      <td>0.043738</td>\n",
       "      <td>9.413966</td>\n",
       "    </tr>\n",
       "    <tr>\n",
       "      <th>PS4</th>\n",
       "      <td>0.045956</td>\n",
       "      <td>9.891261</td>\n",
       "    </tr>\n",
       "    <tr>\n",
       "      <th>PS3</th>\n",
       "      <td>0.057547</td>\n",
       "      <td>12.386099</td>\n",
       "    </tr>\n",
       "    <tr>\n",
       "      <th>WiiU</th>\n",
       "      <td>0.076500</td>\n",
       "      <td>16.465389</td>\n",
       "    </tr>\n",
       "    <tr>\n",
       "      <th>3DS</th>\n",
       "      <td>0.240870</td>\n",
       "      <td>51.843284</td>\n",
       "    </tr>\n",
       "  </tbody>\n",
       "</table>\n",
       "</div>"
      ],
      "text/plain": [
       "          jp_sales  share_in_%\n",
       "platform                      \n",
       "PSV       0.043738    9.413966\n",
       "PS4       0.045956    9.891261\n",
       "PS3       0.057547   12.386099\n",
       "WiiU      0.076500   16.465389\n",
       "3DS       0.240870   51.843284"
      ]
     },
     "metadata": {},
     "output_type": "display_data"
    },
    {
     "name": "stdout",
     "output_type": "stream",
     "text": [
      "\n",
      "\n",
      "Самые популярные жанры (топ-5) по регионам без рейтинга от ESRB\n"
     ]
    },
    {
     "data": {
      "text/html": [
       "<div>\n",
       "<style scoped>\n",
       "    .dataframe tbody tr th:only-of-type {\n",
       "        vertical-align: middle;\n",
       "    }\n",
       "\n",
       "    .dataframe tbody tr th {\n",
       "        vertical-align: top;\n",
       "    }\n",
       "\n",
       "    .dataframe thead th {\n",
       "        text-align: right;\n",
       "    }\n",
       "</style>\n",
       "<table border=\"1\" class=\"dataframe\">\n",
       "  <thead>\n",
       "    <tr style=\"text-align: right;\">\n",
       "      <th></th>\n",
       "      <th>na_sales</th>\n",
       "      <th>share_in_%</th>\n",
       "    </tr>\n",
       "    <tr>\n",
       "      <th>genre</th>\n",
       "      <th></th>\n",
       "      <th></th>\n",
       "    </tr>\n",
       "  </thead>\n",
       "  <tbody>\n",
       "    <tr>\n",
       "      <th>Misc</th>\n",
       "      <td>0.103115</td>\n",
       "      <td>5.874572</td>\n",
       "    </tr>\n",
       "    <tr>\n",
       "      <th>Role-Playing</th>\n",
       "      <td>0.123596</td>\n",
       "      <td>7.041441</td>\n",
       "    </tr>\n",
       "    <tr>\n",
       "      <th>Platform</th>\n",
       "      <td>0.128000</td>\n",
       "      <td>7.292314</td>\n",
       "    </tr>\n",
       "    <tr>\n",
       "      <th>Fighting</th>\n",
       "      <td>0.294091</td>\n",
       "      <td>16.754713</td>\n",
       "    </tr>\n",
       "    <tr>\n",
       "      <th>Shooter</th>\n",
       "      <td>1.106471</td>\n",
       "      <td>63.036961</td>\n",
       "    </tr>\n",
       "  </tbody>\n",
       "</table>\n",
       "</div>"
      ],
      "text/plain": [
       "              na_sales  share_in_%\n",
       "genre                             \n",
       "Misc          0.103115    5.874572\n",
       "Role-Playing  0.123596    7.041441\n",
       "Platform      0.128000    7.292314\n",
       "Fighting      0.294091   16.754713\n",
       "Shooter       1.106471   63.036961"
      ]
     },
     "metadata": {},
     "output_type": "display_data"
    },
    {
     "name": "stdout",
     "output_type": "stream",
     "text": [
      "\n",
      "\n"
     ]
    },
    {
     "data": {
      "text/html": [
       "<div>\n",
       "<style scoped>\n",
       "    .dataframe tbody tr th:only-of-type {\n",
       "        vertical-align: middle;\n",
       "    }\n",
       "\n",
       "    .dataframe tbody tr th {\n",
       "        vertical-align: top;\n",
       "    }\n",
       "\n",
       "    .dataframe thead th {\n",
       "        text-align: right;\n",
       "    }\n",
       "</style>\n",
       "<table border=\"1\" class=\"dataframe\">\n",
       "  <thead>\n",
       "    <tr style=\"text-align: right;\">\n",
       "      <th></th>\n",
       "      <th>eu_sales</th>\n",
       "      <th>share_in_%</th>\n",
       "    </tr>\n",
       "    <tr>\n",
       "      <th>genre</th>\n",
       "      <th></th>\n",
       "      <th></th>\n",
       "    </tr>\n",
       "  </thead>\n",
       "  <tbody>\n",
       "    <tr>\n",
       "      <th>Misc</th>\n",
       "      <td>0.120492</td>\n",
       "      <td>7.887015</td>\n",
       "    </tr>\n",
       "    <tr>\n",
       "      <th>Fighting</th>\n",
       "      <td>0.128636</td>\n",
       "      <td>8.420132</td>\n",
       "    </tr>\n",
       "    <tr>\n",
       "      <th>Racing</th>\n",
       "      <td>0.158125</td>\n",
       "      <td>10.350366</td>\n",
       "    </tr>\n",
       "    <tr>\n",
       "      <th>Platform</th>\n",
       "      <td>0.174000</td>\n",
       "      <td>11.389494</td>\n",
       "    </tr>\n",
       "    <tr>\n",
       "      <th>Shooter</th>\n",
       "      <td>0.946471</td>\n",
       "      <td>61.952993</td>\n",
       "    </tr>\n",
       "  </tbody>\n",
       "</table>\n",
       "</div>"
      ],
      "text/plain": [
       "          eu_sales  share_in_%\n",
       "genre                         \n",
       "Misc      0.120492    7.887015\n",
       "Fighting  0.128636    8.420132\n",
       "Racing    0.158125   10.350366\n",
       "Platform  0.174000   11.389494\n",
       "Shooter   0.946471   61.952993"
      ]
     },
     "metadata": {},
     "output_type": "display_data"
    },
    {
     "name": "stdout",
     "output_type": "stream",
     "text": [
      "\n",
      "\n"
     ]
    },
    {
     "data": {
      "text/html": [
       "<div>\n",
       "<style scoped>\n",
       "    .dataframe tbody tr th:only-of-type {\n",
       "        vertical-align: middle;\n",
       "    }\n",
       "\n",
       "    .dataframe tbody tr th {\n",
       "        vertical-align: top;\n",
       "    }\n",
       "\n",
       "    .dataframe thead th {\n",
       "        text-align: right;\n",
       "    }\n",
       "</style>\n",
       "<table border=\"1\" class=\"dataframe\">\n",
       "  <thead>\n",
       "    <tr style=\"text-align: right;\">\n",
       "      <th></th>\n",
       "      <th>jp_sales</th>\n",
       "      <th>share_in_%</th>\n",
       "    </tr>\n",
       "    <tr>\n",
       "      <th>genre</th>\n",
       "      <th></th>\n",
       "      <th></th>\n",
       "    </tr>\n",
       "  </thead>\n",
       "  <tbody>\n",
       "    <tr>\n",
       "      <th>Action</th>\n",
       "      <td>0.068007</td>\n",
       "      <td>11.070522</td>\n",
       "    </tr>\n",
       "    <tr>\n",
       "      <th>Misc</th>\n",
       "      <td>0.069180</td>\n",
       "      <td>11.261562</td>\n",
       "    </tr>\n",
       "    <tr>\n",
       "      <th>Puzzle</th>\n",
       "      <td>0.095714</td>\n",
       "      <td>15.580909</td>\n",
       "    </tr>\n",
       "    <tr>\n",
       "      <th>Role-Playing</th>\n",
       "      <td>0.176404</td>\n",
       "      <td>28.715954</td>\n",
       "    </tr>\n",
       "    <tr>\n",
       "      <th>Fighting</th>\n",
       "      <td>0.205000</td>\n",
       "      <td>33.371052</td>\n",
       "    </tr>\n",
       "  </tbody>\n",
       "</table>\n",
       "</div>"
      ],
      "text/plain": [
       "              jp_sales  share_in_%\n",
       "genre                             \n",
       "Action        0.068007   11.070522\n",
       "Misc          0.069180   11.261562\n",
       "Puzzle        0.095714   15.580909\n",
       "Role-Playing  0.176404   28.715954\n",
       "Fighting      0.205000   33.371052"
      ]
     },
     "metadata": {},
     "output_type": "display_data"
    },
    {
     "name": "stdout",
     "output_type": "stream",
     "text": [
      "\n",
      "\n"
     ]
    }
   ],
   "source": [
    "regions = ['na_sales', 'eu_sales', 'jp_sales']\n",
    "\n",
    "print('Самые популярные платформы (топ-5) по регионам без рейтинга от ESRB')\n",
    "for region in regions:\n",
    "    region_platforms = actual_trend_df.query('rating.isna()').pivot_table(\n",
    "        index='platform', values=region, aggfunc='mean').sort_values(by=region).tail()\n",
    "    region_platforms['share_in_%'] = region_platforms[\n",
    "        region] * 100 / sum(region_platforms[region])\n",
    "    display(region_platforms)\n",
    "    print('\\n')\n",
    "\n",
    "\n",
    "    \n",
    "print('Самые популярные жанры (топ-5) по регионам без рейтинга от ESRB')\n",
    "for region in regions:\n",
    "    region_genres = actual_trend_df.query('rating.isna()').pivot_table(\n",
    "        index='genre', values=region, aggfunc='mean').sort_values(by=region).tail()\n",
    "    region_genres['share_in_%'] = region_genres[\n",
    "        region] * 100 / sum(region_genres[region])\n",
    "    display(region_genres)\n",
    "    print('\\n')"
   ]
  },
  {
   "cell_type": "markdown",
   "metadata": {},
   "source": [
    "По платформам:\n",
    "\n",
    "В NA лидер XOne 27%\n",
    "\n",
    "в EU лидер PS4 31%\n",
    "\n",
    "в JP это 3DS 46%.\n",
    "\n",
    "Лидеры жанров в NA & EU shooter, sports, в то время как JP лидером является жанр Role-Playing.\n",
    "\n",
    "В NA & EU лидером продаж по рейтингу ESRB являются игры для взрослых, в то время как в JP игры для подростков.\n",
    "\n",
    "**Если рассматривать отдельно игры без рейтинга:**\n",
    "\n",
    "По платформам:\n",
    "\n",
    "В NA лидер XOne 27%\n",
    "\n",
    "в EU лидер PS4 32%\n",
    "\n",
    "в JP это 3DS 52%.\n",
    "\n",
    "Лидеры жанров в NA & EU shooter 63% и 62% соответственно, в то время как JP лидером является Fighting."
   ]
  },
  {
   "cell_type": "markdown",
   "metadata": {},
   "source": [
    "\n",
    "## Проверьте гипотезы"
   ]
  },
  {
   "cell_type": "markdown",
   "metadata": {},
   "source": [
    "Средние пользовательские рейтинги платформ Xbox One и PC одинаковые."
   ]
  },
  {
   "cell_type": "markdown",
   "metadata": {},
   "source": [
    "Гипотеза H₀:\n",
    "- Средние пользовательские рейтинги платформ Xbox One и PC не различаются;\n",
    "\n",
    "Гипотеза H₁. \n",
    "- Средние пользовательские рейтинги платформ Xbox One и PC различаются;"
   ]
  },
  {
   "cell_type": "code",
   "execution_count": 29,
   "metadata": {},
   "outputs": [
    {
     "name": "stdout",
     "output_type": "stream",
     "text": [
      "p-значение:  0.11601398086668827\n",
      "Не получилось отвергнуть нулевую гипотезу\n"
     ]
    }
   ],
   "source": [
    "Xbox_user_score = actual_trend_df.query('platform == \"XOne\"')['user_score']\n",
    "PC_user_score = actual_trend_df.query('platform == \"PC\"')['user_score']\n",
    "\n",
    "alpha = .01 # критический уровень статистической значимости\n",
    "# если p-value окажется меньше него - отвегнем гипотезу\n",
    "\n",
    "results = st.ttest_ind(\n",
    "    Xbox_user_score.dropna(), \n",
    "    PC_user_score.dropna(),\n",
    "    equal_var = False)\n",
    "\n",
    "print('p-значение: ', results.pvalue)\n",
    "\n",
    "if results.pvalue < alpha:\n",
    "    print(\"Отвергаем нулевую гипотезу\")\n",
    "else:\n",
    "    print(\"Не получилось отвергнуть нулевую гипотезу\")"
   ]
  },
  {
   "cell_type": "markdown",
   "metadata": {},
   "source": [
    "Средние пользовательские рейтинги жанров Action (англ. «действие», экшен-игры) и Sports (англ. «спортивные соревнования») разные."
   ]
  },
  {
   "cell_type": "markdown",
   "metadata": {},
   "source": [
    "Гипотеза H₀:\n",
    "- Средние пользовательские рейтинги жанров Action и Sports не различаются;\n",
    "\n",
    "Гипотеза H₁. \n",
    "- Средние пользовательские рейтинги жанров Action и Sports различаются;"
   ]
  },
  {
   "cell_type": "code",
   "execution_count": 30,
   "metadata": {},
   "outputs": [
    {
     "name": "stdout",
     "output_type": "stream",
     "text": [
      "p-значение:  1.1825550382644557e-14\n",
      "Отвергаем нулевую гипотезу\n"
     ]
    }
   ],
   "source": [
    "action_user_score = actual_trend_df.query('genre == \"Action\"')['user_score']\n",
    "sports_user_score = actual_trend_df.query('genre == \"Sports\"')['user_score']\n",
    "\n",
    "alpha = .01 # критический уровень статистической значимости\n",
    "# если p-value окажется меньше него - отвегнем гипотезу\n",
    "\n",
    "results = st.ttest_ind(\n",
    "    action_user_score.dropna(), \n",
    "    sports_user_score.dropna(),\n",
    "    equal_var = False)\n",
    "\n",
    "print('p-значение: ', results.pvalue)\n",
    "\n",
    "if results.pvalue < alpha:\n",
    "    print(\"Отвергаем нулевую гипотезу\")\n",
    "else:\n",
    "    print(\"Не получилось отвергнуть нулевую гипотезу\")"
   ]
  },
  {
   "cell_type": "markdown",
   "metadata": {},
   "source": [
    "## Выводы исследования:"
   ]
  },
  {
   "cell_type": "markdown",
   "metadata": {},
   "source": [
    "Согласно полученных данных средний период существования платформ составляет около 10 лет.\n",
    "\n",
    "Актуальный период взят с 2013 года.\n",
    "\n",
    "Далее анализ проводился в рамках актуального периода.\n",
    "\n",
    "Все платформы из актуального периода падают по количеству продаж, возможно кроме XOne & PS4.\n",
    "\n",
    "Затрудняюсь судить о прибыльности платформ и жанров, т.к. нет инфо по доходам и расходам в денежном выражении.\n",
    "\n",
    "Во всех топовых платформах корреляция продаж по отзывам пользователей практически отсутствует, кроме wiiu corr=0.4, при этом корреляция по отзывам критиков колеблется от 0,314 до 0,526, что свидетельствует о ее низком уровне.\n",
    "\n",
    "Самый популярный жанр Shooter 26% продаж, в конце рейтинга Adventure 1.8%.\n",
    "\n",
    "По платформам:\n",
    "\n",
    "В NA лидер XOne 27%\n",
    "\n",
    "В EU лидер PS4 31% \n",
    "\n",
    "В JP это 3DS 46%.\n",
    "\n",
    "Лидеры жанров в NA & EU shooter, sports, в то время как JP лидером является жанр Role-Playing.\n",
    "\n",
    "В NA & EU лидером продаж по рейтингу ESRB являются игры для взрослых, в то время как в JP игры для подростков.\n",
    "\n",
    "Если рассматривать отдельно игры без рейтинга:\n",
    "\n",
    "По платформам:\n",
    "\n",
    "В NA лидер XOne 27%\n",
    "\n",
    "в EU лидер PS4 32%\n",
    "\n",
    "в JP это 3DS 52%.\n",
    "\n",
    "Лидеры жанров в NA & EU shooter 63% и 62% соответственно, в то время как JP лидером является Fighting.\n",
    "\n",
    "По итогам проверки гипотез:\n",
    "\n",
    "1.\tНе получилось отвергнуть гипотезу о том, что средние пользовательские рейтинги платформ Xbox One и PC одинаковые.\n",
    "2.\tНе получилось отвергнуть гипотезу о том, что средние пользовательские рейтинги жанров Action (англ. «действие», экшен-игры) и Sports (англ. «спортивные соревнования») разные.\n",
    "\n"
   ]
  },
  {
   "cell_type": "code",
   "execution_count": 31,
   "metadata": {},
   "outputs": [
    {
     "name": "stdout",
     "output_type": "stream",
     "text": [
      "Контрольная точка: 17.04.2022 14:36\n"
     ]
    }
   ],
   "source": [
    "import datetime as dt\n",
    "checkpoint = dt.datetime.now().strftime(\"%d.%m.%Y %H:%M\")\n",
    "print(f'Контрольная точка: {checkpoint}')"
   ]
  }
 ],
 "metadata": {
  "ExecuteTimeLog": [
   {
    "duration": 531,
    "start_time": "2022-03-20T14:15:25.455Z"
   },
   {
    "duration": 86,
    "start_time": "2022-03-20T14:15:25.988Z"
   },
   {
    "duration": 13,
    "start_time": "2022-03-20T14:15:26.077Z"
   },
   {
    "duration": 81,
    "start_time": "2022-03-20T14:15:26.093Z"
   },
   {
    "duration": 0,
    "start_time": "2022-03-20T14:15:26.227Z"
   },
   {
    "duration": 0,
    "start_time": "2022-03-20T14:15:26.228Z"
   },
   {
    "duration": 0,
    "start_time": "2022-03-20T14:15:26.230Z"
   },
   {
    "duration": 0,
    "start_time": "2022-03-20T14:15:26.231Z"
   },
   {
    "duration": 0,
    "start_time": "2022-03-20T14:15:26.232Z"
   },
   {
    "duration": 0,
    "start_time": "2022-03-20T14:15:26.234Z"
   },
   {
    "duration": 0,
    "start_time": "2022-03-20T14:15:26.234Z"
   },
   {
    "duration": 0,
    "start_time": "2022-03-20T14:15:26.236Z"
   },
   {
    "duration": 0,
    "start_time": "2022-03-20T14:15:26.237Z"
   },
   {
    "duration": 0,
    "start_time": "2022-03-20T14:15:26.238Z"
   },
   {
    "duration": 0,
    "start_time": "2022-03-20T14:15:26.239Z"
   },
   {
    "duration": 0,
    "start_time": "2022-03-20T14:15:26.240Z"
   },
   {
    "duration": 0,
    "start_time": "2022-03-20T14:15:26.241Z"
   },
   {
    "duration": 0,
    "start_time": "2022-03-20T14:15:26.242Z"
   },
   {
    "duration": 0,
    "start_time": "2022-03-20T14:15:26.243Z"
   },
   {
    "duration": 0,
    "start_time": "2022-03-20T14:15:26.244Z"
   },
   {
    "duration": 0,
    "start_time": "2022-03-20T14:15:26.245Z"
   },
   {
    "duration": 0,
    "start_time": "2022-03-20T14:15:26.246Z"
   },
   {
    "duration": 0,
    "start_time": "2022-03-20T14:15:26.248Z"
   },
   {
    "duration": 0,
    "start_time": "2022-03-20T14:15:26.249Z"
   },
   {
    "duration": 0,
    "start_time": "2022-03-20T14:15:26.250Z"
   },
   {
    "duration": 0,
    "start_time": "2022-03-20T14:15:26.251Z"
   },
   {
    "duration": 0,
    "start_time": "2022-03-20T14:15:26.252Z"
   },
   {
    "duration": 0,
    "start_time": "2022-03-20T14:15:26.253Z"
   },
   {
    "duration": 0,
    "start_time": "2022-03-20T14:15:26.301Z"
   },
   {
    "duration": 0,
    "start_time": "2022-03-20T14:15:26.302Z"
   },
   {
    "duration": 0,
    "start_time": "2022-03-20T14:15:26.304Z"
   },
   {
    "duration": 0,
    "start_time": "2022-03-20T14:15:26.305Z"
   },
   {
    "duration": 0,
    "start_time": "2022-03-20T14:15:26.306Z"
   },
   {
    "duration": 0,
    "start_time": "2022-03-20T14:15:26.307Z"
   },
   {
    "duration": 0,
    "start_time": "2022-03-20T14:15:26.308Z"
   },
   {
    "duration": 0,
    "start_time": "2022-03-20T14:15:26.309Z"
   },
   {
    "duration": 0,
    "start_time": "2022-03-20T14:15:26.310Z"
   },
   {
    "duration": 0,
    "start_time": "2022-03-20T14:15:26.311Z"
   },
   {
    "duration": 0,
    "start_time": "2022-03-20T14:15:26.312Z"
   },
   {
    "duration": 0,
    "start_time": "2022-03-20T14:15:26.313Z"
   },
   {
    "duration": 0,
    "start_time": "2022-03-20T14:15:26.314Z"
   },
   {
    "duration": 0,
    "start_time": "2022-03-20T14:15:26.315Z"
   },
   {
    "duration": 0,
    "start_time": "2022-03-20T14:15:26.316Z"
   },
   {
    "duration": 0,
    "start_time": "2022-03-20T14:15:26.318Z"
   },
   {
    "duration": 0,
    "start_time": "2022-03-20T14:15:26.319Z"
   },
   {
    "duration": 0,
    "start_time": "2022-03-20T14:15:26.320Z"
   },
   {
    "duration": 0,
    "start_time": "2022-03-20T14:15:26.321Z"
   },
   {
    "duration": 0,
    "start_time": "2022-03-20T14:15:26.323Z"
   },
   {
    "duration": 0,
    "start_time": "2022-03-20T14:15:26.324Z"
   },
   {
    "duration": 0,
    "start_time": "2022-03-20T14:15:26.324Z"
   },
   {
    "duration": 0,
    "start_time": "2022-03-20T14:15:26.325Z"
   },
   {
    "duration": 0,
    "start_time": "2022-03-20T14:15:26.327Z"
   },
   {
    "duration": 0,
    "start_time": "2022-03-20T14:15:26.328Z"
   },
   {
    "duration": 0,
    "start_time": "2022-03-20T14:15:26.329Z"
   },
   {
    "duration": 0,
    "start_time": "2022-03-20T14:15:26.330Z"
   },
   {
    "duration": 0,
    "start_time": "2022-03-20T14:15:26.331Z"
   },
   {
    "duration": 0,
    "start_time": "2022-03-20T14:15:26.332Z"
   },
   {
    "duration": 0,
    "start_time": "2022-03-20T14:15:26.333Z"
   },
   {
    "duration": 0,
    "start_time": "2022-03-20T14:15:26.334Z"
   },
   {
    "duration": 0,
    "start_time": "2022-03-20T14:15:26.335Z"
   },
   {
    "duration": 0,
    "start_time": "2022-03-20T14:15:26.336Z"
   },
   {
    "duration": 0,
    "start_time": "2022-03-20T14:15:26.401Z"
   },
   {
    "duration": 0,
    "start_time": "2022-03-20T14:15:26.402Z"
   },
   {
    "duration": 0,
    "start_time": "2022-03-20T14:15:26.403Z"
   },
   {
    "duration": 0,
    "start_time": "2022-03-20T14:15:26.405Z"
   },
   {
    "duration": 0,
    "start_time": "2022-03-20T14:15:26.405Z"
   },
   {
    "duration": 0,
    "start_time": "2022-03-20T14:15:26.406Z"
   },
   {
    "duration": 0,
    "start_time": "2022-03-20T14:15:26.407Z"
   },
   {
    "duration": 0,
    "start_time": "2022-03-20T14:15:26.408Z"
   },
   {
    "duration": 0,
    "start_time": "2022-03-20T14:15:26.409Z"
   },
   {
    "duration": 0,
    "start_time": "2022-03-20T14:15:26.410Z"
   },
   {
    "duration": 0,
    "start_time": "2022-03-20T14:15:26.412Z"
   },
   {
    "duration": 0,
    "start_time": "2022-03-20T14:15:26.413Z"
   },
   {
    "duration": 0,
    "start_time": "2022-03-20T14:15:26.415Z"
   },
   {
    "duration": 0,
    "start_time": "2022-03-20T14:15:26.416Z"
   },
   {
    "duration": 0,
    "start_time": "2022-03-20T14:15:26.417Z"
   },
   {
    "duration": 0,
    "start_time": "2022-03-20T14:15:26.419Z"
   },
   {
    "duration": 0,
    "start_time": "2022-03-20T14:15:26.420Z"
   },
   {
    "duration": 0,
    "start_time": "2022-03-20T14:15:26.421Z"
   },
   {
    "duration": 559,
    "start_time": "2022-03-20T14:16:10.330Z"
   },
   {
    "duration": 85,
    "start_time": "2022-03-20T14:16:10.891Z"
   },
   {
    "duration": 15,
    "start_time": "2022-03-20T14:16:10.977Z"
   },
   {
    "duration": 114,
    "start_time": "2022-03-20T14:16:11.000Z"
   },
   {
    "duration": 60,
    "start_time": "2022-03-20T14:16:11.115Z"
   },
   {
    "duration": 73,
    "start_time": "2022-03-20T14:16:11.177Z"
   },
   {
    "duration": 5,
    "start_time": "2022-03-20T14:16:11.252Z"
   },
   {
    "duration": 11,
    "start_time": "2022-03-20T14:16:11.258Z"
   },
   {
    "duration": 8,
    "start_time": "2022-03-20T14:16:11.271Z"
   },
   {
    "duration": 94,
    "start_time": "2022-03-20T14:16:11.282Z"
   },
   {
    "duration": 17,
    "start_time": "2022-03-20T14:16:11.378Z"
   },
   {
    "duration": 66,
    "start_time": "2022-03-20T14:16:11.400Z"
   },
   {
    "duration": 14,
    "start_time": "2022-03-20T14:16:11.468Z"
   },
   {
    "duration": 22,
    "start_time": "2022-03-20T14:16:11.483Z"
   },
   {
    "duration": 13,
    "start_time": "2022-03-20T14:16:11.507Z"
   },
   {
    "duration": 10,
    "start_time": "2022-03-20T14:16:11.522Z"
   },
   {
    "duration": 10,
    "start_time": "2022-03-20T14:16:11.535Z"
   },
   {
    "duration": 554,
    "start_time": "2022-03-20T14:16:11.547Z"
   },
   {
    "duration": 10,
    "start_time": "2022-03-20T14:16:12.103Z"
   },
   {
    "duration": 7,
    "start_time": "2022-03-20T14:16:12.115Z"
   },
   {
    "duration": 17,
    "start_time": "2022-03-20T14:16:12.124Z"
   },
   {
    "duration": 7,
    "start_time": "2022-03-20T14:16:12.143Z"
   },
   {
    "duration": 24,
    "start_time": "2022-03-20T14:16:12.152Z"
   },
   {
    "duration": 36,
    "start_time": "2022-03-20T14:16:12.178Z"
   },
   {
    "duration": 4,
    "start_time": "2022-03-20T14:16:12.217Z"
   },
   {
    "duration": 19,
    "start_time": "2022-03-20T14:16:12.223Z"
   },
   {
    "duration": 318,
    "start_time": "2022-03-20T14:16:12.243Z"
   },
   {
    "duration": 6,
    "start_time": "2022-03-20T14:16:12.567Z"
   },
   {
    "duration": 26,
    "start_time": "2022-03-20T14:16:12.575Z"
   },
   {
    "duration": 16,
    "start_time": "2022-03-20T14:16:12.603Z"
   },
   {
    "duration": 134,
    "start_time": "2022-03-20T14:16:12.621Z"
   },
   {
    "duration": 145,
    "start_time": "2022-03-20T14:16:12.758Z"
   },
   {
    "duration": 9,
    "start_time": "2022-03-20T14:16:12.904Z"
   },
   {
    "duration": 17,
    "start_time": "2022-03-20T14:16:12.915Z"
   },
   {
    "duration": 149,
    "start_time": "2022-03-20T14:16:12.934Z"
   },
   {
    "duration": 201,
    "start_time": "2022-03-20T14:16:13.085Z"
   },
   {
    "duration": 19,
    "start_time": "2022-03-20T14:16:13.288Z"
   },
   {
    "duration": 32,
    "start_time": "2022-03-20T14:16:13.309Z"
   },
   {
    "duration": 24,
    "start_time": "2022-03-20T14:16:13.343Z"
   },
   {
    "duration": 31,
    "start_time": "2022-03-20T14:16:13.369Z"
   },
   {
    "duration": 22,
    "start_time": "2022-03-20T14:16:13.403Z"
   },
   {
    "duration": 158,
    "start_time": "2022-03-20T14:16:13.427Z"
   },
   {
    "duration": 15,
    "start_time": "2022-03-20T14:16:13.587Z"
   },
   {
    "duration": 15,
    "start_time": "2022-03-20T14:16:13.603Z"
   },
   {
    "duration": 223,
    "start_time": "2022-03-20T14:16:13.620Z"
   },
   {
    "duration": 11,
    "start_time": "2022-03-20T14:16:13.844Z"
   },
   {
    "duration": 9,
    "start_time": "2022-03-20T14:16:13.857Z"
   },
   {
    "duration": 39,
    "start_time": "2022-03-20T14:16:13.868Z"
   },
   {
    "duration": 256,
    "start_time": "2022-03-20T14:16:13.910Z"
   },
   {
    "duration": 9,
    "start_time": "2022-03-20T14:16:14.167Z"
   },
   {
    "duration": 23,
    "start_time": "2022-03-20T14:16:14.178Z"
   },
   {
    "duration": 13,
    "start_time": "2022-03-20T14:16:14.203Z"
   },
   {
    "duration": 16,
    "start_time": "2022-03-20T14:16:14.218Z"
   },
   {
    "duration": 18,
    "start_time": "2022-03-20T14:16:14.236Z"
   },
   {
    "duration": 39,
    "start_time": "2022-03-20T14:16:14.256Z"
   },
   {
    "duration": 3285,
    "start_time": "2022-03-20T14:16:14.297Z"
   },
   {
    "duration": 167,
    "start_time": "2022-03-20T14:16:17.584Z"
   },
   {
    "duration": 258,
    "start_time": "2022-03-20T14:16:17.753Z"
   },
   {
    "duration": 203,
    "start_time": "2022-03-20T14:16:18.013Z"
   },
   {
    "duration": 174,
    "start_time": "2022-03-20T14:16:18.217Z"
   },
   {
    "duration": 14,
    "start_time": "2022-03-20T14:16:18.392Z"
   },
   {
    "duration": 18,
    "start_time": "2022-03-20T14:16:18.408Z"
   },
   {
    "duration": 10,
    "start_time": "2022-03-20T14:16:18.427Z"
   },
   {
    "duration": 8,
    "start_time": "2022-03-20T14:16:18.439Z"
   },
   {
    "duration": 8,
    "start_time": "2022-03-20T14:16:18.448Z"
   },
   {
    "duration": 7,
    "start_time": "2022-03-20T14:16:18.458Z"
   },
   {
    "duration": 320,
    "start_time": "2022-03-20T14:16:18.467Z"
   },
   {
    "duration": 12,
    "start_time": "2022-03-20T14:16:18.789Z"
   },
   {
    "duration": 9,
    "start_time": "2022-03-20T14:16:18.803Z"
   },
   {
    "duration": 23,
    "start_time": "2022-03-20T14:16:18.814Z"
   },
   {
    "duration": 22,
    "start_time": "2022-03-20T14:16:18.839Z"
   },
   {
    "duration": 51,
    "start_time": "2022-03-20T14:16:18.863Z"
   },
   {
    "duration": 20,
    "start_time": "2022-03-20T14:16:18.916Z"
   },
   {
    "duration": 179,
    "start_time": "2022-03-20T14:16:18.938Z"
   },
   {
    "duration": 165,
    "start_time": "2022-03-20T14:16:19.119Z"
   },
   {
    "duration": 175,
    "start_time": "2022-03-20T14:16:19.286Z"
   },
   {
    "duration": 179,
    "start_time": "2022-03-20T14:16:19.463Z"
   },
   {
    "duration": 210,
    "start_time": "2022-03-20T14:16:19.645Z"
   },
   {
    "duration": 166,
    "start_time": "2022-03-20T14:16:19.858Z"
   },
   {
    "duration": 34,
    "start_time": "2022-03-20T14:30:52.322Z"
   },
   {
    "duration": 358,
    "start_time": "2022-03-21T03:54:40.656Z"
   },
   {
    "duration": 84,
    "start_time": "2022-03-21T03:54:41.016Z"
   },
   {
    "duration": 12,
    "start_time": "2022-03-21T03:54:41.101Z"
   },
   {
    "duration": 93,
    "start_time": "2022-03-21T03:54:41.115Z"
   },
   {
    "duration": 19,
    "start_time": "2022-03-21T03:54:41.209Z"
   },
   {
    "duration": 24,
    "start_time": "2022-03-21T03:54:41.229Z"
   },
   {
    "duration": 4,
    "start_time": "2022-03-21T03:54:41.254Z"
   },
   {
    "duration": 6,
    "start_time": "2022-03-21T03:54:41.259Z"
   },
   {
    "duration": 7,
    "start_time": "2022-03-21T03:54:41.266Z"
   },
   {
    "duration": 79,
    "start_time": "2022-03-21T03:54:41.275Z"
   },
   {
    "duration": 13,
    "start_time": "2022-03-21T03:54:41.355Z"
   },
   {
    "duration": 85,
    "start_time": "2022-03-21T03:54:41.369Z"
   },
   {
    "duration": 9,
    "start_time": "2022-03-21T03:54:41.455Z"
   },
   {
    "duration": 4,
    "start_time": "2022-03-21T03:54:41.465Z"
   },
   {
    "duration": 10,
    "start_time": "2022-03-21T03:54:41.470Z"
   },
   {
    "duration": 21,
    "start_time": "2022-03-21T03:54:41.482Z"
   },
   {
    "duration": 8,
    "start_time": "2022-03-21T03:54:41.504Z"
   },
   {
    "duration": 632,
    "start_time": "2022-03-21T03:54:41.514Z"
   },
   {
    "duration": 10,
    "start_time": "2022-03-21T03:54:42.147Z"
   },
   {
    "duration": 7,
    "start_time": "2022-03-21T03:54:45.416Z"
   },
   {
    "duration": 7,
    "start_time": "2022-03-21T03:54:51.139Z"
   },
   {
    "duration": 6,
    "start_time": "2022-03-21T03:55:55.171Z"
   },
   {
    "duration": 12,
    "start_time": "2022-03-21T04:00:13.296Z"
   },
   {
    "duration": 12,
    "start_time": "2022-03-21T04:03:11.310Z"
   },
   {
    "duration": 9,
    "start_time": "2022-03-21T04:08:02.634Z"
   },
   {
    "duration": 16,
    "start_time": "2022-03-21T04:08:21.622Z"
   },
   {
    "duration": 10,
    "start_time": "2022-03-21T04:29:15.272Z"
   },
   {
    "duration": 9,
    "start_time": "2022-03-21T04:38:09.867Z"
   },
   {
    "duration": 10,
    "start_time": "2022-03-21T04:38:19.166Z"
   },
   {
    "duration": 9,
    "start_time": "2022-03-21T04:38:29.308Z"
   },
   {
    "duration": 10,
    "start_time": "2022-03-21T04:39:20.209Z"
   },
   {
    "duration": 83,
    "start_time": "2022-03-21T04:39:37.088Z"
   },
   {
    "duration": 21,
    "start_time": "2022-03-21T04:40:13.652Z"
   },
   {
    "duration": 12,
    "start_time": "2022-03-21T04:41:16.623Z"
   },
   {
    "duration": 9,
    "start_time": "2022-03-21T04:41:24.740Z"
   },
   {
    "duration": 11,
    "start_time": "2022-03-21T04:44:15.409Z"
   },
   {
    "duration": 13,
    "start_time": "2022-03-21T04:47:41.534Z"
   },
   {
    "duration": 6,
    "start_time": "2022-03-21T04:48:17.649Z"
   },
   {
    "duration": 4,
    "start_time": "2022-03-21T04:48:26.127Z"
   },
   {
    "duration": 4,
    "start_time": "2022-03-21T04:48:33.248Z"
   },
   {
    "duration": 7,
    "start_time": "2022-03-21T04:49:53.618Z"
   },
   {
    "duration": 8,
    "start_time": "2022-03-21T04:49:54.505Z"
   },
   {
    "duration": 2,
    "start_time": "2022-03-21T04:51:54.558Z"
   },
   {
    "duration": 83,
    "start_time": "2022-03-21T04:51:54.573Z"
   },
   {
    "duration": 6,
    "start_time": "2022-03-21T04:51:54.658Z"
   },
   {
    "duration": 103,
    "start_time": "2022-03-21T04:51:54.665Z"
   },
   {
    "duration": 19,
    "start_time": "2022-03-21T04:51:54.770Z"
   },
   {
    "duration": 32,
    "start_time": "2022-03-21T04:51:54.791Z"
   },
   {
    "duration": 4,
    "start_time": "2022-03-21T04:51:54.825Z"
   },
   {
    "duration": 6,
    "start_time": "2022-03-21T04:51:54.830Z"
   },
   {
    "duration": 4,
    "start_time": "2022-03-21T04:51:54.837Z"
   },
   {
    "duration": 77,
    "start_time": "2022-03-21T04:51:54.842Z"
   },
   {
    "duration": 13,
    "start_time": "2022-03-21T04:51:54.922Z"
   },
   {
    "duration": 69,
    "start_time": "2022-03-21T04:51:54.936Z"
   },
   {
    "duration": 8,
    "start_time": "2022-03-21T04:51:55.006Z"
   },
   {
    "duration": 3,
    "start_time": "2022-03-21T04:51:55.016Z"
   },
   {
    "duration": 9,
    "start_time": "2022-03-21T04:51:55.020Z"
   },
   {
    "duration": 4,
    "start_time": "2022-03-21T04:51:55.031Z"
   },
   {
    "duration": 11,
    "start_time": "2022-03-21T04:51:55.036Z"
   },
   {
    "duration": 228,
    "start_time": "2022-03-21T04:51:55.048Z"
   },
   {
    "duration": 7,
    "start_time": "2022-03-21T04:51:55.278Z"
   },
   {
    "duration": 16,
    "start_time": "2022-03-21T04:51:55.287Z"
   },
   {
    "duration": 8,
    "start_time": "2022-03-21T04:51:55.304Z"
   },
   {
    "duration": 9,
    "start_time": "2022-03-21T04:51:55.313Z"
   },
   {
    "duration": 8,
    "start_time": "2022-03-21T04:51:55.323Z"
   },
   {
    "duration": 74,
    "start_time": "2022-03-21T04:51:55.332Z"
   },
   {
    "duration": 17,
    "start_time": "2022-03-21T04:51:55.408Z"
   },
   {
    "duration": 3,
    "start_time": "2022-03-21T04:51:55.427Z"
   },
   {
    "duration": 13,
    "start_time": "2022-03-21T04:51:55.431Z"
   },
   {
    "duration": 279,
    "start_time": "2022-03-21T04:51:55.445Z"
   },
   {
    "duration": 4,
    "start_time": "2022-03-21T04:51:55.727Z"
   },
   {
    "duration": 8,
    "start_time": "2022-03-21T04:52:10.004Z"
   },
   {
    "duration": 15,
    "start_time": "2022-03-21T04:52:11.539Z"
   },
   {
    "duration": 99,
    "start_time": "2022-03-21T04:52:13.565Z"
   },
   {
    "duration": 112,
    "start_time": "2022-03-21T04:52:14.526Z"
   },
   {
    "duration": 115,
    "start_time": "2022-03-21T04:55:53.854Z"
   },
   {
    "duration": 119,
    "start_time": "2022-03-21T04:57:10.923Z"
   },
   {
    "duration": 116,
    "start_time": "2022-03-21T05:04:25.095Z"
   },
   {
    "duration": 3,
    "start_time": "2022-03-21T05:08:05.575Z"
   },
   {
    "duration": 74,
    "start_time": "2022-03-21T05:08:05.587Z"
   },
   {
    "duration": 7,
    "start_time": "2022-03-21T05:08:05.663Z"
   },
   {
    "duration": 108,
    "start_time": "2022-03-21T05:08:05.671Z"
   },
   {
    "duration": 28,
    "start_time": "2022-03-21T05:08:05.782Z"
   },
   {
    "duration": 25,
    "start_time": "2022-03-21T05:08:05.812Z"
   },
   {
    "duration": 4,
    "start_time": "2022-03-21T05:08:05.839Z"
   },
   {
    "duration": 6,
    "start_time": "2022-03-21T05:08:05.844Z"
   },
   {
    "duration": 4,
    "start_time": "2022-03-21T05:08:05.851Z"
   },
   {
    "duration": 81,
    "start_time": "2022-03-21T05:08:05.857Z"
   },
   {
    "duration": 15,
    "start_time": "2022-03-21T05:08:05.940Z"
   },
   {
    "duration": 75,
    "start_time": "2022-03-21T05:08:05.957Z"
   },
   {
    "duration": 9,
    "start_time": "2022-03-21T05:08:06.034Z"
   },
   {
    "duration": 4,
    "start_time": "2022-03-21T05:08:06.045Z"
   },
   {
    "duration": 11,
    "start_time": "2022-03-21T05:08:06.050Z"
   },
   {
    "duration": 5,
    "start_time": "2022-03-21T05:08:06.062Z"
   },
   {
    "duration": 33,
    "start_time": "2022-03-21T05:08:06.068Z"
   },
   {
    "duration": 227,
    "start_time": "2022-03-21T05:08:06.103Z"
   },
   {
    "duration": 8,
    "start_time": "2022-03-21T05:08:06.332Z"
   },
   {
    "duration": 8,
    "start_time": "2022-03-21T05:08:06.342Z"
   },
   {
    "duration": 4,
    "start_time": "2022-03-21T05:08:06.352Z"
   },
   {
    "duration": 10,
    "start_time": "2022-03-21T05:08:06.358Z"
   },
   {
    "duration": 34,
    "start_time": "2022-03-21T05:08:06.369Z"
   },
   {
    "duration": 14,
    "start_time": "2022-03-21T05:08:06.405Z"
   },
   {
    "duration": 19,
    "start_time": "2022-03-21T05:08:06.421Z"
   },
   {
    "duration": 3,
    "start_time": "2022-03-21T05:08:06.442Z"
   },
   {
    "duration": 15,
    "start_time": "2022-03-21T05:08:06.447Z"
   },
   {
    "duration": 372,
    "start_time": "2022-03-21T05:08:06.464Z"
   },
   {
    "duration": 5,
    "start_time": "2022-03-21T05:08:06.840Z"
   },
   {
    "duration": 11,
    "start_time": "2022-03-21T05:08:06.846Z"
   },
   {
    "duration": 17,
    "start_time": "2022-03-21T05:08:06.859Z"
   },
   {
    "duration": 138,
    "start_time": "2022-03-21T05:08:06.878Z"
   },
   {
    "duration": 140,
    "start_time": "2022-03-21T05:08:07.018Z"
   },
   {
    "duration": 9,
    "start_time": "2022-03-21T05:08:07.159Z"
   },
   {
    "duration": 31,
    "start_time": "2022-03-21T05:08:07.170Z"
   },
   {
    "duration": 130,
    "start_time": "2022-03-21T05:08:07.203Z"
   },
   {
    "duration": 178,
    "start_time": "2022-03-21T05:08:07.335Z"
   },
   {
    "duration": 11,
    "start_time": "2022-03-21T05:08:07.515Z"
   },
   {
    "duration": 8,
    "start_time": "2022-03-21T05:08:07.528Z"
   },
   {
    "duration": 7,
    "start_time": "2022-03-21T05:08:07.538Z"
   },
   {
    "duration": 9,
    "start_time": "2022-03-21T05:08:07.546Z"
   },
   {
    "duration": 51,
    "start_time": "2022-03-21T05:08:07.556Z"
   },
   {
    "duration": 146,
    "start_time": "2022-03-21T05:08:07.609Z"
   },
   {
    "duration": 8,
    "start_time": "2022-03-21T05:08:07.757Z"
   },
   {
    "duration": 15,
    "start_time": "2022-03-21T05:08:07.766Z"
   },
   {
    "duration": 212,
    "start_time": "2022-03-21T05:08:07.783Z"
   },
   {
    "duration": 12,
    "start_time": "2022-03-21T05:08:08.000Z"
   },
   {
    "duration": 3,
    "start_time": "2022-03-21T05:08:35.567Z"
   },
   {
    "duration": 74,
    "start_time": "2022-03-21T05:08:35.586Z"
   },
   {
    "duration": 6,
    "start_time": "2022-03-21T05:08:35.662Z"
   },
   {
    "duration": 106,
    "start_time": "2022-03-21T05:08:35.670Z"
   },
   {
    "duration": 34,
    "start_time": "2022-03-21T05:08:35.778Z"
   },
   {
    "duration": 28,
    "start_time": "2022-03-21T05:08:35.813Z"
   },
   {
    "duration": 4,
    "start_time": "2022-03-21T05:08:35.843Z"
   },
   {
    "duration": 7,
    "start_time": "2022-03-21T05:08:35.849Z"
   },
   {
    "duration": 5,
    "start_time": "2022-03-21T05:08:35.858Z"
   },
   {
    "duration": 80,
    "start_time": "2022-03-21T05:08:35.864Z"
   },
   {
    "duration": 14,
    "start_time": "2022-03-21T05:08:35.947Z"
   },
   {
    "duration": 86,
    "start_time": "2022-03-21T05:08:35.963Z"
   },
   {
    "duration": 9,
    "start_time": "2022-03-21T05:08:36.051Z"
   },
   {
    "duration": 26,
    "start_time": "2022-03-21T05:08:36.062Z"
   },
   {
    "duration": 17,
    "start_time": "2022-03-21T05:08:36.090Z"
   },
   {
    "duration": 6,
    "start_time": "2022-03-21T05:08:36.108Z"
   },
   {
    "duration": 30,
    "start_time": "2022-03-21T05:08:36.115Z"
   },
   {
    "duration": 230,
    "start_time": "2022-03-21T05:08:36.147Z"
   },
   {
    "duration": 8,
    "start_time": "2022-03-21T05:08:36.379Z"
   },
   {
    "duration": 6,
    "start_time": "2022-03-21T05:08:36.401Z"
   },
   {
    "duration": 5,
    "start_time": "2022-03-21T05:08:36.409Z"
   },
   {
    "duration": 10,
    "start_time": "2022-03-21T05:08:36.416Z"
   },
   {
    "duration": 9,
    "start_time": "2022-03-21T05:08:36.428Z"
   },
   {
    "duration": 14,
    "start_time": "2022-03-21T05:08:36.438Z"
   },
   {
    "duration": 53,
    "start_time": "2022-03-21T05:08:36.454Z"
   },
   {
    "duration": 4,
    "start_time": "2022-03-21T05:08:36.510Z"
   },
   {
    "duration": 16,
    "start_time": "2022-03-21T05:08:36.516Z"
   },
   {
    "duration": 372,
    "start_time": "2022-03-21T05:08:36.534Z"
   },
   {
    "duration": 5,
    "start_time": "2022-03-21T05:08:36.909Z"
   },
   {
    "duration": 11,
    "start_time": "2022-03-21T05:08:36.915Z"
   },
   {
    "duration": 16,
    "start_time": "2022-03-21T05:08:36.927Z"
   },
   {
    "duration": 123,
    "start_time": "2022-03-21T05:08:36.944Z"
   },
   {
    "duration": 138,
    "start_time": "2022-03-21T05:08:37.069Z"
   },
   {
    "duration": 9,
    "start_time": "2022-03-21T05:08:37.209Z"
   },
   {
    "duration": 15,
    "start_time": "2022-03-21T05:08:37.220Z"
   },
   {
    "duration": 141,
    "start_time": "2022-03-21T05:08:37.237Z"
   },
   {
    "duration": 170,
    "start_time": "2022-03-21T05:08:37.379Z"
   },
   {
    "duration": 11,
    "start_time": "2022-03-21T05:08:37.550Z"
   },
   {
    "duration": 7,
    "start_time": "2022-03-21T05:08:37.563Z"
   },
   {
    "duration": 30,
    "start_time": "2022-03-21T05:08:37.572Z"
   },
   {
    "duration": 9,
    "start_time": "2022-03-21T05:08:37.603Z"
   },
   {
    "duration": 14,
    "start_time": "2022-03-21T05:08:37.613Z"
   },
   {
    "duration": 160,
    "start_time": "2022-03-21T05:08:37.628Z"
   },
   {
    "duration": 13,
    "start_time": "2022-03-21T05:08:37.790Z"
   },
   {
    "duration": 15,
    "start_time": "2022-03-21T05:08:37.804Z"
   },
   {
    "duration": 188,
    "start_time": "2022-03-21T05:08:37.820Z"
   },
   {
    "duration": 11,
    "start_time": "2022-03-21T05:08:38.010Z"
   },
   {
    "duration": 8,
    "start_time": "2022-03-21T05:08:38.023Z"
   },
   {
    "duration": 16,
    "start_time": "2022-03-21T05:08:38.033Z"
   },
   {
    "duration": 254,
    "start_time": "2022-03-21T05:08:38.051Z"
   },
   {
    "duration": 139,
    "start_time": "2022-03-21T05:20:07.689Z"
   },
   {
    "duration": 351,
    "start_time": "2022-03-21T05:21:29.717Z"
   },
   {
    "duration": 305,
    "start_time": "2022-03-21T05:28:13.110Z"
   },
   {
    "duration": 273,
    "start_time": "2022-03-21T05:29:19.555Z"
   },
   {
    "duration": 185,
    "start_time": "2022-03-21T05:40:28.847Z"
   },
   {
    "duration": 163,
    "start_time": "2022-03-21T05:40:56.878Z"
   },
   {
    "duration": 162,
    "start_time": "2022-03-21T05:41:13.205Z"
   },
   {
    "duration": 165,
    "start_time": "2022-03-21T05:41:54.248Z"
   },
   {
    "duration": 327,
    "start_time": "2022-03-21T05:42:23.774Z"
   },
   {
    "duration": 3623,
    "start_time": "2022-03-21T05:44:02.881Z"
   },
   {
    "duration": 178,
    "start_time": "2022-03-21T05:44:32.169Z"
   },
   {
    "duration": 469,
    "start_time": "2022-03-21T05:47:36.327Z"
   },
   {
    "duration": 310,
    "start_time": "2022-03-21T05:48:43.195Z"
   },
   {
    "duration": 260,
    "start_time": "2022-03-21T05:49:24.641Z"
   },
   {
    "duration": 182,
    "start_time": "2022-03-21T05:59:46.882Z"
   },
   {
    "duration": 2,
    "start_time": "2022-03-21T06:10:38.060Z"
   },
   {
    "duration": 76,
    "start_time": "2022-03-21T06:10:38.073Z"
   },
   {
    "duration": 6,
    "start_time": "2022-03-21T06:10:38.151Z"
   },
   {
    "duration": 109,
    "start_time": "2022-03-21T06:10:38.159Z"
   },
   {
    "duration": 35,
    "start_time": "2022-03-21T06:10:38.270Z"
   },
   {
    "duration": 24,
    "start_time": "2022-03-21T06:10:38.307Z"
   },
   {
    "duration": 4,
    "start_time": "2022-03-21T06:10:38.333Z"
   },
   {
    "duration": 6,
    "start_time": "2022-03-21T06:10:38.338Z"
   },
   {
    "duration": 4,
    "start_time": "2022-03-21T06:10:38.345Z"
   },
   {
    "duration": 72,
    "start_time": "2022-03-21T06:10:38.350Z"
   },
   {
    "duration": 13,
    "start_time": "2022-03-21T06:10:38.425Z"
   },
   {
    "duration": 74,
    "start_time": "2022-03-21T06:10:38.439Z"
   },
   {
    "duration": 8,
    "start_time": "2022-03-21T06:10:38.514Z"
   },
   {
    "duration": 4,
    "start_time": "2022-03-21T06:10:38.524Z"
   },
   {
    "duration": 8,
    "start_time": "2022-03-21T06:10:38.530Z"
   },
   {
    "duration": 4,
    "start_time": "2022-03-21T06:10:38.539Z"
   },
   {
    "duration": 8,
    "start_time": "2022-03-21T06:10:38.545Z"
   },
   {
    "duration": 233,
    "start_time": "2022-03-21T06:10:38.554Z"
   },
   {
    "duration": 13,
    "start_time": "2022-03-21T06:10:38.789Z"
   },
   {
    "duration": 7,
    "start_time": "2022-03-21T06:10:38.803Z"
   },
   {
    "duration": 4,
    "start_time": "2022-03-21T06:10:38.812Z"
   },
   {
    "duration": 10,
    "start_time": "2022-03-21T06:10:38.817Z"
   },
   {
    "duration": 9,
    "start_time": "2022-03-21T06:10:38.828Z"
   },
   {
    "duration": 12,
    "start_time": "2022-03-21T06:10:38.838Z"
   },
   {
    "duration": 52,
    "start_time": "2022-03-21T06:10:38.852Z"
   },
   {
    "duration": 3,
    "start_time": "2022-03-21T06:10:38.906Z"
   },
   {
    "duration": 14,
    "start_time": "2022-03-21T06:10:38.910Z"
   },
   {
    "duration": 264,
    "start_time": "2022-03-21T06:10:38.925Z"
   },
   {
    "duration": 6,
    "start_time": "2022-03-21T06:10:39.201Z"
   },
   {
    "duration": 9,
    "start_time": "2022-03-21T06:10:39.208Z"
   },
   {
    "duration": 14,
    "start_time": "2022-03-21T06:10:39.219Z"
   },
   {
    "duration": 114,
    "start_time": "2022-03-21T06:10:39.235Z"
   },
   {
    "duration": 122,
    "start_time": "2022-03-21T06:10:39.350Z"
   },
   {
    "duration": 9,
    "start_time": "2022-03-21T06:10:39.473Z"
   },
   {
    "duration": 27,
    "start_time": "2022-03-21T06:10:39.484Z"
   },
   {
    "duration": 229,
    "start_time": "2022-03-21T06:10:39.513Z"
   },
   {
    "duration": 172,
    "start_time": "2022-03-21T06:10:39.744Z"
   },
   {
    "duration": 12,
    "start_time": "2022-03-21T06:10:39.918Z"
   },
   {
    "duration": 8,
    "start_time": "2022-03-21T06:10:39.931Z"
   },
   {
    "duration": 7,
    "start_time": "2022-03-21T06:10:39.940Z"
   },
   {
    "duration": 8,
    "start_time": "2022-03-21T06:10:39.949Z"
   },
   {
    "duration": 14,
    "start_time": "2022-03-21T06:10:39.958Z"
   },
   {
    "duration": 164,
    "start_time": "2022-03-21T06:10:39.973Z"
   },
   {
    "duration": 9,
    "start_time": "2022-03-21T06:10:40.139Z"
   },
   {
    "duration": 15,
    "start_time": "2022-03-21T06:10:40.149Z"
   },
   {
    "duration": 178,
    "start_time": "2022-03-21T06:10:40.165Z"
   },
   {
    "duration": 11,
    "start_time": "2022-03-21T06:10:40.344Z"
   },
   {
    "duration": 8,
    "start_time": "2022-03-21T06:10:40.357Z"
   },
   {
    "duration": 35,
    "start_time": "2022-03-21T06:10:40.366Z"
   },
   {
    "duration": 228,
    "start_time": "2022-03-21T06:10:40.403Z"
   },
   {
    "duration": 8,
    "start_time": "2022-03-21T06:10:40.633Z"
   },
   {
    "duration": 9,
    "start_time": "2022-03-21T06:10:40.642Z"
   },
   {
    "duration": 10,
    "start_time": "2022-03-21T06:10:40.652Z"
   },
   {
    "duration": 8,
    "start_time": "2022-03-21T06:10:40.664Z"
   },
   {
    "duration": 29,
    "start_time": "2022-03-21T06:10:40.674Z"
   },
   {
    "duration": 14,
    "start_time": "2022-03-21T06:10:40.705Z"
   },
   {
    "duration": 2957,
    "start_time": "2022-03-21T06:10:40.720Z"
   },
   {
    "duration": 115,
    "start_time": "2022-03-21T06:10:43.679Z"
   },
   {
    "duration": 260,
    "start_time": "2022-03-21T06:10:43.800Z"
   },
   {
    "duration": 302,
    "start_time": "2022-03-21T06:10:44.062Z"
   },
   {
    "duration": 277,
    "start_time": "2022-03-21T06:10:44.366Z"
   },
   {
    "duration": 8,
    "start_time": "2022-03-21T06:10:44.644Z"
   },
   {
    "duration": 18,
    "start_time": "2022-03-21T06:10:44.653Z"
   },
   {
    "duration": 9,
    "start_time": "2022-03-21T06:10:44.673Z"
   },
   {
    "duration": 18,
    "start_time": "2022-03-21T06:10:44.684Z"
   },
   {
    "duration": 16,
    "start_time": "2022-03-21T06:10:44.704Z"
   },
   {
    "duration": 0,
    "start_time": "2022-03-21T06:10:44.721Z"
   },
   {
    "duration": 15,
    "start_time": "2022-03-21T06:11:03.104Z"
   },
   {
    "duration": 13,
    "start_time": "2022-03-21T06:13:25.462Z"
   },
   {
    "duration": 10,
    "start_time": "2022-03-21T06:13:50.660Z"
   },
   {
    "duration": 4,
    "start_time": "2022-03-21T06:13:57.419Z"
   },
   {
    "duration": 230,
    "start_time": "2022-03-21T06:13:58.847Z"
   },
   {
    "duration": 2,
    "start_time": "2022-03-21T06:14:09.719Z"
   },
   {
    "duration": 8,
    "start_time": "2022-03-21T06:14:10.750Z"
   },
   {
    "duration": 22,
    "start_time": "2022-03-21T06:14:13.605Z"
   },
   {
    "duration": 21,
    "start_time": "2022-03-21T06:14:31.089Z"
   },
   {
    "duration": 22,
    "start_time": "2022-03-21T06:16:17.785Z"
   },
   {
    "duration": 22,
    "start_time": "2022-03-21T06:16:31.840Z"
   },
   {
    "duration": 133,
    "start_time": "2022-03-21T06:16:57.644Z"
   },
   {
    "duration": 130,
    "start_time": "2022-03-21T06:17:13.638Z"
   },
   {
    "duration": 136,
    "start_time": "2022-03-21T06:17:17.913Z"
   },
   {
    "duration": 148,
    "start_time": "2022-03-21T06:17:21.349Z"
   },
   {
    "duration": 320,
    "start_time": "2022-03-21T06:17:24.648Z"
   },
   {
    "duration": 135,
    "start_time": "2022-03-21T06:17:25.314Z"
   },
   {
    "duration": 137,
    "start_time": "2022-03-21T06:22:08.422Z"
   },
   {
    "duration": 151,
    "start_time": "2022-03-21T06:23:17.287Z"
   },
   {
    "duration": 152,
    "start_time": "2022-03-21T06:25:13.714Z"
   },
   {
    "duration": 163,
    "start_time": "2022-03-21T06:26:05.803Z"
   },
   {
    "duration": 150,
    "start_time": "2022-03-21T06:28:46.757Z"
   },
   {
    "duration": 163,
    "start_time": "2022-03-21T06:35:37.782Z"
   },
   {
    "duration": 158,
    "start_time": "2022-03-21T06:37:51.153Z"
   },
   {
    "duration": 173,
    "start_time": "2022-03-21T06:39:37.223Z"
   },
   {
    "duration": 148,
    "start_time": "2022-03-21T06:42:01.372Z"
   },
   {
    "duration": 146,
    "start_time": "2022-03-21T06:43:53.500Z"
   },
   {
    "duration": 287,
    "start_time": "2022-03-21T07:08:43.866Z"
   },
   {
    "duration": 142,
    "start_time": "2022-03-21T07:10:50.575Z"
   },
   {
    "duration": 137,
    "start_time": "2022-03-21T07:11:38.590Z"
   },
   {
    "duration": 147,
    "start_time": "2022-03-21T07:12:06.585Z"
   },
   {
    "duration": 144,
    "start_time": "2022-03-21T07:12:50.614Z"
   },
   {
    "duration": 133,
    "start_time": "2022-03-21T07:13:54.062Z"
   },
   {
    "duration": 128,
    "start_time": "2022-03-21T07:14:08.551Z"
   },
   {
    "duration": 139,
    "start_time": "2022-03-21T07:14:21.571Z"
   },
   {
    "duration": 189,
    "start_time": "2022-03-21T07:19:22.251Z"
   },
   {
    "duration": 188,
    "start_time": "2022-03-21T07:19:37.065Z"
   },
   {
    "duration": 333,
    "start_time": "2022-03-21T07:40:36.825Z"
   },
   {
    "duration": 6,
    "start_time": "2022-03-21T07:43:28.079Z"
   },
   {
    "duration": 10,
    "start_time": "2022-03-21T07:44:49.306Z"
   },
   {
    "duration": 9,
    "start_time": "2022-03-21T07:45:03.718Z"
   },
   {
    "duration": 10,
    "start_time": "2022-03-21T07:45:18.213Z"
   },
   {
    "duration": 14,
    "start_time": "2022-03-21T07:45:55.827Z"
   },
   {
    "duration": 3,
    "start_time": "2022-03-21T07:59:41.064Z"
   },
   {
    "duration": 72,
    "start_time": "2022-03-21T07:59:41.075Z"
   },
   {
    "duration": 5,
    "start_time": "2022-03-21T07:59:41.149Z"
   },
   {
    "duration": 128,
    "start_time": "2022-03-21T07:59:41.156Z"
   },
   {
    "duration": 20,
    "start_time": "2022-03-21T07:59:41.302Z"
   },
   {
    "duration": 28,
    "start_time": "2022-03-21T07:59:41.323Z"
   },
   {
    "duration": 4,
    "start_time": "2022-03-21T07:59:41.352Z"
   },
   {
    "duration": 6,
    "start_time": "2022-03-21T07:59:41.358Z"
   },
   {
    "duration": 4,
    "start_time": "2022-03-21T07:59:41.365Z"
   },
   {
    "duration": 51,
    "start_time": "2022-03-21T07:59:41.401Z"
   },
   {
    "duration": 16,
    "start_time": "2022-03-21T07:59:41.455Z"
   },
   {
    "duration": 83,
    "start_time": "2022-03-21T07:59:41.473Z"
   },
   {
    "duration": 7,
    "start_time": "2022-03-21T07:59:41.558Z"
   },
   {
    "duration": 3,
    "start_time": "2022-03-21T07:59:41.567Z"
   },
   {
    "duration": 9,
    "start_time": "2022-03-21T07:59:41.572Z"
   },
   {
    "duration": 5,
    "start_time": "2022-03-21T07:59:41.601Z"
   },
   {
    "duration": 8,
    "start_time": "2022-03-21T07:59:41.607Z"
   },
   {
    "duration": 235,
    "start_time": "2022-03-21T07:59:41.617Z"
   },
   {
    "duration": 8,
    "start_time": "2022-03-21T07:59:41.854Z"
   },
   {
    "duration": 492,
    "start_time": "2022-03-21T07:59:41.864Z"
   },
   {
    "duration": 28,
    "start_time": "2022-03-21T07:59:42.358Z"
   },
   {
    "duration": 3,
    "start_time": "2022-03-21T07:59:42.400Z"
   },
   {
    "duration": 11,
    "start_time": "2022-03-21T07:59:42.405Z"
   },
   {
    "duration": 10,
    "start_time": "2022-03-21T07:59:42.417Z"
   },
   {
    "duration": 16,
    "start_time": "2022-03-21T07:59:42.428Z"
   },
   {
    "duration": 23,
    "start_time": "2022-03-21T07:59:42.446Z"
   },
   {
    "duration": 33,
    "start_time": "2022-03-21T07:59:42.470Z"
   },
   {
    "duration": 14,
    "start_time": "2022-03-21T07:59:42.505Z"
   },
   {
    "duration": 297,
    "start_time": "2022-03-21T07:59:42.524Z"
   },
   {
    "duration": 5,
    "start_time": "2022-03-21T07:59:42.823Z"
   },
   {
    "duration": 10,
    "start_time": "2022-03-21T07:59:42.830Z"
   },
   {
    "duration": 15,
    "start_time": "2022-03-21T07:59:42.841Z"
   },
   {
    "duration": 130,
    "start_time": "2022-03-21T07:59:42.858Z"
   },
   {
    "duration": 139,
    "start_time": "2022-03-21T07:59:42.990Z"
   },
   {
    "duration": 9,
    "start_time": "2022-03-21T07:59:43.130Z"
   },
   {
    "duration": 15,
    "start_time": "2022-03-21T07:59:43.141Z"
   },
   {
    "duration": 143,
    "start_time": "2022-03-21T07:59:43.158Z"
   },
   {
    "duration": 176,
    "start_time": "2022-03-21T07:59:43.303Z"
   },
   {
    "duration": 20,
    "start_time": "2022-03-21T07:59:43.481Z"
   },
   {
    "duration": 9,
    "start_time": "2022-03-21T07:59:43.502Z"
   },
   {
    "duration": 8,
    "start_time": "2022-03-21T07:59:43.513Z"
   },
   {
    "duration": 8,
    "start_time": "2022-03-21T07:59:43.523Z"
   },
   {
    "duration": 19,
    "start_time": "2022-03-21T07:59:43.533Z"
   },
   {
    "duration": 171,
    "start_time": "2022-03-21T07:59:43.554Z"
   },
   {
    "duration": 10,
    "start_time": "2022-03-21T07:59:43.727Z"
   },
   {
    "duration": 16,
    "start_time": "2022-03-21T07:59:43.738Z"
   },
   {
    "duration": 185,
    "start_time": "2022-03-21T07:59:43.755Z"
   },
   {
    "duration": 11,
    "start_time": "2022-03-21T07:59:43.942Z"
   },
   {
    "duration": 8,
    "start_time": "2022-03-21T07:59:43.954Z"
   },
   {
    "duration": 16,
    "start_time": "2022-03-21T07:59:43.964Z"
   },
   {
    "duration": 223,
    "start_time": "2022-03-21T07:59:44.000Z"
   },
   {
    "duration": 9,
    "start_time": "2022-03-21T07:59:44.224Z"
   },
   {
    "duration": 10,
    "start_time": "2022-03-21T07:59:44.234Z"
   },
   {
    "duration": 8,
    "start_time": "2022-03-21T07:59:44.245Z"
   },
   {
    "duration": 8,
    "start_time": "2022-03-21T07:59:44.255Z"
   },
   {
    "duration": 8,
    "start_time": "2022-03-21T07:59:44.264Z"
   },
   {
    "duration": 38,
    "start_time": "2022-03-21T07:59:44.274Z"
   },
   {
    "duration": 2862,
    "start_time": "2022-03-21T07:59:44.313Z"
   },
   {
    "duration": 138,
    "start_time": "2022-03-21T07:59:47.177Z"
   },
   {
    "duration": 270,
    "start_time": "2022-03-21T07:59:47.316Z"
   },
   {
    "duration": 314,
    "start_time": "2022-03-21T07:59:47.587Z"
   },
   {
    "duration": 252,
    "start_time": "2022-03-21T07:59:47.902Z"
   },
   {
    "duration": 6,
    "start_time": "2022-03-21T07:59:48.156Z"
   },
   {
    "duration": 31,
    "start_time": "2022-03-21T07:59:48.164Z"
   },
   {
    "duration": 23,
    "start_time": "2022-03-21T07:59:48.197Z"
   },
   {
    "duration": 20,
    "start_time": "2022-03-21T07:59:48.222Z"
   },
   {
    "duration": 22,
    "start_time": "2022-03-21T07:59:48.244Z"
   },
   {
    "duration": 15,
    "start_time": "2022-03-21T07:59:48.267Z"
   },
   {
    "duration": 243,
    "start_time": "2022-03-21T07:59:48.283Z"
   },
   {
    "duration": 3,
    "start_time": "2022-03-21T07:59:48.528Z"
   },
   {
    "duration": 16,
    "start_time": "2022-03-21T07:59:48.533Z"
   },
   {
    "duration": 52,
    "start_time": "2022-03-21T07:59:48.550Z"
   },
   {
    "duration": 25,
    "start_time": "2022-03-21T07:59:48.603Z"
   },
   {
    "duration": 20,
    "start_time": "2022-03-21T07:59:48.630Z"
   },
   {
    "duration": 21,
    "start_time": "2022-03-21T07:59:48.651Z"
   },
   {
    "duration": 155,
    "start_time": "2022-03-21T07:59:48.674Z"
   },
   {
    "duration": 141,
    "start_time": "2022-03-21T07:59:48.831Z"
   },
   {
    "duration": 132,
    "start_time": "2022-03-21T07:59:48.974Z"
   },
   {
    "duration": 155,
    "start_time": "2022-03-21T07:59:49.107Z"
   },
   {
    "duration": 177,
    "start_time": "2022-03-21T07:59:49.264Z"
   },
   {
    "duration": 145,
    "start_time": "2022-03-21T07:59:49.443Z"
   },
   {
    "duration": 14,
    "start_time": "2022-03-21T08:01:48.776Z"
   },
   {
    "duration": 2,
    "start_time": "2022-03-21T08:07:38.307Z"
   },
   {
    "duration": 71,
    "start_time": "2022-03-21T08:07:38.322Z"
   },
   {
    "duration": 6,
    "start_time": "2022-03-21T08:07:38.395Z"
   },
   {
    "duration": 113,
    "start_time": "2022-03-21T08:07:38.403Z"
   },
   {
    "duration": 18,
    "start_time": "2022-03-21T08:07:38.518Z"
   },
   {
    "duration": 28,
    "start_time": "2022-03-21T08:07:38.538Z"
   },
   {
    "duration": 4,
    "start_time": "2022-03-21T08:07:38.567Z"
   },
   {
    "duration": 29,
    "start_time": "2022-03-21T08:07:38.573Z"
   },
   {
    "duration": 5,
    "start_time": "2022-03-21T08:07:38.603Z"
   },
   {
    "duration": 55,
    "start_time": "2022-03-21T08:07:38.610Z"
   },
   {
    "duration": 15,
    "start_time": "2022-03-21T08:07:38.667Z"
   },
   {
    "duration": 66,
    "start_time": "2022-03-21T08:07:38.702Z"
   },
   {
    "duration": 30,
    "start_time": "2022-03-21T08:07:38.771Z"
   },
   {
    "duration": 5,
    "start_time": "2022-03-21T08:07:38.803Z"
   },
   {
    "duration": 9,
    "start_time": "2022-03-21T08:07:38.812Z"
   },
   {
    "duration": 5,
    "start_time": "2022-03-21T08:07:38.823Z"
   },
   {
    "duration": 9,
    "start_time": "2022-03-21T08:07:38.830Z"
   },
   {
    "duration": 241,
    "start_time": "2022-03-21T08:07:38.841Z"
   },
   {
    "duration": 18,
    "start_time": "2022-03-21T08:07:39.084Z"
   },
   {
    "duration": 254,
    "start_time": "2022-03-21T08:07:39.103Z"
   },
   {
    "duration": 12,
    "start_time": "2022-03-21T08:07:39.358Z"
   },
   {
    "duration": 10,
    "start_time": "2022-03-21T08:07:39.371Z"
   },
   {
    "duration": 31,
    "start_time": "2022-03-21T08:07:39.382Z"
   },
   {
    "duration": 20,
    "start_time": "2022-03-21T08:07:39.415Z"
   },
   {
    "duration": 4,
    "start_time": "2022-03-21T08:07:39.437Z"
   },
   {
    "duration": 19,
    "start_time": "2022-03-21T08:07:39.442Z"
   },
   {
    "duration": 291,
    "start_time": "2022-03-21T08:07:39.463Z"
   },
   {
    "duration": 6,
    "start_time": "2022-03-21T08:07:39.756Z"
   },
   {
    "duration": 10,
    "start_time": "2022-03-21T08:07:39.764Z"
   },
   {
    "duration": 32,
    "start_time": "2022-03-21T08:07:39.775Z"
   },
   {
    "duration": 106,
    "start_time": "2022-03-21T08:07:39.809Z"
   },
   {
    "duration": 125,
    "start_time": "2022-03-21T08:07:39.917Z"
   },
   {
    "duration": 8,
    "start_time": "2022-03-21T08:07:40.044Z"
   },
   {
    "duration": 16,
    "start_time": "2022-03-21T08:07:40.054Z"
   },
   {
    "duration": 366,
    "start_time": "2022-03-21T08:07:40.071Z"
   },
   {
    "duration": 176,
    "start_time": "2022-03-21T08:07:40.439Z"
   },
   {
    "duration": 12,
    "start_time": "2022-03-21T08:07:40.617Z"
   },
   {
    "duration": 9,
    "start_time": "2022-03-21T08:07:40.631Z"
   },
   {
    "duration": 9,
    "start_time": "2022-03-21T08:07:40.641Z"
   },
   {
    "duration": 8,
    "start_time": "2022-03-21T08:07:40.652Z"
   },
   {
    "duration": 47,
    "start_time": "2022-03-21T08:07:40.662Z"
   },
   {
    "duration": 152,
    "start_time": "2022-03-21T08:07:40.714Z"
   },
   {
    "duration": 9,
    "start_time": "2022-03-21T08:07:40.867Z"
   },
   {
    "duration": 28,
    "start_time": "2022-03-21T08:07:40.877Z"
   },
   {
    "duration": 172,
    "start_time": "2022-03-21T08:07:40.906Z"
   },
   {
    "duration": 25,
    "start_time": "2022-03-21T08:07:41.079Z"
   },
   {
    "duration": 8,
    "start_time": "2022-03-21T08:07:41.106Z"
   },
   {
    "duration": 16,
    "start_time": "2022-03-21T08:07:41.115Z"
   },
   {
    "duration": 226,
    "start_time": "2022-03-21T08:07:41.132Z"
   },
   {
    "duration": 8,
    "start_time": "2022-03-21T08:07:41.360Z"
   },
   {
    "duration": 10,
    "start_time": "2022-03-21T08:07:41.369Z"
   },
   {
    "duration": 25,
    "start_time": "2022-03-21T08:07:41.381Z"
   },
   {
    "duration": 9,
    "start_time": "2022-03-21T08:07:41.408Z"
   },
   {
    "duration": 13,
    "start_time": "2022-03-21T08:07:41.418Z"
   },
   {
    "duration": 13,
    "start_time": "2022-03-21T08:07:41.433Z"
   },
   {
    "duration": 2642,
    "start_time": "2022-03-21T08:07:41.448Z"
   },
   {
    "duration": 140,
    "start_time": "2022-03-21T08:07:44.092Z"
   },
   {
    "duration": 276,
    "start_time": "2022-03-21T08:07:44.233Z"
   },
   {
    "duration": 319,
    "start_time": "2022-03-21T08:07:44.511Z"
   },
   {
    "duration": 255,
    "start_time": "2022-03-21T08:07:44.831Z"
   },
   {
    "duration": 15,
    "start_time": "2022-03-21T08:07:45.087Z"
   },
   {
    "duration": 17,
    "start_time": "2022-03-21T08:07:45.104Z"
   },
   {
    "duration": 9,
    "start_time": "2022-03-21T08:07:45.123Z"
   },
   {
    "duration": 3,
    "start_time": "2022-03-21T08:07:45.134Z"
   },
   {
    "duration": 12,
    "start_time": "2022-03-21T08:07:45.139Z"
   },
   {
    "duration": 3,
    "start_time": "2022-03-21T08:07:45.153Z"
   },
   {
    "duration": 263,
    "start_time": "2022-03-21T08:07:45.158Z"
   },
   {
    "duration": 3,
    "start_time": "2022-03-21T08:07:45.422Z"
   },
   {
    "duration": 10,
    "start_time": "2022-03-21T08:07:45.426Z"
   },
   {
    "duration": 289,
    "start_time": "2022-03-21T08:07:45.437Z"
   },
   {
    "duration": 21,
    "start_time": "2022-03-21T08:07:45.728Z"
   },
   {
    "duration": 21,
    "start_time": "2022-03-21T08:07:45.751Z"
   },
   {
    "duration": 46,
    "start_time": "2022-03-21T08:07:45.774Z"
   },
   {
    "duration": 141,
    "start_time": "2022-03-21T08:07:45.821Z"
   },
   {
    "duration": 142,
    "start_time": "2022-03-21T08:07:45.964Z"
   },
   {
    "duration": 136,
    "start_time": "2022-03-21T08:07:46.107Z"
   },
   {
    "duration": 158,
    "start_time": "2022-03-21T08:07:46.244Z"
   },
   {
    "duration": 188,
    "start_time": "2022-03-21T08:07:46.404Z"
   },
   {
    "duration": 152,
    "start_time": "2022-03-21T08:07:46.594Z"
   },
   {
    "duration": 2,
    "start_time": "2022-03-21T08:10:25.703Z"
   },
   {
    "duration": 83,
    "start_time": "2022-03-21T08:10:25.717Z"
   },
   {
    "duration": 6,
    "start_time": "2022-03-21T08:10:25.802Z"
   },
   {
    "duration": 124,
    "start_time": "2022-03-21T08:10:25.810Z"
   },
   {
    "duration": 20,
    "start_time": "2022-03-21T08:10:25.936Z"
   },
   {
    "duration": 48,
    "start_time": "2022-03-21T08:10:25.958Z"
   },
   {
    "duration": 5,
    "start_time": "2022-03-21T08:10:26.008Z"
   },
   {
    "duration": 7,
    "start_time": "2022-03-21T08:10:26.015Z"
   },
   {
    "duration": 5,
    "start_time": "2022-03-21T08:10:26.024Z"
   },
   {
    "duration": 80,
    "start_time": "2022-03-21T08:10:26.031Z"
   },
   {
    "duration": 15,
    "start_time": "2022-03-21T08:10:26.113Z"
   },
   {
    "duration": 78,
    "start_time": "2022-03-21T08:10:26.130Z"
   },
   {
    "duration": 10,
    "start_time": "2022-03-21T08:10:26.210Z"
   },
   {
    "duration": 4,
    "start_time": "2022-03-21T08:10:26.222Z"
   },
   {
    "duration": 10,
    "start_time": "2022-03-21T08:10:26.230Z"
   },
   {
    "duration": 5,
    "start_time": "2022-03-21T08:10:26.241Z"
   },
   {
    "duration": 9,
    "start_time": "2022-03-21T08:10:26.248Z"
   },
   {
    "duration": 262,
    "start_time": "2022-03-21T08:10:26.259Z"
   },
   {
    "duration": 8,
    "start_time": "2022-03-21T08:10:26.523Z"
   },
   {
    "duration": 271,
    "start_time": "2022-03-21T08:10:26.533Z"
   },
   {
    "duration": 11,
    "start_time": "2022-03-21T08:10:26.806Z"
   },
   {
    "duration": 10,
    "start_time": "2022-03-21T08:10:26.819Z"
   },
   {
    "duration": 14,
    "start_time": "2022-03-21T08:10:26.831Z"
   },
   {
    "duration": 21,
    "start_time": "2022-03-21T08:10:26.847Z"
   },
   {
    "duration": 33,
    "start_time": "2022-03-21T08:10:26.870Z"
   },
   {
    "duration": 13,
    "start_time": "2022-03-21T08:10:26.906Z"
   },
   {
    "duration": 290,
    "start_time": "2022-03-21T08:10:26.921Z"
   },
   {
    "duration": 5,
    "start_time": "2022-03-21T08:10:27.213Z"
   },
   {
    "duration": 14,
    "start_time": "2022-03-21T08:10:27.219Z"
   },
   {
    "duration": 16,
    "start_time": "2022-03-21T08:10:27.235Z"
   },
   {
    "duration": 127,
    "start_time": "2022-03-21T08:10:27.252Z"
   },
   {
    "duration": 146,
    "start_time": "2022-03-21T08:10:27.381Z"
   },
   {
    "duration": 9,
    "start_time": "2022-03-21T08:10:27.529Z"
   },
   {
    "duration": 16,
    "start_time": "2022-03-21T08:10:27.540Z"
   },
   {
    "duration": 152,
    "start_time": "2022-03-21T08:10:27.558Z"
   },
   {
    "duration": 186,
    "start_time": "2022-03-21T08:10:27.712Z"
   },
   {
    "duration": 12,
    "start_time": "2022-03-21T08:10:27.901Z"
   },
   {
    "duration": 8,
    "start_time": "2022-03-21T08:10:27.914Z"
   },
   {
    "duration": 19,
    "start_time": "2022-03-21T08:10:27.924Z"
   },
   {
    "duration": 20,
    "start_time": "2022-03-21T08:10:27.944Z"
   },
   {
    "duration": 18,
    "start_time": "2022-03-21T08:10:27.965Z"
   },
   {
    "duration": 159,
    "start_time": "2022-03-21T08:10:27.988Z"
   },
   {
    "duration": 8,
    "start_time": "2022-03-21T08:10:28.149Z"
   },
   {
    "duration": 15,
    "start_time": "2022-03-21T08:10:28.159Z"
   },
   {
    "duration": 192,
    "start_time": "2022-03-21T08:10:28.176Z"
   },
   {
    "duration": 13,
    "start_time": "2022-03-21T08:10:28.370Z"
   },
   {
    "duration": 24,
    "start_time": "2022-03-21T08:10:28.385Z"
   },
   {
    "duration": 17,
    "start_time": "2022-03-21T08:10:28.410Z"
   },
   {
    "duration": 232,
    "start_time": "2022-03-21T08:10:28.429Z"
   },
   {
    "duration": 8,
    "start_time": "2022-03-21T08:10:28.663Z"
   },
   {
    "duration": 11,
    "start_time": "2022-03-21T08:10:28.673Z"
   },
   {
    "duration": 23,
    "start_time": "2022-03-21T08:10:28.686Z"
   },
   {
    "duration": 9,
    "start_time": "2022-03-21T08:10:28.711Z"
   },
   {
    "duration": 9,
    "start_time": "2022-03-21T08:10:28.722Z"
   },
   {
    "duration": 13,
    "start_time": "2022-03-21T08:10:28.732Z"
   },
   {
    "duration": 3013,
    "start_time": "2022-03-21T08:10:28.747Z"
   },
   {
    "duration": 140,
    "start_time": "2022-03-21T08:10:31.762Z"
   },
   {
    "duration": 276,
    "start_time": "2022-03-21T08:10:31.904Z"
   },
   {
    "duration": 343,
    "start_time": "2022-03-21T08:10:32.182Z"
   },
   {
    "duration": 286,
    "start_time": "2022-03-21T08:10:32.528Z"
   },
   {
    "duration": 8,
    "start_time": "2022-03-21T08:10:32.816Z"
   },
   {
    "duration": 17,
    "start_time": "2022-03-21T08:10:32.826Z"
   },
   {
    "duration": 11,
    "start_time": "2022-03-21T08:10:32.845Z"
   },
   {
    "duration": 3,
    "start_time": "2022-03-21T08:10:32.858Z"
   },
   {
    "duration": 42,
    "start_time": "2022-03-21T08:10:32.863Z"
   },
   {
    "duration": 4,
    "start_time": "2022-03-21T08:10:32.907Z"
   },
   {
    "duration": 271,
    "start_time": "2022-03-21T08:10:32.913Z"
   },
   {
    "duration": 2,
    "start_time": "2022-03-21T08:10:33.186Z"
   },
   {
    "duration": 16,
    "start_time": "2022-03-21T08:10:33.190Z"
   },
   {
    "duration": 23,
    "start_time": "2022-03-21T08:10:33.208Z"
   },
   {
    "duration": 22,
    "start_time": "2022-03-21T08:10:33.233Z"
   },
   {
    "duration": 45,
    "start_time": "2022-03-21T08:10:33.257Z"
   },
   {
    "duration": 24,
    "start_time": "2022-03-21T08:10:33.305Z"
   },
   {
    "duration": 155,
    "start_time": "2022-03-21T08:10:33.331Z"
   },
   {
    "duration": 147,
    "start_time": "2022-03-21T08:10:33.487Z"
   },
   {
    "duration": 139,
    "start_time": "2022-03-21T08:10:33.635Z"
   },
   {
    "duration": 170,
    "start_time": "2022-03-21T08:10:33.776Z"
   },
   {
    "duration": 181,
    "start_time": "2022-03-21T08:10:33.947Z"
   },
   {
    "duration": 142,
    "start_time": "2022-03-21T08:10:34.129Z"
   },
   {
    "duration": 123,
    "start_time": "2022-03-21T08:37:02.943Z"
   },
   {
    "duration": 119,
    "start_time": "2022-03-21T08:38:19.522Z"
   },
   {
    "duration": 18,
    "start_time": "2022-03-21T08:39:03.390Z"
   },
   {
    "duration": 6,
    "start_time": "2022-03-21T08:51:09.651Z"
   },
   {
    "duration": 5,
    "start_time": "2022-03-21T08:51:17.551Z"
   },
   {
    "duration": 2,
    "start_time": "2022-03-21T08:52:30.240Z"
   },
   {
    "duration": 83,
    "start_time": "2022-03-21T08:52:30.250Z"
   },
   {
    "duration": 7,
    "start_time": "2022-03-21T08:52:30.335Z"
   },
   {
    "duration": 110,
    "start_time": "2022-03-21T08:52:30.344Z"
   },
   {
    "duration": 20,
    "start_time": "2022-03-21T08:52:30.457Z"
   },
   {
    "duration": 42,
    "start_time": "2022-03-21T08:52:30.479Z"
   },
   {
    "duration": 14,
    "start_time": "2022-03-21T08:52:30.523Z"
   },
   {
    "duration": 29,
    "start_time": "2022-03-21T08:52:30.539Z"
   },
   {
    "duration": 26,
    "start_time": "2022-03-21T08:52:30.570Z"
   },
   {
    "duration": 74,
    "start_time": "2022-03-21T08:52:30.598Z"
   },
   {
    "duration": 16,
    "start_time": "2022-03-21T08:52:30.675Z"
   },
   {
    "duration": 75,
    "start_time": "2022-03-21T08:52:30.693Z"
   },
   {
    "duration": 9,
    "start_time": "2022-03-21T08:52:30.770Z"
   },
   {
    "duration": 8,
    "start_time": "2022-03-21T08:52:30.781Z"
   },
   {
    "duration": 10,
    "start_time": "2022-03-21T08:52:30.802Z"
   },
   {
    "duration": 10,
    "start_time": "2022-03-21T08:52:30.814Z"
   },
   {
    "duration": 22,
    "start_time": "2022-03-21T08:52:30.826Z"
   },
   {
    "duration": 239,
    "start_time": "2022-03-21T08:52:30.850Z"
   },
   {
    "duration": 17,
    "start_time": "2022-03-21T08:52:31.091Z"
   },
   {
    "duration": 264,
    "start_time": "2022-03-21T08:52:31.110Z"
   },
   {
    "duration": 255,
    "start_time": "2022-03-21T08:52:34.428Z"
   },
   {
    "duration": 5,
    "start_time": "2022-03-21T08:52:35.427Z"
   },
   {
    "duration": 3,
    "start_time": "2022-03-21T08:52:54.738Z"
   },
   {
    "duration": 68,
    "start_time": "2022-03-21T08:52:54.752Z"
   },
   {
    "duration": 6,
    "start_time": "2022-03-21T08:52:54.822Z"
   },
   {
    "duration": 114,
    "start_time": "2022-03-21T08:52:54.830Z"
   },
   {
    "duration": 19,
    "start_time": "2022-03-21T08:52:54.947Z"
   },
   {
    "duration": 50,
    "start_time": "2022-03-21T08:52:54.968Z"
   },
   {
    "duration": 4,
    "start_time": "2022-03-21T08:52:55.020Z"
   },
   {
    "duration": 9,
    "start_time": "2022-03-21T08:52:55.025Z"
   },
   {
    "duration": 4,
    "start_time": "2022-03-21T08:52:55.035Z"
   },
   {
    "duration": 68,
    "start_time": "2022-03-21T08:52:55.041Z"
   },
   {
    "duration": 14,
    "start_time": "2022-03-21T08:52:55.110Z"
   },
   {
    "duration": 77,
    "start_time": "2022-03-21T08:52:55.126Z"
   },
   {
    "duration": 9,
    "start_time": "2022-03-21T08:52:55.204Z"
   },
   {
    "duration": 4,
    "start_time": "2022-03-21T08:52:55.215Z"
   },
   {
    "duration": 10,
    "start_time": "2022-03-21T08:52:55.221Z"
   },
   {
    "duration": 4,
    "start_time": "2022-03-21T08:52:55.233Z"
   },
   {
    "duration": 8,
    "start_time": "2022-03-21T08:52:55.238Z"
   },
   {
    "duration": 247,
    "start_time": "2022-03-21T08:52:55.248Z"
   },
   {
    "duration": 11,
    "start_time": "2022-03-21T08:52:55.496Z"
   },
   {
    "duration": 275,
    "start_time": "2022-03-21T08:52:55.508Z"
   },
   {
    "duration": 6,
    "start_time": "2022-03-21T08:52:55.785Z"
   },
   {
    "duration": 19,
    "start_time": "2022-03-21T08:52:55.800Z"
   },
   {
    "duration": 10,
    "start_time": "2022-03-21T08:52:55.821Z"
   },
   {
    "duration": 19,
    "start_time": "2022-03-21T08:52:55.833Z"
   },
   {
    "duration": 22,
    "start_time": "2022-03-21T08:52:55.853Z"
   },
   {
    "duration": 26,
    "start_time": "2022-03-21T08:52:55.877Z"
   },
   {
    "duration": 13,
    "start_time": "2022-03-21T08:52:55.905Z"
   },
   {
    "duration": 310,
    "start_time": "2022-03-21T08:52:55.920Z"
   },
   {
    "duration": 6,
    "start_time": "2022-03-21T08:52:56.231Z"
   },
   {
    "duration": 24,
    "start_time": "2022-03-21T08:52:56.238Z"
   },
   {
    "duration": 25,
    "start_time": "2022-03-21T08:52:56.263Z"
   },
   {
    "duration": 113,
    "start_time": "2022-03-21T08:52:56.289Z"
   },
   {
    "duration": 130,
    "start_time": "2022-03-21T08:52:56.404Z"
   },
   {
    "duration": 10,
    "start_time": "2022-03-21T08:52:56.536Z"
   },
   {
    "duration": 29,
    "start_time": "2022-03-21T08:52:56.548Z"
   },
   {
    "duration": 129,
    "start_time": "2022-03-21T08:52:56.579Z"
   },
   {
    "duration": 177,
    "start_time": "2022-03-21T08:52:56.710Z"
   },
   {
    "duration": 18,
    "start_time": "2022-03-21T08:52:56.889Z"
   },
   {
    "duration": 12,
    "start_time": "2022-03-21T08:52:56.908Z"
   },
   {
    "duration": 18,
    "start_time": "2022-03-21T08:52:56.921Z"
   },
   {
    "duration": 22,
    "start_time": "2022-03-21T08:52:56.940Z"
   },
   {
    "duration": 19,
    "start_time": "2022-03-21T08:52:56.966Z"
   },
   {
    "duration": 143,
    "start_time": "2022-03-21T08:52:56.987Z"
   },
   {
    "duration": 9,
    "start_time": "2022-03-21T08:52:57.131Z"
   },
   {
    "duration": 24,
    "start_time": "2022-03-21T08:52:57.142Z"
   },
   {
    "duration": 193,
    "start_time": "2022-03-21T08:52:57.168Z"
   },
   {
    "duration": 10,
    "start_time": "2022-03-21T08:52:57.363Z"
   },
   {
    "duration": 15,
    "start_time": "2022-03-21T08:52:57.374Z"
   },
   {
    "duration": 25,
    "start_time": "2022-03-21T08:52:57.390Z"
   },
   {
    "duration": 233,
    "start_time": "2022-03-21T08:52:57.416Z"
   },
   {
    "duration": 9,
    "start_time": "2022-03-21T08:52:57.651Z"
   },
   {
    "duration": 11,
    "start_time": "2022-03-21T08:52:57.662Z"
   },
   {
    "duration": 30,
    "start_time": "2022-03-21T08:52:57.675Z"
   },
   {
    "duration": 10,
    "start_time": "2022-03-21T08:52:57.707Z"
   },
   {
    "duration": 10,
    "start_time": "2022-03-21T08:52:57.719Z"
   },
   {
    "duration": 14,
    "start_time": "2022-03-21T08:52:57.730Z"
   },
   {
    "duration": 3068,
    "start_time": "2022-03-21T08:52:57.746Z"
   },
   {
    "duration": 144,
    "start_time": "2022-03-21T08:53:00.816Z"
   },
   {
    "duration": 354,
    "start_time": "2022-03-21T08:53:00.962Z"
   },
   {
    "duration": 377,
    "start_time": "2022-03-21T08:53:01.318Z"
   },
   {
    "duration": 262,
    "start_time": "2022-03-21T08:53:01.700Z"
   },
   {
    "duration": 8,
    "start_time": "2022-03-21T08:53:01.963Z"
   },
   {
    "duration": 29,
    "start_time": "2022-03-21T08:53:01.973Z"
   },
   {
    "duration": 13,
    "start_time": "2022-03-21T08:53:02.004Z"
   },
   {
    "duration": 5,
    "start_time": "2022-03-21T08:53:02.018Z"
   },
   {
    "duration": 19,
    "start_time": "2022-03-21T08:53:02.025Z"
   },
   {
    "duration": 15,
    "start_time": "2022-03-21T08:53:02.045Z"
   },
   {
    "duration": 423,
    "start_time": "2022-03-21T08:53:02.062Z"
   },
   {
    "duration": 3,
    "start_time": "2022-03-21T08:53:02.487Z"
   },
   {
    "duration": 13,
    "start_time": "2022-03-21T08:53:02.500Z"
   },
   {
    "duration": 30,
    "start_time": "2022-03-21T08:53:02.515Z"
   },
   {
    "duration": 29,
    "start_time": "2022-03-21T08:53:02.547Z"
   },
   {
    "duration": 51,
    "start_time": "2022-03-21T08:53:02.577Z"
   },
   {
    "duration": 33,
    "start_time": "2022-03-21T08:53:02.630Z"
   },
   {
    "duration": 199,
    "start_time": "2022-03-21T08:53:02.665Z"
   },
   {
    "duration": 194,
    "start_time": "2022-03-21T08:53:02.866Z"
   },
   {
    "duration": 141,
    "start_time": "2022-03-21T08:53:03.062Z"
   },
   {
    "duration": 178,
    "start_time": "2022-03-21T08:53:03.205Z"
   },
   {
    "duration": 183,
    "start_time": "2022-03-21T08:53:03.385Z"
   },
   {
    "duration": 150,
    "start_time": "2022-03-21T08:53:03.570Z"
   },
   {
    "duration": 5,
    "start_time": "2022-03-21T08:53:58.809Z"
   },
   {
    "duration": 6,
    "start_time": "2022-03-21T08:56:23.564Z"
   },
   {
    "duration": 3,
    "start_time": "2022-03-21T08:56:30.317Z"
   },
   {
    "duration": 79,
    "start_time": "2022-03-21T08:56:30.330Z"
   },
   {
    "duration": 7,
    "start_time": "2022-03-21T08:56:30.412Z"
   },
   {
    "duration": 150,
    "start_time": "2022-03-21T08:56:30.420Z"
   },
   {
    "duration": 30,
    "start_time": "2022-03-21T08:56:30.573Z"
   },
   {
    "duration": 347,
    "start_time": "2022-03-21T08:56:30.605Z"
   },
   {
    "duration": 5,
    "start_time": "2022-03-21T08:56:30.954Z"
   },
   {
    "duration": 62,
    "start_time": "2022-03-21T08:56:30.961Z"
   },
   {
    "duration": 22,
    "start_time": "2022-03-21T08:56:31.025Z"
   },
   {
    "duration": 68,
    "start_time": "2022-03-21T08:56:31.049Z"
   },
   {
    "duration": 15,
    "start_time": "2022-03-21T08:56:31.120Z"
   },
   {
    "duration": 92,
    "start_time": "2022-03-21T08:56:31.137Z"
   },
   {
    "duration": 10,
    "start_time": "2022-03-21T08:56:31.230Z"
   },
   {
    "duration": 5,
    "start_time": "2022-03-21T08:56:31.242Z"
   },
   {
    "duration": 14,
    "start_time": "2022-03-21T08:56:31.249Z"
   },
   {
    "duration": 5,
    "start_time": "2022-03-21T08:56:31.264Z"
   },
   {
    "duration": 37,
    "start_time": "2022-03-21T08:56:31.271Z"
   },
   {
    "duration": 238,
    "start_time": "2022-03-21T08:56:31.310Z"
   },
   {
    "duration": 9,
    "start_time": "2022-03-21T08:56:31.550Z"
   },
   {
    "duration": 281,
    "start_time": "2022-03-21T08:56:31.561Z"
   },
   {
    "duration": 6,
    "start_time": "2022-03-21T08:56:31.844Z"
   },
   {
    "duration": 10,
    "start_time": "2022-03-21T08:58:08.439Z"
   },
   {
    "duration": 183,
    "start_time": "2022-03-21T08:58:32.138Z"
   },
   {
    "duration": 211,
    "start_time": "2022-03-21T09:00:47.256Z"
   },
   {
    "duration": 1061,
    "start_time": "2022-03-21T09:52:38.158Z"
   },
   {
    "duration": 925,
    "start_time": "2022-03-21T09:52:53.212Z"
   },
   {
    "duration": 4653,
    "start_time": "2022-03-21T09:55:36.306Z"
   },
   {
    "duration": 196,
    "start_time": "2022-03-21T09:57:24.116Z"
   },
   {
    "duration": 197,
    "start_time": "2022-03-21T09:57:54.555Z"
   },
   {
    "duration": 19,
    "start_time": "2022-03-21T10:09:15.103Z"
   },
   {
    "duration": 18,
    "start_time": "2022-03-21T10:10:32.358Z"
   },
   {
    "duration": 4,
    "start_time": "2022-03-21T10:11:13.228Z"
   },
   {
    "duration": 3,
    "start_time": "2022-03-21T10:13:02.084Z"
   },
   {
    "duration": 13,
    "start_time": "2022-03-21T10:13:09.657Z"
   },
   {
    "duration": 119,
    "start_time": "2022-03-21T10:14:20.450Z"
   },
   {
    "duration": 148,
    "start_time": "2022-03-21T10:15:00.305Z"
   },
   {
    "duration": 2,
    "start_time": "2022-03-21T10:15:52.503Z"
   },
   {
    "duration": 3532,
    "start_time": "2022-03-21T10:16:50.249Z"
   },
   {
    "duration": 4121,
    "start_time": "2022-03-21T10:17:15.474Z"
   },
   {
    "duration": 3,
    "start_time": "2022-03-21T10:17:33.752Z"
   },
   {
    "duration": 86,
    "start_time": "2022-03-21T10:17:33.766Z"
   },
   {
    "duration": 7,
    "start_time": "2022-03-21T10:17:33.854Z"
   },
   {
    "duration": 102,
    "start_time": "2022-03-21T10:17:35.204Z"
   },
   {
    "duration": 21,
    "start_time": "2022-03-21T10:17:35.308Z"
   },
   {
    "duration": 27,
    "start_time": "2022-03-21T10:17:35.330Z"
   },
   {
    "duration": 4,
    "start_time": "2022-03-21T10:17:35.359Z"
   },
   {
    "duration": 9,
    "start_time": "2022-03-21T10:17:35.366Z"
   },
   {
    "duration": 26,
    "start_time": "2022-03-21T10:17:35.377Z"
   },
   {
    "duration": 51,
    "start_time": "2022-03-21T10:17:35.405Z"
   },
   {
    "duration": 16,
    "start_time": "2022-03-21T10:17:35.457Z"
   },
   {
    "duration": 84,
    "start_time": "2022-03-21T10:17:35.475Z"
   },
   {
    "duration": 10,
    "start_time": "2022-03-21T10:17:35.561Z"
   },
   {
    "duration": 5,
    "start_time": "2022-03-21T10:17:35.572Z"
   },
   {
    "duration": 10,
    "start_time": "2022-03-21T10:17:35.602Z"
   },
   {
    "duration": 5,
    "start_time": "2022-03-21T10:17:35.613Z"
   },
   {
    "duration": 15,
    "start_time": "2022-03-21T10:17:35.621Z"
   },
   {
    "duration": 227,
    "start_time": "2022-03-21T10:17:35.637Z"
   },
   {
    "duration": 9,
    "start_time": "2022-03-21T10:17:35.866Z"
   },
   {
    "duration": 235,
    "start_time": "2022-03-21T10:17:35.877Z"
   },
   {
    "duration": 11,
    "start_time": "2022-03-21T10:17:36.114Z"
   },
   {
    "duration": 10,
    "start_time": "2022-03-21T10:17:36.127Z"
   },
   {
    "duration": 14,
    "start_time": "2022-03-21T10:17:36.139Z"
   },
   {
    "duration": 51,
    "start_time": "2022-03-21T10:17:36.155Z"
   },
   {
    "duration": 4,
    "start_time": "2022-03-21T10:17:36.208Z"
   },
   {
    "duration": 13,
    "start_time": "2022-03-21T10:17:36.214Z"
   },
   {
    "duration": 290,
    "start_time": "2022-03-21T10:17:36.228Z"
   },
   {
    "duration": 6,
    "start_time": "2022-03-21T10:17:36.520Z"
   },
   {
    "duration": 5,
    "start_time": "2022-03-21T10:17:36.528Z"
   },
   {
    "duration": 11,
    "start_time": "2022-03-21T10:17:36.534Z"
   },
   {
    "duration": 14,
    "start_time": "2022-03-21T10:17:36.546Z"
   },
   {
    "duration": 198,
    "start_time": "2022-03-21T10:17:36.563Z"
   },
   {
    "duration": 147,
    "start_time": "2022-03-21T10:17:36.763Z"
   },
   {
    "duration": 9,
    "start_time": "2022-03-21T10:17:42.675Z"
   },
   {
    "duration": 15,
    "start_time": "2022-03-21T10:17:47.172Z"
   },
   {
    "duration": 115,
    "start_time": "2022-03-21T10:18:12.271Z"
   },
   {
    "duration": 174,
    "start_time": "2022-03-21T10:19:09.747Z"
   },
   {
    "duration": 273,
    "start_time": "2022-03-21T10:20:16.617Z"
   },
   {
    "duration": 212,
    "start_time": "2022-03-21T10:32:51.569Z"
   },
   {
    "duration": 34,
    "start_time": "2022-03-21T10:33:15.328Z"
   },
   {
    "duration": 36,
    "start_time": "2022-03-21T10:33:34.374Z"
   },
   {
    "duration": 14,
    "start_time": "2022-03-21T10:34:34.577Z"
   },
   {
    "duration": 158,
    "start_time": "2022-03-21T10:35:18.175Z"
   },
   {
    "duration": 15,
    "start_time": "2022-03-21T10:36:02.606Z"
   },
   {
    "duration": 16,
    "start_time": "2022-03-21T10:37:57.638Z"
   },
   {
    "duration": 14,
    "start_time": "2022-03-21T10:37:59.255Z"
   },
   {
    "duration": 3,
    "start_time": "2022-03-21T10:47:11.871Z"
   },
   {
    "duration": 70,
    "start_time": "2022-03-21T10:47:11.887Z"
   },
   {
    "duration": 6,
    "start_time": "2022-03-21T10:47:11.959Z"
   },
   {
    "duration": 161,
    "start_time": "2022-03-21T10:47:11.967Z"
   },
   {
    "duration": 31,
    "start_time": "2022-03-21T10:47:12.131Z"
   },
   {
    "duration": 55,
    "start_time": "2022-03-21T10:47:12.165Z"
   },
   {
    "duration": 5,
    "start_time": "2022-03-21T10:47:12.222Z"
   },
   {
    "duration": 14,
    "start_time": "2022-03-21T10:47:12.229Z"
   },
   {
    "duration": 5,
    "start_time": "2022-03-21T10:47:12.245Z"
   },
   {
    "duration": 102,
    "start_time": "2022-03-21T10:47:12.252Z"
   },
   {
    "duration": 22,
    "start_time": "2022-03-21T10:47:12.358Z"
   },
   {
    "duration": 114,
    "start_time": "2022-03-21T10:47:12.382Z"
   },
   {
    "duration": 10,
    "start_time": "2022-03-21T10:47:12.501Z"
   },
   {
    "duration": 4,
    "start_time": "2022-03-21T10:47:12.513Z"
   },
   {
    "duration": 10,
    "start_time": "2022-03-21T10:47:12.519Z"
   },
   {
    "duration": 6,
    "start_time": "2022-03-21T10:47:12.530Z"
   },
   {
    "duration": 11,
    "start_time": "2022-03-21T10:47:12.538Z"
   },
   {
    "duration": 256,
    "start_time": "2022-03-21T10:47:12.550Z"
   },
   {
    "duration": 9,
    "start_time": "2022-03-21T10:47:12.808Z"
   },
   {
    "duration": 236,
    "start_time": "2022-03-21T10:47:12.819Z"
   },
   {
    "duration": 11,
    "start_time": "2022-03-21T10:47:13.058Z"
   },
   {
    "duration": 9,
    "start_time": "2022-03-21T10:47:13.070Z"
   },
   {
    "duration": 32,
    "start_time": "2022-03-21T10:47:13.081Z"
   },
   {
    "duration": 19,
    "start_time": "2022-03-21T10:47:13.115Z"
   },
   {
    "duration": 4,
    "start_time": "2022-03-21T10:47:13.135Z"
   },
   {
    "duration": 14,
    "start_time": "2022-03-21T10:47:13.141Z"
   },
   {
    "duration": 307,
    "start_time": "2022-03-21T10:47:13.157Z"
   },
   {
    "duration": 6,
    "start_time": "2022-03-21T10:47:13.466Z"
   },
   {
    "duration": 3,
    "start_time": "2022-03-21T10:47:13.476Z"
   },
   {
    "duration": 29,
    "start_time": "2022-03-21T10:47:13.482Z"
   },
   {
    "duration": 16,
    "start_time": "2022-03-21T10:47:13.513Z"
   },
   {
    "duration": 139,
    "start_time": "2022-03-21T10:47:13.530Z"
   },
   {
    "duration": 163,
    "start_time": "2022-03-21T10:47:13.672Z"
   },
   {
    "duration": 11,
    "start_time": "2022-03-21T10:47:13.838Z"
   },
   {
    "duration": 29,
    "start_time": "2022-03-21T10:47:13.851Z"
   },
   {
    "duration": 221,
    "start_time": "2022-03-21T10:47:13.882Z"
   },
   {
    "duration": 317,
    "start_time": "2022-03-21T10:47:14.106Z"
   },
   {
    "duration": 12,
    "start_time": "2022-03-21T10:47:14.425Z"
   },
   {
    "duration": 11,
    "start_time": "2022-03-21T10:47:14.438Z"
   },
   {
    "duration": 10,
    "start_time": "2022-03-21T10:47:14.450Z"
   },
   {
    "duration": 51,
    "start_time": "2022-03-21T10:47:14.462Z"
   },
   {
    "duration": 592,
    "start_time": "2022-03-21T10:47:14.514Z"
   },
   {
    "duration": 12,
    "start_time": "2022-03-21T10:47:15.108Z"
   },
   {
    "duration": 18,
    "start_time": "2022-03-21T10:47:15.122Z"
   },
   {
    "duration": 5,
    "start_time": "2022-03-21T10:47:15.142Z"
   },
   {
    "duration": 18,
    "start_time": "2022-03-21T10:47:15.148Z"
   },
   {
    "duration": 7,
    "start_time": "2022-03-21T11:23:33.690Z"
   },
   {
    "duration": 4,
    "start_time": "2022-03-21T11:23:38.841Z"
   },
   {
    "duration": 16,
    "start_time": "2022-03-21T11:23:40.101Z"
   },
   {
    "duration": 8,
    "start_time": "2022-03-21T11:24:17.063Z"
   },
   {
    "duration": 16,
    "start_time": "2022-03-21T11:24:24.624Z"
   },
   {
    "duration": 4,
    "start_time": "2022-03-21T11:24:53.259Z"
   },
   {
    "duration": 4,
    "start_time": "2022-03-21T11:25:48.020Z"
   },
   {
    "duration": 15,
    "start_time": "2022-03-21T11:25:49.502Z"
   },
   {
    "duration": 4,
    "start_time": "2022-03-21T11:26:54.486Z"
   },
   {
    "duration": 10,
    "start_time": "2022-03-21T11:26:55.011Z"
   },
   {
    "duration": 14,
    "start_time": "2022-03-21T11:26:55.710Z"
   },
   {
    "duration": 120,
    "start_time": "2022-03-21T11:26:57.746Z"
   },
   {
    "duration": 232,
    "start_time": "2022-03-21T11:26:58.561Z"
   },
   {
    "duration": 8,
    "start_time": "2022-03-21T11:27:01.083Z"
   },
   {
    "duration": 14,
    "start_time": "2022-03-21T11:27:01.571Z"
   },
   {
    "duration": 115,
    "start_time": "2022-03-21T11:27:02.044Z"
   },
   {
    "duration": 179,
    "start_time": "2022-03-21T11:27:02.608Z"
   },
   {
    "duration": 10,
    "start_time": "2022-03-21T11:27:04.054Z"
   },
   {
    "duration": 10,
    "start_time": "2022-03-21T11:27:04.561Z"
   },
   {
    "duration": 10,
    "start_time": "2022-03-21T11:27:05.153Z"
   },
   {
    "duration": 15,
    "start_time": "2022-03-21T11:27:06.530Z"
   },
   {
    "duration": 163,
    "start_time": "2022-03-21T11:27:07.227Z"
   },
   {
    "duration": 9,
    "start_time": "2022-03-21T11:27:11.229Z"
   },
   {
    "duration": 16,
    "start_time": "2022-03-21T11:27:11.908Z"
   },
   {
    "duration": 14,
    "start_time": "2022-03-21T11:27:25.216Z"
   },
   {
    "duration": 3,
    "start_time": "2022-03-21T11:27:54.950Z"
   },
   {
    "duration": 9,
    "start_time": "2022-03-21T11:27:55.665Z"
   },
   {
    "duration": 22,
    "start_time": "2022-03-21T11:27:56.134Z"
   },
   {
    "duration": 116,
    "start_time": "2022-03-21T11:27:56.992Z"
   },
   {
    "duration": 135,
    "start_time": "2022-03-21T11:27:57.315Z"
   },
   {
    "duration": 9,
    "start_time": "2022-03-21T11:27:58.529Z"
   },
   {
    "duration": 15,
    "start_time": "2022-03-21T11:27:58.865Z"
   },
   {
    "duration": 112,
    "start_time": "2022-03-21T11:27:59.370Z"
   },
   {
    "duration": 180,
    "start_time": "2022-03-21T11:27:59.808Z"
   },
   {
    "duration": 9,
    "start_time": "2022-03-21T11:28:01.198Z"
   },
   {
    "duration": 8,
    "start_time": "2022-03-21T11:28:01.659Z"
   },
   {
    "duration": 11,
    "start_time": "2022-03-21T11:28:02.228Z"
   },
   {
    "duration": 14,
    "start_time": "2022-03-21T11:28:02.867Z"
   },
   {
    "duration": 165,
    "start_time": "2022-03-21T11:28:03.497Z"
   },
   {
    "duration": 10,
    "start_time": "2022-03-21T11:28:05.381Z"
   },
   {
    "duration": 15,
    "start_time": "2022-03-21T11:28:05.866Z"
   },
   {
    "duration": 13,
    "start_time": "2022-03-21T11:28:09.499Z"
   },
   {
    "duration": 4,
    "start_time": "2022-03-21T11:29:04.718Z"
   },
   {
    "duration": 8,
    "start_time": "2022-03-21T11:29:05.256Z"
   },
   {
    "duration": 14,
    "start_time": "2022-03-21T11:29:06.279Z"
   },
   {
    "duration": 122,
    "start_time": "2022-03-21T11:29:07.608Z"
   },
   {
    "duration": 137,
    "start_time": "2022-03-21T11:29:08.313Z"
   },
   {
    "duration": 9,
    "start_time": "2022-03-21T11:29:10.242Z"
   },
   {
    "duration": 14,
    "start_time": "2022-03-21T11:29:10.724Z"
   },
   {
    "duration": 116,
    "start_time": "2022-03-21T11:29:11.191Z"
   },
   {
    "duration": 174,
    "start_time": "2022-03-21T11:29:11.817Z"
   },
   {
    "duration": 8,
    "start_time": "2022-03-21T11:29:13.398Z"
   },
   {
    "duration": 8,
    "start_time": "2022-03-21T11:29:13.877Z"
   },
   {
    "duration": 9,
    "start_time": "2022-03-21T11:29:14.546Z"
   },
   {
    "duration": 15,
    "start_time": "2022-03-21T11:29:15.827Z"
   },
   {
    "duration": 164,
    "start_time": "2022-03-21T11:29:16.388Z"
   },
   {
    "duration": 9,
    "start_time": "2022-03-21T11:29:18.576Z"
   },
   {
    "duration": 16,
    "start_time": "2022-03-21T11:29:19.186Z"
   },
   {
    "duration": 17,
    "start_time": "2022-03-21T11:29:20.567Z"
   },
   {
    "duration": 4,
    "start_time": "2022-03-21T11:29:59.855Z"
   },
   {
    "duration": 8,
    "start_time": "2022-03-21T11:30:00.535Z"
   },
   {
    "duration": 15,
    "start_time": "2022-03-21T11:30:00.904Z"
   },
   {
    "duration": 125,
    "start_time": "2022-03-21T11:30:01.736Z"
   },
   {
    "duration": 148,
    "start_time": "2022-03-21T11:30:02.063Z"
   },
   {
    "duration": 8,
    "start_time": "2022-03-21T11:30:03.293Z"
   },
   {
    "duration": 13,
    "start_time": "2022-03-21T11:30:03.502Z"
   },
   {
    "duration": 117,
    "start_time": "2022-03-21T11:30:03.697Z"
   },
   {
    "duration": 176,
    "start_time": "2022-03-21T11:30:03.892Z"
   },
   {
    "duration": 9,
    "start_time": "2022-03-21T11:30:04.446Z"
   },
   {
    "duration": 9,
    "start_time": "2022-03-21T11:30:04.760Z"
   },
   {
    "duration": 10,
    "start_time": "2022-03-21T11:30:05.138Z"
   },
   {
    "duration": 13,
    "start_time": "2022-03-21T11:30:06.753Z"
   },
   {
    "duration": 160,
    "start_time": "2022-03-21T11:30:07.130Z"
   },
   {
    "duration": 8,
    "start_time": "2022-03-21T11:30:08.610Z"
   },
   {
    "duration": 14,
    "start_time": "2022-03-21T11:30:09.150Z"
   },
   {
    "duration": 13,
    "start_time": "2022-03-21T11:30:10.142Z"
   },
   {
    "duration": 3,
    "start_time": "2022-03-21T11:30:51.510Z"
   },
   {
    "duration": 10,
    "start_time": "2022-03-21T11:30:52.743Z"
   },
   {
    "duration": 13,
    "start_time": "2022-03-21T11:30:53.136Z"
   },
   {
    "duration": 133,
    "start_time": "2022-03-21T11:30:53.600Z"
   },
   {
    "duration": 138,
    "start_time": "2022-03-21T11:30:53.765Z"
   },
   {
    "duration": 8,
    "start_time": "2022-03-21T11:30:54.391Z"
   },
   {
    "duration": 16,
    "start_time": "2022-03-21T11:30:54.562Z"
   },
   {
    "duration": 111,
    "start_time": "2022-03-21T11:30:54.726Z"
   },
   {
    "duration": 177,
    "start_time": "2022-03-21T11:30:55.032Z"
   },
   {
    "duration": 8,
    "start_time": "2022-03-21T11:30:56.918Z"
   },
   {
    "duration": 8,
    "start_time": "2022-03-21T11:30:57.597Z"
   },
   {
    "duration": 9,
    "start_time": "2022-03-21T11:30:58.636Z"
   },
   {
    "duration": 18,
    "start_time": "2022-03-21T11:30:59.496Z"
   },
   {
    "duration": 159,
    "start_time": "2022-03-21T11:31:00.608Z"
   },
   {
    "duration": 9,
    "start_time": "2022-03-21T11:31:02.681Z"
   },
   {
    "duration": 15,
    "start_time": "2022-03-21T11:31:03.521Z"
   },
   {
    "duration": 14,
    "start_time": "2022-03-21T11:31:04.501Z"
   },
   {
    "duration": 4,
    "start_time": "2022-03-21T11:31:33.818Z"
   },
   {
    "duration": 9,
    "start_time": "2022-03-21T11:31:34.308Z"
   },
   {
    "duration": 15,
    "start_time": "2022-03-21T11:31:34.662Z"
   },
   {
    "duration": 119,
    "start_time": "2022-03-21T11:31:35.028Z"
   },
   {
    "duration": 132,
    "start_time": "2022-03-21T11:31:35.187Z"
   },
   {
    "duration": 9,
    "start_time": "2022-03-21T11:31:35.794Z"
   },
   {
    "duration": 15,
    "start_time": "2022-03-21T11:31:35.935Z"
   },
   {
    "duration": 121,
    "start_time": "2022-03-21T11:31:36.088Z"
   },
   {
    "duration": 190,
    "start_time": "2022-03-21T11:31:36.241Z"
   },
   {
    "duration": 11,
    "start_time": "2022-03-21T11:31:36.713Z"
   },
   {
    "duration": 10,
    "start_time": "2022-03-21T11:31:36.918Z"
   },
   {
    "duration": 10,
    "start_time": "2022-03-21T11:31:37.966Z"
   },
   {
    "duration": 15,
    "start_time": "2022-03-21T11:31:38.150Z"
   },
   {
    "duration": 162,
    "start_time": "2022-03-21T11:31:38.673Z"
   },
   {
    "duration": 10,
    "start_time": "2022-03-21T11:31:44.344Z"
   },
   {
    "duration": 16,
    "start_time": "2022-03-21T11:31:45.106Z"
   },
   {
    "duration": 15,
    "start_time": "2022-03-21T11:31:46.321Z"
   },
   {
    "duration": 2,
    "start_time": "2022-03-21T11:32:24.725Z"
   },
   {
    "duration": 72,
    "start_time": "2022-03-21T11:32:24.740Z"
   },
   {
    "duration": 7,
    "start_time": "2022-03-21T11:32:24.814Z"
   },
   {
    "duration": 114,
    "start_time": "2022-03-21T11:32:24.822Z"
   },
   {
    "duration": 21,
    "start_time": "2022-03-21T11:32:24.938Z"
   },
   {
    "duration": 25,
    "start_time": "2022-03-21T11:32:24.961Z"
   },
   {
    "duration": 4,
    "start_time": "2022-03-21T11:32:25.001Z"
   },
   {
    "duration": 7,
    "start_time": "2022-03-21T11:32:25.006Z"
   },
   {
    "duration": 6,
    "start_time": "2022-03-21T11:32:25.015Z"
   },
   {
    "duration": 50,
    "start_time": "2022-03-21T11:32:25.023Z"
   },
   {
    "duration": 34,
    "start_time": "2022-03-21T11:32:25.076Z"
   },
   {
    "duration": 65,
    "start_time": "2022-03-21T11:32:25.112Z"
   },
   {
    "duration": 25,
    "start_time": "2022-03-21T11:32:25.179Z"
   },
   {
    "duration": 4,
    "start_time": "2022-03-21T11:32:25.206Z"
   },
   {
    "duration": 12,
    "start_time": "2022-03-21T11:32:25.212Z"
   },
   {
    "duration": 4,
    "start_time": "2022-03-21T11:32:25.226Z"
   },
   {
    "duration": 10,
    "start_time": "2022-03-21T11:32:25.232Z"
   },
   {
    "duration": 247,
    "start_time": "2022-03-21T11:32:25.243Z"
   },
   {
    "duration": 17,
    "start_time": "2022-03-21T11:32:25.491Z"
   },
   {
    "duration": 226,
    "start_time": "2022-03-21T11:32:25.510Z"
   },
   {
    "duration": 10,
    "start_time": "2022-03-21T11:32:25.738Z"
   },
   {
    "duration": 9,
    "start_time": "2022-03-21T11:32:25.750Z"
   },
   {
    "duration": 14,
    "start_time": "2022-03-21T11:32:25.761Z"
   },
   {
    "duration": 44,
    "start_time": "2022-03-21T11:32:25.776Z"
   },
   {
    "duration": 3,
    "start_time": "2022-03-21T11:32:25.822Z"
   },
   {
    "duration": 16,
    "start_time": "2022-03-21T11:32:25.827Z"
   },
   {
    "duration": 287,
    "start_time": "2022-03-21T11:32:25.845Z"
   },
   {
    "duration": 5,
    "start_time": "2022-03-21T11:32:26.134Z"
   },
   {
    "duration": 4,
    "start_time": "2022-03-21T11:32:26.142Z"
   },
   {
    "duration": 9,
    "start_time": "2022-03-21T11:32:26.147Z"
   },
   {
    "duration": 14,
    "start_time": "2022-03-21T11:32:26.158Z"
   },
   {
    "duration": 146,
    "start_time": "2022-03-21T11:32:26.173Z"
   },
   {
    "duration": 141,
    "start_time": "2022-03-21T11:32:26.321Z"
   },
   {
    "duration": 8,
    "start_time": "2022-03-21T11:32:26.464Z"
   },
   {
    "duration": 30,
    "start_time": "2022-03-21T11:32:26.474Z"
   },
   {
    "duration": 122,
    "start_time": "2022-03-21T11:32:26.506Z"
   },
   {
    "duration": 183,
    "start_time": "2022-03-21T11:32:26.629Z"
   },
   {
    "duration": 9,
    "start_time": "2022-03-21T11:32:26.813Z"
   },
   {
    "duration": 9,
    "start_time": "2022-03-21T11:32:26.824Z"
   },
   {
    "duration": 10,
    "start_time": "2022-03-21T11:32:26.835Z"
   },
   {
    "duration": 13,
    "start_time": "2022-03-21T11:32:26.847Z"
   },
   {
    "duration": 196,
    "start_time": "2022-03-21T11:32:26.862Z"
   },
   {
    "duration": 9,
    "start_time": "2022-03-21T11:32:27.060Z"
   },
   {
    "duration": 30,
    "start_time": "2022-03-21T11:32:27.071Z"
   },
   {
    "duration": 16,
    "start_time": "2022-03-21T11:32:27.103Z"
   },
   {
    "duration": 15,
    "start_time": "2022-03-21T11:32:29.904Z"
   },
   {
    "duration": 17,
    "start_time": "2022-03-21T11:32:44.687Z"
   },
   {
    "duration": 16,
    "start_time": "2022-03-21T11:32:58.429Z"
   },
   {
    "duration": 4,
    "start_time": "2022-03-21T11:33:47.227Z"
   },
   {
    "duration": 9,
    "start_time": "2022-03-21T11:33:47.428Z"
   },
   {
    "duration": 21,
    "start_time": "2022-03-21T11:33:47.610Z"
   },
   {
    "duration": 122,
    "start_time": "2022-03-21T11:33:47.928Z"
   },
   {
    "duration": 177,
    "start_time": "2022-03-21T11:33:48.082Z"
   },
   {
    "duration": 10,
    "start_time": "2022-03-21T11:33:48.718Z"
   },
   {
    "duration": 14,
    "start_time": "2022-03-21T11:33:48.879Z"
   },
   {
    "duration": 114,
    "start_time": "2022-03-21T11:33:49.044Z"
   },
   {
    "duration": 173,
    "start_time": "2022-03-21T11:33:49.210Z"
   },
   {
    "duration": 9,
    "start_time": "2022-03-21T11:33:49.769Z"
   },
   {
    "duration": 8,
    "start_time": "2022-03-21T11:33:50.236Z"
   },
   {
    "duration": 9,
    "start_time": "2022-03-21T11:33:50.711Z"
   },
   {
    "duration": 13,
    "start_time": "2022-03-21T11:33:51.331Z"
   },
   {
    "duration": 161,
    "start_time": "2022-03-21T11:33:52.281Z"
   },
   {
    "duration": 9,
    "start_time": "2022-03-21T11:33:54.788Z"
   },
   {
    "duration": 16,
    "start_time": "2022-03-21T11:33:55.542Z"
   },
   {
    "duration": 15,
    "start_time": "2022-03-21T11:33:56.672Z"
   },
   {
    "duration": 4,
    "start_time": "2022-03-21T11:34:15.982Z"
   },
   {
    "duration": 10,
    "start_time": "2022-03-21T11:34:16.161Z"
   },
   {
    "duration": 15,
    "start_time": "2022-03-21T11:34:16.329Z"
   },
   {
    "duration": 115,
    "start_time": "2022-03-21T11:34:16.644Z"
   },
   {
    "duration": 137,
    "start_time": "2022-03-21T11:34:16.790Z"
   },
   {
    "duration": 9,
    "start_time": "2022-03-21T11:34:17.396Z"
   },
   {
    "duration": 16,
    "start_time": "2022-03-21T11:34:17.548Z"
   },
   {
    "duration": 111,
    "start_time": "2022-03-21T11:34:17.721Z"
   },
   {
    "duration": 182,
    "start_time": "2022-03-21T11:34:17.864Z"
   },
   {
    "duration": 9,
    "start_time": "2022-03-21T11:34:18.334Z"
   },
   {
    "duration": 9,
    "start_time": "2022-03-21T11:34:18.507Z"
   },
   {
    "duration": 10,
    "start_time": "2022-03-21T11:34:18.668Z"
   },
   {
    "duration": 14,
    "start_time": "2022-03-21T11:34:18.963Z"
   },
   {
    "duration": 158,
    "start_time": "2022-03-21T11:34:20.010Z"
   },
   {
    "duration": 9,
    "start_time": "2022-03-21T11:34:20.579Z"
   },
   {
    "duration": 18,
    "start_time": "2022-03-21T11:34:21.166Z"
   },
   {
    "duration": 17,
    "start_time": "2022-03-21T11:34:21.697Z"
   },
   {
    "duration": 4,
    "start_time": "2022-03-21T11:37:38.503Z"
   },
   {
    "duration": 9,
    "start_time": "2022-03-21T11:37:39.674Z"
   },
   {
    "duration": 15,
    "start_time": "2022-03-21T11:37:41.034Z"
   },
   {
    "duration": 112,
    "start_time": "2022-03-21T11:37:54.375Z"
   },
   {
    "duration": 132,
    "start_time": "2022-03-21T11:37:54.730Z"
   },
   {
    "duration": 8,
    "start_time": "2022-03-21T11:37:56.679Z"
   },
   {
    "duration": 15,
    "start_time": "2022-03-21T11:37:57.133Z"
   },
   {
    "duration": 107,
    "start_time": "2022-03-21T11:37:57.544Z"
   },
   {
    "duration": 185,
    "start_time": "2022-03-21T11:37:57.989Z"
   },
   {
    "duration": 9,
    "start_time": "2022-03-21T11:37:59.977Z"
   },
   {
    "duration": 8,
    "start_time": "2022-03-21T11:38:01.347Z"
   },
   {
    "duration": 10,
    "start_time": "2022-03-21T11:38:04.064Z"
   },
   {
    "duration": 13,
    "start_time": "2022-03-21T11:38:05.061Z"
   },
   {
    "duration": 156,
    "start_time": "2022-03-21T11:38:07.828Z"
   },
   {
    "duration": 9,
    "start_time": "2022-03-21T11:38:10.200Z"
   },
   {
    "duration": 16,
    "start_time": "2022-03-21T11:38:11.343Z"
   },
   {
    "duration": 16,
    "start_time": "2022-03-21T11:38:12.473Z"
   },
   {
    "duration": 4,
    "start_time": "2022-03-21T11:38:59.170Z"
   },
   {
    "duration": 2,
    "start_time": "2022-03-21T11:39:23.750Z"
   },
   {
    "duration": 75,
    "start_time": "2022-03-21T11:39:23.763Z"
   },
   {
    "duration": 8,
    "start_time": "2022-03-21T11:39:23.841Z"
   },
   {
    "duration": 120,
    "start_time": "2022-03-21T11:39:23.851Z"
   },
   {
    "duration": 29,
    "start_time": "2022-03-21T11:39:23.973Z"
   },
   {
    "duration": 26,
    "start_time": "2022-03-21T11:39:24.004Z"
   },
   {
    "duration": 4,
    "start_time": "2022-03-21T11:39:24.032Z"
   },
   {
    "duration": 6,
    "start_time": "2022-03-21T11:39:24.038Z"
   },
   {
    "duration": 5,
    "start_time": "2022-03-21T11:39:24.045Z"
   },
   {
    "duration": 84,
    "start_time": "2022-03-21T11:39:24.052Z"
   },
   {
    "duration": 15,
    "start_time": "2022-03-21T11:39:24.139Z"
   },
   {
    "duration": 76,
    "start_time": "2022-03-21T11:39:24.156Z"
   },
   {
    "duration": 9,
    "start_time": "2022-03-21T11:39:24.234Z"
   },
   {
    "duration": 4,
    "start_time": "2022-03-21T11:39:24.244Z"
   },
   {
    "duration": 10,
    "start_time": "2022-03-21T11:39:24.249Z"
   },
   {
    "duration": 5,
    "start_time": "2022-03-21T11:39:24.260Z"
   },
   {
    "duration": 39,
    "start_time": "2022-03-21T11:39:24.267Z"
   },
   {
    "duration": 709,
    "start_time": "2022-03-21T11:39:24.307Z"
   },
   {
    "duration": 9,
    "start_time": "2022-03-21T11:39:25.018Z"
   },
   {
    "duration": 244,
    "start_time": "2022-03-21T11:39:25.028Z"
   },
   {
    "duration": 11,
    "start_time": "2022-03-21T11:39:25.273Z"
   },
   {
    "duration": 19,
    "start_time": "2022-03-21T11:39:25.285Z"
   },
   {
    "duration": 15,
    "start_time": "2022-03-21T11:39:25.305Z"
   },
   {
    "duration": 20,
    "start_time": "2022-03-21T11:39:25.321Z"
   },
   {
    "duration": 4,
    "start_time": "2022-03-21T11:39:25.344Z"
   },
   {
    "duration": 15,
    "start_time": "2022-03-21T11:39:25.349Z"
   },
   {
    "duration": 296,
    "start_time": "2022-03-21T11:39:25.365Z"
   },
   {
    "duration": 5,
    "start_time": "2022-03-21T11:39:25.663Z"
   },
   {
    "duration": 4,
    "start_time": "2022-03-21T11:39:25.671Z"
   },
   {
    "duration": 13,
    "start_time": "2022-03-21T11:39:25.676Z"
   },
   {
    "duration": 15,
    "start_time": "2022-03-21T11:39:25.700Z"
   },
   {
    "duration": 136,
    "start_time": "2022-03-21T11:39:25.716Z"
   },
   {
    "duration": 143,
    "start_time": "2022-03-21T11:39:25.854Z"
   },
   {
    "duration": 9,
    "start_time": "2022-03-21T11:39:26.001Z"
   },
   {
    "duration": 16,
    "start_time": "2022-03-21T11:39:26.011Z"
   },
   {
    "duration": 135,
    "start_time": "2022-03-21T11:39:26.029Z"
   },
   {
    "duration": 203,
    "start_time": "2022-03-21T11:39:26.165Z"
   },
   {
    "duration": 8,
    "start_time": "2022-03-21T11:39:26.370Z"
   },
   {
    "duration": 24,
    "start_time": "2022-03-21T11:39:26.380Z"
   },
   {
    "duration": 10,
    "start_time": "2022-03-21T11:39:26.406Z"
   },
   {
    "duration": 16,
    "start_time": "2022-03-21T11:39:26.418Z"
   },
   {
    "duration": 189,
    "start_time": "2022-03-21T11:39:26.435Z"
   },
   {
    "duration": 8,
    "start_time": "2022-03-21T11:39:26.626Z"
   },
   {
    "duration": 15,
    "start_time": "2022-03-21T11:39:26.636Z"
   },
   {
    "duration": 17,
    "start_time": "2022-03-21T11:39:29.938Z"
   },
   {
    "duration": 16,
    "start_time": "2022-03-21T11:39:30.463Z"
   },
   {
    "duration": 15,
    "start_time": "2022-03-21T11:40:16.260Z"
   },
   {
    "duration": 171,
    "start_time": "2022-03-21T11:41:32.591Z"
   },
   {
    "duration": 12,
    "start_time": "2022-03-21T11:41:37.074Z"
   },
   {
    "duration": 179,
    "start_time": "2022-03-21T11:42:30.082Z"
   },
   {
    "duration": 12,
    "start_time": "2022-03-21T11:42:41.704Z"
   },
   {
    "duration": 184,
    "start_time": "2022-03-21T12:05:25.553Z"
   },
   {
    "duration": 151,
    "start_time": "2022-03-21T12:05:35.389Z"
   },
   {
    "duration": 137,
    "start_time": "2022-03-21T12:06:10.055Z"
   },
   {
    "duration": 184,
    "start_time": "2022-03-21T12:06:42.452Z"
   },
   {
    "duration": 174,
    "start_time": "2022-03-21T12:07:37.319Z"
   },
   {
    "duration": 173,
    "start_time": "2022-03-21T12:08:55.599Z"
   },
   {
    "duration": 11,
    "start_time": "2022-03-21T12:09:05.263Z"
   },
   {
    "duration": 18,
    "start_time": "2022-03-21T12:10:02.525Z"
   },
   {
    "duration": 228,
    "start_time": "2022-03-21T12:10:45.262Z"
   },
   {
    "duration": 188,
    "start_time": "2022-03-21T12:11:10.406Z"
   },
   {
    "duration": 201,
    "start_time": "2022-03-21T12:12:11.092Z"
   },
   {
    "duration": 180,
    "start_time": "2022-03-21T12:12:25.795Z"
   },
   {
    "duration": 171,
    "start_time": "2022-03-21T12:12:38.755Z"
   },
   {
    "duration": 3,
    "start_time": "2022-03-21T12:14:04.599Z"
   },
   {
    "duration": 72,
    "start_time": "2022-03-21T12:14:04.612Z"
   },
   {
    "duration": 6,
    "start_time": "2022-03-21T12:14:04.687Z"
   },
   {
    "duration": 85,
    "start_time": "2022-03-21T12:14:04.701Z"
   },
   {
    "duration": 28,
    "start_time": "2022-03-21T12:14:04.802Z"
   },
   {
    "duration": 27,
    "start_time": "2022-03-21T12:14:04.831Z"
   },
   {
    "duration": 4,
    "start_time": "2022-03-21T12:14:04.860Z"
   },
   {
    "duration": 9,
    "start_time": "2022-03-21T12:14:04.865Z"
   },
   {
    "duration": 7,
    "start_time": "2022-03-21T12:14:04.875Z"
   },
   {
    "duration": 66,
    "start_time": "2022-03-21T12:14:04.883Z"
   },
   {
    "duration": 15,
    "start_time": "2022-03-21T12:14:04.952Z"
   },
   {
    "duration": 80,
    "start_time": "2022-03-21T12:14:04.968Z"
   },
   {
    "duration": 9,
    "start_time": "2022-03-21T12:14:05.049Z"
   },
   {
    "duration": 4,
    "start_time": "2022-03-21T12:14:05.059Z"
   },
   {
    "duration": 15,
    "start_time": "2022-03-21T12:14:05.065Z"
   },
   {
    "duration": 19,
    "start_time": "2022-03-21T12:14:05.082Z"
   },
   {
    "duration": 9,
    "start_time": "2022-03-21T12:14:05.103Z"
   },
   {
    "duration": 222,
    "start_time": "2022-03-21T12:14:05.113Z"
   },
   {
    "duration": 10,
    "start_time": "2022-03-21T12:14:05.337Z"
   },
   {
    "duration": 225,
    "start_time": "2022-03-21T12:14:05.349Z"
   },
   {
    "duration": 10,
    "start_time": "2022-03-21T12:14:05.576Z"
   },
   {
    "duration": 20,
    "start_time": "2022-03-21T12:14:05.588Z"
   },
   {
    "duration": 15,
    "start_time": "2022-03-21T12:14:05.610Z"
   },
   {
    "duration": 20,
    "start_time": "2022-03-21T12:14:05.626Z"
   },
   {
    "duration": 4,
    "start_time": "2022-03-21T12:14:05.648Z"
   },
   {
    "duration": 17,
    "start_time": "2022-03-21T12:14:05.653Z"
   },
   {
    "duration": 293,
    "start_time": "2022-03-21T12:14:05.672Z"
   },
   {
    "duration": 6,
    "start_time": "2022-03-21T12:14:05.967Z"
   },
   {
    "duration": 6,
    "start_time": "2022-03-21T12:14:05.977Z"
   },
   {
    "duration": 22,
    "start_time": "2022-03-21T12:14:05.984Z"
   },
   {
    "duration": 14,
    "start_time": "2022-03-21T12:14:06.008Z"
   },
   {
    "duration": 135,
    "start_time": "2022-03-21T12:14:06.024Z"
   },
   {
    "duration": 145,
    "start_time": "2022-03-21T12:14:06.161Z"
   },
   {
    "duration": 10,
    "start_time": "2022-03-21T12:14:06.308Z"
   },
   {
    "duration": 14,
    "start_time": "2022-03-21T12:14:06.320Z"
   },
   {
    "duration": 133,
    "start_time": "2022-03-21T12:14:06.336Z"
   },
   {
    "duration": 207,
    "start_time": "2022-03-21T12:14:06.471Z"
   },
   {
    "duration": 9,
    "start_time": "2022-03-21T12:14:06.680Z"
   },
   {
    "duration": 11,
    "start_time": "2022-03-21T12:14:06.701Z"
   },
   {
    "duration": 9,
    "start_time": "2022-03-21T12:14:06.714Z"
   },
   {
    "duration": 13,
    "start_time": "2022-03-21T12:14:06.725Z"
   },
   {
    "duration": 193,
    "start_time": "2022-03-21T12:14:06.739Z"
   },
   {
    "duration": 10,
    "start_time": "2022-03-21T12:14:06.934Z"
   },
   {
    "duration": 16,
    "start_time": "2022-03-21T12:14:06.946Z"
   },
   {
    "duration": 211,
    "start_time": "2022-03-21T12:14:06.964Z"
   },
   {
    "duration": 24,
    "start_time": "2022-03-21T12:14:07.178Z"
   },
   {
    "duration": 16,
    "start_time": "2022-03-21T12:14:07.204Z"
   },
   {
    "duration": 199,
    "start_time": "2022-03-21T12:14:07.222Z"
   },
   {
    "duration": 9,
    "start_time": "2022-03-21T12:14:24.533Z"
   },
   {
    "duration": 11,
    "start_time": "2022-03-21T12:14:24.800Z"
   },
   {
    "duration": 10,
    "start_time": "2022-03-21T12:14:25.052Z"
   },
   {
    "duration": 10,
    "start_time": "2022-03-21T12:14:25.279Z"
   },
   {
    "duration": 9,
    "start_time": "2022-03-21T12:14:25.514Z"
   },
   {
    "duration": 14,
    "start_time": "2022-03-21T12:14:34.966Z"
   },
   {
    "duration": 2749,
    "start_time": "2022-03-21T12:14:36.185Z"
   },
   {
    "duration": 127,
    "start_time": "2022-03-21T12:14:40.919Z"
   },
   {
    "duration": 264,
    "start_time": "2022-03-21T12:14:42.876Z"
   },
   {
    "duration": 312,
    "start_time": "2022-03-21T12:14:43.741Z"
   },
   {
    "duration": 248,
    "start_time": "2022-03-21T12:14:44.689Z"
   },
   {
    "duration": 9,
    "start_time": "2022-03-21T18:04:12.681Z"
   },
   {
    "duration": 43,
    "start_time": "2022-03-21T18:08:40.607Z"
   },
   {
    "duration": 826,
    "start_time": "2022-03-21T18:08:51.775Z"
   },
   {
    "duration": 86,
    "start_time": "2022-03-21T18:08:52.603Z"
   },
   {
    "duration": 10,
    "start_time": "2022-03-21T18:08:52.691Z"
   },
   {
    "duration": 104,
    "start_time": "2022-03-21T18:08:52.703Z"
   },
   {
    "duration": 20,
    "start_time": "2022-03-21T18:08:52.809Z"
   },
   {
    "duration": 28,
    "start_time": "2022-03-21T18:08:52.830Z"
   },
   {
    "duration": 22,
    "start_time": "2022-03-21T18:08:52.860Z"
   },
   {
    "duration": 9,
    "start_time": "2022-03-21T18:08:52.884Z"
   },
   {
    "duration": 8,
    "start_time": "2022-03-21T18:08:52.895Z"
   },
   {
    "duration": 64,
    "start_time": "2022-03-21T18:08:52.905Z"
   },
   {
    "duration": 28,
    "start_time": "2022-03-21T18:08:52.970Z"
   },
   {
    "duration": 107,
    "start_time": "2022-03-21T18:08:52.999Z"
   },
   {
    "duration": 14,
    "start_time": "2022-03-21T18:08:53.108Z"
   },
   {
    "duration": 4,
    "start_time": "2022-03-21T18:08:53.123Z"
   },
   {
    "duration": 15,
    "start_time": "2022-03-21T18:08:53.128Z"
   },
   {
    "duration": 5,
    "start_time": "2022-03-21T18:08:53.144Z"
   },
   {
    "duration": 33,
    "start_time": "2022-03-21T18:08:53.150Z"
   },
   {
    "duration": 224,
    "start_time": "2022-03-21T18:08:53.184Z"
   },
   {
    "duration": 9,
    "start_time": "2022-03-21T18:08:53.409Z"
   },
   {
    "duration": 330,
    "start_time": "2022-03-21T18:08:53.419Z"
   },
   {
    "duration": 13,
    "start_time": "2022-03-21T18:08:53.751Z"
   },
   {
    "duration": 24,
    "start_time": "2022-03-21T18:08:53.766Z"
   },
   {
    "duration": 25,
    "start_time": "2022-03-21T18:08:53.792Z"
   },
   {
    "duration": 29,
    "start_time": "2022-03-21T18:08:53.819Z"
   },
   {
    "duration": 4,
    "start_time": "2022-03-21T18:08:53.850Z"
   },
   {
    "duration": 35,
    "start_time": "2022-03-21T18:08:53.856Z"
   },
   {
    "duration": 270,
    "start_time": "2022-03-21T18:08:53.892Z"
   },
   {
    "duration": 5,
    "start_time": "2022-03-21T18:08:54.167Z"
   },
   {
    "duration": 3,
    "start_time": "2022-03-21T18:08:54.181Z"
   },
   {
    "duration": 13,
    "start_time": "2022-03-21T18:08:54.186Z"
   },
   {
    "duration": 20,
    "start_time": "2022-03-21T18:08:54.201Z"
   },
   {
    "duration": 189,
    "start_time": "2022-03-21T18:08:54.223Z"
   },
   {
    "duration": 208,
    "start_time": "2022-03-21T18:08:54.414Z"
   },
   {
    "duration": 10,
    "start_time": "2022-03-21T18:08:54.624Z"
   },
   {
    "duration": 16,
    "start_time": "2022-03-21T18:08:54.636Z"
   },
   {
    "duration": 197,
    "start_time": "2022-03-21T18:08:54.654Z"
   },
   {
    "duration": 185,
    "start_time": "2022-03-21T18:08:54.854Z"
   },
   {
    "duration": 10,
    "start_time": "2022-03-21T18:08:55.041Z"
   },
   {
    "duration": 12,
    "start_time": "2022-03-21T18:08:55.053Z"
   },
   {
    "duration": 12,
    "start_time": "2022-03-21T18:08:55.081Z"
   },
   {
    "duration": 15,
    "start_time": "2022-03-21T18:08:55.095Z"
   },
   {
    "duration": 251,
    "start_time": "2022-03-21T18:08:55.112Z"
   },
   {
    "duration": 17,
    "start_time": "2022-03-21T18:08:55.365Z"
   },
   {
    "duration": 13,
    "start_time": "2022-03-21T18:08:55.384Z"
   },
   {
    "duration": 187,
    "start_time": "2022-03-21T18:08:55.398Z"
   },
   {
    "duration": 9,
    "start_time": "2022-03-21T18:08:55.587Z"
   },
   {
    "duration": 20,
    "start_time": "2022-03-21T18:08:55.598Z"
   },
   {
    "duration": 200,
    "start_time": "2022-03-21T18:08:55.620Z"
   },
   {
    "duration": 77,
    "start_time": "2022-03-21T18:08:55.822Z"
   },
   {
    "duration": 28,
    "start_time": "2022-03-21T18:12:19.226Z"
   },
   {
    "duration": 2,
    "start_time": "2022-03-21T18:15:58.884Z"
   },
   {
    "duration": 78,
    "start_time": "2022-03-21T18:15:58.895Z"
   },
   {
    "duration": 7,
    "start_time": "2022-03-21T18:15:58.982Z"
   },
   {
    "duration": 111,
    "start_time": "2022-03-21T18:15:58.991Z"
   },
   {
    "duration": 20,
    "start_time": "2022-03-21T18:15:59.105Z"
   },
   {
    "duration": 25,
    "start_time": "2022-03-21T18:15:59.127Z"
   },
   {
    "duration": 4,
    "start_time": "2022-03-21T18:15:59.153Z"
   },
   {
    "duration": 22,
    "start_time": "2022-03-21T18:15:59.159Z"
   },
   {
    "duration": 5,
    "start_time": "2022-03-21T18:15:59.182Z"
   },
   {
    "duration": 148,
    "start_time": "2022-03-21T18:15:59.188Z"
   },
   {
    "duration": 26,
    "start_time": "2022-03-21T18:15:59.339Z"
   },
   {
    "duration": 95,
    "start_time": "2022-03-21T18:15:59.367Z"
   },
   {
    "duration": 18,
    "start_time": "2022-03-21T18:15:59.464Z"
   },
   {
    "duration": 4,
    "start_time": "2022-03-21T18:15:59.483Z"
   },
   {
    "duration": 14,
    "start_time": "2022-03-21T18:15:59.489Z"
   },
   {
    "duration": 5,
    "start_time": "2022-03-21T18:15:59.505Z"
   },
   {
    "duration": 11,
    "start_time": "2022-03-21T18:15:59.512Z"
   },
   {
    "duration": 241,
    "start_time": "2022-03-21T18:15:59.526Z"
   },
   {
    "duration": 12,
    "start_time": "2022-03-21T18:15:59.769Z"
   },
   {
    "duration": 224,
    "start_time": "2022-03-21T18:15:59.783Z"
   },
   {
    "duration": 12,
    "start_time": "2022-03-21T18:16:00.008Z"
   },
   {
    "duration": 10,
    "start_time": "2022-03-21T18:16:00.022Z"
   },
   {
    "duration": 13,
    "start_time": "2022-03-21T18:16:00.033Z"
   },
   {
    "duration": 44,
    "start_time": "2022-03-21T18:16:00.048Z"
   },
   {
    "duration": 4,
    "start_time": "2022-03-21T18:16:00.094Z"
   },
   {
    "duration": 25,
    "start_time": "2022-03-21T18:16:00.100Z"
   },
   {
    "duration": 267,
    "start_time": "2022-03-21T18:16:00.126Z"
   },
   {
    "duration": 5,
    "start_time": "2022-03-21T18:16:00.394Z"
   },
   {
    "duration": 9,
    "start_time": "2022-03-21T18:16:00.402Z"
   },
   {
    "duration": 15,
    "start_time": "2022-03-21T18:16:00.412Z"
   },
   {
    "duration": 14,
    "start_time": "2022-03-21T18:16:00.428Z"
   },
   {
    "duration": 130,
    "start_time": "2022-03-21T18:16:00.443Z"
   },
   {
    "duration": 142,
    "start_time": "2022-03-21T18:16:00.580Z"
   },
   {
    "duration": 8,
    "start_time": "2022-03-21T18:16:00.724Z"
   },
   {
    "duration": 22,
    "start_time": "2022-03-21T18:16:00.734Z"
   },
   {
    "duration": 127,
    "start_time": "2022-03-21T18:16:00.758Z"
   },
   {
    "duration": 185,
    "start_time": "2022-03-21T18:16:00.886Z"
   },
   {
    "duration": 15,
    "start_time": "2022-03-21T18:16:01.072Z"
   },
   {
    "duration": 24,
    "start_time": "2022-03-21T18:16:01.089Z"
   },
   {
    "duration": 19,
    "start_time": "2022-03-21T18:16:01.115Z"
   },
   {
    "duration": 30,
    "start_time": "2022-03-21T18:16:01.136Z"
   },
   {
    "duration": 257,
    "start_time": "2022-03-21T18:16:01.168Z"
   },
   {
    "duration": 11,
    "start_time": "2022-03-21T18:16:01.426Z"
   },
   {
    "duration": 16,
    "start_time": "2022-03-21T18:16:01.439Z"
   },
   {
    "duration": 206,
    "start_time": "2022-03-21T18:16:01.458Z"
   },
   {
    "duration": 18,
    "start_time": "2022-03-21T18:16:01.666Z"
   },
   {
    "duration": 25,
    "start_time": "2022-03-21T18:16:01.685Z"
   },
   {
    "duration": 194,
    "start_time": "2022-03-21T18:16:01.711Z"
   },
   {
    "duration": 25,
    "start_time": "2022-03-21T18:16:01.907Z"
   },
   {
    "duration": 25,
    "start_time": "2022-03-21T18:16:01.933Z"
   },
   {
    "duration": 41,
    "start_time": "2022-03-21T18:16:01.960Z"
   },
   {
    "duration": 24,
    "start_time": "2022-03-21T18:16:02.002Z"
   },
   {
    "duration": 25,
    "start_time": "2022-03-21T18:16:02.028Z"
   },
   {
    "duration": 24,
    "start_time": "2022-03-21T18:16:08.032Z"
   },
   {
    "duration": 12,
    "start_time": "2022-03-21T18:16:12.507Z"
   },
   {
    "duration": 2671,
    "start_time": "2022-03-21T18:16:14.178Z"
   },
   {
    "duration": 117,
    "start_time": "2022-03-21T18:16:26.017Z"
   },
   {
    "duration": 255,
    "start_time": "2022-03-21T18:16:34.219Z"
   },
   {
    "duration": 329,
    "start_time": "2022-03-21T18:16:41.021Z"
   },
   {
    "duration": 240,
    "start_time": "2022-03-21T18:16:46.827Z"
   },
   {
    "duration": 7,
    "start_time": "2022-03-21T18:17:16.322Z"
   },
   {
    "duration": 15,
    "start_time": "2022-03-21T18:17:18.382Z"
   },
   {
    "duration": 10,
    "start_time": "2022-03-21T18:17:19.628Z"
   },
   {
    "duration": 3,
    "start_time": "2022-03-21T18:17:22.745Z"
   },
   {
    "duration": 12,
    "start_time": "2022-03-21T18:17:26.198Z"
   },
   {
    "duration": 4,
    "start_time": "2022-03-21T18:17:26.950Z"
   },
   {
    "duration": 260,
    "start_time": "2022-03-21T18:17:27.973Z"
   },
   {
    "duration": 3,
    "start_time": "2022-03-21T18:17:29.848Z"
   },
   {
    "duration": 8,
    "start_time": "2022-03-21T18:17:31.193Z"
   },
   {
    "duration": 21,
    "start_time": "2022-03-21T18:17:53.718Z"
   },
   {
    "duration": 20,
    "start_time": "2022-03-21T18:17:56.291Z"
   },
   {
    "duration": 27,
    "start_time": "2022-03-21T18:17:59.397Z"
   },
   {
    "duration": 21,
    "start_time": "2022-03-21T18:18:01.794Z"
   },
   {
    "duration": 125,
    "start_time": "2022-03-21T18:18:11.288Z"
   },
   {
    "duration": 135,
    "start_time": "2022-03-21T18:18:14.204Z"
   },
   {
    "duration": 135,
    "start_time": "2022-03-21T18:18:15.795Z"
   },
   {
    "duration": 139,
    "start_time": "2022-03-21T18:18:20.665Z"
   },
   {
    "duration": 277,
    "start_time": "2022-03-21T18:18:22.199Z"
   },
   {
    "duration": 131,
    "start_time": "2022-03-21T18:18:26.637Z"
   },
   {
    "duration": 152,
    "start_time": "2022-03-21T18:20:46.500Z"
   },
   {
    "duration": 2,
    "start_time": "2022-03-21T18:20:57.788Z"
   },
   {
    "duration": 80,
    "start_time": "2022-03-21T18:20:57.795Z"
   },
   {
    "duration": 6,
    "start_time": "2022-03-21T18:20:57.877Z"
   },
   {
    "duration": 96,
    "start_time": "2022-03-21T18:20:57.885Z"
   },
   {
    "duration": 19,
    "start_time": "2022-03-21T18:20:57.983Z"
   },
   {
    "duration": 26,
    "start_time": "2022-03-21T18:20:58.005Z"
   },
   {
    "duration": 4,
    "start_time": "2022-03-21T18:20:58.033Z"
   },
   {
    "duration": 6,
    "start_time": "2022-03-21T18:20:58.038Z"
   },
   {
    "duration": 3,
    "start_time": "2022-03-21T18:20:58.046Z"
   },
   {
    "duration": 72,
    "start_time": "2022-03-21T18:20:58.051Z"
   },
   {
    "duration": 14,
    "start_time": "2022-03-21T18:20:58.125Z"
   },
   {
    "duration": 80,
    "start_time": "2022-03-21T18:20:58.141Z"
   },
   {
    "duration": 8,
    "start_time": "2022-03-21T18:20:58.223Z"
   },
   {
    "duration": 3,
    "start_time": "2022-03-21T18:20:58.232Z"
   },
   {
    "duration": 7,
    "start_time": "2022-03-21T18:20:58.238Z"
   },
   {
    "duration": 4,
    "start_time": "2022-03-21T18:20:58.247Z"
   },
   {
    "duration": 32,
    "start_time": "2022-03-21T18:20:58.253Z"
   },
   {
    "duration": 235,
    "start_time": "2022-03-21T18:20:58.287Z"
   },
   {
    "duration": 8,
    "start_time": "2022-03-21T18:20:58.523Z"
   },
   {
    "duration": 8,
    "start_time": "2022-03-21T18:21:01.791Z"
   },
   {
    "duration": 215,
    "start_time": "2022-03-21T18:21:02.644Z"
   },
   {
    "duration": 11,
    "start_time": "2022-03-21T18:21:47.975Z"
   },
   {
    "duration": 10,
    "start_time": "2022-03-21T18:21:51.881Z"
   },
   {
    "duration": 14,
    "start_time": "2022-03-21T18:21:52.447Z"
   },
   {
    "duration": 22,
    "start_time": "2022-03-21T18:22:19.695Z"
   },
   {
    "duration": 5,
    "start_time": "2022-03-21T18:22:23.261Z"
   },
   {
    "duration": 13,
    "start_time": "2022-03-21T18:22:24.282Z"
   },
   {
    "duration": 259,
    "start_time": "2022-03-21T18:22:25.245Z"
   },
   {
    "duration": 5,
    "start_time": "2022-03-21T18:22:27.313Z"
   },
   {
    "duration": 3,
    "start_time": "2022-03-21T18:22:34.526Z"
   },
   {
    "duration": 9,
    "start_time": "2022-03-21T18:22:43.533Z"
   },
   {
    "duration": 14,
    "start_time": "2022-03-21T18:22:44.942Z"
   },
   {
    "duration": 114,
    "start_time": "2022-03-21T18:22:52.298Z"
   },
   {
    "duration": 128,
    "start_time": "2022-03-21T18:22:53.233Z"
   },
   {
    "duration": 8,
    "start_time": "2022-03-21T18:22:59.523Z"
   },
   {
    "duration": 14,
    "start_time": "2022-03-21T18:23:00.153Z"
   },
   {
    "duration": 124,
    "start_time": "2022-03-21T18:23:03.301Z"
   },
   {
    "duration": 181,
    "start_time": "2022-03-21T18:23:04.400Z"
   },
   {
    "duration": 8,
    "start_time": "2022-03-21T18:23:11.012Z"
   },
   {
    "duration": 10,
    "start_time": "2022-03-21T18:23:11.751Z"
   },
   {
    "duration": 10,
    "start_time": "2022-03-21T18:23:19.258Z"
   },
   {
    "duration": 12,
    "start_time": "2022-03-21T18:23:23.181Z"
   },
   {
    "duration": 258,
    "start_time": "2022-03-21T18:23:32.403Z"
   },
   {
    "duration": 8,
    "start_time": "2022-03-21T18:23:45.432Z"
   },
   {
    "duration": 15,
    "start_time": "2022-03-21T18:23:46.590Z"
   },
   {
    "duration": 282,
    "start_time": "2022-03-21T18:23:48.470Z"
   },
   {
    "duration": 10,
    "start_time": "2022-03-21T18:23:56.189Z"
   },
   {
    "duration": 14,
    "start_time": "2022-03-21T18:23:56.854Z"
   },
   {
    "duration": 186,
    "start_time": "2022-03-21T18:24:00.328Z"
   },
   {
    "duration": 25,
    "start_time": "2022-03-21T18:24:24.556Z"
   },
   {
    "duration": 23,
    "start_time": "2022-03-21T18:24:25.159Z"
   },
   {
    "duration": 21,
    "start_time": "2022-03-21T18:24:25.683Z"
   },
   {
    "duration": 23,
    "start_time": "2022-03-21T18:24:26.182Z"
   },
   {
    "duration": 28,
    "start_time": "2022-03-21T18:26:13.283Z"
   },
   {
    "duration": 625,
    "start_time": "2022-03-21T18:26:32.413Z"
   },
   {
    "duration": 105,
    "start_time": "2022-03-21T18:27:16.388Z"
   },
   {
    "duration": 132,
    "start_time": "2022-03-21T18:27:36.962Z"
   },
   {
    "duration": 155,
    "start_time": "2022-03-21T18:27:57.797Z"
   },
   {
    "duration": 121,
    "start_time": "2022-03-21T18:28:28.861Z"
   },
   {
    "duration": 100,
    "start_time": "2022-03-21T18:28:58.837Z"
   },
   {
    "duration": 11,
    "start_time": "2022-03-21T18:29:15.515Z"
   },
   {
    "duration": 2217,
    "start_time": "2022-03-21T18:29:17.773Z"
   },
   {
    "duration": 115,
    "start_time": "2022-03-21T18:29:30.111Z"
   },
   {
    "duration": 135,
    "start_time": "2022-03-21T18:30:29.313Z"
   },
   {
    "duration": 161,
    "start_time": "2022-03-21T18:30:47.831Z"
   },
   {
    "duration": 129,
    "start_time": "2022-03-21T18:31:02.620Z"
   },
   {
    "duration": 10,
    "start_time": "2022-03-21T19:02:02.658Z"
   },
   {
    "duration": 150,
    "start_time": "2022-03-21T19:03:04.345Z"
   },
   {
    "duration": 1109,
    "start_time": "2022-03-22T04:11:30.872Z"
   },
   {
    "duration": 94,
    "start_time": "2022-03-22T04:11:31.984Z"
   },
   {
    "duration": 14,
    "start_time": "2022-03-22T04:11:32.081Z"
   },
   {
    "duration": 152,
    "start_time": "2022-03-22T04:11:32.098Z"
   },
   {
    "duration": 37,
    "start_time": "2022-03-22T04:11:32.252Z"
   },
   {
    "duration": 46,
    "start_time": "2022-03-22T04:11:32.292Z"
   },
   {
    "duration": 6,
    "start_time": "2022-03-22T04:11:32.340Z"
   },
   {
    "duration": 28,
    "start_time": "2022-03-22T04:11:32.348Z"
   },
   {
    "duration": 5,
    "start_time": "2022-03-22T04:11:32.379Z"
   },
   {
    "duration": 110,
    "start_time": "2022-03-22T04:11:32.387Z"
   },
   {
    "duration": 21,
    "start_time": "2022-03-22T04:11:32.499Z"
   },
   {
    "duration": 116,
    "start_time": "2022-03-22T04:11:32.523Z"
   },
   {
    "duration": 15,
    "start_time": "2022-03-22T04:11:32.641Z"
   },
   {
    "duration": 6,
    "start_time": "2022-03-22T04:11:32.673Z"
   },
   {
    "duration": 13,
    "start_time": "2022-03-22T04:11:32.681Z"
   },
   {
    "duration": 7,
    "start_time": "2022-03-22T04:11:32.696Z"
   },
   {
    "duration": 15,
    "start_time": "2022-03-22T04:11:32.705Z"
   },
   {
    "duration": 429,
    "start_time": "2022-03-22T04:11:32.722Z"
   },
   {
    "duration": 22,
    "start_time": "2022-03-22T04:11:33.153Z"
   },
   {
    "duration": 507,
    "start_time": "2022-03-22T04:11:33.177Z"
   },
   {
    "duration": 16,
    "start_time": "2022-03-22T04:11:33.686Z"
   },
   {
    "duration": 15,
    "start_time": "2022-03-22T04:11:33.704Z"
   },
   {
    "duration": 53,
    "start_time": "2022-03-22T04:11:33.722Z"
   },
   {
    "duration": 32,
    "start_time": "2022-03-22T04:11:33.778Z"
   },
   {
    "duration": 6,
    "start_time": "2022-03-22T04:11:33.812Z"
   },
   {
    "duration": 27,
    "start_time": "2022-03-22T04:11:33.821Z"
   },
   {
    "duration": 544,
    "start_time": "2022-03-22T04:11:33.850Z"
   },
   {
    "duration": 7,
    "start_time": "2022-03-22T04:11:34.401Z"
   },
   {
    "duration": 8,
    "start_time": "2022-03-22T04:11:34.410Z"
   },
   {
    "duration": 16,
    "start_time": "2022-03-22T04:11:34.420Z"
   },
   {
    "duration": 53,
    "start_time": "2022-03-22T04:11:34.438Z"
   },
   {
    "duration": 218,
    "start_time": "2022-03-22T04:11:34.493Z"
   },
   {
    "duration": 252,
    "start_time": "2022-03-22T04:11:34.713Z"
   },
   {
    "duration": 17,
    "start_time": "2022-03-22T04:11:34.967Z"
   },
   {
    "duration": 21,
    "start_time": "2022-03-22T04:11:34.986Z"
   },
   {
    "duration": 227,
    "start_time": "2022-03-22T04:11:35.009Z"
   },
   {
    "duration": 320,
    "start_time": "2022-03-22T04:11:35.238Z"
   },
   {
    "duration": 21,
    "start_time": "2022-03-22T04:11:35.561Z"
   },
   {
    "duration": 14,
    "start_time": "2022-03-22T04:11:35.584Z"
   },
   {
    "duration": 15,
    "start_time": "2022-03-22T04:11:35.600Z"
   },
   {
    "duration": 23,
    "start_time": "2022-03-22T04:11:35.618Z"
   },
   {
    "duration": 285,
    "start_time": "2022-03-22T04:11:35.673Z"
   },
   {
    "duration": 20,
    "start_time": "2022-03-22T04:11:35.960Z"
   },
   {
    "duration": 22,
    "start_time": "2022-03-22T04:11:35.982Z"
   },
   {
    "duration": 333,
    "start_time": "2022-03-22T04:11:36.006Z"
   },
   {
    "duration": 13,
    "start_time": "2022-03-22T04:11:36.341Z"
   },
   {
    "duration": 37,
    "start_time": "2022-03-22T04:11:36.356Z"
   },
   {
    "duration": 333,
    "start_time": "2022-03-22T04:11:36.395Z"
   },
   {
    "duration": 206,
    "start_time": "2022-03-22T04:11:36.730Z"
   },
   {
    "duration": 301,
    "start_time": "2022-03-22T04:11:36.938Z"
   },
   {
    "duration": 225,
    "start_time": "2022-03-22T04:11:37.242Z"
   },
   {
    "duration": 228,
    "start_time": "2022-03-22T04:11:37.473Z"
   },
   {
    "duration": 204,
    "start_time": "2022-03-22T04:11:37.704Z"
   },
   {
    "duration": 20,
    "start_time": "2022-03-22T04:11:37.910Z"
   },
   {
    "duration": 4477,
    "start_time": "2022-03-22T04:11:37.933Z"
   },
   {
    "duration": 213,
    "start_time": "2022-03-22T04:11:42.416Z"
   },
   {
    "duration": 235,
    "start_time": "2022-03-22T04:12:07.707Z"
   },
   {
    "duration": 242,
    "start_time": "2022-03-22T04:13:41.845Z"
   },
   {
    "duration": 232,
    "start_time": "2022-03-22T04:13:54.979Z"
   },
   {
    "duration": 119,
    "start_time": "2022-03-22T04:14:27.256Z"
   },
   {
    "duration": 231,
    "start_time": "2022-03-22T04:14:52.361Z"
   },
   {
    "duration": 221,
    "start_time": "2022-03-22T04:17:37.918Z"
   },
   {
    "duration": 303,
    "start_time": "2022-03-22T04:18:50.629Z"
   },
   {
    "duration": 237,
    "start_time": "2022-03-22T04:24:44.100Z"
   },
   {
    "duration": 240,
    "start_time": "2022-03-22T04:25:30.653Z"
   },
   {
    "duration": 250,
    "start_time": "2022-03-22T04:25:57.278Z"
   },
   {
    "duration": 397,
    "start_time": "2022-03-22T04:27:24.700Z"
   },
   {
    "duration": 270,
    "start_time": "2022-03-22T04:28:29.238Z"
   },
   {
    "duration": 250,
    "start_time": "2022-03-22T04:36:03.394Z"
   },
   {
    "duration": 11,
    "start_time": "2022-03-22T04:36:51.406Z"
   },
   {
    "duration": 4,
    "start_time": "2022-03-22T04:36:58.168Z"
   },
   {
    "duration": 107,
    "start_time": "2022-03-22T04:36:58.180Z"
   },
   {
    "duration": 9,
    "start_time": "2022-03-22T04:36:58.290Z"
   },
   {
    "duration": 173,
    "start_time": "2022-03-22T04:36:58.301Z"
   },
   {
    "duration": 34,
    "start_time": "2022-03-22T04:36:58.477Z"
   },
   {
    "duration": 35,
    "start_time": "2022-03-22T04:36:58.513Z"
   },
   {
    "duration": 6,
    "start_time": "2022-03-22T04:36:58.574Z"
   },
   {
    "duration": 7,
    "start_time": "2022-03-22T04:36:58.583Z"
   },
   {
    "duration": 6,
    "start_time": "2022-03-22T04:36:58.592Z"
   },
   {
    "duration": 120,
    "start_time": "2022-03-22T04:36:58.601Z"
   },
   {
    "duration": 22,
    "start_time": "2022-03-22T04:36:58.725Z"
   },
   {
    "duration": 114,
    "start_time": "2022-03-22T04:36:58.750Z"
   },
   {
    "duration": 17,
    "start_time": "2022-03-22T04:36:58.866Z"
   },
   {
    "duration": 6,
    "start_time": "2022-03-22T04:36:58.885Z"
   },
   {
    "duration": 15,
    "start_time": "2022-03-22T04:36:58.893Z"
   },
   {
    "duration": 6,
    "start_time": "2022-03-22T04:36:58.910Z"
   },
   {
    "duration": 56,
    "start_time": "2022-03-22T04:36:58.918Z"
   },
   {
    "duration": 394,
    "start_time": "2022-03-22T04:36:58.976Z"
   },
   {
    "duration": 13,
    "start_time": "2022-03-22T04:36:59.371Z"
   },
   {
    "duration": 438,
    "start_time": "2022-03-22T04:36:59.386Z"
   },
   {
    "duration": 16,
    "start_time": "2022-03-22T04:36:59.826Z"
   },
   {
    "duration": 31,
    "start_time": "2022-03-22T04:36:59.844Z"
   },
   {
    "duration": 20,
    "start_time": "2022-03-22T04:36:59.877Z"
   },
   {
    "duration": 30,
    "start_time": "2022-03-22T04:36:59.900Z"
   },
   {
    "duration": 5,
    "start_time": "2022-03-22T04:36:59.932Z"
   },
   {
    "duration": 17,
    "start_time": "2022-03-22T04:36:59.973Z"
   },
   {
    "duration": 488,
    "start_time": "2022-03-22T04:36:59.992Z"
   },
   {
    "duration": 7,
    "start_time": "2022-03-22T04:37:00.483Z"
   },
   {
    "duration": 16,
    "start_time": "2022-03-22T04:37:00.496Z"
   },
   {
    "duration": 30,
    "start_time": "2022-03-22T04:37:00.514Z"
   },
   {
    "duration": 29,
    "start_time": "2022-03-22T04:37:00.546Z"
   },
   {
    "duration": 211,
    "start_time": "2022-03-22T04:37:00.577Z"
   },
   {
    "duration": 241,
    "start_time": "2022-03-22T04:37:00.790Z"
   },
   {
    "duration": 14,
    "start_time": "2022-03-22T04:37:01.034Z"
   },
   {
    "duration": 40,
    "start_time": "2022-03-22T04:37:01.051Z"
   },
   {
    "duration": 219,
    "start_time": "2022-03-22T04:37:01.093Z"
   },
   {
    "duration": 338,
    "start_time": "2022-03-22T04:37:01.315Z"
   },
   {
    "duration": 20,
    "start_time": "2022-03-22T04:37:01.655Z"
   },
   {
    "duration": 29,
    "start_time": "2022-03-22T04:37:01.678Z"
   },
   {
    "duration": 27,
    "start_time": "2022-03-22T04:37:01.710Z"
   },
   {
    "duration": 50,
    "start_time": "2022-03-22T04:37:01.740Z"
   },
   {
    "duration": 294,
    "start_time": "2022-03-22T04:37:01.793Z"
   },
   {
    "duration": 12,
    "start_time": "2022-03-22T04:37:02.090Z"
   },
   {
    "duration": 38,
    "start_time": "2022-03-22T04:37:02.104Z"
   },
   {
    "duration": 459,
    "start_time": "2022-03-22T04:37:02.145Z"
   },
   {
    "duration": 12,
    "start_time": "2022-03-22T04:37:02.606Z"
   },
   {
    "duration": 23,
    "start_time": "2022-03-22T04:37:02.620Z"
   },
   {
    "duration": 346,
    "start_time": "2022-03-22T04:37:02.645Z"
   },
   {
    "duration": 209,
    "start_time": "2022-03-22T04:37:02.993Z"
   },
   {
    "duration": 230,
    "start_time": "2022-03-22T04:37:03.205Z"
   },
   {
    "duration": 227,
    "start_time": "2022-03-22T04:37:03.437Z"
   },
   {
    "duration": 237,
    "start_time": "2022-03-22T04:37:03.674Z"
   },
   {
    "duration": 210,
    "start_time": "2022-03-22T04:37:03.914Z"
   },
   {
    "duration": 22,
    "start_time": "2022-03-22T04:37:04.127Z"
   },
   {
    "duration": 4731,
    "start_time": "2022-03-22T04:37:04.152Z"
   },
   {
    "duration": 279,
    "start_time": "2022-03-22T04:37:08.885Z"
   },
   {
    "duration": 252,
    "start_time": "2022-03-22T04:37:09.174Z"
   },
   {
    "duration": 256,
    "start_time": "2022-03-22T04:37:09.429Z"
   },
   {
    "duration": 273,
    "start_time": "2022-03-22T04:37:09.688Z"
   },
   {
    "duration": 16,
    "start_time": "2022-03-22T04:37:09.964Z"
   },
   {
    "duration": 24,
    "start_time": "2022-03-22T04:37:09.983Z"
   },
   {
    "duration": 14,
    "start_time": "2022-03-22T04:37:10.010Z"
   },
   {
    "duration": 45,
    "start_time": "2022-03-22T04:37:10.028Z"
   },
   {
    "duration": 15,
    "start_time": "2022-03-22T04:37:10.076Z"
   },
   {
    "duration": 5,
    "start_time": "2022-03-22T04:37:10.093Z"
   },
   {
    "duration": 465,
    "start_time": "2022-03-22T04:37:10.101Z"
   },
   {
    "duration": 7,
    "start_time": "2022-03-22T04:37:10.568Z"
   },
   {
    "duration": 14,
    "start_time": "2022-03-22T04:37:10.578Z"
   },
   {
    "duration": 34,
    "start_time": "2022-03-22T04:37:10.594Z"
   },
   {
    "duration": 72,
    "start_time": "2022-03-22T04:37:10.630Z"
   },
   {
    "duration": 36,
    "start_time": "2022-03-22T04:37:10.704Z"
   },
   {
    "duration": 57,
    "start_time": "2022-03-22T04:37:10.742Z"
   },
   {
    "duration": 309,
    "start_time": "2022-03-22T04:37:10.802Z"
   },
   {
    "duration": 626,
    "start_time": "2022-03-22T04:46:30.648Z"
   },
   {
    "duration": 533,
    "start_time": "2022-03-22T04:48:11.820Z"
   },
   {
    "duration": 523,
    "start_time": "2022-03-22T04:51:17.823Z"
   },
   {
    "duration": 528,
    "start_time": "2022-03-22T04:54:19.001Z"
   },
   {
    "duration": 276,
    "start_time": "2022-03-22T04:54:50.184Z"
   },
   {
    "duration": 506,
    "start_time": "2022-03-22T04:55:05.101Z"
   },
   {
    "duration": 253,
    "start_time": "2022-03-22T04:55:45.260Z"
   },
   {
    "duration": 259,
    "start_time": "2022-03-22T04:59:02.646Z"
   },
   {
    "duration": 272,
    "start_time": "2022-03-22T05:01:08.246Z"
   },
   {
    "duration": 272,
    "start_time": "2022-03-22T05:02:36.339Z"
   },
   {
    "duration": 260,
    "start_time": "2022-03-22T05:02:48.280Z"
   },
   {
    "duration": 260,
    "start_time": "2022-03-22T05:04:01.589Z"
   },
   {
    "duration": 252,
    "start_time": "2022-03-22T05:06:14.424Z"
   },
   {
    "duration": 529,
    "start_time": "2022-03-22T05:10:20.700Z"
   },
   {
    "duration": 212,
    "start_time": "2022-03-22T05:11:58.240Z"
   },
   {
    "duration": 1070,
    "start_time": "2022-03-22T05:20:47.739Z"
   },
   {
    "duration": 397,
    "start_time": "2022-03-22T05:21:28.083Z"
   },
   {
    "duration": 122,
    "start_time": "2022-03-22T05:29:43.568Z"
   },
   {
    "duration": 1566,
    "start_time": "2022-03-22T05:29:53.467Z"
   },
   {
    "duration": 1486,
    "start_time": "2022-03-22T05:31:51.537Z"
   },
   {
    "duration": 280,
    "start_time": "2022-03-22T05:32:09.190Z"
   },
   {
    "duration": 35,
    "start_time": "2022-03-22T05:40:04.499Z"
   },
   {
    "duration": 31,
    "start_time": "2022-03-22T05:41:26.478Z"
   },
   {
    "duration": 4,
    "start_time": "2022-03-22T05:41:31.766Z"
   },
   {
    "duration": 99,
    "start_time": "2022-03-22T05:41:31.780Z"
   },
   {
    "duration": 10,
    "start_time": "2022-03-22T05:41:31.882Z"
   },
   {
    "duration": 159,
    "start_time": "2022-03-22T05:41:31.895Z"
   },
   {
    "duration": 43,
    "start_time": "2022-03-22T05:41:32.057Z"
   },
   {
    "duration": 36,
    "start_time": "2022-03-22T05:41:32.103Z"
   },
   {
    "duration": 6,
    "start_time": "2022-03-22T05:41:32.141Z"
   },
   {
    "duration": 29,
    "start_time": "2022-03-22T05:41:32.149Z"
   },
   {
    "duration": 6,
    "start_time": "2022-03-22T05:41:32.181Z"
   },
   {
    "duration": 109,
    "start_time": "2022-03-22T05:41:32.189Z"
   },
   {
    "duration": 22,
    "start_time": "2022-03-22T05:41:32.300Z"
   },
   {
    "duration": 119,
    "start_time": "2022-03-22T05:41:32.324Z"
   },
   {
    "duration": 12,
    "start_time": "2022-03-22T05:41:32.445Z"
   },
   {
    "duration": 17,
    "start_time": "2022-03-22T05:41:32.459Z"
   },
   {
    "duration": 13,
    "start_time": "2022-03-22T05:41:32.481Z"
   },
   {
    "duration": 6,
    "start_time": "2022-03-22T05:41:32.497Z"
   },
   {
    "duration": 13,
    "start_time": "2022-03-22T05:41:32.505Z"
   },
   {
    "duration": 441,
    "start_time": "2022-03-22T05:41:32.520Z"
   },
   {
    "duration": 16,
    "start_time": "2022-03-22T05:41:32.963Z"
   },
   {
    "duration": 411,
    "start_time": "2022-03-22T05:41:32.982Z"
   },
   {
    "duration": 15,
    "start_time": "2022-03-22T05:41:33.395Z"
   },
   {
    "duration": 14,
    "start_time": "2022-03-22T05:41:33.412Z"
   },
   {
    "duration": 51,
    "start_time": "2022-03-22T05:41:33.429Z"
   },
   {
    "duration": 32,
    "start_time": "2022-03-22T05:41:33.482Z"
   },
   {
    "duration": 6,
    "start_time": "2022-03-22T05:41:33.516Z"
   },
   {
    "duration": 51,
    "start_time": "2022-03-22T05:41:33.524Z"
   },
   {
    "duration": 467,
    "start_time": "2022-03-22T05:41:33.577Z"
   },
   {
    "duration": 7,
    "start_time": "2022-03-22T05:41:34.046Z"
   },
   {
    "duration": 19,
    "start_time": "2022-03-22T05:41:34.055Z"
   },
   {
    "duration": 15,
    "start_time": "2022-03-22T05:41:34.076Z"
   },
   {
    "duration": 20,
    "start_time": "2022-03-22T05:41:34.093Z"
   },
   {
    "duration": 225,
    "start_time": "2022-03-22T05:41:34.116Z"
   },
   {
    "duration": 247,
    "start_time": "2022-03-22T05:41:34.343Z"
   },
   {
    "duration": 12,
    "start_time": "2022-03-22T05:41:34.592Z"
   },
   {
    "duration": 21,
    "start_time": "2022-03-22T05:41:34.606Z"
   },
   {
    "duration": 228,
    "start_time": "2022-03-22T05:41:34.629Z"
   },
   {
    "duration": 335,
    "start_time": "2022-03-22T05:41:34.859Z"
   },
   {
    "duration": 13,
    "start_time": "2022-03-22T05:41:35.196Z"
   },
   {
    "duration": 13,
    "start_time": "2022-03-22T05:41:35.211Z"
   },
   {
    "duration": 15,
    "start_time": "2022-03-22T05:41:35.226Z"
   },
   {
    "duration": 20,
    "start_time": "2022-03-22T05:41:35.276Z"
   },
   {
    "duration": 303,
    "start_time": "2022-03-22T05:41:35.303Z"
   },
   {
    "duration": 12,
    "start_time": "2022-03-22T05:41:35.609Z"
   },
   {
    "duration": 21,
    "start_time": "2022-03-22T05:41:35.624Z"
   },
   {
    "duration": 313,
    "start_time": "2022-03-22T05:41:35.674Z"
   },
   {
    "duration": 12,
    "start_time": "2022-03-22T05:41:35.989Z"
   },
   {
    "duration": 22,
    "start_time": "2022-03-22T05:41:36.004Z"
   },
   {
    "duration": 350,
    "start_time": "2022-03-22T05:41:36.028Z"
   },
   {
    "duration": 213,
    "start_time": "2022-03-22T05:41:36.380Z"
   },
   {
    "duration": 473,
    "start_time": "2022-03-22T05:41:36.596Z"
   },
   {
    "duration": 240,
    "start_time": "2022-03-22T05:41:37.071Z"
   },
   {
    "duration": 272,
    "start_time": "2022-03-22T05:41:37.313Z"
   },
   {
    "duration": 214,
    "start_time": "2022-03-22T05:41:37.587Z"
   },
   {
    "duration": 22,
    "start_time": "2022-03-22T05:41:37.804Z"
   },
   {
    "duration": 4521,
    "start_time": "2022-03-22T05:41:37.828Z"
   },
   {
    "duration": 260,
    "start_time": "2022-03-22T05:41:42.351Z"
   },
   {
    "duration": 247,
    "start_time": "2022-03-22T05:41:42.613Z"
   },
   {
    "duration": 243,
    "start_time": "2022-03-22T05:41:42.862Z"
   },
   {
    "duration": 267,
    "start_time": "2022-03-22T05:41:43.107Z"
   },
   {
    "duration": 9,
    "start_time": "2022-03-22T05:41:43.377Z"
   },
   {
    "duration": 23,
    "start_time": "2022-03-22T05:41:43.389Z"
   },
   {
    "duration": 14,
    "start_time": "2022-03-22T05:41:43.414Z"
   },
   {
    "duration": 4,
    "start_time": "2022-03-22T05:41:43.430Z"
   },
   {
    "duration": 48,
    "start_time": "2022-03-22T05:41:43.437Z"
   },
   {
    "duration": 5,
    "start_time": "2022-03-22T05:41:43.487Z"
   },
   {
    "duration": 464,
    "start_time": "2022-03-22T05:41:43.495Z"
   },
   {
    "duration": 12,
    "start_time": "2022-03-22T05:41:43.962Z"
   },
   {
    "duration": 12,
    "start_time": "2022-03-22T05:41:43.976Z"
   },
   {
    "duration": 35,
    "start_time": "2022-03-22T05:41:43.990Z"
   },
   {
    "duration": 62,
    "start_time": "2022-03-22T05:41:44.027Z"
   },
   {
    "duration": 33,
    "start_time": "2022-03-22T05:41:44.091Z"
   },
   {
    "duration": 55,
    "start_time": "2022-03-22T05:41:44.127Z"
   },
   {
    "duration": 32,
    "start_time": "2022-03-22T05:41:44.188Z"
   },
   {
    "duration": 34,
    "start_time": "2022-03-22T05:42:31.618Z"
   },
   {
    "duration": 287,
    "start_time": "2022-03-22T05:42:53.656Z"
   },
   {
    "duration": 286,
    "start_time": "2022-03-22T05:43:33.475Z"
   },
   {
    "duration": 532,
    "start_time": "2022-03-22T05:44:03.971Z"
   },
   {
    "duration": 304,
    "start_time": "2022-03-22T05:46:18.320Z"
   },
   {
    "duration": 277,
    "start_time": "2022-03-22T05:49:23.443Z"
   },
   {
    "duration": 252,
    "start_time": "2022-03-22T06:11:51.311Z"
   },
   {
    "duration": 256,
    "start_time": "2022-03-22T06:43:50.403Z"
   },
   {
    "duration": 221,
    "start_time": "2022-03-22T06:45:21.774Z"
   },
   {
    "duration": 23,
    "start_time": "2022-03-22T06:45:45.421Z"
   },
   {
    "duration": 4,
    "start_time": "2022-03-22T06:47:41.636Z"
   },
   {
    "duration": 87,
    "start_time": "2022-03-22T06:47:41.670Z"
   },
   {
    "duration": 9,
    "start_time": "2022-03-22T06:47:41.773Z"
   },
   {
    "duration": 168,
    "start_time": "2022-03-22T06:47:41.784Z"
   },
   {
    "duration": 38,
    "start_time": "2022-03-22T06:47:41.955Z"
   },
   {
    "duration": 53,
    "start_time": "2022-03-22T06:47:41.996Z"
   },
   {
    "duration": 14,
    "start_time": "2022-03-22T06:47:42.051Z"
   },
   {
    "duration": 12,
    "start_time": "2022-03-22T06:47:42.067Z"
   },
   {
    "duration": 14,
    "start_time": "2022-03-22T06:47:42.081Z"
   },
   {
    "duration": 99,
    "start_time": "2022-03-22T06:47:42.097Z"
   },
   {
    "duration": 22,
    "start_time": "2022-03-22T06:47:42.198Z"
   },
   {
    "duration": 118,
    "start_time": "2022-03-22T06:47:42.222Z"
   },
   {
    "duration": 12,
    "start_time": "2022-03-22T06:47:42.343Z"
   },
   {
    "duration": 5,
    "start_time": "2022-03-22T06:47:42.373Z"
   },
   {
    "duration": 25,
    "start_time": "2022-03-22T06:47:42.383Z"
   },
   {
    "duration": 10,
    "start_time": "2022-03-22T06:47:42.410Z"
   },
   {
    "duration": 27,
    "start_time": "2022-03-22T06:47:42.422Z"
   },
   {
    "duration": 403,
    "start_time": "2022-03-22T06:47:42.452Z"
   },
   {
    "duration": 20,
    "start_time": "2022-03-22T06:47:42.857Z"
   },
   {
    "duration": 412,
    "start_time": "2022-03-22T06:47:42.879Z"
   },
   {
    "duration": 15,
    "start_time": "2022-03-22T06:47:43.294Z"
   },
   {
    "duration": 21,
    "start_time": "2022-03-22T06:47:43.311Z"
   },
   {
    "duration": 45,
    "start_time": "2022-03-22T06:47:43.335Z"
   },
   {
    "duration": 31,
    "start_time": "2022-03-22T06:47:43.382Z"
   },
   {
    "duration": 16,
    "start_time": "2022-03-22T06:47:43.416Z"
   },
   {
    "duration": 38,
    "start_time": "2022-03-22T06:47:43.435Z"
   },
   {
    "duration": 484,
    "start_time": "2022-03-22T06:47:43.475Z"
   },
   {
    "duration": 13,
    "start_time": "2022-03-22T06:47:43.962Z"
   },
   {
    "duration": 17,
    "start_time": "2022-03-22T06:47:43.977Z"
   },
   {
    "duration": 40,
    "start_time": "2022-03-22T06:47:43.996Z"
   },
   {
    "duration": 27,
    "start_time": "2022-03-22T06:47:44.038Z"
   },
   {
    "duration": 240,
    "start_time": "2022-03-22T06:47:44.067Z"
   },
   {
    "duration": 268,
    "start_time": "2022-03-22T06:47:44.309Z"
   },
   {
    "duration": 12,
    "start_time": "2022-03-22T06:47:44.579Z"
   },
   {
    "duration": 32,
    "start_time": "2022-03-22T06:47:44.594Z"
   },
   {
    "duration": 220,
    "start_time": "2022-03-22T06:47:44.628Z"
   },
   {
    "duration": 338,
    "start_time": "2022-03-22T06:47:44.851Z"
   },
   {
    "duration": 13,
    "start_time": "2022-03-22T06:47:45.191Z"
   },
   {
    "duration": 35,
    "start_time": "2022-03-22T06:47:45.206Z"
   },
   {
    "duration": 28,
    "start_time": "2022-03-22T06:47:45.243Z"
   },
   {
    "duration": 23,
    "start_time": "2022-03-22T06:47:45.273Z"
   },
   {
    "duration": 288,
    "start_time": "2022-03-22T06:47:45.304Z"
   },
   {
    "duration": 12,
    "start_time": "2022-03-22T06:47:45.594Z"
   },
   {
    "duration": 32,
    "start_time": "2022-03-22T06:47:45.608Z"
   },
   {
    "duration": 326,
    "start_time": "2022-03-22T06:47:45.643Z"
   },
   {
    "duration": 13,
    "start_time": "2022-03-22T06:47:45.974Z"
   },
   {
    "duration": 27,
    "start_time": "2022-03-22T06:47:45.989Z"
   },
   {
    "duration": 349,
    "start_time": "2022-03-22T06:47:46.018Z"
   },
   {
    "duration": 211,
    "start_time": "2022-03-22T06:47:46.373Z"
   },
   {
    "duration": 234,
    "start_time": "2022-03-22T06:47:46.586Z"
   },
   {
    "duration": 231,
    "start_time": "2022-03-22T06:47:46.823Z"
   },
   {
    "duration": 234,
    "start_time": "2022-03-22T06:47:47.056Z"
   },
   {
    "duration": 206,
    "start_time": "2022-03-22T06:47:47.293Z"
   },
   {
    "duration": 20,
    "start_time": "2022-03-22T06:47:47.501Z"
   },
   {
    "duration": 4953,
    "start_time": "2022-03-22T06:47:47.523Z"
   },
   {
    "duration": 274,
    "start_time": "2022-03-22T06:47:52.478Z"
   },
   {
    "duration": 251,
    "start_time": "2022-03-22T06:47:52.754Z"
   },
   {
    "duration": 268,
    "start_time": "2022-03-22T06:47:53.008Z"
   },
   {
    "duration": 278,
    "start_time": "2022-03-22T06:47:53.279Z"
   },
   {
    "duration": 16,
    "start_time": "2022-03-22T06:47:53.559Z"
   },
   {
    "duration": 23,
    "start_time": "2022-03-22T06:47:53.577Z"
   },
   {
    "duration": 15,
    "start_time": "2022-03-22T06:47:53.602Z"
   },
   {
    "duration": 4,
    "start_time": "2022-03-22T06:47:53.620Z"
   },
   {
    "duration": 57,
    "start_time": "2022-03-22T06:47:53.626Z"
   },
   {
    "duration": 6,
    "start_time": "2022-03-22T06:47:53.685Z"
   },
   {
    "duration": 482,
    "start_time": "2022-03-22T06:47:53.694Z"
   },
   {
    "duration": 4,
    "start_time": "2022-03-22T06:47:54.178Z"
   },
   {
    "duration": 15,
    "start_time": "2022-03-22T06:47:54.185Z"
   },
   {
    "duration": 65,
    "start_time": "2022-03-22T06:47:54.243Z"
   },
   {
    "duration": 36,
    "start_time": "2022-03-22T06:49:29.737Z"
   },
   {
    "duration": 18,
    "start_time": "2022-03-22T07:17:55.692Z"
   },
   {
    "duration": 15,
    "start_time": "2022-03-22T07:18:14.081Z"
   },
   {
    "duration": 9,
    "start_time": "2022-03-22T07:43:31.264Z"
   },
   {
    "duration": 263,
    "start_time": "2022-03-22T07:45:46.624Z"
   },
   {
    "duration": 276,
    "start_time": "2022-03-22T07:47:16.049Z"
   },
   {
    "duration": 273,
    "start_time": "2022-03-22T07:48:32.303Z"
   },
   {
    "duration": 222,
    "start_time": "2022-03-22T07:49:06.098Z"
   },
   {
    "duration": 4,
    "start_time": "2022-03-22T07:54:50.902Z"
   },
   {
    "duration": 93,
    "start_time": "2022-03-22T07:54:50.909Z"
   },
   {
    "duration": 11,
    "start_time": "2022-03-22T07:54:51.005Z"
   },
   {
    "duration": 179,
    "start_time": "2022-03-22T07:54:51.021Z"
   },
   {
    "duration": 33,
    "start_time": "2022-03-22T07:54:51.203Z"
   },
   {
    "duration": 51,
    "start_time": "2022-03-22T07:54:51.240Z"
   },
   {
    "duration": 5,
    "start_time": "2022-03-22T07:54:51.294Z"
   },
   {
    "duration": 11,
    "start_time": "2022-03-22T07:54:51.302Z"
   },
   {
    "duration": 8,
    "start_time": "2022-03-22T07:54:51.317Z"
   },
   {
    "duration": 114,
    "start_time": "2022-03-22T07:54:51.327Z"
   },
   {
    "duration": 35,
    "start_time": "2022-03-22T07:54:51.444Z"
   },
   {
    "duration": 114,
    "start_time": "2022-03-22T07:54:51.481Z"
   },
   {
    "duration": 16,
    "start_time": "2022-03-22T07:54:51.598Z"
   },
   {
    "duration": 6,
    "start_time": "2022-03-22T07:54:51.616Z"
   },
   {
    "duration": 48,
    "start_time": "2022-03-22T07:54:51.625Z"
   },
   {
    "duration": 7,
    "start_time": "2022-03-22T07:54:51.676Z"
   },
   {
    "duration": 12,
    "start_time": "2022-03-22T07:54:51.685Z"
   },
   {
    "duration": 424,
    "start_time": "2022-03-22T07:54:51.700Z"
   },
   {
    "duration": 15,
    "start_time": "2022-03-22T07:54:52.126Z"
   },
   {
    "duration": 538,
    "start_time": "2022-03-22T07:54:52.144Z"
   },
   {
    "duration": 18,
    "start_time": "2022-03-22T07:54:52.685Z"
   },
   {
    "duration": 16,
    "start_time": "2022-03-22T07:54:52.707Z"
   },
   {
    "duration": 63,
    "start_time": "2022-03-22T07:54:52.726Z"
   },
   {
    "duration": 33,
    "start_time": "2022-03-22T07:54:52.797Z"
   },
   {
    "duration": 6,
    "start_time": "2022-03-22T07:54:52.833Z"
   },
   {
    "duration": 53,
    "start_time": "2022-03-22T07:54:52.842Z"
   },
   {
    "duration": 803,
    "start_time": "2022-03-22T07:54:52.898Z"
   },
   {
    "duration": 9,
    "start_time": "2022-03-22T07:54:53.704Z"
   },
   {
    "duration": 12,
    "start_time": "2022-03-22T07:54:53.715Z"
   },
   {
    "duration": 16,
    "start_time": "2022-03-22T07:54:53.730Z"
   },
   {
    "duration": 41,
    "start_time": "2022-03-22T07:54:53.749Z"
   },
   {
    "duration": 218,
    "start_time": "2022-03-22T07:54:53.793Z"
   },
   {
    "duration": 248,
    "start_time": "2022-03-22T07:54:54.013Z"
   },
   {
    "duration": 20,
    "start_time": "2022-03-22T07:54:54.263Z"
   },
   {
    "duration": 33,
    "start_time": "2022-03-22T07:54:54.286Z"
   },
   {
    "duration": 213,
    "start_time": "2022-03-22T07:54:54.322Z"
   },
   {
    "duration": 329,
    "start_time": "2022-03-22T07:54:54.538Z"
   },
   {
    "duration": 13,
    "start_time": "2022-03-22T07:54:54.869Z"
   },
   {
    "duration": 19,
    "start_time": "2022-03-22T07:54:54.884Z"
   },
   {
    "duration": 18,
    "start_time": "2022-03-22T07:54:54.905Z"
   },
   {
    "duration": 38,
    "start_time": "2022-03-22T07:54:54.925Z"
   },
   {
    "duration": 297,
    "start_time": "2022-03-22T07:54:54.974Z"
   },
   {
    "duration": 12,
    "start_time": "2022-03-22T07:54:55.273Z"
   },
   {
    "duration": 28,
    "start_time": "2022-03-22T07:54:55.288Z"
   },
   {
    "duration": 336,
    "start_time": "2022-03-22T07:54:55.318Z"
   },
   {
    "duration": 23,
    "start_time": "2022-03-22T07:54:55.657Z"
   },
   {
    "duration": 43,
    "start_time": "2022-03-22T07:54:55.682Z"
   },
   {
    "duration": 496,
    "start_time": "2022-03-22T07:54:55.727Z"
   },
   {
    "duration": 610,
    "start_time": "2022-03-22T07:54:56.226Z"
   },
   {
    "duration": 243,
    "start_time": "2022-03-22T07:54:56.839Z"
   },
   {
    "duration": 258,
    "start_time": "2022-03-22T07:54:57.085Z"
   },
   {
    "duration": 269,
    "start_time": "2022-03-22T07:54:57.345Z"
   },
   {
    "duration": 221,
    "start_time": "2022-03-22T07:54:57.617Z"
   },
   {
    "duration": 33,
    "start_time": "2022-03-22T07:54:57.840Z"
   },
   {
    "duration": 4573,
    "start_time": "2022-03-22T07:54:57.876Z"
   },
   {
    "duration": 381,
    "start_time": "2022-03-22T07:55:02.451Z"
   },
   {
    "duration": 348,
    "start_time": "2022-03-22T07:55:02.835Z"
   },
   {
    "duration": 351,
    "start_time": "2022-03-22T07:55:03.185Z"
   },
   {
    "duration": 380,
    "start_time": "2022-03-22T07:55:03.539Z"
   },
   {
    "duration": 14,
    "start_time": "2022-03-22T07:55:03.921Z"
   },
   {
    "duration": 52,
    "start_time": "2022-03-22T07:55:03.938Z"
   },
   {
    "duration": 21,
    "start_time": "2022-03-22T07:55:03.993Z"
   },
   {
    "duration": 4,
    "start_time": "2022-03-22T07:55:04.016Z"
   },
   {
    "duration": 15,
    "start_time": "2022-03-22T07:55:04.022Z"
   },
   {
    "duration": 39,
    "start_time": "2022-03-22T07:55:04.039Z"
   },
   {
    "duration": 477,
    "start_time": "2022-03-22T07:55:04.080Z"
   },
   {
    "duration": 16,
    "start_time": "2022-03-22T07:55:04.560Z"
   },
   {
    "duration": 15,
    "start_time": "2022-03-22T07:55:04.579Z"
   },
   {
    "duration": 36,
    "start_time": "2022-03-22T07:55:04.603Z"
   },
   {
    "duration": 59,
    "start_time": "2022-03-22T07:55:04.642Z"
   },
   {
    "duration": 35,
    "start_time": "2022-03-22T07:55:04.703Z"
   },
   {
    "duration": 58,
    "start_time": "2022-03-22T07:55:04.741Z"
   },
   {
    "duration": 296,
    "start_time": "2022-03-22T07:55:04.802Z"
   },
   {
    "duration": 296,
    "start_time": "2022-03-22T07:55:05.101Z"
   },
   {
    "duration": 253,
    "start_time": "2022-03-22T07:55:05.400Z"
   },
   {
    "duration": 274,
    "start_time": "2022-03-22T07:55:05.656Z"
   },
   {
    "duration": 376,
    "start_time": "2022-03-22T07:55:05.933Z"
   },
   {
    "duration": 299,
    "start_time": "2022-03-22T07:55:06.313Z"
   },
   {
    "duration": 724,
    "start_time": "2022-03-22T15:12:12.800Z"
   },
   {
    "duration": 70,
    "start_time": "2022-03-22T15:12:13.526Z"
   },
   {
    "duration": 10,
    "start_time": "2022-03-22T15:12:13.597Z"
   },
   {
    "duration": 110,
    "start_time": "2022-03-22T15:12:13.609Z"
   },
   {
    "duration": 21,
    "start_time": "2022-03-22T15:12:13.721Z"
   },
   {
    "duration": 31,
    "start_time": "2022-03-22T15:12:13.744Z"
   },
   {
    "duration": 4,
    "start_time": "2022-03-22T15:12:13.777Z"
   },
   {
    "duration": 8,
    "start_time": "2022-03-22T15:12:13.782Z"
   },
   {
    "duration": 4,
    "start_time": "2022-03-22T15:12:13.792Z"
   },
   {
    "duration": 85,
    "start_time": "2022-03-22T15:12:13.799Z"
   },
   {
    "duration": 15,
    "start_time": "2022-03-22T15:12:13.885Z"
   },
   {
    "duration": 79,
    "start_time": "2022-03-22T15:12:13.901Z"
   },
   {
    "duration": 10,
    "start_time": "2022-03-22T15:12:13.981Z"
   },
   {
    "duration": 3,
    "start_time": "2022-03-22T15:12:13.993Z"
   },
   {
    "duration": 9,
    "start_time": "2022-03-22T15:12:13.998Z"
   },
   {
    "duration": 27,
    "start_time": "2022-03-22T15:12:14.009Z"
   },
   {
    "duration": 10,
    "start_time": "2022-03-22T15:12:14.037Z"
   },
   {
    "duration": 237,
    "start_time": "2022-03-22T15:12:14.049Z"
   },
   {
    "duration": 9,
    "start_time": "2022-03-22T15:12:14.288Z"
   },
   {
    "duration": 313,
    "start_time": "2022-03-22T15:12:14.298Z"
   },
   {
    "duration": 20,
    "start_time": "2022-03-22T15:12:14.613Z"
   },
   {
    "duration": 10,
    "start_time": "2022-03-22T15:12:14.635Z"
   },
   {
    "duration": 15,
    "start_time": "2022-03-22T15:12:14.647Z"
   },
   {
    "duration": 25,
    "start_time": "2022-03-22T15:12:14.664Z"
   },
   {
    "duration": 8,
    "start_time": "2022-03-22T15:12:14.691Z"
   },
   {
    "duration": 39,
    "start_time": "2022-03-22T15:12:14.701Z"
   },
   {
    "duration": 352,
    "start_time": "2022-03-22T15:12:14.742Z"
   },
   {
    "duration": 5,
    "start_time": "2022-03-22T15:12:15.098Z"
   },
   {
    "duration": 7,
    "start_time": "2022-03-22T15:12:15.105Z"
   },
   {
    "duration": 20,
    "start_time": "2022-03-22T15:12:15.113Z"
   },
   {
    "duration": 15,
    "start_time": "2022-03-22T15:12:15.135Z"
   },
   {
    "duration": 139,
    "start_time": "2022-03-22T15:12:15.152Z"
   },
   {
    "duration": 150,
    "start_time": "2022-03-22T15:12:15.293Z"
   },
   {
    "duration": 8,
    "start_time": "2022-03-22T15:12:15.445Z"
   },
   {
    "duration": 14,
    "start_time": "2022-03-22T15:12:15.454Z"
   },
   {
    "duration": 143,
    "start_time": "2022-03-22T15:12:15.470Z"
   },
   {
    "duration": 197,
    "start_time": "2022-03-22T15:12:15.615Z"
   },
   {
    "duration": 8,
    "start_time": "2022-03-22T15:12:15.814Z"
   },
   {
    "duration": 34,
    "start_time": "2022-03-22T15:12:15.824Z"
   },
   {
    "duration": 10,
    "start_time": "2022-03-22T15:12:15.860Z"
   },
   {
    "duration": 14,
    "start_time": "2022-03-22T15:12:15.872Z"
   },
   {
    "duration": 174,
    "start_time": "2022-03-22T15:12:15.888Z"
   },
   {
    "duration": 9,
    "start_time": "2022-03-22T15:12:16.063Z"
   },
   {
    "duration": 15,
    "start_time": "2022-03-22T15:12:16.073Z"
   },
   {
    "duration": 252,
    "start_time": "2022-03-22T15:12:16.090Z"
   },
   {
    "duration": 11,
    "start_time": "2022-03-22T15:12:16.344Z"
   },
   {
    "duration": 15,
    "start_time": "2022-03-22T15:12:16.357Z"
   },
   {
    "duration": 227,
    "start_time": "2022-03-22T15:12:16.374Z"
   },
   {
    "duration": 135,
    "start_time": "2022-03-22T15:12:16.602Z"
   },
   {
    "duration": 214,
    "start_time": "2022-03-22T15:12:16.739Z"
   },
   {
    "duration": 139,
    "start_time": "2022-03-22T15:12:16.954Z"
   },
   {
    "duration": 149,
    "start_time": "2022-03-22T15:12:17.095Z"
   },
   {
    "duration": 133,
    "start_time": "2022-03-22T15:12:17.246Z"
   },
   {
    "duration": 15,
    "start_time": "2022-03-22T15:12:17.381Z"
   },
   {
    "duration": 2772,
    "start_time": "2022-03-22T15:12:17.398Z"
   },
   {
    "duration": 152,
    "start_time": "2022-03-22T15:12:20.172Z"
   },
   {
    "duration": 151,
    "start_time": "2022-03-22T15:12:20.326Z"
   },
   {
    "duration": 160,
    "start_time": "2022-03-22T15:12:20.479Z"
   },
   {
    "duration": 165,
    "start_time": "2022-03-22T15:12:20.640Z"
   },
   {
    "duration": 8,
    "start_time": "2022-03-22T15:12:20.806Z"
   },
   {
    "duration": 26,
    "start_time": "2022-03-22T15:12:20.815Z"
   },
   {
    "duration": 9,
    "start_time": "2022-03-22T15:12:20.843Z"
   },
   {
    "duration": 8,
    "start_time": "2022-03-22T15:12:20.853Z"
   },
   {
    "duration": 13,
    "start_time": "2022-03-22T15:12:20.863Z"
   },
   {
    "duration": 4,
    "start_time": "2022-03-22T15:12:20.877Z"
   },
   {
    "duration": 287,
    "start_time": "2022-03-22T15:12:20.883Z"
   },
   {
    "duration": 3,
    "start_time": "2022-03-22T15:12:21.172Z"
   },
   {
    "duration": 12,
    "start_time": "2022-03-22T15:12:21.177Z"
   },
   {
    "duration": 26,
    "start_time": "2022-03-22T15:12:21.190Z"
   },
   {
    "duration": 23,
    "start_time": "2022-03-22T15:12:21.233Z"
   },
   {
    "duration": 22,
    "start_time": "2022-03-22T15:12:21.258Z"
   },
   {
    "duration": 22,
    "start_time": "2022-03-22T15:12:21.283Z"
   },
   {
    "duration": 174,
    "start_time": "2022-03-22T15:12:21.332Z"
   },
   {
    "duration": 195,
    "start_time": "2022-03-22T15:12:21.508Z"
   },
   {
    "duration": 153,
    "start_time": "2022-03-22T15:12:21.704Z"
   },
   {
    "duration": 281,
    "start_time": "2022-03-22T15:12:21.859Z"
   },
   {
    "duration": 165,
    "start_time": "2022-03-22T15:12:22.143Z"
   },
   {
    "duration": 178,
    "start_time": "2022-03-22T15:12:22.310Z"
   },
   {
    "duration": 12,
    "start_time": "2022-03-22T15:15:22.021Z"
   },
   {
    "duration": 14,
    "start_time": "2022-03-22T15:18:11.521Z"
   },
   {
    "duration": 784,
    "start_time": "2022-03-22T15:18:17.521Z"
   },
   {
    "duration": 74,
    "start_time": "2022-03-22T15:18:18.307Z"
   },
   {
    "duration": 9,
    "start_time": "2022-03-22T15:18:18.383Z"
   },
   {
    "duration": 103,
    "start_time": "2022-03-22T15:18:18.394Z"
   },
   {
    "duration": 20,
    "start_time": "2022-03-22T15:18:18.498Z"
   },
   {
    "duration": 41,
    "start_time": "2022-03-22T15:18:18.519Z"
   },
   {
    "duration": 4,
    "start_time": "2022-03-22T15:18:18.562Z"
   },
   {
    "duration": 7,
    "start_time": "2022-03-22T15:18:18.568Z"
   },
   {
    "duration": 5,
    "start_time": "2022-03-22T15:18:18.576Z"
   },
   {
    "duration": 87,
    "start_time": "2022-03-22T15:18:18.584Z"
   },
   {
    "duration": 17,
    "start_time": "2022-03-22T15:18:18.673Z"
   },
   {
    "duration": 100,
    "start_time": "2022-03-22T15:18:18.691Z"
   },
   {
    "duration": 10,
    "start_time": "2022-03-22T15:18:18.793Z"
   },
   {
    "duration": 3,
    "start_time": "2022-03-22T15:18:18.805Z"
   },
   {
    "duration": 10,
    "start_time": "2022-03-22T15:18:18.810Z"
   },
   {
    "duration": 5,
    "start_time": "2022-03-22T15:18:18.833Z"
   },
   {
    "duration": 13,
    "start_time": "2022-03-22T15:18:18.840Z"
   },
   {
    "duration": 245,
    "start_time": "2022-03-22T15:18:18.854Z"
   },
   {
    "duration": 9,
    "start_time": "2022-03-22T15:18:19.101Z"
   },
   {
    "duration": 312,
    "start_time": "2022-03-22T15:18:19.112Z"
   },
   {
    "duration": 16,
    "start_time": "2022-03-22T15:18:19.426Z"
   },
   {
    "duration": 12,
    "start_time": "2022-03-22T15:18:19.444Z"
   },
   {
    "duration": 97,
    "start_time": "2022-03-22T15:18:19.458Z"
   },
   {
    "duration": 0,
    "start_time": "2022-03-22T15:18:19.614Z"
   },
   {
    "duration": 0,
    "start_time": "2022-03-22T15:18:19.615Z"
   },
   {
    "duration": 0,
    "start_time": "2022-03-22T15:18:19.616Z"
   },
   {
    "duration": 0,
    "start_time": "2022-03-22T15:18:19.618Z"
   },
   {
    "duration": 0,
    "start_time": "2022-03-22T15:18:19.619Z"
   },
   {
    "duration": 0,
    "start_time": "2022-03-22T15:18:19.633Z"
   },
   {
    "duration": 0,
    "start_time": "2022-03-22T15:18:19.635Z"
   },
   {
    "duration": 0,
    "start_time": "2022-03-22T15:18:19.636Z"
   },
   {
    "duration": 1,
    "start_time": "2022-03-22T15:18:19.637Z"
   },
   {
    "duration": 0,
    "start_time": "2022-03-22T15:18:19.639Z"
   },
   {
    "duration": 0,
    "start_time": "2022-03-22T15:18:19.640Z"
   },
   {
    "duration": 0,
    "start_time": "2022-03-22T15:18:19.642Z"
   },
   {
    "duration": 0,
    "start_time": "2022-03-22T15:18:19.643Z"
   },
   {
    "duration": 0,
    "start_time": "2022-03-22T15:18:19.645Z"
   },
   {
    "duration": 0,
    "start_time": "2022-03-22T15:18:19.646Z"
   },
   {
    "duration": 0,
    "start_time": "2022-03-22T15:18:19.648Z"
   },
   {
    "duration": 0,
    "start_time": "2022-03-22T15:18:19.649Z"
   },
   {
    "duration": 0,
    "start_time": "2022-03-22T15:18:19.651Z"
   },
   {
    "duration": 0,
    "start_time": "2022-03-22T15:18:19.652Z"
   },
   {
    "duration": 0,
    "start_time": "2022-03-22T15:18:19.653Z"
   },
   {
    "duration": 0,
    "start_time": "2022-03-22T15:18:19.655Z"
   },
   {
    "duration": 0,
    "start_time": "2022-03-22T15:18:19.656Z"
   },
   {
    "duration": 0,
    "start_time": "2022-03-22T15:18:19.658Z"
   },
   {
    "duration": 0,
    "start_time": "2022-03-22T15:18:19.659Z"
   },
   {
    "duration": 0,
    "start_time": "2022-03-22T15:18:19.661Z"
   },
   {
    "duration": 0,
    "start_time": "2022-03-22T15:18:19.662Z"
   },
   {
    "duration": 0,
    "start_time": "2022-03-22T15:18:19.663Z"
   },
   {
    "duration": 0,
    "start_time": "2022-03-22T15:18:19.665Z"
   },
   {
    "duration": 0,
    "start_time": "2022-03-22T15:18:19.666Z"
   },
   {
    "duration": 0,
    "start_time": "2022-03-22T15:18:19.668Z"
   },
   {
    "duration": 0,
    "start_time": "2022-03-22T15:18:19.669Z"
   },
   {
    "duration": 0,
    "start_time": "2022-03-22T15:18:19.671Z"
   },
   {
    "duration": 0,
    "start_time": "2022-03-22T15:18:19.732Z"
   },
   {
    "duration": 0,
    "start_time": "2022-03-22T15:18:19.734Z"
   },
   {
    "duration": 0,
    "start_time": "2022-03-22T15:18:19.736Z"
   },
   {
    "duration": 0,
    "start_time": "2022-03-22T15:18:19.737Z"
   },
   {
    "duration": 0,
    "start_time": "2022-03-22T15:18:19.738Z"
   },
   {
    "duration": 0,
    "start_time": "2022-03-22T15:18:19.739Z"
   },
   {
    "duration": 0,
    "start_time": "2022-03-22T15:18:19.741Z"
   },
   {
    "duration": 0,
    "start_time": "2022-03-22T15:18:19.742Z"
   },
   {
    "duration": 0,
    "start_time": "2022-03-22T15:18:19.743Z"
   },
   {
    "duration": 0,
    "start_time": "2022-03-22T15:18:19.745Z"
   },
   {
    "duration": 0,
    "start_time": "2022-03-22T15:18:19.746Z"
   },
   {
    "duration": 0,
    "start_time": "2022-03-22T15:18:19.748Z"
   },
   {
    "duration": 0,
    "start_time": "2022-03-22T15:18:19.749Z"
   },
   {
    "duration": 0,
    "start_time": "2022-03-22T15:18:19.750Z"
   },
   {
    "duration": 0,
    "start_time": "2022-03-22T15:18:19.752Z"
   },
   {
    "duration": 0,
    "start_time": "2022-03-22T15:18:19.753Z"
   },
   {
    "duration": 0,
    "start_time": "2022-03-22T15:18:19.754Z"
   },
   {
    "duration": 0,
    "start_time": "2022-03-22T15:18:19.756Z"
   },
   {
    "duration": 0,
    "start_time": "2022-03-22T15:18:19.757Z"
   },
   {
    "duration": 0,
    "start_time": "2022-03-22T15:18:19.758Z"
   },
   {
    "duration": 0,
    "start_time": "2022-03-22T15:18:19.759Z"
   },
   {
    "duration": 0,
    "start_time": "2022-03-22T15:18:19.760Z"
   },
   {
    "duration": 0,
    "start_time": "2022-03-22T15:18:19.762Z"
   },
   {
    "duration": 0,
    "start_time": "2022-03-22T15:18:19.762Z"
   },
   {
    "duration": 703,
    "start_time": "2022-03-22T15:18:35.256Z"
   },
   {
    "duration": 73,
    "start_time": "2022-03-22T15:18:35.961Z"
   },
   {
    "duration": 11,
    "start_time": "2022-03-22T15:18:36.036Z"
   },
   {
    "duration": 115,
    "start_time": "2022-03-22T15:18:36.049Z"
   },
   {
    "duration": 20,
    "start_time": "2022-03-22T15:18:36.166Z"
   },
   {
    "duration": 45,
    "start_time": "2022-03-22T15:18:36.188Z"
   },
   {
    "duration": 5,
    "start_time": "2022-03-22T15:18:36.234Z"
   },
   {
    "duration": 8,
    "start_time": "2022-03-22T15:18:36.241Z"
   },
   {
    "duration": 5,
    "start_time": "2022-03-22T15:18:36.251Z"
   },
   {
    "duration": 81,
    "start_time": "2022-03-22T15:18:36.259Z"
   },
   {
    "duration": 15,
    "start_time": "2022-03-22T15:18:36.342Z"
   },
   {
    "duration": 82,
    "start_time": "2022-03-22T15:18:36.358Z"
   },
   {
    "duration": 10,
    "start_time": "2022-03-22T15:18:36.441Z"
   },
   {
    "duration": 3,
    "start_time": "2022-03-22T15:18:36.453Z"
   },
   {
    "duration": 9,
    "start_time": "2022-03-22T15:18:36.458Z"
   },
   {
    "duration": 4,
    "start_time": "2022-03-22T15:18:36.469Z"
   },
   {
    "duration": 10,
    "start_time": "2022-03-22T15:18:36.475Z"
   },
   {
    "duration": 268,
    "start_time": "2022-03-22T15:18:36.487Z"
   },
   {
    "duration": 10,
    "start_time": "2022-03-22T15:18:36.757Z"
   },
   {
    "duration": 314,
    "start_time": "2022-03-22T15:18:36.769Z"
   },
   {
    "duration": 12,
    "start_time": "2022-03-22T15:18:37.084Z"
   },
   {
    "duration": 9,
    "start_time": "2022-03-22T15:18:37.098Z"
   },
   {
    "duration": 36,
    "start_time": "2022-03-22T15:18:37.109Z"
   },
   {
    "duration": 13,
    "start_time": "2022-03-22T15:18:37.146Z"
   },
   {
    "duration": 21,
    "start_time": "2022-03-22T15:18:37.160Z"
   },
   {
    "duration": 4,
    "start_time": "2022-03-22T15:18:37.182Z"
   },
   {
    "duration": 18,
    "start_time": "2022-03-22T15:18:37.188Z"
   },
   {
    "duration": 282,
    "start_time": "2022-03-22T15:18:37.291Z"
   },
   {
    "duration": 5,
    "start_time": "2022-03-22T15:18:37.574Z"
   },
   {
    "duration": 5,
    "start_time": "2022-03-22T15:18:37.581Z"
   },
   {
    "duration": 11,
    "start_time": "2022-03-22T15:18:37.587Z"
   },
   {
    "duration": 34,
    "start_time": "2022-03-22T15:18:37.600Z"
   },
   {
    "duration": 131,
    "start_time": "2022-03-22T15:18:37.635Z"
   },
   {
    "duration": 147,
    "start_time": "2022-03-22T15:18:37.767Z"
   },
   {
    "duration": 18,
    "start_time": "2022-03-22T15:18:37.915Z"
   },
   {
    "duration": 16,
    "start_time": "2022-03-22T15:18:37.935Z"
   },
   {
    "duration": 140,
    "start_time": "2022-03-22T15:18:37.953Z"
   },
   {
    "duration": 213,
    "start_time": "2022-03-22T15:18:38.095Z"
   },
   {
    "duration": 8,
    "start_time": "2022-03-22T15:18:38.310Z"
   },
   {
    "duration": 24,
    "start_time": "2022-03-22T15:18:38.320Z"
   },
   {
    "duration": 12,
    "start_time": "2022-03-22T15:18:38.346Z"
   },
   {
    "duration": 17,
    "start_time": "2022-03-22T15:18:38.360Z"
   },
   {
    "duration": 187,
    "start_time": "2022-03-22T15:18:38.379Z"
   },
   {
    "duration": 10,
    "start_time": "2022-03-22T15:18:38.568Z"
   },
   {
    "duration": 15,
    "start_time": "2022-03-22T15:18:38.580Z"
   },
   {
    "duration": 202,
    "start_time": "2022-03-22T15:18:38.597Z"
   },
   {
    "duration": 10,
    "start_time": "2022-03-22T15:18:38.801Z"
   },
   {
    "duration": 34,
    "start_time": "2022-03-22T15:18:38.813Z"
   },
   {
    "duration": 205,
    "start_time": "2022-03-22T15:18:38.849Z"
   },
   {
    "duration": 133,
    "start_time": "2022-03-22T15:18:39.056Z"
   },
   {
    "duration": 216,
    "start_time": "2022-03-22T15:18:39.191Z"
   },
   {
    "duration": 150,
    "start_time": "2022-03-22T15:18:39.409Z"
   },
   {
    "duration": 146,
    "start_time": "2022-03-22T15:18:39.560Z"
   },
   {
    "duration": 132,
    "start_time": "2022-03-22T15:18:39.708Z"
   },
   {
    "duration": 14,
    "start_time": "2022-03-22T15:18:39.842Z"
   },
   {
    "duration": 2808,
    "start_time": "2022-03-22T15:18:39.857Z"
   },
   {
    "duration": 141,
    "start_time": "2022-03-22T15:18:42.667Z"
   },
   {
    "duration": 148,
    "start_time": "2022-03-22T15:18:42.810Z"
   },
   {
    "duration": 149,
    "start_time": "2022-03-22T15:18:42.960Z"
   },
   {
    "duration": 165,
    "start_time": "2022-03-22T15:18:43.111Z"
   },
   {
    "duration": 8,
    "start_time": "2022-03-22T15:18:43.278Z"
   },
   {
    "duration": 24,
    "start_time": "2022-03-22T15:18:43.287Z"
   },
   {
    "duration": 21,
    "start_time": "2022-03-22T15:18:43.313Z"
   },
   {
    "duration": 7,
    "start_time": "2022-03-22T15:18:43.335Z"
   },
   {
    "duration": 18,
    "start_time": "2022-03-22T15:18:43.344Z"
   },
   {
    "duration": 3,
    "start_time": "2022-03-22T15:18:43.364Z"
   },
   {
    "duration": 271,
    "start_time": "2022-03-22T15:18:43.368Z"
   },
   {
    "duration": 3,
    "start_time": "2022-03-22T15:18:43.640Z"
   },
   {
    "duration": 12,
    "start_time": "2022-03-22T15:18:43.644Z"
   },
   {
    "duration": 23,
    "start_time": "2022-03-22T15:18:43.658Z"
   },
   {
    "duration": 22,
    "start_time": "2022-03-22T15:18:43.683Z"
   },
   {
    "duration": 24,
    "start_time": "2022-03-22T15:18:43.733Z"
   },
   {
    "duration": 23,
    "start_time": "2022-03-22T15:18:43.759Z"
   },
   {
    "duration": 186,
    "start_time": "2022-03-22T15:18:43.784Z"
   },
   {
    "duration": 183,
    "start_time": "2022-03-22T15:18:43.972Z"
   },
   {
    "duration": 146,
    "start_time": "2022-03-22T15:18:44.157Z"
   },
   {
    "duration": 270,
    "start_time": "2022-03-22T15:18:44.305Z"
   },
   {
    "duration": 165,
    "start_time": "2022-03-22T15:18:44.577Z"
   },
   {
    "duration": 182,
    "start_time": "2022-03-22T15:18:44.744Z"
   },
   {
    "duration": 1176,
    "start_time": "2022-04-16T20:45:35.002Z"
   },
   {
    "duration": 42,
    "start_time": "2022-04-16T20:45:36.179Z"
   },
   {
    "duration": 17,
    "start_time": "2022-04-16T20:45:36.222Z"
   },
   {
    "duration": 13,
    "start_time": "2022-04-16T20:45:36.241Z"
   },
   {
    "duration": 8,
    "start_time": "2022-04-16T20:45:36.255Z"
   },
   {
    "duration": 10,
    "start_time": "2022-04-16T20:45:36.265Z"
   },
   {
    "duration": 26,
    "start_time": "2022-04-16T20:45:36.277Z"
   },
   {
    "duration": 8,
    "start_time": "2022-04-16T20:45:36.304Z"
   },
   {
    "duration": 7,
    "start_time": "2022-04-16T20:45:36.313Z"
   },
   {
    "duration": 5,
    "start_time": "2022-04-16T20:45:36.322Z"
   },
   {
    "duration": 6,
    "start_time": "2022-04-16T20:45:36.328Z"
   },
   {
    "duration": 9,
    "start_time": "2022-04-16T20:45:36.335Z"
   },
   {
    "duration": 11,
    "start_time": "2022-04-16T20:45:36.346Z"
   },
   {
    "duration": 43,
    "start_time": "2022-04-16T20:45:36.359Z"
   },
   {
    "duration": 4,
    "start_time": "2022-04-16T20:45:36.403Z"
   },
   {
    "duration": 199,
    "start_time": "2022-04-16T20:45:36.408Z"
   },
   {
    "duration": 288,
    "start_time": "2022-04-16T20:45:36.608Z"
   },
   {
    "duration": 877,
    "start_time": "2022-04-16T20:45:36.899Z"
   },
   {
    "duration": 14,
    "start_time": "2022-04-16T20:45:37.778Z"
   },
   {
    "duration": 189,
    "start_time": "2022-04-16T20:45:37.801Z"
   },
   {
    "duration": 778,
    "start_time": "2022-04-16T20:45:37.991Z"
   },
   {
    "duration": 232,
    "start_time": "2022-04-16T20:45:38.771Z"
   },
   {
    "duration": 4,
    "start_time": "2022-04-16T20:45:39.005Z"
   },
   {
    "duration": 1258,
    "start_time": "2022-04-16T20:45:39.010Z"
   },
   {
    "duration": 212,
    "start_time": "2022-04-16T20:45:40.269Z"
   },
   {
    "duration": 8,
    "start_time": "2022-04-16T20:45:40.483Z"
   },
   {
    "duration": 202,
    "start_time": "2022-04-16T20:45:40.499Z"
   },
   {
    "duration": 11,
    "start_time": "2022-04-16T20:45:40.705Z"
   },
   {
    "duration": 20,
    "start_time": "2022-04-16T20:45:40.718Z"
   },
   {
    "duration": 15,
    "start_time": "2022-04-16T20:45:40.739Z"
   },
   {
    "duration": 20,
    "start_time": "2022-04-16T21:10:16.909Z"
   },
   {
    "duration": 4,
    "start_time": "2022-04-16T21:10:42.656Z"
   },
   {
    "duration": 11,
    "start_time": "2022-04-16T21:10:45.388Z"
   },
   {
    "duration": 98,
    "start_time": "2022-04-16T21:12:00.935Z"
   },
   {
    "duration": 13,
    "start_time": "2022-04-16T21:12:15.673Z"
   },
   {
    "duration": 10,
    "start_time": "2022-04-16T21:12:27.133Z"
   },
   {
    "duration": 10,
    "start_time": "2022-04-16T21:12:30.576Z"
   },
   {
    "duration": 5,
    "start_time": "2022-04-16T21:13:21.047Z"
   },
   {
    "duration": 5,
    "start_time": "2022-04-16T21:13:28.362Z"
   },
   {
    "duration": 5,
    "start_time": "2022-04-16T21:13:59.790Z"
   },
   {
    "duration": 5,
    "start_time": "2022-04-16T21:14:10.296Z"
   },
   {
    "duration": 5,
    "start_time": "2022-04-16T21:14:20.893Z"
   },
   {
    "duration": 5,
    "start_time": "2022-04-16T21:14:24.926Z"
   },
   {
    "duration": 7,
    "start_time": "2022-04-16T21:15:24.246Z"
   },
   {
    "duration": 7,
    "start_time": "2022-04-16T21:15:39.144Z"
   },
   {
    "duration": 10,
    "start_time": "2022-04-16T21:15:39.799Z"
   },
   {
    "duration": 7,
    "start_time": "2022-04-16T21:15:50.798Z"
   },
   {
    "duration": 7,
    "start_time": "2022-04-16T21:16:11.224Z"
   },
   {
    "duration": 10,
    "start_time": "2022-04-16T21:16:11.511Z"
   },
   {
    "duration": 13,
    "start_time": "2022-04-16T21:16:34.361Z"
   },
   {
    "duration": 13,
    "start_time": "2022-04-16T21:16:46.681Z"
   },
   {
    "duration": 13,
    "start_time": "2022-04-16T21:17:30.918Z"
   },
   {
    "duration": 1099,
    "start_time": "2022-04-16T21:18:20.550Z"
   },
   {
    "duration": 50,
    "start_time": "2022-04-16T21:18:21.650Z"
   },
   {
    "duration": 15,
    "start_time": "2022-04-16T21:18:21.702Z"
   },
   {
    "duration": 12,
    "start_time": "2022-04-16T21:18:21.719Z"
   },
   {
    "duration": 8,
    "start_time": "2022-04-16T21:18:21.732Z"
   },
   {
    "duration": 9,
    "start_time": "2022-04-16T21:18:21.741Z"
   },
   {
    "duration": 5,
    "start_time": "2022-04-16T21:18:21.752Z"
   },
   {
    "duration": 7,
    "start_time": "2022-04-16T21:18:21.758Z"
   },
   {
    "duration": 34,
    "start_time": "2022-04-16T21:18:21.767Z"
   },
   {
    "duration": 4,
    "start_time": "2022-04-16T21:18:21.804Z"
   },
   {
    "duration": 6,
    "start_time": "2022-04-16T21:18:21.809Z"
   },
   {
    "duration": 6,
    "start_time": "2022-04-16T21:18:21.816Z"
   },
   {
    "duration": 12,
    "start_time": "2022-04-16T21:18:21.823Z"
   },
   {
    "duration": 14,
    "start_time": "2022-04-16T21:18:21.836Z"
   },
   {
    "duration": 3,
    "start_time": "2022-04-16T21:18:21.851Z"
   },
   {
    "duration": 230,
    "start_time": "2022-04-16T21:18:21.855Z"
   },
   {
    "duration": 273,
    "start_time": "2022-04-16T21:18:22.087Z"
   },
   {
    "duration": 860,
    "start_time": "2022-04-16T21:18:22.362Z"
   },
   {
    "duration": 15,
    "start_time": "2022-04-16T21:18:23.224Z"
   },
   {
    "duration": 212,
    "start_time": "2022-04-16T21:18:23.241Z"
   },
   {
    "duration": 768,
    "start_time": "2022-04-16T21:18:23.454Z"
   },
   {
    "duration": 227,
    "start_time": "2022-04-16T21:18:24.224Z"
   },
   {
    "duration": 4,
    "start_time": "2022-04-16T21:18:24.453Z"
   },
   {
    "duration": 1244,
    "start_time": "2022-04-16T21:18:24.458Z"
   },
   {
    "duration": 205,
    "start_time": "2022-04-16T21:18:25.704Z"
   },
   {
    "duration": 9,
    "start_time": "2022-04-16T21:18:25.911Z"
   },
   {
    "duration": 208,
    "start_time": "2022-04-16T21:18:25.922Z"
   },
   {
    "duration": 3,
    "start_time": "2022-04-16T21:18:26.132Z"
   },
   {
    "duration": 16,
    "start_time": "2022-04-16T21:18:26.137Z"
   },
   {
    "duration": 13,
    "start_time": "2022-04-16T21:18:26.154Z"
   },
   {
    "duration": 2,
    "start_time": "2022-04-16T21:18:26.169Z"
   },
   {
    "duration": 5,
    "start_time": "2022-04-16T21:19:26.469Z"
   },
   {
    "duration": 10,
    "start_time": "2022-04-16T21:19:27.487Z"
   },
   {
    "duration": 10,
    "start_time": "2022-04-16T21:19:40.444Z"
   },
   {
    "duration": 10,
    "start_time": "2022-04-16T21:19:52.137Z"
   },
   {
    "duration": 9,
    "start_time": "2022-04-16T21:20:28.149Z"
   },
   {
    "duration": 12,
    "start_time": "2022-04-16T21:20:32.876Z"
   },
   {
    "duration": 10,
    "start_time": "2022-04-16T21:20:37.858Z"
   },
   {
    "duration": 11,
    "start_time": "2022-04-16T21:20:40.918Z"
   },
   {
    "duration": 1126,
    "start_time": "2022-04-16T21:25:50.056Z"
   },
   {
    "duration": 53,
    "start_time": "2022-04-16T21:25:51.184Z"
   },
   {
    "duration": 16,
    "start_time": "2022-04-16T21:25:51.239Z"
   },
   {
    "duration": 14,
    "start_time": "2022-04-16T21:25:51.257Z"
   },
   {
    "duration": 9,
    "start_time": "2022-04-16T21:25:51.273Z"
   },
   {
    "duration": 23,
    "start_time": "2022-04-16T21:25:51.283Z"
   },
   {
    "duration": 6,
    "start_time": "2022-04-16T21:25:51.307Z"
   },
   {
    "duration": 10,
    "start_time": "2022-04-16T21:25:51.314Z"
   },
   {
    "duration": 11,
    "start_time": "2022-04-16T21:25:51.325Z"
   },
   {
    "duration": 5,
    "start_time": "2022-04-16T21:25:51.339Z"
   },
   {
    "duration": 5,
    "start_time": "2022-04-16T21:25:51.346Z"
   },
   {
    "duration": 7,
    "start_time": "2022-04-16T21:25:51.352Z"
   },
   {
    "duration": 41,
    "start_time": "2022-04-16T21:25:51.361Z"
   },
   {
    "duration": 16,
    "start_time": "2022-04-16T21:25:51.403Z"
   },
   {
    "duration": 4,
    "start_time": "2022-04-16T21:25:51.420Z"
   },
   {
    "duration": 203,
    "start_time": "2022-04-16T21:25:51.426Z"
   },
   {
    "duration": 291,
    "start_time": "2022-04-16T21:25:51.630Z"
   },
   {
    "duration": 857,
    "start_time": "2022-04-16T21:25:51.923Z"
   },
   {
    "duration": 24,
    "start_time": "2022-04-16T21:25:52.781Z"
   },
   {
    "duration": 196,
    "start_time": "2022-04-16T21:25:52.806Z"
   },
   {
    "duration": 803,
    "start_time": "2022-04-16T21:25:53.004Z"
   },
   {
    "duration": 232,
    "start_time": "2022-04-16T21:25:53.808Z"
   },
   {
    "duration": 4,
    "start_time": "2022-04-16T21:25:54.042Z"
   },
   {
    "duration": 1310,
    "start_time": "2022-04-16T21:25:54.047Z"
   },
   {
    "duration": 219,
    "start_time": "2022-04-16T21:25:55.359Z"
   },
   {
    "duration": 20,
    "start_time": "2022-04-16T21:25:55.580Z"
   },
   {
    "duration": 204,
    "start_time": "2022-04-16T21:25:55.602Z"
   },
   {
    "duration": 11,
    "start_time": "2022-04-16T21:25:55.809Z"
   },
   {
    "duration": 14,
    "start_time": "2022-04-16T21:25:55.822Z"
   },
   {
    "duration": 29,
    "start_time": "2022-04-16T21:25:55.838Z"
   },
   {
    "duration": 1430,
    "start_time": "2022-04-17T06:52:36.057Z"
   },
   {
    "duration": 35,
    "start_time": "2022-04-17T06:52:37.490Z"
   },
   {
    "duration": 16,
    "start_time": "2022-04-17T06:52:37.527Z"
   },
   {
    "duration": 21,
    "start_time": "2022-04-17T06:52:37.545Z"
   },
   {
    "duration": 8,
    "start_time": "2022-04-17T06:52:37.568Z"
   },
   {
    "duration": 13,
    "start_time": "2022-04-17T06:52:37.577Z"
   },
   {
    "duration": 6,
    "start_time": "2022-04-17T06:52:37.592Z"
   },
   {
    "duration": 11,
    "start_time": "2022-04-17T06:52:37.599Z"
   },
   {
    "duration": 9,
    "start_time": "2022-04-17T06:52:37.611Z"
   },
   {
    "duration": 33,
    "start_time": "2022-04-17T06:52:37.623Z"
   },
   {
    "duration": 11,
    "start_time": "2022-04-17T06:52:37.658Z"
   },
   {
    "duration": 11,
    "start_time": "2022-04-17T06:52:37.671Z"
   },
   {
    "duration": 19,
    "start_time": "2022-04-17T06:52:37.684Z"
   },
   {
    "duration": 20,
    "start_time": "2022-04-17T06:52:37.705Z"
   },
   {
    "duration": 5,
    "start_time": "2022-04-17T06:52:37.727Z"
   },
   {
    "duration": 269,
    "start_time": "2022-04-17T06:52:37.733Z"
   },
   {
    "duration": 447,
    "start_time": "2022-04-17T06:52:38.003Z"
   },
   {
    "duration": 1348,
    "start_time": "2022-04-17T06:52:38.454Z"
   },
   {
    "duration": 15,
    "start_time": "2022-04-17T06:52:39.804Z"
   },
   {
    "duration": 311,
    "start_time": "2022-04-17T06:52:39.821Z"
   },
   {
    "duration": 1130,
    "start_time": "2022-04-17T06:52:40.134Z"
   },
   {
    "duration": 381,
    "start_time": "2022-04-17T06:52:41.266Z"
   },
   {
    "duration": 6,
    "start_time": "2022-04-17T06:52:41.650Z"
   },
   {
    "duration": 1361,
    "start_time": "2022-04-17T06:52:41.658Z"
   },
   {
    "duration": 220,
    "start_time": "2022-04-17T06:52:43.020Z"
   },
   {
    "duration": 15,
    "start_time": "2022-04-17T06:52:43.241Z"
   },
   {
    "duration": 219,
    "start_time": "2022-04-17T06:52:43.257Z"
   },
   {
    "duration": 11,
    "start_time": "2022-04-17T06:52:43.479Z"
   },
   {
    "duration": 13,
    "start_time": "2022-04-17T06:52:43.492Z"
   },
   {
    "duration": 6,
    "start_time": "2022-04-17T06:52:43.506Z"
   },
   {
    "duration": 212,
    "start_time": "2022-04-17T07:10:16.056Z"
   },
   {
    "duration": 195,
    "start_time": "2022-04-17T07:11:11.212Z"
   },
   {
    "duration": 202,
    "start_time": "2022-04-17T07:13:34.600Z"
   },
   {
    "duration": 201,
    "start_time": "2022-04-17T07:13:42.966Z"
   },
   {
    "duration": 107,
    "start_time": "2022-04-17T07:17:01.096Z"
   },
   {
    "duration": 193,
    "start_time": "2022-04-17T07:17:13.492Z"
   },
   {
    "duration": 207,
    "start_time": "2022-04-17T07:23:30.834Z"
   },
   {
    "duration": 221,
    "start_time": "2022-04-17T07:24:30.014Z"
   },
   {
    "duration": 10,
    "start_time": "2022-04-17T07:24:48.363Z"
   },
   {
    "duration": 10,
    "start_time": "2022-04-17T07:25:30.139Z"
   },
   {
    "duration": 208,
    "start_time": "2022-04-17T07:27:43.891Z"
   },
   {
    "duration": 9,
    "start_time": "2022-04-17T07:27:52.312Z"
   },
   {
    "duration": 108,
    "start_time": "2022-04-17T07:32:54.066Z"
   },
   {
    "duration": 87,
    "start_time": "2022-04-17T07:39:07.925Z"
   },
   {
    "duration": 203,
    "start_time": "2022-04-17T07:40:17.191Z"
   },
   {
    "duration": 200,
    "start_time": "2022-04-17T07:44:14.092Z"
   },
   {
    "duration": 216,
    "start_time": "2022-04-17T07:44:28.056Z"
   },
   {
    "duration": 141,
    "start_time": "2022-04-17T07:53:57.020Z"
   },
   {
    "duration": 115,
    "start_time": "2022-04-17T07:54:23.418Z"
   },
   {
    "duration": 2467,
    "start_time": "2022-04-17T07:54:47.338Z"
   },
   {
    "duration": 90,
    "start_time": "2022-04-17T07:55:20.588Z"
   },
   {
    "duration": 92,
    "start_time": "2022-04-17T07:55:44.910Z"
   },
   {
    "duration": 136,
    "start_time": "2022-04-17T08:13:34.035Z"
   },
   {
    "duration": 162,
    "start_time": "2022-04-17T08:15:09.521Z"
   },
   {
    "duration": 196,
    "start_time": "2022-04-17T08:16:09.660Z"
   },
   {
    "duration": 157,
    "start_time": "2022-04-17T08:17:09.520Z"
   },
   {
    "duration": 87,
    "start_time": "2022-04-17T08:18:44.429Z"
   },
   {
    "duration": 86,
    "start_time": "2022-04-17T08:19:57.032Z"
   },
   {
    "duration": 111,
    "start_time": "2022-04-17T08:21:56.857Z"
   },
   {
    "duration": 88,
    "start_time": "2022-04-17T08:22:18.119Z"
   },
   {
    "duration": 88,
    "start_time": "2022-04-17T08:22:32.712Z"
   },
   {
    "duration": 96,
    "start_time": "2022-04-17T08:22:59.309Z"
   },
   {
    "duration": 95,
    "start_time": "2022-04-17T08:23:25.178Z"
   },
   {
    "duration": 110,
    "start_time": "2022-04-17T08:23:42.859Z"
   },
   {
    "duration": 77,
    "start_time": "2022-04-17T08:24:43.694Z"
   },
   {
    "duration": 108,
    "start_time": "2022-04-17T08:25:03.869Z"
   },
   {
    "duration": 84,
    "start_time": "2022-04-17T08:25:47.006Z"
   },
   {
    "duration": 94,
    "start_time": "2022-04-17T08:26:00.203Z"
   },
   {
    "duration": 94,
    "start_time": "2022-04-17T08:27:08.678Z"
   },
   {
    "duration": 99,
    "start_time": "2022-04-17T08:29:47.185Z"
   },
   {
    "duration": 90,
    "start_time": "2022-04-17T08:30:37.738Z"
   },
   {
    "duration": 3,
    "start_time": "2022-04-17T08:34:39.078Z"
   },
   {
    "duration": 36,
    "start_time": "2022-04-17T08:34:39.083Z"
   },
   {
    "duration": 13,
    "start_time": "2022-04-17T08:34:39.120Z"
   },
   {
    "duration": 15,
    "start_time": "2022-04-17T08:34:39.135Z"
   },
   {
    "duration": 10,
    "start_time": "2022-04-17T08:34:39.154Z"
   },
   {
    "duration": 19,
    "start_time": "2022-04-17T08:34:39.166Z"
   },
   {
    "duration": 9,
    "start_time": "2022-04-17T08:34:39.187Z"
   },
   {
    "duration": 15,
    "start_time": "2022-04-17T08:34:39.198Z"
   },
   {
    "duration": 26,
    "start_time": "2022-04-17T08:34:39.217Z"
   },
   {
    "duration": 9,
    "start_time": "2022-04-17T08:34:39.245Z"
   },
   {
    "duration": 9,
    "start_time": "2022-04-17T08:34:39.256Z"
   },
   {
    "duration": 8,
    "start_time": "2022-04-17T08:34:39.267Z"
   },
   {
    "duration": 14,
    "start_time": "2022-04-17T08:34:39.276Z"
   },
   {
    "duration": 14,
    "start_time": "2022-04-17T08:34:39.292Z"
   },
   {
    "duration": 5,
    "start_time": "2022-04-17T08:34:39.307Z"
   },
   {
    "duration": 205,
    "start_time": "2022-04-17T08:34:39.313Z"
   },
   {
    "duration": 298,
    "start_time": "2022-04-17T08:34:39.520Z"
   },
   {
    "duration": 919,
    "start_time": "2022-04-17T08:34:39.820Z"
   },
   {
    "duration": 19,
    "start_time": "2022-04-17T08:34:40.741Z"
   },
   {
    "duration": 194,
    "start_time": "2022-04-17T08:34:40.762Z"
   },
   {
    "duration": 641,
    "start_time": "2022-04-17T08:34:40.959Z"
   },
   {
    "duration": 347,
    "start_time": "2022-04-17T08:34:41.601Z"
   },
   {
    "duration": 4,
    "start_time": "2022-04-17T08:34:41.954Z"
   },
   {
    "duration": 1402,
    "start_time": "2022-04-17T08:34:41.962Z"
   },
   {
    "duration": 233,
    "start_time": "2022-04-17T08:34:43.366Z"
   },
   {
    "duration": 2268,
    "start_time": "2022-04-17T08:34:43.601Z"
   },
   {
    "duration": 0,
    "start_time": "2022-04-17T08:34:45.871Z"
   },
   {
    "duration": 1,
    "start_time": "2022-04-17T08:34:45.872Z"
   },
   {
    "duration": 0,
    "start_time": "2022-04-17T08:34:45.874Z"
   },
   {
    "duration": 0,
    "start_time": "2022-04-17T08:34:45.875Z"
   },
   {
    "duration": 3,
    "start_time": "2022-04-17T08:36:15.346Z"
   },
   {
    "duration": 47,
    "start_time": "2022-04-17T08:36:15.352Z"
   },
   {
    "duration": 12,
    "start_time": "2022-04-17T08:36:15.401Z"
   },
   {
    "duration": 16,
    "start_time": "2022-04-17T08:36:15.415Z"
   },
   {
    "duration": 21,
    "start_time": "2022-04-17T08:36:15.434Z"
   },
   {
    "duration": 16,
    "start_time": "2022-04-17T08:36:15.456Z"
   },
   {
    "duration": 13,
    "start_time": "2022-04-17T08:36:15.474Z"
   },
   {
    "duration": 15,
    "start_time": "2022-04-17T08:36:15.489Z"
   },
   {
    "duration": 11,
    "start_time": "2022-04-17T08:36:15.505Z"
   },
   {
    "duration": 7,
    "start_time": "2022-04-17T08:36:15.518Z"
   },
   {
    "duration": 5,
    "start_time": "2022-04-17T08:36:15.527Z"
   },
   {
    "duration": 10,
    "start_time": "2022-04-17T08:36:15.556Z"
   },
   {
    "duration": 21,
    "start_time": "2022-04-17T08:36:15.572Z"
   },
   {
    "duration": 22,
    "start_time": "2022-04-17T08:36:15.595Z"
   },
   {
    "duration": 5,
    "start_time": "2022-04-17T08:36:15.619Z"
   },
   {
    "duration": 318,
    "start_time": "2022-04-17T08:36:15.627Z"
   },
   {
    "duration": 408,
    "start_time": "2022-04-17T08:36:15.955Z"
   },
   {
    "duration": 1173,
    "start_time": "2022-04-17T08:36:16.367Z"
   },
   {
    "duration": 27,
    "start_time": "2022-04-17T08:36:17.542Z"
   },
   {
    "duration": 214,
    "start_time": "2022-04-17T08:36:17.570Z"
   },
   {
    "duration": 888,
    "start_time": "2022-04-17T08:36:17.786Z"
   },
   {
    "duration": 254,
    "start_time": "2022-04-17T08:36:18.676Z"
   },
   {
    "duration": 5,
    "start_time": "2022-04-17T08:36:18.932Z"
   },
   {
    "duration": 2297,
    "start_time": "2022-04-17T08:36:18.938Z"
   },
   {
    "duration": 339,
    "start_time": "2022-04-17T08:36:21.237Z"
   },
   {
    "duration": 10,
    "start_time": "2022-04-17T08:36:21.578Z"
   },
   {
    "duration": 165,
    "start_time": "2022-04-17T08:36:21.590Z"
   },
   {
    "duration": 17,
    "start_time": "2022-04-17T08:36:21.757Z"
   },
   {
    "duration": 13,
    "start_time": "2022-04-17T08:36:21.776Z"
   },
   {
    "duration": 5,
    "start_time": "2022-04-17T08:36:21.791Z"
   },
   {
    "duration": 10,
    "start_time": "2022-04-17T08:40:39.114Z"
   },
   {
    "duration": 11,
    "start_time": "2022-04-17T08:41:02.060Z"
   },
   {
    "duration": 3,
    "start_time": "2022-04-17T08:50:58.020Z"
   },
   {
    "duration": 46,
    "start_time": "2022-04-17T08:50:58.025Z"
   },
   {
    "duration": 13,
    "start_time": "2022-04-17T08:50:58.073Z"
   },
   {
    "duration": 21,
    "start_time": "2022-04-17T08:50:58.088Z"
   },
   {
    "duration": 9,
    "start_time": "2022-04-17T08:50:58.112Z"
   },
   {
    "duration": 33,
    "start_time": "2022-04-17T08:50:58.123Z"
   },
   {
    "duration": 7,
    "start_time": "2022-04-17T08:50:58.158Z"
   },
   {
    "duration": 13,
    "start_time": "2022-04-17T08:50:58.167Z"
   },
   {
    "duration": 14,
    "start_time": "2022-04-17T08:50:58.182Z"
   },
   {
    "duration": 17,
    "start_time": "2022-04-17T08:50:58.198Z"
   },
   {
    "duration": 17,
    "start_time": "2022-04-17T08:50:58.217Z"
   },
   {
    "duration": 8,
    "start_time": "2022-04-17T08:50:58.236Z"
   },
   {
    "duration": 19,
    "start_time": "2022-04-17T08:50:58.245Z"
   },
   {
    "duration": 17,
    "start_time": "2022-04-17T08:50:58.268Z"
   },
   {
    "duration": 5,
    "start_time": "2022-04-17T08:50:58.287Z"
   },
   {
    "duration": 219,
    "start_time": "2022-04-17T08:50:58.294Z"
   },
   {
    "duration": 304,
    "start_time": "2022-04-17T08:50:58.515Z"
   },
   {
    "duration": 1053,
    "start_time": "2022-04-17T08:50:58.821Z"
   },
   {
    "duration": 16,
    "start_time": "2022-04-17T08:50:59.876Z"
   },
   {
    "duration": 224,
    "start_time": "2022-04-17T08:50:59.894Z"
   },
   {
    "duration": 679,
    "start_time": "2022-04-17T08:51:00.119Z"
   },
   {
    "duration": 251,
    "start_time": "2022-04-17T08:51:00.799Z"
   },
   {
    "duration": 5,
    "start_time": "2022-04-17T08:51:01.054Z"
   },
   {
    "duration": 1628,
    "start_time": "2022-04-17T08:51:01.061Z"
   },
   {
    "duration": 239,
    "start_time": "2022-04-17T08:51:02.691Z"
   },
   {
    "duration": 9,
    "start_time": "2022-04-17T08:51:02.932Z"
   },
   {
    "duration": 121,
    "start_time": "2022-04-17T08:51:02.954Z"
   },
   {
    "duration": 10,
    "start_time": "2022-04-17T08:51:03.077Z"
   },
   {
    "duration": 11,
    "start_time": "2022-04-17T08:51:03.089Z"
   },
   {
    "duration": 7,
    "start_time": "2022-04-17T08:51:03.102Z"
   },
   {
    "duration": 204,
    "start_time": "2022-04-17T09:09:25.001Z"
   },
   {
    "duration": 23,
    "start_time": "2022-04-17T09:09:33.839Z"
   },
   {
    "duration": 18,
    "start_time": "2022-04-17T09:10:21.326Z"
   },
   {
    "duration": 15,
    "start_time": "2022-04-17T09:10:25.282Z"
   },
   {
    "duration": 951,
    "start_time": "2022-04-17T09:11:38.191Z"
   },
   {
    "duration": 898,
    "start_time": "2022-04-17T09:13:25.730Z"
   },
   {
    "duration": 974,
    "start_time": "2022-04-17T09:13:39.324Z"
   },
   {
    "duration": 141,
    "start_time": "2022-04-17T09:14:34.460Z"
   },
   {
    "duration": 142,
    "start_time": "2022-04-17T09:14:59.040Z"
   },
   {
    "duration": 195,
    "start_time": "2022-04-17T09:15:15.527Z"
   },
   {
    "duration": 648,
    "start_time": "2022-04-17T09:15:41.234Z"
   },
   {
    "duration": 225,
    "start_time": "2022-04-17T09:15:54.034Z"
   },
   {
    "duration": 5,
    "start_time": "2022-04-17T09:17:35.963Z"
   },
   {
    "duration": 1460,
    "start_time": "2022-04-17T09:17:43.032Z"
   },
   {
    "duration": 255,
    "start_time": "2022-04-17T09:18:15.126Z"
   },
   {
    "duration": 84,
    "start_time": "2022-04-17T09:19:11.499Z"
   },
   {
    "duration": 98,
    "start_time": "2022-04-17T09:19:45.471Z"
   },
   {
    "duration": 95,
    "start_time": "2022-04-17T09:22:55.127Z"
   },
   {
    "duration": 103,
    "start_time": "2022-04-17T09:23:46.567Z"
   },
   {
    "duration": 74,
    "start_time": "2022-04-17T09:24:11.702Z"
   },
   {
    "duration": 76,
    "start_time": "2022-04-17T09:25:16.476Z"
   },
   {
    "duration": 3,
    "start_time": "2022-04-17T09:33:47.821Z"
   },
   {
    "duration": 48,
    "start_time": "2022-04-17T09:33:47.825Z"
   },
   {
    "duration": 13,
    "start_time": "2022-04-17T09:33:47.875Z"
   },
   {
    "duration": 32,
    "start_time": "2022-04-17T09:33:47.890Z"
   },
   {
    "duration": 15,
    "start_time": "2022-04-17T09:33:47.923Z"
   },
   {
    "duration": 16,
    "start_time": "2022-04-17T09:33:47.939Z"
   },
   {
    "duration": 23,
    "start_time": "2022-04-17T09:33:47.956Z"
   },
   {
    "duration": 20,
    "start_time": "2022-04-17T09:33:47.981Z"
   },
   {
    "duration": 30,
    "start_time": "2022-04-17T09:33:48.003Z"
   },
   {
    "duration": 12,
    "start_time": "2022-04-17T09:33:48.035Z"
   },
   {
    "duration": 11,
    "start_time": "2022-04-17T09:33:48.048Z"
   },
   {
    "duration": 11,
    "start_time": "2022-04-17T09:33:48.060Z"
   },
   {
    "duration": 22,
    "start_time": "2022-04-17T09:33:48.073Z"
   },
   {
    "duration": 22,
    "start_time": "2022-04-17T09:33:48.097Z"
   },
   {
    "duration": 9,
    "start_time": "2022-04-17T09:33:48.120Z"
   },
   {
    "duration": 190,
    "start_time": "2022-04-17T09:33:48.130Z"
   },
   {
    "duration": 286,
    "start_time": "2022-04-17T09:33:48.321Z"
   },
   {
    "duration": 903,
    "start_time": "2022-04-17T09:33:48.609Z"
   },
   {
    "duration": 16,
    "start_time": "2022-04-17T09:33:49.514Z"
   },
   {
    "duration": 308,
    "start_time": "2022-04-17T09:33:49.532Z"
   },
   {
    "duration": 640,
    "start_time": "2022-04-17T09:33:49.842Z"
   },
   {
    "duration": 238,
    "start_time": "2022-04-17T09:33:50.484Z"
   },
   {
    "duration": 5,
    "start_time": "2022-04-17T09:33:50.724Z"
   },
   {
    "duration": 1388,
    "start_time": "2022-04-17T09:33:50.732Z"
   },
   {
    "duration": 335,
    "start_time": "2022-04-17T09:33:52.121Z"
   },
   {
    "duration": 10,
    "start_time": "2022-04-17T09:33:52.458Z"
   },
   {
    "duration": 124,
    "start_time": "2022-04-17T09:33:52.469Z"
   },
   {
    "duration": 102,
    "start_time": "2022-04-17T09:33:52.595Z"
   },
   {
    "duration": 9,
    "start_time": "2022-04-17T09:33:52.699Z"
   },
   {
    "duration": 9,
    "start_time": "2022-04-17T09:33:52.710Z"
   },
   {
    "duration": 6,
    "start_time": "2022-04-17T09:33:52.721Z"
   },
   {
    "duration": 1117,
    "start_time": "2022-04-17T09:34:44.933Z"
   },
   {
    "duration": 37,
    "start_time": "2022-04-17T09:34:46.053Z"
   },
   {
    "duration": 18,
    "start_time": "2022-04-17T09:34:46.092Z"
   },
   {
    "duration": 17,
    "start_time": "2022-04-17T09:34:46.112Z"
   },
   {
    "duration": 8,
    "start_time": "2022-04-17T09:34:46.131Z"
   },
   {
    "duration": 10,
    "start_time": "2022-04-17T09:34:46.155Z"
   },
   {
    "duration": 7,
    "start_time": "2022-04-17T09:34:46.166Z"
   },
   {
    "duration": 9,
    "start_time": "2022-04-17T09:34:46.174Z"
   },
   {
    "duration": 8,
    "start_time": "2022-04-17T09:34:46.184Z"
   },
   {
    "duration": 10,
    "start_time": "2022-04-17T09:34:46.194Z"
   },
   {
    "duration": 6,
    "start_time": "2022-04-17T09:34:46.205Z"
   },
   {
    "duration": 9,
    "start_time": "2022-04-17T09:34:46.213Z"
   },
   {
    "duration": 40,
    "start_time": "2022-04-17T09:34:46.224Z"
   },
   {
    "duration": 15,
    "start_time": "2022-04-17T09:34:46.266Z"
   },
   {
    "duration": 4,
    "start_time": "2022-04-17T09:34:46.283Z"
   },
   {
    "duration": 208,
    "start_time": "2022-04-17T09:34:46.289Z"
   },
   {
    "duration": 288,
    "start_time": "2022-04-17T09:34:46.499Z"
   },
   {
    "duration": 881,
    "start_time": "2022-04-17T09:34:46.788Z"
   },
   {
    "duration": 15,
    "start_time": "2022-04-17T09:34:47.670Z"
   },
   {
    "duration": 197,
    "start_time": "2022-04-17T09:34:47.686Z"
   },
   {
    "duration": 701,
    "start_time": "2022-04-17T09:34:47.884Z"
   },
   {
    "duration": 234,
    "start_time": "2022-04-17T09:34:48.587Z"
   },
   {
    "duration": 4,
    "start_time": "2022-04-17T09:34:48.822Z"
   },
   {
    "duration": 1367,
    "start_time": "2022-04-17T09:34:48.828Z"
   },
   {
    "duration": 217,
    "start_time": "2022-04-17T09:34:50.197Z"
   },
   {
    "duration": 9,
    "start_time": "2022-04-17T09:34:50.415Z"
   },
   {
    "duration": 190,
    "start_time": "2022-04-17T09:34:50.426Z"
   },
   {
    "duration": 98,
    "start_time": "2022-04-17T09:34:50.619Z"
   },
   {
    "duration": 9,
    "start_time": "2022-04-17T09:34:50.718Z"
   },
   {
    "duration": 9,
    "start_time": "2022-04-17T09:34:50.754Z"
   },
   {
    "duration": 7,
    "start_time": "2022-04-17T09:34:50.765Z"
   },
   {
    "duration": 1116,
    "start_time": "2022-04-17T12:37:05.414Z"
   },
   {
    "duration": 37,
    "start_time": "2022-04-17T12:37:06.531Z"
   },
   {
    "duration": 17,
    "start_time": "2022-04-17T12:37:06.569Z"
   },
   {
    "duration": 13,
    "start_time": "2022-04-17T12:37:06.587Z"
   },
   {
    "duration": 9,
    "start_time": "2022-04-17T12:37:06.602Z"
   },
   {
    "duration": 10,
    "start_time": "2022-04-17T12:37:06.612Z"
   },
   {
    "duration": 6,
    "start_time": "2022-04-17T12:37:06.648Z"
   },
   {
    "duration": 8,
    "start_time": "2022-04-17T12:37:06.655Z"
   },
   {
    "duration": 7,
    "start_time": "2022-04-17T12:37:06.665Z"
   },
   {
    "duration": 4,
    "start_time": "2022-04-17T12:37:06.674Z"
   },
   {
    "duration": 5,
    "start_time": "2022-04-17T12:37:06.679Z"
   },
   {
    "duration": 7,
    "start_time": "2022-04-17T12:37:06.685Z"
   },
   {
    "duration": 12,
    "start_time": "2022-04-17T12:37:06.693Z"
   },
   {
    "duration": 52,
    "start_time": "2022-04-17T12:37:06.708Z"
   },
   {
    "duration": 4,
    "start_time": "2022-04-17T12:37:06.762Z"
   },
   {
    "duration": 214,
    "start_time": "2022-04-17T12:37:06.767Z"
   },
   {
    "duration": 288,
    "start_time": "2022-04-17T12:37:06.983Z"
   },
   {
    "duration": 905,
    "start_time": "2022-04-17T12:37:07.273Z"
   },
   {
    "duration": 14,
    "start_time": "2022-04-17T12:37:08.180Z"
   },
   {
    "duration": 198,
    "start_time": "2022-04-17T12:37:08.195Z"
   },
   {
    "duration": 686,
    "start_time": "2022-04-17T12:37:08.394Z"
   },
   {
    "duration": 235,
    "start_time": "2022-04-17T12:37:09.082Z"
   },
   {
    "duration": 4,
    "start_time": "2022-04-17T12:37:09.318Z"
   },
   {
    "duration": 1344,
    "start_time": "2022-04-17T12:37:09.324Z"
   },
   {
    "duration": 216,
    "start_time": "2022-04-17T12:37:10.670Z"
   },
   {
    "duration": 9,
    "start_time": "2022-04-17T12:37:10.887Z"
   },
   {
    "duration": 204,
    "start_time": "2022-04-17T12:37:10.897Z"
   },
   {
    "duration": 100,
    "start_time": "2022-04-17T12:37:11.103Z"
   },
   {
    "duration": 9,
    "start_time": "2022-04-17T12:37:11.204Z"
   },
   {
    "duration": 40,
    "start_time": "2022-04-17T12:37:11.214Z"
   },
   {
    "duration": 5,
    "start_time": "2022-04-17T12:37:11.255Z"
   },
   {
    "duration": 1204,
    "start_time": "2022-04-17T12:48:05.129Z"
   },
   {
    "duration": 45,
    "start_time": "2022-04-17T12:48:06.335Z"
   },
   {
    "duration": 17,
    "start_time": "2022-04-17T12:48:06.382Z"
   },
   {
    "duration": 14,
    "start_time": "2022-04-17T12:48:06.400Z"
   },
   {
    "duration": 8,
    "start_time": "2022-04-17T12:48:06.415Z"
   },
   {
    "duration": 31,
    "start_time": "2022-04-17T12:48:06.425Z"
   },
   {
    "duration": 6,
    "start_time": "2022-04-17T12:48:06.458Z"
   },
   {
    "duration": 9,
    "start_time": "2022-04-17T12:48:06.465Z"
   },
   {
    "duration": 9,
    "start_time": "2022-04-17T12:48:06.475Z"
   },
   {
    "duration": 6,
    "start_time": "2022-04-17T12:48:06.486Z"
   },
   {
    "duration": 6,
    "start_time": "2022-04-17T12:48:06.494Z"
   },
   {
    "duration": 8,
    "start_time": "2022-04-17T12:48:06.501Z"
   },
   {
    "duration": 41,
    "start_time": "2022-04-17T12:48:06.511Z"
   },
   {
    "duration": 15,
    "start_time": "2022-04-17T12:48:06.553Z"
   },
   {
    "duration": 4,
    "start_time": "2022-04-17T12:48:06.569Z"
   },
   {
    "duration": 204,
    "start_time": "2022-04-17T12:48:06.575Z"
   },
   {
    "duration": 295,
    "start_time": "2022-04-17T12:48:06.781Z"
   },
   {
    "duration": 910,
    "start_time": "2022-04-17T12:48:07.078Z"
   },
   {
    "duration": 16,
    "start_time": "2022-04-17T12:48:07.989Z"
   },
   {
    "duration": 201,
    "start_time": "2022-04-17T12:48:08.006Z"
   },
   {
    "duration": 698,
    "start_time": "2022-04-17T12:48:08.209Z"
   },
   {
    "duration": 232,
    "start_time": "2022-04-17T12:48:08.908Z"
   },
   {
    "duration": 6,
    "start_time": "2022-04-17T12:48:09.142Z"
   },
   {
    "duration": 1334,
    "start_time": "2022-04-17T12:48:09.150Z"
   },
   {
    "duration": 221,
    "start_time": "2022-04-17T12:48:10.486Z"
   },
   {
    "duration": 9,
    "start_time": "2022-04-17T12:48:10.708Z"
   },
   {
    "duration": 187,
    "start_time": "2022-04-17T12:48:10.718Z"
   },
   {
    "duration": 98,
    "start_time": "2022-04-17T12:48:10.908Z"
   },
   {
    "duration": 9,
    "start_time": "2022-04-17T12:48:11.008Z"
   },
   {
    "duration": 10,
    "start_time": "2022-04-17T12:48:11.048Z"
   },
   {
    "duration": 3,
    "start_time": "2022-04-17T12:48:11.060Z"
   },
   {
    "duration": 1049,
    "start_time": "2022-04-17T14:36:37.571Z"
   },
   {
    "duration": 36,
    "start_time": "2022-04-17T14:36:38.622Z"
   },
   {
    "duration": 16,
    "start_time": "2022-04-17T14:36:38.659Z"
   },
   {
    "duration": 15,
    "start_time": "2022-04-17T14:36:38.676Z"
   },
   {
    "duration": 9,
    "start_time": "2022-04-17T14:36:38.692Z"
   },
   {
    "duration": 12,
    "start_time": "2022-04-17T14:36:38.702Z"
   },
   {
    "duration": 6,
    "start_time": "2022-04-17T14:36:38.715Z"
   },
   {
    "duration": 7,
    "start_time": "2022-04-17T14:36:38.748Z"
   },
   {
    "duration": 10,
    "start_time": "2022-04-17T14:36:38.756Z"
   },
   {
    "duration": 6,
    "start_time": "2022-04-17T14:36:38.768Z"
   },
   {
    "duration": 11,
    "start_time": "2022-04-17T14:36:38.775Z"
   },
   {
    "duration": 16,
    "start_time": "2022-04-17T14:36:38.787Z"
   },
   {
    "duration": 12,
    "start_time": "2022-04-17T14:36:38.805Z"
   },
   {
    "duration": 14,
    "start_time": "2022-04-17T14:36:38.818Z"
   },
   {
    "duration": 4,
    "start_time": "2022-04-17T14:36:38.848Z"
   },
   {
    "duration": 198,
    "start_time": "2022-04-17T14:36:38.854Z"
   },
   {
    "duration": 293,
    "start_time": "2022-04-17T14:36:39.054Z"
   },
   {
    "duration": 1173,
    "start_time": "2022-04-17T14:36:39.349Z"
   },
   {
    "duration": 31,
    "start_time": "2022-04-17T14:36:40.524Z"
   },
   {
    "duration": 218,
    "start_time": "2022-04-17T14:36:40.557Z"
   },
   {
    "duration": 706,
    "start_time": "2022-04-17T14:36:40.776Z"
   },
   {
    "duration": 234,
    "start_time": "2022-04-17T14:36:41.484Z"
   },
   {
    "duration": 5,
    "start_time": "2022-04-17T14:36:41.719Z"
   },
   {
    "duration": 1339,
    "start_time": "2022-04-17T14:36:41.725Z"
   },
   {
    "duration": 219,
    "start_time": "2022-04-17T14:36:43.065Z"
   },
   {
    "duration": 9,
    "start_time": "2022-04-17T14:36:43.286Z"
   },
   {
    "duration": 207,
    "start_time": "2022-04-17T14:36:43.297Z"
   },
   {
    "duration": 110,
    "start_time": "2022-04-17T14:36:43.508Z"
   },
   {
    "duration": 36,
    "start_time": "2022-04-17T14:36:43.620Z"
   },
   {
    "duration": 10,
    "start_time": "2022-04-17T14:36:43.658Z"
   },
   {
    "duration": 6,
    "start_time": "2022-04-17T14:36:43.669Z"
   }
  ],
  "kernelspec": {
   "display_name": "Python 3 (ipykernel)",
   "language": "python",
   "name": "python3"
  },
  "language_info": {
   "codemirror_mode": {
    "name": "ipython",
    "version": 3
   },
   "file_extension": ".py",
   "mimetype": "text/x-python",
   "name": "python",
   "nbconvert_exporter": "python",
   "pygments_lexer": "ipython3",
   "version": "3.9.7"
  },
  "toc": {
   "base_numbering": 1,
   "nav_menu": {},
   "number_sections": true,
   "sideBar": true,
   "skip_h1_title": true,
   "title_cell": "Содержание",
   "title_sidebar": "Contents",
   "toc_cell": true,
   "toc_position": {},
   "toc_section_display": true,
   "toc_window_display": false
  }
 },
 "nbformat": 4,
 "nbformat_minor": 4
}
