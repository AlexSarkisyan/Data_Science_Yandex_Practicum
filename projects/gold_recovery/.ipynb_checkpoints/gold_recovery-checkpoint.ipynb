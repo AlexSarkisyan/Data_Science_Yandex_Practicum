{
 "cells": [
  {
   "cell_type": "markdown",
   "metadata": {
    "toc": true
   },
   "source": [
    "<h1>Содержание<span class=\"tocSkip\"></span></h1>\n",
    "<div class=\"toc\"><ul class=\"toc-item\"><li><span><a href=\"#Подготовка-данных\" data-toc-modified-id=\"Подготовка-данных-1\"><span class=\"toc-item-num\">1&nbsp;&nbsp;</span>Подготовка данных</a></span></li><li><span><a href=\"#Анализ-данных\" data-toc-modified-id=\"Анализ-данных-2\"><span class=\"toc-item-num\">2&nbsp;&nbsp;</span>Анализ данных</a></span></li><li><span><a href=\"#Модель\" data-toc-modified-id=\"Модель-3\"><span class=\"toc-item-num\">3&nbsp;&nbsp;</span>Модель</a></span></li><li><span><a href=\"#Чек-лист-готовности-проекта\" data-toc-modified-id=\"Чек-лист-готовности-проекта-4\"><span class=\"toc-item-num\">4&nbsp;&nbsp;</span>Чек-лист готовности проекта</a></span></li></ul></div>"
   ]
  },
  {
   "cell_type": "markdown",
   "metadata": {},
   "source": [
    "# Восстановление золота из руды"
   ]
  },
  {
   "cell_type": "markdown",
   "metadata": {},
   "source": [
    "Подготовьте прототип модели машинного обучения для «Цифры». Компания разрабатывает решения для эффективной работы промышленных предприятий.\n",
    "\n",
    "Модель должна предсказать коэффициент восстановления золота из золотосодержащей руды. Используйте данные с параметрами добычи и очистки. \n",
    "\n",
    "Модель поможет оптимизировать производство, чтобы не запускать предприятие с убыточными характеристиками.\n",
    "\n",
    "Вам нужно:\n",
    "\n",
    "1. Подготовить данные;\n",
    "2. Провести исследовательский анализ данных;\n",
    "3. Построить и обучить модель.\n",
    "\n",
    "Чтобы выполнить проект, обращайтесь к библиотекам *pandas*, *matplotlib* и *sklearn.* Вам поможет их документация."
   ]
  },
  {
   "cell_type": "markdown",
   "metadata": {},
   "source": [
    "## Подготовка данных"
   ]
  },
  {
   "cell_type": "code",
   "execution_count": 3,
   "metadata": {},
   "outputs": [],
   "source": [
    "import pandas as pd\n",
    "import os\n",
    "import numpy as np\n",
    "\n",
    "from sklearn.metrics import mean_absolute_error, make_scorer\n",
    "from sklearn.preprocessing import StandardScaler\n",
    "from sklearn.model_selection import cross_val_score, GridSearchCV\n",
    "from sklearn.linear_model import LinearRegression\n",
    "from sklearn.ensemble import RandomForestRegressor\n",
    "from sklearn.dummy import DummyRegressor\n",
    "from scipy import stats as st\n",
    "\n",
    "from hyperopt import tpe,hp,Trials\n",
    "from hyperopt.fmin import fmin\n",
    "import xgboost as xgb"
   ]
  },
  {
   "cell_type": "code",
   "execution_count": 2,
   "metadata": {},
   "outputs": [
    {
     "name": "stdout",
     "output_type": "stream",
     "text": [
      "Collecting hyperopt\n",
      "  Downloading hyperopt-0.2.7-py2.py3-none-any.whl (1.6 MB)\n",
      "     |████████████████████████████████| 1.6 MB 1.4 MB/s            \n",
      "\u001b[?25hCollecting networkx>=2.2\n",
      "  Downloading networkx-2.8.2-py3-none-any.whl (2.0 MB)\n",
      "     |████████████████████████████████| 2.0 MB 52.9 MB/s            \n",
      "\u001b[?25hRequirement already satisfied: tqdm in /opt/conda/lib/python3.9/site-packages (from hyperopt) (4.62.3)\n",
      "Requirement already satisfied: py4j in /opt/conda/lib/python3.9/site-packages (from hyperopt) (0.10.9.3)\n",
      "Requirement already satisfied: numpy in /opt/conda/lib/python3.9/site-packages (from hyperopt) (1.22.3)\n",
      "Collecting future\n",
      "  Downloading future-0.18.2.tar.gz (829 kB)\n",
      "     |████████████████████████████████| 829 kB 66.5 MB/s            \n",
      "\u001b[?25h  Preparing metadata (setup.py) ... \u001b[?25ldone\n",
      "\u001b[?25hRequirement already satisfied: scipy in /opt/conda/lib/python3.9/site-packages (from hyperopt) (1.8.0)\n",
      "Requirement already satisfied: six in /opt/conda/lib/python3.9/site-packages (from hyperopt) (1.16.0)\n",
      "Collecting cloudpickle\n",
      "  Downloading cloudpickle-2.1.0-py3-none-any.whl (25 kB)\n",
      "Building wheels for collected packages: future\n",
      "  Building wheel for future (setup.py) ... \u001b[?25ldone\n",
      "\u001b[?25h  Created wheel for future: filename=future-0.18.2-py3-none-any.whl size=491070 sha256=f0f924974a47e4f60634e829cd3b4f91d3d734771068a8fb430fa20e9bec02f5\n",
      "  Stored in directory: /home/jovyan/.cache/pip/wheels/2f/a0/d3/4030d9f80e6b3be787f19fc911b8e7aa462986a40ab1e4bb94\n",
      "Successfully built future\n",
      "Installing collected packages: networkx, future, cloudpickle, hyperopt\n",
      "Successfully installed cloudpickle-2.1.0 future-0.18.2 hyperopt-0.2.7 networkx-2.8.2\n"
     ]
    }
   ],
   "source": [
    "!pip install hyperopt"
   ]
  },
  {
   "cell_type": "code",
   "execution_count": 4,
   "metadata": {},
   "outputs": [],
   "source": [
    "pth1 = '/datasets/gold_recovery_full_new.csv'\n",
    "pth2 = '/Users/Alex/Desktop/practicum_ds/projects/ml/prefab_project_2/gold_recovery_full_new.csv'\n",
    "\n",
    "if os.path.exists(pth1):\n",
    "    gold_recovery_full = pd.read_csv(pth1)\n",
    "elif os.path.exists(pth2):\n",
    "    gold_recovery_full = pd.read_csv(pth2)\n",
    "else:\n",
    "    print('Something is wrong')"
   ]
  },
  {
   "cell_type": "code",
   "execution_count": 5,
   "metadata": {},
   "outputs": [],
   "source": [
    "pth1 = '/datasets/gold_recovery_test_new.csv'\n",
    "pth2 = '/Users/Alex/Desktop/practicum_ds/projects/ml/prefab_project_2/gold_recovery_test_new.csv'\n",
    "\n",
    "if os.path.exists(pth1):\n",
    "    gold_recovery_test = pd.read_csv(pth1)\n",
    "elif os.path.exists(pth2):\n",
    "    gold_recovery_test = pd.read_csv(pth2)\n",
    "else:\n",
    "    print('Something is wrong')"
   ]
  },
  {
   "cell_type": "code",
   "execution_count": 6,
   "metadata": {},
   "outputs": [],
   "source": [
    "pth1 = '/datasets/gold_recovery_train_new.csv'\n",
    "pth2 = '/Users/Alex/Desktop/practicum_ds/projects/ml/prefab_project_2/gold_recovery_train_new.csv'\n",
    "\n",
    "if os.path.exists(pth1):\n",
    "    gold_recovery_train = pd.read_csv(pth1)\n",
    "elif os.path.exists(pth2):\n",
    "    gold_recovery_train = pd.read_csv(pth2)\n",
    "else:\n",
    "    print('Something is wrong')"
   ]
  },
  {
   "cell_type": "markdown",
   "metadata": {},
   "source": [
    "**Информация о выборках:**"
   ]
  },
  {
   "cell_type": "code",
   "execution_count": 7,
   "metadata": {},
   "outputs": [],
   "source": [
    "def about_df(df):\n",
    "    display(df.head())\n",
    "    display(df.info())\n",
    "    display(df.describe())\n",
    "    print('Дубликаты =', df.duplicated().sum())\n",
    "    print('Пропуски =', df.isna().sum().sum())"
   ]
  },
  {
   "cell_type": "code",
   "execution_count": 8,
   "metadata": {
    "scrolled": false
   },
   "outputs": [
    {
     "data": {
      "text/html": [
       "<div>\n",
       "<style scoped>\n",
       "    .dataframe tbody tr th:only-of-type {\n",
       "        vertical-align: middle;\n",
       "    }\n",
       "\n",
       "    .dataframe tbody tr th {\n",
       "        vertical-align: top;\n",
       "    }\n",
       "\n",
       "    .dataframe thead th {\n",
       "        text-align: right;\n",
       "    }\n",
       "</style>\n",
       "<table border=\"1\" class=\"dataframe\">\n",
       "  <thead>\n",
       "    <tr style=\"text-align: right;\">\n",
       "      <th></th>\n",
       "      <th>date</th>\n",
       "      <th>final.output.concentrate_ag</th>\n",
       "      <th>final.output.concentrate_pb</th>\n",
       "      <th>final.output.concentrate_sol</th>\n",
       "      <th>final.output.concentrate_au</th>\n",
       "      <th>final.output.recovery</th>\n",
       "      <th>final.output.tail_ag</th>\n",
       "      <th>final.output.tail_pb</th>\n",
       "      <th>final.output.tail_sol</th>\n",
       "      <th>final.output.tail_au</th>\n",
       "      <th>...</th>\n",
       "      <th>secondary_cleaner.state.floatbank4_a_air</th>\n",
       "      <th>secondary_cleaner.state.floatbank4_a_level</th>\n",
       "      <th>secondary_cleaner.state.floatbank4_b_air</th>\n",
       "      <th>secondary_cleaner.state.floatbank4_b_level</th>\n",
       "      <th>secondary_cleaner.state.floatbank5_a_air</th>\n",
       "      <th>secondary_cleaner.state.floatbank5_a_level</th>\n",
       "      <th>secondary_cleaner.state.floatbank5_b_air</th>\n",
       "      <th>secondary_cleaner.state.floatbank5_b_level</th>\n",
       "      <th>secondary_cleaner.state.floatbank6_a_air</th>\n",
       "      <th>secondary_cleaner.state.floatbank6_a_level</th>\n",
       "    </tr>\n",
       "  </thead>\n",
       "  <tbody>\n",
       "    <tr>\n",
       "      <th>0</th>\n",
       "      <td>2016-01-15 00:00:00</td>\n",
       "      <td>6.055403</td>\n",
       "      <td>9.889648</td>\n",
       "      <td>5.507324</td>\n",
       "      <td>42.192020</td>\n",
       "      <td>70.541216</td>\n",
       "      <td>10.411962</td>\n",
       "      <td>0.895447</td>\n",
       "      <td>16.904297</td>\n",
       "      <td>2.143149</td>\n",
       "      <td>...</td>\n",
       "      <td>14.016835</td>\n",
       "      <td>-502.488007</td>\n",
       "      <td>12.099931</td>\n",
       "      <td>-504.715942</td>\n",
       "      <td>9.925633</td>\n",
       "      <td>-498.310211</td>\n",
       "      <td>8.079666</td>\n",
       "      <td>-500.470978</td>\n",
       "      <td>14.151341</td>\n",
       "      <td>-605.841980</td>\n",
       "    </tr>\n",
       "    <tr>\n",
       "      <th>1</th>\n",
       "      <td>2016-01-15 01:00:00</td>\n",
       "      <td>6.029369</td>\n",
       "      <td>9.968944</td>\n",
       "      <td>5.257781</td>\n",
       "      <td>42.701629</td>\n",
       "      <td>69.266198</td>\n",
       "      <td>10.462676</td>\n",
       "      <td>0.927452</td>\n",
       "      <td>16.634514</td>\n",
       "      <td>2.224930</td>\n",
       "      <td>...</td>\n",
       "      <td>13.992281</td>\n",
       "      <td>-505.503262</td>\n",
       "      <td>11.950531</td>\n",
       "      <td>-501.331529</td>\n",
       "      <td>10.039245</td>\n",
       "      <td>-500.169983</td>\n",
       "      <td>7.984757</td>\n",
       "      <td>-500.582168</td>\n",
       "      <td>13.998353</td>\n",
       "      <td>-599.787184</td>\n",
       "    </tr>\n",
       "    <tr>\n",
       "      <th>2</th>\n",
       "      <td>2016-01-15 02:00:00</td>\n",
       "      <td>6.055926</td>\n",
       "      <td>10.213995</td>\n",
       "      <td>5.383759</td>\n",
       "      <td>42.657501</td>\n",
       "      <td>68.116445</td>\n",
       "      <td>10.507046</td>\n",
       "      <td>0.953716</td>\n",
       "      <td>16.208849</td>\n",
       "      <td>2.257889</td>\n",
       "      <td>...</td>\n",
       "      <td>14.015015</td>\n",
       "      <td>-502.520901</td>\n",
       "      <td>11.912783</td>\n",
       "      <td>-501.133383</td>\n",
       "      <td>10.070913</td>\n",
       "      <td>-500.129135</td>\n",
       "      <td>8.013877</td>\n",
       "      <td>-500.517572</td>\n",
       "      <td>14.028663</td>\n",
       "      <td>-601.427363</td>\n",
       "    </tr>\n",
       "    <tr>\n",
       "      <th>3</th>\n",
       "      <td>2016-01-15 03:00:00</td>\n",
       "      <td>6.047977</td>\n",
       "      <td>9.977019</td>\n",
       "      <td>4.858634</td>\n",
       "      <td>42.689819</td>\n",
       "      <td>68.347543</td>\n",
       "      <td>10.422762</td>\n",
       "      <td>0.883763</td>\n",
       "      <td>16.532835</td>\n",
       "      <td>2.146849</td>\n",
       "      <td>...</td>\n",
       "      <td>14.036510</td>\n",
       "      <td>-500.857308</td>\n",
       "      <td>11.999550</td>\n",
       "      <td>-501.193686</td>\n",
       "      <td>9.970366</td>\n",
       "      <td>-499.201640</td>\n",
       "      <td>7.977324</td>\n",
       "      <td>-500.255908</td>\n",
       "      <td>14.005551</td>\n",
       "      <td>-599.996129</td>\n",
       "    </tr>\n",
       "    <tr>\n",
       "      <th>4</th>\n",
       "      <td>2016-01-15 04:00:00</td>\n",
       "      <td>6.148599</td>\n",
       "      <td>10.142511</td>\n",
       "      <td>4.939416</td>\n",
       "      <td>42.774141</td>\n",
       "      <td>66.927016</td>\n",
       "      <td>10.360302</td>\n",
       "      <td>0.792826</td>\n",
       "      <td>16.525686</td>\n",
       "      <td>2.055292</td>\n",
       "      <td>...</td>\n",
       "      <td>14.027298</td>\n",
       "      <td>-499.838632</td>\n",
       "      <td>11.953070</td>\n",
       "      <td>-501.053894</td>\n",
       "      <td>9.925709</td>\n",
       "      <td>-501.686727</td>\n",
       "      <td>7.894242</td>\n",
       "      <td>-500.356035</td>\n",
       "      <td>13.996647</td>\n",
       "      <td>-601.496691</td>\n",
       "    </tr>\n",
       "  </tbody>\n",
       "</table>\n",
       "<p>5 rows × 87 columns</p>\n",
       "</div>"
      ],
      "text/plain": [
       "                  date  final.output.concentrate_ag  \\\n",
       "0  2016-01-15 00:00:00                     6.055403   \n",
       "1  2016-01-15 01:00:00                     6.029369   \n",
       "2  2016-01-15 02:00:00                     6.055926   \n",
       "3  2016-01-15 03:00:00                     6.047977   \n",
       "4  2016-01-15 04:00:00                     6.148599   \n",
       "\n",
       "   final.output.concentrate_pb  final.output.concentrate_sol  \\\n",
       "0                     9.889648                      5.507324   \n",
       "1                     9.968944                      5.257781   \n",
       "2                    10.213995                      5.383759   \n",
       "3                     9.977019                      4.858634   \n",
       "4                    10.142511                      4.939416   \n",
       "\n",
       "   final.output.concentrate_au  final.output.recovery  final.output.tail_ag  \\\n",
       "0                    42.192020              70.541216             10.411962   \n",
       "1                    42.701629              69.266198             10.462676   \n",
       "2                    42.657501              68.116445             10.507046   \n",
       "3                    42.689819              68.347543             10.422762   \n",
       "4                    42.774141              66.927016             10.360302   \n",
       "\n",
       "   final.output.tail_pb  final.output.tail_sol  final.output.tail_au  ...  \\\n",
       "0              0.895447              16.904297              2.143149  ...   \n",
       "1              0.927452              16.634514              2.224930  ...   \n",
       "2              0.953716              16.208849              2.257889  ...   \n",
       "3              0.883763              16.532835              2.146849  ...   \n",
       "4              0.792826              16.525686              2.055292  ...   \n",
       "\n",
       "   secondary_cleaner.state.floatbank4_a_air  \\\n",
       "0                                 14.016835   \n",
       "1                                 13.992281   \n",
       "2                                 14.015015   \n",
       "3                                 14.036510   \n",
       "4                                 14.027298   \n",
       "\n",
       "   secondary_cleaner.state.floatbank4_a_level  \\\n",
       "0                                 -502.488007   \n",
       "1                                 -505.503262   \n",
       "2                                 -502.520901   \n",
       "3                                 -500.857308   \n",
       "4                                 -499.838632   \n",
       "\n",
       "   secondary_cleaner.state.floatbank4_b_air  \\\n",
       "0                                 12.099931   \n",
       "1                                 11.950531   \n",
       "2                                 11.912783   \n",
       "3                                 11.999550   \n",
       "4                                 11.953070   \n",
       "\n",
       "   secondary_cleaner.state.floatbank4_b_level  \\\n",
       "0                                 -504.715942   \n",
       "1                                 -501.331529   \n",
       "2                                 -501.133383   \n",
       "3                                 -501.193686   \n",
       "4                                 -501.053894   \n",
       "\n",
       "   secondary_cleaner.state.floatbank5_a_air  \\\n",
       "0                                  9.925633   \n",
       "1                                 10.039245   \n",
       "2                                 10.070913   \n",
       "3                                  9.970366   \n",
       "4                                  9.925709   \n",
       "\n",
       "   secondary_cleaner.state.floatbank5_a_level  \\\n",
       "0                                 -498.310211   \n",
       "1                                 -500.169983   \n",
       "2                                 -500.129135   \n",
       "3                                 -499.201640   \n",
       "4                                 -501.686727   \n",
       "\n",
       "   secondary_cleaner.state.floatbank5_b_air  \\\n",
       "0                                  8.079666   \n",
       "1                                  7.984757   \n",
       "2                                  8.013877   \n",
       "3                                  7.977324   \n",
       "4                                  7.894242   \n",
       "\n",
       "   secondary_cleaner.state.floatbank5_b_level  \\\n",
       "0                                 -500.470978   \n",
       "1                                 -500.582168   \n",
       "2                                 -500.517572   \n",
       "3                                 -500.255908   \n",
       "4                                 -500.356035   \n",
       "\n",
       "   secondary_cleaner.state.floatbank6_a_air  \\\n",
       "0                                 14.151341   \n",
       "1                                 13.998353   \n",
       "2                                 14.028663   \n",
       "3                                 14.005551   \n",
       "4                                 13.996647   \n",
       "\n",
       "   secondary_cleaner.state.floatbank6_a_level  \n",
       "0                                 -605.841980  \n",
       "1                                 -599.787184  \n",
       "2                                 -601.427363  \n",
       "3                                 -599.996129  \n",
       "4                                 -601.496691  \n",
       "\n",
       "[5 rows x 87 columns]"
      ]
     },
     "metadata": {},
     "output_type": "display_data"
    },
    {
     "name": "stdout",
     "output_type": "stream",
     "text": [
      "<class 'pandas.core.frame.DataFrame'>\n",
      "RangeIndex: 19439 entries, 0 to 19438\n",
      "Data columns (total 87 columns):\n",
      " #   Column                                              Non-Null Count  Dtype  \n",
      "---  ------                                              --------------  -----  \n",
      " 0   date                                                19439 non-null  object \n",
      " 1   final.output.concentrate_ag                         19438 non-null  float64\n",
      " 2   final.output.concentrate_pb                         19438 non-null  float64\n",
      " 3   final.output.concentrate_sol                        19228 non-null  float64\n",
      " 4   final.output.concentrate_au                         19439 non-null  float64\n",
      " 5   final.output.recovery                               19439 non-null  float64\n",
      " 6   final.output.tail_ag                                19438 non-null  float64\n",
      " 7   final.output.tail_pb                                19338 non-null  float64\n",
      " 8   final.output.tail_sol                               19433 non-null  float64\n",
      " 9   final.output.tail_au                                19439 non-null  float64\n",
      " 10  primary_cleaner.input.sulfate                       19415 non-null  float64\n",
      " 11  primary_cleaner.input.depressant                    19402 non-null  float64\n",
      " 12  primary_cleaner.input.feed_size                     19439 non-null  float64\n",
      " 13  primary_cleaner.input.xanthate                      19335 non-null  float64\n",
      " 14  primary_cleaner.output.concentrate_ag               19439 non-null  float64\n",
      " 15  primary_cleaner.output.concentrate_pb               19323 non-null  float64\n",
      " 16  primary_cleaner.output.concentrate_sol              19069 non-null  float64\n",
      " 17  primary_cleaner.output.concentrate_au               19439 non-null  float64\n",
      " 18  primary_cleaner.output.tail_ag                      19435 non-null  float64\n",
      " 19  primary_cleaner.output.tail_pb                      19418 non-null  float64\n",
      " 20  primary_cleaner.output.tail_sol                     19377 non-null  float64\n",
      " 21  primary_cleaner.output.tail_au                      19439 non-null  float64\n",
      " 22  primary_cleaner.state.floatbank8_a_air              19435 non-null  float64\n",
      " 23  primary_cleaner.state.floatbank8_a_level            19438 non-null  float64\n",
      " 24  primary_cleaner.state.floatbank8_b_air              19435 non-null  float64\n",
      " 25  primary_cleaner.state.floatbank8_b_level            19438 non-null  float64\n",
      " 26  primary_cleaner.state.floatbank8_c_air              19437 non-null  float64\n",
      " 27  primary_cleaner.state.floatbank8_c_level            19438 non-null  float64\n",
      " 28  primary_cleaner.state.floatbank8_d_air              19436 non-null  float64\n",
      " 29  primary_cleaner.state.floatbank8_d_level            19438 non-null  float64\n",
      " 30  rougher.calculation.sulfate_to_au_concentrate       19437 non-null  float64\n",
      " 31  rougher.calculation.floatbank10_sulfate_to_au_feed  19437 non-null  float64\n",
      " 32  rougher.calculation.floatbank11_sulfate_to_au_feed  19437 non-null  float64\n",
      " 33  rougher.calculation.au_pb_ratio                     19439 non-null  float64\n",
      " 34  rougher.input.feed_ag                               19439 non-null  float64\n",
      " 35  rougher.input.feed_pb                               19339 non-null  float64\n",
      " 36  rougher.input.feed_rate                             19428 non-null  float64\n",
      " 37  rougher.input.feed_size                             19294 non-null  float64\n",
      " 38  rougher.input.feed_sol                              19340 non-null  float64\n",
      " 39  rougher.input.feed_au                               19439 non-null  float64\n",
      " 40  rougher.input.floatbank10_sulfate                   19405 non-null  float64\n",
      " 41  rougher.input.floatbank10_xanthate                  19431 non-null  float64\n",
      " 42  rougher.input.floatbank11_sulfate                   19395 non-null  float64\n",
      " 43  rougher.input.floatbank11_xanthate                  18986 non-null  float64\n",
      " 44  rougher.output.concentrate_ag                       19439 non-null  float64\n",
      " 45  rougher.output.concentrate_pb                       19439 non-null  float64\n",
      " 46  rougher.output.concentrate_sol                      19416 non-null  float64\n",
      " 47  rougher.output.concentrate_au                       19439 non-null  float64\n",
      " 48  rougher.output.recovery                             19439 non-null  float64\n",
      " 49  rougher.output.tail_ag                              19438 non-null  float64\n",
      " 50  rougher.output.tail_pb                              19439 non-null  float64\n",
      " 51  rougher.output.tail_sol                             19439 non-null  float64\n",
      " 52  rougher.output.tail_au                              19439 non-null  float64\n",
      " 53  rougher.state.floatbank10_a_air                     19438 non-null  float64\n",
      " 54  rougher.state.floatbank10_a_level                   19438 non-null  float64\n",
      " 55  rougher.state.floatbank10_b_air                     19438 non-null  float64\n",
      " 56  rougher.state.floatbank10_b_level                   19438 non-null  float64\n",
      " 57  rougher.state.floatbank10_c_air                     19438 non-null  float64\n",
      " 58  rougher.state.floatbank10_c_level                   19438 non-null  float64\n",
      " 59  rougher.state.floatbank10_d_air                     19439 non-null  float64\n",
      " 60  rougher.state.floatbank10_d_level                   19439 non-null  float64\n",
      " 61  rougher.state.floatbank10_e_air                     19003 non-null  float64\n",
      " 62  rougher.state.floatbank10_e_level                   19439 non-null  float64\n",
      " 63  rougher.state.floatbank10_f_air                     19439 non-null  float64\n",
      " 64  rougher.state.floatbank10_f_level                   19439 non-null  float64\n",
      " 65  secondary_cleaner.output.tail_ag                    19437 non-null  float64\n",
      " 66  secondary_cleaner.output.tail_pb                    19427 non-null  float64\n",
      " 67  secondary_cleaner.output.tail_sol                   17691 non-null  float64\n",
      " 68  secondary_cleaner.output.tail_au                    19439 non-null  float64\n",
      " 69  secondary_cleaner.state.floatbank2_a_air            19219 non-null  float64\n",
      " 70  secondary_cleaner.state.floatbank2_a_level          19438 non-null  float64\n",
      " 71  secondary_cleaner.state.floatbank2_b_air            19416 non-null  float64\n",
      " 72  secondary_cleaner.state.floatbank2_b_level          19438 non-null  float64\n",
      " 73  secondary_cleaner.state.floatbank3_a_air            19426 non-null  float64\n",
      " 74  secondary_cleaner.state.floatbank3_a_level          19438 non-null  float64\n",
      " 75  secondary_cleaner.state.floatbank3_b_air            19438 non-null  float64\n",
      " 76  secondary_cleaner.state.floatbank3_b_level          19438 non-null  float64\n",
      " 77  secondary_cleaner.state.floatbank4_a_air            19433 non-null  float64\n",
      " 78  secondary_cleaner.state.floatbank4_a_level          19438 non-null  float64\n",
      " 79  secondary_cleaner.state.floatbank4_b_air            19438 non-null  float64\n",
      " 80  secondary_cleaner.state.floatbank4_b_level          19438 non-null  float64\n",
      " 81  secondary_cleaner.state.floatbank5_a_air            19438 non-null  float64\n",
      " 82  secondary_cleaner.state.floatbank5_a_level          19438 non-null  float64\n",
      " 83  secondary_cleaner.state.floatbank5_b_air            19438 non-null  float64\n",
      " 84  secondary_cleaner.state.floatbank5_b_level          19438 non-null  float64\n",
      " 85  secondary_cleaner.state.floatbank6_a_air            19437 non-null  float64\n",
      " 86  secondary_cleaner.state.floatbank6_a_level          19438 non-null  float64\n",
      "dtypes: float64(86), object(1)\n",
      "memory usage: 12.9+ MB\n"
     ]
    },
    {
     "data": {
      "text/plain": [
       "None"
      ]
     },
     "metadata": {},
     "output_type": "display_data"
    },
    {
     "data": {
      "text/html": [
       "<div>\n",
       "<style scoped>\n",
       "    .dataframe tbody tr th:only-of-type {\n",
       "        vertical-align: middle;\n",
       "    }\n",
       "\n",
       "    .dataframe tbody tr th {\n",
       "        vertical-align: top;\n",
       "    }\n",
       "\n",
       "    .dataframe thead th {\n",
       "        text-align: right;\n",
       "    }\n",
       "</style>\n",
       "<table border=\"1\" class=\"dataframe\">\n",
       "  <thead>\n",
       "    <tr style=\"text-align: right;\">\n",
       "      <th></th>\n",
       "      <th>final.output.concentrate_ag</th>\n",
       "      <th>final.output.concentrate_pb</th>\n",
       "      <th>final.output.concentrate_sol</th>\n",
       "      <th>final.output.concentrate_au</th>\n",
       "      <th>final.output.recovery</th>\n",
       "      <th>final.output.tail_ag</th>\n",
       "      <th>final.output.tail_pb</th>\n",
       "      <th>final.output.tail_sol</th>\n",
       "      <th>final.output.tail_au</th>\n",
       "      <th>primary_cleaner.input.sulfate</th>\n",
       "      <th>...</th>\n",
       "      <th>secondary_cleaner.state.floatbank4_a_air</th>\n",
       "      <th>secondary_cleaner.state.floatbank4_a_level</th>\n",
       "      <th>secondary_cleaner.state.floatbank4_b_air</th>\n",
       "      <th>secondary_cleaner.state.floatbank4_b_level</th>\n",
       "      <th>secondary_cleaner.state.floatbank5_a_air</th>\n",
       "      <th>secondary_cleaner.state.floatbank5_a_level</th>\n",
       "      <th>secondary_cleaner.state.floatbank5_b_air</th>\n",
       "      <th>secondary_cleaner.state.floatbank5_b_level</th>\n",
       "      <th>secondary_cleaner.state.floatbank6_a_air</th>\n",
       "      <th>secondary_cleaner.state.floatbank6_a_level</th>\n",
       "    </tr>\n",
       "  </thead>\n",
       "  <tbody>\n",
       "    <tr>\n",
       "      <th>count</th>\n",
       "      <td>19438.000000</td>\n",
       "      <td>19438.000000</td>\n",
       "      <td>19228.000000</td>\n",
       "      <td>19439.000000</td>\n",
       "      <td>19439.000000</td>\n",
       "      <td>19438.000000</td>\n",
       "      <td>19338.000000</td>\n",
       "      <td>19433.000000</td>\n",
       "      <td>19439.000000</td>\n",
       "      <td>19415.000000</td>\n",
       "      <td>...</td>\n",
       "      <td>19433.000000</td>\n",
       "      <td>19438.000000</td>\n",
       "      <td>19438.000000</td>\n",
       "      <td>19438.000000</td>\n",
       "      <td>19438.000000</td>\n",
       "      <td>19438.000000</td>\n",
       "      <td>19438.000000</td>\n",
       "      <td>19438.000000</td>\n",
       "      <td>19437.000000</td>\n",
       "      <td>19438.000000</td>\n",
       "    </tr>\n",
       "    <tr>\n",
       "      <th>mean</th>\n",
       "      <td>5.168470</td>\n",
       "      <td>9.978895</td>\n",
       "      <td>9.501224</td>\n",
       "      <td>44.076513</td>\n",
       "      <td>67.050208</td>\n",
       "      <td>9.688589</td>\n",
       "      <td>2.705795</td>\n",
       "      <td>10.583728</td>\n",
       "      <td>3.042467</td>\n",
       "      <td>144.624774</td>\n",
       "      <td>...</td>\n",
       "      <td>18.987674</td>\n",
       "      <td>-485.894516</td>\n",
       "      <td>15.010366</td>\n",
       "      <td>-461.078636</td>\n",
       "      <td>15.694452</td>\n",
       "      <td>-488.684065</td>\n",
       "      <td>12.198224</td>\n",
       "      <td>-487.149827</td>\n",
       "      <td>18.959024</td>\n",
       "      <td>-505.436305</td>\n",
       "    </tr>\n",
       "    <tr>\n",
       "      <th>std</th>\n",
       "      <td>1.372348</td>\n",
       "      <td>1.669240</td>\n",
       "      <td>2.787537</td>\n",
       "      <td>5.129784</td>\n",
       "      <td>10.125840</td>\n",
       "      <td>2.328642</td>\n",
       "      <td>0.949077</td>\n",
       "      <td>2.868782</td>\n",
       "      <td>0.922808</td>\n",
       "      <td>44.464071</td>\n",
       "      <td>...</td>\n",
       "      <td>5.411058</td>\n",
       "      <td>47.758570</td>\n",
       "      <td>4.890228</td>\n",
       "      <td>67.405524</td>\n",
       "      <td>5.510974</td>\n",
       "      <td>34.533396</td>\n",
       "      <td>5.333024</td>\n",
       "      <td>38.347312</td>\n",
       "      <td>5.550498</td>\n",
       "      <td>37.689057</td>\n",
       "    </tr>\n",
       "    <tr>\n",
       "      <th>min</th>\n",
       "      <td>0.000000</td>\n",
       "      <td>0.000000</td>\n",
       "      <td>0.000000</td>\n",
       "      <td>0.000000</td>\n",
       "      <td>0.000000</td>\n",
       "      <td>0.000000</td>\n",
       "      <td>0.000000</td>\n",
       "      <td>0.000000</td>\n",
       "      <td>0.000000</td>\n",
       "      <td>0.003112</td>\n",
       "      <td>...</td>\n",
       "      <td>0.000000</td>\n",
       "      <td>-799.798523</td>\n",
       "      <td>0.000000</td>\n",
       "      <td>-800.836914</td>\n",
       "      <td>-0.372054</td>\n",
       "      <td>-797.323986</td>\n",
       "      <td>0.528083</td>\n",
       "      <td>-800.220337</td>\n",
       "      <td>-0.079426</td>\n",
       "      <td>-809.741464</td>\n",
       "    </tr>\n",
       "    <tr>\n",
       "      <th>25%</th>\n",
       "      <td>4.251240</td>\n",
       "      <td>9.137262</td>\n",
       "      <td>7.722820</td>\n",
       "      <td>43.402215</td>\n",
       "      <td>63.299712</td>\n",
       "      <td>8.062878</td>\n",
       "      <td>2.040119</td>\n",
       "      <td>8.938947</td>\n",
       "      <td>2.461138</td>\n",
       "      <td>114.107029</td>\n",
       "      <td>...</td>\n",
       "      <td>14.975734</td>\n",
       "      <td>-500.704892</td>\n",
       "      <td>11.940294</td>\n",
       "      <td>-500.187742</td>\n",
       "      <td>10.988606</td>\n",
       "      <td>-500.458467</td>\n",
       "      <td>8.971105</td>\n",
       "      <td>-500.129462</td>\n",
       "      <td>14.983037</td>\n",
       "      <td>-500.728067</td>\n",
       "    </tr>\n",
       "    <tr>\n",
       "      <th>50%</th>\n",
       "      <td>5.066094</td>\n",
       "      <td>10.102433</td>\n",
       "      <td>9.218961</td>\n",
       "      <td>45.011244</td>\n",
       "      <td>68.172738</td>\n",
       "      <td>9.743623</td>\n",
       "      <td>2.748730</td>\n",
       "      <td>10.622456</td>\n",
       "      <td>2.984909</td>\n",
       "      <td>143.232103</td>\n",
       "      <td>...</td>\n",
       "      <td>18.017481</td>\n",
       "      <td>-499.837793</td>\n",
       "      <td>14.971014</td>\n",
       "      <td>-499.459786</td>\n",
       "      <td>15.000036</td>\n",
       "      <td>-499.802605</td>\n",
       "      <td>11.019433</td>\n",
       "      <td>-499.935317</td>\n",
       "      <td>19.960541</td>\n",
       "      <td>-500.048400</td>\n",
       "    </tr>\n",
       "    <tr>\n",
       "      <th>75%</th>\n",
       "      <td>5.895527</td>\n",
       "      <td>11.035769</td>\n",
       "      <td>10.947813</td>\n",
       "      <td>46.275313</td>\n",
       "      <td>72.686642</td>\n",
       "      <td>11.134294</td>\n",
       "      <td>3.333216</td>\n",
       "      <td>12.104271</td>\n",
       "      <td>3.571351</td>\n",
       "      <td>175.075656</td>\n",
       "      <td>...</td>\n",
       "      <td>23.012470</td>\n",
       "      <td>-498.249730</td>\n",
       "      <td>19.034162</td>\n",
       "      <td>-400.118106</td>\n",
       "      <td>18.026190</td>\n",
       "      <td>-498.384187</td>\n",
       "      <td>14.019088</td>\n",
       "      <td>-499.436708</td>\n",
       "      <td>24.003170</td>\n",
       "      <td>-499.495378</td>\n",
       "    </tr>\n",
       "    <tr>\n",
       "      <th>max</th>\n",
       "      <td>16.001945</td>\n",
       "      <td>17.031899</td>\n",
       "      <td>19.615720</td>\n",
       "      <td>52.756638</td>\n",
       "      <td>100.000000</td>\n",
       "      <td>19.552149</td>\n",
       "      <td>5.804178</td>\n",
       "      <td>22.317730</td>\n",
       "      <td>8.245022</td>\n",
       "      <td>265.983123</td>\n",
       "      <td>...</td>\n",
       "      <td>30.115735</td>\n",
       "      <td>-245.239184</td>\n",
       "      <td>31.269706</td>\n",
       "      <td>-6.506986</td>\n",
       "      <td>43.709931</td>\n",
       "      <td>-244.483566</td>\n",
       "      <td>27.926001</td>\n",
       "      <td>-137.740004</td>\n",
       "      <td>32.188906</td>\n",
       "      <td>-104.427459</td>\n",
       "    </tr>\n",
       "  </tbody>\n",
       "</table>\n",
       "<p>8 rows × 86 columns</p>\n",
       "</div>"
      ],
      "text/plain": [
       "       final.output.concentrate_ag  final.output.concentrate_pb  \\\n",
       "count                 19438.000000                 19438.000000   \n",
       "mean                      5.168470                     9.978895   \n",
       "std                       1.372348                     1.669240   \n",
       "min                       0.000000                     0.000000   \n",
       "25%                       4.251240                     9.137262   \n",
       "50%                       5.066094                    10.102433   \n",
       "75%                       5.895527                    11.035769   \n",
       "max                      16.001945                    17.031899   \n",
       "\n",
       "       final.output.concentrate_sol  final.output.concentrate_au  \\\n",
       "count                  19228.000000                 19439.000000   \n",
       "mean                       9.501224                    44.076513   \n",
       "std                        2.787537                     5.129784   \n",
       "min                        0.000000                     0.000000   \n",
       "25%                        7.722820                    43.402215   \n",
       "50%                        9.218961                    45.011244   \n",
       "75%                       10.947813                    46.275313   \n",
       "max                       19.615720                    52.756638   \n",
       "\n",
       "       final.output.recovery  final.output.tail_ag  final.output.tail_pb  \\\n",
       "count           19439.000000          19438.000000          19338.000000   \n",
       "mean               67.050208              9.688589              2.705795   \n",
       "std                10.125840              2.328642              0.949077   \n",
       "min                 0.000000              0.000000              0.000000   \n",
       "25%                63.299712              8.062878              2.040119   \n",
       "50%                68.172738              9.743623              2.748730   \n",
       "75%                72.686642             11.134294              3.333216   \n",
       "max               100.000000             19.552149              5.804178   \n",
       "\n",
       "       final.output.tail_sol  final.output.tail_au  \\\n",
       "count           19433.000000          19439.000000   \n",
       "mean               10.583728              3.042467   \n",
       "std                 2.868782              0.922808   \n",
       "min                 0.000000              0.000000   \n",
       "25%                 8.938947              2.461138   \n",
       "50%                10.622456              2.984909   \n",
       "75%                12.104271              3.571351   \n",
       "max                22.317730              8.245022   \n",
       "\n",
       "       primary_cleaner.input.sulfate  ...  \\\n",
       "count                   19415.000000  ...   \n",
       "mean                      144.624774  ...   \n",
       "std                        44.464071  ...   \n",
       "min                         0.003112  ...   \n",
       "25%                       114.107029  ...   \n",
       "50%                       143.232103  ...   \n",
       "75%                       175.075656  ...   \n",
       "max                       265.983123  ...   \n",
       "\n",
       "       secondary_cleaner.state.floatbank4_a_air  \\\n",
       "count                              19433.000000   \n",
       "mean                                  18.987674   \n",
       "std                                    5.411058   \n",
       "min                                    0.000000   \n",
       "25%                                   14.975734   \n",
       "50%                                   18.017481   \n",
       "75%                                   23.012470   \n",
       "max                                   30.115735   \n",
       "\n",
       "       secondary_cleaner.state.floatbank4_a_level  \\\n",
       "count                                19438.000000   \n",
       "mean                                  -485.894516   \n",
       "std                                     47.758570   \n",
       "min                                   -799.798523   \n",
       "25%                                   -500.704892   \n",
       "50%                                   -499.837793   \n",
       "75%                                   -498.249730   \n",
       "max                                   -245.239184   \n",
       "\n",
       "       secondary_cleaner.state.floatbank4_b_air  \\\n",
       "count                              19438.000000   \n",
       "mean                                  15.010366   \n",
       "std                                    4.890228   \n",
       "min                                    0.000000   \n",
       "25%                                   11.940294   \n",
       "50%                                   14.971014   \n",
       "75%                                   19.034162   \n",
       "max                                   31.269706   \n",
       "\n",
       "       secondary_cleaner.state.floatbank4_b_level  \\\n",
       "count                                19438.000000   \n",
       "mean                                  -461.078636   \n",
       "std                                     67.405524   \n",
       "min                                   -800.836914   \n",
       "25%                                   -500.187742   \n",
       "50%                                   -499.459786   \n",
       "75%                                   -400.118106   \n",
       "max                                     -6.506986   \n",
       "\n",
       "       secondary_cleaner.state.floatbank5_a_air  \\\n",
       "count                              19438.000000   \n",
       "mean                                  15.694452   \n",
       "std                                    5.510974   \n",
       "min                                   -0.372054   \n",
       "25%                                   10.988606   \n",
       "50%                                   15.000036   \n",
       "75%                                   18.026190   \n",
       "max                                   43.709931   \n",
       "\n",
       "       secondary_cleaner.state.floatbank5_a_level  \\\n",
       "count                                19438.000000   \n",
       "mean                                  -488.684065   \n",
       "std                                     34.533396   \n",
       "min                                   -797.323986   \n",
       "25%                                   -500.458467   \n",
       "50%                                   -499.802605   \n",
       "75%                                   -498.384187   \n",
       "max                                   -244.483566   \n",
       "\n",
       "       secondary_cleaner.state.floatbank5_b_air  \\\n",
       "count                              19438.000000   \n",
       "mean                                  12.198224   \n",
       "std                                    5.333024   \n",
       "min                                    0.528083   \n",
       "25%                                    8.971105   \n",
       "50%                                   11.019433   \n",
       "75%                                   14.019088   \n",
       "max                                   27.926001   \n",
       "\n",
       "       secondary_cleaner.state.floatbank5_b_level  \\\n",
       "count                                19438.000000   \n",
       "mean                                  -487.149827   \n",
       "std                                     38.347312   \n",
       "min                                   -800.220337   \n",
       "25%                                   -500.129462   \n",
       "50%                                   -499.935317   \n",
       "75%                                   -499.436708   \n",
       "max                                   -137.740004   \n",
       "\n",
       "       secondary_cleaner.state.floatbank6_a_air  \\\n",
       "count                              19437.000000   \n",
       "mean                                  18.959024   \n",
       "std                                    5.550498   \n",
       "min                                   -0.079426   \n",
       "25%                                   14.983037   \n",
       "50%                                   19.960541   \n",
       "75%                                   24.003170   \n",
       "max                                   32.188906   \n",
       "\n",
       "       secondary_cleaner.state.floatbank6_a_level  \n",
       "count                                19438.000000  \n",
       "mean                                  -505.436305  \n",
       "std                                     37.689057  \n",
       "min                                   -809.741464  \n",
       "25%                                   -500.728067  \n",
       "50%                                   -500.048400  \n",
       "75%                                   -499.495378  \n",
       "max                                   -104.427459  \n",
       "\n",
       "[8 rows x 86 columns]"
      ]
     },
     "metadata": {},
     "output_type": "display_data"
    },
    {
     "name": "stdout",
     "output_type": "stream",
     "text": [
      "Дубликаты = 0\n",
      "Пропуски = 4481\n"
     ]
    }
   ],
   "source": [
    "about_df(gold_recovery_full)"
   ]
  },
  {
   "cell_type": "code",
   "execution_count": 9,
   "metadata": {
    "scrolled": false
   },
   "outputs": [
    {
     "data": {
      "text/html": [
       "<div>\n",
       "<style scoped>\n",
       "    .dataframe tbody tr th:only-of-type {\n",
       "        vertical-align: middle;\n",
       "    }\n",
       "\n",
       "    .dataframe tbody tr th {\n",
       "        vertical-align: top;\n",
       "    }\n",
       "\n",
       "    .dataframe thead th {\n",
       "        text-align: right;\n",
       "    }\n",
       "</style>\n",
       "<table border=\"1\" class=\"dataframe\">\n",
       "  <thead>\n",
       "    <tr style=\"text-align: right;\">\n",
       "      <th></th>\n",
       "      <th>date</th>\n",
       "      <th>final.output.concentrate_ag</th>\n",
       "      <th>final.output.concentrate_pb</th>\n",
       "      <th>final.output.concentrate_sol</th>\n",
       "      <th>final.output.concentrate_au</th>\n",
       "      <th>final.output.recovery</th>\n",
       "      <th>final.output.tail_ag</th>\n",
       "      <th>final.output.tail_pb</th>\n",
       "      <th>final.output.tail_sol</th>\n",
       "      <th>final.output.tail_au</th>\n",
       "      <th>...</th>\n",
       "      <th>secondary_cleaner.state.floatbank4_a_air</th>\n",
       "      <th>secondary_cleaner.state.floatbank4_a_level</th>\n",
       "      <th>secondary_cleaner.state.floatbank4_b_air</th>\n",
       "      <th>secondary_cleaner.state.floatbank4_b_level</th>\n",
       "      <th>secondary_cleaner.state.floatbank5_a_air</th>\n",
       "      <th>secondary_cleaner.state.floatbank5_a_level</th>\n",
       "      <th>secondary_cleaner.state.floatbank5_b_air</th>\n",
       "      <th>secondary_cleaner.state.floatbank5_b_level</th>\n",
       "      <th>secondary_cleaner.state.floatbank6_a_air</th>\n",
       "      <th>secondary_cleaner.state.floatbank6_a_level</th>\n",
       "    </tr>\n",
       "  </thead>\n",
       "  <tbody>\n",
       "    <tr>\n",
       "      <th>0</th>\n",
       "      <td>2016-01-15 00:00:00</td>\n",
       "      <td>6.055403</td>\n",
       "      <td>9.889648</td>\n",
       "      <td>5.507324</td>\n",
       "      <td>42.192020</td>\n",
       "      <td>70.541216</td>\n",
       "      <td>10.411962</td>\n",
       "      <td>0.895447</td>\n",
       "      <td>16.904297</td>\n",
       "      <td>2.143149</td>\n",
       "      <td>...</td>\n",
       "      <td>14.016835</td>\n",
       "      <td>-502.488007</td>\n",
       "      <td>12.099931</td>\n",
       "      <td>-504.715942</td>\n",
       "      <td>9.925633</td>\n",
       "      <td>-498.310211</td>\n",
       "      <td>8.079666</td>\n",
       "      <td>-500.470978</td>\n",
       "      <td>14.151341</td>\n",
       "      <td>-605.841980</td>\n",
       "    </tr>\n",
       "    <tr>\n",
       "      <th>1</th>\n",
       "      <td>2016-01-15 01:00:00</td>\n",
       "      <td>6.029369</td>\n",
       "      <td>9.968944</td>\n",
       "      <td>5.257781</td>\n",
       "      <td>42.701629</td>\n",
       "      <td>69.266198</td>\n",
       "      <td>10.462676</td>\n",
       "      <td>0.927452</td>\n",
       "      <td>16.634514</td>\n",
       "      <td>2.224930</td>\n",
       "      <td>...</td>\n",
       "      <td>13.992281</td>\n",
       "      <td>-505.503262</td>\n",
       "      <td>11.950531</td>\n",
       "      <td>-501.331529</td>\n",
       "      <td>10.039245</td>\n",
       "      <td>-500.169983</td>\n",
       "      <td>7.984757</td>\n",
       "      <td>-500.582168</td>\n",
       "      <td>13.998353</td>\n",
       "      <td>-599.787184</td>\n",
       "    </tr>\n",
       "    <tr>\n",
       "      <th>2</th>\n",
       "      <td>2016-01-15 02:00:00</td>\n",
       "      <td>6.055926</td>\n",
       "      <td>10.213995</td>\n",
       "      <td>5.383759</td>\n",
       "      <td>42.657501</td>\n",
       "      <td>68.116445</td>\n",
       "      <td>10.507046</td>\n",
       "      <td>0.953716</td>\n",
       "      <td>16.208849</td>\n",
       "      <td>2.257889</td>\n",
       "      <td>...</td>\n",
       "      <td>14.015015</td>\n",
       "      <td>-502.520901</td>\n",
       "      <td>11.912783</td>\n",
       "      <td>-501.133383</td>\n",
       "      <td>10.070913</td>\n",
       "      <td>-500.129135</td>\n",
       "      <td>8.013877</td>\n",
       "      <td>-500.517572</td>\n",
       "      <td>14.028663</td>\n",
       "      <td>-601.427363</td>\n",
       "    </tr>\n",
       "    <tr>\n",
       "      <th>3</th>\n",
       "      <td>2016-01-15 03:00:00</td>\n",
       "      <td>6.047977</td>\n",
       "      <td>9.977019</td>\n",
       "      <td>4.858634</td>\n",
       "      <td>42.689819</td>\n",
       "      <td>68.347543</td>\n",
       "      <td>10.422762</td>\n",
       "      <td>0.883763</td>\n",
       "      <td>16.532835</td>\n",
       "      <td>2.146849</td>\n",
       "      <td>...</td>\n",
       "      <td>14.036510</td>\n",
       "      <td>-500.857308</td>\n",
       "      <td>11.999550</td>\n",
       "      <td>-501.193686</td>\n",
       "      <td>9.970366</td>\n",
       "      <td>-499.201640</td>\n",
       "      <td>7.977324</td>\n",
       "      <td>-500.255908</td>\n",
       "      <td>14.005551</td>\n",
       "      <td>-599.996129</td>\n",
       "    </tr>\n",
       "    <tr>\n",
       "      <th>4</th>\n",
       "      <td>2016-01-15 04:00:00</td>\n",
       "      <td>6.148599</td>\n",
       "      <td>10.142511</td>\n",
       "      <td>4.939416</td>\n",
       "      <td>42.774141</td>\n",
       "      <td>66.927016</td>\n",
       "      <td>10.360302</td>\n",
       "      <td>0.792826</td>\n",
       "      <td>16.525686</td>\n",
       "      <td>2.055292</td>\n",
       "      <td>...</td>\n",
       "      <td>14.027298</td>\n",
       "      <td>-499.838632</td>\n",
       "      <td>11.953070</td>\n",
       "      <td>-501.053894</td>\n",
       "      <td>9.925709</td>\n",
       "      <td>-501.686727</td>\n",
       "      <td>7.894242</td>\n",
       "      <td>-500.356035</td>\n",
       "      <td>13.996647</td>\n",
       "      <td>-601.496691</td>\n",
       "    </tr>\n",
       "  </tbody>\n",
       "</table>\n",
       "<p>5 rows × 87 columns</p>\n",
       "</div>"
      ],
      "text/plain": [
       "                  date  final.output.concentrate_ag  \\\n",
       "0  2016-01-15 00:00:00                     6.055403   \n",
       "1  2016-01-15 01:00:00                     6.029369   \n",
       "2  2016-01-15 02:00:00                     6.055926   \n",
       "3  2016-01-15 03:00:00                     6.047977   \n",
       "4  2016-01-15 04:00:00                     6.148599   \n",
       "\n",
       "   final.output.concentrate_pb  final.output.concentrate_sol  \\\n",
       "0                     9.889648                      5.507324   \n",
       "1                     9.968944                      5.257781   \n",
       "2                    10.213995                      5.383759   \n",
       "3                     9.977019                      4.858634   \n",
       "4                    10.142511                      4.939416   \n",
       "\n",
       "   final.output.concentrate_au  final.output.recovery  final.output.tail_ag  \\\n",
       "0                    42.192020              70.541216             10.411962   \n",
       "1                    42.701629              69.266198             10.462676   \n",
       "2                    42.657501              68.116445             10.507046   \n",
       "3                    42.689819              68.347543             10.422762   \n",
       "4                    42.774141              66.927016             10.360302   \n",
       "\n",
       "   final.output.tail_pb  final.output.tail_sol  final.output.tail_au  ...  \\\n",
       "0              0.895447              16.904297              2.143149  ...   \n",
       "1              0.927452              16.634514              2.224930  ...   \n",
       "2              0.953716              16.208849              2.257889  ...   \n",
       "3              0.883763              16.532835              2.146849  ...   \n",
       "4              0.792826              16.525686              2.055292  ...   \n",
       "\n",
       "   secondary_cleaner.state.floatbank4_a_air  \\\n",
       "0                                 14.016835   \n",
       "1                                 13.992281   \n",
       "2                                 14.015015   \n",
       "3                                 14.036510   \n",
       "4                                 14.027298   \n",
       "\n",
       "   secondary_cleaner.state.floatbank4_a_level  \\\n",
       "0                                 -502.488007   \n",
       "1                                 -505.503262   \n",
       "2                                 -502.520901   \n",
       "3                                 -500.857308   \n",
       "4                                 -499.838632   \n",
       "\n",
       "   secondary_cleaner.state.floatbank4_b_air  \\\n",
       "0                                 12.099931   \n",
       "1                                 11.950531   \n",
       "2                                 11.912783   \n",
       "3                                 11.999550   \n",
       "4                                 11.953070   \n",
       "\n",
       "   secondary_cleaner.state.floatbank4_b_level  \\\n",
       "0                                 -504.715942   \n",
       "1                                 -501.331529   \n",
       "2                                 -501.133383   \n",
       "3                                 -501.193686   \n",
       "4                                 -501.053894   \n",
       "\n",
       "   secondary_cleaner.state.floatbank5_a_air  \\\n",
       "0                                  9.925633   \n",
       "1                                 10.039245   \n",
       "2                                 10.070913   \n",
       "3                                  9.970366   \n",
       "4                                  9.925709   \n",
       "\n",
       "   secondary_cleaner.state.floatbank5_a_level  \\\n",
       "0                                 -498.310211   \n",
       "1                                 -500.169983   \n",
       "2                                 -500.129135   \n",
       "3                                 -499.201640   \n",
       "4                                 -501.686727   \n",
       "\n",
       "   secondary_cleaner.state.floatbank5_b_air  \\\n",
       "0                                  8.079666   \n",
       "1                                  7.984757   \n",
       "2                                  8.013877   \n",
       "3                                  7.977324   \n",
       "4                                  7.894242   \n",
       "\n",
       "   secondary_cleaner.state.floatbank5_b_level  \\\n",
       "0                                 -500.470978   \n",
       "1                                 -500.582168   \n",
       "2                                 -500.517572   \n",
       "3                                 -500.255908   \n",
       "4                                 -500.356035   \n",
       "\n",
       "   secondary_cleaner.state.floatbank6_a_air  \\\n",
       "0                                 14.151341   \n",
       "1                                 13.998353   \n",
       "2                                 14.028663   \n",
       "3                                 14.005551   \n",
       "4                                 13.996647   \n",
       "\n",
       "   secondary_cleaner.state.floatbank6_a_level  \n",
       "0                                 -605.841980  \n",
       "1                                 -599.787184  \n",
       "2                                 -601.427363  \n",
       "3                                 -599.996129  \n",
       "4                                 -601.496691  \n",
       "\n",
       "[5 rows x 87 columns]"
      ]
     },
     "metadata": {},
     "output_type": "display_data"
    },
    {
     "name": "stdout",
     "output_type": "stream",
     "text": [
      "<class 'pandas.core.frame.DataFrame'>\n",
      "RangeIndex: 14149 entries, 0 to 14148\n",
      "Data columns (total 87 columns):\n",
      " #   Column                                              Non-Null Count  Dtype  \n",
      "---  ------                                              --------------  -----  \n",
      " 0   date                                                14149 non-null  object \n",
      " 1   final.output.concentrate_ag                         14148 non-null  float64\n",
      " 2   final.output.concentrate_pb                         14148 non-null  float64\n",
      " 3   final.output.concentrate_sol                        13938 non-null  float64\n",
      " 4   final.output.concentrate_au                         14149 non-null  float64\n",
      " 5   final.output.recovery                               14149 non-null  float64\n",
      " 6   final.output.tail_ag                                14149 non-null  float64\n",
      " 7   final.output.tail_pb                                14049 non-null  float64\n",
      " 8   final.output.tail_sol                               14144 non-null  float64\n",
      " 9   final.output.tail_au                                14149 non-null  float64\n",
      " 10  primary_cleaner.input.sulfate                       14129 non-null  float64\n",
      " 11  primary_cleaner.input.depressant                    14117 non-null  float64\n",
      " 12  primary_cleaner.input.feed_size                     14149 non-null  float64\n",
      " 13  primary_cleaner.input.xanthate                      14049 non-null  float64\n",
      " 14  primary_cleaner.output.concentrate_ag               14149 non-null  float64\n",
      " 15  primary_cleaner.output.concentrate_pb               14063 non-null  float64\n",
      " 16  primary_cleaner.output.concentrate_sol              13863 non-null  float64\n",
      " 17  primary_cleaner.output.concentrate_au               14149 non-null  float64\n",
      " 18  primary_cleaner.output.tail_ag                      14148 non-null  float64\n",
      " 19  primary_cleaner.output.tail_pb                      14134 non-null  float64\n",
      " 20  primary_cleaner.output.tail_sol                     14103 non-null  float64\n",
      " 21  primary_cleaner.output.tail_au                      14149 non-null  float64\n",
      " 22  primary_cleaner.state.floatbank8_a_air              14145 non-null  float64\n",
      " 23  primary_cleaner.state.floatbank8_a_level            14148 non-null  float64\n",
      " 24  primary_cleaner.state.floatbank8_b_air              14145 non-null  float64\n",
      " 25  primary_cleaner.state.floatbank8_b_level            14148 non-null  float64\n",
      " 26  primary_cleaner.state.floatbank8_c_air              14147 non-null  float64\n",
      " 27  primary_cleaner.state.floatbank8_c_level            14148 non-null  float64\n",
      " 28  primary_cleaner.state.floatbank8_d_air              14146 non-null  float64\n",
      " 29  primary_cleaner.state.floatbank8_d_level            14148 non-null  float64\n",
      " 30  rougher.calculation.sulfate_to_au_concentrate       14148 non-null  float64\n",
      " 31  rougher.calculation.floatbank10_sulfate_to_au_feed  14148 non-null  float64\n",
      " 32  rougher.calculation.floatbank11_sulfate_to_au_feed  14148 non-null  float64\n",
      " 33  rougher.calculation.au_pb_ratio                     14149 non-null  float64\n",
      " 34  rougher.input.feed_ag                               14149 non-null  float64\n",
      " 35  rougher.input.feed_pb                               14049 non-null  float64\n",
      " 36  rougher.input.feed_rate                             14141 non-null  float64\n",
      " 37  rougher.input.feed_size                             14005 non-null  float64\n",
      " 38  rougher.input.feed_sol                              14071 non-null  float64\n",
      " 39  rougher.input.feed_au                               14149 non-null  float64\n",
      " 40  rougher.input.floatbank10_sulfate                   14120 non-null  float64\n",
      " 41  rougher.input.floatbank10_xanthate                  14141 non-null  float64\n",
      " 42  rougher.input.floatbank11_sulfate                   14113 non-null  float64\n",
      " 43  rougher.input.floatbank11_xanthate                  13721 non-null  float64\n",
      " 44  rougher.output.concentrate_ag                       14149 non-null  float64\n",
      " 45  rougher.output.concentrate_pb                       14149 non-null  float64\n",
      " 46  rougher.output.concentrate_sol                      14127 non-null  float64\n",
      " 47  rougher.output.concentrate_au                       14149 non-null  float64\n",
      " 48  rougher.output.recovery                             14149 non-null  float64\n",
      " 49  rougher.output.tail_ag                              14148 non-null  float64\n",
      " 50  rougher.output.tail_pb                              14149 non-null  float64\n",
      " 51  rougher.output.tail_sol                             14149 non-null  float64\n",
      " 52  rougher.output.tail_au                              14149 non-null  float64\n",
      " 53  rougher.state.floatbank10_a_air                     14148 non-null  float64\n",
      " 54  rougher.state.floatbank10_a_level                   14148 non-null  float64\n",
      " 55  rougher.state.floatbank10_b_air                     14148 non-null  float64\n",
      " 56  rougher.state.floatbank10_b_level                   14148 non-null  float64\n",
      " 57  rougher.state.floatbank10_c_air                     14148 non-null  float64\n",
      " 58  rougher.state.floatbank10_c_level                   14148 non-null  float64\n",
      " 59  rougher.state.floatbank10_d_air                     14149 non-null  float64\n",
      " 60  rougher.state.floatbank10_d_level                   14149 non-null  float64\n",
      " 61  rougher.state.floatbank10_e_air                     13713 non-null  float64\n",
      " 62  rougher.state.floatbank10_e_level                   14149 non-null  float64\n",
      " 63  rougher.state.floatbank10_f_air                     14149 non-null  float64\n",
      " 64  rougher.state.floatbank10_f_level                   14149 non-null  float64\n",
      " 65  secondary_cleaner.output.tail_ag                    14147 non-null  float64\n",
      " 66  secondary_cleaner.output.tail_pb                    14139 non-null  float64\n",
      " 67  secondary_cleaner.output.tail_sol                   12544 non-null  float64\n",
      " 68  secondary_cleaner.output.tail_au                    14149 non-null  float64\n",
      " 69  secondary_cleaner.state.floatbank2_a_air            13932 non-null  float64\n",
      " 70  secondary_cleaner.state.floatbank2_a_level          14148 non-null  float64\n",
      " 71  secondary_cleaner.state.floatbank2_b_air            14128 non-null  float64\n",
      " 72  secondary_cleaner.state.floatbank2_b_level          14148 non-null  float64\n",
      " 73  secondary_cleaner.state.floatbank3_a_air            14145 non-null  float64\n",
      " 74  secondary_cleaner.state.floatbank3_a_level          14148 non-null  float64\n",
      " 75  secondary_cleaner.state.floatbank3_b_air            14148 non-null  float64\n",
      " 76  secondary_cleaner.state.floatbank3_b_level          14148 non-null  float64\n",
      " 77  secondary_cleaner.state.floatbank4_a_air            14143 non-null  float64\n",
      " 78  secondary_cleaner.state.floatbank4_a_level          14148 non-null  float64\n",
      " 79  secondary_cleaner.state.floatbank4_b_air            14148 non-null  float64\n",
      " 80  secondary_cleaner.state.floatbank4_b_level          14148 non-null  float64\n",
      " 81  secondary_cleaner.state.floatbank5_a_air            14148 non-null  float64\n",
      " 82  secondary_cleaner.state.floatbank5_a_level          14148 non-null  float64\n",
      " 83  secondary_cleaner.state.floatbank5_b_air            14148 non-null  float64\n",
      " 84  secondary_cleaner.state.floatbank5_b_level          14148 non-null  float64\n",
      " 85  secondary_cleaner.state.floatbank6_a_air            14147 non-null  float64\n",
      " 86  secondary_cleaner.state.floatbank6_a_level          14148 non-null  float64\n",
      "dtypes: float64(86), object(1)\n",
      "memory usage: 9.4+ MB\n"
     ]
    },
    {
     "data": {
      "text/plain": [
       "None"
      ]
     },
     "metadata": {},
     "output_type": "display_data"
    },
    {
     "data": {
      "text/html": [
       "<div>\n",
       "<style scoped>\n",
       "    .dataframe tbody tr th:only-of-type {\n",
       "        vertical-align: middle;\n",
       "    }\n",
       "\n",
       "    .dataframe tbody tr th {\n",
       "        vertical-align: top;\n",
       "    }\n",
       "\n",
       "    .dataframe thead th {\n",
       "        text-align: right;\n",
       "    }\n",
       "</style>\n",
       "<table border=\"1\" class=\"dataframe\">\n",
       "  <thead>\n",
       "    <tr style=\"text-align: right;\">\n",
       "      <th></th>\n",
       "      <th>final.output.concentrate_ag</th>\n",
       "      <th>final.output.concentrate_pb</th>\n",
       "      <th>final.output.concentrate_sol</th>\n",
       "      <th>final.output.concentrate_au</th>\n",
       "      <th>final.output.recovery</th>\n",
       "      <th>final.output.tail_ag</th>\n",
       "      <th>final.output.tail_pb</th>\n",
       "      <th>final.output.tail_sol</th>\n",
       "      <th>final.output.tail_au</th>\n",
       "      <th>primary_cleaner.input.sulfate</th>\n",
       "      <th>...</th>\n",
       "      <th>secondary_cleaner.state.floatbank4_a_air</th>\n",
       "      <th>secondary_cleaner.state.floatbank4_a_level</th>\n",
       "      <th>secondary_cleaner.state.floatbank4_b_air</th>\n",
       "      <th>secondary_cleaner.state.floatbank4_b_level</th>\n",
       "      <th>secondary_cleaner.state.floatbank5_a_air</th>\n",
       "      <th>secondary_cleaner.state.floatbank5_a_level</th>\n",
       "      <th>secondary_cleaner.state.floatbank5_b_air</th>\n",
       "      <th>secondary_cleaner.state.floatbank5_b_level</th>\n",
       "      <th>secondary_cleaner.state.floatbank6_a_air</th>\n",
       "      <th>secondary_cleaner.state.floatbank6_a_level</th>\n",
       "    </tr>\n",
       "  </thead>\n",
       "  <tbody>\n",
       "    <tr>\n",
       "      <th>count</th>\n",
       "      <td>14148.000000</td>\n",
       "      <td>14148.000000</td>\n",
       "      <td>13938.000000</td>\n",
       "      <td>14149.000000</td>\n",
       "      <td>14149.000000</td>\n",
       "      <td>14149.000000</td>\n",
       "      <td>14049.000000</td>\n",
       "      <td>14144.000000</td>\n",
       "      <td>14149.000000</td>\n",
       "      <td>14129.000000</td>\n",
       "      <td>...</td>\n",
       "      <td>14143.000000</td>\n",
       "      <td>14148.000000</td>\n",
       "      <td>14148.000000</td>\n",
       "      <td>14148.000000</td>\n",
       "      <td>14148.000000</td>\n",
       "      <td>14148.000000</td>\n",
       "      <td>14148.000000</td>\n",
       "      <td>14148.000000</td>\n",
       "      <td>14147.000000</td>\n",
       "      <td>14148.000000</td>\n",
       "    </tr>\n",
       "    <tr>\n",
       "      <th>mean</th>\n",
       "      <td>5.142034</td>\n",
       "      <td>10.132960</td>\n",
       "      <td>9.202849</td>\n",
       "      <td>44.003792</td>\n",
       "      <td>66.518832</td>\n",
       "      <td>9.607035</td>\n",
       "      <td>2.597298</td>\n",
       "      <td>10.512122</td>\n",
       "      <td>2.918421</td>\n",
       "      <td>133.320659</td>\n",
       "      <td>...</td>\n",
       "      <td>19.985454</td>\n",
       "      <td>-478.696836</td>\n",
       "      <td>15.487065</td>\n",
       "      <td>-460.229416</td>\n",
       "      <td>16.775136</td>\n",
       "      <td>-483.956022</td>\n",
       "      <td>13.064590</td>\n",
       "      <td>-483.966564</td>\n",
       "      <td>19.577539</td>\n",
       "      <td>-506.798480</td>\n",
       "    </tr>\n",
       "    <tr>\n",
       "      <th>std</th>\n",
       "      <td>1.369586</td>\n",
       "      <td>1.654930</td>\n",
       "      <td>2.790516</td>\n",
       "      <td>4.905261</td>\n",
       "      <td>10.295402</td>\n",
       "      <td>2.319069</td>\n",
       "      <td>0.971843</td>\n",
       "      <td>3.003617</td>\n",
       "      <td>0.903712</td>\n",
       "      <td>39.431659</td>\n",
       "      <td>...</td>\n",
       "      <td>5.657723</td>\n",
       "      <td>50.736021</td>\n",
       "      <td>5.255655</td>\n",
       "      <td>58.843586</td>\n",
       "      <td>5.831906</td>\n",
       "      <td>37.892788</td>\n",
       "      <td>5.765617</td>\n",
       "      <td>39.207913</td>\n",
       "      <td>5.764417</td>\n",
       "      <td>37.079249</td>\n",
       "    </tr>\n",
       "    <tr>\n",
       "      <th>min</th>\n",
       "      <td>0.000000</td>\n",
       "      <td>0.000000</td>\n",
       "      <td>0.000000</td>\n",
       "      <td>0.000000</td>\n",
       "      <td>0.000000</td>\n",
       "      <td>0.000000</td>\n",
       "      <td>0.000000</td>\n",
       "      <td>0.000000</td>\n",
       "      <td>0.000000</td>\n",
       "      <td>0.003112</td>\n",
       "      <td>...</td>\n",
       "      <td>0.000000</td>\n",
       "      <td>-799.709069</td>\n",
       "      <td>0.000000</td>\n",
       "      <td>-799.889113</td>\n",
       "      <td>-0.372054</td>\n",
       "      <td>-797.142475</td>\n",
       "      <td>0.646208</td>\n",
       "      <td>-800.006180</td>\n",
       "      <td>0.195324</td>\n",
       "      <td>-809.398668</td>\n",
       "    </tr>\n",
       "    <tr>\n",
       "      <th>25%</th>\n",
       "      <td>4.211620</td>\n",
       "      <td>9.297355</td>\n",
       "      <td>7.484645</td>\n",
       "      <td>43.276111</td>\n",
       "      <td>62.545817</td>\n",
       "      <td>7.997429</td>\n",
       "      <td>1.905973</td>\n",
       "      <td>8.811324</td>\n",
       "      <td>2.368607</td>\n",
       "      <td>107.006651</td>\n",
       "      <td>...</td>\n",
       "      <td>14.990775</td>\n",
       "      <td>-500.628656</td>\n",
       "      <td>11.894558</td>\n",
       "      <td>-500.149000</td>\n",
       "      <td>11.083980</td>\n",
       "      <td>-500.363177</td>\n",
       "      <td>8.994405</td>\n",
       "      <td>-500.105994</td>\n",
       "      <td>14.989304</td>\n",
       "      <td>-500.745104</td>\n",
       "    </tr>\n",
       "    <tr>\n",
       "      <th>50%</th>\n",
       "      <td>4.994652</td>\n",
       "      <td>10.297144</td>\n",
       "      <td>8.845462</td>\n",
       "      <td>44.872436</td>\n",
       "      <td>67.432775</td>\n",
       "      <td>9.480270</td>\n",
       "      <td>2.592022</td>\n",
       "      <td>10.514621</td>\n",
       "      <td>2.851025</td>\n",
       "      <td>133.018328</td>\n",
       "      <td>...</td>\n",
       "      <td>20.001789</td>\n",
       "      <td>-499.681450</td>\n",
       "      <td>14.975536</td>\n",
       "      <td>-499.388738</td>\n",
       "      <td>17.932223</td>\n",
       "      <td>-499.702452</td>\n",
       "      <td>11.997547</td>\n",
       "      <td>-499.914556</td>\n",
       "      <td>19.984175</td>\n",
       "      <td>-500.061431</td>\n",
       "    </tr>\n",
       "    <tr>\n",
       "      <th>75%</th>\n",
       "      <td>5.859540</td>\n",
       "      <td>11.170603</td>\n",
       "      <td>10.487508</td>\n",
       "      <td>46.166425</td>\n",
       "      <td>72.346428</td>\n",
       "      <td>11.003707</td>\n",
       "      <td>3.241723</td>\n",
       "      <td>11.933009</td>\n",
       "      <td>3.434764</td>\n",
       "      <td>159.825396</td>\n",
       "      <td>...</td>\n",
       "      <td>24.990826</td>\n",
       "      <td>-477.472413</td>\n",
       "      <td>20.059375</td>\n",
       "      <td>-400.039008</td>\n",
       "      <td>21.346550</td>\n",
       "      <td>-487.712108</td>\n",
       "      <td>17.982903</td>\n",
       "      <td>-453.186936</td>\n",
       "      <td>24.991623</td>\n",
       "      <td>-499.536466</td>\n",
       "    </tr>\n",
       "    <tr>\n",
       "      <th>max</th>\n",
       "      <td>16.001945</td>\n",
       "      <td>17.031899</td>\n",
       "      <td>18.124851</td>\n",
       "      <td>52.756638</td>\n",
       "      <td>100.000000</td>\n",
       "      <td>19.552149</td>\n",
       "      <td>5.639565</td>\n",
       "      <td>22.317730</td>\n",
       "      <td>8.197408</td>\n",
       "      <td>250.127834</td>\n",
       "      <td>...</td>\n",
       "      <td>30.115735</td>\n",
       "      <td>-245.239184</td>\n",
       "      <td>24.007913</td>\n",
       "      <td>-145.071088</td>\n",
       "      <td>43.709931</td>\n",
       "      <td>-275.073125</td>\n",
       "      <td>27.926001</td>\n",
       "      <td>-157.396071</td>\n",
       "      <td>32.188906</td>\n",
       "      <td>-104.427459</td>\n",
       "    </tr>\n",
       "  </tbody>\n",
       "</table>\n",
       "<p>8 rows × 86 columns</p>\n",
       "</div>"
      ],
      "text/plain": [
       "       final.output.concentrate_ag  final.output.concentrate_pb  \\\n",
       "count                 14148.000000                 14148.000000   \n",
       "mean                      5.142034                    10.132960   \n",
       "std                       1.369586                     1.654930   \n",
       "min                       0.000000                     0.000000   \n",
       "25%                       4.211620                     9.297355   \n",
       "50%                       4.994652                    10.297144   \n",
       "75%                       5.859540                    11.170603   \n",
       "max                      16.001945                    17.031899   \n",
       "\n",
       "       final.output.concentrate_sol  final.output.concentrate_au  \\\n",
       "count                  13938.000000                 14149.000000   \n",
       "mean                       9.202849                    44.003792   \n",
       "std                        2.790516                     4.905261   \n",
       "min                        0.000000                     0.000000   \n",
       "25%                        7.484645                    43.276111   \n",
       "50%                        8.845462                    44.872436   \n",
       "75%                       10.487508                    46.166425   \n",
       "max                       18.124851                    52.756638   \n",
       "\n",
       "       final.output.recovery  final.output.tail_ag  final.output.tail_pb  \\\n",
       "count           14149.000000          14149.000000          14049.000000   \n",
       "mean               66.518832              9.607035              2.597298   \n",
       "std                10.295402              2.319069              0.971843   \n",
       "min                 0.000000              0.000000              0.000000   \n",
       "25%                62.545817              7.997429              1.905973   \n",
       "50%                67.432775              9.480270              2.592022   \n",
       "75%                72.346428             11.003707              3.241723   \n",
       "max               100.000000             19.552149              5.639565   \n",
       "\n",
       "       final.output.tail_sol  final.output.tail_au  \\\n",
       "count           14144.000000          14149.000000   \n",
       "mean               10.512122              2.918421   \n",
       "std                 3.003617              0.903712   \n",
       "min                 0.000000              0.000000   \n",
       "25%                 8.811324              2.368607   \n",
       "50%                10.514621              2.851025   \n",
       "75%                11.933009              3.434764   \n",
       "max                22.317730              8.197408   \n",
       "\n",
       "       primary_cleaner.input.sulfate  ...  \\\n",
       "count                   14129.000000  ...   \n",
       "mean                      133.320659  ...   \n",
       "std                        39.431659  ...   \n",
       "min                         0.003112  ...   \n",
       "25%                       107.006651  ...   \n",
       "50%                       133.018328  ...   \n",
       "75%                       159.825396  ...   \n",
       "max                       250.127834  ...   \n",
       "\n",
       "       secondary_cleaner.state.floatbank4_a_air  \\\n",
       "count                              14143.000000   \n",
       "mean                                  19.985454   \n",
       "std                                    5.657723   \n",
       "min                                    0.000000   \n",
       "25%                                   14.990775   \n",
       "50%                                   20.001789   \n",
       "75%                                   24.990826   \n",
       "max                                   30.115735   \n",
       "\n",
       "       secondary_cleaner.state.floatbank4_a_level  \\\n",
       "count                                14148.000000   \n",
       "mean                                  -478.696836   \n",
       "std                                     50.736021   \n",
       "min                                   -799.709069   \n",
       "25%                                   -500.628656   \n",
       "50%                                   -499.681450   \n",
       "75%                                   -477.472413   \n",
       "max                                   -245.239184   \n",
       "\n",
       "       secondary_cleaner.state.floatbank4_b_air  \\\n",
       "count                              14148.000000   \n",
       "mean                                  15.487065   \n",
       "std                                    5.255655   \n",
       "min                                    0.000000   \n",
       "25%                                   11.894558   \n",
       "50%                                   14.975536   \n",
       "75%                                   20.059375   \n",
       "max                                   24.007913   \n",
       "\n",
       "       secondary_cleaner.state.floatbank4_b_level  \\\n",
       "count                                14148.000000   \n",
       "mean                                  -460.229416   \n",
       "std                                     58.843586   \n",
       "min                                   -799.889113   \n",
       "25%                                   -500.149000   \n",
       "50%                                   -499.388738   \n",
       "75%                                   -400.039008   \n",
       "max                                   -145.071088   \n",
       "\n",
       "       secondary_cleaner.state.floatbank5_a_air  \\\n",
       "count                              14148.000000   \n",
       "mean                                  16.775136   \n",
       "std                                    5.831906   \n",
       "min                                   -0.372054   \n",
       "25%                                   11.083980   \n",
       "50%                                   17.932223   \n",
       "75%                                   21.346550   \n",
       "max                                   43.709931   \n",
       "\n",
       "       secondary_cleaner.state.floatbank5_a_level  \\\n",
       "count                                14148.000000   \n",
       "mean                                  -483.956022   \n",
       "std                                     37.892788   \n",
       "min                                   -797.142475   \n",
       "25%                                   -500.363177   \n",
       "50%                                   -499.702452   \n",
       "75%                                   -487.712108   \n",
       "max                                   -275.073125   \n",
       "\n",
       "       secondary_cleaner.state.floatbank5_b_air  \\\n",
       "count                              14148.000000   \n",
       "mean                                  13.064590   \n",
       "std                                    5.765617   \n",
       "min                                    0.646208   \n",
       "25%                                    8.994405   \n",
       "50%                                   11.997547   \n",
       "75%                                   17.982903   \n",
       "max                                   27.926001   \n",
       "\n",
       "       secondary_cleaner.state.floatbank5_b_level  \\\n",
       "count                                14148.000000   \n",
       "mean                                  -483.966564   \n",
       "std                                     39.207913   \n",
       "min                                   -800.006180   \n",
       "25%                                   -500.105994   \n",
       "50%                                   -499.914556   \n",
       "75%                                   -453.186936   \n",
       "max                                   -157.396071   \n",
       "\n",
       "       secondary_cleaner.state.floatbank6_a_air  \\\n",
       "count                              14147.000000   \n",
       "mean                                  19.577539   \n",
       "std                                    5.764417   \n",
       "min                                    0.195324   \n",
       "25%                                   14.989304   \n",
       "50%                                   19.984175   \n",
       "75%                                   24.991623   \n",
       "max                                   32.188906   \n",
       "\n",
       "       secondary_cleaner.state.floatbank6_a_level  \n",
       "count                                14148.000000  \n",
       "mean                                  -506.798480  \n",
       "std                                     37.079249  \n",
       "min                                   -809.398668  \n",
       "25%                                   -500.745104  \n",
       "50%                                   -500.061431  \n",
       "75%                                   -499.536466  \n",
       "max                                   -104.427459  \n",
       "\n",
       "[8 rows x 86 columns]"
      ]
     },
     "metadata": {},
     "output_type": "display_data"
    },
    {
     "name": "stdout",
     "output_type": "stream",
     "text": [
      "Дубликаты = 0\n",
      "Пропуски = 4100\n"
     ]
    }
   ],
   "source": [
    "about_df(gold_recovery_train)"
   ]
  },
  {
   "cell_type": "code",
   "execution_count": 10,
   "metadata": {
    "scrolled": false
   },
   "outputs": [
    {
     "data": {
      "text/html": [
       "<div>\n",
       "<style scoped>\n",
       "    .dataframe tbody tr th:only-of-type {\n",
       "        vertical-align: middle;\n",
       "    }\n",
       "\n",
       "    .dataframe tbody tr th {\n",
       "        vertical-align: top;\n",
       "    }\n",
       "\n",
       "    .dataframe thead th {\n",
       "        text-align: right;\n",
       "    }\n",
       "</style>\n",
       "<table border=\"1\" class=\"dataframe\">\n",
       "  <thead>\n",
       "    <tr style=\"text-align: right;\">\n",
       "      <th></th>\n",
       "      <th>date</th>\n",
       "      <th>primary_cleaner.input.sulfate</th>\n",
       "      <th>primary_cleaner.input.depressant</th>\n",
       "      <th>primary_cleaner.input.feed_size</th>\n",
       "      <th>primary_cleaner.input.xanthate</th>\n",
       "      <th>primary_cleaner.state.floatbank8_a_air</th>\n",
       "      <th>primary_cleaner.state.floatbank8_a_level</th>\n",
       "      <th>primary_cleaner.state.floatbank8_b_air</th>\n",
       "      <th>primary_cleaner.state.floatbank8_b_level</th>\n",
       "      <th>primary_cleaner.state.floatbank8_c_air</th>\n",
       "      <th>...</th>\n",
       "      <th>secondary_cleaner.state.floatbank4_a_air</th>\n",
       "      <th>secondary_cleaner.state.floatbank4_a_level</th>\n",
       "      <th>secondary_cleaner.state.floatbank4_b_air</th>\n",
       "      <th>secondary_cleaner.state.floatbank4_b_level</th>\n",
       "      <th>secondary_cleaner.state.floatbank5_a_air</th>\n",
       "      <th>secondary_cleaner.state.floatbank5_a_level</th>\n",
       "      <th>secondary_cleaner.state.floatbank5_b_air</th>\n",
       "      <th>secondary_cleaner.state.floatbank5_b_level</th>\n",
       "      <th>secondary_cleaner.state.floatbank6_a_air</th>\n",
       "      <th>secondary_cleaner.state.floatbank6_a_level</th>\n",
       "    </tr>\n",
       "  </thead>\n",
       "  <tbody>\n",
       "    <tr>\n",
       "      <th>0</th>\n",
       "      <td>2016-09-01 00:59:59</td>\n",
       "      <td>210.800909</td>\n",
       "      <td>14.993118</td>\n",
       "      <td>8.080000</td>\n",
       "      <td>1.005021</td>\n",
       "      <td>1398.981301</td>\n",
       "      <td>-500.225577</td>\n",
       "      <td>1399.144926</td>\n",
       "      <td>-499.919735</td>\n",
       "      <td>1400.102998</td>\n",
       "      <td>...</td>\n",
       "      <td>12.023554</td>\n",
       "      <td>-497.795834</td>\n",
       "      <td>8.016656</td>\n",
       "      <td>-501.289139</td>\n",
       "      <td>7.946562</td>\n",
       "      <td>-432.317850</td>\n",
       "      <td>4.872511</td>\n",
       "      <td>-500.037437</td>\n",
       "      <td>26.705889</td>\n",
       "      <td>-499.709414</td>\n",
       "    </tr>\n",
       "    <tr>\n",
       "      <th>1</th>\n",
       "      <td>2016-09-01 01:59:59</td>\n",
       "      <td>215.392455</td>\n",
       "      <td>14.987471</td>\n",
       "      <td>8.080000</td>\n",
       "      <td>0.990469</td>\n",
       "      <td>1398.777912</td>\n",
       "      <td>-500.057435</td>\n",
       "      <td>1398.055362</td>\n",
       "      <td>-499.778182</td>\n",
       "      <td>1396.151033</td>\n",
       "      <td>...</td>\n",
       "      <td>12.058140</td>\n",
       "      <td>-498.695773</td>\n",
       "      <td>8.130979</td>\n",
       "      <td>-499.634209</td>\n",
       "      <td>7.958270</td>\n",
       "      <td>-525.839648</td>\n",
       "      <td>4.878850</td>\n",
       "      <td>-500.162375</td>\n",
       "      <td>25.019940</td>\n",
       "      <td>-499.819438</td>\n",
       "    </tr>\n",
       "    <tr>\n",
       "      <th>2</th>\n",
       "      <td>2016-09-01 02:59:59</td>\n",
       "      <td>215.259946</td>\n",
       "      <td>12.884934</td>\n",
       "      <td>7.786667</td>\n",
       "      <td>0.996043</td>\n",
       "      <td>1398.493666</td>\n",
       "      <td>-500.868360</td>\n",
       "      <td>1398.860436</td>\n",
       "      <td>-499.764529</td>\n",
       "      <td>1398.075709</td>\n",
       "      <td>...</td>\n",
       "      <td>11.962366</td>\n",
       "      <td>-498.767484</td>\n",
       "      <td>8.096893</td>\n",
       "      <td>-500.827423</td>\n",
       "      <td>8.071056</td>\n",
       "      <td>-500.801673</td>\n",
       "      <td>4.905125</td>\n",
       "      <td>-499.828510</td>\n",
       "      <td>24.994862</td>\n",
       "      <td>-500.622559</td>\n",
       "    </tr>\n",
       "    <tr>\n",
       "      <th>3</th>\n",
       "      <td>2016-09-01 03:59:59</td>\n",
       "      <td>215.336236</td>\n",
       "      <td>12.006805</td>\n",
       "      <td>7.640000</td>\n",
       "      <td>0.863514</td>\n",
       "      <td>1399.618111</td>\n",
       "      <td>-498.863574</td>\n",
       "      <td>1397.440120</td>\n",
       "      <td>-499.211024</td>\n",
       "      <td>1400.129303</td>\n",
       "      <td>...</td>\n",
       "      <td>12.033091</td>\n",
       "      <td>-498.350935</td>\n",
       "      <td>8.074946</td>\n",
       "      <td>-499.474407</td>\n",
       "      <td>7.897085</td>\n",
       "      <td>-500.868509</td>\n",
       "      <td>4.931400</td>\n",
       "      <td>-499.963623</td>\n",
       "      <td>24.948919</td>\n",
       "      <td>-498.709987</td>\n",
       "    </tr>\n",
       "    <tr>\n",
       "      <th>4</th>\n",
       "      <td>2016-09-01 04:59:59</td>\n",
       "      <td>199.099327</td>\n",
       "      <td>10.682530</td>\n",
       "      <td>7.530000</td>\n",
       "      <td>0.805575</td>\n",
       "      <td>1401.268123</td>\n",
       "      <td>-500.808305</td>\n",
       "      <td>1398.128818</td>\n",
       "      <td>-499.504543</td>\n",
       "      <td>1402.172226</td>\n",
       "      <td>...</td>\n",
       "      <td>12.025367</td>\n",
       "      <td>-500.786497</td>\n",
       "      <td>8.054678</td>\n",
       "      <td>-500.397500</td>\n",
       "      <td>8.107890</td>\n",
       "      <td>-509.526725</td>\n",
       "      <td>4.957674</td>\n",
       "      <td>-500.360026</td>\n",
       "      <td>25.003331</td>\n",
       "      <td>-500.856333</td>\n",
       "    </tr>\n",
       "  </tbody>\n",
       "</table>\n",
       "<p>5 rows × 53 columns</p>\n",
       "</div>"
      ],
      "text/plain": [
       "                  date  primary_cleaner.input.sulfate  \\\n",
       "0  2016-09-01 00:59:59                     210.800909   \n",
       "1  2016-09-01 01:59:59                     215.392455   \n",
       "2  2016-09-01 02:59:59                     215.259946   \n",
       "3  2016-09-01 03:59:59                     215.336236   \n",
       "4  2016-09-01 04:59:59                     199.099327   \n",
       "\n",
       "   primary_cleaner.input.depressant  primary_cleaner.input.feed_size  \\\n",
       "0                         14.993118                         8.080000   \n",
       "1                         14.987471                         8.080000   \n",
       "2                         12.884934                         7.786667   \n",
       "3                         12.006805                         7.640000   \n",
       "4                         10.682530                         7.530000   \n",
       "\n",
       "   primary_cleaner.input.xanthate  primary_cleaner.state.floatbank8_a_air  \\\n",
       "0                        1.005021                             1398.981301   \n",
       "1                        0.990469                             1398.777912   \n",
       "2                        0.996043                             1398.493666   \n",
       "3                        0.863514                             1399.618111   \n",
       "4                        0.805575                             1401.268123   \n",
       "\n",
       "   primary_cleaner.state.floatbank8_a_level  \\\n",
       "0                               -500.225577   \n",
       "1                               -500.057435   \n",
       "2                               -500.868360   \n",
       "3                               -498.863574   \n",
       "4                               -500.808305   \n",
       "\n",
       "   primary_cleaner.state.floatbank8_b_air  \\\n",
       "0                             1399.144926   \n",
       "1                             1398.055362   \n",
       "2                             1398.860436   \n",
       "3                             1397.440120   \n",
       "4                             1398.128818   \n",
       "\n",
       "   primary_cleaner.state.floatbank8_b_level  \\\n",
       "0                               -499.919735   \n",
       "1                               -499.778182   \n",
       "2                               -499.764529   \n",
       "3                               -499.211024   \n",
       "4                               -499.504543   \n",
       "\n",
       "   primary_cleaner.state.floatbank8_c_air  ...  \\\n",
       "0                             1400.102998  ...   \n",
       "1                             1396.151033  ...   \n",
       "2                             1398.075709  ...   \n",
       "3                             1400.129303  ...   \n",
       "4                             1402.172226  ...   \n",
       "\n",
       "   secondary_cleaner.state.floatbank4_a_air  \\\n",
       "0                                 12.023554   \n",
       "1                                 12.058140   \n",
       "2                                 11.962366   \n",
       "3                                 12.033091   \n",
       "4                                 12.025367   \n",
       "\n",
       "   secondary_cleaner.state.floatbank4_a_level  \\\n",
       "0                                 -497.795834   \n",
       "1                                 -498.695773   \n",
       "2                                 -498.767484   \n",
       "3                                 -498.350935   \n",
       "4                                 -500.786497   \n",
       "\n",
       "   secondary_cleaner.state.floatbank4_b_air  \\\n",
       "0                                  8.016656   \n",
       "1                                  8.130979   \n",
       "2                                  8.096893   \n",
       "3                                  8.074946   \n",
       "4                                  8.054678   \n",
       "\n",
       "   secondary_cleaner.state.floatbank4_b_level  \\\n",
       "0                                 -501.289139   \n",
       "1                                 -499.634209   \n",
       "2                                 -500.827423   \n",
       "3                                 -499.474407   \n",
       "4                                 -500.397500   \n",
       "\n",
       "   secondary_cleaner.state.floatbank5_a_air  \\\n",
       "0                                  7.946562   \n",
       "1                                  7.958270   \n",
       "2                                  8.071056   \n",
       "3                                  7.897085   \n",
       "4                                  8.107890   \n",
       "\n",
       "   secondary_cleaner.state.floatbank5_a_level  \\\n",
       "0                                 -432.317850   \n",
       "1                                 -525.839648   \n",
       "2                                 -500.801673   \n",
       "3                                 -500.868509   \n",
       "4                                 -509.526725   \n",
       "\n",
       "   secondary_cleaner.state.floatbank5_b_air  \\\n",
       "0                                  4.872511   \n",
       "1                                  4.878850   \n",
       "2                                  4.905125   \n",
       "3                                  4.931400   \n",
       "4                                  4.957674   \n",
       "\n",
       "   secondary_cleaner.state.floatbank5_b_level  \\\n",
       "0                                 -500.037437   \n",
       "1                                 -500.162375   \n",
       "2                                 -499.828510   \n",
       "3                                 -499.963623   \n",
       "4                                 -500.360026   \n",
       "\n",
       "   secondary_cleaner.state.floatbank6_a_air  \\\n",
       "0                                 26.705889   \n",
       "1                                 25.019940   \n",
       "2                                 24.994862   \n",
       "3                                 24.948919   \n",
       "4                                 25.003331   \n",
       "\n",
       "   secondary_cleaner.state.floatbank6_a_level  \n",
       "0                                 -499.709414  \n",
       "1                                 -499.819438  \n",
       "2                                 -500.622559  \n",
       "3                                 -498.709987  \n",
       "4                                 -500.856333  \n",
       "\n",
       "[5 rows x 53 columns]"
      ]
     },
     "metadata": {},
     "output_type": "display_data"
    },
    {
     "name": "stdout",
     "output_type": "stream",
     "text": [
      "<class 'pandas.core.frame.DataFrame'>\n",
      "RangeIndex: 5290 entries, 0 to 5289\n",
      "Data columns (total 53 columns):\n",
      " #   Column                                      Non-Null Count  Dtype  \n",
      "---  ------                                      --------------  -----  \n",
      " 0   date                                        5290 non-null   object \n",
      " 1   primary_cleaner.input.sulfate               5286 non-null   float64\n",
      " 2   primary_cleaner.input.depressant            5285 non-null   float64\n",
      " 3   primary_cleaner.input.feed_size             5290 non-null   float64\n",
      " 4   primary_cleaner.input.xanthate              5286 non-null   float64\n",
      " 5   primary_cleaner.state.floatbank8_a_air      5290 non-null   float64\n",
      " 6   primary_cleaner.state.floatbank8_a_level    5290 non-null   float64\n",
      " 7   primary_cleaner.state.floatbank8_b_air      5290 non-null   float64\n",
      " 8   primary_cleaner.state.floatbank8_b_level    5290 non-null   float64\n",
      " 9   primary_cleaner.state.floatbank8_c_air      5290 non-null   float64\n",
      " 10  primary_cleaner.state.floatbank8_c_level    5290 non-null   float64\n",
      " 11  primary_cleaner.state.floatbank8_d_air      5290 non-null   float64\n",
      " 12  primary_cleaner.state.floatbank8_d_level    5290 non-null   float64\n",
      " 13  rougher.input.feed_ag                       5290 non-null   float64\n",
      " 14  rougher.input.feed_pb                       5290 non-null   float64\n",
      " 15  rougher.input.feed_rate                     5287 non-null   float64\n",
      " 16  rougher.input.feed_size                     5289 non-null   float64\n",
      " 17  rougher.input.feed_sol                      5269 non-null   float64\n",
      " 18  rougher.input.feed_au                       5290 non-null   float64\n",
      " 19  rougher.input.floatbank10_sulfate           5285 non-null   float64\n",
      " 20  rougher.input.floatbank10_xanthate          5290 non-null   float64\n",
      " 21  rougher.input.floatbank11_sulfate           5282 non-null   float64\n",
      " 22  rougher.input.floatbank11_xanthate          5265 non-null   float64\n",
      " 23  rougher.state.floatbank10_a_air             5290 non-null   float64\n",
      " 24  rougher.state.floatbank10_a_level           5290 non-null   float64\n",
      " 25  rougher.state.floatbank10_b_air             5290 non-null   float64\n",
      " 26  rougher.state.floatbank10_b_level           5290 non-null   float64\n",
      " 27  rougher.state.floatbank10_c_air             5290 non-null   float64\n",
      " 28  rougher.state.floatbank10_c_level           5290 non-null   float64\n",
      " 29  rougher.state.floatbank10_d_air             5290 non-null   float64\n",
      " 30  rougher.state.floatbank10_d_level           5290 non-null   float64\n",
      " 31  rougher.state.floatbank10_e_air             5290 non-null   float64\n",
      " 32  rougher.state.floatbank10_e_level           5290 non-null   float64\n",
      " 33  rougher.state.floatbank10_f_air             5290 non-null   float64\n",
      " 34  rougher.state.floatbank10_f_level           5290 non-null   float64\n",
      " 35  secondary_cleaner.state.floatbank2_a_air    5287 non-null   float64\n",
      " 36  secondary_cleaner.state.floatbank2_a_level  5290 non-null   float64\n",
      " 37  secondary_cleaner.state.floatbank2_b_air    5288 non-null   float64\n",
      " 38  secondary_cleaner.state.floatbank2_b_level  5290 non-null   float64\n",
      " 39  secondary_cleaner.state.floatbank3_a_air    5281 non-null   float64\n",
      " 40  secondary_cleaner.state.floatbank3_a_level  5290 non-null   float64\n",
      " 41  secondary_cleaner.state.floatbank3_b_air    5290 non-null   float64\n",
      " 42  secondary_cleaner.state.floatbank3_b_level  5290 non-null   float64\n",
      " 43  secondary_cleaner.state.floatbank4_a_air    5290 non-null   float64\n",
      " 44  secondary_cleaner.state.floatbank4_a_level  5290 non-null   float64\n",
      " 45  secondary_cleaner.state.floatbank4_b_air    5290 non-null   float64\n",
      " 46  secondary_cleaner.state.floatbank4_b_level  5290 non-null   float64\n",
      " 47  secondary_cleaner.state.floatbank5_a_air    5290 non-null   float64\n",
      " 48  secondary_cleaner.state.floatbank5_a_level  5290 non-null   float64\n",
      " 49  secondary_cleaner.state.floatbank5_b_air    5290 non-null   float64\n",
      " 50  secondary_cleaner.state.floatbank5_b_level  5290 non-null   float64\n",
      " 51  secondary_cleaner.state.floatbank6_a_air    5290 non-null   float64\n",
      " 52  secondary_cleaner.state.floatbank6_a_level  5290 non-null   float64\n",
      "dtypes: float64(52), object(1)\n",
      "memory usage: 2.1+ MB\n"
     ]
    },
    {
     "data": {
      "text/plain": [
       "None"
      ]
     },
     "metadata": {},
     "output_type": "display_data"
    },
    {
     "data": {
      "text/html": [
       "<div>\n",
       "<style scoped>\n",
       "    .dataframe tbody tr th:only-of-type {\n",
       "        vertical-align: middle;\n",
       "    }\n",
       "\n",
       "    .dataframe tbody tr th {\n",
       "        vertical-align: top;\n",
       "    }\n",
       "\n",
       "    .dataframe thead th {\n",
       "        text-align: right;\n",
       "    }\n",
       "</style>\n",
       "<table border=\"1\" class=\"dataframe\">\n",
       "  <thead>\n",
       "    <tr style=\"text-align: right;\">\n",
       "      <th></th>\n",
       "      <th>primary_cleaner.input.sulfate</th>\n",
       "      <th>primary_cleaner.input.depressant</th>\n",
       "      <th>primary_cleaner.input.feed_size</th>\n",
       "      <th>primary_cleaner.input.xanthate</th>\n",
       "      <th>primary_cleaner.state.floatbank8_a_air</th>\n",
       "      <th>primary_cleaner.state.floatbank8_a_level</th>\n",
       "      <th>primary_cleaner.state.floatbank8_b_air</th>\n",
       "      <th>primary_cleaner.state.floatbank8_b_level</th>\n",
       "      <th>primary_cleaner.state.floatbank8_c_air</th>\n",
       "      <th>primary_cleaner.state.floatbank8_c_level</th>\n",
       "      <th>...</th>\n",
       "      <th>secondary_cleaner.state.floatbank4_a_air</th>\n",
       "      <th>secondary_cleaner.state.floatbank4_a_level</th>\n",
       "      <th>secondary_cleaner.state.floatbank4_b_air</th>\n",
       "      <th>secondary_cleaner.state.floatbank4_b_level</th>\n",
       "      <th>secondary_cleaner.state.floatbank5_a_air</th>\n",
       "      <th>secondary_cleaner.state.floatbank5_a_level</th>\n",
       "      <th>secondary_cleaner.state.floatbank5_b_air</th>\n",
       "      <th>secondary_cleaner.state.floatbank5_b_level</th>\n",
       "      <th>secondary_cleaner.state.floatbank6_a_air</th>\n",
       "      <th>secondary_cleaner.state.floatbank6_a_level</th>\n",
       "    </tr>\n",
       "  </thead>\n",
       "  <tbody>\n",
       "    <tr>\n",
       "      <th>count</th>\n",
       "      <td>5286.000000</td>\n",
       "      <td>5285.000000</td>\n",
       "      <td>5290.000000</td>\n",
       "      <td>5286.000000</td>\n",
       "      <td>5.290000e+03</td>\n",
       "      <td>5290.000000</td>\n",
       "      <td>5.290000e+03</td>\n",
       "      <td>5290.000000</td>\n",
       "      <td>5.290000e+03</td>\n",
       "      <td>5290.000000</td>\n",
       "      <td>...</td>\n",
       "      <td>5.290000e+03</td>\n",
       "      <td>5290.000000</td>\n",
       "      <td>5.290000e+03</td>\n",
       "      <td>5290.000000</td>\n",
       "      <td>5290.000000</td>\n",
       "      <td>5290.000000</td>\n",
       "      <td>5290.000000</td>\n",
       "      <td>5290.000000</td>\n",
       "      <td>5290.000000</td>\n",
       "      <td>5290.000000</td>\n",
       "    </tr>\n",
       "    <tr>\n",
       "      <th>mean</th>\n",
       "      <td>174.839652</td>\n",
       "      <td>8.683596</td>\n",
       "      <td>7.266339</td>\n",
       "      <td>1.383803</td>\n",
       "      <td>1.539494e+03</td>\n",
       "      <td>-497.665883</td>\n",
       "      <td>1.545174e+03</td>\n",
       "      <td>-500.273098</td>\n",
       "      <td>1.527272e+03</td>\n",
       "      <td>-498.330680</td>\n",
       "      <td>...</td>\n",
       "      <td>1.632007e+01</td>\n",
       "      <td>-505.144570</td>\n",
       "      <td>1.373544e+01</td>\n",
       "      <td>-463.349858</td>\n",
       "      <td>12.804186</td>\n",
       "      <td>-501.329122</td>\n",
       "      <td>9.881145</td>\n",
       "      <td>-495.663398</td>\n",
       "      <td>17.304935</td>\n",
       "      <td>-501.793193</td>\n",
       "    </tr>\n",
       "    <tr>\n",
       "      <th>std</th>\n",
       "      <td>43.027080</td>\n",
       "      <td>3.072050</td>\n",
       "      <td>0.610219</td>\n",
       "      <td>0.643474</td>\n",
       "      <td>1.167979e+02</td>\n",
       "      <td>19.952431</td>\n",
       "      <td>1.222246e+02</td>\n",
       "      <td>32.968307</td>\n",
       "      <td>1.225380e+02</td>\n",
       "      <td>21.964876</td>\n",
       "      <td>...</td>\n",
       "      <td>3.493583e+00</td>\n",
       "      <td>31.427337</td>\n",
       "      <td>3.430484e+00</td>\n",
       "      <td>86.189107</td>\n",
       "      <td>3.026591</td>\n",
       "      <td>17.951495</td>\n",
       "      <td>2.868205</td>\n",
       "      <td>34.535007</td>\n",
       "      <td>4.536544</td>\n",
       "      <td>39.044215</td>\n",
       "    </tr>\n",
       "    <tr>\n",
       "      <th>min</th>\n",
       "      <td>2.566156</td>\n",
       "      <td>0.003839</td>\n",
       "      <td>5.650000</td>\n",
       "      <td>0.004984</td>\n",
       "      <td>5.445860e-32</td>\n",
       "      <td>-795.316337</td>\n",
       "      <td>6.647490e-32</td>\n",
       "      <td>-799.997015</td>\n",
       "      <td>4.033736e-32</td>\n",
       "      <td>-799.960571</td>\n",
       "      <td>...</td>\n",
       "      <td>1.079872e-16</td>\n",
       "      <td>-799.798523</td>\n",
       "      <td>2.489718e-17</td>\n",
       "      <td>-800.836914</td>\n",
       "      <td>0.069227</td>\n",
       "      <td>-797.323986</td>\n",
       "      <td>0.528083</td>\n",
       "      <td>-800.220337</td>\n",
       "      <td>-0.079426</td>\n",
       "      <td>-809.741464</td>\n",
       "    </tr>\n",
       "    <tr>\n",
       "      <th>25%</th>\n",
       "      <td>147.121401</td>\n",
       "      <td>6.489555</td>\n",
       "      <td>6.890000</td>\n",
       "      <td>0.907623</td>\n",
       "      <td>1.498936e+03</td>\n",
       "      <td>-500.357298</td>\n",
       "      <td>1.498971e+03</td>\n",
       "      <td>-500.703002</td>\n",
       "      <td>1.473230e+03</td>\n",
       "      <td>-501.018117</td>\n",
       "      <td>...</td>\n",
       "      <td>1.403618e+01</td>\n",
       "      <td>-500.868258</td>\n",
       "      <td>1.202862e+01</td>\n",
       "      <td>-500.323028</td>\n",
       "      <td>10.914838</td>\n",
       "      <td>-500.726841</td>\n",
       "      <td>8.036719</td>\n",
       "      <td>-500.194668</td>\n",
       "      <td>13.997317</td>\n",
       "      <td>-500.690984</td>\n",
       "    </tr>\n",
       "    <tr>\n",
       "      <th>50%</th>\n",
       "      <td>177.828489</td>\n",
       "      <td>8.052207</td>\n",
       "      <td>7.250000</td>\n",
       "      <td>1.197610</td>\n",
       "      <td>1.585129e+03</td>\n",
       "      <td>-499.969164</td>\n",
       "      <td>1.595622e+03</td>\n",
       "      <td>-500.028514</td>\n",
       "      <td>1.549595e+03</td>\n",
       "      <td>-500.017711</td>\n",
       "      <td>...</td>\n",
       "      <td>1.700847e+01</td>\n",
       "      <td>-500.115727</td>\n",
       "      <td>1.496486e+01</td>\n",
       "      <td>-499.576513</td>\n",
       "      <td>12.954182</td>\n",
       "      <td>-499.990332</td>\n",
       "      <td>10.004301</td>\n",
       "      <td>-499.990535</td>\n",
       "      <td>16.014935</td>\n",
       "      <td>-500.007126</td>\n",
       "    </tr>\n",
       "    <tr>\n",
       "      <th>75%</th>\n",
       "      <td>208.125438</td>\n",
       "      <td>10.027764</td>\n",
       "      <td>7.600000</td>\n",
       "      <td>1.797819</td>\n",
       "      <td>1.602077e+03</td>\n",
       "      <td>-499.568951</td>\n",
       "      <td>1.602324e+03</td>\n",
       "      <td>-499.293257</td>\n",
       "      <td>1.601144e+03</td>\n",
       "      <td>-498.994130</td>\n",
       "      <td>...</td>\n",
       "      <td>1.803862e+01</td>\n",
       "      <td>-499.404224</td>\n",
       "      <td>1.596213e+01</td>\n",
       "      <td>-400.933805</td>\n",
       "      <td>15.097528</td>\n",
       "      <td>-499.283191</td>\n",
       "      <td>11.997467</td>\n",
       "      <td>-499.719913</td>\n",
       "      <td>21.020013</td>\n",
       "      <td>-499.373018</td>\n",
       "    </tr>\n",
       "    <tr>\n",
       "      <th>max</th>\n",
       "      <td>265.983123</td>\n",
       "      <td>40.000000</td>\n",
       "      <td>15.500000</td>\n",
       "      <td>4.102454</td>\n",
       "      <td>2.103104e+03</td>\n",
       "      <td>-57.195404</td>\n",
       "      <td>1.813084e+03</td>\n",
       "      <td>-142.527229</td>\n",
       "      <td>1.715054e+03</td>\n",
       "      <td>-150.937035</td>\n",
       "      <td>...</td>\n",
       "      <td>3.005180e+01</td>\n",
       "      <td>-401.565212</td>\n",
       "      <td>3.126971e+01</td>\n",
       "      <td>-6.506986</td>\n",
       "      <td>25.258848</td>\n",
       "      <td>-244.483566</td>\n",
       "      <td>14.086866</td>\n",
       "      <td>-137.740004</td>\n",
       "      <td>26.705889</td>\n",
       "      <td>-123.307487</td>\n",
       "    </tr>\n",
       "  </tbody>\n",
       "</table>\n",
       "<p>8 rows × 52 columns</p>\n",
       "</div>"
      ],
      "text/plain": [
       "       primary_cleaner.input.sulfate  primary_cleaner.input.depressant  \\\n",
       "count                    5286.000000                       5285.000000   \n",
       "mean                      174.839652                          8.683596   \n",
       "std                        43.027080                          3.072050   \n",
       "min                         2.566156                          0.003839   \n",
       "25%                       147.121401                          6.489555   \n",
       "50%                       177.828489                          8.052207   \n",
       "75%                       208.125438                         10.027764   \n",
       "max                       265.983123                         40.000000   \n",
       "\n",
       "       primary_cleaner.input.feed_size  primary_cleaner.input.xanthate  \\\n",
       "count                      5290.000000                     5286.000000   \n",
       "mean                          7.266339                        1.383803   \n",
       "std                           0.610219                        0.643474   \n",
       "min                           5.650000                        0.004984   \n",
       "25%                           6.890000                        0.907623   \n",
       "50%                           7.250000                        1.197610   \n",
       "75%                           7.600000                        1.797819   \n",
       "max                          15.500000                        4.102454   \n",
       "\n",
       "       primary_cleaner.state.floatbank8_a_air  \\\n",
       "count                            5.290000e+03   \n",
       "mean                             1.539494e+03   \n",
       "std                              1.167979e+02   \n",
       "min                              5.445860e-32   \n",
       "25%                              1.498936e+03   \n",
       "50%                              1.585129e+03   \n",
       "75%                              1.602077e+03   \n",
       "max                              2.103104e+03   \n",
       "\n",
       "       primary_cleaner.state.floatbank8_a_level  \\\n",
       "count                               5290.000000   \n",
       "mean                                -497.665883   \n",
       "std                                   19.952431   \n",
       "min                                 -795.316337   \n",
       "25%                                 -500.357298   \n",
       "50%                                 -499.969164   \n",
       "75%                                 -499.568951   \n",
       "max                                  -57.195404   \n",
       "\n",
       "       primary_cleaner.state.floatbank8_b_air  \\\n",
       "count                            5.290000e+03   \n",
       "mean                             1.545174e+03   \n",
       "std                              1.222246e+02   \n",
       "min                              6.647490e-32   \n",
       "25%                              1.498971e+03   \n",
       "50%                              1.595622e+03   \n",
       "75%                              1.602324e+03   \n",
       "max                              1.813084e+03   \n",
       "\n",
       "       primary_cleaner.state.floatbank8_b_level  \\\n",
       "count                               5290.000000   \n",
       "mean                                -500.273098   \n",
       "std                                   32.968307   \n",
       "min                                 -799.997015   \n",
       "25%                                 -500.703002   \n",
       "50%                                 -500.028514   \n",
       "75%                                 -499.293257   \n",
       "max                                 -142.527229   \n",
       "\n",
       "       primary_cleaner.state.floatbank8_c_air  \\\n",
       "count                            5.290000e+03   \n",
       "mean                             1.527272e+03   \n",
       "std                              1.225380e+02   \n",
       "min                              4.033736e-32   \n",
       "25%                              1.473230e+03   \n",
       "50%                              1.549595e+03   \n",
       "75%                              1.601144e+03   \n",
       "max                              1.715054e+03   \n",
       "\n",
       "       primary_cleaner.state.floatbank8_c_level  ...  \\\n",
       "count                               5290.000000  ...   \n",
       "mean                                -498.330680  ...   \n",
       "std                                   21.964876  ...   \n",
       "min                                 -799.960571  ...   \n",
       "25%                                 -501.018117  ...   \n",
       "50%                                 -500.017711  ...   \n",
       "75%                                 -498.994130  ...   \n",
       "max                                 -150.937035  ...   \n",
       "\n",
       "       secondary_cleaner.state.floatbank4_a_air  \\\n",
       "count                              5.290000e+03   \n",
       "mean                               1.632007e+01   \n",
       "std                                3.493583e+00   \n",
       "min                                1.079872e-16   \n",
       "25%                                1.403618e+01   \n",
       "50%                                1.700847e+01   \n",
       "75%                                1.803862e+01   \n",
       "max                                3.005180e+01   \n",
       "\n",
       "       secondary_cleaner.state.floatbank4_a_level  \\\n",
       "count                                 5290.000000   \n",
       "mean                                  -505.144570   \n",
       "std                                     31.427337   \n",
       "min                                   -799.798523   \n",
       "25%                                   -500.868258   \n",
       "50%                                   -500.115727   \n",
       "75%                                   -499.404224   \n",
       "max                                   -401.565212   \n",
       "\n",
       "       secondary_cleaner.state.floatbank4_b_air  \\\n",
       "count                              5.290000e+03   \n",
       "mean                               1.373544e+01   \n",
       "std                                3.430484e+00   \n",
       "min                                2.489718e-17   \n",
       "25%                                1.202862e+01   \n",
       "50%                                1.496486e+01   \n",
       "75%                                1.596213e+01   \n",
       "max                                3.126971e+01   \n",
       "\n",
       "       secondary_cleaner.state.floatbank4_b_level  \\\n",
       "count                                 5290.000000   \n",
       "mean                                  -463.349858   \n",
       "std                                     86.189107   \n",
       "min                                   -800.836914   \n",
       "25%                                   -500.323028   \n",
       "50%                                   -499.576513   \n",
       "75%                                   -400.933805   \n",
       "max                                     -6.506986   \n",
       "\n",
       "       secondary_cleaner.state.floatbank5_a_air  \\\n",
       "count                               5290.000000   \n",
       "mean                                  12.804186   \n",
       "std                                    3.026591   \n",
       "min                                    0.069227   \n",
       "25%                                   10.914838   \n",
       "50%                                   12.954182   \n",
       "75%                                   15.097528   \n",
       "max                                   25.258848   \n",
       "\n",
       "       secondary_cleaner.state.floatbank5_a_level  \\\n",
       "count                                 5290.000000   \n",
       "mean                                  -501.329122   \n",
       "std                                     17.951495   \n",
       "min                                   -797.323986   \n",
       "25%                                   -500.726841   \n",
       "50%                                   -499.990332   \n",
       "75%                                   -499.283191   \n",
       "max                                   -244.483566   \n",
       "\n",
       "       secondary_cleaner.state.floatbank5_b_air  \\\n",
       "count                               5290.000000   \n",
       "mean                                   9.881145   \n",
       "std                                    2.868205   \n",
       "min                                    0.528083   \n",
       "25%                                    8.036719   \n",
       "50%                                   10.004301   \n",
       "75%                                   11.997467   \n",
       "max                                   14.086866   \n",
       "\n",
       "       secondary_cleaner.state.floatbank5_b_level  \\\n",
       "count                                 5290.000000   \n",
       "mean                                  -495.663398   \n",
       "std                                     34.535007   \n",
       "min                                   -800.220337   \n",
       "25%                                   -500.194668   \n",
       "50%                                   -499.990535   \n",
       "75%                                   -499.719913   \n",
       "max                                   -137.740004   \n",
       "\n",
       "       secondary_cleaner.state.floatbank6_a_air  \\\n",
       "count                               5290.000000   \n",
       "mean                                  17.304935   \n",
       "std                                    4.536544   \n",
       "min                                   -0.079426   \n",
       "25%                                   13.997317   \n",
       "50%                                   16.014935   \n",
       "75%                                   21.020013   \n",
       "max                                   26.705889   \n",
       "\n",
       "       secondary_cleaner.state.floatbank6_a_level  \n",
       "count                                 5290.000000  \n",
       "mean                                  -501.793193  \n",
       "std                                     39.044215  \n",
       "min                                   -809.741464  \n",
       "25%                                   -500.690984  \n",
       "50%                                   -500.007126  \n",
       "75%                                   -499.373018  \n",
       "max                                   -123.307487  \n",
       "\n",
       "[8 rows x 52 columns]"
      ]
     },
     "metadata": {},
     "output_type": "display_data"
    },
    {
     "name": "stdout",
     "output_type": "stream",
     "text": [
      "Дубликаты = 0\n",
      "Пропуски = 90\n"
     ]
    }
   ],
   "source": [
    "about_df(gold_recovery_test)"
   ]
  },
  {
   "cell_type": "markdown",
   "metadata": {},
   "source": [
    "- Проверьте, что эффективность обогащения рассчитана правильно. \n",
    "- Вычислите её на обучающей выборке для признака rougher.output.recovery.\n",
    "- Найдите MAE между вашими расчётами и значением признака. "
   ]
  },
  {
   "cell_type": "code",
   "execution_count": 11,
   "metadata": {},
   "outputs": [],
   "source": [
    "def recovery(C, F, T):\n",
    "    rec = ((C*(F-T)) / (F*(C-T))) * 100\n",
    "    return rec"
   ]
  },
  {
   "cell_type": "markdown",
   "metadata": {},
   "source": [
    "где:\n",
    "- C — доля золота в концентрате после флотации/очистки;\n",
    "- F — доля золота в сырье/концентрате до флотации/очистки;\n",
    "- T — доля золота в отвальных хвостах после флотации/очистки."
   ]
  },
  {
   "cell_type": "code",
   "execution_count": 12,
   "metadata": {},
   "outputs": [],
   "source": [
    "C = gold_recovery_train['rougher.output.concentrate_au']\n",
    "F = gold_recovery_train['rougher.input.feed_au']\n",
    "T = gold_recovery_train['rougher.output.tail_au']\n",
    "\n",
    "rec = recovery(C, F, T)\n"
   ]
  },
  {
   "cell_type": "code",
   "execution_count": 13,
   "metadata": {},
   "outputs": [
    {
     "name": "stdout",
     "output_type": "stream",
     "text": [
      "MAE: 9.73512347450521e-15\n"
     ]
    }
   ],
   "source": [
    "print('MAE:', mean_absolute_error(gold_recovery_train['rougher.output.recovery'], rec))"
   ]
  },
  {
   "cell_type": "markdown",
   "metadata": {},
   "source": [
    "**Эффективность обогащения рассчитана правильно**"
   ]
  },
  {
   "cell_type": "markdown",
   "metadata": {},
   "source": [
    "**Проанализируйте признаки, недоступные в тестовой выборке.**"
   ]
  },
  {
   "cell_type": "code",
   "execution_count": 14,
   "metadata": {},
   "outputs": [
    {
     "data": {
      "text/plain": [
       "{'final.output.concentrate_ag',\n",
       " 'final.output.concentrate_au',\n",
       " 'final.output.concentrate_pb',\n",
       " 'final.output.concentrate_sol',\n",
       " 'final.output.recovery',\n",
       " 'final.output.tail_ag',\n",
       " 'final.output.tail_au',\n",
       " 'final.output.tail_pb',\n",
       " 'final.output.tail_sol',\n",
       " 'primary_cleaner.output.concentrate_ag',\n",
       " 'primary_cleaner.output.concentrate_au',\n",
       " 'primary_cleaner.output.concentrate_pb',\n",
       " 'primary_cleaner.output.concentrate_sol',\n",
       " 'primary_cleaner.output.tail_ag',\n",
       " 'primary_cleaner.output.tail_au',\n",
       " 'primary_cleaner.output.tail_pb',\n",
       " 'primary_cleaner.output.tail_sol',\n",
       " 'rougher.calculation.au_pb_ratio',\n",
       " 'rougher.calculation.floatbank10_sulfate_to_au_feed',\n",
       " 'rougher.calculation.floatbank11_sulfate_to_au_feed',\n",
       " 'rougher.calculation.sulfate_to_au_concentrate',\n",
       " 'rougher.output.concentrate_ag',\n",
       " 'rougher.output.concentrate_au',\n",
       " 'rougher.output.concentrate_pb',\n",
       " 'rougher.output.concentrate_sol',\n",
       " 'rougher.output.recovery',\n",
       " 'rougher.output.tail_ag',\n",
       " 'rougher.output.tail_au',\n",
       " 'rougher.output.tail_pb',\n",
       " 'rougher.output.tail_sol',\n",
       " 'secondary_cleaner.output.tail_ag',\n",
       " 'secondary_cleaner.output.tail_au',\n",
       " 'secondary_cleaner.output.tail_pb',\n",
       " 'secondary_cleaner.output.tail_sol'}"
      ]
     },
     "execution_count": 14,
     "metadata": {},
     "output_type": "execute_result"
    }
   ],
   "source": [
    "missed_columns = set(gold_recovery_train.columns) - set(gold_recovery_test.columns)\n",
    "missed_columns"
   ]
  },
  {
   "cell_type": "markdown",
   "metadata": {},
   "source": [
    "Пропущенные параметры продукта [этап].[тип_параметра]:\n",
    "- final.output = 9, в т.ч. целевой признак final.output.recovery,\n",
    "- primary_cleaner.output = 8, \n",
    "- rougher.output = 9, в т.ч. целевой признак rougher.output.recovery,\n",
    "- secondary_cleaner.output = 4\n",
    "\n",
    "Пропущенные признаки, которые относятся к расчетным характеристикам:\n",
    "- rougher.calculation = 4"
   ]
  },
  {
   "cell_type": "code",
   "execution_count": 15,
   "metadata": {},
   "outputs": [],
   "source": [
    "# удаляем из gold_recovery_train отсутствующие столбцы кроме целевых 'final.output.recovery', 'rougher.output.recovery'\n",
    "missed_columns -= {'final.output.recovery', 'rougher.output.recovery'}\n",
    "gold_recovery_train.drop(missed_columns, axis=1, inplace=True)"
   ]
  },
  {
   "cell_type": "code",
   "execution_count": 16,
   "metadata": {},
   "outputs": [],
   "source": [
    "# date приведем к дата временному формату\n",
    "gold_recovery_full['date'] = pd.to_datetime(gold_recovery_full['date'])\n",
    "gold_recovery_train['date'] = pd.to_datetime(gold_recovery_train['date'])\n",
    "gold_recovery_test['date'] = pd.to_datetime(gold_recovery_test['date'])"
   ]
  },
  {
   "cell_type": "code",
   "execution_count": 17,
   "metadata": {},
   "outputs": [],
   "source": [
    "# добавляем в gold_recovery_test целевые столбцы 'final.output.recovery', 'rougher.output.recovery'\n",
    "gold_recovery_test = gold_recovery_test.merge(gold_recovery_full[[\n",
    "    'date', 'rougher.output.recovery', 'final.output.recovery']],\n",
    "                                              how = 'left', on = 'date')"
   ]
  },
  {
   "cell_type": "code",
   "execution_count": 18,
   "metadata": {},
   "outputs": [],
   "source": [
    "# заполняем пропуски методом backfill, т.к. соседние по времени параметры часто похожи\n",
    "\n",
    "gold_recovery_full.fillna(method='backfill', inplace=True)\n",
    "gold_recovery_train.fillna(method='backfill', inplace=True)\n",
    "gold_recovery_test.fillna(method='backfill', inplace=True)"
   ]
  },
  {
   "cell_type": "markdown",
   "metadata": {},
   "source": [
    "## Анализ данных"
   ]
  },
  {
   "cell_type": "markdown",
   "metadata": {},
   "source": [
    "**Посмотрите, как меняется концентрация металлов (Au, Ag, Pb) на различных этапах очистки.**"
   ]
  },
  {
   "cell_type": "code",
   "execution_count": 19,
   "metadata": {},
   "outputs": [
    {
     "data": {
      "text/html": [
       "<div>\n",
       "<style scoped>\n",
       "    .dataframe tbody tr th:only-of-type {\n",
       "        vertical-align: middle;\n",
       "    }\n",
       "\n",
       "    .dataframe tbody tr th {\n",
       "        vertical-align: top;\n",
       "    }\n",
       "\n",
       "    .dataframe thead th {\n",
       "        text-align: right;\n",
       "    }\n",
       "</style>\n",
       "<table border=\"1\" class=\"dataframe\">\n",
       "  <thead>\n",
       "    <tr style=\"text-align: right;\">\n",
       "      <th></th>\n",
       "      <th>Этапы</th>\n",
       "      <th>Концентрация au</th>\n",
       "    </tr>\n",
       "  </thead>\n",
       "  <tbody>\n",
       "    <tr>\n",
       "      <th>0</th>\n",
       "      <td>До флотации</td>\n",
       "      <td>8.27</td>\n",
       "    </tr>\n",
       "    <tr>\n",
       "      <th>1</th>\n",
       "      <td>После флотации</td>\n",
       "      <td>19.77</td>\n",
       "    </tr>\n",
       "    <tr>\n",
       "      <th>2</th>\n",
       "      <td>1 этапа очистки</td>\n",
       "      <td>32.12</td>\n",
       "    </tr>\n",
       "    <tr>\n",
       "      <th>3</th>\n",
       "      <td>2 этапа очистки</td>\n",
       "      <td>44.08</td>\n",
       "    </tr>\n",
       "  </tbody>\n",
       "</table>\n",
       "</div>"
      ],
      "text/plain": [
       "             Этапы  Концентрация au\n",
       "0      До флотации             8.27\n",
       "1   После флотации            19.77\n",
       "2  1 этапа очистки            32.12\n",
       "3  2 этапа очистки            44.08"
      ]
     },
     "metadata": {},
     "output_type": "display_data"
    },
    {
     "data": {
      "text/html": [
       "<div>\n",
       "<style scoped>\n",
       "    .dataframe tbody tr th:only-of-type {\n",
       "        vertical-align: middle;\n",
       "    }\n",
       "\n",
       "    .dataframe tbody tr th {\n",
       "        vertical-align: top;\n",
       "    }\n",
       "\n",
       "    .dataframe thead th {\n",
       "        text-align: right;\n",
       "    }\n",
       "</style>\n",
       "<table border=\"1\" class=\"dataframe\">\n",
       "  <thead>\n",
       "    <tr style=\"text-align: right;\">\n",
       "      <th></th>\n",
       "      <th>Этапы</th>\n",
       "      <th>Концентрация ag</th>\n",
       "    </tr>\n",
       "  </thead>\n",
       "  <tbody>\n",
       "    <tr>\n",
       "      <th>0</th>\n",
       "      <td>До флотации</td>\n",
       "      <td>8.79</td>\n",
       "    </tr>\n",
       "    <tr>\n",
       "      <th>1</th>\n",
       "      <td>После флотации</td>\n",
       "      <td>11.99</td>\n",
       "    </tr>\n",
       "    <tr>\n",
       "      <th>2</th>\n",
       "      <td>1 этапа очистки</td>\n",
       "      <td>8.44</td>\n",
       "    </tr>\n",
       "    <tr>\n",
       "      <th>3</th>\n",
       "      <td>2 этапа очистки</td>\n",
       "      <td>5.17</td>\n",
       "    </tr>\n",
       "  </tbody>\n",
       "</table>\n",
       "</div>"
      ],
      "text/plain": [
       "             Этапы  Концентрация ag\n",
       "0      До флотации             8.79\n",
       "1   После флотации            11.99\n",
       "2  1 этапа очистки             8.44\n",
       "3  2 этапа очистки             5.17"
      ]
     },
     "metadata": {},
     "output_type": "display_data"
    },
    {
     "data": {
      "text/html": [
       "<div>\n",
       "<style scoped>\n",
       "    .dataframe tbody tr th:only-of-type {\n",
       "        vertical-align: middle;\n",
       "    }\n",
       "\n",
       "    .dataframe tbody tr th {\n",
       "        vertical-align: top;\n",
       "    }\n",
       "\n",
       "    .dataframe thead th {\n",
       "        text-align: right;\n",
       "    }\n",
       "</style>\n",
       "<table border=\"1\" class=\"dataframe\">\n",
       "  <thead>\n",
       "    <tr style=\"text-align: right;\">\n",
       "      <th></th>\n",
       "      <th>Этапы</th>\n",
       "      <th>Концентрация pb</th>\n",
       "    </tr>\n",
       "  </thead>\n",
       "  <tbody>\n",
       "    <tr>\n",
       "      <th>0</th>\n",
       "      <td>До флотации</td>\n",
       "      <td>3.59</td>\n",
       "    </tr>\n",
       "    <tr>\n",
       "      <th>1</th>\n",
       "      <td>После флотации</td>\n",
       "      <td>7.61</td>\n",
       "    </tr>\n",
       "    <tr>\n",
       "      <th>2</th>\n",
       "      <td>1 этапа очистки</td>\n",
       "      <td>9.81</td>\n",
       "    </tr>\n",
       "    <tr>\n",
       "      <th>3</th>\n",
       "      <td>2 этапа очистки</td>\n",
       "      <td>9.98</td>\n",
       "    </tr>\n",
       "  </tbody>\n",
       "</table>\n",
       "</div>"
      ],
      "text/plain": [
       "             Этапы  Концентрация pb\n",
       "0      До флотации             3.59\n",
       "1   После флотации             7.61\n",
       "2  1 этапа очистки             9.81\n",
       "3  2 этапа очистки             9.98"
      ]
     },
     "metadata": {},
     "output_type": "display_data"
    }
   ],
   "source": [
    "for metall in ['au', 'ag', 'pb']:\n",
    "    df = {'Этапы':['До флотации', 'После флотации', '1 этапа очистки', '2 этапа очистки'],\n",
    "          'Концентрация '+ metall:[\n",
    "              gold_recovery_full['rougher.input.feed_' + metall].mean().round(2),\n",
    "              gold_recovery_full['rougher.output.concentrate_' + metall].mean().round(2),\n",
    "              gold_recovery_full['primary_cleaner.output.concentrate_' + metall].mean().round(2),\n",
    "              gold_recovery_full['final.output.concentrate_' + metall].mean().round(2)]}\n",
    "    display(pd.DataFrame(df))       "
   ]
  },
  {
   "cell_type": "markdown",
   "metadata": {},
   "source": [
    "- Концентрация золота и свинца увеличивается на каждом этапе очистки.  \n",
    "- Концентрация серебра снижается."
   ]
  },
  {
   "cell_type": "markdown",
   "metadata": {},
   "source": [
    "**Сравните распределения размеров гранул сырья на обучающей и тестовой выборках.**"
   ]
  },
  {
   "cell_type": "code",
   "execution_count": 20,
   "metadata": {},
   "outputs": [
    {
     "data": {
      "text/html": [
       "<div>\n",
       "<style scoped>\n",
       "    .dataframe tbody tr th:only-of-type {\n",
       "        vertical-align: middle;\n",
       "    }\n",
       "\n",
       "    .dataframe tbody tr th {\n",
       "        vertical-align: top;\n",
       "    }\n",
       "\n",
       "    .dataframe thead th {\n",
       "        text-align: right;\n",
       "    }\n",
       "</style>\n",
       "<table border=\"1\" class=\"dataframe\">\n",
       "  <thead>\n",
       "    <tr style=\"text-align: right;\">\n",
       "      <th></th>\n",
       "      <th>rougher.input.feed_size_train_sample</th>\n",
       "      <th>rougher.input.feed_size_test_sample</th>\n",
       "      <th>percent_change</th>\n",
       "    </tr>\n",
       "  </thead>\n",
       "  <tbody>\n",
       "    <tr>\n",
       "      <th>count</th>\n",
       "      <td>14149.000000</td>\n",
       "      <td>5290.000000</td>\n",
       "      <td>167.466919</td>\n",
       "    </tr>\n",
       "    <tr>\n",
       "      <th>mean</th>\n",
       "      <td>59.955950</td>\n",
       "      <td>55.952917</td>\n",
       "      <td>7.154289</td>\n",
       "    </tr>\n",
       "    <tr>\n",
       "      <th>std</th>\n",
       "      <td>23.286534</td>\n",
       "      <td>19.080412</td>\n",
       "      <td>22.044188</td>\n",
       "    </tr>\n",
       "    <tr>\n",
       "      <th>min</th>\n",
       "      <td>9.659576</td>\n",
       "      <td>0.046369</td>\n",
       "      <td>20732.060698</td>\n",
       "    </tr>\n",
       "    <tr>\n",
       "      <th>25%</th>\n",
       "      <td>48.920770</td>\n",
       "      <td>43.906504</td>\n",
       "      <td>11.420328</td>\n",
       "    </tr>\n",
       "    <tr>\n",
       "      <th>50%</th>\n",
       "      <td>55.301596</td>\n",
       "      <td>50.846843</td>\n",
       "      <td>8.761121</td>\n",
       "    </tr>\n",
       "    <tr>\n",
       "      <th>75%</th>\n",
       "      <td>65.941463</td>\n",
       "      <td>62.451165</td>\n",
       "      <td>5.588843</td>\n",
       "    </tr>\n",
       "    <tr>\n",
       "      <th>max</th>\n",
       "      <td>484.967466</td>\n",
       "      <td>392.494040</td>\n",
       "      <td>23.560466</td>\n",
       "    </tr>\n",
       "  </tbody>\n",
       "</table>\n",
       "</div>"
      ],
      "text/plain": [
       "       rougher.input.feed_size_train_sample  \\\n",
       "count                          14149.000000   \n",
       "mean                              59.955950   \n",
       "std                               23.286534   \n",
       "min                                9.659576   \n",
       "25%                               48.920770   \n",
       "50%                               55.301596   \n",
       "75%                               65.941463   \n",
       "max                              484.967466   \n",
       "\n",
       "       rougher.input.feed_size_test_sample  percent_change  \n",
       "count                          5290.000000      167.466919  \n",
       "mean                             55.952917        7.154289  \n",
       "std                              19.080412       22.044188  \n",
       "min                               0.046369    20732.060698  \n",
       "25%                              43.906504       11.420328  \n",
       "50%                              50.846843        8.761121  \n",
       "75%                              62.451165        5.588843  \n",
       "max                             392.494040       23.560466  "
      ]
     },
     "execution_count": 20,
     "metadata": {},
     "output_type": "execute_result"
    }
   ],
   "source": [
    "describe_train_test_feed_size = gold_recovery_train[['rougher.input.feed_size']].describe().join(\n",
    "    gold_recovery_test[['rougher.input.feed_size']].describe(), lsuffix='_train_sample', rsuffix='_test_sample')\n",
    "describe_train_test_feed_size['percent_change'] = (\n",
    "    describe_train_test_feed_size['rougher.input.feed_size_train_sample']/\n",
    "    describe_train_test_feed_size['rougher.input.feed_size_test_sample']-1)*100\n",
    "describe_train_test_feed_size"
   ]
  },
  {
   "cell_type": "markdown",
   "metadata": {},
   "source": [
    "median и mean в тренировочной выборке почти на 9 и 7,4 больше чем в тестовой соответственно."
   ]
  },
  {
   "cell_type": "markdown",
   "metadata": {},
   "source": [
    "**Исследуйте суммарную концентрацию всех веществ на разных стадиях: в сырье, в черновом и финальном концентратах.**"
   ]
  },
  {
   "cell_type": "code",
   "execution_count": 21,
   "metadata": {},
   "outputs": [
    {
     "data": {
      "text/html": [
       "<div>\n",
       "<style scoped>\n",
       "    .dataframe tbody tr th:only-of-type {\n",
       "        vertical-align: middle;\n",
       "    }\n",
       "\n",
       "    .dataframe tbody tr th {\n",
       "        vertical-align: top;\n",
       "    }\n",
       "\n",
       "    .dataframe thead th {\n",
       "        text-align: right;\n",
       "    }\n",
       "</style>\n",
       "<table border=\"1\" class=\"dataframe\">\n",
       "  <thead>\n",
       "    <tr style=\"text-align: right;\">\n",
       "      <th></th>\n",
       "      <th>Этапы</th>\n",
       "      <th>Концентрация au</th>\n",
       "    </tr>\n",
       "  </thead>\n",
       "  <tbody>\n",
       "    <tr>\n",
       "      <th>0</th>\n",
       "      <td>До флотации</td>\n",
       "      <td>160684.67</td>\n",
       "    </tr>\n",
       "    <tr>\n",
       "      <th>1</th>\n",
       "      <td>После флотации</td>\n",
       "      <td>384347.91</td>\n",
       "    </tr>\n",
       "    <tr>\n",
       "      <th>2</th>\n",
       "      <td>1 этапа очистки</td>\n",
       "      <td>624369.02</td>\n",
       "    </tr>\n",
       "    <tr>\n",
       "      <th>3</th>\n",
       "      <td>2 этапа очистки</td>\n",
       "      <td>856803.34</td>\n",
       "    </tr>\n",
       "  </tbody>\n",
       "</table>\n",
       "</div>"
      ],
      "text/plain": [
       "             Этапы  Концентрация au\n",
       "0      До флотации        160684.67\n",
       "1   После флотации        384347.91\n",
       "2  1 этапа очистки        624369.02\n",
       "3  2 этапа очистки        856803.34"
      ]
     },
     "metadata": {},
     "output_type": "display_data"
    },
    {
     "data": {
      "text/html": [
       "<div>\n",
       "<style scoped>\n",
       "    .dataframe tbody tr th:only-of-type {\n",
       "        vertical-align: middle;\n",
       "    }\n",
       "\n",
       "    .dataframe tbody tr th {\n",
       "        vertical-align: top;\n",
       "    }\n",
       "\n",
       "    .dataframe thead th {\n",
       "        text-align: right;\n",
       "    }\n",
       "</style>\n",
       "<table border=\"1\" class=\"dataframe\">\n",
       "  <thead>\n",
       "    <tr style=\"text-align: right;\">\n",
       "      <th></th>\n",
       "      <th>Этапы</th>\n",
       "      <th>Концентрация ag</th>\n",
       "    </tr>\n",
       "  </thead>\n",
       "  <tbody>\n",
       "    <tr>\n",
       "      <th>0</th>\n",
       "      <td>До флотации</td>\n",
       "      <td>170964.59</td>\n",
       "    </tr>\n",
       "    <tr>\n",
       "      <th>1</th>\n",
       "      <td>После флотации</td>\n",
       "      <td>233166.13</td>\n",
       "    </tr>\n",
       "    <tr>\n",
       "      <th>2</th>\n",
       "      <td>1 этапа очистки</td>\n",
       "      <td>164111.97</td>\n",
       "    </tr>\n",
       "    <tr>\n",
       "      <th>3</th>\n",
       "      <td>2 этапа очистки</td>\n",
       "      <td>100468.18</td>\n",
       "    </tr>\n",
       "  </tbody>\n",
       "</table>\n",
       "</div>"
      ],
      "text/plain": [
       "             Этапы  Концентрация ag\n",
       "0      До флотации        170964.59\n",
       "1   После флотации        233166.13\n",
       "2  1 этапа очистки        164111.97\n",
       "3  2 этапа очистки        100468.18"
      ]
     },
     "metadata": {},
     "output_type": "display_data"
    },
    {
     "data": {
      "text/html": [
       "<div>\n",
       "<style scoped>\n",
       "    .dataframe tbody tr th:only-of-type {\n",
       "        vertical-align: middle;\n",
       "    }\n",
       "\n",
       "    .dataframe tbody tr th {\n",
       "        vertical-align: top;\n",
       "    }\n",
       "\n",
       "    .dataframe thead th {\n",
       "        text-align: right;\n",
       "    }\n",
       "</style>\n",
       "<table border=\"1\" class=\"dataframe\">\n",
       "  <thead>\n",
       "    <tr style=\"text-align: right;\">\n",
       "      <th></th>\n",
       "      <th>Этапы</th>\n",
       "      <th>Концентрация pb</th>\n",
       "    </tr>\n",
       "  </thead>\n",
       "  <tbody>\n",
       "    <tr>\n",
       "      <th>0</th>\n",
       "      <td>До флотации</td>\n",
       "      <td>69705.34</td>\n",
       "    </tr>\n",
       "    <tr>\n",
       "      <th>1</th>\n",
       "      <td>После флотации</td>\n",
       "      <td>147858.33</td>\n",
       "    </tr>\n",
       "    <tr>\n",
       "      <th>2</th>\n",
       "      <td>1 этапа очистки</td>\n",
       "      <td>190704.94</td>\n",
       "    </tr>\n",
       "    <tr>\n",
       "      <th>3</th>\n",
       "      <td>2 этапа очистки</td>\n",
       "      <td>193978.22</td>\n",
       "    </tr>\n",
       "  </tbody>\n",
       "</table>\n",
       "</div>"
      ],
      "text/plain": [
       "             Этапы  Концентрация pb\n",
       "0      До флотации         69705.34\n",
       "1   После флотации        147858.33\n",
       "2  1 этапа очистки        190704.94\n",
       "3  2 этапа очистки        193978.22"
      ]
     },
     "metadata": {},
     "output_type": "display_data"
    },
    {
     "data": {
      "text/html": [
       "<div>\n",
       "<style scoped>\n",
       "    .dataframe tbody tr th:only-of-type {\n",
       "        vertical-align: middle;\n",
       "    }\n",
       "\n",
       "    .dataframe tbody tr th {\n",
       "        vertical-align: top;\n",
       "    }\n",
       "\n",
       "    .dataframe thead th {\n",
       "        text-align: right;\n",
       "    }\n",
       "</style>\n",
       "<table border=\"1\" class=\"dataframe\">\n",
       "  <thead>\n",
       "    <tr style=\"text-align: right;\">\n",
       "      <th></th>\n",
       "      <th>Этапы</th>\n",
       "      <th>Концентрация sol</th>\n",
       "    </tr>\n",
       "  </thead>\n",
       "  <tbody>\n",
       "    <tr>\n",
       "      <th>0</th>\n",
       "      <td>До флотации</td>\n",
       "      <td>712794.92</td>\n",
       "    </tr>\n",
       "    <tr>\n",
       "      <th>1</th>\n",
       "      <td>После флотации</td>\n",
       "      <td>559945.29</td>\n",
       "    </tr>\n",
       "    <tr>\n",
       "      <th>2</th>\n",
       "      <td>1 этапа очистки</td>\n",
       "      <td>202013.51</td>\n",
       "    </tr>\n",
       "    <tr>\n",
       "      <th>3</th>\n",
       "      <td>2 этапа очистки</td>\n",
       "      <td>183528.76</td>\n",
       "    </tr>\n",
       "  </tbody>\n",
       "</table>\n",
       "</div>"
      ],
      "text/plain": [
       "             Этапы  Концентрация sol\n",
       "0      До флотации         712794.92\n",
       "1   После флотации         559945.29\n",
       "2  1 этапа очистки         202013.51\n",
       "3  2 этапа очистки         183528.76"
      ]
     },
     "metadata": {},
     "output_type": "display_data"
    }
   ],
   "source": [
    "for substance in ['au', 'ag', 'pb', 'sol']:\n",
    "    df = {'Этапы':['До флотации', 'После флотации', '1 этапа очистки', '2 этапа очистки'],\n",
    "          'Концентрация '+ substance :[\n",
    "              gold_recovery_full['rougher.input.feed_' + substance ].sum().round(2),\n",
    "              gold_recovery_full['rougher.output.concentrate_' + substance ].sum().round(2),\n",
    "              gold_recovery_full['primary_cleaner.output.concentrate_' + substance ].sum().round(2),\n",
    "              gold_recovery_full['final.output.concentrate_' + substance ].sum().round(2)]}\n",
    "    display(pd.DataFrame(df))       "
   ]
  },
  {
   "cell_type": "code",
   "execution_count": 22,
   "metadata": {},
   "outputs": [
    {
     "data": {
      "text/plain": [
       "<AxesSubplot:ylabel='Frequency'>"
      ]
     },
     "execution_count": 22,
     "metadata": {},
     "output_type": "execute_result"
    },
    {
     "data": {
      "image/png": "[encoded data removed]",
      "text/plain": [
       "<Figure size 1080x720 with 1 Axes>"
      ]
     },
     "metadata": {
      "needs_background": "light"
     },
     "output_type": "display_data"
    }
   ],
   "source": [
    "data = {'До флотации':gold_recovery_full['rougher.input.feed_au'] +\n",
    "                      gold_recovery_full['rougher.input.feed_ag'] +\n",
    "                      gold_recovery_full['rougher.input.feed_pb'] +\n",
    "                      gold_recovery_full['rougher.input.feed_sol'],\n",
    "      \n",
    "      'После флотации':gold_recovery_full['rougher.output.concentrate_au'] +\n",
    "                       gold_recovery_full['rougher.output.concentrate_ag'] +\n",
    "                       gold_recovery_full['rougher.output.concentrate_pb'] +\n",
    "                       gold_recovery_full['rougher.output.concentrate_sol'],\n",
    "      \n",
    "      '1 этапа очистки':gold_recovery_full['primary_cleaner.output.concentrate_au'] +\n",
    "                        gold_recovery_full['primary_cleaner.output.concentrate_ag'] +\n",
    "                        gold_recovery_full['primary_cleaner.output.concentrate_pb'] +\n",
    "                        gold_recovery_full['primary_cleaner.output.concentrate_sol'],\n",
    "      \n",
    "      '2 этапа очистки':gold_recovery_full['final.output.concentrate_au'] +\n",
    "                        gold_recovery_full['final.output.concentrate_ag'] +\n",
    "                        gold_recovery_full['final.output.concentrate_pb'] +\n",
    "                        gold_recovery_full['final.output.concentrate_sol']\n",
    "     }\n",
    "                         \n",
    "                    \n",
    "        \n",
    "df = pd.DataFrame(data) \n",
    "\n",
    "df.head()\n",
    "\n",
    "df.plot(kind='hist', figsize=(15,10), bins = 200)"
   ]
  },
  {
   "cell_type": "markdown",
   "metadata": {},
   "source": [
    "## Модель"
   ]
  },
  {
   "cell_type": "markdown",
   "metadata": {},
   "source": [
    "**Напишите функцию для вычисления итоговой sMAPE.**"
   ]
  },
  {
   "cell_type": "code",
   "execution_count": 23,
   "metadata": {},
   "outputs": [],
   "source": [
    "def smape(target, predictions):\n",
    "    return (1 / len(target) ) * (abs(predictions - target) / ((abs(target) + abs(predictions)) / 2)).sum() * 100"
   ]
  },
  {
   "cell_type": "code",
   "execution_count": 24,
   "metadata": {},
   "outputs": [],
   "source": [
    "def final_smape(smape_rougher, smape_final):\n",
    "    return 0.25 * smape_rougher + 0.75 * smape_final"
   ]
  },
  {
   "cell_type": "code",
   "execution_count": 25,
   "metadata": {},
   "outputs": [],
   "source": [
    "custom_scorer = make_scorer(smape, greater_is_better=False)"
   ]
  },
  {
   "cell_type": "markdown",
   "metadata": {},
   "source": [
    "**Разделение выборок и масштабирование признаков:**"
   ]
  },
  {
   "cell_type": "code",
   "execution_count": 26,
   "metadata": {},
   "outputs": [],
   "source": [
    "def split(df):\n",
    "    features = df.drop(['date', 'rougher.output.recovery', 'final.output.recovery'] , axis=1)\n",
    "    target = df[['rougher.output.recovery', 'final.output.recovery']]\n",
    "\n",
    "    scaler = StandardScaler()\n",
    "    scaler.fit(features[features.columns])\n",
    "    features[features.columns] = scaler.transform(features[features.columns])\n",
    "    \n",
    "    return features, target"
   ]
  },
  {
   "cell_type": "code",
   "execution_count": 27,
   "metadata": {},
   "outputs": [
    {
     "name": "stdout",
     "output_type": "stream",
     "text": [
      "(14149, 52)\n"
     ]
    }
   ],
   "source": [
    "pd.options.mode.chained_assignment = None\n",
    "features_train, target_train = split(gold_recovery_train)\n",
    "print(features_train.shape)"
   ]
  },
  {
   "cell_type": "code",
   "execution_count": 28,
   "metadata": {},
   "outputs": [
    {
     "name": "stdout",
     "output_type": "stream",
     "text": [
      "(5290, 52)\n"
     ]
    }
   ],
   "source": [
    "pd.options.mode.chained_assignment = None\n",
    "features_test, target_test = split(gold_recovery_test)\n",
    "print(features_test.shape)"
   ]
  },
  {
   "cell_type": "markdown",
   "metadata": {},
   "source": [
    "**Обучите разные модели и оцените их качество кросс-валидацией.**"
   ]
  },
  {
   "cell_type": "code",
   "execution_count": 29,
   "metadata": {
    "scrolled": false
   },
   "outputs": [],
   "source": [
    "def cross_val(model, features, target, rougher_stage, final_stage):\n",
    "    rougher_scores = cross_val_score(model, features, target[rougher_stage+'.output.recovery'], scoring=custom_scorer)\n",
    "    final_scores = cross_val_score(model, features, target[final_stage+'.output.recovery'], scoring=custom_scorer)\n",
    "    rougher_score = pd.Series(rougher_scores).mean()\n",
    "    final_score = pd.Series(final_scores).mean()\n",
    "    print(model)\n",
    "    print('rougher_score =', rougher_score)\n",
    "    print('final_score =', final_score)"
   ]
  },
  {
   "cell_type": "code",
   "execution_count": 27,
   "metadata": {},
   "outputs": [
    {
     "name": "stdout",
     "output_type": "stream",
     "text": [
      "LinearRegression()\n",
      "rougher_score = -12.612320871397838\n",
      "final_score = -12.199823507661952\n"
     ]
    }
   ],
   "source": [
    "cross_val(LinearRegression(), features_train, target_train, 'rougher', 'final')"
   ]
  },
  {
   "cell_type": "code",
   "execution_count": 28,
   "metadata": {},
   "outputs": [
    {
     "name": "stdout",
     "output_type": "stream",
     "text": [
      "RandomForestRegressor(max_depth=10)\n",
      "rougher_score = -12.023583260519013\n",
      "final_score = -11.301357124561823\n"
     ]
    }
   ],
   "source": [
    "cross_val(RandomForestRegressor(max_depth = 10), features_train, target_train, 'rougher', 'final')"
   ]
  },
  {
   "cell_type": "markdown",
   "metadata": {},
   "source": [
    "**Лучший результат final_smape у RandomForestRegressor.**"
   ]
  },
  {
   "cell_type": "markdown",
   "metadata": {},
   "source": [
    "**Подбор гиперпараметров и обучение лучшей модели.**"
   ]
  },
  {
   "cell_type": "code",
   "execution_count": 29,
   "metadata": {},
   "outputs": [],
   "source": [
    "params_RandomForestRegressor = {'n_estimators':[1, 100], 'max_depth':[1, 10]}"
   ]
  },
  {
   "cell_type": "code",
   "execution_count": 30,
   "metadata": {},
   "outputs": [],
   "source": [
    "gscv_rougher = GridSearchCV(RandomForestRegressor(), param_grid = params_RandomForestRegressor, scoring=custom_scorer)\n",
    "gscv_final = GridSearchCV(RandomForestRegressor(), param_grid = params_RandomForestRegressor, scoring=custom_scorer)"
   ]
  },
  {
   "cell_type": "code",
   "execution_count": null,
   "metadata": {},
   "outputs": [
    {
     "name": "stdout",
     "output_type": "stream",
     "text": [
      " 56%|█████▌    | 28/50 [07:11<05:56, 16.23s/trial, best loss: 6.086328395433862]"
     ]
    }
   ],
   "source": [
    "seed=2\n",
    "def objective(params):\n",
    "    \n",
    "    est=int(params['n_estimators'])\n",
    "    md=int(params['max_depth'])\n",
    "    msl=int(params['min_samples_leaf'])\n",
    "    mss=int(params['min_samples_split'])\n",
    "    \n",
    "    model=RandomForestRegressor(n_estimators=est,max_depth=md,min_samples_leaf=msl,min_samples_split=mss)\n",
    "    model.fit(features_train, target_train['rougher.output.recovery'])\n",
    "    pred=model.predict(features_train)\n",
    "    score=smape(target_train['rougher.output.recovery'],pred)\n",
    "    return score\n",
    "\n",
    "def optimize(trial):\n",
    "    params={'n_estimators':hp.uniform('n_estimators',10, 50),\n",
    "           'max_depth':hp.uniform('max_depth',5,20),\n",
    "           'min_samples_leaf':hp.uniform('min_samples_leaf',1,5),\n",
    "           'min_samples_split':hp.uniform('min_samples_split',2,6)}\n",
    "    \n",
    "    best=fmin(fn=objective,space=params,algo=tpe.suggest,trials=trial,max_evals=50,rstate=np.random.default_rng(seed))\n",
    "    \n",
    "    return best\n",
    "\n",
    "trial=Trials()\n",
    "best=optimize(trial)"
   ]
  },
  {
   "cell_type": "code",
   "execution_count": 31,
   "metadata": {},
   "outputs": [
    {
     "data": {
      "text/plain": [
       "GridSearchCV(estimator=RandomForestRegressor(),\n",
       "             param_grid={'max_depth': [1, 10], 'n_estimators': [1, 100]},\n",
       "             scoring=make_scorer(smape, greater_is_better=False))"
      ]
     },
     "execution_count": 31,
     "metadata": {},
     "output_type": "execute_result"
    }
   ],
   "source": [
    "gscv_rougher.fit(features_train, target_train['rougher.output.recovery'])\n",
    "gscv_final.fit(features_train, target_train['final.output.recovery'])"
   ]
  },
  {
   "cell_type": "code",
   "execution_count": 32,
   "metadata": {},
   "outputs": [
    {
     "name": "stdout",
     "output_type": "stream",
     "text": [
      "RandomForestRegressor(max_depth=10)\n",
      "RandomForestRegressor(max_depth=1)\n"
     ]
    }
   ],
   "source": [
    "print(gscv_rougher.best_estimator_)\n",
    "print(gscv_final.best_estimator_)"
   ]
  },
  {
   "cell_type": "code",
   "execution_count": 33,
   "metadata": {},
   "outputs": [],
   "source": [
    "train_rougher_predictions = gscv_rougher.predict(features_train)\n",
    "train_final_predictions = gscv_final.predict(features_train)"
   ]
  },
  {
   "cell_type": "code",
   "execution_count": 34,
   "metadata": {},
   "outputs": [
    {
     "data": {
      "text/plain": [
       "9.509211195580644"
      ]
     },
     "execution_count": 34,
     "metadata": {},
     "output_type": "execute_result"
    }
   ],
   "source": [
    "final_smape(smape(target_train['rougher.output.recovery'], train_rougher_predictions),\n",
    "            smape(target_train['final.output.recovery'], train_final_predictions))"
   ]
  },
  {
   "cell_type": "markdown",
   "metadata": {},
   "source": [
    "**Проверка лучшей модели на тестовой выборке**"
   ]
  },
  {
   "cell_type": "code",
   "execution_count": 35,
   "metadata": {},
   "outputs": [],
   "source": [
    "test_rougher_predictions = gscv_rougher.predict(features_test)\n",
    "test_final_predictions = gscv_final.predict(features_test)"
   ]
  },
  {
   "cell_type": "code",
   "execution_count": 36,
   "metadata": {
    "scrolled": true
   },
   "outputs": [
    {
     "data": {
      "text/plain": [
       "10.29597465154636"
      ]
     },
     "execution_count": 36,
     "metadata": {},
     "output_type": "execute_result"
    }
   ],
   "source": [
    "final_smape(smape(target_test['rougher.output.recovery'], test_rougher_predictions),\n",
    "            smape(target_test['final.output.recovery'], test_final_predictions))"
   ]
  },
  {
   "cell_type": "markdown",
   "metadata": {},
   "source": [
    "**Dummy model**"
   ]
  },
  {
   "cell_type": "code",
   "execution_count": 63,
   "metadata": {},
   "outputs": [
    {
     "data": {
      "text/plain": [
       "DummyRegressor(strategy='median')"
      ]
     },
     "execution_count": 63,
     "metadata": {},
     "output_type": "execute_result"
    }
   ],
   "source": [
    "dummy_rougher = DummyRegressor(strategy='median')\n",
    "dummy_final = DummyRegressor(strategy='median')\n",
    "\n",
    "dummy_rougher.fit(features_train, target_train['rougher.output.recovery'])\n",
    "dummy_final.fit(features_train, target_train['final.output.recovery'])"
   ]
  },
  {
   "cell_type": "markdown",
   "metadata": {},
   "source": [
    "**Проверка на тестовой выборке**"
   ]
  },
  {
   "cell_type": "code",
   "execution_count": 64,
   "metadata": {},
   "outputs": [
    {
     "data": {
      "text/plain": [
       "9.479919198122861"
      ]
     },
     "execution_count": 64,
     "metadata": {},
     "output_type": "execute_result"
    }
   ],
   "source": [
    "dummy_rougher_test_predictions = dummy_rougher.predict(features_test)\n",
    "dummy_final_test_predictions = dummy_final.predict(features_test)\n",
    "\n",
    "final_smape(smape(target_test['rougher.output.recovery'], dummy_rougher_test_predictions),\n",
    "            smape(target_test['final.output.recovery'], dummy_final_test_predictions))"
   ]
  },
  {
   "cell_type": "markdown",
   "metadata": {},
   "source": [
    "**Вывод**\n",
    "\n",
    "- Эффективность обогащения рассчитана правильно\n",
    "- Концентрация золота и свинца увеличивается на каждом этапе очистки.  \n",
    "- Концентрация серебра снижается.\n",
    "- Финальная модель RandomForest\n",
    "- Значение final_smape на тестовой выборке = 9.82"
   ]
  },
  {
   "cell_type": "markdown",
   "metadata": {},
   "source": [
    "## Чек-лист готовности проекта"
   ]
  },
  {
   "cell_type": "markdown",
   "metadata": {},
   "source": [
    "- [x]  Jupyter Notebook открыт\n",
    "- [x]  Весь код выполняется без ошибок\n",
    "- [x]  Ячейки с кодом расположены в порядке выполнения\n",
    "- [x]  Выполнен шаг 1: данные подготовлены\n",
    "    - [x]  Проверена формула вычисления эффективности обогащения\n",
    "    - [x]  Проанализированы признаки, недоступные в тестовой выборке\n",
    "    - [x]  Проведена предобработка данных\n",
    "- [x]  Выполнен шаг 2: данные проанализированы\n",
    "    - [x]  Исследовано изменение концентрации элементов на каждом этапе\n",
    "    - [x]  Проанализированы распределения размеров гранул на обучающей и тестовой выборках\n",
    "    - [x]  Исследованы суммарные концентрации\n",
    "- [x]  Выполнен шаг 3: построена модель прогнозирования\n",
    "    - [x]  Написана функция для вычисления итогового *sMAPE*\n",
    "    - [x]  Обучено и проверено несколько моделей\n",
    "    - [x]  Выбрана лучшая модель, её качество проверено на тестовой выборке"
   ]
  }
 ],
 "metadata": {
  "ExecuteTimeLog": [
   {
    "duration": 649,
    "start_time": "2022-05-24T08:38:09.517Z"
   },
   {
    "duration": 1057,
    "start_time": "2022-05-24T08:39:12.964Z"
   },
   {
    "duration": 56,
    "start_time": "2022-05-24T08:43:26.661Z"
   },
   {
    "duration": 7,
    "start_time": "2022-05-24T08:43:56.780Z"
   },
   {
    "duration": 2232,
    "start_time": "2022-05-24T08:43:57.999Z"
   },
   {
    "duration": 457,
    "start_time": "2022-05-24T08:44:37.816Z"
   },
   {
    "duration": 829,
    "start_time": "2022-05-24T08:45:01.863Z"
   },
   {
    "duration": 3,
    "start_time": "2022-05-24T09:01:18.968Z"
   },
   {
    "duration": 355,
    "start_time": "2022-05-24T09:04:09.481Z"
   },
   {
    "duration": 70,
    "start_time": "2022-05-24T09:04:09.980Z"
   },
   {
    "duration": 261,
    "start_time": "2022-05-24T09:04:11.080Z"
   },
   {
    "duration": 3,
    "start_time": "2022-05-24T09:04:13.797Z"
   },
   {
    "duration": 349,
    "start_time": "2022-05-24T09:04:41.328Z"
   },
   {
    "duration": 400,
    "start_time": "2022-05-24T09:09:10.472Z"
   },
   {
    "duration": 161,
    "start_time": "2022-05-24T09:09:45.434Z"
   },
   {
    "duration": 3,
    "start_time": "2022-05-24T09:46:44.034Z"
   },
   {
    "duration": 28,
    "start_time": "2022-05-24T09:47:39.909Z"
   },
   {
    "duration": 443,
    "start_time": "2022-05-24T10:09:25.207Z"
   },
   {
    "duration": 12,
    "start_time": "2022-05-24T10:16:49.331Z"
   },
   {
    "duration": 46,
    "start_time": "2022-05-24T10:17:54.331Z"
   },
   {
    "duration": 4,
    "start_time": "2022-05-24T10:18:05.207Z"
   },
   {
    "duration": 4,
    "start_time": "2022-05-24T10:21:05.410Z"
   },
   {
    "duration": 5,
    "start_time": "2022-05-24T10:23:38.480Z"
   },
   {
    "duration": 49,
    "start_time": "2022-05-24T10:26:55.087Z"
   },
   {
    "duration": 37,
    "start_time": "2022-05-24T10:27:07.230Z"
   },
   {
    "duration": 7,
    "start_time": "2022-05-24T10:27:19.205Z"
   },
   {
    "duration": 7,
    "start_time": "2022-05-24T10:27:43.420Z"
   },
   {
    "duration": 6,
    "start_time": "2022-05-24T10:28:01.297Z"
   },
   {
    "duration": 45,
    "start_time": "2022-05-24T10:33:51.565Z"
   },
   {
    "duration": 4,
    "start_time": "2022-05-24T11:02:24.907Z"
   },
   {
    "duration": 9,
    "start_time": "2022-05-25T06:57:28.052Z"
   },
   {
    "duration": 1994,
    "start_time": "2022-05-25T06:57:34.253Z"
   },
   {
    "duration": 1866,
    "start_time": "2022-05-25T06:57:36.250Z"
   },
   {
    "duration": 363,
    "start_time": "2022-05-25T06:57:38.118Z"
   },
   {
    "duration": 791,
    "start_time": "2022-05-25T06:57:38.482Z"
   },
   {
    "duration": 3,
    "start_time": "2022-05-25T06:57:39.275Z"
   },
   {
    "duration": 4,
    "start_time": "2022-05-25T06:57:44.943Z"
   },
   {
    "duration": 402,
    "start_time": "2022-05-25T06:57:47.844Z"
   },
   {
    "duration": 3,
    "start_time": "2022-05-25T06:58:23.113Z"
   },
   {
    "duration": 387,
    "start_time": "2022-05-25T06:58:23.641Z"
   },
   {
    "duration": 3,
    "start_time": "2022-05-25T06:59:09.410Z"
   },
   {
    "duration": 354,
    "start_time": "2022-05-25T06:59:10.043Z"
   },
   {
    "duration": 4,
    "start_time": "2022-05-25T06:59:26.993Z"
   },
   {
    "duration": 396,
    "start_time": "2022-05-25T06:59:28.010Z"
   },
   {
    "duration": 5,
    "start_time": "2022-05-25T06:59:53.945Z"
   },
   {
    "duration": 382,
    "start_time": "2022-05-25T06:59:54.669Z"
   },
   {
    "duration": 3,
    "start_time": "2022-05-25T07:00:05.158Z"
   },
   {
    "duration": 375,
    "start_time": "2022-05-25T07:00:06.089Z"
   },
   {
    "duration": 398,
    "start_time": "2022-05-25T07:00:11.791Z"
   },
   {
    "duration": 170,
    "start_time": "2022-05-25T07:00:24.870Z"
   },
   {
    "duration": 15,
    "start_time": "2022-05-25T07:05:14.248Z"
   },
   {
    "duration": 79,
    "start_time": "2022-05-25T11:57:01.804Z"
   },
   {
    "duration": 1943,
    "start_time": "2022-05-25T11:57:09.125Z"
   },
   {
    "duration": 597,
    "start_time": "2022-05-25T11:57:11.070Z"
   },
   {
    "duration": 165,
    "start_time": "2022-05-25T11:57:11.669Z"
   },
   {
    "duration": 1252,
    "start_time": "2022-05-25T11:57:11.836Z"
   },
   {
    "duration": 3,
    "start_time": "2022-05-25T11:57:13.090Z"
   },
   {
    "duration": 413,
    "start_time": "2022-05-25T11:57:13.095Z"
   },
   {
    "duration": 397,
    "start_time": "2022-05-25T11:57:13.509Z"
   },
   {
    "duration": 193,
    "start_time": "2022-05-25T11:57:13.908Z"
   },
   {
    "duration": 3,
    "start_time": "2022-05-25T11:57:14.103Z"
   },
   {
    "duration": 8,
    "start_time": "2022-05-25T11:57:14.108Z"
   },
   {
    "duration": 6,
    "start_time": "2022-05-25T11:57:14.117Z"
   },
   {
    "duration": 36,
    "start_time": "2022-05-25T11:57:14.124Z"
   },
   {
    "duration": 15,
    "start_time": "2022-05-25T11:57:14.162Z"
   },
   {
    "duration": 10,
    "start_time": "2022-05-25T11:57:22.377Z"
   },
   {
    "duration": 16,
    "start_time": "2022-05-25T11:58:07.953Z"
   },
   {
    "duration": 38,
    "start_time": "2022-05-25T12:08:14.550Z"
   },
   {
    "duration": 14,
    "start_time": "2022-05-25T12:11:32.278Z"
   },
   {
    "duration": 25,
    "start_time": "2022-05-25T12:12:21.535Z"
   },
   {
    "duration": 19,
    "start_time": "2022-05-25T12:12:31.421Z"
   },
   {
    "duration": 25,
    "start_time": "2022-05-25T12:13:15.932Z"
   },
   {
    "duration": 21,
    "start_time": "2022-05-25T12:13:30.701Z"
   },
   {
    "duration": 30,
    "start_time": "2022-05-25T12:13:39.873Z"
   },
   {
    "duration": 19,
    "start_time": "2022-05-25T12:13:47.309Z"
   },
   {
    "duration": 718,
    "start_time": "2022-05-25T12:14:47.016Z"
   },
   {
    "duration": 19,
    "start_time": "2022-05-25T12:15:11.932Z"
   },
   {
    "duration": 18,
    "start_time": "2022-05-25T12:15:46.634Z"
   },
   {
    "duration": 20,
    "start_time": "2022-05-25T12:16:51.601Z"
   },
   {
    "duration": 23,
    "start_time": "2022-05-25T12:20:25.324Z"
   },
   {
    "duration": 21,
    "start_time": "2022-05-25T12:35:38.549Z"
   },
   {
    "duration": 9,
    "start_time": "2022-05-25T12:38:03.127Z"
   },
   {
    "duration": 11,
    "start_time": "2022-05-25T12:38:30.200Z"
   },
   {
    "duration": 17,
    "start_time": "2022-05-25T12:43:11.682Z"
   },
   {
    "duration": 27,
    "start_time": "2022-05-25T12:43:20.399Z"
   },
   {
    "duration": 20,
    "start_time": "2022-05-25T12:44:18.786Z"
   },
   {
    "duration": 15,
    "start_time": "2022-05-25T12:47:04.640Z"
   },
   {
    "duration": 15,
    "start_time": "2022-05-25T12:48:19.198Z"
   },
   {
    "duration": 17,
    "start_time": "2022-05-25T12:49:55.285Z"
   },
   {
    "duration": 14,
    "start_time": "2022-05-25T12:50:21.377Z"
   },
   {
    "duration": 19,
    "start_time": "2022-05-25T12:52:43.303Z"
   },
   {
    "duration": 14,
    "start_time": "2022-05-25T13:04:01.336Z"
   },
   {
    "duration": 20,
    "start_time": "2022-05-25T13:04:12.782Z"
   },
   {
    "duration": 27,
    "start_time": "2022-05-25T13:06:41.617Z"
   },
   {
    "duration": 23,
    "start_time": "2022-05-25T13:06:59.726Z"
   },
   {
    "duration": 25,
    "start_time": "2022-05-25T13:12:03.268Z"
   },
   {
    "duration": 1821,
    "start_time": "2022-05-25T15:07:22.456Z"
   },
   {
    "duration": 586,
    "start_time": "2022-05-25T15:07:24.279Z"
   },
   {
    "duration": 149,
    "start_time": "2022-05-25T15:07:24.866Z"
   },
   {
    "duration": 1252,
    "start_time": "2022-05-25T15:07:25.017Z"
   },
   {
    "duration": 3,
    "start_time": "2022-05-25T15:07:26.271Z"
   },
   {
    "duration": 379,
    "start_time": "2022-05-25T15:07:26.275Z"
   },
   {
    "duration": 367,
    "start_time": "2022-05-25T15:07:26.655Z"
   },
   {
    "duration": 164,
    "start_time": "2022-05-25T15:07:27.024Z"
   },
   {
    "duration": 13,
    "start_time": "2022-05-25T15:07:27.189Z"
   },
   {
    "duration": 5,
    "start_time": "2022-05-25T15:07:27.203Z"
   },
   {
    "duration": 4,
    "start_time": "2022-05-25T15:07:27.210Z"
   },
   {
    "duration": 5,
    "start_time": "2022-05-25T15:07:27.215Z"
   },
   {
    "duration": 15,
    "start_time": "2022-05-25T15:07:27.222Z"
   },
   {
    "duration": 18,
    "start_time": "2022-05-25T15:07:27.239Z"
   },
   {
    "duration": 44,
    "start_time": "2022-05-25T15:07:27.259Z"
   },
   {
    "duration": 25,
    "start_time": "2022-05-25T15:07:30.057Z"
   },
   {
    "duration": 10,
    "start_time": "2022-05-26T05:15:47.398Z"
   },
   {
    "duration": 40,
    "start_time": "2022-05-26T05:22:30.211Z"
   },
   {
    "duration": 3,
    "start_time": "2022-05-26T05:22:41.012Z"
   },
   {
    "duration": 49,
    "start_time": "2022-05-26T06:38:52.981Z"
   },
   {
    "duration": 2223,
    "start_time": "2022-05-26T06:39:02.149Z"
   },
   {
    "duration": 1937,
    "start_time": "2022-05-26T06:39:04.375Z"
   },
   {
    "duration": 372,
    "start_time": "2022-05-26T06:39:06.314Z"
   },
   {
    "duration": 852,
    "start_time": "2022-05-26T06:39:06.689Z"
   },
   {
    "duration": 3,
    "start_time": "2022-05-26T06:39:07.543Z"
   },
   {
    "duration": 387,
    "start_time": "2022-05-26T06:39:07.548Z"
   },
   {
    "duration": 400,
    "start_time": "2022-05-26T06:39:07.936Z"
   },
   {
    "duration": 208,
    "start_time": "2022-05-26T06:39:08.338Z"
   },
   {
    "duration": 4,
    "start_time": "2022-05-26T06:39:08.548Z"
   },
   {
    "duration": 11,
    "start_time": "2022-05-26T06:39:08.555Z"
   },
   {
    "duration": 5,
    "start_time": "2022-05-26T06:39:08.567Z"
   },
   {
    "duration": 9,
    "start_time": "2022-05-26T06:39:08.574Z"
   },
   {
    "duration": 106,
    "start_time": "2022-05-26T06:39:08.584Z"
   },
   {
    "duration": 0,
    "start_time": "2022-05-26T06:39:08.692Z"
   },
   {
    "duration": 0,
    "start_time": "2022-05-26T06:39:08.694Z"
   },
   {
    "duration": 0,
    "start_time": "2022-05-26T06:39:08.695Z"
   },
   {
    "duration": 0,
    "start_time": "2022-05-26T06:39:08.697Z"
   },
   {
    "duration": 0,
    "start_time": "2022-05-26T06:39:08.698Z"
   },
   {
    "duration": 0,
    "start_time": "2022-05-26T06:39:08.699Z"
   },
   {
    "duration": 0,
    "start_time": "2022-05-26T06:39:08.701Z"
   },
   {
    "duration": 1,
    "start_time": "2022-05-26T06:39:08.702Z"
   },
   {
    "duration": 6,
    "start_time": "2022-05-26T06:41:18.509Z"
   },
   {
    "duration": 13,
    "start_time": "2022-05-26T06:41:22.364Z"
   },
   {
    "duration": 403,
    "start_time": "2022-05-26T06:41:28.393Z"
   },
   {
    "duration": 22,
    "start_time": "2022-05-26T06:52:02.747Z"
   },
   {
    "duration": 21,
    "start_time": "2022-05-26T06:52:43.447Z"
   },
   {
    "duration": 26,
    "start_time": "2022-05-26T06:53:41.620Z"
   },
   {
    "duration": 14,
    "start_time": "2022-05-26T07:43:34.140Z"
   },
   {
    "duration": 6,
    "start_time": "2022-05-26T07:44:05.944Z"
   },
   {
    "duration": 399,
    "start_time": "2022-05-26T07:44:05.952Z"
   },
   {
    "duration": 84,
    "start_time": "2022-05-26T07:44:06.354Z"
   },
   {
    "duration": 262,
    "start_time": "2022-05-26T07:44:06.440Z"
   },
   {
    "duration": 4,
    "start_time": "2022-05-26T07:44:06.704Z"
   },
   {
    "duration": 418,
    "start_time": "2022-05-26T07:44:06.709Z"
   },
   {
    "duration": 409,
    "start_time": "2022-05-26T07:44:07.129Z"
   },
   {
    "duration": 180,
    "start_time": "2022-05-26T07:44:07.540Z"
   },
   {
    "duration": 8,
    "start_time": "2022-05-26T07:44:07.721Z"
   },
   {
    "duration": 27,
    "start_time": "2022-05-26T07:44:07.731Z"
   },
   {
    "duration": 16,
    "start_time": "2022-05-26T07:44:07.759Z"
   },
   {
    "duration": 20,
    "start_time": "2022-05-26T07:44:07.776Z"
   },
   {
    "duration": 6,
    "start_time": "2022-05-26T07:44:11.266Z"
   },
   {
    "duration": 4,
    "start_time": "2022-05-26T07:44:38.284Z"
   },
   {
    "duration": 5,
    "start_time": "2022-05-26T07:45:49.797Z"
   },
   {
    "duration": 4,
    "start_time": "2022-05-26T07:46:00.121Z"
   },
   {
    "duration": 7,
    "start_time": "2022-05-26T07:53:54.767Z"
   },
   {
    "duration": 378,
    "start_time": "2022-05-26T07:53:54.776Z"
   },
   {
    "duration": 70,
    "start_time": "2022-05-26T07:53:55.156Z"
   },
   {
    "duration": 248,
    "start_time": "2022-05-26T07:53:55.228Z"
   },
   {
    "duration": 4,
    "start_time": "2022-05-26T07:53:55.478Z"
   },
   {
    "duration": 399,
    "start_time": "2022-05-26T07:53:55.483Z"
   },
   {
    "duration": 404,
    "start_time": "2022-05-26T07:53:55.883Z"
   },
   {
    "duration": 240,
    "start_time": "2022-05-26T07:53:56.289Z"
   },
   {
    "duration": 3,
    "start_time": "2022-05-26T07:53:56.531Z"
   },
   {
    "duration": 10,
    "start_time": "2022-05-26T07:53:56.535Z"
   },
   {
    "duration": 10,
    "start_time": "2022-05-26T07:53:56.546Z"
   },
   {
    "duration": 4,
    "start_time": "2022-05-26T07:54:00.375Z"
   },
   {
    "duration": 3,
    "start_time": "2022-05-26T07:55:28.344Z"
   },
   {
    "duration": 10,
    "start_time": "2022-05-26T07:55:48.973Z"
   },
   {
    "duration": 7,
    "start_time": "2022-05-26T07:56:11.179Z"
   },
   {
    "duration": 369,
    "start_time": "2022-05-26T07:56:11.188Z"
   },
   {
    "duration": 88,
    "start_time": "2022-05-26T07:56:11.559Z"
   },
   {
    "duration": 273,
    "start_time": "2022-05-26T07:56:11.649Z"
   },
   {
    "duration": 4,
    "start_time": "2022-05-26T07:56:11.925Z"
   },
   {
    "duration": 387,
    "start_time": "2022-05-26T07:56:11.930Z"
   },
   {
    "duration": 399,
    "start_time": "2022-05-26T07:56:12.319Z"
   },
   {
    "duration": 188,
    "start_time": "2022-05-26T07:56:12.720Z"
   },
   {
    "duration": 3,
    "start_time": "2022-05-26T07:56:12.910Z"
   },
   {
    "duration": 15,
    "start_time": "2022-05-26T07:56:12.914Z"
   },
   {
    "duration": 10,
    "start_time": "2022-05-26T07:56:12.931Z"
   },
   {
    "duration": 14,
    "start_time": "2022-05-26T07:56:12.943Z"
   },
   {
    "duration": 6,
    "start_time": "2022-05-26T07:56:15.640Z"
   },
   {
    "duration": 4,
    "start_time": "2022-05-26T07:56:17.767Z"
   },
   {
    "duration": 9,
    "start_time": "2022-05-26T07:56:58.610Z"
   },
   {
    "duration": 6,
    "start_time": "2022-05-26T07:58:54.279Z"
   },
   {
    "duration": 357,
    "start_time": "2022-05-26T07:58:54.287Z"
   },
   {
    "duration": 70,
    "start_time": "2022-05-26T07:58:54.646Z"
   },
   {
    "duration": 274,
    "start_time": "2022-05-26T07:58:54.718Z"
   },
   {
    "duration": 3,
    "start_time": "2022-05-26T07:58:54.994Z"
   },
   {
    "duration": 398,
    "start_time": "2022-05-26T07:58:54.998Z"
   },
   {
    "duration": 404,
    "start_time": "2022-05-26T07:58:55.398Z"
   },
   {
    "duration": 191,
    "start_time": "2022-05-26T07:58:55.804Z"
   },
   {
    "duration": 3,
    "start_time": "2022-05-26T07:58:55.997Z"
   },
   {
    "duration": 10,
    "start_time": "2022-05-26T07:58:56.002Z"
   },
   {
    "duration": 14,
    "start_time": "2022-05-26T07:58:56.014Z"
   },
   {
    "duration": 6,
    "start_time": "2022-05-26T07:58:56.030Z"
   },
   {
    "duration": 21,
    "start_time": "2022-05-26T07:58:59.605Z"
   },
   {
    "duration": 4,
    "start_time": "2022-05-26T07:59:12.209Z"
   },
   {
    "duration": 4,
    "start_time": "2022-05-26T08:00:35.995Z"
   },
   {
    "duration": 6,
    "start_time": "2022-05-26T08:00:42.867Z"
   },
   {
    "duration": 5,
    "start_time": "2022-05-26T08:00:51.463Z"
   },
   {
    "duration": 13,
    "start_time": "2022-05-26T08:00:59.651Z"
   },
   {
    "duration": 22,
    "start_time": "2022-05-26T08:01:02.318Z"
   },
   {
    "duration": 21,
    "start_time": "2022-05-26T08:01:07.560Z"
   },
   {
    "duration": 24,
    "start_time": "2022-05-26T08:01:12.611Z"
   },
   {
    "duration": 3,
    "start_time": "2022-05-26T08:01:21.679Z"
   },
   {
    "duration": 2,
    "start_time": "2022-05-26T08:01:22.527Z"
   },
   {
    "duration": 16,
    "start_time": "2022-05-26T08:04:14.830Z"
   },
   {
    "duration": 5,
    "start_time": "2022-05-26T08:04:24.463Z"
   },
   {
    "duration": 334,
    "start_time": "2022-05-26T08:04:24.470Z"
   },
   {
    "duration": 79,
    "start_time": "2022-05-26T08:04:24.806Z"
   },
   {
    "duration": 241,
    "start_time": "2022-05-26T08:04:24.887Z"
   },
   {
    "duration": 4,
    "start_time": "2022-05-26T08:04:25.130Z"
   },
   {
    "duration": 392,
    "start_time": "2022-05-26T08:04:25.135Z"
   },
   {
    "duration": 370,
    "start_time": "2022-05-26T08:04:25.529Z"
   },
   {
    "duration": 185,
    "start_time": "2022-05-26T08:04:25.900Z"
   },
   {
    "duration": 3,
    "start_time": "2022-05-26T08:04:26.087Z"
   },
   {
    "duration": 11,
    "start_time": "2022-05-26T08:04:26.092Z"
   },
   {
    "duration": 23,
    "start_time": "2022-05-26T08:04:26.104Z"
   },
   {
    "duration": 4,
    "start_time": "2022-05-26T08:04:26.129Z"
   },
   {
    "duration": 6,
    "start_time": "2022-05-26T08:04:28.847Z"
   },
   {
    "duration": 14,
    "start_time": "2022-05-26T08:09:16.629Z"
   },
   {
    "duration": 7,
    "start_time": "2022-05-26T08:09:34.632Z"
   },
   {
    "duration": 350,
    "start_time": "2022-05-26T08:09:34.642Z"
   },
   {
    "duration": 73,
    "start_time": "2022-05-26T08:09:34.994Z"
   },
   {
    "duration": 243,
    "start_time": "2022-05-26T08:09:35.069Z"
   },
   {
    "duration": 3,
    "start_time": "2022-05-26T08:09:35.315Z"
   },
   {
    "duration": 383,
    "start_time": "2022-05-26T08:09:35.320Z"
   },
   {
    "duration": 453,
    "start_time": "2022-05-26T08:09:35.705Z"
   },
   {
    "duration": 228,
    "start_time": "2022-05-26T08:09:36.160Z"
   },
   {
    "duration": 4,
    "start_time": "2022-05-26T08:09:36.391Z"
   },
   {
    "duration": 28,
    "start_time": "2022-05-26T08:09:36.397Z"
   },
   {
    "duration": 13,
    "start_time": "2022-05-26T08:09:36.430Z"
   },
   {
    "duration": 23,
    "start_time": "2022-05-26T08:09:36.445Z"
   },
   {
    "duration": 18,
    "start_time": "2022-05-26T08:09:36.470Z"
   },
   {
    "duration": 28,
    "start_time": "2022-05-26T08:09:36.491Z"
   },
   {
    "duration": 20,
    "start_time": "2022-05-26T08:09:39.240Z"
   },
   {
    "duration": 9,
    "start_time": "2022-05-26T08:09:42.074Z"
   },
   {
    "duration": 14,
    "start_time": "2022-05-26T08:10:02.586Z"
   },
   {
    "duration": 6,
    "start_time": "2022-05-26T08:11:32.362Z"
   },
   {
    "duration": 325,
    "start_time": "2022-05-26T08:11:32.370Z"
   },
   {
    "duration": 69,
    "start_time": "2022-05-26T08:11:32.697Z"
   },
   {
    "duration": 240,
    "start_time": "2022-05-26T08:11:32.768Z"
   },
   {
    "duration": 4,
    "start_time": "2022-05-26T08:11:33.010Z"
   },
   {
    "duration": 404,
    "start_time": "2022-05-26T08:11:33.016Z"
   },
   {
    "duration": 403,
    "start_time": "2022-05-26T08:11:33.427Z"
   },
   {
    "duration": 205,
    "start_time": "2022-05-26T08:11:33.832Z"
   },
   {
    "duration": 3,
    "start_time": "2022-05-26T08:11:34.039Z"
   },
   {
    "duration": 13,
    "start_time": "2022-05-26T08:11:34.044Z"
   },
   {
    "duration": 6,
    "start_time": "2022-05-26T08:11:34.059Z"
   },
   {
    "duration": 11,
    "start_time": "2022-05-26T08:11:34.066Z"
   },
   {
    "duration": 11,
    "start_time": "2022-05-26T08:11:34.078Z"
   },
   {
    "duration": 26,
    "start_time": "2022-05-26T08:11:34.091Z"
   },
   {
    "duration": 19,
    "start_time": "2022-05-26T08:11:34.120Z"
   },
   {
    "duration": 24,
    "start_time": "2022-05-26T08:11:34.140Z"
   },
   {
    "duration": 26,
    "start_time": "2022-05-26T08:11:34.166Z"
   },
   {
    "duration": 27,
    "start_time": "2022-05-26T08:12:02.225Z"
   },
   {
    "duration": 4,
    "start_time": "2022-05-26T08:12:05.307Z"
   },
   {
    "duration": 4,
    "start_time": "2022-05-26T08:12:06.048Z"
   },
   {
    "duration": 3,
    "start_time": "2022-05-26T08:27:21.999Z"
   },
   {
    "duration": 17,
    "start_time": "2022-05-26T08:29:42.602Z"
   },
   {
    "duration": 7,
    "start_time": "2022-05-26T08:30:25.976Z"
   },
   {
    "duration": 4,
    "start_time": "2022-05-26T08:30:39.362Z"
   },
   {
    "duration": 77,
    "start_time": "2022-05-26T08:30:39.776Z"
   },
   {
    "duration": 5,
    "start_time": "2022-05-26T08:33:56.005Z"
   },
   {
    "duration": 27,
    "start_time": "2022-05-26T08:33:57.145Z"
   },
   {
    "duration": 17,
    "start_time": "2022-05-26T08:34:57.135Z"
   },
   {
    "duration": 14,
    "start_time": "2022-05-26T10:55:55.254Z"
   },
   {
    "duration": 1923,
    "start_time": "2022-05-26T10:56:02.048Z"
   },
   {
    "duration": 1911,
    "start_time": "2022-05-26T10:56:03.973Z"
   },
   {
    "duration": 381,
    "start_time": "2022-05-26T10:56:05.886Z"
   },
   {
    "duration": 860,
    "start_time": "2022-05-26T10:56:06.270Z"
   },
   {
    "duration": 4,
    "start_time": "2022-05-26T10:56:07.132Z"
   },
   {
    "duration": 409,
    "start_time": "2022-05-26T10:56:07.137Z"
   },
   {
    "duration": 397,
    "start_time": "2022-05-26T10:56:07.552Z"
   },
   {
    "duration": 200,
    "start_time": "2022-05-26T10:56:07.956Z"
   },
   {
    "duration": 5,
    "start_time": "2022-05-26T10:56:08.158Z"
   },
   {
    "duration": 13,
    "start_time": "2022-05-26T10:56:08.167Z"
   },
   {
    "duration": 11,
    "start_time": "2022-05-26T10:56:08.181Z"
   },
   {
    "duration": 8,
    "start_time": "2022-05-26T10:56:08.194Z"
   },
   {
    "duration": 8,
    "start_time": "2022-05-26T10:56:08.204Z"
   },
   {
    "duration": 16,
    "start_time": "2022-05-26T10:56:08.213Z"
   },
   {
    "duration": 14,
    "start_time": "2022-05-26T10:56:08.232Z"
   },
   {
    "duration": 11,
    "start_time": "2022-05-26T10:56:11.776Z"
   },
   {
    "duration": 15,
    "start_time": "2022-05-26T10:58:55.721Z"
   },
   {
    "duration": 10,
    "start_time": "2022-05-26T11:01:17.718Z"
   },
   {
    "duration": 12,
    "start_time": "2022-05-26T11:01:27.693Z"
   },
   {
    "duration": 13,
    "start_time": "2022-05-26T11:01:36.146Z"
   },
   {
    "duration": 7,
    "start_time": "2022-05-26T11:01:47.685Z"
   },
   {
    "duration": 6,
    "start_time": "2022-05-26T11:02:26.799Z"
   },
   {
    "duration": 393,
    "start_time": "2022-05-26T11:02:26.808Z"
   },
   {
    "duration": 79,
    "start_time": "2022-05-26T11:02:27.203Z"
   },
   {
    "duration": 284,
    "start_time": "2022-05-26T11:02:27.284Z"
   },
   {
    "duration": 4,
    "start_time": "2022-05-26T11:02:27.570Z"
   },
   {
    "duration": 410,
    "start_time": "2022-05-26T11:02:27.576Z"
   },
   {
    "duration": 488,
    "start_time": "2022-05-26T11:02:27.988Z"
   },
   {
    "duration": 210,
    "start_time": "2022-05-26T11:02:28.479Z"
   },
   {
    "duration": 4,
    "start_time": "2022-05-26T11:02:28.691Z"
   },
   {
    "duration": 9,
    "start_time": "2022-05-26T11:02:28.697Z"
   },
   {
    "duration": 12,
    "start_time": "2022-05-26T11:02:28.708Z"
   },
   {
    "duration": 8,
    "start_time": "2022-05-26T11:02:28.722Z"
   },
   {
    "duration": 29,
    "start_time": "2022-05-26T11:02:28.731Z"
   },
   {
    "duration": 28,
    "start_time": "2022-05-26T11:02:28.768Z"
   },
   {
    "duration": 16,
    "start_time": "2022-05-26T11:02:28.798Z"
   },
   {
    "duration": 16,
    "start_time": "2022-05-26T11:02:28.816Z"
   },
   {
    "duration": 40,
    "start_time": "2022-05-26T11:02:28.834Z"
   },
   {
    "duration": 22,
    "start_time": "2022-05-26T11:02:28.876Z"
   },
   {
    "duration": 25,
    "start_time": "2022-05-26T11:02:28.900Z"
   },
   {
    "duration": 26,
    "start_time": "2022-05-26T11:02:28.928Z"
   },
   {
    "duration": 8,
    "start_time": "2022-05-26T11:02:28.958Z"
   },
   {
    "duration": 29,
    "start_time": "2022-05-26T11:02:28.971Z"
   },
   {
    "duration": 43,
    "start_time": "2022-05-26T11:02:29.002Z"
   },
   {
    "duration": 24,
    "start_time": "2022-05-26T11:02:29.048Z"
   },
   {
    "duration": 1374,
    "start_time": "2022-05-26T11:03:10.711Z"
   },
   {
    "duration": 395,
    "start_time": "2022-05-26T11:03:12.087Z"
   },
   {
    "duration": 83,
    "start_time": "2022-05-26T11:03:12.484Z"
   },
   {
    "duration": 275,
    "start_time": "2022-05-26T11:03:12.569Z"
   },
   {
    "duration": 11,
    "start_time": "2022-05-26T11:03:12.846Z"
   },
   {
    "duration": 411,
    "start_time": "2022-05-26T11:03:12.863Z"
   },
   {
    "duration": 409,
    "start_time": "2022-05-26T11:03:13.276Z"
   },
   {
    "duration": 201,
    "start_time": "2022-05-26T11:03:13.687Z"
   },
   {
    "duration": 3,
    "start_time": "2022-05-26T11:03:13.889Z"
   },
   {
    "duration": 19,
    "start_time": "2022-05-26T11:03:13.894Z"
   },
   {
    "duration": 29,
    "start_time": "2022-05-26T11:03:13.914Z"
   },
   {
    "duration": 19,
    "start_time": "2022-05-26T11:03:13.945Z"
   },
   {
    "duration": 11,
    "start_time": "2022-05-26T11:03:13.965Z"
   },
   {
    "duration": 14,
    "start_time": "2022-05-26T11:03:13.977Z"
   },
   {
    "duration": 9,
    "start_time": "2022-05-26T11:03:13.992Z"
   },
   {
    "duration": 13,
    "start_time": "2022-05-26T11:03:14.003Z"
   },
   {
    "duration": 38,
    "start_time": "2022-05-26T11:03:14.018Z"
   },
   {
    "duration": 26,
    "start_time": "2022-05-26T11:03:14.058Z"
   },
   {
    "duration": 26,
    "start_time": "2022-05-26T11:03:14.086Z"
   },
   {
    "duration": 3,
    "start_time": "2022-05-26T11:03:14.114Z"
   },
   {
    "duration": 9,
    "start_time": "2022-05-26T11:03:14.118Z"
   },
   {
    "duration": 29,
    "start_time": "2022-05-26T11:03:14.129Z"
   },
   {
    "duration": 37,
    "start_time": "2022-05-26T11:03:14.166Z"
   },
   {
    "duration": 16,
    "start_time": "2022-05-26T11:03:14.205Z"
   },
   {
    "duration": 134,
    "start_time": "2022-05-26T11:06:59.134Z"
   },
   {
    "duration": 3,
    "start_time": "2022-05-26T11:07:11.638Z"
   },
   {
    "duration": 4,
    "start_time": "2022-05-26T11:17:31.953Z"
   },
   {
    "duration": 3,
    "start_time": "2022-05-26T11:20:26.005Z"
   },
   {
    "duration": 3,
    "start_time": "2022-05-26T11:24:12.421Z"
   },
   {
    "duration": 10,
    "start_time": "2022-05-26T11:24:19.373Z"
   },
   {
    "duration": 16,
    "start_time": "2022-05-26T11:28:12.746Z"
   },
   {
    "duration": 6,
    "start_time": "2022-05-26T11:28:51.577Z"
   },
   {
    "duration": 3,
    "start_time": "2022-05-26T11:29:01.319Z"
   },
   {
    "duration": 310,
    "start_time": "2022-05-26T11:34:17.059Z"
   },
   {
    "duration": 5,
    "start_time": "2022-05-26T11:34:24.431Z"
   },
   {
    "duration": 374,
    "start_time": "2022-05-26T11:34:24.438Z"
   },
   {
    "duration": 72,
    "start_time": "2022-05-26T11:34:24.814Z"
   },
   {
    "duration": 251,
    "start_time": "2022-05-26T11:34:24.887Z"
   },
   {
    "duration": 3,
    "start_time": "2022-05-26T11:34:25.141Z"
   },
   {
    "duration": 551,
    "start_time": "2022-05-26T11:34:25.145Z"
   },
   {
    "duration": 414,
    "start_time": "2022-05-26T11:34:25.698Z"
   },
   {
    "duration": 219,
    "start_time": "2022-05-26T11:34:26.114Z"
   },
   {
    "duration": 4,
    "start_time": "2022-05-26T11:34:26.334Z"
   },
   {
    "duration": 32,
    "start_time": "2022-05-26T11:34:26.339Z"
   },
   {
    "duration": 10,
    "start_time": "2022-05-26T11:34:26.379Z"
   },
   {
    "duration": 11,
    "start_time": "2022-05-26T11:34:26.391Z"
   },
   {
    "duration": 15,
    "start_time": "2022-05-26T11:34:26.403Z"
   },
   {
    "duration": 18,
    "start_time": "2022-05-26T11:34:26.421Z"
   },
   {
    "duration": 19,
    "start_time": "2022-05-26T11:34:26.441Z"
   },
   {
    "duration": 11,
    "start_time": "2022-05-26T11:34:26.466Z"
   },
   {
    "duration": 22,
    "start_time": "2022-05-26T11:34:26.479Z"
   },
   {
    "duration": 22,
    "start_time": "2022-05-26T11:34:26.502Z"
   },
   {
    "duration": 52,
    "start_time": "2022-05-26T11:34:26.525Z"
   },
   {
    "duration": 3,
    "start_time": "2022-05-26T11:34:26.578Z"
   },
   {
    "duration": 6,
    "start_time": "2022-05-26T11:34:26.582Z"
   },
   {
    "duration": 6,
    "start_time": "2022-05-26T11:34:26.590Z"
   },
   {
    "duration": 10,
    "start_time": "2022-05-26T11:34:26.598Z"
   },
   {
    "duration": 52,
    "start_time": "2022-05-26T11:34:26.610Z"
   },
   {
    "duration": 18,
    "start_time": "2022-05-26T11:34:26.663Z"
   },
   {
    "duration": 3,
    "start_time": "2022-05-26T11:34:26.682Z"
   },
   {
    "duration": 369,
    "start_time": "2022-05-26T11:34:26.687Z"
   },
   {
    "duration": 40,
    "start_time": "2022-05-26T11:37:32.467Z"
   },
   {
    "duration": 2553,
    "start_time": "2022-05-26T11:38:12.003Z"
   },
   {
    "duration": 4,
    "start_time": "2022-05-26T11:46:10.243Z"
   },
   {
    "duration": 5,
    "start_time": "2022-05-26T11:50:52.268Z"
   },
   {
    "duration": 13,
    "start_time": "2022-05-26T11:52:37.888Z"
   },
   {
    "duration": 24,
    "start_time": "2022-05-26T11:53:43.286Z"
   },
   {
    "duration": 4,
    "start_time": "2022-05-26T11:54:27.596Z"
   },
   {
    "duration": 30,
    "start_time": "2022-05-26T11:54:52.596Z"
   },
   {
    "duration": 12,
    "start_time": "2022-05-26T11:56:42.196Z"
   },
   {
    "duration": 21,
    "start_time": "2022-05-26T11:57:05.467Z"
   },
   {
    "duration": 10,
    "start_time": "2022-05-26T11:58:04.346Z"
   },
   {
    "duration": 6,
    "start_time": "2022-05-26T11:59:25.054Z"
   },
   {
    "duration": 21,
    "start_time": "2022-05-26T11:59:26.214Z"
   },
   {
    "duration": 3210,
    "start_time": "2022-05-26T12:00:01.644Z"
   },
   {
    "duration": 2035,
    "start_time": "2022-05-26T12:00:50.537Z"
   },
   {
    "duration": 2555,
    "start_time": "2022-05-26T12:01:08.302Z"
   },
   {
    "duration": 3,
    "start_time": "2022-05-26T12:04:44.879Z"
   },
   {
    "duration": 13,
    "start_time": "2022-05-26T12:05:42.322Z"
   },
   {
    "duration": 2495,
    "start_time": "2022-05-26T12:06:10.173Z"
   },
   {
    "duration": 3906,
    "start_time": "2022-05-26T12:11:23.060Z"
   },
   {
    "duration": 587151,
    "start_time": "2022-05-26T12:12:18.812Z"
   },
   {
    "duration": 10406,
    "start_time": "2022-05-26T12:43:32.691Z"
   },
   {
    "duration": 27,
    "start_time": "2022-05-26T12:44:10.828Z"
   },
   {
    "duration": 4,
    "start_time": "2022-05-26T12:53:58.070Z"
   },
   {
    "duration": 3859,
    "start_time": "2022-05-26T12:54:25.515Z"
   },
   {
    "duration": 5,
    "start_time": "2022-05-26T12:55:05.272Z"
   },
   {
    "duration": 3999,
    "start_time": "2022-05-26T12:55:06.176Z"
   },
   {
    "duration": 4,
    "start_time": "2022-05-26T12:56:17.206Z"
   },
   {
    "duration": 3328,
    "start_time": "2022-05-26T12:56:21.228Z"
   },
   {
    "duration": 9781,
    "start_time": "2022-05-26T12:57:06.541Z"
   },
   {
    "duration": 582564,
    "start_time": "2022-05-26T12:58:02.127Z"
   },
   {
    "duration": 47,
    "start_time": "2022-05-26T13:19:47.644Z"
   },
   {
    "duration": 2,
    "start_time": "2022-05-26T13:57:50.349Z"
   },
   {
    "duration": 10,
    "start_time": "2022-05-26T14:03:08.637Z"
   },
   {
    "duration": 1168445,
    "start_time": "2022-05-26T14:03:51.796Z"
   },
   {
    "duration": 1208739,
    "start_time": "2022-05-26T15:06:55.702Z"
   },
   {
    "duration": 1192680,
    "start_time": "2022-05-26T15:27:04.443Z"
   },
   {
    "duration": 3,
    "start_time": "2022-05-26T15:46:57.125Z"
   },
   {
    "duration": 3572,
    "start_time": "2022-05-26T15:57:02.398Z"
   },
   {
    "duration": 2302,
    "start_time": "2022-05-26T15:57:05.977Z"
   },
   {
    "duration": 393,
    "start_time": "2022-05-26T15:57:08.281Z"
   },
   {
    "duration": 1040,
    "start_time": "2022-05-26T15:57:08.676Z"
   },
   {
    "duration": 4,
    "start_time": "2022-05-26T15:57:09.718Z"
   },
   {
    "duration": 462,
    "start_time": "2022-05-26T15:57:09.723Z"
   },
   {
    "duration": 425,
    "start_time": "2022-05-26T15:57:10.188Z"
   },
   {
    "duration": 207,
    "start_time": "2022-05-26T15:57:10.615Z"
   },
   {
    "duration": 3,
    "start_time": "2022-05-26T15:57:10.824Z"
   },
   {
    "duration": 8,
    "start_time": "2022-05-26T15:57:10.828Z"
   },
   {
    "duration": 18,
    "start_time": "2022-05-26T15:57:10.838Z"
   },
   {
    "duration": 16,
    "start_time": "2022-05-26T15:57:10.864Z"
   },
   {
    "duration": 11,
    "start_time": "2022-05-26T15:57:10.881Z"
   },
   {
    "duration": 13,
    "start_time": "2022-05-26T15:57:10.895Z"
   },
   {
    "duration": 9,
    "start_time": "2022-05-26T15:57:10.910Z"
   },
   {
    "duration": 19,
    "start_time": "2022-05-26T15:57:10.920Z"
   },
   {
    "duration": 29,
    "start_time": "2022-05-26T15:57:10.941Z"
   },
   {
    "duration": 24,
    "start_time": "2022-05-26T15:57:10.972Z"
   },
   {
    "duration": 24,
    "start_time": "2022-05-26T15:57:10.997Z"
   },
   {
    "duration": 2,
    "start_time": "2022-05-26T15:57:11.023Z"
   },
   {
    "duration": 34,
    "start_time": "2022-05-26T15:57:11.027Z"
   },
   {
    "duration": 18,
    "start_time": "2022-05-26T15:57:11.067Z"
   },
   {
    "duration": 12,
    "start_time": "2022-05-26T15:57:11.086Z"
   },
   {
    "duration": 38,
    "start_time": "2022-05-26T15:57:11.100Z"
   },
   {
    "duration": 18,
    "start_time": "2022-05-26T15:57:11.140Z"
   },
   {
    "duration": 5,
    "start_time": "2022-05-26T15:57:11.160Z"
   },
   {
    "duration": 23,
    "start_time": "2022-05-26T15:57:11.166Z"
   },
   {
    "duration": 4,
    "start_time": "2022-05-26T15:57:11.191Z"
   },
   {
    "duration": 7158,
    "start_time": "2022-05-26T15:57:11.196Z"
   },
   {
    "duration": 595887,
    "start_time": "2022-05-26T15:57:18.360Z"
   },
   {
    "duration": 10131,
    "start_time": "2022-05-26T16:07:14.249Z"
   },
   {
    "duration": 4,
    "start_time": "2022-05-26T16:07:24.382Z"
   },
   {
    "duration": 8,
    "start_time": "2022-05-26T16:07:24.387Z"
   },
   {
    "duration": 1206733,
    "start_time": "2022-05-26T16:27:39.965Z"
   },
   {
    "duration": 4,
    "start_time": "2022-05-26T16:47:46.700Z"
   },
   {
    "duration": 11,
    "start_time": "2022-05-26T16:47:46.705Z"
   },
   {
    "duration": 15,
    "start_time": "2022-05-26T16:47:46.717Z"
   },
   {
    "duration": 68,
    "start_time": "2022-05-26T16:47:46.733Z"
   },
   {
    "duration": 7,
    "start_time": "2022-05-26T16:47:46.802Z"
   },
   {
    "duration": 8,
    "start_time": "2022-05-27T03:47:22.120Z"
   },
   {
    "duration": 2,
    "start_time": "2022-05-27T03:47:38.743Z"
   },
   {
    "duration": 51,
    "start_time": "2022-05-27T04:08:04.491Z"
   },
   {
    "duration": 1794,
    "start_time": "2022-05-27T04:08:49.386Z"
   },
   {
    "duration": 2,
    "start_time": "2022-05-27T04:08:55.530Z"
   },
   {
    "duration": 94,
    "start_time": "2022-05-27T04:11:37.879Z"
   },
   {
    "duration": 8,
    "start_time": "2022-05-27T04:11:58.538Z"
   },
   {
    "duration": 2192,
    "start_time": "2022-05-27T04:11:58.548Z"
   },
   {
    "duration": 441,
    "start_time": "2022-05-27T04:12:00.742Z"
   },
   {
    "duration": 1257,
    "start_time": "2022-05-27T04:12:01.185Z"
   },
   {
    "duration": 4,
    "start_time": "2022-05-27T04:12:02.443Z"
   },
   {
    "duration": 538,
    "start_time": "2022-05-27T04:12:02.449Z"
   },
   {
    "duration": 427,
    "start_time": "2022-05-27T04:12:02.989Z"
   },
   {
    "duration": 217,
    "start_time": "2022-05-27T04:12:03.418Z"
   },
   {
    "duration": 3,
    "start_time": "2022-05-27T04:12:03.637Z"
   },
   {
    "duration": 207,
    "start_time": "2022-05-27T04:12:03.643Z"
   },
   {
    "duration": 13,
    "start_time": "2022-05-27T04:12:03.851Z"
   },
   {
    "duration": 22,
    "start_time": "2022-05-27T04:12:03.866Z"
   },
   {
    "duration": 16,
    "start_time": "2022-05-27T04:12:03.890Z"
   },
   {
    "duration": 20,
    "start_time": "2022-05-27T04:12:03.908Z"
   },
   {
    "duration": 11,
    "start_time": "2022-05-27T04:12:03.929Z"
   },
   {
    "duration": 38,
    "start_time": "2022-05-27T04:12:03.941Z"
   },
   {
    "duration": 23,
    "start_time": "2022-05-27T04:12:03.984Z"
   },
   {
    "duration": 22,
    "start_time": "2022-05-27T04:12:04.009Z"
   },
   {
    "duration": 52,
    "start_time": "2022-05-27T04:12:04.033Z"
   },
   {
    "duration": 12,
    "start_time": "2022-05-27T04:12:14.989Z"
   },
   {
    "duration": 3,
    "start_time": "2022-05-27T04:13:13.596Z"
   },
   {
    "duration": 4,
    "start_time": "2022-05-27T04:13:14.177Z"
   },
   {
    "duration": 8,
    "start_time": "2022-05-27T04:13:14.567Z"
   },
   {
    "duration": 3,
    "start_time": "2022-05-27T04:13:15.706Z"
   },
   {
    "duration": 42,
    "start_time": "2022-05-27T04:13:17.343Z"
   },
   {
    "duration": 21,
    "start_time": "2022-05-27T04:13:18.767Z"
   },
   {
    "duration": 6,
    "start_time": "2022-05-27T04:13:28.691Z"
   },
   {
    "duration": 12,
    "start_time": "2022-05-27T04:14:02.578Z"
   },
   {
    "duration": 7,
    "start_time": "2022-05-27T04:17:21.276Z"
   },
   {
    "duration": 5,
    "start_time": "2022-05-27T04:19:47.013Z"
   },
   {
    "duration": 11,
    "start_time": "2022-05-27T04:20:45.481Z"
   },
   {
    "duration": 4,
    "start_time": "2022-05-27T04:20:47.192Z"
   },
   {
    "duration": 14,
    "start_time": "2022-05-27T04:22:36.475Z"
   },
   {
    "duration": 8,
    "start_time": "2022-05-27T04:23:19.625Z"
   },
   {
    "duration": 13,
    "start_time": "2022-05-27T04:23:20.775Z"
   },
   {
    "duration": 5,
    "start_time": "2022-05-27T04:57:30.998Z"
   },
   {
    "duration": 8201,
    "start_time": "2022-05-27T04:57:45.405Z"
   },
   {
    "duration": 1555,
    "start_time": "2022-05-27T05:04:00.195Z"
   },
   {
    "duration": 485,
    "start_time": "2022-05-27T05:04:01.752Z"
   },
   {
    "duration": 99,
    "start_time": "2022-05-27T05:04:02.239Z"
   },
   {
    "duration": 355,
    "start_time": "2022-05-27T05:04:02.339Z"
   },
   {
    "duration": 5,
    "start_time": "2022-05-27T05:04:02.696Z"
   },
   {
    "duration": 493,
    "start_time": "2022-05-27T05:04:02.703Z"
   },
   {
    "duration": 467,
    "start_time": "2022-05-27T05:04:03.198Z"
   },
   {
    "duration": 223,
    "start_time": "2022-05-27T05:04:03.671Z"
   },
   {
    "duration": 4,
    "start_time": "2022-05-27T05:04:03.897Z"
   },
   {
    "duration": 11,
    "start_time": "2022-05-27T05:04:03.902Z"
   },
   {
    "duration": 21,
    "start_time": "2022-05-27T05:04:03.915Z"
   },
   {
    "duration": 9,
    "start_time": "2022-05-27T05:04:03.938Z"
   },
   {
    "duration": 51,
    "start_time": "2022-05-27T05:04:03.948Z"
   },
   {
    "duration": 21,
    "start_time": "2022-05-27T05:04:04.002Z"
   },
   {
    "duration": 13,
    "start_time": "2022-05-27T05:04:04.025Z"
   },
   {
    "duration": 20,
    "start_time": "2022-05-27T05:04:04.040Z"
   },
   {
    "duration": 24,
    "start_time": "2022-05-27T05:04:04.073Z"
   },
   {
    "duration": 22,
    "start_time": "2022-05-27T05:04:04.098Z"
   },
   {
    "duration": 51,
    "start_time": "2022-05-27T05:04:04.122Z"
   },
   {
    "duration": 11,
    "start_time": "2022-05-27T05:04:04.175Z"
   },
   {
    "duration": 17,
    "start_time": "2022-05-27T05:04:04.195Z"
   },
   {
    "duration": 10,
    "start_time": "2022-05-27T05:04:04.214Z"
   },
   {
    "duration": 9,
    "start_time": "2022-05-27T05:04:04.226Z"
   },
   {
    "duration": 48,
    "start_time": "2022-05-27T05:04:04.236Z"
   },
   {
    "duration": 19,
    "start_time": "2022-05-27T05:04:04.286Z"
   },
   {
    "duration": 4,
    "start_time": "2022-05-27T05:04:04.307Z"
   },
   {
    "duration": 8785,
    "start_time": "2022-05-27T05:04:04.313Z"
   },
   {
    "duration": 650129,
    "start_time": "2022-05-27T05:04:13.162Z"
   },
   {
    "duration": 11631,
    "start_time": "2022-05-27T05:15:03.299Z"
   },
   {
    "duration": 3,
    "start_time": "2022-05-27T05:15:14.932Z"
   },
   {
    "duration": 14,
    "start_time": "2022-05-27T05:15:14.937Z"
   },
   {
    "duration": 3863140,
    "start_time": "2022-05-27T05:15:14.961Z"
   },
   {
    "duration": 4,
    "start_time": "2022-05-27T06:19:38.103Z"
   },
   {
    "duration": 123,
    "start_time": "2022-05-27T06:19:38.109Z"
   },
   {
    "duration": 7,
    "start_time": "2022-05-27T06:19:38.234Z"
   },
   {
    "duration": 77,
    "start_time": "2022-05-27T06:19:38.262Z"
   },
   {
    "duration": 8,
    "start_time": "2022-05-27T06:19:38.341Z"
   },
   {
    "duration": 36,
    "start_time": "2022-05-27T06:19:38.350Z"
   },
   {
    "duration": 13,
    "start_time": "2022-05-27T06:19:38.388Z"
   },
   {
    "duration": 5,
    "start_time": "2022-05-27T06:19:38.405Z"
   },
   {
    "duration": 5,
    "start_time": "2022-05-27T06:24:24.278Z"
   },
   {
    "duration": 137,
    "start_time": "2022-05-27T06:27:24.686Z"
   },
   {
    "duration": 4,
    "start_time": "2022-05-27T06:28:03.439Z"
   },
   {
    "duration": 8,
    "start_time": "2022-05-27T06:28:17.077Z"
   },
   {
    "duration": 6,
    "start_time": "2022-05-27T06:28:39.812Z"
   },
   {
    "duration": 5,
    "start_time": "2022-05-27T06:28:53.927Z"
   },
   {
    "duration": 5,
    "start_time": "2022-05-27T06:29:20.711Z"
   },
   {
    "duration": 5,
    "start_time": "2022-05-27T06:29:32.479Z"
   },
   {
    "duration": 9,
    "start_time": "2022-05-27T06:29:39.561Z"
   },
   {
    "duration": 15,
    "start_time": "2022-05-27T06:33:19.793Z"
   },
   {
    "duration": 6,
    "start_time": "2022-05-27T06:33:48.795Z"
   },
   {
    "duration": 6,
    "start_time": "2022-05-27T06:34:29.280Z"
   },
   {
    "duration": 2,
    "start_time": "2022-05-27T06:55:01.583Z"
   },
   {
    "duration": 3,
    "start_time": "2022-05-27T06:55:02.621Z"
   },
   {
    "duration": 1346122,
    "start_time": "2022-05-27T06:55:04.582Z"
   },
   {
    "duration": 18,
    "start_time": "2022-05-27T07:17:37.988Z"
   },
   {
    "duration": 689,
    "start_time": "2022-05-27T07:17:42.414Z"
   },
   {
    "duration": 27,
    "start_time": "2022-05-27T07:17:46.799Z"
   },
   {
    "duration": 289,
    "start_time": "2022-05-27T07:18:11.350Z"
   },
   {
    "duration": 12,
    "start_time": "2022-05-27T07:18:12.217Z"
   },
   {
    "duration": 9,
    "start_time": "2022-05-27T07:18:18.771Z"
   },
   {
    "duration": 16,
    "start_time": "2022-05-27T07:18:20.519Z"
   },
   {
    "duration": 4,
    "start_time": "2022-05-27T07:26:57.912Z"
   },
   {
    "duration": 5,
    "start_time": "2022-05-27T07:26:58.587Z"
   },
   {
    "duration": 1673,
    "start_time": "2022-05-27T09:50:59.822Z"
   },
   {
    "duration": 3606,
    "start_time": "2022-05-27T09:51:01.502Z"
   },
   {
    "duration": 633,
    "start_time": "2022-05-27T09:51:05.113Z"
   },
   {
    "duration": 2420,
    "start_time": "2022-05-27T09:51:05.748Z"
   },
   {
    "duration": 4,
    "start_time": "2022-05-27T09:51:08.172Z"
   },
   {
    "duration": 685,
    "start_time": "2022-05-27T09:51:08.181Z"
   },
   {
    "duration": 589,
    "start_time": "2022-05-27T09:51:08.868Z"
   },
   {
    "duration": 260,
    "start_time": "2022-05-27T09:51:09.465Z"
   },
   {
    "duration": 4,
    "start_time": "2022-05-27T09:51:09.729Z"
   },
   {
    "duration": 60,
    "start_time": "2022-05-27T09:51:09.736Z"
   },
   {
    "duration": 42,
    "start_time": "2022-05-27T09:51:09.798Z"
   },
   {
    "duration": 15,
    "start_time": "2022-05-27T09:51:09.843Z"
   },
   {
    "duration": 80,
    "start_time": "2022-05-27T09:51:09.862Z"
   },
   {
    "duration": 102,
    "start_time": "2022-05-27T09:51:09.946Z"
   },
   {
    "duration": 12,
    "start_time": "2022-05-27T09:51:10.050Z"
   },
   {
    "duration": 78,
    "start_time": "2022-05-27T09:51:10.064Z"
   },
   {
    "duration": 107,
    "start_time": "2022-05-27T09:51:10.151Z"
   },
   {
    "duration": 105,
    "start_time": "2022-05-27T09:51:10.260Z"
   },
   {
    "duration": 10,
    "start_time": "2022-05-27T09:51:10.371Z"
   },
   {
    "duration": 179,
    "start_time": "2022-05-27T09:51:10.386Z"
   },
   {
    "duration": 13,
    "start_time": "2022-05-27T09:51:10.567Z"
   },
   {
    "duration": 65,
    "start_time": "2022-05-27T09:51:10.585Z"
   },
   {
    "duration": 66,
    "start_time": "2022-05-27T09:51:10.658Z"
   },
   {
    "duration": 18,
    "start_time": "2022-05-27T09:51:10.729Z"
   },
   {
    "duration": 123,
    "start_time": "2022-05-27T09:51:10.750Z"
   },
   {
    "duration": 34,
    "start_time": "2022-05-27T09:51:10.875Z"
   },
   {
    "duration": 29,
    "start_time": "2022-05-27T09:51:10.912Z"
   },
   {
    "duration": 5681,
    "start_time": "2022-05-27T09:51:10.943Z"
   },
   {
    "duration": 1368,
    "start_time": "2022-05-27T09:52:51.170Z"
   },
   {
    "duration": 561,
    "start_time": "2022-05-27T09:52:52.548Z"
   },
   {
    "duration": 149,
    "start_time": "2022-05-27T09:52:53.115Z"
   },
   {
    "duration": 495,
    "start_time": "2022-05-27T09:52:53.271Z"
   },
   {
    "duration": 4,
    "start_time": "2022-05-27T09:52:53.767Z"
   },
   {
    "duration": 793,
    "start_time": "2022-05-27T09:52:53.773Z"
   },
   {
    "duration": 545,
    "start_time": "2022-05-27T09:52:54.571Z"
   },
   {
    "duration": 269,
    "start_time": "2022-05-27T09:52:55.123Z"
   },
   {
    "duration": 5,
    "start_time": "2022-05-27T09:52:55.398Z"
   },
   {
    "duration": 116,
    "start_time": "2022-05-27T09:52:55.412Z"
   },
   {
    "duration": 120,
    "start_time": "2022-05-27T09:52:55.536Z"
   },
   {
    "duration": 140,
    "start_time": "2022-05-27T09:52:55.663Z"
   },
   {
    "duration": 140,
    "start_time": "2022-05-27T09:52:55.810Z"
   },
   {
    "duration": 136,
    "start_time": "2022-05-27T09:52:55.961Z"
   },
   {
    "duration": 109,
    "start_time": "2022-05-27T09:52:56.107Z"
   },
   {
    "duration": 134,
    "start_time": "2022-05-27T09:52:56.225Z"
   },
   {
    "duration": 179,
    "start_time": "2022-05-27T09:52:56.363Z"
   },
   {
    "duration": 183,
    "start_time": "2022-05-27T09:52:56.545Z"
   },
   {
    "duration": 119,
    "start_time": "2022-05-27T09:52:56.731Z"
   },
   {
    "duration": 233,
    "start_time": "2022-05-27T09:52:56.854Z"
   },
   {
    "duration": 145,
    "start_time": "2022-05-27T09:52:57.092Z"
   },
   {
    "duration": 107,
    "start_time": "2022-05-27T09:52:57.242Z"
   },
   {
    "duration": 90,
    "start_time": "2022-05-27T09:52:57.354Z"
   },
   {
    "duration": 100,
    "start_time": "2022-05-27T09:52:57.452Z"
   },
   {
    "duration": 182,
    "start_time": "2022-05-27T09:52:57.564Z"
   },
   {
    "duration": 34,
    "start_time": "2022-05-27T09:52:57.754Z"
   },
   {
    "duration": 112,
    "start_time": "2022-05-27T09:52:57.794Z"
   },
   {
    "duration": 4645,
    "start_time": "2022-05-27T09:52:57.917Z"
   },
   {
    "duration": 16,
    "start_time": "2022-05-27T09:53:02.574Z"
   },
   {
    "duration": 204,
    "start_time": "2022-05-27T09:53:02.598Z"
   },
   {
    "duration": 95539,
    "start_time": "2022-05-27T09:53:02.804Z"
   },
   {
    "duration": 5,
    "start_time": "2022-05-27T09:54:38.346Z"
   },
   {
    "duration": 184,
    "start_time": "2022-05-27T09:54:38.362Z"
   },
   {
    "duration": 57,
    "start_time": "2022-05-27T09:54:38.549Z"
   },
   {
    "duration": 184,
    "start_time": "2022-05-27T09:54:38.608Z"
   },
   {
    "duration": 97,
    "start_time": "2022-05-27T09:54:38.798Z"
   },
   {
    "duration": 102,
    "start_time": "2022-05-27T09:54:38.897Z"
   },
   {
    "duration": 99,
    "start_time": "2022-05-27T09:54:39.001Z"
   },
   {
    "duration": 703099,
    "start_time": "2022-05-27T09:56:46.101Z"
   },
   {
    "duration": 3,
    "start_time": "2022-05-27T11:25:12.281Z"
   },
   {
    "duration": 4,
    "start_time": "2022-05-27T11:25:40.532Z"
   },
   {
    "duration": 6194,
    "start_time": "2022-05-27T11:25:46.242Z"
   },
   {
    "duration": 5,
    "start_time": "2022-05-27T11:25:55.180Z"
   },
   {
    "duration": 65,
    "start_time": "2022-05-27T11:26:01.385Z"
   },
   {
    "duration": 25,
    "start_time": "2022-05-27T11:26:02.552Z"
   },
   {
    "duration": 58,
    "start_time": "2022-05-27T11:26:10.780Z"
   },
   {
    "duration": 16,
    "start_time": "2022-05-27T11:26:11.577Z"
   },
   {
    "duration": 3,
    "start_time": "2022-05-27T13:51:35.191Z"
   },
   {
    "duration": 7,
    "start_time": "2022-05-27T13:51:39.050Z"
   },
   {
    "duration": 514990,
    "start_time": "2022-05-27T13:51:45.874Z"
   },
   {
    "duration": 5,
    "start_time": "2022-05-27T14:06:31.213Z"
   },
   {
    "duration": 121,
    "start_time": "2022-05-27T14:06:42.789Z"
   },
   {
    "duration": 9,
    "start_time": "2022-05-27T14:06:44.302Z"
   },
   {
    "duration": 75,
    "start_time": "2022-05-27T14:06:52.475Z"
   },
   {
    "duration": 17,
    "start_time": "2022-05-27T14:06:52.888Z"
   },
   {
    "duration": 11,
    "start_time": "2022-05-27T14:06:56.759Z"
   },
   {
    "duration": 17,
    "start_time": "2022-05-27T14:06:59.115Z"
   },
   {
    "duration": 9,
    "start_time": "2022-05-27T14:08:28.195Z"
   },
   {
    "duration": 1389,
    "start_time": "2022-05-27T14:26:06.073Z"
   },
   {
    "duration": 3158,
    "start_time": "2022-05-27T14:26:07.464Z"
   },
   {
    "duration": 619,
    "start_time": "2022-05-27T14:26:10.627Z"
   },
   {
    "duration": 1822,
    "start_time": "2022-05-27T14:26:11.248Z"
   },
   {
    "duration": 15,
    "start_time": "2022-05-27T14:26:13.073Z"
   },
   {
    "duration": 565,
    "start_time": "2022-05-27T14:26:13.095Z"
   },
   {
    "duration": 544,
    "start_time": "2022-05-27T14:26:13.665Z"
   },
   {
    "duration": 293,
    "start_time": "2022-05-27T14:26:14.215Z"
   },
   {
    "duration": 5,
    "start_time": "2022-05-27T14:26:14.513Z"
   },
   {
    "duration": 13,
    "start_time": "2022-05-27T14:26:14.522Z"
   },
   {
    "duration": 11,
    "start_time": "2022-05-27T14:26:14.537Z"
   },
   {
    "duration": 70,
    "start_time": "2022-05-27T14:26:14.550Z"
   },
   {
    "duration": 16,
    "start_time": "2022-05-27T14:26:14.622Z"
   },
   {
    "duration": 101,
    "start_time": "2022-05-27T14:26:14.642Z"
   },
   {
    "duration": 75,
    "start_time": "2022-05-27T14:26:14.745Z"
   },
   {
    "duration": 31,
    "start_time": "2022-05-27T14:26:14.823Z"
   },
   {
    "duration": 42,
    "start_time": "2022-05-27T14:26:14.863Z"
   },
   {
    "duration": 51,
    "start_time": "2022-05-27T14:26:14.908Z"
   },
   {
    "duration": 40,
    "start_time": "2022-05-27T14:26:14.961Z"
   },
   {
    "duration": 72,
    "start_time": "2022-05-27T14:26:15.003Z"
   },
   {
    "duration": 51,
    "start_time": "2022-05-27T14:26:15.077Z"
   },
   {
    "duration": 15,
    "start_time": "2022-05-27T14:26:15.130Z"
   },
   {
    "duration": 69,
    "start_time": "2022-05-27T14:26:15.147Z"
   },
   {
    "duration": 51,
    "start_time": "2022-05-27T14:26:15.222Z"
   },
   {
    "duration": 73,
    "start_time": "2022-05-27T14:26:15.276Z"
   },
   {
    "duration": 12,
    "start_time": "2022-05-27T14:26:15.363Z"
   },
   {
    "duration": 5878,
    "start_time": "2022-05-27T14:26:15.380Z"
   },
   {
    "duration": 8,
    "start_time": "2022-05-27T14:39:39.506Z"
   },
   {
    "duration": 4,
    "start_time": "2022-05-27T14:39:39.516Z"
   },
   {
    "duration": 465453,
    "start_time": "2022-05-27T14:39:39.522Z"
   },
   {
    "duration": 17,
    "start_time": "2022-05-27T14:47:24.985Z"
   },
   {
    "duration": 83,
    "start_time": "2022-05-27T14:47:25.013Z"
   },
   {
    "duration": 10,
    "start_time": "2022-05-27T14:47:25.098Z"
   },
   {
    "duration": 68,
    "start_time": "2022-05-27T14:47:25.110Z"
   },
   {
    "duration": 14,
    "start_time": "2022-05-27T14:47:25.183Z"
   },
   {
    "duration": 366121,
    "start_time": "2022-05-27T14:47:25.204Z"
   },
   {
    "duration": 951,
    "start_time": "2022-05-27T20:15:00.308Z"
   },
   {
    "duration": 677,
    "start_time": "2022-05-27T20:15:01.261Z"
   },
   {
    "duration": 167,
    "start_time": "2022-05-27T20:15:01.940Z"
   },
   {
    "duration": 1361,
    "start_time": "2022-05-27T20:15:02.109Z"
   },
   {
    "duration": 4,
    "start_time": "2022-05-27T20:15:03.472Z"
   },
   {
    "duration": 434,
    "start_time": "2022-05-27T20:15:03.478Z"
   },
   {
    "duration": 402,
    "start_time": "2022-05-27T20:15:03.914Z"
   },
   {
    "duration": 202,
    "start_time": "2022-05-27T20:15:04.318Z"
   },
   {
    "duration": 3,
    "start_time": "2022-05-27T20:15:04.522Z"
   },
   {
    "duration": 38,
    "start_time": "2022-05-27T20:15:04.528Z"
   },
   {
    "duration": 5,
    "start_time": "2022-05-27T20:15:04.568Z"
   },
   {
    "duration": 11,
    "start_time": "2022-05-27T20:15:04.575Z"
   },
   {
    "duration": 12,
    "start_time": "2022-05-27T20:15:04.587Z"
   },
   {
    "duration": 15,
    "start_time": "2022-05-27T20:15:04.601Z"
   },
   {
    "duration": 12,
    "start_time": "2022-05-27T20:15:04.617Z"
   },
   {
    "duration": 28,
    "start_time": "2022-05-27T20:15:04.630Z"
   },
   {
    "duration": 30,
    "start_time": "2022-05-27T20:15:04.660Z"
   },
   {
    "duration": 30,
    "start_time": "2022-05-27T20:15:04.692Z"
   },
   {
    "duration": 44,
    "start_time": "2022-05-27T20:15:04.724Z"
   },
   {
    "duration": 3,
    "start_time": "2022-05-27T20:15:04.769Z"
   },
   {
    "duration": 5,
    "start_time": "2022-05-27T20:15:04.774Z"
   },
   {
    "duration": 4,
    "start_time": "2022-05-27T20:15:04.780Z"
   },
   {
    "duration": 7,
    "start_time": "2022-05-27T20:15:04.786Z"
   },
   {
    "duration": 64,
    "start_time": "2022-05-27T20:15:04.795Z"
   },
   {
    "duration": 16,
    "start_time": "2022-05-27T20:15:04.864Z"
   },
   {
    "duration": 5,
    "start_time": "2022-05-27T20:15:04.882Z"
   },
   {
    "duration": 6982,
    "start_time": "2022-05-27T20:15:04.889Z"
   },
   {
    "duration": 339044,
    "start_time": "2022-05-27T20:15:11.941Z"
   },
   {
    "duration": 3,
    "start_time": "2022-05-27T20:20:50.989Z"
   },
   {
    "duration": 13,
    "start_time": "2022-05-27T20:20:50.994Z"
   },
   {
    "duration": 430496,
    "start_time": "2022-05-27T20:20:51.009Z"
   },
   {
    "duration": 4,
    "start_time": "2022-05-27T20:28:01.507Z"
   },
   {
    "duration": 118,
    "start_time": "2022-05-27T20:28:01.512Z"
   },
   {
    "duration": 20,
    "start_time": "2022-05-27T20:28:01.632Z"
   },
   {
    "duration": 63,
    "start_time": "2022-05-27T20:28:01.654Z"
   },
   {
    "duration": 10,
    "start_time": "2022-05-27T20:28:01.719Z"
   },
   {
    "duration": 42,
    "start_time": "2022-05-29T06:36:00.969Z"
   },
   {
    "duration": 53,
    "start_time": "2022-05-29T06:36:22.646Z"
   },
   {
    "duration": 8,
    "start_time": "2022-05-29T06:37:03.609Z"
   },
   {
    "duration": 1163,
    "start_time": "2022-05-29T06:37:13.708Z"
   },
   {
    "duration": 1767,
    "start_time": "2022-05-29T06:37:14.873Z"
   },
   {
    "duration": 362,
    "start_time": "2022-05-29T06:37:16.642Z"
   },
   {
    "duration": 848,
    "start_time": "2022-05-29T06:37:17.006Z"
   },
   {
    "duration": 3,
    "start_time": "2022-05-29T06:37:17.856Z"
   },
   {
    "duration": 385,
    "start_time": "2022-05-29T06:37:17.861Z"
   },
   {
    "duration": 367,
    "start_time": "2022-05-29T06:37:18.248Z"
   },
   {
    "duration": 180,
    "start_time": "2022-05-29T06:37:18.617Z"
   },
   {
    "duration": 3,
    "start_time": "2022-05-29T06:37:18.798Z"
   },
   {
    "duration": 8,
    "start_time": "2022-05-29T06:37:18.803Z"
   },
   {
    "duration": 4,
    "start_time": "2022-05-29T06:37:18.812Z"
   },
   {
    "duration": 7,
    "start_time": "2022-05-29T06:37:18.817Z"
   },
   {
    "duration": 7,
    "start_time": "2022-05-29T06:37:18.825Z"
   },
   {
    "duration": 36,
    "start_time": "2022-05-29T06:37:18.833Z"
   },
   {
    "duration": 22,
    "start_time": "2022-05-29T06:37:18.870Z"
   },
   {
    "duration": 16,
    "start_time": "2022-05-29T06:37:18.893Z"
   },
   {
    "duration": 20,
    "start_time": "2022-05-29T06:37:18.911Z"
   },
   {
    "duration": 32,
    "start_time": "2022-05-29T06:37:18.932Z"
   },
   {
    "duration": 23,
    "start_time": "2022-05-29T06:37:18.965Z"
   },
   {
    "duration": 20,
    "start_time": "2022-05-29T06:37:24.923Z"
   },
   {
    "duration": 21,
    "start_time": "2022-05-29T06:44:33.263Z"
   },
   {
    "duration": 21,
    "start_time": "2022-05-29T06:48:26.565Z"
   },
   {
    "duration": 22,
    "start_time": "2022-05-29T06:52:43.148Z"
   },
   {
    "duration": 22,
    "start_time": "2022-05-29T06:53:00.321Z"
   },
   {
    "duration": 17,
    "start_time": "2022-05-29T06:53:52.148Z"
   },
   {
    "duration": 15,
    "start_time": "2022-05-29T06:54:05.813Z"
   },
   {
    "duration": 15,
    "start_time": "2022-05-29T06:54:47.769Z"
   },
   {
    "duration": 999,
    "start_time": "2022-05-29T07:27:28.457Z"
   },
   {
    "duration": 214,
    "start_time": "2022-05-29T07:27:53.397Z"
   },
   {
    "duration": 265,
    "start_time": "2022-05-29T07:28:25.596Z"
   },
   {
    "duration": 819,
    "start_time": "2022-05-29T07:28:43.490Z"
   },
   {
    "duration": 1427,
    "start_time": "2022-05-29T07:28:55.756Z"
   },
   {
    "duration": 14,
    "start_time": "2022-05-29T07:35:11.789Z"
   },
   {
    "duration": 4,
    "start_time": "2022-05-29T07:35:46.679Z"
   },
   {
    "duration": 390,
    "start_time": "2022-05-29T07:35:46.684Z"
   },
   {
    "duration": 99,
    "start_time": "2022-05-29T07:35:47.076Z"
   },
   {
    "duration": 303,
    "start_time": "2022-05-29T07:35:47.177Z"
   },
   {
    "duration": 5,
    "start_time": "2022-05-29T07:35:47.483Z"
   },
   {
    "duration": 432,
    "start_time": "2022-05-29T07:35:47.490Z"
   },
   {
    "duration": 437,
    "start_time": "2022-05-29T07:35:47.924Z"
   },
   {
    "duration": 218,
    "start_time": "2022-05-29T07:35:48.363Z"
   },
   {
    "duration": 4,
    "start_time": "2022-05-29T07:35:48.584Z"
   },
   {
    "duration": 9,
    "start_time": "2022-05-29T07:35:48.589Z"
   },
   {
    "duration": 9,
    "start_time": "2022-05-29T07:35:48.599Z"
   },
   {
    "duration": 9,
    "start_time": "2022-05-29T07:35:48.611Z"
   },
   {
    "duration": 9,
    "start_time": "2022-05-29T07:35:48.622Z"
   },
   {
    "duration": 19,
    "start_time": "2022-05-29T07:35:48.658Z"
   },
   {
    "duration": 11,
    "start_time": "2022-05-29T07:35:48.679Z"
   },
   {
    "duration": 12,
    "start_time": "2022-05-29T07:35:48.692Z"
   },
   {
    "duration": 54,
    "start_time": "2022-05-29T07:35:48.705Z"
   },
   {
    "duration": 21,
    "start_time": "2022-05-29T07:35:48.762Z"
   },
   {
    "duration": 33,
    "start_time": "2022-05-29T07:35:48.785Z"
   },
   {
    "duration": 1495,
    "start_time": "2022-05-29T07:35:48.820Z"
   },
   {
    "duration": 3,
    "start_time": "2022-05-29T07:35:50.318Z"
   },
   {
    "duration": 6,
    "start_time": "2022-05-29T07:35:50.323Z"
   },
   {
    "duration": 4,
    "start_time": "2022-05-29T07:35:50.331Z"
   },
   {
    "duration": 28,
    "start_time": "2022-05-29T07:35:50.337Z"
   },
   {
    "duration": 33,
    "start_time": "2022-05-29T07:35:50.366Z"
   },
   {
    "duration": 16,
    "start_time": "2022-05-29T07:35:50.401Z"
   },
   {
    "duration": 7,
    "start_time": "2022-05-29T07:35:55.403Z"
   },
   {
    "duration": 9,
    "start_time": "2022-05-29T07:36:55.596Z"
   },
   {
    "duration": 429,
    "start_time": "2022-05-29T08:00:11.673Z"
   },
   {
    "duration": 15,
    "start_time": "2022-05-29T08:00:57.874Z"
   },
   {
    "duration": 365,
    "start_time": "2022-05-29T08:04:31.374Z"
   },
   {
    "duration": 7703,
    "start_time": "2022-05-29T08:05:46.924Z"
   },
   {
    "duration": 424,
    "start_time": "2022-05-29T08:05:59.924Z"
   },
   {
    "duration": 6,
    "start_time": "2022-05-29T08:06:11.292Z"
   },
   {
    "duration": 63,
    "start_time": "2022-05-29T08:06:30.326Z"
   },
   {
    "duration": 36,
    "start_time": "2022-05-29T08:11:07.189Z"
   },
   {
    "duration": 26,
    "start_time": "2022-05-29T08:12:02.677Z"
   },
   {
    "duration": 27,
    "start_time": "2022-05-29T08:16:23.505Z"
   },
   {
    "duration": 19,
    "start_time": "2022-05-29T08:17:28.406Z"
   },
   {
    "duration": 1237,
    "start_time": "2022-05-29T09:24:11.360Z"
   },
   {
    "duration": 6249,
    "start_time": "2022-05-29T09:24:17.963Z"
   },
   {
    "duration": 437,
    "start_time": "2022-05-29T09:24:24.215Z"
   },
   {
    "duration": 1919,
    "start_time": "2022-05-29T09:24:24.654Z"
   },
   {
    "duration": 372,
    "start_time": "2022-05-29T09:24:26.575Z"
   },
   {
    "duration": 994,
    "start_time": "2022-05-29T09:24:26.949Z"
   },
   {
    "duration": 3,
    "start_time": "2022-05-29T09:24:27.946Z"
   },
   {
    "duration": 507,
    "start_time": "2022-05-29T09:24:27.951Z"
   },
   {
    "duration": 401,
    "start_time": "2022-05-29T09:24:28.460Z"
   },
   {
    "duration": 265,
    "start_time": "2022-05-29T09:24:28.863Z"
   },
   {
    "duration": 3,
    "start_time": "2022-05-29T09:24:29.130Z"
   },
   {
    "duration": 13,
    "start_time": "2022-05-29T09:24:29.136Z"
   },
   {
    "duration": 5,
    "start_time": "2022-05-29T09:24:29.152Z"
   },
   {
    "duration": 10,
    "start_time": "2022-05-29T09:24:29.159Z"
   },
   {
    "duration": 33,
    "start_time": "2022-05-29T09:24:29.171Z"
   },
   {
    "duration": 37,
    "start_time": "2022-05-29T09:24:29.206Z"
   },
   {
    "duration": 16,
    "start_time": "2022-05-29T09:24:29.246Z"
   },
   {
    "duration": 17,
    "start_time": "2022-05-29T09:24:29.401Z"
   },
   {
    "duration": 26,
    "start_time": "2022-05-29T09:24:30.140Z"
   },
   {
    "duration": 25,
    "start_time": "2022-05-29T09:24:30.961Z"
   },
   {
    "duration": 32,
    "start_time": "2022-05-29T09:24:31.829Z"
   },
   {
    "duration": 2128,
    "start_time": "2022-05-29T09:24:32.459Z"
   },
   {
    "duration": 6,
    "start_time": "2022-05-29T09:24:34.589Z"
   },
   {
    "duration": 23,
    "start_time": "2022-05-29T09:24:34.597Z"
   },
   {
    "duration": 3,
    "start_time": "2022-05-29T09:24:34.886Z"
   },
   {
    "duration": 4,
    "start_time": "2022-05-29T09:24:40.241Z"
   },
   {
    "duration": 31,
    "start_time": "2022-05-29T09:24:41.759Z"
   },
   {
    "duration": 21,
    "start_time": "2022-05-29T09:24:43.287Z"
   },
   {
    "duration": 4,
    "start_time": "2022-05-29T09:24:44.129Z"
   },
   {
    "duration": 184318,
    "start_time": "2022-05-29T09:24:48.660Z"
   },
   {
    "duration": 18395,
    "start_time": "2022-05-29T09:30:14.144Z"
   },
   {
    "duration": 20350,
    "start_time": "2022-05-29T09:30:37.831Z"
   },
   {
    "duration": 20639,
    "start_time": "2022-05-29T09:31:16.078Z"
   }
  ],
  "kernelspec": {
   "display_name": "Python 3 (ipykernel)",
   "language": "python",
   "name": "python3"
  },
  "language_info": {
   "codemirror_mode": {
    "name": "ipython",
    "version": 3
   },
   "file_extension": ".py",
   "mimetype": "text/x-python",
   "name": "python",
   "nbconvert_exporter": "python",
   "pygments_lexer": "ipython3",
   "version": "3.9.7"
  },
  "toc": {
   "base_numbering": 1,
   "nav_menu": {},
   "number_sections": true,
   "sideBar": true,
   "skip_h1_title": true,
   "title_cell": "Содержание",
   "title_sidebar": "Contents",
   "toc_cell": true,
   "toc_position": {
    "height": "calc(100% - 180px)",
    "left": "10px",
    "top": "150px",
    "width": "289.6px"
   },
   "toc_section_display": true,
   "toc_window_display": true
  }
 },
 "nbformat": 4,
 "nbformat_minor": 2
}
