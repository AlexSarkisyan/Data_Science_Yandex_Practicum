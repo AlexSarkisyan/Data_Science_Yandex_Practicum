{
 "cells": [
  {
   "cell_type": "markdown",
   "metadata": {
    "toc": true
   },
   "source": [
    "<h1>Содержание<span class=\"tocSkip\"></span></h1>\n",
    "<div class=\"toc\"><ul class=\"toc-item\"><li><span><a href=\"#Подготовка-данных\" data-toc-modified-id=\"Подготовка-данных-1\"><span class=\"toc-item-num\">1&nbsp;&nbsp;</span>Подготовка данных</a></span></li><li><span><a href=\"#Исследование-задачи\" data-toc-modified-id=\"Исследование-задачи-2\"><span class=\"toc-item-num\">2&nbsp;&nbsp;</span>Исследование задачи</a></span></li><li><span><a href=\"#Борьба-с-дисбалансом\" data-toc-modified-id=\"Борьба-с-дисбалансом-3\"><span class=\"toc-item-num\">3&nbsp;&nbsp;</span>Борьба с дисбалансом</a></span></li><li><span><a href=\"#Тестирование-модели\" data-toc-modified-id=\"Тестирование-модели-4\"><span class=\"toc-item-num\">4&nbsp;&nbsp;</span>Тестирование модели</a></span></li><li><span><a href=\"#Чек-лист-готовности-проекта\" data-toc-modified-id=\"Чек-лист-готовности-проекта-5\"><span class=\"toc-item-num\">5&nbsp;&nbsp;</span>Чек-лист готовности проекта</a></span></li></ul></div>"
   ]
  },
  {
   "cell_type": "markdown",
   "metadata": {},
   "source": [
    "# Отток клиентов"
   ]
  },
  {
   "cell_type": "markdown",
   "metadata": {},
   "source": [
    "Из «Бета-Банка» стали уходить клиенты. Каждый месяц. Немного, но заметно. Банковские маркетологи посчитали: сохранять текущих клиентов дешевле, чем привлекать новых.\n",
    "\n",
    "Нужно спрогнозировать, уйдёт клиент из банка в ближайшее время или нет. Вам предоставлены исторические данные о поведении клиентов и расторжении договоров с банком. \n",
    "\n",
    "Постройте модель с предельно большим значением *F1*-меры. Чтобы сдать проект успешно, нужно довести метрику до 0.59. Проверьте *F1*-меру на тестовой выборке самостоятельно.\n",
    "\n",
    "Дополнительно измеряйте *AUC-ROC*, сравнивайте её значение с *F1*-мерой.\n",
    "\n",
    "Источник данных: [https://www.kaggle.com/barelydedicated/bank-customer-churn-modeling](https://www.kaggle.com/barelydedicated/bank-customer-churn-modeling)"
   ]
  },
  {
   "cell_type": "markdown",
   "metadata": {},
   "source": [
    "## Подготовка данных"
   ]
  },
  {
   "cell_type": "code",
   "execution_count": 1,
   "metadata": {},
   "outputs": [],
   "source": [
    "import pandas as pd\n",
    "import os\n",
    "from sklearn.model_selection import train_test_split\n",
    "from sklearn.metrics import accuracy_score\n",
    "from sklearn.tree import DecisionTreeClassifier\n",
    "from sklearn.ensemble import RandomForestClassifier\n",
    "from sklearn.linear_model import LogisticRegression\n",
    "from sklearn.preprocessing import StandardScaler\n",
    "from sklearn.metrics import accuracy_score\n",
    "from sklearn.metrics import confusion_matrix\n",
    "from sklearn.metrics import recall_score\n",
    "from sklearn.metrics import precision_score\n",
    "from sklearn.metrics import f1_score\n",
    "from sklearn.metrics import roc_auc_score\n",
    "from sklearn.metrics import roc_curve\n",
    "from sklearn.utils import shuffle\n",
    "from sklearn.dummy import DummyClassifier\n",
    "import matplotlib.pyplot as plt"
   ]
  },
  {
   "cell_type": "code",
   "execution_count": 2,
   "metadata": {},
   "outputs": [],
   "source": [
    "pth1 = '/datasets/Churn.csv'\n",
    "pth2 = '/Users/Alex/Desktop/practicum_ds/projects/ml/Churn.csv'\n",
    "\n",
    "if os.path.exists(pth1):\n",
    "    df = pd.read_csv(pth1)\n",
    "elif os.path.exists(pth2):\n",
    "    df = pd.read_csv(pth2)\n",
    "else:\n",
    "    print('Something is wrong')"
   ]
  },
  {
   "cell_type": "code",
   "execution_count": 3,
   "metadata": {},
   "outputs": [
    {
     "data": {
      "text/html": [
       "<div>\n",
       "<style scoped>\n",
       "    .dataframe tbody tr th:only-of-type {\n",
       "        vertical-align: middle;\n",
       "    }\n",
       "\n",
       "    .dataframe tbody tr th {\n",
       "        vertical-align: top;\n",
       "    }\n",
       "\n",
       "    .dataframe thead th {\n",
       "        text-align: right;\n",
       "    }\n",
       "</style>\n",
       "<table border=\"1\" class=\"dataframe\">\n",
       "  <thead>\n",
       "    <tr style=\"text-align: right;\">\n",
       "      <th></th>\n",
       "      <th>RowNumber</th>\n",
       "      <th>CustomerId</th>\n",
       "      <th>Surname</th>\n",
       "      <th>CreditScore</th>\n",
       "      <th>Geography</th>\n",
       "      <th>Gender</th>\n",
       "      <th>Age</th>\n",
       "      <th>Tenure</th>\n",
       "      <th>Balance</th>\n",
       "      <th>NumOfProducts</th>\n",
       "      <th>HasCrCard</th>\n",
       "      <th>IsActiveMember</th>\n",
       "      <th>EstimatedSalary</th>\n",
       "      <th>Exited</th>\n",
       "    </tr>\n",
       "  </thead>\n",
       "  <tbody>\n",
       "    <tr>\n",
       "      <th>0</th>\n",
       "      <td>1</td>\n",
       "      <td>15634602</td>\n",
       "      <td>Hargrave</td>\n",
       "      <td>619</td>\n",
       "      <td>France</td>\n",
       "      <td>Female</td>\n",
       "      <td>42</td>\n",
       "      <td>2.0</td>\n",
       "      <td>0.00</td>\n",
       "      <td>1</td>\n",
       "      <td>1</td>\n",
       "      <td>1</td>\n",
       "      <td>101348.88</td>\n",
       "      <td>1</td>\n",
       "    </tr>\n",
       "    <tr>\n",
       "      <th>1</th>\n",
       "      <td>2</td>\n",
       "      <td>15647311</td>\n",
       "      <td>Hill</td>\n",
       "      <td>608</td>\n",
       "      <td>Spain</td>\n",
       "      <td>Female</td>\n",
       "      <td>41</td>\n",
       "      <td>1.0</td>\n",
       "      <td>83807.86</td>\n",
       "      <td>1</td>\n",
       "      <td>0</td>\n",
       "      <td>1</td>\n",
       "      <td>112542.58</td>\n",
       "      <td>0</td>\n",
       "    </tr>\n",
       "    <tr>\n",
       "      <th>2</th>\n",
       "      <td>3</td>\n",
       "      <td>15619304</td>\n",
       "      <td>Onio</td>\n",
       "      <td>502</td>\n",
       "      <td>France</td>\n",
       "      <td>Female</td>\n",
       "      <td>42</td>\n",
       "      <td>8.0</td>\n",
       "      <td>159660.80</td>\n",
       "      <td>3</td>\n",
       "      <td>1</td>\n",
       "      <td>0</td>\n",
       "      <td>113931.57</td>\n",
       "      <td>1</td>\n",
       "    </tr>\n",
       "    <tr>\n",
       "      <th>3</th>\n",
       "      <td>4</td>\n",
       "      <td>15701354</td>\n",
       "      <td>Boni</td>\n",
       "      <td>699</td>\n",
       "      <td>France</td>\n",
       "      <td>Female</td>\n",
       "      <td>39</td>\n",
       "      <td>1.0</td>\n",
       "      <td>0.00</td>\n",
       "      <td>2</td>\n",
       "      <td>0</td>\n",
       "      <td>0</td>\n",
       "      <td>93826.63</td>\n",
       "      <td>0</td>\n",
       "    </tr>\n",
       "    <tr>\n",
       "      <th>4</th>\n",
       "      <td>5</td>\n",
       "      <td>15737888</td>\n",
       "      <td>Mitchell</td>\n",
       "      <td>850</td>\n",
       "      <td>Spain</td>\n",
       "      <td>Female</td>\n",
       "      <td>43</td>\n",
       "      <td>2.0</td>\n",
       "      <td>125510.82</td>\n",
       "      <td>1</td>\n",
       "      <td>1</td>\n",
       "      <td>1</td>\n",
       "      <td>79084.10</td>\n",
       "      <td>0</td>\n",
       "    </tr>\n",
       "  </tbody>\n",
       "</table>\n",
       "</div>"
      ],
      "text/plain": [
       "   RowNumber  CustomerId   Surname  CreditScore Geography  Gender  Age  \\\n",
       "0          1    15634602  Hargrave          619    France  Female   42   \n",
       "1          2    15647311      Hill          608     Spain  Female   41   \n",
       "2          3    15619304      Onio          502    France  Female   42   \n",
       "3          4    15701354      Boni          699    France  Female   39   \n",
       "4          5    15737888  Mitchell          850     Spain  Female   43   \n",
       "\n",
       "   Tenure    Balance  NumOfProducts  HasCrCard  IsActiveMember  \\\n",
       "0     2.0       0.00              1          1               1   \n",
       "1     1.0   83807.86              1          0               1   \n",
       "2     8.0  159660.80              3          1               0   \n",
       "3     1.0       0.00              2          0               0   \n",
       "4     2.0  125510.82              1          1               1   \n",
       "\n",
       "   EstimatedSalary  Exited  \n",
       "0        101348.88       1  \n",
       "1        112542.58       0  \n",
       "2        113931.57       1  \n",
       "3         93826.63       0  \n",
       "4         79084.10       0  "
      ]
     },
     "execution_count": 3,
     "metadata": {},
     "output_type": "execute_result"
    }
   ],
   "source": [
    "df.head()"
   ]
  },
  {
   "cell_type": "code",
   "execution_count": 4,
   "metadata": {},
   "outputs": [
    {
     "name": "stdout",
     "output_type": "stream",
     "text": [
      "<class 'pandas.core.frame.DataFrame'>\n",
      "RangeIndex: 10000 entries, 0 to 9999\n",
      "Data columns (total 14 columns):\n",
      " #   Column           Non-Null Count  Dtype  \n",
      "---  ------           --------------  -----  \n",
      " 0   RowNumber        10000 non-null  int64  \n",
      " 1   CustomerId       10000 non-null  int64  \n",
      " 2   Surname          10000 non-null  object \n",
      " 3   CreditScore      10000 non-null  int64  \n",
      " 4   Geography        10000 non-null  object \n",
      " 5   Gender           10000 non-null  object \n",
      " 6   Age              10000 non-null  int64  \n",
      " 7   Tenure           9091 non-null   float64\n",
      " 8   Balance          10000 non-null  float64\n",
      " 9   NumOfProducts    10000 non-null  int64  \n",
      " 10  HasCrCard        10000 non-null  int64  \n",
      " 11  IsActiveMember   10000 non-null  int64  \n",
      " 12  EstimatedSalary  10000 non-null  float64\n",
      " 13  Exited           10000 non-null  int64  \n",
      "dtypes: float64(3), int64(8), object(3)\n",
      "memory usage: 1.1+ MB\n"
     ]
    }
   ],
   "source": [
    "df.info()"
   ]
  },
  {
   "cell_type": "markdown",
   "metadata": {},
   "source": [
    "**Вывод:**\n",
    "\n",
    "Итак, в таблице 11 столбецов.\n",
    "\n",
    "Описание данных:\n",
    "\n",
    "Признаки:\n",
    "\n",
    "- RowNumber — индекс строки в данных\n",
    "- CustomerId — уникальный идентификатор клиента\n",
    "- Surname — фамилия\n",
    "- CreditScore — кредитный рейтинг\n",
    "- Geography — страна проживания\n",
    "- Gender — пол\n",
    "- Age — возраст\n",
    "- Tenure — сколько лет человек является клиентом банка\n",
    "- Balance — баланс на счёте\n",
    "- NumOfProducts — количество продуктов банка, используемых клиентом\n",
    "- HasCrCard — наличие кредитной карты\n",
    "- IsActiveMember — активность клиента\n",
    "- EstimatedSalary — предполагаемая зарплата\n",
    "\n",
    "Целевой признак:\n",
    "\n",
    "- Exited — факт ухода клиента\n",
    "\n",
    "Предварительно можно утверждать, что, данных достаточно для решения задачи.\n",
    "\n",
    "При этом надо отметить, что в данных встречаются пропуски (признак Tenure).\n",
    "\n",
    "В первом приближении артефакты (аномалии)* не обнаружены (значения, которые не отражают действительность и появились по какой-то ошибке).\n",
    "\n",
    "Соблюдение требований к стилю в названии колонок:\n",
    "\n",
    "Отсутствие пробелов - да.\n",
    "\n",
    "Использован «змеиный_регистр» (snake_case) или CamelCase - да.\n",
    "\n",
    "Первые три признака не требуются для обучения модели т.к. не несут смысловой нагрузки.\n",
    "\n",
    "Чтобы двигаться дальше, нужно устранить проблемы в данных."
   ]
  },
  {
   "cell_type": "code",
   "execution_count": 5,
   "metadata": {},
   "outputs": [],
   "source": [
    "# удаление первых 3 признаков\n",
    "df = df.drop([\"RowNumber\",\"CustomerId\",\"Surname\"], axis = 1)"
   ]
  },
  {
   "cell_type": "code",
   "execution_count": 6,
   "metadata": {},
   "outputs": [
    {
     "data": {
      "text/html": [
       "<div>\n",
       "<style scoped>\n",
       "    .dataframe tbody tr th:only-of-type {\n",
       "        vertical-align: middle;\n",
       "    }\n",
       "\n",
       "    .dataframe tbody tr th {\n",
       "        vertical-align: top;\n",
       "    }\n",
       "\n",
       "    .dataframe thead th {\n",
       "        text-align: right;\n",
       "    }\n",
       "</style>\n",
       "<table border=\"1\" class=\"dataframe\">\n",
       "  <thead>\n",
       "    <tr style=\"text-align: right;\">\n",
       "      <th></th>\n",
       "      <th>CreditScore</th>\n",
       "      <th>Age</th>\n",
       "      <th>Tenure</th>\n",
       "      <th>Balance</th>\n",
       "      <th>NumOfProducts</th>\n",
       "      <th>HasCrCard</th>\n",
       "      <th>IsActiveMember</th>\n",
       "      <th>EstimatedSalary</th>\n",
       "      <th>Exited</th>\n",
       "    </tr>\n",
       "  </thead>\n",
       "  <tbody>\n",
       "    <tr>\n",
       "      <th>count</th>\n",
       "      <td>10000.000000</td>\n",
       "      <td>10000.000000</td>\n",
       "      <td>9091.000000</td>\n",
       "      <td>10000.000000</td>\n",
       "      <td>10000.000000</td>\n",
       "      <td>10000.00000</td>\n",
       "      <td>10000.000000</td>\n",
       "      <td>10000.000000</td>\n",
       "      <td>10000.000000</td>\n",
       "    </tr>\n",
       "    <tr>\n",
       "      <th>mean</th>\n",
       "      <td>650.528800</td>\n",
       "      <td>38.921800</td>\n",
       "      <td>4.997690</td>\n",
       "      <td>76485.889288</td>\n",
       "      <td>1.530200</td>\n",
       "      <td>0.70550</td>\n",
       "      <td>0.515100</td>\n",
       "      <td>100090.239881</td>\n",
       "      <td>0.203700</td>\n",
       "    </tr>\n",
       "    <tr>\n",
       "      <th>std</th>\n",
       "      <td>96.653299</td>\n",
       "      <td>10.487806</td>\n",
       "      <td>2.894723</td>\n",
       "      <td>62397.405202</td>\n",
       "      <td>0.581654</td>\n",
       "      <td>0.45584</td>\n",
       "      <td>0.499797</td>\n",
       "      <td>57510.492818</td>\n",
       "      <td>0.402769</td>\n",
       "    </tr>\n",
       "    <tr>\n",
       "      <th>min</th>\n",
       "      <td>350.000000</td>\n",
       "      <td>18.000000</td>\n",
       "      <td>0.000000</td>\n",
       "      <td>0.000000</td>\n",
       "      <td>1.000000</td>\n",
       "      <td>0.00000</td>\n",
       "      <td>0.000000</td>\n",
       "      <td>11.580000</td>\n",
       "      <td>0.000000</td>\n",
       "    </tr>\n",
       "    <tr>\n",
       "      <th>25%</th>\n",
       "      <td>584.000000</td>\n",
       "      <td>32.000000</td>\n",
       "      <td>2.000000</td>\n",
       "      <td>0.000000</td>\n",
       "      <td>1.000000</td>\n",
       "      <td>0.00000</td>\n",
       "      <td>0.000000</td>\n",
       "      <td>51002.110000</td>\n",
       "      <td>0.000000</td>\n",
       "    </tr>\n",
       "    <tr>\n",
       "      <th>50%</th>\n",
       "      <td>652.000000</td>\n",
       "      <td>37.000000</td>\n",
       "      <td>5.000000</td>\n",
       "      <td>97198.540000</td>\n",
       "      <td>1.000000</td>\n",
       "      <td>1.00000</td>\n",
       "      <td>1.000000</td>\n",
       "      <td>100193.915000</td>\n",
       "      <td>0.000000</td>\n",
       "    </tr>\n",
       "    <tr>\n",
       "      <th>75%</th>\n",
       "      <td>718.000000</td>\n",
       "      <td>44.000000</td>\n",
       "      <td>7.000000</td>\n",
       "      <td>127644.240000</td>\n",
       "      <td>2.000000</td>\n",
       "      <td>1.00000</td>\n",
       "      <td>1.000000</td>\n",
       "      <td>149388.247500</td>\n",
       "      <td>0.000000</td>\n",
       "    </tr>\n",
       "    <tr>\n",
       "      <th>max</th>\n",
       "      <td>850.000000</td>\n",
       "      <td>92.000000</td>\n",
       "      <td>10.000000</td>\n",
       "      <td>250898.090000</td>\n",
       "      <td>4.000000</td>\n",
       "      <td>1.00000</td>\n",
       "      <td>1.000000</td>\n",
       "      <td>199992.480000</td>\n",
       "      <td>1.000000</td>\n",
       "    </tr>\n",
       "  </tbody>\n",
       "</table>\n",
       "</div>"
      ],
      "text/plain": [
       "        CreditScore           Age       Tenure        Balance  NumOfProducts  \\\n",
       "count  10000.000000  10000.000000  9091.000000   10000.000000   10000.000000   \n",
       "mean     650.528800     38.921800     4.997690   76485.889288       1.530200   \n",
       "std       96.653299     10.487806     2.894723   62397.405202       0.581654   \n",
       "min      350.000000     18.000000     0.000000       0.000000       1.000000   \n",
       "25%      584.000000     32.000000     2.000000       0.000000       1.000000   \n",
       "50%      652.000000     37.000000     5.000000   97198.540000       1.000000   \n",
       "75%      718.000000     44.000000     7.000000  127644.240000       2.000000   \n",
       "max      850.000000     92.000000    10.000000  250898.090000       4.000000   \n",
       "\n",
       "         HasCrCard  IsActiveMember  EstimatedSalary        Exited  \n",
       "count  10000.00000    10000.000000     10000.000000  10000.000000  \n",
       "mean       0.70550        0.515100    100090.239881      0.203700  \n",
       "std        0.45584        0.499797     57510.492818      0.402769  \n",
       "min        0.00000        0.000000        11.580000      0.000000  \n",
       "25%        0.00000        0.000000     51002.110000      0.000000  \n",
       "50%        1.00000        1.000000    100193.915000      0.000000  \n",
       "75%        1.00000        1.000000    149388.247500      0.000000  \n",
       "max        1.00000        1.000000    199992.480000      1.000000  "
      ]
     },
     "execution_count": 6,
     "metadata": {},
     "output_type": "execute_result"
    }
   ],
   "source": [
    "df.describe()"
   ]
  },
  {
   "cell_type": "code",
   "execution_count": 7,
   "metadata": {},
   "outputs": [],
   "source": [
    "# Преобразуем категориальные признаки в численные техникой прямого кодирования,\n",
    "# или отображения (англ. One-Hot Encoding, OHE).\n",
    "df = pd.get_dummies(df, drop_first=True)"
   ]
  },
  {
   "cell_type": "markdown",
   "metadata": {},
   "source": [
    "**Обработка пропусков**"
   ]
  },
  {
   "cell_type": "code",
   "execution_count": 8,
   "metadata": {},
   "outputs": [
    {
     "data": {
      "text/html": [
       "<div>\n",
       "<style scoped>\n",
       "    .dataframe tbody tr th:only-of-type {\n",
       "        vertical-align: middle;\n",
       "    }\n",
       "\n",
       "    .dataframe tbody tr th {\n",
       "        vertical-align: top;\n",
       "    }\n",
       "\n",
       "    .dataframe thead th {\n",
       "        text-align: right;\n",
       "    }\n",
       "</style>\n",
       "<table border=\"1\" class=\"dataframe\">\n",
       "  <thead>\n",
       "    <tr style=\"text-align: right;\">\n",
       "      <th></th>\n",
       "      <th>CreditScore</th>\n",
       "      <th>Age</th>\n",
       "      <th>Tenure</th>\n",
       "      <th>Balance</th>\n",
       "      <th>NumOfProducts</th>\n",
       "      <th>HasCrCard</th>\n",
       "      <th>IsActiveMember</th>\n",
       "      <th>EstimatedSalary</th>\n",
       "      <th>Exited</th>\n",
       "      <th>Geography_Germany</th>\n",
       "      <th>Geography_Spain</th>\n",
       "      <th>Gender_Male</th>\n",
       "    </tr>\n",
       "  </thead>\n",
       "  <tbody>\n",
       "    <tr>\n",
       "      <th>count</th>\n",
       "      <td>909.000000</td>\n",
       "      <td>909.000000</td>\n",
       "      <td>0.0</td>\n",
       "      <td>909.000000</td>\n",
       "      <td>909.000000</td>\n",
       "      <td>909.000000</td>\n",
       "      <td>909.000000</td>\n",
       "      <td>909.000000</td>\n",
       "      <td>909.000000</td>\n",
       "      <td>909.000000</td>\n",
       "      <td>909.000000</td>\n",
       "      <td>909.000000</td>\n",
       "    </tr>\n",
       "    <tr>\n",
       "      <th>mean</th>\n",
       "      <td>648.451045</td>\n",
       "      <td>38.647965</td>\n",
       "      <td>NaN</td>\n",
       "      <td>76117.341474</td>\n",
       "      <td>1.530253</td>\n",
       "      <td>0.710671</td>\n",
       "      <td>0.510451</td>\n",
       "      <td>99180.389373</td>\n",
       "      <td>0.201320</td>\n",
       "      <td>0.237624</td>\n",
       "      <td>0.251925</td>\n",
       "      <td>0.531353</td>\n",
       "    </tr>\n",
       "    <tr>\n",
       "      <th>std</th>\n",
       "      <td>99.079381</td>\n",
       "      <td>9.785438</td>\n",
       "      <td>NaN</td>\n",
       "      <td>63105.690715</td>\n",
       "      <td>0.588452</td>\n",
       "      <td>0.453701</td>\n",
       "      <td>0.500166</td>\n",
       "      <td>56378.063765</td>\n",
       "      <td>0.401207</td>\n",
       "      <td>0.425862</td>\n",
       "      <td>0.434358</td>\n",
       "      <td>0.499291</td>\n",
       "    </tr>\n",
       "    <tr>\n",
       "      <th>min</th>\n",
       "      <td>359.000000</td>\n",
       "      <td>18.000000</td>\n",
       "      <td>NaN</td>\n",
       "      <td>0.000000</td>\n",
       "      <td>1.000000</td>\n",
       "      <td>0.000000</td>\n",
       "      <td>0.000000</td>\n",
       "      <td>106.670000</td>\n",
       "      <td>0.000000</td>\n",
       "      <td>0.000000</td>\n",
       "      <td>0.000000</td>\n",
       "      <td>0.000000</td>\n",
       "    </tr>\n",
       "    <tr>\n",
       "      <th>25%</th>\n",
       "      <td>580.000000</td>\n",
       "      <td>32.000000</td>\n",
       "      <td>NaN</td>\n",
       "      <td>0.000000</td>\n",
       "      <td>1.000000</td>\n",
       "      <td>0.000000</td>\n",
       "      <td>0.000000</td>\n",
       "      <td>49872.330000</td>\n",
       "      <td>0.000000</td>\n",
       "      <td>0.000000</td>\n",
       "      <td>0.000000</td>\n",
       "      <td>0.000000</td>\n",
       "    </tr>\n",
       "    <tr>\n",
       "      <th>50%</th>\n",
       "      <td>647.000000</td>\n",
       "      <td>37.000000</td>\n",
       "      <td>NaN</td>\n",
       "      <td>96674.550000</td>\n",
       "      <td>1.000000</td>\n",
       "      <td>1.000000</td>\n",
       "      <td>1.000000</td>\n",
       "      <td>99444.020000</td>\n",
       "      <td>0.000000</td>\n",
       "      <td>0.000000</td>\n",
       "      <td>0.000000</td>\n",
       "      <td>1.000000</td>\n",
       "    </tr>\n",
       "    <tr>\n",
       "      <th>75%</th>\n",
       "      <td>718.000000</td>\n",
       "      <td>43.000000</td>\n",
       "      <td>NaN</td>\n",
       "      <td>128554.980000</td>\n",
       "      <td>2.000000</td>\n",
       "      <td>1.000000</td>\n",
       "      <td>1.000000</td>\n",
       "      <td>145759.700000</td>\n",
       "      <td>0.000000</td>\n",
       "      <td>0.000000</td>\n",
       "      <td>1.000000</td>\n",
       "      <td>1.000000</td>\n",
       "    </tr>\n",
       "    <tr>\n",
       "      <th>max</th>\n",
       "      <td>850.000000</td>\n",
       "      <td>92.000000</td>\n",
       "      <td>NaN</td>\n",
       "      <td>206663.750000</td>\n",
       "      <td>4.000000</td>\n",
       "      <td>1.000000</td>\n",
       "      <td>1.000000</td>\n",
       "      <td>199390.450000</td>\n",
       "      <td>1.000000</td>\n",
       "      <td>1.000000</td>\n",
       "      <td>1.000000</td>\n",
       "      <td>1.000000</td>\n",
       "    </tr>\n",
       "  </tbody>\n",
       "</table>\n",
       "</div>"
      ],
      "text/plain": [
       "       CreditScore         Age  Tenure        Balance  NumOfProducts  \\\n",
       "count   909.000000  909.000000     0.0     909.000000     909.000000   \n",
       "mean    648.451045   38.647965     NaN   76117.341474       1.530253   \n",
       "std      99.079381    9.785438     NaN   63105.690715       0.588452   \n",
       "min     359.000000   18.000000     NaN       0.000000       1.000000   \n",
       "25%     580.000000   32.000000     NaN       0.000000       1.000000   \n",
       "50%     647.000000   37.000000     NaN   96674.550000       1.000000   \n",
       "75%     718.000000   43.000000     NaN  128554.980000       2.000000   \n",
       "max     850.000000   92.000000     NaN  206663.750000       4.000000   \n",
       "\n",
       "        HasCrCard  IsActiveMember  EstimatedSalary      Exited  \\\n",
       "count  909.000000      909.000000       909.000000  909.000000   \n",
       "mean     0.710671        0.510451     99180.389373    0.201320   \n",
       "std      0.453701        0.500166     56378.063765    0.401207   \n",
       "min      0.000000        0.000000       106.670000    0.000000   \n",
       "25%      0.000000        0.000000     49872.330000    0.000000   \n",
       "50%      1.000000        1.000000     99444.020000    0.000000   \n",
       "75%      1.000000        1.000000    145759.700000    0.000000   \n",
       "max      1.000000        1.000000    199390.450000    1.000000   \n",
       "\n",
       "       Geography_Germany  Geography_Spain  Gender_Male  \n",
       "count         909.000000       909.000000   909.000000  \n",
       "mean            0.237624         0.251925     0.531353  \n",
       "std             0.425862         0.434358     0.499291  \n",
       "min             0.000000         0.000000     0.000000  \n",
       "25%             0.000000         0.000000     0.000000  \n",
       "50%             0.000000         0.000000     1.000000  \n",
       "75%             0.000000         1.000000     1.000000  \n",
       "max             1.000000         1.000000     1.000000  "
      ]
     },
     "execution_count": 8,
     "metadata": {},
     "output_type": "execute_result"
    }
   ],
   "source": [
    "df[df['Tenure'].isnull()].describe()"
   ]
  },
  {
   "cell_type": "code",
   "execution_count": 9,
   "metadata": {},
   "outputs": [
    {
     "data": {
      "text/plain": [
       "0"
      ]
     },
     "execution_count": 9,
     "metadata": {},
     "output_type": "execute_result"
    }
   ],
   "source": [
    "df['Tenure'] = df['Tenure'].fillna(0)\n",
    "df['Tenure'].isnull().sum()"
   ]
  },
  {
   "cell_type": "code",
   "execution_count": 10,
   "metadata": {},
   "outputs": [
    {
     "data": {
      "text/plain": [
       "0"
      ]
     },
     "execution_count": 10,
     "metadata": {},
     "output_type": "execute_result"
    }
   ],
   "source": [
    "# поиск дубликатов\n",
    "df.duplicated().sum()"
   ]
  },
  {
   "cell_type": "markdown",
   "metadata": {},
   "source": [
    "**Формирование выборок:**\n",
    "\n",
    "- обучающая 60%\n",
    "\n",
    "- валидационная 20% для выбора оптимальных параметров\n",
    "\n",
    "- тестовая 20% для теста лучшей модели."
   ]
  },
  {
   "cell_type": "code",
   "execution_count": 11,
   "metadata": {},
   "outputs": [],
   "source": [
    "df_train, df_valid_plus_test = train_test_split(\n",
    "    df,\n",
    "    test_size=0.4,\n",
    "    random_state=12345,\n",
    "    stratify=df['Exited'])"
   ]
  },
  {
   "cell_type": "code",
   "execution_count": 12,
   "metadata": {},
   "outputs": [],
   "source": [
    "df_valid, df_test = train_test_split(\n",
    "    df_valid_plus_test,\n",
    "    test_size=0.5,\n",
    "    random_state=12345,\n",
    "    stratify=df_valid_plus_test['Exited'])"
   ]
  },
  {
   "cell_type": "code",
   "execution_count": 13,
   "metadata": {},
   "outputs": [],
   "source": [
    "features_train = df_train.drop(['Exited'], axis=1)\n",
    "target_train = df_train['Exited']\n",
    "\n",
    "features_valid = df_valid.drop(['Exited'], axis=1)\n",
    "target_valid = df_valid['Exited']\n",
    "\n",
    "features_test = df_test.drop(['Exited'], axis=1)\n",
    "target_test = df_test['Exited']"
   ]
  },
  {
   "cell_type": "markdown",
   "metadata": {},
   "source": [
    "**Масштабирование признаков**"
   ]
  },
  {
   "cell_type": "code",
   "execution_count": 14,
   "metadata": {},
   "outputs": [],
   "source": [
    "# численные признаки\n",
    "numeric = ['CreditScore', 'Age', 'Tenure', 'Balance', 'NumOfProducts', 'EstimatedSalary']"
   ]
  },
  {
   "cell_type": "code",
   "execution_count": 15,
   "metadata": {},
   "outputs": [
    {
     "data": {
      "text/plain": [
       "StandardScaler()"
      ]
     },
     "execution_count": 15,
     "metadata": {},
     "output_type": "execute_result"
    }
   ],
   "source": [
    "# Создадим объект этой структуры и настроим его на обучающих данных:\n",
    "# Настройка — это вычисление среднего и дисперсии:\n",
    "scaler = StandardScaler()\n",
    "scaler.fit(features_train[numeric])"
   ]
  },
  {
   "cell_type": "code",
   "execution_count": 16,
   "metadata": {},
   "outputs": [
    {
     "name": "stdout",
     "output_type": "stream",
     "text": [
      "(6000, 11)\n",
      "(2000, 11)\n",
      "(2000, 11)\n"
     ]
    }
   ],
   "source": [
    "# Преобразуем обучающую и валидационную выборки функцией transform().\n",
    "# Изменённые наборы сохраним в переменных:\n",
    "# features_train_scaled\n",
    "# features_valid_scaled\n",
    "# features_test_scaled\n",
    "\n",
    "features_train[numeric] = scaler.transform(features_train[numeric])\n",
    "features_valid[numeric] = scaler.transform(features_valid[numeric])\n",
    "features_test[numeric] = scaler.transform(features_test[numeric])\n",
    "\n",
    "print(features_train.shape)\n",
    "print(features_valid.shape)\n",
    "print(features_test.shape) "
   ]
  },
  {
   "cell_type": "markdown",
   "metadata": {},
   "source": [
    "## Исследование задачи"
   ]
  },
  {
   "cell_type": "markdown",
   "metadata": {},
   "source": [
    "Для исследования используем три модели:\n",
    "\n",
    "- Решающее дерево\n",
    "- Cлучайный лес (с перебором глубины деревьев)\n",
    "- Логистическая регрессия"
   ]
  },
  {
   "cell_type": "markdown",
   "metadata": {},
   "source": [
    "**Решающее дерево**"
   ]
  },
  {
   "cell_type": "code",
   "execution_count": 17,
   "metadata": {},
   "outputs": [
    {
     "name": "stdout",
     "output_type": "stream",
     "text": [
      "DecisionTreeClassifier(max_depth=7, random_state=12345)\n",
      "Accuracy модели на валидационной выборке: 0.7965\n",
      "F1-мера 0.5924855491329479\n",
      "AUC-ROC 0.6988311656320819\n"
     ]
    }
   ],
   "source": [
    "dtc_best_model = None\n",
    "f1_dtc_best_result = 0\n",
    "for depth in range(1, 20):\n",
    "    dtc_model = DecisionTreeClassifier(\n",
    "        random_state=12345, max_depth=depth)\n",
    "    dtc_model.fit(features_train, target_train)\n",
    "    dtc_prediction = dtc_model.predict(features_valid)\n",
    "    dtc_probabilities_valid = dtc_model.predict_proba(features_valid)\n",
    "    dtc_probabilities_one_valid = dtc_probabilities_valid[:, 1]\n",
    "    dtc_auc_roc = roc_auc_score(target_valid, dtc_probabilities_one_valid)\n",
    "    dtc_result = accuracy_score(target_valid, dtc_prediction)\n",
    "    f1_dtc_result = f1_score(target_valid, dtc_prediction)\n",
    "    if f1_dtc_best_result < f1_dtc_result:\n",
    "        f1_dtc_best_result = f1_dtc_result\n",
    "        dtc_best_model = dtc_model\n",
    "        dtc_result = dtc_result\n",
    "        dtc_auc_roc = dtc_auc_roc\n",
    "        \n",
    "            \n",
    "\n",
    "print(dtc_best_model)\n",
    "print('Accuracy модели на валидационной выборке:', dtc_result)\n",
    "print('F1-мера', f1_dtc_best_result)\n",
    "print('AUC-ROC', dtc_auc_roc)"
   ]
  },
  {
   "cell_type": "markdown",
   "metadata": {},
   "source": [
    "**Cлучайный лес (с перебором глубины деревьев)**"
   ]
  },
  {
   "cell_type": "code",
   "execution_count": 18,
   "metadata": {},
   "outputs": [
    {
     "name": "stdout",
     "output_type": "stream",
     "text": [
      "RandomForestClassifier(max_depth=14, n_estimators=30, random_state=12345)\n",
      "Accuracy модели на валидационной выборке: 0.8665\n",
      "F1-мера 0.6173913043478261\n",
      "AUC-ROC 0.8667926027194797\n"
     ]
    }
   ],
   "source": [
    "rfc_best_model = None\n",
    "f1_rfc_best_result = 0\n",
    "for estim in range(10, 120, 10):\n",
    "    for depth in range(1, 15):\n",
    "        rfc_model = RandomForestClassifier(\n",
    "            random_state=12345,\n",
    "            n_estimators=estim, max_depth=depth)\n",
    "        rfc_model.fit(features_train, target_train)\n",
    "        rfc_prediction = rfc_model.predict(features_valid)\n",
    "        rfc_probabilities_valid = rfc_model.predict_proba(features_valid)\n",
    "        rfc_probabilities_one_valid = rfc_probabilities_valid[:, 1]\n",
    "        rfc_auc_roc = roc_auc_score(target_valid, rfc_probabilities_one_valid)\n",
    "        rfc_result = accuracy_score(target_valid, rfc_prediction)\n",
    "        f1_rfc_result = f1_score(target_valid, rfc_prediction)\n",
    "        if f1_rfc_best_result < f1_rfc_result:\n",
    "            f1_rfc_best_result = f1_rfc_result\n",
    "            rfc_best_model = rfc_model\n",
    "            rfc_result = rfc_result\n",
    "            rfc_auc_roc = rfc_auc_roc\n",
    "            n_estimators=estim\n",
    "            \n",
    "\n",
    "print(rfc_best_model)\n",
    "print('Accuracy модели на валидационной выборке:', rfc_result)\n",
    "print('F1-мера', f1_rfc_best_result)\n",
    "print('AUC-ROC', rfc_auc_roc)"
   ]
  },
  {
   "cell_type": "markdown",
   "metadata": {},
   "source": [
    "**Логистическая регрессия**"
   ]
  },
  {
   "cell_type": "code",
   "execution_count": 19,
   "metadata": {},
   "outputs": [
    {
     "name": "stdout",
     "output_type": "stream",
     "text": [
      "Accuracy модели на валидационной выборке: 0.811\n",
      "F1-мера 0.3076923076923077\n",
      "AUC-ROC 0.787586831214898\n"
     ]
    }
   ],
   "source": [
    "log_model = LogisticRegression(solver = 'liblinear')\n",
    "log_model.fit(features_train, target_train)\n",
    "log_prediction = log_model.predict(features_valid)\n",
    "log_probabilities_valid = log_model.predict_proba(features_valid)\n",
    "log_probabilities_one_valid = log_probabilities_valid[:, 1]\n",
    "log_auc_roc = roc_auc_score(target_valid, log_probabilities_one_valid)\n",
    "print('Accuracy модели на валидационной выборке:', accuracy_score(target_valid, log_prediction))\n",
    "print('F1-мера', f1_score(target_valid, log_prediction))\n",
    "print('AUC-ROC', log_auc_roc)"
   ]
  },
  {
   "cell_type": "markdown",
   "metadata": {},
   "source": [
    "Лучшие показатели метрик у модели RandomForestClassifier"
   ]
  },
  {
   "cell_type": "markdown",
   "metadata": {},
   "source": [
    "**Проверим модель RandomForestClassifier на адекватность**"
   ]
  },
  {
   "cell_type": "code",
   "execution_count": 20,
   "metadata": {},
   "outputs": [
    {
     "name": "stdout",
     "output_type": "stream",
     "text": [
      "Accuracy модели на валидационной выборке: 0.796\n"
     ]
    }
   ],
   "source": [
    "dummy_clf = DummyClassifier(strategy=\"most_frequent\")\n",
    "dummy_clf.fit(features_train, target_train)\n",
    "dummy_clf.predict(features_valid)\n",
    "print('Accuracy модели на валидационной выборке:', dummy_clf.score(features_valid, target_valid))"
   ]
  },
  {
   "cell_type": "markdown",
   "metadata": {},
   "source": [
    "Модель можно считать адекватной т.к. accuracy больше проверочной модели."
   ]
  },
  {
   "cell_type": "markdown",
   "metadata": {},
   "source": [
    "## Борьба с дисбалансом"
   ]
  },
  {
   "cell_type": "markdown",
   "metadata": {},
   "source": [
    "**Проверка баланса классов выборки**"
   ]
  },
  {
   "cell_type": "code",
   "execution_count": 21,
   "metadata": {},
   "outputs": [
    {
     "name": "stdout",
     "output_type": "stream",
     "text": [
      "0    0.7963\n",
      "1    0.2037\n",
      "Name: Exited, dtype: float64\n"
     ]
    },
    {
     "data": {
      "image/png": "[encoded data removed]",
      "text/plain": [
       "<Figure size 432x288 with 1 Axes>"
      ]
     },
     "metadata": {
      "needs_background": "light"
     },
     "output_type": "display_data"
    }
   ],
   "source": [
    "df_class_frequency = df['Exited'].value_counts(normalize=True)\n",
    "print(df_class_frequency)\n",
    "df_class_frequency.plot(kind='bar');"
   ]
  },
  {
   "cell_type": "code",
   "execution_count": 22,
   "metadata": {},
   "outputs": [
    {
     "name": "stdout",
     "output_type": "stream",
     "text": [
      "0    0.796333\n",
      "1    0.203667\n",
      "Name: Exited, dtype: float64\n"
     ]
    },
    {
     "data": {
      "image/png": "[encoded data removed]",
      "text/plain": [
       "<Figure size 432x288 with 1 Axes>"
      ]
     },
     "metadata": {
      "needs_background": "light"
     },
     "output_type": "display_data"
    }
   ],
   "source": [
    "train_class_frequency = target_train.value_counts(normalize=True)\n",
    "print(train_class_frequency)\n",
    "train_class_frequency.plot(kind='bar');"
   ]
  },
  {
   "cell_type": "code",
   "execution_count": 23,
   "metadata": {},
   "outputs": [
    {
     "name": "stdout",
     "output_type": "stream",
     "text": [
      "0    0.796\n",
      "1    0.204\n",
      "Name: Exited, dtype: float64\n"
     ]
    },
    {
     "data": {
      "image/png": "[encoded data removed]",
      "text/plain": [
       "<Figure size 432x288 with 1 Axes>"
      ]
     },
     "metadata": {
      "needs_background": "light"
     },
     "output_type": "display_data"
    }
   ],
   "source": [
    "valid_class_frequency = target_valid.value_counts(normalize=True)\n",
    "print(valid_class_frequency)\n",
    "valid_class_frequency.plot(kind='bar');"
   ]
  },
  {
   "cell_type": "markdown",
   "metadata": {},
   "source": [
    "Существенный дисбаланс классов. Около 80% выборок приходится на значение 0 в целевом признаке."
   ]
  },
  {
   "cell_type": "markdown",
   "metadata": {},
   "source": [
    "**Для достижения баланса необходмо увеличить количество положительных ответов в 4 раза.**"
   ]
  },
  {
   "cell_type": "markdown",
   "metadata": {},
   "source": [
    "- Разделим обучающую выборку на отрицательные и положительные объекты;\n",
    "- Скопируем несколько раз положительные объекты;\n",
    "- С учётом полученных данных создадим новую обучающую выборку;\n",
    "- Перемешаем данные.\n",
    "- Обучим новые модели"
   ]
  },
  {
   "cell_type": "code",
   "execution_count": 24,
   "metadata": {},
   "outputs": [],
   "source": [
    "#создадим функцию для увеличения представленной класса в выборке \n",
    "def upsample(features, target, repeat, сlass):\n",
    "    features_zeros = features[target == 0]\n",
    "    features_ones = features[target == 1]\n",
    "    target_zeros = target[target == 0]\n",
    "    target_ones = target[target == 1]\n",
    "    \n",
    "    if сlass == 0:\n",
    "        features_upsampled = pd.concat([features_zeros]* repeat + [features_ones] )\n",
    "        target_upsampled = pd.concat([target_zeros]* repeat + [target_ones] )\n",
    "        features_upsampled, target_upsampled = shuffle(features_upsampled, target_upsampled, random_state=12345)   \n",
    "    elif сlass == 1:\n",
    "        features_upsampled = pd.concat([features_zeros] + [features_ones] * repeat)\n",
    "        target_upsampled = pd.concat([target_zeros] + [target_ones] * repeat)\n",
    "        features_upsampled, target_upsampled = shuffle(features_upsampled, target_upsampled, random_state=12345)\n",
    "    else:\n",
    "        features_upsampled = 0\n",
    "        target_upsampled = 0\n",
    "       \n",
    "    return features_upsampled, target_upsampled"
   ]
  },
  {
   "cell_type": "code",
   "execution_count": 25,
   "metadata": {},
   "outputs": [
    {
     "name": "stdout",
     "output_type": "stream",
     "text": [
      "1    0.50569\n",
      "0    0.49431\n",
      "Name: Exited, dtype: float64\n",
      "(9666,)\n"
     ]
    },
    {
     "data": {
      "image/png": "[encoded data removed]",
      "text/plain": [
       "<Figure size 432x288 with 1 Axes>"
      ]
     },
     "metadata": {
      "needs_background": "light"
     },
     "output_type": "display_data"
    }
   ],
   "source": [
    "#увеличим количество положительных ответов в 4 раза\n",
    "features_train_upsampled, target_train_upsampled = upsample(features_train, target_train, 4, 1)\n",
    "valid_class_frequency_upsampled = target_train_upsampled.value_counts(normalize=True)\n",
    "print(valid_class_frequency_upsampled)\n",
    "print(target_train_upsampled.shape)\n",
    "valid_class_frequency_upsampled.plot(kind='bar');"
   ]
  },
  {
   "cell_type": "markdown",
   "metadata": {},
   "source": [
    "Cбалансированность количества классов достигнута."
   ]
  },
  {
   "cell_type": "markdown",
   "metadata": {},
   "source": [
    "**Обучение моделей на сбаланированной выборке**"
   ]
  },
  {
   "cell_type": "markdown",
   "metadata": {},
   "source": [
    "**Решающее дерево**"
   ]
  },
  {
   "cell_type": "code",
   "execution_count": 26,
   "metadata": {},
   "outputs": [
    {
     "name": "stdout",
     "output_type": "stream",
     "text": [
      "DecisionTreeClassifier(max_depth=6, random_state=12345)\n",
      "Accuracy модели на валидационной выборке: 0.791\n",
      "F1-мера 0.575925925925926\n",
      "AUC-ROC 0.690592207360331\n"
     ]
    }
   ],
   "source": [
    "dtc_best_model = None\n",
    "f1_dtc_best_result = 0\n",
    "for depth in range(1, 20):\n",
    "    dtc_model = DecisionTreeClassifier(random_state=12345, max_depth=depth)\n",
    "    dtc_model.fit(features_train_upsampled, target_train_upsampled)\n",
    "    dtc_prediction = dtc_model.predict(features_valid)\n",
    "    dtc_probabilities_valid = dtc_model.predict_proba(features_valid)\n",
    "    dtc_probabilities_one_valid = dtc_probabilities_valid[:, 1]\n",
    "    dtc_auc_roc = roc_auc_score(target_valid, dtc_probabilities_one_valid)\n",
    "    dtc_result = accuracy_score(target_valid, dtc_prediction)\n",
    "    f1_dtc_result = f1_score(target_valid, dtc_prediction)\n",
    "    if f1_dtc_best_result < f1_dtc_result:\n",
    "        f1_dtc_best_result = f1_dtc_result\n",
    "        dtc_best_model = dtc_model\n",
    "        dtc_result = dtc_result\n",
    "        dtc_auc_roc = dtc_auc_roc\n",
    "            \n",
    "\n",
    "print(dtc_best_model)\n",
    "print('Accuracy модели на валидационной выборке:', dtc_result)\n",
    "print('F1-мера', f1_dtc_best_result)\n",
    "print('AUC-ROC', dtc_auc_roc)"
   ]
  },
  {
   "cell_type": "markdown",
   "metadata": {},
   "source": [
    "**Cлучайный лес (с перебором глубины деревьев)**"
   ]
  },
  {
   "cell_type": "code",
   "execution_count": 27,
   "metadata": {},
   "outputs": [
    {
     "name": "stdout",
     "output_type": "stream",
     "text": [
      "RandomForestClassifier(max_depth=11, n_estimators=60, random_state=12345)\n",
      "Accuracy модели на валидационной выборке: 0.848\n",
      "F1-мера 0.6483390607101948\n",
      "AUC-ROC 0.8643185289191054\n"
     ]
    }
   ],
   "source": [
    "rfc_best_model = None\n",
    "f1_rfc_best_result = 0\n",
    "for estim in range(10, 120, 10):\n",
    "    for depth in range(1, 15):\n",
    "        rfc_model = RandomForestClassifier(\n",
    "            random_state=12345,\n",
    "            n_estimators=estim, max_depth=depth)\n",
    "        rfc_model.fit(features_train_upsampled, target_train_upsampled)\n",
    "        rfc_prediction = rfc_model.predict(features_valid)\n",
    "        rfc_probabilities_valid = rfc_model.predict_proba(features_valid)\n",
    "        rfc_probabilities_one_valid = rfc_probabilities_valid[:, 1]\n",
    "        rfc_auc_roc = roc_auc_score(target_valid, rfc_probabilities_one_valid)\n",
    "        rfc_result = accuracy_score(target_valid, rfc_prediction)\n",
    "        f1_rfc_result = f1_score(target_valid, rfc_prediction)\n",
    "        if f1_rfc_best_result < f1_rfc_result:\n",
    "            f1_rfc_best_result = f1_rfc_result\n",
    "            rfc_best_model = rfc_model\n",
    "            rfc_result = rfc_result\n",
    "            rfc_auc_roc = rfc_auc_roc\n",
    "            n_estimators=estim\n",
    "            \n",
    "\n",
    "print(rfc_best_model)\n",
    "print('Accuracy модели на валидационной выборке:', rfc_result)\n",
    "print('F1-мера', f1_rfc_best_result)\n",
    "print('AUC-ROC', rfc_auc_roc)"
   ]
  },
  {
   "cell_type": "markdown",
   "metadata": {},
   "source": [
    "**Логистическая регрессия**"
   ]
  },
  {
   "cell_type": "code",
   "execution_count": 28,
   "metadata": {},
   "outputs": [
    {
     "name": "stdout",
     "output_type": "stream",
     "text": [
      "Accuracy модели на валидационной выборке: 0.7255\n",
      "F1-мера 0.5246753246753246\n",
      "AUC-ROC 0.7938220514336388\n"
     ]
    }
   ],
   "source": [
    "log_model = LogisticRegression(solver = 'liblinear')\n",
    "log_model.fit(features_train_upsampled, target_train_upsampled)\n",
    "log_prediction = log_model.predict(features_valid)\n",
    "log_probabilities_valid = log_model.predict_proba(features_valid)\n",
    "log_probabilities_one_valid = log_probabilities_valid[:, 1]\n",
    "log_auc_roc = roc_auc_score(target_valid, log_probabilities_one_valid)\n",
    "print('Accuracy модели на валидационной выборке:', accuracy_score(target_valid, log_prediction))\n",
    "print('F1-мера', f1_score(target_valid, log_prediction))\n",
    "print('AUC-ROC', log_auc_roc)"
   ]
  },
  {
   "cell_type": "markdown",
   "metadata": {},
   "source": [
    "Выводы:\n",
    "\n",
    "Существенный дисбаланс классов. Около 80% выборок приходится на значение 0 в целевом признаке.\n",
    "\n",
    "На несбалансированной выборке лучшие показатели метрик у модели RandomForestClassifier\n",
    "\n",
    "Дисбаланс классов в обучающей выборке устранен методом upsampling.\n",
    "\n",
    "После устранения дисбаланса RandomForestClassifier показал результат выше, чем на несбалансированной выборке. \n",
    "\n",
    "Модель прошла проверку на адекватность."
   ]
  },
  {
   "cell_type": "markdown",
   "metadata": {},
   "source": [
    "**Решающее дерево**"
   ]
  },
  {
   "cell_type": "code",
   "execution_count": 29,
   "metadata": {},
   "outputs": [
    {
     "name": "stdout",
     "output_type": "stream",
     "text": [
      "DecisionTreeClassifier(class_weight='balanced', max_depth=6, random_state=12345)\n",
      "Accuracy модели на валидационной выборке: 0.789\n",
      "F1-мера 0.575925925925926\n",
      "AUC-ROC 0.6868310609419648\n"
     ]
    }
   ],
   "source": [
    "dtc_best_model = None\n",
    "f1_dtc_best_result = 0\n",
    "for depth in range(1, 20):\n",
    "    dtc_model = DecisionTreeClassifier(class_weight='balanced', random_state=12345, max_depth=depth)\n",
    "    dtc_model.fit(features_train, target_train)\n",
    "    dtc_prediction = dtc_model.predict(features_valid)\n",
    "    dtc_probabilities_valid = dtc_model.predict_proba(features_valid)\n",
    "    dtc_probabilities_one_valid = dtc_probabilities_valid[:, 1]\n",
    "    dtc_auc_roc = roc_auc_score(target_valid, dtc_probabilities_one_valid)\n",
    "    dtc_result = accuracy_score(target_valid, dtc_prediction)\n",
    "    f1_dtc_result = f1_score(target_valid, dtc_prediction)\n",
    "    if f1_dtc_best_result < f1_dtc_result:\n",
    "        f1_dtc_best_result = f1_dtc_result\n",
    "        dtc_best_model = dtc_model\n",
    "        dtc_result = dtc_result\n",
    "        dtc_auc_roc = dtc_auc_roc\n",
    "            \n",
    "\n",
    "print(dtc_best_model)\n",
    "print('Accuracy модели на валидационной выборке:', dtc_result)\n",
    "print('F1-мера', f1_dtc_best_result)\n",
    "print('AUC-ROC', dtc_auc_roc)"
   ]
  },
  {
   "cell_type": "markdown",
   "metadata": {},
   "source": [
    "**Cлучайный лес (с перебором глубины деревьев)**"
   ]
  },
  {
   "cell_type": "code",
   "execution_count": 30,
   "metadata": {},
   "outputs": [
    {
     "name": "stdout",
     "output_type": "stream",
     "text": [
      "RandomForestClassifier(class_weight='balanced', max_depth=8, random_state=12345)\n",
      "Accuracy модели на валидационной выборке: 0.866\n",
      "F1-мера 0.6541850220264317\n",
      "AUC-ROC 0.8662075697113015\n"
     ]
    }
   ],
   "source": [
    "rfc_best_model = None\n",
    "f1_rfc_best_result = 0\n",
    "for estim in range(10, 120, 10):\n",
    "    for depth in range(1, 15):\n",
    "        rfc_model = RandomForestClassifier(\n",
    "            class_weight='balanced',\n",
    "            random_state=12345,\n",
    "            n_estimators=estim, max_depth=depth)\n",
    "        rfc_model.fit(features_train, target_train)\n",
    "        rfc_prediction = rfc_model.predict(features_valid)\n",
    "        rfc_probabilities_valid = rfc_model.predict_proba(features_valid)\n",
    "        rfc_probabilities_one_valid = rfc_probabilities_valid[:, 1]\n",
    "        rfc_auc_roc = roc_auc_score(target_valid, rfc_probabilities_one_valid)\n",
    "        rfc_result = accuracy_score(target_valid, rfc_prediction)\n",
    "        f1_rfc_result = f1_score(target_valid, rfc_prediction)\n",
    "        if f1_rfc_best_result < f1_rfc_result:\n",
    "            f1_rfc_best_result = f1_rfc_result\n",
    "            rfc_best_model = rfc_model\n",
    "            rfc_result = rfc_result\n",
    "            rfc_auc_roc = rfc_auc_roc\n",
    "            n_estimators=estim\n",
    "            \n",
    "\n",
    "print(rfc_best_model)\n",
    "print('Accuracy модели на валидационной выборке:', rfc_result)\n",
    "print('F1-мера', f1_rfc_best_result)\n",
    "print('AUC-ROC', rfc_auc_roc)"
   ]
  },
  {
   "cell_type": "markdown",
   "metadata": {},
   "source": [
    "**Логистическая регрессия**"
   ]
  },
  {
   "cell_type": "code",
   "execution_count": 31,
   "metadata": {},
   "outputs": [
    {
     "name": "stdout",
     "output_type": "stream",
     "text": [
      "Accuracy модели на валидационной выборке: 0.7325\n",
      "F1-мера 0.5302897278314311\n",
      "AUC-ROC 0.7937758646172037\n"
     ]
    }
   ],
   "source": [
    "log_model = LogisticRegression(class_weight='balanced', solver = 'liblinear')\n",
    "log_model.fit(features_train, target_train)\n",
    "log_prediction = log_model.predict(features_valid)\n",
    "log_probabilities_valid = log_model.predict_proba(features_valid)\n",
    "log_probabilities_one_valid = log_probabilities_valid[:, 1]\n",
    "log_auc_roc = roc_auc_score(target_valid, log_probabilities_one_valid)\n",
    "print('Accuracy модели на валидационной выборке:', accuracy_score(target_valid, log_prediction))\n",
    "print('F1-мера', f1_score(target_valid, log_prediction))\n",
    "print('AUC-ROC', log_auc_roc)"
   ]
  },
  {
   "cell_type": "markdown",
   "metadata": {},
   "source": [
    "## Тестирование модели"
   ]
  },
  {
   "cell_type": "code",
   "execution_count": 32,
   "metadata": {},
   "outputs": [
    {
     "name": "stdout",
     "output_type": "stream",
     "text": [
      "RandomForestClassifier(class_weight='balanced', max_depth=8, random_state=12345)\n",
      "Accuracy модели на валидационной выборке: 0.8285\n",
      "F1-мера 0.6159014557670773\n",
      "AUC-ROC 0.853801413123447\n"
     ]
    }
   ],
   "source": [
    "rfc_best_model_prediction = rfc_best_model.predict(features_test)\n",
    "rfc_probabilities_test = rfc_best_model.predict_proba(features_test)\n",
    "rfc_probabilities_one_test = rfc_probabilities_test[:, 1]\n",
    "rfc_auc_roc = roc_auc_score(target_test, rfc_probabilities_one_test)\n",
    "print(rfc_best_model)\n",
    "print('Accuracy модели на валидационной выборке:', accuracy_score(target_test, rfc_best_model_prediction))\n",
    "print('F1-мера', f1_score(target_test, rfc_best_model_prediction))\n",
    "print('AUC-ROC', rfc_auc_roc)"
   ]
  },
  {
   "cell_type": "code",
   "execution_count": 33,
   "metadata": {},
   "outputs": [
    {
     "name": "stdout",
     "output_type": "stream",
     "text": [
      "1    0.505818\n",
      "0    0.494182\n",
      "Name: Exited, dtype: float64\n",
      "(12890,)\n"
     ]
    },
    {
     "data": {
      "image/png": "[encoded data removed]",
      "text/plain": [
       "<Figure size 432x288 with 1 Axes>"
      ]
     },
     "metadata": {
      "needs_background": "light"
     },
     "output_type": "display_data"
    }
   ],
   "source": [
    "features_full_train = pd.concat([features_train, features_valid])\n",
    "target_full_train = pd.concat([target_train, target_valid])\n",
    "\n",
    "features_upsampled_new, target_upsampled_new = upsample(features_full_train, target_full_train, 4, 1)\n",
    "valid_class_frequency_upsampled_new = target_upsampled_new.value_counts(normalize=True)\n",
    "print(valid_class_frequency_upsampled_new)\n",
    "print(target_upsampled_new.shape)\n",
    "valid_class_frequency_upsampled_new.plot(kind='bar');"
   ]
  },
  {
   "cell_type": "markdown",
   "metadata": {},
   "source": [
    "**Cлучайный лес (с перебором глубины деревьев)**"
   ]
  },
  {
   "cell_type": "code",
   "execution_count": 34,
   "metadata": {},
   "outputs": [
    {
     "name": "stdout",
     "output_type": "stream",
     "text": [
      "Accuracy модели на валидационной выборке: 0.8095\n",
      "F1-мера 0.6051813471502591\n",
      "AUC-ROC 0.8579889596838749\n"
     ]
    }
   ],
   "source": [
    "rfc_best_model_new = RandomForestClassifier(\n",
    "    class_weight='balanced', max_depth=8, n_estimators=100, random_state=12345).fit(\n",
    "    features_upsampled_new, target_upsampled_new)\n",
    "\n",
    "rfc_best_model_prediction_new = rfc_best_model_new.predict(features_test)\n",
    "rfc_probabilities_test_new = rfc_best_model_new.predict_proba(features_test)\n",
    "rfc_probabilities_one_test_new = rfc_probabilities_test_new[:, 1]\n",
    "rfc_auc_roc_new = roc_auc_score(target_test, rfc_probabilities_one_test_new)\n",
    "\n",
    "print('Accuracy модели на валидационной выборке:', accuracy_score(target_test, rfc_best_model_prediction_new))\n",
    "print('F1-мера', f1_score(target_test, rfc_best_model_prediction_new))\n",
    "print('AUC-ROC', rfc_auc_roc_new)"
   ]
  },
  {
   "cell_type": "markdown",
   "metadata": {},
   "source": [
    "## Чек-лист готовности проекта"
   ]
  },
  {
   "cell_type": "markdown",
   "metadata": {},
   "source": [
    "Поставьте 'x' в выполненных пунктах. Далее нажмите Shift+Enter."
   ]
  },
  {
   "cell_type": "markdown",
   "metadata": {},
   "source": [
    "- [x]  Jupyter Notebook открыт\n",
    "- [x]  Весь код выполняется без ошибок\n",
    "- [x]  Ячейки с кодом расположены в порядке исполнения\n",
    "- [x]  Выполнен шаг 1: данные подготовлены\n",
    "- [x]  Выполнен шаг 2: задача исследована\n",
    "    - [x]  Исследован баланс классов\n",
    "    - [x]  Изучены модели без учёта дисбаланса\n",
    "    - [x]  Написаны выводы по результатам исследования\n",
    "- [x]  Выполнен шаг 3: учтён дисбаланс\n",
    "    - [x]  Применено несколько способов борьбы с дисбалансом\n",
    "    - [x]  Написаны выводы по результатам исследования\n",
    "- [x]  Выполнен шаг 4: проведено тестирование\n",
    "- [x]  Удалось достичь *F1*-меры не менее 0.59\n",
    "- [x]  Исследована метрика *AUC-ROC*"
   ]
  }
 ],
 "metadata": {
  "ExecuteTimeLog": [
   {
    "duration": 1182,
    "start_time": "2022-05-02T03:46:34.850Z"
   },
   {
    "duration": 29,
    "start_time": "2022-05-02T03:48:48.001Z"
   },
   {
    "duration": 18,
    "start_time": "2022-05-02T03:50:13.239Z"
   },
   {
    "duration": 12,
    "start_time": "2022-05-02T03:50:43.763Z"
   },
   {
    "duration": 4,
    "start_time": "2022-05-02T04:52:59.175Z"
   },
   {
    "duration": 33,
    "start_time": "2022-05-02T04:53:46.443Z"
   },
   {
    "duration": 4,
    "start_time": "2022-05-02T04:59:19.852Z"
   },
   {
    "duration": 10,
    "start_time": "2022-05-02T04:59:27.951Z"
   },
   {
    "duration": 10,
    "start_time": "2022-05-02T05:10:16.936Z"
   },
   {
    "duration": 11,
    "start_time": "2022-05-02T05:10:34.141Z"
   },
   {
    "duration": 7,
    "start_time": "2022-05-02T05:14:14.231Z"
   },
   {
    "duration": 13,
    "start_time": "2022-05-02T05:22:42.329Z"
   },
   {
    "duration": 39,
    "start_time": "2022-05-02T05:29:34.218Z"
   },
   {
    "duration": 37,
    "start_time": "2022-05-02T05:30:46.810Z"
   },
   {
    "duration": 37,
    "start_time": "2022-05-02T05:33:25.630Z"
   },
   {
    "duration": 9,
    "start_time": "2022-05-02T05:36:41.495Z"
   },
   {
    "duration": 11,
    "start_time": "2022-05-02T05:36:45.467Z"
   },
   {
    "duration": 5,
    "start_time": "2022-05-02T05:41:36.945Z"
   },
   {
    "duration": 7,
    "start_time": "2022-05-02T05:42:32.404Z"
   },
   {
    "duration": 4,
    "start_time": "2022-05-02T05:43:21.396Z"
   },
   {
    "duration": 24,
    "start_time": "2022-05-02T05:43:21.402Z"
   },
   {
    "duration": 13,
    "start_time": "2022-05-02T05:43:21.428Z"
   },
   {
    "duration": 15,
    "start_time": "2022-05-02T05:43:21.443Z"
   },
   {
    "duration": 4,
    "start_time": "2022-05-02T05:43:21.461Z"
   },
   {
    "duration": 72,
    "start_time": "2022-05-02T05:43:21.468Z"
   },
   {
    "duration": 12,
    "start_time": "2022-05-02T05:43:21.542Z"
   },
   {
    "duration": 11,
    "start_time": "2022-05-02T05:43:21.556Z"
   },
   {
    "duration": 68,
    "start_time": "2022-05-02T05:43:21.569Z"
   },
   {
    "duration": 39,
    "start_time": "2022-05-02T05:43:21.639Z"
   },
   {
    "duration": 39,
    "start_time": "2022-05-02T05:43:24.573Z"
   },
   {
    "duration": 7,
    "start_time": "2022-05-02T05:43:25.358Z"
   },
   {
    "duration": 10,
    "start_time": "2022-05-02T05:43:27.602Z"
   },
   {
    "duration": 4,
    "start_time": "2022-05-02T05:51:08.715Z"
   },
   {
    "duration": 37,
    "start_time": "2022-05-02T05:51:08.722Z"
   },
   {
    "duration": 16,
    "start_time": "2022-05-02T05:51:08.761Z"
   },
   {
    "duration": 13,
    "start_time": "2022-05-02T05:51:08.779Z"
   },
   {
    "duration": 4,
    "start_time": "2022-05-02T05:51:08.794Z"
   },
   {
    "duration": 56,
    "start_time": "2022-05-02T05:51:08.799Z"
   },
   {
    "duration": 10,
    "start_time": "2022-05-02T05:51:08.856Z"
   },
   {
    "duration": 74,
    "start_time": "2022-05-02T05:51:08.868Z"
   },
   {
    "duration": 37,
    "start_time": "2022-05-02T05:51:08.944Z"
   },
   {
    "duration": 5,
    "start_time": "2022-05-02T05:51:08.983Z"
   },
   {
    "duration": 35,
    "start_time": "2022-05-02T05:51:08.990Z"
   },
   {
    "duration": 11,
    "start_time": "2022-05-02T05:51:09.026Z"
   },
   {
    "duration": 7,
    "start_time": "2022-05-02T06:03:40.763Z"
   },
   {
    "duration": 6,
    "start_time": "2022-05-02T06:04:18.335Z"
   },
   {
    "duration": 7,
    "start_time": "2022-05-02T06:05:12.294Z"
   },
   {
    "duration": 3,
    "start_time": "2022-05-02T06:08:08.264Z"
   },
   {
    "duration": 3,
    "start_time": "2022-05-02T06:11:57.604Z"
   },
   {
    "duration": 9,
    "start_time": "2022-05-02T06:16:17.150Z"
   },
   {
    "duration": 2,
    "start_time": "2022-05-02T06:16:21.764Z"
   },
   {
    "duration": 3,
    "start_time": "2022-05-02T06:17:06.847Z"
   },
   {
    "duration": 46,
    "start_time": "2022-05-02T06:17:06.852Z"
   },
   {
    "duration": 14,
    "start_time": "2022-05-02T06:17:06.899Z"
   },
   {
    "duration": 18,
    "start_time": "2022-05-02T06:17:06.914Z"
   },
   {
    "duration": 12,
    "start_time": "2022-05-02T06:17:06.934Z"
   },
   {
    "duration": 34,
    "start_time": "2022-05-02T06:17:06.948Z"
   },
   {
    "duration": 9,
    "start_time": "2022-05-02T06:17:06.984Z"
   },
   {
    "duration": 55,
    "start_time": "2022-05-02T06:17:06.995Z"
   },
   {
    "duration": 36,
    "start_time": "2022-05-02T06:17:07.052Z"
   },
   {
    "duration": 6,
    "start_time": "2022-05-02T06:17:07.090Z"
   },
   {
    "duration": 32,
    "start_time": "2022-05-02T06:17:07.097Z"
   },
   {
    "duration": 10,
    "start_time": "2022-05-02T06:17:07.130Z"
   },
   {
    "duration": 10,
    "start_time": "2022-05-02T06:17:07.143Z"
   },
   {
    "duration": 14,
    "start_time": "2022-05-02T06:17:07.155Z"
   },
   {
    "duration": 25,
    "start_time": "2022-05-02T06:17:07.170Z"
   },
   {
    "duration": 14,
    "start_time": "2022-05-02T06:17:07.197Z"
   },
   {
    "duration": 18,
    "start_time": "2022-05-02T06:17:07.224Z"
   },
   {
    "duration": 21,
    "start_time": "2022-05-02T06:17:56.420Z"
   },
   {
    "duration": 18,
    "start_time": "2022-05-02T06:18:13.449Z"
   },
   {
    "duration": 20,
    "start_time": "2022-05-02T06:22:10.151Z"
   },
   {
    "duration": 21,
    "start_time": "2022-05-02T06:22:48.955Z"
   },
   {
    "duration": 24,
    "start_time": "2022-05-02T06:24:34.129Z"
   },
   {
    "duration": 23,
    "start_time": "2022-05-02T06:24:49.858Z"
   },
   {
    "duration": 4,
    "start_time": "2022-05-02T06:30:26.281Z"
   },
   {
    "duration": 8,
    "start_time": "2022-05-02T06:42:13.236Z"
   },
   {
    "duration": 581,
    "start_time": "2022-05-02T06:42:36.920Z"
   },
   {
    "duration": 150,
    "start_time": "2022-05-02T06:48:27.943Z"
   },
   {
    "duration": 174,
    "start_time": "2022-05-02T06:51:56.926Z"
   },
   {
    "duration": 201,
    "start_time": "2022-05-02T06:59:04.558Z"
   },
   {
    "duration": 38,
    "start_time": "2022-05-02T06:59:15.777Z"
   },
   {
    "duration": 4,
    "start_time": "2022-05-02T07:05:34.496Z"
   },
   {
    "duration": 33,
    "start_time": "2022-05-02T07:07:16.974Z"
   },
   {
    "duration": 8,
    "start_time": "2022-05-02T07:07:54.110Z"
   },
   {
    "duration": 11,
    "start_time": "2022-05-02T07:08:53.676Z"
   },
   {
    "duration": 8,
    "start_time": "2022-05-02T07:11:22.231Z"
   },
   {
    "duration": 45,
    "start_time": "2022-05-02T07:11:46.301Z"
   },
   {
    "duration": 7,
    "start_time": "2022-05-02T07:11:46.497Z"
   },
   {
    "duration": 13,
    "start_time": "2022-05-02T07:11:47.159Z"
   },
   {
    "duration": 944,
    "start_time": "2022-05-02T07:16:45.592Z"
   },
   {
    "duration": 8,
    "start_time": "2022-05-02T07:17:07.027Z"
   },
   {
    "duration": 6,
    "start_time": "2022-05-02T07:17:26.511Z"
   },
   {
    "duration": 12,
    "start_time": "2022-05-02T07:17:40.844Z"
   },
   {
    "duration": 14,
    "start_time": "2022-05-02T07:17:53.682Z"
   },
   {
    "duration": 13,
    "start_time": "2022-05-02T07:18:10.389Z"
   },
   {
    "duration": 50,
    "start_time": "2022-05-02T07:24:26.184Z"
   },
   {
    "duration": 11,
    "start_time": "2022-05-02T07:25:27.259Z"
   },
   {
    "duration": 82,
    "start_time": "2022-05-02T10:03:49.971Z"
   },
   {
    "duration": 10,
    "start_time": "2022-05-02T10:04:38.309Z"
   },
   {
    "duration": 1855,
    "start_time": "2022-05-02T10:04:47.913Z"
   },
   {
    "duration": 46,
    "start_time": "2022-05-02T10:04:49.771Z"
   },
   {
    "duration": 30,
    "start_time": "2022-05-02T10:04:49.821Z"
   },
   {
    "duration": 45,
    "start_time": "2022-05-02T10:04:49.853Z"
   },
   {
    "duration": 7,
    "start_time": "2022-05-02T10:04:49.902Z"
   },
   {
    "duration": 63,
    "start_time": "2022-05-02T10:04:49.912Z"
   },
   {
    "duration": 21,
    "start_time": "2022-05-02T10:04:49.977Z"
   },
   {
    "duration": 94,
    "start_time": "2022-05-02T10:04:50.003Z"
   },
   {
    "duration": 66,
    "start_time": "2022-05-02T10:04:50.099Z"
   },
   {
    "duration": 21,
    "start_time": "2022-05-02T10:04:50.167Z"
   },
   {
    "duration": 58,
    "start_time": "2022-05-02T10:04:50.191Z"
   },
   {
    "duration": 16,
    "start_time": "2022-05-02T10:04:50.251Z"
   },
   {
    "duration": 15,
    "start_time": "2022-05-02T10:04:50.270Z"
   },
   {
    "duration": 24,
    "start_time": "2022-05-02T10:04:50.292Z"
   },
   {
    "duration": 13,
    "start_time": "2022-05-02T10:04:50.318Z"
   },
   {
    "duration": 5,
    "start_time": "2022-05-02T10:04:50.333Z"
   },
   {
    "duration": 20,
    "start_time": "2022-05-02T10:04:50.340Z"
   },
   {
    "duration": 67,
    "start_time": "2022-05-02T10:04:50.362Z"
   },
   {
    "duration": 5,
    "start_time": "2022-05-02T10:04:50.431Z"
   },
   {
    "duration": 60,
    "start_time": "2022-05-02T10:04:50.438Z"
   },
   {
    "duration": 16,
    "start_time": "2022-05-02T10:04:50.502Z"
   },
   {
    "duration": 15,
    "start_time": "2022-05-02T10:04:50.520Z"
   },
   {
    "duration": 1145,
    "start_time": "2022-05-02T10:04:50.537Z"
   },
   {
    "duration": 11,
    "start_time": "2022-05-02T10:04:51.684Z"
   },
   {
    "duration": 35,
    "start_time": "2022-05-02T10:04:51.697Z"
   },
   {
    "duration": 77,
    "start_time": "2022-05-02T10:04:51.735Z"
   },
   {
    "duration": 103,
    "start_time": "2022-05-02T10:04:51.815Z"
   },
   {
    "duration": 67,
    "start_time": "2022-05-02T10:04:51.920Z"
   },
   {
    "duration": 1053,
    "start_time": "2022-05-02T10:04:51.990Z"
   },
   {
    "duration": 6,
    "start_time": "2022-05-02T10:22:48.975Z"
   },
   {
    "duration": 6,
    "start_time": "2022-05-02T10:22:55.411Z"
   },
   {
    "duration": 39,
    "start_time": "2022-05-02T10:22:55.419Z"
   },
   {
    "duration": 20,
    "start_time": "2022-05-02T10:22:55.460Z"
   },
   {
    "duration": 52,
    "start_time": "2022-05-02T10:22:55.483Z"
   },
   {
    "duration": 6,
    "start_time": "2022-05-02T10:22:55.538Z"
   },
   {
    "duration": 56,
    "start_time": "2022-05-02T10:22:55.546Z"
   },
   {
    "duration": 18,
    "start_time": "2022-05-02T10:22:55.607Z"
   },
   {
    "duration": 84,
    "start_time": "2022-05-02T10:22:55.628Z"
   },
   {
    "duration": 82,
    "start_time": "2022-05-02T10:22:55.715Z"
   },
   {
    "duration": 12,
    "start_time": "2022-05-02T10:22:55.800Z"
   },
   {
    "duration": 29,
    "start_time": "2022-05-02T10:22:55.816Z"
   },
   {
    "duration": 17,
    "start_time": "2022-05-02T10:22:55.848Z"
   },
   {
    "duration": 33,
    "start_time": "2022-05-02T10:22:55.868Z"
   },
   {
    "duration": 26,
    "start_time": "2022-05-02T10:22:55.908Z"
   },
   {
    "duration": 12,
    "start_time": "2022-05-02T10:22:55.936Z"
   },
   {
    "duration": 7,
    "start_time": "2022-05-02T10:22:55.950Z"
   },
   {
    "duration": 26,
    "start_time": "2022-05-02T10:22:55.960Z"
   },
   {
    "duration": 62,
    "start_time": "2022-05-02T10:22:55.988Z"
   },
   {
    "duration": 6,
    "start_time": "2022-05-02T10:22:56.052Z"
   },
   {
    "duration": 69,
    "start_time": "2022-05-02T10:22:56.061Z"
   },
   {
    "duration": 10,
    "start_time": "2022-05-02T10:22:56.132Z"
   },
   {
    "duration": 15,
    "start_time": "2022-05-02T10:22:56.145Z"
   },
   {
    "duration": 1247,
    "start_time": "2022-05-02T10:22:56.162Z"
   },
   {
    "duration": 10,
    "start_time": "2022-05-02T10:22:57.413Z"
   },
   {
    "duration": 18,
    "start_time": "2022-05-02T10:22:57.425Z"
   },
   {
    "duration": 65,
    "start_time": "2022-05-02T10:22:57.445Z"
   },
   {
    "duration": 98,
    "start_time": "2022-05-02T10:22:57.512Z"
   },
   {
    "duration": 259,
    "start_time": "2022-05-02T10:22:57.613Z"
   },
   {
    "duration": 5,
    "start_time": "2022-05-02T10:23:31.767Z"
   },
   {
    "duration": 47,
    "start_time": "2022-05-02T10:23:34.125Z"
   },
   {
    "duration": 10,
    "start_time": "2022-05-02T10:23:34.869Z"
   },
   {
    "duration": 17,
    "start_time": "2022-05-02T10:23:35.870Z"
   },
   {
    "duration": 1141,
    "start_time": "2022-05-02T10:23:42.663Z"
   },
   {
    "duration": 9,
    "start_time": "2022-05-02T10:23:43.829Z"
   },
   {
    "duration": 15,
    "start_time": "2022-05-02T10:23:44.540Z"
   },
   {
    "duration": 112,
    "start_time": "2022-05-02T10:26:37.435Z"
   },
   {
    "duration": 194,
    "start_time": "2022-05-02T10:26:52.290Z"
   },
   {
    "duration": 259,
    "start_time": "2022-05-02T10:27:33.112Z"
   },
   {
    "duration": 204,
    "start_time": "2022-05-02T10:27:51.331Z"
   },
   {
    "duration": 278,
    "start_time": "2022-05-02T10:28:09.419Z"
   },
   {
    "duration": 273,
    "start_time": "2022-05-02T10:28:18.871Z"
   },
   {
    "duration": 191,
    "start_time": "2022-05-02T10:28:31.189Z"
   },
   {
    "duration": 173,
    "start_time": "2022-05-02T10:28:44.500Z"
   },
   {
    "duration": 6,
    "start_time": "2022-05-02T10:42:17.269Z"
   },
   {
    "duration": 105,
    "start_time": "2022-05-02T10:47:12.886Z"
   },
   {
    "duration": 15,
    "start_time": "2022-05-02T10:57:50.202Z"
   },
   {
    "duration": 127,
    "start_time": "2022-05-02T10:59:13.786Z"
   },
   {
    "duration": 14,
    "start_time": "2022-05-02T10:59:40.105Z"
   },
   {
    "duration": 12,
    "start_time": "2022-05-02T10:59:40.657Z"
   },
   {
    "duration": 20,
    "start_time": "2022-05-02T11:02:07.969Z"
   },
   {
    "duration": 228,
    "start_time": "2022-05-02T11:05:32.298Z"
   },
   {
    "duration": 168,
    "start_time": "2022-05-02T11:16:59.140Z"
   },
   {
    "duration": 68,
    "start_time": "2022-05-02T11:18:05.363Z"
   },
   {
    "duration": 161,
    "start_time": "2022-05-02T11:18:28.195Z"
   },
   {
    "duration": 80,
    "start_time": "2022-05-02T11:18:31.670Z"
   },
   {
    "duration": 59,
    "start_time": "2022-05-02T11:21:06.155Z"
   },
   {
    "duration": 10,
    "start_time": "2022-05-02T11:21:18.458Z"
   },
   {
    "duration": 17,
    "start_time": "2022-05-02T11:21:34.980Z"
   },
   {
    "duration": 8,
    "start_time": "2022-05-02T11:21:51.976Z"
   },
   {
    "duration": 35,
    "start_time": "2022-05-02T11:21:51.988Z"
   },
   {
    "duration": 18,
    "start_time": "2022-05-02T11:21:52.026Z"
   },
   {
    "duration": 45,
    "start_time": "2022-05-02T11:21:52.047Z"
   },
   {
    "duration": 7,
    "start_time": "2022-05-02T11:21:52.095Z"
   },
   {
    "duration": 51,
    "start_time": "2022-05-02T11:21:52.104Z"
   },
   {
    "duration": 14,
    "start_time": "2022-05-02T11:21:52.183Z"
   },
   {
    "duration": 84,
    "start_time": "2022-05-02T11:21:52.199Z"
   },
   {
    "duration": 58,
    "start_time": "2022-05-02T11:21:52.285Z"
   },
   {
    "duration": 8,
    "start_time": "2022-05-02T11:21:52.345Z"
   },
   {
    "duration": 38,
    "start_time": "2022-05-02T11:21:52.354Z"
   },
   {
    "duration": 16,
    "start_time": "2022-05-02T11:21:52.395Z"
   },
   {
    "duration": 14,
    "start_time": "2022-05-02T11:21:52.414Z"
   },
   {
    "duration": 52,
    "start_time": "2022-05-02T11:21:52.434Z"
   },
   {
    "duration": 11,
    "start_time": "2022-05-02T11:21:52.489Z"
   },
   {
    "duration": 16,
    "start_time": "2022-05-02T11:21:52.503Z"
   },
   {
    "duration": 19,
    "start_time": "2022-05-02T11:21:52.522Z"
   },
   {
    "duration": 62,
    "start_time": "2022-05-02T11:21:52.544Z"
   },
   {
    "duration": 6,
    "start_time": "2022-05-02T11:21:52.609Z"
   },
   {
    "duration": 83,
    "start_time": "2022-05-02T11:21:52.617Z"
   },
   {
    "duration": 11,
    "start_time": "2022-05-02T11:21:52.702Z"
   },
   {
    "duration": 20,
    "start_time": "2022-05-02T11:21:52.715Z"
   },
   {
    "duration": 1425,
    "start_time": "2022-05-02T11:21:52.738Z"
   },
   {
    "duration": 19,
    "start_time": "2022-05-02T11:21:54.166Z"
   },
   {
    "duration": 19,
    "start_time": "2022-05-02T11:21:54.187Z"
   },
   {
    "duration": 81,
    "start_time": "2022-05-02T11:21:54.209Z"
   },
   {
    "duration": 107,
    "start_time": "2022-05-02T11:21:54.292Z"
   },
   {
    "duration": 251,
    "start_time": "2022-05-02T11:21:54.401Z"
   },
   {
    "duration": 241,
    "start_time": "2022-05-02T11:21:54.655Z"
   },
   {
    "duration": 11,
    "start_time": "2022-05-02T11:21:54.898Z"
   },
   {
    "duration": 269,
    "start_time": "2022-05-02T11:21:54.912Z"
   },
   {
    "duration": 86,
    "start_time": "2022-05-02T11:21:55.184Z"
   },
   {
    "duration": 11,
    "start_time": "2022-05-02T11:21:55.282Z"
   },
   {
    "duration": 20,
    "start_time": "2022-05-02T11:21:55.296Z"
   },
   {
    "duration": 1504,
    "start_time": "2022-05-02T11:21:55.319Z"
   },
   {
    "duration": 12,
    "start_time": "2022-05-02T11:21:56.826Z"
   },
   {
    "duration": 46,
    "start_time": "2022-05-02T11:21:56.842Z"
   },
   {
    "duration": 94,
    "start_time": "2022-05-02T11:21:56.892Z"
   },
   {
    "duration": 132,
    "start_time": "2022-05-02T11:21:56.989Z"
   },
   {
    "duration": 1553,
    "start_time": "2022-05-02T11:24:07.457Z"
   },
   {
    "duration": 18,
    "start_time": "2022-05-02T11:24:10.198Z"
   },
   {
    "duration": 39,
    "start_time": "2022-05-02T11:24:52.778Z"
   },
   {
    "duration": 16,
    "start_time": "2022-05-02T11:24:56.722Z"
   },
   {
    "duration": 7,
    "start_time": "2022-05-02T11:50:28.938Z"
   },
   {
    "duration": 26828,
    "start_time": "2022-05-02T11:51:20.555Z"
   },
   {
    "duration": 26314,
    "start_time": "2022-05-02T11:54:10.289Z"
   },
   {
    "duration": 44883,
    "start_time": "2022-05-02T11:55:07.344Z"
   },
   {
    "duration": 1680,
    "start_time": "2022-05-03T03:32:40.873Z"
   },
   {
    "duration": 39,
    "start_time": "2022-05-03T03:32:42.555Z"
   },
   {
    "duration": 29,
    "start_time": "2022-05-03T03:32:42.597Z"
   },
   {
    "duration": 18,
    "start_time": "2022-05-03T03:32:42.628Z"
   },
   {
    "duration": 5,
    "start_time": "2022-05-03T03:32:42.649Z"
   },
   {
    "duration": 81,
    "start_time": "2022-05-03T03:32:42.656Z"
   },
   {
    "duration": 14,
    "start_time": "2022-05-03T03:32:42.739Z"
   },
   {
    "duration": 87,
    "start_time": "2022-05-03T03:32:42.755Z"
   },
   {
    "duration": 78,
    "start_time": "2022-05-03T03:32:42.844Z"
   },
   {
    "duration": 8,
    "start_time": "2022-05-03T03:32:42.924Z"
   },
   {
    "duration": 11,
    "start_time": "2022-05-03T03:32:42.934Z"
   },
   {
    "duration": 49,
    "start_time": "2022-05-03T03:32:42.947Z"
   },
   {
    "duration": 16,
    "start_time": "2022-05-03T03:32:42.998Z"
   },
   {
    "duration": 8,
    "start_time": "2022-05-03T03:32:43.018Z"
   },
   {
    "duration": 12,
    "start_time": "2022-05-03T03:32:43.028Z"
   },
   {
    "duration": 18,
    "start_time": "2022-05-03T03:32:43.042Z"
   },
   {
    "duration": 39,
    "start_time": "2022-05-03T03:32:43.062Z"
   },
   {
    "duration": 41,
    "start_time": "2022-05-03T03:32:43.103Z"
   },
   {
    "duration": 5,
    "start_time": "2022-05-03T03:32:43.146Z"
   },
   {
    "duration": 81,
    "start_time": "2022-05-03T03:32:43.153Z"
   },
   {
    "duration": 8,
    "start_time": "2022-05-03T03:32:43.236Z"
   },
   {
    "duration": 16,
    "start_time": "2022-05-03T03:32:43.246Z"
   },
   {
    "duration": 1062,
    "start_time": "2022-05-03T03:32:43.264Z"
   },
   {
    "duration": 9,
    "start_time": "2022-05-03T03:32:44.328Z"
   },
   {
    "duration": 17,
    "start_time": "2022-05-03T03:32:44.338Z"
   },
   {
    "duration": 64,
    "start_time": "2022-05-03T03:32:44.357Z"
   },
   {
    "duration": 105,
    "start_time": "2022-05-03T03:32:44.496Z"
   },
   {
    "duration": 842,
    "start_time": "2022-05-03T03:32:44.603Z"
   },
   {
    "duration": 188,
    "start_time": "2022-05-03T03:32:45.447Z"
   },
   {
    "duration": 7,
    "start_time": "2022-05-03T03:32:45.637Z"
   },
   {
    "duration": 194,
    "start_time": "2022-05-03T03:32:45.646Z"
   },
   {
    "duration": 69,
    "start_time": "2022-05-03T03:32:45.842Z"
   },
   {
    "duration": 9,
    "start_time": "2022-05-03T03:32:45.913Z"
   },
   {
    "duration": 17,
    "start_time": "2022-05-03T03:32:45.924Z"
   },
   {
    "duration": 1354,
    "start_time": "2022-05-03T03:32:45.943Z"
   },
   {
    "duration": 17,
    "start_time": "2022-05-03T03:32:47.300Z"
   },
   {
    "duration": 74,
    "start_time": "2022-05-03T03:32:47.319Z"
   },
   {
    "duration": 102,
    "start_time": "2022-05-03T03:32:47.397Z"
   },
   {
    "duration": 38531,
    "start_time": "2022-05-03T03:32:47.502Z"
   },
   {
    "duration": 39975,
    "start_time": "2022-05-03T03:33:26.035Z"
   },
   {
    "duration": 171,
    "start_time": "2022-05-03T03:34:06.016Z"
   },
   {
    "duration": 0,
    "start_time": "2022-05-03T03:34:06.189Z"
   },
   {
    "duration": 0,
    "start_time": "2022-05-03T03:34:06.192Z"
   },
   {
    "duration": 6,
    "start_time": "2022-05-03T03:46:14.994Z"
   },
   {
    "duration": 69,
    "start_time": "2022-05-03T03:46:15.004Z"
   },
   {
    "duration": 24,
    "start_time": "2022-05-03T03:46:15.075Z"
   },
   {
    "duration": 21,
    "start_time": "2022-05-03T03:46:15.101Z"
   },
   {
    "duration": 6,
    "start_time": "2022-05-03T03:46:15.125Z"
   },
   {
    "duration": 89,
    "start_time": "2022-05-03T03:46:15.133Z"
   },
   {
    "duration": 16,
    "start_time": "2022-05-03T03:46:15.224Z"
   },
   {
    "duration": 84,
    "start_time": "2022-05-03T03:46:15.242Z"
   },
   {
    "duration": 68,
    "start_time": "2022-05-03T03:46:15.328Z"
   },
   {
    "duration": 9,
    "start_time": "2022-05-03T03:46:15.398Z"
   },
   {
    "duration": 13,
    "start_time": "2022-05-03T03:46:15.409Z"
   },
   {
    "duration": 16,
    "start_time": "2022-05-03T03:46:15.423Z"
   },
   {
    "duration": 11,
    "start_time": "2022-05-03T03:46:15.492Z"
   },
   {
    "duration": 9,
    "start_time": "2022-05-03T03:46:15.506Z"
   },
   {
    "duration": 15,
    "start_time": "2022-05-03T03:46:15.518Z"
   },
   {
    "duration": 13,
    "start_time": "2022-05-03T03:46:15.536Z"
   },
   {
    "duration": 46,
    "start_time": "2022-05-03T03:46:15.551Z"
   },
   {
    "duration": 35,
    "start_time": "2022-05-03T03:46:15.599Z"
   },
   {
    "duration": 5,
    "start_time": "2022-05-03T03:46:15.636Z"
   },
   {
    "duration": 79,
    "start_time": "2022-05-03T03:46:15.643Z"
   },
   {
    "duration": 9,
    "start_time": "2022-05-03T03:46:15.724Z"
   },
   {
    "duration": 18,
    "start_time": "2022-05-03T03:46:15.735Z"
   },
   {
    "duration": 953,
    "start_time": "2022-05-03T03:46:15.755Z"
   },
   {
    "duration": 9,
    "start_time": "2022-05-03T03:46:16.710Z"
   },
   {
    "duration": 16,
    "start_time": "2022-05-03T03:46:16.721Z"
   },
   {
    "duration": 154,
    "start_time": "2022-05-03T03:46:16.739Z"
   },
   {
    "duration": 102,
    "start_time": "2022-05-03T03:46:16.897Z"
   },
   {
    "duration": 200,
    "start_time": "2022-05-03T03:46:17.001Z"
   },
   {
    "duration": 271,
    "start_time": "2022-05-03T03:46:17.203Z"
   },
   {
    "duration": 8,
    "start_time": "2022-05-03T03:46:17.476Z"
   },
   {
    "duration": 175,
    "start_time": "2022-05-03T03:46:17.493Z"
   },
   {
    "duration": 69,
    "start_time": "2022-05-03T03:46:17.670Z"
   },
   {
    "duration": 8,
    "start_time": "2022-05-03T03:46:17.741Z"
   },
   {
    "duration": 43,
    "start_time": "2022-05-03T03:46:17.751Z"
   },
   {
    "duration": 1349,
    "start_time": "2022-05-03T03:46:17.796Z"
   },
   {
    "duration": 16,
    "start_time": "2022-05-03T03:46:19.147Z"
   },
   {
    "duration": 126,
    "start_time": "2022-05-03T03:46:19.167Z"
   },
   {
    "duration": 108,
    "start_time": "2022-05-03T03:46:19.297Z"
   },
   {
    "duration": 39488,
    "start_time": "2022-05-03T03:46:19.408Z"
   },
   {
    "duration": 13,
    "start_time": "2022-05-03T03:46:58.898Z"
   },
   {
    "duration": 0,
    "start_time": "2022-05-03T03:46:58.913Z"
   },
   {
    "duration": 0,
    "start_time": "2022-05-03T03:46:58.914Z"
   },
   {
    "duration": 4442,
    "start_time": "2022-05-03T03:50:24.915Z"
   },
   {
    "duration": 83399,
    "start_time": "2022-05-03T04:08:50.098Z"
   },
   {
    "duration": 26,
    "start_time": "2022-05-03T04:19:34.246Z"
   },
   {
    "duration": 6,
    "start_time": "2022-05-03T04:20:21.908Z"
   },
   {
    "duration": 41,
    "start_time": "2022-05-03T04:20:21.917Z"
   },
   {
    "duration": 18,
    "start_time": "2022-05-03T04:20:21.960Z"
   },
   {
    "duration": 30,
    "start_time": "2022-05-03T04:20:21.980Z"
   },
   {
    "duration": 5,
    "start_time": "2022-05-03T04:20:22.013Z"
   },
   {
    "duration": 88,
    "start_time": "2022-05-03T04:20:22.020Z"
   },
   {
    "duration": 14,
    "start_time": "2022-05-03T04:20:22.111Z"
   },
   {
    "duration": 82,
    "start_time": "2022-05-03T04:20:22.126Z"
   },
   {
    "duration": 57,
    "start_time": "2022-05-03T04:20:22.210Z"
   },
   {
    "duration": 28,
    "start_time": "2022-05-03T04:20:22.269Z"
   },
   {
    "duration": 13,
    "start_time": "2022-05-03T04:20:22.299Z"
   },
   {
    "duration": 17,
    "start_time": "2022-05-03T04:20:22.314Z"
   },
   {
    "duration": 11,
    "start_time": "2022-05-03T04:20:22.333Z"
   },
   {
    "duration": 9,
    "start_time": "2022-05-03T04:20:22.393Z"
   },
   {
    "duration": 10,
    "start_time": "2022-05-03T04:20:22.404Z"
   },
   {
    "duration": 9,
    "start_time": "2022-05-03T04:20:22.416Z"
   },
   {
    "duration": 12,
    "start_time": "2022-05-03T04:20:22.427Z"
   },
   {
    "duration": 75,
    "start_time": "2022-05-03T04:20:22.441Z"
   },
   {
    "duration": 5,
    "start_time": "2022-05-03T04:20:22.518Z"
   },
   {
    "duration": 68,
    "start_time": "2022-05-03T04:20:22.525Z"
   },
   {
    "duration": 9,
    "start_time": "2022-05-03T04:20:22.595Z"
   },
   {
    "duration": 16,
    "start_time": "2022-05-03T04:20:22.606Z"
   },
   {
    "duration": 960,
    "start_time": "2022-05-03T04:20:22.624Z"
   },
   {
    "duration": 12,
    "start_time": "2022-05-03T04:20:23.586Z"
   },
   {
    "duration": 16,
    "start_time": "2022-05-03T04:20:23.601Z"
   },
   {
    "duration": 80,
    "start_time": "2022-05-03T04:20:23.619Z"
   },
   {
    "duration": 110,
    "start_time": "2022-05-03T04:20:23.702Z"
   },
   {
    "duration": 207,
    "start_time": "2022-05-03T04:20:23.814Z"
   },
   {
    "duration": 208,
    "start_time": "2022-05-03T04:20:24.024Z"
   },
   {
    "duration": 9,
    "start_time": "2022-05-03T04:20:24.235Z"
   },
   {
    "duration": 185,
    "start_time": "2022-05-03T04:20:24.247Z"
   },
   {
    "duration": 83,
    "start_time": "2022-05-03T04:20:24.435Z"
   },
   {
    "duration": 12,
    "start_time": "2022-05-03T04:20:24.520Z"
   },
   {
    "duration": 18,
    "start_time": "2022-05-03T04:20:24.535Z"
   },
   {
    "duration": 1453,
    "start_time": "2022-05-03T04:20:24.555Z"
   },
   {
    "duration": 18,
    "start_time": "2022-05-03T04:20:26.011Z"
   },
   {
    "duration": 162,
    "start_time": "2022-05-03T04:20:26.032Z"
   },
   {
    "duration": 109,
    "start_time": "2022-05-03T04:20:26.198Z"
   },
   {
    "duration": 83945,
    "start_time": "2022-05-03T04:20:26.310Z"
   },
   {
    "duration": 24,
    "start_time": "2022-05-03T04:22:12.576Z"
   },
   {
    "duration": 111,
    "start_time": "2022-05-03T04:53:43.244Z"
   },
   {
    "duration": 23,
    "start_time": "2022-05-03T04:56:53.142Z"
   },
   {
    "duration": 86250,
    "start_time": "2022-05-03T05:01:17.767Z"
   },
   {
    "duration": 115,
    "start_time": "2022-05-03T05:03:01.738Z"
   },
   {
    "duration": 23,
    "start_time": "2022-05-03T05:03:06.643Z"
   },
   {
    "duration": 25,
    "start_time": "2022-05-03T05:03:10.061Z"
   },
   {
    "duration": 7,
    "start_time": "2022-05-03T05:07:20.822Z"
   },
   {
    "duration": 6,
    "start_time": "2022-05-03T05:07:35.300Z"
   },
   {
    "duration": 42,
    "start_time": "2022-05-03T05:07:35.308Z"
   },
   {
    "duration": 19,
    "start_time": "2022-05-03T05:07:35.352Z"
   },
   {
    "duration": 27,
    "start_time": "2022-05-03T05:07:35.373Z"
   },
   {
    "duration": 6,
    "start_time": "2022-05-03T05:07:35.402Z"
   },
   {
    "duration": 84,
    "start_time": "2022-05-03T05:07:35.410Z"
   },
   {
    "duration": 13,
    "start_time": "2022-05-03T05:07:35.498Z"
   },
   {
    "duration": 94,
    "start_time": "2022-05-03T05:07:35.513Z"
   },
   {
    "duration": 56,
    "start_time": "2022-05-03T05:07:35.609Z"
   },
   {
    "duration": 29,
    "start_time": "2022-05-03T05:07:35.668Z"
   },
   {
    "duration": 16,
    "start_time": "2022-05-03T05:07:35.699Z"
   },
   {
    "duration": 15,
    "start_time": "2022-05-03T05:07:35.717Z"
   },
   {
    "duration": 12,
    "start_time": "2022-05-03T05:07:35.736Z"
   },
   {
    "duration": 49,
    "start_time": "2022-05-03T05:07:35.750Z"
   },
   {
    "duration": 10,
    "start_time": "2022-05-03T05:07:35.801Z"
   },
   {
    "duration": 10,
    "start_time": "2022-05-03T05:07:35.813Z"
   },
   {
    "duration": 16,
    "start_time": "2022-05-03T05:07:35.825Z"
   },
   {
    "duration": 68,
    "start_time": "2022-05-03T05:07:35.843Z"
   },
   {
    "duration": 5,
    "start_time": "2022-05-03T05:07:35.913Z"
   },
   {
    "duration": 53,
    "start_time": "2022-05-03T05:07:35.920Z"
   },
   {
    "duration": 25,
    "start_time": "2022-05-03T05:07:35.975Z"
   },
   {
    "duration": 15,
    "start_time": "2022-05-03T05:07:36.002Z"
   },
   {
    "duration": 962,
    "start_time": "2022-05-03T05:07:36.019Z"
   },
   {
    "duration": 12,
    "start_time": "2022-05-03T05:07:36.983Z"
   },
   {
    "duration": 15,
    "start_time": "2022-05-03T05:07:36.997Z"
   },
   {
    "duration": 81,
    "start_time": "2022-05-03T05:07:37.014Z"
   },
   {
    "duration": 109,
    "start_time": "2022-05-03T05:07:37.098Z"
   },
   {
    "duration": 193,
    "start_time": "2022-05-03T05:07:37.210Z"
   },
   {
    "duration": 198,
    "start_time": "2022-05-03T05:07:37.406Z"
   },
   {
    "duration": 9,
    "start_time": "2022-05-03T05:07:37.606Z"
   },
   {
    "duration": 183,
    "start_time": "2022-05-03T05:07:37.623Z"
   },
   {
    "duration": 58,
    "start_time": "2022-05-03T05:07:37.809Z"
   },
   {
    "duration": 30,
    "start_time": "2022-05-03T05:07:37.870Z"
   },
   {
    "duration": 17,
    "start_time": "2022-05-03T05:07:37.902Z"
   },
   {
    "duration": 1348,
    "start_time": "2022-05-03T05:07:37.922Z"
   },
   {
    "duration": 29,
    "start_time": "2022-05-03T05:07:39.273Z"
   },
   {
    "duration": 92,
    "start_time": "2022-05-03T05:07:39.304Z"
   },
   {
    "duration": 106,
    "start_time": "2022-05-03T05:07:39.400Z"
   },
   {
    "duration": 88076,
    "start_time": "2022-05-03T05:07:39.508Z"
   },
   {
    "duration": 133,
    "start_time": "2022-05-03T05:09:07.594Z"
   },
   {
    "duration": 26,
    "start_time": "2022-05-03T05:09:07.730Z"
   },
   {
    "duration": 64,
    "start_time": "2022-05-03T05:09:07.759Z"
   },
   {
    "duration": 10,
    "start_time": "2022-05-03T05:18:50.302Z"
   },
   {
    "duration": 6,
    "start_time": "2022-05-03T05:18:58.451Z"
   },
   {
    "duration": 52,
    "start_time": "2022-05-03T05:18:58.459Z"
   },
   {
    "duration": 20,
    "start_time": "2022-05-03T05:18:58.513Z"
   },
   {
    "duration": 21,
    "start_time": "2022-05-03T05:18:58.538Z"
   },
   {
    "duration": 35,
    "start_time": "2022-05-03T05:18:58.562Z"
   },
   {
    "duration": 51,
    "start_time": "2022-05-03T05:18:58.600Z"
   },
   {
    "duration": 42,
    "start_time": "2022-05-03T05:18:58.653Z"
   },
   {
    "duration": 12,
    "start_time": "2022-05-03T05:19:03.013Z"
   },
   {
    "duration": 11,
    "start_time": "2022-05-03T05:19:14.292Z"
   },
   {
    "duration": 6,
    "start_time": "2022-05-03T05:21:47.400Z"
   },
   {
    "duration": 42,
    "start_time": "2022-05-03T05:21:47.408Z"
   },
   {
    "duration": 43,
    "start_time": "2022-05-03T05:21:47.452Z"
   },
   {
    "duration": 20,
    "start_time": "2022-05-03T05:21:47.498Z"
   },
   {
    "duration": 5,
    "start_time": "2022-05-03T05:21:47.520Z"
   },
   {
    "duration": 77,
    "start_time": "2022-05-03T05:21:47.528Z"
   },
   {
    "duration": 19,
    "start_time": "2022-05-03T05:21:47.607Z"
   },
   {
    "duration": 98,
    "start_time": "2022-05-03T05:21:47.628Z"
   },
   {
    "duration": 76,
    "start_time": "2022-05-03T05:21:47.728Z"
   },
   {
    "duration": 9,
    "start_time": "2022-05-03T05:21:47.810Z"
   },
   {
    "duration": 16,
    "start_time": "2022-05-03T05:21:47.822Z"
   },
   {
    "duration": 62,
    "start_time": "2022-05-03T05:21:47.840Z"
   },
   {
    "duration": 15,
    "start_time": "2022-05-03T05:21:47.905Z"
   },
   {
    "duration": 11,
    "start_time": "2022-05-03T05:21:47.923Z"
   },
   {
    "duration": 60,
    "start_time": "2022-05-03T05:21:47.937Z"
   },
   {
    "duration": 9,
    "start_time": "2022-05-03T05:21:48.000Z"
   },
   {
    "duration": 14,
    "start_time": "2022-05-03T05:21:48.011Z"
   },
   {
    "duration": 65,
    "start_time": "2022-05-03T05:21:48.028Z"
   },
   {
    "duration": 8,
    "start_time": "2022-05-03T05:21:48.095Z"
   },
   {
    "duration": 46,
    "start_time": "2022-05-03T05:21:48.105Z"
   },
   {
    "duration": 9,
    "start_time": "2022-05-03T05:21:48.153Z"
   },
   {
    "duration": 17,
    "start_time": "2022-05-03T05:21:48.193Z"
   },
   {
    "duration": 952,
    "start_time": "2022-05-03T05:21:48.212Z"
   },
   {
    "duration": 9,
    "start_time": "2022-05-03T05:21:49.167Z"
   },
   {
    "duration": 16,
    "start_time": "2022-05-03T05:21:49.193Z"
   },
   {
    "duration": 87,
    "start_time": "2022-05-03T05:21:49.211Z"
   },
   {
    "duration": 106,
    "start_time": "2022-05-03T05:21:49.301Z"
   },
   {
    "duration": 208,
    "start_time": "2022-05-03T05:21:49.411Z"
   },
   {
    "duration": 276,
    "start_time": "2022-05-03T05:21:49.621Z"
   },
   {
    "duration": 8,
    "start_time": "2022-05-03T05:21:49.899Z"
   },
   {
    "duration": 186,
    "start_time": "2022-05-03T05:21:49.909Z"
   },
   {
    "duration": 60,
    "start_time": "2022-05-03T05:21:50.097Z"
   },
   {
    "duration": 35,
    "start_time": "2022-05-03T05:21:50.159Z"
   },
   {
    "duration": 16,
    "start_time": "2022-05-03T05:21:50.197Z"
   },
   {
    "duration": 1466,
    "start_time": "2022-05-03T05:21:50.214Z"
   },
   {
    "duration": 24,
    "start_time": "2022-05-03T05:21:51.682Z"
   },
   {
    "duration": 99,
    "start_time": "2022-05-03T05:21:51.708Z"
   },
   {
    "duration": 16,
    "start_time": "2022-05-03T05:21:51.894Z"
   },
   {
    "duration": 108791,
    "start_time": "2022-05-03T05:21:51.912Z"
   },
   {
    "duration": 124,
    "start_time": "2022-05-03T05:23:40.705Z"
   },
   {
    "duration": 23,
    "start_time": "2022-05-03T05:23:40.831Z"
   },
   {
    "duration": 47,
    "start_time": "2022-05-03T05:23:40.856Z"
   },
   {
    "duration": 6,
    "start_time": "2022-05-03T05:31:22.460Z"
   },
   {
    "duration": 19,
    "start_time": "2022-05-03T05:36:59.253Z"
   },
   {
    "duration": 9,
    "start_time": "2022-05-03T05:37:49.258Z"
   },
   {
    "duration": 16,
    "start_time": "2022-05-03T05:39:38.370Z"
   },
   {
    "duration": 209,
    "start_time": "2022-05-03T05:45:04.188Z"
   },
   {
    "duration": 22,
    "start_time": "2022-05-03T05:53:40.524Z"
   },
   {
    "duration": 7,
    "start_time": "2022-05-03T05:54:51.043Z"
   },
   {
    "duration": 441,
    "start_time": "2022-05-03T05:54:56.795Z"
   },
   {
    "duration": 4,
    "start_time": "2022-05-03T06:19:41.501Z"
   },
   {
    "duration": 92771,
    "start_time": "2022-05-03T06:21:25.736Z"
   },
   {
    "duration": 9,
    "start_time": "2022-05-03T06:23:15.223Z"
   },
   {
    "duration": 28,
    "start_time": "2022-05-03T06:23:21.601Z"
   },
   {
    "duration": 357,
    "start_time": "2022-05-03T06:23:26.558Z"
   },
   {
    "duration": 22,
    "start_time": "2022-05-03T06:29:59.140Z"
   },
   {
    "duration": 593,
    "start_time": "2022-05-03T06:30:32.334Z"
   },
   {
    "duration": 1253,
    "start_time": "2022-05-03T06:30:50.004Z"
   },
   {
    "duration": 13,
    "start_time": "2022-05-03T06:31:22.020Z"
   },
   {
    "duration": 673,
    "start_time": "2022-05-03T06:35:05.257Z"
   },
   {
    "duration": 9,
    "start_time": "2022-05-03T06:35:46.687Z"
   },
   {
    "duration": 75475,
    "start_time": "2022-05-03T06:36:37.677Z"
   },
   {
    "duration": 65666,
    "start_time": "2022-05-03T06:40:52.538Z"
   },
   {
    "duration": 9,
    "start_time": "2022-05-03T06:42:30.404Z"
   },
   {
    "duration": 11,
    "start_time": "2022-05-03T06:42:43.914Z"
   },
   {
    "duration": 35,
    "start_time": "2022-05-03T06:43:21.024Z"
   },
   {
    "duration": 11,
    "start_time": "2022-05-03T06:43:22.412Z"
   },
   {
    "duration": 347,
    "start_time": "2022-05-03T06:51:04.716Z"
   },
   {
    "duration": 12,
    "start_time": "2022-05-03T06:57:43.488Z"
   },
   {
    "duration": 8,
    "start_time": "2022-05-03T07:00:41.244Z"
   },
   {
    "duration": 985,
    "start_time": "2022-05-03T07:08:27.757Z"
   },
   {
    "duration": 80,
    "start_time": "2022-05-03T07:08:41.253Z"
   },
   {
    "duration": 730,
    "start_time": "2022-05-03T07:09:22.703Z"
   },
   {
    "duration": 720,
    "start_time": "2022-05-03T07:10:01.568Z"
   },
   {
    "duration": 9,
    "start_time": "2022-05-03T07:11:19.409Z"
   },
   {
    "duration": 93129,
    "start_time": "2022-05-03T07:12:47.212Z"
   },
   {
    "duration": 101438,
    "start_time": "2022-05-03T07:16:28.682Z"
   },
   {
    "duration": 936,
    "start_time": "2022-05-03T07:19:51.143Z"
   },
   {
    "duration": 11,
    "start_time": "2022-05-03T07:20:11.959Z"
   },
   {
    "duration": 87,
    "start_time": "2022-05-03T07:20:48.032Z"
   },
   {
    "duration": 15,
    "start_time": "2022-05-03T07:20:49.063Z"
   },
   {
    "duration": 10,
    "start_time": "2022-05-03T07:25:08.332Z"
   },
   {
    "duration": 6,
    "start_time": "2022-05-03T07:26:04.925Z"
   },
   {
    "duration": 43,
    "start_time": "2022-05-03T07:26:04.934Z"
   },
   {
    "duration": 23,
    "start_time": "2022-05-03T07:26:04.979Z"
   },
   {
    "duration": 27,
    "start_time": "2022-05-03T07:26:05.005Z"
   },
   {
    "duration": 6,
    "start_time": "2022-05-03T07:26:05.034Z"
   },
   {
    "duration": 87,
    "start_time": "2022-05-03T07:26:05.043Z"
   },
   {
    "duration": 14,
    "start_time": "2022-05-03T07:26:05.132Z"
   },
   {
    "duration": 86,
    "start_time": "2022-05-03T07:26:05.148Z"
   },
   {
    "duration": 83,
    "start_time": "2022-05-03T07:26:05.237Z"
   },
   {
    "duration": 9,
    "start_time": "2022-05-03T07:26:05.323Z"
   },
   {
    "duration": 14,
    "start_time": "2022-05-03T07:26:05.333Z"
   },
   {
    "duration": 57,
    "start_time": "2022-05-03T07:26:05.349Z"
   },
   {
    "duration": 11,
    "start_time": "2022-05-03T07:26:05.410Z"
   },
   {
    "duration": 9,
    "start_time": "2022-05-03T07:26:05.423Z"
   },
   {
    "duration": 10,
    "start_time": "2022-05-03T07:26:05.434Z"
   },
   {
    "duration": 4,
    "start_time": "2022-05-03T07:26:05.494Z"
   },
   {
    "duration": 30,
    "start_time": "2022-05-03T07:26:05.501Z"
   },
   {
    "duration": 75,
    "start_time": "2022-05-03T07:26:05.534Z"
   },
   {
    "duration": 5,
    "start_time": "2022-05-03T07:26:05.611Z"
   },
   {
    "duration": 713,
    "start_time": "2022-05-03T07:26:05.619Z"
   },
   {
    "duration": 10,
    "start_time": "2022-05-03T07:26:06.334Z"
   },
   {
    "duration": 72548,
    "start_time": "2022-05-03T07:26:06.346Z"
   },
   {
    "duration": 10,
    "start_time": "2022-05-03T07:27:18.896Z"
   },
   {
    "duration": 84,
    "start_time": "2022-05-03T07:27:18.914Z"
   },
   {
    "duration": 103,
    "start_time": "2022-05-03T07:27:19.001Z"
   },
   {
    "duration": 9,
    "start_time": "2022-05-03T07:27:19.111Z"
   },
   {
    "duration": 227,
    "start_time": "2022-05-03T07:27:19.122Z"
   },
   {
    "duration": 193,
    "start_time": "2022-05-03T07:27:19.352Z"
   },
   {
    "duration": 7,
    "start_time": "2022-05-03T07:27:19.547Z"
   },
   {
    "duration": 202,
    "start_time": "2022-05-03T07:27:19.557Z"
   },
   {
    "duration": 874,
    "start_time": "2022-05-03T07:27:19.762Z"
   },
   {
    "duration": 9,
    "start_time": "2022-05-03T07:27:20.638Z"
   },
   {
    "duration": 94546,
    "start_time": "2022-05-03T07:27:20.649Z"
   },
   {
    "duration": 107,
    "start_time": "2022-05-03T07:28:55.198Z"
   },
   {
    "duration": 87,
    "start_time": "2022-05-03T07:28:55.307Z"
   },
   {
    "duration": 98979,
    "start_time": "2022-05-03T07:28:55.397Z"
   },
   {
    "duration": 20,
    "start_time": "2022-05-03T07:30:34.378Z"
   },
   {
    "duration": 9,
    "start_time": "2022-05-03T07:32:56.397Z"
   },
   {
    "duration": 16,
    "start_time": "2022-05-03T07:33:58.103Z"
   },
   {
    "duration": 7,
    "start_time": "2022-05-03T07:34:14.956Z"
   },
   {
    "duration": 29,
    "start_time": "2022-05-03T07:38:39.319Z"
   },
   {
    "duration": 32,
    "start_time": "2022-05-03T07:40:28.506Z"
   },
   {
    "duration": 8,
    "start_time": "2022-05-03T07:41:40.915Z"
   },
   {
    "duration": 51,
    "start_time": "2022-05-03T07:43:25.590Z"
   },
   {
    "duration": 101825,
    "start_time": "2022-05-03T07:44:30.156Z"
   },
   {
    "duration": 77,
    "start_time": "2022-05-03T07:46:19.656Z"
   },
   {
    "duration": 27,
    "start_time": "2022-05-03T07:46:22.601Z"
   },
   {
    "duration": 46,
    "start_time": "2022-05-03T07:46:40.894Z"
   },
   {
    "duration": 28,
    "start_time": "2022-05-03T07:52:28.433Z"
   },
   {
    "duration": 24,
    "start_time": "2022-05-03T07:53:16.185Z"
   },
   {
    "duration": 26,
    "start_time": "2022-05-03T07:53:31.478Z"
   },
   {
    "duration": 738,
    "start_time": "2022-05-03T07:54:43.208Z"
   },
   {
    "duration": 737,
    "start_time": "2022-05-03T07:55:07.841Z"
   },
   {
    "duration": 1642,
    "start_time": "2022-05-04T03:55:20.983Z"
   },
   {
    "duration": 27,
    "start_time": "2022-05-04T03:55:22.628Z"
   },
   {
    "duration": 18,
    "start_time": "2022-05-04T03:55:22.657Z"
   },
   {
    "duration": 14,
    "start_time": "2022-05-04T03:55:22.678Z"
   },
   {
    "duration": 16,
    "start_time": "2022-05-04T03:55:22.695Z"
   },
   {
    "duration": 42,
    "start_time": "2022-05-04T03:55:22.713Z"
   },
   {
    "duration": 14,
    "start_time": "2022-05-04T03:55:22.757Z"
   },
   {
    "duration": 71,
    "start_time": "2022-05-04T03:55:22.772Z"
   },
   {
    "duration": 44,
    "start_time": "2022-05-04T03:55:22.845Z"
   },
   {
    "duration": 6,
    "start_time": "2022-05-04T03:55:22.906Z"
   },
   {
    "duration": 8,
    "start_time": "2022-05-04T03:55:22.914Z"
   },
   {
    "duration": 12,
    "start_time": "2022-05-04T03:55:22.924Z"
   },
   {
    "duration": 10,
    "start_time": "2022-05-04T03:55:22.937Z"
   },
   {
    "duration": 6,
    "start_time": "2022-05-04T03:55:22.949Z"
   },
   {
    "duration": 6,
    "start_time": "2022-05-04T03:55:22.957Z"
   },
   {
    "duration": 8,
    "start_time": "2022-05-04T03:55:22.964Z"
   },
   {
    "duration": 42,
    "start_time": "2022-05-04T03:55:22.974Z"
   },
   {
    "duration": 26,
    "start_time": "2022-05-04T03:55:23.018Z"
   },
   {
    "duration": 476,
    "start_time": "2022-05-04T03:55:29.135Z"
   },
   {
    "duration": 496,
    "start_time": "2022-05-04T03:55:56.136Z"
   },
   {
    "duration": 507,
    "start_time": "2022-05-04T03:56:17.306Z"
   },
   {
    "duration": 44569,
    "start_time": "2022-05-04T03:57:32.150Z"
   },
   {
    "duration": 61,
    "start_time": "2022-05-04T04:03:25.901Z"
   },
   {
    "duration": 55,
    "start_time": "2022-05-04T04:03:46.334Z"
   },
   {
    "duration": 130,
    "start_time": "2022-05-04T04:07:22.381Z"
   },
   {
    "duration": 5,
    "start_time": "2022-05-04T04:10:05.192Z"
   },
   {
    "duration": 4,
    "start_time": "2022-05-04T04:12:32.496Z"
   },
   {
    "duration": 32,
    "start_time": "2022-05-04T04:12:32.502Z"
   },
   {
    "duration": 12,
    "start_time": "2022-05-04T04:12:32.535Z"
   },
   {
    "duration": 11,
    "start_time": "2022-05-04T04:12:32.576Z"
   },
   {
    "duration": 4,
    "start_time": "2022-05-04T04:12:32.589Z"
   },
   {
    "duration": 34,
    "start_time": "2022-05-04T04:12:32.595Z"
   },
   {
    "duration": 10,
    "start_time": "2022-05-04T04:12:32.632Z"
   },
   {
    "duration": 64,
    "start_time": "2022-05-04T04:12:32.645Z"
   },
   {
    "duration": 43,
    "start_time": "2022-05-04T04:12:32.711Z"
   },
   {
    "duration": 6,
    "start_time": "2022-05-04T04:12:32.755Z"
   },
   {
    "duration": 8,
    "start_time": "2022-05-04T04:12:32.762Z"
   },
   {
    "duration": 40,
    "start_time": "2022-05-04T04:12:32.771Z"
   },
   {
    "duration": 9,
    "start_time": "2022-05-04T04:12:32.813Z"
   },
   {
    "duration": 6,
    "start_time": "2022-05-04T04:12:32.824Z"
   },
   {
    "duration": 7,
    "start_time": "2022-05-04T04:12:32.832Z"
   },
   {
    "duration": 8,
    "start_time": "2022-05-04T04:12:32.841Z"
   },
   {
    "duration": 9,
    "start_time": "2022-05-04T04:12:32.850Z"
   },
   {
    "duration": 58,
    "start_time": "2022-05-04T04:12:32.861Z"
   },
   {
    "duration": 490,
    "start_time": "2022-05-04T04:12:32.921Z"
   },
   {
    "duration": 44811,
    "start_time": "2022-05-04T04:12:33.412Z"
   },
   {
    "duration": 86,
    "start_time": "2022-05-04T04:13:18.225Z"
   },
   {
    "duration": 96,
    "start_time": "2022-05-04T04:13:18.314Z"
   },
   {
    "duration": 144,
    "start_time": "2022-05-04T04:13:18.411Z"
   },
   {
    "duration": 120,
    "start_time": "2022-05-04T04:13:18.556Z"
   },
   {
    "duration": 5,
    "start_time": "2022-05-04T04:13:18.678Z"
   },
   {
    "duration": 125,
    "start_time": "2022-05-04T04:13:18.684Z"
   },
   {
    "duration": 598,
    "start_time": "2022-05-04T04:13:44.186Z"
   },
   {
    "duration": 60700,
    "start_time": "2022-05-04T04:14:33.885Z"
   },
   {
    "duration": 60,
    "start_time": "2022-05-04T04:16:28.751Z"
   },
   {
    "duration": 5,
    "start_time": "2022-05-04T04:21:55.793Z"
   },
   {
    "duration": 601,
    "start_time": "2022-05-04T04:22:57.324Z"
   },
   {
    "duration": 523,
    "start_time": "2022-05-04T04:30:42.516Z"
   },
   {
    "duration": 40,
    "start_time": "2022-05-04T04:33:02.716Z"
   },
   {
    "duration": 476,
    "start_time": "2022-05-04T05:05:36.051Z"
   },
   {
    "duration": 44406,
    "start_time": "2022-05-04T05:06:40.601Z"
   },
   {
    "duration": 217,
    "start_time": "2022-05-04T05:09:50.800Z"
   },
   {
    "duration": 27,
    "start_time": "2022-05-04T05:10:27.013Z"
   },
   {
    "duration": 60116,
    "start_time": "2022-05-04T05:11:02.594Z"
   },
   {
    "duration": 39,
    "start_time": "2022-05-04T05:12:33.293Z"
   },
   {
    "duration": 63909,
    "start_time": "2022-05-04T06:13:42.371Z"
   },
   {
    "duration": 53,
    "start_time": "2022-05-04T06:55:39.751Z"
   },
   {
    "duration": 6,
    "start_time": "2022-05-04T06:55:45.792Z"
   },
   {
    "duration": 40,
    "start_time": "2022-05-04T06:55:45.801Z"
   },
   {
    "duration": 16,
    "start_time": "2022-05-04T06:55:45.843Z"
   },
   {
    "duration": 17,
    "start_time": "2022-05-04T06:55:45.870Z"
   },
   {
    "duration": 6,
    "start_time": "2022-05-04T06:55:45.907Z"
   },
   {
    "duration": 40,
    "start_time": "2022-05-04T06:55:45.915Z"
   },
   {
    "duration": 12,
    "start_time": "2022-05-04T06:55:45.957Z"
   },
   {
    "duration": 88,
    "start_time": "2022-05-04T06:55:45.972Z"
   },
   {
    "duration": 57,
    "start_time": "2022-05-04T06:55:48.632Z"
   },
   {
    "duration": 7,
    "start_time": "2022-05-04T06:56:48.891Z"
   },
   {
    "duration": 11,
    "start_time": "2022-05-04T06:56:53.471Z"
   },
   {
    "duration": 12,
    "start_time": "2022-05-04T06:57:08.171Z"
   },
   {
    "duration": 8,
    "start_time": "2022-05-04T06:57:08.753Z"
   },
   {
    "duration": 9,
    "start_time": "2022-05-04T06:57:09.492Z"
   },
   {
    "duration": 3,
    "start_time": "2022-05-04T06:57:16.199Z"
   },
   {
    "duration": 10,
    "start_time": "2022-05-04T06:57:17.091Z"
   },
   {
    "duration": 38,
    "start_time": "2022-05-04T06:57:17.751Z"
   },
   {
    "duration": 562,
    "start_time": "2022-05-04T06:57:49.212Z"
   },
   {
    "duration": 49467,
    "start_time": "2022-05-04T06:58:34.600Z"
   },
   {
    "duration": 195,
    "start_time": "2022-05-04T06:59:55.712Z"
   },
   {
    "duration": 7,
    "start_time": "2022-05-04T07:00:07.313Z"
   },
   {
    "duration": 149,
    "start_time": "2022-05-04T07:00:18.151Z"
   },
   {
    "duration": 127,
    "start_time": "2022-05-04T07:01:52.691Z"
   },
   {
    "duration": 118,
    "start_time": "2022-05-04T07:01:54.771Z"
   },
   {
    "duration": 140,
    "start_time": "2022-05-04T07:02:37.712Z"
   },
   {
    "duration": 123,
    "start_time": "2022-05-04T07:04:43.971Z"
   },
   {
    "duration": 9,
    "start_time": "2022-05-04T07:12:37.392Z"
   },
   {
    "duration": 10,
    "start_time": "2022-05-04T07:12:39.812Z"
   },
   {
    "duration": 7,
    "start_time": "2022-05-04T07:12:40.433Z"
   },
   {
    "duration": 679,
    "start_time": "2022-05-04T07:13:45.693Z"
   },
   {
    "duration": 645,
    "start_time": "2022-05-04T07:14:08.693Z"
   },
   {
    "duration": 4,
    "start_time": "2022-05-04T07:14:24.353Z"
   },
   {
    "duration": 30,
    "start_time": "2022-05-04T07:14:24.360Z"
   },
   {
    "duration": 13,
    "start_time": "2022-05-04T07:14:24.392Z"
   },
   {
    "duration": 18,
    "start_time": "2022-05-04T07:14:24.407Z"
   },
   {
    "duration": 4,
    "start_time": "2022-05-04T07:14:24.430Z"
   },
   {
    "duration": 36,
    "start_time": "2022-05-04T07:14:24.436Z"
   },
   {
    "duration": 49,
    "start_time": "2022-05-04T07:14:24.474Z"
   },
   {
    "duration": 45,
    "start_time": "2022-05-04T07:14:24.525Z"
   },
   {
    "duration": 7,
    "start_time": "2022-05-04T07:14:24.572Z"
   },
   {
    "duration": 18,
    "start_time": "2022-05-04T07:14:24.607Z"
   },
   {
    "duration": 10,
    "start_time": "2022-05-04T07:14:24.627Z"
   },
   {
    "duration": 9,
    "start_time": "2022-05-04T07:14:24.638Z"
   },
   {
    "duration": 9,
    "start_time": "2022-05-04T07:14:24.649Z"
   },
   {
    "duration": 6,
    "start_time": "2022-05-04T07:14:24.661Z"
   },
   {
    "duration": 15,
    "start_time": "2022-05-04T07:14:24.715Z"
   },
   {
    "duration": 36,
    "start_time": "2022-05-04T07:14:24.732Z"
   },
   {
    "duration": 535,
    "start_time": "2022-05-04T07:14:24.770Z"
   },
   {
    "duration": 49056,
    "start_time": "2022-05-04T07:14:25.308Z"
   },
   {
    "duration": 145,
    "start_time": "2022-05-04T07:15:14.365Z"
   },
   {
    "duration": 18,
    "start_time": "2022-05-04T07:15:14.514Z"
   },
   {
    "duration": 189,
    "start_time": "2022-05-04T07:15:14.535Z"
   },
   {
    "duration": 138,
    "start_time": "2022-05-04T07:15:14.726Z"
   },
   {
    "duration": 144,
    "start_time": "2022-05-04T07:15:14.866Z"
   },
   {
    "duration": 8,
    "start_time": "2022-05-04T07:15:15.012Z"
   },
   {
    "duration": 141,
    "start_time": "2022-05-04T07:15:15.022Z"
   },
   {
    "duration": 671,
    "start_time": "2022-05-04T07:15:27.954Z"
   },
   {
    "duration": 681,
    "start_time": "2022-05-04T07:15:43.022Z"
   },
   {
    "duration": 66831,
    "start_time": "2022-05-04T07:16:09.264Z"
   },
   {
    "duration": 217,
    "start_time": "2022-05-04T07:17:30.693Z"
   },
   {
    "duration": 32,
    "start_time": "2022-05-04T07:17:36.472Z"
   },
   {
    "duration": 6,
    "start_time": "2022-05-04T07:27:15.085Z"
   },
   {
    "duration": 45,
    "start_time": "2022-05-04T07:27:15.094Z"
   },
   {
    "duration": 19,
    "start_time": "2022-05-04T07:27:15.141Z"
   },
   {
    "duration": 21,
    "start_time": "2022-05-04T07:27:15.164Z"
   },
   {
    "duration": 28,
    "start_time": "2022-05-04T07:27:15.188Z"
   },
   {
    "duration": 53,
    "start_time": "2022-05-04T07:27:15.219Z"
   },
   {
    "duration": 16,
    "start_time": "2022-05-04T07:27:15.274Z"
   },
   {
    "duration": 71,
    "start_time": "2022-05-04T07:27:15.292Z"
   },
   {
    "duration": 7,
    "start_time": "2022-05-04T07:27:15.366Z"
   },
   {
    "duration": 36,
    "start_time": "2022-05-04T07:27:15.376Z"
   },
   {
    "duration": 16,
    "start_time": "2022-05-04T07:27:15.414Z"
   },
   {
    "duration": 8,
    "start_time": "2022-05-04T07:27:15.432Z"
   },
   {
    "duration": 8,
    "start_time": "2022-05-04T07:27:15.447Z"
   },
   {
    "duration": 5,
    "start_time": "2022-05-04T07:27:15.459Z"
   },
   {
    "duration": 13,
    "start_time": "2022-05-04T07:27:15.466Z"
   },
   {
    "duration": 57,
    "start_time": "2022-05-04T07:27:15.481Z"
   },
   {
    "duration": 545,
    "start_time": "2022-05-04T07:27:15.539Z"
   },
   {
    "duration": 49061,
    "start_time": "2022-05-04T07:27:16.086Z"
   },
   {
    "duration": 161,
    "start_time": "2022-05-04T07:28:05.149Z"
   },
   {
    "duration": 14,
    "start_time": "2022-05-04T07:28:05.312Z"
   },
   {
    "duration": 191,
    "start_time": "2022-05-04T07:28:05.329Z"
   },
   {
    "duration": 148,
    "start_time": "2022-05-04T07:28:05.523Z"
   },
   {
    "duration": 139,
    "start_time": "2022-05-04T07:28:05.673Z"
   },
   {
    "duration": 10,
    "start_time": "2022-05-04T07:28:05.819Z"
   },
   {
    "duration": 153,
    "start_time": "2022-05-04T07:28:05.831Z"
   },
   {
    "duration": 709,
    "start_time": "2022-05-04T07:28:05.985Z"
   },
   {
    "duration": 68429,
    "start_time": "2022-05-04T07:28:06.695Z"
   },
   {
    "duration": 99,
    "start_time": "2022-05-04T07:29:15.126Z"
   },
   {
    "duration": 106,
    "start_time": "2022-05-04T07:29:15.228Z"
   },
   {
    "duration": 1557,
    "start_time": "2022-05-04T07:31:59.348Z"
   },
   {
    "duration": 36,
    "start_time": "2022-05-04T07:32:00.910Z"
   },
   {
    "duration": 20,
    "start_time": "2022-05-04T07:32:00.948Z"
   },
   {
    "duration": 16,
    "start_time": "2022-05-04T07:32:00.970Z"
   },
   {
    "duration": 28,
    "start_time": "2022-05-04T07:32:00.988Z"
   },
   {
    "duration": 41,
    "start_time": "2022-05-04T07:32:01.022Z"
   },
   {
    "duration": 10,
    "start_time": "2022-05-04T07:32:01.065Z"
   },
   {
    "duration": 61,
    "start_time": "2022-05-04T07:32:01.077Z"
   },
   {
    "duration": 5,
    "start_time": "2022-05-04T07:32:01.140Z"
   },
   {
    "duration": 23,
    "start_time": "2022-05-04T07:32:01.147Z"
   },
   {
    "duration": 16,
    "start_time": "2022-05-04T07:32:01.172Z"
   },
   {
    "duration": 28,
    "start_time": "2022-05-04T07:32:01.190Z"
   },
   {
    "duration": 12,
    "start_time": "2022-05-04T07:32:01.220Z"
   },
   {
    "duration": 17,
    "start_time": "2022-05-04T07:32:01.236Z"
   },
   {
    "duration": 29,
    "start_time": "2022-05-04T07:32:01.255Z"
   },
   {
    "duration": 39,
    "start_time": "2022-05-04T07:32:01.287Z"
   },
   {
    "duration": 537,
    "start_time": "2022-05-04T07:32:01.329Z"
   },
   {
    "duration": 48679,
    "start_time": "2022-05-04T07:32:01.868Z"
   },
   {
    "duration": 167,
    "start_time": "2022-05-04T07:32:50.549Z"
   },
   {
    "duration": 7,
    "start_time": "2022-05-04T07:32:50.725Z"
   },
   {
    "duration": 186,
    "start_time": "2022-05-04T07:32:50.735Z"
   },
   {
    "duration": 137,
    "start_time": "2022-05-04T07:32:50.923Z"
   },
   {
    "duration": 128,
    "start_time": "2022-05-04T07:32:51.062Z"
   },
   {
    "duration": 5,
    "start_time": "2022-05-04T07:32:51.192Z"
   },
   {
    "duration": 128,
    "start_time": "2022-05-04T07:32:51.210Z"
   },
   {
    "duration": 682,
    "start_time": "2022-05-04T07:32:51.339Z"
   },
   {
    "duration": 66167,
    "start_time": "2022-05-04T07:32:52.023Z"
   },
   {
    "duration": 47,
    "start_time": "2022-05-04T07:33:58.192Z"
   },
   {
    "duration": 121,
    "start_time": "2022-05-04T07:33:58.308Z"
   },
   {
    "duration": 5728,
    "start_time": "2022-05-04T18:12:23.760Z"
   },
   {
    "duration": 32,
    "start_time": "2022-05-04T18:12:29.491Z"
   },
   {
    "duration": 90,
    "start_time": "2022-05-04T18:12:29.526Z"
   },
   {
    "duration": 27,
    "start_time": "2022-05-04T18:12:29.681Z"
   },
   {
    "duration": 6,
    "start_time": "2022-05-04T18:12:29.713Z"
   },
   {
    "duration": 173,
    "start_time": "2022-05-04T18:12:29.721Z"
   },
   {
    "duration": 17,
    "start_time": "2022-05-04T18:12:29.897Z"
   },
   {
    "duration": 184,
    "start_time": "2022-05-04T18:12:29.916Z"
   },
   {
    "duration": 10,
    "start_time": "2022-05-04T18:12:30.103Z"
   },
   {
    "duration": 76,
    "start_time": "2022-05-04T18:12:30.117Z"
   },
   {
    "duration": 18,
    "start_time": "2022-05-04T18:12:30.196Z"
   },
   {
    "duration": 12,
    "start_time": "2022-05-04T18:12:30.282Z"
   },
   {
    "duration": 17,
    "start_time": "2022-05-04T18:12:30.297Z"
   },
   {
    "duration": 5,
    "start_time": "2022-05-04T18:12:30.381Z"
   },
   {
    "duration": 26,
    "start_time": "2022-05-04T18:12:30.389Z"
   },
   {
    "duration": 109,
    "start_time": "2022-05-04T18:12:30.418Z"
   },
   {
    "duration": 1920,
    "start_time": "2022-05-04T18:12:30.586Z"
   },
   {
    "duration": 123561,
    "start_time": "2022-05-04T18:12:32.510Z"
   },
   {
    "duration": 108,
    "start_time": "2022-05-04T18:14:36.074Z"
   },
   {
    "duration": 98,
    "start_time": "2022-05-04T18:14:36.185Z"
   },
   {
    "duration": 225,
    "start_time": "2022-05-04T18:14:36.286Z"
   },
   {
    "duration": 186,
    "start_time": "2022-05-04T18:14:36.514Z"
   },
   {
    "duration": 199,
    "start_time": "2022-05-04T18:14:36.702Z"
   },
   {
    "duration": 8,
    "start_time": "2022-05-04T18:14:36.903Z"
   },
   {
    "duration": 184,
    "start_time": "2022-05-04T18:14:36.914Z"
   },
   {
    "duration": 921,
    "start_time": "2022-05-04T18:14:37.100Z"
   },
   {
    "duration": 97284,
    "start_time": "2022-05-04T18:14:38.023Z"
   },
   {
    "duration": 179,
    "start_time": "2022-05-04T18:16:15.310Z"
   },
   {
    "duration": 101,
    "start_time": "2022-05-04T18:16:15.499Z"
   },
   {
    "duration": 1620,
    "start_time": "2022-05-05T04:01:50.628Z"
   },
   {
    "duration": 25,
    "start_time": "2022-05-05T04:01:52.250Z"
   },
   {
    "duration": 20,
    "start_time": "2022-05-05T04:01:52.277Z"
   },
   {
    "duration": 12,
    "start_time": "2022-05-05T04:01:52.298Z"
   },
   {
    "duration": 4,
    "start_time": "2022-05-05T04:01:52.312Z"
   },
   {
    "duration": 33,
    "start_time": "2022-05-05T04:01:52.317Z"
   },
   {
    "duration": 9,
    "start_time": "2022-05-05T04:01:52.351Z"
   },
   {
    "duration": 60,
    "start_time": "2022-05-05T04:01:52.362Z"
   },
   {
    "duration": 6,
    "start_time": "2022-05-05T04:01:52.424Z"
   },
   {
    "duration": 12,
    "start_time": "2022-05-05T04:01:52.432Z"
   },
   {
    "duration": 8,
    "start_time": "2022-05-05T04:01:52.446Z"
   },
   {
    "duration": 6,
    "start_time": "2022-05-05T04:01:52.455Z"
   },
   {
    "duration": 33,
    "start_time": "2022-05-05T04:01:52.463Z"
   },
   {
    "duration": 5,
    "start_time": "2022-05-05T04:01:52.499Z"
   },
   {
    "duration": 11,
    "start_time": "2022-05-05T04:01:52.505Z"
   },
   {
    "duration": 24,
    "start_time": "2022-05-05T04:01:52.518Z"
   },
   {
    "duration": 466,
    "start_time": "2022-05-05T04:01:52.544Z"
   },
   {
    "duration": 41696,
    "start_time": "2022-05-05T04:01:53.013Z"
   },
   {
    "duration": 82,
    "start_time": "2022-05-05T04:02:34.711Z"
   },
   {
    "duration": 97,
    "start_time": "2022-05-05T04:02:34.796Z"
   },
   {
    "duration": 121,
    "start_time": "2022-05-05T04:02:34.894Z"
   },
   {
    "duration": 110,
    "start_time": "2022-05-05T04:02:35.016Z"
   },
   {
    "duration": 109,
    "start_time": "2022-05-05T04:02:35.128Z"
   },
   {
    "duration": 6,
    "start_time": "2022-05-05T04:02:35.239Z"
   },
   {
    "duration": 106,
    "start_time": "2022-05-05T04:02:35.247Z"
   },
   {
    "duration": 572,
    "start_time": "2022-05-05T04:02:35.355Z"
   },
   {
    "duration": 56806,
    "start_time": "2022-05-05T04:02:35.929Z"
   },
   {
    "duration": 61,
    "start_time": "2022-05-05T04:03:32.737Z"
   },
   {
    "duration": 551,
    "start_time": "2022-05-05T04:03:32.800Z"
   },
   {
    "duration": 42064,
    "start_time": "2022-05-05T04:03:33.353Z"
   },
   {
    "duration": 75,
    "start_time": "2022-05-05T04:04:15.419Z"
   },
   {
    "duration": 132,
    "start_time": "2022-05-05T04:04:15.496Z"
   },
   {
    "duration": 106,
    "start_time": "2022-05-05T04:14:20.553Z"
   },
   {
    "duration": 128,
    "start_time": "2022-05-05T04:15:48.633Z"
   },
   {
    "duration": 13,
    "start_time": "2022-05-05T04:20:33.253Z"
   },
   {
    "duration": 13,
    "start_time": "2022-05-05T04:23:33.031Z"
   },
   {
    "duration": 92,
    "start_time": "2022-05-05T04:27:00.708Z"
   },
   {
    "duration": 71310,
    "start_time": "2022-05-05T04:30:10.917Z"
   },
   {
    "duration": 1444,
    "start_time": "2022-05-05T04:34:27.421Z"
   },
   {
    "duration": 24,
    "start_time": "2022-05-05T04:34:28.867Z"
   },
   {
    "duration": 15,
    "start_time": "2022-05-05T04:34:28.893Z"
   },
   {
    "duration": 12,
    "start_time": "2022-05-05T04:34:28.910Z"
   },
   {
    "duration": 4,
    "start_time": "2022-05-05T04:34:28.924Z"
   },
   {
    "duration": 34,
    "start_time": "2022-05-05T04:34:28.929Z"
   },
   {
    "duration": 32,
    "start_time": "2022-05-05T04:34:28.965Z"
   },
   {
    "duration": 37,
    "start_time": "2022-05-05T04:34:28.999Z"
   },
   {
    "duration": 6,
    "start_time": "2022-05-05T04:34:29.037Z"
   },
   {
    "duration": 9,
    "start_time": "2022-05-05T04:34:29.045Z"
   },
   {
    "duration": 6,
    "start_time": "2022-05-05T04:34:29.056Z"
   },
   {
    "duration": 32,
    "start_time": "2022-05-05T04:34:29.064Z"
   },
   {
    "duration": 6,
    "start_time": "2022-05-05T04:34:29.098Z"
   },
   {
    "duration": 2,
    "start_time": "2022-05-05T04:34:29.107Z"
   },
   {
    "duration": 10,
    "start_time": "2022-05-05T04:34:29.111Z"
   },
   {
    "duration": 26,
    "start_time": "2022-05-05T04:34:29.122Z"
   },
   {
    "duration": 472,
    "start_time": "2022-05-05T04:34:29.149Z"
   },
   {
    "duration": 41426,
    "start_time": "2022-05-05T04:34:29.623Z"
   },
   {
    "duration": 51,
    "start_time": "2022-05-05T04:35:11.051Z"
   },
   {
    "duration": 8,
    "start_time": "2022-05-05T04:35:11.192Z"
   },
   {
    "duration": 191,
    "start_time": "2022-05-05T04:35:11.203Z"
   },
   {
    "duration": 106,
    "start_time": "2022-05-05T04:35:11.395Z"
   },
   {
    "duration": 111,
    "start_time": "2022-05-05T04:35:11.502Z"
   },
   {
    "duration": 6,
    "start_time": "2022-05-05T04:35:11.614Z"
   },
   {
    "duration": 106,
    "start_time": "2022-05-05T04:35:11.621Z"
   },
   {
    "duration": 551,
    "start_time": "2022-05-05T04:35:11.729Z"
   },
   {
    "duration": 57043,
    "start_time": "2022-05-05T04:35:12.281Z"
   },
   {
    "duration": 73,
    "start_time": "2022-05-05T04:36:09.326Z"
   },
   {
    "duration": 539,
    "start_time": "2022-05-05T04:36:09.402Z"
   },
   {
    "duration": 41264,
    "start_time": "2022-05-05T04:36:09.942Z"
   },
   {
    "duration": 85,
    "start_time": "2022-05-05T04:36:51.208Z"
   },
   {
    "duration": 132,
    "start_time": "2022-05-05T04:36:51.295Z"
   },
   {
    "duration": 106,
    "start_time": "2022-05-05T04:36:51.428Z"
   },
   {
    "duration": 71771,
    "start_time": "2022-05-05T04:36:51.536Z"
   },
   {
    "duration": 49,
    "start_time": "2022-05-05T10:37:39.555Z"
   },
   {
    "duration": 1767,
    "start_time": "2022-05-05T10:37:52.496Z"
   },
   {
    "duration": 73,
    "start_time": "2022-05-05T10:38:37.032Z"
   },
   {
    "duration": 5,
    "start_time": "2022-05-05T10:39:40.376Z"
   },
   {
    "duration": 32,
    "start_time": "2022-05-05T10:39:40.384Z"
   },
   {
    "duration": 20,
    "start_time": "2022-05-05T10:39:40.417Z"
   },
   {
    "duration": 13,
    "start_time": "2022-05-05T10:39:40.439Z"
   },
   {
    "duration": 3,
    "start_time": "2022-05-05T10:39:40.454Z"
   },
   {
    "duration": 33,
    "start_time": "2022-05-05T10:39:40.459Z"
   },
   {
    "duration": 30,
    "start_time": "2022-05-05T10:39:40.494Z"
   },
   {
    "duration": 39,
    "start_time": "2022-05-05T10:39:40.526Z"
   },
   {
    "duration": 5,
    "start_time": "2022-05-05T10:39:40.567Z"
   },
   {
    "duration": 20,
    "start_time": "2022-05-05T10:39:40.573Z"
   },
   {
    "duration": 8,
    "start_time": "2022-05-05T10:39:40.595Z"
   },
   {
    "duration": 30,
    "start_time": "2022-05-05T10:39:40.605Z"
   },
   {
    "duration": 28,
    "start_time": "2022-05-05T10:39:40.637Z"
   },
   {
    "duration": 3,
    "start_time": "2022-05-05T10:39:40.668Z"
   },
   {
    "duration": 13,
    "start_time": "2022-05-05T10:39:40.672Z"
   },
   {
    "duration": 22,
    "start_time": "2022-05-05T10:39:40.686Z"
   },
   {
    "duration": 431,
    "start_time": "2022-05-05T10:39:40.710Z"
   },
   {
    "duration": 44561,
    "start_time": "2022-05-05T10:39:41.142Z"
   },
   {
    "duration": 30,
    "start_time": "2022-05-05T10:40:25.705Z"
   },
   {
    "duration": 87,
    "start_time": "2022-05-05T10:40:25.737Z"
   },
   {
    "duration": 209,
    "start_time": "2022-05-05T10:40:25.826Z"
   },
   {
    "duration": 109,
    "start_time": "2022-05-05T10:40:26.036Z"
   },
   {
    "duration": 106,
    "start_time": "2022-05-05T10:40:26.146Z"
   },
   {
    "duration": 5,
    "start_time": "2022-05-05T10:40:26.254Z"
   },
   {
    "duration": 106,
    "start_time": "2022-05-05T10:40:26.260Z"
   },
   {
    "duration": 558,
    "start_time": "2022-05-05T10:40:26.367Z"
   },
   {
    "duration": 58622,
    "start_time": "2022-05-05T10:40:26.926Z"
   },
   {
    "duration": 78,
    "start_time": "2022-05-05T10:41:25.550Z"
   },
   {
    "duration": 579,
    "start_time": "2022-05-05T10:41:25.630Z"
   },
   {
    "duration": 43313,
    "start_time": "2022-05-05T10:41:26.211Z"
   },
   {
    "duration": 98,
    "start_time": "2022-05-05T10:42:09.526Z"
   },
   {
    "duration": 130,
    "start_time": "2022-05-05T10:42:09.626Z"
   },
   {
    "duration": 109,
    "start_time": "2022-05-05T10:42:09.758Z"
   },
   {
    "duration": 813,
    "start_time": "2022-05-05T10:42:09.868Z"
   },
   {
    "duration": 962,
    "start_time": "2022-05-05T10:44:51.773Z"
   },
   {
    "duration": 924,
    "start_time": "2022-05-05T10:48:07.304Z"
   },
   {
    "duration": 74,
    "start_time": "2022-05-05T16:22:42.669Z"
   },
   {
    "duration": 2200,
    "start_time": "2022-05-05T16:22:59.517Z"
   },
   {
    "duration": 41,
    "start_time": "2022-05-05T16:23:01.720Z"
   },
   {
    "duration": 26,
    "start_time": "2022-05-05T16:23:01.764Z"
   },
   {
    "duration": 36,
    "start_time": "2022-05-05T16:23:01.793Z"
   },
   {
    "duration": 6,
    "start_time": "2022-05-05T16:23:01.832Z"
   },
   {
    "duration": 61,
    "start_time": "2022-05-05T16:23:01.840Z"
   },
   {
    "duration": 33,
    "start_time": "2022-05-05T16:23:01.903Z"
   },
   {
    "duration": 61,
    "start_time": "2022-05-05T16:23:01.938Z"
   },
   {
    "duration": 8,
    "start_time": "2022-05-05T16:23:02.024Z"
   },
   {
    "duration": 23,
    "start_time": "2022-05-05T16:23:02.035Z"
   },
   {
    "duration": 11,
    "start_time": "2022-05-05T16:23:02.061Z"
   },
   {
    "duration": 11,
    "start_time": "2022-05-05T16:23:02.075Z"
   },
   {
    "duration": 43,
    "start_time": "2022-05-05T16:23:02.089Z"
   },
   {
    "duration": 12,
    "start_time": "2022-05-05T16:23:02.137Z"
   },
   {
    "duration": 18,
    "start_time": "2022-05-05T16:23:02.152Z"
   },
   {
    "duration": 58,
    "start_time": "2022-05-05T16:23:02.173Z"
   },
   {
    "duration": 197,
    "start_time": "2022-05-05T16:23:02.233Z"
   },
   {
    "duration": 0,
    "start_time": "2022-05-05T16:23:02.433Z"
   },
   {
    "duration": 0,
    "start_time": "2022-05-05T16:23:02.435Z"
   },
   {
    "duration": 0,
    "start_time": "2022-05-05T16:23:02.437Z"
   },
   {
    "duration": 0,
    "start_time": "2022-05-05T16:23:02.438Z"
   },
   {
    "duration": 0,
    "start_time": "2022-05-05T16:23:02.440Z"
   },
   {
    "duration": 0,
    "start_time": "2022-05-05T16:23:02.441Z"
   },
   {
    "duration": 0,
    "start_time": "2022-05-05T16:23:02.443Z"
   },
   {
    "duration": 0,
    "start_time": "2022-05-05T16:23:02.445Z"
   },
   {
    "duration": 1,
    "start_time": "2022-05-05T16:23:02.446Z"
   },
   {
    "duration": 0,
    "start_time": "2022-05-05T16:23:02.448Z"
   },
   {
    "duration": 0,
    "start_time": "2022-05-05T16:23:02.449Z"
   },
   {
    "duration": 0,
    "start_time": "2022-05-05T16:23:02.451Z"
   },
   {
    "duration": 0,
    "start_time": "2022-05-05T16:23:02.452Z"
   },
   {
    "duration": 0,
    "start_time": "2022-05-05T16:23:02.454Z"
   },
   {
    "duration": 0,
    "start_time": "2022-05-05T16:23:02.455Z"
   },
   {
    "duration": 0,
    "start_time": "2022-05-05T16:23:02.457Z"
   },
   {
    "duration": 0,
    "start_time": "2022-05-05T16:23:02.458Z"
   },
   {
    "duration": 28,
    "start_time": "2022-05-05T16:25:01.255Z"
   },
   {
    "duration": 27,
    "start_time": "2022-05-05T16:25:30.886Z"
   },
   {
    "duration": 42,
    "start_time": "2022-05-05T16:25:51.846Z"
   },
   {
    "duration": 40,
    "start_time": "2022-05-05T16:30:56.137Z"
   },
   {
    "duration": 50,
    "start_time": "2022-05-05T16:31:36.091Z"
   },
   {
    "duration": 34,
    "start_time": "2022-05-05T16:32:33.534Z"
   },
   {
    "duration": 34,
    "start_time": "2022-05-05T16:32:49.601Z"
   },
   {
    "duration": 566,
    "start_time": "2022-05-05T16:34:04.607Z"
   },
   {
    "duration": 887,
    "start_time": "2022-05-05T16:34:34.225Z"
   },
   {
    "duration": 17,
    "start_time": "2022-05-05T16:36:15.509Z"
   },
   {
    "duration": 166,
    "start_time": "2022-05-05T16:41:41.563Z"
   },
   {
    "duration": 136,
    "start_time": "2022-05-05T16:42:03.893Z"
   },
   {
    "duration": 13,
    "start_time": "2022-05-05T16:42:39.383Z"
   },
   {
    "duration": 2006,
    "start_time": "2022-05-05T16:43:13.402Z"
   },
   {
    "duration": 33,
    "start_time": "2022-05-05T16:43:15.411Z"
   },
   {
    "duration": 25,
    "start_time": "2022-05-05T16:43:15.446Z"
   },
   {
    "duration": 20,
    "start_time": "2022-05-05T16:43:15.473Z"
   },
   {
    "duration": 31,
    "start_time": "2022-05-05T16:43:15.496Z"
   },
   {
    "duration": 72,
    "start_time": "2022-05-05T16:43:15.529Z"
   },
   {
    "duration": 16,
    "start_time": "2022-05-05T16:43:15.603Z"
   },
   {
    "duration": 60,
    "start_time": "2022-05-05T16:43:15.625Z"
   },
   {
    "duration": 7,
    "start_time": "2022-05-05T16:43:15.687Z"
   },
   {
    "duration": 38,
    "start_time": "2022-05-05T16:43:15.697Z"
   },
   {
    "duration": 12,
    "start_time": "2022-05-05T16:43:15.737Z"
   },
   {
    "duration": 12,
    "start_time": "2022-05-05T16:43:15.751Z"
   },
   {
    "duration": 15,
    "start_time": "2022-05-05T16:43:15.765Z"
   },
   {
    "duration": 108,
    "start_time": "2022-05-05T16:43:15.793Z"
   },
   {
    "duration": 14,
    "start_time": "2022-05-05T16:43:15.903Z"
   },
   {
    "duration": 36,
    "start_time": "2022-05-05T16:43:15.919Z"
   },
   {
    "duration": 715,
    "start_time": "2022-05-05T16:43:15.957Z"
   },
   {
    "duration": 70335,
    "start_time": "2022-05-05T16:43:16.674Z"
   },
   {
    "duration": 120,
    "start_time": "2022-05-05T16:44:27.011Z"
   },
   {
    "duration": 95,
    "start_time": "2022-05-05T16:44:27.134Z"
   },
   {
    "duration": 211,
    "start_time": "2022-05-05T16:44:27.231Z"
   },
   {
    "duration": 201,
    "start_time": "2022-05-05T16:44:27.444Z"
   },
   {
    "duration": 195,
    "start_time": "2022-05-05T16:44:27.647Z"
   },
   {
    "duration": 8,
    "start_time": "2022-05-05T16:44:27.844Z"
   },
   {
    "duration": 182,
    "start_time": "2022-05-05T16:44:27.855Z"
   },
   {
    "duration": 913,
    "start_time": "2022-05-05T16:44:28.040Z"
   },
   {
    "duration": 71459,
    "start_time": "2022-05-05T16:44:28.956Z"
   },
   {
    "duration": 111,
    "start_time": "2022-05-05T16:45:40.417Z"
   },
   {
    "duration": 1012,
    "start_time": "2022-05-05T16:45:40.535Z"
   },
   {
    "duration": 71943,
    "start_time": "2022-05-05T16:45:41.549Z"
   },
   {
    "duration": 140,
    "start_time": "2022-05-05T16:46:53.494Z"
   },
   {
    "duration": 126,
    "start_time": "2022-05-05T16:46:53.637Z"
   },
   {
    "duration": 221,
    "start_time": "2022-05-05T16:46:53.765Z"
   },
   {
    "duration": 1682,
    "start_time": "2022-05-05T16:46:53.988Z"
   },
   {
    "duration": 977,
    "start_time": "2022-05-05T16:49:04.834Z"
   },
   {
    "duration": 1889,
    "start_time": "2022-05-05T16:50:09.125Z"
   },
   {
    "duration": 38,
    "start_time": "2022-05-05T16:50:11.016Z"
   },
   {
    "duration": 24,
    "start_time": "2022-05-05T16:50:11.057Z"
   },
   {
    "duration": 18,
    "start_time": "2022-05-05T16:50:11.084Z"
   },
   {
    "duration": 6,
    "start_time": "2022-05-05T16:50:11.124Z"
   },
   {
    "duration": 54,
    "start_time": "2022-05-05T16:50:11.132Z"
   },
   {
    "duration": 39,
    "start_time": "2022-05-05T16:50:11.188Z"
   },
   {
    "duration": 58,
    "start_time": "2022-05-05T16:50:11.229Z"
   },
   {
    "duration": 8,
    "start_time": "2022-05-05T16:50:11.289Z"
   },
   {
    "duration": 12,
    "start_time": "2022-05-05T16:50:11.324Z"
   },
   {
    "duration": 11,
    "start_time": "2022-05-05T16:50:11.338Z"
   },
   {
    "duration": 8,
    "start_time": "2022-05-05T16:50:11.351Z"
   },
   {
    "duration": 10,
    "start_time": "2022-05-05T16:50:11.361Z"
   },
   {
    "duration": 7,
    "start_time": "2022-05-05T16:50:11.373Z"
   },
   {
    "duration": 47,
    "start_time": "2022-05-05T16:50:11.382Z"
   },
   {
    "duration": 36,
    "start_time": "2022-05-05T16:50:11.431Z"
   },
   {
    "duration": 757,
    "start_time": "2022-05-05T16:50:11.469Z"
   },
   {
    "duration": 69863,
    "start_time": "2022-05-05T16:50:12.228Z"
   },
   {
    "duration": 136,
    "start_time": "2022-05-05T16:51:22.093Z"
   },
   {
    "duration": 98,
    "start_time": "2022-05-05T16:51:22.231Z"
   },
   {
    "duration": 210,
    "start_time": "2022-05-05T16:51:22.332Z"
   },
   {
    "duration": 188,
    "start_time": "2022-05-05T16:51:22.544Z"
   },
   {
    "duration": 189,
    "start_time": "2022-05-05T16:51:22.734Z"
   },
   {
    "duration": 8,
    "start_time": "2022-05-05T16:51:22.925Z"
   },
   {
    "duration": 180,
    "start_time": "2022-05-05T16:51:22.936Z"
   },
   {
    "duration": 902,
    "start_time": "2022-05-05T16:51:23.125Z"
   },
   {
    "duration": 74014,
    "start_time": "2022-05-05T16:51:24.030Z"
   },
   {
    "duration": 85,
    "start_time": "2022-05-05T16:52:38.048Z"
   },
   {
    "duration": 1093,
    "start_time": "2022-05-05T16:52:38.136Z"
   },
   {
    "duration": 69355,
    "start_time": "2022-05-05T16:52:39.232Z"
   },
   {
    "duration": 137,
    "start_time": "2022-05-05T16:53:48.589Z"
   },
   {
    "duration": 145,
    "start_time": "2022-05-05T16:53:48.729Z"
   },
   {
    "duration": 175,
    "start_time": "2022-05-05T16:53:48.876Z"
   },
   {
    "duration": 1365,
    "start_time": "2022-05-05T16:53:49.053Z"
   },
   {
    "duration": 127648,
    "start_time": "2022-05-05T16:54:51.986Z"
   },
   {
    "duration": 1931,
    "start_time": "2022-05-05T17:03:13.142Z"
   },
   {
    "duration": 36,
    "start_time": "2022-05-05T17:03:15.076Z"
   },
   {
    "duration": 39,
    "start_time": "2022-05-05T17:03:15.115Z"
   },
   {
    "duration": 25,
    "start_time": "2022-05-05T17:03:15.157Z"
   },
   {
    "duration": 11,
    "start_time": "2022-05-05T17:03:15.185Z"
   },
   {
    "duration": 96,
    "start_time": "2022-05-05T17:03:15.198Z"
   },
   {
    "duration": 37,
    "start_time": "2022-05-05T17:03:15.297Z"
   },
   {
    "duration": 101,
    "start_time": "2022-05-05T17:03:15.337Z"
   },
   {
    "duration": 9,
    "start_time": "2022-05-05T17:03:15.440Z"
   },
   {
    "duration": 17,
    "start_time": "2022-05-05T17:03:15.456Z"
   },
   {
    "duration": 11,
    "start_time": "2022-05-05T17:03:15.476Z"
   },
   {
    "duration": 9,
    "start_time": "2022-05-05T17:03:15.524Z"
   },
   {
    "duration": 12,
    "start_time": "2022-05-05T17:03:15.536Z"
   },
   {
    "duration": 9,
    "start_time": "2022-05-05T17:03:15.551Z"
   },
   {
    "duration": 22,
    "start_time": "2022-05-05T17:03:15.563Z"
   },
   {
    "duration": 82,
    "start_time": "2022-05-05T17:03:15.588Z"
   },
   {
    "duration": 1009,
    "start_time": "2022-05-05T17:03:15.673Z"
   },
   {
    "duration": 97986,
    "start_time": "2022-05-05T17:03:16.684Z"
   },
   {
    "duration": 253,
    "start_time": "2022-05-05T17:04:54.673Z"
   },
   {
    "duration": 96,
    "start_time": "2022-05-05T17:04:54.929Z"
   },
   {
    "duration": 200,
    "start_time": "2022-05-05T17:04:55.027Z"
   },
   {
    "duration": 200,
    "start_time": "2022-05-05T17:04:55.229Z"
   },
   {
    "duration": 199,
    "start_time": "2022-05-05T17:04:55.432Z"
   },
   {
    "duration": 10,
    "start_time": "2022-05-05T17:04:55.635Z"
   },
   {
    "duration": 243,
    "start_time": "2022-05-05T17:04:55.648Z"
   },
   {
    "duration": 904,
    "start_time": "2022-05-05T17:04:55.894Z"
   },
   {
    "duration": 179,
    "start_time": "2022-05-05T17:04:56.800Z"
   },
   {
    "duration": 0,
    "start_time": "2022-05-05T17:04:56.982Z"
   },
   {
    "duration": 0,
    "start_time": "2022-05-05T17:04:56.984Z"
   },
   {
    "duration": 0,
    "start_time": "2022-05-05T17:04:56.985Z"
   },
   {
    "duration": 0,
    "start_time": "2022-05-05T17:04:56.988Z"
   },
   {
    "duration": 0,
    "start_time": "2022-05-05T17:04:56.990Z"
   },
   {
    "duration": 0,
    "start_time": "2022-05-05T17:04:56.992Z"
   },
   {
    "duration": 0,
    "start_time": "2022-05-05T17:04:56.994Z"
   },
   {
    "duration": 96735,
    "start_time": "2022-05-05T17:07:06.236Z"
   },
   {
    "duration": 283,
    "start_time": "2022-05-05T17:08:58.141Z"
   },
   {
    "duration": 728,
    "start_time": "2022-05-05T17:09:14.875Z"
   },
   {
    "duration": 72551,
    "start_time": "2022-05-05T17:09:25.224Z"
   },
   {
    "duration": 75,
    "start_time": "2022-05-05T17:10:43.156Z"
   },
   {
    "duration": 112,
    "start_time": "2022-05-05T17:11:45.654Z"
   },
   {
    "duration": 162,
    "start_time": "2022-05-05T17:11:59.563Z"
   },
   {
    "duration": 1406,
    "start_time": "2022-05-05T17:12:04.894Z"
   },
   {
    "duration": 243,
    "start_time": "2022-05-05T17:14:32.270Z"
   },
   {
    "duration": 1403,
    "start_time": "2022-05-05T17:15:20.456Z"
   },
   {
    "duration": 357,
    "start_time": "2022-05-05T17:19:31.449Z"
   },
   {
    "duration": 333,
    "start_time": "2022-05-05T17:21:59.205Z"
   },
   {
    "duration": 549,
    "start_time": "2022-05-05T17:22:28.928Z"
   },
   {
    "duration": 374,
    "start_time": "2022-05-05T17:23:03.394Z"
   },
   {
    "duration": 183,
    "start_time": "2022-05-05T17:23:28.981Z"
   },
   {
    "duration": 114,
    "start_time": "2022-05-05T17:26:20.282Z"
   },
   {
    "duration": 134,
    "start_time": "2022-05-05T17:29:02.241Z"
   },
   {
    "duration": 1425,
    "start_time": "2022-05-05T17:29:20.862Z"
   },
   {
    "duration": 1968,
    "start_time": "2022-05-05T17:30:13.586Z"
   },
   {
    "duration": 42,
    "start_time": "2022-05-05T17:30:15.558Z"
   },
   {
    "duration": 26,
    "start_time": "2022-05-05T17:30:15.603Z"
   },
   {
    "duration": 22,
    "start_time": "2022-05-05T17:30:15.632Z"
   },
   {
    "duration": 21,
    "start_time": "2022-05-05T17:30:15.657Z"
   },
   {
    "duration": 58,
    "start_time": "2022-05-05T17:30:15.681Z"
   },
   {
    "duration": 16,
    "start_time": "2022-05-05T17:30:15.742Z"
   },
   {
    "duration": 78,
    "start_time": "2022-05-05T17:30:15.761Z"
   },
   {
    "duration": 9,
    "start_time": "2022-05-05T17:30:15.841Z"
   },
   {
    "duration": 32,
    "start_time": "2022-05-05T17:30:15.852Z"
   },
   {
    "duration": 24,
    "start_time": "2022-05-05T17:30:15.887Z"
   },
   {
    "duration": 26,
    "start_time": "2022-05-05T17:30:15.913Z"
   },
   {
    "duration": 23,
    "start_time": "2022-05-05T17:30:15.941Z"
   },
   {
    "duration": 9,
    "start_time": "2022-05-05T17:30:15.968Z"
   },
   {
    "duration": 43,
    "start_time": "2022-05-05T17:30:15.979Z"
   },
   {
    "duration": 53,
    "start_time": "2022-05-05T17:30:16.024Z"
   },
   {
    "duration": 726,
    "start_time": "2022-05-05T17:30:16.079Z"
   },
   {
    "duration": 74948,
    "start_time": "2022-05-05T17:30:16.807Z"
   },
   {
    "duration": 167,
    "start_time": "2022-05-05T17:31:31.758Z"
   },
   {
    "duration": 10,
    "start_time": "2022-05-05T17:31:31.929Z"
   },
   {
    "duration": 300,
    "start_time": "2022-05-05T17:31:31.942Z"
   },
   {
    "duration": 192,
    "start_time": "2022-05-05T17:31:32.244Z"
   },
   {
    "duration": 251,
    "start_time": "2022-05-05T17:31:32.439Z"
   },
   {
    "duration": 8,
    "start_time": "2022-05-05T17:31:32.693Z"
   },
   {
    "duration": 190,
    "start_time": "2022-05-05T17:31:32.704Z"
   },
   {
    "duration": 995,
    "start_time": "2022-05-05T17:31:32.898Z"
   },
   {
    "duration": 101486,
    "start_time": "2022-05-05T17:31:33.895Z"
   },
   {
    "duration": 145,
    "start_time": "2022-05-05T17:33:15.383Z"
   },
   {
    "duration": 846,
    "start_time": "2022-05-05T17:33:15.531Z"
   },
   {
    "duration": 75032,
    "start_time": "2022-05-05T17:33:16.379Z"
   },
   {
    "duration": 312,
    "start_time": "2022-05-05T17:34:31.413Z"
   },
   {
    "duration": 140,
    "start_time": "2022-05-05T17:34:31.728Z"
   },
   {
    "duration": 219,
    "start_time": "2022-05-05T17:34:31.872Z"
   },
   {
    "duration": 1576,
    "start_time": "2022-05-05T17:34:32.094Z"
   }
  ],
  "kernelspec": {
   "display_name": "Python 3 (ipykernel)",
   "language": "python",
   "name": "python3"
  },
  "language_info": {
   "codemirror_mode": {
    "name": "ipython",
    "version": 3
   },
   "file_extension": ".py",
   "mimetype": "text/x-python",
   "name": "python",
   "nbconvert_exporter": "python",
   "pygments_lexer": "ipython3",
   "version": "3.9.7"
  },
  "toc": {
   "base_numbering": 1,
   "nav_menu": {},
   "number_sections": true,
   "sideBar": true,
   "skip_h1_title": true,
   "title_cell": "Содержание",
   "title_sidebar": "Contents",
   "toc_cell": true,
   "toc_position": {
    "height": "calc(100% - 180px)",
    "left": "10px",
    "top": "150px",
    "width": "290px"
   },
   "toc_section_display": true,
   "toc_window_display": true
  }
 },
 "nbformat": 4,
 "nbformat_minor": 2
}
