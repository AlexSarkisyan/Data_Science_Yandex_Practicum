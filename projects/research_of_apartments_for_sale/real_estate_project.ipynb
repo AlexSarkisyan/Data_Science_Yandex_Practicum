{
 "cells": [
  {
   "cell_type": "markdown",
   "metadata": {
    "toc": true
   },
   "source": [
    "<h1>Содержание<span class=\"tocSkip\"></span></h1>\n",
    "<div class=\"toc\"><ul class=\"toc-item\"><li><span><a href=\"#Изучение-данных-из-файла\" data-toc-modified-id=\"Изучение-данных-из-файла-1\"><span class=\"toc-item-num\">1&nbsp;&nbsp;</span>Изучение данных из файла</a></span><ul class=\"toc-item\"><li><span><a href=\"#Вывод\" data-toc-modified-id=\"Вывод-1.1\"><span class=\"toc-item-num\">1.1&nbsp;&nbsp;</span>Вывод</a></span></li></ul></li><li><span><a href=\"#Предобработка-данных\" data-toc-modified-id=\"Предобработка-данных-2\"><span class=\"toc-item-num\">2&nbsp;&nbsp;</span>Предобработка данных</a></span><ul class=\"toc-item\"><li><span><a href=\"#Стиль-заголовков\" data-toc-modified-id=\"Стиль-заголовков-2.1\"><span class=\"toc-item-num\">2.1&nbsp;&nbsp;</span>Стиль заголовков</a></span></li><li><span><a href=\"#Изменение-типов-данных.\" data-toc-modified-id=\"Изменение-типов-данных.-2.2\"><span class=\"toc-item-num\">2.2&nbsp;&nbsp;</span>Изменение типов данных.</a></span></li><li><span><a href=\"#Заполнение-пропусков\" data-toc-modified-id=\"Заполнение-пропусков-2.3\"><span class=\"toc-item-num\">2.3&nbsp;&nbsp;</span>Заполнение пропусков</a></span></li><li><span><a href=\"#Удаление-дубликатов.\" data-toc-modified-id=\"Удаление-дубликатов.-2.4\"><span class=\"toc-item-num\">2.4&nbsp;&nbsp;</span>Удаление дубликатов.</a></span></li></ul></li><li><span><a href=\"#Расчёты-и-добавление-результатов-в-таблицу\" data-toc-modified-id=\"Расчёты-и-добавление-результатов-в-таблицу-3\"><span class=\"toc-item-num\">3&nbsp;&nbsp;</span>Расчёты и добавление результатов в таблицу</a></span></li><li><span><a href=\"#Исследовательский-анализ-данных\" data-toc-modified-id=\"Исследовательский-анализ-данных-4\"><span class=\"toc-item-num\">4&nbsp;&nbsp;</span>Исследовательский анализ данных</a></span><ul class=\"toc-item\"><li><span><a href=\"#Уберите-редкие-и-выбивающиеся-значения.-Опишите,-какие-особенности-обнаружили.\" data-toc-modified-id=\"Уберите-редкие-и-выбивающиеся-значения.-Опишите,-какие-особенности-обнаружили.-4.1\"><span class=\"toc-item-num\">4.1&nbsp;&nbsp;</span>Уберите редкие и выбивающиеся значения. Опишите, какие особенности обнаружили.</a></span></li></ul></li><li><span><a href=\"#Зависимость-цены-от-площади,-числа-комнат,-удалённости-от-центра.\" data-toc-modified-id=\"Зависимость-цены-от-площади,-числа-комнат,-удалённости-от-центра.-5\"><span class=\"toc-item-num\">5&nbsp;&nbsp;</span>Зависимость цены от площади, числа комнат, удалённости от центра.</a></span></li><li><span><a href=\"#Зависимость-цены-от-того,-на-каком-этаже-расположена-квартира:-первом,-последнем-или-другом.\" data-toc-modified-id=\"Зависимость-цены-от-того,-на-каком-этаже-расположена-квартира:-первом,-последнем-или-другом.-6\"><span class=\"toc-item-num\">6&nbsp;&nbsp;</span>Зависимость цены от того, на каком этаже расположена квартира: первом, последнем или другом.</a></span></li><li><span><a href=\"#10-населённых-пунктов-с-наибольшим-числом-объявлений.\" data-toc-modified-id=\"10-населённых-пунктов-с-наибольшим-числом-объявлений.-7\"><span class=\"toc-item-num\">7&nbsp;&nbsp;</span>10 населённых пунктов с наибольшим числом объявлений.</a></span></li><li><span><a href=\"#Выделение-квартир-в-Санкт-Петербурге.\" data-toc-modified-id=\"Выделение-квартир-в-Санкт-Петербурге.-8\"><span class=\"toc-item-num\">8&nbsp;&nbsp;</span>Выделение квартир в Санкт-Петербурге.</a></span></li><li><span><a href=\"#Сравнительный-анализ-данных-по-всей-базе-с-данными-по-центру-в-СПБ:\" data-toc-modified-id=\"Сравнительный-анализ-данных-по-всей-базе-с-данными-по-центру-в-СПБ:-9\"><span class=\"toc-item-num\">9&nbsp;&nbsp;</span>Сравнительный анализ данных по всей базе с данными по центру в СПБ:</a></span></li><li><span><a href=\"#Зависимость-цены-в-центре-СПб:\" data-toc-modified-id=\"Зависимость-цены-в-центре-СПб:-10\"><span class=\"toc-item-num\">10&nbsp;&nbsp;</span>Зависимость цены в центре СПб:</a></span></li><li><span><a href=\"#Общий-вывод\" data-toc-modified-id=\"Общий-вывод-11\"><span class=\"toc-item-num\">11&nbsp;&nbsp;</span>Общий вывод</a></span></li><li><span><a href=\"#Чек-лист-готовности-проекта\" data-toc-modified-id=\"Чек-лист-готовности-проекта-12\"><span class=\"toc-item-num\">12&nbsp;&nbsp;</span>Чек-лист готовности проекта</a></span></li></ul></div>"
   ]
  },
  {
   "cell_type": "markdown",
   "metadata": {},
   "source": [
    "# Исследование объявлений о продаже квартир\n",
    "\n",
    "В вашем распоряжении данные сервиса Яндекc Недвижимость — архив объявлений о продаже квартир в Санкт-Петербурге и соседних населённых пунктах за несколько лет. Нужно научиться определять рыночную стоимость объектов недвижимости. Ваша задача — установить параметры. Это позволит построить автоматизированную систему: она отследит аномалии и мошенническую деятельность. \n",
    "\n",
    "По каждой квартире на продажу доступны два вида данных. Первые вписаны пользователем, вторые получены автоматически на основе картографических данных. Например, расстояние до центра, аэропорта, ближайшего парка и водоёма. "
   ]
  },
  {
   "cell_type": "markdown",
   "metadata": {},
   "source": [
    "## Изучение данных из файла"
   ]
  },
  {
   "cell_type": "code",
   "execution_count": 1,
   "metadata": {},
   "outputs": [],
   "source": [
    "import pandas as pd\n",
    "import matplotlib.pyplot as plt"
   ]
  },
  {
   "cell_type": "raw",
   "metadata": {},
   "source": [
    "df = pd.read_csv('/Users/Alex/Desktop/practicum_ds/real_estate_data.csv')"
   ]
  },
  {
   "cell_type": "code",
   "execution_count": 2,
   "metadata": {},
   "outputs": [],
   "source": [
    "df = pd.read_csv('/datasets/real_estate_data.csv')"
   ]
  },
  {
   "cell_type": "code",
   "execution_count": 3,
   "metadata": {},
   "outputs": [
    {
     "data": {
      "text/html": [
       "<div>\n",
       "<style scoped>\n",
       "    .dataframe tbody tr th:only-of-type {\n",
       "        vertical-align: middle;\n",
       "    }\n",
       "\n",
       "    .dataframe tbody tr th {\n",
       "        vertical-align: top;\n",
       "    }\n",
       "\n",
       "    .dataframe thead th {\n",
       "        text-align: right;\n",
       "    }\n",
       "</style>\n",
       "<table border=\"1\" class=\"dataframe\">\n",
       "  <thead>\n",
       "    <tr style=\"text-align: right;\">\n",
       "      <th></th>\n",
       "      <th>total_images\\tlast_price\\ttotal_area\\tfirst_day_exposition\\trooms\\tceiling_height\\tfloors_total\\tliving_area\\tfloor\\tis_apartment\\tstudio\\topen_plan\\tkitchen_area\\tbalcony\\tlocality_name\\tairports_nearest\\tcityCenters_nearest\\tparks_around3000\\tparks_nearest\\tponds_around3000\\tponds_nearest\\tdays_exposition</th>\n",
       "    </tr>\n",
       "  </thead>\n",
       "  <tbody>\n",
       "    <tr>\n",
       "      <th>0</th>\n",
       "      <td>20\\t13000000.0\\t108.0\\t2019-03-07T00:00:00\\t3\\...</td>\n",
       "    </tr>\n",
       "    <tr>\n",
       "      <th>1</th>\n",
       "      <td>7\\t3350000.0\\t40.4\\t2018-12-04T00:00:00\\t1\\t\\t...</td>\n",
       "    </tr>\n",
       "    <tr>\n",
       "      <th>2</th>\n",
       "      <td>10\\t5196000.0\\t56.0\\t2015-08-20T00:00:00\\t2\\t\\...</td>\n",
       "    </tr>\n",
       "    <tr>\n",
       "      <th>3</th>\n",
       "      <td>0\\t64900000.0\\t159.0\\t2015-07-24T00:00:00\\t3\\t...</td>\n",
       "    </tr>\n",
       "    <tr>\n",
       "      <th>4</th>\n",
       "      <td>2\\t10000000.0\\t100.0\\t2018-06-19T00:00:00\\t2\\t...</td>\n",
       "    </tr>\n",
       "  </tbody>\n",
       "</table>\n",
       "</div>"
      ],
      "text/plain": [
       "  total_images\\tlast_price\\ttotal_area\\tfirst_day_exposition\\trooms\\tceiling_height\\tfloors_total\\tliving_area\\tfloor\\tis_apartment\\tstudio\\topen_plan\\tkitchen_area\\tbalcony\\tlocality_name\\tairports_nearest\\tcityCenters_nearest\\tparks_around3000\\tparks_nearest\\tponds_around3000\\tponds_nearest\\tdays_exposition\n",
       "0  20\\t13000000.0\\t108.0\\t2019-03-07T00:00:00\\t3\\...                                                                                                                                                                                                                                                                  \n",
       "1  7\\t3350000.0\\t40.4\\t2018-12-04T00:00:00\\t1\\t\\t...                                                                                                                                                                                                                                                                  \n",
       "2  10\\t5196000.0\\t56.0\\t2015-08-20T00:00:00\\t2\\t\\...                                                                                                                                                                                                                                                                  \n",
       "3  0\\t64900000.0\\t159.0\\t2015-07-24T00:00:00\\t3\\t...                                                                                                                                                                                                                                                                  \n",
       "4  2\\t10000000.0\\t100.0\\t2018-06-19T00:00:00\\t2\\t...                                                                                                                                                                                                                                                                  "
      ]
     },
     "execution_count": 3,
     "metadata": {},
     "output_type": "execute_result"
    }
   ],
   "source": [
    "df.head()"
   ]
  },
  {
   "cell_type": "markdown",
   "metadata": {},
   "source": [
    "В файле используется разделитель \\t"
   ]
  },
  {
   "cell_type": "raw",
   "metadata": {},
   "source": [
    "# установим разделитель колонок \\t, а разделитель дробей ','\n",
    "df = pd.read_csv('/Users/Alex/Desktop/practicum_ds/real_estate_data.csv', sep='\\t', decimal=',')"
   ]
  },
  {
   "cell_type": "code",
   "execution_count": 4,
   "metadata": {},
   "outputs": [],
   "source": [
    "df = pd.read_csv('/datasets/real_estate_data.csv', sep='\\t', decimal=',')"
   ]
  },
  {
   "cell_type": "code",
   "execution_count": 5,
   "metadata": {},
   "outputs": [
    {
     "data": {
      "text/html": [
       "<div>\n",
       "<style scoped>\n",
       "    .dataframe tbody tr th:only-of-type {\n",
       "        vertical-align: middle;\n",
       "    }\n",
       "\n",
       "    .dataframe tbody tr th {\n",
       "        vertical-align: top;\n",
       "    }\n",
       "\n",
       "    .dataframe thead th {\n",
       "        text-align: right;\n",
       "    }\n",
       "</style>\n",
       "<table border=\"1\" class=\"dataframe\">\n",
       "  <thead>\n",
       "    <tr style=\"text-align: right;\">\n",
       "      <th></th>\n",
       "      <th>total_images</th>\n",
       "      <th>last_price</th>\n",
       "      <th>total_area</th>\n",
       "      <th>first_day_exposition</th>\n",
       "      <th>rooms</th>\n",
       "      <th>ceiling_height</th>\n",
       "      <th>floors_total</th>\n",
       "      <th>living_area</th>\n",
       "      <th>floor</th>\n",
       "      <th>is_apartment</th>\n",
       "      <th>...</th>\n",
       "      <th>kitchen_area</th>\n",
       "      <th>balcony</th>\n",
       "      <th>locality_name</th>\n",
       "      <th>airports_nearest</th>\n",
       "      <th>cityCenters_nearest</th>\n",
       "      <th>parks_around3000</th>\n",
       "      <th>parks_nearest</th>\n",
       "      <th>ponds_around3000</th>\n",
       "      <th>ponds_nearest</th>\n",
       "      <th>days_exposition</th>\n",
       "    </tr>\n",
       "  </thead>\n",
       "  <tbody>\n",
       "    <tr>\n",
       "      <th>0</th>\n",
       "      <td>20</td>\n",
       "      <td>13000000.0</td>\n",
       "      <td>108.0</td>\n",
       "      <td>2019-03-07T00:00:00</td>\n",
       "      <td>3</td>\n",
       "      <td>2.7</td>\n",
       "      <td>16.0</td>\n",
       "      <td>51.0</td>\n",
       "      <td>8</td>\n",
       "      <td>NaN</td>\n",
       "      <td>...</td>\n",
       "      <td>25.0</td>\n",
       "      <td>NaN</td>\n",
       "      <td>Санкт-Петербург</td>\n",
       "      <td>18863.0</td>\n",
       "      <td>16028.0</td>\n",
       "      <td>1.0</td>\n",
       "      <td>482.0</td>\n",
       "      <td>2.0</td>\n",
       "      <td>755.0</td>\n",
       "      <td>NaN</td>\n",
       "    </tr>\n",
       "    <tr>\n",
       "      <th>1</th>\n",
       "      <td>7</td>\n",
       "      <td>3350000.0</td>\n",
       "      <td>40.4</td>\n",
       "      <td>2018-12-04T00:00:00</td>\n",
       "      <td>1</td>\n",
       "      <td>NaN</td>\n",
       "      <td>11.0</td>\n",
       "      <td>18.6</td>\n",
       "      <td>1</td>\n",
       "      <td>NaN</td>\n",
       "      <td>...</td>\n",
       "      <td>11.0</td>\n",
       "      <td>2.0</td>\n",
       "      <td>посёлок Шушары</td>\n",
       "      <td>12817.0</td>\n",
       "      <td>18603.0</td>\n",
       "      <td>0.0</td>\n",
       "      <td>NaN</td>\n",
       "      <td>0.0</td>\n",
       "      <td>NaN</td>\n",
       "      <td>81.0</td>\n",
       "    </tr>\n",
       "    <tr>\n",
       "      <th>2</th>\n",
       "      <td>10</td>\n",
       "      <td>5196000.0</td>\n",
       "      <td>56.0</td>\n",
       "      <td>2015-08-20T00:00:00</td>\n",
       "      <td>2</td>\n",
       "      <td>NaN</td>\n",
       "      <td>5.0</td>\n",
       "      <td>34.3</td>\n",
       "      <td>4</td>\n",
       "      <td>NaN</td>\n",
       "      <td>...</td>\n",
       "      <td>8.3</td>\n",
       "      <td>0.0</td>\n",
       "      <td>Санкт-Петербург</td>\n",
       "      <td>21741.0</td>\n",
       "      <td>13933.0</td>\n",
       "      <td>1.0</td>\n",
       "      <td>90.0</td>\n",
       "      <td>2.0</td>\n",
       "      <td>574.0</td>\n",
       "      <td>558.0</td>\n",
       "    </tr>\n",
       "    <tr>\n",
       "      <th>3</th>\n",
       "      <td>0</td>\n",
       "      <td>64900000.0</td>\n",
       "      <td>159.0</td>\n",
       "      <td>2015-07-24T00:00:00</td>\n",
       "      <td>3</td>\n",
       "      <td>NaN</td>\n",
       "      <td>14.0</td>\n",
       "      <td>NaN</td>\n",
       "      <td>9</td>\n",
       "      <td>NaN</td>\n",
       "      <td>...</td>\n",
       "      <td>NaN</td>\n",
       "      <td>0.0</td>\n",
       "      <td>Санкт-Петербург</td>\n",
       "      <td>28098.0</td>\n",
       "      <td>6800.0</td>\n",
       "      <td>2.0</td>\n",
       "      <td>84.0</td>\n",
       "      <td>3.0</td>\n",
       "      <td>234.0</td>\n",
       "      <td>424.0</td>\n",
       "    </tr>\n",
       "    <tr>\n",
       "      <th>4</th>\n",
       "      <td>2</td>\n",
       "      <td>10000000.0</td>\n",
       "      <td>100.0</td>\n",
       "      <td>2018-06-19T00:00:00</td>\n",
       "      <td>2</td>\n",
       "      <td>3.03</td>\n",
       "      <td>14.0</td>\n",
       "      <td>32.0</td>\n",
       "      <td>13</td>\n",
       "      <td>NaN</td>\n",
       "      <td>...</td>\n",
       "      <td>41.0</td>\n",
       "      <td>NaN</td>\n",
       "      <td>Санкт-Петербург</td>\n",
       "      <td>31856.0</td>\n",
       "      <td>8098.0</td>\n",
       "      <td>2.0</td>\n",
       "      <td>112.0</td>\n",
       "      <td>1.0</td>\n",
       "      <td>48.0</td>\n",
       "      <td>121.0</td>\n",
       "    </tr>\n",
       "  </tbody>\n",
       "</table>\n",
       "<p>5 rows × 22 columns</p>\n",
       "</div>"
      ],
      "text/plain": [
       "   total_images  last_price total_area first_day_exposition  rooms  \\\n",
       "0            20  13000000.0      108.0  2019-03-07T00:00:00      3   \n",
       "1             7   3350000.0       40.4  2018-12-04T00:00:00      1   \n",
       "2            10   5196000.0       56.0  2015-08-20T00:00:00      2   \n",
       "3             0  64900000.0      159.0  2015-07-24T00:00:00      3   \n",
       "4             2  10000000.0      100.0  2018-06-19T00:00:00      2   \n",
       "\n",
       "  ceiling_height floors_total living_area  floor is_apartment  ...  \\\n",
       "0            2.7         16.0        51.0      8          NaN  ...   \n",
       "1            NaN         11.0        18.6      1          NaN  ...   \n",
       "2            NaN          5.0        34.3      4          NaN  ...   \n",
       "3            NaN         14.0         NaN      9          NaN  ...   \n",
       "4           3.03         14.0        32.0     13          NaN  ...   \n",
       "\n",
       "   kitchen_area  balcony    locality_name airports_nearest  \\\n",
       "0          25.0      NaN  Санкт-Петербург          18863.0   \n",
       "1          11.0      2.0   посёлок Шушары          12817.0   \n",
       "2           8.3      0.0  Санкт-Петербург          21741.0   \n",
       "3           NaN      0.0  Санкт-Петербург          28098.0   \n",
       "4          41.0      NaN  Санкт-Петербург          31856.0   \n",
       "\n",
       "  cityCenters_nearest parks_around3000 parks_nearest ponds_around3000  \\\n",
       "0             16028.0              1.0         482.0              2.0   \n",
       "1             18603.0              0.0           NaN              0.0   \n",
       "2             13933.0              1.0          90.0              2.0   \n",
       "3              6800.0              2.0          84.0              3.0   \n",
       "4              8098.0              2.0         112.0              1.0   \n",
       "\n",
       "  ponds_nearest days_exposition  \n",
       "0         755.0             NaN  \n",
       "1           NaN            81.0  \n",
       "2         574.0           558.0  \n",
       "3         234.0           424.0  \n",
       "4          48.0           121.0  \n",
       "\n",
       "[5 rows x 22 columns]"
      ]
     },
     "execution_count": 5,
     "metadata": {},
     "output_type": "execute_result"
    }
   ],
   "source": [
    "df.head()"
   ]
  },
  {
   "cell_type": "code",
   "execution_count": 6,
   "metadata": {},
   "outputs": [
    {
     "name": "stdout",
     "output_type": "stream",
     "text": [
      "<class 'pandas.core.frame.DataFrame'>\n",
      "RangeIndex: 23699 entries, 0 to 23698\n",
      "Data columns (total 22 columns):\n",
      " #   Column                Non-Null Count  Dtype \n",
      "---  ------                --------------  ----- \n",
      " 0   total_images          23699 non-null  int64 \n",
      " 1   last_price            23699 non-null  object\n",
      " 2   total_area            23699 non-null  object\n",
      " 3   first_day_exposition  23699 non-null  object\n",
      " 4   rooms                 23699 non-null  int64 \n",
      " 5   ceiling_height        14504 non-null  object\n",
      " 6   floors_total          23613 non-null  object\n",
      " 7   living_area           21796 non-null  object\n",
      " 8   floor                 23699 non-null  int64 \n",
      " 9   is_apartment          2775 non-null   object\n",
      " 10  studio                23699 non-null  bool  \n",
      " 11  open_plan             23699 non-null  bool  \n",
      " 12  kitchen_area          21421 non-null  object\n",
      " 13  balcony               12180 non-null  object\n",
      " 14  locality_name         23650 non-null  object\n",
      " 15  airports_nearest      18157 non-null  object\n",
      " 16  cityCenters_nearest   18180 non-null  object\n",
      " 17  parks_around3000      18181 non-null  object\n",
      " 18  parks_nearest         8079 non-null   object\n",
      " 19  ponds_around3000      18181 non-null  object\n",
      " 20  ponds_nearest         9110 non-null   object\n",
      " 21  days_exposition       20518 non-null  object\n",
      "dtypes: bool(2), int64(3), object(17)\n",
      "memory usage: 3.7+ MB\n"
     ]
    }
   ],
   "source": [
    "df.info()"
   ]
  },
  {
   "cell_type": "markdown",
   "metadata": {},
   "source": [
    "### Вывод"
   ]
  },
  {
   "cell_type": "markdown",
   "metadata": {},
   "source": [
    "Итак, в таблице 21 столбец.\n",
    "\n",
    "Описание данных:\n",
    "\n",
    "- airports_nearest — расстояние до ближайшего аэропорта в метрах (м)\n",
    "- balcony — число балконов\n",
    "- ceiling_height — высота потолков (м)\n",
    "- cityCenters_nearest — расстояние до центра города (м)\n",
    "- days_exposition — сколько дней было размещено объявление (от публикации до снятия)\n",
    "- first_day_exposition — дата публикации\n",
    "- floor — этаж\n",
    "- floors_total — всего этажей в доме\n",
    "- is_apartment — апартаменты (булев тип)\n",
    "- kitchen_area — площадь кухни в квадратных метрах (м²)\n",
    "- last_price — цена на момент снятия с публикации\n",
    "- living_area — жилая площадь в квадратных метрах (м²)\n",
    "- locality_name — название населённого пункта\n",
    "- open_plan — свободная планировка (булев тип)\n",
    "- parks_around3000 — число парков в радиусе 3 км\n",
    "- parks_nearest — расстояние до ближайшего парка (м)\n",
    "- ponds_around3000 — число водоёмов в радиусе 3 км\n",
    "- ponds_nearest — расстояние до ближайшего водоёма (м)\n",
    "- rooms — число комнат\n",
    "- studio — квартира-студия (булев тип)\n",
    "- total_area — площадь квартиры в квадратных метрах (м²)\n",
    "- total_images — число фотографий квартиры в объявлении\n",
    "\n",
    "\n",
    "1. Предварительно можно утверждать, что, данных достаточно для решения задачи.\n",
    "2. Количество значений в столбцах различается. Значит, в данных есть пропуски.\n",
    "3. В первом приближении артефакты (аномалии)* не обнаружены (значения, которые не отражают действительность и появились по какой-то ошибке).\n",
    "4. Количественные данные представлены в формате строки.\n",
    "5. Соблюдение требований к стилю в названии колонок:\n",
    "- Строчные буквы - за исключением cityCenters_nearest.\n",
    "- Отсутствие пробелов.\n",
    "- Использован «змеиный_регистр» (snake_case) - за исключением cityCenters_nearest. \n",
    "\n",
    "\n",
    "Чтобы двигаться дальше, нужно устранить проблемы в данных."
   ]
  },
  {
   "cell_type": "markdown",
   "metadata": {},
   "source": [
    "## Предобработка данных"
   ]
  },
  {
   "cell_type": "markdown",
   "metadata": {
    "id": "dIaKXr29_Zct"
   },
   "source": [
    "### Стиль заголовков"
   ]
  },
  {
   "cell_type": "code",
   "execution_count": 7,
   "metadata": {
    "id": "oKOTdF_Q_Zct",
    "scrolled": true
   },
   "outputs": [
    {
     "data": {
      "text/plain": [
       "Index(['total_images', 'last_price', 'total_area', 'first_day_exposition',\n",
       "       'rooms', 'ceiling_height', 'floors_total', 'living_area', 'floor',\n",
       "       'is_apartment', 'studio', 'open_plan', 'kitchen_area', 'balcony',\n",
       "       'locality_name', 'airports_nearest', 'cityCenters_nearest',\n",
       "       'parks_around3000', 'parks_nearest', 'ponds_around3000',\n",
       "       'ponds_nearest', 'days_exposition'],\n",
       "      dtype='object')"
      ]
     },
     "execution_count": 7,
     "metadata": {},
     "output_type": "execute_result"
    }
   ],
   "source": [
    "df.columns # перечень названий столбцов таблицы df"
   ]
  },
  {
   "cell_type": "code",
   "execution_count": 8,
   "metadata": {
    "id": "ISlFqs5y_Zct"
   },
   "outputs": [],
   "source": [
    "df = df.rename(columns={'cityCenters_nearest':'city_centers_nearest'}) # переименование столбцов"
   ]
  },
  {
   "cell_type": "code",
   "execution_count": 9,
   "metadata": {
    "id": "d4NOAmTW_Zct"
   },
   "outputs": [
    {
     "data": {
      "text/plain": [
       "Index(['total_images', 'last_price', 'total_area', 'first_day_exposition',\n",
       "       'rooms', 'ceiling_height', 'floors_total', 'living_area', 'floor',\n",
       "       'is_apartment', 'studio', 'open_plan', 'kitchen_area', 'balcony',\n",
       "       'locality_name', 'airports_nearest', 'city_centers_nearest',\n",
       "       'parks_around3000', 'parks_nearest', 'ponds_around3000',\n",
       "       'ponds_nearest', 'days_exposition'],\n",
       "      dtype='object')"
      ]
     },
     "execution_count": 9,
     "metadata": {},
     "output_type": "execute_result"
    }
   ],
   "source": [
    "df.columns # проверка результатов - перечень названий столбцов"
   ]
  },
  {
   "cell_type": "markdown",
   "metadata": {},
   "source": [
    "### Изменение типов данных."
   ]
  },
  {
   "cell_type": "code",
   "execution_count": 10,
   "metadata": {},
   "outputs": [],
   "source": [
    "# Замена типа object в столбцах с количественными и дата-временными данными, с помощью метода astype()\n",
    "df[['total_area', 'ceiling_height', 'living_area', 'kitchen_area', 'airports_nearest', 'city_centers_nearest', 'parks_nearest', 'ponds_nearest', 'last_price', 'floors_total', 'balcony', 'parks_around3000', 'ponds_around3000', 'days_exposition']] = df[['total_area', 'ceiling_height', 'living_area', 'kitchen_area', 'airports_nearest', 'city_centers_nearest', 'parks_nearest', 'ponds_nearest', 'last_price', 'floors_total', 'balcony', 'parks_around3000', 'ponds_around3000', 'days_exposition']].astype(float)\n",
    "df['is_apartment'] = df['is_apartment'].astype('bool')\n",
    "df['first_day_exposition'] = pd.to_datetime(df['first_day_exposition'], format='%Y-%m-%dT%H:%M')"
   ]
  },
  {
   "cell_type": "code",
   "execution_count": 11,
   "metadata": {},
   "outputs": [
    {
     "name": "stdout",
     "output_type": "stream",
     "text": [
      "<class 'pandas.core.frame.DataFrame'>\n",
      "RangeIndex: 23699 entries, 0 to 23698\n",
      "Data columns (total 22 columns):\n",
      " #   Column                Non-Null Count  Dtype         \n",
      "---  ------                --------------  -----         \n",
      " 0   total_images          23699 non-null  int64         \n",
      " 1   last_price            23699 non-null  float64       \n",
      " 2   total_area            23699 non-null  float64       \n",
      " 3   first_day_exposition  23699 non-null  datetime64[ns]\n",
      " 4   rooms                 23699 non-null  int64         \n",
      " 5   ceiling_height        14504 non-null  float64       \n",
      " 6   floors_total          23613 non-null  float64       \n",
      " 7   living_area           21796 non-null  float64       \n",
      " 8   floor                 23699 non-null  int64         \n",
      " 9   is_apartment          23699 non-null  bool          \n",
      " 10  studio                23699 non-null  bool          \n",
      " 11  open_plan             23699 non-null  bool          \n",
      " 12  kitchen_area          21421 non-null  float64       \n",
      " 13  balcony               12180 non-null  float64       \n",
      " 14  locality_name         23650 non-null  object        \n",
      " 15  airports_nearest      18157 non-null  float64       \n",
      " 16  city_centers_nearest  18180 non-null  float64       \n",
      " 17  parks_around3000      18181 non-null  float64       \n",
      " 18  parks_nearest         8079 non-null   float64       \n",
      " 19  ponds_around3000      18181 non-null  float64       \n",
      " 20  ponds_nearest         9110 non-null   float64       \n",
      " 21  days_exposition       20518 non-null  float64       \n",
      "dtypes: bool(3), datetime64[ns](1), float64(14), int64(3), object(1)\n",
      "memory usage: 3.5+ MB\n"
     ]
    }
   ],
   "source": [
    "df.info()"
   ]
  },
  {
   "cell_type": "markdown",
   "metadata": {},
   "source": [
    "Замена типа object в столбцах с количественными и дата-временными данными, чтобы появилась возможность проводить анализ."
   ]
  },
  {
   "cell_type": "code",
   "execution_count": 12,
   "metadata": {},
   "outputs": [
    {
     "data": {
      "text/html": [
       "<div>\n",
       "<style scoped>\n",
       "    .dataframe tbody tr th:only-of-type {\n",
       "        vertical-align: middle;\n",
       "    }\n",
       "\n",
       "    .dataframe tbody tr th {\n",
       "        vertical-align: top;\n",
       "    }\n",
       "\n",
       "    .dataframe thead th {\n",
       "        text-align: right;\n",
       "    }\n",
       "</style>\n",
       "<table border=\"1\" class=\"dataframe\">\n",
       "  <thead>\n",
       "    <tr style=\"text-align: right;\">\n",
       "      <th></th>\n",
       "      <th>total_images</th>\n",
       "      <th>last_price</th>\n",
       "      <th>total_area</th>\n",
       "      <th>rooms</th>\n",
       "      <th>ceiling_height</th>\n",
       "      <th>floors_total</th>\n",
       "      <th>living_area</th>\n",
       "      <th>floor</th>\n",
       "      <th>kitchen_area</th>\n",
       "      <th>balcony</th>\n",
       "      <th>airports_nearest</th>\n",
       "      <th>city_centers_nearest</th>\n",
       "      <th>parks_around3000</th>\n",
       "      <th>parks_nearest</th>\n",
       "      <th>ponds_around3000</th>\n",
       "      <th>ponds_nearest</th>\n",
       "      <th>days_exposition</th>\n",
       "    </tr>\n",
       "  </thead>\n",
       "  <tbody>\n",
       "    <tr>\n",
       "      <th>count</th>\n",
       "      <td>23699.000000</td>\n",
       "      <td>2.369900e+04</td>\n",
       "      <td>23699.000000</td>\n",
       "      <td>23699.000000</td>\n",
       "      <td>14504.000000</td>\n",
       "      <td>23613.000000</td>\n",
       "      <td>21796.000000</td>\n",
       "      <td>23699.000000</td>\n",
       "      <td>21421.000000</td>\n",
       "      <td>12180.000000</td>\n",
       "      <td>18157.000000</td>\n",
       "      <td>18180.000000</td>\n",
       "      <td>18181.000000</td>\n",
       "      <td>8079.000000</td>\n",
       "      <td>18181.000000</td>\n",
       "      <td>9110.000000</td>\n",
       "      <td>20518.000000</td>\n",
       "    </tr>\n",
       "    <tr>\n",
       "      <th>mean</th>\n",
       "      <td>9.858475</td>\n",
       "      <td>6.541549e+06</td>\n",
       "      <td>60.348651</td>\n",
       "      <td>2.070636</td>\n",
       "      <td>2.771499</td>\n",
       "      <td>10.673824</td>\n",
       "      <td>34.457852</td>\n",
       "      <td>5.892358</td>\n",
       "      <td>10.569807</td>\n",
       "      <td>1.150082</td>\n",
       "      <td>28793.672193</td>\n",
       "      <td>14191.277833</td>\n",
       "      <td>0.611408</td>\n",
       "      <td>490.804555</td>\n",
       "      <td>0.770255</td>\n",
       "      <td>517.980900</td>\n",
       "      <td>180.888634</td>\n",
       "    </tr>\n",
       "    <tr>\n",
       "      <th>std</th>\n",
       "      <td>5.682529</td>\n",
       "      <td>1.088701e+07</td>\n",
       "      <td>35.654083</td>\n",
       "      <td>1.078405</td>\n",
       "      <td>1.261056</td>\n",
       "      <td>6.597173</td>\n",
       "      <td>22.030445</td>\n",
       "      <td>4.885249</td>\n",
       "      <td>5.905438</td>\n",
       "      <td>1.071300</td>\n",
       "      <td>12630.880622</td>\n",
       "      <td>8608.386210</td>\n",
       "      <td>0.802074</td>\n",
       "      <td>342.317995</td>\n",
       "      <td>0.938346</td>\n",
       "      <td>277.720643</td>\n",
       "      <td>219.727988</td>\n",
       "    </tr>\n",
       "    <tr>\n",
       "      <th>min</th>\n",
       "      <td>0.000000</td>\n",
       "      <td>1.219000e+04</td>\n",
       "      <td>12.000000</td>\n",
       "      <td>0.000000</td>\n",
       "      <td>1.000000</td>\n",
       "      <td>1.000000</td>\n",
       "      <td>2.000000</td>\n",
       "      <td>1.000000</td>\n",
       "      <td>1.300000</td>\n",
       "      <td>0.000000</td>\n",
       "      <td>0.000000</td>\n",
       "      <td>181.000000</td>\n",
       "      <td>0.000000</td>\n",
       "      <td>1.000000</td>\n",
       "      <td>0.000000</td>\n",
       "      <td>13.000000</td>\n",
       "      <td>1.000000</td>\n",
       "    </tr>\n",
       "    <tr>\n",
       "      <th>25%</th>\n",
       "      <td>6.000000</td>\n",
       "      <td>3.400000e+06</td>\n",
       "      <td>40.000000</td>\n",
       "      <td>1.000000</td>\n",
       "      <td>2.520000</td>\n",
       "      <td>5.000000</td>\n",
       "      <td>18.600000</td>\n",
       "      <td>2.000000</td>\n",
       "      <td>7.000000</td>\n",
       "      <td>0.000000</td>\n",
       "      <td>18585.000000</td>\n",
       "      <td>9238.000000</td>\n",
       "      <td>0.000000</td>\n",
       "      <td>288.000000</td>\n",
       "      <td>0.000000</td>\n",
       "      <td>294.000000</td>\n",
       "      <td>45.000000</td>\n",
       "    </tr>\n",
       "    <tr>\n",
       "      <th>50%</th>\n",
       "      <td>9.000000</td>\n",
       "      <td>4.650000e+06</td>\n",
       "      <td>52.000000</td>\n",
       "      <td>2.000000</td>\n",
       "      <td>2.650000</td>\n",
       "      <td>9.000000</td>\n",
       "      <td>30.000000</td>\n",
       "      <td>4.000000</td>\n",
       "      <td>9.100000</td>\n",
       "      <td>1.000000</td>\n",
       "      <td>26726.000000</td>\n",
       "      <td>13098.500000</td>\n",
       "      <td>0.000000</td>\n",
       "      <td>455.000000</td>\n",
       "      <td>1.000000</td>\n",
       "      <td>502.000000</td>\n",
       "      <td>95.000000</td>\n",
       "    </tr>\n",
       "    <tr>\n",
       "      <th>75%</th>\n",
       "      <td>14.000000</td>\n",
       "      <td>6.800000e+06</td>\n",
       "      <td>69.900000</td>\n",
       "      <td>3.000000</td>\n",
       "      <td>2.800000</td>\n",
       "      <td>16.000000</td>\n",
       "      <td>42.300000</td>\n",
       "      <td>8.000000</td>\n",
       "      <td>12.000000</td>\n",
       "      <td>2.000000</td>\n",
       "      <td>37273.000000</td>\n",
       "      <td>16293.000000</td>\n",
       "      <td>1.000000</td>\n",
       "      <td>612.000000</td>\n",
       "      <td>1.000000</td>\n",
       "      <td>729.000000</td>\n",
       "      <td>232.000000</td>\n",
       "    </tr>\n",
       "    <tr>\n",
       "      <th>max</th>\n",
       "      <td>50.000000</td>\n",
       "      <td>7.630000e+08</td>\n",
       "      <td>900.000000</td>\n",
       "      <td>19.000000</td>\n",
       "      <td>100.000000</td>\n",
       "      <td>60.000000</td>\n",
       "      <td>409.700000</td>\n",
       "      <td>33.000000</td>\n",
       "      <td>112.000000</td>\n",
       "      <td>5.000000</td>\n",
       "      <td>84869.000000</td>\n",
       "      <td>65968.000000</td>\n",
       "      <td>3.000000</td>\n",
       "      <td>3190.000000</td>\n",
       "      <td>3.000000</td>\n",
       "      <td>1344.000000</td>\n",
       "      <td>1580.000000</td>\n",
       "    </tr>\n",
       "  </tbody>\n",
       "</table>\n",
       "</div>"
      ],
      "text/plain": [
       "       total_images    last_price    total_area         rooms  ceiling_height  \\\n",
       "count  23699.000000  2.369900e+04  23699.000000  23699.000000    14504.000000   \n",
       "mean       9.858475  6.541549e+06     60.348651      2.070636        2.771499   \n",
       "std        5.682529  1.088701e+07     35.654083      1.078405        1.261056   \n",
       "min        0.000000  1.219000e+04     12.000000      0.000000        1.000000   \n",
       "25%        6.000000  3.400000e+06     40.000000      1.000000        2.520000   \n",
       "50%        9.000000  4.650000e+06     52.000000      2.000000        2.650000   \n",
       "75%       14.000000  6.800000e+06     69.900000      3.000000        2.800000   \n",
       "max       50.000000  7.630000e+08    900.000000     19.000000      100.000000   \n",
       "\n",
       "       floors_total   living_area         floor  kitchen_area       balcony  \\\n",
       "count  23613.000000  21796.000000  23699.000000  21421.000000  12180.000000   \n",
       "mean      10.673824     34.457852      5.892358     10.569807      1.150082   \n",
       "std        6.597173     22.030445      4.885249      5.905438      1.071300   \n",
       "min        1.000000      2.000000      1.000000      1.300000      0.000000   \n",
       "25%        5.000000     18.600000      2.000000      7.000000      0.000000   \n",
       "50%        9.000000     30.000000      4.000000      9.100000      1.000000   \n",
       "75%       16.000000     42.300000      8.000000     12.000000      2.000000   \n",
       "max       60.000000    409.700000     33.000000    112.000000      5.000000   \n",
       "\n",
       "       airports_nearest  city_centers_nearest  parks_around3000  \\\n",
       "count      18157.000000          18180.000000      18181.000000   \n",
       "mean       28793.672193          14191.277833          0.611408   \n",
       "std        12630.880622           8608.386210          0.802074   \n",
       "min            0.000000            181.000000          0.000000   \n",
       "25%        18585.000000           9238.000000          0.000000   \n",
       "50%        26726.000000          13098.500000          0.000000   \n",
       "75%        37273.000000          16293.000000          1.000000   \n",
       "max        84869.000000          65968.000000          3.000000   \n",
       "\n",
       "       parks_nearest  ponds_around3000  ponds_nearest  days_exposition  \n",
       "count    8079.000000      18181.000000    9110.000000     20518.000000  \n",
       "mean      490.804555          0.770255     517.980900       180.888634  \n",
       "std       342.317995          0.938346     277.720643       219.727988  \n",
       "min         1.000000          0.000000      13.000000         1.000000  \n",
       "25%       288.000000          0.000000     294.000000        45.000000  \n",
       "50%       455.000000          1.000000     502.000000        95.000000  \n",
       "75%       612.000000          1.000000     729.000000       232.000000  \n",
       "max      3190.000000          3.000000    1344.000000      1580.000000  "
      ]
     },
     "execution_count": 12,
     "metadata": {},
     "output_type": "execute_result"
    }
   ],
   "source": [
    "# обзор основных параметров столбцов\n",
    "df.describe()"
   ]
  },
  {
   "cell_type": "markdown",
   "metadata": {},
   "source": [
    "### Заполнение пропусков"
   ]
  },
  {
   "cell_type": "code",
   "execution_count": 13,
   "metadata": {},
   "outputs": [
    {
     "data": {
      "text/plain": [
       "total_images             0.0\n",
       "last_price               0.0\n",
       "total_area               0.0\n",
       "first_day_exposition     0.0\n",
       "rooms                    0.0\n",
       "ceiling_height          38.8\n",
       "floors_total             0.4\n",
       "living_area              8.0\n",
       "floor                    0.0\n",
       "is_apartment             0.0\n",
       "studio                   0.0\n",
       "open_plan                0.0\n",
       "kitchen_area             9.6\n",
       "balcony                 48.6\n",
       "locality_name            0.2\n",
       "airports_nearest        23.4\n",
       "city_centers_nearest    23.3\n",
       "parks_around3000        23.3\n",
       "parks_nearest           65.9\n",
       "ponds_around3000        23.3\n",
       "ponds_nearest           61.6\n",
       "days_exposition         13.4\n",
       "dtype: float64"
      ]
     },
     "execution_count": 13,
     "metadata": {},
     "output_type": "execute_result"
    }
   ],
   "source": [
    "# подсчёт пропусков в %\n",
    "(df.isna().mean()*100).round(1)"
   ]
  },
  {
   "cell_type": "code",
   "execution_count": 14,
   "metadata": {},
   "outputs": [],
   "source": [
    "# замена столбца balcony на 0\n",
    "df.loc[df['balcony'].isna(), 'balcony'] = 0"
   ]
  },
  {
   "cell_type": "code",
   "execution_count": 15,
   "metadata": {
    "scrolled": true
   },
   "outputs": [
    {
     "data": {
      "text/plain": [
       "count    14504.0\n",
       "mean         2.8\n",
       "std          1.3\n",
       "min          1.0\n",
       "25%          2.5\n",
       "50%          2.6\n",
       "75%          2.8\n",
       "max        100.0\n",
       "Name: ceiling_height, dtype: float64"
      ]
     },
     "execution_count": 15,
     "metadata": {},
     "output_type": "execute_result"
    }
   ],
   "source": [
    "# обзор ceiling_height\n",
    "df['ceiling_height'].describe().round(1)"
   ]
  },
  {
   "cell_type": "code",
   "execution_count": 16,
   "metadata": {},
   "outputs": [],
   "source": [
    "# т.к. среднее и медианное значение по столбцу ceiling_height практически равны, то пустые значения заменим медианным значением**\n",
    "df.loc[df['ceiling_height'].isna(), 'ceiling_height'] = df['ceiling_height'].median()"
   ]
  },
  {
   "cell_type": "code",
   "execution_count": 17,
   "metadata": {
    "scrolled": true
   },
   "outputs": [
    {
     "data": {
      "text/plain": [
       "count    20518.0\n",
       "mean       180.9\n",
       "std        219.7\n",
       "min          1.0\n",
       "25%         45.0\n",
       "50%         95.0\n",
       "75%        232.0\n",
       "max       1580.0\n",
       "Name: days_exposition, dtype: float64"
      ]
     },
     "execution_count": 17,
     "metadata": {},
     "output_type": "execute_result"
    }
   ],
   "source": [
    "# обзор days_exposition\n",
    "df['days_exposition'].describe().round(1)"
   ]
  },
  {
   "cell_type": "code",
   "execution_count": 18,
   "metadata": {},
   "outputs": [
    {
     "data": {
      "text/plain": [
       "<AxesSubplot:>"
      ]
     },
     "execution_count": 18,
     "metadata": {},
     "output_type": "execute_result"
    },
    {
     "data": {
      "image/png": "[encoded data removed]",
      "text/plain": [
       "<Figure size 432x288 with 1 Axes>"
      ]
     },
     "metadata": {
      "needs_background": "light"
     },
     "output_type": "display_data"
    }
   ],
   "source": [
    "# т.к. среднее практически в два раза больше медианного значения по столбцу days_exposition, это значит есть выбросы\n",
    "df['days_exposition'].hist(bins=100)"
   ]
  },
  {
   "cell_type": "code",
   "execution_count": 19,
   "metadata": {},
   "outputs": [
    {
     "data": {
      "text/plain": [
       "2.5"
      ]
     },
     "execution_count": 19,
     "metadata": {},
     "output_type": "execute_result"
    }
   ],
   "source": [
    "# действительно выбросы по столбцу days_exposition свыше 800 дней стремятся к нулю, проверим их долю в %\n",
    "(df.query('days_exposition > 800')['days_exposition'].count()*100/len(df['days_exposition'])).round(1)"
   ]
  },
  {
   "cell_type": "code",
   "execution_count": 20,
   "metadata": {},
   "outputs": [
    {
     "data": {
      "text/plain": [
       "<AxesSubplot:>"
      ]
     },
     "execution_count": 20,
     "metadata": {},
     "output_type": "execute_result"
    },
    {
     "data": {
      "image/png": "[encoded data removed]",
      "text/plain": [
       "<Figure size 432x288 with 1 Axes>"
      ]
     },
     "metadata": {
      "needs_background": "light"
     },
     "output_type": "display_data"
    }
   ],
   "source": [
    "# распределение пропусков в столбце days_exposition относительно дня выставления квартиры на продажу.\n",
    "df.query('days_exposition.isna()')['first_day_exposition'].hist(bins=50)"
   ]
  },
  {
   "cell_type": "markdown",
   "metadata": {},
   "source": [
    "**Столбцы ниже имеют практически одинаковый процент пропусков, проверим совпадают ли строки с пропусками**\n",
    "- airports_nearest        23.384953\n",
    "- city_centers_nearest    23.287902\n",
    "- parks_around3000        23.283683\n",
    "- ponds_around3000        23.283683\n",
    "\n",
    "\n"
   ]
  },
  {
   "cell_type": "code",
   "execution_count": 21,
   "metadata": {},
   "outputs": [
    {
     "data": {
      "text/plain": [
       "total_images             0.000000\n",
       "last_price               0.000000\n",
       "total_area               0.000000\n",
       "first_day_exposition     0.000000\n",
       "rooms                    0.000000\n",
       "ceiling_height           0.000000\n",
       "floors_total             0.042196\n",
       "living_area              2.628803\n",
       "floor                    0.000000\n",
       "is_apartment             0.000000\n",
       "studio                   0.000000\n",
       "open_plan                0.000000\n",
       "kitchen_area             3.017005\n",
       "balcony                  0.000000\n",
       "locality_name            0.033757\n",
       "airports_nearest        23.283683\n",
       "city_centers_nearest    23.283683\n",
       "parks_around3000        23.283683\n",
       "parks_nearest           23.283683\n",
       "ponds_around3000        23.283683\n",
       "ponds_nearest           23.283683\n",
       "days_exposition          3.649943\n",
       "dtype: float64"
      ]
     },
     "execution_count": 21,
     "metadata": {},
     "output_type": "execute_result"
    }
   ],
   "source": [
    "df[(df['airports_nearest'].isna()) &\n",
    "   (df['city_centers_nearest'].isna()) &\n",
    "   (df['parks_around3000'].isna()) &\n",
    "   (df['ponds_around3000'].isna())].isna().sum()*100/len(df)"
   ]
  },
  {
   "cell_type": "markdown",
   "metadata": {},
   "source": [
    "**Выяснилось, что столбцы:**\n",
    "- parks_nearest 23.283683\n",
    "- ponds_nearest 23.283683\n",
    "\n",
    "**также с пропусками в аналогичных строках**"
   ]
  },
  {
   "cell_type": "code",
   "execution_count": 22,
   "metadata": {},
   "outputs": [
    {
     "data": {
      "text/html": [
       "<div>\n",
       "<style scoped>\n",
       "    .dataframe tbody tr th:only-of-type {\n",
       "        vertical-align: middle;\n",
       "    }\n",
       "\n",
       "    .dataframe tbody tr th {\n",
       "        vertical-align: top;\n",
       "    }\n",
       "\n",
       "    .dataframe thead th {\n",
       "        text-align: right;\n",
       "    }\n",
       "</style>\n",
       "<table border=\"1\" class=\"dataframe\">\n",
       "  <thead>\n",
       "    <tr style=\"text-align: right;\">\n",
       "      <th></th>\n",
       "      <th>total_area</th>\n",
       "      <th>living_area</th>\n",
       "      <th>kitchen_area</th>\n",
       "    </tr>\n",
       "  </thead>\n",
       "  <tbody>\n",
       "    <tr>\n",
       "      <th>total_area</th>\n",
       "      <td>1.000000</td>\n",
       "      <td>0.939537</td>\n",
       "      <td>0.609121</td>\n",
       "    </tr>\n",
       "    <tr>\n",
       "      <th>living_area</th>\n",
       "      <td>0.939537</td>\n",
       "      <td>1.000000</td>\n",
       "      <td>0.428674</td>\n",
       "    </tr>\n",
       "    <tr>\n",
       "      <th>kitchen_area</th>\n",
       "      <td>0.609121</td>\n",
       "      <td>0.428674</td>\n",
       "      <td>1.000000</td>\n",
       "    </tr>\n",
       "  </tbody>\n",
       "</table>\n",
       "</div>"
      ],
      "text/plain": [
       "              total_area  living_area  kitchen_area\n",
       "total_area      1.000000     0.939537      0.609121\n",
       "living_area     0.939537     1.000000      0.428674\n",
       "kitchen_area    0.609121     0.428674      1.000000"
      ]
     },
     "execution_count": 22,
     "metadata": {},
     "output_type": "execute_result"
    }
   ],
   "source": [
    "# Зависимость жилой прощади и кухни от общей площади, числа комнат.\n",
    "df[['total_area', 'living_area', 'kitchen_area']].corr()"
   ]
  },
  {
   "cell_type": "code",
   "execution_count": 23,
   "metadata": {},
   "outputs": [],
   "source": [
    "# произведем замену пропусков в столбцах living_area, kitchen_area на соотношение жилой прощади и кухни к общей площади\n",
    "df.loc[df['living_area'].isna(), 'living_area'] = df['living_area'].sum() / df.query('living_area > 0')['total_area'].sum()\n",
    "df.loc[df['kitchen_area'].isna(), 'kitchen_area'] = df['kitchen_area'].sum() / df.query('kitchen_area > 0')['total_area'].sum()"
   ]
  },
  {
   "cell_type": "markdown",
   "metadata": {},
   "source": [
    "### Удаление дубликатов."
   ]
  },
  {
   "cell_type": "code",
   "execution_count": 25,
   "metadata": {},
   "outputs": [
    {
     "data": {
      "text/plain": [
       "0"
      ]
     },
     "execution_count": 25,
     "metadata": {},
     "output_type": "execute_result"
    }
   ],
   "source": [
    "# подсчёт явных дубликатов\n",
    "df.duplicated().sum()"
   ]
  },
  {
   "cell_type": "markdown",
   "metadata": {},
   "source": [
    "## Расчёты и добавление результатов в таблицу"
   ]
  },
  {
   "cell_type": "code",
   "execution_count": 26,
   "metadata": {},
   "outputs": [],
   "source": [
    "# расчет и добавление цены за м2\n",
    "df['price_per_m2'] = df['last_price'] / df['total_area']"
   ]
  },
  {
   "cell_type": "code",
   "execution_count": 27,
   "metadata": {},
   "outputs": [],
   "source": [
    "# посчитано и добавлено в таблицу: день недели, месяц и год публикации объявления\n",
    "df['weekday'] = df['first_day_exposition'].dt.weekday\n",
    "df['month'] = df['first_day_exposition'].dt.month\n",
    "df['year'] = df['first_day_exposition'].dt.year"
   ]
  },
  {
   "cell_type": "code",
   "execution_count": 28,
   "metadata": {},
   "outputs": [],
   "source": [
    "# посчитано и добавлено в таблицу: этаж квартиры; варианты — первый, последний, другой\n",
    "def floor_category(floor, floors_total):\n",
    "    \"\"\"\n",
    "    переводить количественное значение этажа квартиры в категорию этажа квартиры; варианты — первый, последний, другой\n",
    "    \"\"\"\n",
    "    \n",
    "    if floor == 1:\n",
    "        return 'первый'\n",
    "    elif floor == floors_total:\n",
    "        return 'последний'\n",
    "    return 'другой'\n",
    "\n",
    "\n",
    "df['floor_category'] = df.apply(lambda x: floor_category(x['floor'], x['floors_total']), axis=1)"
   ]
  },
  {
   "cell_type": "code",
   "execution_count": 29,
   "metadata": {},
   "outputs": [],
   "source": [
    "# посчитано и добавлено в таблицу: соотношение жилой и общей площади, а также отношение площади кухни к общей\n",
    "df['ratio_living_to_total_area'] = df['living_area'] / df['total_area']\n",
    "df['ratio_kitchen_to_total_area'] = df['kitchen_area'] / df['total_area']"
   ]
  },
  {
   "cell_type": "markdown",
   "metadata": {},
   "source": [
    "## Исследовательский анализ данных"
   ]
  },
  {
   "cell_type": "markdown",
   "metadata": {},
   "source": [
    "**Изучение следующих параметров:**"
   ]
  },
  {
   "cell_type": "markdown",
   "metadata": {},
   "source": [
    "**Общая площадь**"
   ]
  },
  {
   "cell_type": "code",
   "execution_count": 30,
   "metadata": {},
   "outputs": [],
   "source": [
    "# формула расчета усов\n",
    "\n",
    "def mustache(param):\n",
    "    q3 = param.describe()[6]\n",
    "    q1 = param.describe()[4]\n",
    "    iqr = q3 - q1\n",
    "    right_mustache_border = min(q3 + 1.5*iqr, param.describe()[7]).round()\n",
    "    left_mustache_border = max(q1 - 1.5*iqr, param.describe()[3]).round()\n",
    "    return left_mustache_border, right_mustache_border"
   ]
  },
  {
   "cell_type": "code",
   "execution_count": 31,
   "metadata": {
    "scrolled": false
   },
   "outputs": [
    {
     "data": {
      "text/plain": [
       "count    23699.00\n",
       "mean        60.35\n",
       "std         35.65\n",
       "min         12.00\n",
       "25%         40.00\n",
       "50%         52.00\n",
       "75%         69.90\n",
       "max        900.00\n",
       "Name: total_area, dtype: float64"
      ]
     },
     "execution_count": 31,
     "metadata": {},
     "output_type": "execute_result"
    }
   ],
   "source": [
    "df['total_area'].describe().round(2)"
   ]
  },
  {
   "cell_type": "code",
   "execution_count": 32,
   "metadata": {},
   "outputs": [
    {
     "data": {
      "text/plain": [
       "(12.0, 115.0)"
      ]
     },
     "execution_count": 32,
     "metadata": {},
     "output_type": "execute_result"
    }
   ],
   "source": [
    "# посчитаем значение усов\n",
    "mustache(df['total_area'])"
   ]
  },
  {
   "cell_type": "code",
   "execution_count": 33,
   "metadata": {},
   "outputs": [
    {
     "data": {
      "text/plain": [
       "<AxesSubplot:>"
      ]
     },
     "execution_count": 33,
     "metadata": {},
     "output_type": "execute_result"
    },
    {
     "data": {
      "image/png": "[encoded data removed]",
      "text/plain": [
       "<Figure size 432x288 with 1 Axes>"
      ]
     },
     "metadata": {
      "needs_background": "light"
     },
     "output_type": "display_data"
    }
   ],
   "source": [
    "plt.ylim(mustache(df['total_area'])[0]*.9, mustache(df['total_area'])[1]*1.1)\n",
    "df.boxplot('total_area') "
   ]
  },
  {
   "cell_type": "code",
   "execution_count": 34,
   "metadata": {
    "scrolled": true
   },
   "outputs": [
    {
     "data": {
      "image/png": "[encoded data removed]",
      "text/plain": [
       "<Figure size 432x288 with 1 Axes>"
      ]
     },
     "metadata": {
      "needs_background": "light"
     },
     "output_type": "display_data"
    }
   ],
   "source": [
    "total_area = df['total_area'].hist(range = (mustache(df['total_area'])[0]*.9, mustache(df['total_area'])[1]*1.1))\n",
    "total_area.set_xlabel('total_area')\n",
    "total_area.set_ylabel('number of values')\n",
    "\n",
    "plt.show()"
   ]
  },
  {
   "cell_type": "markdown",
   "metadata": {},
   "source": [
    "Основная доля обьявлений приходится на обьекты с общей площадью 40 м2"
   ]
  },
  {
   "cell_type": "markdown",
   "metadata": {},
   "source": [
    "**Цена за м2**"
   ]
  },
  {
   "cell_type": "code",
   "execution_count": 35,
   "metadata": {},
   "outputs": [
    {
     "data": {
      "text/plain": [
       "count      23699.0\n",
       "mean       99422.0\n",
       "std        50307.0\n",
       "min          112.0\n",
       "25%        76585.0\n",
       "50%        95000.0\n",
       "75%       114256.0\n",
       "max      1907500.0\n",
       "Name: price_per_m2, dtype: float64"
      ]
     },
     "execution_count": 35,
     "metadata": {},
     "output_type": "execute_result"
    }
   ],
   "source": [
    "df['price_per_m2'].describe().round()"
   ]
  },
  {
   "cell_type": "code",
   "execution_count": 36,
   "metadata": {},
   "outputs": [
    {
     "data": {
      "text/plain": [
       "(20079.0, 170763.0)"
      ]
     },
     "execution_count": 36,
     "metadata": {},
     "output_type": "execute_result"
    }
   ],
   "source": [
    "# посчитаем значение усов\n",
    "mustache(df['price_per_m2'])"
   ]
  },
  {
   "cell_type": "code",
   "execution_count": 37,
   "metadata": {},
   "outputs": [
    {
     "data": {
      "text/plain": [
       "<AxesSubplot:>"
      ]
     },
     "execution_count": 37,
     "metadata": {},
     "output_type": "execute_result"
    },
    {
     "data": {
      "image/png": "[encoded data removed]",
      "text/plain": [
       "<Figure size 432x288 with 1 Axes>"
      ]
     },
     "metadata": {
      "needs_background": "light"
     },
     "output_type": "display_data"
    }
   ],
   "source": [
    "import matplotlib.pyplot as plt \n",
    "plt.ylim(0, 200000)\n",
    "df.boxplot('price_per_m2') "
   ]
  },
  {
   "cell_type": "code",
   "execution_count": 38,
   "metadata": {
    "scrolled": true
   },
   "outputs": [
    {
     "data": {
      "image/png": "[encoded data removed]",
      "text/plain": [
       "<Figure size 432x288 with 1 Axes>"
      ]
     },
     "metadata": {
      "needs_background": "light"
     },
     "output_type": "display_data"
    }
   ],
   "source": [
    "price_per_m2 = df['price_per_m2'].hist(bins=50, range = (mustache(df['price_per_m2'])[0], mustache(df['price_per_m2'])[1]))\n",
    "price_per_m2.set_xlabel('price_per_m2')\n",
    "price_per_m2.set_ylabel('number of values')\n",
    "\n",
    "plt.show()"
   ]
  },
  {
   "cell_type": "markdown",
   "metadata": {},
   "source": [
    "**Число комнат**"
   ]
  },
  {
   "cell_type": "code",
   "execution_count": 39,
   "metadata": {},
   "outputs": [
    {
     "data": {
      "text/plain": [
       "count    23699.0\n",
       "mean         2.0\n",
       "std          1.0\n",
       "min          0.0\n",
       "25%          1.0\n",
       "50%          2.0\n",
       "75%          3.0\n",
       "max         19.0\n",
       "Name: rooms, dtype: float64"
      ]
     },
     "execution_count": 39,
     "metadata": {},
     "output_type": "execute_result"
    }
   ],
   "source": [
    "df['rooms'].describe().round()"
   ]
  },
  {
   "cell_type": "code",
   "execution_count": 40,
   "metadata": {},
   "outputs": [
    {
     "data": {
      "text/plain": [
       "197"
      ]
     },
     "execution_count": 40,
     "metadata": {},
     "output_type": "execute_result"
    }
   ],
   "source": [
    "# сколько значений где количество комнат = 0\n",
    "df.query('rooms == 0')['rooms'].count()"
   ]
  },
  {
   "cell_type": "code",
   "execution_count": 41,
   "metadata": {},
   "outputs": [
    {
     "data": {
      "text/plain": [
       "False"
      ]
     },
     "execution_count": 41,
     "metadata": {},
     "output_type": "execute_result"
    }
   ],
   "source": [
    "# все ли квартиры где комнаты = 0 являются апартаментами\n",
    "df.query('rooms == 0')['is_apartment'].count() == df[(df['is_apartment'] == True) & (df['rooms'] == 0)]['is_apartment'].count()"
   ]
  },
  {
   "cell_type": "code",
   "execution_count": 42,
   "metadata": {},
   "outputs": [
    {
     "data": {
      "text/plain": [
       "(0.0, 6.0)"
      ]
     },
     "execution_count": 42,
     "metadata": {},
     "output_type": "execute_result"
    }
   ],
   "source": [
    "# посчитаем значение усов\n",
    "mustache(df['rooms'])"
   ]
  },
  {
   "cell_type": "code",
   "execution_count": 43,
   "metadata": {},
   "outputs": [
    {
     "data": {
      "image/png": "[encoded data removed]",
      "text/plain": [
       "<Figure size 432x288 with 1 Axes>"
      ]
     },
     "metadata": {
      "needs_background": "light"
     },
     "output_type": "display_data"
    }
   ],
   "source": [
    "rooms = df['rooms'].hist(bins=25, range = (mustache(df['rooms'])[0], mustache(df['rooms'])[1]))\n",
    "rooms.set_xlabel('rooms')\n",
    "rooms.set_ylabel('number of values')\n",
    "\n",
    "plt.show()"
   ]
  },
  {
   "cell_type": "markdown",
   "metadata": {},
   "source": [
    "Основная доля обьявлений приходится на однокомнатные, двухкомнатные и трехкомнатные квартиры и аппартаменты."
   ]
  },
  {
   "cell_type": "markdown",
   "metadata": {},
   "source": [
    "**Высота потолков.**"
   ]
  },
  {
   "cell_type": "code",
   "execution_count": 44,
   "metadata": {},
   "outputs": [
    {
     "data": {
      "text/plain": [
       "count    23699.00\n",
       "mean         2.72\n",
       "std          0.99\n",
       "min          1.00\n",
       "25%          2.60\n",
       "50%          2.65\n",
       "75%          2.70\n",
       "max        100.00\n",
       "Name: ceiling_height, dtype: float64"
      ]
     },
     "execution_count": 44,
     "metadata": {},
     "output_type": "execute_result"
    }
   ],
   "source": [
    "df['ceiling_height'].describe().round(2)"
   ]
  },
  {
   "cell_type": "code",
   "execution_count": 45,
   "metadata": {},
   "outputs": [
    {
     "data": {
      "text/plain": [
       "(2.0, 3.0)"
      ]
     },
     "execution_count": 45,
     "metadata": {},
     "output_type": "execute_result"
    }
   ],
   "source": [
    "# посчитаем значение усов\n",
    "mustache(df['ceiling_height'])"
   ]
  },
  {
   "cell_type": "code",
   "execution_count": 46,
   "metadata": {},
   "outputs": [
    {
     "data": {
      "image/png": "[encoded data removed]",
      "text/plain": [
       "<Figure size 432x288 with 1 Axes>"
      ]
     },
     "metadata": {
      "needs_background": "light"
     },
     "output_type": "display_data"
    }
   ],
   "source": [
    "ceiling_height = df['ceiling_height'].hist(bins=50, range = (mustache(df['ceiling_height'])[0], mustache(df['ceiling_height'])[1]))\n",
    "\n",
    "ceiling_height.set_xlabel('ceiling_height')\n",
    "ceiling_height.set_ylabel('number of values')\n",
    "\n",
    "plt.show()"
   ]
  },
  {
   "cell_type": "markdown",
   "metadata": {},
   "source": [
    "Основная доля обьявлений приходится на квартиры и аппартаменты с высотой потолка 2.65."
   ]
  },
  {
   "cell_type": "markdown",
   "metadata": {},
   "source": [
    "**Время продажи квартиры:**"
   ]
  },
  {
   "cell_type": "markdown",
   "metadata": {},
   "source": [
    "**Среднее и медианое время продажи.**"
   ]
  },
  {
   "cell_type": "code",
   "execution_count": 47,
   "metadata": {},
   "outputs": [
    {
     "data": {
      "text/plain": [
       "count    20518.0\n",
       "mean       180.9\n",
       "std        219.7\n",
       "min          1.0\n",
       "25%         45.0\n",
       "50%         95.0\n",
       "75%        232.0\n",
       "max       1580.0\n",
       "Name: days_exposition, dtype: float64"
      ]
     },
     "execution_count": 47,
     "metadata": {},
     "output_type": "execute_result"
    }
   ],
   "source": [
    "df['days_exposition'].describe().round(1)"
   ]
  },
  {
   "cell_type": "code",
   "execution_count": 48,
   "metadata": {},
   "outputs": [
    {
     "data": {
      "text/plain": [
       "(1.0, 512.0)"
      ]
     },
     "execution_count": 48,
     "metadata": {},
     "output_type": "execute_result"
    }
   ],
   "source": [
    "# посчитаем значение усов\n",
    "mustache(df['days_exposition'])"
   ]
  },
  {
   "cell_type": "markdown",
   "metadata": {},
   "source": [
    "**Постройте гистограмму.**"
   ]
  },
  {
   "cell_type": "code",
   "execution_count": 49,
   "metadata": {},
   "outputs": [
    {
     "data": {
      "image/png": "[encoded data removed]",
      "text/plain": [
       "<Figure size 432x288 with 1 Axes>"
      ]
     },
     "metadata": {
      "needs_background": "light"
     },
     "output_type": "display_data"
    }
   ],
   "source": [
    "days_exposition = df['days_exposition'].hist(bins=50, range = (mustache(df['days_exposition'])[0], mustache(df['days_exposition'])[1]))\n",
    "\n",
    "days_exposition.set_xlabel('days_exposition')\n",
    "days_exposition.set_ylabel('number of values')\n",
    "\n",
    "plt.show()"
   ]
  },
  {
   "cell_type": "markdown",
   "metadata": {},
   "source": [
    "**Обычно продажа занимает 95 дней.**"
   ]
  },
  {
   "cell_type": "markdown",
   "metadata": {},
   "source": [
    "продажи прошли:\n",
    "- очень быстро это до 46 дней,\n",
    "- а необычно долго от 202 дней"
   ]
  },
  {
   "cell_type": "markdown",
   "metadata": {},
   "source": [
    "### Уберите редкие и выбивающиеся значения. Опишите, какие особенности обнаружили."
   ]
  },
  {
   "cell_type": "code",
   "execution_count": 50,
   "metadata": {},
   "outputs": [
    {
     "data": {
      "text/plain": [
       "<AxesSubplot:>"
      ]
     },
     "execution_count": 50,
     "metadata": {},
     "output_type": "execute_result"
    },
    {
     "data": {
      "image/png": "[encoded data removed]",
      "text/plain": [
       "<Figure size 432x288 with 1 Axes>"
      ]
     },
     "metadata": {
      "needs_background": "light"
     },
     "output_type": "display_data"
    }
   ],
   "source": [
    "# убираем выбросы из общей площади\n",
    "df = df.loc[(df['total_area'] > mustache(df['total_area'])[0]) & (df['total_area'] < mustache(df['total_area'])[1])]\n",
    "df.boxplot('total_area')"
   ]
  },
  {
   "cell_type": "code",
   "execution_count": 51,
   "metadata": {},
   "outputs": [
    {
     "data": {
      "text/plain": [
       "<AxesSubplot:>"
      ]
     },
     "execution_count": 51,
     "metadata": {},
     "output_type": "execute_result"
    },
    {
     "data": {
      "image/png": "[encoded data removed]",
      "text/plain": [
       "<Figure size 432x288 with 1 Axes>"
      ]
     },
     "metadata": {
      "needs_background": "light"
     },
     "output_type": "display_data"
    }
   ],
   "source": [
    "# убираем выбросы из цене за м2\n",
    "df = df.loc[(df['price_per_m2'] > mustache(df['price_per_m2'])[0]) & (df['price_per_m2'] < mustache(df['price_per_m2'])[1])]\n",
    "df.boxplot('price_per_m2')"
   ]
  },
  {
   "cell_type": "code",
   "execution_count": 52,
   "metadata": {},
   "outputs": [
    {
     "data": {
      "text/plain": [
       "<AxesSubplot:>"
      ]
     },
     "execution_count": 52,
     "metadata": {},
     "output_type": "execute_result"
    },
    {
     "data": {
      "image/png": "[encoded data removed]",
      "text/plain": [
       "<Figure size 432x288 with 1 Axes>"
      ]
     },
     "metadata": {
      "needs_background": "light"
     },
     "output_type": "display_data"
    }
   ],
   "source": [
    "# убираем выбросы по комнатам\n",
    "df = df.loc[(df['rooms'] > mustache(df['rooms'])[0]) & (df['rooms'] < mustache(df['rooms'])[1])]\n",
    "df.boxplot('rooms')"
   ]
  },
  {
   "cell_type": "code",
   "execution_count": 53,
   "metadata": {},
   "outputs": [
    {
     "data": {
      "text/plain": [
       "<AxesSubplot:>"
      ]
     },
     "execution_count": 53,
     "metadata": {},
     "output_type": "execute_result"
    },
    {
     "data": {
      "image/png": "[encoded data removed]",
      "text/plain": [
       "<Figure size 432x288 with 1 Axes>"
      ]
     },
     "metadata": {
      "needs_background": "light"
     },
     "output_type": "display_data"
    }
   ],
   "source": [
    "# убираем выбросы по высоте потолков\n",
    "df = df.loc[(df['ceiling_height'] > mustache(df['ceiling_height'])[0]) & (df['ceiling_height'] < mustache(df['ceiling_height'])[1])]\n",
    "df.boxplot('ceiling_height')"
   ]
  },
  {
   "cell_type": "code",
   "execution_count": 54,
   "metadata": {},
   "outputs": [
    {
     "data": {
      "text/plain": [
       "<AxesSubplot:>"
      ]
     },
     "execution_count": 54,
     "metadata": {},
     "output_type": "execute_result"
    },
    {
     "data": {
      "image/png": "[encoded data removed]",
      "text/plain": [
       "<Figure size 432x288 with 1 Axes>"
      ]
     },
     "metadata": {
      "needs_background": "light"
     },
     "output_type": "display_data"
    }
   ],
   "source": [
    "# убираем выбросы по времени продажи\n",
    "df = df.loc[(df['days_exposition'] > mustache(df['days_exposition'])[0]) & (df['days_exposition'] < mustache(df['days_exposition'])[1])]\n",
    "df.boxplot('days_exposition')"
   ]
  },
  {
   "cell_type": "markdown",
   "metadata": {},
   "source": [
    "## Зависимость цены от площади, числа комнат, удалённости от центра."
   ]
  },
  {
   "cell_type": "code",
   "execution_count": 55,
   "metadata": {},
   "outputs": [
    {
     "data": {
      "text/html": [
       "<div>\n",
       "<style scoped>\n",
       "    .dataframe tbody tr th:only-of-type {\n",
       "        vertical-align: middle;\n",
       "    }\n",
       "\n",
       "    .dataframe tbody tr th {\n",
       "        vertical-align: top;\n",
       "    }\n",
       "\n",
       "    .dataframe thead th {\n",
       "        text-align: right;\n",
       "    }\n",
       "</style>\n",
       "<table border=\"1\" class=\"dataframe\">\n",
       "  <thead>\n",
       "    <tr style=\"text-align: right;\">\n",
       "      <th></th>\n",
       "      <th>last_price</th>\n",
       "      <th>total_area</th>\n",
       "      <th>living_area</th>\n",
       "      <th>kitchen_area</th>\n",
       "      <th>rooms</th>\n",
       "      <th>city_centers_nearest</th>\n",
       "    </tr>\n",
       "  </thead>\n",
       "  <tbody>\n",
       "    <tr>\n",
       "      <th>last_price</th>\n",
       "      <td>1.000000</td>\n",
       "      <td>0.746122</td>\n",
       "      <td>0.474063</td>\n",
       "      <td>0.405557</td>\n",
       "      <td>0.461479</td>\n",
       "      <td>-0.303338</td>\n",
       "    </tr>\n",
       "    <tr>\n",
       "      <th>total_area</th>\n",
       "      <td>0.746122</td>\n",
       "      <td>1.000000</td>\n",
       "      <td>0.695293</td>\n",
       "      <td>0.354604</td>\n",
       "      <td>0.796569</td>\n",
       "      <td>-0.114219</td>\n",
       "    </tr>\n",
       "    <tr>\n",
       "      <th>living_area</th>\n",
       "      <td>0.474063</td>\n",
       "      <td>0.695293</td>\n",
       "      <td>1.000000</td>\n",
       "      <td>0.347700</td>\n",
       "      <td>0.700282</td>\n",
       "      <td>-0.067860</td>\n",
       "    </tr>\n",
       "    <tr>\n",
       "      <th>kitchen_area</th>\n",
       "      <td>0.405557</td>\n",
       "      <td>0.354604</td>\n",
       "      <td>0.347700</td>\n",
       "      <td>1.000000</td>\n",
       "      <td>0.042982</td>\n",
       "      <td>-0.071991</td>\n",
       "    </tr>\n",
       "    <tr>\n",
       "      <th>rooms</th>\n",
       "      <td>0.461479</td>\n",
       "      <td>0.796569</td>\n",
       "      <td>0.700282</td>\n",
       "      <td>0.042982</td>\n",
       "      <td>1.000000</td>\n",
       "      <td>-0.066908</td>\n",
       "    </tr>\n",
       "    <tr>\n",
       "      <th>city_centers_nearest</th>\n",
       "      <td>-0.303338</td>\n",
       "      <td>-0.114219</td>\n",
       "      <td>-0.067860</td>\n",
       "      <td>-0.071991</td>\n",
       "      <td>-0.066908</td>\n",
       "      <td>1.000000</td>\n",
       "    </tr>\n",
       "  </tbody>\n",
       "</table>\n",
       "</div>"
      ],
      "text/plain": [
       "                      last_price  total_area  living_area  kitchen_area  \\\n",
       "last_price              1.000000    0.746122     0.474063      0.405557   \n",
       "total_area              0.746122    1.000000     0.695293      0.354604   \n",
       "living_area             0.474063    0.695293     1.000000      0.347700   \n",
       "kitchen_area            0.405557    0.354604     0.347700      1.000000   \n",
       "rooms                   0.461479    0.796569     0.700282      0.042982   \n",
       "city_centers_nearest   -0.303338   -0.114219    -0.067860     -0.071991   \n",
       "\n",
       "                         rooms  city_centers_nearest  \n",
       "last_price            0.461479             -0.303338  \n",
       "total_area            0.796569             -0.114219  \n",
       "living_area           0.700282             -0.067860  \n",
       "kitchen_area          0.042982             -0.071991  \n",
       "rooms                 1.000000             -0.066908  \n",
       "city_centers_nearest -0.066908              1.000000  "
      ]
     },
     "execution_count": 55,
     "metadata": {},
     "output_type": "execute_result"
    }
   ],
   "source": [
    "df[['last_price', 'total_area', 'living_area', 'kitchen_area', 'rooms', 'city_centers_nearest']].corr()"
   ]
  },
  {
   "cell_type": "markdown",
   "metadata": {},
   "source": [
    "Общая площадь больше всего влияет на стоимость."
   ]
  },
  {
   "cell_type": "code",
   "execution_count": 56,
   "metadata": {},
   "outputs": [
    {
     "data": {
      "text/plain": [
       "array([[<AxesSubplot:xlabel='last_price', ylabel='last_price'>,\n",
       "        <AxesSubplot:xlabel='total_area', ylabel='last_price'>,\n",
       "        <AxesSubplot:xlabel='living_area', ylabel='last_price'>,\n",
       "        <AxesSubplot:xlabel='kitchen_area', ylabel='last_price'>,\n",
       "        <AxesSubplot:xlabel='rooms', ylabel='last_price'>,\n",
       "        <AxesSubplot:xlabel='city_centers_nearest', ylabel='last_price'>],\n",
       "       [<AxesSubplot:xlabel='last_price', ylabel='total_area'>,\n",
       "        <AxesSubplot:xlabel='total_area', ylabel='total_area'>,\n",
       "        <AxesSubplot:xlabel='living_area', ylabel='total_area'>,\n",
       "        <AxesSubplot:xlabel='kitchen_area', ylabel='total_area'>,\n",
       "        <AxesSubplot:xlabel='rooms', ylabel='total_area'>,\n",
       "        <AxesSubplot:xlabel='city_centers_nearest', ylabel='total_area'>],\n",
       "       [<AxesSubplot:xlabel='last_price', ylabel='living_area'>,\n",
       "        <AxesSubplot:xlabel='total_area', ylabel='living_area'>,\n",
       "        <AxesSubplot:xlabel='living_area', ylabel='living_area'>,\n",
       "        <AxesSubplot:xlabel='kitchen_area', ylabel='living_area'>,\n",
       "        <AxesSubplot:xlabel='rooms', ylabel='living_area'>,\n",
       "        <AxesSubplot:xlabel='city_centers_nearest', ylabel='living_area'>],\n",
       "       [<AxesSubplot:xlabel='last_price', ylabel='kitchen_area'>,\n",
       "        <AxesSubplot:xlabel='total_area', ylabel='kitchen_area'>,\n",
       "        <AxesSubplot:xlabel='living_area', ylabel='kitchen_area'>,\n",
       "        <AxesSubplot:xlabel='kitchen_area', ylabel='kitchen_area'>,\n",
       "        <AxesSubplot:xlabel='rooms', ylabel='kitchen_area'>,\n",
       "        <AxesSubplot:xlabel='city_centers_nearest', ylabel='kitchen_area'>],\n",
       "       [<AxesSubplot:xlabel='last_price', ylabel='rooms'>,\n",
       "        <AxesSubplot:xlabel='total_area', ylabel='rooms'>,\n",
       "        <AxesSubplot:xlabel='living_area', ylabel='rooms'>,\n",
       "        <AxesSubplot:xlabel='kitchen_area', ylabel='rooms'>,\n",
       "        <AxesSubplot:xlabel='rooms', ylabel='rooms'>,\n",
       "        <AxesSubplot:xlabel='city_centers_nearest', ylabel='rooms'>],\n",
       "       [<AxesSubplot:xlabel='last_price', ylabel='city_centers_nearest'>,\n",
       "        <AxesSubplot:xlabel='total_area', ylabel='city_centers_nearest'>,\n",
       "        <AxesSubplot:xlabel='living_area', ylabel='city_centers_nearest'>,\n",
       "        <AxesSubplot:xlabel='kitchen_area', ylabel='city_centers_nearest'>,\n",
       "        <AxesSubplot:xlabel='rooms', ylabel='city_centers_nearest'>,\n",
       "        <AxesSubplot:xlabel='city_centers_nearest', ylabel='city_centers_nearest'>]],\n",
       "      dtype=object)"
      ]
     },
     "execution_count": 56,
     "metadata": {},
     "output_type": "execute_result"
    },
    {
     "data": {
      "image/png": "[encoded data removed]",
      "text/plain": [
       "<Figure size 720x720 with 36 Axes>"
      ]
     },
     "metadata": {
      "needs_background": "light"
     },
     "output_type": "display_data"
    }
   ],
   "source": [
    "pd.plotting.scatter_matrix(df[['last_price', 'total_area', 'living_area', 'kitchen_area', 'rooms', 'city_centers_nearest']], figsize=(10, 10)) "
   ]
  },
  {
   "cell_type": "markdown",
   "metadata": {},
   "source": [
    "## Зависимость цены от того, на каком этаже расположена квартира: первом, последнем или другом."
   ]
  },
  {
   "cell_type": "code",
   "execution_count": 57,
   "metadata": {},
   "outputs": [
    {
     "data": {
      "text/html": [
       "<div>\n",
       "<style scoped>\n",
       "    .dataframe tbody tr th:only-of-type {\n",
       "        vertical-align: middle;\n",
       "    }\n",
       "\n",
       "    .dataframe tbody tr th {\n",
       "        vertical-align: top;\n",
       "    }\n",
       "\n",
       "    .dataframe thead th {\n",
       "        text-align: right;\n",
       "    }\n",
       "</style>\n",
       "<table border=\"1\" class=\"dataframe\">\n",
       "  <thead>\n",
       "    <tr style=\"text-align: right;\">\n",
       "      <th></th>\n",
       "      <th>price_per_m2</th>\n",
       "    </tr>\n",
       "    <tr>\n",
       "      <th>floor_category</th>\n",
       "      <th></th>\n",
       "    </tr>\n",
       "  </thead>\n",
       "  <tbody>\n",
       "    <tr>\n",
       "      <th>первый</th>\n",
       "      <td>77706.0</td>\n",
       "    </tr>\n",
       "    <tr>\n",
       "      <th>последний</th>\n",
       "      <td>82909.0</td>\n",
       "    </tr>\n",
       "    <tr>\n",
       "      <th>другой</th>\n",
       "      <td>94813.0</td>\n",
       "    </tr>\n",
       "  </tbody>\n",
       "</table>\n",
       "</div>"
      ],
      "text/plain": [
       "                price_per_m2\n",
       "floor_category              \n",
       "первый               77706.0\n",
       "последний            82909.0\n",
       "другой               94813.0"
      ]
     },
     "metadata": {},
     "output_type": "display_data"
    },
    {
     "data": {
      "text/plain": [
       "<AxesSubplot:xlabel='floor_category'>"
      ]
     },
     "execution_count": 57,
     "metadata": {},
     "output_type": "execute_result"
    },
    {
     "data": {
      "image/png": "[encoded data removed]",
      "text/plain": [
       "<Figure size 432x288 with 1 Axes>"
      ]
     },
     "metadata": {
      "needs_background": "light"
     },
     "output_type": "display_data"
    }
   ],
   "source": [
    "display(df.pivot_table(index='floor_category', values='price_per_m2', aggfunc='mean').sort_values(by='price_per_m2').round())\n",
    "df.pivot_table(index='floor_category', values='price_per_m2', aggfunc='mean').sort_values(by='price_per_m2').round().plot(style='o-')"
   ]
  },
  {
   "cell_type": "markdown",
   "metadata": {},
   "source": [
    "**Зависимость от даты размещения:**"
   ]
  },
  {
   "cell_type": "markdown",
   "metadata": {},
   "source": [
    "**дня недели**"
   ]
  },
  {
   "cell_type": "code",
   "execution_count": 58,
   "metadata": {},
   "outputs": [
    {
     "data": {
      "text/html": [
       "<div>\n",
       "<style scoped>\n",
       "    .dataframe tbody tr th:only-of-type {\n",
       "        vertical-align: middle;\n",
       "    }\n",
       "\n",
       "    .dataframe tbody tr th {\n",
       "        vertical-align: top;\n",
       "    }\n",
       "\n",
       "    .dataframe thead th {\n",
       "        text-align: right;\n",
       "    }\n",
       "</style>\n",
       "<table border=\"1\" class=\"dataframe\">\n",
       "  <thead>\n",
       "    <tr style=\"text-align: right;\">\n",
       "      <th></th>\n",
       "      <th>last_price</th>\n",
       "    </tr>\n",
       "    <tr>\n",
       "      <th>weekday</th>\n",
       "      <th></th>\n",
       "    </tr>\n",
       "  </thead>\n",
       "  <tbody>\n",
       "    <tr>\n",
       "      <th>0</th>\n",
       "      <td>4707907.0</td>\n",
       "    </tr>\n",
       "    <tr>\n",
       "      <th>1</th>\n",
       "      <td>4744795.0</td>\n",
       "    </tr>\n",
       "    <tr>\n",
       "      <th>2</th>\n",
       "      <td>4708743.0</td>\n",
       "    </tr>\n",
       "    <tr>\n",
       "      <th>3</th>\n",
       "      <td>4728488.0</td>\n",
       "    </tr>\n",
       "    <tr>\n",
       "      <th>4</th>\n",
       "      <td>4752361.0</td>\n",
       "    </tr>\n",
       "    <tr>\n",
       "      <th>5</th>\n",
       "      <td>4705903.0</td>\n",
       "    </tr>\n",
       "    <tr>\n",
       "      <th>6</th>\n",
       "      <td>4709306.0</td>\n",
       "    </tr>\n",
       "  </tbody>\n",
       "</table>\n",
       "</div>"
      ],
      "text/plain": [
       "         last_price\n",
       "weekday            \n",
       "0         4707907.0\n",
       "1         4744795.0\n",
       "2         4708743.0\n",
       "3         4728488.0\n",
       "4         4752361.0\n",
       "5         4705903.0\n",
       "6         4709306.0"
      ]
     },
     "metadata": {},
     "output_type": "display_data"
    },
    {
     "data": {
      "text/plain": [
       "<AxesSubplot:xlabel='weekday'>"
      ]
     },
     "execution_count": 58,
     "metadata": {},
     "output_type": "execute_result"
    },
    {
     "data": {
      "image/png": "[encoded data removed]",
      "text/plain": [
       "<Figure size 432x288 with 1 Axes>"
      ]
     },
     "metadata": {
      "needs_background": "light"
     },
     "output_type": "display_data"
    }
   ],
   "source": [
    "display(df.pivot_table(index='weekday', values='last_price', aggfunc='mean').round())\n",
    "df.pivot_table(index='weekday', values='last_price', aggfunc='mean').round().plot(style='o-')"
   ]
  },
  {
   "cell_type": "markdown",
   "metadata": {},
   "source": [
    "**месяца**"
   ]
  },
  {
   "cell_type": "code",
   "execution_count": 59,
   "metadata": {},
   "outputs": [
    {
     "data": {
      "text/html": [
       "<div>\n",
       "<style scoped>\n",
       "    .dataframe tbody tr th:only-of-type {\n",
       "        vertical-align: middle;\n",
       "    }\n",
       "\n",
       "    .dataframe tbody tr th {\n",
       "        vertical-align: top;\n",
       "    }\n",
       "\n",
       "    .dataframe thead th {\n",
       "        text-align: right;\n",
       "    }\n",
       "</style>\n",
       "<table border=\"1\" class=\"dataframe\">\n",
       "  <thead>\n",
       "    <tr style=\"text-align: right;\">\n",
       "      <th></th>\n",
       "      <th>last_price</th>\n",
       "    </tr>\n",
       "    <tr>\n",
       "      <th>month</th>\n",
       "      <th></th>\n",
       "    </tr>\n",
       "  </thead>\n",
       "  <tbody>\n",
       "    <tr>\n",
       "      <th>1</th>\n",
       "      <td>4711364.0</td>\n",
       "    </tr>\n",
       "    <tr>\n",
       "      <th>2</th>\n",
       "      <td>4696578.0</td>\n",
       "    </tr>\n",
       "    <tr>\n",
       "      <th>3</th>\n",
       "      <td>4693468.0</td>\n",
       "    </tr>\n",
       "    <tr>\n",
       "      <th>4</th>\n",
       "      <td>4724605.0</td>\n",
       "    </tr>\n",
       "    <tr>\n",
       "      <th>5</th>\n",
       "      <td>4696024.0</td>\n",
       "    </tr>\n",
       "    <tr>\n",
       "      <th>6</th>\n",
       "      <td>4596102.0</td>\n",
       "    </tr>\n",
       "    <tr>\n",
       "      <th>7</th>\n",
       "      <td>4710099.0</td>\n",
       "    </tr>\n",
       "    <tr>\n",
       "      <th>8</th>\n",
       "      <td>4777875.0</td>\n",
       "    </tr>\n",
       "    <tr>\n",
       "      <th>9</th>\n",
       "      <td>4859005.0</td>\n",
       "    </tr>\n",
       "    <tr>\n",
       "      <th>10</th>\n",
       "      <td>4719277.0</td>\n",
       "    </tr>\n",
       "    <tr>\n",
       "      <th>11</th>\n",
       "      <td>4804215.0</td>\n",
       "    </tr>\n",
       "    <tr>\n",
       "      <th>12</th>\n",
       "      <td>4679555.0</td>\n",
       "    </tr>\n",
       "  </tbody>\n",
       "</table>\n",
       "</div>"
      ],
      "text/plain": [
       "       last_price\n",
       "month            \n",
       "1       4711364.0\n",
       "2       4696578.0\n",
       "3       4693468.0\n",
       "4       4724605.0\n",
       "5       4696024.0\n",
       "6       4596102.0\n",
       "7       4710099.0\n",
       "8       4777875.0\n",
       "9       4859005.0\n",
       "10      4719277.0\n",
       "11      4804215.0\n",
       "12      4679555.0"
      ]
     },
     "metadata": {},
     "output_type": "display_data"
    },
    {
     "data": {
      "text/plain": [
       "<AxesSubplot:xlabel='month'>"
      ]
     },
     "execution_count": 59,
     "metadata": {},
     "output_type": "execute_result"
    },
    {
     "data": {
      "image/png": "[encoded data removed]",
      "text/plain": [
       "<Figure size 432x288 with 1 Axes>"
      ]
     },
     "metadata": {
      "needs_background": "light"
     },
     "output_type": "display_data"
    }
   ],
   "source": [
    "display(df.pivot_table(index='month', values='last_price', aggfunc='mean').round())\n",
    "df.pivot_table(index='month', values='last_price', aggfunc='mean').round().plot(style='o-')"
   ]
  },
  {
   "cell_type": "markdown",
   "metadata": {},
   "source": [
    "**года**"
   ]
  },
  {
   "cell_type": "code",
   "execution_count": 60,
   "metadata": {},
   "outputs": [
    {
     "data": {
      "text/html": [
       "<div>\n",
       "<style scoped>\n",
       "    .dataframe tbody tr th:only-of-type {\n",
       "        vertical-align: middle;\n",
       "    }\n",
       "\n",
       "    .dataframe tbody tr th {\n",
       "        vertical-align: top;\n",
       "    }\n",
       "\n",
       "    .dataframe thead th {\n",
       "        text-align: right;\n",
       "    }\n",
       "</style>\n",
       "<table border=\"1\" class=\"dataframe\">\n",
       "  <thead>\n",
       "    <tr style=\"text-align: right;\">\n",
       "      <th></th>\n",
       "      <th>last_price</th>\n",
       "    </tr>\n",
       "    <tr>\n",
       "      <th>year</th>\n",
       "      <th></th>\n",
       "    </tr>\n",
       "  </thead>\n",
       "  <tbody>\n",
       "    <tr>\n",
       "      <th>2015</th>\n",
       "      <td>4896548.0</td>\n",
       "    </tr>\n",
       "    <tr>\n",
       "      <th>2016</th>\n",
       "      <td>4711518.0</td>\n",
       "    </tr>\n",
       "    <tr>\n",
       "      <th>2017</th>\n",
       "      <td>4727586.0</td>\n",
       "    </tr>\n",
       "    <tr>\n",
       "      <th>2018</th>\n",
       "      <td>4692907.0</td>\n",
       "    </tr>\n",
       "    <tr>\n",
       "      <th>2019</th>\n",
       "      <td>4907492.0</td>\n",
       "    </tr>\n",
       "  </tbody>\n",
       "</table>\n",
       "</div>"
      ],
      "text/plain": [
       "      last_price\n",
       "year            \n",
       "2015   4896548.0\n",
       "2016   4711518.0\n",
       "2017   4727586.0\n",
       "2018   4692907.0\n",
       "2019   4907492.0"
      ]
     },
     "metadata": {},
     "output_type": "display_data"
    },
    {
     "data": {
      "text/plain": [
       "<AxesSubplot:xlabel='year'>"
      ]
     },
     "execution_count": 60,
     "metadata": {},
     "output_type": "execute_result"
    },
    {
     "data": {
      "image/png": "[encoded data removed]",
      "text/plain": [
       "<Figure size 432x288 with 1 Axes>"
      ]
     },
     "metadata": {
      "needs_background": "light"
     },
     "output_type": "display_data"
    }
   ],
   "source": [
    "display(df.pivot_table(index='year', values='last_price', aggfunc='mean').round())\n",
    "df.pivot_table(index='year', values='last_price', aggfunc='mean').round().plot(style='o-')"
   ]
  },
  {
   "cell_type": "markdown",
   "metadata": {},
   "source": [
    "1. Цена на первом и последнем этажах ниже чем на других, самая низкая цена на первом этаже.\n",
    "2. Максимальная цена выставляется по пятницам, минимальная по четвергам.\n",
    "3. Цена начинает расти с июля по сентябрь далее идет спад по июнь.\n",
    "4. После 2015 кода произошло падение цен и только в 2019 году цены востановились."
   ]
  },
  {
   "cell_type": "markdown",
   "metadata": {},
   "source": [
    "## 10 населённых пунктов с наибольшим числом объявлений."
   ]
  },
  {
   "cell_type": "code",
   "execution_count": 61,
   "metadata": {},
   "outputs": [
    {
     "data": {
      "text/plain": [
       "Санкт-Петербург      10089\n",
       "посёлок Мурино         449\n",
       "посёлок Шушары         374\n",
       "Всеволожск             289\n",
       "посёлок Парголово      278\n",
       "Колпино                274\n",
       "деревня Кудрово        248\n",
       "Пушкин                 241\n",
       "Гатчина                225\n",
       "Выборг                 173\n",
       "Name: locality_name, dtype: int64"
      ]
     },
     "execution_count": 61,
     "metadata": {},
     "output_type": "execute_result"
    }
   ],
   "source": [
    "rating_locality_name_count = df['locality_name'].value_counts().head(10)\n",
    "rating_locality_name_count"
   ]
  },
  {
   "cell_type": "markdown",
   "metadata": {},
   "source": [
    "**Средняя цена м2 в этих населённых пунктах.**"
   ]
  },
  {
   "cell_type": "code",
   "execution_count": 62,
   "metadata": {},
   "outputs": [
    {
     "data": {
      "text/html": [
       "<div>\n",
       "<style scoped>\n",
       "    .dataframe tbody tr th:only-of-type {\n",
       "        vertical-align: middle;\n",
       "    }\n",
       "\n",
       "    .dataframe tbody tr th {\n",
       "        vertical-align: top;\n",
       "    }\n",
       "\n",
       "    .dataframe thead th {\n",
       "        text-align: right;\n",
       "    }\n",
       "</style>\n",
       "<table border=\"1\" class=\"dataframe\">\n",
       "  <thead>\n",
       "    <tr style=\"text-align: right;\">\n",
       "      <th></th>\n",
       "      <th>price_per_m2</th>\n",
       "    </tr>\n",
       "    <tr>\n",
       "      <th>locality_name</th>\n",
       "      <th></th>\n",
       "    </tr>\n",
       "  </thead>\n",
       "  <tbody>\n",
       "    <tr>\n",
       "      <th>Санкт-Петербург</th>\n",
       "      <td>103468.0</td>\n",
       "    </tr>\n",
       "    <tr>\n",
       "      <th>Пушкин</th>\n",
       "      <td>99944.0</td>\n",
       "    </tr>\n",
       "    <tr>\n",
       "      <th>деревня Кудрово</th>\n",
       "      <td>92375.0</td>\n",
       "    </tr>\n",
       "    <tr>\n",
       "      <th>посёлок Парголово</th>\n",
       "      <td>89281.0</td>\n",
       "    </tr>\n",
       "    <tr>\n",
       "      <th>посёлок Мурино</th>\n",
       "      <td>85413.0</td>\n",
       "    </tr>\n",
       "    <tr>\n",
       "      <th>посёлок Шушары</th>\n",
       "      <td>77590.0</td>\n",
       "    </tr>\n",
       "    <tr>\n",
       "      <th>Колпино</th>\n",
       "      <td>74841.0</td>\n",
       "    </tr>\n",
       "    <tr>\n",
       "      <th>Гатчина</th>\n",
       "      <td>68409.0</td>\n",
       "    </tr>\n",
       "    <tr>\n",
       "      <th>Всеволожск</th>\n",
       "      <td>66549.0</td>\n",
       "    </tr>\n",
       "    <tr>\n",
       "      <th>Выборг</th>\n",
       "      <td>57077.0</td>\n",
       "    </tr>\n",
       "  </tbody>\n",
       "</table>\n",
       "</div>"
      ],
      "text/plain": [
       "                   price_per_m2\n",
       "locality_name                  \n",
       "Санкт-Петербург        103468.0\n",
       "Пушкин                  99944.0\n",
       "деревня Кудрово         92375.0\n",
       "посёлок Парголово       89281.0\n",
       "посёлок Мурино          85413.0\n",
       "посёлок Шушары          77590.0\n",
       "Колпино                 74841.0\n",
       "Гатчина                 68409.0\n",
       "Всеволожск              66549.0\n",
       "Выборг                  57077.0"
      ]
     },
     "execution_count": 62,
     "metadata": {},
     "output_type": "execute_result"
    }
   ],
   "source": [
    "rating_locality_name_m2 = df[df['locality_name'].isin(rating_locality_name_count.index)].groupby('locality_name').agg({'price_per_m2': 'mean'}).sort_values(by='price_per_m2', ascending=False).round()\n",
    "rating_locality_name_m2"
   ]
  },
  {
   "cell_type": "markdown",
   "metadata": {},
   "source": [
    "**Выделение среди них населённые пункты с самой высокой и низкой стоимостью жилья.**"
   ]
  },
  {
   "cell_type": "code",
   "execution_count": 63,
   "metadata": {},
   "outputs": [
    {
     "data": {
      "text/html": [
       "<div>\n",
       "<style scoped>\n",
       "    .dataframe tbody tr th:only-of-type {\n",
       "        vertical-align: middle;\n",
       "    }\n",
       "\n",
       "    .dataframe tbody tr th {\n",
       "        vertical-align: top;\n",
       "    }\n",
       "\n",
       "    .dataframe thead th {\n",
       "        text-align: right;\n",
       "    }\n",
       "</style>\n",
       "<table border=\"1\" class=\"dataframe\">\n",
       "  <thead>\n",
       "    <tr style=\"text-align: right;\">\n",
       "      <th></th>\n",
       "      <th>price_per_m2</th>\n",
       "    </tr>\n",
       "    <tr>\n",
       "      <th>locality_name</th>\n",
       "      <th></th>\n",
       "    </tr>\n",
       "  </thead>\n",
       "  <tbody>\n",
       "    <tr>\n",
       "      <th>Санкт-Петербург</th>\n",
       "      <td>103468.0</td>\n",
       "    </tr>\n",
       "    <tr>\n",
       "      <th>Выборг</th>\n",
       "      <td>57077.0</td>\n",
       "    </tr>\n",
       "  </tbody>\n",
       "</table>\n",
       "</div>"
      ],
      "text/plain": [
       "                 price_per_m2\n",
       "locality_name                \n",
       "Санкт-Петербург      103468.0\n",
       "Выборг                57077.0"
      ]
     },
     "execution_count": 63,
     "metadata": {},
     "output_type": "execute_result"
    }
   ],
   "source": [
    "rating_locality_name_m2.query('price_per_m2 == price_per_m2.max() or price_per_m2 == price_per_m2.min()').round()"
   ]
  },
  {
   "cell_type": "markdown",
   "metadata": {},
   "source": [
    "## Выделение квартир в Санкт-Петербурге."
   ]
  },
  {
   "cell_type": "code",
   "execution_count": 64,
   "metadata": {},
   "outputs": [],
   "source": [
    "locality_name = 'Санкт-Петербург'"
   ]
  },
  {
   "cell_type": "markdown",
   "metadata": {},
   "source": [
    "**Создание столбца с расстоянием до центра в километрах.**"
   ]
  },
  {
   "cell_type": "code",
   "execution_count": 65,
   "metadata": {},
   "outputs": [],
   "source": [
    "df['city_centers_nearest_km'] = (df.query('city_centers_nearest >= 0')['city_centers_nearest']/1000).astype('int')"
   ]
  },
  {
   "cell_type": "markdown",
   "metadata": {},
   "source": [
    "**Цена за км**"
   ]
  },
  {
   "cell_type": "code",
   "execution_count": 66,
   "metadata": {},
   "outputs": [],
   "source": [
    "df['price_per_km'] = df['last_price']/df['city_centers_nearest_km']"
   ]
  },
  {
   "cell_type": "code",
   "execution_count": 67,
   "metadata": {},
   "outputs": [
    {
     "data": {
      "text/plain": [
       "<AxesSubplot:xlabel='city_centers_nearest_km'>"
      ]
     },
     "execution_count": 67,
     "metadata": {},
     "output_type": "execute_result"
    },
    {
     "data": {
      "image/png": "[encoded data removed]",
      "text/plain": [
       "<Figure size 432x288 with 1 Axes>"
      ]
     },
     "metadata": {
      "needs_background": "light"
     },
     "output_type": "display_data"
    }
   ],
   "source": [
    "# график средней цены за км\n",
    "df.query('locality_name == @locality_name').pivot_table(index='city_centers_nearest_km', values='price_per_km', aggfunc='mean').sort_values(by='price_per_km').round().plot(kind='bar', y='price_per_km')"
   ]
  },
  {
   "cell_type": "markdown",
   "metadata": {},
   "source": [
    "Похоже центром является территория до 5 км от центра"
   ]
  },
  {
   "cell_type": "code",
   "execution_count": 68,
   "metadata": {},
   "outputs": [],
   "source": [
    "# введем переменную для центра\n",
    "center_km_spb = 5"
   ]
  },
  {
   "cell_type": "markdown",
   "metadata": {},
   "source": [
    "**Сегмент квартир в центре.**"
   ]
  },
  {
   "cell_type": "code",
   "execution_count": 69,
   "metadata": {},
   "outputs": [],
   "source": [
    "# квартиры в центре СПб\n",
    "df_center_spb = df.query('locality_name == @locality_name and city_centers_nearest_km < @center_km_spb')"
   ]
  },
  {
   "cell_type": "markdown",
   "metadata": {},
   "source": [
    "## Сравнительный анализ данных по всей базе с данными по центру в СПБ:"
   ]
  },
  {
   "cell_type": "markdown",
   "metadata": {},
   "source": [
    "**Общая площадь**"
   ]
  },
  {
   "cell_type": "code",
   "execution_count": 70,
   "metadata": {
    "scrolled": false
   },
   "outputs": [
    {
     "data": {
      "text/html": [
       "<div>\n",
       "<style scoped>\n",
       "    .dataframe tbody tr th:only-of-type {\n",
       "        vertical-align: middle;\n",
       "    }\n",
       "\n",
       "    .dataframe tbody tr th {\n",
       "        vertical-align: top;\n",
       "    }\n",
       "\n",
       "    .dataframe thead th {\n",
       "        text-align: right;\n",
       "    }\n",
       "</style>\n",
       "<table border=\"1\" class=\"dataframe\">\n",
       "  <thead>\n",
       "    <tr style=\"text-align: right;\">\n",
       "      <th></th>\n",
       "      <th>total_area</th>\n",
       "      <th>total_area_spb_center</th>\n",
       "      <th>percent_change</th>\n",
       "    </tr>\n",
       "  </thead>\n",
       "  <tbody>\n",
       "    <tr>\n",
       "      <th>count</th>\n",
       "      <td>15881.00</td>\n",
       "      <td>540.00</td>\n",
       "      <td>-96.599710</td>\n",
       "    </tr>\n",
       "    <tr>\n",
       "      <th>mean</th>\n",
       "      <td>51.83</td>\n",
       "      <td>67.75</td>\n",
       "      <td>30.715802</td>\n",
       "    </tr>\n",
       "    <tr>\n",
       "      <th>std</th>\n",
       "      <td>17.59</td>\n",
       "      <td>22.10</td>\n",
       "      <td>25.639568</td>\n",
       "    </tr>\n",
       "    <tr>\n",
       "      <th>min</th>\n",
       "      <td>13.00</td>\n",
       "      <td>13.20</td>\n",
       "      <td>1.538462</td>\n",
       "    </tr>\n",
       "    <tr>\n",
       "      <th>25%</th>\n",
       "      <td>38.10</td>\n",
       "      <td>50.00</td>\n",
       "      <td>31.233596</td>\n",
       "    </tr>\n",
       "    <tr>\n",
       "      <th>50%</th>\n",
       "      <td>47.19</td>\n",
       "      <td>67.05</td>\n",
       "      <td>42.085188</td>\n",
       "    </tr>\n",
       "    <tr>\n",
       "      <th>75%</th>\n",
       "      <td>62.00</td>\n",
       "      <td>84.10</td>\n",
       "      <td>35.645161</td>\n",
       "    </tr>\n",
       "    <tr>\n",
       "      <th>max</th>\n",
       "      <td>114.60</td>\n",
       "      <td>114.20</td>\n",
       "      <td>-0.349040</td>\n",
       "    </tr>\n",
       "  </tbody>\n",
       "</table>\n",
       "</div>"
      ],
      "text/plain": [
       "       total_area  total_area_spb_center  percent_change\n",
       "count    15881.00                 540.00      -96.599710\n",
       "mean        51.83                  67.75       30.715802\n",
       "std         17.59                  22.10       25.639568\n",
       "min         13.00                  13.20        1.538462\n",
       "25%         38.10                  50.00       31.233596\n",
       "50%         47.19                  67.05       42.085188\n",
       "75%         62.00                  84.10       35.645161\n",
       "max        114.60                 114.20       -0.349040"
      ]
     },
     "execution_count": 70,
     "metadata": {},
     "output_type": "execute_result"
    }
   ],
   "source": [
    "df_total_area = df[['total_area']].describe().round(2)\n",
    "spb_total_area = df_center_spb[['total_area']].describe().round(2)\n",
    "describe_total_area = df_total_area.join(spb_total_area, rsuffix='_spb_center')\n",
    "describe_total_area['percent_change'] = (describe_total_area['total_area_spb_center']/describe_total_area['total_area']-1)*100\n",
    "describe_total_area"
   ]
  },
  {
   "cell_type": "markdown",
   "metadata": {},
   "source": [
    "Общая площадь в центре СПб в среднем на 30% больше."
   ]
  },
  {
   "cell_type": "markdown",
   "metadata": {},
   "source": [
    "**Цена за м2**"
   ]
  },
  {
   "cell_type": "code",
   "execution_count": 71,
   "metadata": {},
   "outputs": [
    {
     "data": {
      "text/html": [
       "<div>\n",
       "<style scoped>\n",
       "    .dataframe tbody tr th:only-of-type {\n",
       "        vertical-align: middle;\n",
       "    }\n",
       "\n",
       "    .dataframe tbody tr th {\n",
       "        vertical-align: top;\n",
       "    }\n",
       "\n",
       "    .dataframe thead th {\n",
       "        text-align: right;\n",
       "    }\n",
       "</style>\n",
       "<table border=\"1\" class=\"dataframe\">\n",
       "  <thead>\n",
       "    <tr style=\"text-align: right;\">\n",
       "      <th></th>\n",
       "      <th>price_per_m2</th>\n",
       "      <th>price_per_m2_spb_center</th>\n",
       "      <th>percent_change</th>\n",
       "    </tr>\n",
       "  </thead>\n",
       "  <tbody>\n",
       "    <tr>\n",
       "      <th>count</th>\n",
       "      <td>15881.00</td>\n",
       "      <td>540.00</td>\n",
       "      <td>-96.599710</td>\n",
       "    </tr>\n",
       "    <tr>\n",
       "      <th>mean</th>\n",
       "      <td>91284.33</td>\n",
       "      <td>114883.20</td>\n",
       "      <td>25.852049</td>\n",
       "    </tr>\n",
       "    <tr>\n",
       "      <th>std</th>\n",
       "      <td>26621.66</td>\n",
       "      <td>24066.82</td>\n",
       "      <td>-9.596847</td>\n",
       "    </tr>\n",
       "    <tr>\n",
       "      <th>min</th>\n",
       "      <td>20833.33</td>\n",
       "      <td>54000.00</td>\n",
       "      <td>159.200041</td>\n",
       "    </tr>\n",
       "    <tr>\n",
       "      <th>25%</th>\n",
       "      <td>75000.00</td>\n",
       "      <td>96373.49</td>\n",
       "      <td>28.497987</td>\n",
       "    </tr>\n",
       "    <tr>\n",
       "      <th>50%</th>\n",
       "      <td>91935.48</td>\n",
       "      <td>112468.06</td>\n",
       "      <td>22.333684</td>\n",
       "    </tr>\n",
       "    <tr>\n",
       "      <th>75%</th>\n",
       "      <td>107692.31</td>\n",
       "      <td>131069.73</td>\n",
       "      <td>21.707604</td>\n",
       "    </tr>\n",
       "    <tr>\n",
       "      <th>max</th>\n",
       "      <td>167224.08</td>\n",
       "      <td>167187.50</td>\n",
       "      <td>-0.021875</td>\n",
       "    </tr>\n",
       "  </tbody>\n",
       "</table>\n",
       "</div>"
      ],
      "text/plain": [
       "       price_per_m2  price_per_m2_spb_center  percent_change\n",
       "count      15881.00                   540.00      -96.599710\n",
       "mean       91284.33                114883.20       25.852049\n",
       "std        26621.66                 24066.82       -9.596847\n",
       "min        20833.33                 54000.00      159.200041\n",
       "25%        75000.00                 96373.49       28.497987\n",
       "50%        91935.48                112468.06       22.333684\n",
       "75%       107692.31                131069.73       21.707604\n",
       "max       167224.08                167187.50       -0.021875"
      ]
     },
     "execution_count": 71,
     "metadata": {},
     "output_type": "execute_result"
    }
   ],
   "source": [
    "df_price_per_m2 = df[['price_per_m2']].describe().round(2)\n",
    "spb_center_price_per_m2 = df_center_spb[['price_per_m2']].describe().round(2)\n",
    "describe_total_price_per_m2 = df_price_per_m2.join(spb_center_price_per_m2, rsuffix='_spb_center')\n",
    "describe_total_price_per_m2['percent_change'] = (describe_total_price_per_m2['price_per_m2_spb_center']/describe_total_price_per_m2['price_per_m2']-1)*100\n",
    "describe_total_price_per_m2"
   ]
  },
  {
   "cell_type": "markdown",
   "metadata": {},
   "source": [
    "Цена за м2 в центре СПб в среднем на 25% дороже."
   ]
  },
  {
   "cell_type": "markdown",
   "metadata": {},
   "source": [
    "**Число комнат**"
   ]
  },
  {
   "cell_type": "code",
   "execution_count": 72,
   "metadata": {
    "scrolled": true
   },
   "outputs": [
    {
     "data": {
      "text/html": [
       "<div>\n",
       "<style scoped>\n",
       "    .dataframe tbody tr th:only-of-type {\n",
       "        vertical-align: middle;\n",
       "    }\n",
       "\n",
       "    .dataframe tbody tr th {\n",
       "        vertical-align: top;\n",
       "    }\n",
       "\n",
       "    .dataframe thead th {\n",
       "        text-align: right;\n",
       "    }\n",
       "</style>\n",
       "<table border=\"1\" class=\"dataframe\">\n",
       "  <thead>\n",
       "    <tr style=\"text-align: right;\">\n",
       "      <th></th>\n",
       "      <th>rooms</th>\n",
       "      <th>rooms_spb_center</th>\n",
       "      <th>percent_change</th>\n",
       "    </tr>\n",
       "  </thead>\n",
       "  <tbody>\n",
       "    <tr>\n",
       "      <th>count</th>\n",
       "      <td>15881.00</td>\n",
       "      <td>540.00</td>\n",
       "      <td>-96.599710</td>\n",
       "    </tr>\n",
       "    <tr>\n",
       "      <th>mean</th>\n",
       "      <td>1.88</td>\n",
       "      <td>2.41</td>\n",
       "      <td>28.191489</td>\n",
       "    </tr>\n",
       "    <tr>\n",
       "      <th>std</th>\n",
       "      <td>0.86</td>\n",
       "      <td>0.94</td>\n",
       "      <td>9.302326</td>\n",
       "    </tr>\n",
       "    <tr>\n",
       "      <th>min</th>\n",
       "      <td>1.00</td>\n",
       "      <td>1.00</td>\n",
       "      <td>0.000000</td>\n",
       "    </tr>\n",
       "    <tr>\n",
       "      <th>25%</th>\n",
       "      <td>1.00</td>\n",
       "      <td>2.00</td>\n",
       "      <td>100.000000</td>\n",
       "    </tr>\n",
       "    <tr>\n",
       "      <th>50%</th>\n",
       "      <td>2.00</td>\n",
       "      <td>2.00</td>\n",
       "      <td>0.000000</td>\n",
       "    </tr>\n",
       "    <tr>\n",
       "      <th>75%</th>\n",
       "      <td>2.00</td>\n",
       "      <td>3.00</td>\n",
       "      <td>50.000000</td>\n",
       "    </tr>\n",
       "    <tr>\n",
       "      <th>max</th>\n",
       "      <td>5.00</td>\n",
       "      <td>5.00</td>\n",
       "      <td>0.000000</td>\n",
       "    </tr>\n",
       "  </tbody>\n",
       "</table>\n",
       "</div>"
      ],
      "text/plain": [
       "          rooms  rooms_spb_center  percent_change\n",
       "count  15881.00            540.00      -96.599710\n",
       "mean       1.88              2.41       28.191489\n",
       "std        0.86              0.94        9.302326\n",
       "min        1.00              1.00        0.000000\n",
       "25%        1.00              2.00      100.000000\n",
       "50%        2.00              2.00        0.000000\n",
       "75%        2.00              3.00       50.000000\n",
       "max        5.00              5.00        0.000000"
      ]
     },
     "execution_count": 72,
     "metadata": {},
     "output_type": "execute_result"
    }
   ],
   "source": [
    "df_rooms = df[['rooms']].describe().round(2)\n",
    "spb_center_rooms = df_center_spb[['rooms']].describe().round(2)\n",
    "describe_total_rooms = df_rooms.join(spb_center_rooms, rsuffix='_spb_center')\n",
    "describe_total_rooms['percent_change'] = (describe_total_rooms['rooms_spb_center']/describe_total_rooms['rooms']-1)*100\n",
    "describe_total_rooms"
   ]
  },
  {
   "cell_type": "markdown",
   "metadata": {},
   "source": [
    "Медианное количество комнат одинаково."
   ]
  },
  {
   "cell_type": "markdown",
   "metadata": {},
   "source": [
    "**Высота потолков.**"
   ]
  },
  {
   "cell_type": "code",
   "execution_count": 73,
   "metadata": {},
   "outputs": [
    {
     "data": {
      "text/html": [
       "<div>\n",
       "<style scoped>\n",
       "    .dataframe tbody tr th:only-of-type {\n",
       "        vertical-align: middle;\n",
       "    }\n",
       "\n",
       "    .dataframe tbody tr th {\n",
       "        vertical-align: top;\n",
       "    }\n",
       "\n",
       "    .dataframe thead th {\n",
       "        text-align: right;\n",
       "    }\n",
       "</style>\n",
       "<table border=\"1\" class=\"dataframe\">\n",
       "  <thead>\n",
       "    <tr style=\"text-align: right;\">\n",
       "      <th></th>\n",
       "      <th>ceiling_height</th>\n",
       "      <th>ceiling_height_spb_center</th>\n",
       "      <th>percent_change</th>\n",
       "    </tr>\n",
       "  </thead>\n",
       "  <tbody>\n",
       "    <tr>\n",
       "      <th>count</th>\n",
       "      <td>15881.00</td>\n",
       "      <td>540.00</td>\n",
       "      <td>-96.599710</td>\n",
       "    </tr>\n",
       "    <tr>\n",
       "      <th>mean</th>\n",
       "      <td>2.63</td>\n",
       "      <td>2.68</td>\n",
       "      <td>1.901141</td>\n",
       "    </tr>\n",
       "    <tr>\n",
       "      <th>std</th>\n",
       "      <td>0.08</td>\n",
       "      <td>0.09</td>\n",
       "      <td>12.500000</td>\n",
       "    </tr>\n",
       "    <tr>\n",
       "      <th>min</th>\n",
       "      <td>2.20</td>\n",
       "      <td>2.40</td>\n",
       "      <td>9.090909</td>\n",
       "    </tr>\n",
       "    <tr>\n",
       "      <th>25%</th>\n",
       "      <td>2.60</td>\n",
       "      <td>2.65</td>\n",
       "      <td>1.923077</td>\n",
       "    </tr>\n",
       "    <tr>\n",
       "      <th>50%</th>\n",
       "      <td>2.65</td>\n",
       "      <td>2.65</td>\n",
       "      <td>0.000000</td>\n",
       "    </tr>\n",
       "    <tr>\n",
       "      <th>75%</th>\n",
       "      <td>2.65</td>\n",
       "      <td>2.70</td>\n",
       "      <td>1.886792</td>\n",
       "    </tr>\n",
       "    <tr>\n",
       "      <th>max</th>\n",
       "      <td>2.99</td>\n",
       "      <td>2.99</td>\n",
       "      <td>0.000000</td>\n",
       "    </tr>\n",
       "  </tbody>\n",
       "</table>\n",
       "</div>"
      ],
      "text/plain": [
       "       ceiling_height  ceiling_height_spb_center  percent_change\n",
       "count        15881.00                     540.00      -96.599710\n",
       "mean             2.63                       2.68        1.901141\n",
       "std              0.08                       0.09       12.500000\n",
       "min              2.20                       2.40        9.090909\n",
       "25%              2.60                       2.65        1.923077\n",
       "50%              2.65                       2.65        0.000000\n",
       "75%              2.65                       2.70        1.886792\n",
       "max              2.99                       2.99        0.000000"
      ]
     },
     "execution_count": 73,
     "metadata": {},
     "output_type": "execute_result"
    }
   ],
   "source": [
    "df_ceiling_height = df[['ceiling_height']].describe().round(2)\n",
    "spb_center_ceiling_height = df_center_spb[['ceiling_height']].describe().round(2)\n",
    "describe_total_ceiling_height = df_ceiling_height.join(spb_center_ceiling_height, rsuffix='_spb_center')\n",
    "describe_total_ceiling_height['percent_change'] = (describe_total_ceiling_height['ceiling_height_spb_center']/describe_total_ceiling_height['ceiling_height']-1)*100\n",
    "describe_total_ceiling_height"
   ]
  },
  {
   "cell_type": "markdown",
   "metadata": {},
   "source": [
    "Медианная высота потолков также одинакова."
   ]
  },
  {
   "cell_type": "markdown",
   "metadata": {},
   "source": [
    "## Зависимость цены в центре СПб: "
   ]
  },
  {
   "cell_type": "markdown",
   "metadata": {},
   "source": [
    "**Числа комнат**"
   ]
  },
  {
   "cell_type": "code",
   "execution_count": 74,
   "metadata": {},
   "outputs": [
    {
     "data": {
      "text/html": [
       "<div>\n",
       "<style scoped>\n",
       "    .dataframe tbody tr th:only-of-type {\n",
       "        vertical-align: middle;\n",
       "    }\n",
       "\n",
       "    .dataframe tbody tr th {\n",
       "        vertical-align: top;\n",
       "    }\n",
       "\n",
       "    .dataframe thead th {\n",
       "        text-align: right;\n",
       "    }\n",
       "</style>\n",
       "<table border=\"1\" class=\"dataframe\">\n",
       "  <thead>\n",
       "    <tr style=\"text-align: right;\">\n",
       "      <th></th>\n",
       "      <th>total_area</th>\n",
       "      <th>living_area</th>\n",
       "      <th>kitchen_area</th>\n",
       "    </tr>\n",
       "  </thead>\n",
       "  <tbody>\n",
       "    <tr>\n",
       "      <th>total_area</th>\n",
       "      <td>1.000000</td>\n",
       "      <td>0.699851</td>\n",
       "      <td>0.271004</td>\n",
       "    </tr>\n",
       "    <tr>\n",
       "      <th>living_area</th>\n",
       "      <td>0.699851</td>\n",
       "      <td>1.000000</td>\n",
       "      <td>0.291129</td>\n",
       "    </tr>\n",
       "    <tr>\n",
       "      <th>kitchen_area</th>\n",
       "      <td>0.271004</td>\n",
       "      <td>0.291129</td>\n",
       "      <td>1.000000</td>\n",
       "    </tr>\n",
       "  </tbody>\n",
       "</table>\n",
       "</div>"
      ],
      "text/plain": [
       "              total_area  living_area  kitchen_area\n",
       "total_area      1.000000     0.699851      0.271004\n",
       "living_area     0.699851     1.000000      0.291129\n",
       "kitchen_area    0.271004     0.291129      1.000000"
      ]
     },
     "execution_count": 74,
     "metadata": {},
     "output_type": "execute_result"
    },
    {
     "data": {
      "image/png": "[encoded data removed]",
      "text/plain": [
       "<Figure size 432x288 with 1 Axes>"
      ]
     },
     "metadata": {
      "needs_background": "light"
     },
     "output_type": "display_data"
    }
   ],
   "source": [
    "spb_last_price_rooms = df_center_spb.pivot_table(index='rooms', values='last_price', aggfunc='mean').round()\n",
    "df_last_price_rooms = df.pivot_table(index='rooms', values='last_price', aggfunc='mean').round()\n",
    "rooms_joined = spb_last_price_rooms.join(df_last_price_rooms, lsuffix='_spb_center')\n",
    "rooms_joined['percent_change'] = ((rooms_joined['last_price_spb_center']/rooms_joined['last_price']-1)*100).round()\n",
    "\n",
    "rooms_joined.plot(y = ['last_price_spb_center', 'last_price'], style='o-')\n",
    "rooms_joined\n",
    "\n",
    "# Зависимость жилой прощади и кухни от общей площади, числа комнат.\n",
    "df_center_spb[['total_area', 'living_area', 'kitchen_area']].corr()"
   ]
  },
  {
   "cell_type": "markdown",
   "metadata": {},
   "source": [
    "**Типа этажа.**"
   ]
  },
  {
   "cell_type": "code",
   "execution_count": 75,
   "metadata": {},
   "outputs": [
    {
     "data": {
      "text/html": [
       "<div>\n",
       "<style scoped>\n",
       "    .dataframe tbody tr th:only-of-type {\n",
       "        vertical-align: middle;\n",
       "    }\n",
       "\n",
       "    .dataframe tbody tr th {\n",
       "        vertical-align: top;\n",
       "    }\n",
       "\n",
       "    .dataframe thead th {\n",
       "        text-align: right;\n",
       "    }\n",
       "</style>\n",
       "<table border=\"1\" class=\"dataframe\">\n",
       "  <thead>\n",
       "    <tr style=\"text-align: right;\">\n",
       "      <th></th>\n",
       "      <th>last_price_spb_center</th>\n",
       "      <th>last_price</th>\n",
       "      <th>percent_change</th>\n",
       "    </tr>\n",
       "    <tr>\n",
       "      <th>floor_category</th>\n",
       "      <th></th>\n",
       "      <th></th>\n",
       "      <th></th>\n",
       "    </tr>\n",
       "  </thead>\n",
       "  <tbody>\n",
       "    <tr>\n",
       "      <th>первый</th>\n",
       "      <td>6242622.0</td>\n",
       "      <td>3910455.0</td>\n",
       "      <td>60.0</td>\n",
       "    </tr>\n",
       "    <tr>\n",
       "      <th>последний</th>\n",
       "      <td>7746783.0</td>\n",
       "      <td>4294907.0</td>\n",
       "      <td>80.0</td>\n",
       "    </tr>\n",
       "    <tr>\n",
       "      <th>другой</th>\n",
       "      <td>7945419.0</td>\n",
       "      <td>4925740.0</td>\n",
       "      <td>61.0</td>\n",
       "    </tr>\n",
       "  </tbody>\n",
       "</table>\n",
       "</div>"
      ],
      "text/plain": [
       "                last_price_spb_center  last_price  percent_change\n",
       "floor_category                                                   \n",
       "первый                      6242622.0   3910455.0            60.0\n",
       "последний                   7746783.0   4294907.0            80.0\n",
       "другой                      7945419.0   4925740.0            61.0"
      ]
     },
     "execution_count": 75,
     "metadata": {},
     "output_type": "execute_result"
    },
    {
     "data": {
      "image/png": "[encoded data removed]",
      "text/plain": [
       "<Figure size 432x288 with 1 Axes>"
      ]
     },
     "metadata": {
      "needs_background": "light"
     },
     "output_type": "display_data"
    }
   ],
   "source": [
    "spb_last_price_floor_category = df_center_spb.pivot_table(index='floor_category', values='last_price', aggfunc='mean').sort_values(by='last_price').round()\n",
    "df_last_price_floor_category = df.pivot_table(index='floor_category', values='last_price', aggfunc='mean').round()\n",
    "floor_category_joined = spb_last_price_floor_category.join(df_last_price_floor_category, lsuffix='_spb_center')\n",
    "floor_category_joined['percent_change'] = ((floor_category_joined['last_price_spb_center']/floor_category_joined['last_price']-1)*100).round()\n",
    "\n",
    "floor_category_joined.plot(y = ['last_price_spb_center', 'last_price'], style='o-')\n",
    "floor_category_joined"
   ]
  },
  {
   "cell_type": "markdown",
   "metadata": {},
   "source": [
    "**Удалённости от центра**"
   ]
  },
  {
   "cell_type": "code",
   "execution_count": 76,
   "metadata": {},
   "outputs": [
    {
     "data": {
      "text/plain": [
       "<AxesSubplot:xlabel='city_centers_nearest_km'>"
      ]
     },
     "execution_count": 76,
     "metadata": {},
     "output_type": "execute_result"
    },
    {
     "data": {
      "image/png": "[encoded data removed]",
      "text/plain": [
       "<Figure size 432x288 with 1 Axes>"
      ]
     },
     "metadata": {
      "needs_background": "light"
     },
     "output_type": "display_data"
    }
   ],
   "source": [
    "spb_last_price_city_centers_nearest_km = df_center_spb.pivot_table(index='city_centers_nearest_km', values='last_price', aggfunc='mean').round()\n",
    "\n",
    "spb_last_price_city_centers_nearest_km.plot(y='last_price', kind='bar')"
   ]
  },
  {
   "cell_type": "markdown",
   "metadata": {},
   "source": [
    "**Даты размещения:**"
   ]
  },
  {
   "cell_type": "code",
   "execution_count": 77,
   "metadata": {},
   "outputs": [
    {
     "data": {
      "image/png": "[encoded data removed]",
      "text/plain": [
       "<Figure size 432x288 with 1 Axes>"
      ]
     },
     "metadata": {
      "needs_background": "light"
     },
     "output_type": "display_data"
    }
   ],
   "source": [
    "spb_last_price_weekday = df_center_spb.pivot_table(index='weekday', values='last_price', aggfunc='mean').round()\n",
    "df_last_price_weekday = df.pivot_table(index='weekday', values='last_price', aggfunc='mean').round()\n",
    "\n",
    "weekday_joined = spb_last_price_weekday.join(df_last_price_weekday, lsuffix='_spb_center').plot(style='o-')"
   ]
  },
  {
   "cell_type": "code",
   "execution_count": 78,
   "metadata": {},
   "outputs": [
    {
     "data": {
      "image/png": "[encoded data removed]",
      "text/plain": [
       "<Figure size 432x288 with 1 Axes>"
      ]
     },
     "metadata": {
      "needs_background": "light"
     },
     "output_type": "display_data"
    }
   ],
   "source": [
    "spb_last_price_month = df_center_spb.pivot_table(index='month', values='last_price', aggfunc='mean').round()\n",
    "df_last_price_month = df.pivot_table(index='month', values='last_price', aggfunc='mean').round()\n",
    "\n",
    "month_joined = spb_last_price_month.join(df_last_price_month, lsuffix='_spb_center').plot(style='o-')"
   ]
  },
  {
   "cell_type": "code",
   "execution_count": 79,
   "metadata": {},
   "outputs": [
    {
     "data": {
      "text/html": [
       "<div>\n",
       "<style scoped>\n",
       "    .dataframe tbody tr th:only-of-type {\n",
       "        vertical-align: middle;\n",
       "    }\n",
       "\n",
       "    .dataframe tbody tr th {\n",
       "        vertical-align: top;\n",
       "    }\n",
       "\n",
       "    .dataframe thead th {\n",
       "        text-align: right;\n",
       "    }\n",
       "</style>\n",
       "<table border=\"1\" class=\"dataframe\">\n",
       "  <thead>\n",
       "    <tr style=\"text-align: right;\">\n",
       "      <th></th>\n",
       "      <th>last_price_spb_center</th>\n",
       "      <th>last_price</th>\n",
       "      <th>percent_change</th>\n",
       "    </tr>\n",
       "    <tr>\n",
       "      <th>year</th>\n",
       "      <th></th>\n",
       "      <th></th>\n",
       "      <th></th>\n",
       "    </tr>\n",
       "  </thead>\n",
       "  <tbody>\n",
       "    <tr>\n",
       "      <th>2015</th>\n",
       "      <td>7756221.0</td>\n",
       "      <td>4896548.0</td>\n",
       "      <td>58.401817</td>\n",
       "    </tr>\n",
       "    <tr>\n",
       "      <th>2016</th>\n",
       "      <td>7759377.0</td>\n",
       "      <td>4711518.0</td>\n",
       "      <td>64.689533</td>\n",
       "    </tr>\n",
       "    <tr>\n",
       "      <th>2017</th>\n",
       "      <td>7542034.0</td>\n",
       "      <td>4727586.0</td>\n",
       "      <td>59.532455</td>\n",
       "    </tr>\n",
       "    <tr>\n",
       "      <th>2018</th>\n",
       "      <td>7698655.0</td>\n",
       "      <td>4692907.0</td>\n",
       "      <td>64.048744</td>\n",
       "    </tr>\n",
       "    <tr>\n",
       "      <th>2019</th>\n",
       "      <td>7300588.0</td>\n",
       "      <td>4907492.0</td>\n",
       "      <td>48.764135</td>\n",
       "    </tr>\n",
       "  </tbody>\n",
       "</table>\n",
       "</div>"
      ],
      "text/plain": [
       "      last_price_spb_center  last_price  percent_change\n",
       "year                                                   \n",
       "2015              7756221.0   4896548.0       58.401817\n",
       "2016              7759377.0   4711518.0       64.689533\n",
       "2017              7542034.0   4727586.0       59.532455\n",
       "2018              7698655.0   4692907.0       64.048744\n",
       "2019              7300588.0   4907492.0       48.764135"
      ]
     },
     "execution_count": 79,
     "metadata": {},
     "output_type": "execute_result"
    },
    {
     "data": {
      "image/png": "[encoded data removed]",
      "text/plain": [
       "<Figure size 432x288 with 1 Axes>"
      ]
     },
     "metadata": {
      "needs_background": "light"
     },
     "output_type": "display_data"
    }
   ],
   "source": [
    "spb_price_m2_year = df_center_spb.pivot_table(index='year', values='last_price', aggfunc='mean').round()\n",
    "df_price_m2_year = df.pivot_table(index='year', values='last_price', aggfunc='mean').round()\n",
    "year_joined = spb_price_m2_year.join(df_price_m2_year, lsuffix='_spb_center')\n",
    "year_joined['percent_change'] = (year_joined['last_price_spb_center']/year_joined['last_price']-1)*100\n",
    "\n",
    "year_joined.plot(y = ['last_price_spb_center', 'last_price'], style='o-')\n",
    "year_joined\n",
    "\n",
    "#df.groupby(['state','gender']).size().unstack().plot(kind='bar',stacked=True)"
   ]
  },
  {
   "cell_type": "markdown",
   "metadata": {},
   "source": [
    "Ситуация в центре СПб схожая с общей базой."
   ]
  },
  {
   "cell_type": "markdown",
   "metadata": {},
   "source": [
    "## Общий вывод"
   ]
  },
  {
   "cell_type": "markdown",
   "metadata": {},
   "source": [
    "Выводы исследования:\n",
    "\n",
    "- обьекты с общей площадью 40 м2 состаляют львинную долю в обьявлениях, по мере увеличения общей площади количество обьявлений падает.\n",
    "- медианная цена за м2 равна 95 т.р., количество обявлений симметрично снижается по мере отклонения от этой цены, как в большую, так и в меньшую сторону.\n",
    "- костяк обьявлений составляют однокомнатные, двухкомнатные и трехкомнатные квартиры и аппартаменты с высотой потолка 2.65.\n",
    "- Обычно продажа занимает 95 дней, при этом необычно долгой будет считаться продажа свыше 200 дней.\n",
    "- Общая площадь больше всего влияет на стоимость.\n",
    "- Цена на первом и последнем этажах ниже чем на других, самая низкая цена на первом этаже.\n",
    "- Максимальная цена выставляется по пятницам, минимальная по четвергам.\n",
    "- Цена начинает расти с июля по сентябрь далее идет спад по июнь.\n",
    "- После 2015 кода произошло падение цен и только в 2019 году цены востановились.\n",
    "- Были выявлены 10 населённых пунктов с наибольшим числом объявлений.\n",
    "- Среди этих населённых пунктов наиболее высокая цена за м2 в СПб, самая низкая в Выборге\n",
    "\n",
    "Выделен центр СПб это территория радиусом до 5 км от центра.\n",
    "\n",
    "Проведен сравнительный анализ основных параметров в центре СПб с общей базой:\n",
    "- Общая площадь в центре СПб в среднем на 30% больше.\n",
    "- Цена за м2 в центре СПб в среднем на 25% дороже.\n",
    "- медианные значения высоты потолков и количества комнат одинаковые\n",
    "\n",
    "Проверены зависимости среднй цены в центре СПб по основным параметрам и приведено сравнение с общей базой:\n",
    "- цена находится в прямой зависимости от числа комнат и схожа с картиной по всей базе.\n",
    "- Цена на первом и последнем этажах ниже чем на других, при это последний этаж в центре СПб стоит сравнительно дороже относительно общей базы (цены на первом и других этажах больше в центре СПб на 60%, на последнем на 80% в сравнение со всей базой).\n",
    "- Максимальная цена выставляется по воскресениям (по всей базе в пятницу), минимальная по четвергам.\n",
    "- Цена начинает расти с июня по сентябрь, в октябре спад далее постепенный подьем до апреля.\n",
    "- С 2015 года по 2019 наблюдается снижение цен."
   ]
  },
  {
   "cell_type": "markdown",
   "metadata": {},
   "source": [
    "## Чек-лист готовности проекта\n",
    "\n",
    "Поставьте 'x' в выполненных пунктах. Далее нажмите Shift+Enter."
   ]
  },
  {
   "cell_type": "markdown",
   "metadata": {},
   "source": [
    "- [x]  открыт файл\n",
    "- [x]  файлы изучены (выведены первые строки, метод `info()`)\n",
    "- [x]  определены пропущенные значения\n",
    "- [x]  заполнены пропущенные значения\n",
    "- [x]  есть пояснение, какие пропущенные значения обнаружены\n",
    "- [x]  изменены типы данных\n",
    "- [x]  есть пояснение, в каких столбцах изменены типы и почему\n",
    "- [x]  посчитано и добавлено в таблицу: цена квадратного метра\n",
    "- [x]  посчитано и добавлено в таблицу: день недели, месяц и год публикации объявления\n",
    "- [x]  посчитано и добавлено в таблицу: этаж квартиры; варианты — первый, последний, другой\n",
    "- [x]  посчитано и добавлено в таблицу: соотношение жилой и общей площади, а также отношение площади кухни к общей\n",
    "- [X]  изучены следующие параметры: площадь, цена, число комнат, высота потолков\n",
    "- [x]  построены гистограммы для каждого параметра\n",
    "- [x]  выполнено задание: «Изучите время продажи квартиры. Постройте гистограмму. Посчитайте среднее и медиану. Опишите, сколько обычно занимает продажа. Когда можно считать, что продажи прошли очень быстро, а когда необычно долго?»\n",
    "- [x]  выполнено задание: «Уберите редкие и выбивающиеся значения. Опишите, какие особенности обнаружили».\n",
    "- [x]  выполнено задание: «Какие факторы больше всего влияют на стоимость квартиры? Изучите, зависит ли цена от квадратного метра, числа комнат, этажа (первого или последнего), удалённости от центра. Также изучите зависимость от даты размещения: дня недели, месяца и года». \n",
    "- [x]  выполнено задание: «Выберите 10 населённых пунктов с наибольшим числом объявлений. Посчитайте среднюю цену квадратного метра в этих населённых пунктах. Выделите населённые пункты с самой высокой и низкой стоимостью жилья. Эти данные можно найти по имени в столбце `locality_name`».\n",
    "- [x]  выполнено задание: «Изучите предложения квартир: для каждой квартиры есть информация о расстоянии до центра. Выделите квартиры в Санкт-Петербурге (`locality_name`). Ваша задача — выяснить, какая область входит в центр. Создайте столбец с расстоянием до центра в километрах: округлите до целых значений. После этого посчитайте среднюю цену для каждого километра. Постройте график: он должен показывать, как цена зависит от удалённости от центра. Определите границу, где график сильно меняется — это и будет центральная зона».\n",
    "- [x]  выполнено задание: «Выделите сегмент квартир в центре. Проанализируйте эту территорию и изучите следующие параметры: площадь, цена, число комнат, высота потолков. Также выделите факторы, которые влияют на стоимость квартиры (число комнат, этаж, удалённость от центра, дата размещения объявления). Сделайте выводы. Отличаются ли они от общих выводов по всей базе?»\n",
    "- [x]  в каждом этапе есть выводы\n",
    "- [x]  есть общий вывод"
   ]
  }
 ],
 "metadata": {
  "ExecuteTimeLog": [
   {
    "duration": 531,
    "start_time": "2022-03-20T14:15:25.455Z"
   },
   {
    "duration": 86,
    "start_time": "2022-03-20T14:15:25.988Z"
   },
   {
    "duration": 13,
    "start_time": "2022-03-20T14:15:26.077Z"
   },
   {
    "duration": 81,
    "start_time": "2022-03-20T14:15:26.093Z"
   },
   {
    "duration": 0,
    "start_time": "2022-03-20T14:15:26.227Z"
   },
   {
    "duration": 0,
    "start_time": "2022-03-20T14:15:26.228Z"
   },
   {
    "duration": 0,
    "start_time": "2022-03-20T14:15:26.230Z"
   },
   {
    "duration": 0,
    "start_time": "2022-03-20T14:15:26.231Z"
   },
   {
    "duration": 0,
    "start_time": "2022-03-20T14:15:26.232Z"
   },
   {
    "duration": 0,
    "start_time": "2022-03-20T14:15:26.234Z"
   },
   {
    "duration": 0,
    "start_time": "2022-03-20T14:15:26.234Z"
   },
   {
    "duration": 0,
    "start_time": "2022-03-20T14:15:26.236Z"
   },
   {
    "duration": 0,
    "start_time": "2022-03-20T14:15:26.237Z"
   },
   {
    "duration": 0,
    "start_time": "2022-03-20T14:15:26.238Z"
   },
   {
    "duration": 0,
    "start_time": "2022-03-20T14:15:26.239Z"
   },
   {
    "duration": 0,
    "start_time": "2022-03-20T14:15:26.240Z"
   },
   {
    "duration": 0,
    "start_time": "2022-03-20T14:15:26.241Z"
   },
   {
    "duration": 0,
    "start_time": "2022-03-20T14:15:26.242Z"
   },
   {
    "duration": 0,
    "start_time": "2022-03-20T14:15:26.243Z"
   },
   {
    "duration": 0,
    "start_time": "2022-03-20T14:15:26.244Z"
   },
   {
    "duration": 0,
    "start_time": "2022-03-20T14:15:26.245Z"
   },
   {
    "duration": 0,
    "start_time": "2022-03-20T14:15:26.246Z"
   },
   {
    "duration": 0,
    "start_time": "2022-03-20T14:15:26.248Z"
   },
   {
    "duration": 0,
    "start_time": "2022-03-20T14:15:26.249Z"
   },
   {
    "duration": 0,
    "start_time": "2022-03-20T14:15:26.250Z"
   },
   {
    "duration": 0,
    "start_time": "2022-03-20T14:15:26.251Z"
   },
   {
    "duration": 0,
    "start_time": "2022-03-20T14:15:26.252Z"
   },
   {
    "duration": 0,
    "start_time": "2022-03-20T14:15:26.253Z"
   },
   {
    "duration": 0,
    "start_time": "2022-03-20T14:15:26.301Z"
   },
   {
    "duration": 0,
    "start_time": "2022-03-20T14:15:26.302Z"
   },
   {
    "duration": 0,
    "start_time": "2022-03-20T14:15:26.304Z"
   },
   {
    "duration": 0,
    "start_time": "2022-03-20T14:15:26.305Z"
   },
   {
    "duration": 0,
    "start_time": "2022-03-20T14:15:26.306Z"
   },
   {
    "duration": 0,
    "start_time": "2022-03-20T14:15:26.307Z"
   },
   {
    "duration": 0,
    "start_time": "2022-03-20T14:15:26.308Z"
   },
   {
    "duration": 0,
    "start_time": "2022-03-20T14:15:26.309Z"
   },
   {
    "duration": 0,
    "start_time": "2022-03-20T14:15:26.310Z"
   },
   {
    "duration": 0,
    "start_time": "2022-03-20T14:15:26.311Z"
   },
   {
    "duration": 0,
    "start_time": "2022-03-20T14:15:26.312Z"
   },
   {
    "duration": 0,
    "start_time": "2022-03-20T14:15:26.313Z"
   },
   {
    "duration": 0,
    "start_time": "2022-03-20T14:15:26.314Z"
   },
   {
    "duration": 0,
    "start_time": "2022-03-20T14:15:26.315Z"
   },
   {
    "duration": 0,
    "start_time": "2022-03-20T14:15:26.316Z"
   },
   {
    "duration": 0,
    "start_time": "2022-03-20T14:15:26.318Z"
   },
   {
    "duration": 0,
    "start_time": "2022-03-20T14:15:26.319Z"
   },
   {
    "duration": 0,
    "start_time": "2022-03-20T14:15:26.320Z"
   },
   {
    "duration": 0,
    "start_time": "2022-03-20T14:15:26.321Z"
   },
   {
    "duration": 0,
    "start_time": "2022-03-20T14:15:26.323Z"
   },
   {
    "duration": 0,
    "start_time": "2022-03-20T14:15:26.324Z"
   },
   {
    "duration": 0,
    "start_time": "2022-03-20T14:15:26.324Z"
   },
   {
    "duration": 0,
    "start_time": "2022-03-20T14:15:26.325Z"
   },
   {
    "duration": 0,
    "start_time": "2022-03-20T14:15:26.327Z"
   },
   {
    "duration": 0,
    "start_time": "2022-03-20T14:15:26.328Z"
   },
   {
    "duration": 0,
    "start_time": "2022-03-20T14:15:26.329Z"
   },
   {
    "duration": 0,
    "start_time": "2022-03-20T14:15:26.330Z"
   },
   {
    "duration": 0,
    "start_time": "2022-03-20T14:15:26.331Z"
   },
   {
    "duration": 0,
    "start_time": "2022-03-20T14:15:26.332Z"
   },
   {
    "duration": 0,
    "start_time": "2022-03-20T14:15:26.333Z"
   },
   {
    "duration": 0,
    "start_time": "2022-03-20T14:15:26.334Z"
   },
   {
    "duration": 0,
    "start_time": "2022-03-20T14:15:26.335Z"
   },
   {
    "duration": 0,
    "start_time": "2022-03-20T14:15:26.336Z"
   },
   {
    "duration": 0,
    "start_time": "2022-03-20T14:15:26.401Z"
   },
   {
    "duration": 0,
    "start_time": "2022-03-20T14:15:26.402Z"
   },
   {
    "duration": 0,
    "start_time": "2022-03-20T14:15:26.403Z"
   },
   {
    "duration": 0,
    "start_time": "2022-03-20T14:15:26.405Z"
   },
   {
    "duration": 0,
    "start_time": "2022-03-20T14:15:26.405Z"
   },
   {
    "duration": 0,
    "start_time": "2022-03-20T14:15:26.406Z"
   },
   {
    "duration": 0,
    "start_time": "2022-03-20T14:15:26.407Z"
   },
   {
    "duration": 0,
    "start_time": "2022-03-20T14:15:26.408Z"
   },
   {
    "duration": 0,
    "start_time": "2022-03-20T14:15:26.409Z"
   },
   {
    "duration": 0,
    "start_time": "2022-03-20T14:15:26.410Z"
   },
   {
    "duration": 0,
    "start_time": "2022-03-20T14:15:26.412Z"
   },
   {
    "duration": 0,
    "start_time": "2022-03-20T14:15:26.413Z"
   },
   {
    "duration": 0,
    "start_time": "2022-03-20T14:15:26.415Z"
   },
   {
    "duration": 0,
    "start_time": "2022-03-20T14:15:26.416Z"
   },
   {
    "duration": 0,
    "start_time": "2022-03-20T14:15:26.417Z"
   },
   {
    "duration": 0,
    "start_time": "2022-03-20T14:15:26.419Z"
   },
   {
    "duration": 0,
    "start_time": "2022-03-20T14:15:26.420Z"
   },
   {
    "duration": 0,
    "start_time": "2022-03-20T14:15:26.421Z"
   },
   {
    "duration": 559,
    "start_time": "2022-03-20T14:16:10.330Z"
   },
   {
    "duration": 85,
    "start_time": "2022-03-20T14:16:10.891Z"
   },
   {
    "duration": 15,
    "start_time": "2022-03-20T14:16:10.977Z"
   },
   {
    "duration": 114,
    "start_time": "2022-03-20T14:16:11.000Z"
   },
   {
    "duration": 60,
    "start_time": "2022-03-20T14:16:11.115Z"
   },
   {
    "duration": 73,
    "start_time": "2022-03-20T14:16:11.177Z"
   },
   {
    "duration": 5,
    "start_time": "2022-03-20T14:16:11.252Z"
   },
   {
    "duration": 11,
    "start_time": "2022-03-20T14:16:11.258Z"
   },
   {
    "duration": 8,
    "start_time": "2022-03-20T14:16:11.271Z"
   },
   {
    "duration": 94,
    "start_time": "2022-03-20T14:16:11.282Z"
   },
   {
    "duration": 17,
    "start_time": "2022-03-20T14:16:11.378Z"
   },
   {
    "duration": 66,
    "start_time": "2022-03-20T14:16:11.400Z"
   },
   {
    "duration": 14,
    "start_time": "2022-03-20T14:16:11.468Z"
   },
   {
    "duration": 22,
    "start_time": "2022-03-20T14:16:11.483Z"
   },
   {
    "duration": 13,
    "start_time": "2022-03-20T14:16:11.507Z"
   },
   {
    "duration": 10,
    "start_time": "2022-03-20T14:16:11.522Z"
   },
   {
    "duration": 10,
    "start_time": "2022-03-20T14:16:11.535Z"
   },
   {
    "duration": 554,
    "start_time": "2022-03-20T14:16:11.547Z"
   },
   {
    "duration": 10,
    "start_time": "2022-03-20T14:16:12.103Z"
   },
   {
    "duration": 7,
    "start_time": "2022-03-20T14:16:12.115Z"
   },
   {
    "duration": 17,
    "start_time": "2022-03-20T14:16:12.124Z"
   },
   {
    "duration": 7,
    "start_time": "2022-03-20T14:16:12.143Z"
   },
   {
    "duration": 24,
    "start_time": "2022-03-20T14:16:12.152Z"
   },
   {
    "duration": 36,
    "start_time": "2022-03-20T14:16:12.178Z"
   },
   {
    "duration": 4,
    "start_time": "2022-03-20T14:16:12.217Z"
   },
   {
    "duration": 19,
    "start_time": "2022-03-20T14:16:12.223Z"
   },
   {
    "duration": 318,
    "start_time": "2022-03-20T14:16:12.243Z"
   },
   {
    "duration": 6,
    "start_time": "2022-03-20T14:16:12.567Z"
   },
   {
    "duration": 26,
    "start_time": "2022-03-20T14:16:12.575Z"
   },
   {
    "duration": 16,
    "start_time": "2022-03-20T14:16:12.603Z"
   },
   {
    "duration": 134,
    "start_time": "2022-03-20T14:16:12.621Z"
   },
   {
    "duration": 145,
    "start_time": "2022-03-20T14:16:12.758Z"
   },
   {
    "duration": 9,
    "start_time": "2022-03-20T14:16:12.904Z"
   },
   {
    "duration": 17,
    "start_time": "2022-03-20T14:16:12.915Z"
   },
   {
    "duration": 149,
    "start_time": "2022-03-20T14:16:12.934Z"
   },
   {
    "duration": 201,
    "start_time": "2022-03-20T14:16:13.085Z"
   },
   {
    "duration": 19,
    "start_time": "2022-03-20T14:16:13.288Z"
   },
   {
    "duration": 32,
    "start_time": "2022-03-20T14:16:13.309Z"
   },
   {
    "duration": 24,
    "start_time": "2022-03-20T14:16:13.343Z"
   },
   {
    "duration": 31,
    "start_time": "2022-03-20T14:16:13.369Z"
   },
   {
    "duration": 22,
    "start_time": "2022-03-20T14:16:13.403Z"
   },
   {
    "duration": 158,
    "start_time": "2022-03-20T14:16:13.427Z"
   },
   {
    "duration": 15,
    "start_time": "2022-03-20T14:16:13.587Z"
   },
   {
    "duration": 15,
    "start_time": "2022-03-20T14:16:13.603Z"
   },
   {
    "duration": 223,
    "start_time": "2022-03-20T14:16:13.620Z"
   },
   {
    "duration": 11,
    "start_time": "2022-03-20T14:16:13.844Z"
   },
   {
    "duration": 9,
    "start_time": "2022-03-20T14:16:13.857Z"
   },
   {
    "duration": 39,
    "start_time": "2022-03-20T14:16:13.868Z"
   },
   {
    "duration": 256,
    "start_time": "2022-03-20T14:16:13.910Z"
   },
   {
    "duration": 9,
    "start_time": "2022-03-20T14:16:14.167Z"
   },
   {
    "duration": 23,
    "start_time": "2022-03-20T14:16:14.178Z"
   },
   {
    "duration": 13,
    "start_time": "2022-03-20T14:16:14.203Z"
   },
   {
    "duration": 16,
    "start_time": "2022-03-20T14:16:14.218Z"
   },
   {
    "duration": 18,
    "start_time": "2022-03-20T14:16:14.236Z"
   },
   {
    "duration": 39,
    "start_time": "2022-03-20T14:16:14.256Z"
   },
   {
    "duration": 3285,
    "start_time": "2022-03-20T14:16:14.297Z"
   },
   {
    "duration": 167,
    "start_time": "2022-03-20T14:16:17.584Z"
   },
   {
    "duration": 258,
    "start_time": "2022-03-20T14:16:17.753Z"
   },
   {
    "duration": 203,
    "start_time": "2022-03-20T14:16:18.013Z"
   },
   {
    "duration": 174,
    "start_time": "2022-03-20T14:16:18.217Z"
   },
   {
    "duration": 14,
    "start_time": "2022-03-20T14:16:18.392Z"
   },
   {
    "duration": 18,
    "start_time": "2022-03-20T14:16:18.408Z"
   },
   {
    "duration": 10,
    "start_time": "2022-03-20T14:16:18.427Z"
   },
   {
    "duration": 8,
    "start_time": "2022-03-20T14:16:18.439Z"
   },
   {
    "duration": 8,
    "start_time": "2022-03-20T14:16:18.448Z"
   },
   {
    "duration": 7,
    "start_time": "2022-03-20T14:16:18.458Z"
   },
   {
    "duration": 320,
    "start_time": "2022-03-20T14:16:18.467Z"
   },
   {
    "duration": 12,
    "start_time": "2022-03-20T14:16:18.789Z"
   },
   {
    "duration": 9,
    "start_time": "2022-03-20T14:16:18.803Z"
   },
   {
    "duration": 23,
    "start_time": "2022-03-20T14:16:18.814Z"
   },
   {
    "duration": 22,
    "start_time": "2022-03-20T14:16:18.839Z"
   },
   {
    "duration": 51,
    "start_time": "2022-03-20T14:16:18.863Z"
   },
   {
    "duration": 20,
    "start_time": "2022-03-20T14:16:18.916Z"
   },
   {
    "duration": 179,
    "start_time": "2022-03-20T14:16:18.938Z"
   },
   {
    "duration": 165,
    "start_time": "2022-03-20T14:16:19.119Z"
   },
   {
    "duration": 175,
    "start_time": "2022-03-20T14:16:19.286Z"
   },
   {
    "duration": 179,
    "start_time": "2022-03-20T14:16:19.463Z"
   },
   {
    "duration": 210,
    "start_time": "2022-03-20T14:16:19.645Z"
   },
   {
    "duration": 166,
    "start_time": "2022-03-20T14:16:19.858Z"
   },
   {
    "duration": 34,
    "start_time": "2022-03-20T14:30:52.322Z"
   },
   {
    "duration": 358,
    "start_time": "2022-03-21T03:54:40.656Z"
   },
   {
    "duration": 84,
    "start_time": "2022-03-21T03:54:41.016Z"
   },
   {
    "duration": 12,
    "start_time": "2022-03-21T03:54:41.101Z"
   },
   {
    "duration": 93,
    "start_time": "2022-03-21T03:54:41.115Z"
   },
   {
    "duration": 19,
    "start_time": "2022-03-21T03:54:41.209Z"
   },
   {
    "duration": 24,
    "start_time": "2022-03-21T03:54:41.229Z"
   },
   {
    "duration": 4,
    "start_time": "2022-03-21T03:54:41.254Z"
   },
   {
    "duration": 6,
    "start_time": "2022-03-21T03:54:41.259Z"
   },
   {
    "duration": 7,
    "start_time": "2022-03-21T03:54:41.266Z"
   },
   {
    "duration": 79,
    "start_time": "2022-03-21T03:54:41.275Z"
   },
   {
    "duration": 13,
    "start_time": "2022-03-21T03:54:41.355Z"
   },
   {
    "duration": 85,
    "start_time": "2022-03-21T03:54:41.369Z"
   },
   {
    "duration": 9,
    "start_time": "2022-03-21T03:54:41.455Z"
   },
   {
    "duration": 4,
    "start_time": "2022-03-21T03:54:41.465Z"
   },
   {
    "duration": 10,
    "start_time": "2022-03-21T03:54:41.470Z"
   },
   {
    "duration": 21,
    "start_time": "2022-03-21T03:54:41.482Z"
   },
   {
    "duration": 8,
    "start_time": "2022-03-21T03:54:41.504Z"
   },
   {
    "duration": 632,
    "start_time": "2022-03-21T03:54:41.514Z"
   },
   {
    "duration": 10,
    "start_time": "2022-03-21T03:54:42.147Z"
   },
   {
    "duration": 7,
    "start_time": "2022-03-21T03:54:45.416Z"
   },
   {
    "duration": 7,
    "start_time": "2022-03-21T03:54:51.139Z"
   },
   {
    "duration": 6,
    "start_time": "2022-03-21T03:55:55.171Z"
   },
   {
    "duration": 12,
    "start_time": "2022-03-21T04:00:13.296Z"
   },
   {
    "duration": 12,
    "start_time": "2022-03-21T04:03:11.310Z"
   },
   {
    "duration": 9,
    "start_time": "2022-03-21T04:08:02.634Z"
   },
   {
    "duration": 16,
    "start_time": "2022-03-21T04:08:21.622Z"
   },
   {
    "duration": 10,
    "start_time": "2022-03-21T04:29:15.272Z"
   },
   {
    "duration": 9,
    "start_time": "2022-03-21T04:38:09.867Z"
   },
   {
    "duration": 10,
    "start_time": "2022-03-21T04:38:19.166Z"
   },
   {
    "duration": 9,
    "start_time": "2022-03-21T04:38:29.308Z"
   },
   {
    "duration": 10,
    "start_time": "2022-03-21T04:39:20.209Z"
   },
   {
    "duration": 83,
    "start_time": "2022-03-21T04:39:37.088Z"
   },
   {
    "duration": 21,
    "start_time": "2022-03-21T04:40:13.652Z"
   },
   {
    "duration": 12,
    "start_time": "2022-03-21T04:41:16.623Z"
   },
   {
    "duration": 9,
    "start_time": "2022-03-21T04:41:24.740Z"
   },
   {
    "duration": 11,
    "start_time": "2022-03-21T04:44:15.409Z"
   },
   {
    "duration": 13,
    "start_time": "2022-03-21T04:47:41.534Z"
   },
   {
    "duration": 6,
    "start_time": "2022-03-21T04:48:17.649Z"
   },
   {
    "duration": 4,
    "start_time": "2022-03-21T04:48:26.127Z"
   },
   {
    "duration": 4,
    "start_time": "2022-03-21T04:48:33.248Z"
   },
   {
    "duration": 7,
    "start_time": "2022-03-21T04:49:53.618Z"
   },
   {
    "duration": 8,
    "start_time": "2022-03-21T04:49:54.505Z"
   },
   {
    "duration": 2,
    "start_time": "2022-03-21T04:51:54.558Z"
   },
   {
    "duration": 83,
    "start_time": "2022-03-21T04:51:54.573Z"
   },
   {
    "duration": 6,
    "start_time": "2022-03-21T04:51:54.658Z"
   },
   {
    "duration": 103,
    "start_time": "2022-03-21T04:51:54.665Z"
   },
   {
    "duration": 19,
    "start_time": "2022-03-21T04:51:54.770Z"
   },
   {
    "duration": 32,
    "start_time": "2022-03-21T04:51:54.791Z"
   },
   {
    "duration": 4,
    "start_time": "2022-03-21T04:51:54.825Z"
   },
   {
    "duration": 6,
    "start_time": "2022-03-21T04:51:54.830Z"
   },
   {
    "duration": 4,
    "start_time": "2022-03-21T04:51:54.837Z"
   },
   {
    "duration": 77,
    "start_time": "2022-03-21T04:51:54.842Z"
   },
   {
    "duration": 13,
    "start_time": "2022-03-21T04:51:54.922Z"
   },
   {
    "duration": 69,
    "start_time": "2022-03-21T04:51:54.936Z"
   },
   {
    "duration": 8,
    "start_time": "2022-03-21T04:51:55.006Z"
   },
   {
    "duration": 3,
    "start_time": "2022-03-21T04:51:55.016Z"
   },
   {
    "duration": 9,
    "start_time": "2022-03-21T04:51:55.020Z"
   },
   {
    "duration": 4,
    "start_time": "2022-03-21T04:51:55.031Z"
   },
   {
    "duration": 11,
    "start_time": "2022-03-21T04:51:55.036Z"
   },
   {
    "duration": 228,
    "start_time": "2022-03-21T04:51:55.048Z"
   },
   {
    "duration": 7,
    "start_time": "2022-03-21T04:51:55.278Z"
   },
   {
    "duration": 16,
    "start_time": "2022-03-21T04:51:55.287Z"
   },
   {
    "duration": 8,
    "start_time": "2022-03-21T04:51:55.304Z"
   },
   {
    "duration": 9,
    "start_time": "2022-03-21T04:51:55.313Z"
   },
   {
    "duration": 8,
    "start_time": "2022-03-21T04:51:55.323Z"
   },
   {
    "duration": 74,
    "start_time": "2022-03-21T04:51:55.332Z"
   },
   {
    "duration": 17,
    "start_time": "2022-03-21T04:51:55.408Z"
   },
   {
    "duration": 3,
    "start_time": "2022-03-21T04:51:55.427Z"
   },
   {
    "duration": 13,
    "start_time": "2022-03-21T04:51:55.431Z"
   },
   {
    "duration": 279,
    "start_time": "2022-03-21T04:51:55.445Z"
   },
   {
    "duration": 4,
    "start_time": "2022-03-21T04:51:55.727Z"
   },
   {
    "duration": 8,
    "start_time": "2022-03-21T04:52:10.004Z"
   },
   {
    "duration": 15,
    "start_time": "2022-03-21T04:52:11.539Z"
   },
   {
    "duration": 99,
    "start_time": "2022-03-21T04:52:13.565Z"
   },
   {
    "duration": 112,
    "start_time": "2022-03-21T04:52:14.526Z"
   },
   {
    "duration": 115,
    "start_time": "2022-03-21T04:55:53.854Z"
   },
   {
    "duration": 119,
    "start_time": "2022-03-21T04:57:10.923Z"
   },
   {
    "duration": 116,
    "start_time": "2022-03-21T05:04:25.095Z"
   },
   {
    "duration": 3,
    "start_time": "2022-03-21T05:08:05.575Z"
   },
   {
    "duration": 74,
    "start_time": "2022-03-21T05:08:05.587Z"
   },
   {
    "duration": 7,
    "start_time": "2022-03-21T05:08:05.663Z"
   },
   {
    "duration": 108,
    "start_time": "2022-03-21T05:08:05.671Z"
   },
   {
    "duration": 28,
    "start_time": "2022-03-21T05:08:05.782Z"
   },
   {
    "duration": 25,
    "start_time": "2022-03-21T05:08:05.812Z"
   },
   {
    "duration": 4,
    "start_time": "2022-03-21T05:08:05.839Z"
   },
   {
    "duration": 6,
    "start_time": "2022-03-21T05:08:05.844Z"
   },
   {
    "duration": 4,
    "start_time": "2022-03-21T05:08:05.851Z"
   },
   {
    "duration": 81,
    "start_time": "2022-03-21T05:08:05.857Z"
   },
   {
    "duration": 15,
    "start_time": "2022-03-21T05:08:05.940Z"
   },
   {
    "duration": 75,
    "start_time": "2022-03-21T05:08:05.957Z"
   },
   {
    "duration": 9,
    "start_time": "2022-03-21T05:08:06.034Z"
   },
   {
    "duration": 4,
    "start_time": "2022-03-21T05:08:06.045Z"
   },
   {
    "duration": 11,
    "start_time": "2022-03-21T05:08:06.050Z"
   },
   {
    "duration": 5,
    "start_time": "2022-03-21T05:08:06.062Z"
   },
   {
    "duration": 33,
    "start_time": "2022-03-21T05:08:06.068Z"
   },
   {
    "duration": 227,
    "start_time": "2022-03-21T05:08:06.103Z"
   },
   {
    "duration": 8,
    "start_time": "2022-03-21T05:08:06.332Z"
   },
   {
    "duration": 8,
    "start_time": "2022-03-21T05:08:06.342Z"
   },
   {
    "duration": 4,
    "start_time": "2022-03-21T05:08:06.352Z"
   },
   {
    "duration": 10,
    "start_time": "2022-03-21T05:08:06.358Z"
   },
   {
    "duration": 34,
    "start_time": "2022-03-21T05:08:06.369Z"
   },
   {
    "duration": 14,
    "start_time": "2022-03-21T05:08:06.405Z"
   },
   {
    "duration": 19,
    "start_time": "2022-03-21T05:08:06.421Z"
   },
   {
    "duration": 3,
    "start_time": "2022-03-21T05:08:06.442Z"
   },
   {
    "duration": 15,
    "start_time": "2022-03-21T05:08:06.447Z"
   },
   {
    "duration": 372,
    "start_time": "2022-03-21T05:08:06.464Z"
   },
   {
    "duration": 5,
    "start_time": "2022-03-21T05:08:06.840Z"
   },
   {
    "duration": 11,
    "start_time": "2022-03-21T05:08:06.846Z"
   },
   {
    "duration": 17,
    "start_time": "2022-03-21T05:08:06.859Z"
   },
   {
    "duration": 138,
    "start_time": "2022-03-21T05:08:06.878Z"
   },
   {
    "duration": 140,
    "start_time": "2022-03-21T05:08:07.018Z"
   },
   {
    "duration": 9,
    "start_time": "2022-03-21T05:08:07.159Z"
   },
   {
    "duration": 31,
    "start_time": "2022-03-21T05:08:07.170Z"
   },
   {
    "duration": 130,
    "start_time": "2022-03-21T05:08:07.203Z"
   },
   {
    "duration": 178,
    "start_time": "2022-03-21T05:08:07.335Z"
   },
   {
    "duration": 11,
    "start_time": "2022-03-21T05:08:07.515Z"
   },
   {
    "duration": 8,
    "start_time": "2022-03-21T05:08:07.528Z"
   },
   {
    "duration": 7,
    "start_time": "2022-03-21T05:08:07.538Z"
   },
   {
    "duration": 9,
    "start_time": "2022-03-21T05:08:07.546Z"
   },
   {
    "duration": 51,
    "start_time": "2022-03-21T05:08:07.556Z"
   },
   {
    "duration": 146,
    "start_time": "2022-03-21T05:08:07.609Z"
   },
   {
    "duration": 8,
    "start_time": "2022-03-21T05:08:07.757Z"
   },
   {
    "duration": 15,
    "start_time": "2022-03-21T05:08:07.766Z"
   },
   {
    "duration": 212,
    "start_time": "2022-03-21T05:08:07.783Z"
   },
   {
    "duration": 12,
    "start_time": "2022-03-21T05:08:08.000Z"
   },
   {
    "duration": 3,
    "start_time": "2022-03-21T05:08:35.567Z"
   },
   {
    "duration": 74,
    "start_time": "2022-03-21T05:08:35.586Z"
   },
   {
    "duration": 6,
    "start_time": "2022-03-21T05:08:35.662Z"
   },
   {
    "duration": 106,
    "start_time": "2022-03-21T05:08:35.670Z"
   },
   {
    "duration": 34,
    "start_time": "2022-03-21T05:08:35.778Z"
   },
   {
    "duration": 28,
    "start_time": "2022-03-21T05:08:35.813Z"
   },
   {
    "duration": 4,
    "start_time": "2022-03-21T05:08:35.843Z"
   },
   {
    "duration": 7,
    "start_time": "2022-03-21T05:08:35.849Z"
   },
   {
    "duration": 5,
    "start_time": "2022-03-21T05:08:35.858Z"
   },
   {
    "duration": 80,
    "start_time": "2022-03-21T05:08:35.864Z"
   },
   {
    "duration": 14,
    "start_time": "2022-03-21T05:08:35.947Z"
   },
   {
    "duration": 86,
    "start_time": "2022-03-21T05:08:35.963Z"
   },
   {
    "duration": 9,
    "start_time": "2022-03-21T05:08:36.051Z"
   },
   {
    "duration": 26,
    "start_time": "2022-03-21T05:08:36.062Z"
   },
   {
    "duration": 17,
    "start_time": "2022-03-21T05:08:36.090Z"
   },
   {
    "duration": 6,
    "start_time": "2022-03-21T05:08:36.108Z"
   },
   {
    "duration": 30,
    "start_time": "2022-03-21T05:08:36.115Z"
   },
   {
    "duration": 230,
    "start_time": "2022-03-21T05:08:36.147Z"
   },
   {
    "duration": 8,
    "start_time": "2022-03-21T05:08:36.379Z"
   },
   {
    "duration": 6,
    "start_time": "2022-03-21T05:08:36.401Z"
   },
   {
    "duration": 5,
    "start_time": "2022-03-21T05:08:36.409Z"
   },
   {
    "duration": 10,
    "start_time": "2022-03-21T05:08:36.416Z"
   },
   {
    "duration": 9,
    "start_time": "2022-03-21T05:08:36.428Z"
   },
   {
    "duration": 14,
    "start_time": "2022-03-21T05:08:36.438Z"
   },
   {
    "duration": 53,
    "start_time": "2022-03-21T05:08:36.454Z"
   },
   {
    "duration": 4,
    "start_time": "2022-03-21T05:08:36.510Z"
   },
   {
    "duration": 16,
    "start_time": "2022-03-21T05:08:36.516Z"
   },
   {
    "duration": 372,
    "start_time": "2022-03-21T05:08:36.534Z"
   },
   {
    "duration": 5,
    "start_time": "2022-03-21T05:08:36.909Z"
   },
   {
    "duration": 11,
    "start_time": "2022-03-21T05:08:36.915Z"
   },
   {
    "duration": 16,
    "start_time": "2022-03-21T05:08:36.927Z"
   },
   {
    "duration": 123,
    "start_time": "2022-03-21T05:08:36.944Z"
   },
   {
    "duration": 138,
    "start_time": "2022-03-21T05:08:37.069Z"
   },
   {
    "duration": 9,
    "start_time": "2022-03-21T05:08:37.209Z"
   },
   {
    "duration": 15,
    "start_time": "2022-03-21T05:08:37.220Z"
   },
   {
    "duration": 141,
    "start_time": "2022-03-21T05:08:37.237Z"
   },
   {
    "duration": 170,
    "start_time": "2022-03-21T05:08:37.379Z"
   },
   {
    "duration": 11,
    "start_time": "2022-03-21T05:08:37.550Z"
   },
   {
    "duration": 7,
    "start_time": "2022-03-21T05:08:37.563Z"
   },
   {
    "duration": 30,
    "start_time": "2022-03-21T05:08:37.572Z"
   },
   {
    "duration": 9,
    "start_time": "2022-03-21T05:08:37.603Z"
   },
   {
    "duration": 14,
    "start_time": "2022-03-21T05:08:37.613Z"
   },
   {
    "duration": 160,
    "start_time": "2022-03-21T05:08:37.628Z"
   },
   {
    "duration": 13,
    "start_time": "2022-03-21T05:08:37.790Z"
   },
   {
    "duration": 15,
    "start_time": "2022-03-21T05:08:37.804Z"
   },
   {
    "duration": 188,
    "start_time": "2022-03-21T05:08:37.820Z"
   },
   {
    "duration": 11,
    "start_time": "2022-03-21T05:08:38.010Z"
   },
   {
    "duration": 8,
    "start_time": "2022-03-21T05:08:38.023Z"
   },
   {
    "duration": 16,
    "start_time": "2022-03-21T05:08:38.033Z"
   },
   {
    "duration": 254,
    "start_time": "2022-03-21T05:08:38.051Z"
   },
   {
    "duration": 139,
    "start_time": "2022-03-21T05:20:07.689Z"
   },
   {
    "duration": 351,
    "start_time": "2022-03-21T05:21:29.717Z"
   },
   {
    "duration": 305,
    "start_time": "2022-03-21T05:28:13.110Z"
   },
   {
    "duration": 273,
    "start_time": "2022-03-21T05:29:19.555Z"
   },
   {
    "duration": 185,
    "start_time": "2022-03-21T05:40:28.847Z"
   },
   {
    "duration": 163,
    "start_time": "2022-03-21T05:40:56.878Z"
   },
   {
    "duration": 162,
    "start_time": "2022-03-21T05:41:13.205Z"
   },
   {
    "duration": 165,
    "start_time": "2022-03-21T05:41:54.248Z"
   },
   {
    "duration": 327,
    "start_time": "2022-03-21T05:42:23.774Z"
   },
   {
    "duration": 3623,
    "start_time": "2022-03-21T05:44:02.881Z"
   },
   {
    "duration": 178,
    "start_time": "2022-03-21T05:44:32.169Z"
   },
   {
    "duration": 469,
    "start_time": "2022-03-21T05:47:36.327Z"
   },
   {
    "duration": 310,
    "start_time": "2022-03-21T05:48:43.195Z"
   },
   {
    "duration": 260,
    "start_time": "2022-03-21T05:49:24.641Z"
   },
   {
    "duration": 182,
    "start_time": "2022-03-21T05:59:46.882Z"
   },
   {
    "duration": 2,
    "start_time": "2022-03-21T06:10:38.060Z"
   },
   {
    "duration": 76,
    "start_time": "2022-03-21T06:10:38.073Z"
   },
   {
    "duration": 6,
    "start_time": "2022-03-21T06:10:38.151Z"
   },
   {
    "duration": 109,
    "start_time": "2022-03-21T06:10:38.159Z"
   },
   {
    "duration": 35,
    "start_time": "2022-03-21T06:10:38.270Z"
   },
   {
    "duration": 24,
    "start_time": "2022-03-21T06:10:38.307Z"
   },
   {
    "duration": 4,
    "start_time": "2022-03-21T06:10:38.333Z"
   },
   {
    "duration": 6,
    "start_time": "2022-03-21T06:10:38.338Z"
   },
   {
    "duration": 4,
    "start_time": "2022-03-21T06:10:38.345Z"
   },
   {
    "duration": 72,
    "start_time": "2022-03-21T06:10:38.350Z"
   },
   {
    "duration": 13,
    "start_time": "2022-03-21T06:10:38.425Z"
   },
   {
    "duration": 74,
    "start_time": "2022-03-21T06:10:38.439Z"
   },
   {
    "duration": 8,
    "start_time": "2022-03-21T06:10:38.514Z"
   },
   {
    "duration": 4,
    "start_time": "2022-03-21T06:10:38.524Z"
   },
   {
    "duration": 8,
    "start_time": "2022-03-21T06:10:38.530Z"
   },
   {
    "duration": 4,
    "start_time": "2022-03-21T06:10:38.539Z"
   },
   {
    "duration": 8,
    "start_time": "2022-03-21T06:10:38.545Z"
   },
   {
    "duration": 233,
    "start_time": "2022-03-21T06:10:38.554Z"
   },
   {
    "duration": 13,
    "start_time": "2022-03-21T06:10:38.789Z"
   },
   {
    "duration": 7,
    "start_time": "2022-03-21T06:10:38.803Z"
   },
   {
    "duration": 4,
    "start_time": "2022-03-21T06:10:38.812Z"
   },
   {
    "duration": 10,
    "start_time": "2022-03-21T06:10:38.817Z"
   },
   {
    "duration": 9,
    "start_time": "2022-03-21T06:10:38.828Z"
   },
   {
    "duration": 12,
    "start_time": "2022-03-21T06:10:38.838Z"
   },
   {
    "duration": 52,
    "start_time": "2022-03-21T06:10:38.852Z"
   },
   {
    "duration": 3,
    "start_time": "2022-03-21T06:10:38.906Z"
   },
   {
    "duration": 14,
    "start_time": "2022-03-21T06:10:38.910Z"
   },
   {
    "duration": 264,
    "start_time": "2022-03-21T06:10:38.925Z"
   },
   {
    "duration": 6,
    "start_time": "2022-03-21T06:10:39.201Z"
   },
   {
    "duration": 9,
    "start_time": "2022-03-21T06:10:39.208Z"
   },
   {
    "duration": 14,
    "start_time": "2022-03-21T06:10:39.219Z"
   },
   {
    "duration": 114,
    "start_time": "2022-03-21T06:10:39.235Z"
   },
   {
    "duration": 122,
    "start_time": "2022-03-21T06:10:39.350Z"
   },
   {
    "duration": 9,
    "start_time": "2022-03-21T06:10:39.473Z"
   },
   {
    "duration": 27,
    "start_time": "2022-03-21T06:10:39.484Z"
   },
   {
    "duration": 229,
    "start_time": "2022-03-21T06:10:39.513Z"
   },
   {
    "duration": 172,
    "start_time": "2022-03-21T06:10:39.744Z"
   },
   {
    "duration": 12,
    "start_time": "2022-03-21T06:10:39.918Z"
   },
   {
    "duration": 8,
    "start_time": "2022-03-21T06:10:39.931Z"
   },
   {
    "duration": 7,
    "start_time": "2022-03-21T06:10:39.940Z"
   },
   {
    "duration": 8,
    "start_time": "2022-03-21T06:10:39.949Z"
   },
   {
    "duration": 14,
    "start_time": "2022-03-21T06:10:39.958Z"
   },
   {
    "duration": 164,
    "start_time": "2022-03-21T06:10:39.973Z"
   },
   {
    "duration": 9,
    "start_time": "2022-03-21T06:10:40.139Z"
   },
   {
    "duration": 15,
    "start_time": "2022-03-21T06:10:40.149Z"
   },
   {
    "duration": 178,
    "start_time": "2022-03-21T06:10:40.165Z"
   },
   {
    "duration": 11,
    "start_time": "2022-03-21T06:10:40.344Z"
   },
   {
    "duration": 8,
    "start_time": "2022-03-21T06:10:40.357Z"
   },
   {
    "duration": 35,
    "start_time": "2022-03-21T06:10:40.366Z"
   },
   {
    "duration": 228,
    "start_time": "2022-03-21T06:10:40.403Z"
   },
   {
    "duration": 8,
    "start_time": "2022-03-21T06:10:40.633Z"
   },
   {
    "duration": 9,
    "start_time": "2022-03-21T06:10:40.642Z"
   },
   {
    "duration": 10,
    "start_time": "2022-03-21T06:10:40.652Z"
   },
   {
    "duration": 8,
    "start_time": "2022-03-21T06:10:40.664Z"
   },
   {
    "duration": 29,
    "start_time": "2022-03-21T06:10:40.674Z"
   },
   {
    "duration": 14,
    "start_time": "2022-03-21T06:10:40.705Z"
   },
   {
    "duration": 2957,
    "start_time": "2022-03-21T06:10:40.720Z"
   },
   {
    "duration": 115,
    "start_time": "2022-03-21T06:10:43.679Z"
   },
   {
    "duration": 260,
    "start_time": "2022-03-21T06:10:43.800Z"
   },
   {
    "duration": 302,
    "start_time": "2022-03-21T06:10:44.062Z"
   },
   {
    "duration": 277,
    "start_time": "2022-03-21T06:10:44.366Z"
   },
   {
    "duration": 8,
    "start_time": "2022-03-21T06:10:44.644Z"
   },
   {
    "duration": 18,
    "start_time": "2022-03-21T06:10:44.653Z"
   },
   {
    "duration": 9,
    "start_time": "2022-03-21T06:10:44.673Z"
   },
   {
    "duration": 18,
    "start_time": "2022-03-21T06:10:44.684Z"
   },
   {
    "duration": 16,
    "start_time": "2022-03-21T06:10:44.704Z"
   },
   {
    "duration": 0,
    "start_time": "2022-03-21T06:10:44.721Z"
   },
   {
    "duration": 15,
    "start_time": "2022-03-21T06:11:03.104Z"
   },
   {
    "duration": 13,
    "start_time": "2022-03-21T06:13:25.462Z"
   },
   {
    "duration": 10,
    "start_time": "2022-03-21T06:13:50.660Z"
   },
   {
    "duration": 4,
    "start_time": "2022-03-21T06:13:57.419Z"
   },
   {
    "duration": 230,
    "start_time": "2022-03-21T06:13:58.847Z"
   },
   {
    "duration": 2,
    "start_time": "2022-03-21T06:14:09.719Z"
   },
   {
    "duration": 8,
    "start_time": "2022-03-21T06:14:10.750Z"
   },
   {
    "duration": 22,
    "start_time": "2022-03-21T06:14:13.605Z"
   },
   {
    "duration": 21,
    "start_time": "2022-03-21T06:14:31.089Z"
   },
   {
    "duration": 22,
    "start_time": "2022-03-21T06:16:17.785Z"
   },
   {
    "duration": 22,
    "start_time": "2022-03-21T06:16:31.840Z"
   },
   {
    "duration": 133,
    "start_time": "2022-03-21T06:16:57.644Z"
   },
   {
    "duration": 130,
    "start_time": "2022-03-21T06:17:13.638Z"
   },
   {
    "duration": 136,
    "start_time": "2022-03-21T06:17:17.913Z"
   },
   {
    "duration": 148,
    "start_time": "2022-03-21T06:17:21.349Z"
   },
   {
    "duration": 320,
    "start_time": "2022-03-21T06:17:24.648Z"
   },
   {
    "duration": 135,
    "start_time": "2022-03-21T06:17:25.314Z"
   },
   {
    "duration": 137,
    "start_time": "2022-03-21T06:22:08.422Z"
   },
   {
    "duration": 151,
    "start_time": "2022-03-21T06:23:17.287Z"
   },
   {
    "duration": 152,
    "start_time": "2022-03-21T06:25:13.714Z"
   },
   {
    "duration": 163,
    "start_time": "2022-03-21T06:26:05.803Z"
   },
   {
    "duration": 150,
    "start_time": "2022-03-21T06:28:46.757Z"
   },
   {
    "duration": 163,
    "start_time": "2022-03-21T06:35:37.782Z"
   },
   {
    "duration": 158,
    "start_time": "2022-03-21T06:37:51.153Z"
   },
   {
    "duration": 173,
    "start_time": "2022-03-21T06:39:37.223Z"
   },
   {
    "duration": 148,
    "start_time": "2022-03-21T06:42:01.372Z"
   },
   {
    "duration": 146,
    "start_time": "2022-03-21T06:43:53.500Z"
   },
   {
    "duration": 287,
    "start_time": "2022-03-21T07:08:43.866Z"
   },
   {
    "duration": 142,
    "start_time": "2022-03-21T07:10:50.575Z"
   },
   {
    "duration": 137,
    "start_time": "2022-03-21T07:11:38.590Z"
   },
   {
    "duration": 147,
    "start_time": "2022-03-21T07:12:06.585Z"
   },
   {
    "duration": 144,
    "start_time": "2022-03-21T07:12:50.614Z"
   },
   {
    "duration": 133,
    "start_time": "2022-03-21T07:13:54.062Z"
   },
   {
    "duration": 128,
    "start_time": "2022-03-21T07:14:08.551Z"
   },
   {
    "duration": 139,
    "start_time": "2022-03-21T07:14:21.571Z"
   },
   {
    "duration": 189,
    "start_time": "2022-03-21T07:19:22.251Z"
   },
   {
    "duration": 188,
    "start_time": "2022-03-21T07:19:37.065Z"
   },
   {
    "duration": 333,
    "start_time": "2022-03-21T07:40:36.825Z"
   },
   {
    "duration": 6,
    "start_time": "2022-03-21T07:43:28.079Z"
   },
   {
    "duration": 10,
    "start_time": "2022-03-21T07:44:49.306Z"
   },
   {
    "duration": 9,
    "start_time": "2022-03-21T07:45:03.718Z"
   },
   {
    "duration": 10,
    "start_time": "2022-03-21T07:45:18.213Z"
   },
   {
    "duration": 14,
    "start_time": "2022-03-21T07:45:55.827Z"
   },
   {
    "duration": 3,
    "start_time": "2022-03-21T07:59:41.064Z"
   },
   {
    "duration": 72,
    "start_time": "2022-03-21T07:59:41.075Z"
   },
   {
    "duration": 5,
    "start_time": "2022-03-21T07:59:41.149Z"
   },
   {
    "duration": 128,
    "start_time": "2022-03-21T07:59:41.156Z"
   },
   {
    "duration": 20,
    "start_time": "2022-03-21T07:59:41.302Z"
   },
   {
    "duration": 28,
    "start_time": "2022-03-21T07:59:41.323Z"
   },
   {
    "duration": 4,
    "start_time": "2022-03-21T07:59:41.352Z"
   },
   {
    "duration": 6,
    "start_time": "2022-03-21T07:59:41.358Z"
   },
   {
    "duration": 4,
    "start_time": "2022-03-21T07:59:41.365Z"
   },
   {
    "duration": 51,
    "start_time": "2022-03-21T07:59:41.401Z"
   },
   {
    "duration": 16,
    "start_time": "2022-03-21T07:59:41.455Z"
   },
   {
    "duration": 83,
    "start_time": "2022-03-21T07:59:41.473Z"
   },
   {
    "duration": 7,
    "start_time": "2022-03-21T07:59:41.558Z"
   },
   {
    "duration": 3,
    "start_time": "2022-03-21T07:59:41.567Z"
   },
   {
    "duration": 9,
    "start_time": "2022-03-21T07:59:41.572Z"
   },
   {
    "duration": 5,
    "start_time": "2022-03-21T07:59:41.601Z"
   },
   {
    "duration": 8,
    "start_time": "2022-03-21T07:59:41.607Z"
   },
   {
    "duration": 235,
    "start_time": "2022-03-21T07:59:41.617Z"
   },
   {
    "duration": 8,
    "start_time": "2022-03-21T07:59:41.854Z"
   },
   {
    "duration": 492,
    "start_time": "2022-03-21T07:59:41.864Z"
   },
   {
    "duration": 28,
    "start_time": "2022-03-21T07:59:42.358Z"
   },
   {
    "duration": 3,
    "start_time": "2022-03-21T07:59:42.400Z"
   },
   {
    "duration": 11,
    "start_time": "2022-03-21T07:59:42.405Z"
   },
   {
    "duration": 10,
    "start_time": "2022-03-21T07:59:42.417Z"
   },
   {
    "duration": 16,
    "start_time": "2022-03-21T07:59:42.428Z"
   },
   {
    "duration": 23,
    "start_time": "2022-03-21T07:59:42.446Z"
   },
   {
    "duration": 33,
    "start_time": "2022-03-21T07:59:42.470Z"
   },
   {
    "duration": 14,
    "start_time": "2022-03-21T07:59:42.505Z"
   },
   {
    "duration": 297,
    "start_time": "2022-03-21T07:59:42.524Z"
   },
   {
    "duration": 5,
    "start_time": "2022-03-21T07:59:42.823Z"
   },
   {
    "duration": 10,
    "start_time": "2022-03-21T07:59:42.830Z"
   },
   {
    "duration": 15,
    "start_time": "2022-03-21T07:59:42.841Z"
   },
   {
    "duration": 130,
    "start_time": "2022-03-21T07:59:42.858Z"
   },
   {
    "duration": 139,
    "start_time": "2022-03-21T07:59:42.990Z"
   },
   {
    "duration": 9,
    "start_time": "2022-03-21T07:59:43.130Z"
   },
   {
    "duration": 15,
    "start_time": "2022-03-21T07:59:43.141Z"
   },
   {
    "duration": 143,
    "start_time": "2022-03-21T07:59:43.158Z"
   },
   {
    "duration": 176,
    "start_time": "2022-03-21T07:59:43.303Z"
   },
   {
    "duration": 20,
    "start_time": "2022-03-21T07:59:43.481Z"
   },
   {
    "duration": 9,
    "start_time": "2022-03-21T07:59:43.502Z"
   },
   {
    "duration": 8,
    "start_time": "2022-03-21T07:59:43.513Z"
   },
   {
    "duration": 8,
    "start_time": "2022-03-21T07:59:43.523Z"
   },
   {
    "duration": 19,
    "start_time": "2022-03-21T07:59:43.533Z"
   },
   {
    "duration": 171,
    "start_time": "2022-03-21T07:59:43.554Z"
   },
   {
    "duration": 10,
    "start_time": "2022-03-21T07:59:43.727Z"
   },
   {
    "duration": 16,
    "start_time": "2022-03-21T07:59:43.738Z"
   },
   {
    "duration": 185,
    "start_time": "2022-03-21T07:59:43.755Z"
   },
   {
    "duration": 11,
    "start_time": "2022-03-21T07:59:43.942Z"
   },
   {
    "duration": 8,
    "start_time": "2022-03-21T07:59:43.954Z"
   },
   {
    "duration": 16,
    "start_time": "2022-03-21T07:59:43.964Z"
   },
   {
    "duration": 223,
    "start_time": "2022-03-21T07:59:44.000Z"
   },
   {
    "duration": 9,
    "start_time": "2022-03-21T07:59:44.224Z"
   },
   {
    "duration": 10,
    "start_time": "2022-03-21T07:59:44.234Z"
   },
   {
    "duration": 8,
    "start_time": "2022-03-21T07:59:44.245Z"
   },
   {
    "duration": 8,
    "start_time": "2022-03-21T07:59:44.255Z"
   },
   {
    "duration": 8,
    "start_time": "2022-03-21T07:59:44.264Z"
   },
   {
    "duration": 38,
    "start_time": "2022-03-21T07:59:44.274Z"
   },
   {
    "duration": 2862,
    "start_time": "2022-03-21T07:59:44.313Z"
   },
   {
    "duration": 138,
    "start_time": "2022-03-21T07:59:47.177Z"
   },
   {
    "duration": 270,
    "start_time": "2022-03-21T07:59:47.316Z"
   },
   {
    "duration": 314,
    "start_time": "2022-03-21T07:59:47.587Z"
   },
   {
    "duration": 252,
    "start_time": "2022-03-21T07:59:47.902Z"
   },
   {
    "duration": 6,
    "start_time": "2022-03-21T07:59:48.156Z"
   },
   {
    "duration": 31,
    "start_time": "2022-03-21T07:59:48.164Z"
   },
   {
    "duration": 23,
    "start_time": "2022-03-21T07:59:48.197Z"
   },
   {
    "duration": 20,
    "start_time": "2022-03-21T07:59:48.222Z"
   },
   {
    "duration": 22,
    "start_time": "2022-03-21T07:59:48.244Z"
   },
   {
    "duration": 15,
    "start_time": "2022-03-21T07:59:48.267Z"
   },
   {
    "duration": 243,
    "start_time": "2022-03-21T07:59:48.283Z"
   },
   {
    "duration": 3,
    "start_time": "2022-03-21T07:59:48.528Z"
   },
   {
    "duration": 16,
    "start_time": "2022-03-21T07:59:48.533Z"
   },
   {
    "duration": 52,
    "start_time": "2022-03-21T07:59:48.550Z"
   },
   {
    "duration": 25,
    "start_time": "2022-03-21T07:59:48.603Z"
   },
   {
    "duration": 20,
    "start_time": "2022-03-21T07:59:48.630Z"
   },
   {
    "duration": 21,
    "start_time": "2022-03-21T07:59:48.651Z"
   },
   {
    "duration": 155,
    "start_time": "2022-03-21T07:59:48.674Z"
   },
   {
    "duration": 141,
    "start_time": "2022-03-21T07:59:48.831Z"
   },
   {
    "duration": 132,
    "start_time": "2022-03-21T07:59:48.974Z"
   },
   {
    "duration": 155,
    "start_time": "2022-03-21T07:59:49.107Z"
   },
   {
    "duration": 177,
    "start_time": "2022-03-21T07:59:49.264Z"
   },
   {
    "duration": 145,
    "start_time": "2022-03-21T07:59:49.443Z"
   },
   {
    "duration": 14,
    "start_time": "2022-03-21T08:01:48.776Z"
   },
   {
    "duration": 2,
    "start_time": "2022-03-21T08:07:38.307Z"
   },
   {
    "duration": 71,
    "start_time": "2022-03-21T08:07:38.322Z"
   },
   {
    "duration": 6,
    "start_time": "2022-03-21T08:07:38.395Z"
   },
   {
    "duration": 113,
    "start_time": "2022-03-21T08:07:38.403Z"
   },
   {
    "duration": 18,
    "start_time": "2022-03-21T08:07:38.518Z"
   },
   {
    "duration": 28,
    "start_time": "2022-03-21T08:07:38.538Z"
   },
   {
    "duration": 4,
    "start_time": "2022-03-21T08:07:38.567Z"
   },
   {
    "duration": 29,
    "start_time": "2022-03-21T08:07:38.573Z"
   },
   {
    "duration": 5,
    "start_time": "2022-03-21T08:07:38.603Z"
   },
   {
    "duration": 55,
    "start_time": "2022-03-21T08:07:38.610Z"
   },
   {
    "duration": 15,
    "start_time": "2022-03-21T08:07:38.667Z"
   },
   {
    "duration": 66,
    "start_time": "2022-03-21T08:07:38.702Z"
   },
   {
    "duration": 30,
    "start_time": "2022-03-21T08:07:38.771Z"
   },
   {
    "duration": 5,
    "start_time": "2022-03-21T08:07:38.803Z"
   },
   {
    "duration": 9,
    "start_time": "2022-03-21T08:07:38.812Z"
   },
   {
    "duration": 5,
    "start_time": "2022-03-21T08:07:38.823Z"
   },
   {
    "duration": 9,
    "start_time": "2022-03-21T08:07:38.830Z"
   },
   {
    "duration": 241,
    "start_time": "2022-03-21T08:07:38.841Z"
   },
   {
    "duration": 18,
    "start_time": "2022-03-21T08:07:39.084Z"
   },
   {
    "duration": 254,
    "start_time": "2022-03-21T08:07:39.103Z"
   },
   {
    "duration": 12,
    "start_time": "2022-03-21T08:07:39.358Z"
   },
   {
    "duration": 10,
    "start_time": "2022-03-21T08:07:39.371Z"
   },
   {
    "duration": 31,
    "start_time": "2022-03-21T08:07:39.382Z"
   },
   {
    "duration": 20,
    "start_time": "2022-03-21T08:07:39.415Z"
   },
   {
    "duration": 4,
    "start_time": "2022-03-21T08:07:39.437Z"
   },
   {
    "duration": 19,
    "start_time": "2022-03-21T08:07:39.442Z"
   },
   {
    "duration": 291,
    "start_time": "2022-03-21T08:07:39.463Z"
   },
   {
    "duration": 6,
    "start_time": "2022-03-21T08:07:39.756Z"
   },
   {
    "duration": 10,
    "start_time": "2022-03-21T08:07:39.764Z"
   },
   {
    "duration": 32,
    "start_time": "2022-03-21T08:07:39.775Z"
   },
   {
    "duration": 106,
    "start_time": "2022-03-21T08:07:39.809Z"
   },
   {
    "duration": 125,
    "start_time": "2022-03-21T08:07:39.917Z"
   },
   {
    "duration": 8,
    "start_time": "2022-03-21T08:07:40.044Z"
   },
   {
    "duration": 16,
    "start_time": "2022-03-21T08:07:40.054Z"
   },
   {
    "duration": 366,
    "start_time": "2022-03-21T08:07:40.071Z"
   },
   {
    "duration": 176,
    "start_time": "2022-03-21T08:07:40.439Z"
   },
   {
    "duration": 12,
    "start_time": "2022-03-21T08:07:40.617Z"
   },
   {
    "duration": 9,
    "start_time": "2022-03-21T08:07:40.631Z"
   },
   {
    "duration": 9,
    "start_time": "2022-03-21T08:07:40.641Z"
   },
   {
    "duration": 8,
    "start_time": "2022-03-21T08:07:40.652Z"
   },
   {
    "duration": 47,
    "start_time": "2022-03-21T08:07:40.662Z"
   },
   {
    "duration": 152,
    "start_time": "2022-03-21T08:07:40.714Z"
   },
   {
    "duration": 9,
    "start_time": "2022-03-21T08:07:40.867Z"
   },
   {
    "duration": 28,
    "start_time": "2022-03-21T08:07:40.877Z"
   },
   {
    "duration": 172,
    "start_time": "2022-03-21T08:07:40.906Z"
   },
   {
    "duration": 25,
    "start_time": "2022-03-21T08:07:41.079Z"
   },
   {
    "duration": 8,
    "start_time": "2022-03-21T08:07:41.106Z"
   },
   {
    "duration": 16,
    "start_time": "2022-03-21T08:07:41.115Z"
   },
   {
    "duration": 226,
    "start_time": "2022-03-21T08:07:41.132Z"
   },
   {
    "duration": 8,
    "start_time": "2022-03-21T08:07:41.360Z"
   },
   {
    "duration": 10,
    "start_time": "2022-03-21T08:07:41.369Z"
   },
   {
    "duration": 25,
    "start_time": "2022-03-21T08:07:41.381Z"
   },
   {
    "duration": 9,
    "start_time": "2022-03-21T08:07:41.408Z"
   },
   {
    "duration": 13,
    "start_time": "2022-03-21T08:07:41.418Z"
   },
   {
    "duration": 13,
    "start_time": "2022-03-21T08:07:41.433Z"
   },
   {
    "duration": 2642,
    "start_time": "2022-03-21T08:07:41.448Z"
   },
   {
    "duration": 140,
    "start_time": "2022-03-21T08:07:44.092Z"
   },
   {
    "duration": 276,
    "start_time": "2022-03-21T08:07:44.233Z"
   },
   {
    "duration": 319,
    "start_time": "2022-03-21T08:07:44.511Z"
   },
   {
    "duration": 255,
    "start_time": "2022-03-21T08:07:44.831Z"
   },
   {
    "duration": 15,
    "start_time": "2022-03-21T08:07:45.087Z"
   },
   {
    "duration": 17,
    "start_time": "2022-03-21T08:07:45.104Z"
   },
   {
    "duration": 9,
    "start_time": "2022-03-21T08:07:45.123Z"
   },
   {
    "duration": 3,
    "start_time": "2022-03-21T08:07:45.134Z"
   },
   {
    "duration": 12,
    "start_time": "2022-03-21T08:07:45.139Z"
   },
   {
    "duration": 3,
    "start_time": "2022-03-21T08:07:45.153Z"
   },
   {
    "duration": 263,
    "start_time": "2022-03-21T08:07:45.158Z"
   },
   {
    "duration": 3,
    "start_time": "2022-03-21T08:07:45.422Z"
   },
   {
    "duration": 10,
    "start_time": "2022-03-21T08:07:45.426Z"
   },
   {
    "duration": 289,
    "start_time": "2022-03-21T08:07:45.437Z"
   },
   {
    "duration": 21,
    "start_time": "2022-03-21T08:07:45.728Z"
   },
   {
    "duration": 21,
    "start_time": "2022-03-21T08:07:45.751Z"
   },
   {
    "duration": 46,
    "start_time": "2022-03-21T08:07:45.774Z"
   },
   {
    "duration": 141,
    "start_time": "2022-03-21T08:07:45.821Z"
   },
   {
    "duration": 142,
    "start_time": "2022-03-21T08:07:45.964Z"
   },
   {
    "duration": 136,
    "start_time": "2022-03-21T08:07:46.107Z"
   },
   {
    "duration": 158,
    "start_time": "2022-03-21T08:07:46.244Z"
   },
   {
    "duration": 188,
    "start_time": "2022-03-21T08:07:46.404Z"
   },
   {
    "duration": 152,
    "start_time": "2022-03-21T08:07:46.594Z"
   },
   {
    "duration": 2,
    "start_time": "2022-03-21T08:10:25.703Z"
   },
   {
    "duration": 83,
    "start_time": "2022-03-21T08:10:25.717Z"
   },
   {
    "duration": 6,
    "start_time": "2022-03-21T08:10:25.802Z"
   },
   {
    "duration": 124,
    "start_time": "2022-03-21T08:10:25.810Z"
   },
   {
    "duration": 20,
    "start_time": "2022-03-21T08:10:25.936Z"
   },
   {
    "duration": 48,
    "start_time": "2022-03-21T08:10:25.958Z"
   },
   {
    "duration": 5,
    "start_time": "2022-03-21T08:10:26.008Z"
   },
   {
    "duration": 7,
    "start_time": "2022-03-21T08:10:26.015Z"
   },
   {
    "duration": 5,
    "start_time": "2022-03-21T08:10:26.024Z"
   },
   {
    "duration": 80,
    "start_time": "2022-03-21T08:10:26.031Z"
   },
   {
    "duration": 15,
    "start_time": "2022-03-21T08:10:26.113Z"
   },
   {
    "duration": 78,
    "start_time": "2022-03-21T08:10:26.130Z"
   },
   {
    "duration": 10,
    "start_time": "2022-03-21T08:10:26.210Z"
   },
   {
    "duration": 4,
    "start_time": "2022-03-21T08:10:26.222Z"
   },
   {
    "duration": 10,
    "start_time": "2022-03-21T08:10:26.230Z"
   },
   {
    "duration": 5,
    "start_time": "2022-03-21T08:10:26.241Z"
   },
   {
    "duration": 9,
    "start_time": "2022-03-21T08:10:26.248Z"
   },
   {
    "duration": 262,
    "start_time": "2022-03-21T08:10:26.259Z"
   },
   {
    "duration": 8,
    "start_time": "2022-03-21T08:10:26.523Z"
   },
   {
    "duration": 271,
    "start_time": "2022-03-21T08:10:26.533Z"
   },
   {
    "duration": 11,
    "start_time": "2022-03-21T08:10:26.806Z"
   },
   {
    "duration": 10,
    "start_time": "2022-03-21T08:10:26.819Z"
   },
   {
    "duration": 14,
    "start_time": "2022-03-21T08:10:26.831Z"
   },
   {
    "duration": 21,
    "start_time": "2022-03-21T08:10:26.847Z"
   },
   {
    "duration": 33,
    "start_time": "2022-03-21T08:10:26.870Z"
   },
   {
    "duration": 13,
    "start_time": "2022-03-21T08:10:26.906Z"
   },
   {
    "duration": 290,
    "start_time": "2022-03-21T08:10:26.921Z"
   },
   {
    "duration": 5,
    "start_time": "2022-03-21T08:10:27.213Z"
   },
   {
    "duration": 14,
    "start_time": "2022-03-21T08:10:27.219Z"
   },
   {
    "duration": 16,
    "start_time": "2022-03-21T08:10:27.235Z"
   },
   {
    "duration": 127,
    "start_time": "2022-03-21T08:10:27.252Z"
   },
   {
    "duration": 146,
    "start_time": "2022-03-21T08:10:27.381Z"
   },
   {
    "duration": 9,
    "start_time": "2022-03-21T08:10:27.529Z"
   },
   {
    "duration": 16,
    "start_time": "2022-03-21T08:10:27.540Z"
   },
   {
    "duration": 152,
    "start_time": "2022-03-21T08:10:27.558Z"
   },
   {
    "duration": 186,
    "start_time": "2022-03-21T08:10:27.712Z"
   },
   {
    "duration": 12,
    "start_time": "2022-03-21T08:10:27.901Z"
   },
   {
    "duration": 8,
    "start_time": "2022-03-21T08:10:27.914Z"
   },
   {
    "duration": 19,
    "start_time": "2022-03-21T08:10:27.924Z"
   },
   {
    "duration": 20,
    "start_time": "2022-03-21T08:10:27.944Z"
   },
   {
    "duration": 18,
    "start_time": "2022-03-21T08:10:27.965Z"
   },
   {
    "duration": 159,
    "start_time": "2022-03-21T08:10:27.988Z"
   },
   {
    "duration": 8,
    "start_time": "2022-03-21T08:10:28.149Z"
   },
   {
    "duration": 15,
    "start_time": "2022-03-21T08:10:28.159Z"
   },
   {
    "duration": 192,
    "start_time": "2022-03-21T08:10:28.176Z"
   },
   {
    "duration": 13,
    "start_time": "2022-03-21T08:10:28.370Z"
   },
   {
    "duration": 24,
    "start_time": "2022-03-21T08:10:28.385Z"
   },
   {
    "duration": 17,
    "start_time": "2022-03-21T08:10:28.410Z"
   },
   {
    "duration": 232,
    "start_time": "2022-03-21T08:10:28.429Z"
   },
   {
    "duration": 8,
    "start_time": "2022-03-21T08:10:28.663Z"
   },
   {
    "duration": 11,
    "start_time": "2022-03-21T08:10:28.673Z"
   },
   {
    "duration": 23,
    "start_time": "2022-03-21T08:10:28.686Z"
   },
   {
    "duration": 9,
    "start_time": "2022-03-21T08:10:28.711Z"
   },
   {
    "duration": 9,
    "start_time": "2022-03-21T08:10:28.722Z"
   },
   {
    "duration": 13,
    "start_time": "2022-03-21T08:10:28.732Z"
   },
   {
    "duration": 3013,
    "start_time": "2022-03-21T08:10:28.747Z"
   },
   {
    "duration": 140,
    "start_time": "2022-03-21T08:10:31.762Z"
   },
   {
    "duration": 276,
    "start_time": "2022-03-21T08:10:31.904Z"
   },
   {
    "duration": 343,
    "start_time": "2022-03-21T08:10:32.182Z"
   },
   {
    "duration": 286,
    "start_time": "2022-03-21T08:10:32.528Z"
   },
   {
    "duration": 8,
    "start_time": "2022-03-21T08:10:32.816Z"
   },
   {
    "duration": 17,
    "start_time": "2022-03-21T08:10:32.826Z"
   },
   {
    "duration": 11,
    "start_time": "2022-03-21T08:10:32.845Z"
   },
   {
    "duration": 3,
    "start_time": "2022-03-21T08:10:32.858Z"
   },
   {
    "duration": 42,
    "start_time": "2022-03-21T08:10:32.863Z"
   },
   {
    "duration": 4,
    "start_time": "2022-03-21T08:10:32.907Z"
   },
   {
    "duration": 271,
    "start_time": "2022-03-21T08:10:32.913Z"
   },
   {
    "duration": 2,
    "start_time": "2022-03-21T08:10:33.186Z"
   },
   {
    "duration": 16,
    "start_time": "2022-03-21T08:10:33.190Z"
   },
   {
    "duration": 23,
    "start_time": "2022-03-21T08:10:33.208Z"
   },
   {
    "duration": 22,
    "start_time": "2022-03-21T08:10:33.233Z"
   },
   {
    "duration": 45,
    "start_time": "2022-03-21T08:10:33.257Z"
   },
   {
    "duration": 24,
    "start_time": "2022-03-21T08:10:33.305Z"
   },
   {
    "duration": 155,
    "start_time": "2022-03-21T08:10:33.331Z"
   },
   {
    "duration": 147,
    "start_time": "2022-03-21T08:10:33.487Z"
   },
   {
    "duration": 139,
    "start_time": "2022-03-21T08:10:33.635Z"
   },
   {
    "duration": 170,
    "start_time": "2022-03-21T08:10:33.776Z"
   },
   {
    "duration": 181,
    "start_time": "2022-03-21T08:10:33.947Z"
   },
   {
    "duration": 142,
    "start_time": "2022-03-21T08:10:34.129Z"
   },
   {
    "duration": 123,
    "start_time": "2022-03-21T08:37:02.943Z"
   },
   {
    "duration": 119,
    "start_time": "2022-03-21T08:38:19.522Z"
   },
   {
    "duration": 18,
    "start_time": "2022-03-21T08:39:03.390Z"
   },
   {
    "duration": 6,
    "start_time": "2022-03-21T08:51:09.651Z"
   },
   {
    "duration": 5,
    "start_time": "2022-03-21T08:51:17.551Z"
   },
   {
    "duration": 2,
    "start_time": "2022-03-21T08:52:30.240Z"
   },
   {
    "duration": 83,
    "start_time": "2022-03-21T08:52:30.250Z"
   },
   {
    "duration": 7,
    "start_time": "2022-03-21T08:52:30.335Z"
   },
   {
    "duration": 110,
    "start_time": "2022-03-21T08:52:30.344Z"
   },
   {
    "duration": 20,
    "start_time": "2022-03-21T08:52:30.457Z"
   },
   {
    "duration": 42,
    "start_time": "2022-03-21T08:52:30.479Z"
   },
   {
    "duration": 14,
    "start_time": "2022-03-21T08:52:30.523Z"
   },
   {
    "duration": 29,
    "start_time": "2022-03-21T08:52:30.539Z"
   },
   {
    "duration": 26,
    "start_time": "2022-03-21T08:52:30.570Z"
   },
   {
    "duration": 74,
    "start_time": "2022-03-21T08:52:30.598Z"
   },
   {
    "duration": 16,
    "start_time": "2022-03-21T08:52:30.675Z"
   },
   {
    "duration": 75,
    "start_time": "2022-03-21T08:52:30.693Z"
   },
   {
    "duration": 9,
    "start_time": "2022-03-21T08:52:30.770Z"
   },
   {
    "duration": 8,
    "start_time": "2022-03-21T08:52:30.781Z"
   },
   {
    "duration": 10,
    "start_time": "2022-03-21T08:52:30.802Z"
   },
   {
    "duration": 10,
    "start_time": "2022-03-21T08:52:30.814Z"
   },
   {
    "duration": 22,
    "start_time": "2022-03-21T08:52:30.826Z"
   },
   {
    "duration": 239,
    "start_time": "2022-03-21T08:52:30.850Z"
   },
   {
    "duration": 17,
    "start_time": "2022-03-21T08:52:31.091Z"
   },
   {
    "duration": 264,
    "start_time": "2022-03-21T08:52:31.110Z"
   },
   {
    "duration": 255,
    "start_time": "2022-03-21T08:52:34.428Z"
   },
   {
    "duration": 5,
    "start_time": "2022-03-21T08:52:35.427Z"
   },
   {
    "duration": 3,
    "start_time": "2022-03-21T08:52:54.738Z"
   },
   {
    "duration": 68,
    "start_time": "2022-03-21T08:52:54.752Z"
   },
   {
    "duration": 6,
    "start_time": "2022-03-21T08:52:54.822Z"
   },
   {
    "duration": 114,
    "start_time": "2022-03-21T08:52:54.830Z"
   },
   {
    "duration": 19,
    "start_time": "2022-03-21T08:52:54.947Z"
   },
   {
    "duration": 50,
    "start_time": "2022-03-21T08:52:54.968Z"
   },
   {
    "duration": 4,
    "start_time": "2022-03-21T08:52:55.020Z"
   },
   {
    "duration": 9,
    "start_time": "2022-03-21T08:52:55.025Z"
   },
   {
    "duration": 4,
    "start_time": "2022-03-21T08:52:55.035Z"
   },
   {
    "duration": 68,
    "start_time": "2022-03-21T08:52:55.041Z"
   },
   {
    "duration": 14,
    "start_time": "2022-03-21T08:52:55.110Z"
   },
   {
    "duration": 77,
    "start_time": "2022-03-21T08:52:55.126Z"
   },
   {
    "duration": 9,
    "start_time": "2022-03-21T08:52:55.204Z"
   },
   {
    "duration": 4,
    "start_time": "2022-03-21T08:52:55.215Z"
   },
   {
    "duration": 10,
    "start_time": "2022-03-21T08:52:55.221Z"
   },
   {
    "duration": 4,
    "start_time": "2022-03-21T08:52:55.233Z"
   },
   {
    "duration": 8,
    "start_time": "2022-03-21T08:52:55.238Z"
   },
   {
    "duration": 247,
    "start_time": "2022-03-21T08:52:55.248Z"
   },
   {
    "duration": 11,
    "start_time": "2022-03-21T08:52:55.496Z"
   },
   {
    "duration": 275,
    "start_time": "2022-03-21T08:52:55.508Z"
   },
   {
    "duration": 6,
    "start_time": "2022-03-21T08:52:55.785Z"
   },
   {
    "duration": 19,
    "start_time": "2022-03-21T08:52:55.800Z"
   },
   {
    "duration": 10,
    "start_time": "2022-03-21T08:52:55.821Z"
   },
   {
    "duration": 19,
    "start_time": "2022-03-21T08:52:55.833Z"
   },
   {
    "duration": 22,
    "start_time": "2022-03-21T08:52:55.853Z"
   },
   {
    "duration": 26,
    "start_time": "2022-03-21T08:52:55.877Z"
   },
   {
    "duration": 13,
    "start_time": "2022-03-21T08:52:55.905Z"
   },
   {
    "duration": 310,
    "start_time": "2022-03-21T08:52:55.920Z"
   },
   {
    "duration": 6,
    "start_time": "2022-03-21T08:52:56.231Z"
   },
   {
    "duration": 24,
    "start_time": "2022-03-21T08:52:56.238Z"
   },
   {
    "duration": 25,
    "start_time": "2022-03-21T08:52:56.263Z"
   },
   {
    "duration": 113,
    "start_time": "2022-03-21T08:52:56.289Z"
   },
   {
    "duration": 130,
    "start_time": "2022-03-21T08:52:56.404Z"
   },
   {
    "duration": 10,
    "start_time": "2022-03-21T08:52:56.536Z"
   },
   {
    "duration": 29,
    "start_time": "2022-03-21T08:52:56.548Z"
   },
   {
    "duration": 129,
    "start_time": "2022-03-21T08:52:56.579Z"
   },
   {
    "duration": 177,
    "start_time": "2022-03-21T08:52:56.710Z"
   },
   {
    "duration": 18,
    "start_time": "2022-03-21T08:52:56.889Z"
   },
   {
    "duration": 12,
    "start_time": "2022-03-21T08:52:56.908Z"
   },
   {
    "duration": 18,
    "start_time": "2022-03-21T08:52:56.921Z"
   },
   {
    "duration": 22,
    "start_time": "2022-03-21T08:52:56.940Z"
   },
   {
    "duration": 19,
    "start_time": "2022-03-21T08:52:56.966Z"
   },
   {
    "duration": 143,
    "start_time": "2022-03-21T08:52:56.987Z"
   },
   {
    "duration": 9,
    "start_time": "2022-03-21T08:52:57.131Z"
   },
   {
    "duration": 24,
    "start_time": "2022-03-21T08:52:57.142Z"
   },
   {
    "duration": 193,
    "start_time": "2022-03-21T08:52:57.168Z"
   },
   {
    "duration": 10,
    "start_time": "2022-03-21T08:52:57.363Z"
   },
   {
    "duration": 15,
    "start_time": "2022-03-21T08:52:57.374Z"
   },
   {
    "duration": 25,
    "start_time": "2022-03-21T08:52:57.390Z"
   },
   {
    "duration": 233,
    "start_time": "2022-03-21T08:52:57.416Z"
   },
   {
    "duration": 9,
    "start_time": "2022-03-21T08:52:57.651Z"
   },
   {
    "duration": 11,
    "start_time": "2022-03-21T08:52:57.662Z"
   },
   {
    "duration": 30,
    "start_time": "2022-03-21T08:52:57.675Z"
   },
   {
    "duration": 10,
    "start_time": "2022-03-21T08:52:57.707Z"
   },
   {
    "duration": 10,
    "start_time": "2022-03-21T08:52:57.719Z"
   },
   {
    "duration": 14,
    "start_time": "2022-03-21T08:52:57.730Z"
   },
   {
    "duration": 3068,
    "start_time": "2022-03-21T08:52:57.746Z"
   },
   {
    "duration": 144,
    "start_time": "2022-03-21T08:53:00.816Z"
   },
   {
    "duration": 354,
    "start_time": "2022-03-21T08:53:00.962Z"
   },
   {
    "duration": 377,
    "start_time": "2022-03-21T08:53:01.318Z"
   },
   {
    "duration": 262,
    "start_time": "2022-03-21T08:53:01.700Z"
   },
   {
    "duration": 8,
    "start_time": "2022-03-21T08:53:01.963Z"
   },
   {
    "duration": 29,
    "start_time": "2022-03-21T08:53:01.973Z"
   },
   {
    "duration": 13,
    "start_time": "2022-03-21T08:53:02.004Z"
   },
   {
    "duration": 5,
    "start_time": "2022-03-21T08:53:02.018Z"
   },
   {
    "duration": 19,
    "start_time": "2022-03-21T08:53:02.025Z"
   },
   {
    "duration": 15,
    "start_time": "2022-03-21T08:53:02.045Z"
   },
   {
    "duration": 423,
    "start_time": "2022-03-21T08:53:02.062Z"
   },
   {
    "duration": 3,
    "start_time": "2022-03-21T08:53:02.487Z"
   },
   {
    "duration": 13,
    "start_time": "2022-03-21T08:53:02.500Z"
   },
   {
    "duration": 30,
    "start_time": "2022-03-21T08:53:02.515Z"
   },
   {
    "duration": 29,
    "start_time": "2022-03-21T08:53:02.547Z"
   },
   {
    "duration": 51,
    "start_time": "2022-03-21T08:53:02.577Z"
   },
   {
    "duration": 33,
    "start_time": "2022-03-21T08:53:02.630Z"
   },
   {
    "duration": 199,
    "start_time": "2022-03-21T08:53:02.665Z"
   },
   {
    "duration": 194,
    "start_time": "2022-03-21T08:53:02.866Z"
   },
   {
    "duration": 141,
    "start_time": "2022-03-21T08:53:03.062Z"
   },
   {
    "duration": 178,
    "start_time": "2022-03-21T08:53:03.205Z"
   },
   {
    "duration": 183,
    "start_time": "2022-03-21T08:53:03.385Z"
   },
   {
    "duration": 150,
    "start_time": "2022-03-21T08:53:03.570Z"
   },
   {
    "duration": 5,
    "start_time": "2022-03-21T08:53:58.809Z"
   },
   {
    "duration": 6,
    "start_time": "2022-03-21T08:56:23.564Z"
   },
   {
    "duration": 3,
    "start_time": "2022-03-21T08:56:30.317Z"
   },
   {
    "duration": 79,
    "start_time": "2022-03-21T08:56:30.330Z"
   },
   {
    "duration": 7,
    "start_time": "2022-03-21T08:56:30.412Z"
   },
   {
    "duration": 150,
    "start_time": "2022-03-21T08:56:30.420Z"
   },
   {
    "duration": 30,
    "start_time": "2022-03-21T08:56:30.573Z"
   },
   {
    "duration": 347,
    "start_time": "2022-03-21T08:56:30.605Z"
   },
   {
    "duration": 5,
    "start_time": "2022-03-21T08:56:30.954Z"
   },
   {
    "duration": 62,
    "start_time": "2022-03-21T08:56:30.961Z"
   },
   {
    "duration": 22,
    "start_time": "2022-03-21T08:56:31.025Z"
   },
   {
    "duration": 68,
    "start_time": "2022-03-21T08:56:31.049Z"
   },
   {
    "duration": 15,
    "start_time": "2022-03-21T08:56:31.120Z"
   },
   {
    "duration": 92,
    "start_time": "2022-03-21T08:56:31.137Z"
   },
   {
    "duration": 10,
    "start_time": "2022-03-21T08:56:31.230Z"
   },
   {
    "duration": 5,
    "start_time": "2022-03-21T08:56:31.242Z"
   },
   {
    "duration": 14,
    "start_time": "2022-03-21T08:56:31.249Z"
   },
   {
    "duration": 5,
    "start_time": "2022-03-21T08:56:31.264Z"
   },
   {
    "duration": 37,
    "start_time": "2022-03-21T08:56:31.271Z"
   },
   {
    "duration": 238,
    "start_time": "2022-03-21T08:56:31.310Z"
   },
   {
    "duration": 9,
    "start_time": "2022-03-21T08:56:31.550Z"
   },
   {
    "duration": 281,
    "start_time": "2022-03-21T08:56:31.561Z"
   },
   {
    "duration": 6,
    "start_time": "2022-03-21T08:56:31.844Z"
   },
   {
    "duration": 10,
    "start_time": "2022-03-21T08:58:08.439Z"
   },
   {
    "duration": 183,
    "start_time": "2022-03-21T08:58:32.138Z"
   },
   {
    "duration": 211,
    "start_time": "2022-03-21T09:00:47.256Z"
   },
   {
    "duration": 1061,
    "start_time": "2022-03-21T09:52:38.158Z"
   },
   {
    "duration": 925,
    "start_time": "2022-03-21T09:52:53.212Z"
   },
   {
    "duration": 4653,
    "start_time": "2022-03-21T09:55:36.306Z"
   },
   {
    "duration": 196,
    "start_time": "2022-03-21T09:57:24.116Z"
   },
   {
    "duration": 197,
    "start_time": "2022-03-21T09:57:54.555Z"
   },
   {
    "duration": 19,
    "start_time": "2022-03-21T10:09:15.103Z"
   },
   {
    "duration": 18,
    "start_time": "2022-03-21T10:10:32.358Z"
   },
   {
    "duration": 4,
    "start_time": "2022-03-21T10:11:13.228Z"
   },
   {
    "duration": 3,
    "start_time": "2022-03-21T10:13:02.084Z"
   },
   {
    "duration": 13,
    "start_time": "2022-03-21T10:13:09.657Z"
   },
   {
    "duration": 119,
    "start_time": "2022-03-21T10:14:20.450Z"
   },
   {
    "duration": 148,
    "start_time": "2022-03-21T10:15:00.305Z"
   },
   {
    "duration": 2,
    "start_time": "2022-03-21T10:15:52.503Z"
   },
   {
    "duration": 3532,
    "start_time": "2022-03-21T10:16:50.249Z"
   },
   {
    "duration": 4121,
    "start_time": "2022-03-21T10:17:15.474Z"
   },
   {
    "duration": 3,
    "start_time": "2022-03-21T10:17:33.752Z"
   },
   {
    "duration": 86,
    "start_time": "2022-03-21T10:17:33.766Z"
   },
   {
    "duration": 7,
    "start_time": "2022-03-21T10:17:33.854Z"
   },
   {
    "duration": 102,
    "start_time": "2022-03-21T10:17:35.204Z"
   },
   {
    "duration": 21,
    "start_time": "2022-03-21T10:17:35.308Z"
   },
   {
    "duration": 27,
    "start_time": "2022-03-21T10:17:35.330Z"
   },
   {
    "duration": 4,
    "start_time": "2022-03-21T10:17:35.359Z"
   },
   {
    "duration": 9,
    "start_time": "2022-03-21T10:17:35.366Z"
   },
   {
    "duration": 26,
    "start_time": "2022-03-21T10:17:35.377Z"
   },
   {
    "duration": 51,
    "start_time": "2022-03-21T10:17:35.405Z"
   },
   {
    "duration": 16,
    "start_time": "2022-03-21T10:17:35.457Z"
   },
   {
    "duration": 84,
    "start_time": "2022-03-21T10:17:35.475Z"
   },
   {
    "duration": 10,
    "start_time": "2022-03-21T10:17:35.561Z"
   },
   {
    "duration": 5,
    "start_time": "2022-03-21T10:17:35.572Z"
   },
   {
    "duration": 10,
    "start_time": "2022-03-21T10:17:35.602Z"
   },
   {
    "duration": 5,
    "start_time": "2022-03-21T10:17:35.613Z"
   },
   {
    "duration": 15,
    "start_time": "2022-03-21T10:17:35.621Z"
   },
   {
    "duration": 227,
    "start_time": "2022-03-21T10:17:35.637Z"
   },
   {
    "duration": 9,
    "start_time": "2022-03-21T10:17:35.866Z"
   },
   {
    "duration": 235,
    "start_time": "2022-03-21T10:17:35.877Z"
   },
   {
    "duration": 11,
    "start_time": "2022-03-21T10:17:36.114Z"
   },
   {
    "duration": 10,
    "start_time": "2022-03-21T10:17:36.127Z"
   },
   {
    "duration": 14,
    "start_time": "2022-03-21T10:17:36.139Z"
   },
   {
    "duration": 51,
    "start_time": "2022-03-21T10:17:36.155Z"
   },
   {
    "duration": 4,
    "start_time": "2022-03-21T10:17:36.208Z"
   },
   {
    "duration": 13,
    "start_time": "2022-03-21T10:17:36.214Z"
   },
   {
    "duration": 290,
    "start_time": "2022-03-21T10:17:36.228Z"
   },
   {
    "duration": 6,
    "start_time": "2022-03-21T10:17:36.520Z"
   },
   {
    "duration": 5,
    "start_time": "2022-03-21T10:17:36.528Z"
   },
   {
    "duration": 11,
    "start_time": "2022-03-21T10:17:36.534Z"
   },
   {
    "duration": 14,
    "start_time": "2022-03-21T10:17:36.546Z"
   },
   {
    "duration": 198,
    "start_time": "2022-03-21T10:17:36.563Z"
   },
   {
    "duration": 147,
    "start_time": "2022-03-21T10:17:36.763Z"
   },
   {
    "duration": 9,
    "start_time": "2022-03-21T10:17:42.675Z"
   },
   {
    "duration": 15,
    "start_time": "2022-03-21T10:17:47.172Z"
   },
   {
    "duration": 115,
    "start_time": "2022-03-21T10:18:12.271Z"
   },
   {
    "duration": 174,
    "start_time": "2022-03-21T10:19:09.747Z"
   },
   {
    "duration": 273,
    "start_time": "2022-03-21T10:20:16.617Z"
   },
   {
    "duration": 212,
    "start_time": "2022-03-21T10:32:51.569Z"
   },
   {
    "duration": 34,
    "start_time": "2022-03-21T10:33:15.328Z"
   },
   {
    "duration": 36,
    "start_time": "2022-03-21T10:33:34.374Z"
   },
   {
    "duration": 14,
    "start_time": "2022-03-21T10:34:34.577Z"
   },
   {
    "duration": 158,
    "start_time": "2022-03-21T10:35:18.175Z"
   },
   {
    "duration": 15,
    "start_time": "2022-03-21T10:36:02.606Z"
   },
   {
    "duration": 16,
    "start_time": "2022-03-21T10:37:57.638Z"
   },
   {
    "duration": 14,
    "start_time": "2022-03-21T10:37:59.255Z"
   },
   {
    "duration": 3,
    "start_time": "2022-03-21T10:47:11.871Z"
   },
   {
    "duration": 70,
    "start_time": "2022-03-21T10:47:11.887Z"
   },
   {
    "duration": 6,
    "start_time": "2022-03-21T10:47:11.959Z"
   },
   {
    "duration": 161,
    "start_time": "2022-03-21T10:47:11.967Z"
   },
   {
    "duration": 31,
    "start_time": "2022-03-21T10:47:12.131Z"
   },
   {
    "duration": 55,
    "start_time": "2022-03-21T10:47:12.165Z"
   },
   {
    "duration": 5,
    "start_time": "2022-03-21T10:47:12.222Z"
   },
   {
    "duration": 14,
    "start_time": "2022-03-21T10:47:12.229Z"
   },
   {
    "duration": 5,
    "start_time": "2022-03-21T10:47:12.245Z"
   },
   {
    "duration": 102,
    "start_time": "2022-03-21T10:47:12.252Z"
   },
   {
    "duration": 22,
    "start_time": "2022-03-21T10:47:12.358Z"
   },
   {
    "duration": 114,
    "start_time": "2022-03-21T10:47:12.382Z"
   },
   {
    "duration": 10,
    "start_time": "2022-03-21T10:47:12.501Z"
   },
   {
    "duration": 4,
    "start_time": "2022-03-21T10:47:12.513Z"
   },
   {
    "duration": 10,
    "start_time": "2022-03-21T10:47:12.519Z"
   },
   {
    "duration": 6,
    "start_time": "2022-03-21T10:47:12.530Z"
   },
   {
    "duration": 11,
    "start_time": "2022-03-21T10:47:12.538Z"
   },
   {
    "duration": 256,
    "start_time": "2022-03-21T10:47:12.550Z"
   },
   {
    "duration": 9,
    "start_time": "2022-03-21T10:47:12.808Z"
   },
   {
    "duration": 236,
    "start_time": "2022-03-21T10:47:12.819Z"
   },
   {
    "duration": 11,
    "start_time": "2022-03-21T10:47:13.058Z"
   },
   {
    "duration": 9,
    "start_time": "2022-03-21T10:47:13.070Z"
   },
   {
    "duration": 32,
    "start_time": "2022-03-21T10:47:13.081Z"
   },
   {
    "duration": 19,
    "start_time": "2022-03-21T10:47:13.115Z"
   },
   {
    "duration": 4,
    "start_time": "2022-03-21T10:47:13.135Z"
   },
   {
    "duration": 14,
    "start_time": "2022-03-21T10:47:13.141Z"
   },
   {
    "duration": 307,
    "start_time": "2022-03-21T10:47:13.157Z"
   },
   {
    "duration": 6,
    "start_time": "2022-03-21T10:47:13.466Z"
   },
   {
    "duration": 3,
    "start_time": "2022-03-21T10:47:13.476Z"
   },
   {
    "duration": 29,
    "start_time": "2022-03-21T10:47:13.482Z"
   },
   {
    "duration": 16,
    "start_time": "2022-03-21T10:47:13.513Z"
   },
   {
    "duration": 139,
    "start_time": "2022-03-21T10:47:13.530Z"
   },
   {
    "duration": 163,
    "start_time": "2022-03-21T10:47:13.672Z"
   },
   {
    "duration": 11,
    "start_time": "2022-03-21T10:47:13.838Z"
   },
   {
    "duration": 29,
    "start_time": "2022-03-21T10:47:13.851Z"
   },
   {
    "duration": 221,
    "start_time": "2022-03-21T10:47:13.882Z"
   },
   {
    "duration": 317,
    "start_time": "2022-03-21T10:47:14.106Z"
   },
   {
    "duration": 12,
    "start_time": "2022-03-21T10:47:14.425Z"
   },
   {
    "duration": 11,
    "start_time": "2022-03-21T10:47:14.438Z"
   },
   {
    "duration": 10,
    "start_time": "2022-03-21T10:47:14.450Z"
   },
   {
    "duration": 51,
    "start_time": "2022-03-21T10:47:14.462Z"
   },
   {
    "duration": 592,
    "start_time": "2022-03-21T10:47:14.514Z"
   },
   {
    "duration": 12,
    "start_time": "2022-03-21T10:47:15.108Z"
   },
   {
    "duration": 18,
    "start_time": "2022-03-21T10:47:15.122Z"
   },
   {
    "duration": 5,
    "start_time": "2022-03-21T10:47:15.142Z"
   },
   {
    "duration": 18,
    "start_time": "2022-03-21T10:47:15.148Z"
   },
   {
    "duration": 7,
    "start_time": "2022-03-21T11:23:33.690Z"
   },
   {
    "duration": 4,
    "start_time": "2022-03-21T11:23:38.841Z"
   },
   {
    "duration": 16,
    "start_time": "2022-03-21T11:23:40.101Z"
   },
   {
    "duration": 8,
    "start_time": "2022-03-21T11:24:17.063Z"
   },
   {
    "duration": 16,
    "start_time": "2022-03-21T11:24:24.624Z"
   },
   {
    "duration": 4,
    "start_time": "2022-03-21T11:24:53.259Z"
   },
   {
    "duration": 4,
    "start_time": "2022-03-21T11:25:48.020Z"
   },
   {
    "duration": 15,
    "start_time": "2022-03-21T11:25:49.502Z"
   },
   {
    "duration": 4,
    "start_time": "2022-03-21T11:26:54.486Z"
   },
   {
    "duration": 10,
    "start_time": "2022-03-21T11:26:55.011Z"
   },
   {
    "duration": 14,
    "start_time": "2022-03-21T11:26:55.710Z"
   },
   {
    "duration": 120,
    "start_time": "2022-03-21T11:26:57.746Z"
   },
   {
    "duration": 232,
    "start_time": "2022-03-21T11:26:58.561Z"
   },
   {
    "duration": 8,
    "start_time": "2022-03-21T11:27:01.083Z"
   },
   {
    "duration": 14,
    "start_time": "2022-03-21T11:27:01.571Z"
   },
   {
    "duration": 115,
    "start_time": "2022-03-21T11:27:02.044Z"
   },
   {
    "duration": 179,
    "start_time": "2022-03-21T11:27:02.608Z"
   },
   {
    "duration": 10,
    "start_time": "2022-03-21T11:27:04.054Z"
   },
   {
    "duration": 10,
    "start_time": "2022-03-21T11:27:04.561Z"
   },
   {
    "duration": 10,
    "start_time": "2022-03-21T11:27:05.153Z"
   },
   {
    "duration": 15,
    "start_time": "2022-03-21T11:27:06.530Z"
   },
   {
    "duration": 163,
    "start_time": "2022-03-21T11:27:07.227Z"
   },
   {
    "duration": 9,
    "start_time": "2022-03-21T11:27:11.229Z"
   },
   {
    "duration": 16,
    "start_time": "2022-03-21T11:27:11.908Z"
   },
   {
    "duration": 14,
    "start_time": "2022-03-21T11:27:25.216Z"
   },
   {
    "duration": 3,
    "start_time": "2022-03-21T11:27:54.950Z"
   },
   {
    "duration": 9,
    "start_time": "2022-03-21T11:27:55.665Z"
   },
   {
    "duration": 22,
    "start_time": "2022-03-21T11:27:56.134Z"
   },
   {
    "duration": 116,
    "start_time": "2022-03-21T11:27:56.992Z"
   },
   {
    "duration": 135,
    "start_time": "2022-03-21T11:27:57.315Z"
   },
   {
    "duration": 9,
    "start_time": "2022-03-21T11:27:58.529Z"
   },
   {
    "duration": 15,
    "start_time": "2022-03-21T11:27:58.865Z"
   },
   {
    "duration": 112,
    "start_time": "2022-03-21T11:27:59.370Z"
   },
   {
    "duration": 180,
    "start_time": "2022-03-21T11:27:59.808Z"
   },
   {
    "duration": 9,
    "start_time": "2022-03-21T11:28:01.198Z"
   },
   {
    "duration": 8,
    "start_time": "2022-03-21T11:28:01.659Z"
   },
   {
    "duration": 11,
    "start_time": "2022-03-21T11:28:02.228Z"
   },
   {
    "duration": 14,
    "start_time": "2022-03-21T11:28:02.867Z"
   },
   {
    "duration": 165,
    "start_time": "2022-03-21T11:28:03.497Z"
   },
   {
    "duration": 10,
    "start_time": "2022-03-21T11:28:05.381Z"
   },
   {
    "duration": 15,
    "start_time": "2022-03-21T11:28:05.866Z"
   },
   {
    "duration": 13,
    "start_time": "2022-03-21T11:28:09.499Z"
   },
   {
    "duration": 4,
    "start_time": "2022-03-21T11:29:04.718Z"
   },
   {
    "duration": 8,
    "start_time": "2022-03-21T11:29:05.256Z"
   },
   {
    "duration": 14,
    "start_time": "2022-03-21T11:29:06.279Z"
   },
   {
    "duration": 122,
    "start_time": "2022-03-21T11:29:07.608Z"
   },
   {
    "duration": 137,
    "start_time": "2022-03-21T11:29:08.313Z"
   },
   {
    "duration": 9,
    "start_time": "2022-03-21T11:29:10.242Z"
   },
   {
    "duration": 14,
    "start_time": "2022-03-21T11:29:10.724Z"
   },
   {
    "duration": 116,
    "start_time": "2022-03-21T11:29:11.191Z"
   },
   {
    "duration": 174,
    "start_time": "2022-03-21T11:29:11.817Z"
   },
   {
    "duration": 8,
    "start_time": "2022-03-21T11:29:13.398Z"
   },
   {
    "duration": 8,
    "start_time": "2022-03-21T11:29:13.877Z"
   },
   {
    "duration": 9,
    "start_time": "2022-03-21T11:29:14.546Z"
   },
   {
    "duration": 15,
    "start_time": "2022-03-21T11:29:15.827Z"
   },
   {
    "duration": 164,
    "start_time": "2022-03-21T11:29:16.388Z"
   },
   {
    "duration": 9,
    "start_time": "2022-03-21T11:29:18.576Z"
   },
   {
    "duration": 16,
    "start_time": "2022-03-21T11:29:19.186Z"
   },
   {
    "duration": 17,
    "start_time": "2022-03-21T11:29:20.567Z"
   },
   {
    "duration": 4,
    "start_time": "2022-03-21T11:29:59.855Z"
   },
   {
    "duration": 8,
    "start_time": "2022-03-21T11:30:00.535Z"
   },
   {
    "duration": 15,
    "start_time": "2022-03-21T11:30:00.904Z"
   },
   {
    "duration": 125,
    "start_time": "2022-03-21T11:30:01.736Z"
   },
   {
    "duration": 148,
    "start_time": "2022-03-21T11:30:02.063Z"
   },
   {
    "duration": 8,
    "start_time": "2022-03-21T11:30:03.293Z"
   },
   {
    "duration": 13,
    "start_time": "2022-03-21T11:30:03.502Z"
   },
   {
    "duration": 117,
    "start_time": "2022-03-21T11:30:03.697Z"
   },
   {
    "duration": 176,
    "start_time": "2022-03-21T11:30:03.892Z"
   },
   {
    "duration": 9,
    "start_time": "2022-03-21T11:30:04.446Z"
   },
   {
    "duration": 9,
    "start_time": "2022-03-21T11:30:04.760Z"
   },
   {
    "duration": 10,
    "start_time": "2022-03-21T11:30:05.138Z"
   },
   {
    "duration": 13,
    "start_time": "2022-03-21T11:30:06.753Z"
   },
   {
    "duration": 160,
    "start_time": "2022-03-21T11:30:07.130Z"
   },
   {
    "duration": 8,
    "start_time": "2022-03-21T11:30:08.610Z"
   },
   {
    "duration": 14,
    "start_time": "2022-03-21T11:30:09.150Z"
   },
   {
    "duration": 13,
    "start_time": "2022-03-21T11:30:10.142Z"
   },
   {
    "duration": 3,
    "start_time": "2022-03-21T11:30:51.510Z"
   },
   {
    "duration": 10,
    "start_time": "2022-03-21T11:30:52.743Z"
   },
   {
    "duration": 13,
    "start_time": "2022-03-21T11:30:53.136Z"
   },
   {
    "duration": 133,
    "start_time": "2022-03-21T11:30:53.600Z"
   },
   {
    "duration": 138,
    "start_time": "2022-03-21T11:30:53.765Z"
   },
   {
    "duration": 8,
    "start_time": "2022-03-21T11:30:54.391Z"
   },
   {
    "duration": 16,
    "start_time": "2022-03-21T11:30:54.562Z"
   },
   {
    "duration": 111,
    "start_time": "2022-03-21T11:30:54.726Z"
   },
   {
    "duration": 177,
    "start_time": "2022-03-21T11:30:55.032Z"
   },
   {
    "duration": 8,
    "start_time": "2022-03-21T11:30:56.918Z"
   },
   {
    "duration": 8,
    "start_time": "2022-03-21T11:30:57.597Z"
   },
   {
    "duration": 9,
    "start_time": "2022-03-21T11:30:58.636Z"
   },
   {
    "duration": 18,
    "start_time": "2022-03-21T11:30:59.496Z"
   },
   {
    "duration": 159,
    "start_time": "2022-03-21T11:31:00.608Z"
   },
   {
    "duration": 9,
    "start_time": "2022-03-21T11:31:02.681Z"
   },
   {
    "duration": 15,
    "start_time": "2022-03-21T11:31:03.521Z"
   },
   {
    "duration": 14,
    "start_time": "2022-03-21T11:31:04.501Z"
   },
   {
    "duration": 4,
    "start_time": "2022-03-21T11:31:33.818Z"
   },
   {
    "duration": 9,
    "start_time": "2022-03-21T11:31:34.308Z"
   },
   {
    "duration": 15,
    "start_time": "2022-03-21T11:31:34.662Z"
   },
   {
    "duration": 119,
    "start_time": "2022-03-21T11:31:35.028Z"
   },
   {
    "duration": 132,
    "start_time": "2022-03-21T11:31:35.187Z"
   },
   {
    "duration": 9,
    "start_time": "2022-03-21T11:31:35.794Z"
   },
   {
    "duration": 15,
    "start_time": "2022-03-21T11:31:35.935Z"
   },
   {
    "duration": 121,
    "start_time": "2022-03-21T11:31:36.088Z"
   },
   {
    "duration": 190,
    "start_time": "2022-03-21T11:31:36.241Z"
   },
   {
    "duration": 11,
    "start_time": "2022-03-21T11:31:36.713Z"
   },
   {
    "duration": 10,
    "start_time": "2022-03-21T11:31:36.918Z"
   },
   {
    "duration": 10,
    "start_time": "2022-03-21T11:31:37.966Z"
   },
   {
    "duration": 15,
    "start_time": "2022-03-21T11:31:38.150Z"
   },
   {
    "duration": 162,
    "start_time": "2022-03-21T11:31:38.673Z"
   },
   {
    "duration": 10,
    "start_time": "2022-03-21T11:31:44.344Z"
   },
   {
    "duration": 16,
    "start_time": "2022-03-21T11:31:45.106Z"
   },
   {
    "duration": 15,
    "start_time": "2022-03-21T11:31:46.321Z"
   },
   {
    "duration": 2,
    "start_time": "2022-03-21T11:32:24.725Z"
   },
   {
    "duration": 72,
    "start_time": "2022-03-21T11:32:24.740Z"
   },
   {
    "duration": 7,
    "start_time": "2022-03-21T11:32:24.814Z"
   },
   {
    "duration": 114,
    "start_time": "2022-03-21T11:32:24.822Z"
   },
   {
    "duration": 21,
    "start_time": "2022-03-21T11:32:24.938Z"
   },
   {
    "duration": 25,
    "start_time": "2022-03-21T11:32:24.961Z"
   },
   {
    "duration": 4,
    "start_time": "2022-03-21T11:32:25.001Z"
   },
   {
    "duration": 7,
    "start_time": "2022-03-21T11:32:25.006Z"
   },
   {
    "duration": 6,
    "start_time": "2022-03-21T11:32:25.015Z"
   },
   {
    "duration": 50,
    "start_time": "2022-03-21T11:32:25.023Z"
   },
   {
    "duration": 34,
    "start_time": "2022-03-21T11:32:25.076Z"
   },
   {
    "duration": 65,
    "start_time": "2022-03-21T11:32:25.112Z"
   },
   {
    "duration": 25,
    "start_time": "2022-03-21T11:32:25.179Z"
   },
   {
    "duration": 4,
    "start_time": "2022-03-21T11:32:25.206Z"
   },
   {
    "duration": 12,
    "start_time": "2022-03-21T11:32:25.212Z"
   },
   {
    "duration": 4,
    "start_time": "2022-03-21T11:32:25.226Z"
   },
   {
    "duration": 10,
    "start_time": "2022-03-21T11:32:25.232Z"
   },
   {
    "duration": 247,
    "start_time": "2022-03-21T11:32:25.243Z"
   },
   {
    "duration": 17,
    "start_time": "2022-03-21T11:32:25.491Z"
   },
   {
    "duration": 226,
    "start_time": "2022-03-21T11:32:25.510Z"
   },
   {
    "duration": 10,
    "start_time": "2022-03-21T11:32:25.738Z"
   },
   {
    "duration": 9,
    "start_time": "2022-03-21T11:32:25.750Z"
   },
   {
    "duration": 14,
    "start_time": "2022-03-21T11:32:25.761Z"
   },
   {
    "duration": 44,
    "start_time": "2022-03-21T11:32:25.776Z"
   },
   {
    "duration": 3,
    "start_time": "2022-03-21T11:32:25.822Z"
   },
   {
    "duration": 16,
    "start_time": "2022-03-21T11:32:25.827Z"
   },
   {
    "duration": 287,
    "start_time": "2022-03-21T11:32:25.845Z"
   },
   {
    "duration": 5,
    "start_time": "2022-03-21T11:32:26.134Z"
   },
   {
    "duration": 4,
    "start_time": "2022-03-21T11:32:26.142Z"
   },
   {
    "duration": 9,
    "start_time": "2022-03-21T11:32:26.147Z"
   },
   {
    "duration": 14,
    "start_time": "2022-03-21T11:32:26.158Z"
   },
   {
    "duration": 146,
    "start_time": "2022-03-21T11:32:26.173Z"
   },
   {
    "duration": 141,
    "start_time": "2022-03-21T11:32:26.321Z"
   },
   {
    "duration": 8,
    "start_time": "2022-03-21T11:32:26.464Z"
   },
   {
    "duration": 30,
    "start_time": "2022-03-21T11:32:26.474Z"
   },
   {
    "duration": 122,
    "start_time": "2022-03-21T11:32:26.506Z"
   },
   {
    "duration": 183,
    "start_time": "2022-03-21T11:32:26.629Z"
   },
   {
    "duration": 9,
    "start_time": "2022-03-21T11:32:26.813Z"
   },
   {
    "duration": 9,
    "start_time": "2022-03-21T11:32:26.824Z"
   },
   {
    "duration": 10,
    "start_time": "2022-03-21T11:32:26.835Z"
   },
   {
    "duration": 13,
    "start_time": "2022-03-21T11:32:26.847Z"
   },
   {
    "duration": 196,
    "start_time": "2022-03-21T11:32:26.862Z"
   },
   {
    "duration": 9,
    "start_time": "2022-03-21T11:32:27.060Z"
   },
   {
    "duration": 30,
    "start_time": "2022-03-21T11:32:27.071Z"
   },
   {
    "duration": 16,
    "start_time": "2022-03-21T11:32:27.103Z"
   },
   {
    "duration": 15,
    "start_time": "2022-03-21T11:32:29.904Z"
   },
   {
    "duration": 17,
    "start_time": "2022-03-21T11:32:44.687Z"
   },
   {
    "duration": 16,
    "start_time": "2022-03-21T11:32:58.429Z"
   },
   {
    "duration": 4,
    "start_time": "2022-03-21T11:33:47.227Z"
   },
   {
    "duration": 9,
    "start_time": "2022-03-21T11:33:47.428Z"
   },
   {
    "duration": 21,
    "start_time": "2022-03-21T11:33:47.610Z"
   },
   {
    "duration": 122,
    "start_time": "2022-03-21T11:33:47.928Z"
   },
   {
    "duration": 177,
    "start_time": "2022-03-21T11:33:48.082Z"
   },
   {
    "duration": 10,
    "start_time": "2022-03-21T11:33:48.718Z"
   },
   {
    "duration": 14,
    "start_time": "2022-03-21T11:33:48.879Z"
   },
   {
    "duration": 114,
    "start_time": "2022-03-21T11:33:49.044Z"
   },
   {
    "duration": 173,
    "start_time": "2022-03-21T11:33:49.210Z"
   },
   {
    "duration": 9,
    "start_time": "2022-03-21T11:33:49.769Z"
   },
   {
    "duration": 8,
    "start_time": "2022-03-21T11:33:50.236Z"
   },
   {
    "duration": 9,
    "start_time": "2022-03-21T11:33:50.711Z"
   },
   {
    "duration": 13,
    "start_time": "2022-03-21T11:33:51.331Z"
   },
   {
    "duration": 161,
    "start_time": "2022-03-21T11:33:52.281Z"
   },
   {
    "duration": 9,
    "start_time": "2022-03-21T11:33:54.788Z"
   },
   {
    "duration": 16,
    "start_time": "2022-03-21T11:33:55.542Z"
   },
   {
    "duration": 15,
    "start_time": "2022-03-21T11:33:56.672Z"
   },
   {
    "duration": 4,
    "start_time": "2022-03-21T11:34:15.982Z"
   },
   {
    "duration": 10,
    "start_time": "2022-03-21T11:34:16.161Z"
   },
   {
    "duration": 15,
    "start_time": "2022-03-21T11:34:16.329Z"
   },
   {
    "duration": 115,
    "start_time": "2022-03-21T11:34:16.644Z"
   },
   {
    "duration": 137,
    "start_time": "2022-03-21T11:34:16.790Z"
   },
   {
    "duration": 9,
    "start_time": "2022-03-21T11:34:17.396Z"
   },
   {
    "duration": 16,
    "start_time": "2022-03-21T11:34:17.548Z"
   },
   {
    "duration": 111,
    "start_time": "2022-03-21T11:34:17.721Z"
   },
   {
    "duration": 182,
    "start_time": "2022-03-21T11:34:17.864Z"
   },
   {
    "duration": 9,
    "start_time": "2022-03-21T11:34:18.334Z"
   },
   {
    "duration": 9,
    "start_time": "2022-03-21T11:34:18.507Z"
   },
   {
    "duration": 10,
    "start_time": "2022-03-21T11:34:18.668Z"
   },
   {
    "duration": 14,
    "start_time": "2022-03-21T11:34:18.963Z"
   },
   {
    "duration": 158,
    "start_time": "2022-03-21T11:34:20.010Z"
   },
   {
    "duration": 9,
    "start_time": "2022-03-21T11:34:20.579Z"
   },
   {
    "duration": 18,
    "start_time": "2022-03-21T11:34:21.166Z"
   },
   {
    "duration": 17,
    "start_time": "2022-03-21T11:34:21.697Z"
   },
   {
    "duration": 4,
    "start_time": "2022-03-21T11:37:38.503Z"
   },
   {
    "duration": 9,
    "start_time": "2022-03-21T11:37:39.674Z"
   },
   {
    "duration": 15,
    "start_time": "2022-03-21T11:37:41.034Z"
   },
   {
    "duration": 112,
    "start_time": "2022-03-21T11:37:54.375Z"
   },
   {
    "duration": 132,
    "start_time": "2022-03-21T11:37:54.730Z"
   },
   {
    "duration": 8,
    "start_time": "2022-03-21T11:37:56.679Z"
   },
   {
    "duration": 15,
    "start_time": "2022-03-21T11:37:57.133Z"
   },
   {
    "duration": 107,
    "start_time": "2022-03-21T11:37:57.544Z"
   },
   {
    "duration": 185,
    "start_time": "2022-03-21T11:37:57.989Z"
   },
   {
    "duration": 9,
    "start_time": "2022-03-21T11:37:59.977Z"
   },
   {
    "duration": 8,
    "start_time": "2022-03-21T11:38:01.347Z"
   },
   {
    "duration": 10,
    "start_time": "2022-03-21T11:38:04.064Z"
   },
   {
    "duration": 13,
    "start_time": "2022-03-21T11:38:05.061Z"
   },
   {
    "duration": 156,
    "start_time": "2022-03-21T11:38:07.828Z"
   },
   {
    "duration": 9,
    "start_time": "2022-03-21T11:38:10.200Z"
   },
   {
    "duration": 16,
    "start_time": "2022-03-21T11:38:11.343Z"
   },
   {
    "duration": 16,
    "start_time": "2022-03-21T11:38:12.473Z"
   },
   {
    "duration": 4,
    "start_time": "2022-03-21T11:38:59.170Z"
   },
   {
    "duration": 2,
    "start_time": "2022-03-21T11:39:23.750Z"
   },
   {
    "duration": 75,
    "start_time": "2022-03-21T11:39:23.763Z"
   },
   {
    "duration": 8,
    "start_time": "2022-03-21T11:39:23.841Z"
   },
   {
    "duration": 120,
    "start_time": "2022-03-21T11:39:23.851Z"
   },
   {
    "duration": 29,
    "start_time": "2022-03-21T11:39:23.973Z"
   },
   {
    "duration": 26,
    "start_time": "2022-03-21T11:39:24.004Z"
   },
   {
    "duration": 4,
    "start_time": "2022-03-21T11:39:24.032Z"
   },
   {
    "duration": 6,
    "start_time": "2022-03-21T11:39:24.038Z"
   },
   {
    "duration": 5,
    "start_time": "2022-03-21T11:39:24.045Z"
   },
   {
    "duration": 84,
    "start_time": "2022-03-21T11:39:24.052Z"
   },
   {
    "duration": 15,
    "start_time": "2022-03-21T11:39:24.139Z"
   },
   {
    "duration": 76,
    "start_time": "2022-03-21T11:39:24.156Z"
   },
   {
    "duration": 9,
    "start_time": "2022-03-21T11:39:24.234Z"
   },
   {
    "duration": 4,
    "start_time": "2022-03-21T11:39:24.244Z"
   },
   {
    "duration": 10,
    "start_time": "2022-03-21T11:39:24.249Z"
   },
   {
    "duration": 5,
    "start_time": "2022-03-21T11:39:24.260Z"
   },
   {
    "duration": 39,
    "start_time": "2022-03-21T11:39:24.267Z"
   },
   {
    "duration": 709,
    "start_time": "2022-03-21T11:39:24.307Z"
   },
   {
    "duration": 9,
    "start_time": "2022-03-21T11:39:25.018Z"
   },
   {
    "duration": 244,
    "start_time": "2022-03-21T11:39:25.028Z"
   },
   {
    "duration": 11,
    "start_time": "2022-03-21T11:39:25.273Z"
   },
   {
    "duration": 19,
    "start_time": "2022-03-21T11:39:25.285Z"
   },
   {
    "duration": 15,
    "start_time": "2022-03-21T11:39:25.305Z"
   },
   {
    "duration": 20,
    "start_time": "2022-03-21T11:39:25.321Z"
   },
   {
    "duration": 4,
    "start_time": "2022-03-21T11:39:25.344Z"
   },
   {
    "duration": 15,
    "start_time": "2022-03-21T11:39:25.349Z"
   },
   {
    "duration": 296,
    "start_time": "2022-03-21T11:39:25.365Z"
   },
   {
    "duration": 5,
    "start_time": "2022-03-21T11:39:25.663Z"
   },
   {
    "duration": 4,
    "start_time": "2022-03-21T11:39:25.671Z"
   },
   {
    "duration": 13,
    "start_time": "2022-03-21T11:39:25.676Z"
   },
   {
    "duration": 15,
    "start_time": "2022-03-21T11:39:25.700Z"
   },
   {
    "duration": 136,
    "start_time": "2022-03-21T11:39:25.716Z"
   },
   {
    "duration": 143,
    "start_time": "2022-03-21T11:39:25.854Z"
   },
   {
    "duration": 9,
    "start_time": "2022-03-21T11:39:26.001Z"
   },
   {
    "duration": 16,
    "start_time": "2022-03-21T11:39:26.011Z"
   },
   {
    "duration": 135,
    "start_time": "2022-03-21T11:39:26.029Z"
   },
   {
    "duration": 203,
    "start_time": "2022-03-21T11:39:26.165Z"
   },
   {
    "duration": 8,
    "start_time": "2022-03-21T11:39:26.370Z"
   },
   {
    "duration": 24,
    "start_time": "2022-03-21T11:39:26.380Z"
   },
   {
    "duration": 10,
    "start_time": "2022-03-21T11:39:26.406Z"
   },
   {
    "duration": 16,
    "start_time": "2022-03-21T11:39:26.418Z"
   },
   {
    "duration": 189,
    "start_time": "2022-03-21T11:39:26.435Z"
   },
   {
    "duration": 8,
    "start_time": "2022-03-21T11:39:26.626Z"
   },
   {
    "duration": 15,
    "start_time": "2022-03-21T11:39:26.636Z"
   },
   {
    "duration": 17,
    "start_time": "2022-03-21T11:39:29.938Z"
   },
   {
    "duration": 16,
    "start_time": "2022-03-21T11:39:30.463Z"
   },
   {
    "duration": 15,
    "start_time": "2022-03-21T11:40:16.260Z"
   },
   {
    "duration": 171,
    "start_time": "2022-03-21T11:41:32.591Z"
   },
   {
    "duration": 12,
    "start_time": "2022-03-21T11:41:37.074Z"
   },
   {
    "duration": 179,
    "start_time": "2022-03-21T11:42:30.082Z"
   },
   {
    "duration": 12,
    "start_time": "2022-03-21T11:42:41.704Z"
   },
   {
    "duration": 184,
    "start_time": "2022-03-21T12:05:25.553Z"
   },
   {
    "duration": 151,
    "start_time": "2022-03-21T12:05:35.389Z"
   },
   {
    "duration": 137,
    "start_time": "2022-03-21T12:06:10.055Z"
   },
   {
    "duration": 184,
    "start_time": "2022-03-21T12:06:42.452Z"
   },
   {
    "duration": 174,
    "start_time": "2022-03-21T12:07:37.319Z"
   },
   {
    "duration": 173,
    "start_time": "2022-03-21T12:08:55.599Z"
   },
   {
    "duration": 11,
    "start_time": "2022-03-21T12:09:05.263Z"
   },
   {
    "duration": 18,
    "start_time": "2022-03-21T12:10:02.525Z"
   },
   {
    "duration": 228,
    "start_time": "2022-03-21T12:10:45.262Z"
   },
   {
    "duration": 188,
    "start_time": "2022-03-21T12:11:10.406Z"
   },
   {
    "duration": 201,
    "start_time": "2022-03-21T12:12:11.092Z"
   },
   {
    "duration": 180,
    "start_time": "2022-03-21T12:12:25.795Z"
   },
   {
    "duration": 171,
    "start_time": "2022-03-21T12:12:38.755Z"
   },
   {
    "duration": 3,
    "start_time": "2022-03-21T12:14:04.599Z"
   },
   {
    "duration": 72,
    "start_time": "2022-03-21T12:14:04.612Z"
   },
   {
    "duration": 6,
    "start_time": "2022-03-21T12:14:04.687Z"
   },
   {
    "duration": 85,
    "start_time": "2022-03-21T12:14:04.701Z"
   },
   {
    "duration": 28,
    "start_time": "2022-03-21T12:14:04.802Z"
   },
   {
    "duration": 27,
    "start_time": "2022-03-21T12:14:04.831Z"
   },
   {
    "duration": 4,
    "start_time": "2022-03-21T12:14:04.860Z"
   },
   {
    "duration": 9,
    "start_time": "2022-03-21T12:14:04.865Z"
   },
   {
    "duration": 7,
    "start_time": "2022-03-21T12:14:04.875Z"
   },
   {
    "duration": 66,
    "start_time": "2022-03-21T12:14:04.883Z"
   },
   {
    "duration": 15,
    "start_time": "2022-03-21T12:14:04.952Z"
   },
   {
    "duration": 80,
    "start_time": "2022-03-21T12:14:04.968Z"
   },
   {
    "duration": 9,
    "start_time": "2022-03-21T12:14:05.049Z"
   },
   {
    "duration": 4,
    "start_time": "2022-03-21T12:14:05.059Z"
   },
   {
    "duration": 15,
    "start_time": "2022-03-21T12:14:05.065Z"
   },
   {
    "duration": 19,
    "start_time": "2022-03-21T12:14:05.082Z"
   },
   {
    "duration": 9,
    "start_time": "2022-03-21T12:14:05.103Z"
   },
   {
    "duration": 222,
    "start_time": "2022-03-21T12:14:05.113Z"
   },
   {
    "duration": 10,
    "start_time": "2022-03-21T12:14:05.337Z"
   },
   {
    "duration": 225,
    "start_time": "2022-03-21T12:14:05.349Z"
   },
   {
    "duration": 10,
    "start_time": "2022-03-21T12:14:05.576Z"
   },
   {
    "duration": 20,
    "start_time": "2022-03-21T12:14:05.588Z"
   },
   {
    "duration": 15,
    "start_time": "2022-03-21T12:14:05.610Z"
   },
   {
    "duration": 20,
    "start_time": "2022-03-21T12:14:05.626Z"
   },
   {
    "duration": 4,
    "start_time": "2022-03-21T12:14:05.648Z"
   },
   {
    "duration": 17,
    "start_time": "2022-03-21T12:14:05.653Z"
   },
   {
    "duration": 293,
    "start_time": "2022-03-21T12:14:05.672Z"
   },
   {
    "duration": 6,
    "start_time": "2022-03-21T12:14:05.967Z"
   },
   {
    "duration": 6,
    "start_time": "2022-03-21T12:14:05.977Z"
   },
   {
    "duration": 22,
    "start_time": "2022-03-21T12:14:05.984Z"
   },
   {
    "duration": 14,
    "start_time": "2022-03-21T12:14:06.008Z"
   },
   {
    "duration": 135,
    "start_time": "2022-03-21T12:14:06.024Z"
   },
   {
    "duration": 145,
    "start_time": "2022-03-21T12:14:06.161Z"
   },
   {
    "duration": 10,
    "start_time": "2022-03-21T12:14:06.308Z"
   },
   {
    "duration": 14,
    "start_time": "2022-03-21T12:14:06.320Z"
   },
   {
    "duration": 133,
    "start_time": "2022-03-21T12:14:06.336Z"
   },
   {
    "duration": 207,
    "start_time": "2022-03-21T12:14:06.471Z"
   },
   {
    "duration": 9,
    "start_time": "2022-03-21T12:14:06.680Z"
   },
   {
    "duration": 11,
    "start_time": "2022-03-21T12:14:06.701Z"
   },
   {
    "duration": 9,
    "start_time": "2022-03-21T12:14:06.714Z"
   },
   {
    "duration": 13,
    "start_time": "2022-03-21T12:14:06.725Z"
   },
   {
    "duration": 193,
    "start_time": "2022-03-21T12:14:06.739Z"
   },
   {
    "duration": 10,
    "start_time": "2022-03-21T12:14:06.934Z"
   },
   {
    "duration": 16,
    "start_time": "2022-03-21T12:14:06.946Z"
   },
   {
    "duration": 211,
    "start_time": "2022-03-21T12:14:06.964Z"
   },
   {
    "duration": 24,
    "start_time": "2022-03-21T12:14:07.178Z"
   },
   {
    "duration": 16,
    "start_time": "2022-03-21T12:14:07.204Z"
   },
   {
    "duration": 199,
    "start_time": "2022-03-21T12:14:07.222Z"
   },
   {
    "duration": 9,
    "start_time": "2022-03-21T12:14:24.533Z"
   },
   {
    "duration": 11,
    "start_time": "2022-03-21T12:14:24.800Z"
   },
   {
    "duration": 10,
    "start_time": "2022-03-21T12:14:25.052Z"
   },
   {
    "duration": 10,
    "start_time": "2022-03-21T12:14:25.279Z"
   },
   {
    "duration": 9,
    "start_time": "2022-03-21T12:14:25.514Z"
   },
   {
    "duration": 14,
    "start_time": "2022-03-21T12:14:34.966Z"
   },
   {
    "duration": 2749,
    "start_time": "2022-03-21T12:14:36.185Z"
   },
   {
    "duration": 127,
    "start_time": "2022-03-21T12:14:40.919Z"
   },
   {
    "duration": 264,
    "start_time": "2022-03-21T12:14:42.876Z"
   },
   {
    "duration": 312,
    "start_time": "2022-03-21T12:14:43.741Z"
   },
   {
    "duration": 248,
    "start_time": "2022-03-21T12:14:44.689Z"
   },
   {
    "duration": 9,
    "start_time": "2022-03-21T18:04:12.681Z"
   },
   {
    "duration": 43,
    "start_time": "2022-03-21T18:08:40.607Z"
   },
   {
    "duration": 826,
    "start_time": "2022-03-21T18:08:51.775Z"
   },
   {
    "duration": 86,
    "start_time": "2022-03-21T18:08:52.603Z"
   },
   {
    "duration": 10,
    "start_time": "2022-03-21T18:08:52.691Z"
   },
   {
    "duration": 104,
    "start_time": "2022-03-21T18:08:52.703Z"
   },
   {
    "duration": 20,
    "start_time": "2022-03-21T18:08:52.809Z"
   },
   {
    "duration": 28,
    "start_time": "2022-03-21T18:08:52.830Z"
   },
   {
    "duration": 22,
    "start_time": "2022-03-21T18:08:52.860Z"
   },
   {
    "duration": 9,
    "start_time": "2022-03-21T18:08:52.884Z"
   },
   {
    "duration": 8,
    "start_time": "2022-03-21T18:08:52.895Z"
   },
   {
    "duration": 64,
    "start_time": "2022-03-21T18:08:52.905Z"
   },
   {
    "duration": 28,
    "start_time": "2022-03-21T18:08:52.970Z"
   },
   {
    "duration": 107,
    "start_time": "2022-03-21T18:08:52.999Z"
   },
   {
    "duration": 14,
    "start_time": "2022-03-21T18:08:53.108Z"
   },
   {
    "duration": 4,
    "start_time": "2022-03-21T18:08:53.123Z"
   },
   {
    "duration": 15,
    "start_time": "2022-03-21T18:08:53.128Z"
   },
   {
    "duration": 5,
    "start_time": "2022-03-21T18:08:53.144Z"
   },
   {
    "duration": 33,
    "start_time": "2022-03-21T18:08:53.150Z"
   },
   {
    "duration": 224,
    "start_time": "2022-03-21T18:08:53.184Z"
   },
   {
    "duration": 9,
    "start_time": "2022-03-21T18:08:53.409Z"
   },
   {
    "duration": 330,
    "start_time": "2022-03-21T18:08:53.419Z"
   },
   {
    "duration": 13,
    "start_time": "2022-03-21T18:08:53.751Z"
   },
   {
    "duration": 24,
    "start_time": "2022-03-21T18:08:53.766Z"
   },
   {
    "duration": 25,
    "start_time": "2022-03-21T18:08:53.792Z"
   },
   {
    "duration": 29,
    "start_time": "2022-03-21T18:08:53.819Z"
   },
   {
    "duration": 4,
    "start_time": "2022-03-21T18:08:53.850Z"
   },
   {
    "duration": 35,
    "start_time": "2022-03-21T18:08:53.856Z"
   },
   {
    "duration": 270,
    "start_time": "2022-03-21T18:08:53.892Z"
   },
   {
    "duration": 5,
    "start_time": "2022-03-21T18:08:54.167Z"
   },
   {
    "duration": 3,
    "start_time": "2022-03-21T18:08:54.181Z"
   },
   {
    "duration": 13,
    "start_time": "2022-03-21T18:08:54.186Z"
   },
   {
    "duration": 20,
    "start_time": "2022-03-21T18:08:54.201Z"
   },
   {
    "duration": 189,
    "start_time": "2022-03-21T18:08:54.223Z"
   },
   {
    "duration": 208,
    "start_time": "2022-03-21T18:08:54.414Z"
   },
   {
    "duration": 10,
    "start_time": "2022-03-21T18:08:54.624Z"
   },
   {
    "duration": 16,
    "start_time": "2022-03-21T18:08:54.636Z"
   },
   {
    "duration": 197,
    "start_time": "2022-03-21T18:08:54.654Z"
   },
   {
    "duration": 185,
    "start_time": "2022-03-21T18:08:54.854Z"
   },
   {
    "duration": 10,
    "start_time": "2022-03-21T18:08:55.041Z"
   },
   {
    "duration": 12,
    "start_time": "2022-03-21T18:08:55.053Z"
   },
   {
    "duration": 12,
    "start_time": "2022-03-21T18:08:55.081Z"
   },
   {
    "duration": 15,
    "start_time": "2022-03-21T18:08:55.095Z"
   },
   {
    "duration": 251,
    "start_time": "2022-03-21T18:08:55.112Z"
   },
   {
    "duration": 17,
    "start_time": "2022-03-21T18:08:55.365Z"
   },
   {
    "duration": 13,
    "start_time": "2022-03-21T18:08:55.384Z"
   },
   {
    "duration": 187,
    "start_time": "2022-03-21T18:08:55.398Z"
   },
   {
    "duration": 9,
    "start_time": "2022-03-21T18:08:55.587Z"
   },
   {
    "duration": 20,
    "start_time": "2022-03-21T18:08:55.598Z"
   },
   {
    "duration": 200,
    "start_time": "2022-03-21T18:08:55.620Z"
   },
   {
    "duration": 77,
    "start_time": "2022-03-21T18:08:55.822Z"
   },
   {
    "duration": 28,
    "start_time": "2022-03-21T18:12:19.226Z"
   },
   {
    "duration": 2,
    "start_time": "2022-03-21T18:15:58.884Z"
   },
   {
    "duration": 78,
    "start_time": "2022-03-21T18:15:58.895Z"
   },
   {
    "duration": 7,
    "start_time": "2022-03-21T18:15:58.982Z"
   },
   {
    "duration": 111,
    "start_time": "2022-03-21T18:15:58.991Z"
   },
   {
    "duration": 20,
    "start_time": "2022-03-21T18:15:59.105Z"
   },
   {
    "duration": 25,
    "start_time": "2022-03-21T18:15:59.127Z"
   },
   {
    "duration": 4,
    "start_time": "2022-03-21T18:15:59.153Z"
   },
   {
    "duration": 22,
    "start_time": "2022-03-21T18:15:59.159Z"
   },
   {
    "duration": 5,
    "start_time": "2022-03-21T18:15:59.182Z"
   },
   {
    "duration": 148,
    "start_time": "2022-03-21T18:15:59.188Z"
   },
   {
    "duration": 26,
    "start_time": "2022-03-21T18:15:59.339Z"
   },
   {
    "duration": 95,
    "start_time": "2022-03-21T18:15:59.367Z"
   },
   {
    "duration": 18,
    "start_time": "2022-03-21T18:15:59.464Z"
   },
   {
    "duration": 4,
    "start_time": "2022-03-21T18:15:59.483Z"
   },
   {
    "duration": 14,
    "start_time": "2022-03-21T18:15:59.489Z"
   },
   {
    "duration": 5,
    "start_time": "2022-03-21T18:15:59.505Z"
   },
   {
    "duration": 11,
    "start_time": "2022-03-21T18:15:59.512Z"
   },
   {
    "duration": 241,
    "start_time": "2022-03-21T18:15:59.526Z"
   },
   {
    "duration": 12,
    "start_time": "2022-03-21T18:15:59.769Z"
   },
   {
    "duration": 224,
    "start_time": "2022-03-21T18:15:59.783Z"
   },
   {
    "duration": 12,
    "start_time": "2022-03-21T18:16:00.008Z"
   },
   {
    "duration": 10,
    "start_time": "2022-03-21T18:16:00.022Z"
   },
   {
    "duration": 13,
    "start_time": "2022-03-21T18:16:00.033Z"
   },
   {
    "duration": 44,
    "start_time": "2022-03-21T18:16:00.048Z"
   },
   {
    "duration": 4,
    "start_time": "2022-03-21T18:16:00.094Z"
   },
   {
    "duration": 25,
    "start_time": "2022-03-21T18:16:00.100Z"
   },
   {
    "duration": 267,
    "start_time": "2022-03-21T18:16:00.126Z"
   },
   {
    "duration": 5,
    "start_time": "2022-03-21T18:16:00.394Z"
   },
   {
    "duration": 9,
    "start_time": "2022-03-21T18:16:00.402Z"
   },
   {
    "duration": 15,
    "start_time": "2022-03-21T18:16:00.412Z"
   },
   {
    "duration": 14,
    "start_time": "2022-03-21T18:16:00.428Z"
   },
   {
    "duration": 130,
    "start_time": "2022-03-21T18:16:00.443Z"
   },
   {
    "duration": 142,
    "start_time": "2022-03-21T18:16:00.580Z"
   },
   {
    "duration": 8,
    "start_time": "2022-03-21T18:16:00.724Z"
   },
   {
    "duration": 22,
    "start_time": "2022-03-21T18:16:00.734Z"
   },
   {
    "duration": 127,
    "start_time": "2022-03-21T18:16:00.758Z"
   },
   {
    "duration": 185,
    "start_time": "2022-03-21T18:16:00.886Z"
   },
   {
    "duration": 15,
    "start_time": "2022-03-21T18:16:01.072Z"
   },
   {
    "duration": 24,
    "start_time": "2022-03-21T18:16:01.089Z"
   },
   {
    "duration": 19,
    "start_time": "2022-03-21T18:16:01.115Z"
   },
   {
    "duration": 30,
    "start_time": "2022-03-21T18:16:01.136Z"
   },
   {
    "duration": 257,
    "start_time": "2022-03-21T18:16:01.168Z"
   },
   {
    "duration": 11,
    "start_time": "2022-03-21T18:16:01.426Z"
   },
   {
    "duration": 16,
    "start_time": "2022-03-21T18:16:01.439Z"
   },
   {
    "duration": 206,
    "start_time": "2022-03-21T18:16:01.458Z"
   },
   {
    "duration": 18,
    "start_time": "2022-03-21T18:16:01.666Z"
   },
   {
    "duration": 25,
    "start_time": "2022-03-21T18:16:01.685Z"
   },
   {
    "duration": 194,
    "start_time": "2022-03-21T18:16:01.711Z"
   },
   {
    "duration": 25,
    "start_time": "2022-03-21T18:16:01.907Z"
   },
   {
    "duration": 25,
    "start_time": "2022-03-21T18:16:01.933Z"
   },
   {
    "duration": 41,
    "start_time": "2022-03-21T18:16:01.960Z"
   },
   {
    "duration": 24,
    "start_time": "2022-03-21T18:16:02.002Z"
   },
   {
    "duration": 25,
    "start_time": "2022-03-21T18:16:02.028Z"
   },
   {
    "duration": 24,
    "start_time": "2022-03-21T18:16:08.032Z"
   },
   {
    "duration": 12,
    "start_time": "2022-03-21T18:16:12.507Z"
   },
   {
    "duration": 2671,
    "start_time": "2022-03-21T18:16:14.178Z"
   },
   {
    "duration": 117,
    "start_time": "2022-03-21T18:16:26.017Z"
   },
   {
    "duration": 255,
    "start_time": "2022-03-21T18:16:34.219Z"
   },
   {
    "duration": 329,
    "start_time": "2022-03-21T18:16:41.021Z"
   },
   {
    "duration": 240,
    "start_time": "2022-03-21T18:16:46.827Z"
   },
   {
    "duration": 7,
    "start_time": "2022-03-21T18:17:16.322Z"
   },
   {
    "duration": 15,
    "start_time": "2022-03-21T18:17:18.382Z"
   },
   {
    "duration": 10,
    "start_time": "2022-03-21T18:17:19.628Z"
   },
   {
    "duration": 3,
    "start_time": "2022-03-21T18:17:22.745Z"
   },
   {
    "duration": 12,
    "start_time": "2022-03-21T18:17:26.198Z"
   },
   {
    "duration": 4,
    "start_time": "2022-03-21T18:17:26.950Z"
   },
   {
    "duration": 260,
    "start_time": "2022-03-21T18:17:27.973Z"
   },
   {
    "duration": 3,
    "start_time": "2022-03-21T18:17:29.848Z"
   },
   {
    "duration": 8,
    "start_time": "2022-03-21T18:17:31.193Z"
   },
   {
    "duration": 21,
    "start_time": "2022-03-21T18:17:53.718Z"
   },
   {
    "duration": 20,
    "start_time": "2022-03-21T18:17:56.291Z"
   },
   {
    "duration": 27,
    "start_time": "2022-03-21T18:17:59.397Z"
   },
   {
    "duration": 21,
    "start_time": "2022-03-21T18:18:01.794Z"
   },
   {
    "duration": 125,
    "start_time": "2022-03-21T18:18:11.288Z"
   },
   {
    "duration": 135,
    "start_time": "2022-03-21T18:18:14.204Z"
   },
   {
    "duration": 135,
    "start_time": "2022-03-21T18:18:15.795Z"
   },
   {
    "duration": 139,
    "start_time": "2022-03-21T18:18:20.665Z"
   },
   {
    "duration": 277,
    "start_time": "2022-03-21T18:18:22.199Z"
   },
   {
    "duration": 131,
    "start_time": "2022-03-21T18:18:26.637Z"
   },
   {
    "duration": 152,
    "start_time": "2022-03-21T18:20:46.500Z"
   },
   {
    "duration": 2,
    "start_time": "2022-03-21T18:20:57.788Z"
   },
   {
    "duration": 80,
    "start_time": "2022-03-21T18:20:57.795Z"
   },
   {
    "duration": 6,
    "start_time": "2022-03-21T18:20:57.877Z"
   },
   {
    "duration": 96,
    "start_time": "2022-03-21T18:20:57.885Z"
   },
   {
    "duration": 19,
    "start_time": "2022-03-21T18:20:57.983Z"
   },
   {
    "duration": 26,
    "start_time": "2022-03-21T18:20:58.005Z"
   },
   {
    "duration": 4,
    "start_time": "2022-03-21T18:20:58.033Z"
   },
   {
    "duration": 6,
    "start_time": "2022-03-21T18:20:58.038Z"
   },
   {
    "duration": 3,
    "start_time": "2022-03-21T18:20:58.046Z"
   },
   {
    "duration": 72,
    "start_time": "2022-03-21T18:20:58.051Z"
   },
   {
    "duration": 14,
    "start_time": "2022-03-21T18:20:58.125Z"
   },
   {
    "duration": 80,
    "start_time": "2022-03-21T18:20:58.141Z"
   },
   {
    "duration": 8,
    "start_time": "2022-03-21T18:20:58.223Z"
   },
   {
    "duration": 3,
    "start_time": "2022-03-21T18:20:58.232Z"
   },
   {
    "duration": 7,
    "start_time": "2022-03-21T18:20:58.238Z"
   },
   {
    "duration": 4,
    "start_time": "2022-03-21T18:20:58.247Z"
   },
   {
    "duration": 32,
    "start_time": "2022-03-21T18:20:58.253Z"
   },
   {
    "duration": 235,
    "start_time": "2022-03-21T18:20:58.287Z"
   },
   {
    "duration": 8,
    "start_time": "2022-03-21T18:20:58.523Z"
   },
   {
    "duration": 8,
    "start_time": "2022-03-21T18:21:01.791Z"
   },
   {
    "duration": 215,
    "start_time": "2022-03-21T18:21:02.644Z"
   },
   {
    "duration": 11,
    "start_time": "2022-03-21T18:21:47.975Z"
   },
   {
    "duration": 10,
    "start_time": "2022-03-21T18:21:51.881Z"
   },
   {
    "duration": 14,
    "start_time": "2022-03-21T18:21:52.447Z"
   },
   {
    "duration": 22,
    "start_time": "2022-03-21T18:22:19.695Z"
   },
   {
    "duration": 5,
    "start_time": "2022-03-21T18:22:23.261Z"
   },
   {
    "duration": 13,
    "start_time": "2022-03-21T18:22:24.282Z"
   },
   {
    "duration": 259,
    "start_time": "2022-03-21T18:22:25.245Z"
   },
   {
    "duration": 5,
    "start_time": "2022-03-21T18:22:27.313Z"
   },
   {
    "duration": 3,
    "start_time": "2022-03-21T18:22:34.526Z"
   },
   {
    "duration": 9,
    "start_time": "2022-03-21T18:22:43.533Z"
   },
   {
    "duration": 14,
    "start_time": "2022-03-21T18:22:44.942Z"
   },
   {
    "duration": 114,
    "start_time": "2022-03-21T18:22:52.298Z"
   },
   {
    "duration": 128,
    "start_time": "2022-03-21T18:22:53.233Z"
   },
   {
    "duration": 8,
    "start_time": "2022-03-21T18:22:59.523Z"
   },
   {
    "duration": 14,
    "start_time": "2022-03-21T18:23:00.153Z"
   },
   {
    "duration": 124,
    "start_time": "2022-03-21T18:23:03.301Z"
   },
   {
    "duration": 181,
    "start_time": "2022-03-21T18:23:04.400Z"
   },
   {
    "duration": 8,
    "start_time": "2022-03-21T18:23:11.012Z"
   },
   {
    "duration": 10,
    "start_time": "2022-03-21T18:23:11.751Z"
   },
   {
    "duration": 10,
    "start_time": "2022-03-21T18:23:19.258Z"
   },
   {
    "duration": 12,
    "start_time": "2022-03-21T18:23:23.181Z"
   },
   {
    "duration": 258,
    "start_time": "2022-03-21T18:23:32.403Z"
   },
   {
    "duration": 8,
    "start_time": "2022-03-21T18:23:45.432Z"
   },
   {
    "duration": 15,
    "start_time": "2022-03-21T18:23:46.590Z"
   },
   {
    "duration": 282,
    "start_time": "2022-03-21T18:23:48.470Z"
   },
   {
    "duration": 10,
    "start_time": "2022-03-21T18:23:56.189Z"
   },
   {
    "duration": 14,
    "start_time": "2022-03-21T18:23:56.854Z"
   },
   {
    "duration": 186,
    "start_time": "2022-03-21T18:24:00.328Z"
   },
   {
    "duration": 25,
    "start_time": "2022-03-21T18:24:24.556Z"
   },
   {
    "duration": 23,
    "start_time": "2022-03-21T18:24:25.159Z"
   },
   {
    "duration": 21,
    "start_time": "2022-03-21T18:24:25.683Z"
   },
   {
    "duration": 23,
    "start_time": "2022-03-21T18:24:26.182Z"
   },
   {
    "duration": 28,
    "start_time": "2022-03-21T18:26:13.283Z"
   },
   {
    "duration": 625,
    "start_time": "2022-03-21T18:26:32.413Z"
   },
   {
    "duration": 105,
    "start_time": "2022-03-21T18:27:16.388Z"
   },
   {
    "duration": 132,
    "start_time": "2022-03-21T18:27:36.962Z"
   },
   {
    "duration": 155,
    "start_time": "2022-03-21T18:27:57.797Z"
   },
   {
    "duration": 121,
    "start_time": "2022-03-21T18:28:28.861Z"
   },
   {
    "duration": 100,
    "start_time": "2022-03-21T18:28:58.837Z"
   },
   {
    "duration": 11,
    "start_time": "2022-03-21T18:29:15.515Z"
   },
   {
    "duration": 2217,
    "start_time": "2022-03-21T18:29:17.773Z"
   },
   {
    "duration": 115,
    "start_time": "2022-03-21T18:29:30.111Z"
   },
   {
    "duration": 135,
    "start_time": "2022-03-21T18:30:29.313Z"
   },
   {
    "duration": 161,
    "start_time": "2022-03-21T18:30:47.831Z"
   },
   {
    "duration": 129,
    "start_time": "2022-03-21T18:31:02.620Z"
   },
   {
    "duration": 10,
    "start_time": "2022-03-21T19:02:02.658Z"
   },
   {
    "duration": 150,
    "start_time": "2022-03-21T19:03:04.345Z"
   },
   {
    "duration": 1109,
    "start_time": "2022-03-22T04:11:30.872Z"
   },
   {
    "duration": 94,
    "start_time": "2022-03-22T04:11:31.984Z"
   },
   {
    "duration": 14,
    "start_time": "2022-03-22T04:11:32.081Z"
   },
   {
    "duration": 152,
    "start_time": "2022-03-22T04:11:32.098Z"
   },
   {
    "duration": 37,
    "start_time": "2022-03-22T04:11:32.252Z"
   },
   {
    "duration": 46,
    "start_time": "2022-03-22T04:11:32.292Z"
   },
   {
    "duration": 6,
    "start_time": "2022-03-22T04:11:32.340Z"
   },
   {
    "duration": 28,
    "start_time": "2022-03-22T04:11:32.348Z"
   },
   {
    "duration": 5,
    "start_time": "2022-03-22T04:11:32.379Z"
   },
   {
    "duration": 110,
    "start_time": "2022-03-22T04:11:32.387Z"
   },
   {
    "duration": 21,
    "start_time": "2022-03-22T04:11:32.499Z"
   },
   {
    "duration": 116,
    "start_time": "2022-03-22T04:11:32.523Z"
   },
   {
    "duration": 15,
    "start_time": "2022-03-22T04:11:32.641Z"
   },
   {
    "duration": 6,
    "start_time": "2022-03-22T04:11:32.673Z"
   },
   {
    "duration": 13,
    "start_time": "2022-03-22T04:11:32.681Z"
   },
   {
    "duration": 7,
    "start_time": "2022-03-22T04:11:32.696Z"
   },
   {
    "duration": 15,
    "start_time": "2022-03-22T04:11:32.705Z"
   },
   {
    "duration": 429,
    "start_time": "2022-03-22T04:11:32.722Z"
   },
   {
    "duration": 22,
    "start_time": "2022-03-22T04:11:33.153Z"
   },
   {
    "duration": 507,
    "start_time": "2022-03-22T04:11:33.177Z"
   },
   {
    "duration": 16,
    "start_time": "2022-03-22T04:11:33.686Z"
   },
   {
    "duration": 15,
    "start_time": "2022-03-22T04:11:33.704Z"
   },
   {
    "duration": 53,
    "start_time": "2022-03-22T04:11:33.722Z"
   },
   {
    "duration": 32,
    "start_time": "2022-03-22T04:11:33.778Z"
   },
   {
    "duration": 6,
    "start_time": "2022-03-22T04:11:33.812Z"
   },
   {
    "duration": 27,
    "start_time": "2022-03-22T04:11:33.821Z"
   },
   {
    "duration": 544,
    "start_time": "2022-03-22T04:11:33.850Z"
   },
   {
    "duration": 7,
    "start_time": "2022-03-22T04:11:34.401Z"
   },
   {
    "duration": 8,
    "start_time": "2022-03-22T04:11:34.410Z"
   },
   {
    "duration": 16,
    "start_time": "2022-03-22T04:11:34.420Z"
   },
   {
    "duration": 53,
    "start_time": "2022-03-22T04:11:34.438Z"
   },
   {
    "duration": 218,
    "start_time": "2022-03-22T04:11:34.493Z"
   },
   {
    "duration": 252,
    "start_time": "2022-03-22T04:11:34.713Z"
   },
   {
    "duration": 17,
    "start_time": "2022-03-22T04:11:34.967Z"
   },
   {
    "duration": 21,
    "start_time": "2022-03-22T04:11:34.986Z"
   },
   {
    "duration": 227,
    "start_time": "2022-03-22T04:11:35.009Z"
   },
   {
    "duration": 320,
    "start_time": "2022-03-22T04:11:35.238Z"
   },
   {
    "duration": 21,
    "start_time": "2022-03-22T04:11:35.561Z"
   },
   {
    "duration": 14,
    "start_time": "2022-03-22T04:11:35.584Z"
   },
   {
    "duration": 15,
    "start_time": "2022-03-22T04:11:35.600Z"
   },
   {
    "duration": 23,
    "start_time": "2022-03-22T04:11:35.618Z"
   },
   {
    "duration": 285,
    "start_time": "2022-03-22T04:11:35.673Z"
   },
   {
    "duration": 20,
    "start_time": "2022-03-22T04:11:35.960Z"
   },
   {
    "duration": 22,
    "start_time": "2022-03-22T04:11:35.982Z"
   },
   {
    "duration": 333,
    "start_time": "2022-03-22T04:11:36.006Z"
   },
   {
    "duration": 13,
    "start_time": "2022-03-22T04:11:36.341Z"
   },
   {
    "duration": 37,
    "start_time": "2022-03-22T04:11:36.356Z"
   },
   {
    "duration": 333,
    "start_time": "2022-03-22T04:11:36.395Z"
   },
   {
    "duration": 206,
    "start_time": "2022-03-22T04:11:36.730Z"
   },
   {
    "duration": 301,
    "start_time": "2022-03-22T04:11:36.938Z"
   },
   {
    "duration": 225,
    "start_time": "2022-03-22T04:11:37.242Z"
   },
   {
    "duration": 228,
    "start_time": "2022-03-22T04:11:37.473Z"
   },
   {
    "duration": 204,
    "start_time": "2022-03-22T04:11:37.704Z"
   },
   {
    "duration": 20,
    "start_time": "2022-03-22T04:11:37.910Z"
   },
   {
    "duration": 4477,
    "start_time": "2022-03-22T04:11:37.933Z"
   },
   {
    "duration": 213,
    "start_time": "2022-03-22T04:11:42.416Z"
   },
   {
    "duration": 235,
    "start_time": "2022-03-22T04:12:07.707Z"
   },
   {
    "duration": 242,
    "start_time": "2022-03-22T04:13:41.845Z"
   },
   {
    "duration": 232,
    "start_time": "2022-03-22T04:13:54.979Z"
   },
   {
    "duration": 119,
    "start_time": "2022-03-22T04:14:27.256Z"
   },
   {
    "duration": 231,
    "start_time": "2022-03-22T04:14:52.361Z"
   },
   {
    "duration": 221,
    "start_time": "2022-03-22T04:17:37.918Z"
   },
   {
    "duration": 303,
    "start_time": "2022-03-22T04:18:50.629Z"
   },
   {
    "duration": 237,
    "start_time": "2022-03-22T04:24:44.100Z"
   },
   {
    "duration": 240,
    "start_time": "2022-03-22T04:25:30.653Z"
   },
   {
    "duration": 250,
    "start_time": "2022-03-22T04:25:57.278Z"
   },
   {
    "duration": 397,
    "start_time": "2022-03-22T04:27:24.700Z"
   },
   {
    "duration": 270,
    "start_time": "2022-03-22T04:28:29.238Z"
   },
   {
    "duration": 250,
    "start_time": "2022-03-22T04:36:03.394Z"
   },
   {
    "duration": 11,
    "start_time": "2022-03-22T04:36:51.406Z"
   },
   {
    "duration": 4,
    "start_time": "2022-03-22T04:36:58.168Z"
   },
   {
    "duration": 107,
    "start_time": "2022-03-22T04:36:58.180Z"
   },
   {
    "duration": 9,
    "start_time": "2022-03-22T04:36:58.290Z"
   },
   {
    "duration": 173,
    "start_time": "2022-03-22T04:36:58.301Z"
   },
   {
    "duration": 34,
    "start_time": "2022-03-22T04:36:58.477Z"
   },
   {
    "duration": 35,
    "start_time": "2022-03-22T04:36:58.513Z"
   },
   {
    "duration": 6,
    "start_time": "2022-03-22T04:36:58.574Z"
   },
   {
    "duration": 7,
    "start_time": "2022-03-22T04:36:58.583Z"
   },
   {
    "duration": 6,
    "start_time": "2022-03-22T04:36:58.592Z"
   },
   {
    "duration": 120,
    "start_time": "2022-03-22T04:36:58.601Z"
   },
   {
    "duration": 22,
    "start_time": "2022-03-22T04:36:58.725Z"
   },
   {
    "duration": 114,
    "start_time": "2022-03-22T04:36:58.750Z"
   },
   {
    "duration": 17,
    "start_time": "2022-03-22T04:36:58.866Z"
   },
   {
    "duration": 6,
    "start_time": "2022-03-22T04:36:58.885Z"
   },
   {
    "duration": 15,
    "start_time": "2022-03-22T04:36:58.893Z"
   },
   {
    "duration": 6,
    "start_time": "2022-03-22T04:36:58.910Z"
   },
   {
    "duration": 56,
    "start_time": "2022-03-22T04:36:58.918Z"
   },
   {
    "duration": 394,
    "start_time": "2022-03-22T04:36:58.976Z"
   },
   {
    "duration": 13,
    "start_time": "2022-03-22T04:36:59.371Z"
   },
   {
    "duration": 438,
    "start_time": "2022-03-22T04:36:59.386Z"
   },
   {
    "duration": 16,
    "start_time": "2022-03-22T04:36:59.826Z"
   },
   {
    "duration": 31,
    "start_time": "2022-03-22T04:36:59.844Z"
   },
   {
    "duration": 20,
    "start_time": "2022-03-22T04:36:59.877Z"
   },
   {
    "duration": 30,
    "start_time": "2022-03-22T04:36:59.900Z"
   },
   {
    "duration": 5,
    "start_time": "2022-03-22T04:36:59.932Z"
   },
   {
    "duration": 17,
    "start_time": "2022-03-22T04:36:59.973Z"
   },
   {
    "duration": 488,
    "start_time": "2022-03-22T04:36:59.992Z"
   },
   {
    "duration": 7,
    "start_time": "2022-03-22T04:37:00.483Z"
   },
   {
    "duration": 16,
    "start_time": "2022-03-22T04:37:00.496Z"
   },
   {
    "duration": 30,
    "start_time": "2022-03-22T04:37:00.514Z"
   },
   {
    "duration": 29,
    "start_time": "2022-03-22T04:37:00.546Z"
   },
   {
    "duration": 211,
    "start_time": "2022-03-22T04:37:00.577Z"
   },
   {
    "duration": 241,
    "start_time": "2022-03-22T04:37:00.790Z"
   },
   {
    "duration": 14,
    "start_time": "2022-03-22T04:37:01.034Z"
   },
   {
    "duration": 40,
    "start_time": "2022-03-22T04:37:01.051Z"
   },
   {
    "duration": 219,
    "start_time": "2022-03-22T04:37:01.093Z"
   },
   {
    "duration": 338,
    "start_time": "2022-03-22T04:37:01.315Z"
   },
   {
    "duration": 20,
    "start_time": "2022-03-22T04:37:01.655Z"
   },
   {
    "duration": 29,
    "start_time": "2022-03-22T04:37:01.678Z"
   },
   {
    "duration": 27,
    "start_time": "2022-03-22T04:37:01.710Z"
   },
   {
    "duration": 50,
    "start_time": "2022-03-22T04:37:01.740Z"
   },
   {
    "duration": 294,
    "start_time": "2022-03-22T04:37:01.793Z"
   },
   {
    "duration": 12,
    "start_time": "2022-03-22T04:37:02.090Z"
   },
   {
    "duration": 38,
    "start_time": "2022-03-22T04:37:02.104Z"
   },
   {
    "duration": 459,
    "start_time": "2022-03-22T04:37:02.145Z"
   },
   {
    "duration": 12,
    "start_time": "2022-03-22T04:37:02.606Z"
   },
   {
    "duration": 23,
    "start_time": "2022-03-22T04:37:02.620Z"
   },
   {
    "duration": 346,
    "start_time": "2022-03-22T04:37:02.645Z"
   },
   {
    "duration": 209,
    "start_time": "2022-03-22T04:37:02.993Z"
   },
   {
    "duration": 230,
    "start_time": "2022-03-22T04:37:03.205Z"
   },
   {
    "duration": 227,
    "start_time": "2022-03-22T04:37:03.437Z"
   },
   {
    "duration": 237,
    "start_time": "2022-03-22T04:37:03.674Z"
   },
   {
    "duration": 210,
    "start_time": "2022-03-22T04:37:03.914Z"
   },
   {
    "duration": 22,
    "start_time": "2022-03-22T04:37:04.127Z"
   },
   {
    "duration": 4731,
    "start_time": "2022-03-22T04:37:04.152Z"
   },
   {
    "duration": 279,
    "start_time": "2022-03-22T04:37:08.885Z"
   },
   {
    "duration": 252,
    "start_time": "2022-03-22T04:37:09.174Z"
   },
   {
    "duration": 256,
    "start_time": "2022-03-22T04:37:09.429Z"
   },
   {
    "duration": 273,
    "start_time": "2022-03-22T04:37:09.688Z"
   },
   {
    "duration": 16,
    "start_time": "2022-03-22T04:37:09.964Z"
   },
   {
    "duration": 24,
    "start_time": "2022-03-22T04:37:09.983Z"
   },
   {
    "duration": 14,
    "start_time": "2022-03-22T04:37:10.010Z"
   },
   {
    "duration": 45,
    "start_time": "2022-03-22T04:37:10.028Z"
   },
   {
    "duration": 15,
    "start_time": "2022-03-22T04:37:10.076Z"
   },
   {
    "duration": 5,
    "start_time": "2022-03-22T04:37:10.093Z"
   },
   {
    "duration": 465,
    "start_time": "2022-03-22T04:37:10.101Z"
   },
   {
    "duration": 7,
    "start_time": "2022-03-22T04:37:10.568Z"
   },
   {
    "duration": 14,
    "start_time": "2022-03-22T04:37:10.578Z"
   },
   {
    "duration": 34,
    "start_time": "2022-03-22T04:37:10.594Z"
   },
   {
    "duration": 72,
    "start_time": "2022-03-22T04:37:10.630Z"
   },
   {
    "duration": 36,
    "start_time": "2022-03-22T04:37:10.704Z"
   },
   {
    "duration": 57,
    "start_time": "2022-03-22T04:37:10.742Z"
   },
   {
    "duration": 309,
    "start_time": "2022-03-22T04:37:10.802Z"
   },
   {
    "duration": 626,
    "start_time": "2022-03-22T04:46:30.648Z"
   },
   {
    "duration": 533,
    "start_time": "2022-03-22T04:48:11.820Z"
   },
   {
    "duration": 523,
    "start_time": "2022-03-22T04:51:17.823Z"
   },
   {
    "duration": 528,
    "start_time": "2022-03-22T04:54:19.001Z"
   },
   {
    "duration": 276,
    "start_time": "2022-03-22T04:54:50.184Z"
   },
   {
    "duration": 506,
    "start_time": "2022-03-22T04:55:05.101Z"
   },
   {
    "duration": 253,
    "start_time": "2022-03-22T04:55:45.260Z"
   },
   {
    "duration": 259,
    "start_time": "2022-03-22T04:59:02.646Z"
   },
   {
    "duration": 272,
    "start_time": "2022-03-22T05:01:08.246Z"
   },
   {
    "duration": 272,
    "start_time": "2022-03-22T05:02:36.339Z"
   },
   {
    "duration": 260,
    "start_time": "2022-03-22T05:02:48.280Z"
   },
   {
    "duration": 260,
    "start_time": "2022-03-22T05:04:01.589Z"
   },
   {
    "duration": 252,
    "start_time": "2022-03-22T05:06:14.424Z"
   },
   {
    "duration": 529,
    "start_time": "2022-03-22T05:10:20.700Z"
   },
   {
    "duration": 212,
    "start_time": "2022-03-22T05:11:58.240Z"
   },
   {
    "duration": 1070,
    "start_time": "2022-03-22T05:20:47.739Z"
   },
   {
    "duration": 397,
    "start_time": "2022-03-22T05:21:28.083Z"
   },
   {
    "duration": 122,
    "start_time": "2022-03-22T05:29:43.568Z"
   },
   {
    "duration": 1566,
    "start_time": "2022-03-22T05:29:53.467Z"
   },
   {
    "duration": 1486,
    "start_time": "2022-03-22T05:31:51.537Z"
   },
   {
    "duration": 280,
    "start_time": "2022-03-22T05:32:09.190Z"
   },
   {
    "duration": 35,
    "start_time": "2022-03-22T05:40:04.499Z"
   },
   {
    "duration": 31,
    "start_time": "2022-03-22T05:41:26.478Z"
   },
   {
    "duration": 4,
    "start_time": "2022-03-22T05:41:31.766Z"
   },
   {
    "duration": 99,
    "start_time": "2022-03-22T05:41:31.780Z"
   },
   {
    "duration": 10,
    "start_time": "2022-03-22T05:41:31.882Z"
   },
   {
    "duration": 159,
    "start_time": "2022-03-22T05:41:31.895Z"
   },
   {
    "duration": 43,
    "start_time": "2022-03-22T05:41:32.057Z"
   },
   {
    "duration": 36,
    "start_time": "2022-03-22T05:41:32.103Z"
   },
   {
    "duration": 6,
    "start_time": "2022-03-22T05:41:32.141Z"
   },
   {
    "duration": 29,
    "start_time": "2022-03-22T05:41:32.149Z"
   },
   {
    "duration": 6,
    "start_time": "2022-03-22T05:41:32.181Z"
   },
   {
    "duration": 109,
    "start_time": "2022-03-22T05:41:32.189Z"
   },
   {
    "duration": 22,
    "start_time": "2022-03-22T05:41:32.300Z"
   },
   {
    "duration": 119,
    "start_time": "2022-03-22T05:41:32.324Z"
   },
   {
    "duration": 12,
    "start_time": "2022-03-22T05:41:32.445Z"
   },
   {
    "duration": 17,
    "start_time": "2022-03-22T05:41:32.459Z"
   },
   {
    "duration": 13,
    "start_time": "2022-03-22T05:41:32.481Z"
   },
   {
    "duration": 6,
    "start_time": "2022-03-22T05:41:32.497Z"
   },
   {
    "duration": 13,
    "start_time": "2022-03-22T05:41:32.505Z"
   },
   {
    "duration": 441,
    "start_time": "2022-03-22T05:41:32.520Z"
   },
   {
    "duration": 16,
    "start_time": "2022-03-22T05:41:32.963Z"
   },
   {
    "duration": 411,
    "start_time": "2022-03-22T05:41:32.982Z"
   },
   {
    "duration": 15,
    "start_time": "2022-03-22T05:41:33.395Z"
   },
   {
    "duration": 14,
    "start_time": "2022-03-22T05:41:33.412Z"
   },
   {
    "duration": 51,
    "start_time": "2022-03-22T05:41:33.429Z"
   },
   {
    "duration": 32,
    "start_time": "2022-03-22T05:41:33.482Z"
   },
   {
    "duration": 6,
    "start_time": "2022-03-22T05:41:33.516Z"
   },
   {
    "duration": 51,
    "start_time": "2022-03-22T05:41:33.524Z"
   },
   {
    "duration": 467,
    "start_time": "2022-03-22T05:41:33.577Z"
   },
   {
    "duration": 7,
    "start_time": "2022-03-22T05:41:34.046Z"
   },
   {
    "duration": 19,
    "start_time": "2022-03-22T05:41:34.055Z"
   },
   {
    "duration": 15,
    "start_time": "2022-03-22T05:41:34.076Z"
   },
   {
    "duration": 20,
    "start_time": "2022-03-22T05:41:34.093Z"
   },
   {
    "duration": 225,
    "start_time": "2022-03-22T05:41:34.116Z"
   },
   {
    "duration": 247,
    "start_time": "2022-03-22T05:41:34.343Z"
   },
   {
    "duration": 12,
    "start_time": "2022-03-22T05:41:34.592Z"
   },
   {
    "duration": 21,
    "start_time": "2022-03-22T05:41:34.606Z"
   },
   {
    "duration": 228,
    "start_time": "2022-03-22T05:41:34.629Z"
   },
   {
    "duration": 335,
    "start_time": "2022-03-22T05:41:34.859Z"
   },
   {
    "duration": 13,
    "start_time": "2022-03-22T05:41:35.196Z"
   },
   {
    "duration": 13,
    "start_time": "2022-03-22T05:41:35.211Z"
   },
   {
    "duration": 15,
    "start_time": "2022-03-22T05:41:35.226Z"
   },
   {
    "duration": 20,
    "start_time": "2022-03-22T05:41:35.276Z"
   },
   {
    "duration": 303,
    "start_time": "2022-03-22T05:41:35.303Z"
   },
   {
    "duration": 12,
    "start_time": "2022-03-22T05:41:35.609Z"
   },
   {
    "duration": 21,
    "start_time": "2022-03-22T05:41:35.624Z"
   },
   {
    "duration": 313,
    "start_time": "2022-03-22T05:41:35.674Z"
   },
   {
    "duration": 12,
    "start_time": "2022-03-22T05:41:35.989Z"
   },
   {
    "duration": 22,
    "start_time": "2022-03-22T05:41:36.004Z"
   },
   {
    "duration": 350,
    "start_time": "2022-03-22T05:41:36.028Z"
   },
   {
    "duration": 213,
    "start_time": "2022-03-22T05:41:36.380Z"
   },
   {
    "duration": 473,
    "start_time": "2022-03-22T05:41:36.596Z"
   },
   {
    "duration": 240,
    "start_time": "2022-03-22T05:41:37.071Z"
   },
   {
    "duration": 272,
    "start_time": "2022-03-22T05:41:37.313Z"
   },
   {
    "duration": 214,
    "start_time": "2022-03-22T05:41:37.587Z"
   },
   {
    "duration": 22,
    "start_time": "2022-03-22T05:41:37.804Z"
   },
   {
    "duration": 4521,
    "start_time": "2022-03-22T05:41:37.828Z"
   },
   {
    "duration": 260,
    "start_time": "2022-03-22T05:41:42.351Z"
   },
   {
    "duration": 247,
    "start_time": "2022-03-22T05:41:42.613Z"
   },
   {
    "duration": 243,
    "start_time": "2022-03-22T05:41:42.862Z"
   },
   {
    "duration": 267,
    "start_time": "2022-03-22T05:41:43.107Z"
   },
   {
    "duration": 9,
    "start_time": "2022-03-22T05:41:43.377Z"
   },
   {
    "duration": 23,
    "start_time": "2022-03-22T05:41:43.389Z"
   },
   {
    "duration": 14,
    "start_time": "2022-03-22T05:41:43.414Z"
   },
   {
    "duration": 4,
    "start_time": "2022-03-22T05:41:43.430Z"
   },
   {
    "duration": 48,
    "start_time": "2022-03-22T05:41:43.437Z"
   },
   {
    "duration": 5,
    "start_time": "2022-03-22T05:41:43.487Z"
   },
   {
    "duration": 464,
    "start_time": "2022-03-22T05:41:43.495Z"
   },
   {
    "duration": 12,
    "start_time": "2022-03-22T05:41:43.962Z"
   },
   {
    "duration": 12,
    "start_time": "2022-03-22T05:41:43.976Z"
   },
   {
    "duration": 35,
    "start_time": "2022-03-22T05:41:43.990Z"
   },
   {
    "duration": 62,
    "start_time": "2022-03-22T05:41:44.027Z"
   },
   {
    "duration": 33,
    "start_time": "2022-03-22T05:41:44.091Z"
   },
   {
    "duration": 55,
    "start_time": "2022-03-22T05:41:44.127Z"
   },
   {
    "duration": 32,
    "start_time": "2022-03-22T05:41:44.188Z"
   },
   {
    "duration": 34,
    "start_time": "2022-03-22T05:42:31.618Z"
   },
   {
    "duration": 287,
    "start_time": "2022-03-22T05:42:53.656Z"
   },
   {
    "duration": 286,
    "start_time": "2022-03-22T05:43:33.475Z"
   },
   {
    "duration": 532,
    "start_time": "2022-03-22T05:44:03.971Z"
   },
   {
    "duration": 304,
    "start_time": "2022-03-22T05:46:18.320Z"
   },
   {
    "duration": 277,
    "start_time": "2022-03-22T05:49:23.443Z"
   },
   {
    "duration": 252,
    "start_time": "2022-03-22T06:11:51.311Z"
   },
   {
    "duration": 256,
    "start_time": "2022-03-22T06:43:50.403Z"
   },
   {
    "duration": 221,
    "start_time": "2022-03-22T06:45:21.774Z"
   },
   {
    "duration": 23,
    "start_time": "2022-03-22T06:45:45.421Z"
   },
   {
    "duration": 4,
    "start_time": "2022-03-22T06:47:41.636Z"
   },
   {
    "duration": 87,
    "start_time": "2022-03-22T06:47:41.670Z"
   },
   {
    "duration": 9,
    "start_time": "2022-03-22T06:47:41.773Z"
   },
   {
    "duration": 168,
    "start_time": "2022-03-22T06:47:41.784Z"
   },
   {
    "duration": 38,
    "start_time": "2022-03-22T06:47:41.955Z"
   },
   {
    "duration": 53,
    "start_time": "2022-03-22T06:47:41.996Z"
   },
   {
    "duration": 14,
    "start_time": "2022-03-22T06:47:42.051Z"
   },
   {
    "duration": 12,
    "start_time": "2022-03-22T06:47:42.067Z"
   },
   {
    "duration": 14,
    "start_time": "2022-03-22T06:47:42.081Z"
   },
   {
    "duration": 99,
    "start_time": "2022-03-22T06:47:42.097Z"
   },
   {
    "duration": 22,
    "start_time": "2022-03-22T06:47:42.198Z"
   },
   {
    "duration": 118,
    "start_time": "2022-03-22T06:47:42.222Z"
   },
   {
    "duration": 12,
    "start_time": "2022-03-22T06:47:42.343Z"
   },
   {
    "duration": 5,
    "start_time": "2022-03-22T06:47:42.373Z"
   },
   {
    "duration": 25,
    "start_time": "2022-03-22T06:47:42.383Z"
   },
   {
    "duration": 10,
    "start_time": "2022-03-22T06:47:42.410Z"
   },
   {
    "duration": 27,
    "start_time": "2022-03-22T06:47:42.422Z"
   },
   {
    "duration": 403,
    "start_time": "2022-03-22T06:47:42.452Z"
   },
   {
    "duration": 20,
    "start_time": "2022-03-22T06:47:42.857Z"
   },
   {
    "duration": 412,
    "start_time": "2022-03-22T06:47:42.879Z"
   },
   {
    "duration": 15,
    "start_time": "2022-03-22T06:47:43.294Z"
   },
   {
    "duration": 21,
    "start_time": "2022-03-22T06:47:43.311Z"
   },
   {
    "duration": 45,
    "start_time": "2022-03-22T06:47:43.335Z"
   },
   {
    "duration": 31,
    "start_time": "2022-03-22T06:47:43.382Z"
   },
   {
    "duration": 16,
    "start_time": "2022-03-22T06:47:43.416Z"
   },
   {
    "duration": 38,
    "start_time": "2022-03-22T06:47:43.435Z"
   },
   {
    "duration": 484,
    "start_time": "2022-03-22T06:47:43.475Z"
   },
   {
    "duration": 13,
    "start_time": "2022-03-22T06:47:43.962Z"
   },
   {
    "duration": 17,
    "start_time": "2022-03-22T06:47:43.977Z"
   },
   {
    "duration": 40,
    "start_time": "2022-03-22T06:47:43.996Z"
   },
   {
    "duration": 27,
    "start_time": "2022-03-22T06:47:44.038Z"
   },
   {
    "duration": 240,
    "start_time": "2022-03-22T06:47:44.067Z"
   },
   {
    "duration": 268,
    "start_time": "2022-03-22T06:47:44.309Z"
   },
   {
    "duration": 12,
    "start_time": "2022-03-22T06:47:44.579Z"
   },
   {
    "duration": 32,
    "start_time": "2022-03-22T06:47:44.594Z"
   },
   {
    "duration": 220,
    "start_time": "2022-03-22T06:47:44.628Z"
   },
   {
    "duration": 338,
    "start_time": "2022-03-22T06:47:44.851Z"
   },
   {
    "duration": 13,
    "start_time": "2022-03-22T06:47:45.191Z"
   },
   {
    "duration": 35,
    "start_time": "2022-03-22T06:47:45.206Z"
   },
   {
    "duration": 28,
    "start_time": "2022-03-22T06:47:45.243Z"
   },
   {
    "duration": 23,
    "start_time": "2022-03-22T06:47:45.273Z"
   },
   {
    "duration": 288,
    "start_time": "2022-03-22T06:47:45.304Z"
   },
   {
    "duration": 12,
    "start_time": "2022-03-22T06:47:45.594Z"
   },
   {
    "duration": 32,
    "start_time": "2022-03-22T06:47:45.608Z"
   },
   {
    "duration": 326,
    "start_time": "2022-03-22T06:47:45.643Z"
   },
   {
    "duration": 13,
    "start_time": "2022-03-22T06:47:45.974Z"
   },
   {
    "duration": 27,
    "start_time": "2022-03-22T06:47:45.989Z"
   },
   {
    "duration": 349,
    "start_time": "2022-03-22T06:47:46.018Z"
   },
   {
    "duration": 211,
    "start_time": "2022-03-22T06:47:46.373Z"
   },
   {
    "duration": 234,
    "start_time": "2022-03-22T06:47:46.586Z"
   },
   {
    "duration": 231,
    "start_time": "2022-03-22T06:47:46.823Z"
   },
   {
    "duration": 234,
    "start_time": "2022-03-22T06:47:47.056Z"
   },
   {
    "duration": 206,
    "start_time": "2022-03-22T06:47:47.293Z"
   },
   {
    "duration": 20,
    "start_time": "2022-03-22T06:47:47.501Z"
   },
   {
    "duration": 4953,
    "start_time": "2022-03-22T06:47:47.523Z"
   },
   {
    "duration": 274,
    "start_time": "2022-03-22T06:47:52.478Z"
   },
   {
    "duration": 251,
    "start_time": "2022-03-22T06:47:52.754Z"
   },
   {
    "duration": 268,
    "start_time": "2022-03-22T06:47:53.008Z"
   },
   {
    "duration": 278,
    "start_time": "2022-03-22T06:47:53.279Z"
   },
   {
    "duration": 16,
    "start_time": "2022-03-22T06:47:53.559Z"
   },
   {
    "duration": 23,
    "start_time": "2022-03-22T06:47:53.577Z"
   },
   {
    "duration": 15,
    "start_time": "2022-03-22T06:47:53.602Z"
   },
   {
    "duration": 4,
    "start_time": "2022-03-22T06:47:53.620Z"
   },
   {
    "duration": 57,
    "start_time": "2022-03-22T06:47:53.626Z"
   },
   {
    "duration": 6,
    "start_time": "2022-03-22T06:47:53.685Z"
   },
   {
    "duration": 482,
    "start_time": "2022-03-22T06:47:53.694Z"
   },
   {
    "duration": 4,
    "start_time": "2022-03-22T06:47:54.178Z"
   },
   {
    "duration": 15,
    "start_time": "2022-03-22T06:47:54.185Z"
   },
   {
    "duration": 65,
    "start_time": "2022-03-22T06:47:54.243Z"
   },
   {
    "duration": 36,
    "start_time": "2022-03-22T06:49:29.737Z"
   },
   {
    "duration": 18,
    "start_time": "2022-03-22T07:17:55.692Z"
   },
   {
    "duration": 15,
    "start_time": "2022-03-22T07:18:14.081Z"
   },
   {
    "duration": 9,
    "start_time": "2022-03-22T07:43:31.264Z"
   },
   {
    "duration": 263,
    "start_time": "2022-03-22T07:45:46.624Z"
   },
   {
    "duration": 276,
    "start_time": "2022-03-22T07:47:16.049Z"
   },
   {
    "duration": 273,
    "start_time": "2022-03-22T07:48:32.303Z"
   },
   {
    "duration": 222,
    "start_time": "2022-03-22T07:49:06.098Z"
   },
   {
    "duration": 4,
    "start_time": "2022-03-22T07:54:50.902Z"
   },
   {
    "duration": 93,
    "start_time": "2022-03-22T07:54:50.909Z"
   },
   {
    "duration": 11,
    "start_time": "2022-03-22T07:54:51.005Z"
   },
   {
    "duration": 179,
    "start_time": "2022-03-22T07:54:51.021Z"
   },
   {
    "duration": 33,
    "start_time": "2022-03-22T07:54:51.203Z"
   },
   {
    "duration": 51,
    "start_time": "2022-03-22T07:54:51.240Z"
   },
   {
    "duration": 5,
    "start_time": "2022-03-22T07:54:51.294Z"
   },
   {
    "duration": 11,
    "start_time": "2022-03-22T07:54:51.302Z"
   },
   {
    "duration": 8,
    "start_time": "2022-03-22T07:54:51.317Z"
   },
   {
    "duration": 114,
    "start_time": "2022-03-22T07:54:51.327Z"
   },
   {
    "duration": 35,
    "start_time": "2022-03-22T07:54:51.444Z"
   },
   {
    "duration": 114,
    "start_time": "2022-03-22T07:54:51.481Z"
   },
   {
    "duration": 16,
    "start_time": "2022-03-22T07:54:51.598Z"
   },
   {
    "duration": 6,
    "start_time": "2022-03-22T07:54:51.616Z"
   },
   {
    "duration": 48,
    "start_time": "2022-03-22T07:54:51.625Z"
   },
   {
    "duration": 7,
    "start_time": "2022-03-22T07:54:51.676Z"
   },
   {
    "duration": 12,
    "start_time": "2022-03-22T07:54:51.685Z"
   },
   {
    "duration": 424,
    "start_time": "2022-03-22T07:54:51.700Z"
   },
   {
    "duration": 15,
    "start_time": "2022-03-22T07:54:52.126Z"
   },
   {
    "duration": 538,
    "start_time": "2022-03-22T07:54:52.144Z"
   },
   {
    "duration": 18,
    "start_time": "2022-03-22T07:54:52.685Z"
   },
   {
    "duration": 16,
    "start_time": "2022-03-22T07:54:52.707Z"
   },
   {
    "duration": 63,
    "start_time": "2022-03-22T07:54:52.726Z"
   },
   {
    "duration": 33,
    "start_time": "2022-03-22T07:54:52.797Z"
   },
   {
    "duration": 6,
    "start_time": "2022-03-22T07:54:52.833Z"
   },
   {
    "duration": 53,
    "start_time": "2022-03-22T07:54:52.842Z"
   },
   {
    "duration": 803,
    "start_time": "2022-03-22T07:54:52.898Z"
   },
   {
    "duration": 9,
    "start_time": "2022-03-22T07:54:53.704Z"
   },
   {
    "duration": 12,
    "start_time": "2022-03-22T07:54:53.715Z"
   },
   {
    "duration": 16,
    "start_time": "2022-03-22T07:54:53.730Z"
   },
   {
    "duration": 41,
    "start_time": "2022-03-22T07:54:53.749Z"
   },
   {
    "duration": 218,
    "start_time": "2022-03-22T07:54:53.793Z"
   },
   {
    "duration": 248,
    "start_time": "2022-03-22T07:54:54.013Z"
   },
   {
    "duration": 20,
    "start_time": "2022-03-22T07:54:54.263Z"
   },
   {
    "duration": 33,
    "start_time": "2022-03-22T07:54:54.286Z"
   },
   {
    "duration": 213,
    "start_time": "2022-03-22T07:54:54.322Z"
   },
   {
    "duration": 329,
    "start_time": "2022-03-22T07:54:54.538Z"
   },
   {
    "duration": 13,
    "start_time": "2022-03-22T07:54:54.869Z"
   },
   {
    "duration": 19,
    "start_time": "2022-03-22T07:54:54.884Z"
   },
   {
    "duration": 18,
    "start_time": "2022-03-22T07:54:54.905Z"
   },
   {
    "duration": 38,
    "start_time": "2022-03-22T07:54:54.925Z"
   },
   {
    "duration": 297,
    "start_time": "2022-03-22T07:54:54.974Z"
   },
   {
    "duration": 12,
    "start_time": "2022-03-22T07:54:55.273Z"
   },
   {
    "duration": 28,
    "start_time": "2022-03-22T07:54:55.288Z"
   },
   {
    "duration": 336,
    "start_time": "2022-03-22T07:54:55.318Z"
   },
   {
    "duration": 23,
    "start_time": "2022-03-22T07:54:55.657Z"
   },
   {
    "duration": 43,
    "start_time": "2022-03-22T07:54:55.682Z"
   },
   {
    "duration": 496,
    "start_time": "2022-03-22T07:54:55.727Z"
   },
   {
    "duration": 610,
    "start_time": "2022-03-22T07:54:56.226Z"
   },
   {
    "duration": 243,
    "start_time": "2022-03-22T07:54:56.839Z"
   },
   {
    "duration": 258,
    "start_time": "2022-03-22T07:54:57.085Z"
   },
   {
    "duration": 269,
    "start_time": "2022-03-22T07:54:57.345Z"
   },
   {
    "duration": 221,
    "start_time": "2022-03-22T07:54:57.617Z"
   },
   {
    "duration": 33,
    "start_time": "2022-03-22T07:54:57.840Z"
   },
   {
    "duration": 4573,
    "start_time": "2022-03-22T07:54:57.876Z"
   },
   {
    "duration": 381,
    "start_time": "2022-03-22T07:55:02.451Z"
   },
   {
    "duration": 348,
    "start_time": "2022-03-22T07:55:02.835Z"
   },
   {
    "duration": 351,
    "start_time": "2022-03-22T07:55:03.185Z"
   },
   {
    "duration": 380,
    "start_time": "2022-03-22T07:55:03.539Z"
   },
   {
    "duration": 14,
    "start_time": "2022-03-22T07:55:03.921Z"
   },
   {
    "duration": 52,
    "start_time": "2022-03-22T07:55:03.938Z"
   },
   {
    "duration": 21,
    "start_time": "2022-03-22T07:55:03.993Z"
   },
   {
    "duration": 4,
    "start_time": "2022-03-22T07:55:04.016Z"
   },
   {
    "duration": 15,
    "start_time": "2022-03-22T07:55:04.022Z"
   },
   {
    "duration": 39,
    "start_time": "2022-03-22T07:55:04.039Z"
   },
   {
    "duration": 477,
    "start_time": "2022-03-22T07:55:04.080Z"
   },
   {
    "duration": 16,
    "start_time": "2022-03-22T07:55:04.560Z"
   },
   {
    "duration": 15,
    "start_time": "2022-03-22T07:55:04.579Z"
   },
   {
    "duration": 36,
    "start_time": "2022-03-22T07:55:04.603Z"
   },
   {
    "duration": 59,
    "start_time": "2022-03-22T07:55:04.642Z"
   },
   {
    "duration": 35,
    "start_time": "2022-03-22T07:55:04.703Z"
   },
   {
    "duration": 58,
    "start_time": "2022-03-22T07:55:04.741Z"
   },
   {
    "duration": 296,
    "start_time": "2022-03-22T07:55:04.802Z"
   },
   {
    "duration": 296,
    "start_time": "2022-03-22T07:55:05.101Z"
   },
   {
    "duration": 253,
    "start_time": "2022-03-22T07:55:05.400Z"
   },
   {
    "duration": 274,
    "start_time": "2022-03-22T07:55:05.656Z"
   },
   {
    "duration": 376,
    "start_time": "2022-03-22T07:55:05.933Z"
   },
   {
    "duration": 299,
    "start_time": "2022-03-22T07:55:06.313Z"
   },
   {
    "duration": 724,
    "start_time": "2022-03-22T15:12:12.800Z"
   },
   {
    "duration": 70,
    "start_time": "2022-03-22T15:12:13.526Z"
   },
   {
    "duration": 10,
    "start_time": "2022-03-22T15:12:13.597Z"
   },
   {
    "duration": 110,
    "start_time": "2022-03-22T15:12:13.609Z"
   },
   {
    "duration": 21,
    "start_time": "2022-03-22T15:12:13.721Z"
   },
   {
    "duration": 31,
    "start_time": "2022-03-22T15:12:13.744Z"
   },
   {
    "duration": 4,
    "start_time": "2022-03-22T15:12:13.777Z"
   },
   {
    "duration": 8,
    "start_time": "2022-03-22T15:12:13.782Z"
   },
   {
    "duration": 4,
    "start_time": "2022-03-22T15:12:13.792Z"
   },
   {
    "duration": 85,
    "start_time": "2022-03-22T15:12:13.799Z"
   },
   {
    "duration": 15,
    "start_time": "2022-03-22T15:12:13.885Z"
   },
   {
    "duration": 79,
    "start_time": "2022-03-22T15:12:13.901Z"
   },
   {
    "duration": 10,
    "start_time": "2022-03-22T15:12:13.981Z"
   },
   {
    "duration": 3,
    "start_time": "2022-03-22T15:12:13.993Z"
   },
   {
    "duration": 9,
    "start_time": "2022-03-22T15:12:13.998Z"
   },
   {
    "duration": 27,
    "start_time": "2022-03-22T15:12:14.009Z"
   },
   {
    "duration": 10,
    "start_time": "2022-03-22T15:12:14.037Z"
   },
   {
    "duration": 237,
    "start_time": "2022-03-22T15:12:14.049Z"
   },
   {
    "duration": 9,
    "start_time": "2022-03-22T15:12:14.288Z"
   },
   {
    "duration": 313,
    "start_time": "2022-03-22T15:12:14.298Z"
   },
   {
    "duration": 20,
    "start_time": "2022-03-22T15:12:14.613Z"
   },
   {
    "duration": 10,
    "start_time": "2022-03-22T15:12:14.635Z"
   },
   {
    "duration": 15,
    "start_time": "2022-03-22T15:12:14.647Z"
   },
   {
    "duration": 25,
    "start_time": "2022-03-22T15:12:14.664Z"
   },
   {
    "duration": 8,
    "start_time": "2022-03-22T15:12:14.691Z"
   },
   {
    "duration": 39,
    "start_time": "2022-03-22T15:12:14.701Z"
   },
   {
    "duration": 352,
    "start_time": "2022-03-22T15:12:14.742Z"
   },
   {
    "duration": 5,
    "start_time": "2022-03-22T15:12:15.098Z"
   },
   {
    "duration": 7,
    "start_time": "2022-03-22T15:12:15.105Z"
   },
   {
    "duration": 20,
    "start_time": "2022-03-22T15:12:15.113Z"
   },
   {
    "duration": 15,
    "start_time": "2022-03-22T15:12:15.135Z"
   },
   {
    "duration": 139,
    "start_time": "2022-03-22T15:12:15.152Z"
   },
   {
    "duration": 150,
    "start_time": "2022-03-22T15:12:15.293Z"
   },
   {
    "duration": 8,
    "start_time": "2022-03-22T15:12:15.445Z"
   },
   {
    "duration": 14,
    "start_time": "2022-03-22T15:12:15.454Z"
   },
   {
    "duration": 143,
    "start_time": "2022-03-22T15:12:15.470Z"
   },
   {
    "duration": 197,
    "start_time": "2022-03-22T15:12:15.615Z"
   },
   {
    "duration": 8,
    "start_time": "2022-03-22T15:12:15.814Z"
   },
   {
    "duration": 34,
    "start_time": "2022-03-22T15:12:15.824Z"
   },
   {
    "duration": 10,
    "start_time": "2022-03-22T15:12:15.860Z"
   },
   {
    "duration": 14,
    "start_time": "2022-03-22T15:12:15.872Z"
   },
   {
    "duration": 174,
    "start_time": "2022-03-22T15:12:15.888Z"
   },
   {
    "duration": 9,
    "start_time": "2022-03-22T15:12:16.063Z"
   },
   {
    "duration": 15,
    "start_time": "2022-03-22T15:12:16.073Z"
   },
   {
    "duration": 252,
    "start_time": "2022-03-22T15:12:16.090Z"
   },
   {
    "duration": 11,
    "start_time": "2022-03-22T15:12:16.344Z"
   },
   {
    "duration": 15,
    "start_time": "2022-03-22T15:12:16.357Z"
   },
   {
    "duration": 227,
    "start_time": "2022-03-22T15:12:16.374Z"
   },
   {
    "duration": 135,
    "start_time": "2022-03-22T15:12:16.602Z"
   },
   {
    "duration": 214,
    "start_time": "2022-03-22T15:12:16.739Z"
   },
   {
    "duration": 139,
    "start_time": "2022-03-22T15:12:16.954Z"
   },
   {
    "duration": 149,
    "start_time": "2022-03-22T15:12:17.095Z"
   },
   {
    "duration": 133,
    "start_time": "2022-03-22T15:12:17.246Z"
   },
   {
    "duration": 15,
    "start_time": "2022-03-22T15:12:17.381Z"
   },
   {
    "duration": 2772,
    "start_time": "2022-03-22T15:12:17.398Z"
   },
   {
    "duration": 152,
    "start_time": "2022-03-22T15:12:20.172Z"
   },
   {
    "duration": 151,
    "start_time": "2022-03-22T15:12:20.326Z"
   },
   {
    "duration": 160,
    "start_time": "2022-03-22T15:12:20.479Z"
   },
   {
    "duration": 165,
    "start_time": "2022-03-22T15:12:20.640Z"
   },
   {
    "duration": 8,
    "start_time": "2022-03-22T15:12:20.806Z"
   },
   {
    "duration": 26,
    "start_time": "2022-03-22T15:12:20.815Z"
   },
   {
    "duration": 9,
    "start_time": "2022-03-22T15:12:20.843Z"
   },
   {
    "duration": 8,
    "start_time": "2022-03-22T15:12:20.853Z"
   },
   {
    "duration": 13,
    "start_time": "2022-03-22T15:12:20.863Z"
   },
   {
    "duration": 4,
    "start_time": "2022-03-22T15:12:20.877Z"
   },
   {
    "duration": 287,
    "start_time": "2022-03-22T15:12:20.883Z"
   },
   {
    "duration": 3,
    "start_time": "2022-03-22T15:12:21.172Z"
   },
   {
    "duration": 12,
    "start_time": "2022-03-22T15:12:21.177Z"
   },
   {
    "duration": 26,
    "start_time": "2022-03-22T15:12:21.190Z"
   },
   {
    "duration": 23,
    "start_time": "2022-03-22T15:12:21.233Z"
   },
   {
    "duration": 22,
    "start_time": "2022-03-22T15:12:21.258Z"
   },
   {
    "duration": 22,
    "start_time": "2022-03-22T15:12:21.283Z"
   },
   {
    "duration": 174,
    "start_time": "2022-03-22T15:12:21.332Z"
   },
   {
    "duration": 195,
    "start_time": "2022-03-22T15:12:21.508Z"
   },
   {
    "duration": 153,
    "start_time": "2022-03-22T15:12:21.704Z"
   },
   {
    "duration": 281,
    "start_time": "2022-03-22T15:12:21.859Z"
   },
   {
    "duration": 165,
    "start_time": "2022-03-22T15:12:22.143Z"
   },
   {
    "duration": 178,
    "start_time": "2022-03-22T15:12:22.310Z"
   },
   {
    "duration": 12,
    "start_time": "2022-03-22T15:15:22.021Z"
   },
   {
    "duration": 14,
    "start_time": "2022-03-22T15:18:11.521Z"
   },
   {
    "duration": 784,
    "start_time": "2022-03-22T15:18:17.521Z"
   },
   {
    "duration": 74,
    "start_time": "2022-03-22T15:18:18.307Z"
   },
   {
    "duration": 9,
    "start_time": "2022-03-22T15:18:18.383Z"
   },
   {
    "duration": 103,
    "start_time": "2022-03-22T15:18:18.394Z"
   },
   {
    "duration": 20,
    "start_time": "2022-03-22T15:18:18.498Z"
   },
   {
    "duration": 41,
    "start_time": "2022-03-22T15:18:18.519Z"
   },
   {
    "duration": 4,
    "start_time": "2022-03-22T15:18:18.562Z"
   },
   {
    "duration": 7,
    "start_time": "2022-03-22T15:18:18.568Z"
   },
   {
    "duration": 5,
    "start_time": "2022-03-22T15:18:18.576Z"
   },
   {
    "duration": 87,
    "start_time": "2022-03-22T15:18:18.584Z"
   },
   {
    "duration": 17,
    "start_time": "2022-03-22T15:18:18.673Z"
   },
   {
    "duration": 100,
    "start_time": "2022-03-22T15:18:18.691Z"
   },
   {
    "duration": 10,
    "start_time": "2022-03-22T15:18:18.793Z"
   },
   {
    "duration": 3,
    "start_time": "2022-03-22T15:18:18.805Z"
   },
   {
    "duration": 10,
    "start_time": "2022-03-22T15:18:18.810Z"
   },
   {
    "duration": 5,
    "start_time": "2022-03-22T15:18:18.833Z"
   },
   {
    "duration": 13,
    "start_time": "2022-03-22T15:18:18.840Z"
   },
   {
    "duration": 245,
    "start_time": "2022-03-22T15:18:18.854Z"
   },
   {
    "duration": 9,
    "start_time": "2022-03-22T15:18:19.101Z"
   },
   {
    "duration": 312,
    "start_time": "2022-03-22T15:18:19.112Z"
   },
   {
    "duration": 16,
    "start_time": "2022-03-22T15:18:19.426Z"
   },
   {
    "duration": 12,
    "start_time": "2022-03-22T15:18:19.444Z"
   },
   {
    "duration": 97,
    "start_time": "2022-03-22T15:18:19.458Z"
   },
   {
    "duration": 0,
    "start_time": "2022-03-22T15:18:19.614Z"
   },
   {
    "duration": 0,
    "start_time": "2022-03-22T15:18:19.615Z"
   },
   {
    "duration": 0,
    "start_time": "2022-03-22T15:18:19.616Z"
   },
   {
    "duration": 0,
    "start_time": "2022-03-22T15:18:19.618Z"
   },
   {
    "duration": 0,
    "start_time": "2022-03-22T15:18:19.619Z"
   },
   {
    "duration": 0,
    "start_time": "2022-03-22T15:18:19.633Z"
   },
   {
    "duration": 0,
    "start_time": "2022-03-22T15:18:19.635Z"
   },
   {
    "duration": 0,
    "start_time": "2022-03-22T15:18:19.636Z"
   },
   {
    "duration": 1,
    "start_time": "2022-03-22T15:18:19.637Z"
   },
   {
    "duration": 0,
    "start_time": "2022-03-22T15:18:19.639Z"
   },
   {
    "duration": 0,
    "start_time": "2022-03-22T15:18:19.640Z"
   },
   {
    "duration": 0,
    "start_time": "2022-03-22T15:18:19.642Z"
   },
   {
    "duration": 0,
    "start_time": "2022-03-22T15:18:19.643Z"
   },
   {
    "duration": 0,
    "start_time": "2022-03-22T15:18:19.645Z"
   },
   {
    "duration": 0,
    "start_time": "2022-03-22T15:18:19.646Z"
   },
   {
    "duration": 0,
    "start_time": "2022-03-22T15:18:19.648Z"
   },
   {
    "duration": 0,
    "start_time": "2022-03-22T15:18:19.649Z"
   },
   {
    "duration": 0,
    "start_time": "2022-03-22T15:18:19.651Z"
   },
   {
    "duration": 0,
    "start_time": "2022-03-22T15:18:19.652Z"
   },
   {
    "duration": 0,
    "start_time": "2022-03-22T15:18:19.653Z"
   },
   {
    "duration": 0,
    "start_time": "2022-03-22T15:18:19.655Z"
   },
   {
    "duration": 0,
    "start_time": "2022-03-22T15:18:19.656Z"
   },
   {
    "duration": 0,
    "start_time": "2022-03-22T15:18:19.658Z"
   },
   {
    "duration": 0,
    "start_time": "2022-03-22T15:18:19.659Z"
   },
   {
    "duration": 0,
    "start_time": "2022-03-22T15:18:19.661Z"
   },
   {
    "duration": 0,
    "start_time": "2022-03-22T15:18:19.662Z"
   },
   {
    "duration": 0,
    "start_time": "2022-03-22T15:18:19.663Z"
   },
   {
    "duration": 0,
    "start_time": "2022-03-22T15:18:19.665Z"
   },
   {
    "duration": 0,
    "start_time": "2022-03-22T15:18:19.666Z"
   },
   {
    "duration": 0,
    "start_time": "2022-03-22T15:18:19.668Z"
   },
   {
    "duration": 0,
    "start_time": "2022-03-22T15:18:19.669Z"
   },
   {
    "duration": 0,
    "start_time": "2022-03-22T15:18:19.671Z"
   },
   {
    "duration": 0,
    "start_time": "2022-03-22T15:18:19.732Z"
   },
   {
    "duration": 0,
    "start_time": "2022-03-22T15:18:19.734Z"
   },
   {
    "duration": 0,
    "start_time": "2022-03-22T15:18:19.736Z"
   },
   {
    "duration": 0,
    "start_time": "2022-03-22T15:18:19.737Z"
   },
   {
    "duration": 0,
    "start_time": "2022-03-22T15:18:19.738Z"
   },
   {
    "duration": 0,
    "start_time": "2022-03-22T15:18:19.739Z"
   },
   {
    "duration": 0,
    "start_time": "2022-03-22T15:18:19.741Z"
   },
   {
    "duration": 0,
    "start_time": "2022-03-22T15:18:19.742Z"
   },
   {
    "duration": 0,
    "start_time": "2022-03-22T15:18:19.743Z"
   },
   {
    "duration": 0,
    "start_time": "2022-03-22T15:18:19.745Z"
   },
   {
    "duration": 0,
    "start_time": "2022-03-22T15:18:19.746Z"
   },
   {
    "duration": 0,
    "start_time": "2022-03-22T15:18:19.748Z"
   },
   {
    "duration": 0,
    "start_time": "2022-03-22T15:18:19.749Z"
   },
   {
    "duration": 0,
    "start_time": "2022-03-22T15:18:19.750Z"
   },
   {
    "duration": 0,
    "start_time": "2022-03-22T15:18:19.752Z"
   },
   {
    "duration": 0,
    "start_time": "2022-03-22T15:18:19.753Z"
   },
   {
    "duration": 0,
    "start_time": "2022-03-22T15:18:19.754Z"
   },
   {
    "duration": 0,
    "start_time": "2022-03-22T15:18:19.756Z"
   },
   {
    "duration": 0,
    "start_time": "2022-03-22T15:18:19.757Z"
   },
   {
    "duration": 0,
    "start_time": "2022-03-22T15:18:19.758Z"
   },
   {
    "duration": 0,
    "start_time": "2022-03-22T15:18:19.759Z"
   },
   {
    "duration": 0,
    "start_time": "2022-03-22T15:18:19.760Z"
   },
   {
    "duration": 0,
    "start_time": "2022-03-22T15:18:19.762Z"
   },
   {
    "duration": 0,
    "start_time": "2022-03-22T15:18:19.762Z"
   },
   {
    "duration": 703,
    "start_time": "2022-03-22T15:18:35.256Z"
   },
   {
    "duration": 73,
    "start_time": "2022-03-22T15:18:35.961Z"
   },
   {
    "duration": 11,
    "start_time": "2022-03-22T15:18:36.036Z"
   },
   {
    "duration": 115,
    "start_time": "2022-03-22T15:18:36.049Z"
   },
   {
    "duration": 20,
    "start_time": "2022-03-22T15:18:36.166Z"
   },
   {
    "duration": 45,
    "start_time": "2022-03-22T15:18:36.188Z"
   },
   {
    "duration": 5,
    "start_time": "2022-03-22T15:18:36.234Z"
   },
   {
    "duration": 8,
    "start_time": "2022-03-22T15:18:36.241Z"
   },
   {
    "duration": 5,
    "start_time": "2022-03-22T15:18:36.251Z"
   },
   {
    "duration": 81,
    "start_time": "2022-03-22T15:18:36.259Z"
   },
   {
    "duration": 15,
    "start_time": "2022-03-22T15:18:36.342Z"
   },
   {
    "duration": 82,
    "start_time": "2022-03-22T15:18:36.358Z"
   },
   {
    "duration": 10,
    "start_time": "2022-03-22T15:18:36.441Z"
   },
   {
    "duration": 3,
    "start_time": "2022-03-22T15:18:36.453Z"
   },
   {
    "duration": 9,
    "start_time": "2022-03-22T15:18:36.458Z"
   },
   {
    "duration": 4,
    "start_time": "2022-03-22T15:18:36.469Z"
   },
   {
    "duration": 10,
    "start_time": "2022-03-22T15:18:36.475Z"
   },
   {
    "duration": 268,
    "start_time": "2022-03-22T15:18:36.487Z"
   },
   {
    "duration": 10,
    "start_time": "2022-03-22T15:18:36.757Z"
   },
   {
    "duration": 314,
    "start_time": "2022-03-22T15:18:36.769Z"
   },
   {
    "duration": 12,
    "start_time": "2022-03-22T15:18:37.084Z"
   },
   {
    "duration": 9,
    "start_time": "2022-03-22T15:18:37.098Z"
   },
   {
    "duration": 36,
    "start_time": "2022-03-22T15:18:37.109Z"
   },
   {
    "duration": 13,
    "start_time": "2022-03-22T15:18:37.146Z"
   },
   {
    "duration": 21,
    "start_time": "2022-03-22T15:18:37.160Z"
   },
   {
    "duration": 4,
    "start_time": "2022-03-22T15:18:37.182Z"
   },
   {
    "duration": 18,
    "start_time": "2022-03-22T15:18:37.188Z"
   },
   {
    "duration": 282,
    "start_time": "2022-03-22T15:18:37.291Z"
   },
   {
    "duration": 5,
    "start_time": "2022-03-22T15:18:37.574Z"
   },
   {
    "duration": 5,
    "start_time": "2022-03-22T15:18:37.581Z"
   },
   {
    "duration": 11,
    "start_time": "2022-03-22T15:18:37.587Z"
   },
   {
    "duration": 34,
    "start_time": "2022-03-22T15:18:37.600Z"
   },
   {
    "duration": 131,
    "start_time": "2022-03-22T15:18:37.635Z"
   },
   {
    "duration": 147,
    "start_time": "2022-03-22T15:18:37.767Z"
   },
   {
    "duration": 18,
    "start_time": "2022-03-22T15:18:37.915Z"
   },
   {
    "duration": 16,
    "start_time": "2022-03-22T15:18:37.935Z"
   },
   {
    "duration": 140,
    "start_time": "2022-03-22T15:18:37.953Z"
   },
   {
    "duration": 213,
    "start_time": "2022-03-22T15:18:38.095Z"
   },
   {
    "duration": 8,
    "start_time": "2022-03-22T15:18:38.310Z"
   },
   {
    "duration": 24,
    "start_time": "2022-03-22T15:18:38.320Z"
   },
   {
    "duration": 12,
    "start_time": "2022-03-22T15:18:38.346Z"
   },
   {
    "duration": 17,
    "start_time": "2022-03-22T15:18:38.360Z"
   },
   {
    "duration": 187,
    "start_time": "2022-03-22T15:18:38.379Z"
   },
   {
    "duration": 10,
    "start_time": "2022-03-22T15:18:38.568Z"
   },
   {
    "duration": 15,
    "start_time": "2022-03-22T15:18:38.580Z"
   },
   {
    "duration": 202,
    "start_time": "2022-03-22T15:18:38.597Z"
   },
   {
    "duration": 10,
    "start_time": "2022-03-22T15:18:38.801Z"
   },
   {
    "duration": 34,
    "start_time": "2022-03-22T15:18:38.813Z"
   },
   {
    "duration": 205,
    "start_time": "2022-03-22T15:18:38.849Z"
   },
   {
    "duration": 133,
    "start_time": "2022-03-22T15:18:39.056Z"
   },
   {
    "duration": 216,
    "start_time": "2022-03-22T15:18:39.191Z"
   },
   {
    "duration": 150,
    "start_time": "2022-03-22T15:18:39.409Z"
   },
   {
    "duration": 146,
    "start_time": "2022-03-22T15:18:39.560Z"
   },
   {
    "duration": 132,
    "start_time": "2022-03-22T15:18:39.708Z"
   },
   {
    "duration": 14,
    "start_time": "2022-03-22T15:18:39.842Z"
   },
   {
    "duration": 2808,
    "start_time": "2022-03-22T15:18:39.857Z"
   },
   {
    "duration": 141,
    "start_time": "2022-03-22T15:18:42.667Z"
   },
   {
    "duration": 148,
    "start_time": "2022-03-22T15:18:42.810Z"
   },
   {
    "duration": 149,
    "start_time": "2022-03-22T15:18:42.960Z"
   },
   {
    "duration": 165,
    "start_time": "2022-03-22T15:18:43.111Z"
   },
   {
    "duration": 8,
    "start_time": "2022-03-22T15:18:43.278Z"
   },
   {
    "duration": 24,
    "start_time": "2022-03-22T15:18:43.287Z"
   },
   {
    "duration": 21,
    "start_time": "2022-03-22T15:18:43.313Z"
   },
   {
    "duration": 7,
    "start_time": "2022-03-22T15:18:43.335Z"
   },
   {
    "duration": 18,
    "start_time": "2022-03-22T15:18:43.344Z"
   },
   {
    "duration": 3,
    "start_time": "2022-03-22T15:18:43.364Z"
   },
   {
    "duration": 271,
    "start_time": "2022-03-22T15:18:43.368Z"
   },
   {
    "duration": 3,
    "start_time": "2022-03-22T15:18:43.640Z"
   },
   {
    "duration": 12,
    "start_time": "2022-03-22T15:18:43.644Z"
   },
   {
    "duration": 23,
    "start_time": "2022-03-22T15:18:43.658Z"
   },
   {
    "duration": 22,
    "start_time": "2022-03-22T15:18:43.683Z"
   },
   {
    "duration": 24,
    "start_time": "2022-03-22T15:18:43.733Z"
   },
   {
    "duration": 23,
    "start_time": "2022-03-22T15:18:43.759Z"
   },
   {
    "duration": 186,
    "start_time": "2022-03-22T15:18:43.784Z"
   },
   {
    "duration": 183,
    "start_time": "2022-03-22T15:18:43.972Z"
   },
   {
    "duration": 146,
    "start_time": "2022-03-22T15:18:44.157Z"
   },
   {
    "duration": 270,
    "start_time": "2022-03-22T15:18:44.305Z"
   },
   {
    "duration": 165,
    "start_time": "2022-03-22T15:18:44.577Z"
   },
   {
    "duration": 182,
    "start_time": "2022-03-22T15:18:44.744Z"
   }
  ],
  "kernelspec": {
   "display_name": "Python 3 (ipykernel)",
   "language": "python",
   "name": "python3"
  },
  "language_info": {
   "codemirror_mode": {
    "name": "ipython",
    "version": 3
   },
   "file_extension": ".py",
   "mimetype": "text/x-python",
   "name": "python",
   "nbconvert_exporter": "python",
   "pygments_lexer": "ipython3",
   "version": "3.9.7"
  },
  "toc": {
   "base_numbering": 1,
   "nav_menu": {},
   "number_sections": true,
   "sideBar": true,
   "skip_h1_title": true,
   "title_cell": "Содержание",
   "title_sidebar": "Contents",
   "toc_cell": true,
   "toc_position": {},
   "toc_section_display": true,
   "toc_window_display": false
  }
 },
 "nbformat": 4,
 "nbformat_minor": 4
}
