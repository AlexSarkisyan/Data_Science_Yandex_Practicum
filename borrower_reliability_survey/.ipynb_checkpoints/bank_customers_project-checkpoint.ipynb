{
 "cells": [
  {
   "cell_type": "markdown",
   "id": "9d661e20",
   "metadata": {},
   "source": [
    "# Исследование надежности заемщиков."
   ]
  },
  {
   "cell_type": "markdown",
   "id": "d7345603",
   "metadata": {},
   "source": [
    "**Цель исследования**\n",
    "    \n",
    "Определить как влияет:\n",
    "- семейное положение,\n",
    "- количество детей клиента,\n",
    "- уровень доходов,\n",
    "- цели кредита\n",
    "\n",
    "на факт погашения кредита в срок.    \n",
    "    \n",
    "\n",
    "**Ход исследования**\n",
    "\n",
    " 1. Обзор данных.\n",
    " 2. Предобработка данных.\n",
    " 3. Проверка гипотезы."
   ]
  },
  {
   "cell_type": "markdown",
   "id": "71d7fc2e",
   "metadata": {},
   "source": [
    "## Обзор данных"
   ]
  },
  {
   "cell_type": "code",
   "execution_count": 1,
   "id": "bc13669c",
   "metadata": {},
   "outputs": [],
   "source": [
    "import pandas as pd"
   ]
  },
  {
   "cell_type": "code",
   "execution_count": 2,
   "id": "9cc898c5",
   "metadata": {},
   "outputs": [],
   "source": [
    "df = pd.read_csv('/datasets/data.csv')"
   ]
  },
  {
   "cell_type": "code",
   "execution_count": 3,
   "id": "93c95080",
   "metadata": {},
   "outputs": [
    {
     "data": {
      "text/html": [
       "<div>\n",
       "<style scoped>\n",
       "    .dataframe tbody tr th:only-of-type {\n",
       "        vertical-align: middle;\n",
       "    }\n",
       "\n",
       "    .dataframe tbody tr th {\n",
       "        vertical-align: top;\n",
       "    }\n",
       "\n",
       "    .dataframe thead th {\n",
       "        text-align: right;\n",
       "    }\n",
       "</style>\n",
       "<table border=\"1\" class=\"dataframe\">\n",
       "  <thead>\n",
       "    <tr style=\"text-align: right;\">\n",
       "      <th></th>\n",
       "      <th>children</th>\n",
       "      <th>days_employed</th>\n",
       "      <th>dob_years</th>\n",
       "      <th>education</th>\n",
       "      <th>education_id</th>\n",
       "      <th>family_status</th>\n",
       "      <th>family_status_id</th>\n",
       "      <th>gender</th>\n",
       "      <th>income_type</th>\n",
       "      <th>debt</th>\n",
       "      <th>total_income</th>\n",
       "      <th>purpose</th>\n",
       "    </tr>\n",
       "  </thead>\n",
       "  <tbody>\n",
       "    <tr>\n",
       "      <td>0</td>\n",
       "      <td>1</td>\n",
       "      <td>-8437.673028</td>\n",
       "      <td>42</td>\n",
       "      <td>высшее</td>\n",
       "      <td>0</td>\n",
       "      <td>женат / замужем</td>\n",
       "      <td>0</td>\n",
       "      <td>F</td>\n",
       "      <td>сотрудник</td>\n",
       "      <td>0</td>\n",
       "      <td>253875.639453</td>\n",
       "      <td>покупка жилья</td>\n",
       "    </tr>\n",
       "    <tr>\n",
       "      <td>1</td>\n",
       "      <td>1</td>\n",
       "      <td>-4024.803754</td>\n",
       "      <td>36</td>\n",
       "      <td>среднее</td>\n",
       "      <td>1</td>\n",
       "      <td>женат / замужем</td>\n",
       "      <td>0</td>\n",
       "      <td>F</td>\n",
       "      <td>сотрудник</td>\n",
       "      <td>0</td>\n",
       "      <td>112080.014102</td>\n",
       "      <td>приобретение автомобиля</td>\n",
       "    </tr>\n",
       "    <tr>\n",
       "      <td>2</td>\n",
       "      <td>0</td>\n",
       "      <td>-5623.422610</td>\n",
       "      <td>33</td>\n",
       "      <td>Среднее</td>\n",
       "      <td>1</td>\n",
       "      <td>женат / замужем</td>\n",
       "      <td>0</td>\n",
       "      <td>M</td>\n",
       "      <td>сотрудник</td>\n",
       "      <td>0</td>\n",
       "      <td>145885.952297</td>\n",
       "      <td>покупка жилья</td>\n",
       "    </tr>\n",
       "    <tr>\n",
       "      <td>3</td>\n",
       "      <td>3</td>\n",
       "      <td>-4124.747207</td>\n",
       "      <td>32</td>\n",
       "      <td>среднее</td>\n",
       "      <td>1</td>\n",
       "      <td>женат / замужем</td>\n",
       "      <td>0</td>\n",
       "      <td>M</td>\n",
       "      <td>сотрудник</td>\n",
       "      <td>0</td>\n",
       "      <td>267628.550329</td>\n",
       "      <td>дополнительное образование</td>\n",
       "    </tr>\n",
       "    <tr>\n",
       "      <td>4</td>\n",
       "      <td>0</td>\n",
       "      <td>340266.072047</td>\n",
       "      <td>53</td>\n",
       "      <td>среднее</td>\n",
       "      <td>1</td>\n",
       "      <td>гражданский брак</td>\n",
       "      <td>1</td>\n",
       "      <td>F</td>\n",
       "      <td>пенсионер</td>\n",
       "      <td>0</td>\n",
       "      <td>158616.077870</td>\n",
       "      <td>сыграть свадьбу</td>\n",
       "    </tr>\n",
       "    <tr>\n",
       "      <td>5</td>\n",
       "      <td>0</td>\n",
       "      <td>-926.185831</td>\n",
       "      <td>27</td>\n",
       "      <td>высшее</td>\n",
       "      <td>0</td>\n",
       "      <td>гражданский брак</td>\n",
       "      <td>1</td>\n",
       "      <td>M</td>\n",
       "      <td>компаньон</td>\n",
       "      <td>0</td>\n",
       "      <td>255763.565419</td>\n",
       "      <td>покупка жилья</td>\n",
       "    </tr>\n",
       "    <tr>\n",
       "      <td>6</td>\n",
       "      <td>0</td>\n",
       "      <td>-2879.202052</td>\n",
       "      <td>43</td>\n",
       "      <td>высшее</td>\n",
       "      <td>0</td>\n",
       "      <td>женат / замужем</td>\n",
       "      <td>0</td>\n",
       "      <td>F</td>\n",
       "      <td>компаньон</td>\n",
       "      <td>0</td>\n",
       "      <td>240525.971920</td>\n",
       "      <td>операции с жильем</td>\n",
       "    </tr>\n",
       "    <tr>\n",
       "      <td>7</td>\n",
       "      <td>0</td>\n",
       "      <td>-152.779569</td>\n",
       "      <td>50</td>\n",
       "      <td>СРЕДНЕЕ</td>\n",
       "      <td>1</td>\n",
       "      <td>женат / замужем</td>\n",
       "      <td>0</td>\n",
       "      <td>M</td>\n",
       "      <td>сотрудник</td>\n",
       "      <td>0</td>\n",
       "      <td>135823.934197</td>\n",
       "      <td>образование</td>\n",
       "    </tr>\n",
       "    <tr>\n",
       "      <td>8</td>\n",
       "      <td>2</td>\n",
       "      <td>-6929.865299</td>\n",
       "      <td>35</td>\n",
       "      <td>ВЫСШЕЕ</td>\n",
       "      <td>0</td>\n",
       "      <td>гражданский брак</td>\n",
       "      <td>1</td>\n",
       "      <td>F</td>\n",
       "      <td>сотрудник</td>\n",
       "      <td>0</td>\n",
       "      <td>95856.832424</td>\n",
       "      <td>на проведение свадьбы</td>\n",
       "    </tr>\n",
       "    <tr>\n",
       "      <td>9</td>\n",
       "      <td>0</td>\n",
       "      <td>-2188.756445</td>\n",
       "      <td>41</td>\n",
       "      <td>среднее</td>\n",
       "      <td>1</td>\n",
       "      <td>женат / замужем</td>\n",
       "      <td>0</td>\n",
       "      <td>M</td>\n",
       "      <td>сотрудник</td>\n",
       "      <td>0</td>\n",
       "      <td>144425.938277</td>\n",
       "      <td>покупка жилья для семьи</td>\n",
       "    </tr>\n",
       "  </tbody>\n",
       "</table>\n",
       "</div>"
      ],
      "text/plain": [
       "   children  days_employed  dob_years education  education_id  \\\n",
       "0         1   -8437.673028         42    высшее             0   \n",
       "1         1   -4024.803754         36   среднее             1   \n",
       "2         0   -5623.422610         33   Среднее             1   \n",
       "3         3   -4124.747207         32   среднее             1   \n",
       "4         0  340266.072047         53   среднее             1   \n",
       "5         0    -926.185831         27    высшее             0   \n",
       "6         0   -2879.202052         43    высшее             0   \n",
       "7         0    -152.779569         50   СРЕДНЕЕ             1   \n",
       "8         2   -6929.865299         35    ВЫСШЕЕ             0   \n",
       "9         0   -2188.756445         41   среднее             1   \n",
       "\n",
       "      family_status  family_status_id gender income_type  debt   total_income  \\\n",
       "0   женат / замужем                 0      F   сотрудник     0  253875.639453   \n",
       "1   женат / замужем                 0      F   сотрудник     0  112080.014102   \n",
       "2   женат / замужем                 0      M   сотрудник     0  145885.952297   \n",
       "3   женат / замужем                 0      M   сотрудник     0  267628.550329   \n",
       "4  гражданский брак                 1      F   пенсионер     0  158616.077870   \n",
       "5  гражданский брак                 1      M   компаньон     0  255763.565419   \n",
       "6   женат / замужем                 0      F   компаньон     0  240525.971920   \n",
       "7   женат / замужем                 0      M   сотрудник     0  135823.934197   \n",
       "8  гражданский брак                 1      F   сотрудник     0   95856.832424   \n",
       "9   женат / замужем                 0      M   сотрудник     0  144425.938277   \n",
       "\n",
       "                      purpose  \n",
       "0               покупка жилья  \n",
       "1     приобретение автомобиля  \n",
       "2               покупка жилья  \n",
       "3  дополнительное образование  \n",
       "4             сыграть свадьбу  \n",
       "5               покупка жилья  \n",
       "6           операции с жильем  \n",
       "7                 образование  \n",
       "8       на проведение свадьбы  \n",
       "9     покупка жилья для семьи  "
      ]
     },
     "execution_count": 3,
     "metadata": {},
     "output_type": "execute_result"
    }
   ],
   "source": [
    "df.head(10)"
   ]
  },
  {
   "cell_type": "code",
   "execution_count": 4,
   "id": "a958cc07",
   "metadata": {},
   "outputs": [
    {
     "name": "stdout",
     "output_type": "stream",
     "text": [
      "<class 'pandas.core.frame.DataFrame'>\n",
      "RangeIndex: 21525 entries, 0 to 21524\n",
      "Data columns (total 12 columns):\n",
      "children            21525 non-null int64\n",
      "days_employed       19351 non-null float64\n",
      "dob_years           21525 non-null int64\n",
      "education           21525 non-null object\n",
      "education_id        21525 non-null int64\n",
      "family_status       21525 non-null object\n",
      "family_status_id    21525 non-null int64\n",
      "gender              21525 non-null object\n",
      "income_type         21525 non-null object\n",
      "debt                21525 non-null int64\n",
      "total_income        19351 non-null float64\n",
      "purpose             21525 non-null object\n",
      "dtypes: float64(2), int64(5), object(5)\n",
      "memory usage: 2.0+ MB\n"
     ]
    }
   ],
   "source": [
    "df.info()"
   ]
  },
  {
   "cell_type": "markdown",
   "id": "827ee29f",
   "metadata": {},
   "source": [
    "**Итак, в таблице 12 столбцов.**\n",
    "\n",
    "Описание данных:\n",
    "* 'children' — количество детей в семье\n",
    "* 'days_employed' — общий трудовой стаж в днях\n",
    "* 'dob_years' — возраст клиента в годах\n",
    "* 'education' — уровень образования клиента\n",
    "* 'education_id' — идентификатор уровня образования\n",
    "* 'family_status' — семейное положение\n",
    "* 'family_status_id' — идентификатор семейного положения\n",
    "* 'gender' — пол клиента\n",
    "* 'income_type' — тип занятости\n",
    "* 'debt' — имел ли задолженность по возврату кредитов\n",
    "* 'total_income' — ежемесячный доход\n",
    "* 'purpose' — цель получения кредита\n",
    "\n",
    "В названиях колонок соблюдены основные требования к стилю:\n",
    "1. Строчные буквы.\n",
    "2. Отсутствие пробелов.\n",
    "3. Использован «змеиный_регистр» (snake_case).\n",
    "\n",
    "\n",
    "**Количество значений в столбцах различается. Значит, в данных есть пропущенные значения.**"
   ]
  },
  {
   "cell_type": "markdown",
   "id": "44ea5b88",
   "metadata": {},
   "source": [
    "**Выводы**\n",
    "\n",
    "В каждой строке таблицы — данные о клиенте банка.\n",
    "Данные делятся на:\n",
    "* категориальные:\n",
    "\n",
    "уровень образования клиента, идентификатор уровня образования, семейное положение, идентификатор семейного положения, пол клиента, тип занятости, имел ли задолженность по возврату кредитов, цель получения кредита\n",
    "\n",
    "* количественные:\n",
    "\n",
    "количество детей в семье, общий трудовой стаж в днях, возраст клиента в годах, ежемесячный доход\n",
    "\n",
    "\n",
    "Предварительно можно утверждать, что, данных достаточно для проверки гипотезы. \n",
    "При этом надо отметить, что в данных встречаются:\n",
    "* пропуски\n",
    "* артефакты (аномалии) — значения, которые не отражают действительность и появились по какой-то ошибке. Например, отрицательное количество дней трудового стажа в столбце days_employed\n",
    "\n",
    "Чтобы двигаться дальше, нужно устранить проблемы в данных."
   ]
  },
  {
   "cell_type": "markdown",
   "id": "411b520f",
   "metadata": {},
   "source": [
    "## Предобработка данных"
   ]
  },
  {
   "cell_type": "markdown",
   "id": "58ebc9f1",
   "metadata": {},
   "source": [
    "### Заполнение пропусков"
   ]
  },
  {
   "cell_type": "code",
   "execution_count": 5,
   "id": "fdb7e248",
   "metadata": {},
   "outputs": [
    {
     "data": {
      "text/plain": [
       "children               0\n",
       "days_employed       2174\n",
       "dob_years              0\n",
       "education              0\n",
       "education_id           0\n",
       "family_status          0\n",
       "family_status_id       0\n",
       "gender                 0\n",
       "income_type            0\n",
       "debt                   0\n",
       "total_income        2174\n",
       "purpose                0\n",
       "dtype: int64"
      ]
     },
     "execution_count": 5,
     "metadata": {},
     "output_type": "execute_result"
    }
   ],
   "source": [
    "df.isna().sum() # подсчёт пропусков"
   ]
  },
  {
   "cell_type": "markdown",
   "id": "47074529",
   "metadata": {},
   "source": [
    "Пропущенные значения обнаружены в столбцах:\n",
    "* 'days_employed' — общий трудовой стаж в днях\n",
    "* 'total_income' — ежемесячный доход\n",
    "\n",
    "в одинаковом количестве."
   ]
  },
  {
   "cell_type": "code",
   "execution_count": 6,
   "id": "e5143f44",
   "metadata": {},
   "outputs": [
    {
     "data": {
      "text/plain": [
       "children               0\n",
       "days_employed       2174\n",
       "dob_years              0\n",
       "education              0\n",
       "education_id           0\n",
       "family_status          0\n",
       "family_status_id       0\n",
       "gender                 0\n",
       "income_type            0\n",
       "debt                   0\n",
       "total_income        2174\n",
       "purpose                0\n",
       "dtype: int64"
      ]
     },
     "execution_count": 6,
     "metadata": {},
     "output_type": "execute_result"
    }
   ],
   "source": [
    "# проверка на совпадение пропущенных значений в строках по столбцам 'days_employed' и 'total_income' \n",
    "df[df['days_employed'].isna()].isna().sum()"
   ]
  },
  {
   "cell_type": "markdown",
   "id": "62e57c19",
   "metadata": {},
   "source": [
    "**Пропущенные значения в строках по столбцам 'days_employed' и 'total_income' совпадают.**"
   ]
  },
  {
   "cell_type": "code",
   "execution_count": 7,
   "id": "19d13092",
   "metadata": {},
   "outputs": [
    {
     "name": "stdout",
     "output_type": "stream",
     "text": [
      "Доля пропущенных значений в каждом из столбцов с пропусками: 10%\n"
     ]
    }
   ],
   "source": [
    "# проверка, какую долю составляют пропущенные значения в каждом из столбцов с пропусками;\n",
    "\n",
    "share_missing_values = df['days_employed'].isna().sum()/len(df)\n",
    "\n",
    "print(f'Доля пропущенных значений в каждом из столбцов с пропусками: {share_missing_values:.0%}')"
   ]
  },
  {
   "cell_type": "markdown",
   "id": "201adb1c",
   "metadata": {},
   "source": [
    "Возможные причины появления пропусков в данных:\n",
    "- технологические - возникают при копировании, считывании, смене формата, сбой во время записи данных\n",
    "- человеческий фактор - опечатка в тексте, укажут другой порядок величин, перепутают числа или категориальные значения\n",
    "\n"
   ]
  },
  {
   "cell_type": "markdown",
   "id": "6efbacc1",
   "metadata": {},
   "source": [
    "* 'days_employed' — общий трудовой стаж в днях\n",
    "* 'total_income' — ежемесячный доход\n",
    "\n",
    "Это количественные переменные. \n",
    "\n",
    "Пропуски в таких переменных заполняют характерными значениями. \n",
    "\n",
    "Это значения, характеризующие состояние выборки, — набора данных, выбранных для проведения исследования.\n",
    "\n",
    "Чтобы примерно оценить типичные значения выборки, годятся среднее арифметическое или медиана.\n",
    "\n",
    "Среднее значение некорректно характеризует данные, когда некоторые значения сильно выделяются среди большинства."
   ]
  },
  {
   "cell_type": "code",
   "execution_count": 8,
   "id": "2de8692b",
   "metadata": {},
   "outputs": [
    {
     "data": {
      "text/html": [
       "<div>\n",
       "<style scoped>\n",
       "    .dataframe tbody tr th:only-of-type {\n",
       "        vertical-align: middle;\n",
       "    }\n",
       "\n",
       "    .dataframe tbody tr th {\n",
       "        vertical-align: top;\n",
       "    }\n",
       "\n",
       "    .dataframe thead th {\n",
       "        text-align: right;\n",
       "    }\n",
       "</style>\n",
       "<table border=\"1\" class=\"dataframe\">\n",
       "  <thead>\n",
       "    <tr style=\"text-align: right;\">\n",
       "      <th></th>\n",
       "      <th>total_income</th>\n",
       "    </tr>\n",
       "  </thead>\n",
       "  <tbody>\n",
       "    <tr>\n",
       "      <td>median</td>\n",
       "      <td>145017.937533</td>\n",
       "    </tr>\n",
       "    <tr>\n",
       "      <td>mean</td>\n",
       "      <td>167422.302208</td>\n",
       "    </tr>\n",
       "  </tbody>\n",
       "</table>\n",
       "</div>"
      ],
      "text/plain": [
       "         total_income\n",
       "median  145017.937533\n",
       "mean    167422.302208"
      ]
     },
     "metadata": {},
     "output_type": "display_data"
    },
    {
     "data": {
      "text/html": [
       "<div>\n",
       "<style scoped>\n",
       "    .dataframe tbody tr th:only-of-type {\n",
       "        vertical-align: middle;\n",
       "    }\n",
       "\n",
       "    .dataframe tbody tr th {\n",
       "        vertical-align: top;\n",
       "    }\n",
       "\n",
       "    .dataframe thead th {\n",
       "        text-align: right;\n",
       "    }\n",
       "</style>\n",
       "<table border=\"1\" class=\"dataframe\">\n",
       "  <thead>\n",
       "    <tr style=\"text-align: right;\">\n",
       "      <th></th>\n",
       "      <th>total_income</th>\n",
       "    </tr>\n",
       "  </thead>\n",
       "  <tbody>\n",
       "    <tr>\n",
       "      <td>min</td>\n",
       "      <td>2.066726e+04</td>\n",
       "    </tr>\n",
       "    <tr>\n",
       "      <td>max</td>\n",
       "      <td>2.265604e+06</td>\n",
       "    </tr>\n",
       "  </tbody>\n",
       "</table>\n",
       "</div>"
      ],
      "text/plain": [
       "     total_income\n",
       "min  2.066726e+04\n",
       "max  2.265604e+06"
      ]
     },
     "metadata": {},
     "output_type": "display_data"
    }
   ],
   "source": [
    "# обзор среднего значения, медианы, минимума и максимума по столбцу 'total_income'\n",
    "display(df.agg({'total_income': ['median', 'mean']}))\n",
    "display(df.agg({'total_income': ['min', 'max']}))"
   ]
  },
  {
   "cell_type": "code",
   "execution_count": 9,
   "id": "4f4ea110",
   "metadata": {},
   "outputs": [
    {
     "data": {
      "text/html": [
       "<div>\n",
       "<style scoped>\n",
       "    .dataframe tbody tr th:only-of-type {\n",
       "        vertical-align: middle;\n",
       "    }\n",
       "\n",
       "    .dataframe tbody tr th {\n",
       "        vertical-align: top;\n",
       "    }\n",
       "\n",
       "    .dataframe thead th {\n",
       "        text-align: right;\n",
       "    }\n",
       "</style>\n",
       "<table border=\"1\" class=\"dataframe\">\n",
       "  <thead>\n",
       "    <tr style=\"text-align: right;\">\n",
       "      <th></th>\n",
       "      <th>days_employed</th>\n",
       "    </tr>\n",
       "  </thead>\n",
       "  <tbody>\n",
       "    <tr>\n",
       "      <td>median</td>\n",
       "      <td>-1203.369529</td>\n",
       "    </tr>\n",
       "    <tr>\n",
       "      <td>mean</td>\n",
       "      <td>63046.497661</td>\n",
       "    </tr>\n",
       "  </tbody>\n",
       "</table>\n",
       "</div>"
      ],
      "text/plain": [
       "        days_employed\n",
       "median   -1203.369529\n",
       "mean     63046.497661"
      ]
     },
     "metadata": {},
     "output_type": "display_data"
    },
    {
     "data": {
      "text/html": [
       "<div>\n",
       "<style scoped>\n",
       "    .dataframe tbody tr th:only-of-type {\n",
       "        vertical-align: middle;\n",
       "    }\n",
       "\n",
       "    .dataframe tbody tr th {\n",
       "        vertical-align: top;\n",
       "    }\n",
       "\n",
       "    .dataframe thead th {\n",
       "        text-align: right;\n",
       "    }\n",
       "</style>\n",
       "<table border=\"1\" class=\"dataframe\">\n",
       "  <thead>\n",
       "    <tr style=\"text-align: right;\">\n",
       "      <th></th>\n",
       "      <th>days_employed</th>\n",
       "    </tr>\n",
       "  </thead>\n",
       "  <tbody>\n",
       "    <tr>\n",
       "      <td>min</td>\n",
       "      <td>-18388.949901</td>\n",
       "    </tr>\n",
       "    <tr>\n",
       "      <td>max</td>\n",
       "      <td>401755.400475</td>\n",
       "    </tr>\n",
       "  </tbody>\n",
       "</table>\n",
       "</div>"
      ],
      "text/plain": [
       "     days_employed\n",
       "min  -18388.949901\n",
       "max  401755.400475"
      ]
     },
     "metadata": {},
     "output_type": "display_data"
    }
   ],
   "source": [
    "# обзор среднего значения, медианы, минимума и максимума по столбцу 'days_employed'\n",
    "display(df.agg({'days_employed': ['median', 'mean']}))\n",
    "display(df.agg({'days_employed': ['min', 'max']}))"
   ]
  },
  {
   "cell_type": "markdown",
   "id": "fe18a387",
   "metadata": {},
   "source": [
    "**Количество отрецательных значений в столбце трудового стажа привело к отрицательному значению медианы.**"
   ]
  },
  {
   "cell_type": "code",
   "execution_count": 10,
   "id": "c9ce2d98",
   "metadata": {},
   "outputs": [
    {
     "name": "stdout",
     "output_type": "stream",
     "text": [
      "Количество отрицательных значений в столбце по трудовому стажу: 15906\n",
      "Доля отрицателных значений: 82%\n"
     ]
    }
   ],
   "source": [
    "# сколько отрицательных значений в столбце по трудовому стажу и какую долю они занимают в выборке c непустыми значениями\n",
    "\n",
    "number_negative_values = df[df['days_employed'] < 0]['days_employed'].count()\n",
    "share_negative_values = number_negative_values / (len(df) - df['days_employed'].isna().sum())\n",
    "\n",
    "print('Количество отрицательных значений в столбце по трудовому стажу:', number_negative_values)\n",
    "print(f'Доля отрицателных значений: {share_negative_values:.0%}')"
   ]
  },
  {
   "cell_type": "markdown",
   "id": "d43cc071",
   "metadata": {},
   "source": [
    "**Видимо по причине технической ошибки данные в столбце по трудовому стажу преимущественно отрицательные.**"
   ]
  },
  {
   "cell_type": "code",
   "execution_count": 11,
   "id": "b3db86e3",
   "metadata": {},
   "outputs": [
    {
     "data": {
      "text/html": [
       "<div>\n",
       "<style scoped>\n",
       "    .dataframe tbody tr th:only-of-type {\n",
       "        vertical-align: middle;\n",
       "    }\n",
       "\n",
       "    .dataframe tbody tr th {\n",
       "        vertical-align: top;\n",
       "    }\n",
       "\n",
       "    .dataframe thead th {\n",
       "        text-align: right;\n",
       "    }\n",
       "</style>\n",
       "<table border=\"1\" class=\"dataframe\">\n",
       "  <thead>\n",
       "    <tr style=\"text-align: right;\">\n",
       "      <th></th>\n",
       "      <th>days_employed</th>\n",
       "    </tr>\n",
       "  </thead>\n",
       "  <tbody>\n",
       "    <tr>\n",
       "      <td>min</td>\n",
       "      <td>328728.720605</td>\n",
       "    </tr>\n",
       "    <tr>\n",
       "      <td>max</td>\n",
       "      <td>401755.400475</td>\n",
       "    </tr>\n",
       "  </tbody>\n",
       "</table>\n",
       "</div>"
      ],
      "text/plain": [
       "     days_employed\n",
       "min  328728.720605\n",
       "max  401755.400475"
      ]
     },
     "execution_count": 11,
     "metadata": {},
     "output_type": "execute_result"
    }
   ],
   "source": [
    "# проверим положительные данные в столбце по трудовому стажу.\n",
    "df[df['days_employed'] >= 0].agg({'days_employed': ['min', 'max']})"
   ]
  },
  {
   "cell_type": "markdown",
   "id": "f2b9bc95",
   "metadata": {},
   "source": [
    "**Возможно данные из положительной области по ошибке увеличены в 100 раз (min max в годах это 900 и 1100 лет соответственно).**"
   ]
  },
  {
   "cell_type": "code",
   "execution_count": 12,
   "id": "969fccaa",
   "metadata": {},
   "outputs": [
    {
     "data": {
      "text/html": [
       "<div>\n",
       "<style scoped>\n",
       "    .dataframe tbody tr th:only-of-type {\n",
       "        vertical-align: middle;\n",
       "    }\n",
       "\n",
       "    .dataframe tbody tr th {\n",
       "        vertical-align: top;\n",
       "    }\n",
       "\n",
       "    .dataframe thead th {\n",
       "        text-align: right;\n",
       "    }\n",
       "</style>\n",
       "<table border=\"1\" class=\"dataframe\">\n",
       "  <thead>\n",
       "    <tr style=\"text-align: right;\">\n",
       "      <th></th>\n",
       "      <th>children</th>\n",
       "      <th>days_employed</th>\n",
       "      <th>dob_years</th>\n",
       "      <th>education</th>\n",
       "      <th>education_id</th>\n",
       "      <th>family_status</th>\n",
       "      <th>family_status_id</th>\n",
       "      <th>gender</th>\n",
       "      <th>income_type</th>\n",
       "      <th>debt</th>\n",
       "      <th>total_income</th>\n",
       "      <th>purpose</th>\n",
       "    </tr>\n",
       "  </thead>\n",
       "  <tbody>\n",
       "    <tr>\n",
       "      <td>4</td>\n",
       "      <td>0</td>\n",
       "      <td>340266.072047</td>\n",
       "      <td>53</td>\n",
       "      <td>среднее</td>\n",
       "      <td>1</td>\n",
       "      <td>гражданский брак</td>\n",
       "      <td>1</td>\n",
       "      <td>F</td>\n",
       "      <td>пенсионер</td>\n",
       "      <td>0</td>\n",
       "      <td>158616.077870</td>\n",
       "      <td>сыграть свадьбу</td>\n",
       "    </tr>\n",
       "    <tr>\n",
       "      <td>18</td>\n",
       "      <td>0</td>\n",
       "      <td>400281.136913</td>\n",
       "      <td>53</td>\n",
       "      <td>среднее</td>\n",
       "      <td>1</td>\n",
       "      <td>вдовец / вдова</td>\n",
       "      <td>2</td>\n",
       "      <td>F</td>\n",
       "      <td>пенсионер</td>\n",
       "      <td>0</td>\n",
       "      <td>56823.777243</td>\n",
       "      <td>на покупку подержанного автомобиля</td>\n",
       "    </tr>\n",
       "    <tr>\n",
       "      <td>24</td>\n",
       "      <td>1</td>\n",
       "      <td>338551.952911</td>\n",
       "      <td>57</td>\n",
       "      <td>среднее</td>\n",
       "      <td>1</td>\n",
       "      <td>Не женат / не замужем</td>\n",
       "      <td>4</td>\n",
       "      <td>F</td>\n",
       "      <td>пенсионер</td>\n",
       "      <td>0</td>\n",
       "      <td>290547.235997</td>\n",
       "      <td>операции с коммерческой недвижимостью</td>\n",
       "    </tr>\n",
       "    <tr>\n",
       "      <td>25</td>\n",
       "      <td>0</td>\n",
       "      <td>363548.489348</td>\n",
       "      <td>67</td>\n",
       "      <td>среднее</td>\n",
       "      <td>1</td>\n",
       "      <td>женат / замужем</td>\n",
       "      <td>0</td>\n",
       "      <td>M</td>\n",
       "      <td>пенсионер</td>\n",
       "      <td>0</td>\n",
       "      <td>55112.757732</td>\n",
       "      <td>покупка недвижимости</td>\n",
       "    </tr>\n",
       "    <tr>\n",
       "      <td>30</td>\n",
       "      <td>1</td>\n",
       "      <td>335581.668515</td>\n",
       "      <td>62</td>\n",
       "      <td>среднее</td>\n",
       "      <td>1</td>\n",
       "      <td>женат / замужем</td>\n",
       "      <td>0</td>\n",
       "      <td>F</td>\n",
       "      <td>пенсионер</td>\n",
       "      <td>0</td>\n",
       "      <td>171456.067993</td>\n",
       "      <td>операции с коммерческой недвижимостью</td>\n",
       "    </tr>\n",
       "  </tbody>\n",
       "</table>\n",
       "</div>"
      ],
      "text/plain": [
       "    children  days_employed  dob_years education  education_id  \\\n",
       "4          0  340266.072047         53   среднее             1   \n",
       "18         0  400281.136913         53   среднее             1   \n",
       "24         1  338551.952911         57   среднее             1   \n",
       "25         0  363548.489348         67   среднее             1   \n",
       "30         1  335581.668515         62   среднее             1   \n",
       "\n",
       "            family_status  family_status_id gender income_type  debt  \\\n",
       "4        гражданский брак                 1      F   пенсионер     0   \n",
       "18         вдовец / вдова                 2      F   пенсионер     0   \n",
       "24  Не женат / не замужем                 4      F   пенсионер     0   \n",
       "25        женат / замужем                 0      M   пенсионер     0   \n",
       "30        женат / замужем                 0      F   пенсионер     0   \n",
       "\n",
       "     total_income                                purpose  \n",
       "4   158616.077870                        сыграть свадьбу  \n",
       "18   56823.777243     на покупку подержанного автомобиля  \n",
       "24  290547.235997  операции с коммерческой недвижимостью  \n",
       "25   55112.757732                   покупка недвижимости  \n",
       "30  171456.067993  операции с коммерческой недвижимостью  "
      ]
     },
     "execution_count": 12,
     "metadata": {},
     "output_type": "execute_result"
    }
   ],
   "source": [
    "# обзор данных при положительных данных в трудовом стаже\n",
    "df[df['days_employed'] > 0].head()"
   ]
  },
  {
   "cell_type": "code",
   "execution_count": 13,
   "id": "4af31ad1",
   "metadata": {},
   "outputs": [
    {
     "name": "stdout",
     "output_type": "stream",
     "text": [
      "Количество клиентов со средним образованием: 15233\n",
      "Количество клиентов пенсионеров: 3856\n",
      "Количество клиентов пенсионеров с положительными данными в трудовом стаже: 3443\n",
      "Количество положительных данных из столбца трудового стажа: 3445\n"
     ]
    }
   ],
   "source": [
    "# проверим зависимость положительных данных из столбца стажа со средним уровнем образования и пенсионным возрастом.\n",
    "\n",
    "#print(df['income_type'].unique())\n",
    "#print(df['education'].unique())\n",
    "\n",
    "education = ['среднее', 'Среднее', 'СРЕДНЕЕ']\n",
    "count = 0\n",
    "\n",
    "for item in education:\n",
    "    for value in df['education']:\n",
    "        if item == value:\n",
    "            count += 1 \n",
    "            \n",
    "df_retired = df[df['income_type'] == 'пенсионер']\n",
    "            \n",
    "print('Количество клиентов со средним образованием:', count)\n",
    "print('Количество клиентов пенсионеров:', df_retired['income_type'].count())\n",
    "print('Количество клиентов пенсионеров с положительными данными в трудовом стаже:', df_retired[df_retired['days_employed'] > 0]['income_type'].count())\n",
    "print('Количество положительных данных из столбца трудового стажа:', df[df['days_employed'] > 0]['days_employed'].count())"
   ]
  },
  {
   "cell_type": "markdown",
   "id": "f3329331",
   "metadata": {},
   "source": [
    "**Практически все значения из области положительных по столбцу трудового стажа числятся за пенсионерами, кроме двух строк.**\n",
    "\n",
    "**Найдем их.**"
   ]
  },
  {
   "cell_type": "code",
   "execution_count": 14,
   "id": "69a87db5",
   "metadata": {},
   "outputs": [
    {
     "data": {
      "text/html": [
       "<div>\n",
       "<style scoped>\n",
       "    .dataframe tbody tr th:only-of-type {\n",
       "        vertical-align: middle;\n",
       "    }\n",
       "\n",
       "    .dataframe tbody tr th {\n",
       "        vertical-align: top;\n",
       "    }\n",
       "\n",
       "    .dataframe thead th {\n",
       "        text-align: right;\n",
       "    }\n",
       "</style>\n",
       "<table border=\"1\" class=\"dataframe\">\n",
       "  <thead>\n",
       "    <tr style=\"text-align: right;\">\n",
       "      <th></th>\n",
       "      <th>children</th>\n",
       "      <th>days_employed</th>\n",
       "      <th>dob_years</th>\n",
       "      <th>education</th>\n",
       "      <th>education_id</th>\n",
       "      <th>family_status</th>\n",
       "      <th>family_status_id</th>\n",
       "      <th>gender</th>\n",
       "      <th>income_type</th>\n",
       "      <th>debt</th>\n",
       "      <th>total_income</th>\n",
       "      <th>purpose</th>\n",
       "    </tr>\n",
       "  </thead>\n",
       "  <tbody>\n",
       "    <tr>\n",
       "      <td>3133</td>\n",
       "      <td>1</td>\n",
       "      <td>337524.466835</td>\n",
       "      <td>31</td>\n",
       "      <td>среднее</td>\n",
       "      <td>1</td>\n",
       "      <td>женат / замужем</td>\n",
       "      <td>0</td>\n",
       "      <td>M</td>\n",
       "      <td>безработный</td>\n",
       "      <td>1</td>\n",
       "      <td>59956.991984</td>\n",
       "      <td>покупка жилья для сдачи</td>\n",
       "    </tr>\n",
       "    <tr>\n",
       "      <td>14798</td>\n",
       "      <td>0</td>\n",
       "      <td>395302.838654</td>\n",
       "      <td>45</td>\n",
       "      <td>Высшее</td>\n",
       "      <td>0</td>\n",
       "      <td>гражданский брак</td>\n",
       "      <td>1</td>\n",
       "      <td>F</td>\n",
       "      <td>безработный</td>\n",
       "      <td>0</td>\n",
       "      <td>202722.511368</td>\n",
       "      <td>ремонт жилью</td>\n",
       "    </tr>\n",
       "  </tbody>\n",
       "</table>\n",
       "</div>"
      ],
      "text/plain": [
       "       children  days_employed  dob_years education  education_id  \\\n",
       "3133          1  337524.466835         31   среднее             1   \n",
       "14798         0  395302.838654         45    Высшее             0   \n",
       "\n",
       "          family_status  family_status_id gender  income_type  debt  \\\n",
       "3133    женат / замужем                 0      M  безработный     1   \n",
       "14798  гражданский брак                 1      F  безработный     0   \n",
       "\n",
       "        total_income                  purpose  \n",
       "3133    59956.991984  покупка жилья для сдачи  \n",
       "14798  202722.511368             ремонт жилью  "
      ]
     },
     "execution_count": 14,
     "metadata": {},
     "output_type": "execute_result"
    }
   ],
   "source": [
    "# найдем значения из области положительных по столбцу трудового стажа которые не числятся за пенсионерами.\n",
    "df[(df['income_type'] != 'пенсионер') & (df['days_employed'] > 0)]"
   ]
  },
  {
   "cell_type": "markdown",
   "id": "bcb15c9a",
   "metadata": {},
   "source": [
    "**Это безработные.**"
   ]
  },
  {
   "cell_type": "code",
   "execution_count": 15,
   "id": "5c7b3eed",
   "metadata": {},
   "outputs": [
    {
     "data": {
      "text/plain": [
       "income_type\n",
       "в декрете              1\n",
       "госслужащий         1312\n",
       "компаньон           4577\n",
       "предприниматель        1\n",
       "сотрудник          10014\n",
       "студент                1\n",
       "Name: days_employed, dtype: int64"
      ]
     },
     "execution_count": 15,
     "metadata": {},
     "output_type": "execute_result"
    }
   ],
   "source": [
    "# проверим есть ли пенсионеры с отрицательными значениями в трудовом стаже\n",
    "\n",
    "df[df['days_employed'] < 0].groupby('income_type')['days_employed'].count()"
   ]
  },
  {
   "cell_type": "markdown",
   "id": "f5b27e54",
   "metadata": {},
   "source": [
    "**Пенсионеры отсутвтуют**"
   ]
  },
  {
   "cell_type": "code",
   "execution_count": 16,
   "id": "abed4090",
   "metadata": {},
   "outputs": [
    {
     "data": {
      "text/plain": [
       "income_type\n",
       "госслужащий         147\n",
       "компаньон           508\n",
       "пенсионер           413\n",
       "предприниматель       1\n",
       "сотрудник          1105\n",
       "Name: income_type, dtype: int64"
      ]
     },
     "execution_count": 16,
     "metadata": {},
     "output_type": "execute_result"
    }
   ],
   "source": [
    "# проверим, кому принадлежат пропуски по трудовому стажу и доходу\n",
    "\n",
    "df[df['days_employed'].isna()].groupby('income_type')['income_type'].count()"
   ]
  },
  {
   "cell_type": "code",
   "execution_count": 17,
   "id": "d7fabbc3",
   "metadata": {
    "scrolled": true
   },
   "outputs": [
    {
     "data": {
      "text/plain": [
       "children                 0.000000\n",
       "days_employed       365213.306266\n",
       "dob_years               60.000000\n",
       "education_id             1.000000\n",
       "family_status_id         0.000000\n",
       "debt                     0.000000\n",
       "total_income        118514.486412\n",
       "dtype: float64"
      ]
     },
     "execution_count": 17,
     "metadata": {},
     "output_type": "execute_result"
    }
   ],
   "source": [
    "# найдем, медианный значения пенсионеров\n",
    "df[(df['income_type'] == 'пенсионер') & (df['days_employed'] > 0)].median()"
   ]
  },
  {
   "cell_type": "code",
   "execution_count": 18,
   "id": "fdfd5cac",
   "metadata": {},
   "outputs": [
    {
     "data": {
      "text/html": [
       "<div>\n",
       "<style scoped>\n",
       "    .dataframe tbody tr th:only-of-type {\n",
       "        vertical-align: middle;\n",
       "    }\n",
       "\n",
       "    .dataframe tbody tr th {\n",
       "        vertical-align: top;\n",
       "    }\n",
       "\n",
       "    .dataframe thead tr th {\n",
       "        text-align: left;\n",
       "    }\n",
       "\n",
       "    .dataframe thead tr:last-of-type th {\n",
       "        text-align: right;\n",
       "    }\n",
       "</style>\n",
       "<table border=\"1\" class=\"dataframe\">\n",
       "  <thead>\n",
       "    <tr>\n",
       "      <th></th>\n",
       "      <th colspan=\"2\" halign=\"left\">days_employed</th>\n",
       "    </tr>\n",
       "    <tr>\n",
       "      <th></th>\n",
       "      <th>mean</th>\n",
       "      <th>count</th>\n",
       "    </tr>\n",
       "    <tr>\n",
       "      <th>dob_years</th>\n",
       "      <th></th>\n",
       "      <th></th>\n",
       "    </tr>\n",
       "  </thead>\n",
       "  <tbody>\n",
       "    <tr>\n",
       "      <td>0</td>\n",
       "      <td>362537.515114</td>\n",
       "      <td>17</td>\n",
       "    </tr>\n",
       "    <tr>\n",
       "      <td>22</td>\n",
       "      <td>334764.259831</td>\n",
       "      <td>1</td>\n",
       "    </tr>\n",
       "    <tr>\n",
       "      <td>26</td>\n",
       "      <td>376872.682465</td>\n",
       "      <td>2</td>\n",
       "    </tr>\n",
       "    <tr>\n",
       "      <td>27</td>\n",
       "      <td>362032.797773</td>\n",
       "      <td>3</td>\n",
       "    </tr>\n",
       "    <tr>\n",
       "      <td>28</td>\n",
       "      <td>350340.760224</td>\n",
       "      <td>1</td>\n",
       "    </tr>\n",
       "    <tr>\n",
       "      <td>31</td>\n",
       "      <td>337524.466835</td>\n",
       "      <td>1</td>\n",
       "    </tr>\n",
       "    <tr>\n",
       "      <td>32</td>\n",
       "      <td>339365.593129</td>\n",
       "      <td>3</td>\n",
       "    </tr>\n",
       "    <tr>\n",
       "      <td>33</td>\n",
       "      <td>365649.502024</td>\n",
       "      <td>2</td>\n",
       "    </tr>\n",
       "    <tr>\n",
       "      <td>34</td>\n",
       "      <td>386022.017215</td>\n",
       "      <td>3</td>\n",
       "    </tr>\n",
       "    <tr>\n",
       "      <td>35</td>\n",
       "      <td>359537.595496</td>\n",
       "      <td>1</td>\n",
       "    </tr>\n",
       "    <tr>\n",
       "      <td>36</td>\n",
       "      <td>366969.581763</td>\n",
       "      <td>3</td>\n",
       "    </tr>\n",
       "    <tr>\n",
       "      <td>37</td>\n",
       "      <td>360370.746426</td>\n",
       "      <td>5</td>\n",
       "    </tr>\n",
       "    <tr>\n",
       "      <td>38</td>\n",
       "      <td>365047.792990</td>\n",
       "      <td>8</td>\n",
       "    </tr>\n",
       "    <tr>\n",
       "      <td>39</td>\n",
       "      <td>377057.983485</td>\n",
       "      <td>4</td>\n",
       "    </tr>\n",
       "    <tr>\n",
       "      <td>40</td>\n",
       "      <td>369354.143023</td>\n",
       "      <td>7</td>\n",
       "    </tr>\n",
       "    <tr>\n",
       "      <td>41</td>\n",
       "      <td>364781.645022</td>\n",
       "      <td>6</td>\n",
       "    </tr>\n",
       "    <tr>\n",
       "      <td>42</td>\n",
       "      <td>362915.509894</td>\n",
       "      <td>9</td>\n",
       "    </tr>\n",
       "    <tr>\n",
       "      <td>43</td>\n",
       "      <td>358785.526527</td>\n",
       "      <td>9</td>\n",
       "    </tr>\n",
       "    <tr>\n",
       "      <td>44</td>\n",
       "      <td>361839.925487</td>\n",
       "      <td>10</td>\n",
       "    </tr>\n",
       "    <tr>\n",
       "      <td>45</td>\n",
       "      <td>366760.341610</td>\n",
       "      <td>11</td>\n",
       "    </tr>\n",
       "    <tr>\n",
       "      <td>46</td>\n",
       "      <td>372520.330378</td>\n",
       "      <td>13</td>\n",
       "    </tr>\n",
       "    <tr>\n",
       "      <td>47</td>\n",
       "      <td>367623.605927</td>\n",
       "      <td>13</td>\n",
       "    </tr>\n",
       "    <tr>\n",
       "      <td>48</td>\n",
       "      <td>378084.766207</td>\n",
       "      <td>20</td>\n",
       "    </tr>\n",
       "    <tr>\n",
       "      <td>49</td>\n",
       "      <td>363128.429966</td>\n",
       "      <td>30</td>\n",
       "    </tr>\n",
       "    <tr>\n",
       "      <td>50</td>\n",
       "      <td>362844.483580</td>\n",
       "      <td>61</td>\n",
       "    </tr>\n",
       "    <tr>\n",
       "      <td>51</td>\n",
       "      <td>359480.820222</td>\n",
       "      <td>73</td>\n",
       "    </tr>\n",
       "    <tr>\n",
       "      <td>52</td>\n",
       "      <td>364126.201701</td>\n",
       "      <td>95</td>\n",
       "    </tr>\n",
       "    <tr>\n",
       "      <td>53</td>\n",
       "      <td>362127.129192</td>\n",
       "      <td>105</td>\n",
       "    </tr>\n",
       "    <tr>\n",
       "      <td>54</td>\n",
       "      <td>364923.372563</td>\n",
       "      <td>145</td>\n",
       "    </tr>\n",
       "    <tr>\n",
       "      <td>55</td>\n",
       "      <td>366117.821977</td>\n",
       "      <td>162</td>\n",
       "    </tr>\n",
       "    <tr>\n",
       "      <td>56</td>\n",
       "      <td>366017.657106</td>\n",
       "      <td>184</td>\n",
       "    </tr>\n",
       "    <tr>\n",
       "      <td>57</td>\n",
       "      <td>365993.335877</td>\n",
       "      <td>212</td>\n",
       "    </tr>\n",
       "    <tr>\n",
       "      <td>58</td>\n",
       "      <td>364074.207832</td>\n",
       "      <td>208</td>\n",
       "    </tr>\n",
       "    <tr>\n",
       "      <td>59</td>\n",
       "      <td>364845.458364</td>\n",
       "      <td>254</td>\n",
       "    </tr>\n",
       "    <tr>\n",
       "      <td>60</td>\n",
       "      <td>364233.309158</td>\n",
       "      <td>243</td>\n",
       "    </tr>\n",
       "    <tr>\n",
       "      <td>61</td>\n",
       "      <td>363543.340112</td>\n",
       "      <td>214</td>\n",
       "    </tr>\n",
       "    <tr>\n",
       "      <td>62</td>\n",
       "      <td>365601.797514</td>\n",
       "      <td>235</td>\n",
       "    </tr>\n",
       "    <tr>\n",
       "      <td>63</td>\n",
       "      <td>365633.183101</td>\n",
       "      <td>192</td>\n",
       "    </tr>\n",
       "    <tr>\n",
       "      <td>64</td>\n",
       "      <td>365310.870443</td>\n",
       "      <td>179</td>\n",
       "    </tr>\n",
       "    <tr>\n",
       "      <td>65</td>\n",
       "      <td>366630.821480</td>\n",
       "      <td>136</td>\n",
       "    </tr>\n",
       "    <tr>\n",
       "      <td>66</td>\n",
       "      <td>367089.479240</td>\n",
       "      <td>139</td>\n",
       "    </tr>\n",
       "    <tr>\n",
       "      <td>67</td>\n",
       "      <td>362829.019647</td>\n",
       "      <td>132</td>\n",
       "    </tr>\n",
       "    <tr>\n",
       "      <td>68</td>\n",
       "      <td>367189.912100</td>\n",
       "      <td>80</td>\n",
       "    </tr>\n",
       "    <tr>\n",
       "      <td>69</td>\n",
       "      <td>365490.074321</td>\n",
       "      <td>74</td>\n",
       "    </tr>\n",
       "    <tr>\n",
       "      <td>70</td>\n",
       "      <td>364503.245525</td>\n",
       "      <td>54</td>\n",
       "    </tr>\n",
       "    <tr>\n",
       "      <td>71</td>\n",
       "      <td>367124.598209</td>\n",
       "      <td>48</td>\n",
       "    </tr>\n",
       "    <tr>\n",
       "      <td>72</td>\n",
       "      <td>368167.883554</td>\n",
       "      <td>28</td>\n",
       "    </tr>\n",
       "    <tr>\n",
       "      <td>73</td>\n",
       "      <td>365584.660790</td>\n",
       "      <td>6</td>\n",
       "    </tr>\n",
       "    <tr>\n",
       "      <td>74</td>\n",
       "      <td>359790.863316</td>\n",
       "      <td>4</td>\n",
       "    </tr>\n",
       "  </tbody>\n",
       "</table>\n",
       "</div>"
      ],
      "text/plain": [
       "           days_employed      \n",
       "                    mean count\n",
       "dob_years                     \n",
       "0          362537.515114    17\n",
       "22         334764.259831     1\n",
       "26         376872.682465     2\n",
       "27         362032.797773     3\n",
       "28         350340.760224     1\n",
       "31         337524.466835     1\n",
       "32         339365.593129     3\n",
       "33         365649.502024     2\n",
       "34         386022.017215     3\n",
       "35         359537.595496     1\n",
       "36         366969.581763     3\n",
       "37         360370.746426     5\n",
       "38         365047.792990     8\n",
       "39         377057.983485     4\n",
       "40         369354.143023     7\n",
       "41         364781.645022     6\n",
       "42         362915.509894     9\n",
       "43         358785.526527     9\n",
       "44         361839.925487    10\n",
       "45         366760.341610    11\n",
       "46         372520.330378    13\n",
       "47         367623.605927    13\n",
       "48         378084.766207    20\n",
       "49         363128.429966    30\n",
       "50         362844.483580    61\n",
       "51         359480.820222    73\n",
       "52         364126.201701    95\n",
       "53         362127.129192   105\n",
       "54         364923.372563   145\n",
       "55         366117.821977   162\n",
       "56         366017.657106   184\n",
       "57         365993.335877   212\n",
       "58         364074.207832   208\n",
       "59         364845.458364   254\n",
       "60         364233.309158   243\n",
       "61         363543.340112   214\n",
       "62         365601.797514   235\n",
       "63         365633.183101   192\n",
       "64         365310.870443   179\n",
       "65         366630.821480   136\n",
       "66         367089.479240   139\n",
       "67         362829.019647   132\n",
       "68         367189.912100    80\n",
       "69         365490.074321    74\n",
       "70         364503.245525    54\n",
       "71         367124.598209    48\n",
       "72         368167.883554    28\n",
       "73         365584.660790     6\n",
       "74         359790.863316     4"
      ]
     },
     "execution_count": 18,
     "metadata": {},
     "output_type": "execute_result"
    }
   ],
   "source": [
    "# проверим среднее количество трудового стажа в годах по возрастам для пенсионеров и безработных.\n",
    "df[df['days_employed'] > 0].groupby('dob_years').agg({'days_employed': ['mean', 'count']})"
   ]
  },
  {
   "cell_type": "code",
   "execution_count": 19,
   "id": "588a7ee1",
   "metadata": {},
   "outputs": [
    {
     "data": {
      "text/plain": [
       "children                 0.000000\n",
       "days_employed        -1630.019381\n",
       "dob_years               39.000000\n",
       "education_id             1.000000\n",
       "family_status_id         0.000000\n",
       "debt                     0.000000\n",
       "total_income        151134.593479\n",
       "dtype: float64"
      ]
     },
     "execution_count": 19,
     "metadata": {},
     "output_type": "execute_result"
    }
   ],
   "source": [
    "# найдем, медианные значения трудового стажа из отрицательной области данных.\n",
    "df[df['days_employed'] < 0].median()"
   ]
  },
  {
   "cell_type": "code",
   "execution_count": 20,
   "id": "af4d8e68",
   "metadata": {},
   "outputs": [
    {
     "data": {
      "text/plain": [
       "dob_years\n",
       "0     -6.028427\n",
       "19    -1.736104\n",
       "20    -1.876560\n",
       "21    -1.943674\n",
       "22    -2.140758\n",
       "23    -2.266601\n",
       "24    -2.812070\n",
       "25    -2.981935\n",
       "26    -3.288460\n",
       "27    -3.720968\n",
       "28    -3.829241\n",
       "29    -4.257050\n",
       "30    -4.646683\n",
       "31    -4.527994\n",
       "32    -4.755568\n",
       "33    -5.119603\n",
       "34    -5.434861\n",
       "35    -5.777758\n",
       "36    -6.226778\n",
       "37    -5.969684\n",
       "38    -6.320720\n",
       "39    -6.593327\n",
       "40    -6.425437\n",
       "41    -6.667430\n",
       "42    -7.652520\n",
       "43    -6.829175\n",
       "44    -7.710617\n",
       "45    -7.647417\n",
       "46    -7.855102\n",
       "47    -8.118889\n",
       "48    -7.940267\n",
       "49    -8.484773\n",
       "50    -8.483336\n",
       "51    -8.357072\n",
       "52    -8.938986\n",
       "53    -8.988510\n",
       "54    -8.164290\n",
       "55    -9.801479\n",
       "56    -8.962213\n",
       "57    -9.414903\n",
       "58    -8.956514\n",
       "59   -10.590322\n",
       "60   -10.383553\n",
       "61   -11.051142\n",
       "62    -8.298967\n",
       "63   -12.016089\n",
       "64   -11.083179\n",
       "65   -11.121412\n",
       "66   -10.684755\n",
       "67    -9.901584\n",
       "68   -12.469699\n",
       "69   -10.344958\n",
       "70   -12.784051\n",
       "71    -7.602364\n",
       "72   -18.092932\n",
       "73    -9.395084\n",
       "74   -11.523973\n",
       "75    -4.599917\n",
       "Name: days_employed, dtype: float64"
      ]
     },
     "execution_count": 20,
     "metadata": {},
     "output_type": "execute_result"
    }
   ],
   "source": [
    "# проверим среднее количество трудового стажа по возрастам в годах\n",
    "df[df['days_employed'] < 0].groupby('dob_years')['days_employed'].mean()/365"
   ]
  },
  {
   "cell_type": "markdown",
   "id": "329763fb",
   "metadata": {},
   "source": [
    "**1. Основной массив данных из трудового стажа отрицательный и равен 82% от заполненных данных, т.е. вероятно происходит вычитание из меньшего значения большего.**\n",
    "\n",
    "**2. Возможно данные в столбце трудового стажа отображают данные о стаже на текущем месте работы (средний стаж в годах = 4,5 года (abs(-1630/365)), а также об этом свидетельствует средний уровень стажа в годах сгруппированный по возрасту (см. series выше)**\n",
    "\n",
    "**3. Исходя из пункта выше следует, что стаж у пенсионеров и безработных должен отсутствовать.**"
   ]
  },
  {
   "cell_type": "code",
   "execution_count": 21,
   "id": "10433a4e",
   "metadata": {},
   "outputs": [
    {
     "name": "stdout",
     "output_type": "stream",
     "text": [
      "101\n"
     ]
    }
   ],
   "source": [
    "# проверим количество клиентов где возраст равнем 0\n",
    "print(df[df['dob_years'] == 0]['dob_years'].count())"
   ]
  },
  {
   "cell_type": "markdown",
   "id": "f0623f7d",
   "metadata": {},
   "source": [
    "1. **Все данные из положительной области по трудовому стажу числятся за пенсионерами и безработными.**\n",
    "2. **Основной массив данных из трудового стажа отрицательный и равен 82% от заполненных данных, т.е. вероятно происходит вычитание из меньшего значения большего.**\n",
    "3. **Возможно данные в столбце трудового стажа отображают данные о стаже на текущем месте работы (средний стаж в годах = 4,5 года (abs(-1630/365)), а также об этом свидетельствует средний уровень стажа в годах сгруппированный по возрасту (см. series выше)**\n",
    "4. **Исходя из пункта выше следует, что стаж у пенсионеров и безработных должен отсутствовать.**\n",
    "5. **У 101 клиента в ячейке возраст стоит ноль.**"
   ]
  },
  {
   "cell_type": "code",
   "execution_count": 22,
   "id": "704b0fb9",
   "metadata": {},
   "outputs": [
    {
     "data": {
      "text/html": [
       "<div>\n",
       "<style scoped>\n",
       "    .dataframe tbody tr th:only-of-type {\n",
       "        vertical-align: middle;\n",
       "    }\n",
       "\n",
       "    .dataframe tbody tr th {\n",
       "        vertical-align: top;\n",
       "    }\n",
       "\n",
       "    .dataframe thead tr th {\n",
       "        text-align: left;\n",
       "    }\n",
       "\n",
       "    .dataframe thead tr:last-of-type th {\n",
       "        text-align: right;\n",
       "    }\n",
       "</style>\n",
       "<table border=\"1\" class=\"dataframe\">\n",
       "  <thead>\n",
       "    <tr>\n",
       "      <th></th>\n",
       "      <th colspan=\"2\" halign=\"left\">total_income</th>\n",
       "    </tr>\n",
       "    <tr>\n",
       "      <th></th>\n",
       "      <th>median</th>\n",
       "      <th>mean</th>\n",
       "    </tr>\n",
       "    <tr>\n",
       "      <th>income_type</th>\n",
       "      <th></th>\n",
       "      <th></th>\n",
       "    </tr>\n",
       "  </thead>\n",
       "  <tbody>\n",
       "    <tr>\n",
       "      <td>безработный</td>\n",
       "      <td>131339.751676</td>\n",
       "      <td>131339.751676</td>\n",
       "    </tr>\n",
       "    <tr>\n",
       "      <td>в декрете</td>\n",
       "      <td>53829.130729</td>\n",
       "      <td>53829.130729</td>\n",
       "    </tr>\n",
       "    <tr>\n",
       "      <td>госслужащий</td>\n",
       "      <td>150447.935283</td>\n",
       "      <td>170898.309923</td>\n",
       "    </tr>\n",
       "    <tr>\n",
       "      <td>компаньон</td>\n",
       "      <td>172357.950966</td>\n",
       "      <td>202417.461462</td>\n",
       "    </tr>\n",
       "    <tr>\n",
       "      <td>пенсионер</td>\n",
       "      <td>118514.486412</td>\n",
       "      <td>137127.465690</td>\n",
       "    </tr>\n",
       "    <tr>\n",
       "      <td>предприниматель</td>\n",
       "      <td>499163.144947</td>\n",
       "      <td>499163.144947</td>\n",
       "    </tr>\n",
       "    <tr>\n",
       "      <td>сотрудник</td>\n",
       "      <td>142594.396847</td>\n",
       "      <td>161380.260488</td>\n",
       "    </tr>\n",
       "    <tr>\n",
       "      <td>студент</td>\n",
       "      <td>98201.625314</td>\n",
       "      <td>98201.625314</td>\n",
       "    </tr>\n",
       "  </tbody>\n",
       "</table>\n",
       "</div>"
      ],
      "text/plain": [
       "                  total_income               \n",
       "                        median           mean\n",
       "income_type                                  \n",
       "безработный      131339.751676  131339.751676\n",
       "в декрете         53829.130729   53829.130729\n",
       "госслужащий      150447.935283  170898.309923\n",
       "компаньон        172357.950966  202417.461462\n",
       "пенсионер        118514.486412  137127.465690\n",
       "предприниматель  499163.144947  499163.144947\n",
       "сотрудник        142594.396847  161380.260488\n",
       "студент           98201.625314   98201.625314"
      ]
     },
     "execution_count": 22,
     "metadata": {},
     "output_type": "execute_result"
    }
   ],
   "source": [
    "# проверим средние/медианные значения доходов во всех типах занятости\n",
    "df.groupby('income_type').agg({'total_income': ['median','mean']})"
   ]
  },
  {
   "cell_type": "markdown",
   "id": "5c117f1c",
   "metadata": {},
   "source": [
    "**Размер медианы месячного дохода пенсионеров, безработных, студентов и декретников не соответствует действительности и в 10 раз больше реальных.**\n",
    "\n",
    "Данными по безработным (2 клиента), студентам (1 клиент) и декретникам (1 клиент) можно пренебречь, т.к. их незначиельное количество. "
   ]
  },
  {
   "cell_type": "markdown",
   "id": "ce44b229",
   "metadata": {},
   "source": [
    "**Заполнение пропусков.** "
   ]
  },
  {
   "cell_type": "code",
   "execution_count": 23,
   "id": "6c9fead6",
   "metadata": {},
   "outputs": [
    {
     "data": {
      "text/html": [
       "<div>\n",
       "<style scoped>\n",
       "    .dataframe tbody tr th:only-of-type {\n",
       "        vertical-align: middle;\n",
       "    }\n",
       "\n",
       "    .dataframe tbody tr th {\n",
       "        vertical-align: top;\n",
       "    }\n",
       "\n",
       "    .dataframe thead th {\n",
       "        text-align: right;\n",
       "    }\n",
       "</style>\n",
       "<table border=\"1\" class=\"dataframe\">\n",
       "  <thead>\n",
       "    <tr style=\"text-align: right;\">\n",
       "      <th></th>\n",
       "      <th>days_employed</th>\n",
       "      <th>total_income</th>\n",
       "    </tr>\n",
       "  </thead>\n",
       "  <tbody>\n",
       "    <tr>\n",
       "      <td>median</td>\n",
       "      <td>-1630.019381</td>\n",
       "      <td>151134.593479</td>\n",
       "    </tr>\n",
       "  </tbody>\n",
       "</table>\n",
       "</div>"
      ],
      "text/plain": [
       "        days_employed   total_income\n",
       "median   -1630.019381  151134.593479"
      ]
     },
     "execution_count": 23,
     "metadata": {},
     "output_type": "execute_result"
    }
   ],
   "source": [
    "# расчет значений медианы по трудовому стажу и месячному доходу за исключением данных по пенсионерам.\n",
    "df[df['days_employed'] < 0].agg({'days_employed': ['median'], 'total_income': ['median']})"
   ]
  },
  {
   "cell_type": "code",
   "execution_count": 24,
   "id": "436c2889",
   "metadata": {},
   "outputs": [],
   "source": [
    "# заполнение пропусков медианным значением\n",
    "df['days_employed'] = df['days_employed'].fillna(df['days_employed'].median())\n",
    "df['total_income'] = df['total_income'].fillna(df['total_income'].median())"
   ]
  },
  {
   "cell_type": "code",
   "execution_count": 25,
   "id": "f4168577",
   "metadata": {},
   "outputs": [
    {
     "data": {
      "text/plain": [
       "children            0\n",
       "days_employed       0\n",
       "dob_years           0\n",
       "education           0\n",
       "education_id        0\n",
       "family_status       0\n",
       "family_status_id    0\n",
       "gender              0\n",
       "income_type         0\n",
       "debt                0\n",
       "total_income        0\n",
       "purpose             0\n",
       "dtype: int64"
      ]
     },
     "execution_count": 25,
     "metadata": {},
     "output_type": "execute_result"
    }
   ],
   "source": [
    "df.isna().sum() # подсчёт пропусков"
   ]
  },
  {
   "cell_type": "markdown",
   "id": "dd1eb1f0",
   "metadata": {},
   "source": [
    "### Шаг 2.2 Проверка данных на аномалии и исправления."
   ]
  },
  {
   "cell_type": "markdown",
   "id": "6655c40e",
   "metadata": {},
   "source": [
    "**В предыдущем разделе были обнаружены артефакты (аномалии) в столбцах:**\n",
    "\n",
    "**'days_employed'**\n",
    "1. **Основной массив данных из трудового стажа отрицательный и равен 82% от заполненных данных, т.е. вероятно происходит вычитание из меньшего значения большего.**\n",
    "2. **Данные в столбце трудового стажа отображают данные о стаже на текущем месте работы (средний стаж в годах = 4,5 года (abs(-1630/365)), а также об этом свидетельствует средний уровень стажа в годах сгруппированный по возрасту**\n",
    "3. **Исходя из пункта выше следует, что стаж у пенсионеров и безработных должен отсутсвовать.**\n",
    "**'dob_years'**\n",
    "1. **У 101 клиента в столбце возраст стоит ноль.**\n",
    "**'total_income'**\n",
    "1. **Размер медианы месячного дохода пенсионеров, безработных, студентов и декретников не соответствует действительности и в 10 раз больше реальных.**\n",
    "Данными по безработным (2 клиента), студентам (1 клиент) и декретникам (1 клиент) можно пренебречь, т.к. их незначиельное количество. \n",
    "\n"
   ]
  },
  {
   "cell_type": "markdown",
   "id": "40140776",
   "metadata": {},
   "source": [
    "Исправление данных в столбце 'days_employed' согласно выводов описанных выше"
   ]
  },
  {
   "cell_type": "code",
   "execution_count": 26,
   "id": "b1809a08",
   "metadata": {},
   "outputs": [],
   "source": [
    "# используется функция fixed_days_employed\n",
    "\n",
    "def fixed_days_employed(days_employed):\n",
    "    \"\"\"\n",
    "    переводит отрицательные заначения в положительные\n",
    "    обнуляет положительные значения стажа (для пенсионеров и безработных)\n",
    "    \"\"\"\n",
    "    \n",
    "    if days_employed < 0:\n",
    "        return days_employed * -1\n",
    "    elif days_employed > 0:\n",
    "        return 0\n",
    "    return days_employed\n",
    "\n",
    "\n",
    "df['days_employed'] = df['days_employed'].apply(fixed_days_employed)"
   ]
  },
  {
   "cell_type": "markdown",
   "id": "c6648acc",
   "metadata": {},
   "source": [
    "Исправление данных в столбце 'dob_years' согласно выводов описанных выше"
   ]
  },
  {
   "cell_type": "code",
   "execution_count": 27,
   "id": "e6126043",
   "metadata": {},
   "outputs": [
    {
     "data": {
      "text/html": [
       "<div>\n",
       "<style scoped>\n",
       "    .dataframe tbody tr th:only-of-type {\n",
       "        vertical-align: middle;\n",
       "    }\n",
       "\n",
       "    .dataframe tbody tr th {\n",
       "        vertical-align: top;\n",
       "    }\n",
       "\n",
       "    .dataframe thead tr th {\n",
       "        text-align: left;\n",
       "    }\n",
       "\n",
       "    .dataframe thead tr:last-of-type th {\n",
       "        text-align: right;\n",
       "    }\n",
       "</style>\n",
       "<table border=\"1\" class=\"dataframe\">\n",
       "  <thead>\n",
       "    <tr>\n",
       "      <th></th>\n",
       "      <th colspan=\"2\" halign=\"left\">dob_years</th>\n",
       "    </tr>\n",
       "    <tr>\n",
       "      <th></th>\n",
       "      <th>median</th>\n",
       "      <th>mean</th>\n",
       "    </tr>\n",
       "    <tr>\n",
       "      <th>income_type</th>\n",
       "      <th></th>\n",
       "      <th></th>\n",
       "    </tr>\n",
       "  </thead>\n",
       "  <tbody>\n",
       "    <tr>\n",
       "      <td>безработный</td>\n",
       "      <td>38.0</td>\n",
       "      <td>38.000000</td>\n",
       "    </tr>\n",
       "    <tr>\n",
       "      <td>в декрете</td>\n",
       "      <td>39.0</td>\n",
       "      <td>39.000000</td>\n",
       "    </tr>\n",
       "    <tr>\n",
       "      <td>госслужащий</td>\n",
       "      <td>40.0</td>\n",
       "      <td>40.804542</td>\n",
       "    </tr>\n",
       "    <tr>\n",
       "      <td>компаньон</td>\n",
       "      <td>39.0</td>\n",
       "      <td>39.854294</td>\n",
       "    </tr>\n",
       "    <tr>\n",
       "      <td>пенсионер</td>\n",
       "      <td>60.0</td>\n",
       "      <td>59.370959</td>\n",
       "    </tr>\n",
       "    <tr>\n",
       "      <td>предприниматель</td>\n",
       "      <td>42.5</td>\n",
       "      <td>42.500000</td>\n",
       "    </tr>\n",
       "    <tr>\n",
       "      <td>сотрудник</td>\n",
       "      <td>39.0</td>\n",
       "      <td>40.018980</td>\n",
       "    </tr>\n",
       "    <tr>\n",
       "      <td>студент</td>\n",
       "      <td>22.0</td>\n",
       "      <td>22.000000</td>\n",
       "    </tr>\n",
       "  </tbody>\n",
       "</table>\n",
       "</div>"
      ],
      "text/plain": [
       "                dob_years           \n",
       "                   median       mean\n",
       "income_type                         \n",
       "безработный          38.0  38.000000\n",
       "в декрете            39.0  39.000000\n",
       "госслужащий          40.0  40.804542\n",
       "компаньон            39.0  39.854294\n",
       "пенсионер            60.0  59.370959\n",
       "предприниматель      42.5  42.500000\n",
       "сотрудник            39.0  40.018980\n",
       "студент              22.0  22.000000"
      ]
     },
     "execution_count": 27,
     "metadata": {},
     "output_type": "execute_result"
    }
   ],
   "source": [
    "# медианные и средние значения возраста по видам дохода для замены у клиентов с нулевыми значениями в возрасте\n",
    "df[df['dob_years'] > 0].groupby('income_type').agg({'dob_years': ['median', 'mean']})"
   ]
  },
  {
   "cell_type": "code",
   "execution_count": 28,
   "id": "2fda00c1",
   "metadata": {},
   "outputs": [
    {
     "data": {
      "text/plain": [
       "income_type\n",
       "госслужащий     6\n",
       "компаньон      20\n",
       "пенсионер      20\n",
       "сотрудник      55\n",
       "Name: dob_years, dtype: int64"
      ]
     },
     "execution_count": 28,
     "metadata": {},
     "output_type": "execute_result"
    }
   ],
   "source": [
    "# количетво клиентов в видам дохода с нулевым значением в колонке возраст\n",
    "df[df['dob_years'] == 0].groupby('income_type')['dob_years'].count() "
   ]
  },
  {
   "cell_type": "code",
   "execution_count": 29,
   "id": "aa2cfba2",
   "metadata": {},
   "outputs": [],
   "source": [
    "# замена нулевых значений в столбце 'dob_years'\n",
    "# пенсионеры 60 лет\n",
    "df.loc[(df['dob_years'] == 0) & (df['income_type'] == 'пенсионер'), 'dob_years'] = 60 # пенсионеры 60 лет\n",
    "# остальные 39 лет\n",
    "df.loc[df['dob_years'] == 0, 'dob_years'] = 39"
   ]
  },
  {
   "cell_type": "code",
   "execution_count": 30,
   "id": "588deb35",
   "metadata": {},
   "outputs": [
    {
     "data": {
      "text/plain": [
       "0"
      ]
     },
     "execution_count": 30,
     "metadata": {},
     "output_type": "execute_result"
    }
   ],
   "source": [
    "# проверка обработки по столбцу 'dob_years' на нулевые значения\n",
    "df[df['dob_years'] == 0]['dob_years'].count() "
   ]
  },
  {
   "cell_type": "markdown",
   "id": "8f9e2346",
   "metadata": {},
   "source": [
    "Исправление данных в столбце 'total_income' согласно выводов описанных выше"
   ]
  },
  {
   "cell_type": "code",
   "execution_count": 31,
   "id": "5b179790",
   "metadata": {},
   "outputs": [],
   "source": [
    "def fixed_total_income(total_income, income_type):\n",
    "    \"\"\"\n",
    "    делит на 10 значения доходов для пенсионеров, безработных, студентов, декретников\n",
    "    \"\"\"\n",
    "    \n",
    "    if (income_type == 'пенсионер' or\n",
    "        income_type == 'безработный' or\n",
    "        income_type == 'в декрете' or\n",
    "        income_type == 'студент'):\n",
    "        return total_income / 10\n",
    "    else:\n",
    "        return total_income\n",
    "\n",
    "\n",
    "df['total_income'] = df.apply(lambda x: fixed_total_income(x['total_income'], x['income_type']), axis=1)"
   ]
  },
  {
   "cell_type": "code",
   "execution_count": 32,
   "id": "61db17e5",
   "metadata": {},
   "outputs": [
    {
     "data": {
      "text/plain": [
       "income_type\n",
       "безработный         13133.975168\n",
       "в декрете            5382.913073\n",
       "госслужащий        151134.000000\n",
       "компаньон          162401.351555\n",
       "пенсионер           12874.767557\n",
       "предприниматель    325148.572474\n",
       "сотрудник          151134.000000\n",
       "студент              9820.162531\n",
       "Name: total_income, dtype: float64"
      ]
     },
     "execution_count": 32,
     "metadata": {},
     "output_type": "execute_result"
    }
   ],
   "source": [
    "# проверка обработки по столбцу 'total_income'\n",
    "df.groupby('income_type')['total_income'].median()"
   ]
  },
  {
   "cell_type": "markdown",
   "id": "7758b087",
   "metadata": {},
   "source": [
    "### Шаг 2.3. Изменение типов данных."
   ]
  },
  {
   "cell_type": "code",
   "execution_count": 33,
   "id": "14845d13",
   "metadata": {},
   "outputs": [],
   "source": [
    "# Замена вещественного типа данных в столбце total_income на целочисленный, с помощью метода astype()\n",
    "df['total_income'] = df['total_income'].astype('int')"
   ]
  },
  {
   "cell_type": "code",
   "execution_count": 34,
   "id": "76fb48ec",
   "metadata": {},
   "outputs": [
    {
     "name": "stdout",
     "output_type": "stream",
     "text": [
      "<class 'pandas.core.frame.DataFrame'>\n",
      "RangeIndex: 21525 entries, 0 to 21524\n",
      "Data columns (total 12 columns):\n",
      "children            21525 non-null int64\n",
      "days_employed       21525 non-null float64\n",
      "dob_years           21525 non-null int64\n",
      "education           21525 non-null object\n",
      "education_id        21525 non-null int64\n",
      "family_status       21525 non-null object\n",
      "family_status_id    21525 non-null int64\n",
      "gender              21525 non-null object\n",
      "income_type         21525 non-null object\n",
      "debt                21525 non-null int64\n",
      "total_income        21525 non-null int64\n",
      "purpose             21525 non-null object\n",
      "dtypes: float64(1), int64(6), object(5)\n",
      "memory usage: 2.0+ MB\n"
     ]
    }
   ],
   "source": [
    "df.info()"
   ]
  },
  {
   "cell_type": "markdown",
   "id": "2c663491",
   "metadata": {},
   "source": [
    "### Шаг 2.4. Удаление дубликатов."
   ]
  },
  {
   "cell_type": "code",
   "execution_count": 35,
   "id": "2b06388f",
   "metadata": {},
   "outputs": [
    {
     "data": {
      "text/plain": [
       "54"
      ]
     },
     "execution_count": 35,
     "metadata": {},
     "output_type": "execute_result"
    }
   ],
   "source": [
    "# подсчёт явных дубликатов\n",
    "df.duplicated().sum()"
   ]
  },
  {
   "cell_type": "code",
   "execution_count": 36,
   "id": "70927a2b",
   "metadata": {},
   "outputs": [],
   "source": [
    "# удаление явных дубликатов (с удалением старых индексов и формированием новых)\n",
    "df = df.drop_duplicates().reset_index(drop=True)"
   ]
  },
  {
   "cell_type": "code",
   "execution_count": 37,
   "id": "dfe2e35f",
   "metadata": {},
   "outputs": [
    {
     "data": {
      "text/plain": [
       "0"
      ]
     },
     "execution_count": 37,
     "metadata": {},
     "output_type": "execute_result"
    }
   ],
   "source": [
    "# проверка на отсутствие дубликатов\n",
    "df.duplicated().sum()"
   ]
  },
  {
   "cell_type": "markdown",
   "id": "3893609f",
   "metadata": {},
   "source": [
    "**Обработка неявных дубликатов.**"
   ]
  },
  {
   "cell_type": "code",
   "execution_count": 38,
   "id": "724cddc9",
   "metadata": {},
   "outputs": [
    {
     "name": "stdout",
     "output_type": "stream",
     "text": [
      "[-1  0  1  2  3  4  5 20]\n",
      "['ВЫСШЕЕ' 'Высшее' 'НАЧАЛЬНОЕ' 'НЕОКОНЧЕННОЕ ВЫСШЕЕ' 'Начальное'\n",
      " 'Неоконченное высшее' 'СРЕДНЕЕ' 'Среднее' 'УЧЕНАЯ СТЕПЕНЬ'\n",
      " 'Ученая степень' 'высшее' 'начальное' 'неоконченное высшее' 'среднее'\n",
      " 'ученая степень']\n",
      "[0 1 2 3 4]\n",
      "['Не женат / не замужем' 'в разводе' 'вдовец / вдова' 'гражданский брак'\n",
      " 'женат / замужем']\n",
      "[0 1 2 3 4]\n",
      "['F' 'M' 'XNA']\n",
      "['безработный' 'в декрете' 'госслужащий' 'компаньон' 'пенсионер'\n",
      " 'предприниматель' 'сотрудник' 'студент']\n",
      "[0 1]\n",
      "['автомобили' 'автомобиль' 'высшее образование'\n",
      " 'дополнительное образование' 'жилье' 'заняться высшим образованием'\n",
      " 'заняться образованием' 'на покупку автомобиля'\n",
      " 'на покупку подержанного автомобиля' 'на покупку своего автомобиля'\n",
      " 'на проведение свадьбы' 'недвижимость' 'образование' 'операции с жильем'\n",
      " 'операции с коммерческой недвижимостью' 'операции с недвижимостью'\n",
      " 'операции со своей недвижимостью' 'покупка жилой недвижимости'\n",
      " 'покупка жилья' 'покупка жилья для сдачи' 'покупка жилья для семьи'\n",
      " 'покупка коммерческой недвижимости' 'покупка недвижимости'\n",
      " 'покупка своего жилья' 'получение высшего образования'\n",
      " 'получение дополнительного образования' 'получение образования'\n",
      " 'приобретение автомобиля' 'профильное образование' 'ремонт жилью'\n",
      " 'свадьба' 'свой автомобиль' 'сделка с автомобилем'\n",
      " 'сделка с подержанным автомобилем' 'строительство жилой недвижимости'\n",
      " 'строительство недвижимости' 'строительство собственной недвижимости'\n",
      " 'сыграть свадьбу']\n"
     ]
    }
   ],
   "source": [
    "# проверка на наличие неявных дубликатов в категориальных столбцах.\n",
    "print(df['children'].sort_values().unique())\n",
    "print(df['education'].sort_values().unique())\n",
    "print(df['education_id'].sort_values().unique())\n",
    "print(df['family_status'].sort_values().unique())\n",
    "print(df['family_status_id'].sort_values().unique())\n",
    "print(df['gender'].sort_values().unique())\n",
    "print(df['income_type'].sort_values().unique())\n",
    "print(df['debt'].sort_values().unique())\n",
    "print(df['purpose'].sort_values().unique())"
   ]
  },
  {
   "cell_type": "markdown",
   "id": "f74f9099",
   "metadata": {},
   "source": [
    "**Столбец 'children'**"
   ]
  },
  {
   "cell_type": "code",
   "execution_count": 39,
   "id": "0cdcf38a",
   "metadata": {},
   "outputs": [
    {
     "name": "stdout",
     "output_type": "stream",
     "text": [
      "47\n",
      "76\n"
     ]
    }
   ],
   "source": [
    "# количество клиентов, где количество детей равно -1 или 20\n",
    "print(df[df['children'] == -1]['children'].count())\n",
    "print(df[df['children'] == 20]['children'].count())"
   ]
  },
  {
   "cell_type": "markdown",
   "id": "78301829",
   "metadata": {},
   "source": [
    "**Вероятнее всего имеет место человеческая ошибка ввода данных, поэтому исправим отрицательное значение на положительное, а 20 на 2.**"
   ]
  },
  {
   "cell_type": "code",
   "execution_count": 40,
   "id": "583d542f",
   "metadata": {},
   "outputs": [],
   "source": [
    "# замена\n",
    "df.loc[df['children'] == -1, 'children'] = 1\n",
    "df.loc[df['children'] == 20, 'children'] = 2"
   ]
  },
  {
   "cell_type": "code",
   "execution_count": 41,
   "id": "35e848f8",
   "metadata": {},
   "outputs": [
    {
     "data": {
      "text/plain": [
       "array([0, 1, 2, 3, 4, 5])"
      ]
     },
     "execution_count": 41,
     "metadata": {},
     "output_type": "execute_result"
    }
   ],
   "source": [
    "# проверка результатов замены\n",
    "df['children'].sort_values().unique()"
   ]
  },
  {
   "cell_type": "markdown",
   "id": "cdb5209d",
   "metadata": {},
   "source": [
    "**Столбец 'gender'**"
   ]
  },
  {
   "cell_type": "code",
   "execution_count": 42,
   "id": "502e4445",
   "metadata": {},
   "outputs": [
    {
     "data": {
      "text/html": [
       "<div>\n",
       "<style scoped>\n",
       "    .dataframe tbody tr th:only-of-type {\n",
       "        vertical-align: middle;\n",
       "    }\n",
       "\n",
       "    .dataframe tbody tr th {\n",
       "        vertical-align: top;\n",
       "    }\n",
       "\n",
       "    .dataframe thead th {\n",
       "        text-align: right;\n",
       "    }\n",
       "</style>\n",
       "<table border=\"1\" class=\"dataframe\">\n",
       "  <thead>\n",
       "    <tr style=\"text-align: right;\">\n",
       "      <th></th>\n",
       "      <th>children</th>\n",
       "      <th>days_employed</th>\n",
       "      <th>dob_years</th>\n",
       "      <th>education</th>\n",
       "      <th>education_id</th>\n",
       "      <th>family_status</th>\n",
       "      <th>family_status_id</th>\n",
       "      <th>gender</th>\n",
       "      <th>income_type</th>\n",
       "      <th>debt</th>\n",
       "      <th>total_income</th>\n",
       "      <th>purpose</th>\n",
       "    </tr>\n",
       "  </thead>\n",
       "  <tbody>\n",
       "    <tr>\n",
       "      <td>10690</td>\n",
       "      <td>0</td>\n",
       "      <td>2358.600502</td>\n",
       "      <td>24</td>\n",
       "      <td>неоконченное высшее</td>\n",
       "      <td>2</td>\n",
       "      <td>гражданский брак</td>\n",
       "      <td>1</td>\n",
       "      <td>XNA</td>\n",
       "      <td>компаньон</td>\n",
       "      <td>0</td>\n",
       "      <td>203905</td>\n",
       "      <td>покупка недвижимости</td>\n",
       "    </tr>\n",
       "  </tbody>\n",
       "</table>\n",
       "</div>"
      ],
      "text/plain": [
       "       children  days_employed  dob_years            education  education_id  \\\n",
       "10690         0    2358.600502         24  неоконченное высшее             2   \n",
       "\n",
       "          family_status  family_status_id gender income_type  debt  \\\n",
       "10690  гражданский брак                 1    XNA   компаньон     0   \n",
       "\n",
       "       total_income               purpose  \n",
       "10690        203905  покупка недвижимости  "
      ]
     },
     "execution_count": 42,
     "metadata": {},
     "output_type": "execute_result"
    }
   ],
   "source": [
    "# обзор строк, где не указан пол клиента\n",
    "df[df['gender'] == 'XNA'].loc[:]"
   ]
  },
  {
   "cell_type": "markdown",
   "id": "12f13e04",
   "metadata": {},
   "source": [
    "Всего одна строка, что не повлияет на результаты исследования."
   ]
  },
  {
   "cell_type": "markdown",
   "id": "ff10ce65",
   "metadata": {},
   "source": [
    "**Приведение к одному регистру.**"
   ]
  },
  {
   "cell_type": "code",
   "execution_count": 43,
   "id": "26e82984",
   "metadata": {},
   "outputs": [],
   "source": [
    "# Приведение к одному регистру столбцов 'education' и 'family_status'.\n",
    "df['education'] = df['education'].str.lower()\n",
    "df['family_status'] = df['family_status'].str.lower()"
   ]
  },
  {
   "cell_type": "code",
   "execution_count": 44,
   "id": "a6618c77",
   "metadata": {},
   "outputs": [
    {
     "name": "stdout",
     "output_type": "stream",
     "text": [
      "['высшее' 'начальное' 'неоконченное высшее' 'среднее' 'ученая степень']\n",
      "['в разводе' 'вдовец / вдова' 'гражданский брак' 'женат / замужем'\n",
      " 'не женат / не замужем']\n"
     ]
    }
   ],
   "source": [
    "# повторная проверка неявных дубликатов в столбцах 'education' и 'family_status'..\n",
    "print(df['education'].sort_values().unique())\n",
    "print(df['family_status'].sort_values().unique())"
   ]
  },
  {
   "cell_type": "markdown",
   "id": "2d085197",
   "metadata": {},
   "source": [
    "Неявные дубликаты отсутствуют."
   ]
  },
  {
   "cell_type": "code",
   "execution_count": 45,
   "id": "127d4410",
   "metadata": {},
   "outputs": [
    {
     "name": "stdout",
     "output_type": "stream",
     "text": [
      "автомобили\n",
      "автомобиль\n",
      "высшее образование\n",
      "дополнительное образование\n",
      "жилье\n",
      "заняться высшим образованием\n",
      "заняться образованием\n",
      "на покупку автомобиля\n",
      "на покупку подержанного автомобиля\n",
      "на покупку своего автомобиля\n",
      "на проведение свадьбы\n",
      "недвижимость\n",
      "образование\n",
      "операции с жильем\n",
      "операции с коммерческой недвижимостью\n",
      "операции с недвижимостью\n",
      "операции со своей недвижимостью\n",
      "покупка жилой недвижимости\n",
      "покупка жилья\n",
      "покупка жилья для сдачи\n",
      "покупка жилья для семьи\n",
      "покупка коммерческой недвижимости\n",
      "покупка недвижимости\n",
      "покупка своего жилья\n",
      "получение высшего образования\n",
      "получение дополнительного образования\n",
      "получение образования\n",
      "приобретение автомобиля\n",
      "профильное образование\n",
      "ремонт жилью\n",
      "свадьба\n",
      "свой автомобиль\n",
      "сделка с автомобилем\n",
      "сделка с подержанным автомобилем\n",
      "строительство жилой недвижимости\n",
      "строительство недвижимости\n",
      "строительство собственной недвижимости\n",
      "сыграть свадьбу\n"
     ]
    }
   ],
   "source": [
    "# Обзор неявных дубликатов по столбцу 'purpose'\n",
    "purposes = df['purpose'].sort_values().unique()\n",
    " \n",
    "for purpose in purposes:\n",
    "    print(purpose)"
   ]
  },
  {
   "cell_type": "code",
   "execution_count": 46,
   "id": "29e30b56",
   "metadata": {},
   "outputs": [
    {
     "name": "stdout",
     "output_type": "stream",
     "text": [
      "сделка с автомобилем: автомобили\n",
      "сделка с автомобилем: автомобиль\n",
      "на образование: высшее образование\n",
      "на образование: дополнительное образование\n",
      "операции с недвижимостью: жилье\n",
      "на образование: заняться высшим образованием\n",
      "на образование: заняться образованием\n",
      "сделка с автомобилем: на покупку автомобиля\n",
      "сделка с автомобилем: на покупку подержанного автомобиля\n",
      "сделка с автомобилем: на покупку своего автомобиля\n",
      "сыграть свадьбу: на проведение свадьбы\n",
      "операции с недвижимостью: недвижимость\n",
      "на образование: образование\n",
      "операции с недвижимостью: операции с жильем\n",
      "операции с недвижимостью: операции с коммерческой недвижимостью\n",
      "операции с недвижимостью: операции с недвижимостью\n",
      "операции с недвижимостью: операции со своей недвижимостью\n",
      "операции с недвижимостью: покупка жилой недвижимости\n",
      "операции с недвижимостью: покупка жилья\n",
      "операции с недвижимостью: покупка жилья для сдачи\n",
      "операции с недвижимостью: покупка жилья для семьи\n",
      "операции с недвижимостью: покупка коммерческой недвижимости\n",
      "операции с недвижимостью: покупка недвижимости\n",
      "операции с недвижимостью: покупка своего жилья\n",
      "на образование: получение высшего образования\n",
      "на образование: получение дополнительного образования\n",
      "на образование: получение образования\n",
      "сделка с автомобилем: приобретение автомобиля\n",
      "на образование: профильное образование\n",
      "ремонт недвижимости: ремонт жилью\n",
      "сыграть свадьбу: свадьба\n",
      "сделка с автомобилем: свой автомобиль\n",
      "сделка с автомобилем: сделка с автомобилем\n",
      "сделка с автомобилем: сделка с подержанным автомобилем\n",
      "операции с недвижимостью: строительство жилой недвижимости\n",
      "операции с недвижимостью: строительство недвижимости\n",
      "операции с недвижимостью: строительство собственной недвижимости\n",
      "сыграть свадьбу: сыграть свадьбу\n"
     ]
    }
   ],
   "source": [
    "# определение единных стандартов неявных дубликатов по столбцу 'purpose'\n",
    "purposes = df['purpose'].sort_values().unique()\n",
    " \n",
    "for purpose in purposes:\n",
    "    if ('автомобил' in purpose and\n",
    "        'ремонт' not in purpose):\n",
    "        print('сделка с автомобилем:', purpose)\n",
    "    elif ('автомобил' in purpose and\n",
    "        'ремонт' in purpose):\n",
    "        print('ремонт автомобиля:', purpose)\n",
    "    elif 'образован' in purpose:\n",
    "        print('на образование:', purpose)\n",
    "    elif (('жиль' in purpose or\n",
    "          'недвижим' in purpose) and\n",
    "          'ремонт' not in purpose):\n",
    "        print('операции с недвижимостью:', purpose)\n",
    "    elif (('жиль' in purpose or\n",
    "          'недвижим' in purpose) and\n",
    "          'ремонт' in purpose):\n",
    "        print('ремонт недвижимости:', purpose)\n",
    "    elif 'свадьб' in purpose:\n",
    "        print('сыграть свадьбу:', purpose)\n",
    "    else:\n",
    "        print(' :', purpose)\n",
    "        "
   ]
  },
  {
   "cell_type": "code",
   "execution_count": 47,
   "id": "eea18ca5",
   "metadata": {},
   "outputs": [],
   "source": [
    "# Функция для замены неявных дубликатов для столбца 'purpose'\n",
    "def replace_purposes(purposes):\n",
    "    for purpose in purposes:\n",
    "        try:\n",
    "            if ('автомобил' in purpose and\n",
    "                'ремонт' not in purpose):\n",
    "                df['purpose'] = df['purpose'].replace(purpose, 'сделка с автомобилем')\n",
    "            elif ('автомобил' in purpose and\n",
    "                  'ремонт' in purpose):\n",
    "                df['purpose'] = df['purpose'].replace(purpose, 'ремонт автомобиля')\n",
    "            elif 'образован' in purpose:\n",
    "                df['purpose'] = df['purpose'].replace(purpose, 'на образование')\n",
    "            elif (('жиль' in purpose or\n",
    "                   'недвижим' in purpose) and\n",
    "                   'ремонт' not in purpose):\n",
    "                df['purpose'] = df['purpose'].replace(purpose, 'операции с недвижимостью')                \n",
    "            elif (('жиль' in purpose or\n",
    "                   'недвижим' in purpose) and\n",
    "                   'ремонт' in purpose):\n",
    "                df['purpose'] = df['purpose'].replace(purpose, 'ремонт недвижимости')\n",
    "            elif 'свадьб' in purpose:\n",
    "                df['purpose'] = df['purpose'].replace(purpose, 'сыграть свадьбу')\n",
    "        except:\n",
    "            df['purpose'] = df['purpose']\n",
    "\n"
   ]
  },
  {
   "cell_type": "code",
   "execution_count": 48,
   "id": "2c4fd51f",
   "metadata": {},
   "outputs": [],
   "source": [
    "# замена неявных дубликатов для столбца 'purpose'\n",
    "purposes = df['purpose'].sort_values().unique()\n",
    "replace_purposes(purposes)"
   ]
  },
  {
   "cell_type": "code",
   "execution_count": 49,
   "id": "4742bd59",
   "metadata": {},
   "outputs": [
    {
     "data": {
      "text/plain": [
       "array(['на образование', 'операции с недвижимостью',\n",
       "       'ремонт недвижимости', 'сделка с автомобилем', 'сыграть свадьбу'],\n",
       "      dtype=object)"
      ]
     },
     "execution_count": 49,
     "metadata": {},
     "output_type": "execute_result"
    }
   ],
   "source": [
    "# проверка замены неявных дубликатов для столбца 'purpose'\n",
    "df['purpose'].sort_values().unique()"
   ]
  },
  {
   "cell_type": "code",
   "execution_count": 50,
   "id": "bc08e91a",
   "metadata": {},
   "outputs": [
    {
     "data": {
      "text/plain": [
       "331"
      ]
     },
     "execution_count": 50,
     "metadata": {},
     "output_type": "execute_result"
    }
   ],
   "source": [
    "# повторный подсчёт явных дубликатов\n",
    "df.duplicated().sum() "
   ]
  },
  {
   "cell_type": "code",
   "execution_count": 51,
   "id": "da4a3cb2",
   "metadata": {},
   "outputs": [],
   "source": [
    "# удаление явных дубликатов (с удалением старых индексов и формированием новых)\n",
    "df = df.drop_duplicates().reset_index(drop=True)"
   ]
  },
  {
   "cell_type": "code",
   "execution_count": 52,
   "id": "e1c5bce3",
   "metadata": {},
   "outputs": [
    {
     "data": {
      "text/plain": [
       "0"
      ]
     },
     "execution_count": 52,
     "metadata": {},
     "output_type": "execute_result"
    }
   ],
   "source": [
    "df.duplicated().sum() # проверка на отсутствие дубликатов"
   ]
  },
  {
   "cell_type": "markdown",
   "id": "acec46d0",
   "metadata": {},
   "source": [
    "### Шаг 2.5. Формирование дополнительных датафреймов словарей, декомпозиция исходного датафрейма."
   ]
  },
  {
   "cell_type": "markdown",
   "id": "9e9cb51c",
   "metadata": {},
   "source": [
    "Новые датафреймы — это те самые «словари», к которым сможно обращаться по идентификатору."
   ]
  },
  {
   "cell_type": "code",
   "execution_count": 53,
   "id": "0190f117",
   "metadata": {},
   "outputs": [
    {
     "data": {
      "text/html": [
       "<div>\n",
       "<style scoped>\n",
       "    .dataframe tbody tr th:only-of-type {\n",
       "        vertical-align: middle;\n",
       "    }\n",
       "\n",
       "    .dataframe tbody tr th {\n",
       "        vertical-align: top;\n",
       "    }\n",
       "\n",
       "    .dataframe thead th {\n",
       "        text-align: right;\n",
       "    }\n",
       "</style>\n",
       "<table border=\"1\" class=\"dataframe\">\n",
       "  <thead>\n",
       "    <tr style=\"text-align: right;\">\n",
       "      <th></th>\n",
       "      <th>education_id</th>\n",
       "      <th>education</th>\n",
       "    </tr>\n",
       "  </thead>\n",
       "  <tbody>\n",
       "    <tr>\n",
       "      <td>0</td>\n",
       "      <td>0</td>\n",
       "      <td>высшее</td>\n",
       "    </tr>\n",
       "    <tr>\n",
       "      <td>1</td>\n",
       "      <td>1</td>\n",
       "      <td>среднее</td>\n",
       "    </tr>\n",
       "    <tr>\n",
       "      <td>2</td>\n",
       "      <td>1</td>\n",
       "      <td>среднее</td>\n",
       "    </tr>\n",
       "    <tr>\n",
       "      <td>3</td>\n",
       "      <td>1</td>\n",
       "      <td>среднее</td>\n",
       "    </tr>\n",
       "    <tr>\n",
       "      <td>4</td>\n",
       "      <td>1</td>\n",
       "      <td>среднее</td>\n",
       "    </tr>\n",
       "  </tbody>\n",
       "</table>\n",
       "</div>"
      ],
      "text/plain": [
       "   education_id education\n",
       "0             0    высшее\n",
       "1             1   среднее\n",
       "2             1   среднее\n",
       "3             1   среднее\n",
       "4             1   среднее"
      ]
     },
     "metadata": {},
     "output_type": "display_data"
    },
    {
     "data": {
      "text/html": [
       "<div>\n",
       "<style scoped>\n",
       "    .dataframe tbody tr th:only-of-type {\n",
       "        vertical-align: middle;\n",
       "    }\n",
       "\n",
       "    .dataframe tbody tr th {\n",
       "        vertical-align: top;\n",
       "    }\n",
       "\n",
       "    .dataframe thead th {\n",
       "        text-align: right;\n",
       "    }\n",
       "</style>\n",
       "<table border=\"1\" class=\"dataframe\">\n",
       "  <thead>\n",
       "    <tr style=\"text-align: right;\">\n",
       "      <th></th>\n",
       "      <th>family_status_id</th>\n",
       "      <th>family_status</th>\n",
       "    </tr>\n",
       "  </thead>\n",
       "  <tbody>\n",
       "    <tr>\n",
       "      <td>0</td>\n",
       "      <td>0</td>\n",
       "      <td>женат / замужем</td>\n",
       "    </tr>\n",
       "    <tr>\n",
       "      <td>1</td>\n",
       "      <td>0</td>\n",
       "      <td>женат / замужем</td>\n",
       "    </tr>\n",
       "    <tr>\n",
       "      <td>2</td>\n",
       "      <td>0</td>\n",
       "      <td>женат / замужем</td>\n",
       "    </tr>\n",
       "    <tr>\n",
       "      <td>3</td>\n",
       "      <td>0</td>\n",
       "      <td>женат / замужем</td>\n",
       "    </tr>\n",
       "    <tr>\n",
       "      <td>4</td>\n",
       "      <td>1</td>\n",
       "      <td>гражданский брак</td>\n",
       "    </tr>\n",
       "  </tbody>\n",
       "</table>\n",
       "</div>"
      ],
      "text/plain": [
       "   family_status_id     family_status\n",
       "0                 0   женат / замужем\n",
       "1                 0   женат / замужем\n",
       "2                 0   женат / замужем\n",
       "3                 0   женат / замужем\n",
       "4                 1  гражданский брак"
      ]
     },
     "metadata": {},
     "output_type": "display_data"
    }
   ],
   "source": [
    "# создаем два новых датафрейма со столбцами:\n",
    "\n",
    "# education_id и education — в первом;\n",
    "education_df = df[['education_id', 'education']]\n",
    "display(education_df.head())\n",
    "\n",
    "#family_status_id и family_status — во втором.\n",
    "family_status_df = df[['family_status_id', 'family_status']]\n",
    "display(family_status_df.head())"
   ]
  },
  {
   "cell_type": "code",
   "execution_count": 54,
   "id": "db11adf2",
   "metadata": {},
   "outputs": [
    {
     "data": {
      "text/plain": [
       "21135"
      ]
     },
     "execution_count": 54,
     "metadata": {},
     "output_type": "execute_result"
    }
   ],
   "source": [
    "# подсчёт явных дубликатов\n",
    "education_df.duplicated().sum()\n",
    "family_status_df.duplicated().sum()"
   ]
  },
  {
   "cell_type": "code",
   "execution_count": 55,
   "id": "096eaf53",
   "metadata": {},
   "outputs": [],
   "source": [
    "# удаление дубликатов из education_df, family_status_df\n",
    "education_df = education_df.drop_duplicates().reset_index(drop=True)\n",
    "family_status_df = family_status_df.drop_duplicates().reset_index(drop=True)"
   ]
  },
  {
   "cell_type": "code",
   "execution_count": 56,
   "id": "3fe26a98",
   "metadata": {},
   "outputs": [
    {
     "data": {
      "text/plain": [
       "0"
      ]
     },
     "execution_count": 56,
     "metadata": {},
     "output_type": "execute_result"
    }
   ],
   "source": [
    "# подсчёт явных дубликатов\n",
    "education_df.duplicated().sum()\n",
    "family_status_df.duplicated().sum()"
   ]
  },
  {
   "cell_type": "code",
   "execution_count": 57,
   "id": "88861f10",
   "metadata": {},
   "outputs": [
    {
     "data": {
      "text/html": [
       "<div>\n",
       "<style scoped>\n",
       "    .dataframe tbody tr th:only-of-type {\n",
       "        vertical-align: middle;\n",
       "    }\n",
       "\n",
       "    .dataframe tbody tr th {\n",
       "        vertical-align: top;\n",
       "    }\n",
       "\n",
       "    .dataframe thead th {\n",
       "        text-align: right;\n",
       "    }\n",
       "</style>\n",
       "<table border=\"1\" class=\"dataframe\">\n",
       "  <thead>\n",
       "    <tr style=\"text-align: right;\">\n",
       "      <th></th>\n",
       "      <th>children</th>\n",
       "      <th>days_employed</th>\n",
       "      <th>dob_years</th>\n",
       "      <th>education_id</th>\n",
       "      <th>family_status_id</th>\n",
       "      <th>gender</th>\n",
       "      <th>income_type</th>\n",
       "      <th>debt</th>\n",
       "      <th>total_income</th>\n",
       "      <th>purpose</th>\n",
       "    </tr>\n",
       "  </thead>\n",
       "  <tbody>\n",
       "    <tr>\n",
       "      <td>0</td>\n",
       "      <td>1</td>\n",
       "      <td>8437.673028</td>\n",
       "      <td>42</td>\n",
       "      <td>0</td>\n",
       "      <td>0</td>\n",
       "      <td>F</td>\n",
       "      <td>сотрудник</td>\n",
       "      <td>0</td>\n",
       "      <td>253875</td>\n",
       "      <td>операции с недвижимостью</td>\n",
       "    </tr>\n",
       "    <tr>\n",
       "      <td>1</td>\n",
       "      <td>1</td>\n",
       "      <td>4024.803754</td>\n",
       "      <td>36</td>\n",
       "      <td>1</td>\n",
       "      <td>0</td>\n",
       "      <td>F</td>\n",
       "      <td>сотрудник</td>\n",
       "      <td>0</td>\n",
       "      <td>112080</td>\n",
       "      <td>сделка с автомобилем</td>\n",
       "    </tr>\n",
       "    <tr>\n",
       "      <td>2</td>\n",
       "      <td>0</td>\n",
       "      <td>5623.422610</td>\n",
       "      <td>33</td>\n",
       "      <td>1</td>\n",
       "      <td>0</td>\n",
       "      <td>M</td>\n",
       "      <td>сотрудник</td>\n",
       "      <td>0</td>\n",
       "      <td>145885</td>\n",
       "      <td>операции с недвижимостью</td>\n",
       "    </tr>\n",
       "    <tr>\n",
       "      <td>3</td>\n",
       "      <td>3</td>\n",
       "      <td>4124.747207</td>\n",
       "      <td>32</td>\n",
       "      <td>1</td>\n",
       "      <td>0</td>\n",
       "      <td>M</td>\n",
       "      <td>сотрудник</td>\n",
       "      <td>0</td>\n",
       "      <td>267628</td>\n",
       "      <td>на образование</td>\n",
       "    </tr>\n",
       "    <tr>\n",
       "      <td>4</td>\n",
       "      <td>0</td>\n",
       "      <td>0.000000</td>\n",
       "      <td>53</td>\n",
       "      <td>1</td>\n",
       "      <td>1</td>\n",
       "      <td>F</td>\n",
       "      <td>пенсионер</td>\n",
       "      <td>0</td>\n",
       "      <td>15861</td>\n",
       "      <td>сыграть свадьбу</td>\n",
       "    </tr>\n",
       "  </tbody>\n",
       "</table>\n",
       "</div>"
      ],
      "text/plain": [
       "   children  days_employed  dob_years  education_id  family_status_id gender  \\\n",
       "0         1    8437.673028         42             0                 0      F   \n",
       "1         1    4024.803754         36             1                 0      F   \n",
       "2         0    5623.422610         33             1                 0      M   \n",
       "3         3    4124.747207         32             1                 0      M   \n",
       "4         0       0.000000         53             1                 1      F   \n",
       "\n",
       "  income_type  debt  total_income                   purpose  \n",
       "0   сотрудник     0        253875  операции с недвижимостью  \n",
       "1   сотрудник     0        112080      сделка с автомобилем  \n",
       "2   сотрудник     0        145885  операции с недвижимостью  \n",
       "3   сотрудник     0        267628            на образование  \n",
       "4   пенсионер     0         15861           сыграть свадьбу  "
      ]
     },
     "execution_count": 57,
     "metadata": {},
     "output_type": "execute_result"
    }
   ],
   "source": [
    "# Удаление из исходного датафрейма столбцов education и family_status\n",
    "df = df.drop(['education', 'family_status'], axis=1)\n",
    "df.head()"
   ]
  },
  {
   "cell_type": "markdown",
   "id": "9cb00386",
   "metadata": {},
   "source": [
    "### Шаг 2.6. Категоризация дохода."
   ]
  },
  {
   "cell_type": "code",
   "execution_count": null,
   "id": "f0c40d79",
   "metadata": {},
   "outputs": [],
   "source": [
    "# расчет значений столбца total_income_category\n",
    "\n",
    "def total_income_category(total_income):\n",
    "    \"\"\"\n",
    "    На основании диапазонов, указанных ниже, присваивается категория:\n",
    "    0–30000 — 'E';\n",
    "    30001–50000 — 'D';\n",
    "    50001–200000 — 'C';\n",
    "    200001–1000000 — 'B';\n",
    "    1000001 и выше — 'A'.\n",
    "    \"\"\"\n",
    "    try:\n",
    "        if 0 <= total_income <= 30000:\n",
    "            return 'E'\n",
    "        elif 30001 <= total_income <= 50000:\n",
    "            return 'D'\n",
    "        elif 50001 <= total_income <= 200000:\n",
    "            return 'C'\n",
    "        elif 200001 <= total_income <= 1000000:\n",
    "            return 'B'\n",
    "        elif total_income >= 1000001:\n",
    "            return 'A'\n",
    "    except:\n",
    "        return 'Данные не соответствуют положительной области целых чисел'\n",
    "\n",
    "\n",
    "\n",
    "df['total_income_category'] = df['total_income'].apply(total_income_category)"
   ]
  },
  {
   "cell_type": "markdown",
   "id": "949f81fe",
   "metadata": {},
   "source": [
    "### Шаг 2.7. Категоризация целей кредита."
   ]
  },
  {
   "cell_type": "markdown",
   "id": "17bb69e7",
   "metadata": {},
   "source": [
    "**Данная задача была решена в рамках задачи \"Обработка неявных дубликатов\"**"
   ]
  },
  {
   "cell_type": "markdown",
   "id": "2387e7aa",
   "metadata": {},
   "source": [
    "### Ответы на вопросы."
   ]
  },
  {
   "cell_type": "markdown",
   "id": "2b199f47",
   "metadata": {},
   "source": [
    "Ниже приведенные вопросы необходимо рассматривать в плоскости относительных величин показателя наличия задолженности к общему числу клиентов в рамках рассматриваемых категорий.\n",
    "\n",
    "В данном случае среднее значение является показателем характеризующим долю задолжавших относительно общего числа клиентов в своей категории:\n",
    "- по количеству детей,\n",
    "- семейному положению,\n",
    "- уровню дохода,\n",
    "- целям кредита.\n",
    "\n",
    "То есть, чем выше среднее значение, тем ниже кредитная дисциплина."
   ]
  },
  {
   "cell_type": "markdown",
   "id": "4cd427e3",
   "metadata": {},
   "source": [
    "##### Вопрос 1:"
   ]
  },
  {
   "cell_type": "markdown",
   "id": "8d357298",
   "metadata": {},
   "source": [
    "Есть ли зависимость между количеством детей и возвратом кредита в срок?"
   ]
  },
  {
   "cell_type": "code",
   "execution_count": 59,
   "id": "1f114393",
   "metadata": {},
   "outputs": [
    {
     "data": {
      "text/html": [
       "<div>\n",
       "<style scoped>\n",
       "    .dataframe tbody tr th:only-of-type {\n",
       "        vertical-align: middle;\n",
       "    }\n",
       "\n",
       "    .dataframe tbody tr th {\n",
       "        vertical-align: top;\n",
       "    }\n",
       "\n",
       "    .dataframe thead tr th {\n",
       "        text-align: left;\n",
       "    }\n",
       "\n",
       "    .dataframe thead tr:last-of-type th {\n",
       "        text-align: right;\n",
       "    }\n",
       "</style>\n",
       "<table border=\"1\" class=\"dataframe\">\n",
       "  <thead>\n",
       "    <tr>\n",
       "      <th></th>\n",
       "      <th colspan=\"3\" halign=\"left\">debt</th>\n",
       "    </tr>\n",
       "    <tr>\n",
       "      <th></th>\n",
       "      <th>count</th>\n",
       "      <th>sum</th>\n",
       "      <th>mean</th>\n",
       "    </tr>\n",
       "    <tr>\n",
       "      <th>children</th>\n",
       "      <th></th>\n",
       "      <th></th>\n",
       "      <th></th>\n",
       "    </tr>\n",
       "  </thead>\n",
       "  <tbody>\n",
       "    <tr>\n",
       "      <td>0</td>\n",
       "      <td>13843</td>\n",
       "      <td>1061</td>\n",
       "      <td>0.076645</td>\n",
       "    </tr>\n",
       "    <tr>\n",
       "      <td>1</td>\n",
       "      <td>4804</td>\n",
       "      <td>445</td>\n",
       "      <td>0.092631</td>\n",
       "    </tr>\n",
       "    <tr>\n",
       "      <td>2</td>\n",
       "      <td>2115</td>\n",
       "      <td>202</td>\n",
       "      <td>0.095508</td>\n",
       "    </tr>\n",
       "    <tr>\n",
       "      <td>3</td>\n",
       "      <td>329</td>\n",
       "      <td>27</td>\n",
       "      <td>0.082067</td>\n",
       "    </tr>\n",
       "    <tr>\n",
       "      <td>4</td>\n",
       "      <td>40</td>\n",
       "      <td>4</td>\n",
       "      <td>0.100000</td>\n",
       "    </tr>\n",
       "    <tr>\n",
       "      <td>5</td>\n",
       "      <td>9</td>\n",
       "      <td>0</td>\n",
       "      <td>0.000000</td>\n",
       "    </tr>\n",
       "  </tbody>\n",
       "</table>\n",
       "</div>"
      ],
      "text/plain": [
       "           debt                \n",
       "          count   sum      mean\n",
       "children                       \n",
       "0         13843  1061  0.076645\n",
       "1          4804   445  0.092631\n",
       "2          2115   202  0.095508\n",
       "3           329    27  0.082067\n",
       "4            40     4  0.100000\n",
       "5             9     0  0.000000"
      ]
     },
     "execution_count": 59,
     "metadata": {},
     "output_type": "execute_result"
    }
   ],
   "source": [
    "# вывод основных показателей\n",
    "df.groupby('children').agg({'debt': ['count', 'sum', 'mean']})"
   ]
  },
  {
   "cell_type": "markdown",
   "id": "6b87544a",
   "metadata": {},
   "source": [
    "##### Вывод 1:"
   ]
  },
  {
   "cell_type": "markdown",
   "id": "53654192",
   "metadata": {},
   "source": [
    "Можно сделать вывод, что наличие детей отрицательно влияет на возврат кредитов."
   ]
  },
  {
   "cell_type": "markdown",
   "id": "253d07fa",
   "metadata": {},
   "source": [
    "##### Вопрос 2:"
   ]
  },
  {
   "cell_type": "markdown",
   "id": "3d3bf731",
   "metadata": {},
   "source": [
    "Есть ли зависимость между семейным положением и возвратом кредита в срок?"
   ]
  },
  {
   "cell_type": "code",
   "execution_count": 60,
   "id": "8484b8e0",
   "metadata": {},
   "outputs": [
    {
     "name": "stderr",
     "output_type": "stream",
     "text": [
      "/opt/conda/lib/python3.7/site-packages/pandas/core/reshape/merge.py:617: UserWarning: merging between different levels can give an unintended result (1 levels on the left, 2 on the right)\n",
      "  warnings.warn(msg, UserWarning)\n"
     ]
    },
    {
     "data": {
      "text/html": [
       "<div>\n",
       "<style scoped>\n",
       "    .dataframe tbody tr th:only-of-type {\n",
       "        vertical-align: middle;\n",
       "    }\n",
       "\n",
       "    .dataframe tbody tr th {\n",
       "        vertical-align: top;\n",
       "    }\n",
       "\n",
       "    .dataframe thead th {\n",
       "        text-align: right;\n",
       "    }\n",
       "</style>\n",
       "<table border=\"1\" class=\"dataframe\">\n",
       "  <thead>\n",
       "    <tr style=\"text-align: right;\">\n",
       "      <th></th>\n",
       "      <th>family_status_id</th>\n",
       "      <th>family_status</th>\n",
       "      <th>(debt, count)</th>\n",
       "      <th>(debt, sum)</th>\n",
       "      <th>(debt, mean)</th>\n",
       "    </tr>\n",
       "  </thead>\n",
       "  <tbody>\n",
       "    <tr>\n",
       "      <td>0</td>\n",
       "      <td>0</td>\n",
       "      <td>женат / замужем</td>\n",
       "      <td>12094</td>\n",
       "      <td>929</td>\n",
       "      <td>0.076815</td>\n",
       "    </tr>\n",
       "    <tr>\n",
       "      <td>1</td>\n",
       "      <td>1</td>\n",
       "      <td>гражданский брак</td>\n",
       "      <td>4124</td>\n",
       "      <td>388</td>\n",
       "      <td>0.094083</td>\n",
       "    </tr>\n",
       "    <tr>\n",
       "      <td>2</td>\n",
       "      <td>2</td>\n",
       "      <td>вдовец / вдова</td>\n",
       "      <td>944</td>\n",
       "      <td>63</td>\n",
       "      <td>0.066737</td>\n",
       "    </tr>\n",
       "    <tr>\n",
       "      <td>3</td>\n",
       "      <td>3</td>\n",
       "      <td>в разводе</td>\n",
       "      <td>1193</td>\n",
       "      <td>85</td>\n",
       "      <td>0.071249</td>\n",
       "    </tr>\n",
       "    <tr>\n",
       "      <td>4</td>\n",
       "      <td>4</td>\n",
       "      <td>не женат / не замужем</td>\n",
       "      <td>2785</td>\n",
       "      <td>274</td>\n",
       "      <td>0.098384</td>\n",
       "    </tr>\n",
       "  </tbody>\n",
       "</table>\n",
       "</div>"
      ],
      "text/plain": [
       "   family_status_id          family_status  (debt, count)  (debt, sum)  \\\n",
       "0                 0        женат / замужем          12094          929   \n",
       "1                 1       гражданский брак           4124          388   \n",
       "2                 2         вдовец / вдова            944           63   \n",
       "3                 3              в разводе           1193           85   \n",
       "4                 4  не женат / не замужем           2785          274   \n",
       "\n",
       "   (debt, mean)  \n",
       "0      0.076815  \n",
       "1      0.094083  \n",
       "2      0.066737  \n",
       "3      0.071249  \n",
       "4      0.098384  "
      ]
     },
     "execution_count": 60,
     "metadata": {},
     "output_type": "execute_result"
    }
   ],
   "source": [
    "# вывод основных показателей\n",
    "family_status_debt_indicators = df.groupby('family_status_id').agg({'debt': ['count', 'sum', 'mean']})\n",
    "family_status_df.merge(family_status_debt_indicators, on='family_status_id', how = 'left')"
   ]
  },
  {
   "cell_type": "markdown",
   "id": "0ce782dd",
   "metadata": {},
   "source": [
    "##### Вывод 2:"
   ]
  },
  {
   "cell_type": "markdown",
   "id": "777b1964",
   "metadata": {},
   "source": [
    "Можно сказать, что клиенты в гражданском браке и холостые менее дисциплинированы чем оставшиеся категории."
   ]
  },
  {
   "cell_type": "markdown",
   "id": "90db2022",
   "metadata": {},
   "source": [
    "##### Вопрос 3:"
   ]
  },
  {
   "cell_type": "markdown",
   "id": "23b08a51",
   "metadata": {},
   "source": [
    "Есть ли зависимость между уровнем дохода и возвратом кредита в срок?"
   ]
  },
  {
   "cell_type": "code",
   "execution_count": 61,
   "id": "63a40fa3",
   "metadata": {},
   "outputs": [
    {
     "data": {
      "text/html": [
       "<div>\n",
       "<style scoped>\n",
       "    .dataframe tbody tr th:only-of-type {\n",
       "        vertical-align: middle;\n",
       "    }\n",
       "\n",
       "    .dataframe tbody tr th {\n",
       "        vertical-align: top;\n",
       "    }\n",
       "\n",
       "    .dataframe thead tr th {\n",
       "        text-align: left;\n",
       "    }\n",
       "\n",
       "    .dataframe thead tr:last-of-type th {\n",
       "        text-align: right;\n",
       "    }\n",
       "</style>\n",
       "<table border=\"1\" class=\"dataframe\">\n",
       "  <thead>\n",
       "    <tr>\n",
       "      <th></th>\n",
       "      <th colspan=\"3\" halign=\"left\">debt</th>\n",
       "    </tr>\n",
       "    <tr>\n",
       "      <th></th>\n",
       "      <th>count</th>\n",
       "      <th>sum</th>\n",
       "      <th>mean</th>\n",
       "    </tr>\n",
       "    <tr>\n",
       "      <th>total_income_category</th>\n",
       "      <th></th>\n",
       "      <th></th>\n",
       "      <th></th>\n",
       "    </tr>\n",
       "  </thead>\n",
       "  <tbody>\n",
       "    <tr>\n",
       "      <td>A</td>\n",
       "      <td>25</td>\n",
       "      <td>2</td>\n",
       "      <td>0.080000</td>\n",
       "    </tr>\n",
       "    <tr>\n",
       "      <td>B</td>\n",
       "      <td>4488</td>\n",
       "      <td>325</td>\n",
       "      <td>0.072415</td>\n",
       "    </tr>\n",
       "    <tr>\n",
       "      <td>C</td>\n",
       "      <td>12713</td>\n",
       "      <td>1180</td>\n",
       "      <td>0.092818</td>\n",
       "    </tr>\n",
       "    <tr>\n",
       "      <td>D</td>\n",
       "      <td>294</td>\n",
       "      <td>19</td>\n",
       "      <td>0.064626</td>\n",
       "    </tr>\n",
       "    <tr>\n",
       "      <td>E</td>\n",
       "      <td>3620</td>\n",
       "      <td>213</td>\n",
       "      <td>0.058840</td>\n",
       "    </tr>\n",
       "  </tbody>\n",
       "</table>\n",
       "</div>"
      ],
      "text/plain": [
       "                        debt                \n",
       "                       count   sum      mean\n",
       "total_income_category                       \n",
       "A                         25     2  0.080000\n",
       "B                       4488   325  0.072415\n",
       "C                      12713  1180  0.092818\n",
       "D                        294    19  0.064626\n",
       "E                       3620   213  0.058840"
      ]
     },
     "execution_count": 61,
     "metadata": {},
     "output_type": "execute_result"
    }
   ],
   "source": [
    "# вывод основных показателей\n",
    "df.groupby('total_income_category').agg({'debt': ['count', 'sum', 'mean']})"
   ]
  },
  {
   "cell_type": "markdown",
   "id": "ad40f25f",
   "metadata": {},
   "source": [
    "##### Вывод 3:"
   ]
  },
  {
   "cell_type": "markdown",
   "id": "ff5e6e4f",
   "metadata": {},
   "source": [
    "Можно сказать, что рост доходов отрицательно влияет на кредитную дисциплину."
   ]
  },
  {
   "cell_type": "markdown",
   "id": "32ac05a8",
   "metadata": {},
   "source": [
    "##### Вопрос 4:"
   ]
  },
  {
   "cell_type": "markdown",
   "id": "827ace53",
   "metadata": {},
   "source": [
    "Как разные цели кредита влияют на его возврат в срок?"
   ]
  },
  {
   "cell_type": "code",
   "execution_count": 62,
   "id": "cf986f3b",
   "metadata": {},
   "outputs": [
    {
     "data": {
      "text/html": [
       "<div>\n",
       "<style scoped>\n",
       "    .dataframe tbody tr th:only-of-type {\n",
       "        vertical-align: middle;\n",
       "    }\n",
       "\n",
       "    .dataframe tbody tr th {\n",
       "        vertical-align: top;\n",
       "    }\n",
       "\n",
       "    .dataframe thead tr th {\n",
       "        text-align: left;\n",
       "    }\n",
       "\n",
       "    .dataframe thead tr:last-of-type th {\n",
       "        text-align: right;\n",
       "    }\n",
       "</style>\n",
       "<table border=\"1\" class=\"dataframe\">\n",
       "  <thead>\n",
       "    <tr>\n",
       "      <th></th>\n",
       "      <th colspan=\"3\" halign=\"left\">debt</th>\n",
       "    </tr>\n",
       "    <tr>\n",
       "      <th></th>\n",
       "      <th>count</th>\n",
       "      <th>sum</th>\n",
       "      <th>mean</th>\n",
       "    </tr>\n",
       "    <tr>\n",
       "      <th>purpose</th>\n",
       "      <th></th>\n",
       "      <th></th>\n",
       "      <th></th>\n",
       "    </tr>\n",
       "  </thead>\n",
       "  <tbody>\n",
       "    <tr>\n",
       "      <td>на образование</td>\n",
       "      <td>3964</td>\n",
       "      <td>370</td>\n",
       "      <td>0.093340</td>\n",
       "    </tr>\n",
       "    <tr>\n",
       "      <td>операции с недвижимостью</td>\n",
       "      <td>9992</td>\n",
       "      <td>746</td>\n",
       "      <td>0.074660</td>\n",
       "    </tr>\n",
       "    <tr>\n",
       "      <td>ремонт недвижимости</td>\n",
       "      <td>607</td>\n",
       "      <td>35</td>\n",
       "      <td>0.057661</td>\n",
       "    </tr>\n",
       "    <tr>\n",
       "      <td>сделка с автомобилем</td>\n",
       "      <td>4271</td>\n",
       "      <td>402</td>\n",
       "      <td>0.094123</td>\n",
       "    </tr>\n",
       "    <tr>\n",
       "      <td>сыграть свадьбу</td>\n",
       "      <td>2306</td>\n",
       "      <td>186</td>\n",
       "      <td>0.080659</td>\n",
       "    </tr>\n",
       "  </tbody>\n",
       "</table>\n",
       "</div>"
      ],
      "text/plain": [
       "                          debt               \n",
       "                         count  sum      mean\n",
       "purpose                                      \n",
       "на образование            3964  370  0.093340\n",
       "операции с недвижимостью  9992  746  0.074660\n",
       "ремонт недвижимости        607   35  0.057661\n",
       "сделка с автомобилем      4271  402  0.094123\n",
       "сыграть свадьбу           2306  186  0.080659"
      ]
     },
     "execution_count": 62,
     "metadata": {},
     "output_type": "execute_result"
    }
   ],
   "source": [
    "# вывод основных показателей\n",
    "df_grouped_purpose = df.groupby('purpose').agg({'debt': ['count', 'sum', 'mean']})\n",
    "df_grouped_purpose"
   ]
  },
  {
   "cell_type": "markdown",
   "id": "a798e229",
   "metadata": {},
   "source": [
    "##### Вывод 4:"
   ]
  },
  {
   "cell_type": "markdown",
   "id": "6ff3397f",
   "metadata": {},
   "source": [
    "Сортированный список (по убыванию дисциплинированности) наглядно покажет ответ на поставленный вопрос."
   ]
  },
  {
   "cell_type": "code",
   "execution_count": 63,
   "id": "8929426a",
   "metadata": {},
   "outputs": [
    {
     "data": {
      "text/plain": [
       "purpose\n",
       "ремонт недвижимости         0.057661\n",
       "операции с недвижимостью    0.074660\n",
       "сыграть свадьбу             0.080659\n",
       "на образование              0.093340\n",
       "сделка с автомобилем        0.094123\n",
       "Name: mean, dtype: float64"
      ]
     },
     "execution_count": 63,
     "metadata": {},
     "output_type": "execute_result"
    }
   ],
   "source": [
    "# сортировка\n",
    "df_grouped_purpose['debt']['mean'].sort_values()"
   ]
  },
  {
   "cell_type": "markdown",
   "id": "4d242756",
   "metadata": {},
   "source": [
    "##### Вопрос 5:"
   ]
  },
  {
   "cell_type": "markdown",
   "id": "0337a0b4",
   "metadata": {},
   "source": [
    "Есть ли зависимость между уровнем образования и возвратом кредита в срок?"
   ]
  },
  {
   "cell_type": "code",
   "execution_count": 64,
   "id": "c7a5a0e6",
   "metadata": {},
   "outputs": [
    {
     "data": {
      "text/html": [
       "<div>\n",
       "<style scoped>\n",
       "    .dataframe tbody tr th:only-of-type {\n",
       "        vertical-align: middle;\n",
       "    }\n",
       "\n",
       "    .dataframe tbody tr th {\n",
       "        vertical-align: top;\n",
       "    }\n",
       "\n",
       "    .dataframe thead th {\n",
       "        text-align: right;\n",
       "    }\n",
       "</style>\n",
       "<table border=\"1\" class=\"dataframe\">\n",
       "  <thead>\n",
       "    <tr style=\"text-align: right;\">\n",
       "      <th></th>\n",
       "      <th>education_id</th>\n",
       "      <th>education</th>\n",
       "      <th>(debt, count)</th>\n",
       "      <th>(debt, sum)</th>\n",
       "      <th>(debt, mean)</th>\n",
       "    </tr>\n",
       "  </thead>\n",
       "  <tbody>\n",
       "    <tr>\n",
       "      <td>0</td>\n",
       "      <td>0</td>\n",
       "      <td>высшее</td>\n",
       "      <td>5216</td>\n",
       "      <td>278</td>\n",
       "      <td>0.053298</td>\n",
       "    </tr>\n",
       "    <tr>\n",
       "      <td>1</td>\n",
       "      <td>1</td>\n",
       "      <td>среднее</td>\n",
       "      <td>14892</td>\n",
       "      <td>1362</td>\n",
       "      <td>0.091459</td>\n",
       "    </tr>\n",
       "    <tr>\n",
       "      <td>2</td>\n",
       "      <td>2</td>\n",
       "      <td>неоконченное высшее</td>\n",
       "      <td>744</td>\n",
       "      <td>68</td>\n",
       "      <td>0.091398</td>\n",
       "    </tr>\n",
       "    <tr>\n",
       "      <td>3</td>\n",
       "      <td>3</td>\n",
       "      <td>начальное</td>\n",
       "      <td>282</td>\n",
       "      <td>31</td>\n",
       "      <td>0.109929</td>\n",
       "    </tr>\n",
       "    <tr>\n",
       "      <td>4</td>\n",
       "      <td>4</td>\n",
       "      <td>ученая степень</td>\n",
       "      <td>6</td>\n",
       "      <td>0</td>\n",
       "      <td>0.000000</td>\n",
       "    </tr>\n",
       "  </tbody>\n",
       "</table>\n",
       "</div>"
      ],
      "text/plain": [
       "   education_id            education  (debt, count)  (debt, sum)  (debt, mean)\n",
       "0             0               высшее           5216          278      0.053298\n",
       "1             1              среднее          14892         1362      0.091459\n",
       "2             2  неоконченное высшее            744           68      0.091398\n",
       "3             3            начальное            282           31      0.109929\n",
       "4             4       ученая степень              6            0      0.000000"
      ]
     },
     "execution_count": 64,
     "metadata": {},
     "output_type": "execute_result"
    }
   ],
   "source": [
    "# вывод основных показателей\n",
    "education_debt_indicators = df.groupby('education_id').agg({'debt': ['count', 'sum', 'mean']})\n",
    "education_df.merge(education_debt_indicators, on='education_id', how = 'left')"
   ]
  },
  {
   "cell_type": "markdown",
   "id": "3e2500f0",
   "metadata": {},
   "source": [
    "##### Вывод 5:"
   ]
  },
  {
   "cell_type": "markdown",
   "id": "19ac8735",
   "metadata": {},
   "source": [
    "Клиенты c высшим образованием более дисциплинированы."
   ]
  },
  {
   "cell_type": "markdown",
   "id": "632b541e",
   "metadata": {},
   "source": [
    "##### Вопрос 6:"
   ]
  },
  {
   "cell_type": "markdown",
   "id": "e721aff5",
   "metadata": {},
   "source": [
    "Как пол клиента влияет на возврат в срок?"
   ]
  },
  {
   "cell_type": "code",
   "execution_count": 65,
   "id": "0c550ffd",
   "metadata": {},
   "outputs": [
    {
     "data": {
      "text/html": [
       "<div>\n",
       "<style scoped>\n",
       "    .dataframe tbody tr th:only-of-type {\n",
       "        vertical-align: middle;\n",
       "    }\n",
       "\n",
       "    .dataframe tbody tr th {\n",
       "        vertical-align: top;\n",
       "    }\n",
       "\n",
       "    .dataframe thead tr th {\n",
       "        text-align: left;\n",
       "    }\n",
       "\n",
       "    .dataframe thead tr:last-of-type th {\n",
       "        text-align: right;\n",
       "    }\n",
       "</style>\n",
       "<table border=\"1\" class=\"dataframe\">\n",
       "  <thead>\n",
       "    <tr>\n",
       "      <th></th>\n",
       "      <th colspan=\"3\" halign=\"left\">debt</th>\n",
       "    </tr>\n",
       "    <tr>\n",
       "      <th></th>\n",
       "      <th>count</th>\n",
       "      <th>sum</th>\n",
       "      <th>mean</th>\n",
       "    </tr>\n",
       "    <tr>\n",
       "      <th>gender</th>\n",
       "      <th></th>\n",
       "      <th></th>\n",
       "      <th></th>\n",
       "    </tr>\n",
       "  </thead>\n",
       "  <tbody>\n",
       "    <tr>\n",
       "      <td>F</td>\n",
       "      <td>13941</td>\n",
       "      <td>993</td>\n",
       "      <td>0.071229</td>\n",
       "    </tr>\n",
       "    <tr>\n",
       "      <td>M</td>\n",
       "      <td>7198</td>\n",
       "      <td>746</td>\n",
       "      <td>0.103640</td>\n",
       "    </tr>\n",
       "  </tbody>\n",
       "</table>\n",
       "</div>"
      ],
      "text/plain": [
       "         debt               \n",
       "        count  sum      mean\n",
       "gender                      \n",
       "F       13941  993  0.071229\n",
       "M        7198  746  0.103640"
      ]
     },
     "execution_count": 65,
     "metadata": {},
     "output_type": "execute_result"
    }
   ],
   "source": [
    "# вывод основных показателей\n",
    "df_grouped_gender = df[df['gender'] != 'XNA'].groupby('gender').agg({'debt': ['count', 'sum', 'mean']})\n",
    "df_grouped_gender"
   ]
  },
  {
   "cell_type": "markdown",
   "id": "00da7b13",
   "metadata": {},
   "source": [
    "##### Вывод 6:"
   ]
  },
  {
   "cell_type": "markdown",
   "id": "f737b788",
   "metadata": {},
   "source": [
    "Женщины более дисциплинированы."
   ]
  },
  {
   "cell_type": "markdown",
   "id": "709602c2",
   "metadata": {},
   "source": [
    "##### Вопрос 7:"
   ]
  },
  {
   "cell_type": "markdown",
   "id": "38dfa60e",
   "metadata": {},
   "source": [
    "Как разные виды дохода влияют возврат кредита в срок?"
   ]
  },
  {
   "cell_type": "code",
   "execution_count": 66,
   "id": "4381fc59",
   "metadata": {},
   "outputs": [
    {
     "data": {
      "text/html": [
       "<div>\n",
       "<style scoped>\n",
       "    .dataframe tbody tr th:only-of-type {\n",
       "        vertical-align: middle;\n",
       "    }\n",
       "\n",
       "    .dataframe tbody tr th {\n",
       "        vertical-align: top;\n",
       "    }\n",
       "\n",
       "    .dataframe thead tr th {\n",
       "        text-align: left;\n",
       "    }\n",
       "\n",
       "    .dataframe thead tr:last-of-type th {\n",
       "        text-align: right;\n",
       "    }\n",
       "</style>\n",
       "<table border=\"1\" class=\"dataframe\">\n",
       "  <thead>\n",
       "    <tr>\n",
       "      <th></th>\n",
       "      <th colspan=\"3\" halign=\"left\">debt</th>\n",
       "    </tr>\n",
       "    <tr>\n",
       "      <th></th>\n",
       "      <th>count</th>\n",
       "      <th>sum</th>\n",
       "      <th>mean</th>\n",
       "    </tr>\n",
       "    <tr>\n",
       "      <th>income_type</th>\n",
       "      <th></th>\n",
       "      <th></th>\n",
       "      <th></th>\n",
       "    </tr>\n",
       "  </thead>\n",
       "  <tbody>\n",
       "    <tr>\n",
       "      <td>безработный</td>\n",
       "      <td>2</td>\n",
       "      <td>1</td>\n",
       "      <td>0.500000</td>\n",
       "    </tr>\n",
       "    <tr>\n",
       "      <td>в декрете</td>\n",
       "      <td>1</td>\n",
       "      <td>1</td>\n",
       "      <td>1.000000</td>\n",
       "    </tr>\n",
       "    <tr>\n",
       "      <td>госслужащий</td>\n",
       "      <td>1450</td>\n",
       "      <td>86</td>\n",
       "      <td>0.059310</td>\n",
       "    </tr>\n",
       "    <tr>\n",
       "      <td>компаньон</td>\n",
       "      <td>5037</td>\n",
       "      <td>376</td>\n",
       "      <td>0.074648</td>\n",
       "    </tr>\n",
       "    <tr>\n",
       "      <td>пенсионер</td>\n",
       "      <td>3737</td>\n",
       "      <td>216</td>\n",
       "      <td>0.057800</td>\n",
       "    </tr>\n",
       "    <tr>\n",
       "      <td>предприниматель</td>\n",
       "      <td>2</td>\n",
       "      <td>0</td>\n",
       "      <td>0.000000</td>\n",
       "    </tr>\n",
       "    <tr>\n",
       "      <td>сотрудник</td>\n",
       "      <td>10910</td>\n",
       "      <td>1059</td>\n",
       "      <td>0.097067</td>\n",
       "    </tr>\n",
       "    <tr>\n",
       "      <td>студент</td>\n",
       "      <td>1</td>\n",
       "      <td>0</td>\n",
       "      <td>0.000000</td>\n",
       "    </tr>\n",
       "  </tbody>\n",
       "</table>\n",
       "</div>"
      ],
      "text/plain": [
       "                  debt                \n",
       "                 count   sum      mean\n",
       "income_type                           \n",
       "безработный          2     1  0.500000\n",
       "в декрете            1     1  1.000000\n",
       "госслужащий       1450    86  0.059310\n",
       "компаньон         5037   376  0.074648\n",
       "пенсионер         3737   216  0.057800\n",
       "предприниматель      2     0  0.000000\n",
       "сотрудник        10910  1059  0.097067\n",
       "студент              1     0  0.000000"
      ]
     },
     "execution_count": 66,
     "metadata": {},
     "output_type": "execute_result"
    }
   ],
   "source": [
    "# вывод основных показателей\n",
    "df.groupby('income_type').agg({'debt': ['count', 'sum', 'mean']})"
   ]
  },
  {
   "cell_type": "code",
   "execution_count": 67,
   "id": "4a1bcc96",
   "metadata": {},
   "outputs": [
    {
     "data": {
      "text/html": [
       "<div>\n",
       "<style scoped>\n",
       "    .dataframe tbody tr th:only-of-type {\n",
       "        vertical-align: middle;\n",
       "    }\n",
       "\n",
       "    .dataframe tbody tr th {\n",
       "        vertical-align: top;\n",
       "    }\n",
       "\n",
       "    .dataframe thead tr th {\n",
       "        text-align: left;\n",
       "    }\n",
       "\n",
       "    .dataframe thead tr:last-of-type th {\n",
       "        text-align: right;\n",
       "    }\n",
       "</style>\n",
       "<table border=\"1\" class=\"dataframe\">\n",
       "  <thead>\n",
       "    <tr>\n",
       "      <th></th>\n",
       "      <th colspan=\"3\" halign=\"left\">debt</th>\n",
       "    </tr>\n",
       "    <tr>\n",
       "      <th></th>\n",
       "      <th>count</th>\n",
       "      <th>sum</th>\n",
       "      <th>mean</th>\n",
       "    </tr>\n",
       "    <tr>\n",
       "      <th>income_type</th>\n",
       "      <th></th>\n",
       "      <th></th>\n",
       "      <th></th>\n",
       "    </tr>\n",
       "  </thead>\n",
       "  <tbody>\n",
       "    <tr>\n",
       "      <td>госслужащий</td>\n",
       "      <td>1450</td>\n",
       "      <td>86</td>\n",
       "      <td>0.059310</td>\n",
       "    </tr>\n",
       "    <tr>\n",
       "      <td>компаньон</td>\n",
       "      <td>5037</td>\n",
       "      <td>376</td>\n",
       "      <td>0.074648</td>\n",
       "    </tr>\n",
       "    <tr>\n",
       "      <td>пенсионер</td>\n",
       "      <td>3737</td>\n",
       "      <td>216</td>\n",
       "      <td>0.057800</td>\n",
       "    </tr>\n",
       "    <tr>\n",
       "      <td>сотрудник</td>\n",
       "      <td>10910</td>\n",
       "      <td>1059</td>\n",
       "      <td>0.097067</td>\n",
       "    </tr>\n",
       "  </tbody>\n",
       "</table>\n",
       "</div>"
      ],
      "text/plain": [
       "              debt                \n",
       "             count   sum      mean\n",
       "income_type                       \n",
       "госслужащий   1450    86  0.059310\n",
       "компаньон     5037   376  0.074648\n",
       "пенсионер     3737   216  0.057800\n",
       "сотрудник    10910  1059  0.097067"
      ]
     },
     "execution_count": 67,
     "metadata": {},
     "output_type": "execute_result"
    }
   ],
   "source": [
    "# для наглядности уберем безработных, декретников, предпринимателя и студента\n",
    "df_grouped_income_type = df[(df['income_type'] != 'безработный')  &\n",
    "                       (df['income_type'] != 'в декрете') &\n",
    "                       (df['income_type'] != 'предприниматель') &\n",
    "                       (df['income_type'] != 'студент')].groupby('income_type').agg({'debt': ['count', 'sum', 'mean']})\n",
    "df_grouped_income_type"
   ]
  },
  {
   "cell_type": "markdown",
   "id": "5dbda8f3",
   "metadata": {},
   "source": [
    "##### Вывод 7:"
   ]
  },
  {
   "cell_type": "markdown",
   "id": "97d962fb",
   "metadata": {},
   "source": [
    "Сортированный список (по убыванию дисциплинированности) наглядно покажет ответ на поставленный вопрос."
   ]
  },
  {
   "cell_type": "code",
   "execution_count": 68,
   "id": "e1b73b19",
   "metadata": {},
   "outputs": [
    {
     "data": {
      "text/plain": [
       "income_type\n",
       "пенсионер      0.057800\n",
       "госслужащий    0.059310\n",
       "компаньон      0.074648\n",
       "сотрудник      0.097067\n",
       "Name: mean, dtype: float64"
      ]
     },
     "execution_count": 68,
     "metadata": {},
     "output_type": "execute_result"
    }
   ],
   "source": [
    "# сортировка\n",
    "df_grouped_income_type['debt']['mean'].sort_values()"
   ]
  },
  {
   "cell_type": "markdown",
   "id": "6a6e17ab",
   "metadata": {},
   "source": [
    "##### Вопрос 8:"
   ]
  },
  {
   "cell_type": "markdown",
   "id": "223ac175",
   "metadata": {},
   "source": [
    "Как образование и пол влияют на возврат кредита в срок?"
   ]
  },
  {
   "cell_type": "code",
   "execution_count": 76,
   "id": "eed6d93b",
   "metadata": {},
   "outputs": [
    {
     "data": {
      "text/html": [
       "<div>\n",
       "<style scoped>\n",
       "    .dataframe tbody tr th:only-of-type {\n",
       "        vertical-align: middle;\n",
       "    }\n",
       "\n",
       "    .dataframe tbody tr th {\n",
       "        vertical-align: top;\n",
       "    }\n",
       "\n",
       "    .dataframe thead th {\n",
       "        text-align: right;\n",
       "    }\n",
       "</style>\n",
       "<table border=\"1\" class=\"dataframe\">\n",
       "  <thead>\n",
       "    <tr style=\"text-align: right;\">\n",
       "      <th></th>\n",
       "      <th>education_id</th>\n",
       "      <th>education</th>\n",
       "      <th>(count, F)</th>\n",
       "      <th>(count, M)</th>\n",
       "      <th>(mean, F)</th>\n",
       "      <th>(mean, M)</th>\n",
       "    </tr>\n",
       "  </thead>\n",
       "  <tbody>\n",
       "    <tr>\n",
       "      <td>0</td>\n",
       "      <td>0</td>\n",
       "      <td>высшее</td>\n",
       "      <td>3513</td>\n",
       "      <td>1703</td>\n",
       "      <td>0.047538</td>\n",
       "      <td>0.065179</td>\n",
       "    </tr>\n",
       "    <tr>\n",
       "      <td>1</td>\n",
       "      <td>1</td>\n",
       "      <td>среднее</td>\n",
       "      <td>9803</td>\n",
       "      <td>5089</td>\n",
       "      <td>0.078445</td>\n",
       "      <td>0.116526</td>\n",
       "    </tr>\n",
       "    <tr>\n",
       "      <td>2</td>\n",
       "      <td>2</td>\n",
       "      <td>неоконченное высшее</td>\n",
       "      <td>460</td>\n",
       "      <td>283</td>\n",
       "      <td>0.089130</td>\n",
       "      <td>0.095406</td>\n",
       "    </tr>\n",
       "    <tr>\n",
       "      <td>3</td>\n",
       "      <td>3</td>\n",
       "      <td>начальное</td>\n",
       "      <td>163</td>\n",
       "      <td>119</td>\n",
       "      <td>0.098160</td>\n",
       "      <td>0.126050</td>\n",
       "    </tr>\n",
       "    <tr>\n",
       "      <td>4</td>\n",
       "      <td>4</td>\n",
       "      <td>ученая степень</td>\n",
       "      <td>2</td>\n",
       "      <td>4</td>\n",
       "      <td>0.000000</td>\n",
       "      <td>0.000000</td>\n",
       "    </tr>\n",
       "  </tbody>\n",
       "</table>\n",
       "</div>"
      ],
      "text/plain": [
       "   education_id            education  (count, F)  (count, M)  (mean, F)  \\\n",
       "0             0               высшее        3513        1703   0.047538   \n",
       "1             1              среднее        9803        5089   0.078445   \n",
       "2             2  неоконченное высшее         460         283   0.089130   \n",
       "3             3            начальное         163         119   0.098160   \n",
       "4             4       ученая степень           2           4   0.000000   \n",
       "\n",
       "   (mean, M)  \n",
       "0   0.065179  \n",
       "1   0.116526  \n",
       "2   0.095406  \n",
       "3   0.126050  \n",
       "4   0.000000  "
      ]
     },
     "execution_count": 76,
     "metadata": {},
     "output_type": "execute_result"
    }
   ],
   "source": [
    "# создание сводной таблицы\n",
    "df_pivot = df[df['gender'] != 'XNA'].pivot_table(index='education_id', columns='gender', values='debt', aggfunc=['count','mean'])\n",
    "education_df.merge(df_pivot, on = 'education_id', how = 'right')"
   ]
  },
  {
   "cell_type": "markdown",
   "id": "61fac2b3",
   "metadata": {},
   "source": [
    "##### Вывод 8:"
   ]
  },
  {
   "cell_type": "markdown",
   "id": "65f1a32b",
   "metadata": {},
   "source": [
    "Наиболее дисциплинированные - женщины с высшим образованием."
   ]
  },
  {
   "cell_type": "markdown",
   "id": "976583fa",
   "metadata": {},
   "source": [
    "## Общий вывод:"
   ]
  },
  {
   "cell_type": "markdown",
   "id": "af662364",
   "metadata": {},
   "source": [
    "Были проверено пять гипотез и установлено:\n",
    "\n",
    "1. Наличие детей отрицательно влияет на возврат кредитов.\n",
    "2. Клиенты в гражданском браке и холостые менее дисциплинированы чем оставшиеся категории.\n",
    "3. Рост доходов отрицательно влияет на кредитную дисциплину.\n",
    "4. См. выше раздел Вывод 4.\n",
    "5. Клиенты c высшим образованием более дисциплинированы.\n",
    "6. Женщины более дисциплинированы.\n",
    "7. См. выше раздел Вывод 7.\n",
    "8. Наиболее дисциплинированные - женщины с высшим образованием.\n"
   ]
  }
 ],
 "metadata": {
  "ExecuteTimeLog": [
   {
    "duration": 61,
    "start_time": "2022-02-17T07:23:12.812Z"
   },
   {
    "duration": 283,
    "start_time": "2022-02-17T07:25:38.252Z"
   },
   {
    "duration": 647,
    "start_time": "2022-02-17T07:25:42.135Z"
   },
   {
    "duration": 49,
    "start_time": "2022-02-17T07:25:44.808Z"
   },
   {
    "duration": 28,
    "start_time": "2022-02-17T07:26:44.626Z"
   },
   {
    "duration": 15,
    "start_time": "2022-02-17T07:26:59.155Z"
   },
   {
    "duration": 11,
    "start_time": "2022-02-17T07:31:01.365Z"
   },
   {
    "duration": 2,
    "start_time": "2022-02-17T07:37:03.565Z"
   },
   {
    "duration": 59,
    "start_time": "2022-02-17T07:48:32.582Z"
   },
   {
    "duration": 66,
    "start_time": "2022-02-17T08:05:23.421Z"
   },
   {
    "duration": 3,
    "start_time": "2022-02-17T08:08:34.015Z"
   },
   {
    "duration": 43,
    "start_time": "2022-02-17T08:08:35.765Z"
   },
   {
    "duration": 13,
    "start_time": "2022-02-17T08:08:41.063Z"
   },
   {
    "duration": 11,
    "start_time": "2022-02-17T08:08:46.126Z"
   },
   {
    "duration": 9,
    "start_time": "2022-02-17T08:26:53.621Z"
   },
   {
    "duration": 3,
    "start_time": "2022-02-17T09:01:49.886Z"
   },
   {
    "duration": 6,
    "start_time": "2022-02-17T09:02:13.517Z"
   },
   {
    "duration": 5,
    "start_time": "2022-02-17T09:03:48.794Z"
   },
   {
    "duration": 5,
    "start_time": "2022-02-17T09:04:03.690Z"
   },
   {
    "duration": 5,
    "start_time": "2022-02-17T09:04:32.203Z"
   },
   {
    "duration": 6,
    "start_time": "2022-02-17T09:04:57.569Z"
   },
   {
    "duration": 5,
    "start_time": "2022-02-17T09:05:27.639Z"
   },
   {
    "duration": 6,
    "start_time": "2022-02-17T09:08:36.850Z"
   },
   {
    "duration": 4,
    "start_time": "2022-02-17T09:09:01.418Z"
   },
   {
    "duration": 6,
    "start_time": "2022-02-17T11:01:48.180Z"
   },
   {
    "duration": 9,
    "start_time": "2022-02-17T11:02:02.973Z"
   },
   {
    "duration": 8,
    "start_time": "2022-02-17T11:02:34.469Z"
   },
   {
    "duration": 8,
    "start_time": "2022-02-17T11:03:52.618Z"
   },
   {
    "duration": 8,
    "start_time": "2022-02-17T11:04:05.369Z"
   },
   {
    "duration": 9,
    "start_time": "2022-02-17T11:04:15.224Z"
   },
   {
    "duration": 8,
    "start_time": "2022-02-17T11:04:22.692Z"
   },
   {
    "duration": 5,
    "start_time": "2022-02-17T11:07:41.914Z"
   },
   {
    "duration": 6,
    "start_time": "2022-02-17T11:08:06.226Z"
   },
   {
    "duration": 6,
    "start_time": "2022-02-17T11:10:23.771Z"
   },
   {
    "duration": 5,
    "start_time": "2022-02-17T11:17:40.893Z"
   },
   {
    "duration": 58,
    "start_time": "2022-02-17T11:18:05.831Z"
   },
   {
    "duration": 6,
    "start_time": "2022-02-17T11:18:19.733Z"
   },
   {
    "duration": 6,
    "start_time": "2022-02-17T11:18:22.439Z"
   },
   {
    "duration": 5,
    "start_time": "2022-02-17T11:19:09.205Z"
   },
   {
    "duration": 20,
    "start_time": "2022-02-17T12:11:22.591Z"
   },
   {
    "duration": 10,
    "start_time": "2022-02-17T12:11:54.889Z"
   },
   {
    "duration": 10,
    "start_time": "2022-02-17T12:12:15.908Z"
   },
   {
    "duration": 5,
    "start_time": "2022-02-17T12:20:47.008Z"
   },
   {
    "duration": 7,
    "start_time": "2022-02-17T12:21:03.868Z"
   },
   {
    "duration": 25,
    "start_time": "2022-02-17T12:21:23.085Z"
   },
   {
    "duration": 17,
    "start_time": "2022-02-17T12:23:56.021Z"
   },
   {
    "duration": 8,
    "start_time": "2022-02-17T12:24:12.055Z"
   },
   {
    "duration": 7,
    "start_time": "2022-02-17T12:29:25.277Z"
   },
   {
    "duration": 23,
    "start_time": "2022-02-17T12:50:51.917Z"
   },
   {
    "duration": 8,
    "start_time": "2022-02-17T12:51:15.790Z"
   },
   {
    "duration": 9,
    "start_time": "2022-02-17T12:51:39.348Z"
   },
   {
    "duration": 9,
    "start_time": "2022-02-17T12:51:47.429Z"
   },
   {
    "duration": 6,
    "start_time": "2022-02-17T12:58:09.654Z"
   },
   {
    "duration": 6,
    "start_time": "2022-02-17T12:58:10.392Z"
   },
   {
    "duration": 2,
    "start_time": "2022-02-17T14:21:16.135Z"
   },
   {
    "duration": 122,
    "start_time": "2022-02-17T14:23:45.750Z"
   },
   {
    "duration": 9,
    "start_time": "2022-02-17T14:25:02.086Z"
   },
   {
    "duration": 8,
    "start_time": "2022-02-17T14:30:01.424Z"
   },
   {
    "duration": 7,
    "start_time": "2022-02-17T14:32:06.611Z"
   },
   {
    "duration": 6,
    "start_time": "2022-02-17T14:33:59.789Z"
   },
   {
    "duration": 62,
    "start_time": "2022-02-17T14:38:53.066Z"
   },
   {
    "duration": 7,
    "start_time": "2022-02-17T14:39:07.307Z"
   },
   {
    "duration": 62,
    "start_time": "2022-02-17T14:53:36.406Z"
   },
   {
    "duration": 5,
    "start_time": "2022-02-17T14:58:15.460Z"
   },
   {
    "duration": 5,
    "start_time": "2022-02-17T14:58:22.963Z"
   },
   {
    "duration": 6,
    "start_time": "2022-02-17T14:58:39.144Z"
   },
   {
    "duration": 6,
    "start_time": "2022-02-17T14:58:48.387Z"
   },
   {
    "duration": 7,
    "start_time": "2022-02-17T14:58:55.760Z"
   },
   {
    "duration": 7,
    "start_time": "2022-02-17T14:59:36.645Z"
   },
   {
    "duration": 8,
    "start_time": "2022-02-17T15:01:47.103Z"
   },
   {
    "duration": 7,
    "start_time": "2022-02-17T15:03:17.501Z"
   },
   {
    "duration": 8,
    "start_time": "2022-02-17T15:09:43.506Z"
   },
   {
    "duration": 66,
    "start_time": "2022-02-17T15:11:32.988Z"
   },
   {
    "duration": 12,
    "start_time": "2022-02-17T15:16:43.195Z"
   },
   {
    "duration": 13,
    "start_time": "2022-02-17T15:19:07.668Z"
   },
   {
    "duration": 7,
    "start_time": "2022-02-17T15:22:47.397Z"
   },
   {
    "duration": 8,
    "start_time": "2022-02-17T15:30:54.046Z"
   },
   {
    "duration": 8,
    "start_time": "2022-02-17T15:31:28.726Z"
   },
   {
    "duration": 7,
    "start_time": "2022-02-17T15:33:22.822Z"
   },
   {
    "duration": 53,
    "start_time": "2022-02-17T15:40:47.017Z"
   },
   {
    "duration": 8,
    "start_time": "2022-02-17T15:41:25.214Z"
   },
   {
    "duration": 10,
    "start_time": "2022-02-17T15:48:49.256Z"
   },
   {
    "duration": 9,
    "start_time": "2022-02-17T15:48:58.186Z"
   },
   {
    "duration": 7,
    "start_time": "2022-02-17T15:49:28.657Z"
   },
   {
    "duration": 8,
    "start_time": "2022-02-17T15:49:59.538Z"
   },
   {
    "duration": 7,
    "start_time": "2022-02-17T15:50:14.767Z"
   },
   {
    "duration": 334,
    "start_time": "2022-02-18T05:12:32.871Z"
   },
   {
    "duration": 280,
    "start_time": "2022-02-18T05:12:49.688Z"
   },
   {
    "duration": 397,
    "start_time": "2022-02-18T05:15:18.050Z"
   },
   {
    "duration": 845,
    "start_time": "2022-02-18T05:15:37.012Z"
   },
   {
    "duration": 65,
    "start_time": "2022-02-18T05:15:37.860Z"
   },
   {
    "duration": 34,
    "start_time": "2022-02-18T05:15:37.928Z"
   },
   {
    "duration": 14,
    "start_time": "2022-02-18T05:15:37.965Z"
   },
   {
    "duration": 12,
    "start_time": "2022-02-18T05:15:37.981Z"
   },
   {
    "duration": 10,
    "start_time": "2022-02-18T05:15:37.996Z"
   },
   {
    "duration": 5,
    "start_time": "2022-02-18T05:15:38.008Z"
   },
   {
    "duration": 51,
    "start_time": "2022-02-18T05:15:38.015Z"
   },
   {
    "duration": 11,
    "start_time": "2022-02-18T05:15:38.072Z"
   },
   {
    "duration": 19,
    "start_time": "2022-02-18T05:15:38.086Z"
   },
   {
    "duration": 60,
    "start_time": "2022-02-18T05:15:38.108Z"
   },
   {
    "duration": 12,
    "start_time": "2022-02-18T05:15:38.171Z"
   },
   {
    "duration": 10,
    "start_time": "2022-02-18T05:16:46.909Z"
   },
   {
    "duration": 19,
    "start_time": "2022-02-18T05:18:31.934Z"
   },
   {
    "duration": 23,
    "start_time": "2022-02-18T05:19:58.621Z"
   },
   {
    "duration": 339,
    "start_time": "2022-02-18T05:20:12.406Z"
   },
   {
    "duration": 23,
    "start_time": "2022-02-18T05:20:57.052Z"
   },
   {
    "duration": 20,
    "start_time": "2022-02-18T05:23:43.205Z"
   },
   {
    "duration": 7,
    "start_time": "2022-02-18T05:24:25.590Z"
   },
   {
    "duration": 19,
    "start_time": "2022-02-18T05:24:49.140Z"
   },
   {
    "duration": 5,
    "start_time": "2022-02-18T05:44:52.959Z"
   },
   {
    "duration": 8,
    "start_time": "2022-02-18T05:45:17.390Z"
   },
   {
    "duration": 22,
    "start_time": "2022-02-18T05:50:48.479Z"
   },
   {
    "duration": 30,
    "start_time": "2022-02-18T05:56:37.044Z"
   },
   {
    "duration": 319,
    "start_time": "2022-02-18T05:57:22.234Z"
   },
   {
    "duration": 385,
    "start_time": "2022-02-18T06:19:16.859Z"
   },
   {
    "duration": 4,
    "start_time": "2022-02-18T06:19:30.581Z"
   },
   {
    "duration": 1375,
    "start_time": "2022-02-18T06:19:32.438Z"
   },
   {
    "duration": 4,
    "start_time": "2022-02-18T06:20:18.559Z"
   },
   {
    "duration": 1418,
    "start_time": "2022-02-18T06:20:20.251Z"
   },
   {
    "duration": 5,
    "start_time": "2022-02-18T06:21:42.670Z"
   },
   {
    "duration": 14,
    "start_time": "2022-02-18T06:21:44.483Z"
   },
   {
    "duration": 43,
    "start_time": "2022-02-18T06:22:02.528Z"
   },
   {
    "duration": 4,
    "start_time": "2022-02-18T06:24:46.526Z"
   },
   {
    "duration": 3698,
    "start_time": "2022-02-18T06:24:50.689Z"
   },
   {
    "duration": 9606,
    "start_time": "2022-02-18T06:25:21.904Z"
   },
   {
    "duration": 54,
    "start_time": "2022-02-18T07:03:14.504Z"
   },
   {
    "duration": 10,
    "start_time": "2022-02-18T07:03:38.089Z"
   },
   {
    "duration": 11,
    "start_time": "2022-02-18T07:03:45.668Z"
   },
   {
    "duration": 282,
    "start_time": "2022-02-18T07:04:02.722Z"
   },
   {
    "duration": 16,
    "start_time": "2022-02-18T07:04:23.360Z"
   },
   {
    "duration": 11,
    "start_time": "2022-02-18T07:04:35.880Z"
   },
   {
    "duration": 11,
    "start_time": "2022-02-18T07:04:49.242Z"
   },
   {
    "duration": 10,
    "start_time": "2022-02-18T07:04:58.428Z"
   },
   {
    "duration": 11,
    "start_time": "2022-02-18T07:05:04.229Z"
   },
   {
    "duration": 7065,
    "start_time": "2022-02-18T07:07:49.856Z"
   },
   {
    "duration": 7201,
    "start_time": "2022-02-18T07:08:57.239Z"
   },
   {
    "duration": 7243,
    "start_time": "2022-02-18T07:09:39.553Z"
   },
   {
    "duration": 4,
    "start_time": "2022-02-18T07:10:06.291Z"
   },
   {
    "duration": 6976,
    "start_time": "2022-02-18T07:10:17.575Z"
   },
   {
    "duration": 5,
    "start_time": "2022-02-18T07:11:09.041Z"
   },
   {
    "duration": 7111,
    "start_time": "2022-02-18T07:11:11.218Z"
   },
   {
    "duration": 4,
    "start_time": "2022-02-18T07:12:10.835Z"
   },
   {
    "duration": 67,
    "start_time": "2022-02-18T07:12:10.841Z"
   },
   {
    "duration": 19,
    "start_time": "2022-02-18T07:12:10.910Z"
   },
   {
    "duration": 35,
    "start_time": "2022-02-18T07:12:10.932Z"
   },
   {
    "duration": 12,
    "start_time": "2022-02-18T07:12:10.970Z"
   },
   {
    "duration": 12,
    "start_time": "2022-02-18T07:12:10.985Z"
   },
   {
    "duration": 5,
    "start_time": "2022-02-18T07:12:11.001Z"
   },
   {
    "duration": 60,
    "start_time": "2022-02-18T07:12:11.009Z"
   },
   {
    "duration": 10,
    "start_time": "2022-02-18T07:12:11.073Z"
   },
   {
    "duration": 19,
    "start_time": "2022-02-18T07:12:11.087Z"
   },
   {
    "duration": 53,
    "start_time": "2022-02-18T07:12:11.109Z"
   },
   {
    "duration": 396,
    "start_time": "2022-02-18T07:12:11.166Z"
   },
   {
    "duration": 353,
    "start_time": "2022-02-18T07:12:11.213Z"
   },
   {
    "duration": 343,
    "start_time": "2022-02-18T07:12:11.226Z"
   },
   {
    "duration": 342,
    "start_time": "2022-02-18T07:12:11.229Z"
   },
   {
    "duration": 46,
    "start_time": "2022-02-18T07:12:45.737Z"
   },
   {
    "duration": 4,
    "start_time": "2022-02-18T07:13:24.759Z"
   },
   {
    "duration": 297,
    "start_time": "2022-02-18T07:13:30.658Z"
   },
   {
    "duration": 5,
    "start_time": "2022-02-18T07:23:31.618Z"
   },
   {
    "duration": 44,
    "start_time": "2022-02-18T07:23:33.713Z"
   },
   {
    "duration": 20,
    "start_time": "2022-02-18T07:27:52.953Z"
   },
   {
    "duration": 24,
    "start_time": "2022-02-18T07:28:39.589Z"
   },
   {
    "duration": 14,
    "start_time": "2022-02-18T07:29:08.283Z"
   },
   {
    "duration": 8,
    "start_time": "2022-02-18T07:29:11.731Z"
   },
   {
    "duration": 46,
    "start_time": "2022-02-18T07:29:33.782Z"
   },
   {
    "duration": 26,
    "start_time": "2022-02-18T07:29:49.661Z"
   },
   {
    "duration": 3,
    "start_time": "2022-02-18T07:30:40.822Z"
   },
   {
    "duration": 63,
    "start_time": "2022-02-18T07:30:40.828Z"
   },
   {
    "duration": 21,
    "start_time": "2022-02-18T07:30:40.895Z"
   },
   {
    "duration": 19,
    "start_time": "2022-02-18T07:30:40.919Z"
   },
   {
    "duration": 32,
    "start_time": "2022-02-18T07:30:40.940Z"
   },
   {
    "duration": 14,
    "start_time": "2022-02-18T07:30:40.975Z"
   },
   {
    "duration": 5,
    "start_time": "2022-02-18T07:30:40.992Z"
   },
   {
    "duration": 10,
    "start_time": "2022-02-18T07:30:41.001Z"
   },
   {
    "duration": 52,
    "start_time": "2022-02-18T07:30:41.013Z"
   },
   {
    "duration": 19,
    "start_time": "2022-02-18T07:30:41.068Z"
   },
   {
    "duration": 11,
    "start_time": "2022-02-18T07:30:41.090Z"
   },
   {
    "duration": 67,
    "start_time": "2022-02-18T07:30:41.103Z"
   },
   {
    "duration": 7,
    "start_time": "2022-02-18T07:30:41.172Z"
   },
   {
    "duration": 8,
    "start_time": "2022-02-18T07:31:04.989Z"
   },
   {
    "duration": 8,
    "start_time": "2022-02-18T07:32:05.580Z"
   },
   {
    "duration": 30,
    "start_time": "2022-02-18T07:40:23.175Z"
   },
   {
    "duration": 18,
    "start_time": "2022-02-18T07:40:32.041Z"
   },
   {
    "duration": 19,
    "start_time": "2022-02-18T07:41:12.744Z"
   },
   {
    "duration": 41,
    "start_time": "2022-02-18T07:48:16.957Z"
   },
   {
    "duration": 16,
    "start_time": "2022-02-18T07:48:26.894Z"
   },
   {
    "duration": 16,
    "start_time": "2022-02-18T07:49:54.477Z"
   },
   {
    "duration": 20,
    "start_time": "2022-02-18T07:50:48.654Z"
   },
   {
    "duration": 6,
    "start_time": "2022-02-18T07:53:05.108Z"
   },
   {
    "duration": 12,
    "start_time": "2022-02-18T07:53:16.645Z"
   },
   {
    "duration": 26,
    "start_time": "2022-02-18T07:56:46.854Z"
   },
   {
    "duration": 22,
    "start_time": "2022-02-18T07:59:10.438Z"
   },
   {
    "duration": 5,
    "start_time": "2022-02-18T07:59:33.582Z"
   },
   {
    "duration": 122,
    "start_time": "2022-02-18T07:59:33.606Z"
   },
   {
    "duration": 34,
    "start_time": "2022-02-18T07:59:33.732Z"
   },
   {
    "duration": 24,
    "start_time": "2022-02-18T07:59:33.770Z"
   },
   {
    "duration": 18,
    "start_time": "2022-02-18T07:59:33.798Z"
   },
   {
    "duration": 46,
    "start_time": "2022-02-18T07:59:33.819Z"
   },
   {
    "duration": 8,
    "start_time": "2022-02-18T07:59:33.869Z"
   },
   {
    "duration": 14,
    "start_time": "2022-02-18T07:59:33.883Z"
   },
   {
    "duration": 12,
    "start_time": "2022-02-18T07:59:33.901Z"
   },
   {
    "duration": 61,
    "start_time": "2022-02-18T07:59:33.916Z"
   },
   {
    "duration": 15,
    "start_time": "2022-02-18T07:59:33.987Z"
   },
   {
    "duration": 24,
    "start_time": "2022-02-18T07:59:34.005Z"
   },
   {
    "duration": 33,
    "start_time": "2022-02-18T07:59:34.032Z"
   },
   {
    "duration": 24,
    "start_time": "2022-02-18T07:59:34.072Z"
   },
   {
    "duration": 6,
    "start_time": "2022-02-18T08:06:08.991Z"
   },
   {
    "duration": 88,
    "start_time": "2022-02-18T08:07:58.271Z"
   },
   {
    "duration": 12,
    "start_time": "2022-02-18T08:13:07.709Z"
   },
   {
    "duration": 21,
    "start_time": "2022-02-18T08:14:44.145Z"
   },
   {
    "duration": 20,
    "start_time": "2022-02-18T08:18:17.539Z"
   },
   {
    "duration": 26,
    "start_time": "2022-02-18T08:18:37.019Z"
   },
   {
    "duration": 68,
    "start_time": "2022-02-18T08:19:14.832Z"
   },
   {
    "duration": 4,
    "start_time": "2022-02-18T08:20:50.389Z"
   },
   {
    "duration": 84,
    "start_time": "2022-02-18T08:20:50.396Z"
   },
   {
    "duration": 23,
    "start_time": "2022-02-18T08:20:50.483Z"
   },
   {
    "duration": 27,
    "start_time": "2022-02-18T08:20:50.510Z"
   },
   {
    "duration": 45,
    "start_time": "2022-02-18T08:20:50.541Z"
   },
   {
    "duration": 28,
    "start_time": "2022-02-18T08:20:50.590Z"
   },
   {
    "duration": 52,
    "start_time": "2022-02-18T08:20:50.626Z"
   },
   {
    "duration": 29,
    "start_time": "2022-02-18T08:20:50.680Z"
   },
   {
    "duration": 31,
    "start_time": "2022-02-18T08:20:50.711Z"
   },
   {
    "duration": 59,
    "start_time": "2022-02-18T08:20:50.746Z"
   },
   {
    "duration": 37,
    "start_time": "2022-02-18T08:20:50.807Z"
   },
   {
    "duration": 71,
    "start_time": "2022-02-18T08:20:50.847Z"
   },
   {
    "duration": 8,
    "start_time": "2022-02-18T08:20:50.921Z"
   },
   {
    "duration": 41,
    "start_time": "2022-02-18T08:20:50.932Z"
   },
   {
    "duration": 57,
    "start_time": "2022-02-18T08:23:41.261Z"
   },
   {
    "duration": 51,
    "start_time": "2022-02-18T08:27:26.606Z"
   },
   {
    "duration": 11,
    "start_time": "2022-02-18T08:28:54.688Z"
   },
   {
    "duration": 12,
    "start_time": "2022-02-18T08:29:16.626Z"
   },
   {
    "duration": 27,
    "start_time": "2022-02-18T08:29:55.170Z"
   },
   {
    "duration": 16,
    "start_time": "2022-02-18T08:31:28.557Z"
   },
   {
    "duration": 12,
    "start_time": "2022-02-18T08:32:44.285Z"
   },
   {
    "duration": 4,
    "start_time": "2022-02-18T08:32:58.012Z"
   },
   {
    "duration": 69,
    "start_time": "2022-02-18T08:32:58.706Z"
   },
   {
    "duration": 20,
    "start_time": "2022-02-18T08:32:59.982Z"
   },
   {
    "duration": 21,
    "start_time": "2022-02-18T08:33:02.663Z"
   },
   {
    "duration": 17,
    "start_time": "2022-02-18T08:33:06.247Z"
   },
   {
    "duration": 18,
    "start_time": "2022-02-18T08:33:08.463Z"
   },
   {
    "duration": 6,
    "start_time": "2022-02-18T08:33:10.994Z"
   },
   {
    "duration": 10,
    "start_time": "2022-02-18T08:33:14.417Z"
   },
   {
    "duration": 10,
    "start_time": "2022-02-18T08:33:16.382Z"
   },
   {
    "duration": 19,
    "start_time": "2022-02-18T08:33:27.208Z"
   },
   {
    "duration": 13,
    "start_time": "2022-02-18T08:33:31.969Z"
   },
   {
    "duration": 54,
    "start_time": "2022-02-18T08:34:21.895Z"
   },
   {
    "duration": 36,
    "start_time": "2022-02-18T08:37:22.217Z"
   },
   {
    "duration": 7,
    "start_time": "2022-02-18T08:49:09.697Z"
   },
   {
    "duration": 285,
    "start_time": "2022-02-18T08:54:07.275Z"
   },
   {
    "duration": 23,
    "start_time": "2022-02-18T08:56:27.495Z"
   },
   {
    "duration": 32,
    "start_time": "2022-02-18T08:57:47.140Z"
   },
   {
    "duration": 41,
    "start_time": "2022-02-18T08:59:32.309Z"
   },
   {
    "duration": 29,
    "start_time": "2022-02-18T08:59:48.518Z"
   },
   {
    "duration": 94,
    "start_time": "2022-02-18T08:59:57.121Z"
   },
   {
    "duration": 29,
    "start_time": "2022-02-18T09:00:35.316Z"
   },
   {
    "duration": 34,
    "start_time": "2022-02-18T09:01:00.953Z"
   },
   {
    "duration": 37,
    "start_time": "2022-02-18T09:01:39.951Z"
   },
   {
    "duration": 34,
    "start_time": "2022-02-18T09:03:40.877Z"
   },
   {
    "duration": 35,
    "start_time": "2022-02-18T09:05:16.141Z"
   },
   {
    "duration": 30,
    "start_time": "2022-02-18T09:07:16.935Z"
   },
   {
    "duration": 30,
    "start_time": "2022-02-18T09:08:05.724Z"
   },
   {
    "duration": 1442,
    "start_time": "2022-02-18T09:15:34.201Z"
   },
   {
    "duration": 11,
    "start_time": "2022-02-18T09:18:37.255Z"
   },
   {
    "duration": 321,
    "start_time": "2022-02-18T09:18:52.359Z"
   },
   {
    "duration": 18,
    "start_time": "2022-02-18T09:19:27.431Z"
   },
   {
    "duration": 24,
    "start_time": "2022-02-18T09:19:40.680Z"
   },
   {
    "duration": 63,
    "start_time": "2022-02-18T09:50:12.027Z"
   },
   {
    "duration": 41,
    "start_time": "2022-02-18T09:52:47.743Z"
   },
   {
    "duration": 313,
    "start_time": "2022-02-18T10:08:54.866Z"
   },
   {
    "duration": 40,
    "start_time": "2022-02-18T10:09:10.308Z"
   },
   {
    "duration": 34,
    "start_time": "2022-02-18T10:09:52.578Z"
   },
   {
    "duration": 41,
    "start_time": "2022-02-18T10:11:43.134Z"
   },
   {
    "duration": 37,
    "start_time": "2022-02-18T10:15:09.372Z"
   },
   {
    "duration": 313,
    "start_time": "2022-02-18T10:17:07.335Z"
   },
   {
    "duration": 387,
    "start_time": "2022-02-18T10:19:15.298Z"
   },
   {
    "duration": 3926,
    "start_time": "2022-02-18T10:20:31.599Z"
   },
   {
    "duration": 3727,
    "start_time": "2022-02-18T10:21:59.158Z"
   },
   {
    "duration": 44,
    "start_time": "2022-02-18T10:22:58.036Z"
   },
   {
    "duration": 41,
    "start_time": "2022-02-18T10:23:28.040Z"
   },
   {
    "duration": 66,
    "start_time": "2022-02-18T10:24:28.262Z"
   },
   {
    "duration": 93,
    "start_time": "2022-02-18T10:26:10.145Z"
   },
   {
    "duration": 64,
    "start_time": "2022-02-18T10:26:28.169Z"
   },
   {
    "duration": 67,
    "start_time": "2022-02-18T10:28:18.518Z"
   },
   {
    "duration": 39,
    "start_time": "2022-02-18T10:28:41.602Z"
   },
   {
    "duration": 24,
    "start_time": "2022-02-18T10:33:29.284Z"
   },
   {
    "duration": 93,
    "start_time": "2022-02-18T10:41:20.699Z"
   },
   {
    "duration": 21,
    "start_time": "2022-02-18T10:51:53.843Z"
   },
   {
    "duration": 8,
    "start_time": "2022-02-18T10:52:52.741Z"
   },
   {
    "duration": 21,
    "start_time": "2022-02-18T10:52:59.966Z"
   },
   {
    "duration": 23,
    "start_time": "2022-02-18T10:53:25.791Z"
   },
   {
    "duration": 92,
    "start_time": "2022-02-18T10:54:37.103Z"
   },
   {
    "duration": 23,
    "start_time": "2022-02-18T11:00:36.850Z"
   },
   {
    "duration": 21,
    "start_time": "2022-02-18T11:01:02.275Z"
   },
   {
    "duration": 4,
    "start_time": "2022-02-18T11:01:30.038Z"
   },
   {
    "duration": 71,
    "start_time": "2022-02-18T11:01:30.044Z"
   },
   {
    "duration": 19,
    "start_time": "2022-02-18T11:01:30.118Z"
   },
   {
    "duration": 31,
    "start_time": "2022-02-18T11:01:30.139Z"
   },
   {
    "duration": 13,
    "start_time": "2022-02-18T11:01:30.172Z"
   },
   {
    "duration": 11,
    "start_time": "2022-02-18T11:01:30.187Z"
   },
   {
    "duration": 11,
    "start_time": "2022-02-18T11:01:30.201Z"
   },
   {
    "duration": 51,
    "start_time": "2022-02-18T11:01:30.215Z"
   },
   {
    "duration": 11,
    "start_time": "2022-02-18T11:01:30.269Z"
   },
   {
    "duration": 22,
    "start_time": "2022-02-18T11:01:30.283Z"
   },
   {
    "duration": 14,
    "start_time": "2022-02-18T11:01:30.308Z"
   },
   {
    "duration": 29,
    "start_time": "2022-02-18T11:01:30.363Z"
   },
   {
    "duration": 77,
    "start_time": "2022-02-18T11:01:30.395Z"
   },
   {
    "duration": 20,
    "start_time": "2022-02-18T11:01:30.475Z"
   },
   {
    "duration": 6,
    "start_time": "2022-02-18T11:01:30.497Z"
   },
   {
    "duration": 13,
    "start_time": "2022-02-18T11:01:30.505Z"
   },
   {
    "duration": 45,
    "start_time": "2022-02-18T11:01:30.521Z"
   },
   {
    "duration": 277,
    "start_time": "2022-02-18T11:07:09.513Z"
   },
   {
    "duration": 290,
    "start_time": "2022-02-18T11:07:42.512Z"
   },
   {
    "duration": 415,
    "start_time": "2022-02-18T11:08:27.256Z"
   },
   {
    "duration": 62,
    "start_time": "2022-02-18T11:10:05.602Z"
   },
   {
    "duration": 81,
    "start_time": "2022-02-18T11:10:33.128Z"
   },
   {
    "duration": 50,
    "start_time": "2022-02-18T11:11:21.746Z"
   },
   {
    "duration": 346,
    "start_time": "2022-02-18T11:11:47.298Z"
   },
   {
    "duration": 49,
    "start_time": "2022-02-18T11:13:02.507Z"
   },
   {
    "duration": 164,
    "start_time": "2022-02-18T11:13:51.696Z"
   },
   {
    "duration": 99,
    "start_time": "2022-02-18T11:14:10.553Z"
   },
   {
    "duration": 143,
    "start_time": "2022-02-18T11:16:08.140Z"
   },
   {
    "duration": 51,
    "start_time": "2022-02-18T11:16:38.602Z"
   },
   {
    "duration": 49,
    "start_time": "2022-02-18T11:17:23.046Z"
   },
   {
    "duration": 52,
    "start_time": "2022-02-18T11:17:59.224Z"
   },
   {
    "duration": 11,
    "start_time": "2022-02-18T12:03:05.256Z"
   },
   {
    "duration": 11,
    "start_time": "2022-02-18T12:03:55.019Z"
   },
   {
    "duration": 15,
    "start_time": "2022-02-18T12:04:29.668Z"
   },
   {
    "duration": 19,
    "start_time": "2022-02-18T12:06:56.182Z"
   },
   {
    "duration": 13,
    "start_time": "2022-02-18T12:10:19.760Z"
   },
   {
    "duration": 91,
    "start_time": "2022-02-18T12:11:17.794Z"
   },
   {
    "duration": 10,
    "start_time": "2022-02-18T12:14:43.381Z"
   },
   {
    "duration": 401,
    "start_time": "2022-02-18T12:16:56.356Z"
   },
   {
    "duration": 298,
    "start_time": "2022-02-18T12:17:12.622Z"
   },
   {
    "duration": 342,
    "start_time": "2022-02-18T12:17:20.762Z"
   },
   {
    "duration": 10,
    "start_time": "2022-02-18T12:19:12.598Z"
   },
   {
    "duration": 12,
    "start_time": "2022-02-18T12:20:20.845Z"
   },
   {
    "duration": 314,
    "start_time": "2022-02-18T12:20:28.522Z"
   },
   {
    "duration": 9,
    "start_time": "2022-02-18T12:22:46.747Z"
   },
   {
    "duration": 9,
    "start_time": "2022-02-18T12:22:58.622Z"
   },
   {
    "duration": 8,
    "start_time": "2022-02-18T12:23:05.511Z"
   },
   {
    "duration": 8,
    "start_time": "2022-02-18T12:23:33.112Z"
   },
   {
    "duration": 11,
    "start_time": "2022-02-18T12:24:05.015Z"
   },
   {
    "duration": 19,
    "start_time": "2022-02-18T12:24:51.079Z"
   },
   {
    "duration": 36,
    "start_time": "2022-02-18T12:25:27.743Z"
   },
   {
    "duration": 22,
    "start_time": "2022-02-18T12:26:19.877Z"
   },
   {
    "duration": 4,
    "start_time": "2022-02-18T12:26:29.626Z"
   },
   {
    "duration": 82,
    "start_time": "2022-02-18T12:26:30.076Z"
   },
   {
    "duration": 32,
    "start_time": "2022-02-18T12:26:32.386Z"
   },
   {
    "duration": 22,
    "start_time": "2022-02-18T12:26:34.535Z"
   },
   {
    "duration": 19,
    "start_time": "2022-02-18T12:26:38.130Z"
   },
   {
    "duration": 15,
    "start_time": "2022-02-18T12:26:39.323Z"
   },
   {
    "duration": 7,
    "start_time": "2022-02-18T12:26:40.369Z"
   },
   {
    "duration": 10,
    "start_time": "2022-02-18T12:26:42.040Z"
   },
   {
    "duration": 12,
    "start_time": "2022-02-18T12:26:47.942Z"
   },
   {
    "duration": 22,
    "start_time": "2022-02-18T12:26:52.566Z"
   },
   {
    "duration": 13,
    "start_time": "2022-02-18T12:26:55.201Z"
   },
   {
    "duration": 32,
    "start_time": "2022-02-18T12:27:06.153Z"
   },
   {
    "duration": 38,
    "start_time": "2022-02-18T12:27:09.311Z"
   },
   {
    "duration": 21,
    "start_time": "2022-02-18T12:27:12.264Z"
   },
   {
    "duration": 14,
    "start_time": "2022-02-18T12:27:16.511Z"
   },
   {
    "duration": 31,
    "start_time": "2022-02-18T12:27:21.586Z"
   },
   {
    "duration": 19,
    "start_time": "2022-02-18T12:28:37.432Z"
   },
   {
    "duration": 22,
    "start_time": "2022-02-18T12:28:55.398Z"
   },
   {
    "duration": 22,
    "start_time": "2022-02-18T12:29:18.288Z"
   },
   {
    "duration": 9,
    "start_time": "2022-02-18T12:29:35.702Z"
   },
   {
    "duration": 12,
    "start_time": "2022-02-18T12:29:45.227Z"
   },
   {
    "duration": 11,
    "start_time": "2022-02-18T12:33:13.061Z"
   },
   {
    "duration": 43,
    "start_time": "2022-02-18T12:36:52.317Z"
   },
   {
    "duration": 33,
    "start_time": "2022-02-18T12:37:25.226Z"
   },
   {
    "duration": 22,
    "start_time": "2022-02-18T12:38:05.441Z"
   },
   {
    "duration": 102,
    "start_time": "2022-02-18T12:44:40.045Z"
   },
   {
    "duration": 11,
    "start_time": "2022-02-18T12:48:40.687Z"
   },
   {
    "duration": 10,
    "start_time": "2022-02-18T12:49:31.614Z"
   },
   {
    "duration": 10,
    "start_time": "2022-02-18T12:54:39.238Z"
   },
   {
    "duration": 11,
    "start_time": "2022-02-18T12:54:47.018Z"
   },
   {
    "duration": 17,
    "start_time": "2022-02-18T12:56:59.125Z"
   },
   {
    "duration": 12,
    "start_time": "2022-02-18T12:57:35.855Z"
   },
   {
    "duration": 94,
    "start_time": "2022-02-18T13:09:51.967Z"
   },
   {
    "duration": 53,
    "start_time": "2022-02-18T14:00:03.188Z"
   },
   {
    "duration": 56,
    "start_time": "2022-02-18T14:02:03.527Z"
   },
   {
    "duration": 51,
    "start_time": "2022-02-18T14:02:15.814Z"
   },
   {
    "duration": 13,
    "start_time": "2022-02-18T14:21:33.567Z"
   },
   {
    "duration": 4,
    "start_time": "2022-02-18T14:21:57.408Z"
   },
   {
    "duration": 57,
    "start_time": "2022-02-18T14:21:57.869Z"
   },
   {
    "duration": 21,
    "start_time": "2022-02-18T14:21:58.282Z"
   },
   {
    "duration": 17,
    "start_time": "2022-02-18T14:21:58.630Z"
   },
   {
    "duration": 12,
    "start_time": "2022-02-18T14:21:59.898Z"
   },
   {
    "duration": 14,
    "start_time": "2022-02-18T14:22:00.408Z"
   },
   {
    "duration": 6,
    "start_time": "2022-02-18T14:22:00.901Z"
   },
   {
    "duration": 10,
    "start_time": "2022-02-18T14:22:01.652Z"
   },
   {
    "duration": 11,
    "start_time": "2022-02-18T14:22:01.875Z"
   },
   {
    "duration": 20,
    "start_time": "2022-02-18T14:22:02.344Z"
   },
   {
    "duration": 11,
    "start_time": "2022-02-18T14:22:02.809Z"
   },
   {
    "duration": 22,
    "start_time": "2022-02-18T14:22:03.310Z"
   },
   {
    "duration": 36,
    "start_time": "2022-02-18T14:22:03.963Z"
   },
   {
    "duration": 22,
    "start_time": "2022-02-18T14:22:04.900Z"
   },
   {
    "duration": 14,
    "start_time": "2022-02-18T14:22:05.795Z"
   },
   {
    "duration": 11,
    "start_time": "2022-02-18T14:22:06.543Z"
   },
   {
    "duration": 10,
    "start_time": "2022-02-18T14:22:07.560Z"
   },
   {
    "duration": 146,
    "start_time": "2022-02-18T14:25:22.552Z"
   },
   {
    "duration": 165,
    "start_time": "2022-02-18T14:26:27.292Z"
   },
   {
    "duration": 89,
    "start_time": "2022-02-18T14:26:46.373Z"
   },
   {
    "duration": 22,
    "start_time": "2022-02-18T14:27:13.210Z"
   },
   {
    "duration": 13,
    "start_time": "2022-02-18T14:27:18.266Z"
   },
   {
    "duration": 10,
    "start_time": "2022-02-18T14:27:21.504Z"
   },
   {
    "duration": 105,
    "start_time": "2022-02-18T14:27:22.019Z"
   },
   {
    "duration": 44,
    "start_time": "2022-02-18T14:28:13.650Z"
   },
   {
    "duration": 14,
    "start_time": "2022-02-18T14:28:44.853Z"
   },
   {
    "duration": 12,
    "start_time": "2022-02-18T14:32:53.753Z"
   },
   {
    "duration": 14,
    "start_time": "2022-02-18T14:36:37.048Z"
   },
   {
    "duration": 12,
    "start_time": "2022-02-18T14:37:04.858Z"
   },
   {
    "duration": 16,
    "start_time": "2022-02-18T14:40:13.918Z"
   },
   {
    "duration": 14,
    "start_time": "2022-02-18T14:41:43.455Z"
   },
   {
    "duration": 4,
    "start_time": "2022-02-18T14:42:38.389Z"
   },
   {
    "duration": 61,
    "start_time": "2022-02-18T14:42:38.729Z"
   },
   {
    "duration": 20,
    "start_time": "2022-02-18T14:42:39.005Z"
   },
   {
    "duration": 14,
    "start_time": "2022-02-18T14:42:39.652Z"
   },
   {
    "duration": 16,
    "start_time": "2022-02-18T14:42:41.007Z"
   },
   {
    "duration": 13,
    "start_time": "2022-02-18T14:42:41.394Z"
   },
   {
    "duration": 8,
    "start_time": "2022-02-18T14:42:41.813Z"
   },
   {
    "duration": 16,
    "start_time": "2022-02-18T14:42:42.591Z"
   },
   {
    "duration": 11,
    "start_time": "2022-02-18T14:42:43.033Z"
   },
   {
    "duration": 19,
    "start_time": "2022-02-18T14:42:43.988Z"
   },
   {
    "duration": 11,
    "start_time": "2022-02-18T14:42:44.514Z"
   },
   {
    "duration": 31,
    "start_time": "2022-02-18T14:42:45.211Z"
   },
   {
    "duration": 35,
    "start_time": "2022-02-18T14:42:45.630Z"
   },
   {
    "duration": 31,
    "start_time": "2022-02-18T14:42:46.897Z"
   },
   {
    "duration": 17,
    "start_time": "2022-02-18T14:42:48.091Z"
   },
   {
    "duration": 13,
    "start_time": "2022-02-18T14:42:48.890Z"
   },
   {
    "duration": 14,
    "start_time": "2022-02-18T14:42:49.304Z"
   },
   {
    "duration": 12,
    "start_time": "2022-02-18T14:42:49.961Z"
   },
   {
    "duration": 15,
    "start_time": "2022-02-18T14:42:53.568Z"
   },
   {
    "duration": 15,
    "start_time": "2022-02-18T14:42:55.450Z"
   },
   {
    "duration": 12,
    "start_time": "2022-02-18T14:43:57.087Z"
   },
   {
    "duration": 13,
    "start_time": "2022-02-18T14:44:23.088Z"
   },
   {
    "duration": 13,
    "start_time": "2022-02-18T14:45:56.462Z"
   },
   {
    "duration": 17,
    "start_time": "2022-02-18T14:46:56.474Z"
   },
   {
    "duration": 64,
    "start_time": "2022-02-18T14:47:32.059Z"
   },
   {
    "duration": 58,
    "start_time": "2022-02-18T14:52:53.836Z"
   },
   {
    "duration": 39,
    "start_time": "2022-02-18T14:53:20.993Z"
   },
   {
    "duration": 70,
    "start_time": "2022-02-18T14:54:02.883Z"
   },
   {
    "duration": 26,
    "start_time": "2022-02-18T14:54:06.792Z"
   },
   {
    "duration": 30,
    "start_time": "2022-02-18T14:57:41.263Z"
   },
   {
    "duration": 242,
    "start_time": "2022-02-18T14:58:12.486Z"
   },
   {
    "duration": 5370,
    "start_time": "2022-02-18T14:59:43.173Z"
   },
   {
    "duration": 17,
    "start_time": "2022-02-18T15:12:28.938Z"
   },
   {
    "duration": 15,
    "start_time": "2022-02-18T15:12:46.089Z"
   },
   {
    "duration": 13,
    "start_time": "2022-02-18T15:13:53.527Z"
   },
   {
    "duration": 14,
    "start_time": "2022-02-18T15:14:21.943Z"
   },
   {
    "duration": 16,
    "start_time": "2022-02-18T15:14:44.972Z"
   },
   {
    "duration": 177,
    "start_time": "2022-02-18T15:16:44.445Z"
   },
   {
    "duration": 314,
    "start_time": "2022-02-18T15:16:58.286Z"
   },
   {
    "duration": 113,
    "start_time": "2022-02-18T15:17:11.145Z"
   },
   {
    "duration": 323,
    "start_time": "2022-02-18T15:17:21.865Z"
   },
   {
    "duration": 131,
    "start_time": "2022-02-18T15:18:09.773Z"
   },
   {
    "duration": 13,
    "start_time": "2022-02-18T15:18:17.222Z"
   },
   {
    "duration": 14,
    "start_time": "2022-02-18T15:19:42.619Z"
   },
   {
    "duration": 17,
    "start_time": "2022-02-18T15:20:38.319Z"
   },
   {
    "duration": 33,
    "start_time": "2022-02-18T15:24:25.954Z"
   },
   {
    "duration": 12,
    "start_time": "2022-02-18T15:30:25.840Z"
   },
   {
    "duration": 12,
    "start_time": "2022-02-18T15:30:53.532Z"
   },
   {
    "duration": 12,
    "start_time": "2022-02-18T15:32:20.009Z"
   },
   {
    "duration": 309,
    "start_time": "2022-02-18T15:49:08.237Z"
   },
   {
    "duration": 20,
    "start_time": "2022-02-18T15:53:21.052Z"
   },
   {
    "duration": 111,
    "start_time": "2022-02-18T15:53:58.219Z"
   },
   {
    "duration": 48,
    "start_time": "2022-02-18T15:58:52.679Z"
   },
   {
    "duration": 75,
    "start_time": "2022-02-18T15:59:41.720Z"
   },
   {
    "duration": 4,
    "start_time": "2022-02-18T15:59:53.474Z"
   },
   {
    "duration": 56,
    "start_time": "2022-02-18T15:59:53.649Z"
   },
   {
    "duration": 20,
    "start_time": "2022-02-18T15:59:53.832Z"
   },
   {
    "duration": 15,
    "start_time": "2022-02-18T15:59:53.961Z"
   },
   {
    "duration": 13,
    "start_time": "2022-02-18T15:59:54.773Z"
   },
   {
    "duration": 10,
    "start_time": "2022-02-18T15:59:55.123Z"
   },
   {
    "duration": 6,
    "start_time": "2022-02-18T15:59:55.448Z"
   },
   {
    "duration": 12,
    "start_time": "2022-02-18T15:59:55.937Z"
   },
   {
    "duration": 11,
    "start_time": "2022-02-18T15:59:56.111Z"
   },
   {
    "duration": 20,
    "start_time": "2022-02-18T15:59:56.492Z"
   },
   {
    "duration": 13,
    "start_time": "2022-02-18T15:59:56.942Z"
   },
   {
    "duration": 23,
    "start_time": "2022-02-18T15:59:57.382Z"
   },
   {
    "duration": 37,
    "start_time": "2022-02-18T15:59:58.119Z"
   },
   {
    "duration": 22,
    "start_time": "2022-02-18T15:59:59.885Z"
   },
   {
    "duration": 12,
    "start_time": "2022-02-18T16:00:00.938Z"
   },
   {
    "duration": 10,
    "start_time": "2022-02-18T16:00:01.709Z"
   },
   {
    "duration": 27,
    "start_time": "2022-02-18T16:00:02.170Z"
   },
   {
    "duration": 57,
    "start_time": "2022-02-18T16:00:02.949Z"
   },
   {
    "duration": 5087,
    "start_time": "2022-02-18T16:00:03.611Z"
   },
   {
    "duration": 13,
    "start_time": "2022-02-18T16:00:08.701Z"
   },
   {
    "duration": 11,
    "start_time": "2022-02-18T16:00:08.717Z"
   },
   {
    "duration": 12,
    "start_time": "2022-02-18T16:02:15.543Z"
   },
   {
    "duration": 59,
    "start_time": "2022-02-18T16:02:19.550Z"
   },
   {
    "duration": 14,
    "start_time": "2022-02-18T16:02:21.107Z"
   },
   {
    "duration": 434,
    "start_time": "2022-02-20T06:58:07.462Z"
   },
   {
    "duration": 753,
    "start_time": "2022-02-20T06:58:39.639Z"
   },
   {
    "duration": 89,
    "start_time": "2022-02-20T06:58:40.395Z"
   },
   {
    "duration": 33,
    "start_time": "2022-02-20T06:58:40.488Z"
   },
   {
    "duration": 15,
    "start_time": "2022-02-20T06:58:40.524Z"
   },
   {
    "duration": 11,
    "start_time": "2022-02-20T06:58:40.541Z"
   },
   {
    "duration": 10,
    "start_time": "2022-02-20T06:58:40.555Z"
   },
   {
    "duration": 44,
    "start_time": "2022-02-20T06:58:40.567Z"
   },
   {
    "duration": 10,
    "start_time": "2022-02-20T06:58:40.615Z"
   },
   {
    "duration": 10,
    "start_time": "2022-02-20T06:58:40.628Z"
   },
   {
    "duration": 19,
    "start_time": "2022-02-20T06:58:40.640Z"
   },
   {
    "duration": 51,
    "start_time": "2022-02-20T06:58:40.661Z"
   },
   {
    "duration": 20,
    "start_time": "2022-02-20T06:58:40.715Z"
   },
   {
    "duration": 34,
    "start_time": "2022-02-20T06:58:40.738Z"
   },
   {
    "duration": 54,
    "start_time": "2022-02-20T06:58:40.775Z"
   },
   {
    "duration": 12,
    "start_time": "2022-02-20T06:58:40.832Z"
   },
   {
    "duration": 9,
    "start_time": "2022-02-20T06:58:40.847Z"
   },
   {
    "duration": 69,
    "start_time": "2022-02-20T06:58:40.859Z"
   },
   {
    "duration": 17,
    "start_time": "2022-02-20T06:58:40.930Z"
   },
   {
    "duration": 63,
    "start_time": "2022-02-20T06:59:25.769Z"
   },
   {
    "duration": 124,
    "start_time": "2022-02-20T07:13:22.518Z"
   },
   {
    "duration": 156,
    "start_time": "2022-02-20T07:13:32.332Z"
   },
   {
    "duration": 68,
    "start_time": "2022-02-20T07:13:32.423Z"
   },
   {
    "duration": 122,
    "start_time": "2022-02-20T07:14:51.536Z"
   },
   {
    "duration": 10,
    "start_time": "2022-02-20T07:15:22.740Z"
   },
   {
    "duration": 17,
    "start_time": "2022-02-20T07:15:33.983Z"
   },
   {
    "duration": 18,
    "start_time": "2022-02-20T07:16:21.562Z"
   },
   {
    "duration": 16,
    "start_time": "2022-02-20T07:17:26.278Z"
   },
   {
    "duration": 11,
    "start_time": "2022-02-20T07:17:47.817Z"
   },
   {
    "duration": 56,
    "start_time": "2022-02-20T07:43:24.167Z"
   },
   {
    "duration": 57,
    "start_time": "2022-02-20T07:44:40.071Z"
   },
   {
    "duration": 3,
    "start_time": "2022-02-20T07:45:35.987Z"
   },
   {
    "duration": 70,
    "start_time": "2022-02-20T07:45:35.994Z"
   },
   {
    "duration": 19,
    "start_time": "2022-02-20T07:45:36.067Z"
   },
   {
    "duration": 14,
    "start_time": "2022-02-20T07:45:36.111Z"
   },
   {
    "duration": 13,
    "start_time": "2022-02-20T07:45:36.128Z"
   },
   {
    "duration": 10,
    "start_time": "2022-02-20T07:45:36.144Z"
   },
   {
    "duration": 6,
    "start_time": "2022-02-20T07:45:36.156Z"
   },
   {
    "duration": 53,
    "start_time": "2022-02-20T07:45:36.164Z"
   },
   {
    "duration": 11,
    "start_time": "2022-02-20T07:45:36.223Z"
   },
   {
    "duration": 28,
    "start_time": "2022-02-20T07:45:36.238Z"
   },
   {
    "duration": 12,
    "start_time": "2022-02-20T07:45:36.310Z"
   },
   {
    "duration": 20,
    "start_time": "2022-02-20T07:45:36.326Z"
   },
   {
    "duration": 62,
    "start_time": "2022-02-20T07:45:36.349Z"
   },
   {
    "duration": 21,
    "start_time": "2022-02-20T07:45:36.413Z"
   },
   {
    "duration": 16,
    "start_time": "2022-02-20T07:45:36.437Z"
   },
   {
    "duration": 10,
    "start_time": "2022-02-20T07:45:36.456Z"
   },
   {
    "duration": 69,
    "start_time": "2022-02-20T07:45:36.468Z"
   },
   {
    "duration": 15,
    "start_time": "2022-02-20T07:45:36.540Z"
   },
   {
    "duration": 90,
    "start_time": "2022-02-20T07:45:36.558Z"
   },
   {
    "duration": 15,
    "start_time": "2022-02-20T07:45:36.651Z"
   },
   {
    "duration": 13,
    "start_time": "2022-02-20T07:45:36.668Z"
   },
   {
    "duration": 53,
    "start_time": "2022-02-20T07:45:42.320Z"
   },
   {
    "duration": 54,
    "start_time": "2022-02-20T07:46:34.526Z"
   },
   {
    "duration": 38,
    "start_time": "2022-02-20T07:46:50.991Z"
   },
   {
    "duration": 41,
    "start_time": "2022-02-20T07:47:43.235Z"
   },
   {
    "duration": 38,
    "start_time": "2022-02-20T07:48:34.313Z"
   },
   {
    "duration": 18,
    "start_time": "2022-02-20T07:50:20.434Z"
   },
   {
    "duration": 7085,
    "start_time": "2022-02-20T08:18:08.896Z"
   },
   {
    "duration": 4,
    "start_time": "2022-02-20T08:18:43.763Z"
   },
   {
    "duration": 68,
    "start_time": "2022-02-20T08:18:43.769Z"
   },
   {
    "duration": 21,
    "start_time": "2022-02-20T08:18:43.839Z"
   },
   {
    "duration": 17,
    "start_time": "2022-02-20T08:18:43.862Z"
   },
   {
    "duration": 41,
    "start_time": "2022-02-20T08:18:43.881Z"
   },
   {
    "duration": 11,
    "start_time": "2022-02-20T08:18:43.925Z"
   },
   {
    "duration": 5,
    "start_time": "2022-02-20T08:18:43.941Z"
   },
   {
    "duration": 11,
    "start_time": "2022-02-20T08:18:43.950Z"
   },
   {
    "duration": 12,
    "start_time": "2022-02-20T08:18:44.012Z"
   },
   {
    "duration": 18,
    "start_time": "2022-02-20T08:18:44.026Z"
   },
   {
    "duration": 11,
    "start_time": "2022-02-20T08:18:44.047Z"
   },
   {
    "duration": 66,
    "start_time": "2022-02-20T08:18:44.060Z"
   },
   {
    "duration": 34,
    "start_time": "2022-02-20T08:18:44.129Z"
   },
   {
    "duration": 46,
    "start_time": "2022-02-20T08:18:44.166Z"
   },
   {
    "duration": 13,
    "start_time": "2022-02-20T08:18:44.215Z"
   },
   {
    "duration": 11,
    "start_time": "2022-02-20T08:18:44.230Z"
   },
   {
    "duration": 73,
    "start_time": "2022-02-20T08:18:44.244Z"
   },
   {
    "duration": 10,
    "start_time": "2022-02-20T08:18:44.320Z"
   },
   {
    "duration": 79,
    "start_time": "2022-02-20T08:18:44.334Z"
   },
   {
    "duration": 14,
    "start_time": "2022-02-20T08:18:44.416Z"
   },
   {
    "duration": 11,
    "start_time": "2022-02-20T08:18:44.433Z"
   },
   {
    "duration": 6836,
    "start_time": "2022-02-20T08:18:49.432Z"
   },
   {
    "duration": 29,
    "start_time": "2022-02-20T08:19:32.767Z"
   },
   {
    "duration": 30,
    "start_time": "2022-02-20T08:21:03.245Z"
   },
   {
    "duration": 740,
    "start_time": "2022-02-20T08:21:26.397Z"
   },
   {
    "duration": 27,
    "start_time": "2022-02-20T08:21:37.361Z"
   },
   {
    "duration": 880,
    "start_time": "2022-02-20T08:22:31.923Z"
   },
   {
    "duration": 33,
    "start_time": "2022-02-20T08:22:46.308Z"
   },
   {
    "duration": 122,
    "start_time": "2022-02-20T08:27:01.689Z"
   },
   {
    "duration": 10,
    "start_time": "2022-02-20T08:27:15.388Z"
   },
   {
    "duration": 11,
    "start_time": "2022-02-20T08:28:15.080Z"
   },
   {
    "duration": 8,
    "start_time": "2022-02-20T08:31:38.318Z"
   },
   {
    "duration": 12,
    "start_time": "2022-02-20T08:35:04.489Z"
   },
   {
    "duration": 10,
    "start_time": "2022-02-20T08:35:23.163Z"
   },
   {
    "duration": 12,
    "start_time": "2022-02-20T08:35:34.437Z"
   },
   {
    "duration": 4,
    "start_time": "2022-02-20T08:36:06.493Z"
   },
   {
    "duration": 78,
    "start_time": "2022-02-20T08:36:06.499Z"
   },
   {
    "duration": 20,
    "start_time": "2022-02-20T08:36:06.580Z"
   },
   {
    "duration": 15,
    "start_time": "2022-02-20T08:36:06.610Z"
   },
   {
    "duration": 12,
    "start_time": "2022-02-20T08:36:06.628Z"
   },
   {
    "duration": 10,
    "start_time": "2022-02-20T08:36:06.642Z"
   },
   {
    "duration": 6,
    "start_time": "2022-02-20T08:36:06.655Z"
   },
   {
    "duration": 55,
    "start_time": "2022-02-20T08:36:06.663Z"
   },
   {
    "duration": 9,
    "start_time": "2022-02-20T08:36:06.722Z"
   },
   {
    "duration": 20,
    "start_time": "2022-02-20T08:36:06.734Z"
   },
   {
    "duration": 10,
    "start_time": "2022-02-20T08:36:06.756Z"
   },
   {
    "duration": 60,
    "start_time": "2022-02-20T08:36:06.768Z"
   },
   {
    "duration": 34,
    "start_time": "2022-02-20T08:36:06.830Z"
   },
   {
    "duration": 58,
    "start_time": "2022-02-20T08:36:06.867Z"
   },
   {
    "duration": 16,
    "start_time": "2022-02-20T08:36:06.928Z"
   },
   {
    "duration": 11,
    "start_time": "2022-02-20T08:36:06.947Z"
   },
   {
    "duration": 66,
    "start_time": "2022-02-20T08:36:06.961Z"
   },
   {
    "duration": 12,
    "start_time": "2022-02-20T08:36:07.030Z"
   },
   {
    "duration": 80,
    "start_time": "2022-02-20T08:36:07.045Z"
   },
   {
    "duration": 14,
    "start_time": "2022-02-20T08:36:07.128Z"
   },
   {
    "duration": 10,
    "start_time": "2022-02-20T08:36:07.144Z"
   },
   {
    "duration": 73,
    "start_time": "2022-02-20T08:36:07.157Z"
   },
   {
    "duration": 10,
    "start_time": "2022-02-20T08:36:15.776Z"
   },
   {
    "duration": 23,
    "start_time": "2022-02-20T08:39:24.095Z"
   },
   {
    "duration": 28,
    "start_time": "2022-02-20T08:43:58.752Z"
   },
   {
    "duration": 38,
    "start_time": "2022-02-20T08:44:22.554Z"
   },
   {
    "duration": 134,
    "start_time": "2022-02-20T08:46:45.194Z"
   },
   {
    "duration": 138,
    "start_time": "2022-02-20T08:47:05.654Z"
   },
   {
    "duration": 38,
    "start_time": "2022-02-20T08:47:17.276Z"
   },
   {
    "duration": 36,
    "start_time": "2022-02-20T08:48:21.077Z"
   },
   {
    "duration": 38,
    "start_time": "2022-02-20T08:58:46.695Z"
   },
   {
    "duration": 45,
    "start_time": "2022-02-20T08:58:58.886Z"
   },
   {
    "duration": 27,
    "start_time": "2022-02-20T09:00:40.266Z"
   },
   {
    "duration": 13,
    "start_time": "2022-02-20T09:01:47.325Z"
   },
   {
    "duration": 21,
    "start_time": "2022-02-20T09:05:07.000Z"
   },
   {
    "duration": 13,
    "start_time": "2022-02-20T09:20:28.968Z"
   },
   {
    "duration": 388,
    "start_time": "2022-02-20T09:20:38.161Z"
   },
   {
    "duration": 395,
    "start_time": "2022-02-20T09:21:07.502Z"
   },
   {
    "duration": 24,
    "start_time": "2022-02-20T09:22:58.367Z"
   },
   {
    "duration": 4,
    "start_time": "2022-02-20T09:23:11.342Z"
   },
   {
    "duration": 77,
    "start_time": "2022-02-20T09:23:11.349Z"
   },
   {
    "duration": 20,
    "start_time": "2022-02-20T09:23:11.428Z"
   },
   {
    "duration": 28,
    "start_time": "2022-02-20T09:23:11.452Z"
   },
   {
    "duration": 30,
    "start_time": "2022-02-20T09:23:11.482Z"
   },
   {
    "duration": 10,
    "start_time": "2022-02-20T09:23:11.515Z"
   },
   {
    "duration": 5,
    "start_time": "2022-02-20T09:23:11.529Z"
   },
   {
    "duration": 9,
    "start_time": "2022-02-20T09:23:11.537Z"
   },
   {
    "duration": 9,
    "start_time": "2022-02-20T09:23:11.549Z"
   },
   {
    "duration": 69,
    "start_time": "2022-02-20T09:23:11.560Z"
   },
   {
    "duration": 12,
    "start_time": "2022-02-20T09:23:11.632Z"
   },
   {
    "duration": 18,
    "start_time": "2022-02-20T09:23:11.646Z"
   },
   {
    "duration": 74,
    "start_time": "2022-02-20T09:23:11.667Z"
   },
   {
    "duration": 22,
    "start_time": "2022-02-20T09:23:11.744Z"
   },
   {
    "duration": 15,
    "start_time": "2022-02-20T09:23:11.768Z"
   },
   {
    "duration": 11,
    "start_time": "2022-02-20T09:23:11.811Z"
   },
   {
    "duration": 27,
    "start_time": "2022-02-20T09:23:11.824Z"
   },
   {
    "duration": 10,
    "start_time": "2022-02-20T09:23:11.853Z"
   },
   {
    "duration": 98,
    "start_time": "2022-02-20T09:23:11.867Z"
   },
   {
    "duration": 11,
    "start_time": "2022-02-20T09:23:11.968Z"
   },
   {
    "duration": 30,
    "start_time": "2022-02-20T09:23:11.982Z"
   },
   {
    "duration": 24,
    "start_time": "2022-02-20T09:23:12.014Z"
   },
   {
    "duration": 9,
    "start_time": "2022-02-20T09:23:12.041Z"
   },
   {
    "duration": 22,
    "start_time": "2022-02-20T09:23:14.412Z"
   },
   {
    "duration": 17,
    "start_time": "2022-02-20T09:24:05.652Z"
   },
   {
    "duration": 12,
    "start_time": "2022-02-20T09:24:11.540Z"
   },
   {
    "duration": 4,
    "start_time": "2022-02-20T09:24:47.680Z"
   },
   {
    "duration": 80,
    "start_time": "2022-02-20T09:24:47.687Z"
   },
   {
    "duration": 40,
    "start_time": "2022-02-20T09:24:47.771Z"
   },
   {
    "duration": 16,
    "start_time": "2022-02-20T09:24:47.813Z"
   },
   {
    "duration": 17,
    "start_time": "2022-02-20T09:24:47.831Z"
   },
   {
    "duration": 11,
    "start_time": "2022-02-20T09:24:47.850Z"
   },
   {
    "duration": 48,
    "start_time": "2022-02-20T09:24:47.864Z"
   },
   {
    "duration": 10,
    "start_time": "2022-02-20T09:24:47.916Z"
   },
   {
    "duration": 13,
    "start_time": "2022-02-20T09:24:47.928Z"
   },
   {
    "duration": 20,
    "start_time": "2022-02-20T09:24:47.943Z"
   },
   {
    "duration": 52,
    "start_time": "2022-02-20T09:24:47.965Z"
   },
   {
    "duration": 21,
    "start_time": "2022-02-20T09:24:48.019Z"
   },
   {
    "duration": 69,
    "start_time": "2022-02-20T09:24:48.042Z"
   },
   {
    "duration": 30,
    "start_time": "2022-02-20T09:24:48.114Z"
   },
   {
    "duration": 17,
    "start_time": "2022-02-20T09:24:48.147Z"
   },
   {
    "duration": 46,
    "start_time": "2022-02-20T09:24:48.166Z"
   },
   {
    "duration": 39,
    "start_time": "2022-02-20T09:24:48.215Z"
   },
   {
    "duration": 15,
    "start_time": "2022-02-20T09:24:48.257Z"
   },
   {
    "duration": 111,
    "start_time": "2022-02-20T09:24:48.276Z"
   },
   {
    "duration": 30,
    "start_time": "2022-02-20T09:24:48.390Z"
   },
   {
    "duration": 9,
    "start_time": "2022-02-20T09:24:48.422Z"
   },
   {
    "duration": 23,
    "start_time": "2022-02-20T09:24:48.434Z"
   },
   {
    "duration": 11,
    "start_time": "2022-02-20T09:24:58.152Z"
   },
   {
    "duration": 12,
    "start_time": "2022-02-20T09:25:03.338Z"
   },
   {
    "duration": 25,
    "start_time": "2022-02-20T09:25:33.956Z"
   },
   {
    "duration": 17,
    "start_time": "2022-02-20T09:26:35.442Z"
   },
   {
    "duration": 15,
    "start_time": "2022-02-20T09:26:37.641Z"
   },
   {
    "duration": 24,
    "start_time": "2022-02-20T09:32:11.457Z"
   },
   {
    "duration": 13,
    "start_time": "2022-02-20T09:32:14.097Z"
   },
   {
    "duration": 61,
    "start_time": "2022-02-20T09:36:37.811Z"
   },
   {
    "duration": 52,
    "start_time": "2022-02-20T09:37:34.828Z"
   },
   {
    "duration": 62,
    "start_time": "2022-02-20T09:38:07.642Z"
   },
   {
    "duration": 4,
    "start_time": "2022-02-20T09:38:28.336Z"
   },
   {
    "duration": 80,
    "start_time": "2022-02-20T09:38:28.348Z"
   },
   {
    "duration": 21,
    "start_time": "2022-02-20T09:38:28.431Z"
   },
   {
    "duration": 15,
    "start_time": "2022-02-20T09:38:28.455Z"
   },
   {
    "duration": 41,
    "start_time": "2022-02-20T09:38:28.472Z"
   },
   {
    "duration": 11,
    "start_time": "2022-02-20T09:38:28.516Z"
   },
   {
    "duration": 7,
    "start_time": "2022-02-20T09:38:28.530Z"
   },
   {
    "duration": 12,
    "start_time": "2022-02-20T09:38:28.540Z"
   },
   {
    "duration": 60,
    "start_time": "2022-02-20T09:38:28.555Z"
   },
   {
    "duration": 19,
    "start_time": "2022-02-20T09:38:28.619Z"
   },
   {
    "duration": 11,
    "start_time": "2022-02-20T09:38:28.641Z"
   },
   {
    "duration": 20,
    "start_time": "2022-02-20T09:38:28.654Z"
   },
   {
    "duration": 33,
    "start_time": "2022-02-20T09:38:28.711Z"
   },
   {
    "duration": 20,
    "start_time": "2022-02-20T09:38:28.746Z"
   },
   {
    "duration": 47,
    "start_time": "2022-02-20T09:38:28.769Z"
   },
   {
    "duration": 12,
    "start_time": "2022-02-20T09:38:28.819Z"
   },
   {
    "duration": 30,
    "start_time": "2022-02-20T09:38:28.834Z"
   },
   {
    "duration": 49,
    "start_time": "2022-02-20T09:38:28.867Z"
   },
   {
    "duration": 61,
    "start_time": "2022-02-20T09:38:28.918Z"
   },
   {
    "duration": 31,
    "start_time": "2022-02-20T09:38:28.981Z"
   },
   {
    "duration": 10,
    "start_time": "2022-02-20T09:38:29.014Z"
   },
   {
    "duration": 28,
    "start_time": "2022-02-20T09:38:29.029Z"
   },
   {
    "duration": 13,
    "start_time": "2022-02-20T09:38:36.200Z"
   },
   {
    "duration": 43,
    "start_time": "2022-02-20T09:42:50.087Z"
   },
   {
    "duration": 13,
    "start_time": "2022-02-20T09:43:07.294Z"
   },
   {
    "duration": 45,
    "start_time": "2022-02-20T09:43:53.338Z"
   },
   {
    "duration": 48,
    "start_time": "2022-02-20T09:44:08.805Z"
   },
   {
    "duration": 4,
    "start_time": "2022-02-20T09:44:39.909Z"
   },
   {
    "duration": 76,
    "start_time": "2022-02-20T09:44:39.916Z"
   },
   {
    "duration": 33,
    "start_time": "2022-02-20T09:44:39.995Z"
   },
   {
    "duration": 18,
    "start_time": "2022-02-20T09:44:40.031Z"
   },
   {
    "duration": 12,
    "start_time": "2022-02-20T09:44:40.052Z"
   },
   {
    "duration": 45,
    "start_time": "2022-02-20T09:44:40.067Z"
   },
   {
    "duration": 5,
    "start_time": "2022-02-20T09:44:40.116Z"
   },
   {
    "duration": 9,
    "start_time": "2022-02-20T09:44:40.124Z"
   },
   {
    "duration": 9,
    "start_time": "2022-02-20T09:44:40.136Z"
   },
   {
    "duration": 73,
    "start_time": "2022-02-20T09:44:40.148Z"
   },
   {
    "duration": 11,
    "start_time": "2022-02-20T09:44:40.223Z"
   },
   {
    "duration": 21,
    "start_time": "2022-02-20T09:44:40.236Z"
   },
   {
    "duration": 73,
    "start_time": "2022-02-20T09:44:40.259Z"
   },
   {
    "duration": 22,
    "start_time": "2022-02-20T09:44:40.334Z"
   },
   {
    "duration": 13,
    "start_time": "2022-02-20T09:44:40.359Z"
   },
   {
    "duration": 41,
    "start_time": "2022-02-20T09:44:40.375Z"
   },
   {
    "duration": 28,
    "start_time": "2022-02-20T09:44:40.419Z"
   },
   {
    "duration": 13,
    "start_time": "2022-02-20T09:44:40.450Z"
   },
   {
    "duration": 101,
    "start_time": "2022-02-20T09:44:40.468Z"
   },
   {
    "duration": 16,
    "start_time": "2022-02-20T09:44:40.573Z"
   },
   {
    "duration": 26,
    "start_time": "2022-02-20T09:44:40.592Z"
   },
   {
    "duration": 23,
    "start_time": "2022-02-20T09:44:40.620Z"
   },
   {
    "duration": 11,
    "start_time": "2022-02-20T09:44:40.645Z"
   },
   {
    "duration": 29,
    "start_time": "2022-02-20T09:45:33.583Z"
   },
   {
    "duration": 45,
    "start_time": "2022-02-20T09:46:17.939Z"
   },
   {
    "duration": 14,
    "start_time": "2022-02-20T09:46:34.202Z"
   },
   {
    "duration": 4,
    "start_time": "2022-02-20T09:47:19.152Z"
   },
   {
    "duration": 3260,
    "start_time": "2022-02-20T09:47:19.159Z"
   },
   {
    "duration": 20,
    "start_time": "2022-02-20T09:47:22.422Z"
   },
   {
    "duration": 16,
    "start_time": "2022-02-20T09:47:22.445Z"
   },
   {
    "duration": 13,
    "start_time": "2022-02-20T09:47:22.463Z"
   },
   {
    "duration": 13,
    "start_time": "2022-02-20T09:47:22.512Z"
   },
   {
    "duration": 6,
    "start_time": "2022-02-20T09:47:22.529Z"
   },
   {
    "duration": 10,
    "start_time": "2022-02-20T09:47:22.538Z"
   },
   {
    "duration": 11,
    "start_time": "2022-02-20T09:47:22.551Z"
   },
   {
    "duration": 20,
    "start_time": "2022-02-20T09:47:22.612Z"
   },
   {
    "duration": 12,
    "start_time": "2022-02-20T09:47:22.634Z"
   },
   {
    "duration": 23,
    "start_time": "2022-02-20T09:47:22.649Z"
   },
   {
    "duration": 78,
    "start_time": "2022-02-20T09:47:22.675Z"
   },
   {
    "duration": 22,
    "start_time": "2022-02-20T09:47:22.755Z"
   },
   {
    "duration": 43,
    "start_time": "2022-02-20T09:47:22.779Z"
   },
   {
    "duration": 11,
    "start_time": "2022-02-20T09:47:22.825Z"
   },
   {
    "duration": 72,
    "start_time": "2022-02-20T09:47:22.840Z"
   },
   {
    "duration": 13,
    "start_time": "2022-02-20T09:47:22.914Z"
   },
   {
    "duration": 81,
    "start_time": "2022-02-20T09:47:22.932Z"
   },
   {
    "duration": 14,
    "start_time": "2022-02-20T09:47:23.016Z"
   },
   {
    "duration": 12,
    "start_time": "2022-02-20T09:47:23.033Z"
   },
   {
    "duration": 64,
    "start_time": "2022-02-20T09:47:23.048Z"
   },
   {
    "duration": 13,
    "start_time": "2022-02-20T09:47:23.115Z"
   },
   {
    "duration": 23,
    "start_time": "2022-02-20T09:47:23.131Z"
   },
   {
    "duration": 12,
    "start_time": "2022-02-20T09:47:26.058Z"
   },
   {
    "duration": 3,
    "start_time": "2022-02-20T09:56:58.915Z"
   },
   {
    "duration": 81,
    "start_time": "2022-02-20T09:56:58.921Z"
   },
   {
    "duration": 25,
    "start_time": "2022-02-20T09:56:59.010Z"
   },
   {
    "duration": 19,
    "start_time": "2022-02-20T09:56:59.038Z"
   },
   {
    "duration": 14,
    "start_time": "2022-02-20T09:56:59.060Z"
   },
   {
    "duration": 12,
    "start_time": "2022-02-20T09:56:59.111Z"
   },
   {
    "duration": 6,
    "start_time": "2022-02-20T09:56:59.127Z"
   },
   {
    "duration": 11,
    "start_time": "2022-02-20T09:56:59.135Z"
   },
   {
    "duration": 9,
    "start_time": "2022-02-20T09:56:59.148Z"
   },
   {
    "duration": 66,
    "start_time": "2022-02-20T09:56:59.159Z"
   },
   {
    "duration": 12,
    "start_time": "2022-02-20T09:56:59.228Z"
   },
   {
    "duration": 29,
    "start_time": "2022-02-20T09:56:59.243Z"
   },
   {
    "duration": 68,
    "start_time": "2022-02-20T09:56:59.274Z"
   },
   {
    "duration": 22,
    "start_time": "2022-02-20T09:56:59.345Z"
   },
   {
    "duration": 43,
    "start_time": "2022-02-20T09:56:59.369Z"
   },
   {
    "duration": 10,
    "start_time": "2022-02-20T09:56:59.415Z"
   },
   {
    "duration": 29,
    "start_time": "2022-02-20T09:56:59.428Z"
   },
   {
    "duration": 11,
    "start_time": "2022-02-20T09:56:59.459Z"
   },
   {
    "duration": 62,
    "start_time": "2022-02-20T09:56:59.513Z"
   },
   {
    "duration": 34,
    "start_time": "2022-02-20T09:56:59.578Z"
   },
   {
    "duration": 11,
    "start_time": "2022-02-20T09:56:59.615Z"
   },
   {
    "duration": 21,
    "start_time": "2022-02-20T09:56:59.628Z"
   },
   {
    "duration": 12,
    "start_time": "2022-02-20T09:56:59.653Z"
   },
   {
    "duration": 23,
    "start_time": "2022-02-20T09:57:02.690Z"
   },
   {
    "duration": 5,
    "start_time": "2022-02-20T09:59:05.052Z"
   },
   {
    "duration": 3,
    "start_time": "2022-02-20T09:59:15.005Z"
   },
   {
    "duration": 78,
    "start_time": "2022-02-20T09:59:15.012Z"
   },
   {
    "duration": 34,
    "start_time": "2022-02-20T09:59:15.093Z"
   },
   {
    "duration": 16,
    "start_time": "2022-02-20T09:59:15.130Z"
   },
   {
    "duration": 12,
    "start_time": "2022-02-20T09:59:15.148Z"
   },
   {
    "duration": 53,
    "start_time": "2022-02-20T09:59:15.163Z"
   },
   {
    "duration": 6,
    "start_time": "2022-02-20T09:59:15.219Z"
   },
   {
    "duration": 10,
    "start_time": "2022-02-20T09:59:15.229Z"
   },
   {
    "duration": 9,
    "start_time": "2022-02-20T09:59:15.242Z"
   },
   {
    "duration": 65,
    "start_time": "2022-02-20T09:59:15.253Z"
   },
   {
    "duration": 10,
    "start_time": "2022-02-20T09:59:15.320Z"
   },
   {
    "duration": 21,
    "start_time": "2022-02-20T09:59:15.333Z"
   },
   {
    "duration": 65,
    "start_time": "2022-02-20T09:59:15.356Z"
   },
   {
    "duration": 25,
    "start_time": "2022-02-20T09:59:15.424Z"
   },
   {
    "duration": 14,
    "start_time": "2022-02-20T09:59:15.452Z"
   },
   {
    "duration": 44,
    "start_time": "2022-02-20T09:59:15.468Z"
   },
   {
    "duration": 28,
    "start_time": "2022-02-20T09:59:15.514Z"
   },
   {
    "duration": 14,
    "start_time": "2022-02-20T09:59:15.545Z"
   },
   {
    "duration": 99,
    "start_time": "2022-02-20T09:59:15.563Z"
   },
   {
    "duration": 14,
    "start_time": "2022-02-20T09:59:15.666Z"
   },
   {
    "duration": 37,
    "start_time": "2022-02-20T09:59:15.683Z"
   },
   {
    "duration": 30,
    "start_time": "2022-02-20T09:59:15.723Z"
   },
   {
    "duration": 6,
    "start_time": "2022-02-20T09:59:17.557Z"
   },
   {
    "duration": 4,
    "start_time": "2022-02-20T09:59:42.138Z"
   },
   {
    "duration": 68,
    "start_time": "2022-02-20T09:59:42.144Z"
   },
   {
    "duration": 19,
    "start_time": "2022-02-20T09:59:42.215Z"
   },
   {
    "duration": 16,
    "start_time": "2022-02-20T09:59:42.236Z"
   },
   {
    "duration": 12,
    "start_time": "2022-02-20T09:59:42.255Z"
   },
   {
    "duration": 49,
    "start_time": "2022-02-20T09:59:42.270Z"
   },
   {
    "duration": 7,
    "start_time": "2022-02-20T09:59:42.322Z"
   },
   {
    "duration": 12,
    "start_time": "2022-02-20T09:59:42.332Z"
   },
   {
    "duration": 13,
    "start_time": "2022-02-20T09:59:42.351Z"
   },
   {
    "duration": 63,
    "start_time": "2022-02-20T09:59:42.367Z"
   },
   {
    "duration": 12,
    "start_time": "2022-02-20T09:59:42.433Z"
   },
   {
    "duration": 22,
    "start_time": "2022-02-20T09:59:42.448Z"
   },
   {
    "duration": 31,
    "start_time": "2022-02-20T09:59:42.511Z"
   },
   {
    "duration": 20,
    "start_time": "2022-02-20T09:59:42.545Z"
   },
   {
    "duration": 49,
    "start_time": "2022-02-20T09:59:42.567Z"
   },
   {
    "duration": 11,
    "start_time": "2022-02-20T09:59:42.618Z"
   },
   {
    "duration": 29,
    "start_time": "2022-02-20T09:59:42.632Z"
   },
   {
    "duration": 55,
    "start_time": "2022-02-20T09:59:42.664Z"
   },
   {
    "duration": 60,
    "start_time": "2022-02-20T09:59:42.722Z"
   },
   {
    "duration": 37,
    "start_time": "2022-02-20T09:59:42.785Z"
   },
   {
    "duration": 12,
    "start_time": "2022-02-20T09:59:42.825Z"
   },
   {
    "duration": 24,
    "start_time": "2022-02-20T09:59:42.840Z"
   },
   {
    "duration": 48,
    "start_time": "2022-02-20T09:59:42.867Z"
   },
   {
    "duration": 15,
    "start_time": "2022-02-20T10:00:47.070Z"
   },
   {
    "duration": 129,
    "start_time": "2022-02-20T10:03:16.392Z"
   },
   {
    "duration": 32,
    "start_time": "2022-02-20T10:03:32.669Z"
   },
   {
    "duration": 3,
    "start_time": "2022-02-20T10:03:56.579Z"
   },
   {
    "duration": 2205,
    "start_time": "2022-02-20T10:03:56.585Z"
   },
   {
    "duration": 432,
    "start_time": "2022-02-20T10:03:58.793Z"
   },
   {
    "duration": 665,
    "start_time": "2022-02-20T10:03:59.227Z"
   },
   {
    "duration": 761,
    "start_time": "2022-02-20T10:03:59.894Z"
   },
   {
    "duration": 1501,
    "start_time": "2022-02-20T10:04:00.658Z"
   },
   {
    "duration": 324,
    "start_time": "2022-02-20T10:04:02.164Z"
   },
   {
    "duration": 620,
    "start_time": "2022-02-20T10:04:02.492Z"
   },
   {
    "duration": 819,
    "start_time": "2022-02-20T10:04:03.115Z"
   },
   {
    "duration": 92,
    "start_time": "2022-02-20T10:04:03.937Z"
   },
   {
    "duration": 15,
    "start_time": "2022-02-20T10:04:04.032Z"
   },
   {
    "duration": 28,
    "start_time": "2022-02-20T10:04:04.050Z"
   },
   {
    "duration": 58,
    "start_time": "2022-02-20T10:04:04.080Z"
   },
   {
    "duration": 21,
    "start_time": "2022-02-20T10:04:04.142Z"
   },
   {
    "duration": 50,
    "start_time": "2022-02-20T10:04:04.166Z"
   },
   {
    "duration": 11,
    "start_time": "2022-02-20T10:04:04.219Z"
   },
   {
    "duration": 33,
    "start_time": "2022-02-20T10:04:04.233Z"
   },
   {
    "duration": 45,
    "start_time": "2022-02-20T10:04:04.269Z"
   },
   {
    "duration": 65,
    "start_time": "2022-02-20T10:04:04.320Z"
   },
   {
    "duration": 31,
    "start_time": "2022-02-20T10:04:04.388Z"
   },
   {
    "duration": 9,
    "start_time": "2022-02-20T10:04:04.422Z"
   },
   {
    "duration": 23,
    "start_time": "2022-02-20T10:04:04.434Z"
   },
   {
    "duration": 56,
    "start_time": "2022-02-20T10:04:04.460Z"
   },
   {
    "duration": 13,
    "start_time": "2022-02-20T10:04:07.179Z"
   },
   {
    "duration": 24,
    "start_time": "2022-02-20T10:04:26.644Z"
   },
   {
    "duration": 48,
    "start_time": "2022-02-20T10:05:02.731Z"
   },
   {
    "duration": 3,
    "start_time": "2022-02-20T10:06:15.198Z"
   },
   {
    "duration": 93,
    "start_time": "2022-02-20T10:06:15.205Z"
   },
   {
    "duration": 30,
    "start_time": "2022-02-20T10:06:15.312Z"
   },
   {
    "duration": 19,
    "start_time": "2022-02-20T10:06:15.345Z"
   },
   {
    "duration": 47,
    "start_time": "2022-02-20T10:06:15.366Z"
   },
   {
    "duration": 11,
    "start_time": "2022-02-20T10:06:15.415Z"
   },
   {
    "duration": 5,
    "start_time": "2022-02-20T10:06:15.430Z"
   },
   {
    "duration": 13,
    "start_time": "2022-02-20T10:06:15.439Z"
   },
   {
    "duration": 17,
    "start_time": "2022-02-20T10:06:15.455Z"
   },
   {
    "duration": 19,
    "start_time": "2022-02-20T10:06:15.511Z"
   },
   {
    "duration": 11,
    "start_time": "2022-02-20T10:06:15.533Z"
   },
   {
    "duration": 64,
    "start_time": "2022-02-20T10:06:15.547Z"
   },
   {
    "duration": 52,
    "start_time": "2022-02-20T10:06:15.614Z"
   },
   {
    "duration": 48,
    "start_time": "2022-02-20T10:06:15.669Z"
   },
   {
    "duration": 15,
    "start_time": "2022-02-20T10:06:15.719Z"
   },
   {
    "duration": 13,
    "start_time": "2022-02-20T10:06:15.737Z"
   },
   {
    "duration": 69,
    "start_time": "2022-02-20T10:06:15.753Z"
   },
   {
    "duration": 12,
    "start_time": "2022-02-20T10:06:15.824Z"
   },
   {
    "duration": 80,
    "start_time": "2022-02-20T10:06:15.841Z"
   },
   {
    "duration": 16,
    "start_time": "2022-02-20T10:06:15.925Z"
   },
   {
    "duration": 12,
    "start_time": "2022-02-20T10:06:15.944Z"
   },
   {
    "duration": 57,
    "start_time": "2022-02-20T10:06:15.959Z"
   },
   {
    "duration": 17,
    "start_time": "2022-02-20T10:06:16.019Z"
   },
   {
    "duration": 24,
    "start_time": "2022-02-20T10:06:18.083Z"
   },
   {
    "duration": 34,
    "start_time": "2022-02-20T10:06:49.489Z"
   },
   {
    "duration": 14,
    "start_time": "2022-02-20T10:06:56.402Z"
   },
   {
    "duration": 4,
    "start_time": "2022-02-20T10:08:52.126Z"
   },
   {
    "duration": 69,
    "start_time": "2022-02-20T10:08:52.133Z"
   },
   {
    "duration": 21,
    "start_time": "2022-02-20T10:08:52.206Z"
   },
   {
    "duration": 14,
    "start_time": "2022-02-20T10:08:52.231Z"
   },
   {
    "duration": 13,
    "start_time": "2022-02-20T10:08:52.248Z"
   },
   {
    "duration": 47,
    "start_time": "2022-02-20T10:08:52.263Z"
   },
   {
    "duration": 6,
    "start_time": "2022-02-20T10:08:52.313Z"
   },
   {
    "duration": 12,
    "start_time": "2022-02-20T10:08:52.321Z"
   },
   {
    "duration": 9,
    "start_time": "2022-02-20T10:08:52.337Z"
   },
   {
    "duration": 18,
    "start_time": "2022-02-20T10:08:52.349Z"
   },
   {
    "duration": 49,
    "start_time": "2022-02-20T10:08:52.370Z"
   },
   {
    "duration": 24,
    "start_time": "2022-02-20T10:08:52.421Z"
   },
   {
    "duration": 32,
    "start_time": "2022-02-20T10:08:52.447Z"
   },
   {
    "duration": 22,
    "start_time": "2022-02-20T10:08:52.511Z"
   },
   {
    "duration": 12,
    "start_time": "2022-02-20T10:08:52.536Z"
   },
   {
    "duration": 10,
    "start_time": "2022-02-20T10:08:52.551Z"
   },
   {
    "duration": 69,
    "start_time": "2022-02-20T10:08:52.563Z"
   },
   {
    "duration": 12,
    "start_time": "2022-02-20T10:08:52.635Z"
   },
   {
    "duration": 80,
    "start_time": "2022-02-20T10:08:52.650Z"
   },
   {
    "duration": 13,
    "start_time": "2022-02-20T10:08:52.733Z"
   },
   {
    "duration": 9,
    "start_time": "2022-02-20T10:08:52.748Z"
   },
   {
    "duration": 53,
    "start_time": "2022-02-20T10:08:52.759Z"
   },
   {
    "duration": 12,
    "start_time": "2022-02-20T10:08:52.815Z"
   },
   {
    "duration": 23,
    "start_time": "2022-02-20T10:08:52.829Z"
   },
   {
    "duration": 36,
    "start_time": "2022-02-20T10:11:41.755Z"
   },
   {
    "duration": 31,
    "start_time": "2022-02-20T10:11:54.512Z"
   },
   {
    "duration": 4,
    "start_time": "2022-02-20T10:12:23.572Z"
   },
   {
    "duration": 70,
    "start_time": "2022-02-20T10:12:23.579Z"
   },
   {
    "duration": 19,
    "start_time": "2022-02-20T10:12:23.652Z"
   },
   {
    "duration": 40,
    "start_time": "2022-02-20T10:12:23.674Z"
   },
   {
    "duration": 13,
    "start_time": "2022-02-20T10:12:23.717Z"
   },
   {
    "duration": 11,
    "start_time": "2022-02-20T10:12:23.732Z"
   },
   {
    "duration": 7,
    "start_time": "2022-02-20T10:12:23.745Z"
   },
   {
    "duration": 53,
    "start_time": "2022-02-20T10:12:23.758Z"
   },
   {
    "duration": 12,
    "start_time": "2022-02-20T10:12:23.815Z"
   },
   {
    "duration": 20,
    "start_time": "2022-02-20T10:12:23.830Z"
   },
   {
    "duration": 12,
    "start_time": "2022-02-20T10:12:23.852Z"
   },
   {
    "duration": 62,
    "start_time": "2022-02-20T10:12:23.866Z"
   },
   {
    "duration": 35,
    "start_time": "2022-02-20T10:12:23.930Z"
   },
   {
    "duration": 56,
    "start_time": "2022-02-20T10:12:23.968Z"
   },
   {
    "duration": 15,
    "start_time": "2022-02-20T10:12:24.027Z"
   },
   {
    "duration": 12,
    "start_time": "2022-02-20T10:12:24.045Z"
   },
   {
    "duration": 69,
    "start_time": "2022-02-20T10:12:24.060Z"
   },
   {
    "duration": 13,
    "start_time": "2022-02-20T10:12:24.133Z"
   },
   {
    "duration": 86,
    "start_time": "2022-02-20T10:12:24.149Z"
   },
   {
    "duration": 12,
    "start_time": "2022-02-20T10:12:24.237Z"
   },
   {
    "duration": 9,
    "start_time": "2022-02-20T10:12:24.252Z"
   },
   {
    "duration": 55,
    "start_time": "2022-02-20T10:12:24.264Z"
   },
   {
    "duration": 15,
    "start_time": "2022-02-20T10:12:24.325Z"
   },
   {
    "duration": 25,
    "start_time": "2022-02-20T10:12:24.343Z"
   },
   {
    "duration": 24,
    "start_time": "2022-02-20T10:12:36.285Z"
   },
   {
    "duration": 406,
    "start_time": "2022-02-20T10:14:43.157Z"
   },
   {
    "duration": 19,
    "start_time": "2022-02-20T10:19:33.588Z"
   },
   {
    "duration": 6,
    "start_time": "2022-02-20T10:20:31.946Z"
   },
   {
    "duration": 13,
    "start_time": "2022-02-20T10:20:33.953Z"
   },
   {
    "duration": 387,
    "start_time": "2022-02-20T10:33:02.671Z"
   },
   {
    "duration": 44,
    "start_time": "2022-02-20T10:33:17.327Z"
   },
   {
    "duration": 14,
    "start_time": "2022-02-20T10:33:32.082Z"
   },
   {
    "duration": 8,
    "start_time": "2022-02-20T10:33:48.618Z"
   },
   {
    "duration": 11,
    "start_time": "2022-02-20T10:35:09.032Z"
   },
   {
    "duration": 8,
    "start_time": "2022-02-20T10:35:26.650Z"
   },
   {
    "duration": 53,
    "start_time": "2022-02-20T10:39:01.319Z"
   },
   {
    "duration": 16,
    "start_time": "2022-02-20T10:39:27.980Z"
   },
   {
    "duration": 4,
    "start_time": "2022-02-20T10:50:44.029Z"
   },
   {
    "duration": 85,
    "start_time": "2022-02-20T10:50:44.038Z"
   },
   {
    "duration": 21,
    "start_time": "2022-02-20T10:50:44.126Z"
   },
   {
    "duration": 20,
    "start_time": "2022-02-20T10:50:44.150Z"
   },
   {
    "duration": 45,
    "start_time": "2022-02-20T10:50:44.173Z"
   },
   {
    "duration": 11,
    "start_time": "2022-02-20T10:50:44.221Z"
   },
   {
    "duration": 5,
    "start_time": "2022-02-20T10:50:44.235Z"
   },
   {
    "duration": 12,
    "start_time": "2022-02-20T10:50:44.244Z"
   },
   {
    "duration": 58,
    "start_time": "2022-02-20T10:50:44.261Z"
   },
   {
    "duration": 21,
    "start_time": "2022-02-20T10:50:44.322Z"
   },
   {
    "duration": 11,
    "start_time": "2022-02-20T10:50:44.346Z"
   },
   {
    "duration": 65,
    "start_time": "2022-02-20T10:50:44.360Z"
   },
   {
    "duration": 38,
    "start_time": "2022-02-20T10:50:44.428Z"
   },
   {
    "duration": 51,
    "start_time": "2022-02-20T10:50:44.468Z"
   },
   {
    "duration": 17,
    "start_time": "2022-02-20T10:50:44.521Z"
   },
   {
    "duration": 10,
    "start_time": "2022-02-20T10:50:44.540Z"
   },
   {
    "duration": 63,
    "start_time": "2022-02-20T10:50:44.552Z"
   },
   {
    "duration": 10,
    "start_time": "2022-02-20T10:50:44.618Z"
   },
   {
    "duration": 81,
    "start_time": "2022-02-20T10:50:44.631Z"
   },
   {
    "duration": 17,
    "start_time": "2022-02-20T10:50:44.715Z"
   },
   {
    "duration": 6,
    "start_time": "2022-02-20T10:50:44.734Z"
   },
   {
    "duration": 11,
    "start_time": "2022-02-20T10:50:44.742Z"
   },
   {
    "duration": 66,
    "start_time": "2022-02-20T10:50:44.756Z"
   },
   {
    "duration": 13,
    "start_time": "2022-02-20T10:50:44.827Z"
   },
   {
    "duration": 24,
    "start_time": "2022-02-20T10:50:44.843Z"
   },
   {
    "duration": 44,
    "start_time": "2022-02-20T10:50:44.869Z"
   },
   {
    "duration": 13,
    "start_time": "2022-02-20T10:50:44.916Z"
   },
   {
    "duration": 11,
    "start_time": "2022-02-20T10:58:09.991Z"
   },
   {
    "duration": 4,
    "start_time": "2022-02-20T10:58:22.581Z"
   },
   {
    "duration": 72,
    "start_time": "2022-02-20T10:58:22.588Z"
   },
   {
    "duration": 21,
    "start_time": "2022-02-20T10:58:22.664Z"
   },
   {
    "duration": 35,
    "start_time": "2022-02-20T10:58:22.688Z"
   },
   {
    "duration": 15,
    "start_time": "2022-02-20T10:58:22.726Z"
   },
   {
    "duration": 24,
    "start_time": "2022-02-20T10:58:22.743Z"
   },
   {
    "duration": 5,
    "start_time": "2022-02-20T10:58:22.769Z"
   },
   {
    "duration": 39,
    "start_time": "2022-02-20T10:58:22.776Z"
   },
   {
    "duration": 10,
    "start_time": "2022-02-20T10:58:22.819Z"
   },
   {
    "duration": 19,
    "start_time": "2022-02-20T10:58:22.832Z"
   },
   {
    "duration": 12,
    "start_time": "2022-02-20T10:58:25.483Z"
   },
   {
    "duration": 13,
    "start_time": "2022-02-20T11:00:03.630Z"
   },
   {
    "duration": 4,
    "start_time": "2022-02-20T11:00:52.157Z"
   },
   {
    "duration": 77,
    "start_time": "2022-02-20T11:00:52.164Z"
   },
   {
    "duration": 25,
    "start_time": "2022-02-20T11:00:52.245Z"
   },
   {
    "duration": 37,
    "start_time": "2022-02-20T11:00:52.274Z"
   },
   {
    "duration": 18,
    "start_time": "2022-02-20T11:00:52.314Z"
   },
   {
    "duration": 15,
    "start_time": "2022-02-20T11:00:52.335Z"
   },
   {
    "duration": 13,
    "start_time": "2022-02-20T11:00:52.353Z"
   },
   {
    "duration": 47,
    "start_time": "2022-02-20T11:00:52.369Z"
   },
   {
    "duration": 10,
    "start_time": "2022-02-20T11:00:52.423Z"
   },
   {
    "duration": 27,
    "start_time": "2022-02-20T11:00:52.436Z"
   },
   {
    "duration": 54,
    "start_time": "2022-02-20T11:00:52.466Z"
   },
   {
    "duration": 29,
    "start_time": "2022-02-20T11:00:52.523Z"
   },
   {
    "duration": 64,
    "start_time": "2022-02-20T11:00:52.555Z"
   },
   {
    "duration": 21,
    "start_time": "2022-02-20T11:00:52.622Z"
   },
   {
    "duration": 16,
    "start_time": "2022-02-20T11:00:52.645Z"
   },
   {
    "duration": 48,
    "start_time": "2022-02-20T11:00:52.664Z"
   },
   {
    "duration": 31,
    "start_time": "2022-02-20T11:00:52.716Z"
   },
   {
    "duration": 16,
    "start_time": "2022-02-20T11:00:52.750Z"
   },
   {
    "duration": 98,
    "start_time": "2022-02-20T11:00:52.768Z"
   },
   {
    "duration": 17,
    "start_time": "2022-02-20T11:00:52.869Z"
   },
   {
    "duration": 9,
    "start_time": "2022-02-20T11:00:52.912Z"
   },
   {
    "duration": 24,
    "start_time": "2022-02-20T11:00:52.925Z"
   },
   {
    "duration": 4,
    "start_time": "2022-02-20T11:01:06.263Z"
   },
   {
    "duration": 68,
    "start_time": "2022-02-20T11:01:06.271Z"
   },
   {
    "duration": 23,
    "start_time": "2022-02-20T11:01:06.342Z"
   },
   {
    "duration": 44,
    "start_time": "2022-02-20T11:01:06.368Z"
   },
   {
    "duration": 13,
    "start_time": "2022-02-20T11:01:06.414Z"
   },
   {
    "duration": 10,
    "start_time": "2022-02-20T11:01:06.429Z"
   },
   {
    "duration": 6,
    "start_time": "2022-02-20T11:01:06.442Z"
   },
   {
    "duration": 10,
    "start_time": "2022-02-20T11:01:06.452Z"
   },
   {
    "duration": 12,
    "start_time": "2022-02-20T11:01:06.513Z"
   },
   {
    "duration": 20,
    "start_time": "2022-02-20T11:01:06.528Z"
   },
   {
    "duration": 13,
    "start_time": "2022-02-20T11:01:06.551Z"
   },
   {
    "duration": 61,
    "start_time": "2022-02-20T11:01:06.566Z"
   },
   {
    "duration": 34,
    "start_time": "2022-02-20T11:01:06.629Z"
   },
   {
    "duration": 58,
    "start_time": "2022-02-20T11:01:06.666Z"
   },
   {
    "duration": 12,
    "start_time": "2022-02-20T11:01:06.727Z"
   },
   {
    "duration": 11,
    "start_time": "2022-02-20T11:01:06.742Z"
   },
   {
    "duration": 62,
    "start_time": "2022-02-20T11:01:06.755Z"
   },
   {
    "duration": 13,
    "start_time": "2022-02-20T11:01:06.819Z"
   },
   {
    "duration": 82,
    "start_time": "2022-02-20T11:01:06.834Z"
   },
   {
    "duration": 18,
    "start_time": "2022-02-20T11:01:06.920Z"
   },
   {
    "duration": 7,
    "start_time": "2022-02-20T11:01:06.941Z"
   },
   {
    "duration": 16,
    "start_time": "2022-02-20T11:01:06.951Z"
   },
   {
    "duration": 61,
    "start_time": "2022-02-20T11:01:06.972Z"
   },
   {
    "duration": 12,
    "start_time": "2022-02-20T11:01:07.036Z"
   },
   {
    "duration": 61,
    "start_time": "2022-02-20T11:01:07.051Z"
   },
   {
    "duration": 7,
    "start_time": "2022-02-20T11:01:07.115Z"
   },
   {
    "duration": 13,
    "start_time": "2022-02-20T11:01:07.124Z"
   },
   {
    "duration": 23,
    "start_time": "2022-02-20T11:02:27.667Z"
   },
   {
    "duration": 7,
    "start_time": "2022-02-20T11:03:08.399Z"
   },
   {
    "duration": 7,
    "start_time": "2022-02-20T11:03:17.844Z"
   },
   {
    "duration": 7,
    "start_time": "2022-02-20T11:03:27.907Z"
   },
   {
    "duration": 8,
    "start_time": "2022-02-20T11:03:33.223Z"
   },
   {
    "duration": 46,
    "start_time": "2022-02-20T11:04:01.247Z"
   },
   {
    "duration": 16,
    "start_time": "2022-02-20T11:04:10.789Z"
   },
   {
    "duration": 9839,
    "start_time": "2022-02-20T11:06:56.791Z"
   },
   {
    "duration": 42,
    "start_time": "2022-02-20T11:07:19.093Z"
   },
   {
    "duration": 309,
    "start_time": "2022-02-20T11:07:42.052Z"
   },
   {
    "duration": 18,
    "start_time": "2022-02-20T11:11:04.699Z"
   },
   {
    "duration": 336,
    "start_time": "2022-02-20T11:11:07.800Z"
   },
   {
    "duration": 14,
    "start_time": "2022-02-20T11:11:53.417Z"
   },
   {
    "duration": 20,
    "start_time": "2022-02-20T11:12:57.096Z"
   },
   {
    "duration": 24,
    "start_time": "2022-02-20T11:20:24.118Z"
   },
   {
    "duration": 12,
    "start_time": "2022-02-20T11:23:16.068Z"
   },
   {
    "duration": 3,
    "start_time": "2022-02-20T11:23:43.193Z"
   },
   {
    "duration": 77,
    "start_time": "2022-02-20T11:23:43.199Z"
   },
   {
    "duration": 33,
    "start_time": "2022-02-20T11:23:43.279Z"
   },
   {
    "duration": 20,
    "start_time": "2022-02-20T11:23:43.316Z"
   },
   {
    "duration": 24,
    "start_time": "2022-02-20T11:23:43.338Z"
   },
   {
    "duration": 15,
    "start_time": "2022-02-20T11:23:43.365Z"
   },
   {
    "duration": 7,
    "start_time": "2022-02-20T11:23:43.412Z"
   },
   {
    "duration": 11,
    "start_time": "2022-02-20T11:23:43.422Z"
   },
   {
    "duration": 13,
    "start_time": "2022-02-20T11:23:43.436Z"
   },
   {
    "duration": 62,
    "start_time": "2022-02-20T11:23:43.452Z"
   },
   {
    "duration": 14,
    "start_time": "2022-02-20T11:23:43.517Z"
   },
   {
    "duration": 22,
    "start_time": "2022-02-20T11:23:43.533Z"
   },
   {
    "duration": 82,
    "start_time": "2022-02-20T11:23:43.558Z"
   },
   {
    "duration": 23,
    "start_time": "2022-02-20T11:23:43.644Z"
   },
   {
    "duration": 40,
    "start_time": "2022-02-20T11:23:43.670Z"
   },
   {
    "duration": 10,
    "start_time": "2022-02-20T11:23:43.713Z"
   },
   {
    "duration": 28,
    "start_time": "2022-02-20T11:23:43.726Z"
   },
   {
    "duration": 12,
    "start_time": "2022-02-20T11:23:43.757Z"
   },
   {
    "duration": 60,
    "start_time": "2022-02-20T11:23:43.813Z"
   },
   {
    "duration": 36,
    "start_time": "2022-02-20T11:23:43.876Z"
   },
   {
    "duration": 8,
    "start_time": "2022-02-20T11:23:43.915Z"
   },
   {
    "duration": 13,
    "start_time": "2022-02-20T11:23:43.926Z"
   },
   {
    "duration": 27,
    "start_time": "2022-02-20T11:23:43.942Z"
   },
   {
    "duration": 47,
    "start_time": "2022-02-20T11:23:43.971Z"
   },
   {
    "duration": 24,
    "start_time": "2022-02-20T11:23:44.021Z"
   },
   {
    "duration": 5,
    "start_time": "2022-02-20T11:23:44.047Z"
   },
   {
    "duration": 55,
    "start_time": "2022-02-20T11:23:44.055Z"
   },
   {
    "duration": 21,
    "start_time": "2022-02-20T11:23:44.112Z"
   },
   {
    "duration": 10,
    "start_time": "2022-02-20T11:23:47.868Z"
   },
   {
    "duration": 23,
    "start_time": "2022-02-20T11:28:56.358Z"
   },
   {
    "duration": 13,
    "start_time": "2022-02-20T11:30:03.728Z"
   },
   {
    "duration": 15,
    "start_time": "2022-02-20T11:30:15.085Z"
   },
   {
    "duration": 18,
    "start_time": "2022-02-20T11:30:44.716Z"
   },
   {
    "duration": 13,
    "start_time": "2022-02-20T11:31:44.575Z"
   },
   {
    "duration": 14,
    "start_time": "2022-02-20T11:32:03.989Z"
   },
   {
    "duration": 15,
    "start_time": "2022-02-20T11:32:18.483Z"
   },
   {
    "duration": 14,
    "start_time": "2022-02-20T11:32:49.749Z"
   },
   {
    "duration": 5,
    "start_time": "2022-02-20T11:33:31.586Z"
   },
   {
    "duration": 65,
    "start_time": "2022-02-20T11:33:31.600Z"
   },
   {
    "duration": 43,
    "start_time": "2022-02-20T11:33:31.668Z"
   },
   {
    "duration": 15,
    "start_time": "2022-02-20T11:33:31.714Z"
   },
   {
    "duration": 12,
    "start_time": "2022-02-20T11:33:31.732Z"
   },
   {
    "duration": 13,
    "start_time": "2022-02-20T11:33:31.747Z"
   },
   {
    "duration": 53,
    "start_time": "2022-02-20T11:33:31.762Z"
   },
   {
    "duration": 13,
    "start_time": "2022-02-20T11:33:31.818Z"
   },
   {
    "duration": 12,
    "start_time": "2022-02-20T11:33:31.833Z"
   },
   {
    "duration": 19,
    "start_time": "2022-02-20T11:33:31.849Z"
   },
   {
    "duration": 11,
    "start_time": "2022-02-20T11:33:31.912Z"
   },
   {
    "duration": 20,
    "start_time": "2022-02-20T11:33:31.925Z"
   },
   {
    "duration": 70,
    "start_time": "2022-02-20T11:33:31.948Z"
   },
   {
    "duration": 21,
    "start_time": "2022-02-20T11:33:32.020Z"
   },
   {
    "duration": 17,
    "start_time": "2022-02-20T11:33:32.044Z"
   },
   {
    "duration": 49,
    "start_time": "2022-02-20T11:33:32.064Z"
   },
   {
    "duration": 31,
    "start_time": "2022-02-20T11:33:32.116Z"
   },
   {
    "duration": 12,
    "start_time": "2022-02-20T11:33:32.149Z"
   },
   {
    "duration": 97,
    "start_time": "2022-02-20T11:33:32.164Z"
   },
   {
    "duration": 14,
    "start_time": "2022-02-20T11:33:32.265Z"
   },
   {
    "duration": 32,
    "start_time": "2022-02-20T11:33:32.281Z"
   },
   {
    "duration": 13,
    "start_time": "2022-02-20T11:33:32.316Z"
   },
   {
    "duration": 33,
    "start_time": "2022-02-20T11:33:32.333Z"
   },
   {
    "duration": 49,
    "start_time": "2022-02-20T11:33:32.370Z"
   },
   {
    "duration": 27,
    "start_time": "2022-02-20T11:33:32.422Z"
   },
   {
    "duration": 7,
    "start_time": "2022-02-20T11:33:32.452Z"
   },
   {
    "duration": 56,
    "start_time": "2022-02-20T11:33:32.462Z"
   },
   {
    "duration": 32,
    "start_time": "2022-02-20T11:33:32.525Z"
   },
   {
    "duration": 13,
    "start_time": "2022-02-20T11:33:37.282Z"
   },
   {
    "duration": 14,
    "start_time": "2022-02-20T11:33:54.980Z"
   },
   {
    "duration": 10,
    "start_time": "2022-02-20T11:33:59.033Z"
   },
   {
    "duration": 22,
    "start_time": "2022-02-20T11:34:18.211Z"
   },
   {
    "duration": 14,
    "start_time": "2022-02-20T11:34:26.144Z"
   },
   {
    "duration": 23011,
    "start_time": "2022-02-20T11:35:18.674Z"
   },
   {
    "duration": 17,
    "start_time": "2022-02-20T11:35:53.648Z"
   },
   {
    "duration": 10,
    "start_time": "2022-02-20T11:35:58.964Z"
   },
   {
    "duration": 22,
    "start_time": "2022-02-20T11:37:15.397Z"
   },
   {
    "duration": 11,
    "start_time": "2022-02-20T11:37:16.528Z"
   },
   {
    "duration": 20,
    "start_time": "2022-02-20T11:38:40.511Z"
   },
   {
    "duration": 9,
    "start_time": "2022-02-20T11:38:43.672Z"
   },
   {
    "duration": 9,
    "start_time": "2022-02-20T11:43:13.521Z"
   },
   {
    "duration": 3,
    "start_time": "2022-02-20T11:43:23.141Z"
   },
   {
    "duration": 71,
    "start_time": "2022-02-20T11:43:23.148Z"
   },
   {
    "duration": 27,
    "start_time": "2022-02-20T11:43:23.223Z"
   },
   {
    "duration": 17,
    "start_time": "2022-02-20T11:43:23.252Z"
   },
   {
    "duration": 45,
    "start_time": "2022-02-20T11:43:23.271Z"
   },
   {
    "duration": 12,
    "start_time": "2022-02-20T11:43:23.319Z"
   },
   {
    "duration": 6,
    "start_time": "2022-02-20T11:43:23.336Z"
   },
   {
    "duration": 9,
    "start_time": "2022-02-20T11:43:23.345Z"
   },
   {
    "duration": 60,
    "start_time": "2022-02-20T11:43:23.357Z"
   },
   {
    "duration": 23,
    "start_time": "2022-02-20T11:43:23.420Z"
   },
   {
    "duration": 13,
    "start_time": "2022-02-20T11:43:23.446Z"
   },
   {
    "duration": 57,
    "start_time": "2022-02-20T11:43:23.463Z"
   },
   {
    "duration": 36,
    "start_time": "2022-02-20T11:43:23.524Z"
   },
   {
    "duration": 51,
    "start_time": "2022-02-20T11:43:23.563Z"
   },
   {
    "duration": 13,
    "start_time": "2022-02-20T11:43:23.616Z"
   },
   {
    "duration": 10,
    "start_time": "2022-02-20T11:43:23.632Z"
   },
   {
    "duration": 71,
    "start_time": "2022-02-20T11:43:23.645Z"
   },
   {
    "duration": 12,
    "start_time": "2022-02-20T11:43:23.718Z"
   },
   {
    "duration": 90,
    "start_time": "2022-02-20T11:43:23.734Z"
   },
   {
    "duration": 14,
    "start_time": "2022-02-20T11:43:23.827Z"
   },
   {
    "duration": 6,
    "start_time": "2022-02-20T11:43:23.843Z"
   },
   {
    "duration": 11,
    "start_time": "2022-02-20T11:43:23.852Z"
   },
   {
    "duration": 57,
    "start_time": "2022-02-20T11:43:23.866Z"
   },
   {
    "duration": 11,
    "start_time": "2022-02-20T11:43:23.926Z"
   },
   {
    "duration": 25,
    "start_time": "2022-02-20T11:43:23.939Z"
   },
   {
    "duration": 6,
    "start_time": "2022-02-20T11:43:23.967Z"
   },
   {
    "duration": 14,
    "start_time": "2022-02-20T11:43:24.013Z"
   },
   {
    "duration": 19,
    "start_time": "2022-02-20T11:43:24.029Z"
   },
   {
    "duration": 5,
    "start_time": "2022-02-20T11:43:24.050Z"
   },
   {
    "duration": 17,
    "start_time": "2022-02-20T11:43:24.057Z"
   },
   {
    "duration": 11,
    "start_time": "2022-02-20T11:43:31.717Z"
   },
   {
    "duration": 11,
    "start_time": "2022-02-20T11:44:49.877Z"
   },
   {
    "duration": 14,
    "start_time": "2022-02-20T11:45:39.040Z"
   },
   {
    "duration": 15,
    "start_time": "2022-02-20T11:45:46.742Z"
   },
   {
    "duration": 10,
    "start_time": "2022-02-20T11:46:45.100Z"
   },
   {
    "duration": 14,
    "start_time": "2022-02-20T11:46:50.380Z"
   },
   {
    "duration": 12,
    "start_time": "2022-02-20T11:52:35.706Z"
   },
   {
    "duration": 4,
    "start_time": "2022-02-20T11:57:59.808Z"
   },
   {
    "duration": 13,
    "start_time": "2022-02-20T11:59:21.627Z"
   },
   {
    "duration": 17,
    "start_time": "2022-02-20T12:03:23.591Z"
   },
   {
    "duration": 10,
    "start_time": "2022-02-20T12:03:27.270Z"
   },
   {
    "duration": 4,
    "start_time": "2022-02-20T12:04:23.887Z"
   },
   {
    "duration": 70,
    "start_time": "2022-02-20T12:04:23.893Z"
   },
   {
    "duration": 46,
    "start_time": "2022-02-20T12:04:23.967Z"
   },
   {
    "duration": 15,
    "start_time": "2022-02-20T12:04:24.016Z"
   },
   {
    "duration": 18,
    "start_time": "2022-02-20T12:04:24.034Z"
   },
   {
    "duration": 57,
    "start_time": "2022-02-20T12:04:24.055Z"
   },
   {
    "duration": 7,
    "start_time": "2022-02-20T12:04:24.114Z"
   },
   {
    "duration": 11,
    "start_time": "2022-02-20T12:04:24.124Z"
   },
   {
    "duration": 10,
    "start_time": "2022-02-20T12:04:24.139Z"
   },
   {
    "duration": 73,
    "start_time": "2022-02-20T12:04:24.152Z"
   },
   {
    "duration": 12,
    "start_time": "2022-02-20T12:04:24.227Z"
   },
   {
    "duration": 20,
    "start_time": "2022-02-20T12:04:24.242Z"
   },
   {
    "duration": 72,
    "start_time": "2022-02-20T12:04:24.264Z"
   },
   {
    "duration": 20,
    "start_time": "2022-02-20T12:04:24.338Z"
   },
   {
    "duration": 54,
    "start_time": "2022-02-20T12:04:24.362Z"
   },
   {
    "duration": 11,
    "start_time": "2022-02-20T12:04:24.419Z"
   },
   {
    "duration": 29,
    "start_time": "2022-02-20T12:04:24.433Z"
   },
   {
    "duration": 48,
    "start_time": "2022-02-20T12:04:24.465Z"
   },
   {
    "duration": 61,
    "start_time": "2022-02-20T12:04:24.516Z"
   },
   {
    "duration": 32,
    "start_time": "2022-02-20T12:04:24.580Z"
   },
   {
    "duration": 7,
    "start_time": "2022-02-20T12:04:24.615Z"
   },
   {
    "duration": 16,
    "start_time": "2022-02-20T12:04:24.626Z"
   },
   {
    "duration": 21,
    "start_time": "2022-02-20T12:04:24.645Z"
   },
   {
    "duration": 49,
    "start_time": "2022-02-20T12:04:24.669Z"
   },
   {
    "duration": 26,
    "start_time": "2022-02-20T12:04:24.721Z"
   },
   {
    "duration": 6,
    "start_time": "2022-02-20T12:04:24.749Z"
   },
   {
    "duration": 52,
    "start_time": "2022-02-20T12:04:24.760Z"
   },
   {
    "duration": 31,
    "start_time": "2022-02-20T12:04:24.816Z"
   },
   {
    "duration": 5,
    "start_time": "2022-02-20T12:04:24.850Z"
   },
   {
    "duration": 17,
    "start_time": "2022-02-20T12:04:24.858Z"
   },
   {
    "duration": 44,
    "start_time": "2022-02-20T12:04:24.878Z"
   },
   {
    "duration": 19,
    "start_time": "2022-02-20T12:04:24.927Z"
   },
   {
    "duration": 9,
    "start_time": "2022-02-20T12:04:24.949Z"
   },
   {
    "duration": 3,
    "start_time": "2022-02-20T12:04:24.960Z"
   },
   {
    "duration": 2014,
    "start_time": "2022-02-20T12:04:28.637Z"
   },
   {
    "duration": 406,
    "start_time": "2022-02-20T12:04:30.248Z"
   },
   {
    "duration": 1534,
    "start_time": "2022-02-20T12:05:39.611Z"
   },
   {
    "duration": 201,
    "start_time": "2022-02-20T12:12:07.553Z"
   },
   {
    "duration": 606,
    "start_time": "2022-02-20T12:13:06.527Z"
   },
   {
    "duration": 10,
    "start_time": "2022-02-20T12:13:10.698Z"
   },
   {
    "duration": 1040,
    "start_time": "2022-02-21T10:04:41.630Z"
   },
   {
    "duration": 92,
    "start_time": "2022-02-21T10:04:42.673Z"
   },
   {
    "duration": 53,
    "start_time": "2022-02-21T10:04:42.769Z"
   },
   {
    "duration": 15,
    "start_time": "2022-02-21T10:04:42.826Z"
   },
   {
    "duration": 12,
    "start_time": "2022-02-21T10:04:42.843Z"
   },
   {
    "duration": 11,
    "start_time": "2022-02-21T10:04:42.858Z"
   },
   {
    "duration": 7,
    "start_time": "2022-02-21T10:04:42.911Z"
   },
   {
    "duration": 11,
    "start_time": "2022-02-21T10:04:42.923Z"
   },
   {
    "duration": 11,
    "start_time": "2022-02-21T10:04:42.938Z"
   },
   {
    "duration": 69,
    "start_time": "2022-02-21T10:04:42.952Z"
   },
   {
    "duration": 14,
    "start_time": "2022-02-21T10:04:43.024Z"
   },
   {
    "duration": 35,
    "start_time": "2022-02-21T10:04:43.041Z"
   },
   {
    "duration": 64,
    "start_time": "2022-02-21T10:04:43.079Z"
   },
   {
    "duration": 22,
    "start_time": "2022-02-21T10:04:43.146Z"
   },
   {
    "duration": 41,
    "start_time": "2022-02-21T10:04:43.171Z"
   },
   {
    "duration": 18,
    "start_time": "2022-02-21T10:04:43.216Z"
   },
   {
    "duration": 41,
    "start_time": "2022-02-21T10:04:43.238Z"
   },
   {
    "duration": 47,
    "start_time": "2022-02-21T10:04:43.284Z"
   },
   {
    "duration": 99,
    "start_time": "2022-02-21T10:04:43.334Z"
   },
   {
    "duration": 18,
    "start_time": "2022-02-21T10:04:43.436Z"
   },
   {
    "duration": 7,
    "start_time": "2022-02-21T10:04:43.456Z"
   },
   {
    "duration": 48,
    "start_time": "2022-02-21T10:04:43.465Z"
   },
   {
    "duration": 31,
    "start_time": "2022-02-21T10:04:43.519Z"
   },
   {
    "duration": 13,
    "start_time": "2022-02-21T10:04:43.554Z"
   },
   {
    "duration": 57,
    "start_time": "2022-02-21T10:04:43.570Z"
   },
   {
    "duration": 7,
    "start_time": "2022-02-21T10:04:43.630Z"
   },
   {
    "duration": 15,
    "start_time": "2022-02-21T10:04:43.640Z"
   },
   {
    "duration": 59,
    "start_time": "2022-02-21T10:04:43.658Z"
   },
   {
    "duration": 3,
    "start_time": "2022-02-21T10:04:43.720Z"
   },
   {
    "duration": 15,
    "start_time": "2022-02-21T10:04:43.726Z"
   },
   {
    "duration": 9,
    "start_time": "2022-02-21T10:04:43.744Z"
   },
   {
    "duration": 19,
    "start_time": "2022-02-21T10:04:43.755Z"
   },
   {
    "duration": 42,
    "start_time": "2022-02-21T10:04:43.776Z"
   },
   {
    "duration": 3,
    "start_time": "2022-02-21T10:04:43.822Z"
   },
   {
    "duration": 16,
    "start_time": "2022-02-21T10:04:43.828Z"
   },
   {
    "duration": 1214,
    "start_time": "2022-02-21T10:04:43.847Z"
   },
   {
    "duration": 13,
    "start_time": "2022-02-21T10:04:45.064Z"
   },
   {
    "duration": 37,
    "start_time": "2022-02-21T10:04:45.080Z"
   },
   {
    "duration": 5,
    "start_time": "2022-02-21T10:04:52.506Z"
   },
   {
    "duration": 15,
    "start_time": "2022-02-21T10:05:17.255Z"
   },
   {
    "duration": 27,
    "start_time": "2022-02-21T10:09:03.390Z"
   },
   {
    "duration": 28,
    "start_time": "2022-02-21T10:10:20.017Z"
   },
   {
    "duration": 26,
    "start_time": "2022-02-21T10:10:46.281Z"
   },
   {
    "duration": 849,
    "start_time": "2022-02-21T10:15:03.004Z"
   },
   {
    "duration": 22,
    "start_time": "2022-02-21T10:15:22.012Z"
   },
   {
    "duration": 19,
    "start_time": "2022-02-21T10:29:52.200Z"
   },
   {
    "duration": 14,
    "start_time": "2022-02-21T10:30:16.446Z"
   },
   {
    "duration": 33,
    "start_time": "2022-02-21T10:30:38.363Z"
   },
   {
    "duration": 152,
    "start_time": "2022-02-21T10:32:56.335Z"
   },
   {
    "duration": 103,
    "start_time": "2022-02-21T10:35:47.429Z"
   },
   {
    "duration": 111,
    "start_time": "2022-02-21T10:36:43.205Z"
   },
   {
    "duration": 11,
    "start_time": "2022-02-21T10:41:38.546Z"
   },
   {
    "duration": 28,
    "start_time": "2022-02-21T10:42:14.475Z"
   },
   {
    "duration": 32,
    "start_time": "2022-02-21T10:45:01.945Z"
   },
   {
    "duration": 69,
    "start_time": "2022-02-21T10:45:29.833Z"
   },
   {
    "duration": 70,
    "start_time": "2022-02-21T10:45:52.722Z"
   },
   {
    "duration": 1316,
    "start_time": "2022-02-21T10:56:37.368Z"
   },
   {
    "duration": 8,
    "start_time": "2022-02-21T10:58:06.888Z"
   },
   {
    "duration": 923,
    "start_time": "2022-02-21T10:59:45.475Z"
   },
   {
    "duration": 1026,
    "start_time": "2022-02-21T11:00:07.564Z"
   },
   {
    "duration": 8,
    "start_time": "2022-02-21T11:15:28.070Z"
   },
   {
    "duration": 48,
    "start_time": "2022-02-21T11:16:25.211Z"
   },
   {
    "duration": 45,
    "start_time": "2022-02-21T11:17:38.489Z"
   },
   {
    "duration": 47,
    "start_time": "2022-02-21T11:17:55.025Z"
   },
   {
    "duration": 3,
    "start_time": "2022-02-21T11:18:02.601Z"
   },
   {
    "duration": 119,
    "start_time": "2022-02-21T11:18:02.607Z"
   },
   {
    "duration": 32,
    "start_time": "2022-02-21T11:18:02.730Z"
   },
   {
    "duration": 60,
    "start_time": "2022-02-21T11:18:02.766Z"
   },
   {
    "duration": 20,
    "start_time": "2022-02-21T11:18:02.829Z"
   },
   {
    "duration": 11,
    "start_time": "2022-02-21T11:18:02.852Z"
   },
   {
    "duration": 46,
    "start_time": "2022-02-21T11:18:02.868Z"
   },
   {
    "duration": 11,
    "start_time": "2022-02-21T11:18:02.918Z"
   },
   {
    "duration": 13,
    "start_time": "2022-02-21T11:18:02.932Z"
   },
   {
    "duration": 67,
    "start_time": "2022-02-21T11:18:02.949Z"
   },
   {
    "duration": 15,
    "start_time": "2022-02-21T11:18:03.018Z"
   },
   {
    "duration": 22,
    "start_time": "2022-02-21T11:18:03.036Z"
   },
   {
    "duration": 64,
    "start_time": "2022-02-21T11:18:03.060Z"
   },
   {
    "duration": 22,
    "start_time": "2022-02-21T11:18:03.128Z"
   },
   {
    "duration": 14,
    "start_time": "2022-02-21T11:18:03.152Z"
   },
   {
    "duration": 53,
    "start_time": "2022-02-21T11:18:03.169Z"
   },
   {
    "duration": 35,
    "start_time": "2022-02-21T11:18:03.225Z"
   },
   {
    "duration": 46,
    "start_time": "2022-02-21T11:18:03.264Z"
   },
   {
    "duration": 64,
    "start_time": "2022-02-21T11:18:03.316Z"
   },
   {
    "duration": 38,
    "start_time": "2022-02-21T11:18:03.383Z"
   },
   {
    "duration": 7,
    "start_time": "2022-02-21T11:18:03.425Z"
   },
   {
    "duration": 12,
    "start_time": "2022-02-21T11:18:03.434Z"
   },
   {
    "duration": 21,
    "start_time": "2022-02-21T11:18:03.449Z"
   },
   {
    "duration": 48,
    "start_time": "2022-02-21T11:18:03.472Z"
   },
   {
    "duration": 29,
    "start_time": "2022-02-21T11:18:03.522Z"
   },
   {
    "duration": 6,
    "start_time": "2022-02-21T11:18:03.553Z"
   },
   {
    "duration": 48,
    "start_time": "2022-02-21T11:18:03.562Z"
   },
   {
    "duration": 18,
    "start_time": "2022-02-21T11:18:03.613Z"
   },
   {
    "duration": 4,
    "start_time": "2022-02-21T11:18:03.634Z"
   },
   {
    "duration": 19,
    "start_time": "2022-02-21T11:18:03.641Z"
   },
   {
    "duration": 9,
    "start_time": "2022-02-21T11:18:03.662Z"
   },
   {
    "duration": 45,
    "start_time": "2022-02-21T11:18:03.674Z"
   },
   {
    "duration": 10,
    "start_time": "2022-02-21T11:18:03.722Z"
   },
   {
    "duration": 4,
    "start_time": "2022-02-21T11:18:03.735Z"
   },
   {
    "duration": 16,
    "start_time": "2022-02-21T11:18:03.742Z"
   },
   {
    "duration": 659,
    "start_time": "2022-02-21T11:18:03.761Z"
   },
   {
    "duration": 9,
    "start_time": "2022-02-21T11:18:04.422Z"
   },
   {
    "duration": 14,
    "start_time": "2022-02-21T11:18:04.435Z"
   },
   {
    "duration": 5,
    "start_time": "2022-02-21T11:18:04.452Z"
   },
   {
    "duration": 59,
    "start_time": "2022-02-21T11:18:04.459Z"
   },
   {
    "duration": 25,
    "start_time": "2022-02-21T11:18:04.521Z"
   },
   {
    "duration": 28,
    "start_time": "2022-02-21T11:18:04.549Z"
   },
   {
    "duration": 50,
    "start_time": "2022-02-21T11:18:04.579Z"
   },
   {
    "duration": 109,
    "start_time": "2022-02-21T11:18:04.632Z"
   },
   {
    "duration": 20,
    "start_time": "2022-02-21T11:18:04.743Z"
   },
   {
    "duration": 62,
    "start_time": "2022-02-21T11:18:04.766Z"
   },
   {
    "duration": 89,
    "start_time": "2022-02-21T11:18:04.830Z"
   },
   {
    "duration": 47,
    "start_time": "2022-02-21T11:18:09.080Z"
   },
   {
    "duration": 38,
    "start_time": "2022-02-21T11:21:35.111Z"
   },
   {
    "duration": 35,
    "start_time": "2022-02-21T11:22:34.126Z"
   },
   {
    "duration": 5,
    "start_time": "2022-02-21T11:37:40.186Z"
   },
   {
    "duration": 4,
    "start_time": "2022-02-21T11:38:12.066Z"
   },
   {
    "duration": 6,
    "start_time": "2022-02-21T11:39:08.371Z"
   },
   {
    "duration": 574,
    "start_time": "2022-02-21T11:49:36.607Z"
   },
   {
    "duration": 137,
    "start_time": "2022-02-21T11:57:52.725Z"
   },
   {
    "duration": 34,
    "start_time": "2022-02-21T11:58:19.600Z"
   },
   {
    "duration": 39,
    "start_time": "2022-02-21T12:00:14.153Z"
   },
   {
    "duration": 132,
    "start_time": "2022-02-21T12:07:26.357Z"
   },
   {
    "duration": 37,
    "start_time": "2022-02-21T12:07:46.453Z"
   },
   {
    "duration": 33,
    "start_time": "2022-02-21T12:08:31.877Z"
   },
   {
    "duration": 41,
    "start_time": "2022-02-21T12:09:17.555Z"
   },
   {
    "duration": 42,
    "start_time": "2022-02-21T12:12:47.220Z"
   },
   {
    "duration": 36,
    "start_time": "2022-02-21T12:15:00.050Z"
   },
   {
    "duration": 4,
    "start_time": "2022-02-21T12:46:39.505Z"
   },
   {
    "duration": 70,
    "start_time": "2022-02-21T12:46:39.512Z"
   },
   {
    "duration": 36,
    "start_time": "2022-02-21T12:46:39.585Z"
   },
   {
    "duration": 20,
    "start_time": "2022-02-21T12:46:39.623Z"
   },
   {
    "duration": 14,
    "start_time": "2022-02-21T12:46:39.645Z"
   },
   {
    "duration": 58,
    "start_time": "2022-02-21T12:46:39.662Z"
   },
   {
    "duration": 8,
    "start_time": "2022-02-21T12:46:39.725Z"
   },
   {
    "duration": 11,
    "start_time": "2022-02-21T12:46:39.735Z"
   },
   {
    "duration": 13,
    "start_time": "2022-02-21T12:46:39.748Z"
   },
   {
    "duration": 56,
    "start_time": "2022-02-21T12:46:39.764Z"
   },
   {
    "duration": 12,
    "start_time": "2022-02-21T12:46:39.823Z"
   },
   {
    "duration": 24,
    "start_time": "2022-02-21T12:46:39.837Z"
   },
   {
    "duration": 69,
    "start_time": "2022-02-21T12:46:39.864Z"
   },
   {
    "duration": 21,
    "start_time": "2022-02-21T12:46:39.936Z"
   },
   {
    "duration": 15,
    "start_time": "2022-02-21T12:46:39.959Z"
   },
   {
    "duration": 44,
    "start_time": "2022-02-21T12:46:39.976Z"
   },
   {
    "duration": 42,
    "start_time": "2022-02-21T12:46:40.023Z"
   },
   {
    "duration": 44,
    "start_time": "2022-02-21T12:46:40.069Z"
   },
   {
    "duration": 66,
    "start_time": "2022-02-21T12:46:40.122Z"
   },
   {
    "duration": 34,
    "start_time": "2022-02-21T12:46:40.191Z"
   },
   {
    "duration": 8,
    "start_time": "2022-02-21T12:46:40.229Z"
   },
   {
    "duration": 20,
    "start_time": "2022-02-21T12:46:40.240Z"
   },
   {
    "duration": 55,
    "start_time": "2022-02-21T12:46:40.263Z"
   },
   {
    "duration": 10,
    "start_time": "2022-02-21T12:46:40.321Z"
   },
   {
    "duration": 28,
    "start_time": "2022-02-21T12:46:40.334Z"
   },
   {
    "duration": 6,
    "start_time": "2022-02-21T12:46:40.364Z"
   },
   {
    "duration": 50,
    "start_time": "2022-02-21T12:46:40.373Z"
   },
   {
    "duration": 18,
    "start_time": "2022-02-21T12:46:40.426Z"
   },
   {
    "duration": 3,
    "start_time": "2022-02-21T12:46:40.447Z"
   },
   {
    "duration": 16,
    "start_time": "2022-02-21T12:46:40.453Z"
   },
   {
    "duration": 46,
    "start_time": "2022-02-21T12:46:40.472Z"
   },
   {
    "duration": 21,
    "start_time": "2022-02-21T12:46:40.521Z"
   },
   {
    "duration": 12,
    "start_time": "2022-02-21T12:46:40.545Z"
   },
   {
    "duration": 6,
    "start_time": "2022-02-21T12:46:40.560Z"
   },
   {
    "duration": 51,
    "start_time": "2022-02-21T12:46:40.569Z"
   },
   {
    "duration": 997,
    "start_time": "2022-02-21T12:46:40.623Z"
   },
   {
    "duration": 14,
    "start_time": "2022-02-21T12:46:41.623Z"
   },
   {
    "duration": 13,
    "start_time": "2022-02-21T12:46:41.640Z"
   },
   {
    "duration": 5,
    "start_time": "2022-02-21T12:46:41.655Z"
   },
   {
    "duration": 55,
    "start_time": "2022-02-21T12:46:41.663Z"
   },
   {
    "duration": 27,
    "start_time": "2022-02-21T12:46:41.721Z"
   },
   {
    "duration": 58,
    "start_time": "2022-02-21T12:46:41.752Z"
   },
   {
    "duration": 38,
    "start_time": "2022-02-21T12:46:41.814Z"
   },
   {
    "duration": 122,
    "start_time": "2022-02-21T12:46:41.855Z"
   },
   {
    "duration": 32,
    "start_time": "2022-02-21T12:46:41.980Z"
   },
   {
    "duration": 33,
    "start_time": "2022-02-21T12:46:42.015Z"
   },
   {
    "duration": 96,
    "start_time": "2022-02-21T12:46:42.051Z"
   },
   {
    "duration": 29,
    "start_time": "2022-02-21T12:46:42.150Z"
   },
   {
    "duration": 61,
    "start_time": "2022-02-21T12:46:42.181Z"
   },
   {
    "duration": 8,
    "start_time": "2022-02-21T12:46:45.893Z"
   },
   {
    "duration": 129,
    "start_time": "2022-02-21T12:46:47.059Z"
   },
   {
    "duration": 23,
    "start_time": "2022-02-21T12:47:10.332Z"
   },
   {
    "duration": 5,
    "start_time": "2022-02-21T12:48:38.728Z"
   },
   {
    "duration": 23,
    "start_time": "2022-02-21T12:48:40.584Z"
   },
   {
    "duration": 9,
    "start_time": "2022-02-21T12:49:44.224Z"
   },
   {
    "duration": 33,
    "start_time": "2022-02-21T12:49:46.167Z"
   },
   {
    "duration": 26,
    "start_time": "2022-02-21T12:49:47.159Z"
   },
   {
    "duration": 7,
    "start_time": "2022-02-21T12:49:58.859Z"
   },
   {
    "duration": 35,
    "start_time": "2022-02-21T12:50:01.591Z"
   },
   {
    "duration": 9,
    "start_time": "2022-02-21T12:51:00.848Z"
   },
   {
    "duration": 4,
    "start_time": "2022-02-21T12:51:21.470Z"
   },
   {
    "duration": 76,
    "start_time": "2022-02-21T12:51:21.477Z"
   },
   {
    "duration": 22,
    "start_time": "2022-02-21T12:51:21.557Z"
   },
   {
    "duration": 46,
    "start_time": "2022-02-21T12:51:21.583Z"
   },
   {
    "duration": 14,
    "start_time": "2022-02-21T12:51:21.631Z"
   },
   {
    "duration": 64,
    "start_time": "2022-02-21T12:51:21.648Z"
   },
   {
    "duration": 7,
    "start_time": "2022-02-21T12:51:21.716Z"
   },
   {
    "duration": 13,
    "start_time": "2022-02-21T12:51:21.726Z"
   },
   {
    "duration": 12,
    "start_time": "2022-02-21T12:51:21.742Z"
   },
   {
    "duration": 68,
    "start_time": "2022-02-21T12:51:21.757Z"
   },
   {
    "duration": 11,
    "start_time": "2022-02-21T12:51:21.827Z"
   },
   {
    "duration": 23,
    "start_time": "2022-02-21T12:51:21.841Z"
   },
   {
    "duration": 76,
    "start_time": "2022-02-21T12:51:21.867Z"
   },
   {
    "duration": 22,
    "start_time": "2022-02-21T12:51:21.945Z"
   },
   {
    "duration": 46,
    "start_time": "2022-02-21T12:51:21.970Z"
   },
   {
    "duration": 14,
    "start_time": "2022-02-21T12:51:22.019Z"
   },
   {
    "duration": 41,
    "start_time": "2022-02-21T12:51:22.036Z"
   },
   {
    "duration": 12,
    "start_time": "2022-02-21T12:51:22.110Z"
   },
   {
    "duration": 58,
    "start_time": "2022-02-21T12:51:22.127Z"
   },
   {
    "duration": 34,
    "start_time": "2022-02-21T12:51:22.188Z"
   },
   {
    "duration": 6,
    "start_time": "2022-02-21T12:51:22.224Z"
   },
   {
    "duration": 13,
    "start_time": "2022-02-21T12:51:22.233Z"
   },
   {
    "duration": 66,
    "start_time": "2022-02-21T12:51:22.249Z"
   },
   {
    "duration": 11,
    "start_time": "2022-02-21T12:51:22.317Z"
   },
   {
    "duration": 22,
    "start_time": "2022-02-21T12:51:22.330Z"
   },
   {
    "duration": 6,
    "start_time": "2022-02-21T12:51:22.355Z"
   },
   {
    "duration": 48,
    "start_time": "2022-02-21T12:51:22.363Z"
   },
   {
    "duration": 18,
    "start_time": "2022-02-21T12:51:22.414Z"
   },
   {
    "duration": 3,
    "start_time": "2022-02-21T12:51:22.434Z"
   },
   {
    "duration": 13,
    "start_time": "2022-02-21T12:51:22.439Z"
   },
   {
    "duration": 9,
    "start_time": "2022-02-21T12:51:22.454Z"
   },
   {
    "duration": 52,
    "start_time": "2022-02-21T12:51:22.466Z"
   },
   {
    "duration": 8,
    "start_time": "2022-02-21T12:51:22.520Z"
   },
   {
    "duration": 5,
    "start_time": "2022-02-21T12:51:22.530Z"
   },
   {
    "duration": 16,
    "start_time": "2022-02-21T12:51:22.538Z"
   },
   {
    "duration": 749,
    "start_time": "2022-02-21T12:51:22.556Z"
   },
   {
    "duration": 11,
    "start_time": "2022-02-21T12:51:23.310Z"
   },
   {
    "duration": 15,
    "start_time": "2022-02-21T12:51:23.324Z"
   },
   {
    "duration": 6,
    "start_time": "2022-02-21T12:51:23.342Z"
   },
   {
    "duration": 60,
    "start_time": "2022-02-21T12:51:23.351Z"
   },
   {
    "duration": 26,
    "start_time": "2022-02-21T12:51:23.413Z"
   },
   {
    "duration": 30,
    "start_time": "2022-02-21T12:51:23.441Z"
   },
   {
    "duration": 51,
    "start_time": "2022-02-21T12:51:23.474Z"
   },
   {
    "duration": 110,
    "start_time": "2022-02-21T12:51:23.527Z"
   },
   {
    "duration": 19,
    "start_time": "2022-02-21T12:51:23.640Z"
   },
   {
    "duration": 53,
    "start_time": "2022-02-21T12:51:23.662Z"
   },
   {
    "duration": 115,
    "start_time": "2022-02-21T12:51:23.717Z"
   },
   {
    "duration": 44,
    "start_time": "2022-02-21T12:51:23.836Z"
   },
   {
    "duration": 74,
    "start_time": "2022-02-21T12:51:23.883Z"
   },
   {
    "duration": 12,
    "start_time": "2022-02-21T12:51:23.960Z"
   },
   {
    "duration": 153,
    "start_time": "2022-02-21T12:51:23.975Z"
   },
   {
    "duration": 34,
    "start_time": "2022-02-21T12:51:30.181Z"
   },
   {
    "duration": 9,
    "start_time": "2022-02-21T13:06:40.723Z"
   },
   {
    "duration": 27,
    "start_time": "2022-02-21T13:09:49.607Z"
   },
   {
    "duration": 21,
    "start_time": "2022-02-21T13:10:14.235Z"
   },
   {
    "duration": 14,
    "start_time": "2022-02-21T13:15:41.036Z"
   },
   {
    "duration": 21,
    "start_time": "2022-02-21T13:16:50.260Z"
   },
   {
    "duration": 13,
    "start_time": "2022-02-21T13:19:09.690Z"
   },
   {
    "duration": 10,
    "start_time": "2022-02-21T13:19:27.698Z"
   },
   {
    "duration": 28,
    "start_time": "2022-02-21T13:27:25.760Z"
   },
   {
    "duration": 20,
    "start_time": "2022-02-21T13:28:04.871Z"
   },
   {
    "duration": 18,
    "start_time": "2022-02-21T14:08:07.091Z"
   },
   {
    "duration": 20,
    "start_time": "2022-02-21T14:08:38.137Z"
   },
   {
    "duration": 187,
    "start_time": "2022-02-21T14:30:33.124Z"
   },
   {
    "duration": 121,
    "start_time": "2022-02-22T06:23:26.598Z"
   },
   {
    "duration": 315,
    "start_time": "2022-02-22T06:40:09.923Z"
   },
   {
    "duration": 803,
    "start_time": "2022-02-22T06:40:19.371Z"
   },
   {
    "duration": 67,
    "start_time": "2022-02-22T06:40:20.177Z"
   },
   {
    "duration": 55,
    "start_time": "2022-02-22T06:40:20.246Z"
   },
   {
    "duration": 19,
    "start_time": "2022-02-22T06:40:20.304Z"
   },
   {
    "duration": 18,
    "start_time": "2022-02-22T06:40:20.326Z"
   },
   {
    "duration": 52,
    "start_time": "2022-02-22T06:40:20.347Z"
   },
   {
    "duration": 6,
    "start_time": "2022-02-22T06:40:20.401Z"
   },
   {
    "duration": 11,
    "start_time": "2022-02-22T06:40:20.413Z"
   },
   {
    "duration": 10,
    "start_time": "2022-02-22T06:40:20.428Z"
   },
   {
    "duration": 67,
    "start_time": "2022-02-22T06:40:20.440Z"
   },
   {
    "duration": 14,
    "start_time": "2022-02-22T06:40:20.511Z"
   },
   {
    "duration": 47,
    "start_time": "2022-02-22T06:40:20.528Z"
   },
   {
    "duration": 53,
    "start_time": "2022-02-22T06:40:20.578Z"
   },
   {
    "duration": 23,
    "start_time": "2022-02-22T06:40:20.633Z"
   },
   {
    "duration": 16,
    "start_time": "2022-02-22T06:40:20.695Z"
   },
   {
    "duration": 12,
    "start_time": "2022-02-22T06:40:20.714Z"
   },
   {
    "duration": 68,
    "start_time": "2022-02-22T06:40:20.729Z"
   },
   {
    "duration": 16,
    "start_time": "2022-02-22T06:40:20.799Z"
   },
   {
    "duration": 82,
    "start_time": "2022-02-22T06:40:20.818Z"
   },
   {
    "duration": 14,
    "start_time": "2022-02-22T06:40:20.903Z"
   },
   {
    "duration": 8,
    "start_time": "2022-02-22T06:40:20.920Z"
   },
   {
    "duration": 14,
    "start_time": "2022-02-22T06:40:20.931Z"
   },
   {
    "duration": 26,
    "start_time": "2022-02-22T06:40:20.992Z"
   },
   {
    "duration": 22,
    "start_time": "2022-02-22T06:40:21.021Z"
   },
   {
    "duration": 51,
    "start_time": "2022-02-22T06:40:21.045Z"
   },
   {
    "duration": 7,
    "start_time": "2022-02-22T06:40:21.098Z"
   },
   {
    "duration": 19,
    "start_time": "2022-02-22T06:40:21.107Z"
   },
   {
    "duration": 26,
    "start_time": "2022-02-22T06:40:21.129Z"
   },
   {
    "duration": 5,
    "start_time": "2022-02-22T06:40:21.158Z"
   },
   {
    "duration": 35,
    "start_time": "2022-02-22T06:40:21.166Z"
   },
   {
    "duration": 10,
    "start_time": "2022-02-22T06:40:21.203Z"
   },
   {
    "duration": 19,
    "start_time": "2022-02-22T06:40:21.215Z"
   },
   {
    "duration": 9,
    "start_time": "2022-02-22T06:40:21.236Z"
   },
   {
    "duration": 9,
    "start_time": "2022-02-22T06:40:21.247Z"
   },
   {
    "duration": 44,
    "start_time": "2022-02-22T06:40:21.258Z"
   },
   {
    "duration": 1278,
    "start_time": "2022-02-22T06:40:21.304Z"
   },
   {
    "duration": 20,
    "start_time": "2022-02-22T06:40:22.586Z"
   },
   {
    "duration": 22,
    "start_time": "2022-02-22T06:40:22.610Z"
   },
   {
    "duration": 9,
    "start_time": "2022-02-22T06:40:22.634Z"
   },
   {
    "duration": 49,
    "start_time": "2022-02-22T06:40:22.645Z"
   },
   {
    "duration": 29,
    "start_time": "2022-02-22T06:40:22.697Z"
   },
   {
    "duration": 31,
    "start_time": "2022-02-22T06:40:22.729Z"
   },
   {
    "duration": 57,
    "start_time": "2022-02-22T06:40:22.762Z"
   },
   {
    "duration": 120,
    "start_time": "2022-02-22T06:40:22.822Z"
   },
   {
    "duration": 21,
    "start_time": "2022-02-22T06:40:22.945Z"
   },
   {
    "duration": 59,
    "start_time": "2022-02-22T06:40:22.969Z"
   },
   {
    "duration": 137,
    "start_time": "2022-02-22T06:40:23.032Z"
   },
   {
    "duration": 45,
    "start_time": "2022-02-22T06:40:23.172Z"
   },
   {
    "duration": 70,
    "start_time": "2022-02-22T06:40:23.224Z"
   },
   {
    "duration": 12,
    "start_time": "2022-02-22T06:40:23.297Z"
   },
   {
    "duration": 145,
    "start_time": "2022-02-22T06:40:23.312Z"
   },
   {
    "duration": 37,
    "start_time": "2022-02-22T06:40:23.461Z"
   },
   {
    "duration": 25,
    "start_time": "2022-02-22T06:40:23.502Z"
   },
   {
    "duration": 15,
    "start_time": "2022-02-22T06:40:23.531Z"
   },
   {
    "duration": 54,
    "start_time": "2022-02-22T06:40:23.549Z"
   },
   {
    "duration": 8,
    "start_time": "2022-02-22T06:40:23.606Z"
   },
   {
    "duration": 21,
    "start_time": "2022-02-22T06:40:23.617Z"
   },
   {
    "duration": 62,
    "start_time": "2022-02-22T06:40:23.641Z"
   },
   {
    "duration": 24,
    "start_time": "2022-02-22T06:40:23.705Z"
   },
   {
    "duration": 35,
    "start_time": "2022-02-22T06:40:41.397Z"
   },
   {
    "duration": 33,
    "start_time": "2022-02-22T06:40:53.802Z"
   },
   {
    "duration": 313,
    "start_time": "2022-02-22T06:41:31.594Z"
   },
   {
    "duration": 37,
    "start_time": "2022-02-22T06:41:39.794Z"
   },
   {
    "duration": 34,
    "start_time": "2022-02-22T06:43:24.721Z"
   },
   {
    "duration": 16,
    "start_time": "2022-02-22T06:43:35.305Z"
   },
   {
    "duration": 33,
    "start_time": "2022-02-22T06:45:20.215Z"
   },
   {
    "duration": 142,
    "start_time": "2022-02-22T06:46:50.391Z"
   },
   {
    "duration": 184,
    "start_time": "2022-02-22T07:00:24.901Z"
   },
   {
    "duration": 181,
    "start_time": "2022-02-22T07:00:56.775Z"
   },
   {
    "duration": 33,
    "start_time": "2022-02-22T07:02:53.654Z"
   },
   {
    "duration": 41,
    "start_time": "2022-02-22T07:05:59.461Z"
   },
   {
    "duration": 12,
    "start_time": "2022-02-22T07:08:28.851Z"
   },
   {
    "duration": 8,
    "start_time": "2022-02-22T07:08:41.941Z"
   },
   {
    "duration": 83,
    "start_time": "2022-02-22T07:11:51.427Z"
   },
   {
    "duration": 7,
    "start_time": "2022-02-22T07:16:29.129Z"
   },
   {
    "duration": 10,
    "start_time": "2022-02-22T07:17:14.311Z"
   },
   {
    "duration": 3,
    "start_time": "2022-02-22T07:20:46.071Z"
   },
   {
    "duration": 88,
    "start_time": "2022-02-22T07:20:46.078Z"
   },
   {
    "duration": 38,
    "start_time": "2022-02-22T07:20:46.170Z"
   },
   {
    "duration": 19,
    "start_time": "2022-02-22T07:20:46.210Z"
   },
   {
    "duration": 63,
    "start_time": "2022-02-22T07:20:46.232Z"
   },
   {
    "duration": 17,
    "start_time": "2022-02-22T07:20:46.298Z"
   },
   {
    "duration": 7,
    "start_time": "2022-02-22T07:20:46.319Z"
   },
   {
    "duration": 14,
    "start_time": "2022-02-22T07:20:46.330Z"
   },
   {
    "duration": 57,
    "start_time": "2022-02-22T07:20:46.347Z"
   },
   {
    "duration": 26,
    "start_time": "2022-02-22T07:20:46.407Z"
   },
   {
    "duration": 14,
    "start_time": "2022-02-22T07:20:46.436Z"
   },
   {
    "duration": 56,
    "start_time": "2022-02-22T07:20:46.453Z"
   },
   {
    "duration": 38,
    "start_time": "2022-02-22T07:20:46.512Z"
   },
   {
    "duration": 59,
    "start_time": "2022-02-22T07:20:46.552Z"
   },
   {
    "duration": 13,
    "start_time": "2022-02-22T07:20:46.613Z"
   },
   {
    "duration": 14,
    "start_time": "2022-02-22T07:20:46.629Z"
   },
   {
    "duration": 66,
    "start_time": "2022-02-22T07:20:46.645Z"
   },
   {
    "duration": 16,
    "start_time": "2022-02-22T07:20:46.715Z"
   },
   {
    "duration": 115,
    "start_time": "2022-02-22T07:20:46.740Z"
   },
   {
    "duration": 15,
    "start_time": "2022-02-22T07:20:46.860Z"
   },
   {
    "duration": 20,
    "start_time": "2022-02-22T07:20:46.877Z"
   },
   {
    "duration": 17,
    "start_time": "2022-02-22T07:20:46.900Z"
   },
   {
    "duration": 23,
    "start_time": "2022-02-22T07:20:46.919Z"
   },
   {
    "duration": 55,
    "start_time": "2022-02-22T07:20:46.945Z"
   },
   {
    "duration": 39,
    "start_time": "2022-02-22T07:20:47.003Z"
   },
   {
    "duration": 7,
    "start_time": "2022-02-22T07:20:47.046Z"
   },
   {
    "duration": 46,
    "start_time": "2022-02-22T07:20:47.056Z"
   },
   {
    "duration": 19,
    "start_time": "2022-02-22T07:20:47.106Z"
   },
   {
    "duration": 7,
    "start_time": "2022-02-22T07:20:47.127Z"
   },
   {
    "duration": 16,
    "start_time": "2022-02-22T07:20:47.136Z"
   },
   {
    "duration": 48,
    "start_time": "2022-02-22T07:20:47.155Z"
   },
   {
    "duration": 20,
    "start_time": "2022-02-22T07:20:47.210Z"
   },
   {
    "duration": 12,
    "start_time": "2022-02-22T07:20:47.233Z"
   },
   {
    "duration": 5,
    "start_time": "2022-02-22T07:20:47.248Z"
   },
   {
    "duration": 51,
    "start_time": "2022-02-22T07:20:47.256Z"
   },
   {
    "duration": 657,
    "start_time": "2022-02-22T07:20:47.310Z"
   },
   {
    "duration": 10,
    "start_time": "2022-02-22T07:20:47.970Z"
   },
   {
    "duration": 14,
    "start_time": "2022-02-22T07:20:47.994Z"
   },
   {
    "duration": 8,
    "start_time": "2022-02-22T07:20:48.010Z"
   },
   {
    "duration": 19,
    "start_time": "2022-02-22T07:20:48.021Z"
   },
   {
    "duration": 61,
    "start_time": "2022-02-22T07:20:48.042Z"
   },
   {
    "duration": 30,
    "start_time": "2022-02-22T07:20:48.106Z"
   },
   {
    "duration": 54,
    "start_time": "2022-02-22T07:20:48.139Z"
   },
   {
    "duration": 168,
    "start_time": "2022-02-22T07:20:48.197Z"
   },
   {
    "duration": 7,
    "start_time": "2022-02-22T07:20:48.368Z"
   },
   {
    "duration": 23,
    "start_time": "2022-02-22T07:20:48.378Z"
   },
   {
    "duration": 10,
    "start_time": "2022-02-22T07:20:48.403Z"
   },
   {
    "duration": 20,
    "start_time": "2022-02-22T07:20:48.416Z"
   },
   {
    "duration": 85,
    "start_time": "2022-02-22T07:20:48.439Z"
   },
   {
    "duration": 109,
    "start_time": "2022-02-22T07:20:48.528Z"
   },
   {
    "duration": 53,
    "start_time": "2022-02-22T07:20:48.640Z"
   },
   {
    "duration": 40,
    "start_time": "2022-02-22T07:20:48.696Z"
   },
   {
    "duration": 8,
    "start_time": "2022-02-22T07:20:48.746Z"
   },
   {
    "duration": 117,
    "start_time": "2022-02-22T07:20:48.757Z"
   },
   {
    "duration": 32,
    "start_time": "2022-02-22T07:20:48.897Z"
   },
   {
    "duration": 60,
    "start_time": "2022-02-22T07:20:48.933Z"
   },
   {
    "duration": 49,
    "start_time": "2022-02-22T07:20:48.997Z"
   },
   {
    "duration": 67,
    "start_time": "2022-02-22T07:20:49.050Z"
   },
   {
    "duration": 7,
    "start_time": "2022-02-22T07:21:04.374Z"
   },
   {
    "duration": 80,
    "start_time": "2022-02-22T07:21:04.384Z"
   },
   {
    "duration": 43,
    "start_time": "2022-02-22T07:21:04.467Z"
   },
   {
    "duration": 24,
    "start_time": "2022-02-22T07:21:04.514Z"
   },
   {
    "duration": 57,
    "start_time": "2022-02-22T07:21:04.541Z"
   },
   {
    "duration": 14,
    "start_time": "2022-02-22T07:21:04.601Z"
   },
   {
    "duration": 8,
    "start_time": "2022-02-22T07:21:04.618Z"
   },
   {
    "duration": 12,
    "start_time": "2022-02-22T07:21:04.632Z"
   },
   {
    "duration": 13,
    "start_time": "2022-02-22T07:21:04.696Z"
   },
   {
    "duration": 28,
    "start_time": "2022-02-22T07:21:04.712Z"
   },
   {
    "duration": 52,
    "start_time": "2022-02-22T07:21:04.743Z"
   },
   {
    "duration": 31,
    "start_time": "2022-02-22T07:21:04.799Z"
   },
   {
    "duration": 73,
    "start_time": "2022-02-22T07:21:04.833Z"
   },
   {
    "duration": 31,
    "start_time": "2022-02-22T07:21:04.909Z"
   },
   {
    "duration": 13,
    "start_time": "2022-02-22T07:21:04.943Z"
   },
   {
    "duration": 43,
    "start_time": "2022-02-22T07:21:04.959Z"
   },
   {
    "duration": 27,
    "start_time": "2022-02-22T07:21:05.004Z"
   },
   {
    "duration": 11,
    "start_time": "2022-02-22T07:21:05.034Z"
   },
   {
    "duration": 97,
    "start_time": "2022-02-22T07:21:05.047Z"
   },
   {
    "duration": 14,
    "start_time": "2022-02-22T07:21:05.147Z"
   },
   {
    "duration": 31,
    "start_time": "2022-02-22T07:21:05.163Z"
   },
   {
    "duration": 10,
    "start_time": "2022-02-22T07:21:05.197Z"
   },
   {
    "duration": 24,
    "start_time": "2022-02-22T07:21:05.214Z"
   },
   {
    "duration": 54,
    "start_time": "2022-02-22T07:21:05.241Z"
   },
   {
    "duration": 25,
    "start_time": "2022-02-22T07:21:05.299Z"
   },
   {
    "duration": 9,
    "start_time": "2022-02-22T07:21:05.327Z"
   },
   {
    "duration": 24,
    "start_time": "2022-02-22T07:21:05.340Z"
   },
   {
    "duration": 28,
    "start_time": "2022-02-22T07:21:05.393Z"
   },
   {
    "duration": 3,
    "start_time": "2022-02-22T07:21:05.424Z"
   },
   {
    "duration": 14,
    "start_time": "2022-02-22T07:21:05.429Z"
   },
   {
    "duration": 10,
    "start_time": "2022-02-22T07:21:05.445Z"
   },
   {
    "duration": 54,
    "start_time": "2022-02-22T07:21:05.457Z"
   },
   {
    "duration": 13,
    "start_time": "2022-02-22T07:21:05.513Z"
   },
   {
    "duration": 8,
    "start_time": "2022-02-22T07:21:05.529Z"
   },
   {
    "duration": 18,
    "start_time": "2022-02-22T07:21:05.539Z"
   },
   {
    "duration": 630,
    "start_time": "2022-02-22T07:21:05.593Z"
   },
   {
    "duration": 13,
    "start_time": "2022-02-22T07:21:06.226Z"
   },
   {
    "duration": 14,
    "start_time": "2022-02-22T07:21:06.242Z"
   },
   {
    "duration": 37,
    "start_time": "2022-02-22T07:21:06.259Z"
   },
   {
    "duration": 25,
    "start_time": "2022-02-22T07:21:06.299Z"
   },
   {
    "duration": 27,
    "start_time": "2022-02-22T07:21:06.328Z"
   },
   {
    "duration": 59,
    "start_time": "2022-02-22T07:21:06.358Z"
   },
   {
    "duration": 28,
    "start_time": "2022-02-22T07:21:06.420Z"
   },
   {
    "duration": 176,
    "start_time": "2022-02-22T07:21:06.451Z"
   },
   {
    "duration": 9,
    "start_time": "2022-02-22T07:21:06.630Z"
   },
   {
    "duration": 18,
    "start_time": "2022-02-22T07:21:06.641Z"
   },
   {
    "duration": 15,
    "start_time": "2022-02-22T07:21:06.662Z"
   },
   {
    "duration": 34,
    "start_time": "2022-02-22T07:21:06.679Z"
   },
   {
    "duration": 51,
    "start_time": "2022-02-22T07:21:06.716Z"
   },
   {
    "duration": 95,
    "start_time": "2022-02-22T07:21:06.770Z"
   },
   {
    "duration": 53,
    "start_time": "2022-02-22T07:21:06.868Z"
   },
   {
    "duration": 70,
    "start_time": "2022-02-22T07:21:06.923Z"
   },
   {
    "duration": 8,
    "start_time": "2022-02-22T07:21:06.997Z"
   },
   {
    "duration": 106,
    "start_time": "2022-02-22T07:21:07.008Z"
   },
   {
    "duration": 28,
    "start_time": "2022-02-22T07:21:07.117Z"
   },
   {
    "duration": 56,
    "start_time": "2022-02-22T07:21:07.148Z"
   },
   {
    "duration": 53,
    "start_time": "2022-02-22T07:21:07.207Z"
   },
   {
    "duration": 66,
    "start_time": "2022-02-22T07:21:07.263Z"
   },
   {
    "duration": 33,
    "start_time": "2022-02-22T07:21:07.333Z"
   },
   {
    "duration": 37,
    "start_time": "2022-02-22T07:21:07.369Z"
   },
   {
    "duration": 14,
    "start_time": "2022-02-22T07:21:07.409Z"
   },
   {
    "duration": 8,
    "start_time": "2022-02-22T07:21:07.427Z"
   },
   {
    "duration": 65,
    "start_time": "2022-02-22T07:21:07.438Z"
   },
   {
    "duration": 21,
    "start_time": "2022-02-22T07:21:07.505Z"
   },
   {
    "duration": 21,
    "start_time": "2022-02-22T07:21:07.529Z"
   },
   {
    "duration": 60,
    "start_time": "2022-02-22T07:21:07.554Z"
   },
   {
    "duration": 46,
    "start_time": "2022-02-22T07:21:15.228Z"
   },
   {
    "duration": 31,
    "start_time": "2022-02-22T07:21:51.077Z"
   },
   {
    "duration": 52,
    "start_time": "2022-02-22T07:32:32.920Z"
   },
   {
    "duration": 37,
    "start_time": "2022-02-22T07:32:48.528Z"
   },
   {
    "duration": 56,
    "start_time": "2022-02-22T07:49:32.632Z"
   },
   {
    "duration": 10,
    "start_time": "2022-02-22T08:39:29.133Z"
   },
   {
    "duration": 12,
    "start_time": "2022-02-22T08:40:42.901Z"
   },
   {
    "duration": 9,
    "start_time": "2022-02-22T08:43:26.685Z"
   },
   {
    "duration": 24,
    "start_time": "2022-02-22T08:49:14.418Z"
   },
   {
    "duration": 281,
    "start_time": "2022-02-22T08:49:50.859Z"
   },
   {
    "duration": 3,
    "start_time": "2022-02-22T08:50:01.556Z"
   },
   {
    "duration": 132,
    "start_time": "2022-02-22T08:50:01.563Z"
   },
   {
    "duration": 28,
    "start_time": "2022-02-22T08:50:01.698Z"
   },
   {
    "duration": 42,
    "start_time": "2022-02-22T08:50:01.730Z"
   },
   {
    "duration": 15,
    "start_time": "2022-02-22T08:50:01.793Z"
   },
   {
    "duration": 26,
    "start_time": "2022-02-22T08:50:01.810Z"
   },
   {
    "duration": 27,
    "start_time": "2022-02-22T08:50:01.838Z"
   },
   {
    "duration": 36,
    "start_time": "2022-02-22T08:50:01.867Z"
   },
   {
    "duration": 17,
    "start_time": "2022-02-22T08:50:01.908Z"
   },
   {
    "duration": 71,
    "start_time": "2022-02-22T08:50:01.928Z"
   },
   {
    "duration": 46,
    "start_time": "2022-02-22T08:50:02.002Z"
   },
   {
    "duration": 44,
    "start_time": "2022-02-22T08:50:02.050Z"
   },
   {
    "duration": 45,
    "start_time": "2022-02-22T08:50:02.097Z"
   },
   {
    "duration": 23,
    "start_time": "2022-02-22T08:50:02.144Z"
   },
   {
    "duration": 14,
    "start_time": "2022-02-22T08:50:02.194Z"
   },
   {
    "duration": 36,
    "start_time": "2022-02-22T08:50:02.210Z"
   },
   {
    "duration": 46,
    "start_time": "2022-02-22T08:50:02.249Z"
   },
   {
    "duration": 14,
    "start_time": "2022-02-22T08:50:02.297Z"
   },
   {
    "duration": 124,
    "start_time": "2022-02-22T08:50:02.314Z"
   },
   {
    "duration": 16,
    "start_time": "2022-02-22T08:50:02.441Z"
   },
   {
    "duration": 7,
    "start_time": "2022-02-22T08:50:02.459Z"
   },
   {
    "duration": 34,
    "start_time": "2022-02-22T08:50:02.493Z"
   },
   {
    "duration": 32,
    "start_time": "2022-02-22T08:50:02.530Z"
   },
   {
    "duration": 18,
    "start_time": "2022-02-22T08:50:02.568Z"
   },
   {
    "duration": 28,
    "start_time": "2022-02-22T08:50:02.590Z"
   },
   {
    "duration": 22,
    "start_time": "2022-02-22T08:50:02.621Z"
   },
   {
    "duration": 110,
    "start_time": "2022-02-22T08:50:02.646Z"
   },
   {
    "duration": 59,
    "start_time": "2022-02-22T08:50:02.759Z"
   },
   {
    "duration": 3,
    "start_time": "2022-02-22T08:50:02.821Z"
   },
   {
    "duration": 23,
    "start_time": "2022-02-22T08:50:02.827Z"
   },
   {
    "duration": 17,
    "start_time": "2022-02-22T08:50:02.853Z"
   },
   {
    "duration": 38,
    "start_time": "2022-02-22T08:50:02.873Z"
   },
   {
    "duration": 25,
    "start_time": "2022-02-22T08:50:02.915Z"
   },
   {
    "duration": 13,
    "start_time": "2022-02-22T08:50:02.943Z"
   },
   {
    "duration": 20,
    "start_time": "2022-02-22T08:50:02.960Z"
   },
   {
    "duration": 835,
    "start_time": "2022-02-22T08:50:02.983Z"
   },
   {
    "duration": 11,
    "start_time": "2022-02-22T08:50:03.820Z"
   },
   {
    "duration": 21,
    "start_time": "2022-02-22T08:50:03.834Z"
   },
   {
    "duration": 19,
    "start_time": "2022-02-22T08:50:03.858Z"
   },
   {
    "duration": 20,
    "start_time": "2022-02-22T08:50:03.895Z"
   },
   {
    "duration": 29,
    "start_time": "2022-02-22T08:50:03.917Z"
   },
   {
    "duration": 65,
    "start_time": "2022-02-22T08:50:03.949Z"
   },
   {
    "duration": 30,
    "start_time": "2022-02-22T08:50:04.017Z"
   },
   {
    "duration": 179,
    "start_time": "2022-02-22T08:50:04.050Z"
   },
   {
    "duration": 10,
    "start_time": "2022-02-22T08:50:04.232Z"
   },
   {
    "duration": 15,
    "start_time": "2022-02-22T08:50:04.245Z"
   },
   {
    "duration": 33,
    "start_time": "2022-02-22T08:50:04.262Z"
   },
   {
    "duration": 23,
    "start_time": "2022-02-22T08:50:04.298Z"
   },
   {
    "duration": 42,
    "start_time": "2022-02-22T08:50:04.323Z"
   },
   {
    "duration": 100,
    "start_time": "2022-02-22T08:50:04.368Z"
   },
   {
    "duration": 44,
    "start_time": "2022-02-22T08:50:04.471Z"
   },
   {
    "duration": 43,
    "start_time": "2022-02-22T08:50:04.517Z"
   },
   {
    "duration": 9,
    "start_time": "2022-02-22T08:50:04.596Z"
   },
   {
    "duration": 103,
    "start_time": "2022-02-22T08:50:04.608Z"
   },
   {
    "duration": 23,
    "start_time": "2022-02-22T08:50:04.713Z"
   },
   {
    "duration": 42,
    "start_time": "2022-02-22T08:50:04.738Z"
   },
   {
    "duration": 41,
    "start_time": "2022-02-22T08:50:04.782Z"
   },
   {
    "duration": 32,
    "start_time": "2022-02-22T08:50:04.826Z"
   },
   {
    "duration": 50,
    "start_time": "2022-02-22T08:50:04.861Z"
   },
   {
    "duration": 16,
    "start_time": "2022-02-22T08:50:04.914Z"
   },
   {
    "duration": 60,
    "start_time": "2022-02-22T08:50:04.933Z"
   },
   {
    "duration": 9,
    "start_time": "2022-02-22T08:50:04.996Z"
   },
   {
    "duration": 30,
    "start_time": "2022-02-22T08:50:05.007Z"
   },
   {
    "duration": 26,
    "start_time": "2022-02-22T08:50:05.039Z"
   },
   {
    "duration": 19,
    "start_time": "2022-02-22T08:50:05.094Z"
   },
   {
    "duration": 23,
    "start_time": "2022-02-22T08:50:05.115Z"
   },
   {
    "duration": 11,
    "start_time": "2022-02-22T08:50:05.141Z"
   },
   {
    "duration": 10,
    "start_time": "2022-02-22T08:52:54.008Z"
   },
   {
    "duration": 267,
    "start_time": "2022-02-22T09:03:14.492Z"
   },
   {
    "duration": 251,
    "start_time": "2022-02-22T09:05:15.028Z"
   },
   {
    "duration": 5,
    "start_time": "2022-02-22T09:05:24.017Z"
   },
   {
    "duration": 70,
    "start_time": "2022-02-22T09:05:24.025Z"
   },
   {
    "duration": 32,
    "start_time": "2022-02-22T09:05:24.099Z"
   },
   {
    "duration": 19,
    "start_time": "2022-02-22T09:05:24.134Z"
   },
   {
    "duration": 44,
    "start_time": "2022-02-22T09:05:24.156Z"
   },
   {
    "duration": 12,
    "start_time": "2022-02-22T09:05:24.204Z"
   },
   {
    "duration": 9,
    "start_time": "2022-02-22T09:05:24.220Z"
   },
   {
    "duration": 14,
    "start_time": "2022-02-22T09:05:24.232Z"
   },
   {
    "duration": 12,
    "start_time": "2022-02-22T09:05:24.293Z"
   },
   {
    "duration": 20,
    "start_time": "2022-02-22T09:05:24.308Z"
   },
   {
    "duration": 64,
    "start_time": "2022-02-22T09:05:24.330Z"
   },
   {
    "duration": 21,
    "start_time": "2022-02-22T09:05:24.397Z"
   },
   {
    "duration": 35,
    "start_time": "2022-02-22T09:05:24.421Z"
   },
   {
    "duration": 50,
    "start_time": "2022-02-22T09:05:24.459Z"
   },
   {
    "duration": 15,
    "start_time": "2022-02-22T09:05:24.512Z"
   },
   {
    "duration": 11,
    "start_time": "2022-02-22T09:05:24.530Z"
   },
   {
    "duration": 65,
    "start_time": "2022-02-22T09:05:24.544Z"
   },
   {
    "duration": 21,
    "start_time": "2022-02-22T09:05:24.612Z"
   },
   {
    "duration": 81,
    "start_time": "2022-02-22T09:05:24.639Z"
   },
   {
    "duration": 13,
    "start_time": "2022-02-22T09:05:24.723Z"
   },
   {
    "duration": 7,
    "start_time": "2022-02-22T09:05:24.739Z"
   },
   {
    "duration": 48,
    "start_time": "2022-02-22T09:05:24.748Z"
   },
   {
    "duration": 24,
    "start_time": "2022-02-22T09:05:24.798Z"
   },
   {
    "duration": 13,
    "start_time": "2022-02-22T09:05:24.825Z"
   },
   {
    "duration": 60,
    "start_time": "2022-02-22T09:05:24.841Z"
   },
   {
    "duration": 8,
    "start_time": "2022-02-22T09:05:24.904Z"
   },
   {
    "duration": 26,
    "start_time": "2022-02-22T09:05:24.915Z"
   },
   {
    "duration": 22,
    "start_time": "2022-02-22T09:05:24.944Z"
   },
   {
    "duration": 3,
    "start_time": "2022-02-22T09:05:24.995Z"
   },
   {
    "duration": 24,
    "start_time": "2022-02-22T09:05:25.001Z"
   },
   {
    "duration": 10,
    "start_time": "2022-02-22T09:05:25.027Z"
   },
   {
    "duration": 18,
    "start_time": "2022-02-22T09:05:25.039Z"
   },
   {
    "duration": 42,
    "start_time": "2022-02-22T09:05:25.060Z"
   },
   {
    "duration": 7,
    "start_time": "2022-02-22T09:05:25.105Z"
   },
   {
    "duration": 18,
    "start_time": "2022-02-22T09:05:25.114Z"
   },
   {
    "duration": 672,
    "start_time": "2022-02-22T09:05:25.135Z"
   },
   {
    "duration": 10,
    "start_time": "2022-02-22T09:05:25.809Z"
   },
   {
    "duration": 14,
    "start_time": "2022-02-22T09:05:25.822Z"
   },
   {
    "duration": 9,
    "start_time": "2022-02-22T09:05:25.838Z"
   },
   {
    "duration": 56,
    "start_time": "2022-02-22T09:05:25.849Z"
   },
   {
    "duration": 29,
    "start_time": "2022-02-22T09:05:25.907Z"
   },
   {
    "duration": 66,
    "start_time": "2022-02-22T09:05:25.938Z"
   },
   {
    "duration": 29,
    "start_time": "2022-02-22T09:05:26.007Z"
   },
   {
    "duration": 138,
    "start_time": "2022-02-22T09:05:26.038Z"
   },
   {
    "duration": 21,
    "start_time": "2022-02-22T09:05:26.178Z"
   },
   {
    "duration": 19,
    "start_time": "2022-02-22T09:05:26.201Z"
   },
   {
    "duration": 11,
    "start_time": "2022-02-22T09:05:26.223Z"
   },
   {
    "duration": 22,
    "start_time": "2022-02-22T09:05:26.236Z"
   },
   {
    "duration": 58,
    "start_time": "2022-02-22T09:05:26.261Z"
   },
   {
    "duration": 92,
    "start_time": "2022-02-22T09:05:26.322Z"
   },
   {
    "duration": 32,
    "start_time": "2022-02-22T09:05:26.417Z"
   },
   {
    "duration": 65,
    "start_time": "2022-02-22T09:05:26.452Z"
   },
   {
    "duration": 9,
    "start_time": "2022-02-22T09:05:26.520Z"
   },
   {
    "duration": 116,
    "start_time": "2022-02-22T09:05:26.532Z"
   },
   {
    "duration": 43,
    "start_time": "2022-02-22T09:05:26.654Z"
   },
   {
    "duration": 31,
    "start_time": "2022-02-22T09:05:26.700Z"
   },
   {
    "duration": 63,
    "start_time": "2022-02-22T09:05:26.734Z"
   },
   {
    "duration": 32,
    "start_time": "2022-02-22T09:05:26.800Z"
   },
   {
    "duration": 20,
    "start_time": "2022-02-22T09:05:26.835Z"
   },
   {
    "duration": 38,
    "start_time": "2022-02-22T09:05:26.858Z"
   },
   {
    "duration": 11,
    "start_time": "2022-02-22T09:05:26.899Z"
   },
   {
    "duration": 16,
    "start_time": "2022-02-22T09:05:26.913Z"
   },
   {
    "duration": 48,
    "start_time": "2022-02-22T09:05:26.934Z"
   },
   {
    "duration": 28,
    "start_time": "2022-02-22T09:05:26.995Z"
   },
   {
    "duration": 34,
    "start_time": "2022-02-22T09:05:27.026Z"
   },
   {
    "duration": 44,
    "start_time": "2022-02-22T09:05:27.064Z"
   },
   {
    "duration": 12,
    "start_time": "2022-02-22T09:05:27.111Z"
   },
   {
    "duration": 773,
    "start_time": "2022-02-22T09:06:22.090Z"
   },
   {
    "duration": 67,
    "start_time": "2022-02-22T09:06:22.866Z"
   },
   {
    "duration": 29,
    "start_time": "2022-02-22T09:06:22.936Z"
   },
   {
    "duration": 37,
    "start_time": "2022-02-22T09:06:22.969Z"
   },
   {
    "duration": 16,
    "start_time": "2022-02-22T09:06:23.009Z"
   },
   {
    "duration": 14,
    "start_time": "2022-02-22T09:06:23.027Z"
   },
   {
    "duration": 50,
    "start_time": "2022-02-22T09:06:23.044Z"
   },
   {
    "duration": 13,
    "start_time": "2022-02-22T09:06:23.098Z"
   },
   {
    "duration": 14,
    "start_time": "2022-02-22T09:06:23.117Z"
   },
   {
    "duration": 63,
    "start_time": "2022-02-22T09:06:23.136Z"
   },
   {
    "duration": 10,
    "start_time": "2022-02-22T09:06:23.202Z"
   },
   {
    "duration": 24,
    "start_time": "2022-02-22T09:06:23.215Z"
   },
   {
    "duration": 64,
    "start_time": "2022-02-22T09:06:23.241Z"
   },
   {
    "duration": 21,
    "start_time": "2022-02-22T09:06:23.308Z"
   },
   {
    "duration": 14,
    "start_time": "2022-02-22T09:06:23.331Z"
   },
   {
    "duration": 47,
    "start_time": "2022-02-22T09:06:23.348Z"
   },
   {
    "duration": 29,
    "start_time": "2022-02-22T09:06:23.397Z"
   },
   {
    "duration": 15,
    "start_time": "2022-02-22T09:06:23.428Z"
   },
   {
    "duration": 99,
    "start_time": "2022-02-22T09:06:23.446Z"
   },
   {
    "duration": 12,
    "start_time": "2022-02-22T09:06:23.548Z"
   },
   {
    "duration": 7,
    "start_time": "2022-02-22T09:06:23.562Z"
   },
   {
    "duration": 10,
    "start_time": "2022-02-22T09:06:23.595Z"
   },
   {
    "duration": 22,
    "start_time": "2022-02-22T09:06:23.607Z"
   },
   {
    "duration": 10,
    "start_time": "2022-02-22T09:06:23.632Z"
   },
   {
    "duration": 25,
    "start_time": "2022-02-22T09:06:23.693Z"
   },
   {
    "duration": 6,
    "start_time": "2022-02-22T09:06:23.721Z"
   },
   {
    "duration": 16,
    "start_time": "2022-02-22T09:06:23.735Z"
   },
   {
    "duration": 57,
    "start_time": "2022-02-22T09:06:23.754Z"
   },
   {
    "duration": 7,
    "start_time": "2022-02-22T09:06:23.813Z"
   },
   {
    "duration": 33,
    "start_time": "2022-02-22T09:06:23.823Z"
   },
   {
    "duration": 19,
    "start_time": "2022-02-22T09:06:23.858Z"
   },
   {
    "duration": 26,
    "start_time": "2022-02-22T09:06:23.880Z"
   },
   {
    "duration": 20,
    "start_time": "2022-02-22T09:06:23.909Z"
   },
   {
    "duration": 5,
    "start_time": "2022-02-22T09:06:23.931Z"
   },
   {
    "duration": 17,
    "start_time": "2022-02-22T09:06:23.938Z"
   },
   {
    "duration": 663,
    "start_time": "2022-02-22T09:06:23.957Z"
   },
   {
    "duration": 12,
    "start_time": "2022-02-22T09:06:24.623Z"
   },
   {
    "duration": 22,
    "start_time": "2022-02-22T09:06:24.637Z"
   },
   {
    "duration": 33,
    "start_time": "2022-02-22T09:06:24.661Z"
   },
   {
    "duration": 28,
    "start_time": "2022-02-22T09:06:24.697Z"
   },
   {
    "duration": 32,
    "start_time": "2022-02-22T09:06:24.728Z"
   },
   {
    "duration": 57,
    "start_time": "2022-02-22T09:06:24.763Z"
   },
   {
    "duration": 29,
    "start_time": "2022-02-22T09:06:24.823Z"
   },
   {
    "duration": 127,
    "start_time": "2022-02-22T09:06:24.855Z"
   },
   {
    "duration": 13,
    "start_time": "2022-02-22T09:06:24.985Z"
   },
   {
    "duration": 24,
    "start_time": "2022-02-22T09:06:25.000Z"
   },
   {
    "duration": 23,
    "start_time": "2022-02-22T09:06:25.027Z"
   },
   {
    "duration": 41,
    "start_time": "2022-02-22T09:06:25.053Z"
   },
   {
    "duration": 31,
    "start_time": "2022-02-22T09:06:25.097Z"
   },
   {
    "duration": 93,
    "start_time": "2022-02-22T09:06:25.131Z"
   },
   {
    "duration": 27,
    "start_time": "2022-02-22T09:06:25.227Z"
   },
   {
    "duration": 66,
    "start_time": "2022-02-22T09:06:25.257Z"
   },
   {
    "duration": 10,
    "start_time": "2022-02-22T09:06:25.326Z"
   },
   {
    "duration": 154,
    "start_time": "2022-02-22T09:06:25.340Z"
   },
   {
    "duration": 31,
    "start_time": "2022-02-22T09:06:25.497Z"
   },
   {
    "duration": 62,
    "start_time": "2022-02-22T09:06:25.531Z"
   },
   {
    "duration": 42,
    "start_time": "2022-02-22T09:06:25.597Z"
   },
   {
    "duration": 29,
    "start_time": "2022-02-22T09:06:25.642Z"
   },
   {
    "duration": 455,
    "start_time": "2022-02-22T09:06:25.693Z"
   },
   {
    "duration": 31231,
    "start_time": "2022-02-22T09:05:54.920Z"
   },
   {
    "duration": 31226,
    "start_time": "2022-02-22T09:05:54.926Z"
   },
   {
    "duration": 31220,
    "start_time": "2022-02-22T09:05:54.933Z"
   },
   {
    "duration": 31216,
    "start_time": "2022-02-22T09:05:54.938Z"
   },
   {
    "duration": 31211,
    "start_time": "2022-02-22T09:05:54.945Z"
   },
   {
    "duration": 31206,
    "start_time": "2022-02-22T09:05:54.951Z"
   },
   {
    "duration": 31202,
    "start_time": "2022-02-22T09:05:54.957Z"
   },
   {
    "duration": 31198,
    "start_time": "2022-02-22T09:05:54.962Z"
   },
   {
    "duration": 294,
    "start_time": "2022-02-22T09:24:09.451Z"
   },
   {
    "duration": 818,
    "start_time": "2022-02-22T09:24:27.356Z"
   },
   {
    "duration": 69,
    "start_time": "2022-02-22T09:24:28.177Z"
   },
   {
    "duration": 48,
    "start_time": "2022-02-22T09:24:28.249Z"
   },
   {
    "duration": 16,
    "start_time": "2022-02-22T09:24:28.300Z"
   },
   {
    "duration": 12,
    "start_time": "2022-02-22T09:24:28.319Z"
   },
   {
    "duration": 12,
    "start_time": "2022-02-22T09:24:28.334Z"
   },
   {
    "duration": 46,
    "start_time": "2022-02-22T09:24:28.350Z"
   },
   {
    "duration": 10,
    "start_time": "2022-02-22T09:24:28.400Z"
   },
   {
    "duration": 11,
    "start_time": "2022-02-22T09:24:28.413Z"
   },
   {
    "duration": 19,
    "start_time": "2022-02-22T09:24:28.426Z"
   },
   {
    "duration": 55,
    "start_time": "2022-02-22T09:24:28.448Z"
   },
   {
    "duration": 22,
    "start_time": "2022-02-22T09:24:28.505Z"
   },
   {
    "duration": 65,
    "start_time": "2022-02-22T09:24:28.530Z"
   },
   {
    "duration": 22,
    "start_time": "2022-02-22T09:24:28.598Z"
   },
   {
    "duration": 15,
    "start_time": "2022-02-22T09:24:28.623Z"
   },
   {
    "duration": 10,
    "start_time": "2022-02-22T09:24:28.640Z"
   },
   {
    "duration": 71,
    "start_time": "2022-02-22T09:24:28.653Z"
   },
   {
    "duration": 15,
    "start_time": "2022-02-22T09:24:28.726Z"
   },
   {
    "duration": 97,
    "start_time": "2022-02-22T09:24:28.744Z"
   },
   {
    "duration": 12,
    "start_time": "2022-02-22T09:24:28.843Z"
   },
   {
    "duration": 6,
    "start_time": "2022-02-22T09:24:28.857Z"
   },
   {
    "duration": 12,
    "start_time": "2022-02-22T09:24:28.893Z"
   },
   {
    "duration": 23,
    "start_time": "2022-02-22T09:24:28.912Z"
   },
   {
    "duration": 12,
    "start_time": "2022-02-22T09:24:28.939Z"
   },
   {
    "duration": 59,
    "start_time": "2022-02-22T09:24:28.954Z"
   },
   {
    "duration": 6,
    "start_time": "2022-02-22T09:24:29.015Z"
   },
   {
    "duration": 16,
    "start_time": "2022-02-22T09:24:29.024Z"
   },
   {
    "duration": 51,
    "start_time": "2022-02-22T09:24:29.043Z"
   },
   {
    "duration": 3,
    "start_time": "2022-02-22T09:24:29.096Z"
   },
   {
    "duration": 20,
    "start_time": "2022-02-22T09:24:29.101Z"
   },
   {
    "duration": 14,
    "start_time": "2022-02-22T09:24:29.124Z"
   },
   {
    "duration": 55,
    "start_time": "2022-02-22T09:24:29.142Z"
   },
   {
    "duration": 14,
    "start_time": "2022-02-22T09:24:29.201Z"
   },
   {
    "duration": 7,
    "start_time": "2022-02-22T09:24:29.217Z"
   },
   {
    "duration": 17,
    "start_time": "2022-02-22T09:24:29.226Z"
   },
   {
    "duration": 624,
    "start_time": "2022-02-22T09:24:29.246Z"
   },
   {
    "duration": 24,
    "start_time": "2022-02-22T09:24:29.873Z"
   },
   {
    "duration": 15,
    "start_time": "2022-02-22T09:24:29.901Z"
   },
   {
    "duration": 6,
    "start_time": "2022-02-22T09:24:29.920Z"
   },
   {
    "duration": 29,
    "start_time": "2022-02-22T09:24:29.929Z"
   },
   {
    "duration": 62,
    "start_time": "2022-02-22T09:24:29.961Z"
   },
   {
    "duration": 33,
    "start_time": "2022-02-22T09:24:30.026Z"
   },
   {
    "duration": 52,
    "start_time": "2022-02-22T09:24:30.062Z"
   },
   {
    "duration": 128,
    "start_time": "2022-02-22T09:24:30.116Z"
   },
   {
    "duration": 8,
    "start_time": "2022-02-22T09:24:30.247Z"
   },
   {
    "duration": 21,
    "start_time": "2022-02-22T09:24:30.258Z"
   },
   {
    "duration": 18,
    "start_time": "2022-02-22T09:24:30.282Z"
   },
   {
    "duration": 23,
    "start_time": "2022-02-22T09:24:30.303Z"
   },
   {
    "duration": 51,
    "start_time": "2022-02-22T09:24:30.329Z"
   },
   {
    "duration": 83,
    "start_time": "2022-02-22T09:24:30.382Z"
   },
   {
    "duration": 45,
    "start_time": "2022-02-22T09:24:30.468Z"
   },
   {
    "duration": 38,
    "start_time": "2022-02-22T09:24:30.515Z"
   },
   {
    "duration": 47,
    "start_time": "2022-02-22T09:24:30.556Z"
   },
   {
    "duration": 118,
    "start_time": "2022-02-22T09:24:30.606Z"
   },
   {
    "duration": 26,
    "start_time": "2022-02-22T09:24:30.727Z"
   },
   {
    "duration": 49,
    "start_time": "2022-02-22T09:24:30.756Z"
   },
   {
    "duration": 33,
    "start_time": "2022-02-22T09:24:30.807Z"
   },
   {
    "duration": 60,
    "start_time": "2022-02-22T09:24:30.843Z"
   },
   {
    "duration": 337,
    "start_time": "2022-02-22T09:24:30.905Z"
   },
   {
    "duration": 31222,
    "start_time": "2022-02-22T09:24:00.022Z"
   },
   {
    "duration": 31216,
    "start_time": "2022-02-22T09:24:00.030Z"
   },
   {
    "duration": 31209,
    "start_time": "2022-02-22T09:24:00.038Z"
   },
   {
    "duration": 31205,
    "start_time": "2022-02-22T09:24:00.044Z"
   },
   {
    "duration": 31199,
    "start_time": "2022-02-22T09:24:00.051Z"
   },
   {
    "duration": 31193,
    "start_time": "2022-02-22T09:24:00.059Z"
   },
   {
    "duration": 31187,
    "start_time": "2022-02-22T09:24:00.066Z"
   },
   {
    "duration": 31181,
    "start_time": "2022-02-22T09:24:00.073Z"
   },
   {
    "duration": 31158,
    "start_time": "2022-02-22T09:24:00.098Z"
   },
   {
    "duration": 240,
    "start_time": "2022-02-22T09:24:37.280Z"
   },
   {
    "duration": 3,
    "start_time": "2022-02-22T09:25:37.516Z"
   },
   {
    "duration": 83,
    "start_time": "2022-02-22T09:25:37.523Z"
   },
   {
    "duration": 29,
    "start_time": "2022-02-22T09:25:37.610Z"
   },
   {
    "duration": 53,
    "start_time": "2022-02-22T09:25:37.643Z"
   },
   {
    "duration": 19,
    "start_time": "2022-02-22T09:25:37.700Z"
   },
   {
    "duration": 13,
    "start_time": "2022-02-22T09:25:37.723Z"
   },
   {
    "duration": 6,
    "start_time": "2022-02-22T09:25:37.740Z"
   },
   {
    "duration": 11,
    "start_time": "2022-02-22T09:25:37.795Z"
   },
   {
    "duration": 14,
    "start_time": "2022-02-22T09:25:37.808Z"
   },
   {
    "duration": 19,
    "start_time": "2022-02-22T09:25:37.824Z"
   },
   {
    "duration": 12,
    "start_time": "2022-02-22T09:25:37.894Z"
   },
   {
    "duration": 21,
    "start_time": "2022-02-22T09:25:37.908Z"
   },
   {
    "duration": 67,
    "start_time": "2022-02-22T09:25:37.932Z"
   },
   {
    "duration": 32,
    "start_time": "2022-02-22T09:25:38.003Z"
   },
   {
    "duration": 17,
    "start_time": "2022-02-22T09:25:38.038Z"
   },
   {
    "duration": 49,
    "start_time": "2022-02-22T09:25:38.058Z"
   },
   {
    "duration": 41,
    "start_time": "2022-02-22T09:25:38.110Z"
   },
   {
    "duration": 47,
    "start_time": "2022-02-22T09:25:38.154Z"
   },
   {
    "duration": 104,
    "start_time": "2022-02-22T09:25:38.209Z"
   },
   {
    "duration": 18,
    "start_time": "2022-02-22T09:25:38.317Z"
   },
   {
    "duration": 7,
    "start_time": "2022-02-22T09:25:38.338Z"
   },
   {
    "duration": 17,
    "start_time": "2022-02-22T09:25:38.348Z"
   },
   {
    "duration": 48,
    "start_time": "2022-02-22T09:25:38.367Z"
   },
   {
    "duration": 11,
    "start_time": "2022-02-22T09:25:38.417Z"
   },
   {
    "duration": 24,
    "start_time": "2022-02-22T09:25:38.431Z"
   },
   {
    "duration": 6,
    "start_time": "2022-02-22T09:25:38.494Z"
   },
   {
    "duration": 14,
    "start_time": "2022-02-22T09:25:38.502Z"
   },
   {
    "duration": 19,
    "start_time": "2022-02-22T09:25:38.518Z"
   },
   {
    "duration": 5,
    "start_time": "2022-02-22T09:25:38.539Z"
   },
   {
    "duration": 51,
    "start_time": "2022-02-22T09:25:38.546Z"
   },
   {
    "duration": 12,
    "start_time": "2022-02-22T09:25:38.599Z"
   },
   {
    "duration": 16,
    "start_time": "2022-02-22T09:25:38.613Z"
   },
   {
    "duration": 10,
    "start_time": "2022-02-22T09:25:38.631Z"
   },
   {
    "duration": 4,
    "start_time": "2022-02-22T09:25:38.643Z"
   },
   {
    "duration": 11,
    "start_time": "2022-02-22T09:25:38.693Z"
   },
   {
    "duration": 781,
    "start_time": "2022-02-22T09:25:38.707Z"
   },
   {
    "duration": 11,
    "start_time": "2022-02-22T09:25:39.490Z"
   },
   {
    "duration": 14,
    "start_time": "2022-02-22T09:25:39.503Z"
   },
   {
    "duration": 5,
    "start_time": "2022-02-22T09:25:39.519Z"
   },
   {
    "duration": 68,
    "start_time": "2022-02-22T09:25:39.527Z"
   },
   {
    "duration": 28,
    "start_time": "2022-02-22T09:25:39.598Z"
   },
   {
    "duration": 31,
    "start_time": "2022-02-22T09:25:39.629Z"
   },
   {
    "duration": 70,
    "start_time": "2022-02-22T09:25:39.662Z"
   },
   {
    "duration": 129,
    "start_time": "2022-02-22T09:25:39.734Z"
   },
   {
    "duration": 9,
    "start_time": "2022-02-22T09:25:39.865Z"
   },
   {
    "duration": 9,
    "start_time": "2022-02-22T09:25:39.895Z"
   },
   {
    "duration": 17,
    "start_time": "2022-02-22T09:25:39.906Z"
   },
   {
    "duration": 22,
    "start_time": "2022-02-22T09:25:39.926Z"
   },
   {
    "duration": 69,
    "start_time": "2022-02-22T09:25:39.951Z"
   },
   {
    "duration": 93,
    "start_time": "2022-02-22T09:25:40.023Z"
   },
   {
    "duration": 30,
    "start_time": "2022-02-22T09:25:40.119Z"
   },
   {
    "duration": 62,
    "start_time": "2022-02-22T09:25:40.152Z"
   },
   {
    "duration": 10,
    "start_time": "2022-02-22T09:25:40.218Z"
   },
   {
    "duration": 124,
    "start_time": "2022-02-22T09:25:40.231Z"
   },
   {
    "duration": 32,
    "start_time": "2022-02-22T09:25:40.363Z"
   },
   {
    "duration": 28,
    "start_time": "2022-02-22T09:25:40.398Z"
   },
   {
    "duration": 30,
    "start_time": "2022-02-22T09:25:40.429Z"
   },
   {
    "duration": 56,
    "start_time": "2022-02-22T09:25:40.461Z"
   },
   {
    "duration": 21,
    "start_time": "2022-02-22T09:25:40.520Z"
   },
   {
    "duration": 56,
    "start_time": "2022-02-22T09:25:40.544Z"
   },
   {
    "duration": 15,
    "start_time": "2022-02-22T09:25:40.603Z"
   },
   {
    "duration": 12,
    "start_time": "2022-02-22T09:25:40.620Z"
   },
   {
    "duration": 28,
    "start_time": "2022-02-22T09:25:40.634Z"
   },
   {
    "duration": 45,
    "start_time": "2022-02-22T09:25:40.664Z"
   },
   {
    "duration": 22,
    "start_time": "2022-02-22T09:25:40.711Z"
   },
   {
    "duration": 31,
    "start_time": "2022-02-22T09:25:40.736Z"
   },
   {
    "duration": 30,
    "start_time": "2022-02-22T09:25:40.769Z"
   },
   {
    "duration": 14,
    "start_time": "2022-02-22T09:26:04.808Z"
   },
   {
    "duration": 12,
    "start_time": "2022-02-22T09:26:56.303Z"
   },
   {
    "duration": 14,
    "start_time": "2022-02-22T09:27:09.327Z"
   },
   {
    "duration": 11,
    "start_time": "2022-02-22T09:27:47.823Z"
   },
   {
    "duration": 8,
    "start_time": "2022-02-22T09:29:06.791Z"
   },
   {
    "duration": 10,
    "start_time": "2022-02-22T09:29:18.639Z"
   },
   {
    "duration": 3315,
    "start_time": "2022-02-22T09:30:32.503Z"
   },
   {
    "duration": 274,
    "start_time": "2022-02-22T09:32:19.727Z"
   },
   {
    "duration": 4,
    "start_time": "2022-02-22T09:37:46.852Z"
   },
   {
    "duration": 75,
    "start_time": "2022-02-22T09:37:46.859Z"
   },
   {
    "duration": 20,
    "start_time": "2022-02-22T09:37:46.937Z"
   },
   {
    "duration": 51,
    "start_time": "2022-02-22T09:37:46.960Z"
   },
   {
    "duration": 15,
    "start_time": "2022-02-22T09:37:47.014Z"
   },
   {
    "duration": 11,
    "start_time": "2022-02-22T09:37:47.031Z"
   },
   {
    "duration": 53,
    "start_time": "2022-02-22T09:37:47.047Z"
   },
   {
    "duration": 19,
    "start_time": "2022-02-22T09:37:47.103Z"
   },
   {
    "duration": 14,
    "start_time": "2022-02-22T09:37:47.124Z"
   },
   {
    "duration": 69,
    "start_time": "2022-02-22T09:37:47.142Z"
   },
   {
    "duration": 13,
    "start_time": "2022-02-22T09:37:47.214Z"
   },
   {
    "duration": 28,
    "start_time": "2022-02-22T09:37:47.230Z"
   },
   {
    "duration": 61,
    "start_time": "2022-02-22T09:37:47.261Z"
   },
   {
    "duration": 27,
    "start_time": "2022-02-22T09:37:47.326Z"
   },
   {
    "duration": 42,
    "start_time": "2022-02-22T09:37:47.356Z"
   },
   {
    "duration": 14,
    "start_time": "2022-02-22T09:37:47.402Z"
   },
   {
    "duration": 31,
    "start_time": "2022-02-22T09:37:47.419Z"
   },
   {
    "duration": 45,
    "start_time": "2022-02-22T09:37:47.453Z"
   },
   {
    "duration": 64,
    "start_time": "2022-02-22T09:37:47.506Z"
   },
   {
    "duration": 32,
    "start_time": "2022-02-22T09:37:47.575Z"
   },
   {
    "duration": 12,
    "start_time": "2022-02-22T09:37:47.610Z"
   },
   {
    "duration": 17,
    "start_time": "2022-02-22T09:37:47.625Z"
   },
   {
    "duration": 61,
    "start_time": "2022-02-22T09:37:47.645Z"
   },
   {
    "duration": 22,
    "start_time": "2022-02-22T09:37:47.709Z"
   },
   {
    "duration": 27,
    "start_time": "2022-02-22T09:37:47.734Z"
   },
   {
    "duration": 31,
    "start_time": "2022-02-22T09:37:47.764Z"
   },
   {
    "duration": 16,
    "start_time": "2022-02-22T09:37:47.798Z"
   },
   {
    "duration": 20,
    "start_time": "2022-02-22T09:37:47.816Z"
   },
   {
    "duration": 4,
    "start_time": "2022-02-22T09:37:47.839Z"
   },
   {
    "duration": 57,
    "start_time": "2022-02-22T09:37:47.846Z"
   },
   {
    "duration": 12,
    "start_time": "2022-02-22T09:37:47.905Z"
   },
   {
    "duration": 23,
    "start_time": "2022-02-22T09:37:47.920Z"
   },
   {
    "duration": 11,
    "start_time": "2022-02-22T09:37:47.946Z"
   },
   {
    "duration": 4,
    "start_time": "2022-02-22T09:37:47.995Z"
   },
   {
    "duration": 17,
    "start_time": "2022-02-22T09:37:48.001Z"
   },
   {
    "duration": 884,
    "start_time": "2022-02-22T09:37:48.020Z"
   },
   {
    "duration": 11,
    "start_time": "2022-02-22T09:37:48.907Z"
   },
   {
    "duration": 20,
    "start_time": "2022-02-22T09:37:48.921Z"
   },
   {
    "duration": 8,
    "start_time": "2022-02-22T09:37:48.944Z"
   },
   {
    "duration": 50,
    "start_time": "2022-02-22T09:37:48.955Z"
   },
   {
    "duration": 32,
    "start_time": "2022-02-22T09:37:49.008Z"
   },
   {
    "duration": 88,
    "start_time": "2022-02-22T09:37:49.058Z"
   },
   {
    "duration": 150,
    "start_time": "2022-02-22T09:37:49.151Z"
   },
   {
    "duration": 122,
    "start_time": "2022-02-22T09:37:49.305Z"
   },
   {
    "duration": 8,
    "start_time": "2022-02-22T09:37:49.430Z"
   },
   {
    "duration": 12,
    "start_time": "2022-02-22T09:37:49.440Z"
   },
   {
    "duration": 10,
    "start_time": "2022-02-22T09:37:49.455Z"
   },
   {
    "duration": 45,
    "start_time": "2022-02-22T09:37:49.468Z"
   },
   {
    "duration": 32,
    "start_time": "2022-02-22T09:37:49.515Z"
   },
   {
    "duration": 97,
    "start_time": "2022-02-22T09:37:49.550Z"
   },
   {
    "duration": 54,
    "start_time": "2022-02-22T09:37:49.649Z"
   },
   {
    "duration": 46,
    "start_time": "2022-02-22T09:37:49.706Z"
   },
   {
    "duration": 9,
    "start_time": "2022-02-22T09:37:49.754Z"
   },
   {
    "duration": 115,
    "start_time": "2022-02-22T09:37:49.794Z"
   },
   {
    "duration": 37,
    "start_time": "2022-02-22T09:37:49.920Z"
   },
   {
    "duration": 64,
    "start_time": "2022-02-22T09:37:49.962Z"
   },
   {
    "duration": 44,
    "start_time": "2022-02-22T09:37:50.030Z"
   },
   {
    "duration": 48,
    "start_time": "2022-02-22T09:37:50.077Z"
   },
   {
    "duration": 22,
    "start_time": "2022-02-22T09:37:50.128Z"
   },
   {
    "duration": 49,
    "start_time": "2022-02-22T09:37:50.153Z"
   },
   {
    "duration": 14,
    "start_time": "2022-02-22T09:37:50.204Z"
   },
   {
    "duration": 10,
    "start_time": "2022-02-22T09:37:50.221Z"
   },
   {
    "duration": 61,
    "start_time": "2022-02-22T09:37:50.234Z"
   },
   {
    "duration": 20,
    "start_time": "2022-02-22T09:37:50.297Z"
   },
   {
    "duration": 27,
    "start_time": "2022-02-22T09:37:50.320Z"
   },
   {
    "duration": 26,
    "start_time": "2022-02-22T09:37:50.350Z"
   },
   {
    "duration": 10,
    "start_time": "2022-02-22T09:37:50.393Z"
   },
   {
    "duration": 12,
    "start_time": "2022-02-22T09:37:54.953Z"
   },
   {
    "duration": 17,
    "start_time": "2022-02-22T09:39:08.067Z"
   },
   {
    "duration": 14,
    "start_time": "2022-02-22T09:41:34.562Z"
   },
   {
    "duration": 12,
    "start_time": "2022-02-22T09:43:18.211Z"
   },
   {
    "duration": 239,
    "start_time": "2022-02-22T09:44:04.208Z"
   },
   {
    "duration": 75,
    "start_time": "2022-02-22T09:50:22.517Z"
   },
   {
    "duration": 78,
    "start_time": "2022-02-22T09:50:36.630Z"
   },
   {
    "duration": 83,
    "start_time": "2022-02-22T09:50:53.198Z"
   },
   {
    "duration": 96,
    "start_time": "2022-02-22T09:51:18.365Z"
   },
   {
    "duration": 76,
    "start_time": "2022-02-22T09:51:43.774Z"
   },
   {
    "duration": 14,
    "start_time": "2022-02-22T09:52:06.475Z"
   },
   {
    "duration": 257,
    "start_time": "2022-02-22T09:52:13.516Z"
   },
   {
    "duration": 15,
    "start_time": "2022-02-22T09:52:33.280Z"
   },
   {
    "duration": 11,
    "start_time": "2022-02-22T09:57:09.522Z"
   },
   {
    "duration": 10,
    "start_time": "2022-02-22T09:57:46.314Z"
   },
   {
    "duration": 19,
    "start_time": "2022-02-22T10:13:36.264Z"
   },
   {
    "duration": 23,
    "start_time": "2022-02-22T10:15:08.067Z"
   },
   {
    "duration": 19,
    "start_time": "2022-02-22T10:16:34.505Z"
   },
   {
    "duration": 22,
    "start_time": "2022-02-22T10:16:45.264Z"
   },
   {
    "duration": 248,
    "start_time": "2022-02-22T10:17:09.872Z"
   },
   {
    "duration": 22,
    "start_time": "2022-02-22T10:17:21.888Z"
   },
   {
    "duration": 265,
    "start_time": "2022-02-22T10:18:43.953Z"
   },
   {
    "duration": 29,
    "start_time": "2022-02-22T10:18:58.319Z"
   },
   {
    "duration": 36,
    "start_time": "2022-02-22T10:19:16.072Z"
   },
   {
    "duration": 10,
    "start_time": "2022-02-22T10:20:51.069Z"
   },
   {
    "duration": 11,
    "start_time": "2022-02-22T10:21:04.463Z"
   },
   {
    "duration": 22,
    "start_time": "2022-02-22T10:23:26.736Z"
   },
   {
    "duration": 10,
    "start_time": "2022-02-22T10:35:59.054Z"
   },
   {
    "duration": 24,
    "start_time": "2022-02-22T10:36:36.335Z"
   },
   {
    "duration": 39,
    "start_time": "2022-02-22T10:36:45.431Z"
   },
   {
    "duration": 38,
    "start_time": "2022-02-22T10:37:58.375Z"
   },
   {
    "duration": 10,
    "start_time": "2022-02-22T10:38:51.495Z"
   },
   {
    "duration": 4,
    "start_time": "2022-02-22T10:38:58.304Z"
   },
   {
    "duration": 68,
    "start_time": "2022-02-22T10:38:58.312Z"
   },
   {
    "duration": 30,
    "start_time": "2022-02-22T10:38:58.382Z"
   },
   {
    "duration": 22,
    "start_time": "2022-02-22T10:38:58.415Z"
   },
   {
    "duration": 57,
    "start_time": "2022-02-22T10:38:58.441Z"
   },
   {
    "duration": 11,
    "start_time": "2022-02-22T10:38:58.502Z"
   },
   {
    "duration": 6,
    "start_time": "2022-02-22T10:38:58.516Z"
   },
   {
    "duration": 9,
    "start_time": "2022-02-22T10:38:58.525Z"
   },
   {
    "duration": 62,
    "start_time": "2022-02-22T10:38:58.538Z"
   },
   {
    "duration": 19,
    "start_time": "2022-02-22T10:38:58.602Z"
   },
   {
    "duration": 11,
    "start_time": "2022-02-22T10:38:58.624Z"
   },
   {
    "duration": 76,
    "start_time": "2022-02-22T10:38:58.638Z"
   },
   {
    "duration": 38,
    "start_time": "2022-02-22T10:38:58.716Z"
   },
   {
    "duration": 42,
    "start_time": "2022-02-22T10:38:58.757Z"
   },
   {
    "duration": 14,
    "start_time": "2022-02-22T10:38:58.802Z"
   },
   {
    "duration": 10,
    "start_time": "2022-02-22T10:38:58.818Z"
   },
   {
    "duration": 72,
    "start_time": "2022-02-22T10:38:58.832Z"
   },
   {
    "duration": 11,
    "start_time": "2022-02-22T10:38:58.907Z"
   },
   {
    "duration": 98,
    "start_time": "2022-02-22T10:38:58.921Z"
   },
   {
    "duration": 16,
    "start_time": "2022-02-22T10:38:59.022Z"
   },
   {
    "duration": 9,
    "start_time": "2022-02-22T10:38:59.041Z"
   },
   {
    "duration": 46,
    "start_time": "2022-02-22T10:38:59.052Z"
   },
   {
    "duration": 24,
    "start_time": "2022-02-22T10:38:59.101Z"
   },
   {
    "duration": 15,
    "start_time": "2022-02-22T10:38:59.132Z"
   },
   {
    "duration": 69,
    "start_time": "2022-02-22T10:38:59.151Z"
   },
   {
    "duration": 8,
    "start_time": "2022-02-22T10:38:59.223Z"
   },
   {
    "duration": 20,
    "start_time": "2022-02-22T10:38:59.234Z"
   },
   {
    "duration": 48,
    "start_time": "2022-02-22T10:38:59.256Z"
   },
   {
    "duration": 13,
    "start_time": "2022-02-22T10:38:59.307Z"
   },
   {
    "duration": 22,
    "start_time": "2022-02-22T10:38:59.323Z"
   },
   {
    "duration": 13,
    "start_time": "2022-02-22T10:38:59.348Z"
   },
   {
    "duration": 38,
    "start_time": "2022-02-22T10:38:59.363Z"
   },
   {
    "duration": 9,
    "start_time": "2022-02-22T10:38:59.404Z"
   },
   {
    "duration": 6,
    "start_time": "2022-02-22T10:38:59.415Z"
   },
   {
    "duration": 17,
    "start_time": "2022-02-22T10:38:59.424Z"
   },
   {
    "duration": 667,
    "start_time": "2022-02-22T10:38:59.444Z"
   },
   {
    "duration": 12,
    "start_time": "2022-02-22T10:39:00.113Z"
   },
   {
    "duration": 13,
    "start_time": "2022-02-22T10:39:00.128Z"
   },
   {
    "duration": 7,
    "start_time": "2022-02-22T10:39:00.144Z"
   },
   {
    "duration": 60,
    "start_time": "2022-02-22T10:39:00.154Z"
   },
   {
    "duration": 28,
    "start_time": "2022-02-22T10:39:00.218Z"
   },
   {
    "duration": 60,
    "start_time": "2022-02-22T10:39:00.249Z"
   },
   {
    "duration": 40,
    "start_time": "2022-02-22T10:39:00.312Z"
   },
   {
    "duration": 140,
    "start_time": "2022-02-22T10:39:00.356Z"
   },
   {
    "duration": 12,
    "start_time": "2022-02-22T10:39:00.500Z"
   },
   {
    "duration": 12,
    "start_time": "2022-02-22T10:40:01.181Z"
   },
   {
    "duration": 9,
    "start_time": "2022-02-22T10:40:07.132Z"
   },
   {
    "duration": 4,
    "start_time": "2022-02-22T10:40:33.290Z"
   },
   {
    "duration": 72,
    "start_time": "2022-02-22T10:40:33.299Z"
   },
   {
    "duration": 44,
    "start_time": "2022-02-22T10:40:33.374Z"
   },
   {
    "duration": 19,
    "start_time": "2022-02-22T10:40:33.421Z"
   },
   {
    "duration": 61,
    "start_time": "2022-02-22T10:40:33.443Z"
   },
   {
    "duration": 11,
    "start_time": "2022-02-22T10:40:33.506Z"
   },
   {
    "duration": 5,
    "start_time": "2022-02-22T10:40:33.519Z"
   },
   {
    "duration": 11,
    "start_time": "2022-02-22T10:40:33.526Z"
   },
   {
    "duration": 10,
    "start_time": "2022-02-22T10:40:33.594Z"
   },
   {
    "duration": 23,
    "start_time": "2022-02-22T10:40:33.608Z"
   },
   {
    "duration": 64,
    "start_time": "2022-02-22T10:40:33.634Z"
   },
   {
    "duration": 30,
    "start_time": "2022-02-22T10:40:33.702Z"
   },
   {
    "duration": 77,
    "start_time": "2022-02-22T10:40:33.736Z"
   },
   {
    "duration": 24,
    "start_time": "2022-02-22T10:40:33.815Z"
   },
   {
    "duration": 13,
    "start_time": "2022-02-22T10:40:33.842Z"
   },
   {
    "duration": 43,
    "start_time": "2022-02-22T10:40:33.857Z"
   },
   {
    "duration": 29,
    "start_time": "2022-02-22T10:40:33.903Z"
   },
   {
    "duration": 12,
    "start_time": "2022-02-22T10:40:33.935Z"
   },
   {
    "duration": 102,
    "start_time": "2022-02-22T10:40:33.950Z"
   },
   {
    "duration": 19,
    "start_time": "2022-02-22T10:40:34.055Z"
   },
   {
    "duration": 7,
    "start_time": "2022-02-22T10:40:34.094Z"
   },
   {
    "duration": 11,
    "start_time": "2022-02-22T10:40:34.104Z"
   },
   {
    "duration": 24,
    "start_time": "2022-02-22T10:40:34.117Z"
   },
   {
    "duration": 48,
    "start_time": "2022-02-22T10:40:34.148Z"
   },
   {
    "duration": 27,
    "start_time": "2022-02-22T10:40:34.201Z"
   },
   {
    "duration": 6,
    "start_time": "2022-02-22T10:40:34.231Z"
   },
   {
    "duration": 57,
    "start_time": "2022-02-22T10:40:34.239Z"
   },
   {
    "duration": 19,
    "start_time": "2022-02-22T10:40:34.298Z"
   },
   {
    "duration": 11,
    "start_time": "2022-02-22T10:40:34.320Z"
   },
   {
    "duration": 31,
    "start_time": "2022-02-22T10:40:34.334Z"
   },
   {
    "duration": 26,
    "start_time": "2022-02-22T10:40:34.368Z"
   },
   {
    "duration": 16,
    "start_time": "2022-02-22T10:40:34.396Z"
   },
   {
    "duration": 18,
    "start_time": "2022-02-22T10:40:34.415Z"
   },
   {
    "duration": 10,
    "start_time": "2022-02-22T10:40:34.436Z"
   },
   {
    "duration": 21,
    "start_time": "2022-02-22T10:40:34.449Z"
   },
   {
    "duration": 683,
    "start_time": "2022-02-22T10:40:34.473Z"
   },
   {
    "duration": 10,
    "start_time": "2022-02-22T10:40:35.159Z"
   },
   {
    "duration": 30,
    "start_time": "2022-02-22T10:40:35.172Z"
   },
   {
    "duration": 5,
    "start_time": "2022-02-22T10:40:35.205Z"
   },
   {
    "duration": 24,
    "start_time": "2022-02-22T10:40:35.213Z"
   },
   {
    "duration": 68,
    "start_time": "2022-02-22T10:40:35.240Z"
   },
   {
    "duration": 29,
    "start_time": "2022-02-22T10:40:35.310Z"
   },
   {
    "duration": 56,
    "start_time": "2022-02-22T10:40:35.342Z"
   },
   {
    "duration": 134,
    "start_time": "2022-02-22T10:40:35.401Z"
   },
   {
    "duration": 12,
    "start_time": "2022-02-22T10:40:35.538Z"
   },
   {
    "duration": 28,
    "start_time": "2022-02-22T10:40:35.553Z"
   },
   {
    "duration": 10,
    "start_time": "2022-02-22T10:40:35.594Z"
   },
   {
    "duration": 26,
    "start_time": "2022-02-22T10:40:35.606Z"
   },
   {
    "duration": 75,
    "start_time": "2022-02-22T10:40:35.635Z"
   },
   {
    "duration": 104,
    "start_time": "2022-02-22T10:40:35.714Z"
   },
   {
    "duration": 33,
    "start_time": "2022-02-22T10:40:35.820Z"
   },
   {
    "duration": 61,
    "start_time": "2022-02-22T10:40:35.856Z"
   },
   {
    "duration": 9,
    "start_time": "2022-02-22T10:40:35.920Z"
   },
   {
    "duration": 116,
    "start_time": "2022-02-22T10:40:35.932Z"
   },
   {
    "duration": 25,
    "start_time": "2022-02-22T10:40:36.050Z"
   },
   {
    "duration": 44,
    "start_time": "2022-02-22T10:40:36.078Z"
   },
   {
    "duration": 31,
    "start_time": "2022-02-22T10:40:36.125Z"
   },
   {
    "duration": 61,
    "start_time": "2022-02-22T10:40:36.158Z"
   },
   {
    "duration": 24,
    "start_time": "2022-02-22T10:40:36.222Z"
   },
   {
    "duration": 52,
    "start_time": "2022-02-22T10:40:36.249Z"
   },
   {
    "duration": 16,
    "start_time": "2022-02-22T10:40:36.304Z"
   },
   {
    "duration": 11,
    "start_time": "2022-02-22T10:40:36.323Z"
   },
   {
    "duration": 58,
    "start_time": "2022-02-22T10:40:36.337Z"
   },
   {
    "duration": 17,
    "start_time": "2022-02-22T10:40:36.397Z"
   },
   {
    "duration": 32,
    "start_time": "2022-02-22T10:40:36.417Z"
   },
   {
    "duration": 21,
    "start_time": "2022-02-22T10:40:36.452Z"
   },
   {
    "duration": 22,
    "start_time": "2022-02-22T10:40:40.075Z"
   },
   {
    "duration": 19,
    "start_time": "2022-02-22T10:43:31.157Z"
   },
   {
    "duration": 9,
    "start_time": "2022-02-22T10:45:21.427Z"
   },
   {
    "duration": 23,
    "start_time": "2022-02-22T10:45:40.717Z"
   },
   {
    "duration": 11,
    "start_time": "2022-02-22T10:48:10.321Z"
   },
   {
    "duration": 10,
    "start_time": "2022-02-22T10:49:01.817Z"
   },
   {
    "duration": 19,
    "start_time": "2022-02-22T11:09:58.277Z"
   },
   {
    "duration": 33,
    "start_time": "2022-02-22T11:11:02.121Z"
   },
   {
    "duration": 20,
    "start_time": "2022-02-22T11:11:34.854Z"
   },
   {
    "duration": 16,
    "start_time": "2022-02-22T11:11:45.814Z"
   },
   {
    "duration": 27,
    "start_time": "2022-02-22T11:12:06.237Z"
   },
   {
    "duration": 20,
    "start_time": "2022-02-22T11:43:46.863Z"
   },
   {
    "duration": 25,
    "start_time": "2022-02-22T11:43:57.268Z"
   },
   {
    "duration": 23,
    "start_time": "2022-02-22T11:45:06.671Z"
   },
   {
    "duration": 20,
    "start_time": "2022-02-22T11:45:09.428Z"
   },
   {
    "duration": 22,
    "start_time": "2022-02-22T11:45:34.032Z"
   },
   {
    "duration": 85,
    "start_time": "2022-02-22T11:46:20.445Z"
   },
   {
    "duration": 88,
    "start_time": "2022-02-22T11:47:10.486Z"
   },
   {
    "duration": 30,
    "start_time": "2022-02-22T11:47:25.101Z"
   },
   {
    "duration": 31,
    "start_time": "2022-02-22T11:59:14.478Z"
   },
   {
    "duration": 24,
    "start_time": "2022-02-22T12:03:49.398Z"
   },
   {
    "duration": 72,
    "start_time": "2022-02-22T12:05:56.600Z"
   },
   {
    "duration": 278,
    "start_time": "2022-02-22T12:06:04.611Z"
   },
   {
    "duration": 43,
    "start_time": "2022-02-22T12:06:40.180Z"
   },
   {
    "duration": 267,
    "start_time": "2022-02-22T12:08:07.796Z"
   },
   {
    "duration": 259,
    "start_time": "2022-02-22T12:08:30.418Z"
   },
   {
    "duration": 259,
    "start_time": "2022-02-22T12:08:41.274Z"
   },
   {
    "duration": 253,
    "start_time": "2022-02-22T12:09:34.627Z"
   },
   {
    "duration": 307,
    "start_time": "2022-02-22T12:09:57.194Z"
   },
   {
    "duration": 27,
    "start_time": "2022-02-22T12:10:18.066Z"
   },
   {
    "duration": 4,
    "start_time": "2022-02-22T12:19:20.990Z"
   },
   {
    "duration": 69,
    "start_time": "2022-02-22T12:19:20.997Z"
   },
   {
    "duration": 42,
    "start_time": "2022-02-22T12:19:21.069Z"
   },
   {
    "duration": 29,
    "start_time": "2022-02-22T12:19:21.115Z"
   },
   {
    "duration": 60,
    "start_time": "2022-02-22T12:19:21.147Z"
   },
   {
    "duration": 13,
    "start_time": "2022-02-22T12:19:21.209Z"
   },
   {
    "duration": 8,
    "start_time": "2022-02-22T12:19:21.226Z"
   },
   {
    "duration": 64,
    "start_time": "2022-02-22T12:19:21.238Z"
   },
   {
    "duration": 10,
    "start_time": "2022-02-22T12:19:21.306Z"
   },
   {
    "duration": 21,
    "start_time": "2022-02-22T12:19:21.322Z"
   },
   {
    "duration": 57,
    "start_time": "2022-02-22T12:19:21.345Z"
   },
   {
    "duration": 45,
    "start_time": "2022-02-22T12:19:21.405Z"
   },
   {
    "duration": 67,
    "start_time": "2022-02-22T12:19:21.453Z"
   },
   {
    "duration": 22,
    "start_time": "2022-02-22T12:19:21.523Z"
   },
   {
    "duration": 16,
    "start_time": "2022-02-22T12:19:21.548Z"
   },
   {
    "duration": 15,
    "start_time": "2022-02-22T12:19:21.594Z"
   },
   {
    "duration": 43,
    "start_time": "2022-02-22T12:19:21.612Z"
   },
   {
    "duration": 50,
    "start_time": "2022-02-22T12:19:21.659Z"
   },
   {
    "duration": 61,
    "start_time": "2022-02-22T12:19:21.712Z"
   },
   {
    "duration": 15,
    "start_time": "2022-02-22T12:19:21.793Z"
   },
   {
    "duration": 8,
    "start_time": "2022-02-22T12:19:21.812Z"
   },
   {
    "duration": 23,
    "start_time": "2022-02-22T12:19:21.823Z"
   },
   {
    "duration": 60,
    "start_time": "2022-02-22T12:19:21.850Z"
   },
   {
    "duration": 18,
    "start_time": "2022-02-22T12:19:21.913Z"
   },
   {
    "duration": 37,
    "start_time": "2022-02-22T12:19:21.935Z"
   },
   {
    "duration": 6,
    "start_time": "2022-02-22T12:19:21.995Z"
   },
   {
    "duration": 22,
    "start_time": "2022-02-22T12:19:22.007Z"
   },
   {
    "duration": 21,
    "start_time": "2022-02-22T12:19:22.032Z"
   },
   {
    "duration": 39,
    "start_time": "2022-02-22T12:19:22.055Z"
   },
   {
    "duration": 18,
    "start_time": "2022-02-22T12:19:22.096Z"
   },
   {
    "duration": 12,
    "start_time": "2022-02-22T12:19:22.117Z"
   },
   {
    "duration": 15,
    "start_time": "2022-02-22T12:19:22.132Z"
   },
   {
    "duration": 44,
    "start_time": "2022-02-22T12:19:22.150Z"
   },
   {
    "duration": 9,
    "start_time": "2022-02-22T12:19:22.197Z"
   },
   {
    "duration": 13,
    "start_time": "2022-02-22T12:19:22.209Z"
   },
   {
    "duration": 682,
    "start_time": "2022-02-22T12:19:22.224Z"
   },
   {
    "duration": 11,
    "start_time": "2022-02-22T12:19:22.909Z"
   },
   {
    "duration": 15,
    "start_time": "2022-02-22T12:19:22.923Z"
   },
   {
    "duration": 7,
    "start_time": "2022-02-22T12:19:22.941Z"
   },
   {
    "duration": 70,
    "start_time": "2022-02-22T12:19:22.951Z"
   },
   {
    "duration": 41,
    "start_time": "2022-02-22T12:19:23.024Z"
   },
   {
    "duration": 68,
    "start_time": "2022-02-22T12:19:23.068Z"
   },
   {
    "duration": 57,
    "start_time": "2022-02-22T12:19:23.139Z"
   },
   {
    "duration": 142,
    "start_time": "2022-02-22T12:19:23.200Z"
   },
   {
    "duration": 10,
    "start_time": "2022-02-22T12:19:23.345Z"
   },
   {
    "duration": 37,
    "start_time": "2022-02-22T12:19:23.358Z"
   },
   {
    "duration": 12,
    "start_time": "2022-02-22T12:19:23.398Z"
   },
   {
    "duration": 22,
    "start_time": "2022-02-22T12:19:23.413Z"
   },
   {
    "duration": 60,
    "start_time": "2022-02-22T12:19:23.438Z"
   },
   {
    "duration": 74,
    "start_time": "2022-02-22T12:19:23.501Z"
   },
   {
    "duration": 37,
    "start_time": "2022-02-22T12:19:23.594Z"
   },
   {
    "duration": 81,
    "start_time": "2022-02-22T12:19:23.635Z"
   },
   {
    "duration": 12,
    "start_time": "2022-02-22T12:19:23.718Z"
   },
   {
    "duration": 113,
    "start_time": "2022-02-22T12:19:23.732Z"
   },
   {
    "duration": 24,
    "start_time": "2022-02-22T12:19:23.848Z"
   },
   {
    "duration": 49,
    "start_time": "2022-02-22T12:19:23.875Z"
   },
   {
    "duration": 35,
    "start_time": "2022-02-22T12:19:23.927Z"
   },
   {
    "duration": 55,
    "start_time": "2022-02-22T12:19:23.964Z"
   },
   {
    "duration": 22,
    "start_time": "2022-02-22T12:19:24.022Z"
   },
   {
    "duration": 48,
    "start_time": "2022-02-22T12:19:24.047Z"
   },
   {
    "duration": 14,
    "start_time": "2022-02-22T12:19:24.097Z"
   },
   {
    "duration": 11,
    "start_time": "2022-02-22T12:19:24.114Z"
   },
   {
    "duration": 30,
    "start_time": "2022-02-22T12:19:24.128Z"
   },
   {
    "duration": 17,
    "start_time": "2022-02-22T12:19:24.194Z"
   },
   {
    "duration": 29,
    "start_time": "2022-02-22T12:19:24.214Z"
   },
   {
    "duration": 16,
    "start_time": "2022-02-22T12:19:24.246Z"
   },
   {
    "duration": 46,
    "start_time": "2022-02-22T12:19:24.264Z"
   },
   {
    "duration": 20,
    "start_time": "2022-02-22T12:19:24.313Z"
   },
   {
    "duration": 21,
    "start_time": "2022-02-22T12:19:24.336Z"
   },
   {
    "duration": 30,
    "start_time": "2022-02-22T12:19:24.395Z"
   },
   {
    "duration": 22,
    "start_time": "2022-02-22T12:29:47.378Z"
   },
   {
    "duration": 16,
    "start_time": "2022-02-22T12:30:31.905Z"
   },
   {
    "duration": 18,
    "start_time": "2022-02-22T12:30:55.560Z"
   },
   {
    "duration": 17,
    "start_time": "2022-02-22T12:31:26.224Z"
   },
   {
    "duration": 26,
    "start_time": "2022-02-22T12:32:04.936Z"
   },
   {
    "duration": 91,
    "start_time": "2022-02-22T12:41:37.019Z"
   },
   {
    "duration": 18,
    "start_time": "2022-02-22T12:41:43.258Z"
   },
   {
    "duration": 25,
    "start_time": "2022-02-22T12:42:28.579Z"
   },
   {
    "duration": 19,
    "start_time": "2022-02-22T12:42:55.354Z"
   },
   {
    "duration": 19,
    "start_time": "2022-02-22T12:43:28.246Z"
   },
   {
    "duration": 4,
    "start_time": "2022-02-22T12:43:50.319Z"
   },
   {
    "duration": 65,
    "start_time": "2022-02-22T12:43:50.326Z"
   },
   {
    "duration": 20,
    "start_time": "2022-02-22T12:43:50.394Z"
   },
   {
    "duration": 17,
    "start_time": "2022-02-22T12:43:50.417Z"
   },
   {
    "duration": 13,
    "start_time": "2022-02-22T12:43:50.436Z"
   },
   {
    "duration": 43,
    "start_time": "2022-02-22T12:43:50.452Z"
   },
   {
    "duration": 6,
    "start_time": "2022-02-22T12:43:50.499Z"
   },
   {
    "duration": 24,
    "start_time": "2022-02-22T12:43:50.509Z"
   },
   {
    "duration": 25,
    "start_time": "2022-02-22T12:43:56.351Z"
   },
   {
    "duration": 18,
    "start_time": "2022-02-22T12:43:57.995Z"
   },
   {
    "duration": 12,
    "start_time": "2022-02-22T12:45:32.818Z"
   },
   {
    "duration": 23,
    "start_time": "2022-02-22T12:46:50.785Z"
   },
   {
    "duration": 251,
    "start_time": "2022-02-22T12:47:06.240Z"
   },
   {
    "duration": 30,
    "start_time": "2022-02-22T12:47:37.384Z"
   },
   {
    "duration": 13,
    "start_time": "2022-02-22T12:49:53.846Z"
   },
   {
    "duration": 20,
    "start_time": "2022-02-22T12:51:04.167Z"
   },
   {
    "duration": 455,
    "start_time": "2022-02-22T12:55:40.940Z"
   },
   {
    "duration": 179,
    "start_time": "2022-02-22T12:56:13.683Z"
   },
   {
    "duration": 49,
    "start_time": "2022-02-22T12:56:22.715Z"
   },
   {
    "duration": 106,
    "start_time": "2022-02-22T12:58:16.468Z"
   },
   {
    "duration": 87,
    "start_time": "2022-02-22T12:58:25.739Z"
   },
   {
    "duration": 87,
    "start_time": "2022-02-22T12:59:33.859Z"
   },
   {
    "duration": 116,
    "start_time": "2022-02-22T12:59:54.099Z"
   },
   {
    "duration": 107,
    "start_time": "2022-02-22T13:00:22.914Z"
   },
   {
    "duration": 120,
    "start_time": "2022-02-22T13:00:47.266Z"
   },
   {
    "duration": 89,
    "start_time": "2022-02-22T13:01:25.826Z"
   },
   {
    "duration": 90,
    "start_time": "2022-02-22T13:01:33.274Z"
   },
   {
    "duration": 34,
    "start_time": "2022-02-22T13:01:46.665Z"
   },
   {
    "duration": 39,
    "start_time": "2022-02-22T13:02:03.601Z"
   },
   {
    "duration": 22,
    "start_time": "2022-02-22T13:02:33.319Z"
   },
   {
    "duration": 13,
    "start_time": "2022-02-22T13:02:45.534Z"
   },
   {
    "duration": 11,
    "start_time": "2022-02-22T13:03:06.918Z"
   },
   {
    "duration": 28,
    "start_time": "2022-02-22T13:03:16.183Z"
   },
   {
    "duration": 12,
    "start_time": "2022-02-22T13:03:23.711Z"
   },
   {
    "duration": 15,
    "start_time": "2022-02-22T13:03:41.904Z"
   },
   {
    "duration": 59,
    "start_time": "2022-02-22T13:05:17.264Z"
   },
   {
    "duration": 17,
    "start_time": "2022-02-22T13:05:45.542Z"
   },
   {
    "duration": 10,
    "start_time": "2022-02-22T13:10:14.595Z"
   },
   {
    "duration": 24,
    "start_time": "2022-02-22T13:13:21.604Z"
   },
   {
    "duration": 14,
    "start_time": "2022-02-22T13:14:02.284Z"
   },
   {
    "duration": 8,
    "start_time": "2022-02-22T13:14:39.650Z"
   },
   {
    "duration": 15,
    "start_time": "2022-02-22T13:14:41.130Z"
   },
   {
    "duration": 22,
    "start_time": "2022-02-22T13:21:22.248Z"
   },
   {
    "duration": 92,
    "start_time": "2022-02-22T13:22:05.896Z"
   },
   {
    "duration": 17,
    "start_time": "2022-02-22T13:23:22.383Z"
   },
   {
    "duration": 3,
    "start_time": "2022-02-22T13:24:05.932Z"
   },
   {
    "duration": 12,
    "start_time": "2022-02-22T13:24:06.670Z"
   },
   {
    "duration": 19,
    "start_time": "2022-02-22T13:26:27.339Z"
   },
   {
    "duration": 23,
    "start_time": "2022-02-22T13:27:09.621Z"
   },
   {
    "duration": 32,
    "start_time": "2022-02-22T13:28:17.061Z"
   },
   {
    "duration": 30,
    "start_time": "2022-02-22T13:28:42.788Z"
   },
   {
    "duration": 28,
    "start_time": "2022-02-22T13:30:08.939Z"
   },
   {
    "duration": 40,
    "start_time": "2022-02-22T13:31:49.067Z"
   },
   {
    "duration": 44,
    "start_time": "2022-02-22T13:33:23.834Z"
   },
   {
    "duration": 10,
    "start_time": "2022-02-22T13:33:33.513Z"
   },
   {
    "duration": 15,
    "start_time": "2022-02-22T13:36:22.802Z"
   },
   {
    "duration": 8,
    "start_time": "2022-02-22T13:37:09.920Z"
   },
   {
    "duration": 12,
    "start_time": "2022-02-22T13:37:34.624Z"
   },
   {
    "duration": 4,
    "start_time": "2022-02-22T13:48:01.972Z"
   },
   {
    "duration": 3,
    "start_time": "2022-02-22T13:48:22.491Z"
   },
   {
    "duration": 655,
    "start_time": "2022-02-23T07:25:04.607Z"
   },
   {
    "duration": 54,
    "start_time": "2022-02-23T07:25:05.264Z"
   },
   {
    "duration": 21,
    "start_time": "2022-02-23T07:25:05.320Z"
   },
   {
    "duration": 12,
    "start_time": "2022-02-23T07:25:05.343Z"
   },
   {
    "duration": 10,
    "start_time": "2022-02-23T07:25:05.369Z"
   },
   {
    "duration": 8,
    "start_time": "2022-02-23T07:25:05.381Z"
   },
   {
    "duration": 8,
    "start_time": "2022-02-23T07:25:05.390Z"
   },
   {
    "duration": 15,
    "start_time": "2022-02-23T07:25:05.401Z"
   },
   {
    "duration": 14,
    "start_time": "2022-02-23T07:25:05.418Z"
   },
   {
    "duration": 42,
    "start_time": "2022-02-23T07:25:05.433Z"
   },
   {
    "duration": 9,
    "start_time": "2022-02-23T07:25:05.477Z"
   },
   {
    "duration": 17,
    "start_time": "2022-02-23T07:25:05.488Z"
   },
   {
    "duration": 25,
    "start_time": "2022-02-23T07:25:05.506Z"
   },
   {
    "duration": 48,
    "start_time": "2022-02-23T07:25:05.533Z"
   },
   {
    "duration": 13,
    "start_time": "2022-02-23T07:25:05.583Z"
   },
   {
    "duration": 8,
    "start_time": "2022-02-23T07:25:05.597Z"
   },
   {
    "duration": 21,
    "start_time": "2022-02-23T07:25:05.606Z"
   },
   {
    "duration": 41,
    "start_time": "2022-02-23T07:25:05.629Z"
   },
   {
    "duration": 50,
    "start_time": "2022-02-23T07:25:05.672Z"
   },
   {
    "duration": 9,
    "start_time": "2022-02-23T07:25:05.724Z"
   },
   {
    "duration": 9,
    "start_time": "2022-02-23T07:25:10.021Z"
   },
   {
    "duration": 81,
    "start_time": "2022-02-23T07:25:19.712Z"
   },
   {
    "duration": 12,
    "start_time": "2022-02-23T07:26:18.101Z"
   },
   {
    "duration": 12,
    "start_time": "2022-02-23T07:26:42.387Z"
   },
   {
    "duration": 11,
    "start_time": "2022-02-23T07:27:16.376Z"
   },
   {
    "duration": 91,
    "start_time": "2022-02-23T07:29:14.953Z"
   },
   {
    "duration": 10,
    "start_time": "2022-02-23T07:29:42.863Z"
   },
   {
    "duration": 13,
    "start_time": "2022-02-23T07:30:33.786Z"
   },
   {
    "duration": 13,
    "start_time": "2022-02-23T07:32:03.924Z"
   },
   {
    "duration": 15,
    "start_time": "2022-02-23T07:35:12.281Z"
   },
   {
    "duration": 16,
    "start_time": "2022-02-23T07:35:25.399Z"
   },
   {
    "duration": 16,
    "start_time": "2022-02-23T07:35:53.255Z"
   },
   {
    "duration": 16,
    "start_time": "2022-02-23T07:40:21.480Z"
   },
   {
    "duration": 15,
    "start_time": "2022-02-23T07:40:25.641Z"
   },
   {
    "duration": 3,
    "start_time": "2022-02-23T07:40:38.976Z"
   },
   {
    "duration": 57,
    "start_time": "2022-02-23T07:40:38.986Z"
   },
   {
    "duration": 13,
    "start_time": "2022-02-23T07:40:39.045Z"
   },
   {
    "duration": 11,
    "start_time": "2022-02-23T07:40:39.091Z"
   },
   {
    "duration": 30,
    "start_time": "2022-02-23T07:40:39.104Z"
   },
   {
    "duration": 15,
    "start_time": "2022-02-23T07:40:39.137Z"
   },
   {
    "duration": 9,
    "start_time": "2022-02-23T07:40:39.154Z"
   },
   {
    "duration": 16,
    "start_time": "2022-02-23T07:40:42.130Z"
   },
   {
    "duration": 14,
    "start_time": "2022-02-23T07:40:44.121Z"
   },
   {
    "duration": 8,
    "start_time": "2022-02-23T07:41:47.708Z"
   },
   {
    "duration": 8,
    "start_time": "2022-02-23T07:42:39.460Z"
   },
   {
    "duration": 11,
    "start_time": "2022-02-23T07:42:55.575Z"
   },
   {
    "duration": 25,
    "start_time": "2022-02-23T07:47:01.342Z"
   },
   {
    "duration": 15,
    "start_time": "2022-02-23T07:47:07.147Z"
   },
   {
    "duration": 9,
    "start_time": "2022-02-23T07:47:49.374Z"
   },
   {
    "duration": 9,
    "start_time": "2022-02-23T07:48:06.232Z"
   },
   {
    "duration": 20,
    "start_time": "2022-02-23T07:48:18.539Z"
   },
   {
    "duration": 9,
    "start_time": "2022-02-23T07:48:28.420Z"
   },
   {
    "duration": 46,
    "start_time": "2022-02-23T07:49:06.358Z"
   },
   {
    "duration": 11,
    "start_time": "2022-02-23T07:49:22.540Z"
   },
   {
    "duration": 14,
    "start_time": "2022-02-23T08:13:33.057Z"
   },
   {
    "duration": 12,
    "start_time": "2022-02-23T08:17:54.063Z"
   },
   {
    "duration": 13,
    "start_time": "2022-02-23T08:19:19.764Z"
   },
   {
    "duration": 20,
    "start_time": "2022-02-23T08:24:08.662Z"
   },
   {
    "duration": 14,
    "start_time": "2022-02-23T08:24:30.090Z"
   },
   {
    "duration": 313,
    "start_time": "2022-02-23T08:28:20.252Z"
   },
   {
    "duration": 13,
    "start_time": "2022-02-23T08:29:18.253Z"
   },
   {
    "duration": 6,
    "start_time": "2022-02-23T08:29:30.646Z"
   },
   {
    "duration": 27,
    "start_time": "2022-02-23T08:30:07.049Z"
   },
   {
    "duration": 15,
    "start_time": "2022-02-23T08:32:21.141Z"
   },
   {
    "duration": 7,
    "start_time": "2022-02-23T08:32:21.742Z"
   },
   {
    "duration": 16,
    "start_time": "2022-02-23T08:32:23.796Z"
   },
   {
    "duration": 12,
    "start_time": "2022-02-23T08:44:21.322Z"
   },
   {
    "duration": 12,
    "start_time": "2022-02-23T08:44:28.777Z"
   },
   {
    "duration": 13,
    "start_time": "2022-02-23T08:44:34.546Z"
   },
   {
    "duration": 13,
    "start_time": "2022-02-23T08:44:44.606Z"
   },
   {
    "duration": 12,
    "start_time": "2022-02-23T08:44:56.879Z"
   },
   {
    "duration": 328,
    "start_time": "2022-02-23T08:46:06.859Z"
   },
   {
    "duration": 16,
    "start_time": "2022-02-23T08:46:19.868Z"
   },
   {
    "duration": 243,
    "start_time": "2022-02-23T08:49:56.184Z"
   },
   {
    "duration": 242,
    "start_time": "2022-02-23T08:51:29.797Z"
   },
   {
    "duration": 16,
    "start_time": "2022-02-23T08:52:45.202Z"
   },
   {
    "duration": 23,
    "start_time": "2022-02-23T08:56:35.870Z"
   },
   {
    "duration": 255,
    "start_time": "2022-02-23T08:58:15.314Z"
   },
   {
    "duration": 26,
    "start_time": "2022-02-23T08:58:58.790Z"
   },
   {
    "duration": 260,
    "start_time": "2022-02-23T09:02:28.402Z"
   },
   {
    "duration": 27,
    "start_time": "2022-02-23T09:02:43.468Z"
   },
   {
    "duration": 13,
    "start_time": "2022-02-23T09:02:53.626Z"
   },
   {
    "duration": 21,
    "start_time": "2022-02-23T09:09:16.827Z"
   },
   {
    "duration": 27,
    "start_time": "2022-02-23T09:09:31.088Z"
   },
   {
    "duration": 10,
    "start_time": "2022-02-23T09:09:53.033Z"
   },
   {
    "duration": 15,
    "start_time": "2022-02-23T09:15:47.703Z"
   },
   {
    "duration": 10,
    "start_time": "2022-02-23T09:19:07.620Z"
   },
   {
    "duration": 14,
    "start_time": "2022-02-23T09:21:13.970Z"
   },
   {
    "duration": 13,
    "start_time": "2022-02-23T09:22:28.320Z"
   },
   {
    "duration": 4,
    "start_time": "2022-02-23T09:22:53.301Z"
   },
   {
    "duration": 12,
    "start_time": "2022-02-23T09:22:55.052Z"
   },
   {
    "duration": 2,
    "start_time": "2022-02-23T09:23:05.494Z"
   },
   {
    "duration": 64,
    "start_time": "2022-02-23T09:23:05.498Z"
   },
   {
    "duration": 14,
    "start_time": "2022-02-23T09:23:05.564Z"
   },
   {
    "duration": 13,
    "start_time": "2022-02-23T09:23:05.580Z"
   },
   {
    "duration": 11,
    "start_time": "2022-02-23T09:23:05.594Z"
   },
   {
    "duration": 10,
    "start_time": "2022-02-23T09:23:05.607Z"
   },
   {
    "duration": 4,
    "start_time": "2022-02-23T09:23:05.619Z"
   },
   {
    "duration": 52,
    "start_time": "2022-02-23T09:23:05.626Z"
   },
   {
    "duration": 15,
    "start_time": "2022-02-23T09:23:05.681Z"
   },
   {
    "duration": 9,
    "start_time": "2022-02-23T09:23:05.698Z"
   },
   {
    "duration": 13,
    "start_time": "2022-02-23T09:23:05.709Z"
   },
   {
    "duration": 54,
    "start_time": "2022-02-23T09:23:05.724Z"
   },
   {
    "duration": 25,
    "start_time": "2022-02-23T09:23:05.779Z"
   },
   {
    "duration": 17,
    "start_time": "2022-02-23T09:23:05.806Z"
   },
   {
    "duration": 11,
    "start_time": "2022-02-23T09:23:05.825Z"
   },
   {
    "duration": 32,
    "start_time": "2022-02-23T09:23:05.838Z"
   },
   {
    "duration": 22,
    "start_time": "2022-02-23T09:23:05.872Z"
   },
   {
    "duration": 17,
    "start_time": "2022-02-23T09:23:05.898Z"
   },
   {
    "duration": 74,
    "start_time": "2022-02-23T09:23:05.918Z"
   },
   {
    "duration": 10,
    "start_time": "2022-02-23T09:23:05.994Z"
   },
   {
    "duration": 5,
    "start_time": "2022-02-23T09:23:06.005Z"
   },
   {
    "duration": 22,
    "start_time": "2022-02-23T09:23:06.012Z"
   },
   {
    "duration": 44,
    "start_time": "2022-02-23T09:23:06.036Z"
   },
   {
    "duration": 14,
    "start_time": "2022-02-23T09:23:06.082Z"
   },
   {
    "duration": 14,
    "start_time": "2022-02-23T09:23:08.732Z"
   },
   {
    "duration": 4,
    "start_time": "2022-02-23T09:23:09.631Z"
   },
   {
    "duration": 11,
    "start_time": "2022-02-23T09:23:10.314Z"
   },
   {
    "duration": 4,
    "start_time": "2022-02-23T09:24:04.977Z"
   },
   {
    "duration": 3,
    "start_time": "2022-02-23T09:24:09.495Z"
   },
   {
    "duration": 70,
    "start_time": "2022-02-23T09:24:09.500Z"
   },
   {
    "duration": 15,
    "start_time": "2022-02-23T09:24:09.627Z"
   },
   {
    "duration": 14,
    "start_time": "2022-02-23T09:24:09.644Z"
   },
   {
    "duration": 10,
    "start_time": "2022-02-23T09:24:09.660Z"
   },
   {
    "duration": 11,
    "start_time": "2022-02-23T09:24:09.672Z"
   },
   {
    "duration": 5,
    "start_time": "2022-02-23T09:24:09.685Z"
   },
   {
    "duration": 22,
    "start_time": "2022-02-23T09:24:09.692Z"
   },
   {
    "duration": 14,
    "start_time": "2022-02-23T09:24:09.716Z"
   },
   {
    "duration": 6,
    "start_time": "2022-02-23T09:24:09.732Z"
   },
   {
    "duration": 39,
    "start_time": "2022-02-23T09:24:09.740Z"
   },
   {
    "duration": 15,
    "start_time": "2022-02-23T09:24:09.781Z"
   },
   {
    "duration": 25,
    "start_time": "2022-02-23T09:24:09.798Z"
   },
   {
    "duration": 44,
    "start_time": "2022-02-23T09:24:09.826Z"
   },
   {
    "duration": 12,
    "start_time": "2022-02-23T09:24:09.872Z"
   },
   {
    "duration": 8,
    "start_time": "2022-02-23T09:24:09.886Z"
   },
   {
    "duration": 20,
    "start_time": "2022-02-23T09:24:09.895Z"
   },
   {
    "duration": 15,
    "start_time": "2022-02-23T09:24:09.917Z"
   },
   {
    "duration": 74,
    "start_time": "2022-02-23T09:24:09.934Z"
   },
   {
    "duration": 11,
    "start_time": "2022-02-23T09:24:10.010Z"
   },
   {
    "duration": 5,
    "start_time": "2022-02-23T09:24:10.023Z"
   },
   {
    "duration": 46,
    "start_time": "2022-02-23T09:24:10.031Z"
   },
   {
    "duration": 3,
    "start_time": "2022-02-23T09:24:10.079Z"
   },
   {
    "duration": 3,
    "start_time": "2022-02-23T09:24:14.553Z"
   },
   {
    "duration": 13,
    "start_time": "2022-02-23T09:24:15.345Z"
   },
   {
    "duration": 6,
    "start_time": "2022-02-23T09:24:16.718Z"
   },
   {
    "duration": 10,
    "start_time": "2022-02-23T09:24:17.608Z"
   },
   {
    "duration": 5,
    "start_time": "2022-02-23T09:38:02.836Z"
   },
   {
    "duration": 11,
    "start_time": "2022-02-23T09:38:06.526Z"
   },
   {
    "duration": 13,
    "start_time": "2022-02-23T09:43:18.237Z"
   },
   {
    "duration": 7,
    "start_time": "2022-02-23T09:43:54.856Z"
   },
   {
    "duration": 12,
    "start_time": "2022-02-23T09:46:26.668Z"
   },
   {
    "duration": 19,
    "start_time": "2022-02-23T09:48:06.506Z"
   },
   {
    "duration": 5,
    "start_time": "2022-02-23T09:48:52.180Z"
   },
   {
    "duration": 6,
    "start_time": "2022-02-23T09:49:11.777Z"
   },
   {
    "duration": 12,
    "start_time": "2022-02-23T09:50:00.172Z"
   },
   {
    "duration": 3,
    "start_time": "2022-02-23T09:50:09.527Z"
   },
   {
    "duration": 55,
    "start_time": "2022-02-23T09:50:09.533Z"
   },
   {
    "duration": 15,
    "start_time": "2022-02-23T09:50:09.652Z"
   },
   {
    "duration": 15,
    "start_time": "2022-02-23T09:50:09.669Z"
   },
   {
    "duration": 11,
    "start_time": "2022-02-23T09:50:09.687Z"
   },
   {
    "duration": 16,
    "start_time": "2022-02-23T09:50:09.700Z"
   },
   {
    "duration": 4,
    "start_time": "2022-02-23T09:50:09.717Z"
   },
   {
    "duration": 17,
    "start_time": "2022-02-23T09:50:09.723Z"
   },
   {
    "duration": 36,
    "start_time": "2022-02-23T09:50:09.742Z"
   },
   {
    "duration": 8,
    "start_time": "2022-02-23T09:50:09.780Z"
   },
   {
    "duration": 10,
    "start_time": "2022-02-23T09:50:09.791Z"
   },
   {
    "duration": 14,
    "start_time": "2022-02-23T09:50:09.803Z"
   },
   {
    "duration": 58,
    "start_time": "2022-02-23T09:50:09.819Z"
   },
   {
    "duration": 15,
    "start_time": "2022-02-23T09:50:09.879Z"
   },
   {
    "duration": 10,
    "start_time": "2022-02-23T09:50:09.896Z"
   },
   {
    "duration": 6,
    "start_time": "2022-02-23T09:50:09.908Z"
   },
   {
    "duration": 21,
    "start_time": "2022-02-23T09:50:09.916Z"
   },
   {
    "duration": 18,
    "start_time": "2022-02-23T09:50:09.970Z"
   },
   {
    "duration": 45,
    "start_time": "2022-02-23T09:50:09.989Z"
   },
   {
    "duration": 9,
    "start_time": "2022-02-23T09:50:10.036Z"
   },
   {
    "duration": 5,
    "start_time": "2022-02-23T09:50:10.070Z"
   },
   {
    "duration": 17,
    "start_time": "2022-02-23T09:50:10.077Z"
   },
   {
    "duration": 16,
    "start_time": "2022-02-23T09:50:10.096Z"
   },
   {
    "duration": 4,
    "start_time": "2022-02-23T09:50:10.114Z"
   },
   {
    "duration": 54,
    "start_time": "2022-02-23T09:50:10.120Z"
   },
   {
    "duration": 13,
    "start_time": "2022-02-23T09:50:16.187Z"
   },
   {
    "duration": 12,
    "start_time": "2022-02-23T09:50:49.561Z"
   },
   {
    "duration": 12,
    "start_time": "2022-02-23T09:50:55.042Z"
   },
   {
    "duration": 5,
    "start_time": "2022-02-23T09:51:07.641Z"
   },
   {
    "duration": 6,
    "start_time": "2022-02-23T09:51:16.996Z"
   },
   {
    "duration": 19,
    "start_time": "2022-02-23T09:53:18.141Z"
   },
   {
    "duration": 8,
    "start_time": "2022-02-23T09:53:19.752Z"
   },
   {
    "duration": 12,
    "start_time": "2022-02-23T09:53:30.594Z"
   },
   {
    "duration": 6,
    "start_time": "2022-02-23T09:53:54.080Z"
   },
   {
    "duration": 405,
    "start_time": "2022-02-23T09:57:19.657Z"
   },
   {
    "duration": 10,
    "start_time": "2022-02-23T09:57:57.165Z"
   },
   {
    "duration": 13,
    "start_time": "2022-02-23T09:58:10.268Z"
   },
   {
    "duration": 4,
    "start_time": "2022-02-23T09:58:52.276Z"
   },
   {
    "duration": 12,
    "start_time": "2022-02-23T09:58:55.837Z"
   },
   {
    "duration": 16,
    "start_time": "2022-02-23T09:59:07.614Z"
   },
   {
    "duration": 24,
    "start_time": "2022-02-23T09:59:32.052Z"
   },
   {
    "duration": 31,
    "start_time": "2022-02-23T09:59:46.186Z"
   },
   {
    "duration": 17,
    "start_time": "2022-02-23T09:59:59.256Z"
   },
   {
    "duration": 84,
    "start_time": "2022-02-23T10:00:59.617Z"
   },
   {
    "duration": 84,
    "start_time": "2022-02-23T10:01:18.112Z"
   },
   {
    "duration": 86,
    "start_time": "2022-02-23T10:02:59.402Z"
   },
   {
    "duration": 83,
    "start_time": "2022-02-23T10:04:32.715Z"
   },
   {
    "duration": 11,
    "start_time": "2022-02-23T10:09:23.770Z"
   },
   {
    "duration": 11,
    "start_time": "2022-02-23T10:09:28.243Z"
   },
   {
    "duration": 7,
    "start_time": "2022-02-23T10:09:31.367Z"
   },
   {
    "duration": 14,
    "start_time": "2022-02-23T10:10:24.884Z"
   },
   {
    "duration": 86,
    "start_time": "2022-02-23T10:11:25.313Z"
   },
   {
    "duration": 23,
    "start_time": "2022-02-23T10:14:21.476Z"
   },
   {
    "duration": 60,
    "start_time": "2022-02-23T10:15:19.866Z"
   },
   {
    "duration": 78,
    "start_time": "2022-02-23T10:15:48.178Z"
   },
   {
    "duration": 25,
    "start_time": "2022-02-23T10:16:18.941Z"
   },
   {
    "duration": 41,
    "start_time": "2022-02-23T10:16:41.469Z"
   },
   {
    "duration": 7,
    "start_time": "2022-02-23T10:17:00.136Z"
   },
   {
    "duration": 59,
    "start_time": "2022-02-23T10:17:20.207Z"
   },
   {
    "duration": 18,
    "start_time": "2022-02-23T10:17:26.560Z"
   },
   {
    "duration": 18,
    "start_time": "2022-02-23T10:17:36.842Z"
   },
   {
    "duration": 22,
    "start_time": "2022-02-23T10:17:45.956Z"
   },
   {
    "duration": 17,
    "start_time": "2022-02-23T10:17:47.905Z"
   },
   {
    "duration": 14,
    "start_time": "2022-02-23T10:29:13.016Z"
   },
   {
    "duration": 11,
    "start_time": "2022-02-23T10:29:31.515Z"
   },
   {
    "duration": 11,
    "start_time": "2022-02-23T10:29:32.238Z"
   },
   {
    "duration": 6,
    "start_time": "2022-02-23T10:30:29.048Z"
   },
   {
    "duration": 7,
    "start_time": "2022-02-23T10:30:29.106Z"
   },
   {
    "duration": 7,
    "start_time": "2022-02-23T10:30:33.875Z"
   },
   {
    "duration": 3,
    "start_time": "2022-02-23T10:31:53.873Z"
   },
   {
    "duration": 58,
    "start_time": "2022-02-23T10:31:53.878Z"
   },
   {
    "duration": 14,
    "start_time": "2022-02-23T10:31:53.938Z"
   },
   {
    "duration": 22,
    "start_time": "2022-02-23T10:31:53.954Z"
   },
   {
    "duration": 11,
    "start_time": "2022-02-23T10:31:53.978Z"
   },
   {
    "duration": 10,
    "start_time": "2022-02-23T10:31:53.990Z"
   },
   {
    "duration": 7,
    "start_time": "2022-02-23T10:31:54.002Z"
   },
   {
    "duration": 19,
    "start_time": "2022-02-23T10:31:54.011Z"
   },
   {
    "duration": 49,
    "start_time": "2022-02-23T10:31:54.033Z"
   },
   {
    "duration": 7,
    "start_time": "2022-02-23T10:31:54.084Z"
   },
   {
    "duration": 18,
    "start_time": "2022-02-23T10:31:54.093Z"
   },
   {
    "duration": 19,
    "start_time": "2022-02-23T10:31:54.113Z"
   },
   {
    "duration": 54,
    "start_time": "2022-02-23T10:31:54.134Z"
   },
   {
    "duration": 17,
    "start_time": "2022-02-23T10:31:54.190Z"
   },
   {
    "duration": 9,
    "start_time": "2022-02-23T10:31:54.209Z"
   },
   {
    "duration": 40,
    "start_time": "2022-02-23T10:31:54.220Z"
   },
   {
    "duration": 33,
    "start_time": "2022-02-23T10:31:54.263Z"
   },
   {
    "duration": 17,
    "start_time": "2022-02-23T10:31:54.298Z"
   },
   {
    "duration": 57,
    "start_time": "2022-02-23T10:31:54.317Z"
   },
   {
    "duration": 9,
    "start_time": "2022-02-23T10:31:54.376Z"
   },
   {
    "duration": 4,
    "start_time": "2022-02-23T10:31:54.387Z"
   },
   {
    "duration": 20,
    "start_time": "2022-02-23T10:31:54.393Z"
   },
   {
    "duration": 12,
    "start_time": "2022-02-23T10:31:54.415Z"
   },
   {
    "duration": 4,
    "start_time": "2022-02-23T10:31:54.429Z"
   },
   {
    "duration": 39,
    "start_time": "2022-02-23T10:31:54.435Z"
   },
   {
    "duration": 10,
    "start_time": "2022-02-23T10:31:54.476Z"
   },
   {
    "duration": 22,
    "start_time": "2022-02-23T10:31:54.491Z"
   },
   {
    "duration": 7,
    "start_time": "2022-02-23T10:31:54.515Z"
   },
   {
    "duration": 17,
    "start_time": "2022-02-23T10:31:54.524Z"
   },
   {
    "duration": 33,
    "start_time": "2022-02-23T10:31:54.543Z"
   },
   {
    "duration": 422,
    "start_time": "2022-02-23T10:31:54.577Z"
   },
   {
    "duration": 8,
    "start_time": "2022-02-23T10:31:55.001Z"
   },
   {
    "duration": 8,
    "start_time": "2022-02-23T10:31:55.011Z"
   },
   {
    "duration": 21,
    "start_time": "2022-02-23T10:31:55.020Z"
   },
   {
    "duration": 30,
    "start_time": "2022-02-23T10:31:55.043Z"
   },
   {
    "duration": 18,
    "start_time": "2022-02-23T10:31:55.074Z"
   },
   {
    "duration": 17,
    "start_time": "2022-02-23T10:31:55.094Z"
   },
   {
    "duration": 110,
    "start_time": "2022-02-23T10:31:55.113Z"
   },
   {
    "duration": 7,
    "start_time": "2022-02-23T10:31:55.225Z"
   },
   {
    "duration": 35,
    "start_time": "2022-02-23T10:31:55.234Z"
   },
   {
    "duration": 12,
    "start_time": "2022-02-23T10:31:55.271Z"
   },
   {
    "duration": 13,
    "start_time": "2022-02-23T10:31:55.285Z"
   },
   {
    "duration": 22,
    "start_time": "2022-02-23T10:31:55.300Z"
   },
   {
    "duration": 74,
    "start_time": "2022-02-23T10:31:55.324Z"
   },
   {
    "duration": 24,
    "start_time": "2022-02-23T10:31:55.400Z"
   },
   {
    "duration": 48,
    "start_time": "2022-02-23T10:31:55.426Z"
   },
   {
    "duration": 6,
    "start_time": "2022-02-23T10:31:55.476Z"
   },
   {
    "duration": 77,
    "start_time": "2022-02-23T10:31:55.484Z"
   },
   {
    "duration": 19,
    "start_time": "2022-02-23T10:31:55.563Z"
   },
   {
    "duration": 18,
    "start_time": "2022-02-23T10:31:55.584Z"
   },
   {
    "duration": 20,
    "start_time": "2022-02-23T10:31:55.603Z"
   },
   {
    "duration": 44,
    "start_time": "2022-02-23T10:31:55.625Z"
   },
   {
    "duration": 15,
    "start_time": "2022-02-23T10:31:55.671Z"
   },
   {
    "duration": 10,
    "start_time": "2022-02-23T10:31:55.687Z"
   },
   {
    "duration": 11,
    "start_time": "2022-02-23T10:31:55.699Z"
   },
   {
    "duration": 6,
    "start_time": "2022-02-23T10:31:55.712Z"
   },
   {
    "duration": 51,
    "start_time": "2022-02-23T10:31:55.720Z"
   },
   {
    "duration": 13,
    "start_time": "2022-02-23T10:32:34.788Z"
   },
   {
    "duration": 13,
    "start_time": "2022-02-23T10:32:40.336Z"
   },
   {
    "duration": 10,
    "start_time": "2022-02-23T10:33:01.688Z"
   },
   {
    "duration": 15,
    "start_time": "2022-02-23T10:42:11.699Z"
   },
   {
    "duration": 17,
    "start_time": "2022-02-23T10:54:14.410Z"
   },
   {
    "duration": 18,
    "start_time": "2022-02-23T10:54:54.867Z"
   },
   {
    "duration": 26,
    "start_time": "2022-02-23T10:56:06.677Z"
   },
   {
    "duration": 19,
    "start_time": "2022-02-23T10:57:29.445Z"
   },
   {
    "duration": 251,
    "start_time": "2022-02-23T10:59:23.391Z"
   },
   {
    "duration": 257,
    "start_time": "2022-02-23T10:59:33.010Z"
   },
   {
    "duration": 252,
    "start_time": "2022-02-23T11:00:12.318Z"
   },
   {
    "duration": 250,
    "start_time": "2022-02-23T11:00:28.042Z"
   },
   {
    "duration": 279,
    "start_time": "2022-02-23T11:00:43.415Z"
   },
   {
    "duration": 26,
    "start_time": "2022-02-23T11:01:04.434Z"
   },
   {
    "duration": 15,
    "start_time": "2022-02-23T11:04:51.680Z"
   },
   {
    "duration": 24,
    "start_time": "2022-02-23T11:05:19.282Z"
   },
   {
    "duration": 19,
    "start_time": "2022-02-23T11:05:51.765Z"
   },
   {
    "duration": 20,
    "start_time": "2022-02-23T11:06:23.823Z"
   },
   {
    "duration": 253,
    "start_time": "2022-02-23T11:18:03.813Z"
   },
   {
    "duration": 17,
    "start_time": "2022-02-23T11:18:41.376Z"
   },
   {
    "duration": 17,
    "start_time": "2022-02-23T11:18:41.396Z"
   },
   {
    "duration": 22,
    "start_time": "2022-02-23T11:26:15.039Z"
   },
   {
    "duration": 16,
    "start_time": "2022-02-23T13:15:54.449Z"
   },
   {
    "duration": 20,
    "start_time": "2022-02-23T13:16:45.746Z"
   },
   {
    "duration": 20,
    "start_time": "2022-02-23T13:45:34.863Z"
   },
   {
    "duration": 240,
    "start_time": "2022-02-23T13:48:38.775Z"
   },
   {
    "duration": 3,
    "start_time": "2022-02-23T13:48:49.054Z"
   },
   {
    "duration": 69,
    "start_time": "2022-02-23T13:48:49.058Z"
   },
   {
    "duration": 12,
    "start_time": "2022-02-23T13:48:49.129Z"
   },
   {
    "duration": 21,
    "start_time": "2022-02-23T13:48:49.143Z"
   },
   {
    "duration": 10,
    "start_time": "2022-02-23T13:48:49.166Z"
   },
   {
    "duration": 8,
    "start_time": "2022-02-23T13:48:49.331Z"
   },
   {
    "duration": 5,
    "start_time": "2022-02-23T13:48:49.341Z"
   },
   {
    "duration": 15,
    "start_time": "2022-02-23T13:48:49.348Z"
   },
   {
    "duration": 20,
    "start_time": "2022-02-23T13:48:49.365Z"
   },
   {
    "duration": 8,
    "start_time": "2022-02-23T13:48:49.386Z"
   },
   {
    "duration": 8,
    "start_time": "2022-02-23T13:48:49.395Z"
   },
   {
    "duration": 13,
    "start_time": "2022-02-23T13:48:49.406Z"
   },
   {
    "duration": 51,
    "start_time": "2022-02-23T13:48:49.421Z"
   },
   {
    "duration": 14,
    "start_time": "2022-02-23T13:48:49.474Z"
   },
   {
    "duration": 11,
    "start_time": "2022-02-23T13:48:49.490Z"
   },
   {
    "duration": 7,
    "start_time": "2022-02-23T13:48:49.503Z"
   },
   {
    "duration": 63,
    "start_time": "2022-02-23T13:48:49.512Z"
   },
   {
    "duration": 16,
    "start_time": "2022-02-23T13:48:49.578Z"
   },
   {
    "duration": 46,
    "start_time": "2022-02-23T13:48:49.596Z"
   },
   {
    "duration": 33,
    "start_time": "2022-02-23T13:48:49.644Z"
   },
   {
    "duration": 5,
    "start_time": "2022-02-23T13:48:49.678Z"
   },
   {
    "duration": 17,
    "start_time": "2022-02-23T13:48:49.685Z"
   },
   {
    "duration": 12,
    "start_time": "2022-02-23T13:48:49.704Z"
   },
   {
    "duration": 4,
    "start_time": "2022-02-23T13:48:49.717Z"
   },
   {
    "duration": 12,
    "start_time": "2022-02-23T13:48:49.723Z"
   },
   {
    "duration": 11,
    "start_time": "2022-02-23T13:48:49.769Z"
   },
   {
    "duration": 24,
    "start_time": "2022-02-23T13:48:49.782Z"
   },
   {
    "duration": 7,
    "start_time": "2022-02-23T13:48:49.807Z"
   },
   {
    "duration": 12,
    "start_time": "2022-02-23T13:48:49.817Z"
   },
   {
    "duration": 6,
    "start_time": "2022-02-23T13:48:49.831Z"
   },
   {
    "duration": 423,
    "start_time": "2022-02-23T13:48:49.839Z"
   },
   {
    "duration": 9,
    "start_time": "2022-02-23T13:48:50.264Z"
   },
   {
    "duration": 3,
    "start_time": "2022-02-23T13:48:50.276Z"
   },
   {
    "duration": 20,
    "start_time": "2022-02-23T13:48:50.280Z"
   },
   {
    "duration": 17,
    "start_time": "2022-02-23T13:48:50.302Z"
   },
   {
    "duration": 20,
    "start_time": "2022-02-23T13:48:50.321Z"
   },
   {
    "duration": 42,
    "start_time": "2022-02-23T13:48:50.343Z"
   },
   {
    "duration": 91,
    "start_time": "2022-02-23T13:48:50.386Z"
   },
   {
    "duration": 7,
    "start_time": "2022-02-23T13:48:50.479Z"
   },
   {
    "duration": 18,
    "start_time": "2022-02-23T13:48:50.488Z"
   },
   {
    "duration": 7,
    "start_time": "2022-02-23T13:48:50.508Z"
   },
   {
    "duration": 13,
    "start_time": "2022-02-23T13:48:50.517Z"
   },
   {
    "duration": 46,
    "start_time": "2022-02-23T13:48:50.532Z"
   },
   {
    "duration": 57,
    "start_time": "2022-02-23T13:48:50.580Z"
   },
   {
    "duration": 35,
    "start_time": "2022-02-23T13:48:50.639Z"
   },
   {
    "duration": 26,
    "start_time": "2022-02-23T13:48:50.676Z"
   },
   {
    "duration": 6,
    "start_time": "2022-02-23T13:48:50.704Z"
   },
   {
    "duration": 83,
    "start_time": "2022-02-23T13:48:50.712Z"
   },
   {
    "duration": 17,
    "start_time": "2022-02-23T13:48:50.797Z"
   },
   {
    "duration": 17,
    "start_time": "2022-02-23T13:48:50.816Z"
   },
   {
    "duration": 43,
    "start_time": "2022-02-23T13:48:50.835Z"
   },
   {
    "duration": 17,
    "start_time": "2022-02-23T13:48:50.880Z"
   },
   {
    "duration": 13,
    "start_time": "2022-02-23T13:48:50.899Z"
   },
   {
    "duration": 15,
    "start_time": "2022-02-23T13:48:50.914Z"
   },
   {
    "duration": 22,
    "start_time": "2022-02-23T13:48:50.931Z"
   },
   {
    "duration": 6,
    "start_time": "2022-02-23T13:48:50.970Z"
   },
   {
    "duration": 16,
    "start_time": "2022-02-23T13:48:50.978Z"
   },
   {
    "duration": 19,
    "start_time": "2022-02-23T13:48:50.996Z"
   },
   {
    "duration": 23,
    "start_time": "2022-02-23T13:48:51.017Z"
   },
   {
    "duration": 30,
    "start_time": "2022-02-23T13:48:51.041Z"
   },
   {
    "duration": 14,
    "start_time": "2022-02-23T13:48:51.072Z"
   },
   {
    "duration": 15,
    "start_time": "2022-02-23T13:48:51.091Z"
   },
   {
    "duration": 7,
    "start_time": "2022-02-23T13:48:51.107Z"
   },
   {
    "duration": 16,
    "start_time": "2022-02-23T13:48:51.115Z"
   },
   {
    "duration": 51,
    "start_time": "2022-02-23T13:48:51.133Z"
   },
   {
    "duration": 247,
    "start_time": "2022-02-23T13:48:56.731Z"
   },
   {
    "duration": 17,
    "start_time": "2022-02-23T13:50:32.677Z"
   },
   {
    "duration": 78,
    "start_time": "2022-02-23T13:51:24.651Z"
   },
   {
    "duration": 8,
    "start_time": "2022-02-23T13:51:38.014Z"
   },
   {
    "duration": 243,
    "start_time": "2022-02-23T14:02:31.111Z"
   },
   {
    "duration": 249,
    "start_time": "2022-02-23T14:03:26.584Z"
   },
   {
    "duration": 251,
    "start_time": "2022-02-23T14:05:56.025Z"
   },
   {
    "duration": 8,
    "start_time": "2022-02-23T14:06:12.479Z"
   },
   {
    "duration": 5876,
    "start_time": "2022-02-23T14:11:25.564Z"
   },
   {
    "duration": 6142,
    "start_time": "2022-02-23T14:12:40.315Z"
   },
   {
    "duration": 252,
    "start_time": "2022-02-23T14:13:29.917Z"
   },
   {
    "duration": 285,
    "start_time": "2022-02-23T14:15:13.564Z"
   },
   {
    "duration": 7,
    "start_time": "2022-02-23T14:15:51.573Z"
   },
   {
    "duration": 13,
    "start_time": "2022-02-23T14:16:39.487Z"
   },
   {
    "duration": 19,
    "start_time": "2022-02-23T14:17:07.429Z"
   },
   {
    "duration": 26,
    "start_time": "2022-02-23T14:17:27.753Z"
   },
   {
    "duration": 17,
    "start_time": "2022-02-23T14:18:53.852Z"
   },
   {
    "duration": 26,
    "start_time": "2022-02-23T14:19:55.443Z"
   },
   {
    "duration": 3,
    "start_time": "2022-02-23T14:28:34.445Z"
   },
   {
    "duration": 55,
    "start_time": "2022-02-23T14:28:34.484Z"
   },
   {
    "duration": 15,
    "start_time": "2022-02-23T14:28:34.541Z"
   },
   {
    "duration": 17,
    "start_time": "2022-02-23T14:28:34.558Z"
   },
   {
    "duration": 15,
    "start_time": "2022-02-23T14:28:34.577Z"
   },
   {
    "duration": 9,
    "start_time": "2022-02-23T14:28:34.594Z"
   },
   {
    "duration": 5,
    "start_time": "2022-02-23T14:28:34.672Z"
   },
   {
    "duration": 15,
    "start_time": "2022-02-23T14:28:34.690Z"
   },
   {
    "duration": 15,
    "start_time": "2022-02-23T14:28:34.707Z"
   },
   {
    "duration": 8,
    "start_time": "2022-02-23T14:28:34.730Z"
   },
   {
    "duration": 32,
    "start_time": "2022-02-23T14:28:34.741Z"
   },
   {
    "duration": 17,
    "start_time": "2022-02-23T14:28:34.776Z"
   },
   {
    "duration": 26,
    "start_time": "2022-02-23T14:28:34.795Z"
   },
   {
    "duration": 53,
    "start_time": "2022-02-23T14:28:34.824Z"
   },
   {
    "duration": 13,
    "start_time": "2022-02-23T14:28:34.880Z"
   },
   {
    "duration": 8,
    "start_time": "2022-02-23T14:28:34.895Z"
   },
   {
    "duration": 25,
    "start_time": "2022-02-23T14:28:34.905Z"
   },
   {
    "duration": 47,
    "start_time": "2022-02-23T14:28:34.933Z"
   },
   {
    "duration": 51,
    "start_time": "2022-02-23T14:28:34.982Z"
   },
   {
    "duration": 40,
    "start_time": "2022-02-23T14:28:35.035Z"
   },
   {
    "duration": 5,
    "start_time": "2022-02-23T14:28:35.077Z"
   },
   {
    "duration": 21,
    "start_time": "2022-02-23T14:28:35.084Z"
   },
   {
    "duration": 13,
    "start_time": "2022-02-23T14:28:35.106Z"
   },
   {
    "duration": 5,
    "start_time": "2022-02-23T14:28:35.121Z"
   },
   {
    "duration": 56,
    "start_time": "2022-02-23T14:28:35.128Z"
   },
   {
    "duration": 13,
    "start_time": "2022-02-23T14:28:35.186Z"
   },
   {
    "duration": 26,
    "start_time": "2022-02-23T14:28:35.201Z"
   },
   {
    "duration": 8,
    "start_time": "2022-02-23T14:28:35.229Z"
   },
   {
    "duration": 31,
    "start_time": "2022-02-23T14:28:35.238Z"
   },
   {
    "duration": 7,
    "start_time": "2022-02-23T14:28:35.271Z"
   },
   {
    "duration": 420,
    "start_time": "2022-02-23T14:28:35.279Z"
   },
   {
    "duration": 9,
    "start_time": "2022-02-23T14:28:35.702Z"
   },
   {
    "duration": 8,
    "start_time": "2022-02-23T14:28:35.715Z"
   },
   {
    "duration": 18,
    "start_time": "2022-02-23T14:28:35.725Z"
   },
   {
    "duration": 35,
    "start_time": "2022-02-23T14:28:35.745Z"
   },
   {
    "duration": 21,
    "start_time": "2022-02-23T14:28:35.782Z"
   },
   {
    "duration": 18,
    "start_time": "2022-02-23T14:28:35.805Z"
   },
   {
    "duration": 109,
    "start_time": "2022-02-23T14:28:35.825Z"
   },
   {
    "duration": 8,
    "start_time": "2022-02-23T14:28:35.936Z"
   },
   {
    "duration": 27,
    "start_time": "2022-02-23T14:28:35.946Z"
   },
   {
    "duration": 6,
    "start_time": "2022-02-23T14:28:35.975Z"
   },
   {
    "duration": 16,
    "start_time": "2022-02-23T14:28:35.983Z"
   },
   {
    "duration": 24,
    "start_time": "2022-02-23T14:28:36.001Z"
   },
   {
    "duration": 92,
    "start_time": "2022-02-23T14:28:36.027Z"
   },
   {
    "duration": 48,
    "start_time": "2022-02-23T14:28:36.121Z"
   },
   {
    "duration": 27,
    "start_time": "2022-02-23T14:28:36.171Z"
   },
   {
    "duration": 6,
    "start_time": "2022-02-23T14:28:36.200Z"
   },
   {
    "duration": 80,
    "start_time": "2022-02-23T14:28:36.208Z"
   },
   {
    "duration": 18,
    "start_time": "2022-02-23T14:28:36.290Z"
   },
   {
    "duration": 21,
    "start_time": "2022-02-23T14:28:36.310Z"
   },
   {
    "duration": 43,
    "start_time": "2022-02-23T14:28:36.332Z"
   },
   {
    "duration": 19,
    "start_time": "2022-02-23T14:28:36.377Z"
   },
   {
    "duration": 16,
    "start_time": "2022-02-23T14:28:36.398Z"
   },
   {
    "duration": 15,
    "start_time": "2022-02-23T14:28:36.416Z"
   },
   {
    "duration": 43,
    "start_time": "2022-02-23T14:28:36.433Z"
   },
   {
    "duration": 7,
    "start_time": "2022-02-23T14:28:36.478Z"
   },
   {
    "duration": 22,
    "start_time": "2022-02-23T14:28:36.486Z"
   },
   {
    "duration": 14,
    "start_time": "2022-02-23T14:28:36.509Z"
   },
   {
    "duration": 45,
    "start_time": "2022-02-23T14:28:36.525Z"
   },
   {
    "duration": 18,
    "start_time": "2022-02-23T14:28:36.572Z"
   },
   {
    "duration": 16,
    "start_time": "2022-02-23T14:28:36.592Z"
   },
   {
    "duration": 16,
    "start_time": "2022-02-23T14:28:36.610Z"
   },
   {
    "duration": 8,
    "start_time": "2022-02-23T14:28:36.628Z"
   },
   {
    "duration": 50,
    "start_time": "2022-02-23T14:28:36.637Z"
   },
   {
    "duration": 21,
    "start_time": "2022-02-23T14:28:36.689Z"
   },
   {
    "duration": 15,
    "start_time": "2022-02-23T14:28:36.712Z"
   },
   {
    "duration": 59,
    "start_time": "2022-02-23T14:28:36.729Z"
   },
   {
    "duration": 9,
    "start_time": "2022-02-23T14:28:36.791Z"
   },
   {
    "duration": 1021,
    "start_time": "2022-02-23T16:18:40.046Z"
   },
   {
    "duration": 269,
    "start_time": "2022-02-23T16:18:41.070Z"
   },
   {
    "duration": 45,
    "start_time": "2022-02-23T16:18:41.343Z"
   },
   {
    "duration": 21,
    "start_time": "2022-02-23T16:18:41.395Z"
   },
   {
    "duration": 15,
    "start_time": "2022-02-23T16:18:41.419Z"
   },
   {
    "duration": 19,
    "start_time": "2022-02-23T16:18:41.438Z"
   },
   {
    "duration": 39,
    "start_time": "2022-02-23T16:18:41.460Z"
   },
   {
    "duration": 25,
    "start_time": "2022-02-23T16:18:41.503Z"
   },
   {
    "duration": 21,
    "start_time": "2022-02-23T16:18:41.533Z"
   },
   {
    "duration": 12,
    "start_time": "2022-02-23T16:18:41.594Z"
   },
   {
    "duration": 20,
    "start_time": "2022-02-23T16:18:41.609Z"
   },
   {
    "duration": 37,
    "start_time": "2022-02-23T16:18:41.632Z"
   },
   {
    "duration": 40,
    "start_time": "2022-02-23T16:18:41.695Z"
   },
   {
    "duration": 56,
    "start_time": "2022-02-23T16:18:41.739Z"
   },
   {
    "duration": 16,
    "start_time": "2022-02-23T16:18:41.798Z"
   },
   {
    "duration": 13,
    "start_time": "2022-02-23T16:18:41.817Z"
   },
   {
    "duration": 85,
    "start_time": "2022-02-23T16:18:41.833Z"
   },
   {
    "duration": 37,
    "start_time": "2022-02-23T16:18:41.921Z"
   },
   {
    "duration": 100,
    "start_time": "2022-02-23T16:18:41.961Z"
   },
   {
    "duration": 47,
    "start_time": "2022-02-23T16:18:42.064Z"
   },
   {
    "duration": 9,
    "start_time": "2022-02-23T16:18:42.114Z"
   },
   {
    "duration": 41,
    "start_time": "2022-02-23T16:18:42.126Z"
   },
   {
    "duration": 32,
    "start_time": "2022-02-23T16:18:42.170Z"
   },
   {
    "duration": 6,
    "start_time": "2022-02-23T16:18:42.206Z"
   },
   {
    "duration": 33,
    "start_time": "2022-02-23T16:18:42.216Z"
   },
   {
    "duration": 17,
    "start_time": "2022-02-23T16:18:42.252Z"
   },
   {
    "duration": 29,
    "start_time": "2022-02-23T16:18:42.300Z"
   },
   {
    "duration": 13,
    "start_time": "2022-02-23T16:18:42.334Z"
   },
   {
    "duration": 50,
    "start_time": "2022-02-23T16:18:42.352Z"
   },
   {
    "duration": 10,
    "start_time": "2022-02-23T16:18:42.406Z"
   },
   {
    "duration": 804,
    "start_time": "2022-02-23T16:18:42.419Z"
   },
   {
    "duration": 13,
    "start_time": "2022-02-23T16:18:43.226Z"
   },
   {
    "duration": 8,
    "start_time": "2022-02-23T16:18:43.242Z"
   },
   {
    "duration": 43,
    "start_time": "2022-02-23T16:18:43.252Z"
   },
   {
    "duration": 24,
    "start_time": "2022-02-23T16:18:43.297Z"
   },
   {
    "duration": 29,
    "start_time": "2022-02-23T16:18:43.324Z"
   },
   {
    "duration": 56,
    "start_time": "2022-02-23T16:18:43.356Z"
   },
   {
    "duration": 124,
    "start_time": "2022-02-23T16:18:43.415Z"
   },
   {
    "duration": 10,
    "start_time": "2022-02-23T16:18:43.542Z"
   },
   {
    "duration": 42,
    "start_time": "2022-02-23T16:18:43.555Z"
   },
   {
    "duration": 10,
    "start_time": "2022-02-23T16:18:43.600Z"
   },
   {
    "duration": 23,
    "start_time": "2022-02-23T16:18:43.612Z"
   },
   {
    "duration": 75,
    "start_time": "2022-02-23T16:18:43.639Z"
   },
   {
    "duration": 91,
    "start_time": "2022-02-23T16:18:43.716Z"
   },
   {
    "duration": 48,
    "start_time": "2022-02-23T16:18:43.810Z"
   },
   {
    "duration": 82,
    "start_time": "2022-02-23T16:18:43.861Z"
   },
   {
    "duration": 11,
    "start_time": "2022-02-23T16:18:43.947Z"
   },
   {
    "duration": 156,
    "start_time": "2022-02-23T16:18:43.966Z"
   },
   {
    "duration": 25,
    "start_time": "2022-02-23T16:18:44.125Z"
   },
   {
    "duration": 51,
    "start_time": "2022-02-23T16:18:44.154Z"
   },
   {
    "duration": 30,
    "start_time": "2022-02-23T16:18:44.209Z"
   },
   {
    "duration": 55,
    "start_time": "2022-02-23T16:18:44.242Z"
   },
   {
    "duration": 29,
    "start_time": "2022-02-23T16:18:44.301Z"
   },
   {
    "duration": 14,
    "start_time": "2022-02-23T16:18:44.333Z"
   },
   {
    "duration": 59,
    "start_time": "2022-02-23T16:18:44.350Z"
   },
   {
    "duration": 11,
    "start_time": "2022-02-23T16:18:44.412Z"
   },
   {
    "duration": 36,
    "start_time": "2022-02-23T16:18:44.426Z"
   },
   {
    "duration": 168,
    "start_time": "2022-02-23T16:18:44.464Z"
   },
   {
    "duration": 44,
    "start_time": "2022-02-23T16:18:44.635Z"
   },
   {
    "duration": 43,
    "start_time": "2022-02-23T16:18:44.682Z"
   },
   {
    "duration": 28,
    "start_time": "2022-02-23T16:18:44.729Z"
   },
   {
    "duration": 50,
    "start_time": "2022-02-23T16:18:44.759Z"
   },
   {
    "duration": 12,
    "start_time": "2022-02-23T16:18:44.812Z"
   },
   {
    "duration": 37,
    "start_time": "2022-02-23T16:18:44.827Z"
   },
   {
    "duration": 42,
    "start_time": "2022-02-23T16:18:44.867Z"
   },
   {
    "duration": 34,
    "start_time": "2022-02-23T16:18:44.914Z"
   },
   {
    "duration": 58,
    "start_time": "2022-02-23T16:18:44.951Z"
   },
   {
    "duration": 11,
    "start_time": "2022-02-23T16:18:45.013Z"
   },
   {
    "duration": 30,
    "start_time": "2022-02-23T16:18:52.148Z"
   },
   {
    "duration": 34,
    "start_time": "2022-02-23T16:19:49.099Z"
   },
   {
    "duration": 40,
    "start_time": "2022-02-23T16:22:52.011Z"
   },
   {
    "duration": 45,
    "start_time": "2022-02-23T16:23:17.236Z"
   },
   {
    "duration": 54,
    "start_time": "2022-02-23T16:24:18.386Z"
   },
   {
    "duration": 39,
    "start_time": "2022-02-23T16:27:35.468Z"
   },
   {
    "duration": 60,
    "start_time": "2022-02-23T16:35:23.370Z"
   },
   {
    "duration": 60,
    "start_time": "2022-02-23T16:35:44.980Z"
   },
   {
    "duration": 91,
    "start_time": "2022-03-06T09:24:15.189Z"
   }
  ],
  "kernelspec": {
   "display_name": "Python 3 (ipykernel)",
   "language": "python",
   "name": "python3"
  },
  "language_info": {
   "codemirror_mode": {
    "name": "ipython",
    "version": 3
   },
   "file_extension": ".py",
   "mimetype": "text/x-python",
   "name": "python",
   "nbconvert_exporter": "python",
   "pygments_lexer": "ipython3",
   "version": "3.9.7"
  },
  "toc": {
   "base_numbering": 1,
   "nav_menu": {},
   "number_sections": true,
   "sideBar": true,
   "skip_h1_title": true,
   "title_cell": "Table of Contents",
   "title_sidebar": "Contents",
   "toc_cell": false,
   "toc_position": {},
   "toc_section_display": true,
   "toc_window_display": false
  }
 },
 "nbformat": 4,
 "nbformat_minor": 5
}
